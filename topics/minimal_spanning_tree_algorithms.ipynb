{
  "cells": [
    {
      "cell_type": "markdown",
      "metadata": {
        "id": "3veDytO6VW49"
      },
      "source": [
        "# Minimal Spanning Tree Algorithms\n"
      ]
    },
    {
      "cell_type": "markdown",
      "metadata": {
        "id": "WwpwrfEcVW5A"
      },
      "source": [
        "![MST](https://upload.wikimedia.org/wikipedia/commons/thumb/d/d2/Minimum_spanning_tree.svg/600px-Minimum_spanning_tree.svg.png)"
      ]
    },
    {
      "cell_type": "markdown",
      "metadata": {
        "id": "RbYBYp2DVW5B"
      },
      "source": [
        "## Problem Statement\n",
        "\n",
        "Minimal spanning tree (MST) is a subgraph of a connected, undirected graph that connects all the vertices together, without any cycles and with the minimum possible total edge weight.\n",
        "\n",
        "The Minimum Spanning Tree (MST) problem is a well-known problem in computer science and graph theory. Given a connected, undirected graph with weighted edges, the MST problem requires finding the subgraph that connects all vertices of the graph with the minimum possible total edge weight.\n",
        "\n",
        "In other words, we want to find a tree that spans all vertices of the graph and has the minimum possible total weight. A tree is a connected acyclic graph, which means it is a graph that doesn't have any cycles (loops), and it is connected, which means that there is a path between any two vertices in the graph.\n",
        "\n",
        "There are several algorithms for solving the MST problem, including:\n",
        "\n",
        "Kruskal's algorithm: Kruskal's algorithm is a greedy algorithm that starts with an empty subgraph and iteratively adds edges to the subgraph in order of increasing weight, as long as the addition of the edge does not create a cycle.\n",
        "\n",
        "Prim's algorithm: Prim's algorithm is another greedy algorithm that starts with a single vertex and iteratively adds the lowest-weight edge that connects a vertex in the current subgraph to a vertex outside the subgraph, until all vertices are included in the subgraph.\n",
        "\n",
        "Boruvka's algorithm: Boruvka's algorithm is a divide-and-conquer algorithm that works by dividing the graph into smaller subgraphs and finding the minimum-weight edge for each subgraph. It then merges the subgraphs by adding the minimum-weight edges found in the previous step.\n",
        "\n",
        "All of these algorithms have different time complexities and are suited to different types of graphs and edge-weight distributions. However, they all guarantee to find the minimum spanning tree of the given graph.\n"
      ]
    },
    {
      "cell_type": "markdown",
      "metadata": {
        "id": "K65q2XAUVW5B"
      },
      "source": [
        "How would we solve MST problem if all edges are same weight? (1)\n",
        "\n",
        "Just connect all unconnected vertices with a single edge. (2)\n",
        "\n",
        "Avoid cycles/loops. (3)\n",
        "\n",
        "Now we have a tree. (4)\n",
        "\n",
        "Now let's consider the case when all edges have different weights. (5)"
      ]
    },
    {
      "cell_type": "markdown",
      "metadata": {
        "id": "lNDcTkRAVW5C"
      },
      "source": [
        "## Kruskal's Algorithm\n",
        "\n",
        "Kruskal's algorithm is a popular greedy algorithm for finding the Minimum Spanning Tree (MST) of a connected, undirected graph. The algorithm works by iteratively adding edges to a subgraph, starting from an empty subgraph, until all vertices of the graph are included in the subgraph.\n",
        "\n",
        "Here are the steps of Kruskal's algorithm:\n",
        "\n",
        "1. Sort all the edges in the graph in increasing order of their weight.\n",
        "\n",
        "2. Initialize an empty subgraph, which will eventually become the MST.\n",
        "\n",
        "3. Iterate through the sorted edges, and for each edge, do the following:\n",
        "\n",
        "a. If adding the edge to the subgraph does not create a cycle, add it to the subgraph.\n",
        "\n",
        "b. If adding the edge to the subgraph creates a cycle, discard it and move on to the next edge.\n",
        "\n",
        "4. Stop the iteration when all vertices are included in the subgraph, or when the subgraph contains n-1 edges, where n is the number of vertices in the graph.\n",
        "\n",
        "5. Return the subgraph, which is the MST of the graph.\n",
        "\n",
        "Kruskal's algorithm is relatively simple to implement and has a time complexity of O(E log E), where E is the number of edges in the graph. This makes it a very efficient algorithm for large graphs with many edges.\n",
        "\n",
        "One way to implement step 3a is by using a disjoint-set data structure, which allows us to quickly determine whether adding an edge will create a cycle in the subgraph. By keeping track of the connected components of the subgraph, we can check whether two vertices are already connected before adding an edge between them."
      ]
    },
    {
      "cell_type": "markdown",
      "metadata": {
        "id": "2RWtWfsXVW5E"
      },
      "source": [
        "## Disjoint-set data structure\n",
        "\n",
        "The disjoint-set data structure, also known as a union-find data structure, is a way to efficiently represent a partition of a set into disjoint subsets. It supports two operations: \"find\" and \"union\".\n",
        "\n",
        "The \"find\" operation returns the identifier of the subset that contains a given element. The \"union\" operation merges two subsets into a single subset.\n",
        "\n",
        "In the context of Kruskal's algorithm, we can use the disjoint-set data structure to keep track of the connected components of the subgraph, which will help us determine whether adding an edge will create a cycle in the subgraph.\n",
        "\n",
        "At the beginning of the algorithm, each vertex is in its own subset. As we add edges to the subgraph, we perform a \"find\" operation on the vertices of each edge to determine which subsets they belong to. If the subsets are different, we can safely add the edge to the subgraph without creating a cycle, and then perform a \"union\" operation to merge the two subsets.\n",
        "\n",
        "If the subsets are the same, adding the edge would create a cycle in the subgraph, so we discard the edge and move on to the next one.\n",
        "\n",
        "To detect a cycle, we check whether the two endpoints of an edge belong to the same subset before adding the edge to the subgraph. If they do, adding the edge would create a cycle, and we discard the edge.\n",
        "\n",
        "By using the disjoint-set data structure to keep track of the connected components of the subgraph, we can efficiently detect cycles and avoid adding them to the subgraph. This is a key part of Kruskal's algorithm and helps to ensure that the subgraph is a tree, and therefore a valid MST of the original graph."
      ]
    },
    {
      "cell_type": "code",
      "execution_count": 1,
      "metadata": {
        "id": "DhDy6Rs5VW5F"
      },
      "outputs": [],
      "source": [
        "class DisjointSet:\n",
        "    def __init__(self, n):\n",
        "        self.parent = list(range(n))\n",
        "        self.rank = [0] * n\n",
        "        # TODO rewrite this using set structure\n",
        "        # using list operations might lead to linear performance\n",
        "\n",
        "    def find(self, i):\n",
        "        # TODO rewrite this using set structure\n",
        "        if self.parent[i] != i:\n",
        "            self.parent[i] = self.find(self.parent[i])\n",
        "        return self.parent[i]\n",
        "\n",
        "    def union(self, i, j):\n",
        "        # TODO rewrite this using set structure\n",
        "        pi, pj = self.find(i), self.find(j)\n",
        "        if pi == pj:\n",
        "            return\n",
        "        if self.rank[pi] < self.rank[pj]:\n",
        "            self.parent[pi] = pj\n",
        "        elif self.rank[pi] > self.rank[pj]:\n",
        "            self.parent[pj] = pi\n",
        "        else:\n",
        "            self.parent[pi] = pj\n",
        "            self.rank[pj] += 1\n",
        "\n",
        "def kruskal_mst(graph):\n",
        "    n = len(graph)\n",
        "    edges = []\n",
        "    # so worst case scenario we have a complete graph: https://en.wikipedia.org/wiki/Complete_graph\n",
        "    # then we would have v(v-1)/2 edges to add\n",
        "    for i in range(n):\n",
        "        for j in range(i + 1, n):\n",
        "            if graph[i][j] != 0:\n",
        "                edges.append((graph[i][j], i, j))\n",
        "    edges.sort()\n",
        "\n",
        "    mst = []\n",
        "    dsu = DisjointSet(n)\n",
        "\n",
        "    for w, u, v in edges:\n",
        "        if dsu.find(u) != dsu.find(v):\n",
        "            mst.append((u, v, w))\n",
        "            dsu.union(u, v)\n",
        "            if len(mst) == n - 1:\n",
        "                break\n",
        "\n",
        "    return mst\n",
        "\n"
      ]
    },
    {
      "cell_type": "code",
      "execution_count": 2,
      "metadata": {
        "colab": {
          "base_uri": "https://localhost:8080/"
        },
        "id": "XDdXlIzsWkQv",
        "outputId": "973229f7-35cc-4cd6-bfb2-e7b864aab76a"
      },
      "outputs": [],
      "source": [
        "g = [\n",
        "    [0,5,7,6],\n",
        "     [5,0,0,0],\n",
        "     [7,0,0,0],\n",
        "     [6,0,0,0]\n",
        "]\n",
        "# so adjacency matrix of a tiny graph\n"
      ]
    },
    {
      "cell_type": "code",
      "execution_count": 3,
      "metadata": {
        "colab": {
          "base_uri": "https://localhost:8080/"
        },
        "id": "OGzpVWuYW7HH",
        "outputId": "2a836272-c0e2-43c9-930f-6f7fcabc21b7"
      },
      "outputs": [
        {
          "data": {
            "text/plain": [
              "[(0, 1, 5), (0, 3, 6), (0, 2, 7)]"
            ]
          },
          "execution_count": 3,
          "metadata": {},
          "output_type": "execute_result"
        }
      ],
      "source": [
        "kruskal_mst(g)"
      ]
    },
    {
      "cell_type": "code",
      "execution_count": 4,
      "metadata": {
        "colab": {
          "base_uri": "https://localhost:8080/"
        },
        "id": "xAAZzW_LXEzY",
        "outputId": "4d10ea3c-edd0-4315-ad59-7382f64e6e76"
      },
      "outputs": [
        {
          "data": {
            "text/plain": [
              "[(2, 3, 3), (0, 1, 5), (0, 3, 6)]"
            ]
          },
          "execution_count": 4,
          "metadata": {},
          "output_type": "execute_result"
        }
      ],
      "source": [
        "# we add an extra edge that is cheaper, that should change the solution\n",
        "# also our simple tree now has loops!\n",
        "g1 = [\n",
        "    [0,5,7,6],\n",
        "     [5,0,0,0],\n",
        "     [7,0,0,3],\n",
        "     [6,0,3,0]\n",
        "]\n",
        "kruskal_mst(g1)"
      ]
    },
    {
      "cell_type": "code",
      "execution_count": 5,
      "metadata": {
        "colab": {
          "base_uri": "https://localhost:8080/"
        },
        "id": "lEHo9sd9XhbP",
        "outputId": "1e3b2a76-92ff-481c-f3ac-60368433df1e"
      },
      "outputs": [
        {
          "data": {
            "text/plain": [
              "[(2, 3, 3), (0, 1, 5), (0, 3, 6)]"
            ]
          },
          "execution_count": 5,
          "metadata": {},
          "output_type": "execute_result"
        }
      ],
      "source": [
        "# we add an extra edge  that is expensive that should not change the solution\n",
        "\n",
        "g2 = [\n",
        "     [0,5,7,6],\n",
        "     [5,0,9,0],\n",
        "     [7,9,0,3],\n",
        "     [6,0,3,0]\n",
        "]\n",
        "kruskal_mst(g2)"
      ]
    },
    {
      "cell_type": "markdown",
      "metadata": {},
      "source": [
        "## Better implementation of Kruskal's Algorithm\t\n",
        "\n",
        "We will use a set data structure to represent the disjoint-set data structure. The set data structure is a collection of distinct elements, with no particular order, and no repeated elements. It supports operations such as adding an element to the set, removing an element from the set, and checking whether an element is in the set. Most importantly adding, removing and checking whether an element is in the set can be done in O(1) time."
      ]
    },
    {
      "cell_type": "code",
      "execution_count": 6,
      "metadata": {
        "id": "tu8UJDrbYOHx"
      },
      "outputs": [],
      "source": [
        "# we will implement Kruska's algoritm we will pass in a a dictionary where keys are tuples of vertices and values are the weights of the edges\n",
        "# we will sort the edges by weight and then we will add them to the mst if they do not create a cycle\n",
        "\n",
        "def kruskal_mst(graph: dict[tuple[str,str], int]) -> list[tuple[str,str,int]]:\n",
        "    edges = sorted(graph.items(), key=lambda x: x[1]) # so this is where ElogE comes from\n",
        "    mst = []\n",
        "    # we initialize each vertice with its own set\n",
        "    dsu = {key:key for key in set([v1 for (v1,v2) in graph.keys()]+[v2 for (v1,v2) in graph.keys()])}\n",
        "\n",
        "    for (u, v), w in edges:\n",
        "        # so our logic is as long as one vertices are not in the same set we can add the edge to the mst\n",
        "        if dsu[u] != dsu[v]:\n",
        "            mst.append((u, v, w))\n",
        "            # we need to update the sets of the vertices so all vertices now need to belong to the same set\n",
        "            # so this is not efficient it is linear time(O(n)) \n",
        "            for key in dsu: # so the DSU class was better\n",
        "                if dsu[key] == dsu[v]:\n",
        "                    dsu[key] = dsu[u]   \n",
        "\n",
        "    return mst\n",
        "\n"
      ]
    },
    {
      "cell_type": "code",
      "execution_count": 7,
      "metadata": {},
      "outputs": [
        {
          "name": "stdout",
          "output_type": "stream",
          "text": [
            "[('C', 'D', 3), ('A', 'B', 5), ('A', 'D', 6)]\n"
          ]
        }
      ],
      "source": [
        "gdict = {(\"A\",\"B\"):5, (\"A\",\"C\"):7, (\"A\",\"D\"):6, (\"C\",\"D\"):3}\n",
        "# so we provided the graph as an edge list in a dictionary\n",
        "mst = kruskal_mst(gdict)\n",
        "print(mst)  "
      ]
    },
    {
      "cell_type": "markdown",
      "metadata": {
        "id": "nl_WU2wtVW5G"
      },
      "source": [
        "Above, graph is a weighted adjacency matrix of the input graph, where graph[i][j] is the weight of the edge between vertices i and j. The function kruskal_mst returns a list of tuples representing the edges in the MST, where each tuple contains the endpoints of the edge and its weight."
      ]
    },
    {
      "cell_type": "markdown",
      "metadata": {
        "id": "aOf6lYguVW5G"
      },
      "source": [
        "## Uniqueness of MST\n",
        "\n",
        "![Multiple solutions to MST](https://upload.wikimedia.org/wikipedia/commons/thumb/c/c9/Multiple_minimum_spanning_trees.svg/440px-Multiple_minimum_spanning_trees.svg.png)"
      ]
    },
    {
      "cell_type": "code",
      "execution_count": 7,
      "metadata": {
        "colab": {
          "base_uri": "https://localhost:8080/"
        },
        "id": "fWKznOxfYcay",
        "outputId": "e6a78490-8709-49aa-9f17-be7b216d616e"
      },
      "outputs": [
        {
          "data": {
            "text/plain": [
              "[(0, 1, 5), (0, 2, 5), (1, 3, 7)]"
            ]
          },
          "execution_count": 7,
          "metadata": {},
          "output_type": "execute_result"
        }
      ],
      "source": [
        "# so depending on our sorting algorithm (stable or not)\n",
        "# we might have a different solution since for vertices 0,1,2 we have 3 edges with costs 5 each and we only need 2 of those\n",
        "g3 = [\n",
        "     [0,5,5,0],\n",
        "     [5,0,5,7],\n",
        "     [5,5,0,8],\n",
        "     [0,7,8,0]\n",
        "]\n",
        "kruskal_mst(g3)"
      ]
    },
    {
      "cell_type": "markdown",
      "metadata": {
        "id": "zLx2txbFVW5G"
      },
      "source": [
        "## Prim's Algorithm\n",
        "\n",
        "Prim's algorithm is another popular algorithm for finding the Minimum Spanning Tree (MST) of a connected, undirected graph. Like Kruskal's algorithm, it is a greedy algorithm that works by iteratively adding edges to a subgraph until all vertices of the graph are included in the subgraph.\n",
        "\n",
        "Here are the steps of Prim's algorithm:\n",
        "\n",
        "1. Choose an arbitrary vertex to start with and add it to the subgraph.\n",
        "\n",
        "2. While not all vertices are in the subgraph, do the following:\n",
        "\n",
        "a. Identify the edge with the minimum weight that connects a vertex in the subgraph to a vertex outside the subgraph.\n",
        "\n",
        "b. Add the endpoint of the edge that is outside the subgraph to the subgraph.\n",
        "\n",
        "3. Stop when all vertices are included in the subgraph, or when the subgraph contains n-1 edges, where n is the number of vertices in the graph.\n",
        "\n",
        "4. Return the subgraph, which is the MST of the graph.\n",
        "\n",
        "In other words, Prim's algorithm starts with a single vertex and iteratively adds the lowest-weight edge that connects a vertex in the current subgraph to a vertex outside the subgraph, until all vertices are included in the subgraph. This ensures that the subgraph is always connected, and because we choose the minimum-weight edges, it also guarantees that the subgraph is a tree, and therefore a valid MST of the original graph.\n",
        "\n",
        "Prim's algorithm can be implemented using a priority queue to efficiently find the edge with the minimum weight. At each iteration, we add the newly included vertex to the priority queue, and update the weights of the edges that connect it to vertices outside the subgraph. This allows us to efficiently find the minimum-weight edge in each iteration.\n",
        "\n",
        "Prim's algorithm has a time complexity of O(E log V), where E is the number of edges in the graph and V is the number of vertices. This makes it an efficient algorithm for dense graphs with many edges, although it may not be as efficient as Kruskal's algorithm for sparse graphs."
      ]
    },
    {
      "cell_type": "code",
      "execution_count": 8,
      "metadata": {
        "id": "iKQrYlxNVW5H"
      },
      "outputs": [],
      "source": [
        "import heapq\n",
        "\n",
        "def prim_mst(graph, start_v=0):\n",
        "    n = len(graph)\n",
        "    mst = []\n",
        "    visited = set()\n",
        "\n",
        "    # Choose an arbitrary starting vertex\n",
        "    start_vertex = start_v # random would work just as well\n",
        "    visited.add(start_vertex)\n",
        "\n",
        "    # Initialize the priority queue with the edges that connect the starting vertex to other vertices\n",
        "    edges = [(w, start_vertex, i) for i, w in enumerate(graph[start_vertex]) if w != 0]\n",
        "    heapq.heapify(edges)  # heapify is actually linear but even if it was ElogE it would not affect the complexity\n",
        "\n",
        "    while len(visited) < n:\n",
        "        # Find the edge with the minimum weight that connects a vertex in the subgraph to a vertex outside the subgraph\n",
        "        w, u, v = heapq.heappop(edges)  # heappop is log n operation\n",
        "\n",
        "        if v in visited: # means this candidate would create a loop/cycle so we discard it and look for next edge\n",
        "            # note checking for membership in a set is O(1) very efficient, if it was a list instead it would be O(n)\n",
        "            continue\n",
        "\n",
        "        # Add the newly included vertex to the subgraph and add the minimum-weight edge to the MST\n",
        "        visited.add(v)\n",
        "        mst.append((u, v, w))\n",
        "\n",
        "        # Update the priority queue with the edges that connect the newly included vertex to other vertices\n",
        "        for i, w in enumerate(graph[v]):\n",
        "            if w != 0 and i not in visited:\n",
        "                heapq.heappush(edges, (w, v, i)) # these are log n operations each\n",
        "\n",
        "    return mst"
      ]
    },
    {
      "cell_type": "code",
      "execution_count": 10,
      "metadata": {},
      "outputs": [
        {
          "data": {
            "text/plain": [
              "[[0, 5, 7, 6], [5, 0, 0, 0], [7, 0, 0, 0], [6, 0, 0, 0]]"
            ]
          },
          "execution_count": 10,
          "metadata": {},
          "output_type": "execute_result"
        }
      ],
      "source": [
        "g"
      ]
    },
    {
      "cell_type": "code",
      "execution_count": 11,
      "metadata": {
        "colab": {
          "base_uri": "https://localhost:8080/"
        },
        "id": "7yl1G6YPeqfs",
        "outputId": "8b62a24f-ec9b-47e0-eece-ed5805cfbf0f"
      },
      "outputs": [
        {
          "data": {
            "text/plain": [
              "[(0, 1, 5), (0, 3, 6), (0, 2, 7)]"
            ]
          },
          "execution_count": 11,
          "metadata": {},
          "output_type": "execute_result"
        }
      ],
      "source": [
        "prim_mst(g)"
      ]
    },
    {
      "cell_type": "code",
      "execution_count": 11,
      "metadata": {
        "colab": {
          "base_uri": "https://localhost:8080/"
        },
        "id": "7jnGS66XewkD",
        "outputId": "4cf94024-504f-41cd-f19a-c3d8998caf0c"
      },
      "outputs": [
        {
          "data": {
            "text/plain": [
              "[(0, 1, 5), (0, 3, 6), (3, 2, 3)]"
            ]
          },
          "execution_count": 11,
          "metadata": {},
          "output_type": "execute_result"
        }
      ],
      "source": [
        "prim_mst(g1)"
      ]
    },
    {
      "cell_type": "code",
      "execution_count": 12,
      "metadata": {
        "colab": {
          "base_uri": "https://localhost:8080/"
        },
        "id": "zdcUYDaBe_ca",
        "outputId": "de12623f-aa62-452f-8d8a-36ce1cdd826a"
      },
      "outputs": [
        {
          "data": {
            "text/plain": [
              "[(0, 1, 5), (0, 3, 6), (3, 2, 3)]"
            ]
          },
          "execution_count": 12,
          "metadata": {},
          "output_type": "execute_result"
        }
      ],
      "source": [
        "prim_mst(g2)"
      ]
    },
    {
      "cell_type": "code",
      "execution_count": 16,
      "metadata": {
        "colab": {
          "base_uri": "https://localhost:8080/"
        },
        "id": "N2q65CtrfC80",
        "outputId": "b324015b-825c-4bd1-e024-4719555cdc70"
      },
      "outputs": [
        {
          "data": {
            "text/plain": [
              "[(0, 1, 5), (0, 2, 5), (1, 3, 7)]"
            ]
          },
          "execution_count": 16,
          "metadata": {},
          "output_type": "execute_result"
        }
      ],
      "source": [
        "prim_mst(g3)"
      ]
    },
    {
      "cell_type": "code",
      "execution_count": 17,
      "metadata": {
        "colab": {
          "base_uri": "https://localhost:8080/"
        },
        "id": "IP-91W0KfUAj",
        "outputId": "9980ead0-0545-40ad-d822-95dabc845e19"
      },
      "outputs": [
        {
          "data": {
            "text/plain": [
              "[(2, 0, 5), (0, 1, 5), (1, 3, 7)]"
            ]
          },
          "execution_count": 17,
          "metadata": {},
          "output_type": "execute_result"
        }
      ],
      "source": [
        "prim_mst(g3, start_v = 2)"
      ]
    },
    {
      "cell_type": "code",
      "execution_count": 18,
      "metadata": {
        "colab": {
          "base_uri": "https://localhost:8080/"
        },
        "id": "TJCnJIQrfY5y",
        "outputId": "568bfce3-df69-4203-93fb-3c422e08110b"
      },
      "outputs": [
        {
          "data": {
            "text/plain": [
              "[(1, 0, 5), (0, 2, 5), (1, 3, 7)]"
            ]
          },
          "execution_count": 18,
          "metadata": {},
          "output_type": "execute_result"
        }
      ],
      "source": [
        "prim_mst(g3, start_v = 1)"
      ]
    },
    {
      "cell_type": "code",
      "execution_count": 28,
      "metadata": {},
      "outputs": [],
      "source": [
        "# let's rewrite prim's to take a dictionary of edges as input\n",
        "def prim_mst(graph: dict[tuple[str,str], int], start_v:str=None, debug=False) -> list[tuple[str,str,int]]:\n",
        "    n = len(set([v1 for (v1,v2) in graph.keys()]+[v2 for (v1,v2) in graph.keys()]))\n",
        "    mst = []\n",
        "    visited = set()\n",
        "\n",
        "    # Choose an arbitrary starting vertex\n",
        "    if start_v is None:\n",
        "        start_vertex = next(iter(graph.keys()))[0] # random vertex\n",
        "    else:\n",
        "        start_vertex = start_v \n",
        "    visited.add(start_vertex)\n",
        "\n",
        "    # Initialize the priority queue with the edges that connect the starting vertex to other vertices\n",
        "    edges = [(w, u, v) for (u,v), w in graph.items() if u == start_vertex or v == start_vertex]\n",
        "    # we are going to heapify by weights\n",
        "    heapq.heapify(edges)  # heapify is actually linear but even if it was ElogE it would not affect the complexity\n",
        "    if debug is True:\n",
        "        print(f\"From Starting Vertex {start_vertex} \", edges) # should be printed in order of their weights\n",
        "\n",
        "    while len(visited) < n:\n",
        "        # Find the edge with the minimum weight that connects a vertex in the subgraph to a vertex outside the subgraph\n",
        "        try:\n",
        "            w, u, v = heapq.heappop(edges)  # heappop is log n operation\n",
        "        except IndexError:\n",
        "            # if we run out of edges we are done\n",
        "            if debug:\n",
        "                print(\"We ran out of edges\")\n",
        "            break\n",
        "        if debug is True:\n",
        "            print(f\"Considering edge {u}-{v} with weight {w}\")\n",
        "\n",
        "        if u in visited and v in visited: # means this candidate would create a loop/cycle so we discard it and look for next edge\n",
        "            # note checking for membership in a set is O(1) very efficient, if it was a list instead it would be O(n)\n",
        "            if debug is True:\n",
        "                print(f\"Both {u} and {v} are already in the MST so we discard this edge\")\n",
        "            continue\n",
        "\n",
        "        # Add the newly included vertex to the subgraph and add the minimum-weight edge to the MST\n",
        "        visited.add(u) # nothing happens if it is already in the set\n",
        "        visited.add(v) # nothing happens if it is already in the set\n",
        "        mst.append((u, v, w))\n",
        "\n",
        "        # Update the priority queue with the edges that connect the newly included vertex to other vertices\n",
        "        for (u1,v1), w in graph.items():\n",
        "            if (u1 == v and v1 not in visited) or (v1 == v and u1 not in visited):\n",
        "                heapq.heappush(edges, (w, u1, v1)) # these are log n operations each\n",
        "            # need to also check u\n",
        "            if (u1 == u and v1 not in visited) or (v1 == u and u1 not in visited):\n",
        "                heapq.heappush(edges, (w, u1, v1)) # these are log n operations each\n",
        "\n",
        "    return mst"
      ]
    },
    {
      "cell_type": "code",
      "execution_count": 29,
      "metadata": {},
      "outputs": [
        {
          "name": "stdout",
          "output_type": "stream",
          "text": [
            "From Starting Vertex C  [(3, 'C', 'D'), (7, 'A', 'C')]\n",
            "Considering edge C-D with weight 3\n",
            "Considering edge A-D with weight 6\n",
            "Considering edge A-B with weight 5\n",
            "[('C', 'D', 3), ('A', 'D', 6), ('A', 'B', 5)]\n"
          ]
        }
      ],
      "source": [
        "# let's test it on our small graph\n",
        "gdict = {(\"A\",\"B\"):5, (\"A\",\"C\"):7, (\"A\",\"D\"):6, (\"C\",\"D\"):3}\n",
        "mst = prim_mst(gdict, start_v=\"C\", debug=True)\n",
        "print(mst)"
      ]
    },
    {
      "cell_type": "code",
      "execution_count": 30,
      "metadata": {},
      "outputs": [
        {
          "name": "stdout",
          "output_type": "stream",
          "text": [
            "From Starting Vertex A  [(5, 'A', 'B'), (7, 'A', 'C'), (6, 'A', 'D')]\n",
            "Considering edge A-B with weight 5\n",
            "Considering edge A-D with weight 6\n",
            "Considering edge C-D with weight 3\n",
            "[('A', 'B', 5), ('A', 'D', 6), ('C', 'D', 3)]\n"
          ]
        }
      ],
      "source": [
        "mst = prim_mst(gdict, start_v=\"A\", debug=True)\n",
        "print(mst)"
      ]
    },
    {
      "cell_type": "code",
      "execution_count": null,
      "metadata": {
        "id": "vHuYCt2IfdGg"
      },
      "outputs": [],
      "source": [
        "# so depending on which node/vertex you start you might get a different solution (same low cost) if there are edges with same weights"
      ]
    },
    {
      "cell_type": "markdown",
      "metadata": {
        "id": "kDcHojJDVW5H"
      },
      "source": [
        "Here, graph is a weighted adjacency matrix of the input graph, where graph[i][j] is the weight of the edge between vertices i and j. The function prim_mst returns a list of tuples representing the edges in the MST, where each tuple contains the endpoints of the edge and its weight.\n",
        "\n",
        "The function starts by choosing an arbitrary starting vertex and adding it to the subgraph. It then initializes a priority queue with the edges that connect the starting vertex to other vertices.\n",
        "\n",
        "In each iteration, the function finds the edge with the minimum weight that connects a vertex in the subgraph to a vertex outside the subgraph. It adds the newly included vertex to the subgraph and adds the minimum-weight edge to the MST. It then updates the priority queue with the edges that connect the newly included vertex to other vertices.\n",
        "\n",
        "The loop continues until all vertices are included in the subgraph. At that point, the function returns the MST.\n",
        "\n",
        "Overall, this implementation should have a time complexity of O(E log V), where E is the number of edges in the graph and V is the number of vertices."
      ]
    },
    {
      "cell_type": "markdown",
      "metadata": {
        "id": "bskquTx5VW5I"
      },
      "source": [
        "## Boruvka's Algorithm\n",
        "\n",
        "Boruvka's algorithm is a divide-and-conquer algorithm for finding the Minimum Spanning Tree (MST) of a connected, undirected graph. It was developed by Czech mathematician Otakar Boruvka in 1926.\n",
        "\n",
        "Wikipedia on Boruvka's algorithm: https://en.wikipedia.org/wiki/Bor%C5%AFvka%27s_algorithm\n",
        "\n",
        "The algorithm works by dividing the graph into smaller subgraphs and finding the minimum-weight edge for each subgraph. It then merges the subgraphs by adding the minimum-weight edges found in the previous step, creating a larger subgraph. This process is repeated until all vertices are included in a single subgraph, which is the MST of the graph.\n",
        "\n",
        "Here are the steps of Boruvka's algorithm:\n",
        "\n",
        "1. Initialize a subgraph for each vertex in the graph.\n",
        "\n",
        "2. While there is more than one subgraph, do the following:\n",
        "\n",
        "a. For each subgraph, find the minimum-weight edge that connects it to a different subgraph.\n",
        "\n",
        "b. Add the minimum-weight edges to the subgraph, merging the two subgraphs.\n",
        "\n",
        "c. Remove any duplicate edges that may have been added during the previous step.\n",
        "\n",
        "4. Stop when all vertices are included in a single subgraph, which is the MST of the graph.\n",
        "\n",
        "Boruvka's algorithm can be implemented using a priority queue to efficiently find the minimum-weight edges. At each iteration, we iterate through the subgraphs and find the minimum-weight edge that connects each subgraph to a different subgraph. We then add these edges to the subgraph, merge the subgraphs, and remove any duplicate edges. This process continues until all vertices are included in a single subgraph.\n",
        "\n",
        "Boruvka's algorithm has a time complexity of O(E log V), where E is the number of edges in the graph and V is the number of vertices. This makes it an efficient algorithm for dense graphs with many edges. However, it may not be as efficient as Kruskal's or Prim's algorithm for sparse graphs with fewer edges.\n"
      ]
    },
    {
      "cell_type": "code",
      "execution_count": 19,
      "metadata": {
        "id": "vgrOGQqaVW5I"
      },
      "outputs": [],
      "source": [
        "import heapq\n",
        "\n",
        "def boruvka_mst(graph):\n",
        "    n = len(graph)\n",
        "    # in beginning each node has its own subgraph\n",
        "    subgraphs = [{i} for i in range(n)]\n",
        "    # once again edges (the solution) will go into mst structure - list\n",
        "    mst = []\n",
        "\n",
        "    while len(subgraphs) > 1:\n",
        "        # Initialize the priority queue with the minimum-weight edge that connects each subgraph to a different subgraph\n",
        "        edges = [None] * n\n",
        "        for i, subgraph in enumerate(subgraphs):\n",
        "            for j in subgraph:\n",
        "                for k, w in enumerate(graph[j]):\n",
        "                    if w != 0:\n",
        "                        l = find_subgraph_index(subgraphs, k)\n",
        "                        if l != i and (edges[i] is None or edges[i][0] > w):\n",
        "                            edges[i] = (w, j, k, l)\n",
        "\n",
        "        # Add the minimum-weight edges to the subgraph and merge the subgraphs\n",
        "        for i, edge in enumerate(edges):\n",
        "            if edge is not None:\n",
        "                w, u, v, l = edge\n",
        "                if l != i:\n",
        "                    mst.append((u, v, w))\n",
        "                    subgraphs[i] |= subgraphs[l]\n",
        "                    del subgraphs[l]\n",
        "\n",
        "        # Remove any duplicate edges that may have been added during the previous step\n",
        "        graph = remove_duplicate_edges(mst, n)\n",
        "\n",
        "    return mst\n",
        "\n",
        "def find_subgraph_index(subgraphs, i):\n",
        "    for j, subgraph in enumerate(subgraphs):\n",
        "        if i in subgraph:\n",
        "            return j\n",
        "    return None\n",
        "\n",
        "def remove_duplicate_edges(edges, n):\n",
        "    graph = [[0] * n for _ in range(n)]\n",
        "    for u, v, w in edges:\n",
        "        graph[u][v] = graph[v][u] = w\n",
        "    return graph\n",
        "## TODO FIXME"
      ]
    },
    {
      "cell_type": "code",
      "execution_count": 21,
      "metadata": {
        "colab": {
          "base_uri": "https://localhost:8080/"
        },
        "id": "2Lq0ykJnhr5C",
        "outputId": "6df665b0-5cc5-4e42-e755-de7185ba0423"
      },
      "outputs": [
        {
          "name": "stdout",
          "output_type": "stream",
          "text": [
            "Edge 0-3 with weight 5 included in MST\n",
            "Edge 0-1 with weight 10 included in MST\n",
            "Edge 2-3 with weight 4 included in MST\n",
            "Weight of MST is 19\n"
          ]
        }
      ],
      "source": [
        "# Boruvka's algorithm to find Minimum Spanning\n",
        "# https://www.geeksforgeeks.org/boruvkas-algorithm-greedy-algo-9/\n",
        "# Tree of a given connected, undirected and weighted graph\n",
        " \n",
        "from collections import defaultdict\n",
        " \n",
        "#Class to represent a graph\n",
        "class Graph:\n",
        " \n",
        "    def __init__(self,vertices):\n",
        "        self.V= vertices #No. of vertices\n",
        "        self.graph = [] # default dictionary to store graph\n",
        "         \n",
        "  \n",
        "    # function to add an edge to graph\n",
        "    def addEdge(self,u,v,w):\n",
        "        self.graph.append([u,v,w])\n",
        " \n",
        "    # A utility function to find set of an element i\n",
        "    # (uses path compression technique)\n",
        "    def find(self, parent, i):\n",
        "        if parent[i] == i:\n",
        "            return i\n",
        "        return self.find(parent, parent[i])\n",
        " \n",
        "    # A function that does union of two sets of x and y\n",
        "    # (uses union by rank)\n",
        "    def union(self, parent, rank, x, y):\n",
        "        xroot = self.find(parent, x)\n",
        "        yroot = self.find(parent, y)\n",
        " \n",
        "        # Attach smaller rank tree under root of high rank tree\n",
        "        # (Union by Rank)\n",
        "        if rank[xroot] < rank[yroot]:\n",
        "            parent[xroot] = yroot\n",
        "        elif rank[xroot] > rank[yroot]:\n",
        "            parent[yroot] = xroot\n",
        "        #If ranks are same, then make one as root and increment\n",
        "        # its rank by one\n",
        "        else :\n",
        "            parent[yroot] = xroot\n",
        "            rank[xroot] += 1\n",
        " \n",
        "    # The main function to construct MST using Kruskal's algorithm\n",
        "    def boruvkaMST(self):\n",
        "        parent = []; rank = [];\n",
        " \n",
        "        # An array to store index of the cheapest edge of\n",
        "        # subset. It store [u,v,w] for each component\n",
        "        cheapest =[]\n",
        " \n",
        "        # Initially there are V different trees.\n",
        "        # Finally there will be one tree that will be MST\n",
        "        numTrees = self.V\n",
        "        MSTweight = 0\n",
        " \n",
        "        # Create V subsets with single elements\n",
        "        for node in range(self.V):\n",
        "            parent.append(node)\n",
        "            rank.append(0)\n",
        "            cheapest =[-1] * self.V\n",
        "     \n",
        "        # Keep combining components (or sets) until all\n",
        "        # components are not combined into single MST\n",
        " \n",
        "        while numTrees > 1:\n",
        " \n",
        "            # Traverse through all edges and update\n",
        "               # cheapest of every component\n",
        "            for i in range(len(self.graph)):\n",
        " \n",
        "                # Find components (or sets) of two corners\n",
        "                # of current edge\n",
        "                u,v,w =  self.graph[i]\n",
        "                set1 = self.find(parent, u)\n",
        "                set2 = self.find(parent ,v)\n",
        " \n",
        "                # If two corners of current edge belong to\n",
        "                # same set, ignore current edge. Else check if\n",
        "                # current edge is closer to previous\n",
        "                # cheapest edges of set1 and set2\n",
        "                if set1 != set2:    \n",
        "                     \n",
        "                    if cheapest[set1] == -1 or cheapest[set1][2] > w :\n",
        "                        cheapest[set1] = [u,v,w]\n",
        " \n",
        "                    if cheapest[set2] == -1 or cheapest[set2][2] > w :\n",
        "                        cheapest[set2] = [u,v,w]\n",
        " \n",
        "            # Consider the above picked cheapest edges and add them\n",
        "            # to MST\n",
        "            for node in range(self.V):\n",
        " \n",
        "                #Check if cheapest for current set exists\n",
        "                if cheapest[node] != -1:\n",
        "                    u,v,w = cheapest[node]\n",
        "                    set1 = self.find(parent, u)\n",
        "                    set2 = self.find(parent ,v)\n",
        " \n",
        "                    if set1 != set2 :\n",
        "                        MSTweight += w\n",
        "                        self.union(parent, rank, set1, set2)\n",
        "                        print (\"Edge %d-%d with weight %d included in MST\" % (u,v,w))\n",
        "                        numTrees = numTrees - 1\n",
        "             \n",
        "            #reset cheapest array\n",
        "            cheapest =[-1] * self.V\n",
        " \n",
        "             \n",
        "        print (\"Weight of MST is %d\" % MSTweight)\n",
        "                           \n",
        " \n",
        "     \n",
        "g = Graph(4)\n",
        "g.addEdge(0, 1, 10)\n",
        "g.addEdge(0, 2, 6)\n",
        "g.addEdge(0, 3, 5)\n",
        "g.addEdge(1, 3, 15)\n",
        "g.addEdge(2, 3, 4)\n",
        " \n",
        "g.boruvkaMST()\n",
        " \n",
        "#This code is contributed by Neelam Yadav"
      ]
    },
    {
      "cell_type": "code",
      "execution_count": 25,
      "metadata": {
        "colab": {
          "base_uri": "https://localhost:8080/"
        },
        "id": "8kEd6s6qitjl",
        "outputId": "2c349c1a-97e0-4905-c1d8-8345fc793506"
      },
      "outputs": [
        {
          "name": "stdout",
          "output_type": "stream",
          "text": [
            "Edge 0-1 with weight 5 included in MST\n",
            "Edge 0-2 with weight 5 included in MST\n",
            "Edge 2-3 with weight 7 included in MST\n",
            "Weight of MST is 17\n"
          ]
        }
      ],
      "source": [
        "g1 = Graph(4)\n",
        "g1.addEdge(0,1, 5)\n",
        "g1.addEdge(0,2, 5)\n",
        "g1.addEdge(1,2, 5)\n",
        "g1.addEdge(2,3, 7)\n",
        "g1.addEdge(1,3, 8)\n",
        "g1.boruvkaMST()"
      ]
    },
    {
      "cell_type": "markdown",
      "metadata": {
        "id": "K1xa5NtqVW5J"
      },
      "source": [
        "Here, graph is a weighted adjacency matrix of the input graph, where graph[i][j] is the weight of the edge between vertices i and j. The function boruvka_mst returns a list of tuples representing the edges in the MST, where each tuple contains the endpoints of the edge and its weight.\n",
        "\n",
        "The function starts by initializing a subgraph for each vertex in the graph. It then repeatedly finds the minimum-weight edge that connects each subgraph to a different subgraph, adds these edges to the subgraph, and merges the subgraphs. The process continues until all vertices are included in a single subgraph, which is the MST of the graph.\n",
        "\n",
        "The find_subgraph_index function is used to efficiently find the index of the subgraph that contains a given vertex. The remove_duplicate_edges function is used to remove any duplicate edges that may have been added during the previous step.\n",
        "\n",
        "Overall, this implementation should have a time complexity of O(E log V), where E is the number of edges in the graph and V is the number of vertices."
      ]
    },
    {
      "cell_type": "markdown",
      "metadata": {
        "id": "sNcmSOtjVW5J"
      },
      "source": [
        "## Karger's Algorithm --\n",
        "\n",
        "There exists a linear time randomized algorithm to solve the Minimum Spanning Tree (MST) problem for dense graphs, which are graphs with many edges. This algorithm is called Karger's algorithm, which was developed by David Karger in 1993.\n",
        "\n",
        "Karger's algorithm works by iteratively contracting random edges in the graph until only two vertices remain. The contraction of an edge merges its two endpoints into a single vertex, and replaces the edges connecting the two endpoints with edges that connect the merged vertex to the other vertices. This process reduces the number of vertices in the graph, but it may introduce multiple edges and self-loops, which need to be handled correctly.\n",
        "\n",
        "Here are the steps of Karger's algorithm:\n",
        "\n",
        "1. Initialize a graph with the same vertices and edges as the input graph.\n",
        "\n",
        "2. While there are more than two vertices, do the following:\n",
        "\n",
        "a. Randomly choose an edge from the graph.\n",
        "\n",
        "b. Contract the edge, merging its two endpoints into a single vertex.\n",
        "\n",
        "c. Remove any self-loops that may have been introduced during the contraction.\n",
        "\n",
        "3. Return the remaining graph, which is the MST of the input graph.\n",
        "\n",
        "The probability of Karger's algorithm producing the correct MST increases with the number of iterations. In fact, it can be shown that the algorithm has a success probability of at least 1/n^2, where n is the number of vertices in the graph. Therefore, by running the algorithm multiple times, we can achieve a high probability of finding the correct MST.\n",
        "\n",
        "Karger's algorithm has a time complexity of O(n^2), which is linear in the number of vertices, but may not be as efficient as other algorithms for sparse graphs with fewer edges."
      ]
    },
    {
      "cell_type": "code",
      "execution_count": 26,
      "metadata": {
        "id": "9Av-npIAVW5J"
      },
      "outputs": [],
      "source": [
        "import random\n",
        "\n",
        "def karger_mst(graph):\n",
        "    n = len(graph)\n",
        "\n",
        "    # Repeat the contraction process n^2 times to achieve a high probability of success\n",
        "    for i in range(n * n):\n",
        "        # Initialize a copy of the graph\n",
        "        contracted_graph = [row[:] for row in graph]\n",
        "\n",
        "        # Contract edges until there are only two vertices left\n",
        "        num_vertices = n\n",
        "        while num_vertices > 2:\n",
        "            # Randomly choose an edge to contract\n",
        "            u = random.randint(0, num_vertices - 1)\n",
        "            v = random.randint(0, num_vertices - 1)\n",
        "            while contracted_graph[u][v] == 0:\n",
        "                u = random.randint(0, num_vertices - 1)\n",
        "                v = random.randint(0, num_vertices - 1)\n",
        "\n",
        "            # Contract the edge\n",
        "            for w in range(num_vertices):\n",
        "                contracted_graph[u][w] += contracted_graph[v][w]\n",
        "                contracted_graph[w][u] = contracted_graph[u][w]\n",
        "            contracted_graph.pop(v)\n",
        "            for row in contracted_graph:\n",
        "                row.pop(v)\n",
        "\n",
        "            # Remove any self-loops that may have been introduced during the contraction\n",
        "            for j in range(num_vertices - 1):\n",
        "                if contracted_graph[u][j] != 0:\n",
        "                    contracted_graph[u][j] = contracted_graph[j][u] = min(contracted_graph[u][j], contracted_graph[j][u])\n",
        "                    contracted_graph[j][j] = 0\n",
        "\n",
        "            num_vertices -= 1\n",
        "\n",
        "        # Return the remaining graph, which is the MST with high probability\n",
        "        u, v = 0, 1\n",
        "        for i in range(n):\n",
        "            if contracted_graph[i][u] < contracted_graph[i][v]:\n",
        "                v = i\n",
        "            if contracted_graph[i][u] > contracted_graph[i][v]:\n",
        "                u = i\n",
        "\n",
        "        mst = []\n",
        "        for i in range(n):\n",
        "            if i != u and i != v:\n",
        "                if contracted_graph[i][u] < contracted_graph[i][v]:\n",
        "                    mst.append((i, u, contracted_graph[i][u]))\n",
        "                else:\n",
        "                    mst.append((i, v, contracted_graph[i][v]))\n",
        "        if contracted_graph[u][v] != 0:\n",
        "            mst.append((u, v, contracted_graph[u][v]))\n",
        "\n",
        "        return mst\n",
        "# TODO fix the code"
      ]
    },
    {
      "cell_type": "code",
      "execution_count": 27,
      "metadata": {
        "colab": {
          "base_uri": "https://localhost:8080/"
        },
        "id": "BF4lekeYkLYc",
        "outputId": "1b53dd64-01c4-466b-fed2-05fe7bddab91"
      },
      "outputs": [
        {
          "data": {
            "text/plain": [
              "[[0, 5, 7, 6], [5, 0, 9, 0], [7, 9, 0, 3], [6, 0, 3, 0]]"
            ]
          },
          "execution_count": 27,
          "metadata": {},
          "output_type": "execute_result"
        }
      ],
      "source": [
        "g2"
      ]
    },
    {
      "cell_type": "code",
      "execution_count": 28,
      "metadata": {
        "colab": {
          "base_uri": "https://localhost:8080/",
          "height": 287
        },
        "id": "Ose945s2kNyw",
        "outputId": "8c6c2d60-8854-4fd9-c3d6-7754ca76bf51"
      },
      "outputs": [
        {
          "ename": "IndexError",
          "evalue": "ignored",
          "output_type": "error",
          "traceback": [
            "\u001b[0;31m---------------------------------------------------------------------------\u001b[0m",
            "\u001b[0;31mIndexError\u001b[0m                                Traceback (most recent call last)",
            "\u001b[0;32m<ipython-input-28-2952b491474c>\u001b[0m in \u001b[0;36m<module>\u001b[0;34m\u001b[0m\n\u001b[0;32m----> 1\u001b[0;31m \u001b[0mkarger_mst\u001b[0m\u001b[0;34m(\u001b[0m\u001b[0mg2\u001b[0m\u001b[0;34m)\u001b[0m\u001b[0;34m\u001b[0m\u001b[0;34m\u001b[0m\u001b[0m\n\u001b[0m",
            "\u001b[0;32m<ipython-input-26-3df9250f50e0>\u001b[0m in \u001b[0;36mkarger_mst\u001b[0;34m(graph)\u001b[0m\n\u001b[1;32m     29\u001b[0m             \u001b[0;31m# Remove any self-loops that may have been introduced during the contraction\u001b[0m\u001b[0;34m\u001b[0m\u001b[0;34m\u001b[0m\u001b[0;34m\u001b[0m\u001b[0m\n\u001b[1;32m     30\u001b[0m             \u001b[0;32mfor\u001b[0m \u001b[0mj\u001b[0m \u001b[0;32min\u001b[0m \u001b[0mrange\u001b[0m\u001b[0;34m(\u001b[0m\u001b[0mnum_vertices\u001b[0m \u001b[0;34m-\u001b[0m \u001b[0;36m1\u001b[0m\u001b[0;34m)\u001b[0m\u001b[0;34m:\u001b[0m\u001b[0;34m\u001b[0m\u001b[0;34m\u001b[0m\u001b[0m\n\u001b[0;32m---> 31\u001b[0;31m                 \u001b[0;32mif\u001b[0m \u001b[0mcontracted_graph\u001b[0m\u001b[0;34m[\u001b[0m\u001b[0mu\u001b[0m\u001b[0;34m]\u001b[0m\u001b[0;34m[\u001b[0m\u001b[0mj\u001b[0m\u001b[0;34m]\u001b[0m \u001b[0;34m!=\u001b[0m \u001b[0;36m0\u001b[0m\u001b[0;34m:\u001b[0m\u001b[0;34m\u001b[0m\u001b[0;34m\u001b[0m\u001b[0m\n\u001b[0m\u001b[1;32m     32\u001b[0m                     \u001b[0mcontracted_graph\u001b[0m\u001b[0;34m[\u001b[0m\u001b[0mu\u001b[0m\u001b[0;34m]\u001b[0m\u001b[0;34m[\u001b[0m\u001b[0mj\u001b[0m\u001b[0;34m]\u001b[0m \u001b[0;34m=\u001b[0m \u001b[0mcontracted_graph\u001b[0m\u001b[0;34m[\u001b[0m\u001b[0mj\u001b[0m\u001b[0;34m]\u001b[0m\u001b[0;34m[\u001b[0m\u001b[0mu\u001b[0m\u001b[0;34m]\u001b[0m \u001b[0;34m=\u001b[0m \u001b[0mmin\u001b[0m\u001b[0;34m(\u001b[0m\u001b[0mcontracted_graph\u001b[0m\u001b[0;34m[\u001b[0m\u001b[0mu\u001b[0m\u001b[0;34m]\u001b[0m\u001b[0;34m[\u001b[0m\u001b[0mj\u001b[0m\u001b[0;34m]\u001b[0m\u001b[0;34m,\u001b[0m \u001b[0mcontracted_graph\u001b[0m\u001b[0;34m[\u001b[0m\u001b[0mj\u001b[0m\u001b[0;34m]\u001b[0m\u001b[0;34m[\u001b[0m\u001b[0mu\u001b[0m\u001b[0;34m]\u001b[0m\u001b[0;34m)\u001b[0m\u001b[0;34m\u001b[0m\u001b[0;34m\u001b[0m\u001b[0m\n\u001b[1;32m     33\u001b[0m                     \u001b[0mcontracted_graph\u001b[0m\u001b[0;34m[\u001b[0m\u001b[0mj\u001b[0m\u001b[0;34m]\u001b[0m\u001b[0;34m[\u001b[0m\u001b[0mj\u001b[0m\u001b[0;34m]\u001b[0m \u001b[0;34m=\u001b[0m \u001b[0;36m0\u001b[0m\u001b[0;34m\u001b[0m\u001b[0;34m\u001b[0m\u001b[0m\n",
            "\u001b[0;31mIndexError\u001b[0m: list index out of range"
          ]
        }
      ],
      "source": [
        "karger_mst(g2)"
      ]
    },
    {
      "cell_type": "markdown",
      "metadata": {
        "id": "-BRMJ0mHVW5K"
      },
      "source": [
        "Here, graph is a weighted adjacency matrix of the input graph, where graph[i][j] is the weight of the edge between vertices i and j. The function karger_mst returns a list of tuples representing the edges in the MST, where each tuple contains the endpoints of the edge and its weight.\n",
        "\n",
        "The function starts by repeating the contraction process n^2 times, where n is the number of vertices in the graph, to achieve a high probability of success. For each iteration, it initializes a copy of the input graph and contracts random edges until only two vertices remain.\n",
        "\n",
        "The contraction process randomly chooses an edge to contract, merges its endpoints into a single vertex, and removes any self-loops that may have been introduced. This continues until there are only two vertices left.\n",
        "\n",
        "Finally, the function returns the remaining graph, which is the MST of the input graph with high probability.\n",
        "\n",
        "Overall, this implementation should have a time complexity of O(n^2), which is linear in the number of vertices. However, it may not always find the correct MST, so it is typically used as a heuristic or a starting point for other algorithms."
      ]
    },
    {
      "cell_type": "markdown",
      "metadata": {
        "id": "G9Xfu3oVVW5K"
      },
      "source": [
        "## Real Life Applications of MST\n",
        "\n",
        "The Minimum Spanning Tree (MST) problem and algorithms to solve it have numerous real-life applications in various fields. Here are some examples:\n",
        "\n",
        "* Network design: MST algorithms can be used to design efficient networks for communication and transportation systems, such as cable or phone networks, road networks, and airline routes. By finding the minimum-weight set of edges that connect all vertices, MST algorithms can help reduce the cost and complexity of these networks.\n",
        "\n",
        "* Clustering: MST algorithms can be used to group similar objects or data points into clusters based on their pairwise distances. By constructing a tree that connects all points with the minimum total distance, MST algorithms can help identify clusters and outliers in the data.\n",
        "\n",
        "* Image processing: MST algorithms can be used to analyze and segment images based on their visual features, such as color or texture. By finding the minimum-weight set of edges that connect adjacent pixels or regions, MST algorithms can help extract and highlight important structures and patterns in the image.\n",
        "\n",
        "* Circuit design: MST algorithms can be used to design efficient electronic circuits that connect multiple components or devices. By finding the minimum-weight set of edges that connect all components, MST algorithms can help optimize the performance and cost of the circuit.\n",
        "\n",
        "* Biology: MST algorithms can be used to analyze and compare genetic sequences or protein structures. By constructing a tree that represents the evolutionary relationships between different organisms or molecules, MST algorithms can help identify common ancestors, genetic mutations, and functional domains."
      ]
    },
    {
      "cell_type": "markdown",
      "metadata": {
        "id": "hn57hlifVW5K"
      },
      "source": [
        "## Conclusion\n",
        "\n",
        "In this article, we explored three algorithms for finding the Minimum Spanning Tree (MST) of a connected, undirected graph: Kruskal's algorithm, Prim's algorithm, and Boruvka's algorithm. We also discussed Karger's algorithm, which is a linear time randomized algorithm for finding the MST of dense graphs.\n",
        "\n",
        "We implemented each algorithm in Python and compared their time complexities. We also discussed the advantages and disadvantages of each algorithm.\n",
        "\n",
        "### More Information\n",
        "\n",
        "* Minimum Spanning Tree: https://en.wikipedia.org/wiki/Minimum_spanning_tree\n",
        "* Kruskal's algorithm: https://en.wikipedia.org/wiki/Kruskal%27s_algorithm\n",
        "* Prim's algorithm: https://en.wikipedia.org/wiki/Prim%27s_algorithm\n",
        "* Boruvka's algorithm: https://en.wikipedia.org/wiki/Bor%C5%AFvka%27s_algorithm\n",
        "\n",
        "### References\n",
        "\n",
        "* Cormen, T. H., Leiserson, C. E., Rivest, R. L., & Stein, C. (2009). Introduction to algorithms (3rd ed.). MIT press.\n",
        "\n",
        "* Dasgupta, S., Papadimitriou, C. H., & Vazirani, U. V. (2006). Algorithms. McGraw-Hill Higher Education.\n",
        "\n",
        "* David R. Karger, Philip N. Klein, and Robert E. Tarjan. 1995. A randomized linear-time algorithm to find minimum spanning trees. J. ACM 42, 2 (March 1995), 321–328. https://doi.org/10.1145/201019.201022"
      ]
    },
    {
      "cell_type": "markdown",
      "metadata": {
        "id": "UpVFNmoOVW5L"
      },
      "source": []
    }
  ],
  "metadata": {
    "colab": {
      "provenance": []
    },
    "kernelspec": {
      "display_name": "Python 3",
      "language": "python",
      "name": "python3"
    },
    "language_info": {
      "codemirror_mode": {
        "name": "ipython",
        "version": 3
      },
      "file_extension": ".py",
      "mimetype": "text/x-python",
      "name": "python",
      "nbconvert_exporter": "python",
      "pygments_lexer": "ipython3",
      "version": "3.11.4"
    },
    "orig_nbformat": 4,
    "vscode": {
      "interpreter": {
        "hash": "5a7484dfba3fe704bcb4cb86b5e44e6e7ff65d5a0abe78302d0cbbc52f6659d4"
      }
    }
  },
  "nbformat": 4,
  "nbformat_minor": 0
}
