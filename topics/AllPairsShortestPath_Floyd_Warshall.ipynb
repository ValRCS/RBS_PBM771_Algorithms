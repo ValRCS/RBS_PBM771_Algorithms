{
  "cells": [
    {
      "cell_type": "code",
      "execution_count": 1,
      "metadata": {
        "id": "p2yl33eVBtfe",
        "outputId": "7850df52-a189-4a2d-b86d-6ad36b331154",
        "colab": {
          "base_uri": "https://localhost:8080/"
        }
      },
      "outputs": [
        {
          "output_type": "execute_result",
          "data": {
            "text/plain": [
              "9223372036854775807"
            ]
          },
          "metadata": {},
          "execution_count": 1
        }
      ],
      "source": [
        "import sys\n",
        "sys.maxsize # would be more correct way although Python has no pure infinity in int (it does infinity in float)\n",
        "# alternative would be to represent infinity as None"
      ]
    },
    {
      "cell_type": "code",
      "source": [
        "2**63-1"
      ],
      "metadata": {
        "id": "ZzwmhjnDcbD3",
        "outputId": "e768563b-b544-4b97-d196-e622eb51c6fe",
        "colab": {
          "base_uri": "https://localhost:8080/"
        }
      },
      "execution_count": 2,
      "outputs": [
        {
          "output_type": "execute_result",
          "data": {
            "text/plain": [
              "9223372036854775807"
            ]
          },
          "metadata": {},
          "execution_count": 2
        }
      ]
    },
    {
      "cell_type": "code",
      "source": [
        "INF = sys.maxsize # of course Python does not have true constants it is just a convention to use capitals for constants"
      ],
      "metadata": {
        "id": "3GBieETSfmKK"
      },
      "execution_count": 4,
      "outputs": []
    },
    {
      "cell_type": "code",
      "source": [
        "def floyd_warshall_costs_only(graph, vertex_count):\n",
        "    '''\n",
        "    graph should be a full dictionary of all row, column distances\n",
        "    if no distance exists then sys.maxsize should be used\n",
        "    '''\n",
        "    dist = graph.copy() # we need to initialize distance matrix D₀\n",
        "    # vertex_count = len(graph) # FIXME if we are passing a dictionary of edges\n",
        "\n",
        "    for k in range(vertex_count):\n",
        "        for i in range(vertex_count):\n",
        "            for j in range(vertex_count):\n",
        "                if dist[i,j] > dist[i,k] + dist[k,j]:\n",
        "                    dist[i,j] = dist[i,k] + dist[k,j]\n",
        "    return dist"
      ],
      "metadata": {
        "id": "RBYaEdfUc4C5"
      },
      "execution_count": 3,
      "outputs": []
    },
    {
      "cell_type": "code",
      "source": [
        "g = {}\n",
        "g[0,0] = 0 # so this is 1,1 in original slides\n",
        "g[0,1] = 4\n",
        "g[0,2] = 5\n",
        "g[1,0] = 2\n",
        "g[1,1] = 0\n",
        "g[1,2] = INF\n",
        "g[2,0] = INF\n",
        "g[2,1] = -3\n",
        "g[2,2] = 0\n",
        "g\n"
      ],
      "metadata": {
        "id": "MPCjzLqhe8gN",
        "outputId": "9c7694e7-cc5f-4176-c213-edcafe3da4ed",
        "colab": {
          "base_uri": "https://localhost:8080/"
        }
      },
      "execution_count": 5,
      "outputs": [
        {
          "output_type": "execute_result",
          "data": {
            "text/plain": [
              "{(0, 0): 0,\n",
              " (0, 1): 4,\n",
              " (0, 2): 5,\n",
              " (1, 0): 2,\n",
              " (1, 1): 0,\n",
              " (1, 2): 9223372036854775807,\n",
              " (2, 0): 9223372036854775807,\n",
              " (2, 1): -3,\n",
              " (2, 2): 0}"
            ]
          },
          "metadata": {},
          "execution_count": 5
        }
      ]
    },
    {
      "cell_type": "code",
      "source": [
        "solution = floyd_warshall_costs_only(g, vertex_count = 3)\n",
        "solution"
      ],
      "metadata": {
        "id": "ukanfGCkf8bd",
        "outputId": "dc6cc568-d6e5-4020-8958-1d35ed4b185e",
        "colab": {
          "base_uri": "https://localhost:8080/"
        }
      },
      "execution_count": 7,
      "outputs": [
        {
          "output_type": "execute_result",
          "data": {
            "text/plain": [
              "{(0, 0): 0,\n",
              " (0, 1): 2,\n",
              " (0, 2): 5,\n",
              " (1, 0): 2,\n",
              " (1, 1): 0,\n",
              " (1, 2): 7,\n",
              " (2, 0): -1,\n",
              " (2, 1): -3,\n",
              " (2, 2): 0}"
            ]
          },
          "metadata": {},
          "execution_count": 7
        }
      ]
    },
    {
      "cell_type": "code",
      "source": [
        "# so now let's add saving of paths\n",
        "def floyd_warshall_with_paths(graph, vertex_count):\n",
        "    '''\n",
        "    graph should be a full dictionary of all row, column distances\n",
        "    if no distance exists then sys.maxsize should be used\n",
        "    '''\n",
        "    dist = graph.copy() # we need to initialize distance matrix D₀\n",
        "    # vertex_count = len(graph) # FIXME if we are passing a dictionary of edges\n",
        "    # initialize paths\n",
        "    paths = {}\n",
        "    for i,j in dist.keys():\n",
        "        if dist[i,j] == INF:\n",
        "            paths[i,j] = -1\n",
        "        else: \n",
        "            paths[i,j] = i #TODO check if this should be j\n",
        "\n",
        "    for k in range(vertex_count):\n",
        "        for i in range(vertex_count):\n",
        "            for j in range(vertex_count):\n",
        "                if dist[i,j] > dist[i,k] + dist[k,j]:\n",
        "                    dist[i,j] = dist[i,k] + dist[k,j]\n",
        "                    paths[i,j] = k\n",
        "    return dist, paths"
      ],
      "metadata": {
        "id": "WDVd2Yk5gc0x"
      },
      "execution_count": 8,
      "outputs": []
    },
    {
      "cell_type": "code",
      "source": [
        "distances, paths = floyd_warshall_with_paths(g, 3)\n",
        "distances"
      ],
      "metadata": {
        "id": "5cT_3CXohZlG",
        "outputId": "33d7581c-94f5-469a-8970-499a4566b4bf",
        "colab": {
          "base_uri": "https://localhost:8080/"
        }
      },
      "execution_count": 9,
      "outputs": [
        {
          "output_type": "execute_result",
          "data": {
            "text/plain": [
              "{(0, 0): 0,\n",
              " (0, 1): 2,\n",
              " (0, 2): 5,\n",
              " (1, 0): 2,\n",
              " (1, 1): 0,\n",
              " (1, 2): 7,\n",
              " (2, 0): -1,\n",
              " (2, 1): -3,\n",
              " (2, 2): 0}"
            ]
          },
          "metadata": {},
          "execution_count": 9
        }
      ]
    },
    {
      "cell_type": "code",
      "source": [
        "paths"
      ],
      "metadata": {
        "id": "U7mkaTcJhhEd",
        "outputId": "589999de-d307-4cc6-f476-da51d182499c",
        "colab": {
          "base_uri": "https://localhost:8080/"
        }
      },
      "execution_count": 10,
      "outputs": [
        {
          "output_type": "execute_result",
          "data": {
            "text/plain": [
              "{(0, 0): 0,\n",
              " (0, 1): 2,\n",
              " (0, 2): 0,\n",
              " (1, 0): 1,\n",
              " (1, 1): 1,\n",
              " (1, 2): 0,\n",
              " (2, 0): 1,\n",
              " (2, 1): 2,\n",
              " (2, 2): 2}"
            ]
          },
          "metadata": {},
          "execution_count": 10
        }
      ]
    },
    {
      "cell_type": "code",
      "execution_count": null,
      "metadata": {
        "id": "JXrkhsDiBtfh",
        "outputId": "731a445f-5db0-4c04-bbf2-50ca2219e766",
        "colab": {
          "base_uri": "https://localhost:8080/"
        }
      },
      "outputs": [
        {
          "output_type": "stream",
          "name": "stdout",
          "text": [
            "Following matrix shows the shortest distances between every pair of vertices\n",
            "      0\t      5\t      8\t      9\t\n",
            "    INF      0\t      3\t      4\t\n",
            "    INF    INF      0\t      1\t\n",
            "    INF    INF    INF      0\t\n",
            "{(0, 0): 0, (0, 1): 1, (0, 2): 1, (0, 3): 2, (1, 0): -1, (1, 1): 1, (1, 2): 2, (1, 3): 2, (2, 0): -1, (2, 1): -1, (2, 2): 2, (2, 3): 3, (3, 0): -1, (3, 1): -1, (3, 2): -1, (3, 3): 3}\n"
          ]
        }
      ],
      "source": [
        "from IPython.core.display import DisplayObject\n",
        "# Python Program for Floyd Warshall Algorithm\n",
        " \n",
        "# Number of vertices in the graph\n",
        "V = 4\n",
        " \n",
        "# Define infinity as the large\n",
        "# enough value. This value will be\n",
        "# used for vertices not connected to each other\n",
        "# INF = 99999 # works as long as our graphs do not go over 99_999\n",
        "INF = sys.maxsize\n",
        " \n",
        "# Solves all pair shortest path\n",
        "# via Floyd Warshall Algorithm\n",
        " \n",
        "def floydWarshall(graph, verbose=False, V=V):\n",
        "   \n",
        "    \"\"\" dist[][] will be the output\n",
        "       matrix that will finally\n",
        "        have the shortest distances\n",
        "        between every pair of vertices \"\"\"\n",
        "    \"\"\" initializing the solution matrix\n",
        "    same as input graph matrix\n",
        "    OR we can say that the initial\n",
        "    values of shortest distances\n",
        "    are based on shortest paths considering no\n",
        "    intermediate vertices \"\"\"\n",
        " \n",
        "    # dist = list(map(lambda i: list(map(lambda j: j, i)), graph))\n",
        "    dist = graph.copy()\n",
        "    pdict = {} # path dictionary\n",
        "    # initialize the paths\n",
        "    for i, row in enumerate(dist):\n",
        "        for j, cell in enumerate(row):\n",
        "            if i == j:\n",
        "                pdict[(i,j)] = i # TODO we could optimize the the if and elif\n",
        "            elif cell < INF:\n",
        "                pdict[(i,j)] = j # so we have a direct connect to j in initially\n",
        "            else:\n",
        "                pdict[(i,j)] = -1 # no path yet known\n",
        "                 # so -1 for already being there and -2 for no path know just yet\n",
        "    # paths = [[-1]*len(graph)] * len(graph) # init paths\n",
        "    # print(paths)\n",
        "    if verbose:\n",
        "        print(\"Starting state\")\n",
        "        print(*dist, sep=\"\\n\")\n",
        "    \"\"\" Add all vertices one by one\n",
        "    to the set of intermediate\n",
        "     vertices.\n",
        "     ---> Before start of an iteration,\n",
        "     we have shortest distances\n",
        "     between all pairs of vertices\n",
        "     such that the shortest\n",
        "     distances consider only the\n",
        "     vertices in the set\n",
        "    {0, 1, 2, .. k-1} as intermediate vertices.\n",
        "      ----> After the end of a\n",
        "      iteration, vertex no. k is\n",
        "     added to the set of intermediate\n",
        "     vertices and the\n",
        "    set becomes {0, 1, 2, .. k}\n",
        "    \"\"\"\n",
        "    for k in range(V):\n",
        " \n",
        "        # pick all vertices as source one by one\n",
        "        for i in range(V):\n",
        " \n",
        "            # Pick all vertices as destination for the\n",
        "            # above picked source\n",
        "            for j in range(V):\n",
        " \n",
        "                # If vertex k is on the shortest path from\n",
        "                # i to j, then update the value of dist[i][j]\n",
        "                # dist[i][j] = min(dist[i][j],\n",
        "                #                  dist[i][k] + dist[k][j]\n",
        "                #                  )\n",
        "                if dist[i][k] + dist[k][j] < dist[i][j]:\n",
        "                    dist[i][j] = dist[i][k] + dist[k][j]\n",
        "                    pdict[(i,j)] = k\n",
        "                    # paths[i-1][j-1] = k # to save the path pointer FIXME saving paths\n",
        "                    # printPaths(paths)\n",
        "    printSolution(dist)\n",
        "    printPaths(pdict)\n",
        " \n",
        " \n",
        "# A utility function to print the solution\n",
        "def printSolution(dist, V=V):\n",
        "    print(\"Following matrix shows the shortest distances between every pair of vertices\")\n",
        "    for i in range(V):\n",
        "        for j in range(V):\n",
        "            if(dist[i][j] == INF):\n",
        "                print(\"%7s\" % (\"INF\"), end=\"\")\n",
        "            else:\n",
        "                print(\"%7d\\t\" % (dist[i][j]), end=\"\")\n",
        "            if j == V-1:\n",
        "                print(\"\")\n",
        " \n",
        "def printPaths(paths):\n",
        "    print(paths)  # TODO make it pretty\n",
        "    # for row in paths:\n",
        "    #     print(row)\n",
        "# Driver program to test the above program\n",
        "# Let us create the following weighted graph\n",
        "\"\"\"\n",
        "            10\n",
        "       (0)------->(3)\n",
        "        |         /|\\\n",
        "      5 |          |\n",
        "        |          | 1\n",
        "       \\|/         |\n",
        "       (1)------->(2)\n",
        "            3           \"\"\"\n",
        "graph = [[0, 5, INF, 10],\n",
        "         [INF, 0, 3, INF],\n",
        "         [INF, INF, 0,   1],\n",
        "         [INF, INF, INF, 0]\n",
        "         ]\n",
        "# Print the solution\n",
        "floydWarshall(graph)\n",
        "# This code is contributed by Mythri J L with adjustments by VS"
      ]
    },
    {
      "cell_type": "code",
      "source": [
        "floydWarshall(graph, verbose=True)"
      ],
      "metadata": {
        "id": "myEKHmZ6DQ5_",
        "outputId": "d2f6d3ad-83be-4872-c310-a162d9a36c1b",
        "colab": {
          "base_uri": "https://localhost:8080/"
        }
      },
      "execution_count": null,
      "outputs": [
        {
          "output_type": "stream",
          "name": "stdout",
          "text": [
            "Starting state\n",
            "[0, 5, 8, 9]\n",
            "[9223372036854775807, 0, 3, 4]\n",
            "[9223372036854775807, 9223372036854775807, 0, 1]\n",
            "[9223372036854775807, 9223372036854775807, 9223372036854775807, 0]\n",
            "Following matrix shows the shortest distances between every pair of vertices\n",
            "      0\t      5\t      8\t      9\t\n",
            "    INF      0\t      3\t      4\t\n",
            "    INF    INF      0\t      1\t\n",
            "    INF    INF    INF      0\t\n"
          ]
        }
      ]
    },
    {
      "cell_type": "code",
      "execution_count": null,
      "metadata": {
        "id": "XeGQRsPyBtfi",
        "outputId": "8bbc2879-e80a-46e8-ae15-592889fe1bf2",
        "colab": {
          "base_uri": "https://localhost:8080/"
        }
      },
      "outputs": [
        {
          "output_type": "stream",
          "name": "stdout",
          "text": [
            "Following matrix shows the shortest distances between every pair of vertices\n",
            "      0\t      2\t      5\t\n",
            "      2\t      0\t      7\t\n",
            "     -1\t     -3\t      0\t\n"
          ]
        }
      ],
      "source": [
        "V=3\n",
        "G = [[0, 4, 5],\n",
        "    [2, 0, INF],\n",
        "    [INF, -3, 0]]\n",
        "floydWarshall(G)"
      ]
    },
    {
      "cell_type": "code",
      "execution_count": null,
      "metadata": {
        "id": "6vUvzQ85Btfj",
        "outputId": "f9f02aec-7c37-467b-fa75-9f9eb693e32e",
        "colab": {
          "base_uri": "https://localhost:8080/"
        }
      },
      "outputs": [
        {
          "output_type": "stream",
          "name": "stdout",
          "text": [
            "Following matrix shows the shortest distances between every pair of vertices\n",
            "      0\t    INF      4\t    INF      3\t    INF     18\t     12\t\n",
            "      2\t      0\t      6\t    INF      5\t    INF      9\t     14\t\n",
            "    INF    INF      0\t    INF    INF    INF    INF    INF\n",
            "      7\t      5\t     11\t      0\t     10\t    INF      8\t      2\t\n",
            "    INF    INF      1\t    INF      0\t    INF     15\t      9\t\n",
            "     10\t      8\t     14\t    INF     13\t      0\t     17\t     22\t\n",
            "    INF    INF      7\t    INF      6\t    INF      0\t     15\t\n",
            "    INF    INF     13\t    INF     12\t    INF      6\t      0\t\n"
          ]
        }
      ],
      "source": [
        "V = 8\n",
        "# and we need our adjanency matrix\n",
        "G = [\n",
        "    [0, INF, 7, INF, 3, INF, INF, INF],\n",
        "    [2, 0, INF, INF, INF, INF, 9, INF],\n",
        "    [INF, INF, 0, INF, INF, INF, INF, INF],\n",
        "    [INF, 5, INF, 0, INF, INF, INF, 2],\n",
        "    [INF, INF, 1, INF, 0, INF, INF, 9],\n",
        "    [INF, 8, INF, INF, INF, 0, INF, INF],\n",
        "    [INF, INF, INF, INF, 6, INF, 0, INF],\n",
        "    [INF, INF, INF, INF, INF, INF, 6, 0] \n",
        "    ]\n",
        "floydWarshall(G)"
      ]
    }
  ],
  "metadata": {
    "kernelspec": {
      "display_name": "Python 3",
      "language": "python",
      "name": "python3"
    },
    "language_info": {
      "codemirror_mode": {
        "name": "ipython",
        "version": 3
      },
      "file_extension": ".py",
      "mimetype": "text/x-python",
      "name": "python",
      "nbconvert_exporter": "python",
      "pygments_lexer": "ipython3",
      "version": "3.8.3"
    },
    "colab": {
      "name": "AllPairsShortestPath-Floyd_Warshall.ipynb",
      "provenance": []
    }
  },
  "nbformat": 4,
  "nbformat_minor": 0
}