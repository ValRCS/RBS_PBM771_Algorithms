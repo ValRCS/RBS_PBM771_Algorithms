{
 "cells": [
  {
   "cell_type": "markdown",
   "id": "af9f62df",
   "metadata": {},
   "source": [
    "\n",
    "# 🧩 Divide and Conquer Without Recursion\n",
    "\n",
    "This notebook demonstrates how to implement **Divide and Conquer algorithms** even when recursion is not allowed — by simulating recursion manually or using bottom-up iteration.\n"
   ]
  },
  {
   "cell_type": "markdown",
   "id": "6ba418f6",
   "metadata": {},
   "source": [
    "## ⚙️ 1. Merge Sort — Recursive Version"
   ]
  },
  {
   "cell_type": "code",
   "execution_count": null,
   "id": "007245c1",
   "metadata": {},
   "outputs": [],
   "source": [
    "\n",
    "def merge_sort_recursive(arr):\n",
    "    if len(arr) <= 1:\n",
    "        return arr\n",
    "    mid = len(arr)//2\n",
    "    left = merge_sort_recursive(arr[:mid])\n",
    "    right = merge_sort_recursive(arr[mid:])\n",
    "    return merge(left, right)\n",
    "\n",
    "def merge(left, right):\n",
    "    result = []\n",
    "    i = j = 0\n",
    "    while i < len(left) and j < len(right):\n",
    "        if left[i] < right[j]:\n",
    "            result.append(left[i]); i += 1\n",
    "        else:\n",
    "            result.append(right[j]); j += 1\n",
    "    result += left[i:] + right[j:]\n",
    "    return result\n",
    "\n",
    "arr = [8, 3, 5, 2, 9, 1]\n",
    "print(f\"Original: {arr}\")\n",
    "print(f\"Sorted (recursive): {merge_sort_recursive(arr)}\")\n"
   ]
  },
  {
   "cell_type": "markdown",
   "id": "573a94bf",
   "metadata": {},
   "source": [
    "## ⚙️ 2. Merge Sort — Iterative (Bottom-Up) Version"
   ]
  },
  {
   "cell_type": "code",
   "execution_count": null,
   "id": "f95934f3",
   "metadata": {},
   "outputs": [],
   "source": [
    "\n",
    "def merge_sort_iterative(arr):\n",
    "    width = 1\n",
    "    n = len(arr)\n",
    "    while width < n:\n",
    "        for i in range(0, n, 2*width):\n",
    "            left = arr[i:i+width]\n",
    "            right = arr[i+width:i+2*width]\n",
    "            arr[i:i+2*width] = merge(left, right)\n",
    "        width *= 2\n",
    "    return arr\n",
    "\n",
    "arr = [8, 3, 5, 2, 9, 1]\n",
    "print(f\"Original: {arr}\")\n",
    "print(f\"Sorted (iterative): {merge_sort_iterative(arr)}\")\n"
   ]
  },
  {
   "cell_type": "markdown",
   "id": "e42ce2b6",
   "metadata": {},
   "source": [
    "## ⚙️ 3. Quicksort — Iterative Version Using Stack"
   ]
  },
  {
   "cell_type": "code",
   "execution_count": null,
   "id": "8fca3838",
   "metadata": {},
   "outputs": [],
   "source": [
    "\n",
    "def partition(arr, low, high):\n",
    "    pivot = arr[high]\n",
    "    i = low - 1\n",
    "    for j in range(low, high):\n",
    "        if arr[j] <= pivot:\n",
    "            i += 1\n",
    "            arr[i], arr[j] = arr[j], arr[i]\n",
    "    arr[i + 1], arr[high] = arr[high], arr[i + 1]\n",
    "    return i + 1\n",
    "\n",
    "def quicksort_iterative(arr):\n",
    "    stack = [(0, len(arr)-1)]\n",
    "    while stack:\n",
    "        low, high = stack.pop()\n",
    "        if low < high:\n",
    "            p = partition(arr, low, high)\n",
    "            stack.append((low, p-1))\n",
    "            stack.append((p+1, high))\n",
    "    return arr\n",
    "\n",
    "arr = [10, 7, 8, 9, 1, 5]\n",
    "print(f\"Original: {arr}\")\n",
    "print(f\"Sorted (iterative quicksort): {quicksort_iterative(arr)}\")\n"
   ]
  },
  {
   "cell_type": "markdown",
   "id": "5b85da42",
   "metadata": {},
   "source": [
    "## 🧮 4. Timing Comparison"
   ]
  },
  {
   "cell_type": "code",
   "execution_count": null,
   "id": "21e8235f",
   "metadata": {},
   "outputs": [],
   "source": [
    "\n",
    "import timeit, random\n",
    "\n",
    "data = [random.randint(0, 100000) for _ in range(2000)]\n",
    "\n",
    "recursive_time = timeit.timeit(lambda: merge_sort_recursive(data.copy()), number=10)\n",
    "iterative_time = timeit.timeit(lambda: merge_sort_iterative(data.copy()), number=10)\n",
    "\n",
    "print(f\"Recursive Merge Sort time: {recursive_time:.4f} s\")\n",
    "print(f\"Iterative Merge Sort time: {iterative_time:.4f} s\")\n"
   ]
  },
  {
   "cell_type": "markdown",
   "id": "b0416dd5",
   "metadata": {},
   "source": [
    "## 📊 5. Visual Comparison"
   ]
  },
  {
   "cell_type": "code",
   "execution_count": null,
   "id": "2986f09d",
   "metadata": {},
   "outputs": [],
   "source": [
    "\n",
    "import matplotlib.pyplot as plt\n",
    "\n",
    "sizes = [100, 200, 400, 800, 1600, 3200]\n",
    "recursive_times = []\n",
    "iterative_times = []\n",
    "\n",
    "for n in sizes:\n",
    "    data = [random.randint(0, 100000) for _ in range(n)]\n",
    "    recursive_times.append(timeit.timeit(lambda: merge_sort_recursive(data.copy()), number=5))\n",
    "    iterative_times.append(timeit.timeit(lambda: merge_sort_iterative(data.copy()), number=5))\n",
    "\n",
    "plt.plot(sizes, recursive_times, label='Recursive', marker='o')\n",
    "plt.plot(sizes, iterative_times, label='Iterative', marker='s')\n",
    "plt.xlabel('Input Size (n)')\n",
    "plt.ylabel('Time (seconds)')\n",
    "plt.title('Recursive vs Iterative Merge Sort')\n",
    "plt.legend()\n",
    "plt.grid(True)\n",
    "plt.show()\n"
   ]
  },
  {
   "cell_type": "markdown",
   "id": "d3a8b133",
   "metadata": {},
   "source": [
    "\n",
    "## 🧾 6. Summary\n",
    "\n",
    "| Implementation | Recursion | State Tracking | Typical Use | Notes |\n",
    "|----------------|------------|----------------|--------------|--------|\n",
    "| Recursive D&C | ✅ | Implicit via call stack | Conceptual clarity | Elegant but limited by recursion depth |\n",
    "| Iterative D&C | ❌ | Explicit via loops/stacks | Production systems | Often faster and safer for large inputs |\n",
    "\n",
    "**Key Takeaway:**  \n",
    "> Divide and Conquer is not tied to recursion — recursion is simply a *language-level convenience*.  \n",
    "> Any recursive algorithm can be implemented iteratively by managing the call stack yourself.\n"
   ]
  }
 ],
 "metadata": {},
 "nbformat": 4,
 "nbformat_minor": 5
}
