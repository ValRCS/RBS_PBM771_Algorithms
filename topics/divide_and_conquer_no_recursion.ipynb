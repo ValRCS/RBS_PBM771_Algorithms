{
  "cells": [
    {
      "cell_type": "markdown",
      "id": "af9f62df",
      "metadata": {
        "id": "af9f62df"
      },
      "source": [
        "\n",
        "# 🧩 Divide and Conquer Without Recursion\n",
        "\n",
        "This notebook demonstrates how to implement **Divide and Conquer algorithms** even when recursion is not allowed — by simulating recursion manually or using bottom-up iteration.\n"
      ]
    },
    {
      "cell_type": "markdown",
      "id": "6ba418f6",
      "metadata": {
        "id": "6ba418f6"
      },
      "source": [
        "## ⚙️ 1. Merge Sort — Recursive Version"
      ]
    },
    {
      "cell_type": "code",
      "execution_count": 1,
      "id": "007245c1",
      "metadata": {
        "id": "007245c1",
        "outputId": "82de9c94-bd28-4e7a-f72b-4dce0b3e3c0e",
        "colab": {
          "base_uri": "https://localhost:8080/"
        }
      },
      "outputs": [
        {
          "output_type": "stream",
          "name": "stdout",
          "text": [
            "Original: [8, 3, 5, 2, 9, 1]\n",
            "Sorted (recursive): [1, 2, 3, 5, 8, 9]\n"
          ]
        }
      ],
      "source": [
        "\n",
        "def merge_sort_recursive(arr):\n",
        "    if len(arr) <= 1:\n",
        "        return arr\n",
        "    mid = len(arr)//2\n",
        "    left = merge_sort_recursive(arr[:mid])\n",
        "    right = merge_sort_recursive(arr[mid:])\n",
        "    return merge(left, right)\n",
        "\n",
        "def merge(left, right):\n",
        "    result = [] # this should guarantee OUT OF PLACE - why?\n",
        "    i = j = 0\n",
        "    while i < len(left) and j < len(right):\n",
        "        if left[i] < right[j]:\n",
        "            result.append(left[i]); i += 1\n",
        "        else:\n",
        "            result.append(right[j]); j += 1\n",
        "    result += left[i:] + right[j:]\n",
        "    return result\n",
        "\n",
        "arr = [8, 3, 5, 2, 9, 1]\n",
        "print(f\"Original: {arr}\")\n",
        "print(f\"Sorted (recursive): {merge_sort_recursive(arr)}\")\n"
      ]
    },
    {
      "cell_type": "markdown",
      "id": "573a94bf",
      "metadata": {
        "id": "573a94bf"
      },
      "source": [
        "## ⚙️ 2. Merge Sort — Iterative (Bottom-Up) Version"
      ]
    },
    {
      "cell_type": "code",
      "execution_count": 8,
      "id": "f95934f3",
      "metadata": {
        "id": "f95934f3",
        "outputId": "53ab13d0-9a8b-4407-9a4e-c46636156571",
        "colab": {
          "base_uri": "https://localhost:8080/"
        }
      },
      "outputs": [
        {
          "output_type": "stream",
          "name": "stdout",
          "text": [
            "Original: [8, 3, 5, 2, 9, 1]\n",
            "Sorted (iterative): [1, 2, 3, 5, 8, 9]\n"
          ]
        }
      ],
      "source": [
        "# turns out iterative solution is not that much longer in case of merge sort\n",
        "def merge_sort_iterative(arr):\n",
        "    arr = arr.copy() # this is O(n) and now we have a copy\n",
        "    width = 1\n",
        "    n = len(arr)\n",
        "    while width < n:\n",
        "        for i in range(0, n, 2*width): # should be O(n)\n",
        "            left = arr[i:i+width]\n",
        "            right = arr[i+width:i+2*width]\n",
        "            arr[i:i+2*width] = merge(left, right)\n",
        "        width *= 2 # so we keep doubling the width thus our outer loop will be O(log n)\n",
        "    return arr\n",
        "\n",
        "arr = [8, 3, 5, 2, 9, 1]\n",
        "print(f\"Original: {arr}\")\n",
        "print(f\"Sorted (iterative): {merge_sort_iterative(arr)}\")\n"
      ]
    },
    {
      "cell_type": "code",
      "source": [
        "# let's generate some random numbers for 1000, 10k, 100k, and 1M using seed 2025\n",
        "from random import randint, seed\n",
        "# seed\n",
        "seed(2025)\n",
        "# generate random numbers\n",
        "random_1k = [randint(0, 100_000_000) for _ in range(1000)]\n",
        "random_10k = [randint(0, 100_000_000) for _ in range(10_000)]\n",
        "random_100k = [randint(0, 100_000_000) for _ in range(100_000)]\n",
        "random_1M = [randint(0, 100_000_000) for _ in range(1_000_000)]\n",
        "# print first 10 numbers of 1k\n",
        "print(f\"1k: {random_1k[:10]}\")\n",
        "#\n"
      ],
      "metadata": {
        "id": "9x5Q_t-Az7t3",
        "outputId": "6b9c9fbc-b3ef-47bd-9e83-fbb2b1e65dcd",
        "colab": {
          "base_uri": "https://localhost:8080/"
        }
      },
      "id": "9x5Q_t-Az7t3",
      "execution_count": 9,
      "outputs": [
        {
          "output_type": "stream",
          "name": "stdout",
          "text": [
            "1k: [74860229, 11100100, 86683836, 64103220, 23257880, 71039933, 60049, 49829715, 50419218, 76465021]\n"
          ]
        }
      ]
    },
    {
      "cell_type": "code",
      "source": [
        "# so let's time 1k on recursive merge sort\n",
        "%%timeit\n",
        "merge_sort_recursive(random_1k)"
      ],
      "metadata": {
        "id": "j6sCXH1p0nKR",
        "outputId": "92d8f92a-b15f-4624-ea98-7fd34d90b33c",
        "colab": {
          "base_uri": "https://localhost:8080/"
        }
      },
      "id": "j6sCXH1p0nKR",
      "execution_count": 4,
      "outputs": [
        {
          "output_type": "stream",
          "name": "stdout",
          "text": [
            "2.09 ms ± 339 µs per loop (mean ± std. dev. of 7 runs, 1000 loops each)\n"
          ]
        }
      ]
    },
    {
      "cell_type": "code",
      "source": [
        "# double check that 1k is still unsorted\n",
        "print(f\"1k: {random_1k[:10]}\")"
      ],
      "metadata": {
        "id": "uRcNOee10zKS",
        "outputId": "208ebb8e-f66b-44a0-e455-495cb9a445e7",
        "colab": {
          "base_uri": "https://localhost:8080/"
        }
      },
      "id": "uRcNOee10zKS",
      "execution_count": 5,
      "outputs": [
        {
          "output_type": "stream",
          "name": "stdout",
          "text": [
            "1k: [74860229, 11100100, 86683836, 64103220, 23257880, 71039933, 60049, 49829715, 50419218, 76465021]\n"
          ]
        }
      ]
    },
    {
      "cell_type": "code",
      "source": [
        "# now let's time our iterative solution\n",
        "%%timeit\n",
        "merge_sort_iterative(random_1k)"
      ],
      "metadata": {
        "id": "4g2k-Gx002ee",
        "outputId": "ee1b1566-7bb8-4587-e6ab-ba881cb95cfc",
        "colab": {
          "base_uri": "https://localhost:8080/"
        }
      },
      "id": "4g2k-Gx002ee",
      "execution_count": 10,
      "outputs": [
        {
          "output_type": "stream",
          "name": "stdout",
          "text": [
            "2.19 ms ± 372 µs per loop (mean ± std. dev. of 7 runs, 1000 loops each)\n"
          ]
        }
      ]
    },
    {
      "cell_type": "code",
      "source": [
        "# check again that 1k is unsorted\n",
        "print(f\"1k: {random_1k[:10]}\")"
      ],
      "metadata": {
        "id": "Rc3mKn4r1B7h",
        "outputId": "aead8291-526a-48fc-fd23-dc258c7ee393",
        "colab": {
          "base_uri": "https://localhost:8080/"
        }
      },
      "id": "Rc3mKn4r1B7h",
      "execution_count": 11,
      "outputs": [
        {
          "output_type": "stream",
          "name": "stdout",
          "text": [
            "1k: [74860229, 11100100, 86683836, 64103220, 23257880, 71039933, 60049, 49829715, 50419218, 76465021]\n"
          ]
        }
      ]
    },
    {
      "cell_type": "code",
      "source": [
        "# let's check 100k now\n",
        "%%timeit\n",
        "merge_sort_recursive(random_100k)"
      ],
      "metadata": {
        "id": "jQVppRuv1qgu",
        "outputId": "678a67ad-71a0-4f7f-fd69-5a14bf61c9ba",
        "colab": {
          "base_uri": "https://localhost:8080/"
        }
      },
      "id": "jQVppRuv1qgu",
      "execution_count": 12,
      "outputs": [
        {
          "output_type": "stream",
          "name": "stdout",
          "text": [
            "356 ms ± 10.9 ms per loop (mean ± std. dev. of 7 runs, 1 loop each)\n"
          ]
        }
      ]
    },
    {
      "cell_type": "code",
      "source": [
        "# now iterative\n",
        "%%timeit\n",
        "merge_sort_iterative(random_100k)"
      ],
      "metadata": {
        "id": "BLkOyrw714ev",
        "outputId": "3d87b748-434b-433b-e925-3e6e083f55a2",
        "colab": {
          "base_uri": "https://localhost:8080/"
        }
      },
      "id": "BLkOyrw714ev",
      "execution_count": 13,
      "outputs": [
        {
          "output_type": "stream",
          "name": "stdout",
          "text": [
            "389 ms ± 11.3 ms per loop (mean ± std. dev. of 7 runs, 1 loop each)\n"
          ]
        }
      ]
    },
    {
      "cell_type": "markdown",
      "id": "e42ce2b6",
      "metadata": {
        "id": "e42ce2b6"
      },
      "source": [
        "## ⚙️ 3. Quicksort — Iterative Version Using Stack"
      ]
    },
    {
      "cell_type": "code",
      "execution_count": 14,
      "id": "8fca3838",
      "metadata": {
        "id": "8fca3838",
        "outputId": "04b2b8c3-d5c5-4b6f-8826-f019dad04184",
        "colab": {
          "base_uri": "https://localhost:8080/"
        }
      },
      "outputs": [
        {
          "output_type": "stream",
          "name": "stdout",
          "text": [
            "Original: [10, 7, 8, 9, 1, 5]\n",
            "Sorted (iterative quicksort): [1, 5, 7, 8, 9, 10]\n"
          ]
        }
      ],
      "source": [
        "\n",
        "def partition(arr, low, high):\n",
        "    pivot = arr[high]\n",
        "    i = low - 1\n",
        "    for j in range(low, high):\n",
        "        if arr[j] <= pivot:\n",
        "            i += 1\n",
        "            arr[i], arr[j] = arr[j], arr[i]\n",
        "    arr[i + 1], arr[high] = arr[high], arr[i + 1]\n",
        "    return i + 1\n",
        "\n",
        "def quicksort_iterative(arr):\n",
        "    stack = [(0, len(arr)-1)]\n",
        "    while stack:\n",
        "        low, high = stack.pop()\n",
        "        if low < high:\n",
        "            p = partition(arr, low, high)\n",
        "            stack.append((low, p-1))\n",
        "            stack.append((p+1, high))\n",
        "    return arr\n",
        "\n",
        "arr = [10, 7, 8, 9, 1, 5]\n",
        "print(f\"Original: {arr}\")\n",
        "print(f\"Sorted (iterative quicksort): {quicksort_iterative(arr)}\")\n"
      ]
    },
    {
      "cell_type": "markdown",
      "id": "5b85da42",
      "metadata": {
        "id": "5b85da42"
      },
      "source": [
        "## 🧮 4. Timing Comparison"
      ]
    },
    {
      "cell_type": "code",
      "execution_count": 15,
      "id": "21e8235f",
      "metadata": {
        "id": "21e8235f",
        "outputId": "46fe656f-114f-48c7-cf44-5edbcf85a102",
        "colab": {
          "base_uri": "https://localhost:8080/"
        }
      },
      "outputs": [
        {
          "output_type": "stream",
          "name": "stdout",
          "text": [
            "Recursive Merge Sort time: 0.0518 s\n",
            "Iterative Merge Sort time: 0.0426 s\n"
          ]
        }
      ],
      "source": [
        "\n",
        "import timeit, random\n",
        "\n",
        "data = [random.randint(0, 100000) for _ in range(2000)]\n",
        "\n",
        "recursive_time = timeit.timeit(lambda: merge_sort_recursive(data.copy()), number=10)\n",
        "iterative_time = timeit.timeit(lambda: merge_sort_iterative(data.copy()), number=10)\n",
        "\n",
        "print(f\"Recursive Merge Sort time: {recursive_time:.4f} s\")\n",
        "print(f\"Iterative Merge Sort time: {iterative_time:.4f} s\")\n"
      ]
    },
    {
      "cell_type": "markdown",
      "id": "b0416dd5",
      "metadata": {
        "id": "b0416dd5"
      },
      "source": [
        "## 📊 5. Visual Comparison"
      ]
    },
    {
      "cell_type": "code",
      "execution_count": 18,
      "id": "2986f09d",
      "metadata": {
        "id": "2986f09d",
        "outputId": "42e1c836-f5f8-456c-c8ce-8d2d9e1ababe",
        "colab": {
          "base_uri": "https://localhost:8080/",
          "height": 472
        }
      },
      "outputs": [
        {
          "output_type": "display_data",
          "data": {
            "text/plain": [
              "<Figure size 640x480 with 1 Axes>"
            ],
            "image/png": "[encoded data removed]"
          },
          "metadata": {}
        }
      ],
      "source": [
        "\n",
        "import matplotlib.pyplot as plt\n",
        "\n",
        "sizes = [100, 200, 400, 800, 1600, 3200, 6400, 128000]\n",
        "recursive_times = []\n",
        "iterative_times = []\n",
        "\n",
        "for n in sizes:\n",
        "    data = [random.randint(0, 100_000_000) for _ in range(n)]\n",
        "    recursive_times.append(timeit.timeit(lambda: merge_sort_recursive(data.copy()), number=5))\n",
        "    iterative_times.append(timeit.timeit(lambda: merge_sort_iterative(data.copy()), number=5))\n",
        "\n",
        "plt.plot(sizes, recursive_times, label='Recursive', marker='o')\n",
        "plt.plot(sizes, iterative_times, label='Iterative', marker='s')\n",
        "plt.xlabel('Input Size (n)')\n",
        "plt.ylabel('Time (seconds)')\n",
        "plt.title('Recursive vs Iterative Merge Sort')\n",
        "plt.legend()\n",
        "plt.grid(True)\n",
        "plt.show()\n"
      ]
    },
    {
      "cell_type": "markdown",
      "id": "d3a8b133",
      "metadata": {
        "id": "d3a8b133"
      },
      "source": [
        "\n",
        "## 🧾 6. Summary\n",
        "\n",
        "| Implementation | Recursion | State Tracking | Typical Use | Notes |\n",
        "|----------------|------------|----------------|--------------|--------|\n",
        "| Recursive D&C | ✅ | Implicit via call stack | Conceptual clarity | Elegant but limited by recursion depth |\n",
        "| Iterative D&C | ❌ | Explicit via loops/stacks | Production systems | Often faster and safer for large inputs |\n",
        "\n",
        "**Key Takeaway:**  \n",
        "> Divide and Conquer is not tied to recursion — recursion is simply a *language-level convenience*.  \n",
        "> Any recursive algorithm can be implemented iteratively by managing the call stack yourself.\n"
      ]
    }
  ],
  "metadata": {
    "colab": {
      "provenance": []
    },
    "language_info": {
      "name": "python"
    },
    "kernelspec": {
      "name": "python3",
      "display_name": "Python 3"
    }
  },
  "nbformat": 4,
  "nbformat_minor": 5
}