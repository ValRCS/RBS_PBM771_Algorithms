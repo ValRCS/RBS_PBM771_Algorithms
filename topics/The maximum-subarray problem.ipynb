{
 "cells": [
  {
   "cell_type": "code",
   "execution_count": 1,
   "metadata": {},
   "outputs": [],
   "source": [
    "#The maximum-subarray problem"
   ]
  },
  {
   "cell_type": "markdown",
   "metadata": {},
   "source": [
    "Suppose that you been offered the opportunity to invest in the Tesla Corporatioon. Tesla stock is rather volatile. You are allowed to buy one unit\n",
    "of stock only one time and then sell it at a later date, buying and selling after the\n",
    "close of trading for the day. To compensate for this restriction, you are allowed to\n",
    "learn what the price of the stock will be in the future. Your goal is to maximize\n",
    "your profit. "
   ]
  },
  {
   "cell_type": "code",
   "execution_count": 2,
   "metadata": {},
   "outputs": [],
   "source": [
    "import random\n",
    "from matplotlib import pyplot as plt"
   ]
  },
  {
   "cell_type": "code",
   "execution_count": 5,
   "metadata": {},
   "outputs": [],
   "source": [
    "# https://www.google.com/search?q=tesla+stock+price7\n",
    "#lets make it even more volatile\n",
    "random.seed(42) # so we always get the same pseudo-random numbers\n",
    "tesla = [random.randint(70,900) for _ in range(52)]"
   ]
  },
  {
   "cell_type": "code",
   "execution_count": 6,
   "metadata": {},
   "outputs": [
    {
     "data": {
      "text/plain": [
       "[724, 184, 95, 829, 351]"
      ]
     },
     "execution_count": 6,
     "metadata": {},
     "output_type": "execute_result"
    }
   ],
   "source": [
    "tesla[:5]"
   ]
  },
  {
   "cell_type": "code",
   "execution_count": 7,
   "metadata": {},
   "outputs": [
    {
     "data": {
      "text/plain": [
       "(898, 76)"
      ]
     },
     "execution_count": 7,
     "metadata": {},
     "output_type": "execute_result"
    }
   ],
   "source": [
    "# this might not necessarily work\n",
    "max(tesla), min(tesla)"
   ]
  },
  {
   "cell_type": "code",
   "execution_count": 8,
   "metadata": {},
   "outputs": [
    {
     "data": {
      "text/plain": [
       "822"
      ]
     },
     "execution_count": 8,
     "metadata": {},
     "output_type": "execute_result"
    }
   ],
   "source": [
    "max(tesla)-min(tesla)"
   ]
  },
  {
   "cell_type": "code",
   "execution_count": 8,
   "metadata": {},
   "outputs": [],
   "source": [
    "# why wouldn't this necessarily work?"
   ]
  },
  {
   "cell_type": "code",
   "execution_count": 9,
   "metadata": {},
   "outputs": [
    {
     "data": {
      "text/plain": [
       "[<matplotlib.lines.Line2D at 0x26d6e629700>]"
      ]
     },
     "execution_count": 9,
     "metadata": {},
     "output_type": "execute_result"
    },
    {
     "data": {
      "image/png": "[encoded data removed]",
      "text/plain": [
       "<Figure size 432x288 with 1 Axes>"
      ]
     },
     "metadata": {
      "needs_background": "light"
     },
     "output_type": "display_data"
    }
   ],
   "source": [
    "plt.plot(tesla)"
   ]
  },
  {
   "cell_type": "code",
   "execution_count": 10,
   "metadata": {},
   "outputs": [
    {
     "data": {
      "text/plain": [
       "35"
      ]
     },
     "execution_count": 10,
     "metadata": {},
     "output_type": "execute_result"
    }
   ],
   "source": [
    "tesla.index(max(tesla))"
   ]
  },
  {
   "cell_type": "code",
   "execution_count": 11,
   "metadata": {},
   "outputs": [
    {
     "data": {
      "text/plain": [
       "36"
      ]
     },
     "execution_count": 11,
     "metadata": {},
     "output_type": "execute_result"
    }
   ],
   "source": [
    "tesla.index(min(tesla))"
   ]
  },
  {
   "cell_type": "code",
   "execution_count": null,
   "metadata": {},
   "outputs": [],
   "source": [
    "# so max(tesla) could happen before min(tesla)"
   ]
  },
  {
   "cell_type": "code",
   "execution_count": null,
   "metadata": {},
   "outputs": [],
   "source": [
    "# so lets code a brute force solution\n",
    "# When in Doubt use Brute Force - meaning some simple solution\n",
    "# https://en.wikiquote.org/wiki/Ken_Thompson"
   ]
  },
  {
   "cell_type": "code",
   "execution_count": 12,
   "metadata": {},
   "outputs": [
    {
     "name": "stdout",
     "output_type": "stream",
     "text": [
      "New winner! 829 - 724 = 105\n",
      "New winner! 898 - 724 = 174\n",
      "New winner! 829 - 184 = 645\n",
      "New winner! 898 - 184 = 714\n",
      "New winner! 829 - 95 = 734\n",
      "New winner! 898 - 95 = 803\n",
      "New winner! 895 - 76 = 819\n",
      "819\n"
     ]
    }
   ],
   "source": [
    "gain = 0 # could have used None perhaps maybe we have a case where the stock is falling all the time...\n",
    "for i, p in enumerate(tesla):\n",
    "    for p0 in tesla[i+1:]: # we do not want to check prices to the left \n",
    "        if p0 - p > gain:\n",
    "            gain = p0 - p # we assume - will be constant operation \n",
    "            print(f\"New winner! {p0} - {p} = {gain}\") # also our print will be constant time operation\n",
    "print(gain)"
   ]
  },
  {
   "cell_type": "code",
   "execution_count": null,
   "metadata": {},
   "outputs": [],
   "source": [
    "# so have sort n(n-1) which is still O(n^2) complexity"
   ]
  },
  {
   "cell_type": "code",
   "execution_count": null,
   "metadata": {},
   "outputs": [],
   "source": [
    "# so classical Divide and Conquer algorithm idea\n",
    "# divide in halfs \n",
    "# solve each half recursively\n",
    "# we have base case\n",
    "# merge the cases back\n",
    "\n",
    "# so we could expect to get O(n log n) complexity here assuming we can code it right"
   ]
  },
  {
   "cell_type": "code",
   "execution_count": null,
   "metadata": {},
   "outputs": [],
   "source": [
    "# so here the issues how to divide in halfs, and what should merge operation look like\n",
    "# then we could make it recursive"
   ]
  },
  {
   "cell_type": "code",
   "execution_count": null,
   "metadata": {},
   "outputs": [],
   "source": [
    "def get_best_gain(prices):\n",
    "    # so base case\n",
    "    if len(prices <= 2): # we would also need to catch special case 1\n",
    "        return max(prices),min(prices), prices[1]-prices[0]  # because we only want the second day minus first day"
   ]
  },
  {
   "cell_type": "markdown",
   "metadata": {},
   "source": [
    "1\n",
    "if high == low\n",
    "2\n",
    "return .low; high; AŒlow�/\n",
    "// base case: only one element\n",
    "3\n",
    "else mid D b.low C high/=2c\n",
    "4\n",
    ".left-low; left-high; left-sum/ D\n",
    "FIND-MAXIMUM-SUBARRAY.A; low; mid/\n",
    "5\n",
    ".right-low; right-high; right-sum/ D\n",
    "FIND-MAXIMUM-SUBARRAY.A; mid C 1; high/\n",
    "6\n",
    ".cross-low; cross-high; cross-sum/ D\n",
    "FIND-MAX-CROSSING-SUBARRAY.A; low; mid; high/\n",
    "7\n",
    "if left-sum � right-sum and left-sum � cross-sum\n",
    "8\n",
    "return .left-low; left-high; left-sum/\n",
    "9\n",
    "elseif right-sum � left-sum and right-sum � cross-sum\n",
    "10\n",
    "return .right-low; right-high; right-sum/\n",
    "11\n",
    "else return .cross-low; cross-high; cross-sum/"
   ]
  },
  {
   "cell_type": "code",
   "execution_count": null,
   "metadata": {},
   "outputs": [],
   "source": [
    "def find_max_subarray(a, low, high):\n",
    "    if high == low:\n",
    "        return low, high, a[low]\n",
    "    else:\n",
    "        mid = int((low + high)/2)"
   ]
  },
  {
   "cell_type": "code",
   "execution_count": null,
   "metadata": {},
   "outputs": [],
   "source": [
    "# The question is can we beat n log n complexity here ?\n",
    "# answer here is yes, we can go down to linear complexity..\n"
   ]
  }
 ],
 "metadata": {
  "kernelspec": {
   "display_name": "Python 3",
   "language": "python",
   "name": "python3"
  },
  "language_info": {
   "codemirror_mode": {
    "name": "ipython",
    "version": 3
   },
   "file_extension": ".py",
   "mimetype": "text/x-python",
   "name": "python",
   "nbconvert_exporter": "python",
   "pygments_lexer": "ipython3",
   "version": "3.8.3"
  }
 },
 "nbformat": 4,
 "nbformat_minor": 4
}
