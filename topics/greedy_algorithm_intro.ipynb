{
  "cells": [
    {
      "cell_type": "markdown",
      "metadata": {
        "id": "l_KGeycUmBHd"
      },
      "source": [
        "# Introduction to Greedy Algorithms\n",
        "\n",
        "Adopted from: https://github.com/rasbt/algorithms_in_ipython_notebooks"
      ]
    },
    {
      "cell_type": "markdown",
      "metadata": {
        "id": "_5dWTC4JmBHg"
      },
      "source": [
        "![Burns](https://upload.wikimedia.org/wikipedia/en/5/56/Mr_Burns.png) | ![Gordon](https://upload.wikimedia.org/wikipedia/en/4/40/Gordon_Gekko.jpg)\n",
        "From: https://en.wikipedia.org/wiki/Wall_Street_(1987_film)"
      ]
    },
    {
      "cell_type": "markdown",
      "metadata": {
        "id": "RxwYEorPmBHh"
      },
      "source": [
        "The subfamily of *Greedy Algorithms* is one of the main paradigms of algorithmic problem solving next to *Dynamic Programming* and *Divide & Conquer Algorithms*. The main goal behind greedy algorithms is to implement an efficient procedure for often computationally more complex, often infeasible brute-force methods such as exhaustive search algorithms. \n",
        "\n",
        "The main outline of a greedy algorithms consists of 3 steps:\n",
        "\n",
        "- make a greedy choice\n",
        "- reduce the problem to a subproblem (a smaller problem of the similar type as the original one)\n",
        "- repeat\n",
        "\n",
        "So, greedy algorithms are essentially a problem solving heuristic, an iterative process of tackling a problem in multiple stages while making an locally optimal choice at each stage. In practice, and depending on the problem task, making this series of locally optimal (\"greedy\") choices must not necessarily lead to a globally optimal solution."
      ]
    },
    {
      "cell_type": "markdown",
      "metadata": {
        "id": "uSqHcSBSmBHi"
      },
      "source": [
        "![Greedy Mountain](https://upload.wikimedia.org/wikipedia/commons/8/8c/Greedy-search-path-example.gif)"
      ]
    },
    {
      "cell_type": "code",
      "execution_count": null,
      "metadata": {
        "id": "xkwNBvY0mBHi"
      },
      "outputs": [],
      "source": [
        ""
      ]
    },
    {
      "cell_type": "markdown",
      "metadata": {
        "id": "ESHTMJQWmBHj"
      },
      "source": [
        "## Example 1: Coin Changer\n",
        "\n",
        "To look at a first, naive example of a greedy algorithm, let's implement a simple coin changing machine. Given a money value in cents, we want to return the minimum possible number of coins, whereas the possible denominations are 1, 5, 10, and 20 cents."
      ]
    },
    {
      "cell_type": "markdown",
      "metadata": {
        "id": "KKswlw7jmBHj"
      },
      "source": [
        "![Coin](https://upload.wikimedia.org/wikipedia/commons/thumb/d/da/Greedy_algorithm_36_cents.svg/1200px-Greedy_algorithm_36_cents.svg.png)"
      ]
    },
    {
      "cell_type": "code",
      "execution_count": 1,
      "metadata": {
        "id": "XPefYmRpmBHk"
      },
      "outputs": [],
      "source": [
        "def coinchanger(cents, denominations=(1, 5, 10, 20, 50, 100, 500, 1000, 2000)):\n",
        "    coins = {d: 0 for d in denominations}  # create a dictionary of coins (hashmap) so we have O(1) access to coin counts\n",
        "    for c in sorted(coins.keys(), reverse=True):  # of course remember that sorting in general is n log n, here we are sorting denominations\n",
        "        coins[c] += cents // c # here is the greedy step we add as many of our highest coins at this moment\n",
        "        cents = cents % c # proceed to whatever is left\n",
        "        if not cents:\n",
        "            total_coins = sum([i for i in coins.values()])\n",
        "            return sorted(coins.items(), reverse=True), total_coins"
      ]
    },
    {
      "cell_type": "markdown",
      "metadata": {
        "id": "ZxCca-_7mBHk"
      },
      "source": [
        "The funtion above creates a dictionary, `coins`, which tracks the number of coins of each denomination to be returned. Then, we iterate though the denominations in descending order of their value. Now, in a \"greedy\" fashion, we count the highest possible number of coins from the largest denomination in the first step. We repeat this process until we reached the smallest denomination or the number of remaining `cents` reaches 0. "
      ]
    },
    {
      "cell_type": "code",
      "execution_count": 2,
      "metadata": {
        "id": "cZccYp7SmBHl",
        "outputId": "d1a4c8ad-5c78-4f4d-ca80-208d79dee9c4",
        "colab": {
          "base_uri": "https://localhost:8080/"
        }
      },
      "outputs": [
        {
          "output_type": "execute_result",
          "data": {
            "text/plain": [
              "([(2000, 0),\n",
              "  (1000, 0),\n",
              "  (500, 0),\n",
              "  (100, 1),\n",
              "  (50, 0),\n",
              "  (20, 0),\n",
              "  (10, 0),\n",
              "  (5, 0),\n",
              "  (1, 0)],\n",
              " 1)"
            ]
          },
          "metadata": {},
          "execution_count": 2
        }
      ],
      "source": [
        "coinchanger(cents=100)"
      ]
    },
    {
      "cell_type": "code",
      "execution_count": 3,
      "metadata": {
        "id": "DqqE71qUmBHm",
        "outputId": "39106f63-3e6c-4af3-a1a6-e36d230684b5",
        "colab": {
          "base_uri": "https://localhost:8080/"
        }
      },
      "outputs": [
        {
          "output_type": "execute_result",
          "data": {
            "text/plain": [
              "([(2000, 0),\n",
              "  (1000, 0),\n",
              "  (500, 0),\n",
              "  (100, 3),\n",
              "  (50, 1),\n",
              "  (20, 1),\n",
              "  (10, 0),\n",
              "  (5, 1),\n",
              "  (1, 1)],\n",
              " 7)"
            ]
          },
          "metadata": {},
          "execution_count": 3
        }
      ],
      "source": [
        "coinchanger(cents=376)  "
      ]
    },
    {
      "cell_type": "code",
      "execution_count": 4,
      "metadata": {
        "id": "GdpxLJlimBHn",
        "outputId": "34b1cab7-bfa3-4247-ccf0-3cd17e8bd748",
        "colab": {
          "base_uri": "https://localhost:8080/"
        }
      },
      "outputs": [
        {
          "output_type": "execute_result",
          "data": {
            "text/plain": [
              "([(2000, 2),\n",
              "  (1000, 0),\n",
              "  (500, 0),\n",
              "  (100, 3),\n",
              "  (50, 1),\n",
              "  (20, 0),\n",
              "  (10, 0),\n",
              "  (5, 1),\n",
              "  (1, 1)],\n",
              " 8)"
            ]
          },
          "metadata": {},
          "execution_count": 4
        }
      ],
      "source": [
        "coinchanger(cents=4356) # 43 euros and 56 cents"
      ]
    },
    {
      "cell_type": "code",
      "execution_count": 5,
      "metadata": {
        "id": "S7pw2xz-mBHn",
        "outputId": "3a43d521-d3bf-4f9c-c973-b44db1930fba",
        "colab": {
          "base_uri": "https://localhost:8080/"
        }
      },
      "outputs": [
        {
          "output_type": "execute_result",
          "data": {
            "text/plain": [
              "([(10, 1), (7, 0), (1, 5)], 6)"
            ]
          },
          "metadata": {},
          "execution_count": 5
        }
      ],
      "source": [
        "coinchanger(cents=15, denominations=(1,7,10)) # this is where greedy algorithm would fail"
      ]
    },
    {
      "cell_type": "code",
      "execution_count": null,
      "metadata": {
        "id": "h0pKmDW6mBHn",
        "outputId": "6fa5e467-f572-4bd7-fbd1-15a91d60e265",
        "colab": {
          "base_uri": "https://localhost:8080/"
        }
      },
      "outputs": [
        {
          "output_type": "execute_result",
          "data": {
            "text/plain": [
              "([(25, 1), (10, 2), (5, 0), (3, 0), (1, 2)], 5)"
            ]
          },
          "metadata": {},
          "execution_count": 6
        }
      ],
      "source": [
        "# soviet roubles\n",
        "coinchanger(cents=47, denominations=(1,3,5,10,25))"
      ]
    },
    {
      "cell_type": "code",
      "source": [
        "# fake roubles 1, 4, 5 # where our greedy algorithm would NOT give us optimal solution\n",
        "coinchanger(cents=8, denominations=(1,4,5))"
      ],
      "metadata": {
        "id": "dbejdC2l7Cis",
        "outputId": "68138d9a-7d7f-4ecb-ab5e-bae1ce9a6b12",
        "colab": {
          "base_uri": "https://localhost:8080/"
        }
      },
      "execution_count": 6,
      "outputs": [
        {
          "output_type": "execute_result",
          "data": {
            "text/plain": [
              "([(5, 1), (4, 0), (1, 3)], 4)"
            ]
          },
          "metadata": {},
          "execution_count": 6
        }
      ]
    },
    {
      "cell_type": "markdown",
      "metadata": {
        "id": "qCewzIuZmBHo"
      },
      "source": [
        "Calling out `coinchanger` function with 100 cents as input, it returns 5 coins a 20 cents, the smallest, possible number of coins that can be returned in this case. Below are some more examples: "
      ]
    },
    {
      "cell_type": "code",
      "execution_count": 7,
      "metadata": {
        "id": "3qmpDt2OmBHo",
        "outputId": "47b1f980-3b9a-4e21-9cef-dc28a53c0ab8",
        "colab": {
          "base_uri": "https://localhost:8080/"
        }
      },
      "outputs": [
        {
          "output_type": "execute_result",
          "data": {
            "text/plain": [
              "([(2000, 0),\n",
              "  (1000, 0),\n",
              "  (500, 0),\n",
              "  (100, 0),\n",
              "  (50, 0),\n",
              "  (20, 0),\n",
              "  (10, 0),\n",
              "  (5, 1),\n",
              "  (1, 0)],\n",
              " 1)"
            ]
          },
          "metadata": {},
          "execution_count": 7
        }
      ],
      "source": [
        "coinchanger(cents=5)"
      ]
    },
    {
      "cell_type": "code",
      "execution_count": 8,
      "metadata": {
        "id": "Sj7zBPA3mBHo",
        "outputId": "b9562fcb-3ac1-4c9e-9cb0-669e207ea2bd",
        "colab": {
          "base_uri": "https://localhost:8080/"
        }
      },
      "outputs": [
        {
          "output_type": "execute_result",
          "data": {
            "text/plain": [
              "([(2000, 0),\n",
              "  (1000, 0),\n",
              "  (500, 0),\n",
              "  (100, 0),\n",
              "  (50, 0),\n",
              "  (20, 0),\n",
              "  (10, 0),\n",
              "  (5, 0),\n",
              "  (1, 4)],\n",
              " 4)"
            ]
          },
          "metadata": {},
          "execution_count": 8
        }
      ],
      "source": [
        "coinchanger(cents=4)"
      ]
    },
    {
      "cell_type": "code",
      "execution_count": 9,
      "metadata": {
        "id": "v6UZhRG2mBHo",
        "outputId": "694de9a4-666d-4d04-9d84-a11b0a6e9a35",
        "colab": {
          "base_uri": "https://localhost:8080/"
        }
      },
      "outputs": [
        {
          "output_type": "execute_result",
          "data": {
            "text/plain": [
              "([(2000, 0),\n",
              "  (1000, 0),\n",
              "  (500, 0),\n",
              "  (100, 0),\n",
              "  (50, 0),\n",
              "  (20, 1),\n",
              "  (10, 0),\n",
              "  (5, 0),\n",
              "  (1, 3)],\n",
              " 4)"
            ]
          },
          "metadata": {},
          "execution_count": 9
        }
      ],
      "source": [
        "coinchanger(cents=23)"
      ]
    },
    {
      "cell_type": "markdown",
      "metadata": {
        "id": "eo30_pzAmBHp"
      },
      "source": [
        "## Example 2: Knapsack"
      ]
    },
    {
      "cell_type": "markdown",
      "metadata": {
        "id": "p57uDmSUmBHp"
      },
      "source": [
        "![Knap](https://upload.wikimedia.org/wikipedia/commons/thumb/f/fd/Knapsack.svg/500px-Knapsack.svg.png)"
      ]
    },
    {
      "cell_type": "markdown",
      "metadata": {
        "id": "vtMqMto1mBHp"
      },
      "source": [
        "Now, let us take a look at a classic, combinatorial optimization problem, the so-called \"knapsack\" problem. Here, we can think of a \"knapsack\" as a rucksack, and our goal is to fill it with items so that the rucksack's contents have the highest possible value. Of course, the knappsack has a certain weight capacity, and each item is associated with a certain value and a weight. In other words, we want to maximize the value of the knapsack subject to the constraint that we don't exceed its weight capacity.\n",
        "\n",
        "As trivial as it sounds, the knapsack problem is still one of the most popular algorithmic problems in the modern computer science area. There are numerous applications of knapsack problems, and to provide an intuitive real-world example: We could think of sports betting or daily fantasy soccer predictions as a knapsack problem, where we want to construct a squad of players with the highest possible points to salary ratio."
      ]
    },
    {
      "cell_type": "markdown",
      "metadata": {
        "id": "i-O2QrS9mBHp"
      },
      "source": [
        "### 0-1 Knapsack"
      ]
    },
    {
      "cell_type": "markdown",
      "metadata": {
        "id": "fLRf3-SxmBHp"
      },
      "source": [
        "Let's us take a look the probably simplest variation of the knapsack problem, the 0-1 knapsack, and tackle it using a \"greedy\" strategy. In the 0-1 knapsack, we have a given set of items, $i_1, i_2, ..., i_m$, that we can use to fill the knapsack. Again, the knapsack has a fixed capacity, and the items are associated with weights, $w_1, w_2, ..., w_m$, and values $v_1, v_2, ..., v_m$. While our goal is still to pack the knapsack with a combination of items so that it carries the highest possible value, the 0-1 knapsack variation comes with the constraint that we can only carry 1 copy of each item. Thus, the runtime complexity of this algorithm is $O(nW)$, where $n$ is the number of items in the list and $W$ is the maximum capacity of the knapsack.\n",
        "\n",
        "For example, if we are given 3 items with weights $[w_1: 20, w_2: 50, w_3: 30]$ and values\n",
        "$[v_1: 60, v_2: 100, v_3: 120]$, a knapsack with capacity 50 may carry to 1 copy of item 1 and 1 copy of item 3 to maximize its value (180) in contrast to just carrying 1 copy of item 2 (value: 100)."
      ]
    },
    {
      "cell_type": "markdown",
      "metadata": {
        "id": "-3qYA3bimBHq"
      },
      "source": [
        "Let's see how one \"greedy\" code implementation may look like:"
      ]
    },
    {
      "cell_type": "code",
      "execution_count": 10,
      "metadata": {
        "id": "k1U_FjbxmBHq"
      },
      "outputs": [],
      "source": [
        "def knapsack_01(capacity, weights, values, debug=False):\n",
        "    val_by_weight = [value / weight \n",
        "                     for value, weight in zip(values, weights)] # so we create the best bang for buck values\n",
        "    sort_idx = [i[0] for i in sorted(enumerate(val_by_weight), \n",
        "                                     key=lambda x:x[1], \n",
        "                                     reverse=True)]\n",
        "    knapsack = [0 for _ in values]  # initialize knapsack\n",
        "    total_weight, total_value = 0, 0\n",
        "\n",
        "    for i in sort_idx: # simply go through our best deals and add if any have room\n",
        "        if total_weight + weights[i] <= capacity:\n",
        "            knapsack[i] = 1\n",
        "            total_weight += weights[i]\n",
        "            total_value += values[i]\n",
        "            if debug:\n",
        "                print(\"Added best deal at the moment val/weight\", values[i]/weights[i])\n",
        "                print(\"Added weight\", weights[i])\n",
        "                print(\"Added value\", values[i])\n",
        "        if total_weight >= capacity:  # no need to check best deals if we already are over weight or full\n",
        "            break\n",
        "\n",
        "    return knapsack, total_weight, total_value"
      ]
    },
    {
      "cell_type": "markdown",
      "metadata": {
        "id": "JZD-nfeFmBHq"
      },
      "source": [
        "We start by creating an array `val_by_weight`, which contains the value/weight values of the items. Next, we create an array of index positions by sorting the value/weight array; here, we can think of the item with the highest value/weight ratio as the item that gives us the \"best bang for the buck.\" Using a for-loop, we then iterate over the `sort_idx` and check if a given items fits in our knapsack or not, that is, if we can carry it without exceeding the knapsack's capacity. After we checked all items, or if reach the capacity limit prematurely, we exit the for-loop and return the contents of the knapsack as well as its current weight and total value, which we've been tracking all along. \n",
        "\n",
        "A concrete example:"
      ]
    },
    {
      "cell_type": "code",
      "execution_count": 11,
      "metadata": {
        "id": "9PPQgslPmBHq",
        "outputId": "4fda096a-aa6a-4379-8cda-3861531f4893",
        "colab": {
          "base_uri": "https://localhost:8080/"
        }
      },
      "outputs": [
        {
          "output_type": "execute_result",
          "data": {
            "text/plain": [
              "([1, 0, 1], 50, 180)"
            ]
          },
          "metadata": {},
          "execution_count": 11
        }
      ],
      "source": [
        "weights = [20, 50, 30]\n",
        "values = [60, 100, 120] \n",
        "knapsack_01(capacity=50, weights=weights, values=values)"
      ]
    },
    {
      "cell_type": "code",
      "source": [
        "knapsack_01(capacity=50, weights=weights, values=values, debug=True)"
      ],
      "metadata": {
        "id": "jzk8NxD-oygG",
        "outputId": "cf767b4d-86c8-44e0-fc2f-e266366836ee",
        "colab": {
          "base_uri": "https://localhost:8080/"
        }
      },
      "execution_count": 12,
      "outputs": [
        {
          "output_type": "stream",
          "name": "stdout",
          "text": [
            "Added best deal at the moment val/weight 4.0\n",
            "Added weight 30\n",
            "Added value 120\n",
            "Added best deal at the moment val/weight 3.0\n",
            "Added weight 20\n",
            "Added value 60\n"
          ]
        },
        {
          "output_type": "execute_result",
          "data": {
            "text/plain": [
              "([1, 0, 1], 50, 180)"
            ]
          },
          "metadata": {},
          "execution_count": 12
        }
      ]
    },
    {
      "cell_type": "markdown",
      "metadata": {
        "id": "kdxp7aTCmBHr"
      },
      "source": [
        "Running the `knapsack_01` function on the example input above returns a knapsack containing item 1 and item 3, with a total weight equal to its maximum capacity and a value of 180."
      ]
    },
    {
      "cell_type": "markdown",
      "metadata": {
        "id": "n_wv_eqEmBHr"
      },
      "source": [
        "Let us take a look at another example:"
      ]
    },
    {
      "cell_type": "code",
      "source": [
        "70/40, 40/30, 35/20 # Euro/kg"
      ],
      "metadata": {
        "id": "sQFOjrdV8uxN",
        "outputId": "0a8c956f-f921-4e73-c0d7-2841a1424e04",
        "colab": {
          "base_uri": "https://localhost:8080/"
        }
      },
      "execution_count": 13,
      "outputs": [
        {
          "output_type": "execute_result",
          "data": {
            "text/plain": [
              "(1.75, 1.3333333333333333, 1.75)"
            ]
          },
          "metadata": {},
          "execution_count": 13
        }
      ]
    },
    {
      "cell_type": "code",
      "execution_count": 14,
      "metadata": {
        "id": "oUmo9--1mBHr",
        "outputId": "a7e4fe7b-f74c-4272-9c0b-7a8af3895895",
        "colab": {
          "base_uri": "https://localhost:8080/"
        }
      },
      "outputs": [
        {
          "output_type": "stream",
          "name": "stdout",
          "text": [
            "Added best deal at the moment val/weight 1.75\n",
            "Added weight 40\n",
            "Added value 70\n"
          ]
        },
        {
          "output_type": "execute_result",
          "data": {
            "text/plain": [
              "([1, 0, 0], 40, 70)"
            ]
          },
          "metadata": {},
          "execution_count": 14
        }
      ],
      "source": [
        "weights = [40, 30, 20]\n",
        "values = [70, 40, 35] \n",
        "\n",
        "knapsack_01(capacity=50, weights=weights, values=values, debug=True)"
      ]
    },
    {
      "cell_type": "markdown",
      "metadata": {
        "id": "PcxlwfVVmBHr"
      },
      "source": [
        "Notice the problem here? Our greedy algorithm suggests packing item 1 with weight 40 and a value of 70. Now, our knapsack can't pack any of the other items (weights 20 and 30), without exceeding its capacity. This is an example of where a greedy strategy leads to a globally suboptimal solution. An optimal solution would be to take 1 copy of item 2 and 1 copy of item 3, so that our knapsack carries a weight of 50 with a value of 75."
      ]
    },
    {
      "cell_type": "markdown",
      "metadata": {
        "id": "_tEBPWAymBHr"
      },
      "source": [
        "### Fractional Knapsack"
      ]
    },
    {
      "cell_type": "markdown",
      "metadata": {
        "id": "TfG6KuvWmBHr"
      },
      "source": [
        "Now, let's implement a slightly different flavor of the knapsack problem, the fractional knapsack, which is guaranteed to find the optimal solution. Here, the rules are slightly different from the 0-1 knapsack that we implemented earlier. Instead of either just *including* or *excluding* an item in the knapsack, we can also add fractions $f$ of an item, subject to the constraint $0 \\geq f \\leq 1$."
      ]
    },
    {
      "cell_type": "markdown",
      "metadata": {
        "id": "YrMMtmQlmBHr"
      },
      "source": [
        "Now, let's take our 0-1 knapsack implementation as a template and make some slight modifications to come up with a fractional knapsack algorithm:"
      ]
    },
    {
      "cell_type": "code",
      "execution_count": 17,
      "metadata": {
        "id": "BC8eRaW6mBHs"
      },
      "outputs": [],
      "source": [
        "def knapsack_fract(capacity, weights, values, debug=False):\n",
        "    val_by_weight = [value / weight \n",
        "                     for value, weight in zip(values, weights)]\n",
        "    sort_idx = [i[0] for i in sorted(enumerate(val_by_weight), \n",
        "                                     key=lambda x:x[1], \n",
        "                                     reverse=True)]\n",
        "    knapsack = [0 for _ in values]\n",
        "    total_weight, total_value = 0, 0\n",
        "\n",
        "    for i in sort_idx:\n",
        "        if total_weight + weights[i] <= capacity:  # so we add the best deal for full 100% if we have space\n",
        "            knapsack[i] = 1\n",
        "            total_weight += weights[i]\n",
        "            total_value += values[i]\n",
        "            if debug:\n",
        "                print(\"Added best deal at the moment val/weight\", values[i]/weights[i])\n",
        "                print(\"Added weight\", weights[i])\n",
        "                print(\"Added value\", values[i])\n",
        "        else:  # unlike 0-1 we can add a fraction of the best deal at the time\n",
        "            allowed = capacity - total_weight\n",
        "            frac = allowed / weights[i]\n",
        "            knapsack[i] = round(frac, 4) # we use round for practical reasons because of float imprecisions\n",
        "            total_weight += allowed\n",
        "            total_value += frac * values[i]   \n",
        "            if debug:\n",
        "                print(\"Added a fraction of the  at the moment val/weight\", values[i]/weights[i])\n",
        "                print(\"Fraction added\", knapsack[i])\n",
        "                print(\"Added weight\", weights[i])\n",
        "                print(\"Added value\", values[i])        \n",
        "        if total_weight >= capacity:\n",
        "            break\n",
        "    if debug:\n",
        "        print(knapsack, total_weight, round(total_value, 4))\n",
        "    return knapsack, total_weight, round(total_value, 4)"
      ]
    },
    {
      "cell_type": "markdown",
      "metadata": {
        "id": "N1VRqi7ImBHs"
      },
      "source": [
        "Let's give it a whirl on a simple example first:"
      ]
    },
    {
      "cell_type": "code",
      "execution_count": 18,
      "metadata": {
        "id": "yVprmVZDmBHs",
        "outputId": "156026e8-f1c1-4b9f-b7ed-4f32bc56779f",
        "colab": {
          "base_uri": "https://localhost:8080/"
        }
      },
      "outputs": [
        {
          "output_type": "stream",
          "name": "stdout",
          "text": [
            "Added best deal at the moment val/weight 4.0\n",
            "Added weight 30\n",
            "Added value 120\n",
            "Added best deal at the moment val/weight 3.0\n",
            "Added weight 20\n",
            "Added value 60\n",
            "[1, 0, 1] 50 180\n"
          ]
        },
        {
          "output_type": "execute_result",
          "data": {
            "text/plain": [
              "([1, 0, 1], 50, 180)"
            ]
          },
          "metadata": {},
          "execution_count": 18
        }
      ],
      "source": [
        "weights = [20, 50, 30]\n",
        "values = [60, 100, 120] \n",
        "knapsack_fract(capacity=50, weights=weights, values=values, debug=True)"
      ]
    },
    {
      "cell_type": "markdown",
      "metadata": {
        "id": "ugAC_p72mBHs"
      },
      "source": [
        "The solution is an optimal solution, and we notice that it is the same as the one we got by using the 0-1 knapsack previously."
      ]
    },
    {
      "cell_type": "markdown",
      "metadata": {
        "id": "pvGTyMXamBHs"
      },
      "source": [
        "To demonstrate the difference between the 0-1 knapsack and the fractional knapsack, let's do a second example:"
      ]
    },
    {
      "cell_type": "code",
      "execution_count": 19,
      "metadata": {
        "id": "R7MBKvtmmBHs",
        "outputId": "6b779e80-a4db-4a22-b21c-4af226ba879a",
        "colab": {
          "base_uri": "https://localhost:8080/"
        }
      },
      "outputs": [
        {
          "output_type": "execute_result",
          "data": {
            "text/plain": [
              "([0.3333], 10, 166.6667)"
            ]
          },
          "metadata": {},
          "execution_count": 19
        }
      ],
      "source": [
        "weights = [30]\n",
        "values = [500] \n",
        "\n",
        "knapsack_fract(capacity=10, weights=weights, values=values)"
      ]
    },
    {
      "cell_type": "code",
      "execution_count": 20,
      "metadata": {
        "id": "_ZKUIQFpmBHt",
        "outputId": "7839327e-a0f7-46c7-da87-e43ed531d259",
        "colab": {
          "base_uri": "https://localhost:8080/"
        }
      },
      "outputs": [
        {
          "output_type": "stream",
          "name": "stdout",
          "text": [
            "Added best deal at the moment val/weight 1.75\n",
            "Added weight 40\n",
            "Added value 70\n",
            "Added a fraction of the  at the moment val/weight 1.75\n",
            "Fraction added 0.5\n",
            "Added weight 20\n",
            "Added value 35\n",
            "[1, 0, 0.5] 50 87.5\n"
          ]
        },
        {
          "output_type": "execute_result",
          "data": {
            "text/plain": [
              "([1, 0, 0.5], 50, 87.5)"
            ]
          },
          "metadata": {},
          "execution_count": 20
        }
      ],
      "source": [
        "weights = [40, 30, 20]\n",
        "values = [70, 40, 35] \n",
        "\n",
        "knapsack_fract(capacity=50, weights=weights, values=values, debug=True)"
      ]
    },
    {
      "cell_type": "code",
      "source": [
        "weights = [40, 30, 20]\n",
        "values = [70, 40, 36] \n",
        "knapsack_fract(capacity=50, weights=weights, values=values, debug=True)"
      ],
      "metadata": {
        "id": "NsYfKD9x-Onu",
        "outputId": "82c0221b-89e4-4c31-b80d-19d59486690e",
        "colab": {
          "base_uri": "https://localhost:8080/"
        }
      },
      "execution_count": 23,
      "outputs": [
        {
          "output_type": "stream",
          "name": "stdout",
          "text": [
            "Added best deal at the moment val/weight 1.8\n",
            "Added weight 20\n",
            "Added value 36\n",
            "Added a fraction of the  at the moment val/weight 1.75\n",
            "Fraction added 0.75\n",
            "Added weight 40\n",
            "Added value 70\n",
            "[0.75, 0, 1] 50 88.5\n"
          ]
        },
        {
          "output_type": "execute_result",
          "data": {
            "text/plain": [
              "([0.75, 0, 1], 50, 88.5)"
            ]
          },
          "metadata": {},
          "execution_count": 23
        }
      ]
    },
    {
      "cell_type": "markdown",
      "metadata": {
        "id": "Fn2AnSaDmBHt"
      },
      "source": [
        "## Example 3: Point-Cover-Interval Problem"
      ]
    },
    {
      "cell_type": "markdown",
      "source": [
        "![Point cover](https://i.stack.imgur.com/4klhj.png)"
      ],
      "metadata": {
        "id": "Dn8PhO7K_auB"
      }
    },
    {
      "cell_type": "markdown",
      "metadata": {
        "id": "JS41qwuzmBHt"
      },
      "source": [
        "The classic Point-Cover-Interval problem is another example that is well suited for demonstrating greedy algorithms. Here, we are given a set of Intervals *L*, and we want to find the minimum set of points so that each interval is covered at least once by a given point as illustrated in the example below:\n",
        "\n",
        "![](https://github.com/ValRCS/RTU_Algorithms_DIP321/blob/main/topics/images/point-cover-interval-ex.png?raw=1)"
      ]
    },
    {
      "cell_type": "markdown",
      "metadata": {
        "id": "jcTPqvjSmBHt"
      },
      "source": [
        "Our greedy strategy, which finds the optimal solution for this problem, can be as follows:\n",
        "\n",
        "- sort intervals in increasing order by the value of their endpoints\n",
        "- for interval in interval-set:\n",
        "    - if interval is not yet covered:\n",
        "        - add interval-endpoint to the set of points"
      ]
    },
    {
      "cell_type": "code",
      "execution_count": 27,
      "metadata": {
        "id": "bHsr1aSRmBHt"
      },
      "outputs": [],
      "source": [
        "def min_points(intervals, debug=True):\n",
        "    s_ints = sorted(intervals, key=lambda x: x[1])  # n log n of course in in ascending order by endpoint!\n",
        "    if debug:\n",
        "        print(s_ints)\n",
        "    points = [s_ints[0][-1]]\n",
        "\n",
        "    for interv in s_ints: # O(n) of course where n is number of intervals\n",
        "        if not(points[-1] >= interv[0] and points[-1] <= interv[-1]):\n",
        "            points.append(interv[-1])  # careful with append not all append type operations will be O(1) in all languages\n",
        "        \n",
        "    return points"
      ]
    },
    {
      "cell_type": "code",
      "execution_count": 28,
      "metadata": {
        "id": "ZcQgosMrmBHt",
        "outputId": "3a00229e-292d-4d1a-c179-75afb4376e4a",
        "colab": {
          "base_uri": "https://localhost:8080/"
        }
      },
      "outputs": [
        {
          "output_type": "stream",
          "name": "stdout",
          "text": [
            "[[1, 3], [2, 5], [3, 6]]\n"
          ]
        },
        {
          "output_type": "execute_result",
          "data": {
            "text/plain": [
              "[3]"
            ]
          },
          "metadata": {},
          "execution_count": 28
        }
      ],
      "source": [
        "pts = [[2, 5], [1, 3], [3, 6]] \n",
        "min_points(pts)"
      ]
    },
    {
      "cell_type": "code",
      "execution_count": 29,
      "metadata": {
        "id": "w_BKwP_OmBHt",
        "outputId": "a2755aa4-c5c9-4d0e-fefd-d2dd07f13915",
        "colab": {
          "base_uri": "https://localhost:8080/"
        }
      },
      "outputs": [
        {
          "output_type": "stream",
          "name": "stdout",
          "text": [
            "[[1, 3], [2, 5], [5, 6], [4, 7]]\n"
          ]
        },
        {
          "output_type": "execute_result",
          "data": {
            "text/plain": [
              "[3, 6]"
            ]
          },
          "metadata": {},
          "execution_count": 29
        }
      ],
      "source": [
        "pts = [[4, 7], [1, 3], [2, 5], [5, 6]]\n",
        "min_points(pts)\n",
        "# not the only solution points [2, 5] would also cover the intervals\n",
        "# again these are points on a 1d line"
      ]
    },
    {
      "cell_type": "code",
      "execution_count": 30,
      "metadata": {
        "id": "7MIu959umBHu",
        "outputId": "cd23c406-3aee-4c55-949c-b15db5008fad",
        "colab": {
          "base_uri": "https://localhost:8080/"
        }
      },
      "outputs": [
        {
          "output_type": "stream",
          "name": "stdout",
          "text": [
            "[[1, 2], [5, 14], [13, 15]]\n"
          ]
        },
        {
          "output_type": "execute_result",
          "data": {
            "text/plain": [
              "[2, 14]"
            ]
          },
          "metadata": {},
          "execution_count": 30
        }
      ],
      "source": [
        "pts = [[1,2],[5,14], [13,15]]\n",
        "min_points(pts)"
      ]
    },
    {
      "cell_type": "code",
      "source": [
        "# we could use starting points as our sort parameter then we have to go backwards\n",
        "def max_points(intervals, debug=True):\n",
        "    s_ints = sorted(intervals, key=lambda x: x[0], reverse=True)  # sort by starting point\n",
        "    if debug:\n",
        "        print(\"Sorted by starting\", s_ints)\n",
        "    points = [s_ints[0][0]]\n",
        "\n",
        "    for interv in s_ints:\n",
        "        if not(points[-1] >= interv[0] and points[-1] <= interv[-1]):\n",
        "            points.append(interv[0])\n",
        "        \n",
        "    return points"
      ],
      "metadata": {
        "id": "-9wh4to_sd7s"
      },
      "execution_count": 34,
      "outputs": []
    },
    {
      "cell_type": "code",
      "source": [
        "pts = [[4, 7], [1, 3], [2, 5], [5, 6]]\n",
        "max_points(pts)"
      ],
      "metadata": {
        "id": "09jQQHkEssy_",
        "outputId": "17035c2e-c0d3-41e5-8374-3c69feba5c7f",
        "colab": {
          "base_uri": "https://localhost:8080/"
        }
      },
      "execution_count": 35,
      "outputs": [
        {
          "output_type": "stream",
          "name": "stdout",
          "text": [
            "Sorted by starting [[5, 6], [4, 7], [2, 5], [1, 3]]\n"
          ]
        },
        {
          "output_type": "execute_result",
          "data": {
            "text/plain": [
              "[5, 1]"
            ]
          },
          "metadata": {},
          "execution_count": 35
        }
      ]
    },
    {
      "cell_type": "code",
      "source": [
        "min_points(pts)"
      ],
      "metadata": {
        "id": "Cp6f_1i9BWSH",
        "outputId": "bae2e01d-ca68-45dd-97be-82e4c6c6b043",
        "colab": {
          "base_uri": "https://localhost:8080/"
        }
      },
      "execution_count": 36,
      "outputs": [
        {
          "output_type": "stream",
          "name": "stdout",
          "text": [
            "[[1, 3], [2, 5], [5, 6], [4, 7]]\n"
          ]
        },
        {
          "output_type": "execute_result",
          "data": {
            "text/plain": [
              "[3, 6]"
            ]
          },
          "metadata": {},
          "execution_count": 36
        }
      ]
    },
    {
      "cell_type": "markdown",
      "metadata": {
        "id": "2ni02S6tmBHu"
      },
      "source": [
        "## Example 4: Pairwise Distinct Summands"
      ]
    },
    {
      "cell_type": "markdown",
      "metadata": {
        "id": "ddWKl_frmBHu"
      },
      "source": [
        "In the pairwise distinct summands problem, we are given an integer $n$, and our goal is to find the maximum number of unique summands. For example, given an integer n=8, the maximum number of unique summands would be `[1 + 2 + 5] = 3`."
      ]
    },
    {
      "cell_type": "markdown",
      "metadata": {
        "id": "Jh-xi_AumBHu"
      },
      "source": [
        "Implemented in code using a greedy strategy, it looks as follows:"
      ]
    },
    {
      "cell_type": "code",
      "execution_count": 37,
      "metadata": {
        "collapsed": true,
        "id": "B2yQDrhEmBHu"
      },
      "outputs": [],
      "source": [
        "def max_summands(num):\n",
        "    summands = []\n",
        "    sum_summands = 0\n",
        "    next_int = 1\n",
        "\n",
        "    while sum_summands + next_int <= num:\n",
        "        sum_summands += next_int\n",
        "        summands.append(next_int)\n",
        "        next_int += 1\n",
        "\n",
        "    summands[-1] += num - sum_summands\n",
        "    return summands"
      ]
    },
    {
      "cell_type": "code",
      "source": [
        "max_summands(8)"
      ],
      "metadata": {
        "id": "NlsnnBqBBtgH",
        "outputId": "e2e1cc6d-e297-4ece-94e6-76613f229d01",
        "colab": {
          "base_uri": "https://localhost:8080/"
        }
      },
      "execution_count": 38,
      "outputs": [
        {
          "output_type": "execute_result",
          "data": {
            "text/plain": [
              "[1, 2, 5]"
            ]
          },
          "metadata": {},
          "execution_count": 38
        }
      ]
    },
    {
      "cell_type": "code",
      "source": [
        "max_summands(100)"
      ],
      "metadata": {
        "id": "jD1qrsAcBvpd",
        "outputId": "a1e0edb0-71b4-48b7-b22a-b905b10222c0",
        "colab": {
          "base_uri": "https://localhost:8080/"
        }
      },
      "execution_count": 39,
      "outputs": [
        {
          "output_type": "execute_result",
          "data": {
            "text/plain": [
              "[1, 2, 3, 4, 5, 6, 7, 8, 9, 10, 11, 12, 22]"
            ]
          },
          "metadata": {},
          "execution_count": 39
        }
      ]
    },
    {
      "cell_type": "code",
      "source": [
        "# Prove that this is optimal!"
      ],
      "metadata": {
        "id": "pf-EEf4qB2xa"
      },
      "execution_count": null,
      "outputs": []
    },
    {
      "cell_type": "markdown",
      "metadata": {
        "id": "TnoD35qsmBHu"
      },
      "source": [
        "First, we intitialize the sum of the summands to 0 and evaluate the integer `next_int=1`. We then enter a while loop if the sum of the summ"
      ]
    },
    {
      "cell_type": "markdown",
      "metadata": {
        "id": "LkUzFm6SmBHu"
      },
      "source": [
        "## Set Cover Problems"
      ]
    },
    {
      "cell_type": "markdown",
      "metadata": {
        "id": "bUmsRo-kmBHv"
      },
      "source": [
        "Set cover problems are problems where we want to find the minimum number of subsets such that their set union contains all items in a target set. This target set is typically called the \"universe.\" To borrow an example from the excellent [Wikipedia page](https://en.wikipedia.org/wiki/Set_cover_problem) on set cover problems, let's assume we have the universe \n",
        "\n",
        "- $U=\\{1, 2, 3, 4, 5\\}$\n",
        "\n",
        "and are given the collection of sets \n",
        "\n",
        "- $C=\\{\\{1, 2, 3\\}, \\{2, 4\\}, \\{3, 4\\}, \\{4, 5\\}\\}$\n",
        "\n",
        "The task is to find the minimum number of sets in $C$ so that their union equals $U$.\n",
        "\n",
        "Note that set cover problems are NP-complete, thus no computationally efficient solution exists. However, we can use greedy algorithms to approximate the solution; this solution may or may not be globally optimal.\n",
        "\n",
        "The greedy strategy we are going to employ is very simple and works as follows:\n",
        "\n",
        "- While not all elements in U are covered:\n",
        "  - For all uncovered sets in C:\n",
        "  - Pick the set that covers most of the elements in U"
      ]
    },
    {
      "cell_type": "code",
      "execution_count": 41,
      "metadata": {
        "id": "h73VUjgpmBHv",
        "outputId": "f2db6489-32cc-4359-a10d-52795329ac66",
        "colab": {
          "base_uri": "https://localhost:8080/"
        }
      },
      "outputs": [
        {
          "output_type": "stream",
          "name": "stdout",
          "text": [
            "['set_1', 'set_2', 'set_4']\n"
          ]
        }
      ],
      "source": [
        "collection = {'set_1': {1, 2, 3},\n",
        "              'set_2': {2, 4}, \n",
        "              'set_3': {3, 4}, \n",
        "              'set_4': {4, 5}}\n",
        "sets_used = []\n",
        "elements_not_covered = {1, 2, 3, 4, 5}\n",
        "\n",
        "\n",
        "while elements_not_covered:\n",
        "    elements_covered = set()\n",
        "    for set_ in collection.keys():\n",
        "        \n",
        "        if set_ in sets_used:\n",
        "            continue\n",
        "        \n",
        "        current_set = collection[set_]\n",
        "        would_cover = elements_covered.union(current_set)\n",
        "        if len(would_cover) > len(elements_covered):\n",
        "            elements_covered = would_cover\n",
        "            sets_used.append(set_)\n",
        "            elements_not_covered -= elements_covered\n",
        "            \n",
        "            if not elements_not_covered:\n",
        "                break\n",
        "    \n",
        "print(sets_used)"
      ]
    },
    {
      "cell_type": "markdown",
      "metadata": {
        "id": "CBug4hKGmBHv"
      },
      "source": [
        "As a result, we can see that 3 sets are required to cover the universe U. In this case, the greedy algorithm has not found the globally optimal solution, which would be `'set_1'` and `'set_4'`. Note that this is just a trivial example, and greedy algorithms can be very useful approximators for solutions that are computationally infeasible.\n",
        "\n",
        "For instance, an exhaustive solution to this problem that would guaranteed to find the global optimum (remember that set cover problems are NP-complete) would involve iterating over a power set, which has $2^n$ elements, where $n$ is the number of sets in the collection. For example, a collection of 30 sets would already require comparing the solutions of $2^{30}=1,073,741,824$ million possible combinations!\n",
        "\n",
        "(Note that the greedy approach may have found the globally optimal solution in this simple example if it had iterated over the dictionary in a different order -- for example, if we had swapped the positions of {2, 4} and {4, 5})"
      ]
    }
  ],
  "metadata": {
    "kernelspec": {
      "display_name": "Python 3",
      "language": "python",
      "name": "python3"
    },
    "language_info": {
      "codemirror_mode": {
        "name": "ipython",
        "version": 3
      },
      "file_extension": ".py",
      "mimetype": "text/x-python",
      "name": "python",
      "nbconvert_exporter": "python",
      "pygments_lexer": "ipython3",
      "version": "3.8.3"
    },
    "colab": {
      "name": "greedy-algorithm-intro.ipynb",
      "provenance": []
    }
  },
  "nbformat": 4,
  "nbformat_minor": 0
}