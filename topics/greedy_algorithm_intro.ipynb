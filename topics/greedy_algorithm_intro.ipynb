{
  "cells": [
    {
      "cell_type": "markdown",
      "metadata": {
        "id": "l_KGeycUmBHd"
      },
      "source": [
        "# Introduction to Greedy Algorithms\n",
        "\n",
        "Adopted from: https://github.com/rasbt/algorithms_in_ipython_notebooks\n",
        "\n",
        "Extra material from: https://www.freecodecamp.org/news/what-is-a-greedy-algorithm/\n"
      ]
    },
    {
      "cell_type": "markdown",
      "metadata": {
        "id": "_5dWTC4JmBHg"
      },
      "source": [
        "![Burns](https://upload.wikimedia.org/wikipedia/en/5/56/Mr_Burns.png) | ![Gordon](https://upload.wikimedia.org/wikipedia/en/4/40/Gordon_Gekko.jpg)\n",
        "From: https://en.wikipedia.org/wiki/Wall_Street_(1987_film)"
      ]
    },
    {
      "cell_type": "markdown",
      "metadata": {
        "id": "RxwYEorPmBHh"
      },
      "source": [
        "The subfamily of *Greedy Algorithms* is one of the main paradigms of algorithmic problem solving next to *Dynamic Programming* and *Divide & Conquer Algorithms*. The main goal behind greedy algorithms is to implement an efficient procedure for often computationally more complex, often infeasible brute-force methods such as exhaustive search algorithms. \n",
        "\n",
        "The main outline of a greedy algorithms consists of 3 steps:\n",
        "\n",
        "- make a greedy choice\n",
        "- reduce the problem to a subproblem (a smaller problem of the similar type as the original one)\n",
        "- repeat\n",
        "\n",
        "So, greedy algorithms are essentially a problem solving heuristic, an iterative process of tackling a problem in multiple stages while making an locally optimal choice at each stage. In practice, and depending on the problem task, making this series of locally optimal (\"greedy\") choices must not necessarily lead to a globally optimal solution."
      ]
    },
    {
      "cell_type": "markdown",
      "metadata": {
        "id": "uSqHcSBSmBHi"
      },
      "source": [
        "![Greedy Mountain](https://upload.wikimedia.org/wikipedia/commons/8/8c/Greedy-search-path-example.gif)"
      ]
    },
    {
      "cell_type": "markdown",
      "metadata": {
        "id": "sZVY_IMPiiLL"
      },
      "source": [
        "# What happens when we have a greedy algorithm to look for the highest peak\n",
        "# greedy rule here is - highest slope"
      ]
    },
    {
      "cell_type": "markdown",
      "metadata": {
        "id": "DONsqjZEidXr"
      },
      "source": [
        "![LocalMax](https://upload.wikimedia.org/wikipedia/commons/thumb/0/06/Greedy_Glouton.svg/300px-Greedy_Glouton.svg.png)\n"
      ]
    },
    {
      "cell_type": "code",
      "execution_count": null,
      "metadata": {
        "id": "xkwNBvY0mBHi"
      },
      "outputs": [],
      "source": []
    },
    {
      "cell_type": "markdown",
      "metadata": {
        "id": "wnOIQwPTWE11"
      },
      "source": [
        "# Formal Definition of Greedy Algorithm \n",
        "\n",
        "Assume that you have an objective function that needs to be optimized (either maximized or minimized) at a given point. A Greedy algorithm makes greedy choices at each step to ensure that the objective function is optimized. The Greedy algorithm has only one shot to compute the optimal solution so that it never goes back and reverses the decision.\n",
        "\n",
        "## Greedy algorithms have some advantages and disadvantages:\n",
        "\n",
        "* It is quite easy to come up with a greedy algorithm (or even multiple greedy algorithms) for a problem. Analyzing the run time for greedy algorithms will generally be much easier than for other techniques (like Divide and conquer). For the Divide and conquer technique, it is not clear whether the technique is fast or slow. This is because at each level of recursion the size of gets smaller and the number of sub-problems increases.\n",
        "* The difficult part is that for greedy algorithms you have to work much harder to understand correctness issues. Even with the correct algorithm, it is hard to prove why it is correct. Proving that a greedy algorithm is correct is more of an art than a science. It involves a lot of creativity. Usually, coming up with an algorithm might seem to be trivial, but proving that it is actually correct, is a whole different problem."
      ]
    },
    {
      "cell_type": "markdown",
      "metadata": {
        "id": "ESHTMJQWmBHj"
      },
      "source": [
        "## Example 1: Coin Changer\n",
        "\n",
        "To look at a first, naive example of a greedy algorithm, let's implement a simple coin changing machine. Given a money value in cents, we want to return the minimum possible number of coins, whereas the possible denominations are 1, 5, 10, and 20 cents."
      ]
    },
    {
      "cell_type": "markdown",
      "metadata": {
        "id": "KKswlw7jmBHj"
      },
      "source": [
        "![Coin](https://upload.wikimedia.org/wikipedia/commons/thumb/d/da/Greedy_algorithm_36_cents.svg/1200px-Greedy_algorithm_36_cents.svg.png)"
      ]
    },
    {
      "cell_type": "code",
      "execution_count": 7,
      "metadata": {
        "id": "XPefYmRpmBHk"
      },
      "outputs": [],
      "source": [
        "def coinchanger(cents, \n",
        "                denominations=(1, 2, 5, 10, 20, 50, 100, 200, 500, 1000, 2000),\n",
        "                debug=False):\n",
        "    coins = {d: 0 for d in denominations}  # create a dictionary of coins (hashmap) so we have O(1) access to coin counts\n",
        "    for c in sorted(coins.keys(), reverse=True):  # of course remember that sorting in general is n log n, here we are sorting denominations\n",
        "        # so we try to put the highest denomination first\n",
        "        coins[c] += cents // c # here is the greedy step we add as many of our highest coins at this moment\n",
        "        # note // is integer division in python3\n",
        "        cents = cents % c # proceed to whatever is left\n",
        "        if debug:\n",
        "            print(cents, coins)\n",
        "        if not cents:\n",
        "            total_coins = sum([i for i in coins.values()])\n",
        "            return sorted(coins.items(), reverse=True), total_coins"
      ]
    },
    {
      "cell_type": "markdown",
      "metadata": {
        "id": "ZxCca-_7mBHk"
      },
      "source": [
        "The funtion above creates a dictionary, `coins`, which tracks the number of coins of each denomination to be returned. Then, we iterate though the denominations in descending order of their value. Now, in a \"greedy\" fashion, we count the highest possible number of coins from the largest denomination in the first step. We repeat this process until we reached the smallest denomination or the number of remaining `cents` reaches 0. "
      ]
    },
    {
      "cell_type": "code",
      "execution_count": 2,
      "metadata": {
        "colab": {
          "base_uri": "https://localhost:8080/"
        },
        "id": "cZccYp7SmBHl",
        "outputId": "eb7f1b35-eb65-4d06-c376-b4ca7caa220f"
      },
      "outputs": [
        {
          "data": {
            "text/plain": [
              "([(2000, 0),\n",
              "  (1000, 0),\n",
              "  (500, 0),\n",
              "  (200, 0),\n",
              "  (100, 0),\n",
              "  (50, 0),\n",
              "  (20, 1),\n",
              "  (10, 1),\n",
              "  (5, 1),\n",
              "  (2, 0),\n",
              "  (1, 1)],\n",
              " 4)"
            ]
          },
          "execution_count": 2,
          "metadata": {},
          "output_type": "execute_result"
        }
      ],
      "source": [
        "coinchanger(cents=36)"
      ]
    },
    {
      "cell_type": "code",
      "execution_count": 5,
      "metadata": {},
      "outputs": [
        {
          "name": "stdout",
          "output_type": "stream",
          "text": [
            "36 {1: 0, 2: 0, 5: 0, 10: 0, 20: 0, 50: 0, 100: 0, 200: 0, 500: 0, 1000: 0, 2000: 0}\n",
            "36 {1: 0, 2: 0, 5: 0, 10: 0, 20: 0, 50: 0, 100: 0, 200: 0, 500: 0, 1000: 0, 2000: 0}\n",
            "36 {1: 0, 2: 0, 5: 0, 10: 0, 20: 0, 50: 0, 100: 0, 200: 0, 500: 0, 1000: 0, 2000: 0}\n",
            "36 {1: 0, 2: 0, 5: 0, 10: 0, 20: 0, 50: 0, 100: 0, 200: 0, 500: 0, 1000: 0, 2000: 0}\n",
            "36 {1: 0, 2: 0, 5: 0, 10: 0, 20: 0, 50: 0, 100: 0, 200: 0, 500: 0, 1000: 0, 2000: 0}\n",
            "36 {1: 0, 2: 0, 5: 0, 10: 0, 20: 0, 50: 0, 100: 0, 200: 0, 500: 0, 1000: 0, 2000: 0}\n",
            "16 {1: 0, 2: 0, 5: 0, 10: 0, 20: 1, 50: 0, 100: 0, 200: 0, 500: 0, 1000: 0, 2000: 0}\n",
            "6 {1: 0, 2: 0, 5: 0, 10: 1, 20: 1, 50: 0, 100: 0, 200: 0, 500: 0, 1000: 0, 2000: 0}\n",
            "1 {1: 0, 2: 0, 5: 1, 10: 1, 20: 1, 50: 0, 100: 0, 200: 0, 500: 0, 1000: 0, 2000: 0}\n",
            "1 {1: 0, 2: 0, 5: 1, 10: 1, 20: 1, 50: 0, 100: 0, 200: 0, 500: 0, 1000: 0, 2000: 0}\n",
            "0 {1: 1, 2: 0, 5: 1, 10: 1, 20: 1, 50: 0, 100: 0, 200: 0, 500: 0, 1000: 0, 2000: 0}\n"
          ]
        },
        {
          "data": {
            "text/plain": [
              "([(2000, 0),\n",
              "  (1000, 0),\n",
              "  (500, 0),\n",
              "  (200, 0),\n",
              "  (100, 0),\n",
              "  (50, 0),\n",
              "  (20, 1),\n",
              "  (10, 1),\n",
              "  (5, 1),\n",
              "  (2, 0),\n",
              "  (1, 1)],\n",
              " 4)"
            ]
          },
          "execution_count": 5,
          "metadata": {},
          "output_type": "execute_result"
        }
      ],
      "source": [
        "coinchanger(cents=36, debug=True)"
      ]
    },
    {
      "cell_type": "code",
      "execution_count": 8,
      "metadata": {
        "colab": {
          "base_uri": "https://localhost:8080/"
        },
        "id": "DqqE71qUmBHm",
        "outputId": "a679f7b2-ebed-4093-8f40-240821010a59"
      },
      "outputs": [
        {
          "data": {
            "text/plain": [
              "([(2000, 0),\n",
              "  (1000, 0),\n",
              "  (500, 0),\n",
              "  (200, 1),\n",
              "  (100, 1),\n",
              "  (50, 1),\n",
              "  (20, 1),\n",
              "  (10, 0),\n",
              "  (5, 1),\n",
              "  (2, 2),\n",
              "  (1, 0)],\n",
              " 7)"
            ]
          },
          "execution_count": 8,
          "metadata": {},
          "output_type": "execute_result"
        }
      ],
      "source": [
        "coinchanger(cents=379)  "
      ]
    },
    {
      "cell_type": "code",
      "execution_count": 9,
      "metadata": {
        "colab": {
          "base_uri": "https://localhost:8080/"
        },
        "id": "GdpxLJlimBHn",
        "outputId": "9b652f19-0555-4a83-f688-3046fc5ea817"
      },
      "outputs": [
        {
          "data": {
            "text/plain": [
              "([(2000, 2),\n",
              "  (1000, 0),\n",
              "  (500, 0),\n",
              "  (200, 1),\n",
              "  (100, 1),\n",
              "  (50, 1),\n",
              "  (20, 0),\n",
              "  (10, 0),\n",
              "  (5, 1),\n",
              "  (2, 0),\n",
              "  (1, 1)],\n",
              " 7)"
            ]
          },
          "execution_count": 9,
          "metadata": {},
          "output_type": "execute_result"
        }
      ],
      "source": [
        "coinchanger(cents=4356) # 43 euros and 56 cents"
      ]
    },
    {
      "cell_type": "code",
      "execution_count": null,
      "metadata": {
        "id": "gtRlnivem1yu"
      },
      "outputs": [],
      "source": [
        "# lets imagine a country with 1 7 10 dobloon coins"
      ]
    },
    {
      "cell_type": "code",
      "execution_count": 12,
      "metadata": {
        "colab": {
          "base_uri": "https://localhost:8080/"
        },
        "id": "S7pw2xz-mBHn",
        "outputId": "50fba7a4-fd8c-4ecb-dd12-a9eb7fdd6d1c"
      },
      "outputs": [
        {
          "data": {
            "text/plain": [
              "([(25, 1), (20, 0), (10, 1), (5, 1), (1, 1)], 4)"
            ]
          },
          "execution_count": 12,
          "metadata": {},
          "output_type": "execute_result"
        }
      ],
      "source": [
        "coinchanger(cents=41, denominations=(1,7,10)) # this is where greedy algorithm would fail"
      ]
    },
    {
      "cell_type": "code",
      "execution_count": 13,
      "metadata": {
        "colab": {
          "base_uri": "https://localhost:8080/"
        },
        "id": "h0pKmDW6mBHn",
        "outputId": "a42ff76b-9e94-407d-d150-94949ec12fcb"
      },
      "outputs": [
        {
          "data": {
            "text/plain": [
              "([(25, 1), (10, 2), (5, 0), (3, 0), (1, 2)], 5)"
            ]
          },
          "execution_count": 13,
          "metadata": {},
          "output_type": "execute_result"
        }
      ],
      "source": [
        "# soviet roubles - greedy works\n",
        "# hypothesis - greed will fail if next denomination is less than double ? prove it?\n",
        "coinchanger(cents=47, denominations=(1,3,5,10,25))"
      ]
    },
    {
      "cell_type": "code",
      "execution_count": 14,
      "metadata": {
        "colab": {
          "base_uri": "https://localhost:8080/"
        },
        "id": "dbejdC2l7Cis",
        "outputId": "54dacb2a-8f89-412f-a590-2c110d88fb81"
      },
      "outputs": [
        {
          "data": {
            "text/plain": [
              "([(5, 1), (4, 0), (1, 3)], 4)"
            ]
          },
          "execution_count": 14,
          "metadata": {},
          "output_type": "execute_result"
        }
      ],
      "source": [
        "# fake roubles 1, 4, 5 # where our greedy algorithm would NOT give us optimal solution\n",
        "coinchanger(cents=8, denominations=(1,4,5))"
      ]
    },
    {
      "cell_type": "code",
      "execution_count": 15,
      "metadata": {
        "colab": {
          "base_uri": "https://localhost:8080/"
        },
        "id": "iJEeyUFDnp-n",
        "outputId": "4d0d828f-8d46-4f82-b7d9-dbe16b02c632"
      },
      "outputs": [
        {
          "data": {
            "text/plain": [
              "([(25, 1), (20, 0), (10, 1), (5, 1)], 3)"
            ]
          },
          "execution_count": 15,
          "metadata": {},
          "output_type": "execute_result"
        }
      ],
      "source": [
        "# Indian money (5,10,20,25) - example of real money failing on greedy algorithm\n",
        "coinchanger(cents=40, denominations=(5,10,20,25))"
      ]
    },
    {
      "cell_type": "markdown",
      "metadata": {
        "id": "qCewzIuZmBHo"
      },
      "source": [
        "Calling out `coinchanger` function with 100 cents as input, it returns 5 coins a 20 cents, the smallest, possible number of coins that can be returned in this case. Below are some more examples: "
      ]
    },
    {
      "cell_type": "code",
      "execution_count": null,
      "metadata": {
        "colab": {
          "base_uri": "https://localhost:8080/"
        },
        "id": "3qmpDt2OmBHo",
        "outputId": "47b1f980-3b9a-4e21-9cef-dc28a53c0ab8"
      },
      "outputs": [
        {
          "data": {
            "text/plain": [
              "([(2000, 0),\n",
              "  (1000, 0),\n",
              "  (500, 0),\n",
              "  (100, 0),\n",
              "  (50, 0),\n",
              "  (20, 0),\n",
              "  (10, 0),\n",
              "  (5, 1),\n",
              "  (1, 0)],\n",
              " 1)"
            ]
          },
          "execution_count": 7,
          "metadata": {},
          "output_type": "execute_result"
        }
      ],
      "source": [
        "coinchanger(cents=5)"
      ]
    },
    {
      "cell_type": "code",
      "execution_count": null,
      "metadata": {
        "colab": {
          "base_uri": "https://localhost:8080/"
        },
        "id": "Sj7zBPA3mBHo",
        "outputId": "b9562fcb-3ac1-4c9e-9cb0-669e207ea2bd"
      },
      "outputs": [
        {
          "data": {
            "text/plain": [
              "([(2000, 0),\n",
              "  (1000, 0),\n",
              "  (500, 0),\n",
              "  (100, 0),\n",
              "  (50, 0),\n",
              "  (20, 0),\n",
              "  (10, 0),\n",
              "  (5, 0),\n",
              "  (1, 4)],\n",
              " 4)"
            ]
          },
          "execution_count": 8,
          "metadata": {},
          "output_type": "execute_result"
        }
      ],
      "source": [
        "coinchanger(cents=4)"
      ]
    },
    {
      "cell_type": "code",
      "execution_count": null,
      "metadata": {
        "colab": {
          "base_uri": "https://localhost:8080/"
        },
        "id": "v6UZhRG2mBHo",
        "outputId": "694de9a4-666d-4d04-9d84-a11b0a6e9a35"
      },
      "outputs": [
        {
          "data": {
            "text/plain": [
              "([(2000, 0),\n",
              "  (1000, 0),\n",
              "  (500, 0),\n",
              "  (100, 0),\n",
              "  (50, 0),\n",
              "  (20, 1),\n",
              "  (10, 0),\n",
              "  (5, 0),\n",
              "  (1, 3)],\n",
              " 4)"
            ]
          },
          "execution_count": 9,
          "metadata": {},
          "output_type": "execute_result"
        }
      ],
      "source": [
        "coinchanger(cents=23)"
      ]
    },
    {
      "cell_type": "code",
      "execution_count": null,
      "metadata": {
        "id": "xFP5zQJlbrxF"
      },
      "outputs": [],
      "source": [
        "## TODO find another country (or previous) where greedy algorithm fails\n",
        "\n"
      ]
    },
    {
      "cell_type": "markdown",
      "metadata": {
        "id": "Xw4qRzaMWlyi"
      },
      "source": [
        "# Interval Scheduling Problem\n",
        "\n",
        "Let's dive into an interesting problem that you can encounter in almost any industry or any walk of life. Some instances of the problem are as follows:\n",
        "\n",
        "You are given a set of N schedules of lectures for a single day at a university. The schedule for a specific lecture is of the form (s time, f time) where s time represents the start time for that lecture and similarly the f time represents the finishing time. Given a list of N lecture schedules, we need to select maximum set of lectures to be held out during the day such that  none of the lectures overlap with one another i.e. if lecture Li and Lj are included in our selection then the start time of j >= finish time of i or vice versa .\n",
        "\n"
      ]
    },
    {
      "cell_type": "markdown",
      "metadata": {
        "id": "f8h5HOaWb2zs"
      },
      "source": [
        "# The Lecture Scheduling Problem\n",
        "Let's look at the various approaches for solving this problem.\n",
        "\n",
        "## Earliest Start Time First  \n",
        "\n",
        "i.e. select the interval that has the earliest start time. Take a look at the following example that breaks this solution. This solution failed because there could be an interval that starts very early but that is very long. This means the next strategy that we could try would be where we look at smaller intervals first.\n",
        "\n",
        "Example of earliest start time first failing as greedy algorithm:\n",
        "\n",
        "- 9:00 - 16:00 - Lecture 1\n",
        "- 10:00 - 12:00 - Lecture 2\n",
        "- 12:00 - 13:00 - Lecture 3\n",
        "- 13:00 - 14:00 - Lecture 4\n",
        "\n",
        "You can see how the earliest start time first algorithm would fail here. It would select lecture 1 and then it would not be able to select any other lecture. So, let's look at the next strategy.\n",
        "\n",
        "Note: we are assuming these lecturers are all equally important and we are not looking at the length of the lecture."
      ]
    },
    {
      "cell_type": "markdown",
      "metadata": {
        "id": "T5QDpe_hb7vi"
      },
      "source": [
        "## Smallest Interval First \n",
        "\n",
        " i.e. you end up selecting the lectures in order of their overall interval which is nothing but their  finish time - start time . Again, this solution is not correct. Look at the following case.\n",
        "\n",
        "![sml](https://cdn-media-1.freecodecamp.org/imgr/4bz2N.png)\n",
        "\n",
        "### Example of shortest interval first failing as greedy algorithm:\n",
        "\n",
        "- 9:00 - 12:00 - Lecture 1\n",
        "- 11:30 - 12:30   - Lecture 2\n",
        "- 12:00 - 14:00 - Lecture 3\n",
        "\n",
        "Again, you can see how the shortest interval first algorithm would fail here. It would select lecture 2 and then it would not be able to select any other lecture. So, let's look at the next strategy."
      ]
    },
    {
      "cell_type": "markdown",
      "metadata": {},
      "source": [
        "## Longest interval first\n",
        "\n",
        "i.e. you end up selecting the lectures in order of their overall interval which is nothing but their  finish time - start time . Again, this solution is not correct. Look at the following case.\n",
        "\n",
        "### Example of longest interval first failing as greedy algorithm:\n",
        "\n",
        "- 9:00 - 12:00 - Lecture 1\n",
        "- 9:30 - 10:30   - Lecture 2\n",
        "- 11:30 - 13:00 - Lecture 3\n",
        "\n",
        "Here you can see how the longest interval first algorithm would fail here. It would select lecture 1 and then it would not be able to select any other lecture. So, let's look at the next strategy."
      ]
    },
    {
      "cell_type": "markdown",
      "metadata": {
        "id": "UOUakRJWcFNJ"
      },
      "source": [
        "## Least Conflicting Interval First \n",
        "\n",
        " i.e. you should look at intervals that cause the least number of conflicts. Yet again we have an example where this approach fails to find an optimal solution.\n",
        "\n",
        "![c](https://cdn-media-1.freecodecamp.org/imgr/5LZ9V.png)\n",
        "\n",
        "The diagram shows us that the least confliciting interval is the one in the middle with just 2 conflicts. After that we can only pick the two intervals at the very ends with conflicts 3 each. But the optimal solution is to pick the 4 intervals on the topmost level."
      ]
    },
    {
      "cell_type": "markdown",
      "metadata": {
        "id": "bY-93HO1cO9U"
      },
      "source": [
        "## Earliest Finishing time first. \n",
        "\n",
        "This is the approach that always gives us the most optimal solution to this problem. We derived a lot of insights from previous approaches and finally came upon this approach. We sort the intervals according to increasing order of their finishing times and then we start selecting intervals from the very beginning. Look at the following pseudo code for more clarity.\n",
        "\n",
        "    function interval_scheduling_problem(requests)\n",
        "        schedule \\gets \\{\\}\n",
        "        while requests is not yet empty\n",
        "            choose a request i_r \\in requests that has the lowest finishing time\n",
        "            schedule \\gets schedule \\cup \\{i_r\\}\n",
        "            delete all requests in requests that are not compatible with i_r\n",
        "        end\n",
        "        return schedule\n",
        "    end"
      ]
    },
    {
      "cell_type": "code",
      "execution_count": 19,
      "metadata": {},
      "outputs": [
        {
          "name": "stdout",
          "output_type": "stream",
          "text": [
            "Lecture A START:900 FINISH:1000\n",
            "Lecture B START:930 FINISH:1030\n",
            "Lecture C START:1100 FINISH:1200\n",
            "Lecture D START:1130 FINISH:1230\n",
            "Lecture E START:1200 FINISH:1300\n",
            "Lecture F START:1230 FINISH:1330\n",
            "Lecture G START:1315 FINISH:1500\n"
          ]
        }
      ],
      "source": [
        "# let's make a lecture class that will hold starting time, finishing time and a name\n",
        "# we will have a list of lectures and we want to find the maximum number of lectures we can attend\n",
        "class Lecture:\n",
        "    def __init__(self, name, start, finish):\n",
        "        self.name = name\n",
        "        self.start = start\n",
        "        self.finish = finish\n",
        "\n",
        "    def __repr__(self):\n",
        "        return f\"Lecture {self.name} START:{self.start} FINISH:{self.finish}\"\n",
        "\n",
        "# example for time we will us integers\n",
        "# 9:00 am will be 900, 5:30 pm will be 1730\n",
        "lectures = [Lecture(\"A\", 900, 1000), \n",
        "            Lecture(\"B\", 930, 1030), \n",
        "            Lecture(\"C\", 1100, 1200), \n",
        "            Lecture(\"D\", 1130, 1230), \n",
        "            Lecture(\"E\", 1200, 1300), \n",
        "            Lecture(\"F\", 1230, 1330),\n",
        "            Lecture(\"G\", 1315, 1500),]\n",
        "\n",
        "for lecture in lectures:\n",
        "    print(lecture)"
      ]
    },
    {
      "cell_type": "code",
      "execution_count": 21,
      "metadata": {
        "id": "LVPWirsRuNgb"
      },
      "outputs": [
        {
          "name": "stdout",
          "output_type": "stream",
          "text": [
            "Lectures sorted by finish time\n",
            "Lecture A START:900 FINISH:1000\n",
            "Lecture B START:930 FINISH:1030\n",
            "Lecture C START:1100 FINISH:1200\n",
            "Lecture D START:1130 FINISH:1230\n",
            "Lecture E START:1200 FINISH:1300\n",
            "Lecture F START:1230 FINISH:1330\n",
            "Lecture G START:1315 FINISH:1500\n"
          ]
        },
        {
          "data": {
            "text/plain": [
              "[Lecture A START:900 FINISH:1000,\n",
              " Lecture C START:1100 FINISH:1200,\n",
              " Lecture E START:1200 FINISH:1300,\n",
              " Lecture G START:1315 FINISH:1500]"
            ]
          },
          "execution_count": 21,
          "metadata": {},
          "output_type": "execute_result"
        }
      ],
      "source": [
        "# type hint should be sequence of Lecture objects\n",
        "# we might have to import typing sequence # TODO\n",
        "\n",
        "def get_schedule(lectures: list[Lecture], debug=False) -> list[Lecture]:\n",
        "    \"\"\"\n",
        "    lectures should be a sequence of Lecture objects\n",
        "    we will return a list of lectures that we can attend\n",
        "    goal being maximum number of lectures\n",
        "    \"\"\"\n",
        "    if len(lectures) == 0:\n",
        "        return []\n",
        "    # sort by end time (2nd item in the tuple)\n",
        "    # this will O(n log n)\n",
        "    lectures = sorted(lectures, key = lambda lec: lec.finish)\n",
        "    if debug:\n",
        "        print(\"Lectures sorted by finish time\")\n",
        "        print(*lectures, sep=\"\\n\")\n",
        "    schedule = [lectures[0]] # we start with the lecture with the earliest end time\n",
        "    for lecture in lectures[1:]:\n",
        "        # if the start time of current lecture is more or equal to end time of last lecture we add it\n",
        "        if lecture.start >= schedule[-1].finish:\n",
        "            schedule.append(lecture)\n",
        "    return schedule\n",
        "\n",
        "get_schedule(lectures, debug=True)\n"
      ]
    },
    {
      "cell_type": "markdown",
      "metadata": {
        "id": "FH_9maTEwJGl"
      },
      "source": []
    },
    {
      "cell_type": "code",
      "execution_count": 22,
      "metadata": {
        "id": "ih8Rejxjv6z1"
      },
      "outputs": [],
      "source": [
        "some_lectures = [Lecture(\"A\", 900, 1000),Lecture(\"B\", 815, 1200), Lecture(\"C\", 1100, 1200)]"
      ]
    },
    {
      "cell_type": "code",
      "execution_count": 23,
      "metadata": {
        "colab": {
          "base_uri": "https://localhost:8080/"
        },
        "id": "Zh9aukzewKun",
        "outputId": "c3006935-c815-4058-f97e-94b10b3edcfa"
      },
      "outputs": [
        {
          "data": {
            "text/plain": [
              "[Lecture A START:900 FINISH:1000, Lecture C START:1100 FINISH:1200]"
            ]
          },
          "execution_count": 23,
          "metadata": {},
          "output_type": "execute_result"
        }
      ],
      "source": [
        "get_schedule(some_lectures)"
      ]
    },
    {
      "cell_type": "markdown",
      "metadata": {},
      "source": [
        "## Proving that earliest finishing time first is optimal\n",
        "\n",
        "Left as an exercise to the reader. Hint: use proof by contradiction.\n",
        "\n",
        "* we can use exchange argument to prove that the greedy algorithm is optimal\n",
        "* can use induction to prove that the greedy algorithm is optimal\n",
        "\n",
        "Again not always easy to prove that the greedy algorithm is optimal. But it is easy to come up with a greedy algorithm."
      ]
    },
    {
      "cell_type": "markdown",
      "metadata": {},
      "source": [
        "## Different scheduling problem - maximize the length of the schedule\n",
        "\n",
        "Turns out that the greedy algorithm is not optimal for this problem. The optimal solution is to select the two intervals with the least conflicts. But the greedy algorithm would select the two intervals with the earliest start time.\n",
        "\n",
        "We would have to use dynamic programming to solve this problem. Later in the course we will see how to solve this problem using dynamic programming."
      ]
    },
    {
      "cell_type": "markdown",
      "metadata": {
        "id": "38kv9AoPch4m"
      },
      "source": [
        "## When to use Greedy Algorithms\n",
        "\n",
        "\n",
        "Greedy Algorithms can help you find solutions to a lot of seemingly tough problems. The only problem with them is that you might come up with the correct solution but you might not be able to verify if its the correct one. All the greedy problems share a common property that a local optima can eventually lead to a global minima without reconsidering the set of choices already considered.\n",
        "\n",
        "Source: https://www.freecodecamp.org/news/what-is-a-greedy-algorithm/"
      ]
    },
    {
      "cell_type": "markdown",
      "metadata": {
        "id": "5eCAQRyQcb_S"
      },
      "source": []
    },
    {
      "cell_type": "markdown",
      "metadata": {
        "id": "HMlWbGrWcNVo"
      },
      "source": []
    },
    {
      "cell_type": "markdown",
      "metadata": {
        "id": "eo30_pzAmBHp"
      },
      "source": [
        "## Example: Knapsack"
      ]
    },
    {
      "cell_type": "markdown",
      "metadata": {
        "id": "B0OMKV5tcpuw"
      },
      "source": []
    },
    {
      "cell_type": "markdown",
      "metadata": {
        "id": "p57uDmSUmBHp"
      },
      "source": [
        "![Knap](https://upload.wikimedia.org/wikipedia/commons/thumb/f/fd/Knapsack.svg/500px-Knapsack.svg.png)"
      ]
    },
    {
      "cell_type": "markdown",
      "metadata": {
        "id": "vtMqMto1mBHp"
      },
      "source": [
        "Now, let us take a look at a classic, combinatorial optimization problem, the so-called \"knapsack\" problem. Here, we can think of a \"knapsack\" as a rucksack, and our goal is to fill it with items so that the rucksack's contents have the highest possible value. Of course, the knappsack has a certain weight capacity, and each item is associated with a certain value and a weight. In other words, we want to maximize the value of the knapsack subject to the constraint that we don't exceed its weight capacity.\n",
        "\n",
        "As trivial as it sounds, the knapsack problem is still one of the most popular algorithmic problems in the modern computer science area. There are numerous applications of knapsack problems, and to provide an intuitive real-world example: We could think of sports betting or daily fantasy soccer predictions as a knapsack problem, where we want to construct a squad of players with the highest possible points to salary ratio."
      ]
    },
    {
      "cell_type": "markdown",
      "metadata": {
        "id": "i-O2QrS9mBHp"
      },
      "source": [
        "### 0-1 Knapsack"
      ]
    },
    {
      "cell_type": "markdown",
      "metadata": {
        "id": "fLRf3-SxmBHp"
      },
      "source": [
        "Let's us take a look the probably simplest variation of the knapsack problem, the 0-1 knapsack, and tackle it using a \"greedy\" strategy. In the 0-1 knapsack, we have a given set of items, $i_1, i_2, ..., i_m$, that we can use to fill the knapsack. Again, the knapsack has a fixed capacity, and the items are associated with weights, $w_1, w_2, ..., w_m$, and values $v_1, v_2, ..., v_m$. While our goal is still to pack the knapsack with a combination of items so that it carries the highest possible value, the 0-1 knapsack variation comes with the constraint that we can only carry 1 copy of each item. Thus, the runtime complexity of this algorithm is $O(nW)$, where $n$ is the number of items in the list and $W$ is the maximum capacity of the knapsack.\n",
        "\n",
        "For example, if we are given 3 items with weights $[w_1: 20, w_2: 50, w_3: 30]$ and values\n",
        "$[v_1: 60, v_2: 100, v_3: 120]$, a knapsack with capacity 50 may carry to 1 copy of item 1 and 1 copy of item 3 to maximize its value (180) in contrast to just carrying 1 copy of item 2 (value: 100)."
      ]
    },
    {
      "cell_type": "markdown",
      "metadata": {
        "id": "-3qYA3bimBHq"
      },
      "source": [
        "Let's see how one \"greedy\" code implementation may look like:"
      ]
    },
    {
      "cell_type": "code",
      "execution_count": 24,
      "metadata": {
        "id": "k1U_FjbxmBHq"
      },
      "outputs": [],
      "source": [
        "def knapsack_01(capacity, weights, values, debug=False):\n",
        "    val_by_weight = [value / weight \n",
        "                     for value, weight in zip(values, weights)] # so we create the best bang for buck values\n",
        "    sort_idx = [i[0] for i in sorted(enumerate(val_by_weight), \n",
        "                                     key=lambda x:x[1], \n",
        "                                     reverse=True)]\n",
        "    knapsack = [0 for _ in values]  # initialize knapsack\n",
        "    total_weight, total_value = 0, 0\n",
        "\n",
        "    for i in sort_idx: # simply go through our best deals and add if any have room\n",
        "        # here is our greedy heuristic - rule\n",
        "        if total_weight + weights[i] <= capacity:\n",
        "            knapsack[i] = 1\n",
        "            total_weight += weights[i]\n",
        "            total_value += values[i]\n",
        "            if debug:\n",
        "                print(\"Added best deal at the moment val/weight\", values[i]/weights[i])\n",
        "                print(\"Added weight\", weights[i])\n",
        "                print(\"Added value\", values[i])\n",
        "        if total_weight >= capacity:  # no need to check best deals if we already are over weight or full\n",
        "            break\n",
        "\n",
        "    return knapsack, total_weight, total_value"
      ]
    },
    {
      "cell_type": "markdown",
      "metadata": {
        "id": "JZD-nfeFmBHq"
      },
      "source": [
        "We start by creating an array `val_by_weight`, which contains the value/weight values of the items. Next, we create an array of index positions by sorting the value/weight array; here, we can think of the item with the highest value/weight ratio as the item that gives us the \"best bang for the buck.\" Using a for-loop, we then iterate over the `sort_idx` and check if a given items fits in our knapsack or not, that is, if we can carry it without exceeding the knapsack's capacity. After we checked all items, or if reach the capacity limit prematurely, we exit the for-loop and return the contents of the knapsack as well as its current weight and total value, which we've been tracking all along. \n",
        "\n",
        "A concrete example:"
      ]
    },
    {
      "cell_type": "code",
      "execution_count": 25,
      "metadata": {
        "colab": {
          "base_uri": "https://localhost:8080/"
        },
        "id": "9PPQgslPmBHq",
        "outputId": "4f059501-454d-4532-cc65-707539c4fb03"
      },
      "outputs": [
        {
          "data": {
            "text/plain": [
              "([1, 0, 1], 50, 180)"
            ]
          },
          "execution_count": 25,
          "metadata": {},
          "output_type": "execute_result"
        }
      ],
      "source": [
        "weights = [20, 50, 30]\n",
        "values = [60, 100, 120] \n",
        "knapsack_01(capacity=50, weights=weights, values=values)"
      ]
    },
    {
      "cell_type": "code",
      "execution_count": 26,
      "metadata": {
        "colab": {
          "base_uri": "https://localhost:8080/"
        },
        "id": "jzk8NxD-oygG",
        "outputId": "4414bc06-6e78-4ff9-9c35-4743b818e6b0"
      },
      "outputs": [
        {
          "name": "stdout",
          "output_type": "stream",
          "text": [
            "Added best deal at the moment val/weight 4.0\n",
            "Added weight 30\n",
            "Added value 120\n",
            "Added best deal at the moment val/weight 3.0\n",
            "Added weight 20\n",
            "Added value 60\n"
          ]
        },
        {
          "data": {
            "text/plain": [
              "([1, 0, 1], 50, 180)"
            ]
          },
          "execution_count": 26,
          "metadata": {},
          "output_type": "execute_result"
        }
      ],
      "source": [
        "knapsack_01(capacity=50, weights=weights, values=values, debug=True)"
      ]
    },
    {
      "cell_type": "markdown",
      "metadata": {
        "id": "kdxp7aTCmBHr"
      },
      "source": [
        "Running the `knapsack_01` function on the example input above returns a knapsack containing item 1 and item 3, with a total weight equal to its maximum capacity and a value of 180."
      ]
    },
    {
      "cell_type": "markdown",
      "metadata": {
        "id": "n_wv_eqEmBHr"
      },
      "source": [
        "Let us take a look at another example:"
      ]
    },
    {
      "cell_type": "code",
      "execution_count": 19,
      "metadata": {
        "colab": {
          "base_uri": "https://localhost:8080/"
        },
        "id": "sQFOjrdV8uxN",
        "outputId": "6e323559-96e0-4342-e0ba-df84bab83ddf"
      },
      "outputs": [
        {
          "data": {
            "text/plain": [
              "(1.75, 1.3333333333333333, 1.7)"
            ]
          },
          "execution_count": 19,
          "metadata": {},
          "output_type": "execute_result"
        }
      ],
      "source": [
        "70/40, 40/30, 34/20 # Euro/kg"
      ]
    },
    {
      "cell_type": "code",
      "execution_count": 27,
      "metadata": {
        "colab": {
          "base_uri": "https://localhost:8080/"
        },
        "id": "oUmo9--1mBHr",
        "outputId": "a76a3c37-ca0c-43a8-fb07-eb1dbf29360b"
      },
      "outputs": [
        {
          "name": "stdout",
          "output_type": "stream",
          "text": [
            "Added best deal at the moment val/weight 1.75\n",
            "Added weight 40\n",
            "Added value 70\n"
          ]
        },
        {
          "data": {
            "text/plain": [
              "([1, 0, 0], 40, 70)"
            ]
          },
          "execution_count": 27,
          "metadata": {},
          "output_type": "execute_result"
        }
      ],
      "source": [
        "weights = [40, 30, 20]\n",
        "values = [70, 40, 34] \n",
        "\n",
        "knapsack_01(capacity=50, weights=weights, values=values, debug=True)"
      ]
    },
    {
      "cell_type": "markdown",
      "metadata": {
        "id": "PcxlwfVVmBHr"
      },
      "source": [
        "Notice the problem here? Our greedy algorithm suggests packing item 1 with weight 40 and a value of 70. Now, our knapsack can't pack any of the other items (weights 20 and 30), without exceeding its capacity. This is an example of where a greedy strategy leads to a globally suboptimal solution. An optimal solution would be to take 1 copy of item 2 and 1 copy of item 3, so that our knapsack carries a weight of 50 with a value of 74."
      ]
    },
    {
      "cell_type": "markdown",
      "metadata": {
        "id": "_tEBPWAymBHr"
      },
      "source": [
        "### Fractional Knapsack"
      ]
    },
    {
      "cell_type": "markdown",
      "metadata": {
        "id": "TfG6KuvWmBHr"
      },
      "source": [
        "Now, let's implement a slightly different flavor of the knapsack problem, the fractional knapsack, which is guaranteed to find the optimal solution. Here, the rules are slightly different from the 0-1 knapsack that we implemented earlier. Instead of either just *including* or *excluding* an item in the knapsack, we can also add fractions $f$ of an item, subject to the constraint $0 \\geq f \\leq 1$."
      ]
    },
    {
      "cell_type": "markdown",
      "metadata": {
        "id": "YrMMtmQlmBHr"
      },
      "source": [
        "Now, let's take our 0-1 knapsack implementation as a template and make some slight modifications to come up with a fractional knapsack algorithm:"
      ]
    },
    {
      "cell_type": "code",
      "execution_count": 28,
      "metadata": {
        "id": "BC8eRaW6mBHs"
      },
      "outputs": [],
      "source": [
        "def knapsack_fract(capacity, weights, values, debug=False):\n",
        "    val_by_weight = [value / weight \n",
        "                     for value, weight in zip(values, weights)]\n",
        "    sort_idx = [i[0] for i in sorted(enumerate(val_by_weight), \n",
        "                                     key=lambda x:x[1], \n",
        "                                     reverse=True)]\n",
        "    knapsack = [0 for _ in values]\n",
        "    total_weight, total_value = 0, 0\n",
        "\n",
        "    for i in sort_idx:\n",
        "        if total_weight + weights[i] <= capacity:  # so we add the best deal for full 100% if we have space\n",
        "            knapsack[i] = 1\n",
        "            total_weight += weights[i]\n",
        "            total_value += values[i]\n",
        "            if debug:\n",
        "                print(\"Added best deal at the moment val/weight\", values[i]/weights[i])\n",
        "                print(\"Added weight\", weights[i])\n",
        "                print(\"Added value\", values[i])\n",
        "        else:  # unlike 0-1 we can add a fraction of the best deal at the time\n",
        "            allowed = capacity - total_weight\n",
        "            frac = allowed / weights[i]\n",
        "            knapsack[i] = round(frac, 4) # we use round for practical reasons because of float imprecisions\n",
        "            total_weight += allowed\n",
        "            total_value += frac * values[i]   \n",
        "            if debug:\n",
        "                print(\"Added a fraction of the  at the moment val/weight\", values[i]/weights[i])\n",
        "                print(\"Fraction added\", knapsack[i])\n",
        "                print(\"Added weight\", weights[i])\n",
        "                print(\"Added value\", values[i])        \n",
        "        if total_weight >= capacity:\n",
        "            break\n",
        "    if debug:\n",
        "        print(knapsack, total_weight, round(total_value, 4))\n",
        "    return knapsack, total_weight, round(total_value, 4)"
      ]
    },
    {
      "cell_type": "markdown",
      "metadata": {
        "id": "N1VRqi7ImBHs"
      },
      "source": [
        "Let's give it a whirl on a simple example first:"
      ]
    },
    {
      "cell_type": "code",
      "execution_count": 29,
      "metadata": {
        "colab": {
          "base_uri": "https://localhost:8080/"
        },
        "id": "yVprmVZDmBHs",
        "outputId": "143c2729-df99-4927-9239-fff799d02e34"
      },
      "outputs": [
        {
          "name": "stdout",
          "output_type": "stream",
          "text": [
            "Added best deal at the moment val/weight 4.0\n",
            "Added weight 30\n",
            "Added value 120\n",
            "Added best deal at the moment val/weight 3.0\n",
            "Added weight 20\n",
            "Added value 60\n",
            "[1, 0, 1] 50 180\n"
          ]
        },
        {
          "data": {
            "text/plain": [
              "([1, 0, 1], 50, 180)"
            ]
          },
          "execution_count": 29,
          "metadata": {},
          "output_type": "execute_result"
        }
      ],
      "source": [
        "weights = [20, 50, 30]\n",
        "values = [60, 100, 120] \n",
        "knapsack_fract(capacity=50, weights=weights, values=values, debug=True)"
      ]
    },
    {
      "cell_type": "markdown",
      "metadata": {
        "id": "ugAC_p72mBHs"
      },
      "source": [
        "The solution is an optimal solution, and we notice that it is the same as the one we got by using the 0-1 knapsack previously."
      ]
    },
    {
      "cell_type": "markdown",
      "metadata": {
        "id": "pvGTyMXamBHs"
      },
      "source": [
        "To demonstrate the difference between the 0-1 knapsack and the fractional knapsack, let's do a second example:"
      ]
    },
    {
      "cell_type": "code",
      "execution_count": 30,
      "metadata": {
        "colab": {
          "base_uri": "https://localhost:8080/"
        },
        "id": "R7MBKvtmmBHs",
        "outputId": "a6087693-a8b5-4e42-f569-1e6ee09a1cef"
      },
      "outputs": [
        {
          "data": {
            "text/plain": [
              "([0.3333], 10, 166.6667)"
            ]
          },
          "execution_count": 30,
          "metadata": {},
          "output_type": "execute_result"
        }
      ],
      "source": [
        "weights = [30]\n",
        "values = [500] \n",
        "\n",
        "knapsack_fract(capacity=10, weights=weights, values=values)"
      ]
    },
    {
      "cell_type": "code",
      "execution_count": 31,
      "metadata": {
        "colab": {
          "base_uri": "https://localhost:8080/"
        },
        "id": "_ZKUIQFpmBHt",
        "outputId": "0d311ec1-fdf7-4abe-be24-b8eaa8b0e8d0"
      },
      "outputs": [
        {
          "name": "stdout",
          "output_type": "stream",
          "text": [
            "Added best deal at the moment val/weight 1.75\n",
            "Added weight 40\n",
            "Added value 70\n",
            "Added a fraction of the  at the moment val/weight 1.7\n",
            "Fraction added 0.5\n",
            "Added weight 20\n",
            "Added value 34\n",
            "[1, 0, 0.5] 50 87.0\n"
          ]
        },
        {
          "data": {
            "text/plain": [
              "([1, 0, 0.5], 50, 87.0)"
            ]
          },
          "execution_count": 31,
          "metadata": {},
          "output_type": "execute_result"
        }
      ],
      "source": [
        "weights = [40, 30, 20]\n",
        "values = [70, 40, 34] \n",
        "\n",
        "knapsack_fract(capacity=50, weights=weights, values=values, debug=True)"
      ]
    },
    {
      "cell_type": "code",
      "execution_count": 32,
      "metadata": {
        "colab": {
          "base_uri": "https://localhost:8080/"
        },
        "id": "NsYfKD9x-Onu",
        "outputId": "82c0221b-89e4-4c31-b80d-19d59486690e"
      },
      "outputs": [
        {
          "name": "stdout",
          "output_type": "stream",
          "text": [
            "Added best deal at the moment val/weight 1.8\n",
            "Added weight 20\n",
            "Added value 36\n",
            "Added a fraction of the  at the moment val/weight 1.75\n",
            "Fraction added 0.75\n",
            "Added weight 40\n",
            "Added value 70\n",
            "[0.75, 0, 1] 50 88.5\n"
          ]
        },
        {
          "data": {
            "text/plain": [
              "([0.75, 0, 1], 50, 88.5)"
            ]
          },
          "execution_count": 32,
          "metadata": {},
          "output_type": "execute_result"
        }
      ],
      "source": [
        "weights = [40, 30, 20]\n",
        "values = [70, 40, 36] \n",
        "knapsack_fract(capacity=50, weights=weights, values=values, debug=True)"
      ]
    },
    {
      "cell_type": "markdown",
      "metadata": {
        "id": "Fn2AnSaDmBHt"
      },
      "source": [
        "## Example 3: Point-Cover-Interval Problem"
      ]
    },
    {
      "cell_type": "markdown",
      "metadata": {
        "id": "Dn8PhO7K_auB"
      },
      "source": [
        "![Point cover](https://i.stack.imgur.com/4klhj.png)"
      ]
    },
    {
      "cell_type": "markdown",
      "metadata": {
        "id": "JS41qwuzmBHt"
      },
      "source": [
        "The classic Point-Cover-Interval problem is another example that is well suited for demonstrating greedy algorithms. Here, we are given a set of Intervals *L*, and we want to find the minimum set of points so that each interval is covered at least once by a given point as illustrated in the example below:\n",
        "\n",
        "![](https://github.com/ValRCS/RTU_Algorithms_DIP321/blob/main/topics/images/point-cover-interval-ex.png?raw=1)"
      ]
    },
    {
      "cell_type": "markdown",
      "metadata": {},
      "source": [
        "### Real world example of point-cover-interval problem\n",
        "\n",
        "Real world example of point-cover-interval problem is the problem of scheduling lectures. You are given a set of lectures and you want to schedule them in such a way that you use the least number of classrooms. Each classroom can be used for a certain period of time. You want to schedule the lectures in such a way that you use the least number of classrooms.\n",
        "\n",
        "Points would be the classrooms and the intervals would be the lectures. You want to schedule the lectures in such a way that you use the least number of classrooms. TODO is this really the same problem?"
      ]
    },
    {
      "cell_type": "markdown",
      "metadata": {
        "id": "jcTPqvjSmBHt"
      },
      "source": [
        "Our greedy strategy, which finds the optimal solution for this problem, can be as follows:\n",
        "\n",
        "- sort intervals in increasing order by the value of their endpoints\n",
        "- for interval in interval-set:\n",
        "    - if interval is not yet covered:\n",
        "        - add interval-endpoint to the set of points"
      ]
    },
    {
      "cell_type": "code",
      "execution_count": 33,
      "metadata": {
        "id": "bHsr1aSRmBHt"
      },
      "outputs": [],
      "source": [
        "def min_points(intervals, debug=True):\n",
        "    s_ints = sorted(intervals, key=lambda x: x[1])  # n log n of course in in ascending order by endpoint!\n",
        "    if debug:\n",
        "        print(s_ints)\n",
        "    points = [s_ints[0][-1]]\n",
        "\n",
        "    for interv in s_ints: # O(n) of course where n is number of intervals\n",
        "        if not(points[-1] >= interv[0] and points[-1] <= interv[-1]):\n",
        "            points.append(interv[-1])  # careful with append not all append type operations will be O(1) in all languages\n",
        "        \n",
        "    return points"
      ]
    },
    {
      "cell_type": "code",
      "execution_count": 34,
      "metadata": {
        "colab": {
          "base_uri": "https://localhost:8080/"
        },
        "id": "ZcQgosMrmBHt",
        "outputId": "3a00229e-292d-4d1a-c179-75afb4376e4a"
      },
      "outputs": [
        {
          "name": "stdout",
          "output_type": "stream",
          "text": [
            "[[1, 3], [2, 5], [3, 6]]\n"
          ]
        },
        {
          "data": {
            "text/plain": [
              "[3]"
            ]
          },
          "execution_count": 34,
          "metadata": {},
          "output_type": "execute_result"
        }
      ],
      "source": [
        "pts = [[2, 5], [1, 3], [3, 6]] # we assume that end and startin points are included\n",
        "min_points(pts)"
      ]
    },
    {
      "cell_type": "code",
      "execution_count": 35,
      "metadata": {
        "colab": {
          "base_uri": "https://localhost:8080/"
        },
        "id": "w_BKwP_OmBHt",
        "outputId": "a2755aa4-c5c9-4d0e-fefd-d2dd07f13915"
      },
      "outputs": [
        {
          "name": "stdout",
          "output_type": "stream",
          "text": [
            "[[1, 3], [2, 5], [5, 6], [4, 7]]\n"
          ]
        },
        {
          "data": {
            "text/plain": [
              "[3, 6]"
            ]
          },
          "execution_count": 35,
          "metadata": {},
          "output_type": "execute_result"
        }
      ],
      "source": [
        "pts = [[4, 7], [1, 3], [2, 5], [5, 6]]\n",
        "min_points(pts)\n",
        "# not the only solution points [2, 5] would also cover the intervals\n",
        "# again these are points on a 1d line"
      ]
    },
    {
      "cell_type": "code",
      "execution_count": 36,
      "metadata": {
        "colab": {
          "base_uri": "https://localhost:8080/"
        },
        "id": "7MIu959umBHu",
        "outputId": "cd23c406-3aee-4c55-949c-b15db5008fad"
      },
      "outputs": [
        {
          "name": "stdout",
          "output_type": "stream",
          "text": [
            "[[1, 2], [5, 14], [13, 15]]\n"
          ]
        },
        {
          "data": {
            "text/plain": [
              "[2, 14]"
            ]
          },
          "execution_count": 36,
          "metadata": {},
          "output_type": "execute_result"
        }
      ],
      "source": [
        "pts = [[1,2],[5,14], [13,15]]\n",
        "min_points(pts)"
      ]
    },
    {
      "cell_type": "code",
      "execution_count": 37,
      "metadata": {
        "id": "-9wh4to_sd7s"
      },
      "outputs": [],
      "source": [
        "# we could use starting points as our sort parameter then we have to go backwards\n",
        "def max_points(intervals, debug=True):\n",
        "    s_ints = sorted(intervals, key=lambda x: x[0], reverse=True)  # sort by starting point\n",
        "    if debug:\n",
        "        print(\"Sorted by starting\", s_ints)\n",
        "    points = [s_ints[0][0]]\n",
        "\n",
        "    for interv in s_ints:\n",
        "        if not(points[-1] >= interv[0] and points[-1] <= interv[-1]):\n",
        "            points.append(interv[0])\n",
        "        \n",
        "    return points"
      ]
    },
    {
      "cell_type": "code",
      "execution_count": 38,
      "metadata": {
        "colab": {
          "base_uri": "https://localhost:8080/"
        },
        "id": "09jQQHkEssy_",
        "outputId": "17035c2e-c0d3-41e5-8374-3c69feba5c7f"
      },
      "outputs": [
        {
          "name": "stdout",
          "output_type": "stream",
          "text": [
            "Sorted by starting [[5, 6], [4, 7], [2, 5], [1, 3]]\n"
          ]
        },
        {
          "data": {
            "text/plain": [
              "[5, 1]"
            ]
          },
          "execution_count": 38,
          "metadata": {},
          "output_type": "execute_result"
        }
      ],
      "source": [
        "pts = [[4, 7], [1, 3], [2, 5], [5, 6]]\n",
        "max_points(pts)"
      ]
    },
    {
      "cell_type": "code",
      "execution_count": 39,
      "metadata": {
        "colab": {
          "base_uri": "https://localhost:8080/"
        },
        "id": "Cp6f_1i9BWSH",
        "outputId": "bae2e01d-ca68-45dd-97be-82e4c6c6b043"
      },
      "outputs": [
        {
          "name": "stdout",
          "output_type": "stream",
          "text": [
            "[[1, 3], [2, 5], [5, 6], [4, 7]]\n"
          ]
        },
        {
          "data": {
            "text/plain": [
              "[3, 6]"
            ]
          },
          "execution_count": 39,
          "metadata": {},
          "output_type": "execute_result"
        }
      ],
      "source": [
        "min_points(pts)"
      ]
    },
    {
      "cell_type": "markdown",
      "metadata": {
        "id": "2ni02S6tmBHu"
      },
      "source": [
        "## Example 4: Pairwise Distinct Summands"
      ]
    },
    {
      "cell_type": "markdown",
      "metadata": {
        "id": "ddWKl_frmBHu"
      },
      "source": [
        "In the pairwise distinct summands problem, we are given an integer $n$, and our goal is to find the maximum number of unique summands. For example, given an integer n=8, the maximum number of unique summands would be `[1 + 2 + 5] = 3`."
      ]
    },
    {
      "cell_type": "markdown",
      "metadata": {
        "id": "Jh-xi_AumBHu"
      },
      "source": [
        "Implemented in code using a greedy strategy, it looks as follows:"
      ]
    },
    {
      "cell_type": "code",
      "execution_count": 43,
      "metadata": {
        "collapsed": true,
        "id": "B2yQDrhEmBHu"
      },
      "outputs": [],
      "source": [
        "def max_summands(num, debug=False):\n",
        "    summands = []\n",
        "    sum_summands = 0\n",
        "    next_int = 1\n",
        "\n",
        "    while sum_summands + next_int <= num:\n",
        "        sum_summands += next_int\n",
        "        summands.append(next_int)\n",
        "        if debug:\n",
        "            print(sum_summands, summands)\n",
        "        next_int += 1\n",
        "\n",
        "    # so last number will be the difference between the sum and the number\n",
        "    # we can prove that this number has not yet been used\n",
        "    summands[-1] += num - sum_summands\n",
        "    return summands"
      ]
    },
    {
      "cell_type": "code",
      "execution_count": 42,
      "metadata": {
        "colab": {
          "base_uri": "https://localhost:8080/"
        },
        "id": "NlsnnBqBBtgH",
        "outputId": "e2e1cc6d-e297-4ece-94e6-76613f229d01"
      },
      "outputs": [
        {
          "name": "stdout",
          "output_type": "stream",
          "text": [
            "1 [1]\n",
            "3 [1, 2]\n",
            "6 [1, 2, 3]\n"
          ]
        },
        {
          "data": {
            "text/plain": [
              "[1, 2, 5]"
            ]
          },
          "execution_count": 42,
          "metadata": {},
          "output_type": "execute_result"
        }
      ],
      "source": [
        "max_summands(8, debug=True)"
      ]
    },
    {
      "cell_type": "code",
      "execution_count": 44,
      "metadata": {
        "colab": {
          "base_uri": "https://localhost:8080/"
        },
        "id": "jD1qrsAcBvpd",
        "outputId": "a1e0edb0-71b4-48b7-b22a-b905b10222c0"
      },
      "outputs": [
        {
          "name": "stdout",
          "output_type": "stream",
          "text": [
            "1 [1]\n",
            "3 [1, 2]\n",
            "6 [1, 2, 3]\n",
            "10 [1, 2, 3, 4]\n",
            "15 [1, 2, 3, 4, 5]\n",
            "21 [1, 2, 3, 4, 5, 6]\n",
            "28 [1, 2, 3, 4, 5, 6, 7]\n",
            "36 [1, 2, 3, 4, 5, 6, 7, 8]\n",
            "45 [1, 2, 3, 4, 5, 6, 7, 8, 9]\n",
            "55 [1, 2, 3, 4, 5, 6, 7, 8, 9, 10]\n",
            "66 [1, 2, 3, 4, 5, 6, 7, 8, 9, 10, 11]\n",
            "78 [1, 2, 3, 4, 5, 6, 7, 8, 9, 10, 11, 12]\n",
            "91 [1, 2, 3, 4, 5, 6, 7, 8, 9, 10, 11, 12, 13]\n"
          ]
        },
        {
          "data": {
            "text/plain": [
              "[1, 2, 3, 4, 5, 6, 7, 8, 9, 10, 11, 12, 22]"
            ]
          },
          "execution_count": 44,
          "metadata": {},
          "output_type": "execute_result"
        }
      ],
      "source": [
        "max_summands(100, debug=True)"
      ]
    },
    {
      "cell_type": "code",
      "execution_count": null,
      "metadata": {
        "id": "pf-EEf4qB2xa"
      },
      "outputs": [],
      "source": [
        "# Prove that this is optimal!"
      ]
    },
    {
      "cell_type": "markdown",
      "metadata": {
        "id": "TnoD35qsmBHu"
      },
      "source": [
        "First, we intitialize the sum of the summands to 0 and evaluate the integer `next_int=1`. We then enter a while loop if the sum of the summ"
      ]
    },
    {
      "cell_type": "markdown",
      "metadata": {
        "id": "LkUzFm6SmBHu"
      },
      "source": [
        "## Set Cover Problems"
      ]
    },
    {
      "cell_type": "markdown",
      "metadata": {
        "id": "bUmsRo-kmBHv"
      },
      "source": [
        "Set cover problems are problems where we want to find the minimum number of subsets such that their set union contains all items in a target set. This target set is typically called the \"universe.\" To borrow an example from the excellent [Wikipedia page](https://en.wikipedia.org/wiki/Set_cover_problem) on set cover problems, let's assume we have the universe \n",
        "\n",
        "- $U=\\{1, 2, 3, 4, 5\\}$\n",
        "\n",
        "and are given the collection of sets \n",
        "\n",
        "- $C=\\{\\{1, 2, 3\\}, \\{2, 4\\}, \\{3, 4\\}, \\{4, 5\\}\\}$\n",
        "\n",
        "The task is to find the minimum number of sets in $C$ so that their union equals $U$.\n",
        "\n",
        "Note that set cover problems are NP-complete, thus no computationally efficient solution exists. However, we can use greedy algorithms to approximate the solution; this solution may or may not be globally optimal.\n",
        "\n",
        "The greedy strategy we are going to employ is very simple and works as follows:\n",
        "\n",
        "- While not all elements in U are covered:\n",
        "  - For all uncovered sets in C:\n",
        "  - Pick the set that covers most of the elements in U"
      ]
    },
    {
      "cell_type": "markdown",
      "metadata": {
        "id": "CA0RZJCu1RyB"
      },
      "source": [
        "[Set Covers in Practice](https://cs.stackexchange.com/questions/74407/what-are-the-real-world-applications-of-set-cover-problem)"
      ]
    },
    {
      "cell_type": "code",
      "execution_count": 25,
      "metadata": {
        "colab": {
          "base_uri": "https://localhost:8080/"
        },
        "id": "h73VUjgpmBHv",
        "outputId": "5c770cdb-60a7-477e-d2df-b7bc6e161fe7"
      },
      "outputs": [
        {
          "name": "stdout",
          "output_type": "stream",
          "text": [
            "['set_1', 'set_2', 'set_4']\n"
          ]
        }
      ],
      "source": [
        "collection = {'set_1': {1, 2, 3},\n",
        "              'set_2': {2, 4}, \n",
        "              'set_3': {3, 4}, \n",
        "              'set_4': {4, 5}}\n",
        "sets_used = []\n",
        "elements_not_covered = {1, 2, 3, 4, 5}\n",
        "\n",
        "\n",
        "while elements_not_covered:\n",
        "    # initialize with empty set\n",
        "    elements_covered = set()\n",
        "    for set_ in collection.keys():\n",
        "        \n",
        "        if set_ in sets_used:\n",
        "            continue\n",
        "        \n",
        "        current_set = collection[set_]\n",
        "        # we add elements to potential solution\n",
        "        would_cover = elements_covered.union(current_set)\n",
        "        # and if this set helps we just add the new elements\n",
        "        if len(would_cover) > len(elements_covered):\n",
        "            elements_covered = would_cover\n",
        "            sets_used.append(set_)\n",
        "            elements_not_covered -= elements_covered\n",
        "            \n",
        "            if not elements_not_covered:\n",
        "                break\n",
        "    \n",
        "print(sets_used)"
      ]
    },
    {
      "cell_type": "code",
      "execution_count": 26,
      "metadata": {
        "colab": {
          "base_uri": "https://localhost:8080/"
        },
        "id": "1EN-99QN2rPJ",
        "outputId": "a3d258f5-cd9d-4665-9ea8-ee76ee5d30cd"
      },
      "outputs": [
        {
          "name": "stdout",
          "output_type": "stream",
          "text": [
            "{1, 2, 3}\n",
            "{2, 4}\n",
            "{4, 5}\n"
          ]
        }
      ],
      "source": [
        "for set_ in sets_used:\n",
        "    print(collection[set_])"
      ]
    },
    {
      "cell_type": "markdown",
      "metadata": {
        "id": "CBug4hKGmBHv"
      },
      "source": [
        "As a result, we can see that 3 sets are required to cover the universe U. In this case, the greedy algorithm has not found the globally optimal solution, which would be `'set_1'` and `'set_4'`. Note that this is just a trivial example, and greedy algorithms can be very useful approximators for solutions that are computationally infeasible.\n",
        "\n",
        "For instance, an exhaustive solution to this problem that would guaranteed to find the global optimum (remember that set cover problems are NP-complete) would involve iterating over a power set, which has $2^n$ elements, where $n$ is the number of sets in the collection. For example, a collection of 30 sets would already require comparing the solutions of $2^{30}=1,073,741,824$ million possible combinations!\n",
        "\n",
        "(Note that the greedy approach may have found the globally optimal solution in this simple example if it had iterated over the dictionary in a different order -- for example, if we had swapped the positions of {2, 4} and {4, 5})"
      ]
    }
  ],
  "metadata": {
    "colab": {
      "name": "greedy-algorithm-intro.ipynb",
      "provenance": []
    },
    "kernelspec": {
      "display_name": "Python 3",
      "language": "python",
      "name": "python3"
    },
    "language_info": {
      "codemirror_mode": {
        "name": "ipython",
        "version": 3
      },
      "file_extension": ".py",
      "mimetype": "text/x-python",
      "name": "python",
      "nbconvert_exporter": "python",
      "pygments_lexer": "ipython3",
      "version": "3.10.7"
    }
  },
  "nbformat": 4,
  "nbformat_minor": 0
}
