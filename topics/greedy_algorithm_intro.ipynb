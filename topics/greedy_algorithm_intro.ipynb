{
  "cells": [
    {
      "cell_type": "markdown",
      "metadata": {
        "id": "l_KGeycUmBHd"
      },
      "source": [
        "# Introduction to Greedy Algorithms\n",
        "\n",
        "Adopted from: https://github.com/rasbt/algorithms_in_ipython_notebooks\n",
        "\n",
        "Extra material from: https://www.freecodecamp.org/news/what-is-a-greedy-algorithm/\n"
      ]
    },
    {
      "cell_type": "markdown",
      "metadata": {
        "id": "_5dWTC4JmBHg"
      },
      "source": [
        "![Burns](https://upload.wikimedia.org/wikipedia/en/5/56/Mr_Burns.png) | ![Gordon](https://upload.wikimedia.org/wikipedia/en/4/40/Gordon_Gekko.jpg)\n",
        "\n",
        "From: https://en.wikipedia.org/wiki/Wall_Street_(1987_film)"
      ]
    },
    {
      "cell_type": "markdown",
      "metadata": {
        "id": "RxwYEorPmBHh"
      },
      "source": [
        "The subfamily of *Greedy Algorithms* is one of the main paradigms of algorithmic problem solving next to *Dynamic Programming* and *Divide & Conquer Algorithms*. The main goal behind greedy algorithms is to implement an efficient procedure for often computationally more complex, often infeasible brute-force methods such as exhaustive search algorithms.\n",
        "\n",
        "The main outline of a greedy algorithms consists of 3 steps:\n",
        "\n",
        "- make a greedy choice\n",
        "- reduce the problem to a subproblem (a smaller problem of the similar type as the original one)\n",
        "- repeat\n",
        "\n",
        "So, greedy algorithms are essentially a problem solving heuristic, an iterative process of tackling a problem in multiple stages while making an locally optimal choice at each stage. In practice, and depending on the problem task, making this series of locally optimal (\"greedy\") choices must not necessarily lead to a globally optimal solution."
      ]
    },
    {
      "cell_type": "markdown",
      "metadata": {
        "id": "uSqHcSBSmBHi"
      },
      "source": [
        "![Greedy Mountain](https://upload.wikimedia.org/wikipedia/commons/8/8c/Greedy-search-path-example.gif)"
      ]
    },
    {
      "cell_type": "markdown",
      "metadata": {
        "id": "sZVY_IMPiiLL"
      },
      "source": [
        "# What happens when we have a greedy algorithm to look for the highest peak\n",
        "## greedy rule here is - highest slope\n",
        "\n",
        "## Where will you end up?\n",
        "\n",
        "Starting at point A, will you end up at M or m?"
      ]
    },
    {
      "cell_type": "markdown",
      "metadata": {
        "id": "DONsqjZEidXr"
      },
      "source": [
        "![LocalMax](https://upload.wikimedia.org/wikipedia/commons/thumb/0/06/Greedy_Glouton.svg/300px-Greedy_Glouton.svg.png)\n"
      ]
    },
    {
      "cell_type": "code",
      "execution_count": null,
      "metadata": {
        "id": "xkwNBvY0mBHi"
      },
      "outputs": [],
      "source": []
    },
    {
      "cell_type": "markdown",
      "metadata": {
        "id": "wnOIQwPTWE11"
      },
      "source": [
        "# Formal Definition of Greedy Algorithm\n",
        "\n",
        "Assume that you have an objective function that needs to be optimized (either maximized or minimized) at a given point. A Greedy algorithm makes greedy choices at each step to ensure that the objective function is optimized. The Greedy algorithm has only one shot to compute the optimal solution so that it never goes back and reverses the decision.\n",
        "\n",
        "## Greedy algorithms have some advantages and disadvantages:\n",
        "\n",
        "* It is quite easy to come up with a greedy algorithm (or even multiple greedy algorithms) for a problem. Analyzing the run time for greedy algorithms will generally be much easier than for other techniques (like Divide and conquer). For the Divide and conquer technique, it is not clear whether the technique is fast or slow. This is because at each level of recursion the size of gets smaller and the number of sub-problems increases.\n",
        "* The difficult part is that for greedy algorithms you have to work much harder to understand correctness issues. Even with the correct algorithm, it is hard to prove why it is correct. Proving that a greedy algorithm is correct is more of an art than a science. It involves a lot of creativity. Usually, coming up with an algorithm might seem to be trivial, but proving that it is actually correct, is a whole different problem."
      ]
    },
    {
      "cell_type": "markdown",
      "metadata": {
        "id": "ESHTMJQWmBHj"
      },
      "source": [
        "## Example 1: Coin Changer\n",
        "\n",
        "To look at a first, naive example of a greedy algorithm, let's implement a simple coin changing machine. Given a money value in cents, we want to return the minimum possible number of coins, whereas the possible denominations are 1, 5, 10, and 20 cents."
      ]
    },
    {
      "cell_type": "markdown",
      "metadata": {
        "id": "KKswlw7jmBHj"
      },
      "source": [
        "![Coin](https://upload.wikimedia.org/wikipedia/commons/thumb/d/da/Greedy_algorithm_36_cents.svg/1200px-Greedy_algorithm_36_cents.svg.png)"
      ]
    },
    {
      "cell_type": "code",
      "execution_count": 1,
      "metadata": {
        "id": "XPefYmRpmBHk"
      },
      "outputs": [],
      "source": [
        "def coinchanger(cents,\n",
        "                denominations=(1, 2, 5, 10, 20, 50, 100, 200, 500, 1000, 2000),\n",
        "                debug=False):\n",
        "    coins = {d: 0 for d in denominations}  # create a dictionary of coins (hashmap) so we have O(1) access to coin counts\n",
        "    for c in sorted(coins.keys(), reverse=True):  # of course remember that sorting in general is n log n, here we are sorting denominations\n",
        "        # so we try to put the highest denomination first\n",
        "        coins[c] += cents // c # here is the greedy step we add as many of our highest coins at this moment\n",
        "        # note // is integer division in python3\n",
        "        cents = cents % c # proceed to whatever is left\n",
        "        if debug:\n",
        "            print(f\"Current coin {c}, {cents=}, {coins=}\")\n",
        "        if not cents: # in practice I'd prefer to use something like if cents <= 0, because of truthy and falsy rules\n",
        "            total_coins = sum([i for i in coins.values()])\n",
        "            return sorted(coins.items(), reverse=True), total_coins"
      ]
    },
    {
      "cell_type": "markdown",
      "metadata": {
        "id": "ZxCca-_7mBHk"
      },
      "source": [
        "The funtion above creates a dictionary, `coins`, which tracks the number of coins of each denomination to be returned. Then, we iterate though the denominations in descending order of their value. Now, in a \"greedy\" fashion, we count the highest possible number of coins from the largest denomination in the first step. We repeat this process until we reached the smallest denomination or the number of remaining `cents` reaches 0."
      ]
    },
    {
      "cell_type": "code",
      "execution_count": 2,
      "metadata": {
        "colab": {
          "base_uri": "https://localhost:8080/"
        },
        "id": "cZccYp7SmBHl",
        "outputId": "3ddcf119-2e91-44ae-b922-ed086f437902"
      },
      "outputs": [
        {
          "output_type": "stream",
          "name": "stdout",
          "text": [
            "Current coin 2000, cents=36, coins={1: 0, 2: 0, 5: 0, 10: 0, 20: 0, 50: 0, 100: 0, 200: 0, 500: 0, 1000: 0, 2000: 0}\n",
            "Current coin 1000, cents=36, coins={1: 0, 2: 0, 5: 0, 10: 0, 20: 0, 50: 0, 100: 0, 200: 0, 500: 0, 1000: 0, 2000: 0}\n",
            "Current coin 500, cents=36, coins={1: 0, 2: 0, 5: 0, 10: 0, 20: 0, 50: 0, 100: 0, 200: 0, 500: 0, 1000: 0, 2000: 0}\n",
            "Current coin 200, cents=36, coins={1: 0, 2: 0, 5: 0, 10: 0, 20: 0, 50: 0, 100: 0, 200: 0, 500: 0, 1000: 0, 2000: 0}\n",
            "Current coin 100, cents=36, coins={1: 0, 2: 0, 5: 0, 10: 0, 20: 0, 50: 0, 100: 0, 200: 0, 500: 0, 1000: 0, 2000: 0}\n",
            "Current coin 50, cents=36, coins={1: 0, 2: 0, 5: 0, 10: 0, 20: 0, 50: 0, 100: 0, 200: 0, 500: 0, 1000: 0, 2000: 0}\n",
            "Current coin 20, cents=16, coins={1: 0, 2: 0, 5: 0, 10: 0, 20: 1, 50: 0, 100: 0, 200: 0, 500: 0, 1000: 0, 2000: 0}\n",
            "Current coin 10, cents=6, coins={1: 0, 2: 0, 5: 0, 10: 1, 20: 1, 50: 0, 100: 0, 200: 0, 500: 0, 1000: 0, 2000: 0}\n",
            "Current coin 5, cents=1, coins={1: 0, 2: 0, 5: 1, 10: 1, 20: 1, 50: 0, 100: 0, 200: 0, 500: 0, 1000: 0, 2000: 0}\n",
            "Current coin 2, cents=1, coins={1: 0, 2: 0, 5: 1, 10: 1, 20: 1, 50: 0, 100: 0, 200: 0, 500: 0, 1000: 0, 2000: 0}\n",
            "Current coin 1, cents=0, coins={1: 1, 2: 0, 5: 1, 10: 1, 20: 1, 50: 0, 100: 0, 200: 0, 500: 0, 1000: 0, 2000: 0}\n"
          ]
        },
        {
          "output_type": "execute_result",
          "data": {
            "text/plain": [
              "([(2000, 0),\n",
              "  (1000, 0),\n",
              "  (500, 0),\n",
              "  (200, 0),\n",
              "  (100, 0),\n",
              "  (50, 0),\n",
              "  (20, 1),\n",
              "  (10, 1),\n",
              "  (5, 1),\n",
              "  (2, 0),\n",
              "  (1, 1)],\n",
              " 4)"
            ]
          },
          "metadata": {},
          "execution_count": 2
        }
      ],
      "source": [
        "coinchanger(cents=36, debug=True)"
      ]
    },
    {
      "cell_type": "code",
      "execution_count": 3,
      "metadata": {
        "colab": {
          "base_uri": "https://localhost:8080/"
        },
        "id": "hZLcxcdI0Z_k",
        "outputId": "01e38fff-c13e-4cf7-c950-b57683a3310e"
      },
      "outputs": [
        {
          "output_type": "stream",
          "name": "stdout",
          "text": [
            "Current coin 2000, cents=1452, coins={1: 0, 2: 0, 5: 0, 10: 0, 20: 0, 50: 0, 100: 0, 200: 0, 500: 0, 1000: 0, 2000: 2}\n",
            "Current coin 1000, cents=452, coins={1: 0, 2: 0, 5: 0, 10: 0, 20: 0, 50: 0, 100: 0, 200: 0, 500: 0, 1000: 1, 2000: 2}\n",
            "Current coin 500, cents=452, coins={1: 0, 2: 0, 5: 0, 10: 0, 20: 0, 50: 0, 100: 0, 200: 0, 500: 0, 1000: 1, 2000: 2}\n",
            "Current coin 200, cents=52, coins={1: 0, 2: 0, 5: 0, 10: 0, 20: 0, 50: 0, 100: 0, 200: 2, 500: 0, 1000: 1, 2000: 2}\n",
            "Current coin 100, cents=52, coins={1: 0, 2: 0, 5: 0, 10: 0, 20: 0, 50: 0, 100: 0, 200: 2, 500: 0, 1000: 1, 2000: 2}\n",
            "Current coin 50, cents=2, coins={1: 0, 2: 0, 5: 0, 10: 0, 20: 0, 50: 1, 100: 0, 200: 2, 500: 0, 1000: 1, 2000: 2}\n",
            "Current coin 20, cents=2, coins={1: 0, 2: 0, 5: 0, 10: 0, 20: 0, 50: 1, 100: 0, 200: 2, 500: 0, 1000: 1, 2000: 2}\n",
            "Current coin 10, cents=2, coins={1: 0, 2: 0, 5: 0, 10: 0, 20: 0, 50: 1, 100: 0, 200: 2, 500: 0, 1000: 1, 2000: 2}\n",
            "Current coin 5, cents=2, coins={1: 0, 2: 0, 5: 0, 10: 0, 20: 0, 50: 1, 100: 0, 200: 2, 500: 0, 1000: 1, 2000: 2}\n",
            "Current coin 2, cents=0, coins={1: 0, 2: 1, 5: 0, 10: 0, 20: 0, 50: 1, 100: 0, 200: 2, 500: 0, 1000: 1, 2000: 2}\n"
          ]
        },
        {
          "output_type": "execute_result",
          "data": {
            "text/plain": [
              "([(2000, 2),\n",
              "  (1000, 1),\n",
              "  (500, 0),\n",
              "  (200, 2),\n",
              "  (100, 0),\n",
              "  (50, 1),\n",
              "  (20, 0),\n",
              "  (10, 0),\n",
              "  (5, 0),\n",
              "  (2, 1),\n",
              "  (1, 0)],\n",
              " 7)"
            ]
          },
          "metadata": {},
          "execution_count": 3
        }
      ],
      "source": [
        "coinchanger(cents=5452, debug=True)"
      ]
    },
    {
      "cell_type": "code",
      "execution_count": 4,
      "metadata": {
        "colab": {
          "base_uri": "https://localhost:8080/"
        },
        "id": "DqqE71qUmBHm",
        "outputId": "a6d76181-ef01-4640-adc7-c93d10f069c8"
      },
      "outputs": [
        {
          "output_type": "execute_result",
          "data": {
            "text/plain": [
              "([(2000, 0),\n",
              "  (1000, 0),\n",
              "  (500, 0),\n",
              "  (200, 1),\n",
              "  (100, 1),\n",
              "  (50, 1),\n",
              "  (20, 1),\n",
              "  (10, 0),\n",
              "  (5, 1),\n",
              "  (2, 2),\n",
              "  (1, 0)],\n",
              " 7)"
            ]
          },
          "metadata": {},
          "execution_count": 4
        }
      ],
      "source": [
        "coinchanger(cents=379)"
      ]
    },
    {
      "cell_type": "code",
      "execution_count": 5,
      "metadata": {
        "colab": {
          "base_uri": "https://localhost:8080/"
        },
        "id": "GdpxLJlimBHn",
        "outputId": "f08b3228-418c-443b-c8a9-ffaba14e8a71"
      },
      "outputs": [
        {
          "output_type": "execute_result",
          "data": {
            "text/plain": [
              "([(2000, 2),\n",
              "  (1000, 0),\n",
              "  (500, 0),\n",
              "  (200, 1),\n",
              "  (100, 1),\n",
              "  (50, 1),\n",
              "  (20, 0),\n",
              "  (10, 0),\n",
              "  (5, 1),\n",
              "  (2, 0),\n",
              "  (1, 1)],\n",
              " 7)"
            ]
          },
          "metadata": {},
          "execution_count": 5
        }
      ],
      "source": [
        "coinchanger(cents=4356) # 43 euros and 56 cents"
      ]
    },
    {
      "cell_type": "markdown",
      "source": [
        "### Doubloon coin country - greedy\n"
      ],
      "metadata": {
        "id": "iT93kStT8WXv"
      }
    },
    {
      "cell_type": "code",
      "execution_count": null,
      "metadata": {
        "id": "gtRlnivem1yu"
      },
      "outputs": [],
      "source": [
        "# lets imagine a country with 1 7 10 dobloon coins"
      ]
    },
    {
      "cell_type": "code",
      "execution_count": 6,
      "metadata": {
        "colab": {
          "base_uri": "https://localhost:8080/"
        },
        "id": "S7pw2xz-mBHn",
        "outputId": "2d3f767b-74df-4a8d-d168-ad7d99769276"
      },
      "outputs": [
        {
          "output_type": "execute_result",
          "data": {
            "text/plain": [
              "([(10, 4), (7, 0), (1, 1)], 5)"
            ]
          },
          "metadata": {},
          "execution_count": 6
        }
      ],
      "source": [
        "coinchanger(cents=41, denominations=(1,7,10)) # looks good so far"
      ]
    },
    {
      "cell_type": "code",
      "source": [
        "coinchanger(cents=15, denominations=(1,7,10)) # will this give us the best optimal answer?"
      ],
      "metadata": {
        "colab": {
          "base_uri": "https://localhost:8080/"
        },
        "id": "5AFaVuk-8nVU",
        "outputId": "05c59b95-87aa-4e71-e193-0a25032e72d4"
      },
      "execution_count": 7,
      "outputs": [
        {
          "output_type": "execute_result",
          "data": {
            "text/plain": [
              "([(10, 1), (7, 0), (1, 5)], 6)"
            ]
          },
          "metadata": {},
          "execution_count": 7
        }
      ]
    },
    {
      "cell_type": "code",
      "execution_count": 9,
      "metadata": {
        "colab": {
          "base_uri": "https://localhost:8080/"
        },
        "id": "h0pKmDW6mBHn",
        "outputId": "8c300da7-b84c-4f24-eca6-8a18581ad877"
      },
      "outputs": [
        {
          "output_type": "execute_result",
          "data": {
            "text/plain": [
              "([(25, 1), (10, 2), (5, 0), (3, 0), (1, 2)], 5)"
            ]
          },
          "metadata": {},
          "execution_count": 9
        }
      ],
      "source": [
        "# soviet roubles - greedy works\n",
        "# hypothesis - greed will fail if next denomination is less than double ? prove it?\n",
        "coinchanger(cents=47, denominations=(1,3,5,10,25))"
      ]
    },
    {
      "cell_type": "code",
      "execution_count": 10,
      "metadata": {
        "colab": {
          "base_uri": "https://localhost:8080/"
        },
        "id": "dbejdC2l7Cis",
        "outputId": "903acbe0-bfba-4a23-f8d9-8047d9707e29"
      },
      "outputs": [
        {
          "output_type": "execute_result",
          "data": {
            "text/plain": [
              "([(5, 1), (4, 0), (1, 3)], 4)"
            ]
          },
          "metadata": {},
          "execution_count": 10
        }
      ],
      "source": [
        "# fake roubles 1, 4, 5 # where our greedy algorithm would NOT give us optimal solution\n",
        "coinchanger(cents=8, denominations=(1,4,5))"
      ]
    },
    {
      "cell_type": "code",
      "execution_count": 11,
      "metadata": {
        "colab": {
          "base_uri": "https://localhost:8080/"
        },
        "id": "iJEeyUFDnp-n",
        "outputId": "c91d5137-52b7-4f46-cd64-96433ac753a1"
      },
      "outputs": [
        {
          "output_type": "execute_result",
          "data": {
            "text/plain": [
              "([(25, 1), (20, 0), (10, 1), (5, 1), (1, 0)], 3)"
            ]
          },
          "metadata": {},
          "execution_count": 11
        }
      ],
      "source": [
        "# Indian money (5,10,20,25) - example of real money failing on greedy algorithm\n",
        "coinchanger(cents=40, denominations=(1,5,10,20,25))"
      ]
    },
    {
      "cell_type": "code",
      "source": [
        "# prompt: let's see some more examples of money denominations failing to obey greedy algorithm\n",
        "\n",
        "print(coinchanger(cents=30, denominations=(1, 10, 25)))\n",
        "print(coinchanger(cents=40, denominations=(1, 5, 10, 25)))\n",
        "print(coinchanger(cents=12, denominations=(1, 4, 5)))\n"
      ],
      "metadata": {
        "colab": {
          "base_uri": "https://localhost:8080/"
        },
        "id": "Se_uW9Pk9luN",
        "outputId": "4957dadc-71eb-4b09-c1a7-39b5ae48aac5"
      },
      "execution_count": 12,
      "outputs": [
        {
          "output_type": "stream",
          "name": "stdout",
          "text": [
            "([(25, 1), (10, 0), (1, 5)], 6)\n",
            "([(25, 1), (10, 1), (5, 1), (1, 0)], 3)\n",
            "([(5, 2), (4, 0), (1, 2)], 4)\n"
          ]
        }
      ]
    },
    {
      "cell_type": "markdown",
      "metadata": {
        "id": "qCewzIuZmBHo"
      },
      "source": [
        "Calling out `coinchanger` function with 100 cents as input, it returns 5 coins a 20 cents, the smallest, possible number of coins that can be returned in this case. Below are some more examples:"
      ]
    },
    {
      "cell_type": "code",
      "execution_count": null,
      "metadata": {
        "colab": {
          "base_uri": "https://localhost:8080/"
        },
        "id": "3qmpDt2OmBHo",
        "outputId": "6a6c1d51-5e18-4c78-cbac-1bc0905ebd0b"
      },
      "outputs": [
        {
          "output_type": "execute_result",
          "data": {
            "text/plain": [
              "([(2000, 0),\n",
              "  (1000, 0),\n",
              "  (500, 0),\n",
              "  (200, 0),\n",
              "  (100, 0),\n",
              "  (50, 0),\n",
              "  (20, 0),\n",
              "  (10, 0),\n",
              "  (5, 1),\n",
              "  (2, 0),\n",
              "  (1, 0)],\n",
              " 1)"
            ]
          },
          "metadata": {},
          "execution_count": 17
        }
      ],
      "source": [
        "coinchanger(cents=5)"
      ]
    },
    {
      "cell_type": "code",
      "execution_count": null,
      "metadata": {
        "colab": {
          "base_uri": "https://localhost:8080/"
        },
        "id": "Sj7zBPA3mBHo",
        "outputId": "b9562fcb-3ac1-4c9e-9cb0-669e207ea2bd"
      },
      "outputs": [
        {
          "data": {
            "text/plain": [
              "([(2000, 0),\n",
              "  (1000, 0),\n",
              "  (500, 0),\n",
              "  (100, 0),\n",
              "  (50, 0),\n",
              "  (20, 0),\n",
              "  (10, 0),\n",
              "  (5, 0),\n",
              "  (1, 4)],\n",
              " 4)"
            ]
          },
          "execution_count": 8,
          "metadata": {},
          "output_type": "execute_result"
        }
      ],
      "source": [
        "coinchanger(cents=4)"
      ]
    },
    {
      "cell_type": "code",
      "execution_count": null,
      "metadata": {
        "colab": {
          "base_uri": "https://localhost:8080/"
        },
        "id": "v6UZhRG2mBHo",
        "outputId": "694de9a4-666d-4d04-9d84-a11b0a6e9a35"
      },
      "outputs": [
        {
          "data": {
            "text/plain": [
              "([(2000, 0),\n",
              "  (1000, 0),\n",
              "  (500, 0),\n",
              "  (100, 0),\n",
              "  (50, 0),\n",
              "  (20, 1),\n",
              "  (10, 0),\n",
              "  (5, 0),\n",
              "  (1, 3)],\n",
              " 4)"
            ]
          },
          "execution_count": 9,
          "metadata": {},
          "output_type": "execute_result"
        }
      ],
      "source": [
        "coinchanger(cents=23)"
      ]
    },
    {
      "cell_type": "code",
      "execution_count": null,
      "metadata": {
        "id": "xFP5zQJlbrxF"
      },
      "outputs": [],
      "source": [
        "## TODO find another country (or previous) where greedy algorithm fails\n",
        "\n"
      ]
    },
    {
      "cell_type": "markdown",
      "metadata": {
        "id": "Xw4qRzaMWlyi"
      },
      "source": [
        "# Interval Scheduling Problem\n",
        "\n",
        "Let's dive into an interesting problem that you can encounter in almost any industry or any walk of life. Some instances of the problem are as follows:\n",
        "\n",
        "You are given a set of N schedules of lectures for a single day at a university. The schedule for a specific lecture is of the form (s time, f time) where s time represents the start time for that lecture and similarly the f time represents the finishing time. Given a list of N lecture schedules, we need to select maximum set of lectures to be held out during the day such that  none of the lectures overlap with one another i.e. if lecture Li and Lj are included in our selection then the start time of j >= finish time of i or vice versa .\n",
        "\n"
      ]
    },
    {
      "cell_type": "markdown",
      "metadata": {
        "id": "f8h5HOaWb2zs"
      },
      "source": [
        "# The Lecture Scheduling Problem\n",
        "Let's look at the various approaches for solving this problem.\n",
        "\n",
        "## Earliest Start Time First  \n",
        "\n",
        "i.e. select the interval that has the earliest start time. Take a look at the following example that breaks this solution. This solution failed because there could be an interval that starts very early but that is very long. This means the next strategy that we could try would be where we look at smaller intervals first.\n",
        "\n",
        "Example of earliest start time first failing as greedy algorithm:\n",
        "\n",
        "- 9:00 - 16:00 - Lecture 1\n",
        "- 10:00 - 12:00 - Lecture 2\n",
        "- 12:00 - 13:00 - Lecture 3\n",
        "- 13:00 - 14:00 - Lecture 4\n",
        "\n",
        "You can see how the earliest start time first algorithm would fail here. It would select lecture 1 and then it would not be able to select any other lecture. So, let's look at the next strategy.\n",
        "\n",
        "Note: we are assuming these lecturers are all equally important and we are not looking at the length of the lecture."
      ]
    },
    {
      "cell_type": "markdown",
      "metadata": {
        "id": "T5QDpe_hb7vi"
      },
      "source": [
        "## Smallest Interval First\n",
        "\n",
        " i.e. you end up selecting the lectures in order of their overall interval which is nothing but their  finish time - start time . Again, this solution is not correct. Look at the following case.\n",
        "\n",
        "![sml](https://cdn-media-1.freecodecamp.org/imgr/4bz2N.png)\n",
        "\n",
        "### Example of shortest interval first failing as greedy algorithm:\n",
        "\n",
        "- 9:00 - 12:00 - Lecture 1\n",
        "- 11:30 - 12:30   - Lecture 2\n",
        "- 12:00 - 14:00 - Lecture 3\n",
        "\n",
        "Again, you can see how the shortest interval first algorithm would fail here. It would select lecture 2 and then it would not be able to select any other lecture. So, let's look at the next strategy."
      ]
    },
    {
      "cell_type": "markdown",
      "metadata": {
        "id": "3WOklB9v0Z_n"
      },
      "source": [
        "## Longest interval first\n",
        "\n",
        "i.e. you end up selecting the lectures in order of their overall interval which is nothing but their  finish time - start time . Again, this solution is not correct. Look at the following case.\n",
        "\n",
        "### Example of longest interval first failing as greedy algorithm:\n",
        "\n",
        "- 9:00 - 12:00 - Lecture 1\n",
        "- 9:30 - 10:30   - Lecture 2\n",
        "- 11:30 - 13:00 - Lecture 3\n",
        "\n",
        "Here you can see how the longest interval first algorithm would fail here. It would select lecture 1 and then it would not be able to select any other lecture. So, let's look at the next strategy."
      ]
    },
    {
      "cell_type": "markdown",
      "metadata": {
        "id": "UOUakRJWcFNJ"
      },
      "source": [
        "## Least Conflicting Interval First\n",
        "\n",
        " i.e. you should look at intervals that cause the least number of conflicts. Yet again we have an example where this approach fails to find an optimal solution.\n",
        "\n",
        "![c](https://cdn-media-1.freecodecamp.org/imgr/5LZ9V.png)\n",
        "\n",
        "The diagram shows us that the least confliciting interval is the one in the middle with just 2 conflicts. After that we can only pick the two intervals at the very ends with conflicts 3 each. But the optimal solution is to pick the 4 intervals on the topmost level."
      ]
    },
    {
      "cell_type": "markdown",
      "metadata": {
        "id": "bY-93HO1cO9U"
      },
      "source": [
        "## Earliest Finishing time first.\n",
        "\n",
        "This is the approach that always gives us the most optimal solution to this problem. We derived a lot of insights from previous approaches and finally came upon this approach. We sort the intervals according to increasing order of their finishing times and then we start selecting intervals from the very beginning. Look at the following pseudo code for more clarity.\n",
        "\n",
        "    function interval_scheduling_problem(requests)\n",
        "        schedule \\gets \\{\\}\n",
        "        while requests is not yet empty\n",
        "            choose a request i_r \\in requests that has the lowest finishing time\n",
        "            schedule \\gets schedule \\cup \\{i_r\\}\n",
        "            delete all requests in requests that are not compatible with i_r\n",
        "        end\n",
        "        return schedule\n",
        "    end"
      ]
    },
    {
      "cell_type": "code",
      "execution_count": 13,
      "metadata": {
        "colab": {
          "base_uri": "https://localhost:8080/"
        },
        "id": "nkXr3Y-00Z_n",
        "outputId": "657a165b-7e44-4dc3-9155-db34cadd44a7"
      },
      "outputs": [
        {
          "output_type": "stream",
          "name": "stdout",
          "text": [
            "Lecture Ancient History START:900 FINISH:1000\n",
            "Lecture Basket Weaving START:930 FINISH:1030\n",
            "Lecture Calculus START:1100 FINISH:1200\n",
            "Lecture Data Structures START:1130 FINISH:1230\n",
            "Lecture Electrical Engineering START:1200 FINISH:1300\n",
            "Lecture Financial Prediction START:1230 FINISH:1330\n",
            "Lecture Gambling Analysis START:1315 FINISH:1500\n"
          ]
        }
      ],
      "source": [
        "# let's make a lecture class that will hold starting time, finishing time and a name\n",
        "# we will have a list of lectures and we want to find the maximum number of lectures we can attend\n",
        "class Lecture:\n",
        "    def __init__(self, name, start, finish):\n",
        "        self.name = name\n",
        "        self.start = start\n",
        "        self.finish = finish\n",
        "\n",
        "    def __repr__(self):\n",
        "        return f\"Lecture {self.name} START:{self.start} FINISH:{self.finish}\"\n",
        "\n",
        "# example for time we will us integers\n",
        "# 9:00 am will be 900, 5:30 pm will be 1730\n",
        "lectures = [Lecture(\"Ancient History\", 900, 1000),\n",
        "            Lecture(\"Basket Weaving\", 930, 1030),\n",
        "            Lecture(\"Calculus\", 1100, 1200),\n",
        "            Lecture(\"Data Structures\", 1130, 1230),\n",
        "            Lecture(\"Electrical Engineering\", 1200, 1300),\n",
        "            Lecture(\"Financial Prediction\", 1230, 1330),\n",
        "            Lecture(\"Gambling Analysis\", 1315, 1500),]\n",
        "\n",
        "for lecture in lectures:\n",
        "    print(lecture)"
      ]
    },
    {
      "cell_type": "code",
      "execution_count": 14,
      "metadata": {
        "id": "LVPWirsRuNgb",
        "colab": {
          "base_uri": "https://localhost:8080/"
        },
        "outputId": "f167bae3-a739-44d6-9d87-23a91b16d21f"
      },
      "outputs": [
        {
          "output_type": "stream",
          "name": "stdout",
          "text": [
            "Lectures sorted by finish time\n",
            "Lecture Ancient History START:900 FINISH:1000\n",
            "Lecture Basket Weaving START:930 FINISH:1030\n",
            "Lecture Calculus START:1100 FINISH:1200\n",
            "Lecture Data Structures START:1130 FINISH:1230\n",
            "Lecture Electrical Engineering START:1200 FINISH:1300\n",
            "Lecture Financial Prediction START:1230 FINISH:1330\n",
            "Lecture Gambling Analysis START:1315 FINISH:1500\n"
          ]
        },
        {
          "output_type": "execute_result",
          "data": {
            "text/plain": [
              "[Lecture Ancient History START:900 FINISH:1000,\n",
              " Lecture Calculus START:1100 FINISH:1200,\n",
              " Lecture Electrical Engineering START:1200 FINISH:1300,\n",
              " Lecture Gambling Analysis START:1315 FINISH:1500]"
            ]
          },
          "metadata": {},
          "execution_count": 14
        }
      ],
      "source": [
        "# type hint should be sequence of Lecture objects\n",
        "# we might have to import typing sequence # TODO\n",
        "\n",
        "def get_schedule(lectures: list[Lecture], debug=False) -> list[Lecture]:\n",
        "    \"\"\"\n",
        "    lectures should be a sequence of Lecture objects\n",
        "    we will return a list of lectures that we can attend\n",
        "    goal being maximum number of lectures\n",
        "    \"\"\"\n",
        "    if len(lectures) == 0:\n",
        "        return []\n",
        "    # sort by end time (2nd item in the tuple)\n",
        "    # this will O(n log n)\n",
        "    lectures = sorted(lectures, key = lambda lec: lec.finish)\n",
        "    if debug:\n",
        "        print(\"Lectures sorted by finish time\")\n",
        "        print(*lectures, sep=\"\\n\")\n",
        "    schedule = [lectures[0]] # we start with the lecture with the earliest end time\n",
        "    for lecture in lectures[1:]:\n",
        "        # if the start time of current lecture is more or equal to end time of last lecture we add it\n",
        "        if lecture.start >= schedule[-1].finish:\n",
        "            schedule.append(lecture)\n",
        "    return schedule\n",
        "\n",
        "get_schedule(lectures, debug=True)\n"
      ]
    },
    {
      "cell_type": "markdown",
      "metadata": {
        "id": "FH_9maTEwJGl"
      },
      "source": []
    },
    {
      "cell_type": "code",
      "execution_count": 15,
      "metadata": {
        "id": "ih8Rejxjv6z1"
      },
      "outputs": [],
      "source": [
        "some_lectures = [Lecture(\"A\", 900, 1000),Lecture(\"B\", 815, 1200), Lecture(\"C\", 1100, 1200)]"
      ]
    },
    {
      "cell_type": "code",
      "execution_count": 16,
      "metadata": {
        "colab": {
          "base_uri": "https://localhost:8080/"
        },
        "id": "Zh9aukzewKun",
        "outputId": "7c692c17-1da7-4183-8134-de8e51a993b0"
      },
      "outputs": [
        {
          "output_type": "execute_result",
          "data": {
            "text/plain": [
              "[Lecture A START:900 FINISH:1000, Lecture C START:1100 FINISH:1200]"
            ]
          },
          "metadata": {},
          "execution_count": 16
        }
      ],
      "source": [
        "get_schedule(some_lectures)"
      ]
    },
    {
      "cell_type": "markdown",
      "metadata": {
        "id": "0bUoUe2W0Z_o"
      },
      "source": [
        "## Proving that earliest finishing time first is optimal\n",
        "\n",
        "Left as an exercise to the reader. Hint: use proof by contradiction.\n",
        "\n",
        "* we can use exchange argument to prove that the greedy algorithm is optimal\n",
        "* can use induction to prove that the greedy algorithm is optimal\n",
        "\n",
        "Again not always easy to prove that the greedy algorithm is optimal. But it is easy to come up with a greedy algorithm."
      ]
    },
    {
      "cell_type": "markdown",
      "metadata": {
        "id": "yE5V8o_O0Z_p"
      },
      "source": [
        "## Different scheduling problem - maximize the length of the schedule\n",
        "\n",
        "Turns out that the greedy algorithm is not optimal for this problem. The optimal solution is to select the two intervals with the least conflicts. But the greedy algorithm would select the two intervals with the earliest start time.\n",
        "\n",
        "We would have to use dynamic programming to solve this problem. Later in the course we will see how to solve this problem using dynamic programming."
      ]
    },
    {
      "cell_type": "markdown",
      "metadata": {
        "id": "38kv9AoPch4m"
      },
      "source": [
        "## When to use Greedy Algorithms\n",
        "\n",
        "\n",
        "Greedy Algorithms can help you find solutions to a lot of seemingly tough problems. The only problem with them is that you might come up with the correct solution but you might not be able to verify if its the correct one. All the greedy problems share a common property that a local optima can eventually lead to a global minima without reconsidering the set of choices already considered.\n",
        "\n",
        "Source: https://www.freecodecamp.org/news/what-is-a-greedy-algorithm/"
      ]
    },
    {
      "cell_type": "markdown",
      "metadata": {
        "id": "5eCAQRyQcb_S"
      },
      "source": []
    },
    {
      "cell_type": "markdown",
      "metadata": {
        "id": "HMlWbGrWcNVo"
      },
      "source": []
    },
    {
      "cell_type": "markdown",
      "metadata": {
        "id": "eo30_pzAmBHp"
      },
      "source": [
        "## Example: Knapsack"
      ]
    },
    {
      "cell_type": "markdown",
      "metadata": {
        "id": "B0OMKV5tcpuw"
      },
      "source": []
    },
    {
      "cell_type": "markdown",
      "metadata": {
        "id": "p57uDmSUmBHp"
      },
      "source": [
        "![Knap](https://upload.wikimedia.org/wikipedia/commons/thumb/f/fd/Knapsack.svg/500px-Knapsack.svg.png)"
      ]
    },
    {
      "cell_type": "markdown",
      "metadata": {
        "id": "vtMqMto1mBHp"
      },
      "source": [
        "Now, let us take a look at a classic, combinatorial optimization problem, the so-called \"knapsack\" problem. Here, we can think of a \"knapsack\" as a rucksack, and our goal is to fill it with items so that the rucksack's contents have the highest possible value. Of course, the knappsack has a certain weight capacity, and each item is associated with a certain value and a weight. In other words, we want to maximize the value of the knapsack subject to the constraint that we don't exceed its weight capacity.\n",
        "\n",
        "As trivial as it sounds, the knapsack problem is still one of the most popular algorithmic problems in the modern computer science area. There are numerous applications of knapsack problems, and to provide an intuitive real-world example: We could think of sports betting or daily fantasy soccer predictions as a knapsack problem, where we want to construct a squad of players with the highest possible points to salary ratio."
      ]
    },
    {
      "cell_type": "markdown",
      "metadata": {
        "id": "i-O2QrS9mBHp"
      },
      "source": [
        "### 0-1 Knapsack"
      ]
    },
    {
      "cell_type": "markdown",
      "metadata": {
        "id": "fLRf3-SxmBHp"
      },
      "source": [
        "Let's us take a look the probably simplest variation of the knapsack problem, the 0-1 knapsack, and tackle it using a \"greedy\" strategy. In the 0-1 knapsack, we have a given set of items, $i_1, i_2, ..., i_m$, that we can use to fill the knapsack. Again, the knapsack has a fixed capacity, and the items are associated with weights, $w_1, w_2, ..., w_m$, and values $v_1, v_2, ..., v_m$. While our goal is still to pack the knapsack with a combination of items so that it carries the highest possible value, the 0-1 knapsack variation comes with the constraint that we can only carry 1 copy of each item. Thus, the runtime complexity of this algorithm is $O(nW)$, where $n$ is the number of items in the list and $W$ is the maximum capacity of the knapsack.\n",
        "\n",
        "For example, if we are given 3 items with weights $[w_1: 20, w_2: 50, w_3: 30]$ and values\n",
        "$[v_1: 60, v_2: 100, v_3: 120]$, a knapsack with capacity 50 may carry to 1 copy of item 1 and 1 copy of item 3 to maximize its value (180) in contrast to just carrying 1 copy of item 2 (value: 100)."
      ]
    },
    {
      "cell_type": "markdown",
      "metadata": {
        "id": "-3qYA3bimBHq"
      },
      "source": [
        "Let's see how one \"greedy\" code implementation may look like:"
      ]
    },
    {
      "cell_type": "code",
      "execution_count": 17,
      "metadata": {
        "id": "k1U_FjbxmBHq"
      },
      "outputs": [],
      "source": [
        "# TODO rewrite using items objects (which have weights and values as properties/attributes)\n",
        "def knapsack_01(capacity:int, weights:list, values:list, debug=False):\n",
        "    val_by_weight = [value / weight\n",
        "                     for value, weight in zip(values, weights)] # so we create the best bang for buck values\n",
        "    # now that we have the value by weight we can use that as our heuristic for greedy choice\n",
        "    # thus we sort (again timsort with O(n log n) complexity)\n",
        "    sort_idx = [i[0] for i in sorted(enumerate(val_by_weight), # we add original index to our val_by_weight, to get the weights and lists\n",
        "                                     key=lambda x:x[1],\n",
        "                                     reverse=True)]\n",
        "    knapsack = [0 for _ in values]  # initialize knapsack\n",
        "    total_weight, total_value = 0, 0\n",
        "\n",
        "    for i in sort_idx: # simply go through our best deals and add if any have room\n",
        "        # here is our greedy heuristic - rule\n",
        "        if total_weight + weights[i] <= capacity:\n",
        "            knapsack[i] = 1\n",
        "            total_weight += weights[i]\n",
        "            total_value += values[i]\n",
        "            if debug:\n",
        "                print(\"Added best deal at the moment val/weight\", values[i]/weights[i])\n",
        "                print(\"Added weight\", weights[i])\n",
        "                print(\"Added value\", values[i])\n",
        "        if total_weight >= capacity:  # no need to check best deals if we already are over weight or full\n",
        "            break\n",
        "\n",
        "    return knapsack, total_weight, total_value"
      ]
    },
    {
      "cell_type": "markdown",
      "metadata": {
        "id": "JZD-nfeFmBHq"
      },
      "source": [
        "We start by creating an array `val_by_weight`, which contains the value/weight values of the items. Next, we create an array of index positions by sorting the value/weight array; here, we can think of the item with the highest value/weight ratio as the item that gives us the \"best bang for the buck.\" Using a for-loop, we then iterate over the `sort_idx` and check if a given items fits in our knapsack or not, that is, if we can carry it without exceeding the knapsack's capacity. After we checked all items, or if reach the capacity limit prematurely, we exit the for-loop and return the contents of the knapsack as well as its current weight and total value, which we've been tracking all along.\n",
        "\n",
        "A concrete example:"
      ]
    },
    {
      "cell_type": "code",
      "execution_count": 18,
      "metadata": {
        "colab": {
          "base_uri": "https://localhost:8080/"
        },
        "id": "9PPQgslPmBHq",
        "outputId": "3c011561-29bd-4893-c417-b9f5ceac86d6"
      },
      "outputs": [
        {
          "output_type": "execute_result",
          "data": {
            "text/plain": [
              "([1, 0, 1], 50, 180)"
            ]
          },
          "metadata": {},
          "execution_count": 18
        }
      ],
      "source": [
        "weights = [20, 50, 30]\n",
        "values = [60, 100, 120]\n",
        "knapsack_01(capacity=50, weights=weights, values=values)"
      ]
    },
    {
      "cell_type": "code",
      "execution_count": 19,
      "metadata": {
        "colab": {
          "base_uri": "https://localhost:8080/"
        },
        "id": "jzk8NxD-oygG",
        "outputId": "a6c25b21-0482-4675-8b77-3dda7a077826"
      },
      "outputs": [
        {
          "output_type": "stream",
          "name": "stdout",
          "text": [
            "Added best deal at the moment val/weight 4.0\n",
            "Added weight 30\n",
            "Added value 120\n",
            "Added best deal at the moment val/weight 3.0\n",
            "Added weight 20\n",
            "Added value 60\n"
          ]
        },
        {
          "output_type": "execute_result",
          "data": {
            "text/plain": [
              "([1, 0, 1], 50, 180)"
            ]
          },
          "metadata": {},
          "execution_count": 19
        }
      ],
      "source": [
        "knapsack_01(capacity=50, weights=weights, values=values, debug=True)"
      ]
    },
    {
      "cell_type": "markdown",
      "metadata": {
        "id": "kdxp7aTCmBHr"
      },
      "source": [
        "Running the `knapsack_01` function on the example input above returns a knapsack containing item 1 and item 3, with a total weight equal to its maximum capacity and a value of 180."
      ]
    },
    {
      "cell_type": "markdown",
      "metadata": {
        "id": "n_wv_eqEmBHr"
      },
      "source": [
        "Let us take a look at another example:"
      ]
    },
    {
      "cell_type": "code",
      "execution_count": 20,
      "metadata": {
        "colab": {
          "base_uri": "https://localhost:8080/"
        },
        "id": "sQFOjrdV8uxN",
        "outputId": "fd366382-603c-4b2d-b3bc-ae2cd19f180a"
      },
      "outputs": [
        {
          "output_type": "execute_result",
          "data": {
            "text/plain": [
              "(1.75, 1.3333333333333333, 1.7)"
            ]
          },
          "metadata": {},
          "execution_count": 20
        }
      ],
      "source": [
        "70/40, 40/30, 34/20 # Euro/kg"
      ]
    },
    {
      "cell_type": "code",
      "execution_count": 21,
      "metadata": {
        "colab": {
          "base_uri": "https://localhost:8080/"
        },
        "id": "oUmo9--1mBHr",
        "outputId": "9a4b4290-667b-4099-e91d-67c32d8a8c6d"
      },
      "outputs": [
        {
          "output_type": "stream",
          "name": "stdout",
          "text": [
            "Added best deal at the moment val/weight 1.75\n",
            "Added weight 40\n",
            "Added value 70\n"
          ]
        },
        {
          "output_type": "execute_result",
          "data": {
            "text/plain": [
              "([1, 0, 0], 40, 70)"
            ]
          },
          "metadata": {},
          "execution_count": 21
        }
      ],
      "source": [
        "weights = [40, 30, 20]\n",
        "values = [70, 40, 34]\n",
        "\n",
        "knapsack_01(capacity=50, weights=weights, values=values, debug=True)"
      ]
    },
    {
      "cell_type": "markdown",
      "metadata": {
        "id": "PcxlwfVVmBHr"
      },
      "source": [
        "Notice the problem here? Our greedy algorithm suggests packing item 1 with weight 40 and a value of 70. Now, our knapsack can't pack any of the other items (weights 20 and 30), without exceeding its capacity. This is an example of where a greedy strategy leads to a globally suboptimal solution. An optimal solution would be to take 1 copy of item 2 and 1 copy of item 3, so that our knapsack carries a weight of 50 with a value of 74."
      ]
    },
    {
      "cell_type": "markdown",
      "metadata": {
        "id": "_tEBPWAymBHr"
      },
      "source": [
        "### Fractional Knapsack"
      ]
    },
    {
      "cell_type": "markdown",
      "metadata": {
        "id": "TfG6KuvWmBHr"
      },
      "source": [
        "Now, let's implement a slightly different flavor of the knapsack problem, the fractional knapsack, which is guaranteed to find the optimal solution. Here, the rules are slightly different from the 0-1 knapsack that we implemented earlier. Instead of either just *including* or *excluding* an item in the knapsack, we can also add fractions $f$ of an item, subject to the constraint $0 \\geq f \\leq 1$."
      ]
    },
    {
      "cell_type": "markdown",
      "metadata": {
        "id": "YrMMtmQlmBHr"
      },
      "source": [
        "Now, let's take our 0-1 knapsack implementation as a template and make some slight modifications to come up with a fractional knapsack algorithm:"
      ]
    },
    {
      "cell_type": "code",
      "execution_count": 22,
      "metadata": {
        "id": "BC8eRaW6mBHs"
      },
      "outputs": [],
      "source": [
        "def knapsack_fract(capacity, weights, values, debug=False):\n",
        "    val_by_weight = [value / weight\n",
        "                     for value, weight in zip(values, weights)]\n",
        "    sort_idx = [i[0] for i in sorted(enumerate(val_by_weight),\n",
        "                                     key=lambda x:x[1], # sort by val_by_weight\n",
        "                                     reverse=True)]\n",
        "    knapsack = [0 for _ in values]\n",
        "    total_weight, total_value = 0, 0\n",
        "\n",
        "    for i in sort_idx:\n",
        "        if total_weight + weights[i] <= capacity:  # so we add the best deal for full 100% if we have space\n",
        "            knapsack[i] = 1\n",
        "            total_weight += weights[i]\n",
        "            total_value += values[i]\n",
        "            if debug:\n",
        "                print(\"Added best deal at the moment val/weight\", values[i]/weights[i])\n",
        "                print(\"Added weight\", weights[i])\n",
        "                print(\"Added value\", values[i])\n",
        "        else:  # unlike 0-1 we can add a fraction of the best deal at the time\n",
        "            # in this problem we only need to cut ONE item, by then the knapsack will be FULL\n",
        "            allowed = capacity - total_weight\n",
        "            frac = allowed / weights[i]\n",
        "            knapsack[i] = round(frac, 4) # we use round for practical reasons because of float imprecisions\n",
        "            total_weight += allowed\n",
        "            total_value += frac * values[i]   # we also need to calculate how much value we added by this partial addition\n",
        "            if debug:\n",
        "                print(\"Added a fraction of the  at the moment val/weight\", values[i]/weights[i])\n",
        "                print(\"Fraction added\", knapsack[i])\n",
        "                print(\"Added weight\", weights[i])\n",
        "                print(\"Added value\", values[i])\n",
        "        if total_weight >= capacity:\n",
        "            break\n",
        "    if debug:\n",
        "        print(knapsack, total_weight, round(total_value, 4))\n",
        "    return knapsack, total_weight, round(total_value, 4)"
      ]
    },
    {
      "cell_type": "markdown",
      "metadata": {
        "id": "N1VRqi7ImBHs"
      },
      "source": [
        "Let's give it a whirl on a simple example first:"
      ]
    },
    {
      "cell_type": "code",
      "execution_count": 23,
      "metadata": {
        "colab": {
          "base_uri": "https://localhost:8080/"
        },
        "id": "yVprmVZDmBHs",
        "outputId": "e7ab8d43-1350-442e-bead-5186f9f73a38"
      },
      "outputs": [
        {
          "output_type": "stream",
          "name": "stdout",
          "text": [
            "Added best deal at the moment val/weight 4.0\n",
            "Added weight 30\n",
            "Added value 120\n",
            "Added best deal at the moment val/weight 3.0\n",
            "Added weight 20\n",
            "Added value 60\n",
            "[1, 0, 1] 50 180\n"
          ]
        },
        {
          "output_type": "execute_result",
          "data": {
            "text/plain": [
              "([1, 0, 1], 50, 180)"
            ]
          },
          "metadata": {},
          "execution_count": 23
        }
      ],
      "source": [
        "weights = [20, 50, 30]\n",
        "values = [60, 100, 120]\n",
        "knapsack_fract(capacity=50, weights=weights, values=values, debug=True)"
      ]
    },
    {
      "cell_type": "markdown",
      "metadata": {
        "id": "ugAC_p72mBHs"
      },
      "source": [
        "The solution is an optimal solution, and we notice that it is the same as the one we got by using the 0-1 knapsack previously."
      ]
    },
    {
      "cell_type": "markdown",
      "metadata": {
        "id": "pvGTyMXamBHs"
      },
      "source": [
        "To demonstrate the difference between the 0-1 knapsack and the fractional knapsack, let's do a second example:"
      ]
    },
    {
      "cell_type": "code",
      "execution_count": 24,
      "metadata": {
        "colab": {
          "base_uri": "https://localhost:8080/"
        },
        "id": "R7MBKvtmmBHs",
        "outputId": "79572129-a151-4e2c-e049-7a1079ab6eae"
      },
      "outputs": [
        {
          "output_type": "execute_result",
          "data": {
            "text/plain": [
              "([0.3333], 10, 166.6667)"
            ]
          },
          "metadata": {},
          "execution_count": 24
        }
      ],
      "source": [
        "weights = [30]\n",
        "values = [500]\n",
        "\n",
        "knapsack_fract(capacity=10, weights=weights, values=values)"
      ]
    },
    {
      "cell_type": "code",
      "execution_count": 26,
      "metadata": {
        "colab": {
          "base_uri": "https://localhost:8080/"
        },
        "id": "_ZKUIQFpmBHt",
        "outputId": "3eb56181-4cd6-4612-d8a6-cb59c4e9f7c0"
      },
      "outputs": [
        {
          "output_type": "stream",
          "name": "stdout",
          "text": [
            "Added best deal at the moment val/weight 1.75\n",
            "Added weight 40\n",
            "Added value 70\n",
            "Added a fraction of the  at the moment val/weight 1.7\n",
            "Fraction added 0.5\n",
            "Added weight 20\n",
            "Added value 34\n",
            "[1, 0, 0.5] 50 87.0\n"
          ]
        },
        {
          "output_type": "execute_result",
          "data": {
            "text/plain": [
              "([1, 0, 0.5], 50, 87.0)"
            ]
          },
          "metadata": {},
          "execution_count": 26
        }
      ],
      "source": [
        "# now onto example which failed to work with greedy approach in knapsack 01 problem\n",
        "weights = [40, 30, 20]\n",
        "values = [70, 40, 34]\n",
        "\n",
        "knapsack_fract(capacity=50, weights=weights, values=values, debug=True)"
      ]
    },
    {
      "cell_type": "code",
      "execution_count": 28,
      "metadata": {
        "colab": {
          "base_uri": "https://localhost:8080/"
        },
        "id": "NsYfKD9x-Onu",
        "outputId": "96876058-7570-4dad-b7bf-26c13b524459"
      },
      "outputs": [
        {
          "output_type": "stream",
          "name": "stdout",
          "text": [
            "Added best deal at the moment val/weight 1.8\n",
            "Added weight 20\n",
            "Added value 36\n",
            "Added a fraction of the  at the moment val/weight 1.75\n",
            "Fraction added 0.75\n",
            "Added weight 40\n",
            "Added value 70\n",
            "[0.75, 0, 1] 50 88.5\n"
          ]
        },
        {
          "output_type": "execute_result",
          "data": {
            "text/plain": [
              "([0.75, 0, 1], 50, 88.5)"
            ]
          },
          "metadata": {},
          "execution_count": 28
        }
      ],
      "source": [
        "weights = [40, 30, 20]\n",
        "values = [70, 40, 36]\n",
        "knapsack_fract(capacity=50, weights=weights, values=values, debug=True)"
      ]
    },
    {
      "cell_type": "markdown",
      "source": [
        "### More on Knapsacks\n",
        "\n",
        "So while 0-1 is computationally hard to solve optimally and fractional is trivial with greedy approach, we can sometimes use the fractional approach to make the 0-1 easier.\n",
        "\n",
        "One of the tricks of algorithmic trade is that we can use greedy (\"cheap\") approaches of \"relaxed\"/easier problems to estimate the harder problems."
      ],
      "metadata": {
        "id": "tXoyNmITJI3N"
      }
    },
    {
      "cell_type": "markdown",
      "metadata": {
        "id": "Fn2AnSaDmBHt"
      },
      "source": [
        "## Example 3: Point-Cover-Interval Problem"
      ]
    },
    {
      "cell_type": "markdown",
      "metadata": {
        "id": "Dn8PhO7K_auB"
      },
      "source": [
        "![Point cover](https://i.stack.imgur.com/4klhj.png)"
      ]
    },
    {
      "cell_type": "markdown",
      "metadata": {
        "id": "JS41qwuzmBHt"
      },
      "source": [
        "The classic Point-Cover-Interval problem is another example that is well suited for demonstrating greedy algorithms. Here, we are given a set of Intervals *L*, and we want to find the minimum set of points so that each interval is covered at least once by a given point as illustrated in the example below:\n",
        "\n",
        "![](https://github.com/ValRCS/RTU_Algorithms_DIP321/blob/main/topics/images/point-cover-interval-ex.png?raw=1)"
      ]
    },
    {
      "cell_type": "markdown",
      "metadata": {
        "id": "759c6ea3"
      },
      "source": [
        "### Real world example of point-cover-interval problem\n",
        "\n",
        "A real world example could be placing surveillance cameras along a road to cover all segments of the road. The road segments requiring coverage are the intervals, and the locations of the cameras are the points. We want to find the minimum number of camera locations to cover all road segments."
      ]
    },
    {
      "cell_type": "markdown",
      "metadata": {
        "id": "jcTPqvjSmBHt"
      },
      "source": [
        "Our greedy strategy, which finds the optimal solution for this problem, can be as follows:\n",
        "\n",
        "- sort intervals in increasing order by the value of their endpoints\n",
        "- for interval in interval-set:\n",
        "    - if interval is not yet covered:\n",
        "        - add interval-endpoint to the set of points"
      ]
    },
    {
      "cell_type": "code",
      "execution_count": 29,
      "metadata": {
        "id": "bHsr1aSRmBHt"
      },
      "outputs": [],
      "source": [
        "def min_points(intervals, debug=True):\n",
        "    s_ints = sorted(intervals, key=lambda x: x[1])  # n log n of course in in ascending order by endpoint!\n",
        "    if debug:\n",
        "        print(s_ints)\n",
        "    points = [s_ints[0][-1]]\n",
        "\n",
        "    for interv in s_ints: # O(n) of course where n is number of intervals\n",
        "        if not(points[-1] >= interv[0] and points[-1] <= interv[-1]):\n",
        "            points.append(interv[-1])  # careful with append not all append type operations will be O(1) in all languages\n",
        "\n",
        "    return points"
      ]
    },
    {
      "cell_type": "code",
      "execution_count": 30,
      "metadata": {
        "colab": {
          "base_uri": "https://localhost:8080/"
        },
        "id": "ZcQgosMrmBHt",
        "outputId": "c48a7cba-eade-424a-9a90-f0a9ab61865c"
      },
      "outputs": [
        {
          "output_type": "stream",
          "name": "stdout",
          "text": [
            "[[1, 3], [2, 5], [3, 6]]\n"
          ]
        },
        {
          "output_type": "execute_result",
          "data": {
            "text/plain": [
              "[3]"
            ]
          },
          "metadata": {},
          "execution_count": 30
        }
      ],
      "source": [
        "pts = [[2, 5], [1, 3], [3, 6]] # we assume that end and startin points are included\n",
        "min_points(pts)"
      ]
    },
    {
      "cell_type": "code",
      "execution_count": 32,
      "metadata": {
        "colab": {
          "base_uri": "https://localhost:8080/"
        },
        "id": "w_BKwP_OmBHt",
        "outputId": "2ec46646-9a92-407c-b92a-46b7d3c95cc0"
      },
      "outputs": [
        {
          "output_type": "stream",
          "name": "stdout",
          "text": [
            "[[1, 3], [2, 5], [5, 6], [4, 7]]\n"
          ]
        },
        {
          "output_type": "execute_result",
          "data": {
            "text/plain": [
              "[3, 6]"
            ]
          },
          "metadata": {},
          "execution_count": 32
        }
      ],
      "source": [
        "pts = [[4, 7], [1, 3], [2, 5], [5, 6]]\n",
        "min_points(pts)\n",
        "# not the only solution points [2, 5] would also cover the intervals\n",
        "# again these are points on a 1d line"
      ]
    },
    {
      "cell_type": "code",
      "execution_count": 33,
      "metadata": {
        "colab": {
          "base_uri": "https://localhost:8080/"
        },
        "id": "7MIu959umBHu",
        "outputId": "62eab9c2-2619-48b5-8669-c6588665ed90"
      },
      "outputs": [
        {
          "output_type": "stream",
          "name": "stdout",
          "text": [
            "[[1, 2], [5, 14], [13, 15]]\n"
          ]
        },
        {
          "output_type": "execute_result",
          "data": {
            "text/plain": [
              "[2, 14]"
            ]
          },
          "metadata": {},
          "execution_count": 33
        }
      ],
      "source": [
        "pts = [[1,2],[5,14], [13,15]]\n",
        "min_points(pts)"
      ]
    },
    {
      "cell_type": "code",
      "source": [
        "pts = [[10,20],[18,25],[8,19]]\n",
        "min_points(pts)"
      ],
      "metadata": {
        "id": "QWgeieGXMwM2",
        "outputId": "10b2ad3f-9df8-44ea-f215-5a47bf9d74fe",
        "colab": {
          "base_uri": "https://localhost:8080/"
        }
      },
      "execution_count": 34,
      "outputs": [
        {
          "output_type": "stream",
          "name": "stdout",
          "text": [
            "[[8, 19], [10, 20], [18, 25]]\n"
          ]
        },
        {
          "output_type": "execute_result",
          "data": {
            "text/plain": [
              "[19]"
            ]
          },
          "metadata": {},
          "execution_count": 34
        }
      ]
    },
    {
      "cell_type": "code",
      "execution_count": 35,
      "metadata": {
        "id": "-9wh4to_sd7s"
      },
      "outputs": [],
      "source": [
        "# we could use starting points as our sort parameter then we have to go backwards\n",
        "def max_points(intervals, debug=True):\n",
        "    s_ints = sorted(intervals, key=lambda x: x[0], reverse=True)  # sort by starting point\n",
        "    if debug:\n",
        "        print(\"Sorted by starting\", s_ints)\n",
        "    points = [s_ints[0][0]]\n",
        "\n",
        "    for interv in s_ints:\n",
        "        if not(points[-1] >= interv[0] and points[-1] <= interv[-1]):\n",
        "            points.append(interv[0])\n",
        "\n",
        "    return points"
      ]
    },
    {
      "cell_type": "code",
      "execution_count": 36,
      "metadata": {
        "colab": {
          "base_uri": "https://localhost:8080/"
        },
        "id": "09jQQHkEssy_",
        "outputId": "d4ec9c9b-b2e0-45a9-e941-df60d91d08f7"
      },
      "outputs": [
        {
          "output_type": "stream",
          "name": "stdout",
          "text": [
            "Sorted by starting [[5, 6], [4, 7], [2, 5], [1, 3]]\n"
          ]
        },
        {
          "output_type": "execute_result",
          "data": {
            "text/plain": [
              "[5, 1]"
            ]
          },
          "metadata": {},
          "execution_count": 36
        }
      ],
      "source": [
        "pts = [[4, 7], [1, 3], [2, 5], [5, 6]]\n",
        "max_points(pts)"
      ]
    },
    {
      "cell_type": "code",
      "execution_count": 37,
      "metadata": {
        "colab": {
          "base_uri": "https://localhost:8080/"
        },
        "id": "Cp6f_1i9BWSH",
        "outputId": "d021d0a4-5304-4a09-f1f3-035aecbef229"
      },
      "outputs": [
        {
          "output_type": "stream",
          "name": "stdout",
          "text": [
            "[[1, 3], [2, 5], [5, 6], [4, 7]]\n"
          ]
        },
        {
          "output_type": "execute_result",
          "data": {
            "text/plain": [
              "[3, 6]"
            ]
          },
          "metadata": {},
          "execution_count": 37
        }
      ],
      "source": [
        "min_points(pts)"
      ]
    },
    {
      "cell_type": "markdown",
      "source": [
        "### Challenge - prove correctness of interval cover algorithms\n",
        "\n",
        "So both approaches seem to work, but how to prove their correctness?\n",
        "\n",
        "Proving would involve showing that each step is optimal and also that optimal subsolutions lead to overall optimal solution."
      ],
      "metadata": {
        "id": "-xa_xsReLGmW"
      }
    },
    {
      "cell_type": "markdown",
      "metadata": {
        "id": "2ni02S6tmBHu"
      },
      "source": [
        "## Example 4: Pairwise Distinct Summands"
      ]
    },
    {
      "cell_type": "markdown",
      "metadata": {
        "id": "ddWKl_frmBHu"
      },
      "source": [
        "In the pairwise distinct summands problem, we are given an integer $n$, and our goal is to find the maximum number of unique summands. For example, given an integer n=8, the maximum number of unique summands would be `[1 + 2 + 5] = 3`."
      ]
    },
    {
      "cell_type": "markdown",
      "metadata": {
        "id": "Jh-xi_AumBHu"
      },
      "source": [
        "Implemented in code using a greedy strategy, it looks as follows:"
      ]
    },
    {
      "cell_type": "code",
      "execution_count": null,
      "metadata": {
        "collapsed": true,
        "id": "B2yQDrhEmBHu"
      },
      "outputs": [],
      "source": [
        "def max_summands(num, debug=False):\n",
        "    summands = []\n",
        "    sum_summands = 0\n",
        "    next_int = 1\n",
        "\n",
        "    while sum_summands + next_int <= num:\n",
        "        sum_summands += next_int\n",
        "        summands.append(next_int)\n",
        "        if debug:\n",
        "            print(sum_summands, summands)\n",
        "        next_int += 1\n",
        "\n",
        "    # so last number will be the difference between the sum and the number\n",
        "    # we can prove that this number has not yet been used\n",
        "    summands[-1] += num - sum_summands\n",
        "    return summands"
      ]
    },
    {
      "cell_type": "code",
      "execution_count": null,
      "metadata": {
        "colab": {
          "base_uri": "https://localhost:8080/"
        },
        "id": "NlsnnBqBBtgH",
        "outputId": "e2e1cc6d-e297-4ece-94e6-76613f229d01"
      },
      "outputs": [
        {
          "name": "stdout",
          "output_type": "stream",
          "text": [
            "1 [1]\n",
            "3 [1, 2]\n",
            "6 [1, 2, 3]\n"
          ]
        },
        {
          "data": {
            "text/plain": [
              "[1, 2, 5]"
            ]
          },
          "execution_count": 42,
          "metadata": {},
          "output_type": "execute_result"
        }
      ],
      "source": [
        "max_summands(8, debug=True)"
      ]
    },
    {
      "cell_type": "code",
      "execution_count": null,
      "metadata": {
        "colab": {
          "base_uri": "https://localhost:8080/"
        },
        "id": "jD1qrsAcBvpd",
        "outputId": "a1e0edb0-71b4-48b7-b22a-b905b10222c0"
      },
      "outputs": [
        {
          "name": "stdout",
          "output_type": "stream",
          "text": [
            "1 [1]\n",
            "3 [1, 2]\n",
            "6 [1, 2, 3]\n",
            "10 [1, 2, 3, 4]\n",
            "15 [1, 2, 3, 4, 5]\n",
            "21 [1, 2, 3, 4, 5, 6]\n",
            "28 [1, 2, 3, 4, 5, 6, 7]\n",
            "36 [1, 2, 3, 4, 5, 6, 7, 8]\n",
            "45 [1, 2, 3, 4, 5, 6, 7, 8, 9]\n",
            "55 [1, 2, 3, 4, 5, 6, 7, 8, 9, 10]\n",
            "66 [1, 2, 3, 4, 5, 6, 7, 8, 9, 10, 11]\n",
            "78 [1, 2, 3, 4, 5, 6, 7, 8, 9, 10, 11, 12]\n",
            "91 [1, 2, 3, 4, 5, 6, 7, 8, 9, 10, 11, 12, 13]\n"
          ]
        },
        {
          "data": {
            "text/plain": [
              "[1, 2, 3, 4, 5, 6, 7, 8, 9, 10, 11, 12, 22]"
            ]
          },
          "execution_count": 44,
          "metadata": {},
          "output_type": "execute_result"
        }
      ],
      "source": [
        "max_summands(100, debug=True)"
      ]
    },
    {
      "cell_type": "code",
      "execution_count": null,
      "metadata": {
        "id": "pf-EEf4qB2xa"
      },
      "outputs": [],
      "source": [
        "# Prove that this is optimal!"
      ]
    },
    {
      "cell_type": "markdown",
      "metadata": {
        "id": "TnoD35qsmBHu"
      },
      "source": [
        "First, we intitialize the sum of the summands to 0 and evaluate the integer `next_int=1`. We then enter a while loop if the sum of the summ"
      ]
    },
    {
      "cell_type": "markdown",
      "metadata": {
        "id": "LkUzFm6SmBHu"
      },
      "source": [
        "## Set Cover Problems"
      ]
    },
    {
      "cell_type": "markdown",
      "metadata": {
        "id": "bUmsRo-kmBHv"
      },
      "source": [
        "Set cover problems are problems where we want to find the minimum number of subsets such that their set union contains all items in a target set. This target set is typically called the \"universe.\" To borrow an example from the excellent [Wikipedia page](https://en.wikipedia.org/wiki/Set_cover_problem) on set cover problems, let's assume we have the universe\n",
        "\n",
        "- $U=\\{1, 2, 3, 4, 5\\}$\n",
        "\n",
        "and are given the collection of sets\n",
        "\n",
        "- $C=\\{\\{1, 2, 3\\}, \\{2, 4\\}, \\{3, 4\\}, \\{4, 5\\}\\}$\n",
        "\n",
        "The task is to find the minimum number of sets in $C$ so that their union equals $U$.\n",
        "\n",
        "Note that set cover problems are NP-complete, thus no computationally efficient solution exists. However, we can use greedy algorithms to approximate the solution; this solution may or may not be globally optimal.\n",
        "\n",
        "The greedy strategy we are going to employ is very simple and works as follows:\n",
        "\n",
        "- While not all elements in U are covered:\n",
        "  - For all uncovered sets in C:\n",
        "  - Pick the set that covers most of the elements in U"
      ]
    },
    {
      "cell_type": "markdown",
      "metadata": {
        "id": "CA0RZJCu1RyB"
      },
      "source": [
        "[Set Covers in Practice](https://cs.stackexchange.com/questions/74407/what-are-the-real-world-applications-of-set-cover-problem)"
      ]
    },
    {
      "cell_type": "code",
      "execution_count": null,
      "metadata": {
        "colab": {
          "base_uri": "https://localhost:8080/"
        },
        "id": "h73VUjgpmBHv",
        "outputId": "2d77ccc7-e3dd-44c6-b1b4-2e73eac625ba"
      },
      "outputs": [
        {
          "output_type": "stream",
          "name": "stdout",
          "text": [
            "['set_1', 'set_2', 'set_4']\n"
          ]
        }
      ],
      "source": [
        "collection = {'set_1': {1, 2, 3},\n",
        "              'set_2': {2, 4},\n",
        "              'set_3': {3, 4},\n",
        "              'set_4': {4, 5}}\n",
        "sets_used = []\n",
        "elements_not_covered = {1, 2, 3, 4, 5}\n",
        "\n",
        "\n",
        "while elements_not_covered:\n",
        "    # initialize with empty set\n",
        "    elements_covered = set()\n",
        "    for set_ in collection.keys():\n",
        "\n",
        "        if set_ in sets_used:\n",
        "            continue\n",
        "\n",
        "        current_set = collection[set_]\n",
        "        # we add elements to potential solution\n",
        "        would_cover = elements_covered.union(current_set)\n",
        "        # and if this set helps we just add the new elements\n",
        "        if len(would_cover) > len(elements_covered):\n",
        "            elements_covered = would_cover\n",
        "            sets_used.append(set_)\n",
        "            elements_not_covered -= elements_covered\n",
        "\n",
        "            if not elements_not_covered:\n",
        "                break\n",
        "\n",
        "print(sets_used)"
      ]
    },
    {
      "cell_type": "code",
      "execution_count": null,
      "metadata": {
        "colab": {
          "base_uri": "https://localhost:8080/"
        },
        "id": "1EN-99QN2rPJ",
        "outputId": "a3d258f5-cd9d-4665-9ea8-ee76ee5d30cd"
      },
      "outputs": [
        {
          "name": "stdout",
          "output_type": "stream",
          "text": [
            "{1, 2, 3}\n",
            "{2, 4}\n",
            "{4, 5}\n"
          ]
        }
      ],
      "source": [
        "for set_ in sets_used:\n",
        "    print(collection[set_])"
      ]
    },
    {
      "cell_type": "markdown",
      "metadata": {
        "id": "CBug4hKGmBHv"
      },
      "source": [
        "As a result, we can see that 3 sets are required to cover the universe U. In this case, the greedy algorithm has not found the globally optimal solution, which would be `'set_1'` and `'set_4'`. Note that this is just a trivial example, and greedy algorithms can be very useful approximators for solutions that are computationally infeasible.\n",
        "\n",
        "For instance, an exhaustive solution to this problem that would guaranteed to find the global optimum (remember that set cover problems are NP-complete) would involve iterating over a power set, which has $2^n$ elements, where $n$ is the number of sets in the collection. For example, a collection of 30 sets would already require comparing the solutions of $2^{30}=1,073,741,824$ million possible combinations!\n",
        "\n",
        "(Note that the greedy approach may have found the globally optimal solution in this simple example if it had iterated over the dictionary in a different order -- for example, if we had swapped the positions of {2, 4} and {4, 5})"
      ]
    },
    {
      "cell_type": "markdown",
      "source": [
        "## Greedy Solution Conclusions\n",
        "\n",
        "So we can usually find a \"greedy\" approach to a problem, and if this greedy approach reduces the problem space (less items to solve), we have a solution.\n",
        "\n",
        "However, it is RARE that greedy solutions will be optimal globally for full solution."
      ],
      "metadata": {
        "id": "KZBqxefjLd5m"
      }
    }
  ],
  "metadata": {
    "colab": {
      "name": "greedy-algorithm-intro.ipynb",
      "provenance": []
    },
    "kernelspec": {
      "display_name": "Python 3",
      "language": "python",
      "name": "python3"
    },
    "language_info": {
      "codemirror_mode": {
        "name": "ipython",
        "version": 3
      },
      "file_extension": ".py",
      "mimetype": "text/x-python",
      "name": "python",
      "nbconvert_exporter": "python",
      "pygments_lexer": "ipython3",
      "version": "3.10.7"
    }
  },
  "nbformat": 4,
  "nbformat_minor": 0
}