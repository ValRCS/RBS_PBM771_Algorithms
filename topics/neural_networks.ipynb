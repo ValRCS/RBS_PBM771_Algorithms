{
 "cells": [
  {
   "attachments": {},
   "cell_type": "markdown",
   "metadata": {},
   "source": [
    "# Neural Networks\n",
    "\n",
    "![Real NN](https://upload.wikimedia.org/wikipedia/commons/thumb/b/be/Forest_of_synthetic_pyramidal_dendrites_grown_using_Cajal%27s_laws_of_neuronal_branching.png/440px-Forest_of_synthetic_pyramidal_dendrites_grown_using_Cajal%27s_laws_of_neuronal_branching.png)\n",
    "\n",
    "## Introduction\n",
    "\n",
    "Neural networks, often referred to as artificial neural networks (ANNs) or simply neural nets, are computational models inspired by the structure and functionality of the human brain. They are used in computer science and artificial intelligence (AI) to enable machines to learn from data and perform tasks such as pattern recognition, classification, decision making, and prediction. Neural networks have been instrumental in the success of deep learning, a subfield of machine learning.\n",
    "\n",
    "A neural network consists of interconnected nodes or artificial neurons, organized into layers. There are typically three types of layers in a neural network:\n",
    "\n",
    "* Input layer: This is the layer that receives input data. Each input node corresponds to a feature of the input data.\n",
    "* Hidden layer(s): These are the layers between the input and output layers. They perform the bulk of the computations in the network. There can be multiple hidden layers in a deep neural network, which allows the network to learn complex, hierarchical features.\n",
    "* Output layer: This is the final layer that produces the result or prediction. The number of output nodes depends on the task being performed, such as the number of classes in a classification problem.\n",
    "\n",
    "![ANN](https://upload.wikimedia.org/wikipedia/commons/thumb/4/46/Colored_neural_network.svg/500px-Colored_neural_network.svg.png)\n",
    "\n",
    "The neurons in each layer are connected to the neurons in the adjacent layers via weighted connections. During the training process, the neural network adjusts these weights to minimize the error between its predictions and the actual target values. This is typically done using a technique called backpropagation, which involves computing gradients of the error with respect to the weights and updating the weights accordingly.\n",
    "\n",
    "Activation functions play a crucial role in neural networks, introducing non-linearity into the network and enabling it to learn complex patterns."
   ]
  },
  {
   "attachments": {},
   "cell_type": "markdown",
   "metadata": {},
   "source": [
    "## History\n",
    "\n",
    "The history of neural networks can be traced back to several key milestones and developments. Here's a brief overview of how neural networks evolved over time:\n",
    "\n",
    "* Charles Scott Sherrington and later Edgar Adrian. They hypothesized that the brain was composed of interconnected cells, which they called \"neurons,\" and that these neurons communicated with each other via synapses.\n",
    "\n",
    "![Rats](https://neurosciencenews.com/files/2019/04/emotional-mirror-neurons-rats-neuroscienews-public.jpg)\n",
    "\n",
    "https://www.nobelprize.org/prizes/medicine/1932/summary/\n",
    "\n",
    "* 1943: Warren McCulloch and Walter Pitts introduced the concept of artificial neurons in their paper \"A Logical Calculus of the Ideas Immanent in Nervous Activity.\" They proposed a simplified computational model of biological neurons, which laid the groundwork for future research in neural networks.\n",
    "\n",
    "* 1957-1958: Frank Rosenblatt developed the Perceptron, the first neural network model with learning capability. The Perceptron is a simple, single-layer neural network that can learn linearly separable patterns. Although it had limited capabilities, it was a significant milestone in neural network research.\n",
    "\n",
    "* 1969: Marvin Minsky and Seymour Papert published their book \"Perceptrons,\" which highlighted the limitations of single-layer neural networks and hampered further research on neural networks for a while. They showed that simple Perceptrons were unable to solve some basic problems, such as the XOR problem.\n",
    "\n",
    "* 1974-1986: The \"AI Winter\" occurred during this period, marked by reduced funding and interest in neural network research due to the limitations of early models.\n",
    "\n",
    "* 1986: The backpropagation algorithm was popularized by Geoffrey Hinton, David Rumelhart, and Ronald Williams.\n",
    "[Paper at Nature](https://www.nature.com/articles/323533a0)\n",
    " Backpropagation enabled the training of multi-layer neural networks, overcoming some of the limitations highlighted by Minsky and Papert. This led to a resurgence in neural network research and marked the beginning of the \"connectionist\" era.\n",
    "\n",
    "* Late 1980s and early 1990s: Recurrent neural networks (RNNs) and Long Short-Term Memory (LSTM) networks were introduced. RNNs, proposed by John Hopfield in 1982 and further developed by others, allowed for the processing of sequences of data, which was crucial for tasks like speech and language processing. LSTM, introduced by Sepp Hochreiter and Jürgen Schmidhuber in 1997, addressed the vanishing gradient problem in RNNs, enabling them to learn long-range dependencies more effectively.\n",
    "\n",
    "* 1998: Yann LeCun and his colleagues introduced the LeNet-5 convolutional neural network (CNN) architecture for digit recognition. This was an important milestone for computer vision and laid the foundation for more complex CNN architectures.\n",
    "\n",
    "* 2006-2012: The \"Deep Learning\" era began, marked by breakthroughs in training deep neural networks. In 2006, Geoffrey Hinton and his colleagues introduced the concept of \"greedy layer-wise pretraining,\" which made it possible to train deeper networks. In 2012, Alex Krizhevsky, Ilya Sutskever, and Geoffrey Hinton developed the AlexNet architecture, which significantly outperformed other models in the ImageNet Large Scale Visual Recognition Challenge, highlighting the potential of deep learning.\n",
    "\n",
    "* 2013 onwards: Neural networks started dominating various AI and machine learning tasks. Researchers introduced advanced architectures such as the Transformer by Vaswani et al in 2017, which revolutionized natural language processing and led to the development of models like BERT, GPT, and T5. These models have achieved state-of-the-art performance across a wide range of NLP tasks, such as machine translation, sentiment analysis, and question-answering.\n",
    "\n",
    "* 2018-2021: Pre-trained language models based on the Transformer architecture, such as BERT, GPT-2, GPT-3, and other variants, have become increasingly powerful and ubiquitous. These models leverage massive amounts of data and computational resources to achieve remarkable performance in various NLP tasks, even with little or no fine-tuning.\n",
    "\n",
    "Throughout this timeline, advances in hardware, especially GPUs (Graphics Processing Units), have been crucial in enabling the training and deployment of increasingly large and complex neural network models. In addition, the development of software libraries and frameworks, such as TensorFlow, PyTorch, and Keras, has made it easier for researchers and practitioners to experiment with and implement neural networks.\n",
    "\n",
    "As a result of these advances, neural networks have become the backbone of many AI applications, from computer vision and natural language processing to reinforcement learning and robotics. The field continues to evolve rapidly, with ongoing research into new architectures, optimization techniques, and applications."
   ]
  },
  {
   "attachments": {},
   "cell_type": "markdown",
   "metadata": {},
   "source": [
    "## Main ideas behind neural networks\n",
    "\n",
    "Neural network algorithms are inspired by the structure and functioning of the human brain. They consist of interconnected artificial neurons organized into layers, which work together to learn from data and perform tasks like pattern recognition, classification, and prediction. The main ideas behind neural network algorithms include:\n",
    "\n",
    "* Artificial neurons: The basic building block of neural networks, artificial neurons, or nodes, are designed to mimic biological neurons. They receive input from other neurons (or external data), process it, apply an activation function to introduce non-linearity, and transmit the output to the next layer of neurons.\n",
    "\n",
    "* Network architecture: Neural networks are organized into layers, typically consisting of an input layer, one or more hidden layers, and an output layer. Different architectures, such as feedforward networks, recurrent networks, and convolutional networks, can be designed to address specific problems or data types.\n",
    "\n",
    "* Connection weights: The connections between neurons in adjacent layers have associated weights, which determine the strength of the connections. During the learning process, these weights are adjusted to minimize the error between the network's predictions and the actual target values.\n",
    "\n",
    "* Activation functions: To introduce non-linearity into the network and enable it to learn complex patterns, activation functions are applied to the output of each neuron. "
   ]
  },
  {
   "attachments": {},
   "cell_type": "markdown",
   "metadata": {},
   "source": [
    "## Shallow vs Deep Neural Networks\n",
    "\n",
    "The main difference between shallow and deep neural networks lies in the number of hidden layers they contain. Both types of networks consist of input and output layers, but the complexity of their internal structures varies.\n",
    "\n",
    "### Shallow Neural Networks:\n",
    "\n",
    "1. Shallow neural networks have a limited number of hidden layers, typically just one or two.\n",
    "2. They can learn simple patterns and representations in the input data.\n",
    "3. Shallow networks are less computationally intensive and can be trained more quickly.\n",
    "4. They may not be suitable for complex tasks or for learning high-level abstractions, as they lack the capacity to capture intricate relationships in the data.\n",
    "\n",
    "### Deep Neural Networks:\n",
    "\n",
    "1. Deep neural networks consist of multiple hidden layers, which can range from a few to hundreds or even thousands in some architectures.\n",
    "2. They can learn complex, hierarchical patterns and representations in the input data.\n",
    "3. Deep networks are more computationally intensive and may require specialized hardware (like GPUs) and optimization techniques to train efficiently.\n",
    "4. They are suitable for a wide range of tasks, including image recognition, natural language processing, and speech recognition, where they often outperform shallow networks.\n",
    "\n",
    "In summary, the main difference between shallow and deep neural networks is the depth of their architectures, with deep networks having more hidden layers. This added depth allows deep networks to learn more complex patterns and representations, making them more suitable for a wide range of challenging tasks. However, they can also be more computationally intensive and may require more sophisticated training techniques."
   ]
  },
  {
   "attachments": {},
   "cell_type": "markdown",
   "metadata": {},
   "source": [
    "## Types of Neural Networks\n",
    "\n",
    "There are several types of artificial neural networks, each designed to handle specific tasks or problems. Some of the most common types include:\n",
    "\n",
    "* Feedforward Neural Networks (FNN): These are the most basic type of neural networks, where the information flows in one direction, from the input layer through hidden layers (if any) to the output layer. There are no cycles or loops in the network. FNNs are commonly used for tasks like regression, classification, and pattern recognition.\n",
    "\n",
    "* Convolutional Neural Networks (CNN): These networks are specifically designed for processing grid-like data, such as images, by using convolutional layers to detect local patterns within the input. CNNs are especially effective at tasks like image recognition, object detection, and image segmentation.\n",
    "\n",
    "* Recurrent Neural Networks (RNN): RNNs are designed to handle sequential data by incorporating loops that allow information to persist across time steps. This makes RNNs suitable for tasks like time series prediction, natural language processing, and speech recognition. A notable variant of RNNs is the Long Short-Term Memory (LSTM) network, which addresses the vanishing gradient problem and is particularly effective at learning long-range dependencies.\n",
    "\n",
    "* Autoencoders: Autoencoders are unsupervised neural networks that learn to compress and reconstruct input data. They consist of an encoder that reduces the input data to a lower-dimensional representation and a decoder that reconstructs the original input from this representation. Autoencoders are used for tasks like dimensionality reduction, feature learning, and denoising.\n",
    "\n",
    "* Radial Basis Function Networks (RBFN): RBFNs are feedforward neural networks with radial basis function activation in the hidden layer. These networks are particularly suited for tasks like function approximation and interpolation. They can also be used for classification and regression tasks.\n",
    "\n",
    "* Deep Belief Networks (DBN): DBNs are generative models consisting of multiple layers of Restricted Boltzmann Machines (RBMs) stacked on top of each other. They are trained in an unsupervised manner and can be used for tasks like feature extraction, dimensionality reduction, and unsupervised learning.\n",
    "\n",
    "* Generative Adversarial Networks (GAN): GANs are composed of two neural networks, a generator and a discriminator, that compete against each other in a zero-sum game. The generator learns to create realistic data samples, while the discriminator learns to distinguish between real and generated samples. GANs have been used for tasks like image synthesis, image-to-image translation, and data augmentation.\n",
    "\n",
    "These are just a few examples of the many types of artificial neural networks. The choice of a specific network architecture depends on the problem to be solved, the characteristics of the input data, and the desired properties of the model."
   ]
  },
  {
   "attachments": {},
   "cell_type": "markdown",
   "metadata": {},
   "source": [
    "## ChatGPT - Transformer based chatbot\n",
    "\n",
    "ChatGPT is based on the GPT-4 architecture, which is a type of neural network known as a Transformer. Transformers were introduced in the paper \"Attention is All You Need\" by Vaswani et al. in 2017. They are specifically designed for handling sequential data and have become very popular in natural language processing (NLP) tasks due to their excellent performance and scalability.\n",
    "\n",
    "Transformers rely on a mechanism called self-attention, which allows them to consider the relationships between different parts of the input sequence without the need for recurrent connections. This self-attention mechanism enables Transformers to process input data in parallel rather than sequentially, resulting in improved training efficiency and the ability to model long-range dependencies.\n",
    "\n",
    "The GPT (short for \"Generative Pre-trained Transformer\") family of models, developed by OpenAI, are large-scale unsupervised language models that are pre-trained on massive text datasets. They are then fine-tuned on specific tasks, such as text classification, translation, summarization, or question-answering. ChatGPT is an instance of the GPT-4 model, which has been fine-tuned to generate human-like responses in a conversational setting."
   ]
  },
  {
   "attachments": {},
   "cell_type": "markdown",
   "metadata": {},
   "source": [
    "## Backpropagation\n",
    "\n",
    "Backpropagation (short for \"backward propagation of errors\") is a widely used optimization algorithm for training feedforward artificial neural networks. It is a supervised learning technique that adjusts the weights of the network by minimizing the error between the network's predictions and the actual target values. The backpropagation algorithm consists of two main steps: forward pass and backward pass.\n",
    "\n",
    "* Forward pass: In this step, the input is passed through the network to compute the output. The input data is fed into the input layer, processed through the hidden layers, and then transformed into an output in the output layer. This step involves computing the weighted sum of the inputs and applying the activation functions for each neuron in the network.\n",
    "\n",
    "* Backward pass: In this step, the error between the network's output and the actual target values is calculated and propagated backward through the network. The error is used to update the weights in each layer. This process involves the following steps:\n",
    "\n",
    "  1. Compute the output error: Calculate the difference between the network's output and the actual target values. This can be measured using a loss function, such as mean squared error or cross-entropy loss.\n",
    "\n",
    "  2. Calculate gradients: Compute the gradient of the error with respect to the weights in the network using the chain rule of calculus. This step involves calculating the partial derivatives of the error with respect to each weight in the network, which represents how much the error would change if a particular weight were adjusted.\n",
    "\n",
    "  3. Update weights: Adjust the weights in the network based on the calculated gradients. This is done using an optimization algorithm, such as gradient descent or its variants like stochastic gradient descent, Adam, or RMSprop. The weights are updated by a small fraction (learning rate) of their corresponding gradients to minimize the overall error.\n",
    "\n",
    "The forward and backward passes are repeated for each data point (or batch of data points) in the training dataset, iteratively adjusting the weights until the error converges to a minimum value or a stopping criterion is reached. This process of updating the weights using backpropagation is typically performed over multiple epochs (i.e., complete passes through the training dataset) to ensure that the network learns the underlying patterns in the data.\n",
    "\n",
    "In summary, backpropagation is a crucial learning algorithm for neural networks that involves computing the error between the network's predictions and actual target values, calculating gradients, and updating the weights to minimize the error. It is an efficient and widely used technique for training feedforward neural networks in supervised learning tasks."
   ]
  },
  {
   "attachments": {},
   "cell_type": "markdown",
   "metadata": {},
   "source": [
    "## Activation Functions\n",
    "\n",
    "An activation function in a neural network is a mathematical function applied to the output of an artificial neuron or node. It serves to introduce non-linearity into the network, allowing the model to learn and represent complex patterns and relationships in the input data. Without activation functions, neural networks would be limited to modeling linear relationships, which would severely restrict their ability to solve a wide range of problems.\n",
    "\n",
    "The activation function takes the weighted sum of the inputs (along with a bias term) as its input and transforms it into an output value. This output value is then passed on to the neurons in the subsequent layer. By applying non-linear activation functions, the network can learn to approximate any continuous function, making it a powerful tool for various machine learning tasks.\n",
    "\n",
    "![Activ Func](https://miro.medium.com/v2/resize:fit:1400/format:webp/0*LsOuo_SPh7wq4tqH.png)\n",
    "src: https://3344.medium.com/activation-functions-1dae8fedd951\n",
    "\n",
    "Activation functions play a crucial role in neural networks by introducing non-linearity, enabling the network to learn complex patterns and representations. Some common activation functions used in neural networks are:\n",
    "\n",
    "* Sigmoid (logistic) function: This function maps the input values to a range between 0 and 1. It is commonly used for binary classification tasks and in the output layer for producing probabilities. The sigmoid function is defined as:\n",
    "\n",
    "`f(x) = 1 / (1 + exp(-x))`\n",
    "\n",
    "* Hyperbolic Tangent (tanh) function: The tanh function is similar to the sigmoid function but maps the input values to a range between -1 and 1. It is often preferred in hidden layers as it has a zero-centered output, which can help with gradient optimization. The tanh function is defined as:\n",
    "\n",
    "`f(x) = (exp(x) - exp(-x)) / (exp(x) + exp(-x))`\n",
    "\n",
    "* Rectified Linear Unit (ReLU) function: ReLU is a popular activation function for deep neural networks, as it is computationally efficient and helps mitigate the vanishing gradient problem. It outputs the input value if it's positive and zero otherwise. The ReLU function is defined as:\n",
    "\n",
    "`f(x) = max(0, x)`\n",
    "\n",
    "* Leaky Rectified Linear Unit (Leaky ReLU) function: Leaky ReLU is a variant of the ReLU function that allows a small, non-zero output for negative input values, which can help prevent dead neurons during training. The Leaky ReLU function is defined as:\n",
    "\n",
    "`f(x) = max(alpha * x, x)`\n",
    "\n",
    "where alpha is a small positive constant (e.g., 0.01)\n",
    "\n",
    "* Exponential Linear Unit (ELU) function: ELU is another variant of the ReLU function that has a smooth curve for negative input values, which can help with the vanishing gradient problem. The ELU function is defined as:\n",
    "\n",
    "`f(x) = x if x > 0, alpha * (exp(x) - 1) if x <= 0`\n",
    "\n",
    "where alpha is a positive constant\n",
    "\n",
    "Softmax function: The softmax function is commonly used in the output layer of a neural network for multi-class classification problems. It converts the output values into a probability distribution over the classes. The softmax function is defined as:\n",
    "\n",
    "`f_i(x) = exp(x_i) / sum(exp(x_j) for j in range of output neurons)`\n",
    "\n",
    "These are just a few of the many activation functions that can be employed in neural networks. The choice of the activation function depends on the specific problem, the network architecture, and the type of data being used."
   ]
  },
  {
   "attachments": {},
   "cell_type": "markdown",
   "metadata": {},
   "source": [
    "## Loss functions\n",
    "\n",
    "In neural networks, a loss function (also known as a cost function or objective function) is a mathematical function used to measure the difference between the predicted output of the network and the actual target values. The primary goal of training a neural network is to minimize the value of the loss function, which helps the model learn the underlying patterns in the input data and make more accurate predictions.\n",
    "\n",
    "![loss](https://wikidocs.net/images/page/165219/Fig_01.png)\n",
    "src: https://wikidocs.net/179999 - Deep Learning Bible\n",
    "\n",
    "Loss functions play a crucial role in the optimization process, as they quantify the performance of the neural network and guide the adjustment of the model's parameters (i.e., weights and biases) during the training phase. The choice of an appropriate loss function depends on the specific problem being addressed, the type of output produced by the network, and the desired properties of the optimization process.\n",
    "\n",
    "Some common loss functions used in neural networks include:\n",
    "\n",
    "* Mean Squared Error (MSE): This loss function is commonly used in regression tasks, as it measures the average squared difference between the predicted values and the actual target values. MSE is defined as:\n",
    "\n",
    "`MSE = (1/n) * Σ (y_i - ŷ_i)^2`\n",
    "\n",
    "where y_i represents the actual target value, ŷ_i represents the predicted value, and n is the number of samples.\n",
    "\n",
    "* Cross-Entropy Loss: This loss function is widely used for classification tasks, particularly when the network's output is a probability distribution. Cross-entropy loss measures the dissimilarity between the predicted probability distribution and the actual target distribution (usually one-hot encoded). The binary cross-entropy loss is used for binary classification, while the categorical cross-entropy loss is used for multi-class classification problems. Cross-entropy loss is defined as:\n",
    "\n",
    "`Cross-Entropy = - Σ y_i * log(ŷ_i)`\n",
    "\n",
    "where y_i represents the actual target value (one-hot encoded), and ŷ_i represents the predicted probability.\n",
    "\n",
    "* Hinge Loss: This loss function is commonly used for training support vector machines (SVMs) and is also suitable for some neural network classification tasks, particularly those with large margins. Hinge loss encourages the model to produce predictions that are not only accurate but also have a margin of separation from the decision boundary. Hinge loss is defined as:\n",
    "\n",
    "`Hinge Loss = max(0, 1 - y_i * ŷ_i)`\n",
    "\n",
    "where y_i represents the actual target value (usually encoded as +1 or -1) and ŷ_i represents the predicted value.\n",
    "\n",
    "There are many other loss functions that can be used in neural networks, depending on the specific problem being addressed. The choice of the loss function depends on the type of output produced by the network, the desired properties of the optimization process, and the type of data being used."
   ]
  },
  {
   "attachments": {},
   "cell_type": "markdown",
   "metadata": {},
   "source": [
    "## Sample Neural Network\n",
    "\n",
    "This code creates a simple feedforward neural network with an input layer (using the `Flatten` layer to convert the 28x28 images into a one-dimensional array), a hidden layer with 128 neurons and a ReLU activation function, and an output layer with 10 neurons for the 10 possible digit classes and a softmax activation function.\n",
    "\n",
    "The model is compiled using the Adam optimizer, the SparseCategoricalCrossentropy loss function, and the SparseCategoricalAccuracy metric for evaluation. It is then trained on the preprocessed MNIST dataset for 10 epochs using a batch size of 32. Finally, the model's performance is evaluated on the test data, and the test accuracy is printed.\n",
    "\n",
    "Keep in mind that this is just a basic example of a neural network using Python and Keras. More complex and deeper architectures can be built using additional layers, such as convolutional layers for image classification or recurrent layers for sequence data. The choice of architecture, optimizer, loss function, and other hyperparameters would depend on the specific problem you are trying to solve.\n",
    "\n",
    "Keras is a library for building and training neural networks in Python. It provides a high-level API for building and training neural networks, as well as a number of built-in neural network layers and activation functions. Keras is a wrapper around TensorFlow, which is a popular open-source library for machine learning and deep learning. Keras is also compatible with other deep learning libraries, such as PyTorch and CNTK.\n",
    "\n",
    "TensorFlow is a popular open-source library for machine learning and deep learning. It provides a high-level API for building and training neural networks, as well as a number of built-in neural network layers and activation functions. TensorFlow is a wrapper around the C++ library Eigen, which is a popular open-source library for linear algebra and matrix operations. TensorFlow is also compatible with other deep learning libraries, such as Keras and CNTK.\n",
    "\n",
    "PyTorch is a popular open-source library for machine learning and deep learning. It provides a high-level API for building and training neural networks, as well as a number of built-in neural network layers and activation functions. PyTorch is a wrapper around the C++ library ATen, which is a popular open-source library for tensor operations. PyTorch is also compatible with other deep learning libraries, such as Keras and CNTK."
   ]
  },
  {
   "cell_type": "code",
   "execution_count": 2,
   "metadata": {},
   "outputs": [
    {
     "name": "stdout",
     "output_type": "stream",
     "text": [
      "Downloading data from https://storage.googleapis.com/tensorflow/tf-keras-datasets/mnist.npz\n",
      "11490434/11490434 [==============================] - 0s 0us/step\n"
     ]
    }
   ],
   "source": [
    "import tensorflow as tf\n",
    "from tensorflow.keras.datasets import mnist\n",
    "from tensorflow.keras.models import Sequential\n",
    "from tensorflow.keras.layers import Dense, Flatten\n",
    "from tensorflow.keras.optimizers import Adam\n",
    "from tensorflow.keras.losses import SparseCategoricalCrossentropy\n",
    "from tensorflow.keras.metrics import SparseCategoricalAccuracy\n",
    "\n",
    "# Load and preprocess the MNIST dataset\n",
    "(x_train, y_train), (x_test, y_test) = mnist.load_data()\n",
    "x_train, x_test = x_train / 255.0, x_test / 255.0"
   ]
  },
  {
   "cell_type": "code",
   "execution_count": 5,
   "metadata": {},
   "outputs": [
    {
     "data": {
      "text/plain": [
       "((60000, 28, 28), (60000,), (10000, 28, 28), (10000,))"
      ]
     },
     "execution_count": 5,
     "metadata": {},
     "output_type": "execute_result"
    }
   ],
   "source": [
    "x_train.shape, y_train.shape, x_test.shape, y_test.shape"
   ]
  },
  {
   "attachments": {},
   "cell_type": "markdown",
   "metadata": {},
   "source": [
    "## Displaying images"
   ]
  },
  {
   "cell_type": "code",
   "execution_count": null,
   "metadata": {},
   "outputs": [],
   "source": []
  },
  {
   "cell_type": "code",
   "execution_count": 6,
   "metadata": {},
   "outputs": [
    {
     "data": {
      "text/plain": [
       "<matplotlib.image.AxesImage at 0x26e05c35720>"
      ]
     },
     "execution_count": 6,
     "metadata": {},
     "output_type": "execute_result"
    },
    {
     "data": {
      "image/png": "[encoded data removed]",
      "text/plain": [
       "<Figure size 432x288 with 1 Axes>"
      ]
     },
     "metadata": {
      "needs_background": "light"
     },
     "output_type": "display_data"
    }
   ],
   "source": [
    "## Display the first image in the training set\n",
    "import matplotlib.pyplot as plt\n",
    "plt.imshow(x_train[0], cmap='gray')"
   ]
  },
  {
   "cell_type": "code",
   "execution_count": 7,
   "metadata": {},
   "outputs": [
    {
     "data": {
      "text/plain": [
       "5"
      ]
     },
     "execution_count": 7,
     "metadata": {},
     "output_type": "execute_result"
    }
   ],
   "source": [
    "# the value of the first image\n",
    "y_train[0]"
   ]
  },
  {
   "cell_type": "code",
   "execution_count": 8,
   "metadata": {},
   "outputs": [
    {
     "data": {
      "image/png": "[encoded data removed]",
      "text/plain": [
       "<Figure size 720x720 with 25 Axes>"
      ]
     },
     "metadata": {},
     "output_type": "display_data"
    }
   ],
   "source": [
    "# display random sample of 25 images from the training set\n",
    "# technically these are first 25 images but they are shuffled\n",
    "plt.figure(figsize=(10,10))\n",
    "for i in range(25):\n",
    "    plt.subplot(5,5,i+1)\n",
    "    plt.xticks([])\n",
    "    plt.yticks([])\n",
    "    plt.grid(False)\n",
    "    plt.imshow(x_train[i], cmap='gray')\n",
    "    plt.xlabel(y_train[i])"
   ]
  },
  {
   "cell_type": "code",
   "execution_count": 9,
   "metadata": {},
   "outputs": [
    {
     "data": {
      "image/png": "[encoded data removed]",
      "text/plain": [
       "<Figure size 720x720 with 25 Axes>"
      ]
     },
     "metadata": {},
     "output_type": "display_data"
    }
   ],
   "source": [
    "# display random sample of 25 images from the test set\n",
    "# technically these are first 25 images but they are shuffled\n",
    "plt.figure(figsize=(10,10))\n",
    "for i in range(25):\n",
    "    plt.subplot(5,5,i+1)\n",
    "    plt.xticks([])\n",
    "    plt.yticks([])\n",
    "    plt.grid(False)\n",
    "    plt.imshow(x_test[i], cmap='gray')\n",
    "    plt.xlabel(y_test[i])"
   ]
  },
  {
   "attachments": {},
   "cell_type": "markdown",
   "metadata": {},
   "source": [
    "## Define the neural network architecture"
   ]
  },
  {
   "cell_type": "code",
   "execution_count": 10,
   "metadata": {},
   "outputs": [],
   "source": [
    "# Define the neural network architecture\n",
    "model = Sequential([\n",
    "    Flatten(input_shape=(28, 28)),\n",
    "    Dense(128, activation='relu'),\n",
    "    Dense(10, activation='softmax')\n",
    "])"
   ]
  },
  {
   "attachments": {},
   "cell_type": "markdown",
   "metadata": {},
   "source": [
    "## Compile the model"
   ]
  },
  {
   "cell_type": "code",
   "execution_count": 11,
   "metadata": {},
   "outputs": [],
   "source": [
    "# Compile the model\n",
    "model.compile(optimizer=Adam(),\n",
    "              loss=SparseCategoricalCrossentropy(from_logits=True),\n",
    "              metrics=[SparseCategoricalAccuracy()])"
   ]
  },
  {
   "attachments": {},
   "cell_type": "markdown",
   "metadata": {},
   "source": [
    "## Fitting the model\n"
   ]
  },
  {
   "cell_type": "code",
   "execution_count": 12,
   "metadata": {},
   "outputs": [
    {
     "name": "stdout",
     "output_type": "stream",
     "text": [
      "Epoch 1/10\n"
     ]
    },
    {
     "name": "stderr",
     "output_type": "stream",
     "text": [
      "c:\\Users\\val-wd\\AppData\\Local\\Programs\\Python\\Python310\\lib\\site-packages\\keras\\backend.py:5612: UserWarning: \"`sparse_categorical_crossentropy` received `from_logits=True`, but the `output` argument was produced by a Softmax activation and thus does not represent logits. Was this intended?\n",
      "  output, from_logits = _get_logits(\n"
     ]
    },
    {
     "name": "stdout",
     "output_type": "stream",
     "text": [
      "1875/1875 [==============================] - 5s 2ms/step - loss: 0.2605 - sparse_categorical_accuracy: 0.9257\n",
      "Epoch 2/10\n",
      "1875/1875 [==============================] - 4s 2ms/step - loss: 0.1118 - sparse_categorical_accuracy: 0.9676\n",
      "Epoch 3/10\n",
      "1875/1875 [==============================] - 4s 2ms/step - loss: 0.0767 - sparse_categorical_accuracy: 0.9769\n",
      "Epoch 4/10\n",
      "1875/1875 [==============================] - 5s 2ms/step - loss: 0.0581 - sparse_categorical_accuracy: 0.9826\n",
      "Epoch 5/10\n",
      "1875/1875 [==============================] - 5s 2ms/step - loss: 0.0449 - sparse_categorical_accuracy: 0.9865\n",
      "Epoch 6/10\n",
      "1875/1875 [==============================] - 5s 2ms/step - loss: 0.0350 - sparse_categorical_accuracy: 0.9892\n",
      "Epoch 7/10\n",
      "1875/1875 [==============================] - 5s 2ms/step - loss: 0.0279 - sparse_categorical_accuracy: 0.9915\n",
      "Epoch 8/10\n",
      "1875/1875 [==============================] - 5s 2ms/step - loss: 0.0229 - sparse_categorical_accuracy: 0.9930\n",
      "Epoch 9/10\n",
      "1875/1875 [==============================] - 4s 2ms/step - loss: 0.0180 - sparse_categorical_accuracy: 0.9949\n",
      "Epoch 10/10\n",
      "1875/1875 [==============================] - 5s 2ms/step - loss: 0.0150 - sparse_categorical_accuracy: 0.9955\n"
     ]
    },
    {
     "data": {
      "text/plain": [
       "<keras.callbacks.History at 0x26e0846fc10>"
      ]
     },
     "execution_count": 12,
     "metadata": {},
     "output_type": "execute_result"
    }
   ],
   "source": [
    "# Train the model\n",
    "model.fit(x_train, y_train, epochs=10, batch_size=32)"
   ]
  },
  {
   "attachments": {},
   "cell_type": "markdown",
   "metadata": {},
   "source": [
    "# Evaluation of the model"
   ]
  },
  {
   "cell_type": "code",
   "execution_count": 13,
   "metadata": {},
   "outputs": [
    {
     "name": "stdout",
     "output_type": "stream",
     "text": [
      "313/313 [==============================] - 1s 1ms/step - loss: 0.0817 - sparse_categorical_accuracy: 0.9804\n",
      "Test accuracy: 0.980400025844574\n"
     ]
    }
   ],
   "source": [
    "# Evaluate the model on the test data\n",
    "test_loss, test_acc = model.evaluate(x_test, y_test)\n",
    "print('Test accuracy:', test_acc)"
   ]
  },
  {
   "attachments": {},
   "cell_type": "markdown",
   "metadata": {},
   "source": [
    "### Showing the bad predictions"
   ]
  },
  {
   "cell_type": "code",
   "execution_count": 17,
   "metadata": {},
   "outputs": [
    {
     "name": "stdout",
     "output_type": "stream",
     "text": [
      "313/313 [==============================] - 0s 2ms/step\n"
     ]
    }
   ],
   "source": [
    "# Collect all the wrong predictions\n",
    "predictions = model.predict(x_test)\n",
    "wrong_predictions = []\n",
    "for i in range(len(predictions)):\n",
    "    if np.argmax(predictions[i]) != y_test[i]:\n",
    "        wrong_predictions.append((i, np.argmax(predictions[i]) , y_test[i]))"
   ]
  },
  {
   "cell_type": "code",
   "execution_count": 18,
   "metadata": {},
   "outputs": [
    {
     "data": {
      "text/plain": [
       "[(149, 9, 2), (247, 6, 4), (274, 3, 9), (321, 7, 2), (340, 3, 5)]"
      ]
     },
     "execution_count": 18,
     "metadata": {},
     "output_type": "execute_result"
    }
   ],
   "source": [
    "wrong_predictions[:5]"
   ]
  },
  {
   "cell_type": "code",
   "execution_count": 23,
   "metadata": {},
   "outputs": [
    {
     "data": {
      "image/png": "[encoded data removed]",
      "text/plain": [
       "<Figure size 720x720 with 25 Axes>"
      ]
     },
     "metadata": {},
     "output_type": "display_data"
    }
   ],
   "source": [
    "# Display 25 random wrong predictions\n",
    "import random\n",
    "plt.figure(figsize=(10,10))\n",
    "for i in range(25):\n",
    "    plt.subplot(5,5,i+1)\n",
    "    plt.xticks([])\n",
    "    plt.yticks([])\n",
    "    plt.grid(False)\n",
    "    index = random.randint(0, len(wrong_predictions)-1)\n",
    "    plt.imshow(x_test[wrong_predictions[index][0]], cmap='gray')\n",
    "    wrong_prediction = wrong_predictions[index][1]\n",
    "    correct_prediction = wrong_predictions[index][2]\n",
    "    plt.xlabel(f\"PRD:{wrong_prediction}/CRR:{correct_prediction}\", color='red')"
   ]
  },
  {
   "attachments": {},
   "cell_type": "markdown",
   "metadata": {},
   "source": [
    "## Plotting the model\n",
    "\n",
    "If we do not have we will need\n",
    "the following libraries\n",
    "\n",
    "inside notebook - ! is not necessary from terminal\n",
    "\n",
    "`!pip install pydot graphviz`"
   ]
  },
  {
   "cell_type": "code",
   "execution_count": 1,
   "metadata": {},
   "outputs": [
    {
     "name": "stdout",
     "output_type": "stream",
     "text": [
      "You must install pydot (`pip install pydot`) and install graphviz (see instructions at https://graphviz.gitlab.io/download/) for plot_model to work.\n"
     ]
    }
   ],
   "source": [
    "import tensorflow as tf\n",
    "from tensorflow.keras.datasets import mnist\n",
    "from tensorflow.keras.models import Sequential\n",
    "from tensorflow.keras.layers import Dense, Flatten\n",
    "from tensorflow.keras.utils import plot_model\n",
    "\n",
    "# Define the neural network architecture\n",
    "model = Sequential([\n",
    "    Flatten(input_shape=(28, 28), name='Input'),\n",
    "    Dense(128, activation='relu', name='Hidden'),\n",
    "    Dense(10, activation='softmax', name='Output')\n",
    "])\n",
    "\n",
    "# Visualize the model architecture\n",
    "plot_model(model, to_file='model.png', show_shapes=True, show_layer_names=True, dpi=96)"
   ]
  },
  {
   "attachments": {},
   "cell_type": "markdown",
   "metadata": {},
   "source": [
    "## Tensorflow vs Pytorch\n",
    "\n",
    "TensorFlow and PyTorch are both open-source deep learning frameworks that provide tools and libraries for creating, training, and deploying machine learning models, including neural networks. They have some similarities and differences, which can affect the choice of framework depending on the use case, personal preference, or specific requirements.\n",
    "\n",
    "Here are some key differences between TensorFlow and PyTorch:\n",
    "\n",
    "### Origin and development: \n",
    "TensorFlow was developed by Google Brain, while PyTorch was developed by Facebook's AI Research Lab (FAIR). Both frameworks are open-source and have active communities contributing to their development.\n",
    "\n",
    "### Computational graph: \n",
    "TensorFlow traditionally used a static computational graph, where the graph is defined once and then executed repeatedly. This approach could make debugging more challenging. However, with the introduction of TensorFlow 2.0, eager execution is now the default mode, enabling dynamic computational graphs and a more Pythonic, imperative coding style similar to PyTorch. PyTorch uses a dynamic computational graph, allowing for more flexibility and easier debugging since the graph is constructed on-the-fly during execution.\n",
    "\n",
    "### API and ease of use:\n",
    " PyTorch is known for its Pythonic and user-friendly API, which many developers find easier to work with, especially for research purposes. TensorFlow has a steeper learning curve, but its high-level API, Keras, simplifies the process of building and training neural networks, making it more accessible to beginners.\n",
    "\n",
    "### Deployment: \n",
    "TensorFlow has better support for deployment on various platforms, including mobile devices (through TensorFlow Lite) and web browsers (through TensorFlow.js). While PyTorch is catching up in terms of deployment options, TensorFlow is generally considered more mature in this area.\n",
    "\n",
    "### Visualization: \n",
    "TensorFlow comes with TensorBoard, a powerful visualization tool for monitoring and analyzing training runs, model graphs, and performance metrics. While PyTorch does not have an in-built visualization tool, it can be integrated with TensorBoard or use third-party tools like Weights & Biases for visualization purposes.\n",
    "\n",
    "### Community and popularity:\n",
    " While both frameworks have large, active communities, TensorFlow has been around for longer and has historically been more popular. However, PyTorch has gained significant traction in recent years, particularly in the research community, due to its dynamic computation graph and user-friendly API."
   ]
  },
  {
   "attachments": {},
   "cell_type": "markdown",
   "metadata": {},
   "source": [
    "## Future of Neural Networks\n",
    "\n",
    "As research and development in neural networks continue to advance, several trends are emerging that could shape the future landscape of artificial intelligence and machine learning. Some of these trends include:\n",
    "\n",
    "### Efficient and scalable models: \n",
    "As neural networks become larger and more complex, there is a growing need for efficient models and training techniques that can scale to handle large datasets and computational demands. This includes research into techniques like pruning, quantization, and knowledge distillation to make models smaller, faster, and more energy-efficient.\n",
    "\n",
    "### Pre-trained models and transfer learning: \n",
    "The success of pre-trained models like GPT and BERT has demonstrated the power of transfer learning in neural networks. In the future, we can expect more pre-trained models and fine-tuning techniques for various tasks and domains, making it easier for developers to create and adapt models for specific applications with less data and computational resources.\n",
    "\n",
    "Self-supervised and unsupervised learning: Most neural network training today relies on supervised learning with labeled data, which can be expensive and time-consuming to obtain. There is increasing interest in self-supervised and unsupervised learning methods that can learn useful representations from unlabeled data, reducing the reliance on labeled datasets and potentially enabling more general-purpose AI systems.\n",
    "\n",
    "### Explainable AI and interpretability: \n",
    "As neural networks become more widely used in critical applications, there is a growing need for models that are interpretable and can provide explanations for their predictions. Research in this area aims to develop techniques for understanding and visualizing the inner workings of neural networks, as well as creating models that can generate human-understandable explanations for their decisions.\n",
    "\n",
    "### AI safety and robustness: \n",
    "Ensuring the safety and reliability of neural networks is a crucial concern, particularly as AI systems are increasingly integrated into real-world applications. This includes research into adversarial robustness, out-of-distribution generalization, and techniques for mitigating unintended biases in neural network predictions.\n",
    "\n",
    "### Multimodal learning and fusion: \n",
    "Future neural networks may be designed to process and integrate multiple types of data, such as text, images, and audio, enabling more sophisticated understanding and decision-making. This could lead to advances in areas like natural language understanding, computer vision, and robotics, where multiple data modalities can be combined for richer representations and more accurate predictions.\n",
    "\n",
    "### Lifelong and continual learning: \n",
    "One of the challenges with current neural networks is their inability to learn new tasks without forgetting previously learned information. Research in lifelong and continual learning aims to develop neural network architectures and training techniques that can adapt to new tasks and data while preserving knowledge from previous experiences.\n",
    "\n",
    "Neural network hardware: As neural networks become increasingly important, specialized hardware like GPUs, TPUs, and custom AI accelerators will continue to evolve, offering improved performance and energy efficiency for both training and inference.\n",
    "\n",
    "These trends represent just a few of the many directions in which neural networks and AI research may evolve in the coming years. As the field continues to grow and develop, new techniques, applications, and challenges are likely to emerge, driving further innovation and progress."
   ]
  },
  {
   "attachments": {},
   "cell_type": "markdown",
   "metadata": {},
   "source": [
    "## Que Vadis?"
   ]
  }
 ],
 "metadata": {
  "kernelspec": {
   "display_name": "Python 3",
   "language": "python",
   "name": "python3"
  },
  "language_info": {
   "codemirror_mode": {
    "name": "ipython",
    "version": 3
   },
   "file_extension": ".py",
   "mimetype": "text/x-python",
   "name": "python",
   "nbconvert_exporter": "python",
   "pygments_lexer": "ipython3",
   "version": "3.10.7"
  },
  "orig_nbformat": 4
 },
 "nbformat": 4,
 "nbformat_minor": 2
}
