{
  "cells": [
    {
      "cell_type": "markdown",
      "metadata": {
        "id": "_OiBZcwpSGlx"
      },
      "source": [
        "# Neural Networks\n",
        "\n",
        "![Real NN](https://upload.wikimedia.org/wikipedia/commons/thumb/b/be/Forest_of_synthetic_pyramidal_dendrites_grown_using_Cajal%27s_laws_of_neuronal_branching.png/440px-Forest_of_synthetic_pyramidal_dendrites_grown_using_Cajal%27s_laws_of_neuronal_branching.png)\n",
        "\n",
        "## Introduction\n",
        "\n",
        "Neural networks, often referred to as artificial neural networks (ANNs) or simply neural nets, are computational models inspired by the structure and functionality of the human brain. They are used in computer science and artificial intelligence (AI) to enable machines to learn from data and perform tasks such as pattern recognition, classification, decision making, and prediction. Neural networks have been instrumental in the success of deep learning, a subfield of machine learning.\n",
        "\n",
        "A neural network consists of interconnected nodes or artificial neurons, organized into layers. There are typically three types of layers in a neural network:\n",
        "\n",
        "* Input layer: This is the layer that receives input data. Each input node corresponds to a feature of the input data.\n",
        "* Hidden layer(s): These are the layers between the input and output layers. They perform the bulk of the computations in the network. There can be multiple hidden layers in a deep neural network, which allows the network to learn complex, hierarchical features.\n",
        "* Output layer: This is the final layer that produces the result or prediction. The number of output nodes depends on the task being performed, such as the number of classes in a classification problem.\n",
        "\n",
        "![ANN](https://upload.wikimedia.org/wikipedia/commons/thumb/4/46/Colored_neural_network.svg/500px-Colored_neural_network.svg.png)\n",
        "\n",
        "The neurons in each layer are connected to the neurons in the adjacent layers via weighted connections. During the training process, the neural network adjusts these weights to minimize the error between its predictions and the actual target values. This is typically done using a technique called backpropagation, which involves computing gradients of the error with respect to the weights and updating the weights accordingly.\n",
        "\n",
        "Activation functions play a crucial role in neural networks, introducing non-linearity into the network and enabling it to learn complex patterns."
      ]
    },
    {
      "cell_type": "markdown",
      "metadata": {
        "id": "BwuX6ZXnSGl2"
      },
      "source": [
        "## History\n",
        "\n",
        "The history of neural networks can be traced back to several key milestones and developments. Here's a brief overview of how neural networks evolved over time:\n",
        "\n",
        "* Charles Scott Sherrington and later Edgar Adrian. They hypothesized that the brain was composed of interconnected cells, which they called \"neurons,\" and that these neurons communicated with each other via synapses.\n",
        "\n",
        "![Rats](https://neurosciencenews.com/files/2019/04/emotional-mirror-neurons-rats-neuroscienews-public.jpg)\n",
        "\n",
        "https://www.nobelprize.org/prizes/medicine/1932/summary/\n",
        "\n",
        "* 1943: Warren McCulloch and Walter Pitts introduced the concept of artificial neurons in their paper \"A Logical Calculus of the Ideas Immanent in Nervous Activity.\" They proposed a simplified computational model of biological neurons, which laid the groundwork for future research in neural networks.\n",
        "\n",
        "* 1957-1958: Frank Rosenblatt developed the Perceptron, the first neural network model with learning capability. The Perceptron is a simple, single-layer neural network that can learn linearly separable patterns. Although it had limited capabilities, it was a significant milestone in neural network research.\n",
        "\n",
        "* 1969: Marvin Minsky and Seymour Papert published their book \"Perceptrons,\" which highlighted the limitations of single-layer neural networks and hampered further research on neural networks for a while. They showed that simple Perceptrons were unable to solve some basic problems, such as the XOR problem.\n",
        "\n",
        "* 1974-1986: The \"AI Winter\" occurred during this period, marked by reduced funding and interest in neural network research due to the limitations of early models.\n",
        "\n",
        "* 1986: The backpropagation algorithm was popularized by Geoffrey Hinton, David Rumelhart, and Ronald Williams.\n",
        "[Paper at Nature](https://www.nature.com/articles/323533a0)\n",
        " Backpropagation enabled the training of multi-layer neural networks, overcoming some of the limitations highlighted by Minsky and Papert. This led to a resurgence in neural network research and marked the beginning of the \"connectionist\" era.\n",
        "\n",
        "* Late 1980s and early 1990s: Recurrent neural networks (RNNs) and Long Short-Term Memory (LSTM) networks were introduced. RNNs, proposed by John Hopfield in 1982 and further developed by others, allowed for the processing of sequences of data, which was crucial for tasks like speech and language processing. LSTM, introduced by Sepp Hochreiter and Jürgen Schmidhuber in 1997, addressed the vanishing gradient problem in RNNs, enabling them to learn long-range dependencies more effectively.\n",
        "\n",
        "* 1998: Yann LeCun and his colleagues introduced the LeNet-5 convolutional neural network (CNN) architecture for digit recognition. This was an important milestone for computer vision and laid the foundation for more complex CNN architectures.\n",
        "\n",
        "* 2006-2012: The \"Deep Learning\" era began, marked by breakthroughs in training deep neural networks. In 2006, Geoffrey Hinton and his colleagues introduced the concept of \"greedy layer-wise pretraining,\" which made it possible to train deeper networks. In 2012, Alex Krizhevsky, Ilya Sutskever, and Geoffrey Hinton developed the AlexNet architecture, which significantly outperformed other models in the ImageNet Large Scale Visual Recognition Challenge, highlighting the potential of deep learning.\n",
        "\n",
        "* 2013 onwards: Neural networks started dominating various AI and machine learning tasks. Researchers introduced advanced architectures such as the Transformer by Vaswani et al in 2017, which revolutionized natural language processing and led to the development of models like BERT, GPT, and T5. These models have achieved state-of-the-art performance across a wide range of NLP tasks, such as machine translation, sentiment analysis, and question-answering.\n",
        "\n",
        "* 2018-2023: Pre-trained language models based on the Transformer architecture, such as BERT, GPT-2, GPT-3,GPT3.5, GPT-4 and other variants, have become increasingly powerful and ubiquitous. These models leverage massive amounts of data and computational resources to achieve remarkable performance in various NLP tasks, even with little or no fine-tuning.\n",
        "\n",
        "See: Cerebras - https://www.lunasec.io/docs/blog/cerebras-gpt-vs-llama-ai-model-comparison/\n",
        "\n",
        "Throughout this timeline, advances in hardware, especially GPUs (Graphics Processing Units), have been crucial in enabling the training and deployment of increasingly large and complex neural network models. In addition, the development of software libraries and frameworks, such as TensorFlow, PyTorch, and Keras, has made it easier for researchers and practitioners to experiment with and implement neural networks.\n",
        "\n",
        "As a result of these advances, neural networks have become the backbone of many AI applications, from computer vision and natural language processing to reinforcement learning and robotics. The field continues to evolve rapidly, with ongoing research into new architectures, optimization techniques, and applications."
      ]
    },
    {
      "cell_type": "markdown",
      "metadata": {
        "id": "AtlFfSV4SGl3"
      },
      "source": [
        "## Main ideas behind neural networks\n",
        "\n",
        "Neural network algorithms are inspired by the structure and functioning of the human brain. They consist of interconnected artificial neurons organized into layers, which work together to learn from data and perform tasks like pattern recognition, classification, and prediction. The main ideas behind neural network algorithms include:\n",
        "\n",
        "* Artificial neurons: The basic building block of neural networks, artificial neurons, or nodes, are designed to mimic biological neurons. They receive input from other neurons (or external data), process it, apply an activation function to introduce non-linearity, and transmit the output to the next layer of neurons.\n",
        "\n",
        "* Network architecture: Neural networks are organized into layers, typically consisting of an input layer, one or more hidden layers, and an output layer. Different architectures, such as feedforward networks, recurrent networks, and convolutional networks, can be designed to address specific problems or data types.\n",
        "\n",
        "* Connection weights: The connections between neurons in adjacent layers have associated weights, which determine the strength of the connections. During the learning process, these weights are adjusted to minimize the error between the network's predictions and the actual target values.\n",
        "\n",
        "* Activation functions: To introduce non-linearity into the network and enable it to learn complex patterns, activation functions are applied to the output of each neuron. "
      ]
    },
    {
      "cell_type": "markdown",
      "metadata": {
        "id": "qHDCZq78SGl4"
      },
      "source": [
        "## Shallow vs Deep Neural Networks\n",
        "\n",
        "The main difference between shallow and deep neural networks lies in the number of hidden layers they contain. Both types of networks consist of input and output layers, but the complexity of their internal structures varies.\n",
        "\n",
        "### Shallow Neural Networks:\n",
        "\n",
        "1. Shallow neural networks have a limited number of hidden layers, typically just one or two.\n",
        "2. They can learn simple patterns and representations in the input data.\n",
        "3. Shallow networks are less computationally intensive and can be trained more quickly.\n",
        "4. They may not be suitable for complex tasks or for learning high-level abstractions, as they lack the capacity to capture intricate relationships in the data.\n",
        "\n",
        "### Deep Neural Networks:\n",
        "\n",
        "1. Deep neural networks consist of multiple hidden layers, which can range from a few to hundreds or even thousands in some architectures.\n",
        "2. They can learn complex, hierarchical patterns and representations in the input data.\n",
        "3. Deep networks are more computationally intensive and may require specialized hardware (like GPUs) and optimization techniques to train efficiently.\n",
        "4. They are suitable for a wide range of tasks, including image recognition, natural language processing, and speech recognition, where they often outperform shallow networks.\n",
        "\n",
        "In summary, the main difference between shallow and deep neural networks is the depth of their architectures, with deep networks having more hidden layers. This added depth allows deep networks to learn more complex patterns and representations, making them more suitable for a wide range of challenging tasks. However, they can also be more computationally intensive and may require more sophisticated training techniques."
      ]
    },
    {
      "cell_type": "markdown",
      "metadata": {
        "id": "QxyPDURySGl4"
      },
      "source": [
        "## Types of Neural Networks\n",
        "\n",
        "There are several types of artificial neural networks, each designed to handle specific tasks or problems. Some of the most common types include:\n",
        "\n",
        "* Feedforward Neural Networks (FNN): These are the most basic type of neural networks, where the information flows in one direction, from the input layer through hidden layers (if any) to the output layer. There are no cycles or loops in the network. FNNs are commonly used for tasks like regression, classification, and pattern recognition.\n",
        "\n",
        "* Convolutional Neural Networks (CNN): These networks are specifically designed for processing grid-like data, such as images, by using convolutional layers to detect local patterns within the input. CNNs are especially effective at tasks like image recognition, object detection, and image segmentation.\n",
        "\n",
        "* Recurrent Neural Networks (RNN): RNNs are designed to handle sequential data by incorporating loops that allow information to persist across time steps. This makes RNNs suitable for tasks like time series prediction, natural language processing, and speech recognition. A notable variant of RNNs is the Long Short-Term Memory (LSTM) network, which addresses the vanishing gradient problem and is particularly effective at learning long-range dependencies.\n",
        "\n",
        "* Autoencoders: Autoencoders are unsupervised neural networks that learn to compress and reconstruct input data. They consist of an encoder that reduces the input data to a lower-dimensional representation and a decoder that reconstructs the original input from this representation. Autoencoders are used for tasks like dimensionality reduction, feature learning, and denoising.\n",
        "\n",
        "* Radial Basis Function Networks (RBFN): RBFNs are feedforward neural networks with radial basis function activation in the hidden layer. These networks are particularly suited for tasks like function approximation and interpolation. They can also be used for classification and regression tasks.\n",
        "\n",
        "* Deep Belief Networks (DBN): DBNs are generative models consisting of multiple layers of Restricted Boltzmann Machines (RBMs) stacked on top of each other. They are trained in an unsupervised manner and can be used for tasks like feature extraction, dimensionality reduction, and unsupervised learning.\n",
        "\n",
        "* Generative Adversarial Networks (GAN): GANs are composed of two neural networks, a generator and a discriminator, that compete against each other in a zero-sum game. The generator learns to create realistic data samples, while the discriminator learns to distinguish between real and generated samples. GANs have been used for tasks like image synthesis, image-to-image translation, and data augmentation.\n",
        "\n",
        "These are just a few examples of the many types of artificial neural networks. The choice of a specific network architecture depends on the problem to be solved, the characteristics of the input data, and the desired properties of the model."
      ]
    },
    {
      "cell_type": "markdown",
      "metadata": {
        "id": "7dholK-1SGl5"
      },
      "source": [
        "## ChatGPT - Transformer based chatbot\n",
        "\n",
        "ChatGPT is based on the GPT-4 architecture, which is a type of neural network known as a Transformer. Transformers were introduced in the paper \"Attention is All You Need\" by Vaswani et al. in 2017. They are specifically designed for handling sequential data and have become very popular in natural language processing (NLP) tasks due to their excellent performance and scalability.\n",
        "\n",
        "Transformers rely on a mechanism called self-attention, which allows them to consider the relationships between different parts of the input sequence without the need for recurrent connections. This self-attention mechanism enables Transformers to process input data in parallel rather than sequentially, resulting in improved training efficiency and the ability to model long-range dependencies.\n",
        "\n",
        "The GPT (short for \"Generative Pre-trained Transformer\") family of models, developed by OpenAI, are large-scale unsupervised language models that are pre-trained on massive text datasets. They are then fine-tuned on specific tasks, such as text classification, translation, summarization, or question-answering. ChatGPT is an instance of the GPT-4 model, which has been fine-tuned to generate human-like responses in a conversational setting."
      ]
    },
    {
      "cell_type": "markdown",
      "metadata": {
        "id": "qeDjza1wSGl6"
      },
      "source": [
        "## Backpropagation\n",
        "\n",
        "Backpropagation (short for \"backward propagation of errors\") is a widely used optimization algorithm for training feedforward artificial neural networks. It is a supervised learning technique that adjusts the weights of the network by minimizing the error between the network's predictions and the actual target values. The backpropagation algorithm consists of two main steps: forward pass and backward pass.\n",
        "\n",
        "* Forward pass: In this step, the input is passed through the network to compute the output. The input data is fed into the input layer, processed through the hidden layers, and then transformed into an output in the output layer. This step involves computing the weighted sum of the inputs and applying the activation functions for each neuron in the network.\n",
        "\n",
        "* Backward pass: In this step, the error between the network's output and the actual target values is calculated and propagated backward through the network. The error is used to update the weights in each layer. This process involves the following steps:\n",
        "\n",
        "  1. Compute the output error: Calculate the difference between the network's output and the actual target values. This can be measured using a loss function, such as mean squared error or cross-entropy loss.\n",
        "\n",
        "  2. Calculate gradients: Compute the gradient of the error with respect to the weights in the network using the chain rule of calculus. This step involves calculating the partial derivatives of the error with respect to each weight in the network, which represents how much the error would change if a particular weight were adjusted.\n",
        "\n",
        "  3. Update weights: Adjust the weights in the network based on the calculated gradients. This is done using an optimization algorithm, such as gradient descent or its variants like stochastic gradient descent, Adam, or RMSprop. The weights are updated by a small fraction (learning rate) of their corresponding gradients to minimize the overall error.\n",
        "\n",
        "The forward and backward passes are repeated for each data point (or batch of data points) in the training dataset, iteratively adjusting the weights until the error converges to a minimum value or a stopping criterion is reached. This process of updating the weights using backpropagation is typically performed over multiple epochs (i.e., complete passes through the training dataset) to ensure that the network learns the underlying patterns in the data.\n",
        "\n",
        "In summary, backpropagation is a crucial learning algorithm for neural networks that involves computing the error between the network's predictions and actual target values, calculating gradients, and updating the weights to minimize the error. It is an efficient and widely used technique for training feedforward neural networks in supervised learning tasks."
      ]
    },
    {
      "cell_type": "markdown",
      "metadata": {
        "id": "j8c9HOQpSGl6"
      },
      "source": [
        "## Activation Functions\n",
        "\n",
        "An activation function in a neural network is a mathematical function applied to the output of an artificial neuron or node. It serves to introduce non-linearity into the network, allowing the model to learn and represent complex patterns and relationships in the input data. Without activation functions, neural networks would be limited to modeling linear relationships, which would severely restrict their ability to solve a wide range of problems.\n",
        "\n",
        "The activation function takes the weighted sum of the inputs (along with a bias term) as its input and transforms it into an output value. This output value is then passed on to the neurons in the subsequent layer. By applying non-linear activation functions, the network can learn to approximate any continuous function, making it a powerful tool for various machine learning tasks.\n",
        "\n",
        "![Activ Func](https://miro.medium.com/v2/resize:fit:1400/format:webp/0*LsOuo_SPh7wq4tqH.png)\n",
        "src: https://3344.medium.com/activation-functions-1dae8fedd951\n",
        "\n",
        "Activation functions play a crucial role in neural networks by introducing non-linearity, enabling the network to learn complex patterns and representations. Some common activation functions used in neural networks are:\n",
        "\n",
        "* Sigmoid (logistic) function: This function maps the input values to a range between 0 and 1. It is commonly used for binary classification tasks and in the output layer for producing probabilities. The sigmoid function is defined as:\n",
        "\n",
        "`f(x) = 1 / (1 + exp(-x))`\n",
        "\n",
        "* Hyperbolic Tangent (tanh) function: The tanh function is similar to the sigmoid function but maps the input values to a range between -1 and 1. It is often preferred in hidden layers as it has a zero-centered output, which can help with gradient optimization. The tanh function is defined as:\n",
        "\n",
        "`f(x) = (exp(x) - exp(-x)) / (exp(x) + exp(-x))`\n",
        "\n",
        "* Rectified Linear Unit (ReLU) function: ReLU is a popular activation function for deep neural networks, as it is computationally efficient and helps mitigate the vanishing gradient problem. It outputs the input value if it's positive and zero otherwise. The ReLU function is defined as:\n",
        "\n",
        "`f(x) = max(0, x)`\n",
        "\n",
        "* Leaky Rectified Linear Unit (Leaky ReLU) function: Leaky ReLU is a variant of the ReLU function that allows a small, non-zero output for negative input values, which can help prevent dead neurons during training. The Leaky ReLU function is defined as:\n",
        "\n",
        "`f(x) = max(alpha * x, x)`\n",
        "\n",
        "where alpha is a small positive constant (e.g., 0.01)\n",
        "\n",
        "* Exponential Linear Unit (ELU) function: ELU is another variant of the ReLU function that has a smooth curve for negative input values, which can help with the vanishing gradient problem. The ELU function is defined as:\n",
        "\n",
        "`f(x) = x if x > 0, alpha * (exp(x) - 1) if x <= 0`\n",
        "\n",
        "where alpha is a positive constant\n",
        "\n",
        "Softmax function: The softmax function is commonly used in the output layer of a neural network for multi-class classification problems. It converts the output values into a probability distribution over the classes. The softmax function is defined as:\n",
        "\n",
        "`f_i(x) = exp(x_i) / sum(exp(x_j) for j in range of output neurons)`\n",
        "\n",
        "These are just a few of the many activation functions that can be employed in neural networks. The choice of the activation function depends on the specific problem, the network architecture, and the type of data being used."
      ]
    },
    {
      "cell_type": "markdown",
      "metadata": {
        "id": "2mXnAPPMSGl7"
      },
      "source": [
        "## Loss functions\n",
        "\n",
        "In neural networks, a loss function (also known as a cost function or objective function) is a mathematical function used to measure the difference between the predicted output of the network and the actual target values. The primary goal of training a neural network is to minimize the value of the loss function, which helps the model learn the underlying patterns in the input data and make more accurate predictions.\n",
        "\n",
        "![loss](https://wikidocs.net/images/page/165219/Fig_01.png)\n",
        "src: https://wikidocs.net/179999 - Deep Learning Bible\n",
        "\n",
        "Loss functions play a crucial role in the optimization process, as they quantify the performance of the neural network and guide the adjustment of the model's parameters (i.e., weights and biases) during the training phase. The choice of an appropriate loss function depends on the specific problem being addressed, the type of output produced by the network, and the desired properties of the optimization process.\n",
        "\n",
        "Some common loss functions used in neural networks include:\n",
        "\n",
        "* Mean Squared Error (MSE): This loss function is commonly used in regression tasks, as it measures the average squared difference between the predicted values and the actual target values. MSE is defined as:\n",
        "\n",
        "`MSE = (1/n) * Σ (y_i - ŷ_i)^2`\n",
        "\n",
        "where y_i represents the actual target value, ŷ_i represents the predicted value, and n is the number of samples.\n",
        "\n",
        "* Cross-Entropy Loss: This loss function is widely used for classification tasks, particularly when the network's output is a probability distribution. Cross-entropy loss measures the dissimilarity between the predicted probability distribution and the actual target distribution (usually one-hot encoded). The binary cross-entropy loss is used for binary classification, while the categorical cross-entropy loss is used for multi-class classification problems. Cross-entropy loss is defined as:\n",
        "\n",
        "`Cross-Entropy = - Σ y_i * log(ŷ_i)`\n",
        "\n",
        "where y_i represents the actual target value (one-hot encoded), and ŷ_i represents the predicted probability.\n",
        "\n",
        "* Hinge Loss: This loss function is commonly used for training support vector machines (SVMs) and is also suitable for some neural network classification tasks, particularly those with large margins. Hinge loss encourages the model to produce predictions that are not only accurate but also have a margin of separation from the decision boundary. Hinge loss is defined as:\n",
        "\n",
        "`Hinge Loss = max(0, 1 - y_i * ŷ_i)`\n",
        "\n",
        "where y_i represents the actual target value (usually encoded as +1 or -1) and ŷ_i represents the predicted value.\n",
        "\n",
        "There are many other loss functions that can be used in neural networks, depending on the specific problem being addressed. The choice of the loss function depends on the type of output produced by the network, the desired properties of the optimization process, and the type of data being used."
      ]
    },
    {
      "cell_type": "markdown",
      "metadata": {
        "id": "mBnSXudnSGl7"
      },
      "source": [
        "## Sample Neural Network\n",
        "\n",
        "This code creates a simple feedforward neural network with an input layer (using the `Flatten` layer to convert the 28x28 images into a one-dimensional array), a hidden layer with 128 neurons and a ReLU activation function, and an output layer with 10 neurons for the 10 possible digit classes and a softmax activation function.\n",
        "\n",
        "The model is compiled using the Adam optimizer, the SparseCategoricalCrossentropy loss function, and the SparseCategoricalAccuracy metric for evaluation. It is then trained on the preprocessed MNIST dataset for 10 epochs using a batch size of 32. Finally, the model's performance is evaluated on the test data, and the test accuracy is printed.\n",
        "\n",
        "Keep in mind that this is just a basic example of a neural network using Python and Keras. More complex and deeper architectures can be built using additional layers, such as convolutional layers for image classification or recurrent layers for sequence data. The choice of architecture, optimizer, loss function, and other hyperparameters would depend on the specific problem you are trying to solve.\n",
        "\n",
        "Keras is a library for building and training neural networks in Python. It provides a high-level API for building and training neural networks, as well as a number of built-in neural network layers and activation functions. Keras is a wrapper around TensorFlow, which is a popular open-source library for machine learning and deep learning. Keras is also compatible with other deep learning libraries, such as PyTorch and CNTK.\n",
        "\n",
        "TensorFlow is a popular open-source library for machine learning and deep learning. It provides a high-level API for building and training neural networks, as well as a number of built-in neural network layers and activation functions. TensorFlow is a wrapper around the C++ library Eigen, which is a popular open-source library for linear algebra and matrix operations. TensorFlow is also compatible with other deep learning libraries, such as Keras and CNTK.\n",
        "\n",
        "PyTorch is a popular open-source library for machine learning and deep learning. It provides a high-level API for building and training neural networks, as well as a number of built-in neural network layers and activation functions. PyTorch is a wrapper around the C++ library ATen, which is a popular open-source library for tensor operations. PyTorch is also compatible with other deep learning libraries, such as Keras and CNTK."
      ]
    },
    {
      "cell_type": "code",
      "execution_count": 1,
      "metadata": {
        "id": "_olRr-CDSGl8"
      },
      "outputs": [],
      "source": [
        "import tensorflow as tf\n",
        "from tensorflow.keras.datasets import mnist\n",
        "from tensorflow.keras.models import Sequential\n",
        "from tensorflow.keras.layers import Dense, Flatten\n",
        "from tensorflow.keras.optimizers import Adam\n",
        "from tensorflow.keras.losses import SparseCategoricalCrossentropy\n",
        "from tensorflow.keras.metrics import SparseCategoricalAccuracy\n",
        "\n"
      ]
    },
    {
      "cell_type": "code",
      "source": [
        "\n",
        "# Load and preprocess the MNIST dataset\n",
        "(x_train, y_train), (x_test, y_test) = mnist.load_data()"
      ],
      "metadata": {
        "id": "tRTJGFaHihS9",
        "outputId": "a8620fc0-0c85-4d76-9cfa-a3879f6277ca",
        "colab": {
          "base_uri": "https://localhost:8080/"
        }
      },
      "execution_count": 2,
      "outputs": [
        {
          "output_type": "stream",
          "name": "stdout",
          "text": [
            "Downloading data from https://storage.googleapis.com/tensorflow/tf-keras-datasets/mnist.npz\n",
            "11490434/11490434 [==============================] - 0s 0us/step\n"
          ]
        }
      ]
    },
    {
      "cell_type": "code",
      "source": [
        "# check first if data needs scaling with min max\n",
        "x_train.shape"
      ],
      "metadata": {
        "id": "7GeD2JTai8w6",
        "outputId": "2b6c8350-63db-42d2-d4d3-c67d0668d952",
        "colab": {
          "base_uri": "https://localhost:8080/"
        }
      },
      "execution_count": 3,
      "outputs": [
        {
          "output_type": "execute_result",
          "data": {
            "text/plain": [
              "(60000, 28, 28)"
            ]
          },
          "metadata": {},
          "execution_count": 3
        }
      ]
    },
    {
      "cell_type": "code",
      "source": [
        "28**2"
      ],
      "metadata": {
        "id": "b7D81riejJMY",
        "outputId": "b7516dde-6e54-4fa3-89d0-d74956333038",
        "colab": {
          "base_uri": "https://localhost:8080/"
        }
      },
      "execution_count": 5,
      "outputs": [
        {
          "output_type": "execute_result",
          "data": {
            "text/plain": [
              "784"
            ]
          },
          "metadata": {},
          "execution_count": 5
        }
      ]
    },
    {
      "cell_type": "code",
      "source": [
        "x_train[0]"
      ],
      "metadata": {
        "id": "AIu1vK7IjAo8",
        "outputId": "5737bf4e-8abc-46b0-fbff-924430b62d25",
        "colab": {
          "base_uri": "https://localhost:8080/"
        }
      },
      "execution_count": 4,
      "outputs": [
        {
          "output_type": "execute_result",
          "data": {
            "text/plain": [
              "array([[  0,   0,   0,   0,   0,   0,   0,   0,   0,   0,   0,   0,   0,\n",
              "          0,   0,   0,   0,   0,   0,   0,   0,   0,   0,   0,   0,   0,\n",
              "          0,   0],\n",
              "       [  0,   0,   0,   0,   0,   0,   0,   0,   0,   0,   0,   0,   0,\n",
              "          0,   0,   0,   0,   0,   0,   0,   0,   0,   0,   0,   0,   0,\n",
              "          0,   0],\n",
              "       [  0,   0,   0,   0,   0,   0,   0,   0,   0,   0,   0,   0,   0,\n",
              "          0,   0,   0,   0,   0,   0,   0,   0,   0,   0,   0,   0,   0,\n",
              "          0,   0],\n",
              "       [  0,   0,   0,   0,   0,   0,   0,   0,   0,   0,   0,   0,   0,\n",
              "          0,   0,   0,   0,   0,   0,   0,   0,   0,   0,   0,   0,   0,\n",
              "          0,   0],\n",
              "       [  0,   0,   0,   0,   0,   0,   0,   0,   0,   0,   0,   0,   0,\n",
              "          0,   0,   0,   0,   0,   0,   0,   0,   0,   0,   0,   0,   0,\n",
              "          0,   0],\n",
              "       [  0,   0,   0,   0,   0,   0,   0,   0,   0,   0,   0,   0,   3,\n",
              "         18,  18,  18, 126, 136, 175,  26, 166, 255, 247, 127,   0,   0,\n",
              "          0,   0],\n",
              "       [  0,   0,   0,   0,   0,   0,   0,   0,  30,  36,  94, 154, 170,\n",
              "        253, 253, 253, 253, 253, 225, 172, 253, 242, 195,  64,   0,   0,\n",
              "          0,   0],\n",
              "       [  0,   0,   0,   0,   0,   0,   0,  49, 238, 253, 253, 253, 253,\n",
              "        253, 253, 253, 253, 251,  93,  82,  82,  56,  39,   0,   0,   0,\n",
              "          0,   0],\n",
              "       [  0,   0,   0,   0,   0,   0,   0,  18, 219, 253, 253, 253, 253,\n",
              "        253, 198, 182, 247, 241,   0,   0,   0,   0,   0,   0,   0,   0,\n",
              "          0,   0],\n",
              "       [  0,   0,   0,   0,   0,   0,   0,   0,  80, 156, 107, 253, 253,\n",
              "        205,  11,   0,  43, 154,   0,   0,   0,   0,   0,   0,   0,   0,\n",
              "          0,   0],\n",
              "       [  0,   0,   0,   0,   0,   0,   0,   0,   0,  14,   1, 154, 253,\n",
              "         90,   0,   0,   0,   0,   0,   0,   0,   0,   0,   0,   0,   0,\n",
              "          0,   0],\n",
              "       [  0,   0,   0,   0,   0,   0,   0,   0,   0,   0,   0, 139, 253,\n",
              "        190,   2,   0,   0,   0,   0,   0,   0,   0,   0,   0,   0,   0,\n",
              "          0,   0],\n",
              "       [  0,   0,   0,   0,   0,   0,   0,   0,   0,   0,   0,  11, 190,\n",
              "        253,  70,   0,   0,   0,   0,   0,   0,   0,   0,   0,   0,   0,\n",
              "          0,   0],\n",
              "       [  0,   0,   0,   0,   0,   0,   0,   0,   0,   0,   0,   0,  35,\n",
              "        241, 225, 160, 108,   1,   0,   0,   0,   0,   0,   0,   0,   0,\n",
              "          0,   0],\n",
              "       [  0,   0,   0,   0,   0,   0,   0,   0,   0,   0,   0,   0,   0,\n",
              "         81, 240, 253, 253, 119,  25,   0,   0,   0,   0,   0,   0,   0,\n",
              "          0,   0],\n",
              "       [  0,   0,   0,   0,   0,   0,   0,   0,   0,   0,   0,   0,   0,\n",
              "          0,  45, 186, 253, 253, 150,  27,   0,   0,   0,   0,   0,   0,\n",
              "          0,   0],\n",
              "       [  0,   0,   0,   0,   0,   0,   0,   0,   0,   0,   0,   0,   0,\n",
              "          0,   0,  16,  93, 252, 253, 187,   0,   0,   0,   0,   0,   0,\n",
              "          0,   0],\n",
              "       [  0,   0,   0,   0,   0,   0,   0,   0,   0,   0,   0,   0,   0,\n",
              "          0,   0,   0,   0, 249, 253, 249,  64,   0,   0,   0,   0,   0,\n",
              "          0,   0],\n",
              "       [  0,   0,   0,   0,   0,   0,   0,   0,   0,   0,   0,   0,   0,\n",
              "          0,  46, 130, 183, 253, 253, 207,   2,   0,   0,   0,   0,   0,\n",
              "          0,   0],\n",
              "       [  0,   0,   0,   0,   0,   0,   0,   0,   0,   0,   0,   0,  39,\n",
              "        148, 229, 253, 253, 253, 250, 182,   0,   0,   0,   0,   0,   0,\n",
              "          0,   0],\n",
              "       [  0,   0,   0,   0,   0,   0,   0,   0,   0,   0,  24, 114, 221,\n",
              "        253, 253, 253, 253, 201,  78,   0,   0,   0,   0,   0,   0,   0,\n",
              "          0,   0],\n",
              "       [  0,   0,   0,   0,   0,   0,   0,   0,  23,  66, 213, 253, 253,\n",
              "        253, 253, 198,  81,   2,   0,   0,   0,   0,   0,   0,   0,   0,\n",
              "          0,   0],\n",
              "       [  0,   0,   0,   0,   0,   0,  18, 171, 219, 253, 253, 253, 253,\n",
              "        195,  80,   9,   0,   0,   0,   0,   0,   0,   0,   0,   0,   0,\n",
              "          0,   0],\n",
              "       [  0,   0,   0,   0,  55, 172, 226, 253, 253, 253, 253, 244, 133,\n",
              "         11,   0,   0,   0,   0,   0,   0,   0,   0,   0,   0,   0,   0,\n",
              "          0,   0],\n",
              "       [  0,   0,   0,   0, 136, 253, 253, 253, 212, 135, 132,  16,   0,\n",
              "          0,   0,   0,   0,   0,   0,   0,   0,   0,   0,   0,   0,   0,\n",
              "          0,   0],\n",
              "       [  0,   0,   0,   0,   0,   0,   0,   0,   0,   0,   0,   0,   0,\n",
              "          0,   0,   0,   0,   0,   0,   0,   0,   0,   0,   0,   0,   0,\n",
              "          0,   0],\n",
              "       [  0,   0,   0,   0,   0,   0,   0,   0,   0,   0,   0,   0,   0,\n",
              "          0,   0,   0,   0,   0,   0,   0,   0,   0,   0,   0,   0,   0,\n",
              "          0,   0],\n",
              "       [  0,   0,   0,   0,   0,   0,   0,   0,   0,   0,   0,   0,   0,\n",
              "          0,   0,   0,   0,   0,   0,   0,   0,   0,   0,   0,   0,   0,\n",
              "          0,   0]], dtype=uint8)"
            ]
          },
          "metadata": {},
          "execution_count": 4
        }
      ]
    },
    {
      "cell_type": "code",
      "source": [
        "\n",
        "# scaling # check first if data needs scaling with min max\n",
        "x_train, x_test = x_train / 255.0, x_test / 255.0  # most Neural networks prefer values from 0 to 1 not 0 to 255"
      ],
      "metadata": {
        "id": "r1FaM2t1i5XS"
      },
      "execution_count": 6,
      "outputs": []
    },
    {
      "cell_type": "code",
      "execution_count": 7,
      "metadata": {
        "id": "1ow5mrioSGl-",
        "outputId": "a1ef8d70-c7ad-48a0-ffd5-a8708b71a143",
        "colab": {
          "base_uri": "https://localhost:8080/"
        }
      },
      "outputs": [
        {
          "output_type": "execute_result",
          "data": {
            "text/plain": [
              "((60000, 28, 28), (60000,), (10000, 28, 28), (10000,))"
            ]
          },
          "metadata": {},
          "execution_count": 7
        }
      ],
      "source": [
        "x_train.shape, y_train.shape, x_test.shape, y_test.shape"
      ]
    },
    {
      "cell_type": "code",
      "source": [
        "# y_train will provide answer/label for each corresponding entry in x_train\n",
        "y_train[0]"
      ],
      "metadata": {
        "id": "lAzp-PVcjQoL",
        "outputId": "5017ff75-8271-4c80-9e50-44822c575274",
        "colab": {
          "base_uri": "https://localhost:8080/"
        }
      },
      "execution_count": 8,
      "outputs": [
        {
          "output_type": "execute_result",
          "data": {
            "text/plain": [
              "5"
            ]
          },
          "metadata": {},
          "execution_count": 8
        }
      ]
    },
    {
      "cell_type": "code",
      "source": [
        "x_train[0]"
      ],
      "metadata": {
        "id": "zQxeq2Z8jczy",
        "outputId": "3bbf08a7-b834-4d52-e4df-f24b8bd00120",
        "colab": {
          "base_uri": "https://localhost:8080/"
        }
      },
      "execution_count": 9,
      "outputs": [
        {
          "output_type": "execute_result",
          "data": {
            "text/plain": [
              "array([[0.        , 0.        , 0.        , 0.        , 0.        ,\n",
              "        0.        , 0.        , 0.        , 0.        , 0.        ,\n",
              "        0.        , 0.        , 0.        , 0.        , 0.        ,\n",
              "        0.        , 0.        , 0.        , 0.        , 0.        ,\n",
              "        0.        , 0.        , 0.        , 0.        , 0.        ,\n",
              "        0.        , 0.        , 0.        ],\n",
              "       [0.        , 0.        , 0.        , 0.        , 0.        ,\n",
              "        0.        , 0.        , 0.        , 0.        , 0.        ,\n",
              "        0.        , 0.        , 0.        , 0.        , 0.        ,\n",
              "        0.        , 0.        , 0.        , 0.        , 0.        ,\n",
              "        0.        , 0.        , 0.        , 0.        , 0.        ,\n",
              "        0.        , 0.        , 0.        ],\n",
              "       [0.        , 0.        , 0.        , 0.        , 0.        ,\n",
              "        0.        , 0.        , 0.        , 0.        , 0.        ,\n",
              "        0.        , 0.        , 0.        , 0.        , 0.        ,\n",
              "        0.        , 0.        , 0.        , 0.        , 0.        ,\n",
              "        0.        , 0.        , 0.        , 0.        , 0.        ,\n",
              "        0.        , 0.        , 0.        ],\n",
              "       [0.        , 0.        , 0.        , 0.        , 0.        ,\n",
              "        0.        , 0.        , 0.        , 0.        , 0.        ,\n",
              "        0.        , 0.        , 0.        , 0.        , 0.        ,\n",
              "        0.        , 0.        , 0.        , 0.        , 0.        ,\n",
              "        0.        , 0.        , 0.        , 0.        , 0.        ,\n",
              "        0.        , 0.        , 0.        ],\n",
              "       [0.        , 0.        , 0.        , 0.        , 0.        ,\n",
              "        0.        , 0.        , 0.        , 0.        , 0.        ,\n",
              "        0.        , 0.        , 0.        , 0.        , 0.        ,\n",
              "        0.        , 0.        , 0.        , 0.        , 0.        ,\n",
              "        0.        , 0.        , 0.        , 0.        , 0.        ,\n",
              "        0.        , 0.        , 0.        ],\n",
              "       [0.        , 0.        , 0.        , 0.        , 0.        ,\n",
              "        0.        , 0.        , 0.        , 0.        , 0.        ,\n",
              "        0.        , 0.        , 0.01176471, 0.07058824, 0.07058824,\n",
              "        0.07058824, 0.49411765, 0.53333333, 0.68627451, 0.10196078,\n",
              "        0.65098039, 1.        , 0.96862745, 0.49803922, 0.        ,\n",
              "        0.        , 0.        , 0.        ],\n",
              "       [0.        , 0.        , 0.        , 0.        , 0.        ,\n",
              "        0.        , 0.        , 0.        , 0.11764706, 0.14117647,\n",
              "        0.36862745, 0.60392157, 0.66666667, 0.99215686, 0.99215686,\n",
              "        0.99215686, 0.99215686, 0.99215686, 0.88235294, 0.6745098 ,\n",
              "        0.99215686, 0.94901961, 0.76470588, 0.25098039, 0.        ,\n",
              "        0.        , 0.        , 0.        ],\n",
              "       [0.        , 0.        , 0.        , 0.        , 0.        ,\n",
              "        0.        , 0.        , 0.19215686, 0.93333333, 0.99215686,\n",
              "        0.99215686, 0.99215686, 0.99215686, 0.99215686, 0.99215686,\n",
              "        0.99215686, 0.99215686, 0.98431373, 0.36470588, 0.32156863,\n",
              "        0.32156863, 0.21960784, 0.15294118, 0.        , 0.        ,\n",
              "        0.        , 0.        , 0.        ],\n",
              "       [0.        , 0.        , 0.        , 0.        , 0.        ,\n",
              "        0.        , 0.        , 0.07058824, 0.85882353, 0.99215686,\n",
              "        0.99215686, 0.99215686, 0.99215686, 0.99215686, 0.77647059,\n",
              "        0.71372549, 0.96862745, 0.94509804, 0.        , 0.        ,\n",
              "        0.        , 0.        , 0.        , 0.        , 0.        ,\n",
              "        0.        , 0.        , 0.        ],\n",
              "       [0.        , 0.        , 0.        , 0.        , 0.        ,\n",
              "        0.        , 0.        , 0.        , 0.31372549, 0.61176471,\n",
              "        0.41960784, 0.99215686, 0.99215686, 0.80392157, 0.04313725,\n",
              "        0.        , 0.16862745, 0.60392157, 0.        , 0.        ,\n",
              "        0.        , 0.        , 0.        , 0.        , 0.        ,\n",
              "        0.        , 0.        , 0.        ],\n",
              "       [0.        , 0.        , 0.        , 0.        , 0.        ,\n",
              "        0.        , 0.        , 0.        , 0.        , 0.05490196,\n",
              "        0.00392157, 0.60392157, 0.99215686, 0.35294118, 0.        ,\n",
              "        0.        , 0.        , 0.        , 0.        , 0.        ,\n",
              "        0.        , 0.        , 0.        , 0.        , 0.        ,\n",
              "        0.        , 0.        , 0.        ],\n",
              "       [0.        , 0.        , 0.        , 0.        , 0.        ,\n",
              "        0.        , 0.        , 0.        , 0.        , 0.        ,\n",
              "        0.        , 0.54509804, 0.99215686, 0.74509804, 0.00784314,\n",
              "        0.        , 0.        , 0.        , 0.        , 0.        ,\n",
              "        0.        , 0.        , 0.        , 0.        , 0.        ,\n",
              "        0.        , 0.        , 0.        ],\n",
              "       [0.        , 0.        , 0.        , 0.        , 0.        ,\n",
              "        0.        , 0.        , 0.        , 0.        , 0.        ,\n",
              "        0.        , 0.04313725, 0.74509804, 0.99215686, 0.2745098 ,\n",
              "        0.        , 0.        , 0.        , 0.        , 0.        ,\n",
              "        0.        , 0.        , 0.        , 0.        , 0.        ,\n",
              "        0.        , 0.        , 0.        ],\n",
              "       [0.        , 0.        , 0.        , 0.        , 0.        ,\n",
              "        0.        , 0.        , 0.        , 0.        , 0.        ,\n",
              "        0.        , 0.        , 0.1372549 , 0.94509804, 0.88235294,\n",
              "        0.62745098, 0.42352941, 0.00392157, 0.        , 0.        ,\n",
              "        0.        , 0.        , 0.        , 0.        , 0.        ,\n",
              "        0.        , 0.        , 0.        ],\n",
              "       [0.        , 0.        , 0.        , 0.        , 0.        ,\n",
              "        0.        , 0.        , 0.        , 0.        , 0.        ,\n",
              "        0.        , 0.        , 0.        , 0.31764706, 0.94117647,\n",
              "        0.99215686, 0.99215686, 0.46666667, 0.09803922, 0.        ,\n",
              "        0.        , 0.        , 0.        , 0.        , 0.        ,\n",
              "        0.        , 0.        , 0.        ],\n",
              "       [0.        , 0.        , 0.        , 0.        , 0.        ,\n",
              "        0.        , 0.        , 0.        , 0.        , 0.        ,\n",
              "        0.        , 0.        , 0.        , 0.        , 0.17647059,\n",
              "        0.72941176, 0.99215686, 0.99215686, 0.58823529, 0.10588235,\n",
              "        0.        , 0.        , 0.        , 0.        , 0.        ,\n",
              "        0.        , 0.        , 0.        ],\n",
              "       [0.        , 0.        , 0.        , 0.        , 0.        ,\n",
              "        0.        , 0.        , 0.        , 0.        , 0.        ,\n",
              "        0.        , 0.        , 0.        , 0.        , 0.        ,\n",
              "        0.0627451 , 0.36470588, 0.98823529, 0.99215686, 0.73333333,\n",
              "        0.        , 0.        , 0.        , 0.        , 0.        ,\n",
              "        0.        , 0.        , 0.        ],\n",
              "       [0.        , 0.        , 0.        , 0.        , 0.        ,\n",
              "        0.        , 0.        , 0.        , 0.        , 0.        ,\n",
              "        0.        , 0.        , 0.        , 0.        , 0.        ,\n",
              "        0.        , 0.        , 0.97647059, 0.99215686, 0.97647059,\n",
              "        0.25098039, 0.        , 0.        , 0.        , 0.        ,\n",
              "        0.        , 0.        , 0.        ],\n",
              "       [0.        , 0.        , 0.        , 0.        , 0.        ,\n",
              "        0.        , 0.        , 0.        , 0.        , 0.        ,\n",
              "        0.        , 0.        , 0.        , 0.        , 0.18039216,\n",
              "        0.50980392, 0.71764706, 0.99215686, 0.99215686, 0.81176471,\n",
              "        0.00784314, 0.        , 0.        , 0.        , 0.        ,\n",
              "        0.        , 0.        , 0.        ],\n",
              "       [0.        , 0.        , 0.        , 0.        , 0.        ,\n",
              "        0.        , 0.        , 0.        , 0.        , 0.        ,\n",
              "        0.        , 0.        , 0.15294118, 0.58039216, 0.89803922,\n",
              "        0.99215686, 0.99215686, 0.99215686, 0.98039216, 0.71372549,\n",
              "        0.        , 0.        , 0.        , 0.        , 0.        ,\n",
              "        0.        , 0.        , 0.        ],\n",
              "       [0.        , 0.        , 0.        , 0.        , 0.        ,\n",
              "        0.        , 0.        , 0.        , 0.        , 0.        ,\n",
              "        0.09411765, 0.44705882, 0.86666667, 0.99215686, 0.99215686,\n",
              "        0.99215686, 0.99215686, 0.78823529, 0.30588235, 0.        ,\n",
              "        0.        , 0.        , 0.        , 0.        , 0.        ,\n",
              "        0.        , 0.        , 0.        ],\n",
              "       [0.        , 0.        , 0.        , 0.        , 0.        ,\n",
              "        0.        , 0.        , 0.        , 0.09019608, 0.25882353,\n",
              "        0.83529412, 0.99215686, 0.99215686, 0.99215686, 0.99215686,\n",
              "        0.77647059, 0.31764706, 0.00784314, 0.        , 0.        ,\n",
              "        0.        , 0.        , 0.        , 0.        , 0.        ,\n",
              "        0.        , 0.        , 0.        ],\n",
              "       [0.        , 0.        , 0.        , 0.        , 0.        ,\n",
              "        0.        , 0.07058824, 0.67058824, 0.85882353, 0.99215686,\n",
              "        0.99215686, 0.99215686, 0.99215686, 0.76470588, 0.31372549,\n",
              "        0.03529412, 0.        , 0.        , 0.        , 0.        ,\n",
              "        0.        , 0.        , 0.        , 0.        , 0.        ,\n",
              "        0.        , 0.        , 0.        ],\n",
              "       [0.        , 0.        , 0.        , 0.        , 0.21568627,\n",
              "        0.6745098 , 0.88627451, 0.99215686, 0.99215686, 0.99215686,\n",
              "        0.99215686, 0.95686275, 0.52156863, 0.04313725, 0.        ,\n",
              "        0.        , 0.        , 0.        , 0.        , 0.        ,\n",
              "        0.        , 0.        , 0.        , 0.        , 0.        ,\n",
              "        0.        , 0.        , 0.        ],\n",
              "       [0.        , 0.        , 0.        , 0.        , 0.53333333,\n",
              "        0.99215686, 0.99215686, 0.99215686, 0.83137255, 0.52941176,\n",
              "        0.51764706, 0.0627451 , 0.        , 0.        , 0.        ,\n",
              "        0.        , 0.        , 0.        , 0.        , 0.        ,\n",
              "        0.        , 0.        , 0.        , 0.        , 0.        ,\n",
              "        0.        , 0.        , 0.        ],\n",
              "       [0.        , 0.        , 0.        , 0.        , 0.        ,\n",
              "        0.        , 0.        , 0.        , 0.        , 0.        ,\n",
              "        0.        , 0.        , 0.        , 0.        , 0.        ,\n",
              "        0.        , 0.        , 0.        , 0.        , 0.        ,\n",
              "        0.        , 0.        , 0.        , 0.        , 0.        ,\n",
              "        0.        , 0.        , 0.        ],\n",
              "       [0.        , 0.        , 0.        , 0.        , 0.        ,\n",
              "        0.        , 0.        , 0.        , 0.        , 0.        ,\n",
              "        0.        , 0.        , 0.        , 0.        , 0.        ,\n",
              "        0.        , 0.        , 0.        , 0.        , 0.        ,\n",
              "        0.        , 0.        , 0.        , 0.        , 0.        ,\n",
              "        0.        , 0.        , 0.        ],\n",
              "       [0.        , 0.        , 0.        , 0.        , 0.        ,\n",
              "        0.        , 0.        , 0.        , 0.        , 0.        ,\n",
              "        0.        , 0.        , 0.        , 0.        , 0.        ,\n",
              "        0.        , 0.        , 0.        , 0.        , 0.        ,\n",
              "        0.        , 0.        , 0.        , 0.        , 0.        ,\n",
              "        0.        , 0.        , 0.        ]])"
            ]
          },
          "metadata": {},
          "execution_count": 9
        }
      ]
    },
    {
      "cell_type": "markdown",
      "metadata": {
        "id": "6MD9aggFSGl-"
      },
      "source": [
        "## Displaying images"
      ]
    },
    {
      "cell_type": "code",
      "execution_count": null,
      "metadata": {
        "id": "JZDvKEw9SGl-"
      },
      "outputs": [],
      "source": []
    },
    {
      "cell_type": "code",
      "execution_count": 12,
      "metadata": {
        "id": "mbMhs78dSGl_",
        "outputId": "8b793f0f-0195-42c1-d3f8-b3ed0ee53c6f",
        "colab": {
          "base_uri": "https://localhost:8080/",
          "height": 447
        }
      },
      "outputs": [
        {
          "output_type": "execute_result",
          "data": {
            "text/plain": [
              "<matplotlib.image.AxesImage at 0x7f5050772dc0>"
            ]
          },
          "metadata": {},
          "execution_count": 12
        },
        {
          "output_type": "display_data",
          "data": {
            "text/plain": [
              "<Figure size 640x480 with 1 Axes>"
            ],
            "image/png": "[encoded data removed]"
          },
          "metadata": {}
        }
      ],
      "source": [
        "## Display the first image in the training set\n",
        "import matplotlib.pyplot as plt\n",
        "plt.imshow(x_train[0], cmap='YlGn')"
      ]
    },
    {
      "cell_type": "code",
      "execution_count": 13,
      "metadata": {
        "id": "Lh4nX_IYSGl_",
        "outputId": "d22e02c3-f5fc-4096-fc4c-c8168cc8c29b",
        "colab": {
          "base_uri": "https://localhost:8080/"
        }
      },
      "outputs": [
        {
          "output_type": "execute_result",
          "data": {
            "text/plain": [
              "5"
            ]
          },
          "metadata": {},
          "execution_count": 13
        }
      ],
      "source": [
        "# the value of the first image\n",
        "y_train[0]"
      ]
    },
    {
      "cell_type": "code",
      "execution_count": 14,
      "metadata": {
        "id": "O5Rgs20lSGl_",
        "outputId": "782c11f6-cb57-495c-cf02-5a8804b01f32",
        "colab": {
          "base_uri": "https://localhost:8080/",
          "height": 826
        }
      },
      "outputs": [
        {
          "output_type": "display_data",
          "data": {
            "text/plain": [
              "<Figure size 1000x1000 with 25 Axes>"
            ],
            "image/png": "[encoded data removed]"
          },
          "metadata": {}
        }
      ],
      "source": [
        "# display random sample of 25 images from the training set\n",
        "# technically these are first 25 images but they are shuffled\n",
        "plt.figure(figsize=(10,10))\n",
        "for i in range(25):\n",
        "    plt.subplot(5,5,i+1)\n",
        "    plt.xticks([])\n",
        "    plt.yticks([])\n",
        "    plt.grid(False)\n",
        "    plt.imshow(x_train[i], cmap='gray')\n",
        "    plt.xlabel(y_train[i])"
      ]
    },
    {
      "cell_type": "code",
      "execution_count": 15,
      "metadata": {
        "id": "1k0nYhl2SGmA",
        "outputId": "723ed837-b673-4169-d40f-d829fb438395",
        "colab": {
          "base_uri": "https://localhost:8080/",
          "height": 826
        }
      },
      "outputs": [
        {
          "output_type": "display_data",
          "data": {
            "text/plain": [
              "<Figure size 1000x1000 with 25 Axes>"
            ],
            "image/png": "[encoded data removed]"
          },
          "metadata": {}
        }
      ],
      "source": [
        "# display random sample of 25 images from the test set\n",
        "# technically these are first 25 images but they are shuffled\n",
        "plt.figure(figsize=(10,10))\n",
        "for i in range(25):\n",
        "    plt.subplot(5,5,i+1)\n",
        "    plt.xticks([])\n",
        "    plt.yticks([])\n",
        "    plt.grid(False)\n",
        "    plt.imshow(x_test[i], cmap='gray')\n",
        "    plt.xlabel(y_test[i])"
      ]
    },
    {
      "cell_type": "markdown",
      "metadata": {
        "id": "RDLi6QcCSGmA"
      },
      "source": [
        "## Define the neural network architecture"
      ]
    },
    {
      "cell_type": "code",
      "execution_count": 16,
      "metadata": {
        "id": "0W_w8irsSGmA"
      },
      "outputs": [],
      "source": [
        "# Define the neural network architecture\n",
        "model = Sequential([\n",
        "    Flatten(input_shape=(28, 28)), # here we are going to flatten our 2d array for single entry\n",
        "    # we lose the relations between rows\n",
        "    Dense(128, activation='relu'), # our hidden layer\n",
        "    # we could add more hidden layers here\n",
        "    Dense(10, activation='softmax') # our output layer\n",
        "])"
      ]
    },
    {
      "cell_type": "markdown",
      "metadata": {
        "id": "-nUb2BD5SGmB"
      },
      "source": [
        "## Compile the model"
      ]
    },
    {
      "cell_type": "code",
      "execution_count": 17,
      "metadata": {
        "id": "QNwObjiMSGmB"
      },
      "outputs": [],
      "source": [
        "# Compile the model\n",
        "model.compile(optimizer=Adam(),\n",
        "              loss=SparseCategoricalCrossentropy(from_logits=True),\n",
        "              metrics=[SparseCategoricalAccuracy()])"
      ]
    },
    {
      "cell_type": "markdown",
      "metadata": {
        "id": "KrOBBl1RSGmB"
      },
      "source": [
        "## Fitting the model\n"
      ]
    },
    {
      "cell_type": "code",
      "execution_count": 18,
      "metadata": {
        "id": "zbXb71-iSGmB",
        "outputId": "2883e542-d10c-4893-c3ae-c6403eab549d",
        "colab": {
          "base_uri": "https://localhost:8080/"
        }
      },
      "outputs": [
        {
          "output_type": "stream",
          "name": "stdout",
          "text": [
            "Epoch 1/10\n"
          ]
        },
        {
          "output_type": "stream",
          "name": "stderr",
          "text": [
            "/usr/local/lib/python3.9/dist-packages/keras/backend.py:5612: UserWarning: \"`sparse_categorical_crossentropy` received `from_logits=True`, but the `output` argument was produced by a Softmax activation and thus does not represent logits. Was this intended?\n",
            "  output, from_logits = _get_logits(\n"
          ]
        },
        {
          "output_type": "stream",
          "name": "stdout",
          "text": [
            "1875/1875 [==============================] - 14s 7ms/step - loss: 0.2615 - sparse_categorical_accuracy: 0.9242\n",
            "Epoch 2/10\n",
            "1875/1875 [==============================] - 10s 5ms/step - loss: 0.1156 - sparse_categorical_accuracy: 0.9659\n",
            "Epoch 3/10\n",
            "1875/1875 [==============================] - 10s 5ms/step - loss: 0.0803 - sparse_categorical_accuracy: 0.9762\n",
            "Epoch 4/10\n",
            "1875/1875 [==============================] - 9s 5ms/step - loss: 0.0587 - sparse_categorical_accuracy: 0.9822\n",
            "Epoch 5/10\n",
            "1875/1875 [==============================] - 10s 5ms/step - loss: 0.0454 - sparse_categorical_accuracy: 0.9864\n",
            "Epoch 6/10\n",
            "1875/1875 [==============================] - 10s 5ms/step - loss: 0.0372 - sparse_categorical_accuracy: 0.9883\n",
            "Epoch 7/10\n",
            "1875/1875 [==============================] - 10s 5ms/step - loss: 0.0292 - sparse_categorical_accuracy: 0.9907\n",
            "Epoch 8/10\n",
            "1875/1875 [==============================] - 9s 5ms/step - loss: 0.0231 - sparse_categorical_accuracy: 0.9929\n",
            "Epoch 9/10\n",
            "1875/1875 [==============================] - 10s 5ms/step - loss: 0.0197 - sparse_categorical_accuracy: 0.9936\n",
            "Epoch 10/10\n",
            "1875/1875 [==============================] - 10s 5ms/step - loss: 0.0171 - sparse_categorical_accuracy: 0.9946\n"
          ]
        },
        {
          "output_type": "execute_result",
          "data": {
            "text/plain": [
              "<keras.callbacks.History at 0x7f50505a8c70>"
            ]
          },
          "metadata": {},
          "execution_count": 18
        }
      ],
      "source": [
        "# Train the model\n",
        "model.fit(x_train, y_train, epochs=10, batch_size=32)\n",
        "# so epochs how many times you find values for all inputs mapped to outputs\n",
        "# batch size would be important were we to run this on GPU or more cores\n"
      ]
    },
    {
      "cell_type": "markdown",
      "metadata": {
        "id": "upjXbSo9SGmC"
      },
      "source": [
        "# Evaluation of the model"
      ]
    },
    {
      "cell_type": "code",
      "execution_count": 19,
      "metadata": {
        "id": "UnK1iplZSGmC",
        "outputId": "2fc0383c-691e-4e46-db56-f5a153fd0375",
        "colab": {
          "base_uri": "https://localhost:8080/"
        }
      },
      "outputs": [
        {
          "output_type": "stream",
          "name": "stdout",
          "text": [
            "313/313 [==============================] - 1s 2ms/step - loss: 0.0931 - sparse_categorical_accuracy: 0.9757\n",
            "Test accuracy: 0.9757000207901001\n"
          ]
        }
      ],
      "source": [
        "# Evaluate the model on the test data\n",
        "test_loss, test_acc = model.evaluate(x_test, y_test)\n",
        "print('Test accuracy:', test_acc)"
      ]
    },
    {
      "cell_type": "markdown",
      "metadata": {
        "id": "S5BkckRjSGmC"
      },
      "source": [
        "### Showing the bad predictions"
      ]
    },
    {
      "cell_type": "code",
      "source": [
        "import numpy as np"
      ],
      "metadata": {
        "id": "IRDXasZRmRja"
      },
      "execution_count": 21,
      "outputs": []
    },
    {
      "cell_type": "code",
      "execution_count": 22,
      "metadata": {
        "id": "L7GyBoLhSGmC",
        "outputId": "e90e391d-4b9f-4153-edee-37026c4b9a38",
        "colab": {
          "base_uri": "https://localhost:8080/"
        }
      },
      "outputs": [
        {
          "output_type": "stream",
          "name": "stdout",
          "text": [
            "313/313 [==============================] - 1s 2ms/step\n"
          ]
        }
      ],
      "source": [
        "# Collect all the wrong predictions\n",
        "predictions = model.predict(x_test)\n",
        "wrong_predictions = []\n",
        "for i in range(len(predictions)):\n",
        "    if np.argmax(predictions[i]) != y_test[i]:\n",
        "        wrong_predictions.append((i, np.argmax(predictions[i]) , y_test[i]))"
      ]
    },
    {
      "cell_type": "code",
      "source": [
        "len(wrong_predictions)"
      ],
      "metadata": {
        "id": "UNtZnqGJmWMB",
        "outputId": "7419870c-eb1a-4c46-bc88-2e89cff28f62",
        "colab": {
          "base_uri": "https://localhost:8080/"
        }
      },
      "execution_count": 23,
      "outputs": [
        {
          "output_type": "execute_result",
          "data": {
            "text/plain": [
              "243"
            ]
          },
          "metadata": {},
          "execution_count": 23
        }
      ]
    },
    {
      "cell_type": "code",
      "source": [
        "313*32 # so our batch size was set to 32 thats why we got the progress bar to run 313 times"
      ],
      "metadata": {
        "id": "jtkoTdjgmdXj",
        "outputId": "29353bff-9f82-4cbb-9ae8-a9c5f918a4bb",
        "colab": {
          "base_uri": "https://localhost:8080/"
        }
      },
      "execution_count": 24,
      "outputs": [
        {
          "output_type": "execute_result",
          "data": {
            "text/plain": [
              "10016"
            ]
          },
          "metadata": {},
          "execution_count": 24
        }
      ]
    },
    {
      "cell_type": "code",
      "execution_count": 25,
      "metadata": {
        "id": "cnsFU6qVSGmC",
        "outputId": "72dba3a1-6b33-494d-cf2b-5535f11b2bfa",
        "colab": {
          "base_uri": "https://localhost:8080/"
        }
      },
      "outputs": [
        {
          "output_type": "execute_result",
          "data": {
            "text/plain": [
              "[(61, 2, 8), (247, 2, 4), (274, 3, 9), (321, 7, 2), (340, 3, 5)]"
            ]
          },
          "metadata": {},
          "execution_count": 25
        }
      ],
      "source": [
        "wrong_predictions[:5]"
      ]
    },
    {
      "cell_type": "code",
      "execution_count": 26,
      "metadata": {
        "id": "CtnzZ7b9SGmD",
        "outputId": "2b643d17-c27a-4973-a283-81dc50c06047",
        "colab": {
          "base_uri": "https://localhost:8080/",
          "height": 826
        }
      },
      "outputs": [
        {
          "output_type": "display_data",
          "data": {
            "text/plain": [
              "<Figure size 1000x1000 with 25 Axes>"
            ],
            "image/png": "[encoded data removed]"
          },
          "metadata": {}
        }
      ],
      "source": [
        "# Display 25 random wrong predictions\n",
        "import random\n",
        "plt.figure(figsize=(10,10))\n",
        "for i in range(25):\n",
        "    plt.subplot(5,5,i+1)\n",
        "    plt.xticks([])\n",
        "    plt.yticks([])\n",
        "    plt.grid(False)\n",
        "    index = random.randint(0, len(wrong_predictions)-1)\n",
        "    plt.imshow(x_test[wrong_predictions[index][0]], cmap='gray')\n",
        "    wrong_prediction = wrong_predictions[index][1]\n",
        "    correct_prediction = wrong_predictions[index][2]\n",
        "    plt.xlabel(f\"PRD:{wrong_prediction}/CRR:{correct_prediction}\", color='red')"
      ]
    },
    {
      "cell_type": "markdown",
      "metadata": {
        "id": "CmWjjwiVSGmD"
      },
      "source": [
        "## Plotting the model\n",
        "\n",
        "If we do not have we will need\n",
        "the following libraries\n",
        "\n",
        "inside notebook - ! is not necessary from terminal\n",
        "\n",
        "`!pip install pydot graphviz`"
      ]
    },
    {
      "cell_type": "code",
      "execution_count": 27,
      "metadata": {
        "id": "hZDUrynPSGmD",
        "outputId": "620c1fc2-8225-4158-9b6c-425db9dc1c1e",
        "colab": {
          "base_uri": "https://localhost:8080/",
          "height": 422
        }
      },
      "outputs": [
        {
          "output_type": "execute_result",
          "data": {
            "image/png": "[encoded data removed]",
            "text/plain": [
              "<IPython.core.display.Image object>"
            ]
          },
          "metadata": {},
          "execution_count": 27
        }
      ],
      "source": [
        "import tensorflow as tf\n",
        "from tensorflow.keras.datasets import mnist\n",
        "from tensorflow.keras.models import Sequential\n",
        "from tensorflow.keras.layers import Dense, Flatten\n",
        "from tensorflow.keras.utils import plot_model\n",
        "\n",
        "# Define the neural network architecture\n",
        "model = Sequential([\n",
        "    Flatten(input_shape=(28, 28), name='Input'),\n",
        "    Dense(128, activation='relu', name='Hidden'),\n",
        "    Dense(10, activation='softmax', name='Output')\n",
        "])\n",
        "\n",
        "# Visualize the model architecture\n",
        "plot_model(model, to_file='model.png', show_shapes=True, show_layer_names=True, dpi=96)"
      ]
    },
    {
      "cell_type": "markdown",
      "source": [
        "## Ideas to improve this model\n",
        "\n",
        "* Add more layers\n",
        "* Play with activation functions\n",
        "* Could change loss function - less important\n",
        "* Big one - build a different Neural Net - CNN would be a good choice for discovering patterns in grid like structures"
      ],
      "metadata": {
        "id": "QoMwBKSMnKXU"
      }
    },
    {
      "cell_type": "code",
      "source": [],
      "metadata": {
        "id": "8pjQ0AJhnJnd"
      },
      "execution_count": null,
      "outputs": []
    },
    {
      "cell_type": "markdown",
      "metadata": {
        "id": "7FB3cxaSSGmE"
      },
      "source": [
        "## Tensorflow vs Pytorch\n",
        "\n",
        "TensorFlow and PyTorch are both open-source deep learning frameworks that provide tools and libraries for creating, training, and deploying machine learning models, including neural networks. They have some similarities and differences, which can affect the choice of framework depending on the use case, personal preference, or specific requirements.\n",
        "\n",
        "Here are some key differences between TensorFlow and PyTorch:\n",
        "\n",
        "### Origin and development: \n",
        "TensorFlow was developed by Google Brain, while PyTorch was developed by Facebook's AI Research Lab (FAIR). Both frameworks are open-source and have active communities contributing to their development.\n",
        "\n",
        "### Computational graph: \n",
        "TensorFlow traditionally used a static computational graph, where the graph is defined once and then executed repeatedly. This approach could make debugging more challenging. However, with the introduction of TensorFlow 2.0, eager execution is now the default mode, enabling dynamic computational graphs and a more Pythonic, imperative coding style similar to PyTorch. PyTorch uses a dynamic computational graph, allowing for more flexibility and easier debugging since the graph is constructed on-the-fly during execution.\n",
        "\n",
        "### API and ease of use:\n",
        " PyTorch is known for its Pythonic and user-friendly API, which many developers find easier to work with, especially for research purposes. TensorFlow has a steeper learning curve, but its high-level API, Keras, simplifies the process of building and training neural networks, making it more accessible to beginners.\n",
        "\n",
        "### Deployment: \n",
        "TensorFlow has better support for deployment on various platforms, including mobile devices (through TensorFlow Lite) and web browsers (through TensorFlow.js). While PyTorch is catching up in terms of deployment options, TensorFlow is generally considered more mature in this area.\n",
        "\n",
        "### Visualization: \n",
        "TensorFlow comes with TensorBoard, a powerful visualization tool for monitoring and analyzing training runs, model graphs, and performance metrics. While PyTorch does not have an in-built visualization tool, it can be integrated with TensorBoard or use third-party tools like Weights & Biases for visualization purposes.\n",
        "\n",
        "### Community and popularity:\n",
        " While both frameworks have large, active communities, TensorFlow has been around for longer and has historically been more popular. However, PyTorch has gained significant traction in recent years, particularly in the research community, due to its dynamic computation graph and user-friendly API."
      ]
    },
    {
      "cell_type": "markdown",
      "metadata": {
        "id": "j7nU2N-gSGmE"
      },
      "source": [
        "## Future of Neural Networks\n",
        "\n",
        "As research and development in neural networks continue to advance, several trends are emerging that could shape the future landscape of artificial intelligence and machine learning. Some of these trends include:\n",
        "\n",
        "### Efficient and scalable models: \n",
        "As neural networks become larger and more complex, there is a growing need for efficient models and training techniques that can scale to handle large datasets and computational demands. This includes research into techniques like pruning, quantization, and knowledge distillation to make models smaller, faster, and more energy-efficient.\n",
        "\n",
        "### Pre-trained models and transfer learning: \n",
        "The success of pre-trained models like GPT and BERT has demonstrated the power of transfer learning in neural networks. In the future, we can expect more pre-trained models and fine-tuning techniques for various tasks and domains, making it easier for developers to create and adapt models for specific applications with less data and computational resources.\n",
        "\n",
        "Self-supervised and unsupervised learning: Most neural network training today relies on supervised learning with labeled data, which can be expensive and time-consuming to obtain. There is increasing interest in self-supervised and unsupervised learning methods that can learn useful representations from unlabeled data, reducing the reliance on labeled datasets and potentially enabling more general-purpose AI systems.\n",
        "\n",
        "### Explainable AI and interpretability: \n",
        "As neural networks become more widely used in critical applications, there is a growing need for models that are interpretable and can provide explanations for their predictions. Research in this area aims to develop techniques for understanding and visualizing the inner workings of neural networks, as well as creating models that can generate human-understandable explanations for their decisions.\n",
        "\n",
        "### AI safety and robustness: \n",
        "Ensuring the safety and reliability of neural networks is a crucial concern, particularly as AI systems are increasingly integrated into real-world applications. This includes research into adversarial robustness, out-of-distribution generalization, and techniques for mitigating unintended biases in neural network predictions.\n",
        "\n",
        "### Multimodal learning and fusion: \n",
        "Future neural networks may be designed to process and integrate multiple types of data, such as text, images, and audio, enabling more sophisticated understanding and decision-making. This could lead to advances in areas like natural language understanding, computer vision, and robotics, where multiple data modalities can be combined for richer representations and more accurate predictions.\n",
        "\n",
        "### Lifelong and continual learning: \n",
        "One of the challenges with current neural networks is their inability to learn new tasks without forgetting previously learned information. Research in lifelong and continual learning aims to develop neural network architectures and training techniques that can adapt to new tasks and data while preserving knowledge from previous experiences.\n",
        "\n",
        "Neural network hardware: As neural networks become increasingly important, specialized hardware like GPUs, TPUs, and custom AI accelerators will continue to evolve, offering improved performance and energy efficiency for both training and inference.\n",
        "\n",
        "These trends represent just a few of the many directions in which neural networks and AI research may evolve in the coming years. As the field continues to grow and develop, new techniques, applications, and challenges are likely to emerge, driving further innovation and progress."
      ]
    },
    {
      "cell_type": "markdown",
      "metadata": {
        "id": "wIFtp5oqSGmE"
      },
      "source": [
        "## Que Vadis?"
      ]
    }
  ],
  "metadata": {
    "kernelspec": {
      "display_name": "Python 3",
      "language": "python",
      "name": "python3"
    },
    "language_info": {
      "codemirror_mode": {
        "name": "ipython",
        "version": 3
      },
      "file_extension": ".py",
      "mimetype": "text/x-python",
      "name": "python",
      "nbconvert_exporter": "python",
      "pygments_lexer": "ipython3",
      "version": "3.10.7"
    },
    "orig_nbformat": 4,
    "colab": {
      "provenance": [],
      "toc_visible": true
    }
  },
  "nbformat": 4,
  "nbformat_minor": 0
}