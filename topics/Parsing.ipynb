{
 "cells": [
  {
   "cell_type": "code",
   "execution_count": 1,
   "metadata": {},
   "outputs": [],
   "source": [
    "# so we want to parse input/strings such as \"5 + 6 + 10\"\n",
    "# eventually we would want to move to \"5+6 * 10+3\" and parse that correctly"
   ]
  },
  {
   "cell_type": "code",
   "execution_count": null,
   "metadata": {},
   "outputs": [],
   "source": [
    "# for addition we do not need anything fance"
   ]
  },
  {
   "cell_type": "code",
   "execution_count": 2,
   "metadata": {},
   "outputs": [
    {
     "data": {
      "text/plain": [
       "18"
      ]
     },
     "execution_count": 2,
     "metadata": {},
     "output_type": "execute_result"
    }
   ],
   "source": [
    "text = \"5 + 6 + 7\"\n",
    "# no significant whitespace\n",
    "clean = text.replace(\" \",\"\")\n",
    "tokens = clean.split(\"+\")\n",
    "result = sum([int(token) for token in tokens])\n",
    "result"
   ]
  },
  {
   "cell_type": "code",
   "execution_count": 3,
   "metadata": {},
   "outputs": [],
   "source": [
    "def addIntrepreter(text):\n",
    "    clean = text.replace(\" \",\"\")\n",
    "    tokens = clean.split(\"+\")\n",
    "    result = sum([int(token) for token in tokens]) # nice shortcut because we only have +\n",
    "    return result"
   ]
  },
  {
   "cell_type": "code",
   "execution_count": 5,
   "metadata": {},
   "outputs": [
    {
     "data": {
      "text/plain": [
       "10032"
      ]
     },
     "execution_count": 5,
     "metadata": {},
     "output_type": "execute_result"
    }
   ],
   "source": [
    "addIntrepreter(\"  5+5+10000+5   + 7 + 10  \")"
   ]
  },
  {
   "cell_type": "code",
   "execution_count": null,
   "metadata": {},
   "outputs": [],
   "source": [
    "# how about substraction well then we will already need some sort of structure we could use a stack based structure to store operation\n",
    "# \"10 - 5 + 3 - 2 + 20\"  should be 26"
   ]
  },
  {
   "cell_type": "code",
   "execution_count": null,
   "metadata": {},
   "outputs": [],
   "source": [
    "# we could start again by stripping whitespace and similar as it is not signifant here\n",
    "# optimization would be to skip cleaning and clean whitespace as we go\n",
    "# then we could save the tokens in some sort of data structure (here stacks would work nicely)\n",
    "# or we could interpret as we go (so sort of like REPL)"
   ]
  },
  {
   "cell_type": "code",
   "execution_count": 22,
   "metadata": {},
   "outputs": [],
   "source": [
    "def sub_add(text):\n",
    "    acc = 0\n",
    "    n = 0\n",
    "    tok = \"\"\n",
    "    state = \"NUM\" # \"OP\"\n",
    "    operations = [\"+\",\"-\"]\n",
    "    op = \"\"\n",
    "    # we really need a state machine here for determining whether we have a number or addition or substraction\n",
    "    # so ONE PASS parsing\n",
    "    for t in text:\n",
    "        if t in [\" \",\"\\t\"]: # same as replace or cleaning our insignifcant\n",
    "            continue\n",
    "        if t.isdigit():\n",
    "#             print(f\"Digit is {t} and tok is {tok}\")\n",
    "            if state == \"OP\":\n",
    "                state = \"NUM\"\n",
    "                tok = \"\" # not efficient keep building up the NUM\n",
    "            tok += t\n",
    "#             print(f\"Digit is {t} and tok AFTER is {tok}\")\n",
    "            continue\n",
    "        if t in operations:\n",
    "            state = \"OP\" # FIXME multiple operations error\n",
    "            print(f\"BEFORE operation  {acc} {op} {tok}\")\n",
    "            if op == \"+\": # we check the previous operation\n",
    "                acc += int(tok)\n",
    "                tok = \"\"\n",
    "            elif op == \"-\":\n",
    "                acc -= int(tok)\n",
    "                tok = \"\"\n",
    "            elif op == \"\": # first time\n",
    "                acc = int(tok)\n",
    "                tok = \"\"\n",
    "            print(f\"AFTER operation {op} {acc}\")\n",
    "            op = t\n",
    "    if op == \"+\": # we check the previous operation\n",
    "        acc += int(tok)\n",
    "    elif op == \"-\":\n",
    "        acc -= int(tok)\n",
    "    return acc\n",
    "        "
   ]
  },
  {
   "cell_type": "code",
   "execution_count": 23,
   "metadata": {},
   "outputs": [
    {
     "name": "stdout",
     "output_type": "stream",
     "text": [
      "BEFORE operation  0  10\n",
      "AFTER operation  10\n",
      "BEFORE operation  10 - 5\n",
      "AFTER operation - 5\n",
      "BEFORE operation  5 + 3\n",
      "AFTER operation + 8\n",
      "BEFORE operation  8 - 2\n",
      "AFTER operation - 6\n"
     ]
    },
    {
     "data": {
      "text/plain": [
       "26"
      ]
     },
     "execution_count": 23,
     "metadata": {},
     "output_type": "execute_result"
    }
   ],
   "source": [
    "sub_add(\"10 - 5 + 3 - 2 + 20\")\n"
   ]
  },
  {
   "cell_type": "code",
   "execution_count": null,
   "metadata": {},
   "outputs": [],
   "source": [
    "# for more complicated operations we will need to build a syntax tree we can't just have a simple accumulator design, \n",
    "# above is only sufficient when we have left to right order of operations\n",
    "\n",
    "# one example is given in this course\n",
    "# https://ruslanspivak.com/lsbasi-part1/"
   ]
  }
 ],
 "metadata": {
  "kernelspec": {
   "display_name": "Python 3",
   "language": "python",
   "name": "python3"
  },
  "language_info": {
   "codemirror_mode": {
    "name": "ipython",
    "version": 3
   },
   "file_extension": ".py",
   "mimetype": "text/x-python",
   "name": "python",
   "nbconvert_exporter": "python",
   "pygments_lexer": "ipython3",
   "version": "3.8.3"
  }
 },
 "nbformat": 4,
 "nbformat_minor": 4
}
