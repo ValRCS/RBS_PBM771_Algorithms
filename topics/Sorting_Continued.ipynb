{
  "cells": [
    {
      "cell_type": "markdown",
      "metadata": {
        "id": "b5w5EZRRm6tF"
      },
      "source": [
        "* Visualization of these concepts: https://visualgo.net/en\n",
        "\n",
        "* https://www.geeksforgeeks.org/ - many implementations"
      ]
    },
    {
      "cell_type": "code",
      "execution_count": null,
      "metadata": {
        "id": "h92RAOhHm6tI"
      },
      "outputs": [],
      "source": [
        "# Selection sort was\n",
        "# starting from one end or our sequence\n",
        "# select min or max out of unsorted and place in the sequence\n",
        "# keep going backwards or forwards\n",
        "# problem was that min (or max) call would be linear\n",
        "# min or max call would need to go through all the unsorted values each time\n",
        "# what if we had a data structure which lets us get the min or max in better than linear time?\n",
        "# turns out there is such a structure - heap"
      ]
    },
    {
      "cell_type": "markdown",
      "metadata": {
        "id": "fOeTNnyzm6tK"
      },
      "source": [
        "## Heap sort\n",
        "* Selection sort where we utilize a better structure for storing max(or min values)\n",
        "* https://www.cs.usfca.edu/~galles/visualization/Heap.html\n",
        "\n",
        "* https://www.cs.usfca.edu/~galles/visualization/HeapSort.html"
      ]
    },
    {
      "cell_type": "code",
      "execution_count": null,
      "metadata": {
        "id": "suuydssRm6tK"
      },
      "outputs": [],
      "source": [
        "## Heap sort is a selection algorithm\n",
        "# we go through our iterable and select the min or max value out of the unsorted\n",
        "# the only improvement is that we use a more efficient data structure for storing the min or max values(we have to pick side)\n",
        "# the problem was that we had to go through all the unsorted values constantly and look for that min or max\n",
        "# that's where O(n^2) comes from"
      ]
    },
    {
      "cell_type": "code",
      "execution_count": null,
      "metadata": {
        "id": "A3JfsbISm6tL"
      },
      "outputs": [],
      "source": [
        "## https://www.cs.usfca.edu/~galles/visualization/Heap.html - heap data structure visualization"
      ]
    },
    {
      "cell_type": "code",
      "execution_count": 1,
      "metadata": {
        "id": "PJWi5Ohem6tL"
      },
      "outputs": [],
      "source": [
        "import heapq #we are using an existing library of heap data structure\n",
        "def simple_heap_sort(iterable):\n",
        "    heapq.heapify(iterable) # guaranteed linear time by the library but it is IN PLACE\n",
        "    # even if heapify was O(n log n) it would still be good for our purpose\n",
        "    return [heapq.heappop(iterable) for i in range(len(iterable))] # so no IndexErrors \n",
        "# heappop call is O(log n) so we get our O(n log n)\n",
        "# complexity comes from the single [heapq.heappop(iterable) for i in range(len(iterable))]"
      ]
    },
    {
      "cell_type": "code",
      "execution_count": 2,
      "metadata": {
        "id": "wMz6wxoXm6tL",
        "outputId": "352bba09-051c-4c2e-a139-3316cfa60fa7",
        "colab": {
          "base_uri": "https://localhost:8080/"
        }
      },
      "outputs": [
        {
          "output_type": "execute_result",
          "data": {
            "text/plain": [
              "[-33, -2, 0, 1, 1, 2, 5, 6, 6, 6, 7, 21, 21, 34, 656]"
            ]
          },
          "metadata": {},
          "execution_count": 2
        }
      ],
      "source": [
        "simple_heap_sort([1,34,6,21,6,1,21,656,6,2,7,0,-33,-2,5])"
      ]
    },
    {
      "cell_type": "code",
      "source": [
        "# https://docs.python.org/3/library/heapq.html\n",
        "def heapsort(iterable):  #out of place sort here\n",
        "  h = []\n",
        "  for value in iterable: # so n times where n is number of items in iterable\n",
        "    heapq.heappush(h, value)  # so  heappush takes log n time\n",
        "  return [heapq.heappop(h) for i in range(len(h))]  # here n times and pop again is log n operation"
      ],
      "metadata": {
        "id": "dxwzS2zVnrvl"
      },
      "execution_count": 3,
      "outputs": []
    },
    {
      "cell_type": "code",
      "execution_count": null,
      "metadata": {
        "id": "jJxSx5Qcm6tM"
      },
      "outputs": [],
      "source": [
        "# so our simple heap sort algorithms nicely but in the process of heapify IN PLACE we destroy the original order"
      ]
    },
    {
      "cell_type": "code",
      "execution_count": 4,
      "metadata": {
        "id": "iikmxhC2m6tN"
      },
      "outputs": [],
      "source": [
        "import random\n",
        "r10k = [random.randint(1,1_000_000) for n in range(10_000)]\n",
        "r100k = [random.randint(1,1_000_000) for n in range(100_000)]\n",
        "r1m = [random.randint(1,10_000_000) for n in range(1_000_000)]"
      ]
    },
    {
      "cell_type": "code",
      "execution_count": null,
      "metadata": {
        "id": "FYAoAeNYm6tO"
      },
      "outputs": [],
      "source": [
        ""
      ]
    },
    {
      "cell_type": "code",
      "execution_count": null,
      "metadata": {
        "id": "P0IaSB5dm6tO"
      },
      "outputs": [],
      "source": [
        "# we could use already provided heap data structure in many languages\n",
        "# in Python https://docs.python.org/3/library/heapq.html\n",
        "# import heapq\n",
        "def heapsort(iterable):\n",
        "    h = [] # we are going to put our heap in a new structure\n",
        "    # so making our heap will be O(n log n) which is fine for our purpose\n",
        "    for value in iterable:\n",
        "         heapq.heappush(h, value)\n",
        "    return [heapq.heappop(h) for i in range(len(h))]"
      ]
    },
    {
      "cell_type": "code",
      "execution_count": 5,
      "metadata": {
        "id": "tbe0FsM0m6tO",
        "outputId": "c8760fbc-8f79-498f-fa18-26a0223b9bee",
        "colab": {
          "base_uri": "https://localhost:8080/"
        }
      },
      "outputs": [
        {
          "output_type": "execute_result",
          "data": {
            "text/plain": [
              "[-3, 1, 2, 3, 3, 6, 7, 21, 67]"
            ]
          },
          "metadata": {},
          "execution_count": 5
        }
      ],
      "source": [
        "heapsort([1,3,6,21,2,3,67,-3,7])"
      ]
    },
    {
      "cell_type": "code",
      "execution_count": 6,
      "metadata": {
        "id": "MpJ02Shdm6tP",
        "outputId": "4d2ab2cf-f661-480d-9eb3-56115b2e4a8d",
        "colab": {
          "base_uri": "https://localhost:8080/"
        }
      },
      "outputs": [
        {
          "output_type": "execute_result",
          "data": {
            "text/plain": [
              "[1, 6, 29, 46, 53, 56, 67, 87, 102, 128]"
            ]
          },
          "metadata": {},
          "execution_count": 6
        }
      ],
      "source": [
        "nlist = heapsort(r100k)\n",
        "nlist[:10]"
      ]
    },
    {
      "cell_type": "code",
      "execution_count": 7,
      "metadata": {
        "id": "i8EUxW8Lm6tP",
        "outputId": "897b7a64-e3d3-4684-b7a4-c852aea0a0e7",
        "colab": {
          "base_uri": "https://localhost:8080/"
        }
      },
      "outputs": [
        {
          "output_type": "execute_result",
          "data": {
            "text/plain": [
              "[449472, 811786, 27711, 96695, 93473]"
            ]
          },
          "metadata": {},
          "execution_count": 7
        }
      ],
      "source": [
        "r100k[:5] # so our original numbers are still unsorted before running our timeit"
      ]
    },
    {
      "cell_type": "code",
      "execution_count": 8,
      "metadata": {
        "id": "xBXk3QpIm6tQ",
        "outputId": "dbd0bdb7-e8e4-4563-94a8-dfb8453ca598",
        "colab": {
          "base_uri": "https://localhost:8080/"
        }
      },
      "outputs": [
        {
          "output_type": "stream",
          "name": "stdout",
          "text": [
            "100 loops, best of 5: 6.77 ms per loop\n"
          ]
        }
      ],
      "source": [
        "%%timeit\n",
        "heapsort(r10k)"
      ]
    },
    {
      "cell_type": "code",
      "source": [
        "%%timeit\n",
        "sorted(r10k)"
      ],
      "metadata": {
        "id": "K5UD4HfnoL1x",
        "outputId": "e2261100-a1fc-40c0-bd66-c6c2c63868c6",
        "colab": {
          "base_uri": "https://localhost:8080/"
        }
      },
      "execution_count": 9,
      "outputs": [
        {
          "output_type": "stream",
          "name": "stdout",
          "text": [
            "1000 loops, best of 5: 1.55 ms per loop\n"
          ]
        }
      ]
    },
    {
      "cell_type": "code",
      "execution_count": 10,
      "metadata": {
        "id": "014OgFjQm6tQ",
        "outputId": "a4470af6-0d07-4dce-8a28-c889ce1c17b1",
        "colab": {
          "base_uri": "https://localhost:8080/"
        }
      },
      "outputs": [
        {
          "output_type": "stream",
          "name": "stdout",
          "text": [
            "10 loops, best of 5: 105 ms per loop\n"
          ]
        }
      ],
      "source": [
        "%%timeit\n",
        "heapsort(r100k)"
      ]
    },
    {
      "cell_type": "code",
      "source": [
        "%%timeit\n",
        "sorted(r100k)"
      ],
      "metadata": {
        "id": "oVx6iQLuod22",
        "outputId": "90708841-5eeb-4d76-81ee-c7f343fb27d3",
        "colab": {
          "base_uri": "https://localhost:8080/"
        }
      },
      "execution_count": 11,
      "outputs": [
        {
          "output_type": "stream",
          "name": "stdout",
          "text": [
            "10 loops, best of 5: 22.6 ms per loop\n"
          ]
        }
      ]
    },
    {
      "cell_type": "code",
      "execution_count": null,
      "metadata": {
        "id": "Y5SzH9uWm6tQ",
        "outputId": "091531f3-1586-431b-be04-5ee159be679f"
      },
      "outputs": [
        {
          "name": "stdout",
          "output_type": "stream",
          "text": [
            "1.86 s ± 59.9 ms per loop (mean ± std. dev. of 7 runs, 1 loop each)\n"
          ]
        }
      ],
      "source": [
        "%%timeit\n",
        "heapsort(r1m)"
      ]
    },
    {
      "cell_type": "code",
      "execution_count": null,
      "metadata": {
        "id": "dzecmRkFm6tR",
        "outputId": "d59e029c-eea4-4c20-b15f-35b9294fb95e"
      },
      "outputs": [
        {
          "name": "stdout",
          "output_type": "stream",
          "text": [
            "1.58 ms ± 6.18 µs per loop (mean ± std. dev. of 7 runs, 1000 loops each)\n"
          ]
        }
      ],
      "source": [
        "%%timeit\n",
        "sorted(r10k) # timsort which is mergesort plus (insertion sort for < 50 items)"
      ]
    },
    {
      "cell_type": "code",
      "execution_count": null,
      "metadata": {
        "id": "5RyIpVV4m6tR",
        "outputId": "6707107b-946e-4fdf-d099-cde203248ead"
      },
      "outputs": [
        {
          "name": "stdout",
          "output_type": "stream",
          "text": [
            "24.7 ms ± 1.52 ms per loop (mean ± std. dev. of 7 runs, 10 loops each)\n"
          ]
        }
      ],
      "source": [
        "%%timeit\n",
        "sorted(r100k) # timsort which is mergesort plus (insertion sort for < 50 items)"
      ]
    },
    {
      "cell_type": "code",
      "execution_count": null,
      "metadata": {
        "id": "JZfhPyP4m6tR",
        "outputId": "a681bc9f-7bae-4dfa-c528-2d3c0526a920"
      },
      "outputs": [
        {
          "name": "stdout",
          "output_type": "stream",
          "text": [
            "385 ms ± 18.3 ms per loop (mean ± std. dev. of 7 runs, 1 loop each)\n"
          ]
        }
      ],
      "source": [
        "%%timeit\n",
        "sorted(r1m)"
      ]
    },
    {
      "cell_type": "code",
      "execution_count": null,
      "metadata": {
        "id": "rvvHebLJm6tS",
        "outputId": "75a609a5-555e-4e73-f53b-be8c8abb8168"
      },
      "outputs": [
        {
          "name": "stdout",
          "output_type": "stream",
          "text": [
            "Sorted array is\n",
            "5\n",
            "6\n",
            "7\n",
            "11\n",
            "12\n",
            "13\n"
          ]
        }
      ],
      "source": [
        "# Python program for implementation of heap Sort - GeeksForGeeks Version\n",
        " \n",
        "# To heapify subtree rooted at index i.\n",
        "# n is size of heap\n",
        " \n",
        " \n",
        "def heapify(arr, n, i):\n",
        "    largest = i  # Initialize largest as root\n",
        "    l = 2 * i + 1     # left = 2*i + 1\n",
        "    r = 2 * i + 2     # right = 2*i + 2\n",
        " \n",
        "    # See if left child of root exists and is\n",
        "    # greater than root\n",
        "    if l < n and arr[largest] < arr[l]:\n",
        "        largest = l\n",
        " \n",
        "    # See if right child of root exists and is\n",
        "    # greater than root\n",
        "    if r < n and arr[largest] < arr[r]:\n",
        "        largest = r\n",
        " \n",
        "    # Change root, if needed\n",
        "    if largest != i:\n",
        "        arr[i], arr[largest] = arr[largest], arr[i]  # swap\n",
        " \n",
        "        # Heapify the root.\n",
        "        heapify(arr, n, largest)\n",
        " \n",
        "# The main function to sort an array of given size\n",
        " \n",
        " \n",
        "def heap_sort_geeks(arr):\n",
        "    n = len(arr)\n",
        " \n",
        "    # Build a maxheap.\n",
        "    for i in range(n//2 - 1, -1, -1):\n",
        "        heapify(arr, n, i)\n",
        " \n",
        "    # One by one extract elements\n",
        "    for i in range(n-1, 0, -1):\n",
        "        arr[i], arr[0] = arr[0], arr[i]  # swap\n",
        "        heapify(arr, i, 0)\n",
        " \n",
        " \n",
        "# Driver code\n",
        "arr = [12, 11, 13, 5, 6, 7]\n",
        "heap_sort_geeks(arr)\n",
        "n = len(arr)\n",
        "print(\"Sorted array is\")\n",
        "for i in range(n):\n",
        "    print(\"%d\" % arr[i]),\n",
        "# This code is contributed by Mohit Kumra"
      ]
    },
    {
      "cell_type": "code",
      "execution_count": null,
      "metadata": {
        "id": "ADc8aiGMm6tS",
        "outputId": "11f92183-ad87-4431-8d66-0cfaf7b0afc7"
      },
      "outputs": [
        {
          "name": "stdout",
          "output_type": "stream",
          "text": [
            "147 ms ± 2.89 ms per loop (mean ± std. dev. of 7 runs, 10 loops each)\n"
          ]
        }
      ],
      "source": [
        "%%timeit\n",
        "heap_sort_geeks(r10k)"
      ]
    },
    {
      "cell_type": "code",
      "execution_count": null,
      "metadata": {
        "id": "5x6sVOUJm6tT",
        "outputId": "81387089-017b-4322-d43a-329b57ba4572"
      },
      "outputs": [
        {
          "data": {
            "text/plain": [
              "[193, 358, 359, 364, 374, 391, 516, 578, 587, 604]"
            ]
          },
          "execution_count": 17,
          "metadata": {},
          "output_type": "execute_result"
        }
      ],
      "source": [
        "r10k[:10]"
      ]
    },
    {
      "cell_type": "code",
      "execution_count": null,
      "metadata": {
        "id": "TzsUJt2Tm6tT",
        "outputId": "b11989dc-0d9e-4c17-a2b7-3249817e63e4"
      },
      "outputs": [
        {
          "name": "stdout",
          "output_type": "stream",
          "text": [
            "152 ms ± 6.98 ms per loop (mean ± std. dev. of 7 runs, 10 loops each)\n"
          ]
        }
      ],
      "source": [
        "%%timeit\n",
        "heap_sort_geeks(r10k)"
      ]
    },
    {
      "cell_type": "code",
      "execution_count": null,
      "metadata": {
        "id": "fDSiK5ISm6tT",
        "outputId": "7e8d7ec3-94a9-4bb2-805b-e4e1b935b2f7"
      },
      "outputs": [
        {
          "name": "stdout",
          "output_type": "stream",
          "text": [
            "1.9 s ± 53.4 ms per loop (mean ± std. dev. of 7 runs, 1 loop each)\n"
          ]
        }
      ],
      "source": [
        "%%timeit\n",
        "heap_sort_geeks(r100k)"
      ]
    },
    {
      "cell_type": "code",
      "execution_count": null,
      "metadata": {
        "id": "RWl3161tm6tT",
        "outputId": "ae3999d0-5044-403d-8d52-91f965e192c4"
      },
      "outputs": [
        {
          "name": "stdout",
          "output_type": "stream",
          "text": [
            "1.84 s ± 8.07 ms per loop (mean ± std. dev. of 7 runs, 1 loop each)\n"
          ]
        }
      ],
      "source": [
        "%%timeit\n",
        "heap_sort_geeks(r100k)"
      ]
    },
    {
      "cell_type": "code",
      "execution_count": null,
      "metadata": {
        "id": "93XOf7JCm6tU"
      },
      "outputs": [],
      "source": [
        "# so one takeway is unless you have a serious need use existing data structures (collections) whenever possible\n",
        "# your own data structures are likely to be slower\n",
        "# of course if you come up with an improvement\\\n",
        "# that's probably masters thesis worth or even PhD!\n",
        "# the low hanging fruit has already been picked but you never know"
      ]
    },
    {
      "cell_type": "markdown",
      "metadata": {
        "id": "Nsl7iVzCm6tU"
      },
      "source": [
        "![Heap sort](https://upload.wikimedia.org/wikipedia/commons/1/1b/Sorting_heapsort_anim.gif)"
      ]
    },
    {
      "cell_type": "markdown",
      "metadata": {
        "id": "CVe2BxUcm6tU"
      },
      "source": [
        "# Quick Sort"
      ]
    },
    {
      "cell_type": "markdown",
      "metadata": {
        "id": "yAcbm29tm6tU"
      },
      "source": [
        "![QuickSort](https://upload.wikimedia.org/wikipedia/commons/6/6a/Sorting_quicksort_anim.gif)"
      ]
    },
    {
      "cell_type": "markdown",
      "metadata": {
        "id": "5r1TJMHrm6tU"
      },
      "source": [
        "#### Hungarian Dance version - https://www.youtube.com/watch?v=ywWBy6J5gz8"
      ]
    },
    {
      "cell_type": "code",
      "execution_count": null,
      "metadata": {
        "id": "h0C1Oe3bm6tU"
      },
      "outputs": [],
      "source": [
        "# https://en.wikipedia.org/wiki/Tony_Hoare inventor of quicksort in early 1960s\n",
        "\n",
        "# So quick sort algorithm\n",
        "# choose a pivot (some value)\n",
        "# partion values - those smaller go left, those bigger go right\n",
        "# then apply quicksort to these subdivisions recursively\n",
        "\n",
        "#eventually there are nothing to partition and we are done!"
      ]
    },
    {
      "cell_type": "code",
      "execution_count": 12,
      "metadata": {
        "id": "1pbh99Wom6tV"
      },
      "outputs": [],
      "source": [
        "def naive_quicksort(seq):\n",
        "    it = seq.copy() # so we use n space for copy\n",
        "    if len(it) <= 1: # it is possible to get an empty list/array\n",
        "        return it # so this is our base case\n",
        "    pivot = it[0] # random would be even better, but then our algorithm slows down a bit from random\n",
        "    # an adversary could generate a worst case data set\n",
        "    # if my pivot selection is deterministic\n",
        "    # so partitioning will be 2 linear runs and also will take extra memory unlike optimized quicksort\n",
        "    left = [n for n in it if n < pivot]  # assuming no duplicates\n",
        "    right = [n for n in it if n > pivot] # so i am creating new lists/array so not very space efficient\n",
        "    return naive_quicksort(left) + [pivot] + naive_quicksort(right) \n",
        "# so after one sortie pivot is guaranteed to be in the correct place in our sequence/array\n",
        "# so the Recurrence looks like T(n) = 2T(n/2) + n (well n/2 is not guaranteed so it could be worse)"
      ]
    },
    {
      "cell_type": "code",
      "execution_count": 13,
      "metadata": {
        "id": "0tlDO1wNm6tV",
        "outputId": "86c63983-1609-4c76-befd-6c918a92ab4d",
        "colab": {
          "base_uri": "https://localhost:8080/"
        }
      },
      "outputs": [
        {
          "output_type": "execute_result",
          "data": {
            "text/plain": [
              "[-33, -11, 13, 17, 20, 26, 31, 44, 54, 55, 77, 93]"
            ]
          },
          "metadata": {},
          "execution_count": 13
        }
      ],
      "source": [
        "naive_quicksort([54, 26, 93, 17, 77, 31, 44, 55, 20, -33, 13,-11])"
      ]
    },
    {
      "cell_type": "code",
      "execution_count": 25,
      "metadata": {
        "id": "Jw7bYcI1m6tV"
      },
      "outputs": [],
      "source": [
        "r1k = [random.randint(1,1_000_000) for n in range(1_000)]\n",
        "r10k = [random.randint(1,1_000_000) for n in range(10_000)]\n",
        "r100k = [random.randint(1,1_000_000) for n in range(100_000)]\n",
        "r1m = [random.randint(1,10_000_000) for n in range(1_000_000)]"
      ]
    },
    {
      "cell_type": "code",
      "execution_count": 15,
      "metadata": {
        "id": "xSLa0ZeXm6tV",
        "outputId": "2eef5af0-4e62-47e0-bf9d-6f0b2922f0a7",
        "colab": {
          "base_uri": "https://localhost:8080/"
        }
      },
      "outputs": [
        {
          "output_type": "execute_result",
          "data": {
            "text/plain": [
              "([396863, 237678, 811875, 668932, 191827],\n",
              " [457489, 398939, 887044, 584776, 774766],\n",
              " [4318715, 7332602, 9690001, 7348702, 8962682])"
            ]
          },
          "metadata": {},
          "execution_count": 15
        }
      ],
      "source": [
        "# sanity check if our date is truly random\n",
        "r10k[:5], r100k[:5], r1m[:5]"
      ]
    },
    {
      "cell_type": "code",
      "execution_count": 16,
      "metadata": {
        "id": "ro7Sxibtm6tV",
        "outputId": "7b2c625f-f7ce-4106-827d-0f33d4bbc44f",
        "colab": {
          "base_uri": "https://localhost:8080/"
        }
      },
      "outputs": [
        {
          "output_type": "stream",
          "name": "stdout",
          "text": [
            "10 loops, best of 5: 28.7 ms per loop\n"
          ]
        }
      ],
      "source": [
        "%%timeit\n",
        "naive_quicksort(r10k)"
      ]
    },
    {
      "cell_type": "code",
      "source": [
        "reverse10k = list(range(10_000))[::-1]\n",
        "reverse10k[:5]"
      ],
      "metadata": {
        "id": "jezW6yyovNTm",
        "outputId": "c5edbdd2-8b57-4d11-90e9-f3d38b42b0ca",
        "colab": {
          "base_uri": "https://localhost:8080/"
        }
      },
      "execution_count": 19,
      "outputs": [
        {
          "output_type": "execute_result",
          "data": {
            "text/plain": [
              "[9999, 9998, 9997, 9996, 9995]"
            ]
          },
          "metadata": {},
          "execution_count": 19
        }
      ]
    },
    {
      "cell_type": "code",
      "source": [
        "reverse1k = list(range(1_000))[::-1]\n",
        "reverse1k[:5]"
      ],
      "metadata": {
        "id": "riT7vRWjv1s4",
        "outputId": "853d769b-b480-4f75-ff44-e3fc3ad04d50",
        "colab": {
          "base_uri": "https://localhost:8080/"
        }
      },
      "execution_count": 23,
      "outputs": [
        {
          "output_type": "execute_result",
          "data": {
            "text/plain": [
              "[999, 998, 997, 996, 995]"
            ]
          },
          "metadata": {},
          "execution_count": 23
        }
      ]
    },
    {
      "cell_type": "code",
      "source": [
        "%%timeit\n",
        "naive_quicksort(reverse10k)"
      ],
      "metadata": {
        "id": "QElUDQoDvV_q",
        "outputId": "b7af1431-7851-4c7e-8dc3-4f52352a778f",
        "colab": {
          "base_uri": "https://localhost:8080/",
          "height": 422
        }
      },
      "execution_count": 20,
      "outputs": [
        {
          "output_type": "error",
          "ename": "RecursionError",
          "evalue": "ignored",
          "traceback": [
            "\u001b[0;31m---------------------------------------------------------------------------\u001b[0m",
            "\u001b[0;31mRecursionError\u001b[0m                            Traceback (most recent call last)",
            "\u001b[0;32m<ipython-input-20-f88149bfd5ec>\u001b[0m in \u001b[0;36m<module>\u001b[0;34m()\u001b[0m\n\u001b[0;32m----> 1\u001b[0;31m \u001b[0mget_ipython\u001b[0m\u001b[0;34m(\u001b[0m\u001b[0;34m)\u001b[0m\u001b[0;34m.\u001b[0m\u001b[0mrun_cell_magic\u001b[0m\u001b[0;34m(\u001b[0m\u001b[0;34m'timeit'\u001b[0m\u001b[0;34m,\u001b[0m \u001b[0;34m''\u001b[0m\u001b[0;34m,\u001b[0m \u001b[0;34m'naive_quicksort(reverse10k)'\u001b[0m\u001b[0;34m)\u001b[0m\u001b[0;34m\u001b[0m\u001b[0;34m\u001b[0m\u001b[0m\n\u001b[0m",
            "\u001b[0;32m/usr/local/lib/python3.7/dist-packages/IPython/core/interactiveshell.py\u001b[0m in \u001b[0;36mrun_cell_magic\u001b[0;34m(self, magic_name, line, cell)\u001b[0m\n\u001b[1;32m   2115\u001b[0m             \u001b[0mmagic_arg_s\u001b[0m \u001b[0;34m=\u001b[0m \u001b[0mself\u001b[0m\u001b[0;34m.\u001b[0m\u001b[0mvar_expand\u001b[0m\u001b[0;34m(\u001b[0m\u001b[0mline\u001b[0m\u001b[0;34m,\u001b[0m \u001b[0mstack_depth\u001b[0m\u001b[0;34m)\u001b[0m\u001b[0;34m\u001b[0m\u001b[0;34m\u001b[0m\u001b[0m\n\u001b[1;32m   2116\u001b[0m             \u001b[0;32mwith\u001b[0m \u001b[0mself\u001b[0m\u001b[0;34m.\u001b[0m\u001b[0mbuiltin_trap\u001b[0m\u001b[0;34m:\u001b[0m\u001b[0;34m\u001b[0m\u001b[0;34m\u001b[0m\u001b[0m\n\u001b[0;32m-> 2117\u001b[0;31m                 \u001b[0mresult\u001b[0m \u001b[0;34m=\u001b[0m \u001b[0mfn\u001b[0m\u001b[0;34m(\u001b[0m\u001b[0mmagic_arg_s\u001b[0m\u001b[0;34m,\u001b[0m \u001b[0mcell\u001b[0m\u001b[0;34m)\u001b[0m\u001b[0;34m\u001b[0m\u001b[0;34m\u001b[0m\u001b[0m\n\u001b[0m\u001b[1;32m   2118\u001b[0m             \u001b[0;32mreturn\u001b[0m \u001b[0mresult\u001b[0m\u001b[0;34m\u001b[0m\u001b[0;34m\u001b[0m\u001b[0m\n\u001b[1;32m   2119\u001b[0m \u001b[0;34m\u001b[0m\u001b[0m\n",
            "\u001b[0;32m<decorator-gen-52>\u001b[0m in \u001b[0;36mtimeit\u001b[0;34m(self, line, cell)\u001b[0m\n",
            "\u001b[0;32m/usr/local/lib/python3.7/dist-packages/IPython/core/magic.py\u001b[0m in \u001b[0;36m<lambda>\u001b[0;34m(f, *a, **k)\u001b[0m\n\u001b[1;32m    186\u001b[0m     \u001b[0;31m# but it's overkill for just that one bit of state.\u001b[0m\u001b[0;34m\u001b[0m\u001b[0;34m\u001b[0m\u001b[0;34m\u001b[0m\u001b[0m\n\u001b[1;32m    187\u001b[0m     \u001b[0;32mdef\u001b[0m \u001b[0mmagic_deco\u001b[0m\u001b[0;34m(\u001b[0m\u001b[0marg\u001b[0m\u001b[0;34m)\u001b[0m\u001b[0;34m:\u001b[0m\u001b[0;34m\u001b[0m\u001b[0;34m\u001b[0m\u001b[0m\n\u001b[0;32m--> 188\u001b[0;31m         \u001b[0mcall\u001b[0m \u001b[0;34m=\u001b[0m \u001b[0;32mlambda\u001b[0m \u001b[0mf\u001b[0m\u001b[0;34m,\u001b[0m \u001b[0;34m*\u001b[0m\u001b[0ma\u001b[0m\u001b[0;34m,\u001b[0m \u001b[0;34m**\u001b[0m\u001b[0mk\u001b[0m\u001b[0;34m:\u001b[0m \u001b[0mf\u001b[0m\u001b[0;34m(\u001b[0m\u001b[0;34m*\u001b[0m\u001b[0ma\u001b[0m\u001b[0;34m,\u001b[0m \u001b[0;34m**\u001b[0m\u001b[0mk\u001b[0m\u001b[0;34m)\u001b[0m\u001b[0;34m\u001b[0m\u001b[0;34m\u001b[0m\u001b[0m\n\u001b[0m\u001b[1;32m    189\u001b[0m \u001b[0;34m\u001b[0m\u001b[0m\n\u001b[1;32m    190\u001b[0m         \u001b[0;32mif\u001b[0m \u001b[0mcallable\u001b[0m\u001b[0;34m(\u001b[0m\u001b[0marg\u001b[0m\u001b[0;34m)\u001b[0m\u001b[0;34m:\u001b[0m\u001b[0;34m\u001b[0m\u001b[0;34m\u001b[0m\u001b[0m\n",
            "\u001b[0;32m/usr/local/lib/python3.7/dist-packages/IPython/core/magics/execution.py\u001b[0m in \u001b[0;36mtimeit\u001b[0;34m(self, line, cell)\u001b[0m\n\u001b[1;32m   1055\u001b[0m             \u001b[0mnumber\u001b[0m \u001b[0;34m=\u001b[0m \u001b[0;36m1\u001b[0m\u001b[0;34m\u001b[0m\u001b[0;34m\u001b[0m\u001b[0m\n\u001b[1;32m   1056\u001b[0m             \u001b[0;32mfor\u001b[0m \u001b[0m_\u001b[0m \u001b[0;32min\u001b[0m \u001b[0mrange\u001b[0m\u001b[0;34m(\u001b[0m\u001b[0;36m1\u001b[0m\u001b[0;34m,\u001b[0m \u001b[0;36m10\u001b[0m\u001b[0;34m)\u001b[0m\u001b[0;34m:\u001b[0m\u001b[0;34m\u001b[0m\u001b[0;34m\u001b[0m\u001b[0m\n\u001b[0;32m-> 1057\u001b[0;31m                 \u001b[0mtime_number\u001b[0m \u001b[0;34m=\u001b[0m \u001b[0mtimer\u001b[0m\u001b[0;34m.\u001b[0m\u001b[0mtimeit\u001b[0m\u001b[0;34m(\u001b[0m\u001b[0mnumber\u001b[0m\u001b[0;34m)\u001b[0m\u001b[0;34m\u001b[0m\u001b[0;34m\u001b[0m\u001b[0m\n\u001b[0m\u001b[1;32m   1058\u001b[0m                 \u001b[0mworst_tuning\u001b[0m \u001b[0;34m=\u001b[0m \u001b[0mmax\u001b[0m\u001b[0;34m(\u001b[0m\u001b[0mworst_tuning\u001b[0m\u001b[0;34m,\u001b[0m \u001b[0mtime_number\u001b[0m \u001b[0;34m/\u001b[0m \u001b[0mnumber\u001b[0m\u001b[0;34m)\u001b[0m\u001b[0;34m\u001b[0m\u001b[0;34m\u001b[0m\u001b[0m\n\u001b[1;32m   1059\u001b[0m                 \u001b[0;32mif\u001b[0m \u001b[0mtime_number\u001b[0m \u001b[0;34m>=\u001b[0m \u001b[0;36m0.2\u001b[0m\u001b[0;34m:\u001b[0m\u001b[0;34m\u001b[0m\u001b[0;34m\u001b[0m\u001b[0m\n",
            "\u001b[0;32m/usr/local/lib/python3.7/dist-packages/IPython/core/magics/execution.py\u001b[0m in \u001b[0;36mtimeit\u001b[0;34m(self, number)\u001b[0m\n\u001b[1;32m    137\u001b[0m         \u001b[0mgc\u001b[0m\u001b[0;34m.\u001b[0m\u001b[0mdisable\u001b[0m\u001b[0;34m(\u001b[0m\u001b[0;34m)\u001b[0m\u001b[0;34m\u001b[0m\u001b[0;34m\u001b[0m\u001b[0m\n\u001b[1;32m    138\u001b[0m         \u001b[0;32mtry\u001b[0m\u001b[0;34m:\u001b[0m\u001b[0;34m\u001b[0m\u001b[0;34m\u001b[0m\u001b[0m\n\u001b[0;32m--> 139\u001b[0;31m             \u001b[0mtiming\u001b[0m \u001b[0;34m=\u001b[0m \u001b[0mself\u001b[0m\u001b[0;34m.\u001b[0m\u001b[0minner\u001b[0m\u001b[0;34m(\u001b[0m\u001b[0mit\u001b[0m\u001b[0;34m,\u001b[0m \u001b[0mself\u001b[0m\u001b[0;34m.\u001b[0m\u001b[0mtimer\u001b[0m\u001b[0;34m)\u001b[0m\u001b[0;34m\u001b[0m\u001b[0;34m\u001b[0m\u001b[0m\n\u001b[0m\u001b[1;32m    140\u001b[0m         \u001b[0;32mfinally\u001b[0m\u001b[0;34m:\u001b[0m\u001b[0;34m\u001b[0m\u001b[0;34m\u001b[0m\u001b[0m\n\u001b[1;32m    141\u001b[0m             \u001b[0;32mif\u001b[0m \u001b[0mgcold\u001b[0m\u001b[0;34m:\u001b[0m\u001b[0;34m\u001b[0m\u001b[0;34m\u001b[0m\u001b[0m\n",
            "\u001b[0;32m<magic-timeit>\u001b[0m in \u001b[0;36minner\u001b[0;34m(_it, _timer)\u001b[0m\n",
            "\u001b[0;32m<ipython-input-12-a218830ff9c9>\u001b[0m in \u001b[0;36mnaive_quicksort\u001b[0;34m(seq)\u001b[0m\n\u001b[1;32m      9\u001b[0m     \u001b[0mleft\u001b[0m \u001b[0;34m=\u001b[0m \u001b[0;34m[\u001b[0m\u001b[0mn\u001b[0m \u001b[0;32mfor\u001b[0m \u001b[0mn\u001b[0m \u001b[0;32min\u001b[0m \u001b[0mit\u001b[0m \u001b[0;32mif\u001b[0m \u001b[0mn\u001b[0m \u001b[0;34m<\u001b[0m \u001b[0mpivot\u001b[0m\u001b[0;34m]\u001b[0m  \u001b[0;31m# assuming no duplicates\u001b[0m\u001b[0;34m\u001b[0m\u001b[0;34m\u001b[0m\u001b[0m\n\u001b[1;32m     10\u001b[0m     \u001b[0mright\u001b[0m \u001b[0;34m=\u001b[0m \u001b[0;34m[\u001b[0m\u001b[0mn\u001b[0m \u001b[0;32mfor\u001b[0m \u001b[0mn\u001b[0m \u001b[0;32min\u001b[0m \u001b[0mit\u001b[0m \u001b[0;32mif\u001b[0m \u001b[0mn\u001b[0m \u001b[0;34m>\u001b[0m \u001b[0mpivot\u001b[0m\u001b[0;34m]\u001b[0m \u001b[0;31m# so i am creating new lists/array so not very space efficient\u001b[0m\u001b[0;34m\u001b[0m\u001b[0;34m\u001b[0m\u001b[0m\n\u001b[0;32m---> 11\u001b[0;31m     \u001b[0;32mreturn\u001b[0m \u001b[0mnaive_quicksort\u001b[0m\u001b[0;34m(\u001b[0m\u001b[0mleft\u001b[0m\u001b[0;34m)\u001b[0m \u001b[0;34m+\u001b[0m \u001b[0;34m[\u001b[0m\u001b[0mpivot\u001b[0m\u001b[0;34m]\u001b[0m \u001b[0;34m+\u001b[0m \u001b[0mnaive_quicksort\u001b[0m\u001b[0;34m(\u001b[0m\u001b[0mright\u001b[0m\u001b[0;34m)\u001b[0m\u001b[0;34m\u001b[0m\u001b[0;34m\u001b[0m\u001b[0m\n\u001b[0m\u001b[1;32m     12\u001b[0m \u001b[0;31m# so after one sortie pivot is guaranteed to be in the correct place in our sequence/array\u001b[0m\u001b[0;34m\u001b[0m\u001b[0;34m\u001b[0m\u001b[0;34m\u001b[0m\u001b[0m\n\u001b[1;32m     13\u001b[0m \u001b[0;31m# so the Recurrence looks like T(n) = 2T(n/2) + n (well n/2 is not guaranteed so it could be worse)\u001b[0m\u001b[0;34m\u001b[0m\u001b[0;34m\u001b[0m\u001b[0;34m\u001b[0m\u001b[0m\n",
            "... last 1 frames repeated, from the frame below ...\n",
            "\u001b[0;32m<ipython-input-12-a218830ff9c9>\u001b[0m in \u001b[0;36mnaive_quicksort\u001b[0;34m(seq)\u001b[0m\n\u001b[1;32m      9\u001b[0m     \u001b[0mleft\u001b[0m \u001b[0;34m=\u001b[0m \u001b[0;34m[\u001b[0m\u001b[0mn\u001b[0m \u001b[0;32mfor\u001b[0m \u001b[0mn\u001b[0m \u001b[0;32min\u001b[0m \u001b[0mit\u001b[0m \u001b[0;32mif\u001b[0m \u001b[0mn\u001b[0m \u001b[0;34m<\u001b[0m \u001b[0mpivot\u001b[0m\u001b[0;34m]\u001b[0m  \u001b[0;31m# assuming no duplicates\u001b[0m\u001b[0;34m\u001b[0m\u001b[0;34m\u001b[0m\u001b[0m\n\u001b[1;32m     10\u001b[0m     \u001b[0mright\u001b[0m \u001b[0;34m=\u001b[0m \u001b[0;34m[\u001b[0m\u001b[0mn\u001b[0m \u001b[0;32mfor\u001b[0m \u001b[0mn\u001b[0m \u001b[0;32min\u001b[0m \u001b[0mit\u001b[0m \u001b[0;32mif\u001b[0m \u001b[0mn\u001b[0m \u001b[0;34m>\u001b[0m \u001b[0mpivot\u001b[0m\u001b[0;34m]\u001b[0m \u001b[0;31m# so i am creating new lists/array so not very space efficient\u001b[0m\u001b[0;34m\u001b[0m\u001b[0;34m\u001b[0m\u001b[0m\n\u001b[0;32m---> 11\u001b[0;31m     \u001b[0;32mreturn\u001b[0m \u001b[0mnaive_quicksort\u001b[0m\u001b[0;34m(\u001b[0m\u001b[0mleft\u001b[0m\u001b[0;34m)\u001b[0m \u001b[0;34m+\u001b[0m \u001b[0;34m[\u001b[0m\u001b[0mpivot\u001b[0m\u001b[0;34m]\u001b[0m \u001b[0;34m+\u001b[0m \u001b[0mnaive_quicksort\u001b[0m\u001b[0;34m(\u001b[0m\u001b[0mright\u001b[0m\u001b[0;34m)\u001b[0m\u001b[0;34m\u001b[0m\u001b[0;34m\u001b[0m\u001b[0m\n\u001b[0m\u001b[1;32m     12\u001b[0m \u001b[0;31m# so after one sortie pivot is guaranteed to be in the correct place in our sequence/array\u001b[0m\u001b[0;34m\u001b[0m\u001b[0;34m\u001b[0m\u001b[0;34m\u001b[0m\u001b[0m\n\u001b[1;32m     13\u001b[0m \u001b[0;31m# so the Recurrence looks like T(n) = 2T(n/2) + n (well n/2 is not guaranteed so it could be worse)\u001b[0m\u001b[0;34m\u001b[0m\u001b[0;34m\u001b[0m\u001b[0;34m\u001b[0m\u001b[0m\n",
            "\u001b[0;31mRecursionError\u001b[0m: maximum recursion depth exceeded in comparison"
          ]
        }
      ]
    },
    {
      "cell_type": "code",
      "source": [
        "import sys\n",
        "print(sys.getrecursionlimit())"
      ],
      "metadata": {
        "id": "TOg8WpllvrJ2",
        "outputId": "da578dae-ccf2-4bac-8d33-caf334293e1b",
        "colab": {
          "base_uri": "https://localhost:8080/"
        }
      },
      "execution_count": 21,
      "outputs": [
        {
          "output_type": "stream",
          "name": "stdout",
          "text": [
            "1000\n"
          ]
        }
      ]
    },
    {
      "cell_type": "code",
      "source": [
        "%%timeit\n",
        "naive_quicksort(reverse1k)"
      ],
      "metadata": {
        "id": "GiFplMeIv6FX",
        "outputId": "84a693ff-4bd0-4696-df40-62fd33edb679",
        "colab": {
          "base_uri": "https://localhost:8080/"
        }
      },
      "execution_count": 24,
      "outputs": [
        {
          "output_type": "stream",
          "name": "stdout",
          "text": [
            "10 loops, best of 5: 58.9 ms per loop\n"
          ]
        }
      ]
    },
    {
      "cell_type": "code",
      "source": [
        "%%timeit\n",
        "naive_quicksort(r1k)"
      ],
      "metadata": {
        "id": "z9BeIJXdwERQ",
        "outputId": "7f72c252-6ec2-4e53-bbc4-34968c4d7da8",
        "colab": {
          "base_uri": "https://localhost:8080/"
        }
      },
      "execution_count": 26,
      "outputs": [
        {
          "output_type": "stream",
          "name": "stdout",
          "text": [
            "100 loops, best of 5: 2.48 ms per loop\n"
          ]
        }
      ]
    },
    {
      "cell_type": "code",
      "source": [
        "sys.setrecursionlimit(12_000)\n",
        "print(sys.getrecursionlimit())"
      ],
      "metadata": {
        "id": "3EPTN83evsYo",
        "outputId": "14343b3c-f2c5-4799-be50-62b5a6511068",
        "colab": {
          "base_uri": "https://localhost:8080/"
        }
      },
      "execution_count": 22,
      "outputs": [
        {
          "output_type": "stream",
          "name": "stdout",
          "text": [
            "12000\n"
          ]
        }
      ]
    },
    {
      "cell_type": "code",
      "execution_count": 17,
      "metadata": {
        "id": "mT6-7QMPm6tV",
        "outputId": "561f180e-b689-4d21-8bc4-65702547a106",
        "colab": {
          "base_uri": "https://localhost:8080/"
        }
      },
      "outputs": [
        {
          "output_type": "stream",
          "name": "stdout",
          "text": [
            "1 loop, best of 5: 365 ms per loop\n"
          ]
        }
      ],
      "source": [
        "%%timeit\n",
        "naive_quicksort(r100k)"
      ]
    },
    {
      "cell_type": "code",
      "source": [
        ""
      ],
      "metadata": {
        "id": "oPDUXcRZvMKU"
      },
      "execution_count": null,
      "outputs": []
    },
    {
      "cell_type": "code",
      "execution_count": 18,
      "metadata": {
        "id": "hMH6Qhzzm6tW",
        "outputId": "35ac9164-cf94-4337-a899-4aa7bd4f5d6c",
        "colab": {
          "base_uri": "https://localhost:8080/"
        }
      },
      "outputs": [
        {
          "output_type": "stream",
          "name": "stdout",
          "text": [
            "1 loop, best of 5: 5.51 s per loop\n"
          ]
        }
      ],
      "source": [
        "%%timeit\n",
        "naive_quicksort(r1m)"
      ]
    },
    {
      "cell_type": "markdown",
      "metadata": {
        "id": "EWKdrq7km6tW"
      },
      "source": [
        "![quick](https://github.com/ValRCS/RTU_Algorithms_DIP321/blob/main/imgs/quicksort.png?raw=1)"
      ]
    },
    {
      "cell_type": "markdown",
      "metadata": {
        "id": "z68pgK23m6tW"
      },
      "source": [
        "$$Complexity: O(nlog(n))$$ $$Worst case : O(n^2)$$"
      ]
    },
    {
      "cell_type": "code",
      "execution_count": null,
      "metadata": {
        "id": "iS_Fdye_m6tW",
        "outputId": "add44dc8-6ef8-417b-905f-528b989834e9"
      },
      "outputs": [
        {
          "name": "stdout",
          "output_type": "stream",
          "text": [
            "[17, 20, 26, 31, 44, 54, 55, 77, 93]\n"
          ]
        }
      ],
      "source": [
        "def quickSort(alist):\n",
        "    quickSortHelper(alist, 0, len(alist) - 1)\n",
        "\n",
        "\n",
        "def quickSortHelper(alist, first, last):\n",
        "    if first < last:\n",
        "\n",
        "        splitpoint = partition(alist, first, last)\n",
        "\n",
        "        quickSortHelper(alist, first, splitpoint - 1)\n",
        "        quickSortHelper(alist, splitpoint + 1, last)\n",
        "\n",
        "\n",
        "def partition(alist, first, last):\n",
        "    pivotvalue = alist[first]\n",
        "\n",
        "    leftmark = first + 1\n",
        "    rightmark = last\n",
        "\n",
        "    done = False\n",
        "    while not done:\n",
        "\n",
        "        while leftmark <= rightmark and alist[leftmark] <= pivotvalue:\n",
        "            leftmark = leftmark + 1\n",
        "\n",
        "        while alist[rightmark] >= pivotvalue and rightmark >= leftmark:\n",
        "            rightmark = rightmark - 1\n",
        "\n",
        "        if rightmark < leftmark:\n",
        "            done = True\n",
        "        else:\n",
        "            temp = alist[leftmark]\n",
        "            alist[leftmark] = alist[rightmark]\n",
        "            alist[rightmark] = temp\n",
        "\n",
        "    temp = alist[first]\n",
        "    alist[first] = alist[rightmark]\n",
        "    alist[rightmark] = temp\n",
        "\n",
        "    return rightmark\n",
        "\n",
        "\n",
        "alist = [54, 26, 93, 17, 77, 31, 44, 55, 20]\n",
        "quickSort(alist)\n",
        "print(alist)"
      ]
    },
    {
      "cell_type": "code",
      "execution_count": null,
      "metadata": {
        "id": "pV_DdhpAm6tY"
      },
      "outputs": [],
      "source": [
        "# so quicksort reccurence would be\n",
        "T(n) = 2T(n/2) + n # soT(n/2) would be average case \n",
        "# worst case would be with pivots at the wrong end (not middle)\n",
        "T(n) = T(1) + T(n-1) + n # which lead so quadratic complexity\n",
        "# this could in real life scenario if you were applying naive quicksort to reversely ordered list"
      ]
    },
    {
      "cell_type": "code",
      "execution_count": null,
      "metadata": {
        "id": "QvGtrCAMm6tY"
      },
      "outputs": [],
      "source": [
        "# Turns out it can be proven (see Cormen- CLRS) that n log n is the best we can do for sorting algorithms which involve\n",
        "# comparisons"
      ]
    },
    {
      "cell_type": "code",
      "execution_count": null,
      "metadata": {
        "id": "oQ3eFmGcm6tY"
      },
      "outputs": [],
      "source": [
        "# well those are so called bucket sorts, you have counting sort, radix sort, bucket sort\n",
        "# these will have O(n component + some k some other component) - k being something to do with data"
      ]
    },
    {
      "cell_type": "code",
      "execution_count": 27,
      "metadata": {
        "id": "rn3TtZcVm6tY",
        "outputId": "eb5bd48d-cc9f-43af-9653-7d7d2473c65d",
        "colab": {
          "base_uri": "https://localhost:8080/"
        }
      },
      "outputs": [
        {
          "output_type": "execute_result",
          "data": {
            "text/plain": [
              "[4, 6, 1, 1, 3, 4, 5, 5, 4, 2, 3, 2, 6, 6, 4]"
            ]
          },
          "metadata": {},
          "execution_count": 27
        }
      ],
      "source": [
        "# so if we know we will only have to sort numbers 1 to 6 then we can make a bucket for these numbers\n",
        "dice = [random.randint(1,6) for _ in range(100)]\n",
        "dice[:15]"
      ]
    },
    {
      "cell_type": "code",
      "execution_count": 28,
      "metadata": {
        "id": "V3ClQfEUm6tY",
        "outputId": "0833c33e-6d22-4fc0-9781-5b9ebd6af16c",
        "colab": {
          "base_uri": "https://localhost:8080/"
        }
      },
      "outputs": [
        {
          "output_type": "execute_result",
          "data": {
            "text/plain": [
              "[1,\n",
              " 1,\n",
              " 1,\n",
              " 1,\n",
              " 1,\n",
              " 1,\n",
              " 1,\n",
              " 1,\n",
              " 1,\n",
              " 1,\n",
              " 1,\n",
              " 1,\n",
              " 1,\n",
              " 1,\n",
              " 1,\n",
              " 1,\n",
              " 1,\n",
              " 1,\n",
              " 1,\n",
              " 1,\n",
              " 1,\n",
              " 1,\n",
              " 2,\n",
              " 2,\n",
              " 2,\n",
              " 2,\n",
              " 2,\n",
              " 2,\n",
              " 2,\n",
              " 2,\n",
              " 2,\n",
              " 2,\n",
              " 2,\n",
              " 2,\n",
              " 2,\n",
              " 2,\n",
              " 2,\n",
              " 2,\n",
              " 2,\n",
              " 2,\n",
              " 2,\n",
              " 2,\n",
              " 2,\n",
              " 2,\n",
              " 3,\n",
              " 3,\n",
              " 3,\n",
              " 3,\n",
              " 3,\n",
              " 3,\n",
              " 3,\n",
              " 3,\n",
              " 3,\n",
              " 3,\n",
              " 3,\n",
              " 3,\n",
              " 3,\n",
              " 3,\n",
              " 3,\n",
              " 3,\n",
              " 4,\n",
              " 4,\n",
              " 4,\n",
              " 4,\n",
              " 4,\n",
              " 4,\n",
              " 4,\n",
              " 4,\n",
              " 4,\n",
              " 4,\n",
              " 4,\n",
              " 4,\n",
              " 4,\n",
              " 4,\n",
              " 4,\n",
              " 5,\n",
              " 5,\n",
              " 5,\n",
              " 5,\n",
              " 5,\n",
              " 5,\n",
              " 5,\n",
              " 5,\n",
              " 5,\n",
              " 5,\n",
              " 6,\n",
              " 6,\n",
              " 6,\n",
              " 6,\n",
              " 6,\n",
              " 6,\n",
              " 6,\n",
              " 6,\n",
              " 6,\n",
              " 6,\n",
              " 6,\n",
              " 6,\n",
              " 6,\n",
              " 6,\n",
              " 6]"
            ]
          },
          "metadata": {},
          "execution_count": 28
        }
      ],
      "source": [
        "sorted(dice)"
      ]
    },
    {
      "cell_type": "code",
      "execution_count": 29,
      "metadata": {
        "id": "8yEiylq_m6tZ",
        "outputId": "8c5a8b9f-f0aa-45f0-c406-f4f099fee2f6",
        "colab": {
          "base_uri": "https://localhost:8080/"
        }
      },
      "outputs": [
        {
          "output_type": "execute_result",
          "data": {
            "text/plain": [
              "[0, 0, 0, 0, 0, 0, 0, 0, 0, 0]"
            ]
          },
          "metadata": {},
          "execution_count": 29
        }
      ],
      "source": [
        "buckets = [0 for _ in range(10)]\n",
        "buckets"
      ]
    },
    {
      "cell_type": "code",
      "execution_count": 33,
      "metadata": {
        "id": "tO5A9CxFm6tZ"
      },
      "outputs": [],
      "source": [
        "def naive_digit_sort(dig_list, num_buckets=10, debug=False):\n",
        "    buckets = [0 for _ in range(num_buckets)]  #init buckets\n",
        "    for digit in dig_list:\n",
        "        buckets[digit] += 1\n",
        "    if debug:\n",
        "        print(buckets)\n",
        "    t = [[i]*n for i, n in enumerate(buckets)] # so list of lists\n",
        "    flat_list = [item for sublist in t for item in sublist] #thank you Alex Martelli!\n",
        "    return flat_list"
      ]
    },
    {
      "cell_type": "code",
      "execution_count": 35,
      "metadata": {
        "id": "Ieac-9dsm6tZ",
        "outputId": "5dc6dcee-bcfc-49a0-925a-63f450988ae2",
        "colab": {
          "base_uri": "https://localhost:8080/"
        }
      },
      "outputs": [
        {
          "output_type": "execute_result",
          "data": {
            "text/plain": [
              "[1, 1, 1, 1, 1, 1, 1, 1, 1, 1, 1, 1, 1, 1, 1]"
            ]
          },
          "metadata": {},
          "execution_count": 35
        }
      ],
      "source": [
        "sorted_digits = naive_digit_sort(dice)\n",
        "sorted_digits[:15]"
      ]
    },
    {
      "cell_type": "code",
      "source": [
        "dice[:15]"
      ],
      "metadata": {
        "id": "4TYnn3Egzwys",
        "outputId": "3804d5c9-76a5-4639-ffa8-2ff0ca565597",
        "colab": {
          "base_uri": "https://localhost:8080/"
        }
      },
      "execution_count": 36,
      "outputs": [
        {
          "output_type": "execute_result",
          "data": {
            "text/plain": [
              "[4, 6, 1, 1, 3, 4, 5, 5, 4, 2, 3, 2, 6, 6, 4]"
            ]
          },
          "metadata": {},
          "execution_count": 36
        }
      ]
    },
    {
      "cell_type": "code",
      "source": [
        "sorted_digits = naive_digit_sort(dice, debug=True)"
      ],
      "metadata": {
        "id": "3W9yjZYPz1ZS",
        "outputId": "5194b28b-7635-42b5-c47a-edd3373f603c",
        "colab": {
          "base_uri": "https://localhost:8080/"
        }
      },
      "execution_count": 37,
      "outputs": [
        {
          "output_type": "stream",
          "name": "stdout",
          "text": [
            "[0, 22, 22, 16, 15, 10, 15, 0, 0, 0]\n"
          ]
        }
      ]
    },
    {
      "cell_type": "code",
      "source": [
        "d20 = [random.randint(1,20) for _ in range(1000)]\n",
        "d20[:5], min(d20), max(d20)"
      ],
      "metadata": {
        "id": "LP0Sq66z0VZf",
        "outputId": "007f1c67-a427-4c83-ff2a-bf92ac928473",
        "colab": {
          "base_uri": "https://localhost:8080/"
        }
      },
      "execution_count": 39,
      "outputs": [
        {
          "output_type": "execute_result",
          "data": {
            "text/plain": [
              "([7, 11, 20, 20, 4], 1, 20)"
            ]
          },
          "metadata": {},
          "execution_count": 39
        }
      ]
    },
    {
      "cell_type": "code",
      "source": [
        "d20_sorted = naive_digit_sort(d20, num_buckets=21)  # we are too lazy to worry about off by one errors, so leave 0 empty\n",
        "d20_sorted[:5], d20_sorted[-5:]"
      ],
      "metadata": {
        "id": "_uXEJE8P0iSc",
        "outputId": "14c7467e-7463-4a21-f8c3-875fca0fc6ec",
        "colab": {
          "base_uri": "https://localhost:8080/"
        }
      },
      "execution_count": 41,
      "outputs": [
        {
          "output_type": "execute_result",
          "data": {
            "text/plain": [
              "([1, 1, 1, 1, 1], [20, 20, 20, 20, 20])"
            ]
          },
          "metadata": {},
          "execution_count": 41
        }
      ]
    },
    {
      "cell_type": "code",
      "source": [
        "min(r1k),max(r1k)  # min and max can be found in linear time so that is not the problem itself"
      ],
      "metadata": {
        "id": "jirbk5da1Gz2",
        "outputId": "61550e01-a31e-4841-d734-6c1e2c8ac757",
        "colab": {
          "base_uri": "https://localhost:8080/"
        }
      },
      "execution_count": 42,
      "outputs": [
        {
          "output_type": "execute_result",
          "data": {
            "text/plain": [
              "(2703, 999519)"
            ]
          },
          "metadata": {},
          "execution_count": 42
        }
      ]
    },
    {
      "cell_type": "code",
      "source": [
        "r1k_sorted = naive_digit_sort(r1k, num_buckets=1_000_001)\n",
        "r1k_sorted[:5]"
      ],
      "metadata": {
        "id": "xyVf41OC1W6Q",
        "outputId": "2ce23ac2-35a6-4ebb-b4b7-7898a339e7e6",
        "colab": {
          "base_uri": "https://localhost:8080/"
        }
      },
      "execution_count": 43,
      "outputs": [
        {
          "output_type": "execute_result",
          "data": {
            "text/plain": [
              "[2703, 3202, 3608, 5789, 6944]"
            ]
          },
          "metadata": {},
          "execution_count": 43
        }
      ]
    },
    {
      "cell_type": "code",
      "source": [
        "%%timeit\n",
        "naive_digit_sort(r1k, num_buckets=1_000_001)  # we will spend most of the time on creating the buckets..."
      ],
      "metadata": {
        "id": "d5wX2fC51p8j",
        "outputId": "d35d86b4-53a9-484a-ce45-b37efecab98f",
        "colab": {
          "base_uri": "https://localhost:8080/"
        }
      },
      "execution_count": 45,
      "outputs": [
        {
          "output_type": "stream",
          "name": "stdout",
          "text": [
            "1 loop, best of 5: 317 ms per loop\n"
          ]
        }
      ]
    },
    {
      "cell_type": "code",
      "source": [
        "%%timeit\n",
        "naive_digit_sort(r10k, num_buckets=1_000_001)"
      ],
      "metadata": {
        "id": "4ljHaPSx1vg9",
        "outputId": "d6d9b3cc-727f-46d5-b338-ebcfbb9e1837",
        "colab": {
          "base_uri": "https://localhost:8080/"
        }
      },
      "execution_count": 46,
      "outputs": [
        {
          "output_type": "stream",
          "name": "stdout",
          "text": [
            "1 loop, best of 5: 324 ms per loop\n"
          ]
        }
      ]
    },
    {
      "cell_type": "code",
      "source": [
        "%%timeit\n",
        "naive_digit_sort(r100k, num_buckets=1_000_001)"
      ],
      "metadata": {
        "id": "fgKzQQPv2G-Q",
        "outputId": "2cc61de4-f06e-4970-a54e-2cdc7ab40aa9",
        "colab": {
          "base_uri": "https://localhost:8080/"
        }
      },
      "execution_count": 47,
      "outputs": [
        {
          "output_type": "stream",
          "name": "stdout",
          "text": [
            "1 loop, best of 5: 396 ms per loop\n"
          ]
        }
      ]
    },
    {
      "cell_type": "code",
      "source": [
        "# so here k - the number of different possible values dominates n which is the actual data item count\n"
      ],
      "metadata": {
        "id": "t77P8i8p2QlU"
      },
      "execution_count": null,
      "outputs": []
    },
    {
      "cell_type": "code",
      "source": [
        "r1k_sorted[-5:]"
      ],
      "metadata": {
        "id": "RdGENV2n1jdr",
        "outputId": "81aa3e45-1eb5-466b-feed-4fba574d69dd",
        "colab": {
          "base_uri": "https://localhost:8080/"
        }
      },
      "execution_count": 44,
      "outputs": [
        {
          "output_type": "execute_result",
          "data": {
            "text/plain": [
              "[990668, 991779, 994141, 997742, 999519]"
            ]
          },
          "metadata": {},
          "execution_count": 44
        }
      ]
    },
    {
      "cell_type": "code",
      "execution_count": null,
      "metadata": {
        "id": "OYXkkhg6m6tZ",
        "outputId": "2386b28d-038b-414c-ecbb-d4338a18b3af"
      },
      "outputs": [
        {
          "name": "stdout",
          "output_type": "stream",
          "text": [
            "Sorted character array is        RTUaaabcddghiiknnnooorrssstttt\n"
          ]
        }
      ],
      "source": [
        "# Python program for counting sort - GeeksForGeeks\n",
        " \n",
        "# The main function that sort the given string arr[] in \n",
        "# alphabetical order\n",
        "def countSort(arr):\n",
        " \n",
        "    # The output character array that will have sorted arr\n",
        "    output = [0 for i in range(len(arr))]\n",
        " \n",
        "    # Create a count array to store count of inidividul\n",
        "    # characters and initialize count array as 0\n",
        "    count = [0 for i in range(256)]\n",
        "    # so this works because we  are using English ASCII alphabet no Latvian, Russian or Chinese..\n",
        "    # for extra full Unicode we'd need 100k + buckets\n",
        " \n",
        "    # For storing the resulting answer since the \n",
        "    # string is immutable\n",
        "    ans = [\"\" for _ in arr]\n",
        " \n",
        "    # Store count of each character\n",
        "    for i in arr:\n",
        "        count[ord(i)] += 1\n",
        " \n",
        "    # Change count[i] so that count[i] now contains actual\n",
        "    # position of this character in output array\n",
        "    for i in range(256):\n",
        "        count[i] += count[i-1]\n",
        " \n",
        "    # Build the output character array\n",
        "    for i in range(len(arr)):\n",
        "        output[count[ord(arr[i])]-1] = arr[i]\n",
        "        count[ord(arr[i])] -= 1\n",
        " \n",
        "    # Copy the output array to arr, so that arr now\n",
        "    # contains sorted characters\n",
        "    for i in range(len(arr)):\n",
        "        ans[i] = output[i]\n",
        "    return ans \n",
        " \n",
        "# Driver program to test above function\n",
        "arr = \"RTU rocks and sorting is not that bad\"\n",
        "ans = countSort(arr)\n",
        "print(\"Sorted character array is % s\" %(\"\".join(ans)))\n",
        " \n",
        "# This code is contributed by Nikhil Kumar Singh"
      ]
    },
    {
      "cell_type": "code",
      "execution_count": null,
      "metadata": {
        "id": "LF8iggivm6tZ",
        "outputId": "c49d033d-2543-43c6-e6ce-f20c927c3055"
      },
      "outputs": [
        {
          "data": {
            "text/plain": [
              "'   RTUVaaacdeghiilnstt'"
            ]
          },
          "execution_count": 51,
          "metadata": {},
          "output_type": "execute_result"
        }
      ],
      "source": [
        "ans = countSort(\"Valdis teaching at RTU\")\n",
        "\"\".join(ans)"
      ]
    },
    {
      "cell_type": "code",
      "execution_count": null,
      "metadata": {
        "id": "Rm5W4P_Pm6ta",
        "outputId": "75bcf7fc-67a2-450b-9398-90a1dd035455"
      },
      "outputs": [
        {
          "name": "stdout",
          "output_type": "stream",
          "text": [
            "[2, 24, 45, 66, 75, 90, 170, 802]\n"
          ]
        }
      ],
      "source": [
        "# https://en.wikipedia.org/wiki/Radix_sort\n",
        "# Python program for implementation of Radix Sort \n",
        "# A function to do counting sort of arr[] according to \n",
        "# the digit represented by exp. \n",
        "  \n",
        "def countingSort(arr, exp1): \n",
        "  \n",
        "    n = len(arr) \n",
        "  \n",
        "    # The output array elements that will have sorted arr \n",
        "    output = [0] * (n) \n",
        "  \n",
        "    # initialize count array as 0 \n",
        "    count = [0] * (10) \n",
        "  \n",
        "    # Store count of occurrences in count[] \n",
        "    for i in range(0, n): \n",
        "        index = (arr[i] / exp1) \n",
        "        count[int(index % 10)] += 1\n",
        "  \n",
        "    # Change count[i] so that count[i] now contains actual \n",
        "    # position of this digit in output array \n",
        "    for i in range(1, 10): \n",
        "        count[i] += count[i - 1] \n",
        "  \n",
        "    # Build the output array \n",
        "    i = n - 1\n",
        "    while i >= 0: \n",
        "        index = (arr[i] / exp1) \n",
        "        output[count[int(index % 10)] - 1] = arr[i] \n",
        "        count[int(index % 10)] -= 1\n",
        "        i -= 1\n",
        "  \n",
        "    # Copying the output array to arr[], \n",
        "    # so that arr now contains sorted numbers \n",
        "    i = 0\n",
        "    for i in range(0, len(arr)): \n",
        "        arr[i] = output[i] \n",
        "  \n",
        "# Method to do Radix Sort \n",
        "def radixSort(arr): \n",
        "  \n",
        "    # Find the maximum number to know number of digits \n",
        "    max1 = max(arr) \n",
        "  \n",
        "    # Do counting sort for every digit. Note that instead \n",
        "    # of passing digit number, exp is passed. exp is 10^i \n",
        "    # where i is current digit number \n",
        "    exp = 1\n",
        "    while max1 / exp > 0: \n",
        "        countingSort(arr, exp) \n",
        "        exp *= 10\n",
        "  \n",
        "  \n",
        "# Driver code \n",
        "arr = [170, 45, 75, 90, 802, 24, 2, 66] \n",
        "  \n",
        "# Function Call \n",
        "radixSort(arr) \n",
        "  \n",
        "\n",
        "print(arr)\n",
        "  \n",
        "# This code is contributed by Mohit Kumra \n",
        "# Edited by Patrick Gallagher "
      ]
    },
    {
      "cell_type": "code",
      "execution_count": null,
      "metadata": {
        "id": "TOmvKQBWm6ta",
        "outputId": "dbad42a0-7777-4096-d03c-02e2741f90a1"
      },
      "outputs": [
        {
          "data": {
            "text/plain": [
              "[7765, 3180, 945, 557, 4201]"
            ]
          },
          "execution_count": 44,
          "metadata": {},
          "output_type": "execute_result"
        }
      ],
      "source": [
        "r1k = [random.randint(1,10_000) for n in range(1_000)]\n",
        "r1k[:5]"
      ]
    },
    {
      "cell_type": "code",
      "execution_count": null,
      "metadata": {
        "id": "LL6UBX5nm6ta",
        "outputId": "c0c743ac-4f3f-45f0-80b3-4982190fd31c"
      },
      "outputs": [
        {
          "name": "stdout",
          "output_type": "stream",
          "text": [
            "807 ms ± 22.9 ms per loop (mean ± std. dev. of 7 runs, 1 loop each)\n"
          ]
        }
      ],
      "source": [
        "%%timeit\n",
        "radixSort(r1k)"
      ]
    },
    {
      "cell_type": "code",
      "execution_count": null,
      "metadata": {
        "id": "gfZg2tenm6ta",
        "outputId": "3a46ab1a-4da2-4b50-fb56-fef16c52ea38"
      },
      "outputs": [
        {
          "data": {
            "text/plain": [
              "[2, 7, 11, 23, 35]"
            ]
          },
          "execution_count": 46,
          "metadata": {},
          "output_type": "execute_result"
        }
      ],
      "source": [
        "r1k[:5]"
      ]
    },
    {
      "cell_type": "code",
      "execution_count": null,
      "metadata": {
        "id": "YaJvB1Vhm6ta",
        "outputId": "c1360c40-e68d-43c4-dc1f-656a1792d9e1"
      },
      "outputs": [
        {
          "name": "stdout",
          "output_type": "stream",
          "text": [
            "Sorted character array is [-10, -5, -3, -1, 0, 5, 8, 10]\n"
          ]
        }
      ],
      "source": [
        "# Python program for counting sort \n",
        "# which takes negative numbers as well\n",
        "# so we will need to move the buckets\n",
        " \n",
        "# The function that sorts the given arr[]\n",
        "def count_sort(arr):\n",
        "    max_element = int(max(arr)) # these are linear operations\n",
        "    min_element = int(min(arr))\n",
        "    range_of_elements = max_element - min_element + 1\n",
        "    # Create a count array to store count of individual\n",
        "    # elements and initialize count array as 0\n",
        "    count_arr = [0 for _ in range(range_of_elements)]\n",
        "    output_arr = [0 for _ in range(len(arr))]\n",
        " \n",
        "    # Store count of each character\n",
        "    for i in range(0, len(arr)):\n",
        "        count_arr[arr[i]-min_element] += 1\n",
        " \n",
        "    # Change count_arr[i] so that count_arr[i] now contains actual\n",
        "    # position of this element in output array\n",
        "    for i in range(1, len(count_arr)):\n",
        "        count_arr[i] += count_arr[i-1]\n",
        " \n",
        "    # Build the output character array\n",
        "    for i in range(len(arr)-1, -1, -1):\n",
        "        output_arr[count_arr[arr[i] - min_element] - 1] = arr[i]\n",
        "        count_arr[arr[i] - min_element] -= 1\n",
        " \n",
        "    # Copy the output array to arr, so that arr now\n",
        "    # contains sorted characters\n",
        "    for i in range(0, len(arr)):\n",
        "        arr[i] = output_arr[i]\n",
        " \n",
        "    return arr\n",
        " \n",
        " \n",
        "# Driver program to test above function\n",
        "arr = [-5, -10, 0, -3, 8, 5, -1, 10]\n",
        "ans = count_sort(arr)\n",
        "print(\"Sorted character array is \" + str(ans))"
      ]
    },
    {
      "cell_type": "code",
      "execution_count": null,
      "metadata": {
        "id": "ZORwVbkSm6tb",
        "outputId": "b0dbf4e9-b6d9-4b7e-fc2d-0463fa6eb573"
      },
      "outputs": [
        {
          "name": "stdout",
          "output_type": "stream",
          "text": [
            "4.28 ms ± 80.6 µs per loop (mean ± std. dev. of 7 runs, 100 loops each)\n"
          ]
        }
      ],
      "source": [
        "%%timeit\n",
        "count_sort(r1k)"
      ]
    },
    {
      "cell_type": "code",
      "execution_count": null,
      "metadata": {
        "id": "8ziJ-dDQm6tb",
        "outputId": "6a997b7f-8218-4a12-b01f-6b9d003ea47d"
      },
      "outputs": [
        {
          "data": {
            "text/plain": [
              "[2, 7, 11, 23, 35]"
            ]
          },
          "execution_count": 49,
          "metadata": {},
          "output_type": "execute_result"
        }
      ],
      "source": [
        "r1k[:5]"
      ]
    },
    {
      "cell_type": "code",
      "execution_count": null,
      "metadata": {
        "id": "rDsleV8Mm6tb",
        "outputId": "10724ff4-0ce7-45cc-ed32-466227dba3d8"
      },
      "outputs": [
        {
          "data": {
            "text/plain": [
              "[197150, 507406, 183256, 765344, 236740]"
            ]
          },
          "execution_count": 50,
          "metadata": {},
          "output_type": "execute_result"
        }
      ],
      "source": [
        "r10k[:5]"
      ]
    },
    {
      "cell_type": "code",
      "execution_count": null,
      "metadata": {
        "id": "1RMqHq7um6tb",
        "outputId": "16f24bf4-cc44-4625-c5b3-936932c51484"
      },
      "outputs": [
        {
          "name": "stdout",
          "output_type": "stream",
          "text": [
            "366 ms ± 7.02 ms per loop (mean ± std. dev. of 7 runs, 1 loop each)\n"
          ]
        }
      ],
      "source": [
        "%%timeit\n",
        "count_sort(r10k)"
      ]
    },
    {
      "cell_type": "code",
      "execution_count": null,
      "metadata": {
        "id": "uCpj8cEgm6tb",
        "outputId": "33ac6076-dbcd-49c8-9f96-f5efbdfb1e87"
      },
      "outputs": [
        {
          "data": {
            "text/plain": [
              "[177, 274, 370, 530, 706]"
            ]
          },
          "execution_count": 52,
          "metadata": {},
          "output_type": "execute_result"
        }
      ],
      "source": [
        "r10k[:5]"
      ]
    },
    {
      "cell_type": "code",
      "execution_count": null,
      "metadata": {
        "id": "LFye8hl2m6tc",
        "outputId": "a3715d64-a7ea-4f63-e8ac-5033b460d70b"
      },
      "outputs": [
        {
          "data": {
            "text/plain": [
              "[99241, 79321, 253639, 283493, 497741]"
            ]
          },
          "execution_count": 53,
          "metadata": {},
          "output_type": "execute_result"
        }
      ],
      "source": [
        "random.shuffle(r10k)\n",
        "r10k[:5]"
      ]
    },
    {
      "cell_type": "code",
      "execution_count": null,
      "metadata": {
        "id": "b-pVS6jCm6tc",
        "outputId": "c51c44a9-0028-4d08-dff6-68a760137e8f"
      },
      "outputs": [
        {
          "name": "stdout",
          "output_type": "stream",
          "text": [
            "373 ms ± 20.5 ms per loop (mean ± std. dev. of 7 runs, 1 loop each)\n"
          ]
        }
      ],
      "source": [
        "%%timeit\n",
        "count_sort(r10k)"
      ]
    },
    {
      "cell_type": "code",
      "execution_count": null,
      "metadata": {
        "id": "aeyykNVwm6tc",
        "outputId": "d9fd96fb-8537-4d81-ed1e-edfcd630fdd4"
      },
      "outputs": [
        {
          "data": {
            "text/plain": [
              "[177, 274, 370, 530, 706]"
            ]
          },
          "execution_count": 55,
          "metadata": {},
          "output_type": "execute_result"
        }
      ],
      "source": [
        "r10k[:5]"
      ]
    },
    {
      "cell_type": "code",
      "execution_count": null,
      "metadata": {
        "id": "RsSJSWxjm6tc"
      },
      "outputs": [],
      "source": [
        "# so Bucket, Counting and Radix sorts can theoretically beat O(n log n), but in practice they are less often used, \n",
        "# because they need extra space for the buckets\n",
        "# and they have larger constants\n"
      ]
    },
    {
      "cell_type": "code",
      "execution_count": null,
      "metadata": {
        "id": "hTj7azC6m6tc"
      },
      "outputs": [],
      "source": [
        "# in practice current pragmatic and practial algorithm is Timsort\n",
        "# https://en.wikipedia.org/wiki/Timsort\n",
        "# which uses insertion sort for small number of items and merge sort for larger collections"
      ]
    },
    {
      "cell_type": "code",
      "source": [
        ""
      ],
      "metadata": {
        "id": "jmulZZdb3k2g"
      },
      "execution_count": null,
      "outputs": []
    },
    {
      "cell_type": "markdown",
      "source": [
        "# Stable vs Unstable sort"
      ],
      "metadata": {
        "id": "Px9RN6wh3l3r"
      }
    },
    {
      "cell_type": "code",
      "source": [
        "tuple_list = [(random.randint(1,6), c) for c in \"Riga Technical University\"]\n",
        "tuple_list"
      ],
      "metadata": {
        "id": "bplSqsuv3oXk",
        "outputId": "faf532fb-780d-4c8f-c605-da264fa8f1d7",
        "colab": {
          "base_uri": "https://localhost:8080/"
        }
      },
      "execution_count": 49,
      "outputs": [
        {
          "output_type": "execute_result",
          "data": {
            "text/plain": [
              "[(1, 'R'),\n",
              " (3, 'i'),\n",
              " (2, 'g'),\n",
              " (1, 'a'),\n",
              " (1, ' '),\n",
              " (5, 'T'),\n",
              " (6, 'e'),\n",
              " (3, 'c'),\n",
              " (4, 'h'),\n",
              " (4, 'n'),\n",
              " (4, 'i'),\n",
              " (1, 'c'),\n",
              " (2, 'a'),\n",
              " (6, 'l'),\n",
              " (4, ' '),\n",
              " (2, 'U'),\n",
              " (6, 'n'),\n",
              " (6, 'i'),\n",
              " (5, 'v'),\n",
              " (3, 'e'),\n",
              " (6, 'r'),\n",
              " (3, 's'),\n",
              " (1, 'i'),\n",
              " (5, 't'),\n",
              " (5, 'y')]"
            ]
          },
          "metadata": {},
          "execution_count": 49
        }
      ]
    },
    {
      "cell_type": "code",
      "source": [
        "sorted(tuple_list) # by deafault 2nd key was used as tiebreaker"
      ],
      "metadata": {
        "id": "1BhpsJqc34Xw",
        "outputId": "f284adb5-b89f-4c13-d96b-7886a2086fc6",
        "colab": {
          "base_uri": "https://localhost:8080/"
        }
      },
      "execution_count": 50,
      "outputs": [
        {
          "output_type": "execute_result",
          "data": {
            "text/plain": [
              "[(1, ' '),\n",
              " (1, 'R'),\n",
              " (1, 'a'),\n",
              " (1, 'c'),\n",
              " (1, 'i'),\n",
              " (2, 'U'),\n",
              " (2, 'a'),\n",
              " (2, 'g'),\n",
              " (3, 'c'),\n",
              " (3, 'e'),\n",
              " (3, 'i'),\n",
              " (3, 's'),\n",
              " (4, ' '),\n",
              " (4, 'h'),\n",
              " (4, 'i'),\n",
              " (4, 'n'),\n",
              " (5, 'T'),\n",
              " (5, 't'),\n",
              " (5, 'v'),\n",
              " (5, 'y'),\n",
              " (6, 'e'),\n",
              " (6, 'i'),\n",
              " (6, 'l'),\n",
              " (6, 'n'),\n",
              " (6, 'r')]"
            ]
          },
          "metadata": {},
          "execution_count": 50
        }
      ]
    },
    {
      "cell_type": "code",
      "source": [
        "sorted(tuple_list, key = lambda el: el[1]) # so we primary sort key will be 2nd one\n"
      ],
      "metadata": {
        "id": "g_W6YdLE4L7q",
        "outputId": "cef20371-c9c5-441d-e049-87b76b41ff78",
        "colab": {
          "base_uri": "https://localhost:8080/"
        }
      },
      "execution_count": 51,
      "outputs": [
        {
          "output_type": "execute_result",
          "data": {
            "text/plain": [
              "[(1, ' '),\n",
              " (4, ' '),\n",
              " (1, 'R'),\n",
              " (5, 'T'),\n",
              " (2, 'U'),\n",
              " (1, 'a'),\n",
              " (2, 'a'),\n",
              " (3, 'c'),\n",
              " (1, 'c'),\n",
              " (6, 'e'),\n",
              " (3, 'e'),\n",
              " (2, 'g'),\n",
              " (4, 'h'),\n",
              " (3, 'i'),\n",
              " (4, 'i'),\n",
              " (6, 'i'),\n",
              " (1, 'i'),\n",
              " (6, 'l'),\n",
              " (4, 'n'),\n",
              " (6, 'n'),\n",
              " (6, 'r'),\n",
              " (3, 's'),\n",
              " (5, 't'),\n",
              " (5, 'v'),\n",
              " (5, 'y')]"
            ]
          },
          "metadata": {},
          "execution_count": 51
        }
      ]
    },
    {
      "cell_type": "code",
      "source": [
        "# so certainly looks like built in sorted which is timsort is stable"
      ],
      "metadata": {
        "id": "J4Uk3J644mxE"
      },
      "execution_count": null,
      "outputs": []
    }
  ],
  "metadata": {
    "kernelspec": {
      "display_name": "Python 3",
      "language": "python",
      "name": "python3"
    },
    "language_info": {
      "codemirror_mode": {
        "name": "ipython",
        "version": 3
      },
      "file_extension": ".py",
      "mimetype": "text/x-python",
      "name": "python",
      "nbconvert_exporter": "python",
      "pygments_lexer": "ipython3",
      "version": "3.8.3"
    },
    "colab": {
      "name": "Sorting - Continued.ipynb",
      "provenance": []
    }
  },
  "nbformat": 4,
  "nbformat_minor": 0
}