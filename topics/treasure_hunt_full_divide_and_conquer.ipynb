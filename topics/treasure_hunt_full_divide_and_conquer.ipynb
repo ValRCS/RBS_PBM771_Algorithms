{
  "cells": [
    {
      "cell_type": "markdown",
      "id": "12ff24d5",
      "metadata": {
        "id": "12ff24d5"
      },
      "source": [
        "\n",
        "# 🏝️ Treasure Hunt: Divide and Conquer Example\n",
        "\n",
        "This notebook presents a **real-world style word problem** — the *Treasure Map Puzzle* — that can be solved efficiently using the **Divide and Conquer** approach.  \n",
        "It also explores why other paradigms (Brute Force, Greedy, Dynamic Programming, Backtracking) are *not* as suitable, and finally compares the Divide & Conquer method with a simple Brute Force linear scan.\n"
      ]
    },
    {
      "cell_type": "markdown",
      "id": "cb5ef181",
      "metadata": {
        "id": "cb5ef181"
      },
      "source": [
        "\n",
        "## 🧩 Problem Statement\n",
        "\n",
        "An archaeologist has discovered a huge **satellite image of an island**, represented as an `N x N` grid of terrain elevations.  \n",
        "A buried treasure is hidden at the **lowest elevation point** on the island.\n",
        "\n",
        "Unfortunately:\n",
        "- The file is too large to fit into memory at once.  \n",
        "- Each grid read operation is slow and costly.\n",
        "\n",
        "The archaeologist needs to find the **global minimum elevation** efficiently.\n"
      ]
    },
    {
      "cell_type": "markdown",
      "id": "1e11c2be",
      "metadata": {
        "id": "1e11c2be"
      },
      "source": [
        "\n",
        "## 🎯 Divide & Conquer Approach Identification\n",
        "\n",
        "We want to find a global property (minimum elevation) over a dataset that can be divided into smaller parts.\n",
        "\n",
        "✅ **Divide & Conquer** fits perfectly here:\n",
        "\n",
        "1. **Divide:** Split the grid into four quadrants (NW, NE, SW, SE).  \n",
        "2. **Conquer:** Recursively find the minimum in each quadrant.  \n",
        "3. **Combine:** Take the smallest of the four minima.\n"
      ]
    },
    {
      "cell_type": "code",
      "execution_count": 1,
      "id": "1f8ac77c",
      "metadata": {
        "id": "1f8ac77c",
        "outputId": "17da16fd-6733-44a4-86e2-bcae0c12548e",
        "colab": {
          "base_uri": "https://localhost:8080/"
        }
      },
      "outputs": [
        {
          "output_type": "stream",
          "name": "stdout",
          "text": [
            "Grid (elevations):\n",
            "[42, 35, 28, 31]\n",
            "[38, 33, 22, 27]\n",
            "[48, 40, 30, 29]\n",
            "[55, 49, 25, 20]\n",
            "\n",
            "Lowest elevation found: 20\n"
          ]
        }
      ],
      "source": [
        "\n",
        "def find_min_elevation(grid):\n",
        "    n = len(grid)\n",
        "    if n == 1:\n",
        "        return grid[0][0]\n",
        "\n",
        "    mid = n // 2\n",
        "    quadrants = [\n",
        "        [row[:mid] for row in grid[:mid]],   # NW\n",
        "        [row[mid:] for row in grid[:mid]],   # NE\n",
        "        [row[:mid] for row in grid[mid:]],   # SW\n",
        "        [row[mid:] for row in grid[mid:]]    # SE\n",
        "    ]\n",
        "    minima = [find_min_elevation(q) for q in quadrants]\n",
        "    return min(minima)\n",
        "\n",
        "\n",
        "# Example grid (elevations)\n",
        "grid = [\n",
        "    [42, 35, 28, 31],\n",
        "    [38, 33, 22, 27],\n",
        "    [48, 40, 30, 29],\n",
        "    [55, 49, 25, 20]\n",
        "]\n",
        "\n",
        "print(\"Grid (elevations):\")\n",
        "for row in grid:\n",
        "    print(row)\n",
        "\n",
        "print(\"\\nLowest elevation found:\", find_min_elevation(grid))\n"
      ]
    },
    {
      "cell_type": "markdown",
      "id": "04cb91a9",
      "metadata": {
        "id": "04cb91a9"
      },
      "source": [
        "\n",
        "## 🧮 Complexity Analysis\n",
        "\n",
        "The recurrence relation is:\n",
        "\n",
        "\\[ T(n) = 4T(n/2) + O(1) \\]\n",
        "\n",
        "By the **Master Theorem**,  \n",
        "\\[ T(n) = O(n^2) \\]\n",
        "\n",
        "Although the total time complexity is similar to scanning all cells, this Divide and Conquer version:\n",
        "\n",
        "- Uses less memory at any one time.  \n",
        "- Can be **parallelized** (each quadrant computed independently).  \n",
        "- Makes it easy to run on **distributed systems**.\n"
      ]
    },
    {
      "cell_type": "markdown",
      "id": "255deb5a",
      "metadata": {
        "id": "255deb5a"
      },
      "source": [
        "\n",
        "## 🔍 Applicability of Other Paradigms\n"
      ]
    },
    {
      "cell_type": "code",
      "execution_count": 2,
      "id": "638753a5",
      "metadata": {
        "id": "638753a5",
        "outputId": "01c4998f-c1f5-4586-adcb-944b60b646e4",
        "colab": {
          "base_uri": "https://localhost:8080/",
          "height": 206
        }
      },
      "outputs": [
        {
          "output_type": "execute_result",
          "data": {
            "text/plain": [
              "              Approach Applicable  \\\n",
              "0          Brute Force          ✅   \n",
              "1               Greedy          ❌   \n",
              "2  Dynamic Programming          ❌   \n",
              "3         Backtracking          ❌   \n",
              "4     Divide & Conquer          ✅   \n",
              "\n",
              "                                         Explanation  \n",
              "0       Scan all elements — simple but memory-heavy.  \n",
              "1       No local rule guarantees the global minimum.  \n",
              "2  No overlapping subproblems; each cell is indep...  \n",
              "3          No path or constraint exploration needed.  \n",
              "4  Independent subgrids, easy to combine and para...  "
            ],
            "text/html": [
              "\n",
              "  <div id=\"df-7f9111af-be0b-44b0-a89e-09bcbc07a713\" class=\"colab-df-container\">\n",
              "    <div>\n",
              "<style scoped>\n",
              "    .dataframe tbody tr th:only-of-type {\n",
              "        vertical-align: middle;\n",
              "    }\n",
              "\n",
              "    .dataframe tbody tr th {\n",
              "        vertical-align: top;\n",
              "    }\n",
              "\n",
              "    .dataframe thead th {\n",
              "        text-align: right;\n",
              "    }\n",
              "</style>\n",
              "<table border=\"1\" class=\"dataframe\">\n",
              "  <thead>\n",
              "    <tr style=\"text-align: right;\">\n",
              "      <th></th>\n",
              "      <th>Approach</th>\n",
              "      <th>Applicable</th>\n",
              "      <th>Explanation</th>\n",
              "    </tr>\n",
              "  </thead>\n",
              "  <tbody>\n",
              "    <tr>\n",
              "      <th>0</th>\n",
              "      <td>Brute Force</td>\n",
              "      <td>✅</td>\n",
              "      <td>Scan all elements — simple but memory-heavy.</td>\n",
              "    </tr>\n",
              "    <tr>\n",
              "      <th>1</th>\n",
              "      <td>Greedy</td>\n",
              "      <td>❌</td>\n",
              "      <td>No local rule guarantees the global minimum.</td>\n",
              "    </tr>\n",
              "    <tr>\n",
              "      <th>2</th>\n",
              "      <td>Dynamic Programming</td>\n",
              "      <td>❌</td>\n",
              "      <td>No overlapping subproblems; each cell is indep...</td>\n",
              "    </tr>\n",
              "    <tr>\n",
              "      <th>3</th>\n",
              "      <td>Backtracking</td>\n",
              "      <td>❌</td>\n",
              "      <td>No path or constraint exploration needed.</td>\n",
              "    </tr>\n",
              "    <tr>\n",
              "      <th>4</th>\n",
              "      <td>Divide &amp; Conquer</td>\n",
              "      <td>✅</td>\n",
              "      <td>Independent subgrids, easy to combine and para...</td>\n",
              "    </tr>\n",
              "  </tbody>\n",
              "</table>\n",
              "</div>\n",
              "    <div class=\"colab-df-buttons\">\n",
              "\n",
              "  <div class=\"colab-df-container\">\n",
              "    <button class=\"colab-df-convert\" onclick=\"convertToInteractive('df-7f9111af-be0b-44b0-a89e-09bcbc07a713')\"\n",
              "            title=\"Convert this dataframe to an interactive table.\"\n",
              "            style=\"display:none;\">\n",
              "\n",
              "  <svg xmlns=\"http://www.w3.org/2000/svg\" height=\"24px\" viewBox=\"0 -960 960 960\">\n",
              "    <path d=\"M120-120v-720h720v720H120Zm60-500h600v-160H180v160Zm220 220h160v-160H400v160Zm0 220h160v-160H400v160ZM180-400h160v-160H180v160Zm440 0h160v-160H620v160ZM180-180h160v-160H180v160Zm440 0h160v-160H620v160Z\"/>\n",
              "  </svg>\n",
              "    </button>\n",
              "\n",
              "  <style>\n",
              "    .colab-df-container {\n",
              "      display:flex;\n",
              "      gap: 12px;\n",
              "    }\n",
              "\n",
              "    .colab-df-convert {\n",
              "      background-color: #E8F0FE;\n",
              "      border: none;\n",
              "      border-radius: 50%;\n",
              "      cursor: pointer;\n",
              "      display: none;\n",
              "      fill: #1967D2;\n",
              "      height: 32px;\n",
              "      padding: 0 0 0 0;\n",
              "      width: 32px;\n",
              "    }\n",
              "\n",
              "    .colab-df-convert:hover {\n",
              "      background-color: #E2EBFA;\n",
              "      box-shadow: 0px 1px 2px rgba(60, 64, 67, 0.3), 0px 1px 3px 1px rgba(60, 64, 67, 0.15);\n",
              "      fill: #174EA6;\n",
              "    }\n",
              "\n",
              "    .colab-df-buttons div {\n",
              "      margin-bottom: 4px;\n",
              "    }\n",
              "\n",
              "    [theme=dark] .colab-df-convert {\n",
              "      background-color: #3B4455;\n",
              "      fill: #D2E3FC;\n",
              "    }\n",
              "\n",
              "    [theme=dark] .colab-df-convert:hover {\n",
              "      background-color: #434B5C;\n",
              "      box-shadow: 0px 1px 3px 1px rgba(0, 0, 0, 0.15);\n",
              "      filter: drop-shadow(0px 1px 2px rgba(0, 0, 0, 0.3));\n",
              "      fill: #FFFFFF;\n",
              "    }\n",
              "  </style>\n",
              "\n",
              "    <script>\n",
              "      const buttonEl =\n",
              "        document.querySelector('#df-7f9111af-be0b-44b0-a89e-09bcbc07a713 button.colab-df-convert');\n",
              "      buttonEl.style.display =\n",
              "        google.colab.kernel.accessAllowed ? 'block' : 'none';\n",
              "\n",
              "      async function convertToInteractive(key) {\n",
              "        const element = document.querySelector('#df-7f9111af-be0b-44b0-a89e-09bcbc07a713');\n",
              "        const dataTable =\n",
              "          await google.colab.kernel.invokeFunction('convertToInteractive',\n",
              "                                                    [key], {});\n",
              "        if (!dataTable) return;\n",
              "\n",
              "        const docLinkHtml = 'Like what you see? Visit the ' +\n",
              "          '<a target=\"_blank\" href=https://colab.research.google.com/notebooks/data_table.ipynb>data table notebook</a>'\n",
              "          + ' to learn more about interactive tables.';\n",
              "        element.innerHTML = '';\n",
              "        dataTable['output_type'] = 'display_data';\n",
              "        await google.colab.output.renderOutput(dataTable, element);\n",
              "        const docLink = document.createElement('div');\n",
              "        docLink.innerHTML = docLinkHtml;\n",
              "        element.appendChild(docLink);\n",
              "      }\n",
              "    </script>\n",
              "  </div>\n",
              "\n",
              "\n",
              "    <div id=\"df-68e01301-f6e1-4456-9976-77760af1ba2f\">\n",
              "      <button class=\"colab-df-quickchart\" onclick=\"quickchart('df-68e01301-f6e1-4456-9976-77760af1ba2f')\"\n",
              "                title=\"Suggest charts\"\n",
              "                style=\"display:none;\">\n",
              "\n",
              "<svg xmlns=\"http://www.w3.org/2000/svg\" height=\"24px\"viewBox=\"0 0 24 24\"\n",
              "     width=\"24px\">\n",
              "    <g>\n",
              "        <path d=\"M19 3H5c-1.1 0-2 .9-2 2v14c0 1.1.9 2 2 2h14c1.1 0 2-.9 2-2V5c0-1.1-.9-2-2-2zM9 17H7v-7h2v7zm4 0h-2V7h2v10zm4 0h-2v-4h2v4z\"/>\n",
              "    </g>\n",
              "</svg>\n",
              "      </button>\n",
              "\n",
              "<style>\n",
              "  .colab-df-quickchart {\n",
              "      --bg-color: #E8F0FE;\n",
              "      --fill-color: #1967D2;\n",
              "      --hover-bg-color: #E2EBFA;\n",
              "      --hover-fill-color: #174EA6;\n",
              "      --disabled-fill-color: #AAA;\n",
              "      --disabled-bg-color: #DDD;\n",
              "  }\n",
              "\n",
              "  [theme=dark] .colab-df-quickchart {\n",
              "      --bg-color: #3B4455;\n",
              "      --fill-color: #D2E3FC;\n",
              "      --hover-bg-color: #434B5C;\n",
              "      --hover-fill-color: #FFFFFF;\n",
              "      --disabled-bg-color: #3B4455;\n",
              "      --disabled-fill-color: #666;\n",
              "  }\n",
              "\n",
              "  .colab-df-quickchart {\n",
              "    background-color: var(--bg-color);\n",
              "    border: none;\n",
              "    border-radius: 50%;\n",
              "    cursor: pointer;\n",
              "    display: none;\n",
              "    fill: var(--fill-color);\n",
              "    height: 32px;\n",
              "    padding: 0;\n",
              "    width: 32px;\n",
              "  }\n",
              "\n",
              "  .colab-df-quickchart:hover {\n",
              "    background-color: var(--hover-bg-color);\n",
              "    box-shadow: 0 1px 2px rgba(60, 64, 67, 0.3), 0 1px 3px 1px rgba(60, 64, 67, 0.15);\n",
              "    fill: var(--button-hover-fill-color);\n",
              "  }\n",
              "\n",
              "  .colab-df-quickchart-complete:disabled,\n",
              "  .colab-df-quickchart-complete:disabled:hover {\n",
              "    background-color: var(--disabled-bg-color);\n",
              "    fill: var(--disabled-fill-color);\n",
              "    box-shadow: none;\n",
              "  }\n",
              "\n",
              "  .colab-df-spinner {\n",
              "    border: 2px solid var(--fill-color);\n",
              "    border-color: transparent;\n",
              "    border-bottom-color: var(--fill-color);\n",
              "    animation:\n",
              "      spin 1s steps(1) infinite;\n",
              "  }\n",
              "\n",
              "  @keyframes spin {\n",
              "    0% {\n",
              "      border-color: transparent;\n",
              "      border-bottom-color: var(--fill-color);\n",
              "      border-left-color: var(--fill-color);\n",
              "    }\n",
              "    20% {\n",
              "      border-color: transparent;\n",
              "      border-left-color: var(--fill-color);\n",
              "      border-top-color: var(--fill-color);\n",
              "    }\n",
              "    30% {\n",
              "      border-color: transparent;\n",
              "      border-left-color: var(--fill-color);\n",
              "      border-top-color: var(--fill-color);\n",
              "      border-right-color: var(--fill-color);\n",
              "    }\n",
              "    40% {\n",
              "      border-color: transparent;\n",
              "      border-right-color: var(--fill-color);\n",
              "      border-top-color: var(--fill-color);\n",
              "    }\n",
              "    60% {\n",
              "      border-color: transparent;\n",
              "      border-right-color: var(--fill-color);\n",
              "    }\n",
              "    80% {\n",
              "      border-color: transparent;\n",
              "      border-right-color: var(--fill-color);\n",
              "      border-bottom-color: var(--fill-color);\n",
              "    }\n",
              "    90% {\n",
              "      border-color: transparent;\n",
              "      border-bottom-color: var(--fill-color);\n",
              "    }\n",
              "  }\n",
              "</style>\n",
              "\n",
              "      <script>\n",
              "        async function quickchart(key) {\n",
              "          const quickchartButtonEl =\n",
              "            document.querySelector('#' + key + ' button');\n",
              "          quickchartButtonEl.disabled = true;  // To prevent multiple clicks.\n",
              "          quickchartButtonEl.classList.add('colab-df-spinner');\n",
              "          try {\n",
              "            const charts = await google.colab.kernel.invokeFunction(\n",
              "                'suggestCharts', [key], {});\n",
              "          } catch (error) {\n",
              "            console.error('Error during call to suggestCharts:', error);\n",
              "          }\n",
              "          quickchartButtonEl.classList.remove('colab-df-spinner');\n",
              "          quickchartButtonEl.classList.add('colab-df-quickchart-complete');\n",
              "        }\n",
              "        (() => {\n",
              "          let quickchartButtonEl =\n",
              "            document.querySelector('#df-68e01301-f6e1-4456-9976-77760af1ba2f button');\n",
              "          quickchartButtonEl.style.display =\n",
              "            google.colab.kernel.accessAllowed ? 'block' : 'none';\n",
              "        })();\n",
              "      </script>\n",
              "    </div>\n",
              "\n",
              "  <div id=\"id_d308e2dc-4a9d-4f2b-8b18-54d691bb5e41\">\n",
              "    <style>\n",
              "      .colab-df-generate {\n",
              "        background-color: #E8F0FE;\n",
              "        border: none;\n",
              "        border-radius: 50%;\n",
              "        cursor: pointer;\n",
              "        display: none;\n",
              "        fill: #1967D2;\n",
              "        height: 32px;\n",
              "        padding: 0 0 0 0;\n",
              "        width: 32px;\n",
              "      }\n",
              "\n",
              "      .colab-df-generate:hover {\n",
              "        background-color: #E2EBFA;\n",
              "        box-shadow: 0px 1px 2px rgba(60, 64, 67, 0.3), 0px 1px 3px 1px rgba(60, 64, 67, 0.15);\n",
              "        fill: #174EA6;\n",
              "      }\n",
              "\n",
              "      [theme=dark] .colab-df-generate {\n",
              "        background-color: #3B4455;\n",
              "        fill: #D2E3FC;\n",
              "      }\n",
              "\n",
              "      [theme=dark] .colab-df-generate:hover {\n",
              "        background-color: #434B5C;\n",
              "        box-shadow: 0px 1px 3px 1px rgba(0, 0, 0, 0.15);\n",
              "        filter: drop-shadow(0px 1px 2px rgba(0, 0, 0, 0.3));\n",
              "        fill: #FFFFFF;\n",
              "      }\n",
              "    </style>\n",
              "    <button class=\"colab-df-generate\" onclick=\"generateWithVariable('df')\"\n",
              "            title=\"Generate code using this dataframe.\"\n",
              "            style=\"display:none;\">\n",
              "\n",
              "  <svg xmlns=\"http://www.w3.org/2000/svg\" height=\"24px\"viewBox=\"0 0 24 24\"\n",
              "       width=\"24px\">\n",
              "    <path d=\"M7,19H8.4L18.45,9,17,7.55,7,17.6ZM5,21V16.75L18.45,3.32a2,2,0,0,1,2.83,0l1.4,1.43a1.91,1.91,0,0,1,.58,1.4,1.91,1.91,0,0,1-.58,1.4L9.25,21ZM18.45,9,17,7.55Zm-12,3A5.31,5.31,0,0,0,4.9,8.1,5.31,5.31,0,0,0,1,6.5,5.31,5.31,0,0,0,4.9,4.9,5.31,5.31,0,0,0,6.5,1,5.31,5.31,0,0,0,8.1,4.9,5.31,5.31,0,0,0,12,6.5,5.46,5.46,0,0,0,6.5,12Z\"/>\n",
              "  </svg>\n",
              "    </button>\n",
              "    <script>\n",
              "      (() => {\n",
              "      const buttonEl =\n",
              "        document.querySelector('#id_d308e2dc-4a9d-4f2b-8b18-54d691bb5e41 button.colab-df-generate');\n",
              "      buttonEl.style.display =\n",
              "        google.colab.kernel.accessAllowed ? 'block' : 'none';\n",
              "\n",
              "      buttonEl.onclick = () => {\n",
              "        google.colab.notebook.generateWithVariable('df');\n",
              "      }\n",
              "      })();\n",
              "    </script>\n",
              "  </div>\n",
              "\n",
              "    </div>\n",
              "  </div>\n"
            ],
            "application/vnd.google.colaboratory.intrinsic+json": {
              "type": "dataframe",
              "variable_name": "df",
              "summary": "{\n  \"name\": \"df\",\n  \"rows\": 5,\n  \"fields\": [\n    {\n      \"column\": \"Approach\",\n      \"properties\": {\n        \"dtype\": \"string\",\n        \"num_unique_values\": 5,\n        \"samples\": [\n          \"Greedy\",\n          \"Divide & Conquer\",\n          \"Dynamic Programming\"\n        ],\n        \"semantic_type\": \"\",\n        \"description\": \"\"\n      }\n    },\n    {\n      \"column\": \"Applicable\",\n      \"properties\": {\n        \"dtype\": \"category\",\n        \"num_unique_values\": 2,\n        \"samples\": [\n          \"\\u274c\",\n          \"\\u2705\"\n        ],\n        \"semantic_type\": \"\",\n        \"description\": \"\"\n      }\n    },\n    {\n      \"column\": \"Explanation\",\n      \"properties\": {\n        \"dtype\": \"string\",\n        \"num_unique_values\": 5,\n        \"samples\": [\n          \"No local rule guarantees the global minimum.\",\n          \"Independent subgrids, easy to combine and parallelize.\"\n        ],\n        \"semantic_type\": \"\",\n        \"description\": \"\"\n      }\n    }\n  ]\n}"
            }
          },
          "metadata": {},
          "execution_count": 2
        }
      ],
      "source": [
        "\n",
        "import pandas as pd\n",
        "\n",
        "data = {\n",
        "    'Approach': ['Brute Force', 'Greedy', 'Dynamic Programming', 'Backtracking', 'Divide & Conquer'],\n",
        "    'Applicable': ['✅', '❌', '❌', '❌', '✅'],\n",
        "    'Explanation': [\n",
        "        'Scan all elements — simple but memory-heavy.',\n",
        "        'No local rule guarantees the global minimum.',\n",
        "        'No overlapping subproblems; each cell is independent.',\n",
        "        'No path or constraint exploration needed.',\n",
        "        'Independent subgrids, easy to combine and parallelize.'\n",
        "    ]\n",
        "}\n",
        "\n",
        "df = pd.DataFrame(data)\n",
        "df\n"
      ]
    },
    {
      "cell_type": "markdown",
      "id": "01488b64",
      "metadata": {
        "id": "01488b64"
      },
      "source": [
        "\n",
        "## 💡 Discussion Prompts\n",
        "\n",
        "- Why doesn’t a greedy “go to lowest neighbor” rule guarantee success?  \n",
        "  → It might get stuck in a **local minimum**.\n",
        "\n",
        "- What if accessing each grid cell were *very slow*?  \n",
        "  → We could approximate or sample each quadrant — still Divide & Conquer logic.\n",
        "\n",
        "- How could we parallelize this algorithm?  \n",
        "  → Process each quadrant on a different core or node.\n"
      ]
    },
    {
      "cell_type": "markdown",
      "id": "0786d1c1",
      "metadata": {
        "id": "0786d1c1"
      },
      "source": [
        "\n",
        "## 🧠 Extensions and Variations\n",
        "\n",
        "1. **Median of Terrain Heights:**  \n",
        "   Modify the algorithm to find the *median elevation* instead of the minimum.  \n",
        "   Still a Divide & Conquer structure, but with different combining logic.\n",
        "\n",
        "2. **Maximum Elevation Path:**  \n",
        "   If you must find a path of maximum elevation — overlapping subproblems appear → **Dynamic Programming**.\n",
        "\n",
        "3. **Treasure with Movement Rules:**  \n",
        "   If you can move only in four directions to find the lowest neighbor, it becomes a **Backtracking** problem.\n"
      ]
    },
    {
      "cell_type": "markdown",
      "id": "f7c776d3",
      "metadata": {
        "id": "f7c776d3"
      },
      "source": [
        "\n",
        "## ✅ Summary Table\n",
        "\n",
        "| Paradigm | Fit for Problem | Why |\n",
        "|-----------|----------------|------|\n",
        "| Brute Force | ✅ | Works but inefficient |\n",
        "| Greedy | ❌ | Local minima trap possible |\n",
        "| Dynamic Programming | ❌ | No overlapping subproblems |\n",
        "| Backtracking | ❌ | No path exploration |\n",
        "| Divide & Conquer | ✅ | Independent subgrids, parallelizable |\n"
      ]
    },
    {
      "cell_type": "markdown",
      "id": "780384e1",
      "metadata": {
        "id": "780384e1"
      },
      "source": [
        "\n",
        "# ⚔️ Brute Force vs Divide & Conquer Comparison\n"
      ]
    },
    {
      "cell_type": "markdown",
      "id": "bb9d3b76",
      "metadata": {
        "id": "bb9d3b76"
      },
      "source": [
        "\n",
        "Now, let's compare both approaches on synthetic data to observe their performance and scalability differences.\n"
      ]
    },
    {
      "cell_type": "code",
      "execution_count": 4,
      "id": "b6a0829f",
      "metadata": {
        "id": "b6a0829f"
      },
      "outputs": [],
      "source": [
        "\n",
        "def brute_force_min(grid):\n",
        "    min_val = float('inf')\n",
        "    for row in grid: # so outer loop O(n)\n",
        "        for val in row: # inner loop also O(n) THUS complexity is O(n^2)\n",
        "            if val < min_val:\n",
        "                min_val = val\n",
        "    return min_val\n"
      ]
    },
    {
      "cell_type": "code",
      "execution_count": 5,
      "id": "4097d391",
      "metadata": {
        "id": "4097d391",
        "outputId": "d3dbed11-2428-47e5-ca15-c837a93e6350",
        "colab": {
          "base_uri": "https://localhost:8080/"
        }
      },
      "outputs": [
        {
          "output_type": "stream",
          "name": "stdout",
          "text": [
            "Example 8x8 grid:\n",
            "[6620, 7691, 9941, 557, 8283, 2397, 3882, 2085]\n",
            "[5397, 1592, 866, 4731, 5850, 6696, 2321, 8135]\n",
            "[5732, 4198, 7196, 822, 8667, 9953, 548, 3705]\n",
            "[940, 4765, 648, 765, 8698, 7752, 2098, 6723]\n",
            "[8489, 152, 1122, 4112, 185, 4204, 5525, 7534]\n",
            "[280, 1423, 2988, 2672, 3758, 9628, 4168, 5986]\n",
            "[8427, 7605, 6388, 459, 1304, 2571, 3351, 4956]\n",
            "[8036, 823, 5620, 6980, 8929, 6457, 6748, 4635]\n"
          ]
        }
      ],
      "source": [
        "\n",
        "import random\n",
        "\n",
        "def generate_grid(n, max_val=10000):\n",
        "    return [[random.randint(0, max_val) for _ in range(n)] for _ in range(n)]\n",
        "\n",
        "grid = generate_grid(8)\n",
        "print(\"Example 8x8 grid:\")\n",
        "for row in grid:\n",
        "    print(row)\n"
      ]
    },
    {
      "cell_type": "markdown",
      "id": "12ad8ce1",
      "metadata": {
        "id": "12ad8ce1"
      },
      "source": [
        "## ✅ Correctness Check"
      ]
    },
    {
      "cell_type": "code",
      "execution_count": 6,
      "id": "478f8e55",
      "metadata": {
        "id": "478f8e55",
        "outputId": "9cec5963-3350-4c0e-aa6e-b0100bd45f7e",
        "colab": {
          "base_uri": "https://localhost:8080/"
        }
      },
      "outputs": [
        {
          "output_type": "stream",
          "name": "stdout",
          "text": [
            "Brute Force minimum: 152\n",
            "Divide & Conquer minimum: 152\n"
          ]
        }
      ],
      "source": [
        "\n",
        "bf_min = brute_force_min(grid)\n",
        "dc_min = find_min_elevation(grid)\n",
        "print(f\"Brute Force minimum: {bf_min}\")\n",
        "print(f\"Divide & Conquer minimum: {dc_min}\")\n",
        "assert bf_min == dc_min\n"
      ]
    },
    {
      "cell_type": "markdown",
      "id": "d4c83ac1",
      "metadata": {
        "id": "d4c83ac1"
      },
      "source": [
        "## ⏱️ Timing Comparison"
      ]
    },
    {
      "cell_type": "code",
      "execution_count": 7,
      "id": "4d273f99",
      "metadata": {
        "id": "4d273f99",
        "outputId": "94507ae1-2208-4ac5-d80d-af2b230c52be",
        "colab": {
          "base_uri": "https://localhost:8080/"
        }
      },
      "outputs": [
        {
          "output_type": "stream",
          "name": "stdout",
          "text": [
            "Grid size 32x32:  Brute Force = 0.0001s,  Divide & Conquer = 0.0026s\n",
            "Grid size 64x64:  Brute Force = 0.0003s,  Divide & Conquer = 0.0091s\n",
            "Grid size 128x128:  Brute Force = 0.0010s,  Divide & Conquer = 0.0359s\n",
            "Grid size 256x256:  Brute Force = 0.0039s,  Divide & Conquer = 0.1536s\n",
            "Grid size 512x512:  Brute Force = 0.0163s,  Divide & Conquer = 0.6197s\n",
            "Grid size 1024x1024:  Brute Force = 0.0651s,  Divide & Conquer = 2.6220s\n"
          ]
        }
      ],
      "source": [
        "\n",
        "import timeit\n",
        "\n",
        "for size in [32, 64, 128, 256, 512, 1024]:\n",
        "    grid = generate_grid(size)\n",
        "    bf_time = timeit.timeit(lambda: brute_force_min(grid), number=3)\n",
        "    dc_time = timeit.timeit(lambda: find_min_elevation(grid), number=3)\n",
        "    print(f\"Grid size {size}x{size}:  Brute Force = {bf_time:.4f}s,  Divide & Conquer = {dc_time:.4f}s\")\n"
      ]
    },
    {
      "cell_type": "markdown",
      "id": "f5f602a6",
      "metadata": {
        "id": "f5f602a6"
      },
      "source": [
        "## 📊 Visualizing Performance"
      ]
    },
    {
      "cell_type": "code",
      "execution_count": 13,
      "id": "cc7812dd",
      "metadata": {
        "id": "cc7812dd",
        "outputId": "5742df6c-b0c1-4399-dce7-24264378931d",
        "colab": {
          "base_uri": "https://localhost:8080/",
          "height": 410
        }
      },
      "outputs": [
        {
          "output_type": "display_data",
          "data": {
            "text/plain": [
              "<Figure size 800x400 with 1 Axes>"
            ],
            "image/png": "[encoded data removed]"
          },
          "metadata": {}
        }
      ],
      "source": [
        "\n",
        "import matplotlib.pyplot as plt\n",
        "\n",
        "sizes = [32, 64, 128, 256, 512, 1024, 2048]\n",
        "bf_times = []\n",
        "dc_times = []\n",
        "\n",
        "for n in sizes:\n",
        "    grid = generate_grid(n)\n",
        "    bf_times.append(timeit.timeit(lambda: brute_force_min(grid), number=3))\n",
        "    dc_times.append(timeit.timeit(lambda: find_min_elevation(grid), number=3))\n",
        "\n",
        "plt.figure(figsize=(8, 4))\n",
        "plt.plot(sizes, bf_times, label='Brute Force', marker='o')\n",
        "plt.plot(sizes, dc_times, label='Divide & Conquer', marker='s')\n",
        "plt.xlabel('Grid Size (n x n)')\n",
        "plt.ylabel('Execution Time (seconds)')\n",
        "plt.title('Brute Force vs Divide & Conquer: Finding Minimum Elevation')\n",
        "plt.legend()\n",
        "plt.grid(True)\n",
        "plt.show()\n"
      ]
    },
    {
      "cell_type": "markdown",
      "id": "a4422e80",
      "metadata": {
        "id": "a4422e80"
      },
      "source": [
        "\n",
        "## 💬 Discussion\n",
        "\n",
        "| Factor | Brute Force | Divide & Conquer |\n",
        "|--------|--------------|------------------|\n",
        "| Correctness | ✅ Always correct | ✅ Always correct |\n",
        "| Time Complexity | O(n²) | O(n²) |\n",
        "| Memory Footprint | High (whole grid in memory) | Lower (works on smaller subgrids) |\n",
        "| Parallelization | ❌ Sequential only | ✅ Easily parallelized |\n",
        "| I/O Efficiency | ❌ Poor spatial locality | ✅ Processes contiguous subblocks |\n",
        "| Checkpointing | ❌ None | ✅ Natural recursion checkpoints |\n",
        "\n",
        "Even though both have the same *theoretical* complexity, the **Divide & Conquer** approach can dramatically outperform brute force in large-scale or distributed environments.\n",
        "\n",
        "It also shows how **algorithmic structure** (not just asymptotic complexity) affects *real-world performance*.\n",
        "\n",
        "However our Empirical measurements show, brute force beating Divide and Conquer, could be because of recursive overhead - here these subdivisions could have been handled by separte cores or even distributed systems (other CPUs) however overhead could be significant in transferring data.\n"
      ]
    },
    {
      "cell_type": "code",
      "source": [
        "## TODO explore why the divide and conquer approach has this seemingly extra overhead"
      ],
      "metadata": {
        "id": "6eAlB2tq-sjY"
      },
      "id": "6eAlB2tq-sjY",
      "execution_count": 14,
      "outputs": []
    }
  ],
  "metadata": {
    "kernelspec": {
      "display_name": "venv",
      "language": "python",
      "name": "python3"
    },
    "language_info": {
      "codemirror_mode": {
        "name": "ipython",
        "version": 3
      },
      "file_extension": ".py",
      "mimetype": "text/x-python",
      "name": "python",
      "nbconvert_exporter": "python",
      "pygments_lexer": "ipython3",
      "version": "3.12.6"
    },
    "colab": {
      "provenance": []
    }
  },
  "nbformat": 4,
  "nbformat_minor": 5
}