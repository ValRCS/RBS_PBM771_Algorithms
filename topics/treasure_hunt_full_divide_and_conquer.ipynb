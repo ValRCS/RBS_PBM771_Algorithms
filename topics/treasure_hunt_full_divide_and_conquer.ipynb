{
 "cells": [
  {
   "cell_type": "markdown",
   "id": "12ff24d5",
   "metadata": {},
   "source": [
    "\n",
    "# 🏝️ Treasure Hunt: Divide and Conquer Example\n",
    "\n",
    "This notebook presents a **real-world style word problem** — the *Treasure Map Puzzle* — that can be solved efficiently using the **Divide and Conquer** approach.  \n",
    "It also explores why other paradigms (Brute Force, Greedy, Dynamic Programming, Backtracking) are *not* as suitable, and finally compares the Divide & Conquer method with a simple Brute Force linear scan.\n"
   ]
  },
  {
   "cell_type": "markdown",
   "id": "cb5ef181",
   "metadata": {},
   "source": [
    "\n",
    "## 🧩 Problem Statement\n",
    "\n",
    "An archaeologist has discovered a huge **satellite image of an island**, represented as an `N x N` grid of terrain elevations.  \n",
    "A buried treasure is hidden at the **lowest elevation point** on the island.\n",
    "\n",
    "Unfortunately:\n",
    "- The file is too large to fit into memory at once.  \n",
    "- Each grid read operation is slow and costly.\n",
    "\n",
    "The archaeologist needs to find the **global minimum elevation** efficiently.\n"
   ]
  },
  {
   "cell_type": "markdown",
   "id": "1e11c2be",
   "metadata": {},
   "source": [
    "\n",
    "## 🎯 Divide & Conquer Approach Identification\n",
    "\n",
    "We want to find a global property (minimum elevation) over a dataset that can be divided into smaller parts.\n",
    "\n",
    "✅ **Divide & Conquer** fits perfectly here:\n",
    "\n",
    "1. **Divide:** Split the grid into four quadrants (NW, NE, SW, SE).  \n",
    "2. **Conquer:** Recursively find the minimum in each quadrant.  \n",
    "3. **Combine:** Take the smallest of the four minima.\n"
   ]
  },
  {
   "cell_type": "code",
   "execution_count": 1,
   "id": "1f8ac77c",
   "metadata": {},
   "outputs": [
    {
     "name": "stdout",
     "output_type": "stream",
     "text": [
      "Grid (elevations):\n",
      "[42, 35, 28, 31]\n",
      "[38, 33, 22, 27]\n",
      "[48, 40, 30, 29]\n",
      "[55, 49, 25, 20]\n",
      "\n",
      "Lowest elevation found: 20\n"
     ]
    }
   ],
   "source": [
    "\n",
    "def find_min_elevation(grid):\n",
    "    n = len(grid)\n",
    "    if n == 1:\n",
    "        return grid[0][0]\n",
    "\n",
    "    mid = n // 2\n",
    "    quadrants = [\n",
    "        [row[:mid] for row in grid[:mid]],   # NW\n",
    "        [row[mid:] for row in grid[:mid]],   # NE\n",
    "        [row[:mid] for row in grid[mid:]],   # SW\n",
    "        [row[mid:] for row in grid[mid:]]    # SE\n",
    "    ]\n",
    "    minima = [find_min_elevation(q) for q in quadrants]\n",
    "    return min(minima)\n",
    "\n",
    "\n",
    "# Example grid (elevations)\n",
    "grid = [\n",
    "    [42, 35, 28, 31],\n",
    "    [38, 33, 22, 27],\n",
    "    [48, 40, 30, 29],\n",
    "    [55, 49, 25, 20]\n",
    "]\n",
    "\n",
    "print(\"Grid (elevations):\")\n",
    "for row in grid:\n",
    "    print(row)\n",
    "\n",
    "print(\"\\nLowest elevation found:\", find_min_elevation(grid))\n"
   ]
  },
  {
   "cell_type": "markdown",
   "id": "04cb91a9",
   "metadata": {},
   "source": [
    "\n",
    "## 🧮 Complexity Analysis\n",
    "\n",
    "The recurrence relation is:\n",
    "\n",
    "\\[ T(n) = 4T(n/2) + O(1) \\]\n",
    "\n",
    "By the **Master Theorem**,  \n",
    "\\[ T(n) = O(n^2) \\]\n",
    "\n",
    "Although the total time complexity is similar to scanning all cells, this Divide and Conquer version:\n",
    "\n",
    "- Uses less memory at any one time.  \n",
    "- Can be **parallelized** (each quadrant computed independently).  \n",
    "- Makes it easy to run on **distributed systems**.\n"
   ]
  },
  {
   "cell_type": "markdown",
   "id": "255deb5a",
   "metadata": {},
   "source": [
    "\n",
    "## 🔍 Applicability of Other Paradigms\n"
   ]
  },
  {
   "cell_type": "code",
   "execution_count": 2,
   "id": "638753a5",
   "metadata": {},
   "outputs": [
    {
     "data": {
      "text/html": [
       "<div>\n",
       "<style scoped>\n",
       "    .dataframe tbody tr th:only-of-type {\n",
       "        vertical-align: middle;\n",
       "    }\n",
       "\n",
       "    .dataframe tbody tr th {\n",
       "        vertical-align: top;\n",
       "    }\n",
       "\n",
       "    .dataframe thead th {\n",
       "        text-align: right;\n",
       "    }\n",
       "</style>\n",
       "<table border=\"1\" class=\"dataframe\">\n",
       "  <thead>\n",
       "    <tr style=\"text-align: right;\">\n",
       "      <th></th>\n",
       "      <th>Approach</th>\n",
       "      <th>Applicable</th>\n",
       "      <th>Explanation</th>\n",
       "    </tr>\n",
       "  </thead>\n",
       "  <tbody>\n",
       "    <tr>\n",
       "      <th>0</th>\n",
       "      <td>Brute Force</td>\n",
       "      <td>✅</td>\n",
       "      <td>Scan all elements — simple but memory-heavy.</td>\n",
       "    </tr>\n",
       "    <tr>\n",
       "      <th>1</th>\n",
       "      <td>Greedy</td>\n",
       "      <td>❌</td>\n",
       "      <td>No local rule guarantees the global minimum.</td>\n",
       "    </tr>\n",
       "    <tr>\n",
       "      <th>2</th>\n",
       "      <td>Dynamic Programming</td>\n",
       "      <td>❌</td>\n",
       "      <td>No overlapping subproblems; each cell is indep...</td>\n",
       "    </tr>\n",
       "    <tr>\n",
       "      <th>3</th>\n",
       "      <td>Backtracking</td>\n",
       "      <td>❌</td>\n",
       "      <td>No path or constraint exploration needed.</td>\n",
       "    </tr>\n",
       "    <tr>\n",
       "      <th>4</th>\n",
       "      <td>Divide &amp; Conquer</td>\n",
       "      <td>✅</td>\n",
       "      <td>Independent subgrids, easy to combine and para...</td>\n",
       "    </tr>\n",
       "  </tbody>\n",
       "</table>\n",
       "</div>"
      ],
      "text/plain": [
       "              Approach Applicable  \\\n",
       "0          Brute Force          ✅   \n",
       "1               Greedy          ❌   \n",
       "2  Dynamic Programming          ❌   \n",
       "3         Backtracking          ❌   \n",
       "4     Divide & Conquer          ✅   \n",
       "\n",
       "                                         Explanation  \n",
       "0       Scan all elements — simple but memory-heavy.  \n",
       "1       No local rule guarantees the global minimum.  \n",
       "2  No overlapping subproblems; each cell is indep...  \n",
       "3          No path or constraint exploration needed.  \n",
       "4  Independent subgrids, easy to combine and para...  "
      ]
     },
     "execution_count": 2,
     "metadata": {},
     "output_type": "execute_result"
    }
   ],
   "source": [
    "\n",
    "import pandas as pd\n",
    "\n",
    "data = {\n",
    "    'Approach': ['Brute Force', 'Greedy', 'Dynamic Programming', 'Backtracking', 'Divide & Conquer'],\n",
    "    'Applicable': ['✅', '❌', '❌', '❌', '✅'],\n",
    "    'Explanation': [\n",
    "        'Scan all elements — simple but memory-heavy.',\n",
    "        'No local rule guarantees the global minimum.',\n",
    "        'No overlapping subproblems; each cell is independent.',\n",
    "        'No path or constraint exploration needed.',\n",
    "        'Independent subgrids, easy to combine and parallelize.'\n",
    "    ]\n",
    "}\n",
    "\n",
    "df = pd.DataFrame(data)\n",
    "df\n"
   ]
  },
  {
   "cell_type": "markdown",
   "id": "01488b64",
   "metadata": {},
   "source": [
    "\n",
    "## 💡 Discussion Prompts\n",
    "\n",
    "- Why doesn’t a greedy “go to lowest neighbor” rule guarantee success?  \n",
    "  → It might get stuck in a **local minimum**.\n",
    "\n",
    "- What if accessing each grid cell were *very slow*?  \n",
    "  → We could approximate or sample each quadrant — still Divide & Conquer logic.\n",
    "\n",
    "- How could we parallelize this algorithm?  \n",
    "  → Process each quadrant on a different core or node.\n"
   ]
  },
  {
   "cell_type": "markdown",
   "id": "0786d1c1",
   "metadata": {},
   "source": [
    "\n",
    "## 🧠 Extensions and Variations\n",
    "\n",
    "1. **Median of Terrain Heights:**  \n",
    "   Modify the algorithm to find the *median elevation* instead of the minimum.  \n",
    "   Still a Divide & Conquer structure, but with different combining logic.\n",
    "\n",
    "2. **Maximum Elevation Path:**  \n",
    "   If you must find a path of maximum elevation — overlapping subproblems appear → **Dynamic Programming**.\n",
    "\n",
    "3. **Treasure with Movement Rules:**  \n",
    "   If you can move only in four directions to find the lowest neighbor, it becomes a **Backtracking** problem.\n"
   ]
  },
  {
   "cell_type": "markdown",
   "id": "f7c776d3",
   "metadata": {},
   "source": [
    "\n",
    "## ✅ Summary Table\n",
    "\n",
    "| Paradigm | Fit for Problem | Why |\n",
    "|-----------|----------------|------|\n",
    "| Brute Force | ✅ | Works but inefficient |\n",
    "| Greedy | ❌ | Local minima trap possible |\n",
    "| Dynamic Programming | ❌ | No overlapping subproblems |\n",
    "| Backtracking | ❌ | No path exploration |\n",
    "| Divide & Conquer | ✅ | Independent subgrids, parallelizable |\n"
   ]
  },
  {
   "cell_type": "markdown",
   "id": "780384e1",
   "metadata": {},
   "source": [
    "\n",
    "# ⚔️ Brute Force vs Divide & Conquer Comparison\n"
   ]
  },
  {
   "cell_type": "markdown",
   "id": "bb9d3b76",
   "metadata": {},
   "source": [
    "\n",
    "Now, let's compare both approaches on synthetic data to observe their performance and scalability differences.\n"
   ]
  },
  {
   "cell_type": "code",
   "execution_count": 3,
   "id": "b6a0829f",
   "metadata": {},
   "outputs": [],
   "source": [
    "\n",
    "def brute_force_min(grid):\n",
    "    min_val = float('inf')\n",
    "    for row in grid:\n",
    "        for val in row:\n",
    "            if val < min_val:\n",
    "                min_val = val\n",
    "    return min_val\n"
   ]
  },
  {
   "cell_type": "code",
   "execution_count": 4,
   "id": "4097d391",
   "metadata": {},
   "outputs": [
    {
     "name": "stdout",
     "output_type": "stream",
     "text": [
      "Example 8x8 grid:\n",
      "[419, 4372, 8244, 7909, 7641, 8196, 9852, 3484]\n",
      "[789, 8986, 5960, 5874, 1431, 9353, 6600, 4902]\n",
      "[5553, 1682, 7021, 1448, 1796, 6233, 9514, 5041]\n",
      "[1389, 4555, 8042, 1232, 2642, 682, 1867, 6037]\n",
      "[3323, 9343, 4616, 6821, 5929, 9412, 7245, 4016]\n",
      "[1235, 8238, 6839, 7924, 6756, 9980, 1168, 5419]\n",
      "[2472, 1257, 6910, 3670, 4958, 1553, 8758, 2519]\n",
      "[3699, 4168, 1286, 7989, 1394, 7131, 8842, 102]\n"
     ]
    }
   ],
   "source": [
    "\n",
    "import random\n",
    "\n",
    "def generate_grid(n, max_val=10000):\n",
    "    return [[random.randint(0, max_val) for _ in range(n)] for _ in range(n)]\n",
    "\n",
    "grid = generate_grid(8)\n",
    "print(\"Example 8x8 grid:\")\n",
    "for row in grid:\n",
    "    print(row)\n"
   ]
  },
  {
   "cell_type": "markdown",
   "id": "12ad8ce1",
   "metadata": {},
   "source": [
    "## ✅ Correctness Check"
   ]
  },
  {
   "cell_type": "code",
   "execution_count": 5,
   "id": "478f8e55",
   "metadata": {},
   "outputs": [
    {
     "name": "stdout",
     "output_type": "stream",
     "text": [
      "Brute Force minimum: 102\n",
      "Divide & Conquer minimum: 102\n"
     ]
    }
   ],
   "source": [
    "\n",
    "bf_min = brute_force_min(grid)\n",
    "dc_min = find_min_elevation(grid)\n",
    "print(f\"Brute Force minimum: {bf_min}\")\n",
    "print(f\"Divide & Conquer minimum: {dc_min}\")\n",
    "assert bf_min == dc_min\n"
   ]
  },
  {
   "cell_type": "markdown",
   "id": "d4c83ac1",
   "metadata": {},
   "source": [
    "## ⏱️ Timing Comparison"
   ]
  },
  {
   "cell_type": "code",
   "execution_count": 6,
   "id": "4d273f99",
   "metadata": {},
   "outputs": [
    {
     "name": "stdout",
     "output_type": "stream",
     "text": [
      "Grid size 32x32:  Brute Force = 0.0002s,  Divide & Conquer = 0.0036s\n",
      "Grid size 64x64:  Brute Force = 0.0003s,  Divide & Conquer = 0.0159s\n",
      "Grid size 128x128:  Brute Force = 0.0011s,  Divide & Conquer = 0.0479s\n",
      "Grid size 256x256:  Brute Force = 0.0101s,  Divide & Conquer = 0.1878s\n"
     ]
    }
   ],
   "source": [
    "\n",
    "import timeit\n",
    "\n",
    "for size in [32, 64, 128, 256]:\n",
    "    grid = generate_grid(size)\n",
    "    bf_time = timeit.timeit(lambda: brute_force_min(grid), number=3)\n",
    "    dc_time = timeit.timeit(lambda: find_min_elevation(grid), number=3)\n",
    "    print(f\"Grid size {size}x{size}:  Brute Force = {bf_time:.4f}s,  Divide & Conquer = {dc_time:.4f}s\")\n"
   ]
  },
  {
   "cell_type": "markdown",
   "id": "f5f602a6",
   "metadata": {},
   "source": [
    "## 📊 Visualizing Performance"
   ]
  },
  {
   "cell_type": "code",
   "execution_count": 7,
   "id": "cc7812dd",
   "metadata": {},
   "outputs": [
    {
     "data": {
      "image/png": "[encoded data removed]",
      "text/plain": [
       "<Figure size 800x400 with 1 Axes>"
      ]
     },
     "metadata": {},
     "output_type": "display_data"
    }
   ],
   "source": [
    "\n",
    "import matplotlib.pyplot as plt\n",
    "\n",
    "sizes = [32, 64, 128, 256]\n",
    "bf_times = []\n",
    "dc_times = []\n",
    "\n",
    "for n in sizes:\n",
    "    grid = generate_grid(n)\n",
    "    bf_times.append(timeit.timeit(lambda: brute_force_min(grid), number=3))\n",
    "    dc_times.append(timeit.timeit(lambda: find_min_elevation(grid), number=3))\n",
    "\n",
    "plt.figure(figsize=(8, 4))\n",
    "plt.plot(sizes, bf_times, label='Brute Force', marker='o')\n",
    "plt.plot(sizes, dc_times, label='Divide & Conquer', marker='s')\n",
    "plt.xlabel('Grid Size (n x n)')\n",
    "plt.ylabel('Execution Time (seconds)')\n",
    "plt.title('Brute Force vs Divide & Conquer: Finding Minimum Elevation')\n",
    "plt.legend()\n",
    "plt.grid(True)\n",
    "plt.show()\n"
   ]
  },
  {
   "cell_type": "markdown",
   "id": "a4422e80",
   "metadata": {},
   "source": [
    "\n",
    "## 💬 Discussion\n",
    "\n",
    "| Factor | Brute Force | Divide & Conquer |\n",
    "|--------|--------------|------------------|\n",
    "| Correctness | ✅ Always correct | ✅ Always correct |\n",
    "| Time Complexity | O(n²) | O(n²) |\n",
    "| Memory Footprint | High (whole grid in memory) | Lower (works on smaller subgrids) |\n",
    "| Parallelization | ❌ Sequential only | ✅ Easily parallelized |\n",
    "| I/O Efficiency | ❌ Poor spatial locality | ✅ Processes contiguous subblocks |\n",
    "| Checkpointing | ❌ None | ✅ Natural recursion checkpoints |\n",
    "\n",
    "Even though both have the same *theoretical* complexity, the **Divide & Conquer** approach can dramatically outperform brute force in large-scale or distributed environments.\n",
    "\n",
    "It also shows how **algorithmic structure** (not just asymptotic complexity) affects *real-world performance*.\n"
   ]
  }
 ],
 "metadata": {
  "kernelspec": {
   "display_name": "venv",
   "language": "python",
   "name": "python3"
  },
  "language_info": {
   "codemirror_mode": {
    "name": "ipython",
    "version": 3
   },
   "file_extension": ".py",
   "mimetype": "text/x-python",
   "name": "python",
   "nbconvert_exporter": "python",
   "pygments_lexer": "ipython3",
   "version": "3.12.6"
  }
 },
 "nbformat": 4,
 "nbformat_minor": 5
}
