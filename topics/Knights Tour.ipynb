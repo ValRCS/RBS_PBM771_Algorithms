{
 "cells": [
  {
   "cell_type": "markdown",
   "metadata": {},
   "source": [
    "# Knight's Tour\n",
    "\n",
    "![Knight](https://upload.wikimedia.org/wikipedia/commons/d/da/Knight%27s_tour_anim_2.gif)\n",
    "\n",
    "https://en.wikipedia.org/wiki/Knight%27s_tour"
   ]
  },
  {
   "cell_type": "code",
   "execution_count": 9,
   "metadata": {},
   "outputs": [],
   "source": [
    "# Python3 program to solve Knight Tour problem using Backtracking\n",
    "# adapted from  https://www.geeksforgeeks.org/the-knights-tour-problem-backtracking-1/ \n",
    "# Chessboard Size\n",
    "n = 8\n",
    "\n",
    " \n",
    "def isSafe(x, y, board):\n",
    "    '''\n",
    "        A utility function to check if i,j are valid indexes\n",
    "        for N*N chessboard\n",
    "    '''\n",
    "    if(x >= 0 and y >= 0 and x < n and y < n and board[x][y] == -1):\n",
    "        return True\n",
    "    return False\n",
    "\n",
    " \n",
    "def printSolution(n, board):\n",
    "    '''\n",
    "        A utility function to print Chessboard matrix\n",
    "    '''\n",
    "    for i in range(n):\n",
    "        for j in range(n):\n",
    "            print(board[i][j], end=' ')\n",
    "        print()\n",
    " \n",
    " \n",
    "def solveKT(n, x=0, y=0):\n",
    "    '''\n",
    "        This function solves the Knight Tour problem using\n",
    "        Backtracking. This function mainly uses solveKTUtil()\n",
    "        to solve the problem. It returns false if no complete\n",
    "        tour is possible, otherwise return true and prints the\n",
    "        tour.\n",
    "        Please note that there may be more than one solutions,\n",
    "        this function prints one of the feasible solutions.\n",
    "    '''\n",
    " \n",
    "    # Initialization of Board matrix\n",
    "    board = [[-1 for i in range(n)] for i in range(n)]\n",
    " \n",
    "    # move_x and move_y define next move of Knight.\n",
    "    # move_x is for next value of x coordinate\n",
    "    # move_y is for next value of y coordinate\n",
    "    move_x = [2, 1, -1, -2, -2, -1, 1, 2]\n",
    "    move_y = [1, 2, 2, 1, -1, -2, -2, -1]\n",
    " \n",
    "    # Since the Knight is initially at the first block\n",
    "    board[x][y] = 0\n",
    " \n",
    "    # Step counter for knight's position\n",
    "    pos = 1\n",
    " \n",
    "    # Checking if solution exists or not\n",
    "    if(not solveKTUtil(n, board, 0, 0, move_x, move_y, pos)):\n",
    "        print(\"Solution does not exist\")\n",
    "    else:\n",
    "        printSolution(n, board)\n",
    " \n",
    " \n",
    "def solveKTUtil(n, board, curr_x, curr_y, move_x, move_y, pos):\n",
    "    '''\n",
    "        A recursive utility function to solve Knight Tour\n",
    "        problem\n",
    "    '''\n",
    " \n",
    "    if(pos == n**2):\n",
    "        return True\n",
    " \n",
    "    # Try all next moves from the current coordinate x, y\n",
    "    for i in range(8):\n",
    "        new_x = curr_x + move_x[i]\n",
    "        new_y = curr_y + move_y[i]\n",
    "        if(isSafe(new_x, new_y, board)):\n",
    "            board[new_x][new_y] = pos\n",
    "            if(solveKTUtil(n, board, new_x, new_y, move_x, move_y, pos+1)):\n",
    "                return True\n",
    " \n",
    "            # Backtracking\n",
    "            board[new_x][new_y] = -1\n",
    "    return False\n",
    " \n",
    " # # Driver Code\n",
    "# if __name__ == \"__main__\":\n",
    "     \n",
    "#     # Function Call\n",
    "#     solveKT(n)\n",
    " \n",
    "# This code is contributed by AAKASH PAL"
   ]
  },
  {
   "cell_type": "code",
   "execution_count": 2,
   "metadata": {},
   "outputs": [
    {
     "name": "stdout",
     "output_type": "stream",
     "text": [
      "0 59 38 33 30 17 8 63 \n",
      "37 34 31 60 9 62 29 16 \n",
      "58 1 36 39 32 27 18 7 \n",
      "35 48 41 26 61 10 15 28 \n",
      "42 57 2 49 40 23 6 19 \n",
      "47 50 45 54 25 20 11 14 \n",
      "56 43 52 3 22 13 24 5 \n",
      "51 46 55 44 53 4 21 12 \n"
     ]
    }
   ],
   "source": [
    "solveKT(n) # this was hardcoded to start at 0,0"
   ]
  },
  {
   "cell_type": "code",
   "execution_count": 6,
   "metadata": {},
   "outputs": [
    {
     "name": "stdout",
     "output_type": "stream",
     "text": [
      "0 5 14 9 20 \n",
      "13 8 19 4 15 \n",
      "18 1 6 21 10 \n",
      "7 12 23 16 3 \n",
      "24 17 2 11 22 \n"
     ]
    }
   ],
   "source": [
    "n=5\n",
    "solveKT(5)"
   ]
  },
  {
   "cell_type": "code",
   "execution_count": 7,
   "metadata": {},
   "outputs": [
    {
     "name": "stdout",
     "output_type": "stream",
     "text": [
      "0 15 6 25 10 13 \n",
      "33 24 11 14 5 26 \n",
      "16 1 32 7 12 9 \n",
      "31 34 23 20 27 4 \n",
      "22 17 2 29 8 19 \n",
      "35 30 21 18 3 28 \n"
     ]
    }
   ],
   "source": [
    "n=6\n",
    "solveKT(6)"
   ]
  },
  {
   "cell_type": "code",
   "execution_count": 12,
   "metadata": {},
   "outputs": [
    {
     "name": "stdout",
     "output_type": "stream",
     "text": [
      "Solution does not exist\n"
     ]
    }
   ],
   "source": [
    "n=5\n",
    "solveKT(n, 1, 0)"
   ]
  },
  {
   "cell_type": "code",
   "execution_count": 13,
   "metadata": {},
   "outputs": [
    {
     "name": "stdout",
     "output_type": "stream",
     "text": [
      "Solution does not exist\n"
     ]
    }
   ],
   "source": [
    "n=4\n",
    "solveKT(n, 1, 0)"
   ]
  },
  {
   "cell_type": "code",
   "execution_count": 14,
   "metadata": {},
   "outputs": [
    {
     "name": "stdout",
     "output_type": "stream",
     "text": [
      "Solution does not exist\n"
     ]
    }
   ],
   "source": [
    "n=4\n",
    "solveKT(n, 2, 1)"
   ]
  },
  {
   "cell_type": "markdown",
   "metadata": {},
   "source": [
    "## Key takeaway - simple backtracking fails on large decision trees\n",
    "decision tree for larger n (even 8) is too large to exhaustively search all paths with backtracking(DFS)\n",
    "\n",
    "we would want to add some extra path limiting heuretic such as\n",
    "\n",
    "## Warnsdorff's rule\n",
    " The knight is moved so that it always proceeds to the square from which the knight will have the fewest onward moves."
   ]
  }
 ],
 "metadata": {
  "kernelspec": {
   "display_name": "Python 3",
   "language": "python",
   "name": "python3"
  },
  "language_info": {
   "codemirror_mode": {
    "name": "ipython",
    "version": 3
   },
   "file_extension": ".py",
   "mimetype": "text/x-python",
   "name": "python",
   "nbconvert_exporter": "python",
   "pygments_lexer": "ipython3",
   "version": "3.8.3"
  }
 },
 "nbformat": 4,
 "nbformat_minor": 4
}
