{
  "cells": [
    {
      "cell_type": "code",
      "execution_count": null,
      "metadata": {
        "id": "WuFbt-vipv-o"
      },
      "outputs": [],
      "source": []
    },
    {
      "cell_type": "markdown",
      "metadata": {
        "id": "ExcMhtR_pv-q"
      },
      "source": [
        "# ELIZA - early chatbot\n",
        "\n",
        "ELIZA, developed by Joseph Weizenbaum at MIT in 1964, was one of the first natural language dialogue systems and a precursor to modern chatbots. Named after Eliza Doolittle, a character from George Bernard Shaw's play \"Pygmalion,\" the program aimed to demonstrate the potential for computers to interact with humans using natural language.\n",
        "\n",
        "![Eliza](https://upload.wikimedia.org/wikipedia/en/d/d5/My_fair_lady_poster.jpg)\n",
        "\n",
        "Movie still from \"My Fair Lady\" (1964) - imdb link: [http://www.imdb.com/title/tt0058385/](http://www.imdb.com/title/tt0058385/)\n",
        "\n",
        "ELIZA used pattern matching and substitution techniques to process and respond to user input. The system relied on a set of scripted rules, called scripts, to recognize specific patterns in the text and generate appropriate responses based on those patterns. The most famous script, known as the \"DOCTOR,\" simulated a Rogerian psychotherapist by responding to users' statements with open-ended questions, reflecting the input back to the user, or making general comments to encourage further conversation.\n",
        "\n",
        "For example, if a user typed \"I am feeling sad,\" ELIZA might respond with \"I'm sorry to hear that you are feeling sad. Can you tell me more about it?\" The program gave the illusion of understanding by using simple transformations and substitutions, while in reality, it had no actual comprehension of the input.\n",
        "\n",
        "Despite its limitations, ELIZA was groundbreaking for its time"
      ]
    },
    {
      "cell_type": "markdown",
      "metadata": {
        "id": "E_wzPz28pv-u"
      },
      "source": [
        "## Original Implementation - LISP\n",
        "\n",
        "ELIZA was originally implemented in the programming language LISP, which was commonly used for AI research in the 1960s. The program relied on a set of rules, written in LISP, that allowed it to recognize certain patterns in the user's input and generate appropriate responses.\n",
        "\n",
        "The program used a technique called pattern matching to identify keywords and phrases in the user's input. These keywords were then used to generate responses that mimicked the behavior of a therapist. For example, if the user mentioned feeling sad, ELIZA might respond with a question like \"Why do you feel sad?\"\n",
        "\n",
        "ELIZA was designed to be very simple and flexible, allowing it to handle a wide range of inputs and generate a variety of responses. The program did not actually understand the content of the user's input, but instead relied on a set of pre-defined rules to generate responses that sounded like they were coming from a therapist.\n",
        "\n",
        "Overall, ELIZA's success was due in part to its simplicity and flexibility, which allowed it to generate responses that sounded natural and engaging to users."
      ]
    },
    {
      "cell_type": "markdown",
      "metadata": {
        "id": "H7ysRtgDpv-v"
      },
      "source": [
        "## Our Python implementation"
      ]
    },
    {
      "cell_type": "code",
      "execution_count": 5,
      "metadata": {
        "id": "4QeyIpc6pv-v"
      },
      "outputs": [],
      "source": [
        "import re\n",
        "import random\n",
        "\n",
        "# Define the rules\n",
        "# all the heavy lifting is done by the match_rule() function and regex\n",
        "rules = {\n",
        "    r'I need (.*)': [\n",
        "        'Why do you need {0}?',\n",
        "        'Would it really help you to get {0}?',\n",
        "        'Are you sure you need {0}?'\n",
        "    ],\n",
        "    r'Why don\\'t you (.*)': [\n",
        "        'Do you really think I don\\'t {0}?',\n",
        "        'Perhaps eventually I will {0}.',\n",
        "        'Do you really want me to {0}?'\n",
        "    ],\n",
        "    r'Why can\\'t I (.*)': [\n",
        "        'Do you think you should be able to {0}?',\n",
        "        'If you could {0}, what would you do?',\n",
        "        'I don\\'t know -- why can\\'t you {0}?',\n",
        "        'Have you really tried?'\n",
        "    ],\n",
        "    r\"I can\\'t (.*)\": [\n",
        "    \"How do you know you can't {0}?\",\n",
        "    'Perhaps you could {0} if you tried.',\n",
        "    'What would it take for you to {0}?'\n",
        "    ],\n",
        "    r'I am (.*)': [\n",
        "    'Did you come to me because you are {0}?',\n",
        "    'How long have you been {0}?',\n",
        "    'How do you feel about being {0}?'\n",
        "    ],\n",
        "    r\"I'm (.*)\": [\n",
        "    'How does being {0} make you feel?',\n",
        "    'Do you enjoy being {0}?',\n",
        "    \"Why do you think you're {0}?\"\n",
        "    ],\n",
        "    r'Are you (.*)': [\n",
        "    'Why does it matter whether I am {0}?',\n",
        "    'Would you prefer it if I were not {0}?',\n",
        "    'Perhaps you believe I am {0}.',\n",
        "    'I may be {0} -- what do you think?'\n",
        "    ],\n",
        "    r'(.*)\\?': [\n",
        "    'Why do you ask that?',\n",
        "    'Please consider whether I can answer your question.',\n",
        "    \"What is it you're really asking?\"\n",
        "    ],\n",
        "    r'quit': [\n",
        "    'Thank you for talking with me.',\n",
        "    'Goodbye!',\n",
        "    'I hope to have another conversation soon.'\n",
        "    ],\n",
        "    r'(.*)': [\n",
        "    'Please tell me more.',\n",
        "    \"Let's change focus a bit... Tell me about your family.\",\n",
        "    'Can you elaborate on that?',\n",
        "    'Why do you say that {0}?',\n",
        "    'I see.',\n",
        "    'Very interesting.'\n",
        "    ]\n",
        "}\n",
        "\n",
        "def match_rule(rules, message):\n",
        "    response, phrase = None, None\n",
        "\n",
        "    # Iterate over the rules dict\n",
        "    for pattern, responses in rules.items():\n",
        "        # Match the pattern\n",
        "        match = re.match(pattern, message)\n",
        "\n",
        "        if match is not None:\n",
        "            response = random.choice(responses)\n",
        "            if '{0}' in response:\n",
        "                phrase = match.group(1)\n",
        "            break\n",
        "\n",
        "    return response.format(phrase) if response and phrase else response\n",
        "\n",
        "def eliza():\n",
        "    print('Therapist\\n---------')\n",
        "    print('Talk to the automated therapist. Type \"quit\" to end the conversation.')\n",
        "\n",
        "    while True:\n",
        "        message = input('You: ')\n",
        "        if message.lower() == 'quit':\n",
        "            break\n",
        "\n",
        "        response = match_rule(rules, message)\n",
        "        print(f'ELIZA: {response}')\n",
        "\n"
      ]
    },
    {
      "cell_type": "code",
      "execution_count": 6,
      "metadata": {
        "id": "qN89T82bpv-x",
        "outputId": "7e48792e-1ff7-4639-eeb8-f63a3e3d3f10",
        "colab": {
          "base_uri": "https://localhost:8080/"
        }
      },
      "outputs": [
        {
          "name": "stdout",
          "output_type": "stream",
          "text": [
            "Therapist\n",
            "---------\n",
            "Talk to the automated therapist. Type \"quit\" to end the conversation.\n",
            "You: Ok lets rock\n",
            "ELIZA: Please tell me more.\n",
            "You: I am talking about a rock\n",
            "ELIZA: How long have you been talking about a rock?\n",
            "You: Oh for about 10 years\n",
            "ELIZA: Very interesting.\n",
            "You: Not really, are you completely insane?\n",
            "ELIZA: Why do you ask that?\n",
            "You: I am just bored\n",
            "ELIZA: How long have you been just bored?\n",
            "You: quit\n"
          ]
        }
      ],
      "source": [
        "# let's chat\n",
        "eliza()"
      ]
    },
    {
      "cell_type": "markdown",
      "metadata": {
        "id": "ZISgXOmmpv-z"
      },
      "source": [
        "## Limitations of ELIZA\n",
        "\n",
        "ELIZA was rules-based, which meant that it could only respond to a limited number of inputs. It was also limited by the fact that it could only respond to the user's input in the form of a single sentence. If the user typed more than one sentence, ELIZA would only respond to the first sentence. ELIZA also had no memory, so it could not build on previous conversations.\n",
        "\n",
        "### Human and computer communication\n",
        "\n",
        "Despite the limitations of ELIZA, it was groundbreaking for its time. It demonstrated that computers could be used to simulate human conversation. ELIZA also demonstrated that computers could be used to process natural language, which was a major step forward in the development of artificial intelligence.\n",
        "\n",
        "Some human users reported feeling that they were having a real conversation with ELIZA, and some even became emotionally attached to the program. However, others were skeptical of ELIZA's ability to understand them, and some even became frustrated by the program's inability to respond to their input."
      ]
    },
    {
      "cell_type": "markdown",
      "metadata": {
        "id": "PEtqAL0Epv-z"
      },
      "source": [
        "## Modern Chatbots\n",
        "\n",
        "Modern successors to ELIZA include chatbots and virtual assistants, which are widely used in various applications such as customer service, personal assistance, and education. These systems use natural language processing (NLP) and machine learning (ML) techniques to understand and respond to user queries and requests.\n",
        "\n",
        "Some examples of modern chatbot platforms include:\n",
        "\n",
        "Dialogflow by Google: This platform allows developers to build conversational agents that can understand natural language queries and generate responses based on predefined intents and entities.\n",
        "\n",
        "* Microsoft Bot Framework: This platform provides a framework for building and deploying chatbots across various messaging platforms, such as Facebook Messenger, Slack, and Skype.\n",
        "\n",
        "* Amazon Lex: This platform allows developers to build chatbots that can interact with users through text or voice. It also supports integration with various Amazon Web Services (AWS) such as Lambda, S3, and DynamoDB.\n",
        "\n",
        "* IBM Watson Assistant: This platform allows businesses to build and deploy chatbots that can understand natural language queries, integrate with external systems, and learn from user interactions over time.\n",
        "\n",
        "Overall, modern chatbots and virtual assistants have advanced significantly beyond ELIZA's capabilities, with more advanced NLP and ML techniques that enable them to understand user intent, generate more accurate responses, and learn from user interactions over time."
      ]
    },
    {
      "cell_type": "markdown",
      "metadata": {
        "id": "WYM0dtZVpv-0"
      },
      "source": [
        "## Future of Chatbots\n",
        "\n",
        "The future of chatbots and virtual assistants is bright. As more businesses and organizations adopt these technologies, they will become more advanced and capable of handling more complex tasks. In the future, chatbots and virtual assistants may be able to perform tasks such as scheduling appointments, making purchases, and even handling customer service inquiries.\n",
        "\n",
        "## References\n",
        "\n",
        "* [https://en.wikipedia.org/wiki/ELIZA](https://en.wikipedia.org/wiki/ELIZA)\n",
        "* [Vox article on ELIZA](https://www.vox.com/future-perfect/23617185/ai-chatbots-eliza-chatgpt-bing-sydney-artificial-intelligence-history)\n",
        "* [Live ELIZA demo](https://web.njit.edu/~ronkowit/eliza.html)"
      ]
    }
  ],
  "metadata": {
    "kernelspec": {
      "display_name": "Python 3",
      "language": "python",
      "name": "python3"
    },
    "language_info": {
      "codemirror_mode": {
        "name": "ipython",
        "version": 3
      },
      "file_extension": ".py",
      "mimetype": "text/x-python",
      "name": "python",
      "nbconvert_exporter": "python",
      "pygments_lexer": "ipython3",
      "version": "3.10.7"
    },
    "orig_nbformat": 4,
    "colab": {
      "provenance": []
    }
  },
  "nbformat": 4,
  "nbformat_minor": 0
}