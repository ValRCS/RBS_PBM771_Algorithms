{
 "cells": [
  {
   "cell_type": "markdown",
   "metadata": {},
   "source": [
    "# Bellman-Ford Algorithm\n",
    "\n",
    "Invented by Richard Bellman and Lester Ford in 1950s, the Bellman-Ford algorithm is used to find the shortest path from a source vertex to all other vertices in a weighted graph. It is slower than Dijkstra's algorithm, but it is more versatile, as it is capable of handling graphs with **negative** edge weights.\n",
    "\n",
    "Src: [Wikipedia](https://en.wikipedia.org/wiki/Bellman%E2%80%93Ford_algorithm)\n",
    "\n",
    "## Algorithm\n",
    "\n",
    "The algorithm works by relaxing all the edges in the graph `|V| - 1` times, where `|V|` is the number of vertices in the graph. The relaxation process involves checking if the distance to a vertex `v` can be shortened by taking the edge `(u, v)`.\n",
    "\n",
    "The algorithm also checks for negative cycles in the graph. A negative cycle is a cycle whose total weight is negative. If a negative cycle is found, the algorithm returns `False`, as the shortest path to some vertices is undefined."
   ]
  },
  {
   "cell_type": "code",
   "execution_count": 2,
   "metadata": {},
   "outputs": [],
   "source": [
    "# let's implement Bellman Ford algorithm\n",
    "# our function with take a graph and a source vertex and return the shortest path from the source to all other vertices\n",
    "# our graph will be stored as dictionary of keys being tuples of vertices and values being the weight of the edge\n",
    "# a list of vertices would be nice but not strictly necessary as we can retrieve the vertices from the dictionary\n",
    "# we will also return a boolean value indicating if there is a negative cycle in the graph\n",
    "\n",
    "def bellman_form(edge_dict, source, debug=False):\n",
    "    # first let's extract all vertices from edge_dict, each vertex will appear at least once in the dictionary\n",
    "    vertices = set()\n",
    "    for edge in edge_dict:\n",
    "        vertices.add(edge[0])\n",
    "        vertices.add(edge[1])\n",
    "\n",
    "    # here we could check if sources actually is in the graph and early return\n",
    "    if source not in vertices:\n",
    "        print(f\"ooops! {source} is not in the graph\")\n",
    "        return None\n",
    "\n",
    "    # first we need to initialize the distance to all vertices to be infinity except the source which is 0\n",
    "    distance = {}\n",
    "    for vertex in vertices:\n",
    "        distance[vertex] = float('inf')\n",
    "    distance[source] = 0\n",
    "    # we also need to initialize the predecessor of all vertices to be None\n",
    "    # we will use this to build the shortest path from the source to any vertex\n",
    "    predecessor = {}\n",
    "    for vertex in vertices:\n",
    "        predecessor[vertex] = None\n",
    "        # no need to set the predecessor of the source to None as it is already None\n",
    "    # we need to iterate over all the edges in the graph and update the distance and predecessor of each vertex\n",
    "    for it in range(len(vertices) - 1): # maximum hops to reach any vertex is the number of vertices - 1\n",
    "        if debug:\n",
    "            print(f\"iteration {it}\")\n",
    "        for (s,t), w in edge_dict.items():\n",
    "            if distance[t] > distance[s] + w:\n",
    "                # means we found a shorter path to t through s\n",
    "                distance[t] = distance[s] + w\n",
    "                predecessor[t] = s\n",
    "    # now we need to check for negative cycles # the end\n",
    "    for (s,t), w in edge_dict.items():\n",
    "        if distance[t] > distance[s] + w:\n",
    "            # means we found a shorter path to t through s\n",
    "            print(f\"ooops! negative cycle detected in the graph! {t} can be reached from {s} with a total weight of {distance[s] + w} which is less than {distance[t]}\")\n",
    "            return (distance, predecessor, True)\n",
    "    return (distance, predecessor, False)"
   ]
  },
  {
   "cell_type": "code",
   "execution_count": 3,
   "metadata": {},
   "outputs": [
    {
     "name": "stdout",
     "output_type": "stream",
     "text": [
      "({'d': 3, 'b': -7, 'a': 0, 'c': 7, 'e': -9}, {'d': 'a', 'b': 'd', 'a': None, 'c': 'a', 'e': 'b'}, False)\n"
     ]
    }
   ],
   "source": [
    "# so let's build a dictionary to represent the graph\n",
    "# with vertices a,b,c,d,e\n",
    "g_dict = {\n",
    "    ('a', 'b'): 6,\n",
    "    ('a', 'c'): 7,\n",
    "    ('a', 'd'): 3,\n",
    "    ('c', 'b'): 5,\n",
    "    ('c', 'd'): 4,\n",
    "    ('d', 'b'): -10,\n",
    "    ('d', 'e'): 8,\n",
    "    ('b', 'e'): -2\n",
    "}\n",
    "# now let's set source to a and call our function\n",
    "source = 'a'\n",
    "result = bellman_form(g_dict, source)\n",
    "print(result)"
   ]
  },
  {
   "cell_type": "code",
   "execution_count": 4,
   "metadata": {},
   "outputs": [
    {
     "name": "stdout",
     "output_type": "stream",
     "text": [
      "['a', 'd', 'b', 'e']\n"
     ]
    }
   ],
   "source": [
    "# TODO add print path function\n",
    "def print_path(s,t, result, debug=False):\n",
    "    distance, predecessor, negative_cycle = result\n",
    "    if negative_cycle:\n",
    "        print(f\"ooops! negative cycle detected in the graph! {t} can be reached from {s} with a total weight of {distance[s] + w} which is less than {distance[t]}\")\n",
    "        return None\n",
    "    path = []\n",
    "    while t != s:\n",
    "        path.append(t)\n",
    "        t = predecessor[t]\n",
    "    path.append(s)\n",
    "    path.reverse()\n",
    "    if debug:\n",
    "        # print costs for each step\n",
    "        for step in path:\n",
    "            print(f\"step: {step}, cost: {distance[step]}\")\n",
    "    return path\n",
    "\n",
    "# let's test our print_path function\n",
    "print(print_path('a', 'e', result))"
   ]
  },
  {
   "cell_type": "code",
   "execution_count": null,
   "metadata": {},
   "outputs": [],
   "source": []
  },
  {
   "cell_type": "code",
   "execution_count": 5,
   "metadata": {},
   "outputs": [
    {
     "name": "stdout",
     "output_type": "stream",
     "text": [
      "step: a, cost: 0\n",
      "step: d, cost: 3\n",
      "step: b, cost: -7\n",
      "step: e, cost: -9\n",
      "['a', 'd', 'b', 'e']\n"
     ]
    }
   ],
   "source": [
    "# print with debug\n",
    "print(print_path('a', 'e', result, debug=True))"
   ]
  },
  {
   "cell_type": "code",
   "execution_count": 6,
   "metadata": {},
   "outputs": [
    {
     "name": "stdout",
     "output_type": "stream",
     "text": [
      "(('SP', 'AR'), 2)\n",
      "(('SP', 'O1'), 5)\n",
      "(('AR', 'O1'), -2)\n",
      "(('AR', 'NC'), 4)\n",
      "(('O1', 'NC'), 2)\n",
      "(('O1', 'O2'), 3)\n",
      "(('O2', 'LCZ'), -1)\n",
      "(('NC', 'O2'), 2)\n",
      "(('NC', 'LCZ'), 3)\n"
     ]
    }
   ],
   "source": [
    "# let's convert Adjacenty list into edge list\n",
    "Graph = {\n",
    "    \"SP\": {\"AR\": 2, \"O1\": 5},\n",
    "    \"AR\": {\"O1\": -2, \"NC\": 4},\n",
    "    \"O1\": {\"NC\": 2, \"O2\": 3},\n",
    "    \"O2\": {\"LCZ\": -1},\n",
    "    \"NC\": {\"O2\": 2, \"LCZ\": 3},\n",
    "    \"LCZ\": {}\n",
    "}\n",
    "\n",
    "edge_list = {}\n",
    "for vertex in Graph:\n",
    "    for neighbor, weight in Graph[vertex].items():\n",
    "        edge_list[(vertex, neighbor)] = weight\n",
    "\n",
    "print(*edge_list.items(), sep=\"\\n\")"
   ]
  },
  {
   "cell_type": "code",
   "execution_count": 7,
   "metadata": {},
   "outputs": [
    {
     "name": "stdout",
     "output_type": "stream",
     "text": [
      "step: SP, cost: 0\n",
      "step: AR, cost: 2\n",
      "step: O1, cost: 0\n",
      "step: O2, cost: 3\n",
      "step: LCZ, cost: 2\n",
      "['SP', 'AR', 'O1', 'O2', 'LCZ']\n"
     ]
    }
   ],
   "source": [
    "# let's find our shortest path from SP to LCZ\n",
    "result = bellman_form(edge_list, \"SP\")\n",
    "print(print_path(\"SP\", \"LCZ\", result, debug=True))"
   ]
  },
  {
   "cell_type": "markdown",
   "metadata": {},
   "source": [
    "## Converting edge list to adjacency matrix"
   ]
  },
  {
   "cell_type": "code",
   "execution_count": 8,
   "metadata": {},
   "outputs": [
    {
     "name": "stdout",
     "output_type": "stream",
     "text": [
      "SP -> {'SP': 0, 'LCZ': inf, 'NC': inf, 'O1': 5, 'O2': inf, 'AR': 2}\n",
      "LCZ -> {'SP': inf, 'LCZ': 0, 'NC': inf, 'O1': inf, 'O2': inf, 'AR': inf}\n",
      "NC -> {'SP': inf, 'LCZ': 3, 'NC': 0, 'O1': inf, 'O2': 2, 'AR': inf}\n",
      "O1 -> {'SP': inf, 'LCZ': inf, 'NC': 2, 'O1': 0, 'O2': 3, 'AR': inf}\n",
      "O2 -> {'SP': inf, 'LCZ': -1, 'NC': inf, 'O1': inf, 'O2': 0, 'AR': inf}\n",
      "AR -> {'SP': inf, 'LCZ': inf, 'NC': 4, 'O1': -2, 'O2': inf, 'AR': 0}\n"
     ]
    }
   ],
   "source": [
    "# let's convert edge list to adjacency matrix\n",
    "# first let's get the vertices\n",
    "vertices = set()\n",
    "for edge in edge_list:\n",
    "    vertices.add(edge[0])\n",
    "    vertices.add(edge[1])\n",
    "\n",
    "# let's initialize the adjacency matrix\n",
    "adj_matrix = {}\n",
    "for vertex in vertices:\n",
    "    adj_matrix[vertex] = {}\n",
    "    for neighbor in vertices:\n",
    "        adj_matrix[vertex][neighbor] = float('inf')\n",
    "    # initialize the diagonal to 0\n",
    "    adj_matrix[vertex][vertex] = 0\n",
    "\n",
    "# let's fill the adjacency matrix\n",
    "for (s,t), w in edge_list.items():\n",
    "    adj_matrix[s][t] = w\n",
    "\n",
    "# let's print the adjacency matrix\n",
    "for vertex in vertices:\n",
    "    print(f\"{vertex} -> {adj_matrix[vertex]}\")\n",
    "    "
   ]
  },
  {
   "cell_type": "code",
   "execution_count": 9,
   "metadata": {},
   "outputs": [],
   "source": [
    "# let's convert our adj_matrix to pandas dataframe\n",
    "import pandas as pd\n",
    "df = pd.DataFrame(adj_matrix)"
   ]
  },
  {
   "cell_type": "code",
   "execution_count": 10,
   "metadata": {},
   "outputs": [
    {
     "data": {
      "text/html": [
       "<div>\n",
       "<style scoped>\n",
       "    .dataframe tbody tr th:only-of-type {\n",
       "        vertical-align: middle;\n",
       "    }\n",
       "\n",
       "    .dataframe tbody tr th {\n",
       "        vertical-align: top;\n",
       "    }\n",
       "\n",
       "    .dataframe thead th {\n",
       "        text-align: right;\n",
       "    }\n",
       "</style>\n",
       "<table border=\"1\" class=\"dataframe\">\n",
       "  <thead>\n",
       "    <tr style=\"text-align: right;\">\n",
       "      <th></th>\n",
       "      <th>SP</th>\n",
       "      <th>LCZ</th>\n",
       "      <th>NC</th>\n",
       "      <th>O1</th>\n",
       "      <th>O2</th>\n",
       "      <th>AR</th>\n",
       "    </tr>\n",
       "  </thead>\n",
       "  <tbody>\n",
       "    <tr>\n",
       "      <th>SP</th>\n",
       "      <td>0.0</td>\n",
       "      <td>inf</td>\n",
       "      <td>inf</td>\n",
       "      <td>inf</td>\n",
       "      <td>inf</td>\n",
       "      <td>inf</td>\n",
       "    </tr>\n",
       "    <tr>\n",
       "      <th>LCZ</th>\n",
       "      <td>inf</td>\n",
       "      <td>0.0</td>\n",
       "      <td>3.0</td>\n",
       "      <td>inf</td>\n",
       "      <td>-1.0</td>\n",
       "      <td>inf</td>\n",
       "    </tr>\n",
       "    <tr>\n",
       "      <th>NC</th>\n",
       "      <td>inf</td>\n",
       "      <td>inf</td>\n",
       "      <td>0.0</td>\n",
       "      <td>2.0</td>\n",
       "      <td>inf</td>\n",
       "      <td>4.0</td>\n",
       "    </tr>\n",
       "    <tr>\n",
       "      <th>O1</th>\n",
       "      <td>5.0</td>\n",
       "      <td>inf</td>\n",
       "      <td>inf</td>\n",
       "      <td>0.0</td>\n",
       "      <td>inf</td>\n",
       "      <td>-2.0</td>\n",
       "    </tr>\n",
       "    <tr>\n",
       "      <th>O2</th>\n",
       "      <td>inf</td>\n",
       "      <td>inf</td>\n",
       "      <td>2.0</td>\n",
       "      <td>3.0</td>\n",
       "      <td>0.0</td>\n",
       "      <td>inf</td>\n",
       "    </tr>\n",
       "    <tr>\n",
       "      <th>AR</th>\n",
       "      <td>2.0</td>\n",
       "      <td>inf</td>\n",
       "      <td>inf</td>\n",
       "      <td>inf</td>\n",
       "      <td>inf</td>\n",
       "      <td>0.0</td>\n",
       "    </tr>\n",
       "  </tbody>\n",
       "</table>\n",
       "</div>"
      ],
      "text/plain": [
       "      SP  LCZ   NC   O1   O2   AR\n",
       "SP   0.0  inf  inf  inf  inf  inf\n",
       "LCZ  inf  0.0  3.0  inf -1.0  inf\n",
       "NC   inf  inf  0.0  2.0  inf  4.0\n",
       "O1   5.0  inf  inf  0.0  inf -2.0\n",
       "O2   inf  inf  2.0  3.0  0.0  inf\n",
       "AR   2.0  inf  inf  inf  inf  0.0"
      ]
     },
     "execution_count": 10,
     "metadata": {},
     "output_type": "execute_result"
    }
   ],
   "source": [
    "df # this matrix approach would be more suitable for dense graphs\n",
    "# and also for graphs with weighted edges"
   ]
  },
  {
   "cell_type": "code",
   "execution_count": 11,
   "metadata": {},
   "outputs": [
    {
     "data": {
      "text/html": [
       "<div>\n",
       "<style scoped>\n",
       "    .dataframe tbody tr th:only-of-type {\n",
       "        vertical-align: middle;\n",
       "    }\n",
       "\n",
       "    .dataframe tbody tr th {\n",
       "        vertical-align: top;\n",
       "    }\n",
       "\n",
       "    .dataframe thead th {\n",
       "        text-align: right;\n",
       "    }\n",
       "</style>\n",
       "<table border=\"1\" class=\"dataframe\">\n",
       "  <thead>\n",
       "    <tr style=\"text-align: right;\">\n",
       "      <th></th>\n",
       "      <th>SP</th>\n",
       "      <th>LCZ</th>\n",
       "      <th>NC</th>\n",
       "      <th>O1</th>\n",
       "      <th>O2</th>\n",
       "      <th>AR</th>\n",
       "    </tr>\n",
       "  </thead>\n",
       "  <tbody>\n",
       "    <tr>\n",
       "      <th>SP</th>\n",
       "      <td>0.0</td>\n",
       "      <td>inf</td>\n",
       "      <td>inf</td>\n",
       "      <td>5.0</td>\n",
       "      <td>inf</td>\n",
       "      <td>2.0</td>\n",
       "    </tr>\n",
       "    <tr>\n",
       "      <th>LCZ</th>\n",
       "      <td>inf</td>\n",
       "      <td>0.0</td>\n",
       "      <td>inf</td>\n",
       "      <td>inf</td>\n",
       "      <td>inf</td>\n",
       "      <td>inf</td>\n",
       "    </tr>\n",
       "    <tr>\n",
       "      <th>NC</th>\n",
       "      <td>inf</td>\n",
       "      <td>3.0</td>\n",
       "      <td>0.0</td>\n",
       "      <td>inf</td>\n",
       "      <td>2.0</td>\n",
       "      <td>inf</td>\n",
       "    </tr>\n",
       "    <tr>\n",
       "      <th>O1</th>\n",
       "      <td>inf</td>\n",
       "      <td>inf</td>\n",
       "      <td>2.0</td>\n",
       "      <td>0.0</td>\n",
       "      <td>3.0</td>\n",
       "      <td>inf</td>\n",
       "    </tr>\n",
       "    <tr>\n",
       "      <th>O2</th>\n",
       "      <td>inf</td>\n",
       "      <td>-1.0</td>\n",
       "      <td>inf</td>\n",
       "      <td>inf</td>\n",
       "      <td>0.0</td>\n",
       "      <td>inf</td>\n",
       "    </tr>\n",
       "    <tr>\n",
       "      <th>AR</th>\n",
       "      <td>inf</td>\n",
       "      <td>inf</td>\n",
       "      <td>4.0</td>\n",
       "      <td>-2.0</td>\n",
       "      <td>inf</td>\n",
       "      <td>0.0</td>\n",
       "    </tr>\n",
       "  </tbody>\n",
       "</table>\n",
       "</div>"
      ],
      "text/plain": [
       "      SP  LCZ   NC   O1   O2   AR\n",
       "SP   0.0  inf  inf  5.0  inf  2.0\n",
       "LCZ  inf  0.0  inf  inf  inf  inf\n",
       "NC   inf  3.0  0.0  inf  2.0  inf\n",
       "O1   inf  inf  2.0  0.0  3.0  inf\n",
       "O2   inf -1.0  inf  inf  0.0  inf\n",
       "AR   inf  inf  4.0 -2.0  inf  0.0"
      ]
     },
     "execution_count": 11,
     "metadata": {},
     "output_type": "execute_result"
    }
   ],
   "source": [
    "# actually a transposition would be more natural because we want\n",
    "# each row to represent the source vertex and each column to represent the target vertex\n",
    "df = df.T\n",
    "df"
   ]
  },
  {
   "cell_type": "code",
   "execution_count": 12,
   "metadata": {},
   "outputs": [
    {
     "data": {
      "text/html": [
       "<div>\n",
       "<style scoped>\n",
       "    .dataframe tbody tr th:only-of-type {\n",
       "        vertical-align: middle;\n",
       "    }\n",
       "\n",
       "    .dataframe tbody tr th {\n",
       "        vertical-align: top;\n",
       "    }\n",
       "\n",
       "    .dataframe thead th {\n",
       "        text-align: right;\n",
       "    }\n",
       "</style>\n",
       "<table border=\"1\" class=\"dataframe\">\n",
       "  <thead>\n",
       "    <tr style=\"text-align: right;\">\n",
       "      <th></th>\n",
       "      <th>SP</th>\n",
       "      <th>AR</th>\n",
       "      <th>O1</th>\n",
       "      <th>O2</th>\n",
       "      <th>NC</th>\n",
       "      <th>LCZ</th>\n",
       "    </tr>\n",
       "  </thead>\n",
       "  <tbody>\n",
       "    <tr>\n",
       "      <th>SP</th>\n",
       "      <td>0.0</td>\n",
       "      <td>2.0</td>\n",
       "      <td>5.0</td>\n",
       "      <td>inf</td>\n",
       "      <td>inf</td>\n",
       "      <td>inf</td>\n",
       "    </tr>\n",
       "    <tr>\n",
       "      <th>AR</th>\n",
       "      <td>inf</td>\n",
       "      <td>0.0</td>\n",
       "      <td>-2.0</td>\n",
       "      <td>inf</td>\n",
       "      <td>4.0</td>\n",
       "      <td>inf</td>\n",
       "    </tr>\n",
       "    <tr>\n",
       "      <th>O1</th>\n",
       "      <td>inf</td>\n",
       "      <td>inf</td>\n",
       "      <td>0.0</td>\n",
       "      <td>3.0</td>\n",
       "      <td>2.0</td>\n",
       "      <td>inf</td>\n",
       "    </tr>\n",
       "    <tr>\n",
       "      <th>O2</th>\n",
       "      <td>inf</td>\n",
       "      <td>inf</td>\n",
       "      <td>inf</td>\n",
       "      <td>0.0</td>\n",
       "      <td>inf</td>\n",
       "      <td>-1.0</td>\n",
       "    </tr>\n",
       "    <tr>\n",
       "      <th>NC</th>\n",
       "      <td>inf</td>\n",
       "      <td>inf</td>\n",
       "      <td>inf</td>\n",
       "      <td>2.0</td>\n",
       "      <td>0.0</td>\n",
       "      <td>3.0</td>\n",
       "    </tr>\n",
       "    <tr>\n",
       "      <th>LCZ</th>\n",
       "      <td>inf</td>\n",
       "      <td>inf</td>\n",
       "      <td>inf</td>\n",
       "      <td>inf</td>\n",
       "      <td>inf</td>\n",
       "      <td>0.0</td>\n",
       "    </tr>\n",
       "  </tbody>\n",
       "</table>\n",
       "</div>"
      ],
      "text/plain": [
       "      SP   AR   O1   O2   NC  LCZ\n",
       "SP   0.0  2.0  5.0  inf  inf  inf\n",
       "AR   inf  0.0 -2.0  inf  4.0  inf\n",
       "O1   inf  inf  0.0  3.0  2.0  inf\n",
       "O2   inf  inf  inf  0.0  inf -1.0\n",
       "NC   inf  inf  inf  2.0  0.0  3.0\n",
       "LCZ  inf  inf  inf  inf  inf  0.0"
      ]
     },
     "execution_count": 12,
     "metadata": {},
     "output_type": "execute_result"
    }
   ],
   "source": [
    "# it would not change the result but we can rearrange the rows and columns\n",
    "# in the following order\n",
    "order = [\"SP\", \"AR\", \"O1\", \"O2\", \"NC\", \"LCZ\"]\n",
    "df = df.reindex(order, axis=0)\n",
    "df = df.reindex(order, axis=1)\n",
    "df"
   ]
  },
  {
   "cell_type": "markdown",
   "metadata": {},
   "source": [
    "## Brute force approach to solving the problem\n",
    "\n",
    "We could simply check all paths shorter than `|V| - 1` edges and fine the minimal.\n",
    "\n",
    "Let's assume we have a full/dense graph.\n",
    "Then we would need to check V-1 edges then V-2 edges then V-3 edges and so on. So complexity for brute force would be O(V!) which is not efficient to say the least... one of the worst possible complexities."
   ]
  },
  {
   "cell_type": "markdown",
   "metadata": {},
   "source": [
    "## Alternative to Bellman-Ford for single source shortest path\n",
    "\n",
    "Dijkstra's algorithm is a more efficient alternative to Bellman-Ford for single source shortest path. It is faster and has a complexity of O(E + VlogV) where E is the number of edges and V is the number of vertices. Again that requires a priority queue to be implemented. Also edge weights must be non-negative.\n",
    "\n",
    "\n",
    "### Thorup's algorithm\n",
    "\n",
    "https://dl.acm.org/doi/10.1145/316542.316548\n",
    "\n",
    "Thorup's algorithm is a more efficient alternative to Bellman-Ford for single source shortest path. It offers the possibility of linear time complexity O(E)"
   ]
  },
  {
   "cell_type": "code",
   "execution_count": null,
   "metadata": {},
   "outputs": [],
   "source": []
  }
 ],
 "metadata": {
  "kernelspec": {
   "display_name": "Python 3",
   "language": "python",
   "name": "python3"
  },
  "language_info": {
   "codemirror_mode": {
    "name": "ipython",
    "version": 3
   },
   "file_extension": ".py",
   "mimetype": "text/x-python",
   "name": "python",
   "nbconvert_exporter": "python",
   "pygments_lexer": "ipython3",
   "version": "3.10.7"
  }
 },
 "nbformat": 4,
 "nbformat_minor": 2
}
