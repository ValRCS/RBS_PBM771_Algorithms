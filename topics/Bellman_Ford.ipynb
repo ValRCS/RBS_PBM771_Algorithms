{
 "cells": [
  {
   "cell_type": "markdown",
   "metadata": {},
   "source": [
    "# Bellman-Ford Algorithm\n",
    "\n",
    "Invented by Richard Bellman and Lester Ford in 1950s, the Bellman-Ford algorithm is used to find the shortest path from a source vertex to all other vertices in a weighted graph. It is slower than Dijkstra's algorithm, but it is more versatile, as it is capable of handling graphs with **negative** edge weights.\n",
    "\n",
    "Src: [Wikipedia](https://en.wikipedia.org/wiki/Bellman%E2%80%93Ford_algorithm)\n",
    "\n",
    "## Algorithm\n",
    "\n",
    "The algorithm works by relaxing all the edges in the graph `|V| - 1` times, where `|V|` is the number of vertices in the graph. The relaxation process involves checking if the distance to a vertex `v` can be shortened by taking the edge `(u, v)`.\n",
    "\n",
    "The algorithm also checks for negative cycles in the graph. A negative cycle is a cycle whose total weight is negative. If a negative cycle is found, the algorithm returns `False`, as the shortest path to some vertices is undefined."
   ]
  },
  {
   "cell_type": "code",
   "execution_count": 3,
   "metadata": {},
   "outputs": [],
   "source": [
    "# let's implement Bellman Ford algorithm\n",
    "# our function with take a graph and a source vertex and return the shortest path from the source to all other vertices\n",
    "# our graph will be stored as dictionary of keys being tuples of vertices and values being the weight of the edge\n",
    "# a list of vertices would be nice but not strictly necessary as we can retrieve the vertices from the dictionary\n",
    "# we will also return a boolean value indicating if there is a negative cycle in the graph\n",
    "\n",
    "def bellman_form(edge_dict, source):\n",
    "    # first let's extract all vertices from edge_dict, each vertex will appear at least once in the dictionary\n",
    "    vertices = set()\n",
    "    for edge in edge_dict:\n",
    "        vertices.add(edge[0])\n",
    "        vertices.add(edge[1])\n",
    "\n",
    "    # here we could check if sources actually is in the graph and early return\n",
    "    if source not in vertices:\n",
    "        print(f\"ooops! {source} is not in the graph\")\n",
    "        return None\n",
    "\n",
    "    # first we need to initialize the distance to all vertices to be infinity except the source which is 0\n",
    "    distance = {}\n",
    "    for vertex in vertices:\n",
    "        distance[vertex] = float('inf')\n",
    "    distance[source] = 0\n",
    "    # we also need to initialize the predecessor of all vertices to be None\n",
    "    # we will use this to build the shortest path from the source to any vertex\n",
    "    predecessor = {}\n",
    "    for vertex in vertices:\n",
    "        predecessor[vertex] = None\n",
    "        # no need to set the predecessor of the source to None as it is already None\n",
    "    # we need to iterate over all the edges in the graph and update the distance and predecessor of each vertex\n",
    "    for _ in range(len(vertices) - 1): # maximum hops to reach any vertex is the number of vertices - 1\n",
    "        for (s,t), w in edge_dict.items():\n",
    "            if distance[t] > distance[s] + w:\n",
    "                # means we found a shorter path to t through s\n",
    "                distance[t] = distance[s] + w\n",
    "                predecessor[t] = s\n",
    "    # now we need to check for negative cycles # the end\n",
    "    for (s,t), w in edge_dict.items():\n",
    "        if distance[t] > distance[s] + w:\n",
    "            # means we found a shorter path to t through s\n",
    "            print(f\"ooops! negative cycle detected in the graph! {t} can be reached from {s} with a total weight of {distance[s] + w} which is less than {distance[t]}\")\n",
    "            return (distance, predecessor, True)\n",
    "    return (distance, predecessor, False)"
   ]
  },
  {
   "cell_type": "code",
   "execution_count": 4,
   "metadata": {},
   "outputs": [
    {
     "name": "stdout",
     "output_type": "stream",
     "text": [
      "({'a': 0, 'e': -9, 'd': 3, 'b': -7, 'c': 7}, {'a': None, 'e': 'b', 'd': 'a', 'b': 'd', 'c': 'a'}, False)\n"
     ]
    }
   ],
   "source": [
    "# so let's build a dictionary to represent the graph\n",
    "# with vertices a,b,c,d,e\n",
    "g_dict = {\n",
    "    ('a', 'b'): 6,\n",
    "    ('a', 'c'): 7,\n",
    "    ('a', 'd'): 3,\n",
    "    ('c', 'b'): 5,\n",
    "    ('c', 'd'): 4,\n",
    "    ('d', 'b'): -10,\n",
    "    ('d', 'e'): 8,\n",
    "    ('b', 'e'): -2\n",
    "}\n",
    "# now let's set source to a and call our function\n",
    "source = 'a'\n",
    "result = bellman_form(g_dict, source)\n",
    "print(result)"
   ]
  },
  {
   "cell_type": "code",
   "execution_count": 6,
   "metadata": {},
   "outputs": [
    {
     "name": "stdout",
     "output_type": "stream",
     "text": [
      "['a', 'd', 'b', 'e']\n"
     ]
    }
   ],
   "source": [
    "# TODO add print path function\n",
    "def print_path(s,t, result, debug=False):\n",
    "    distance, predecessor, negative_cycle = result\n",
    "    if negative_cycle:\n",
    "        print(f\"ooops! negative cycle detected in the graph! {t} can be reached from {s} with a total weight of {distance[s] + w} which is less than {distance[t]}\")\n",
    "        return None\n",
    "    path = []\n",
    "    while t != s:\n",
    "        path.append(t)\n",
    "        t = predecessor[t]\n",
    "    path.append(s)\n",
    "    path.reverse()\n",
    "    if debug:\n",
    "        # print costs for each step\n",
    "        for step in path:\n",
    "            print(f\"step: {step}, cost: {distance[step]}\")\n",
    "    return path\n",
    "\n",
    "# let's test our print_path function\n",
    "print(print_path('a', 'e', result))"
   ]
  },
  {
   "cell_type": "code",
   "execution_count": 7,
   "metadata": {},
   "outputs": [
    {
     "name": "stdout",
     "output_type": "stream",
     "text": [
      "step: a, cost: 0\n",
      "step: d, cost: 3\n",
      "step: b, cost: -7\n",
      "step: e, cost: -9\n",
      "['a', 'd', 'b', 'e']\n"
     ]
    }
   ],
   "source": [
    "# print with debug\n",
    "print(print_path('a', 'e', result, debug=True))"
   ]
  }
 ],
 "metadata": {
  "kernelspec": {
   "display_name": "Python 3",
   "language": "python",
   "name": "python3"
  },
  "language_info": {
   "codemirror_mode": {
    "name": "ipython",
    "version": 3
   },
   "file_extension": ".py",
   "mimetype": "text/x-python",
   "name": "python",
   "nbconvert_exporter": "python",
   "pygments_lexer": "ipython3",
   "version": "3.11.4"
  }
 },
 "nbformat": 4,
 "nbformat_minor": 2
}
