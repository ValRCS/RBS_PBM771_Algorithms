{
  "cells": [
    {
      "cell_type": "markdown",
      "metadata": {
        "id": "zEPiW_1tnbEt"
      },
      "source": [
        "# String Searching Algorithms\n",
        "\n",
        "String matching algorithms are algorithms that find all occurrences of a given pattern string in a text string. These algorithms have a wide range of applications, such as in text editing, data compression, and search engines.\n",
        "\n",
        "There are several different string matching algorithms, each with its own advantages and disadvantages. Some of the most commonly used algorithms include:\n",
        "\n",
        "1. Naive String Matching: This algorithm checks every substring of the text against the pattern, which is the simplest approach but also the least efficient.\n",
        "\n",
        "2. Knuth-Morris-Pratt (KMP) Algorithm: This algorithm uses the prefix function to avoid unnecessary comparisons of characters in the text string and the pattern.\n",
        "\n",
        "3. Boyer-Moore Algorithm: This algorithm uses two preprocessing steps to speed up the matching process: a bad character rule and a good suffix rule.\n",
        "\n",
        "4. Rabin-Karp Algorithm: This algorithm uses hashing to check if the pattern matches a substring of the text string.\n",
        "\n",
        "5. Finite Automaton Algorithm: This algorithm uses a finite state machine to recognize the pattern in the text string.\n",
        "\n",
        "These algorithms have different time and space complexities, and the choice of which algorithm to use depends on the specific requirements of the application."
      ]
    },
    {
      "cell_type": "markdown",
      "metadata": {
        "id": "WqKuPHwDnbEy"
      },
      "source": [
        "## Practical Applications\n",
        "\n",
        "* Search engines: Search engines use string matching algorithms to find relevant web pages based on the user's query.\n",
        "\n",
        "* Virus scanners: Virus scanners use string matching algorithms to detect malicious code in files by searching for known virus signatures.\n",
        "\n",
        "* Data compression: Compression algorithms use string matching algorithms to identify repeated patterns in the data, which can then be replaced with a shorter code.\n",
        "\n",
        "* Text editors: Text editors use string matching algorithms to implement search and replace functionality.\n",
        "\n",
        "* Natural language processing: String matching algorithms are used in natural language processing tasks such as named entity recognition, where a specific pattern of words or characters is matched to identify named entities such as people, organizations, and locations.\n",
        "\n",
        "* DNA sequence analysis: String matching algorithms are used in bioinformatics to search for specific patterns in DNA sequences."
      ]
    },
    {
      "cell_type": "markdown",
      "metadata": {
        "id": "ujo0e5_tnbEz"
      },
      "source": [
        "## Naive String Matching\n",
        "\n",
        "The naive string matching algorithm is the simplest string matching algorithm. It checks every substring of the text string against the pattern string. If the pattern string is found, the index of the first character of the substring is added to the list of matches. If the pattern string is not found, the algorithm continues to the next substring.\n"
      ]
    },
    {
      "cell_type": "markdown",
      "metadata": {
        "id": "ejPa0rJ8nbEz"
      },
      "source": [
        "## Naive String Matching Algorithm\n",
        "\n",
        "The naive_string_matcher function takes two input strings text and pattern, and returns a list of all occurrences of the pattern in the text.\n",
        "\n",
        "The function first initializes the lengths of the text and pattern, and creates an empty list occurrences to store the indices of each occurrence of pattern in text.\n",
        "\n",
        "It then iterates through every possible starting index of a substring of text that is the same length as pattern. For each starting index i, it checks whether the substring of text starting at index i and with length m (i.e., the same length as pattern) is equal to pattern. If it is, then it appends i to the occurrences list.\n",
        "\n",
        "Finally, the function returns the occurrences list containing the indices of each occurrence of pattern in text."
      ]
    },
    {
      "cell_type": "code",
      "execution_count": 1,
      "metadata": {
        "colab": {
          "base_uri": "https://localhost:8080/"
        },
        "id": "-AdbhX7bnhZF",
        "outputId": "ac1315b9-263d-495f-b416-bb46e59d78b5"
      },
      "outputs": [
        {
          "data": {
            "text/plain": [
              "(11, 62)"
            ]
          },
          "execution_count": 1,
          "metadata": {},
          "output_type": "execute_result"
        }
      ],
      "source": [
        "text = \"Riga Rocks RBS Rocking as well also RBS is great plus we have RBS at home\"\n",
        "pattern = \"RBS\"\n",
        "# Python built in\n",
        "text.find(pattern), text.rfind(pattern) # of course if you have more than two occurences you would need to write some more code"
      ]
    },
    {
      "cell_type": "code",
      "execution_count": 8,
      "metadata": {},
      "outputs": [
        {
          "data": {
            "text/plain": [
              "[11, 36, 62]"
            ]
          },
          "execution_count": 8,
          "metadata": {},
          "output_type": "execute_result"
        }
      ],
      "source": [
        "# let's return indexes of all occurences of pattern in text\n",
        "def find_all_naive(text, pattern):\n",
        "    indexes = []\n",
        "    i = 0\n",
        "    while i < len(text):\n",
        "        i = text.find(pattern, i) # find returns -1 if pattern is not found\n",
        "        if i == -1:\n",
        "            break\n",
        "        indexes.append(i)\n",
        "        i += 1\n",
        "    return indexes\n",
        "\n",
        "indexes = find_all_naive(text, pattern)\n",
        "indexes"
      ]
    },
    {
      "cell_type": "code",
      "execution_count": 9,
      "metadata": {
        "colab": {
          "base_uri": "https://localhost:8080/"
        },
        "id": "NBbfACMzoe8D",
        "outputId": "f0300554-aa25-47e5-94df-2b90965311d5"
      },
      "outputs": [
        {
          "data": {
            "text/plain": [
              "-1"
            ]
          },
          "execution_count": 9,
          "metadata": {},
          "output_type": "execute_result"
        }
      ],
      "source": [
        "text.find(\"willnotexist\")"
      ]
    },
    {
      "cell_type": "code",
      "execution_count": 9,
      "metadata": {
        "id": "BTwzxa7boUT8"
      },
      "outputs": [],
      "source": [
        "def find_all_indexes_using_built_in_find(text, pattern):\n",
        "    occurences = []\n",
        "    find_index = text.find(pattern)\n",
        "    while find_index >=0:\n",
        "        occurences.append(find_index)\n",
        "        find_index = text.find(pattern, find_index+1) # so we keep looking at slices\n",
        "    return occurences"
      ]
    },
    {
      "cell_type": "code",
      "execution_count": 13,
      "metadata": {
        "colab": {
          "base_uri": "https://localhost:8080/"
        },
        "id": "nBL9MgeZpK9x",
        "outputId": "0a5429c4-f6a0-4a4d-b36f-8d018b7483d9"
      },
      "outputs": [
        {
          "data": {
            "text/plain": [
              "[11, 36, 62]"
            ]
          },
          "execution_count": 13,
          "metadata": {},
          "output_type": "execute_result"
        }
      ],
      "source": [
        "find_all_indexes_using_built_in_find(text,pattern)"
      ]
    },
    {
      "cell_type": "code",
      "execution_count": 10,
      "metadata": {
        "id": "BrYXA4WsnbE0"
      },
      "outputs": [],
      "source": [
        "## Implementation of naive string matching\n",
        "\n",
        "def naive_string_matcher(text, pattern):\n",
        "    n = len(text)\n",
        "    m = len(pattern)\n",
        "    occurrences = [] # storage of found patterns\n",
        "\n",
        "    for i in range(n - m + 1):\n",
        "        if text[i:i + m] == pattern: # this equality actually might be efficient..\n",
        "        # to make it completely naive we would need to compare each character one by one\n",
        "            occurrences.append(i)\n",
        "\n",
        "    return occurrences\n",
        "\n",
        "# so this has O(n*m) complexity\n"
      ]
    },
    {
      "cell_type": "code",
      "execution_count": 11,
      "metadata": {
        "colab": {
          "base_uri": "https://localhost:8080/"
        },
        "id": "-2AoHdfKoIf8",
        "outputId": "2026a009-5d11-42ec-9684-3d32c52247b0"
      },
      "outputs": [
        {
          "data": {
            "text/plain": [
              "[11, 36, 62]"
            ]
          },
          "execution_count": 11,
          "metadata": {},
          "output_type": "execute_result"
        }
      ],
      "source": [
        "naive_string_matcher(text, pattern)"
      ]
    },
    {
      "cell_type": "markdown",
      "metadata": {},
      "source": [
        "## Knuth-Morris-Pratt (KMP) Algorithm\n",
        "\n",
        "Idea behind KMP algorithm is to not match a character more than once. If we have matched a character in the pattern, we can skip some characters in the text string and start matching from the next character in the pattern.\n",
        "\n",
        "We will perform pre-processing on the pattern string to create a prefix function that will help us determine the number of characters to skip in the text string when a mismatch occurs.\n",
        "\n",
        "This prefix function will essentially be a DFA (Deterministic Finite Automaton) that will help us determine the next state to go to when a mismatch occurs."
      ]
    },
    {
      "cell_type": "code",
      "execution_count": 14,
      "metadata": {},
      "outputs": [
        {
          "data": {
            "text/plain": [
              "[11, 36, 62]"
            ]
          },
          "execution_count": 14,
          "metadata": {},
          "output_type": "execute_result"
        }
      ],
      "source": [
        "# let's implement KMP algorithm\n",
        "\n",
        "def compute_prefix_function(pattern):\n",
        "    m = len(pattern)\n",
        "    pi = [0] * m\n",
        "    k = 0\n",
        "    for q in range(1, m):\n",
        "        while k > 0 and pattern[k] != pattern[q]:\n",
        "            k = pi[k - 1]\n",
        "        if pattern[k] == pattern[q]:\n",
        "            k += 1\n",
        "        pi[q] = k\n",
        "    return pi\n",
        "\n",
        "def kmp_matcher(text, pattern, pi=None):\n",
        "    n = len(text)\n",
        "    m = len(pattern)\n",
        "    if pi is None:\n",
        "        pi = compute_prefix_function(pattern)\n",
        "    q = 0\n",
        "    occurrences = []\n",
        "    for i in range(n): # so you see this is complexity O(n)\n",
        "        while q > 0 and pattern[q] != text[i]:\n",
        "            q = pi[q - 1]\n",
        "        if pattern[q] == text[i]:\n",
        "            q += 1\n",
        "        if q == m:\n",
        "            occurrences.append(i - m + 1)\n",
        "            q = pi[q - 1]\n",
        "    return occurrences\n",
        "\n",
        "# test it\n",
        "kmp_matcher(text, pattern)"
      ]
    },
    {
      "cell_type": "code",
      "execution_count": 6,
      "metadata": {},
      "outputs": [
        {
          "name": "stdout",
          "output_type": "stream",
          "text": [
            "length of text(n): 73000, pattern(m): 73\n"
          ]
        }
      ],
      "source": [
        "#let's make a bit text 1000 time bigger\n",
        "text1k = text * 1000\n",
        "# our pattern will be our text\n",
        "pattern1k = text\n",
        "# so length of n\n",
        "print(f\"length of text(n): {len(text1k)}, pattern(m): {len(pattern1k)}\")"
      ]
    },
    {
      "cell_type": "code",
      "execution_count": 18,
      "metadata": {},
      "outputs": [
        {
          "name": "stdout",
          "output_type": "stream",
          "text": [
            "13.1 ms ± 551 µs per loop (mean ± std. dev. of 7 runs, 100 loops each)\n"
          ]
        }
      ],
      "source": [
        "%%timeit\n",
        "naive_string_matcher(text1k, pattern1k)"
      ]
    },
    {
      "cell_type": "code",
      "execution_count": 17,
      "metadata": {},
      "outputs": [
        {
          "name": "stdout",
          "output_type": "stream",
          "text": [
            "21.5 ms ± 2.15 ms per loop (mean ± std. dev. of 7 runs, 10 loops each)\n"
          ]
        }
      ],
      "source": [
        "%%timeit\n",
        "kmp_matcher(text1k, pattern1k)"
      ]
    },
    {
      "cell_type": "markdown",
      "metadata": {},
      "source": [
        "### Preliminary Results\n",
        "\n",
        "So our Naive match actually beats KMP? Why? Because each time we recomputed the prefix function. We can actually precompute the prefix function and then use it to match the pattern with the text."
      ]
    },
    {
      "cell_type": "code",
      "execution_count": 15,
      "metadata": {},
      "outputs": [],
      "source": [
        "# now let's precompute prefix function\n",
        "pi = compute_prefix_function(pattern1k)"
      ]
    },
    {
      "cell_type": "code",
      "execution_count": 19,
      "metadata": {},
      "outputs": [
        {
          "name": "stdout",
          "output_type": "stream",
          "text": [
            "17.4 ms ± 852 µs per loop (mean ± std. dev. of 7 runs, 100 loops each)\n"
          ]
        }
      ],
      "source": [
        "%%timeit\n",
        "kmp_matcher(text1k, pattern1k, pi)"
      ]
    },
    {
      "cell_type": "code",
      "execution_count": 20,
      "metadata": {},
      "outputs": [
        {
          "data": {
            "text/plain": [
              "1000"
            ]
          },
          "execution_count": 20,
          "metadata": {},
          "output_type": "execute_result"
        }
      ],
      "source": [
        "results = kmp_matcher(text1k, pattern1k, pi)\n",
        "len(results)"
      ]
    },
    {
      "cell_type": "code",
      "execution_count": 21,
      "metadata": {},
      "outputs": [
        {
          "data": {
            "text/plain": [
              "1000"
            ]
          },
          "execution_count": 21,
          "metadata": {},
          "output_type": "execute_result"
        }
      ],
      "source": [
        "results_naive = naive_string_matcher(text1k, pattern1k)\n",
        "len(results_naive)"
      ]
    },
    {
      "cell_type": "code",
      "execution_count": 23,
      "metadata": {},
      "outputs": [
        {
          "data": {
            "text/plain": [
              "([0, 73, 146, 219, 292], [0, 73, 146, 219, 292])"
            ]
          },
          "execution_count": 23,
          "metadata": {},
          "output_type": "execute_result"
        }
      ],
      "source": [
        "# first 5 results\n",
        "results[:5], results_naive[:5]"
      ]
    },
    {
      "cell_type": "code",
      "execution_count": 24,
      "metadata": {},
      "outputs": [
        {
          "data": {
            "text/plain": [
              "([72635, 72708, 72781, 72854, 72927], [72635, 72708, 72781, 72854, 72927])"
            ]
          },
          "execution_count": 24,
          "metadata": {},
          "output_type": "execute_result"
        }
      ],
      "source": [
        "# last 5 results\n",
        "results[-5:], results_naive[-5:]"
      ]
    },
    {
      "cell_type": "markdown",
      "metadata": {},
      "source": [
        "### More conclusions\n",
        "\n",
        "Our naive match is still  faster than KMP. Why? \n",
        "One hypothesis is that == is more efficient than comparing strings one character at a time.\n",
        "\n",
        "### Needle matters!\n",
        "\n",
        "Our needle \"Riga Rocks RBS Rocking as well also RBS is great plus we have RBS at home\" will draw a mismatch very quickly even with naive match because we only need to check R or Ri at most , so no more than 2 characters."
      ]
    },
    {
      "cell_type": "markdown",
      "metadata": {
        "id": "vlywKn-SnbE2"
      },
      "source": [
        "## Boyer-Moore Algorithm\n",
        "\n",
        "The Boyer-Moore algorithm is a string matching algorithm that uses two preprocessing steps to speed up the matching process: a bad character rule and a good suffix rule.\n",
        "\n",
        "The bad character rule works by examining the character in text that caused the mismatch with pattern, and then shifting pattern so that the character in pattern that matches the bad character in text is aligned with the bad character in text. This can be done because we know that any occurrences of pattern in text that end at the index of the bad character in text cannot match due to the mismatch.\n",
        "\n",
        "The good suffix rule works by examining the longest suffix of pattern that matches a suffix of the current mismatch. If such a suffix exists, we can shift pattern so that the matching suffix is aligned with the mismatched suffix in text. This can be done because we know that any occurrences of pattern in text that end at the index of the mismatched suffix cannot match due to the mismatch.\n",
        "\n",
        "The Boyer-Moore algorithm combines these two rules to determine the best shift to make after a mismatch occurs. Specifically, it chooses the larger of the shifts suggested by the bad character rule and the good suffix rule. This means that the algorithm skips over as many characters as possible in text before attempting another match.\n",
        "\n",
        "In practice, the Boyer-Moore algorithm is often faster than other string matching algorithms, particularly when the pattern string is long or there are many occurrences of the pattern in the text. However, it can be slower than other algorithms in certain cases, such as when the pattern string is short or there are few occurrences of the pattern in the text."
      ]
    },
    {
      "cell_type": "code",
      "execution_count": 19,
      "metadata": {
        "id": "DvgAF4-XnbE2"
      },
      "outputs": [],
      "source": [
        "def boyer_moore(text, pattern, debug=True):\n",
        "    n = len(text)\n",
        "    m = len(pattern)\n",
        "    if m == 0:\n",
        "        return 0\n",
        "\n",
        "    # Initialize variables\n",
        "    skip = [m] * 256\n",
        "    for i in range(m - 1):\n",
        "        skip[ord(pattern[i])] = m - i - 1\n",
        "\n",
        "    # Search for the pattern in the text\n",
        "    i = m - 1\n",
        "    while i < n:\n",
        "        j = m - 1\n",
        "        while text[i] == pattern[j]:\n",
        "            print(f\"Potential match at location {i} letter {text[i]}\")\n",
        "            if j == 0:\n",
        "                return i\n",
        "            i -= 1\n",
        "            j -= 1\n",
        "        i += max(skip[ord(text[i])], m - j)\n",
        "        print(f\"skipping to position {i}\")\n",
        "\n",
        "    return -1"
      ]
    },
    {
      "cell_type": "code",
      "execution_count": 21,
      "metadata": {
        "colab": {
          "base_uri": "https://localhost:8080/"
        },
        "id": "-TsZipDqqFO9",
        "outputId": "3f562f54-70ac-454e-98d6-d3017bd7aa42"
      },
      "outputs": [
        {
          "name": "stdout",
          "output_type": "stream",
          "text": [
            "Riga Rocks RBS Rocking as well also RBS is great plus we have RBS at home RBS\n",
            "skipping to position 5\n",
            "skipping to position 7\n",
            "skipping to position 10\n",
            "skipping to position 13\n",
            "Potential match at location 13 letter S\n",
            "Potential match at location 12 letter B\n",
            "Potential match at location 11 letter R\n"
          ]
        },
        {
          "data": {
            "text/plain": [
              "11"
            ]
          },
          "execution_count": 21,
          "metadata": {},
          "output_type": "execute_result"
        }
      ],
      "source": [
        "print(text, pattern)\n",
        "boyer_moore(text, pattern)"
      ]
    },
    {
      "cell_type": "code",
      "execution_count": 22,
      "metadata": {
        "colab": {
          "base_uri": "https://localhost:8080/"
        },
        "id": "L1kdLkCWqiys",
        "outputId": "f08cbd7a-ed09-4b84-9594-4c16f6a3ad59"
      },
      "outputs": [
        {
          "name": "stdout",
          "output_type": "stream",
          "text": [
            "Potential match at location 3 letter a\n",
            "skipping to position 6\n",
            "Potential match at location 6 letter a\n",
            "Potential match at location 5 letter d\n",
            "skipping to position 8\n",
            "skipping to position 12\n",
            "Potential match at location 12 letter a\n",
            "skipping to position 14\n",
            "Potential match at location 14 letter a\n",
            "Potential match at location 13 letter d\n",
            "Potential match at location 12 letter a\n",
            "Potential match at location 11 letter c\n"
          ]
        },
        {
          "data": {
            "text/plain": [
              "11"
            ]
          },
          "execution_count": 22,
          "metadata": {},
          "output_type": "execute_result"
        }
      ],
      "source": [
        "boyer_moore(\"abra dabra cadabra\", \"cada\")"
      ]
    },
    {
      "cell_type": "code",
      "execution_count": 23,
      "metadata": {
        "colab": {
          "base_uri": "https://localhost:8080/"
        },
        "id": "kJJ9MeY3rLRB",
        "outputId": "dde898ea-59ff-4e16-b143-04801d0db29b"
      },
      "outputs": [
        {
          "name": "stdout",
          "output_type": "stream",
          "text": [
            "skipping to position 23\n",
            "skipping to position 25\n",
            "skipping to position 26\n",
            "skipping to position 38\n",
            "skipping to position 43\n",
            "Potential match at location 43 letter g\n",
            "Potential match at location 42 letter o\n",
            "Potential match at location 41 letter d\n",
            "Potential match at location 40 letter  \n",
            "Potential match at location 39 letter g\n",
            "Potential match at location 38 letter n\n",
            "Potential match at location 37 letter i\n",
            "Potential match at location 36 letter p\n",
            "Potential match at location 35 letter e\n",
            "Potential match at location 34 letter e\n",
            "Potential match at location 33 letter l\n",
            "Potential match at location 32 letter s\n"
          ]
        },
        {
          "data": {
            "text/plain": [
              "32"
            ]
          },
          "execution_count": 23,
          "metadata": {},
          "output_type": "execute_result"
        }
      ],
      "source": [
        "boyer_moore(\"a quick brown fox jumped over a sleeping dog and ate it\", \"sleeping dog\")"
      ]
    },
    {
      "cell_type": "markdown",
      "metadata": {
        "id": "esCAREWvrXJc"
      },
      "source": [
        "## Boyer-Moore efficiency\n",
        "\n",
        "So Boyer Moore is quite efficient Omega(n/m) in real life applications where pattern is large."
      ]
    },
    {
      "cell_type": "markdown",
      "metadata": {
        "id": "1FdHAKt8nbE3"
      },
      "source": [
        "### Boyer-Moore Algorithm explanation\n",
        "\n",
        "The boyer_moore function takes two input strings text and pattern, and returns the index of the first occurrence of pattern in text. If pattern does not occur in text, the function returns -1.\n",
        "\n",
        "The function first initializes the lengths of the text and pattern, and checks if the length of pattern is zero. If it is, it returns 0 (indicating that pattern occurs at the beginning of text).\n",
        "\n",
        "It then initializes a skip table skip that stores the number of characters to skip when a mismatch occurs, based on the character that caused the mismatch. The skip table is initialized with the value m for each character in the ASCII table.\n",
        "\n",
        "Next, the function iterates through the first m - 1 characters of pattern and updates the skip table with the appropriate values for each character in pattern.\n",
        "\n",
        "Finally, the function searches for pattern in text. It starts at the end of pattern and the corresponding index in text, and works its way backwards through pattern and text until a mismatch is found. If the mismatch occurs at the first character of pattern, then the function returns the current index in text. Otherwise, the function jumps ahead in text by the maximum of the skip value for the mismatched character and the number of characters remaining in pattern.\n",
        "\n",
        "If pattern is not found in text, the function returns -1."
      ]
    },
    {
      "cell_type": "markdown",
      "metadata": {
        "id": "53svu9QSnbE3"
      },
      "source": [
        "## Other String Matching Algorithms\n",
        "\n",
        "There are several other string matching algorithms, including the Knuth-Morris-Pratt (KMP) algorithm, the Rabin-Karp algorithm, and the finite automaton algorithm. These algorithms have different time and space complexities, and the choice of which algorithm to use depends on the specific requirements of the application."
      ]
    },
    {
      "cell_type": "markdown",
      "metadata": {
        "id": "AyVK-cKirzZz"
      },
      "source": [
        "## TODO What algorithm is Python Find/Index using"
      ]
    },
    {
      "cell_type": "code",
      "execution_count": null,
      "metadata": {
        "id": "R9mVHlaGnbE4"
      },
      "outputs": [],
      "source": []
    }
  ],
  "metadata": {
    "colab": {
      "provenance": []
    },
    "kernelspec": {
      "display_name": "Python 3",
      "language": "python",
      "name": "python3"
    },
    "language_info": {
      "codemirror_mode": {
        "name": "ipython",
        "version": 3
      },
      "file_extension": ".py",
      "mimetype": "text/x-python",
      "name": "python",
      "nbconvert_exporter": "python",
      "pygments_lexer": "ipython3",
      "version": "3.10.7"
    },
    "orig_nbformat": 4
  },
  "nbformat": 4,
  "nbformat_minor": 0
}
