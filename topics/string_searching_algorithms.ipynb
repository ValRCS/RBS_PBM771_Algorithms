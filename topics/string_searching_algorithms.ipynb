{
 "cells": [
  {
   "attachments": {},
   "cell_type": "markdown",
   "metadata": {},
   "source": [
    "# String Searching Algorithms\n",
    "\n",
    "String matching algorithms are algorithms that find all occurrences of a given pattern string in a text string. These algorithms have a wide range of applications, such as in text editing, data compression, and search engines.\n",
    "\n",
    "There are several different string matching algorithms, each with its own advantages and disadvantages. Some of the most commonly used algorithms include:\n",
    "\n",
    "1. Naive String Matching: This algorithm checks every substring of the text against the pattern, which is the simplest approach but also the least efficient.\n",
    "\n",
    "2. Knuth-Morris-Pratt (KMP) Algorithm: This algorithm uses the prefix function to avoid unnecessary comparisons of characters in the text string and the pattern.\n",
    "\n",
    "3. Boyer-Moore Algorithm: This algorithm uses two preprocessing steps to speed up the matching process: a bad character rule and a good suffix rule.\n",
    "\n",
    "4. Rabin-Karp Algorithm: This algorithm uses hashing to check if the pattern matches a substring of the text string.\n",
    "\n",
    "5. Finite Automaton Algorithm: This algorithm uses a finite state machine to recognize the pattern in the text string.\n",
    "\n",
    "These algorithms have different time and space complexities, and the choice of which algorithm to use depends on the specific requirements of the application."
   ]
  },
  {
   "attachments": {},
   "cell_type": "markdown",
   "metadata": {},
   "source": [
    "## Practical Applications\n",
    "\n",
    "* Search engines: Search engines use string matching algorithms to find relevant web pages based on the user's query.\n",
    "\n",
    "* Virus scanners: Virus scanners use string matching algorithms to detect malicious code in files by searching for known virus signatures.\n",
    "\n",
    "* Data compression: Compression algorithms use string matching algorithms to identify repeated patterns in the data, which can then be replaced with a shorter code.\n",
    "\n",
    "* Text editors: Text editors use string matching algorithms to implement search and replace functionality.\n",
    "\n",
    "* Natural language processing: String matching algorithms are used in natural language processing tasks such as named entity recognition, where a specific pattern of words or characters is matched to identify named entities such as people, organizations, and locations.\n",
    "\n",
    "* DNA sequence analysis: String matching algorithms are used in bioinformatics to search for specific patterns in DNA sequences."
   ]
  },
  {
   "attachments": {},
   "cell_type": "markdown",
   "metadata": {},
   "source": [
    "## Naive String Matching\n",
    "\n",
    "The naive string matching algorithm is the simplest string matching algorithm. It checks every substring of the text string against the pattern string. If the pattern string is found, the index of the first character of the substring is added to the list of matches. If the pattern string is not found, the algorithm continues to the next substring.\n"
   ]
  },
  {
   "cell_type": "markdown",
   "metadata": {},
   "source": [
    "## Naive String Matching Algorithm\n",
    "\n",
    "The naive_string_matcher function takes two input strings text and pattern, and returns a list of all occurrences of the pattern in the text.\n",
    "\n",
    "The function first initializes the lengths of the text and pattern, and creates an empty list occurrences to store the indices of each occurrence of pattern in text.\n",
    "\n",
    "It then iterates through every possible starting index of a substring of text that is the same length as pattern. For each starting index i, it checks whether the substring of text starting at index i and with length m (i.e., the same length as pattern) is equal to pattern. If it is, then it appends i to the occurrences list.\n",
    "\n",
    "Finally, the function returns the occurrences list containing the indices of each occurrence of pattern in text."
   ]
  },
  {
   "cell_type": "code",
   "execution_count": null,
   "metadata": {},
   "outputs": [],
   "source": [
    "## Implementation of naive string matching\n",
    "\n",
    "def naive_string_matcher(text, pattern):\n",
    "    n = len(text)\n",
    "    m = len(pattern)\n",
    "    occurrences = []\n",
    "\n",
    "    for i in range(n - m + 1):\n",
    "        if text[i:i + m] == pattern:\n",
    "            occurrences.append(i)\n",
    "\n",
    "    return occurrences\n"
   ]
  },
  {
   "attachments": {},
   "cell_type": "markdown",
   "metadata": {},
   "source": [
    "## Boyer-Moore Algorithm\n",
    "\n",
    "The Boyer-Moore algorithm is a string matching algorithm that uses two preprocessing steps to speed up the matching process: a bad character rule and a good suffix rule.\n",
    "\n",
    "The bad character rule works by examining the character in text that caused the mismatch with pattern, and then shifting pattern so that the character in pattern that matches the bad character in text is aligned with the bad character in text. This can be done because we know that any occurrences of pattern in text that end at the index of the bad character in text cannot match due to the mismatch.\n",
    "\n",
    "The good suffix rule works by examining the longest suffix of pattern that matches a suffix of the current mismatch. If such a suffix exists, we can shift pattern so that the matching suffix is aligned with the mismatched suffix in text. This can be done because we know that any occurrences of pattern in text that end at the index of the mismatched suffix cannot match due to the mismatch.\n",
    "\n",
    "The Boyer-Moore algorithm combines these two rules to determine the best shift to make after a mismatch occurs. Specifically, it chooses the larger of the shifts suggested by the bad character rule and the good suffix rule. This means that the algorithm skips over as many characters as possible in text before attempting another match.\n",
    "\n",
    "In practice, the Boyer-Moore algorithm is often faster than other string matching algorithms, particularly when the pattern string is long or there are many occurrences of the pattern in the text. However, it can be slower than other algorithms in certain cases, such as when the pattern string is short or there are few occurrences of the pattern in the text."
   ]
  },
  {
   "cell_type": "code",
   "execution_count": null,
   "metadata": {},
   "outputs": [],
   "source": [
    "def boyer_moore(text, pattern):\n",
    "    n = len(text)\n",
    "    m = len(pattern)\n",
    "    if m == 0:\n",
    "        return 0\n",
    "\n",
    "    # Initialize variables\n",
    "    skip = [m] * 256\n",
    "    for i in range(m - 1):\n",
    "        skip[ord(pattern[i])] = m - i - 1\n",
    "\n",
    "    # Search for the pattern in the text\n",
    "    i = m - 1\n",
    "    while i < n:\n",
    "        j = m - 1\n",
    "        while text[i] == pattern[j]:\n",
    "            if j == 0:\n",
    "                return i\n",
    "            i -= 1\n",
    "            j -= 1\n",
    "        i += max(skip[ord(text[i])], m - j)\n",
    "\n",
    "    return -1"
   ]
  },
  {
   "attachments": {},
   "cell_type": "markdown",
   "metadata": {},
   "source": [
    "### Boyer-Moore Algorithm explanation\n",
    "\n",
    "The boyer_moore function takes two input strings text and pattern, and returns the index of the first occurrence of pattern in text. If pattern does not occur in text, the function returns -1.\n",
    "\n",
    "The function first initializes the lengths of the text and pattern, and checks if the length of pattern is zero. If it is, it returns 0 (indicating that pattern occurs at the beginning of text).\n",
    "\n",
    "It then initializes a skip table skip that stores the number of characters to skip when a mismatch occurs, based on the character that caused the mismatch. The skip table is initialized with the value m for each character in the ASCII table.\n",
    "\n",
    "Next, the function iterates through the first m - 1 characters of pattern and updates the skip table with the appropriate values for each character in pattern.\n",
    "\n",
    "Finally, the function searches for pattern in text. It starts at the end of pattern and the corresponding index in text, and works its way backwards through pattern and text until a mismatch is found. If the mismatch occurs at the first character of pattern, then the function returns the current index in text. Otherwise, the function jumps ahead in text by the maximum of the skip value for the mismatched character and the number of characters remaining in pattern.\n",
    "\n",
    "If pattern is not found in text, the function returns -1."
   ]
  },
  {
   "attachments": {},
   "cell_type": "markdown",
   "metadata": {},
   "source": [
    "## Other String Matching Algorithms\n",
    "\n",
    "There are several other string matching algorithms, including the Knuth-Morris-Pratt (KMP) algorithm, the Rabin-Karp algorithm, and the finite automaton algorithm. These algorithms have different time and space complexities, and the choice of which algorithm to use depends on the specific requirements of the application."
   ]
  },
  {
   "cell_type": "code",
   "execution_count": null,
   "metadata": {},
   "outputs": [],
   "source": []
  }
 ],
 "metadata": {
  "kernelspec": {
   "display_name": "Python 3",
   "language": "python",
   "name": "python3"
  },
  "language_info": {
   "name": "python",
   "version": "3.10.7"
  },
  "orig_nbformat": 4
 },
 "nbformat": 4,
 "nbformat_minor": 2
}
