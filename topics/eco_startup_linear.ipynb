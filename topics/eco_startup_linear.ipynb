{
 "cells": [
  {
   "cell_type": "markdown",
   "metadata": {},
   "source": [
    "# Exercise: Eco-Friendly Product Launch\n",
    "From: https://estudijas.rtu.lv/mod/assign/view.php?id=4116908\n",
    "\n",
    "## Background:\n",
    "\n",
    "Imagine you're part of a European eco-friendly startup, Green Innovate EU, focusing on launching sustainable products. Your team is ready to introduce two new items: a biodegradable water bottle BIO_BOT and a solar-powered phone charger SOL_CHA. Both products align with the company's mission to reduce plastic waste and promote renewable energy sources. The challenge lies in maximizing profit while adhering to budget constraints and production capabilities.\n",
    "\n",
    "Problem Statement:\n",
    "\n",
    "Green Innovate EU has a budget of €50,000 for the first production run. The cost to produce one biodegradable water bottle is €3, and the cost for one solar-powered phone charger is €8. The expected profit from each water bottle is €5, and from each charger is €12. The market research team has indicated that due to the current market trends and consumer demand, the company should produce at least twice as many water bottles as chargers. Moreover, the production facility's constraints allow for the manufacture of a maximum of 10,000 water bottles and 4,000 chargers for this run.\n",
    "\n",
    "Objectives:\n",
    "\n",
    "Determine how many of each product the startup should produce to maximize profit.\n",
    "Ensure that the production plan respects the budget limit, production capacity, and market demand insights.\n",
    "Requirements:\n",
    "\n",
    "Let \n",
    "�\n",
    "1\n",
    " represent the number of biodegradable water bottles to produce.\n",
    "Let \n",
    "�\n",
    "2\n",
    " represent the number of solar-powered phone chargers to produce.\n",
    "Maximize the total profit \n",
    "�\n",
    "=\n",
    "5\n",
    "�\n",
    "1\n",
    "+\n",
    "12\n",
    "�\n",
    "2\n",
    "\n",
    "Subject to:\n",
    "Budget constraint: \n",
    "3\n",
    "�\n",
    "1\n",
    "+\n",
    "8\n",
    "�\n",
    "2\n",
    "≤\n",
    "50\n",
    ",\n",
    "000\n",
    "\n",
    "Production constraints: \n",
    "�\n",
    "1\n",
    "≤\n",
    "10\n",
    ",\n",
    "000\n",
    ", \n",
    ", x\n",
    "2\n",
    "≤\n",
    "4\n",
    ",\n",
    "000\n",
    "\n",
    "Market demand constraint: \n",
    "�\n",
    "1\n",
    "≥\n",
    "2\n",
    "�\n",
    "2\n",
    "\n",
    "Task:\n",
    "\n",
    "Use linear programming techniques to find the optimal production quantities of water bottles and chargers. Illustrate your solution process and discuss the implications of your results for the startup's strategy.\n",
    "\n",
    "\n",
    "\n",
    "Allowed approaches:\n",
    "\n",
    "While it would be extremely impressive, if you could implement a simplex algorithm from scratch, you are allowed to use libraries for this solution.\n",
    "Also you are allowed to try different approach, even some sort of brute-force solution.\n",
    "Also you are allowed to use pen and paper to solve this problem by hand and then verify solution.\n",
    "An interesting attempt would be to use some sort of hill-climbing approach."
   ]
  },
  {
   "cell_type": "code",
   "execution_count": 1,
   "metadata": {},
   "outputs": [],
   "source": [
    "# check if we have pulp if not we install it\n",
    "try:\n",
    "    import pulp\n",
    "except ImportError:\n",
    "    print(\"pulp not installed\")\n",
    "    # import pip\n",
    "    # pip.main(['install', 'pulp'])\n",
    "    # import pulp"
   ]
  },
  {
   "cell_type": "code",
   "execution_count": 3,
   "metadata": {},
   "outputs": [
    {
     "name": "stdout",
     "output_type": "stream",
     "text": [
      "Defaulting to user installation because normal site-packages is not writeable\n",
      "Collecting pulp\n",
      "  Obtaining dependency information for pulp from https://files.pythonhosted.org/packages/09/d7/57e71e11108203039c895643368c0d1a99fe719a6a80184edf240c33d25f/PuLP-2.8.0-py3-none-any.whl.metadata\n",
      "  Downloading PuLP-2.8.0-py3-none-any.whl.metadata (5.4 kB)\n",
      "Downloading PuLP-2.8.0-py3-none-any.whl (17.7 MB)\n",
      "   ---------------------------------------- 17.7/17.7 MB 22.6 MB/s eta 0:00:00\n",
      "Installing collected packages: pulp\n",
      "Successfully installed pulp-2.8.0\n"
     ]
    },
    {
     "name": "stderr",
     "output_type": "stream",
     "text": [
      "  WARNING: The script pulptest.exe is installed in 'C:\\Users\\val-wd\\AppData\\Roaming\\Python\\Python311\\Scripts' which is not on PATH.\n",
      "  Consider adding this directory to PATH or, if you prefer to suppress this warning, use --no-warn-script-location.\n",
      "\n",
      "[notice] A new release of pip is available: 23.2.1 -> 24.0\n",
      "[notice] To update, run: C:\\Program Files\\Python311\\python.exe -m pip install --upgrade pip\n"
     ]
    }
   ],
   "source": [
    "!pip install pulp"
   ]
  },
  {
   "cell_type": "code",
   "execution_count": 2,
   "metadata": {},
   "outputs": [
    {
     "name": "stdout",
     "output_type": "stream",
     "text": [
      "Optimal production quantities:\n",
      "BIO_BOT: 10000.0\n",
      "SOL_CHA: 2500.0\n",
      "Total profit: 80000.0\n"
     ]
    },
    {
     "name": "stderr",
     "output_type": "stream",
     "text": [
      "C:\\Users\\val-wd\\AppData\\Roaming\\Python\\Python311\\site-packages\\pulp\\pulp.py:1316: UserWarning: Spaces are not permitted in the name. Converted to '_'\n",
      "  warnings.warn(\"Spaces are not permitted in the name. Converted to '_'\")\n"
     ]
    }
   ],
   "source": [
    "from pulp import *\n",
    "\n",
    "# Create the problem variable\n",
    "prob = LpProblem(\"Green Innovate EU\", LpMaximize)\n",
    "\n",
    "# Define the decision variables\n",
    "x1 = LpVariable(\"BIO_BOT\", lowBound=0, cat='Integer')\n",
    "x2 = LpVariable(\"SOL_CHA\", lowBound=0, cat='Integer')\n",
    "\n",
    "# Define the objective function\n",
    "prob += 5*x1 + 12*x2\n",
    "\n",
    "# Define the constraints\n",
    "prob += 3*x1 + 8*x2 <= 50000\n",
    "prob += x1 <= 10000\n",
    "prob += x2 <= 4000\n",
    "prob += x1 >= 2*x2\n",
    "\n",
    "# Solve the problem\n",
    "prob.solve()\n",
    "\n",
    "# Print the optimal solution\n",
    "print(\"Optimal production quantities:\")\n",
    "print(\"BIO_BOT:\", value(x1))\n",
    "print(\"SOL_CHA:\", value(x2))\n",
    "print(\"Total profit:\", value(prob.objective))"
   ]
  },
  {
   "cell_type": "markdown",
   "metadata": {},
   "source": [
    "## Brute force approach"
   ]
  },
  {
   "cell_type": "code",
   "execution_count": 3,
   "metadata": {},
   "outputs": [
    {
     "name": "stdout",
     "output_type": "stream",
     "text": [
      "Optimal production quantities:\n",
      "BIO_BOT: 10000\n",
      "SOL_CHA: 2500\n",
      "Total profit: 80000\n"
     ]
    }
   ],
   "source": [
    "# let's try to find max between 0 and 10000 for x1 and 0 and 4000 for x2\n",
    "max_profit = 0\n",
    "for x1 in range(0, 10001):\n",
    "    for x2 in range(0, 4001):\n",
    "        if 3*x1 + 8*x2 <= 50000 and x1 >= 2*x2:\n",
    "            profit = 5*x1 + 12*x2\n",
    "            if profit > max_profit:\n",
    "                max_profit = profit\n",
    "                max_x1 = x1\n",
    "                max_x2 = x2\n",
    "print(\"Optimal production quantities:\")\n",
    "print(\"BIO_BOT:\", max_x1)\n",
    "print(\"SOL_CHA:\", max_x2)\n",
    "print(\"Total profit:\", max_profit)"
   ]
  },
  {
   "cell_type": "markdown",
   "metadata": {},
   "source": [
    "## Hill-Climbing approach\n",
    "\n"
   ]
  },
  {
   "cell_type": "code",
   "execution_count": 4,
   "metadata": {},
   "outputs": [
    {
     "name": "stdout",
     "output_type": "stream",
     "text": [
      "Optimal production quantities:\n",
      "BIO_BOT: 10000\n",
      "SOL_CHA: 2500\n",
      "Total profit: 80000\n"
     ]
    }
   ],
   "source": [
    "# we can start moving quicker by making bigger steps in the search space initially\n",
    "# because we have linear constraints we do not expect to see any valleys or peaks\n",
    "max_profit = 0\n",
    "for x1 in range(0, 10001, 100):\n",
    "    for x2 in range(0, 4001, 100):\n",
    "        if 3*x1 + 8*x2 <= 50000 and x1 >= 2*x2:\n",
    "            profit = 5*x1 + 12*x2\n",
    "            if profit > max_profit:\n",
    "                max_profit = profit\n",
    "                max_x1 = x1\n",
    "                max_x2 = x2\n",
    "\n",
    "print(\"Optimal production quantities:\")\n",
    "print(\"BIO_BOT:\", max_x1)\n",
    "print(\"SOL_CHA:\", max_x2)\n",
    "print(\"Total profit:\", max_profit)"
   ]
  },
  {
   "cell_type": "code",
   "execution_count": 9,
   "metadata": {},
   "outputs": [
    {
     "name": "stdout",
     "output_type": "stream",
     "text": [
      "Optimal production quantities:\n",
      "BIO_BOT: 10000\n",
      "SOL_CHA: 2500\n",
      "Total profit: 80000\n"
     ]
    }
   ],
   "source": [
    "# That worked but it is possible that we missed the optimal solution if it was in the middle of the step\n",
    "# idea is to make the step adjustable as we get closer to the solution\n",
    "# our minimal steps are 1, 1\n",
    "# we can start with 100, 100\n",
    "# if we are close to the solution we can reduce the step to 1, 1\n",
    "# we can use increase in profit as a measure of how close we are to the solution\n",
    "max_profit = 0\n",
    "step = 100\n",
    "profit_increase = 0\n",
    "\n",
    "# lets caclucate potential profit if we relax all constraints except keep number of units\n",
    "\n",
    "x1_cand = 10_000\n",
    "x2_cand = 4_000\n",
    "potential_profit = 5*x1_cand + 12*x2_cand\n",
    "steps = []\n",
    "for x1 in range(0, 10001, step):\n",
    "    for x2 in range(0, 4001, step):\n",
    "        if 3*x1 + 8*x2 <= 50000 and x1 >= 2*x2:\n",
    "            profit = 5*x1 + 12*x2\n",
    "            if profit > max_profit:\n",
    "                # profit_increase = profit - max_profit   \n",
    "                max_profit = profit\n",
    "                max_x1 = x1\n",
    "                max_x2 = x2\n",
    "                # now we could adjust step based on profit_increase\n",
    "                # ideas as profit increase get smaller we can reduce the step\n",
    "                # now we could adjust step based on how close our max_profit is to potential_profit\n",
    "                # if we are close we can reduce the step\n",
    "                # if we are far we can increase the step\n",
    "                # TODO our new_step should be based on how close we are to the potential_profit\n",
    "                # currently it is very ad hoc and not based on any theory...\n",
    "                # notably 10_000 is a magic number at the moment\n",
    "                new_step = max(min(100, int((potential_profit - max_profit)/10_000)), 1)\n",
    "                if new_step != step:\n",
    "                    step = new_step\n",
    "                    steps.append(step)\n",
    "print(\"Optimal production quantities:\")\n",
    "print(\"BIO_BOT:\", max_x1)\n",
    "print(\"SOL_CHA:\", max_x2)\n",
    "print(\"Total profit:\", max_profit)"
   ]
  },
  {
   "cell_type": "code",
   "execution_count": 10,
   "metadata": {},
   "outputs": [
    {
     "data": {
      "text/plain": [
       "9"
      ]
     },
     "execution_count": 10,
     "metadata": {},
     "output_type": "execute_result"
    }
   ],
   "source": [
    "len(steps)"
   ]
  },
  {
   "cell_type": "code",
   "execution_count": 11,
   "metadata": {},
   "outputs": [
    {
     "data": {
      "text/plain": [
       "[9, 8, 7, 6, 5, 4, 3, 2, 1]"
      ]
     },
     "execution_count": 11,
     "metadata": {},
     "output_type": "execute_result"
    }
   ],
   "source": [
    "steps"
   ]
  },
  {
   "cell_type": "markdown",
   "metadata": {},
   "source": [
    "## Ideas - Branch and bound approach\n",
    "\n",
    "We relax the requirement that the number of water bottles must be an integer. We can then solve the problem using the simplex algorithm. We then round the solution to the nearest integer and check if the solution is feasible. If it is, we check if the solution is better than the best solution found so far. If it is, we update the best solution. We then branch on the variable that is not an integer and repeat the process. We stop when we have checked all branches or when we can prove that the best solution found so far is optimal.\n"
   ]
  }
 ],
 "metadata": {
  "kernelspec": {
   "display_name": "Python 3",
   "language": "python",
   "name": "python3"
  },
  "language_info": {
   "codemirror_mode": {
    "name": "ipython",
    "version": 3
   },
   "file_extension": ".py",
   "mimetype": "text/x-python",
   "name": "python",
   "nbconvert_exporter": "python",
   "pygments_lexer": "ipython3",
   "version": "3.11.4"
  }
 },
 "nbformat": 4,
 "nbformat_minor": 2
}
