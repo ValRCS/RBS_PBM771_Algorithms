{
 "cells": [
  {
   "cell_type": "markdown",
   "metadata": {},
   "source": [
    "# Solving cryptarithmetic puzzle - SEND + MORE = MONEY"
   ]
  },
  {
   "cell_type": "code",
   "execution_count": 1,
   "metadata": {},
   "outputs": [],
   "source": [
    "from itertools import permutations"
   ]
  },
  {
   "cell_type": "code",
   "execution_count": 2,
   "metadata": {},
   "outputs": [
    {
     "name": "stdout",
     "output_type": "stream",
     "text": [
      "We have 1814400 permutations to check\n",
      "(0, 1, 2, 3, 4, 5, 6, 7)\n",
      "(0, 1, 2, 3, 4, 5, 6, 8)\n",
      "(0, 1, 2, 3, 4, 5, 6, 9)\n",
      "(0, 1, 2, 3, 4, 5, 7, 6)\n",
      "(0, 1, 2, 3, 4, 5, 7, 8)\n"
     ]
    }
   ],
   "source": [
    "letters = 'SENDMORY'\n",
    "perms = list(permutations(range(10), len(letters)))\n",
    "print(f\"We have {len(perms)} permutations to check\")\n",
    "# first 5\n",
    "for p in perms[:5]:\n",
    "    print(p)"
   ]
  },
  {
   "cell_type": "code",
   "execution_count": 4,
   "metadata": {},
   "outputs": [
    {
     "name": "stdout",
     "output_type": "stream",
     "text": [
      "We have 3628800 permutations to check\n",
      "(0, 1, 2, 3, 4, 5, 6, 7, 8, 9)\n",
      "(0, 1, 2, 3, 4, 5, 6, 7, 9, 8)\n",
      "(0, 1, 2, 3, 4, 5, 6, 8, 7, 9)\n",
      "(0, 1, 2, 3, 4, 5, 6, 8, 9, 7)\n",
      "(0, 1, 2, 3, 4, 5, 6, 9, 7, 8)\n"
     ]
    }
   ],
   "source": [
    "# worst cryptoarithmetic puzzle would be 10 out of 10\n",
    "perms = list(permutations(range(10), 10))\n",
    "print(f\"We have {len(perms)} permutations to check\")\n",
    "# first 5\n",
    "for p in perms[:5]:\n",
    "    print(p)"
   ]
  },
  {
   "cell_type": "code",
   "execution_count": 5,
   "metadata": {},
   "outputs": [
    {
     "name": "stdout",
     "output_type": "stream",
     "text": [
      "3628800\n"
     ]
    }
   ],
   "source": [
    "# so selection 10 out of 10 is same as\n",
    "# 10!\n",
    "import math\n",
    "print(math.factorial(10))"
   ]
  },
  {
   "cell_type": "markdown",
   "metadata": {},
   "source": [
    "<img src=\"https://wikimedia.org/api/rest_v1/media/math/render/svg/739752f4180752db6442c9d8211de651513e594a\" width=\"200\">\n",
    "\n",
    "Src: https://en.wikipedia.org/wiki/Permutation"
   ]
  },
  {
   "cell_type": "code",
   "execution_count": null,
   "metadata": {},
   "outputs": [],
   "source": []
  },
  {
   "cell_type": "code",
   "execution_count": 10,
   "metadata": {},
   "outputs": [],
   "source": [
    "# Solving cryptarithmetic puzzle - SEND + MORE = MONEY\n",
    "\n",
    "## Niks solution\n",
    "\n",
    "from itertools import permutations\n",
    "\n",
    "#With the help of ChatGPT this is what the solution could look like\n",
    "#I provided the main idea and the restrictions\n",
    "\n",
    "def solve_send_more_money():\n",
    "    #SEND + MORE = MONEY\n",
    "    # So all the letters used in the puzzle are:\n",
    "    letters = 'SENDMORY'\n",
    "\n",
    "    # Generate all permutations of digits for the letters\n",
    "    for perm in permutations(range(10), len(letters)):\n",
    "\n",
    "        # Map the permutation of digits to the letters\n",
    "        solution = dict(zip(letters, perm))\n",
    "\n",
    "        # let's keep only those solutions where M is 1\n",
    "        if solution['M'] != 1: # M has to be one by the restrictions of the puzzle\n",
    "            # SEND + MORE = MONEY so M has to be 1\n",
    "            continue\n",
    "\n",
    "        # Ensure S and M are not 0 as they are the first letters of the numbers\n",
    "        if solution['S'] == 0: \n",
    "            # or solution['M'] == 0: # We could take this out as we already know M is 1!\n",
    "            continue\n",
    "\n",
    "        # Construct the numbers from the letters\n",
    "        send = solution['S']*1000 + solution['E']*100 + solution['N']*10 + solution['D']\n",
    "        more = solution['M']*1000 + solution['O']*100 + solution['R']*10 + solution['E']\n",
    "        money = solution['M']*10000 + solution['O']*1000 + solution['N']*100 + solution['E']*10 + solution['Y']\n",
    "\n",
    "        # Check if the sum is correct\n",
    "        if send + more == money:\n",
    "            return solution  # Return the solution if the condition is satisfied\n",
    "\n",
    "    return \"No solution exists.\"\n",
    "\n",
    "# if __name__ == \"__main__\":\n",
    "#     solution = solve_send_more_money()\n",
    "#     print(\"Solution:\")\n",
    "#     for letter, digit in solution.items():\n",
    "#         print(f\"{letter} = {digit}\")"
   ]
  },
  {
   "cell_type": "code",
   "execution_count": 7,
   "metadata": {},
   "outputs": [
    {
     "data": {
      "text/plain": [
       "{'S': 9, 'E': 5, 'N': 6, 'D': 7, 'M': 1, 'O': 0, 'R': 8, 'Y': 2}"
      ]
     },
     "execution_count": 7,
     "metadata": {},
     "output_type": "execute_result"
    }
   ],
   "source": [
    "solve_send_more_money() # so almost brute force with minimal constraints works well enough"
   ]
  },
  {
   "cell_type": "code",
   "execution_count": 11,
   "metadata": {},
   "outputs": [
    {
     "data": {
      "text/plain": [
       "{'S': 9, 'E': 5, 'N': 6, 'D': 7, 'M': 1, 'O': 0, 'R': 8, 'Y': 2}"
      ]
     },
     "execution_count": 11,
     "metadata": {},
     "output_type": "execute_result"
    }
   ],
   "source": [
    "solve_send_more_money()"
   ]
  },
  {
   "cell_type": "code",
   "execution_count": 12,
   "metadata": {},
   "outputs": [
    {
     "name": "stdout",
     "output_type": "stream",
     "text": [
      "1.58 s ± 25.9 ms per loop (mean ± std. dev. of 7 runs, 1 loop each)\n"
     ]
    }
   ],
   "source": [
    "%%timeit\n",
    "solve_send_more_money()"
   ]
  },
  {
   "cell_type": "markdown",
   "metadata": {},
   "source": [
    "## General approach\n",
    "\n",
    "1. Generate all permutations of the digits 0-9\n",
    "2. For each permutation, check if the equation SUMMABLE1 + SUMMABLE2 = TOTAL is satisfied\n",
    "3. If the equation is satisfied, print the permutation\n",
    "\n",
    "### Optimizations\n",
    "\n",
    "1. Skip permutations where the first digit of SUMMABLE1 or SUMMABLE2 is 0\n",
    "2. Skip permutations where the first digit of TOTAL is 0"
   ]
  },
  {
   "cell_type": "code",
   "execution_count": null,
   "metadata": {},
   "outputs": [],
   "source": []
  },
  {
   "cell_type": "code",
   "execution_count": 14,
   "metadata": {},
   "outputs": [],
   "source": [
    "def solve_summables(summable1:str, summable2:str, total:str) -> dict[str, int]:\n",
    "    letters = set(summable1 + summable2 + total)\n",
    "    for perm in permutations(range(10), len(letters)):\n",
    "        solution = dict(zip(letters, perm))\n",
    "        if solution[summable1[0]] == 0 or solution[summable2[0]] == 0 or solution[total[0]] == 0:\n",
    "            continue\n",
    "        # now we check if the sum is correct\n",
    "        if sum(int(''.join(str(solution[letter]) for letter in word)) for word in (summable1, summable2)) == int(''.join(str(solution[letter]) for letter in total)):\n",
    "            return solution\n",
    "    return {\"No solution exists.\":0} # or None or \"No solution exists.\" or whatever"
   ]
  },
  {
   "cell_type": "code",
   "execution_count": 15,
   "metadata": {},
   "outputs": [
    {
     "data": {
      "text/plain": [
       "{'N': 6, 'Y': 2, 'R': 8, 'M': 1, 'D': 7, 'S': 9, 'O': 0, 'E': 5}"
      ]
     },
     "execution_count": 15,
     "metadata": {},
     "output_type": "execute_result"
    }
   ],
   "source": [
    "# test with SEND + MORE = MONEY\n",
    "solve_summables('SEND', 'MORE', 'MONEY')"
   ]
  },
  {
   "cell_type": "code",
   "execution_count": 16,
   "metadata": {},
   "outputs": [
    {
     "data": {
      "text/plain": [
       "{'I': 0,\n",
       " 'N': 1,\n",
       " 'A': 5,\n",
       " 'Y': 4,\n",
       " 'R': 8,\n",
       " 'Z': 6,\n",
       " 'B': 7,\n",
       " 'S': 2,\n",
       " 'O': 3,\n",
       " 'E': 9}"
      ]
     },
     "execution_count": 16,
     "metadata": {},
     "output_type": "execute_result"
    }
   ],
   "source": [
    "# ZEROES + ONES = BINARY\n",
    "solve_summables('ZEROES', 'ONES', 'BINARY')"
   ]
  },
  {
   "cell_type": "code",
   "execution_count": 25,
   "metadata": {},
   "outputs": [],
   "source": [
    "# let's create a pretty print funciton to show solutions\n",
    "def pretty_print(solution:dict[str, int], summable1, summable2, total):\n",
    "    for word in (summable1, summable2):\n",
    "        digits = ''.join(str(solution[letter]) for letter in word)\n",
    "        # we to right justify the digits to align them\n",
    "        print(f\"{digits:>{len(total)}}\")\n",
    "        # print(f\"{digits}\", end='+\\n')\n",
    "    print(''.join(str(solution[letter]) for letter in total))"
   ]
  },
  {
   "cell_type": "code",
   "execution_count": 26,
   "metadata": {},
   "outputs": [
    {
     "name": "stdout",
     "output_type": "stream",
     "text": [
      "698392\n",
      "  3192\n",
      "701584\n"
     ]
    }
   ],
   "source": [
    "pretty_print(solve_summables('ZEROES', 'ONES', 'BINARY'), 'ZEROES', 'ONES', 'BINARY')"
   ]
  },
  {
   "cell_type": "code",
   "execution_count": 27,
   "metadata": {},
   "outputs": [],
   "source": [
    "# now let's make a generic solver that takes any number of summables\n",
    "def solve_summables(*args) -> dict[str, int]:\n",
    "    letters = set(''.join(args))\n",
    "    for perm in permutations(range(10), len(letters)):\n",
    "        solution = dict(zip(letters, perm))\n",
    "        if any(solution[word[0]] == 0 for word in args):\n",
    "            continue\n",
    "        if sum(int(''.join(str(solution[letter]) for letter in word)) for word in args[:-1]) == int(''.join(str(solution[letter]) for letter in args[-1])):\n",
    "            return solution\n",
    "    return {\"No solution exists.\":0} # or None or \"No solution exists.\" or whatever"
   ]
  },
  {
   "cell_type": "code",
   "execution_count": 28,
   "metadata": {},
   "outputs": [
    {
     "data": {
      "text/plain": [
       "{'I': 0,\n",
       " 'N': 1,\n",
       " 'A': 5,\n",
       " 'Y': 4,\n",
       " 'R': 8,\n",
       " 'Z': 6,\n",
       " 'B': 7,\n",
       " 'S': 2,\n",
       " 'O': 3,\n",
       " 'E': 9}"
      ]
     },
     "execution_count": 28,
     "metadata": {},
     "output_type": "execute_result"
    }
   ],
   "source": [
    "solve_summables('ZEROES', 'ONES', 'BINARY')"
   ]
  },
  {
   "cell_type": "code",
   "execution_count": 29,
   "metadata": {},
   "outputs": [],
   "source": [
    "# above is fine but let's change our function signature to list[str] and str returning dict[str, int] or None\n",
    "def solve_summables(words:list[str], total:str) -> dict[str, int]:\n",
    "    letters = set(''.join(words) + total)\n",
    "    for perm in permutations(range(10), len(letters)):\n",
    "        solution = dict(zip(letters, perm))\n",
    "        if any(solution[word[0]] == 0 for word in words + [total]):\n",
    "        # so any is similar to existential quantifier in logic\n",
    "            continue\n",
    "        if sum(int(''.join(str(solution[letter]) for letter in word)) for word in words) == int(''.join(str(solution[letter]) for letter in total)):\n",
    "            return solution\n",
    "    return None"
   ]
  },
  {
   "cell_type": "code",
   "execution_count": 30,
   "metadata": {},
   "outputs": [
    {
     "data": {
      "text/plain": [
       "{'N': 6, 'Y': 2, 'R': 8, 'M': 1, 'D': 7, 'S': 9, 'O': 0, 'E': 5}"
      ]
     },
     "execution_count": 30,
     "metadata": {},
     "output_type": "execute_result"
    }
   ],
   "source": [
    "# test with SEND + MORE = MONEY\n",
    "solve_summables(['SEND', 'MORE'], 'MONEY')"
   ]
  },
  {
   "cell_type": "code",
   "execution_count": 31,
   "metadata": {},
   "outputs": [
    {
     "data": {
      "text/plain": [
       "{'I': 0,\n",
       " 'N': 1,\n",
       " 'A': 5,\n",
       " 'Y': 4,\n",
       " 'R': 8,\n",
       " 'Z': 6,\n",
       " 'B': 7,\n",
       " 'S': 2,\n",
       " 'O': 3,\n",
       " 'E': 9}"
      ]
     },
     "execution_count": 31,
     "metadata": {},
     "output_type": "execute_result"
    }
   ],
   "source": [
    "# test with ZEROES + ONES = BINARY\n",
    "solve_summables(['ZEROES', 'ONES'], 'BINARY')"
   ]
  },
  {
   "cell_type": "code",
   "execution_count": 32,
   "metadata": {},
   "outputs": [],
   "source": [
    "# let's test with something with 3 or more summables\n",
    "solve_summables(['ZEROES', 'ONES', 'TWOS'], 'BINARY')"
   ]
  },
  {
   "cell_type": "code",
   "execution_count": 33,
   "metadata": {},
   "outputs": [
    {
     "data": {
      "text/plain": [
       "{'N': 2, 'U': 0, 'F': 1, 'R': 4, 'O': 3, 'E': 6}"
      ]
     },
     "execution_count": 33,
     "metadata": {},
     "output_type": "execute_result"
    }
   ],
   "source": [
    "solve_summables(['ONE','ONE','ONE', 'ONE'], 'FOUR')"
   ]
  },
  {
   "cell_type": "code",
   "execution_count": 34,
   "metadata": {},
   "outputs": [
    {
     "data": {
      "text/plain": [
       "{'N': 8, 'T': 7, 'O': 1, 'E': 2}"
      ]
     },
     "execution_count": 34,
     "metadata": {},
     "output_type": "execute_result"
    }
   ],
   "source": [
    "solve_summables(['ONE','ONE','ONE', 'ONE'], 'TEN')"
   ]
  },
  {
   "cell_type": "code",
   "execution_count": 35,
   "metadata": {},
   "outputs": [],
   "source": [
    "# TODO add generic pretty print function for any number of summables\n",
    "def pretty_print(solution:dict[str, int], words:list[str], total:str):\n",
    "    width = max(len(word) for word in words + [total])\n",
    "    for word in words:\n",
    "        digits = ''.join(str(solution[letter]) for letter in word)\n",
    "        print(f\"{digits:>{width}}\")\n",
    "    print(''.join(str(solution[letter]) for letter in total))"
   ]
  },
  {
   "cell_type": "code",
   "execution_count": 36,
   "metadata": {},
   "outputs": [
    {
     "name": "stdout",
     "output_type": "stream",
     "text": [
      "182\n",
      "182\n",
      "182\n",
      "182\n",
      "728\n"
     ]
    }
   ],
   "source": [
    "# test with ONE + ONE + ONE + ONE = TEN\n",
    "pretty_print(solve_summables(['ONE','ONE','ONE', 'ONE'], 'TEN'), ['ONE','ONE','ONE', 'ONE'], 'TEN')"
   ]
  }
 ],
 "metadata": {
  "kernelspec": {
   "display_name": "Python 3",
   "language": "python",
   "name": "python3"
  },
  "language_info": {
   "codemirror_mode": {
    "name": "ipython",
    "version": 3
   },
   "file_extension": ".py",
   "mimetype": "text/x-python",
   "name": "python",
   "nbconvert_exporter": "python",
   "pygments_lexer": "ipython3",
   "version": "3.11.4"
  }
 },
 "nbformat": 4,
 "nbformat_minor": 2
}
