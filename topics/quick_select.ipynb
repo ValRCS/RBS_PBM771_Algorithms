{
  "cells": [
    {
      "cell_type": "markdown",
      "metadata": {
        "id": "nXs32BO2a8g9"
      },
      "source": [
        "# Quick Select\n",
        "\n"
      ]
    },
    {
      "cell_type": "markdown",
      "metadata": {
        "id": "hVzfXhNsa8hB"
      },
      "source": [
        "## Quick Select Algorithm\n",
        "\n",
        "The Quick Select algorithm is a selection algorithm in computer science, used to find the k-th smallest element in an unordered list. It was developed by Tony Hoare, who also created the Quick Sort algorithm. Quick Select is an efficient in-place algorithm with an average-case complexity of O(n), where n is the number of elements in the list. However, its worst-case complexity is O(n^2).\n",
        "\n",
        "The algorithm works similarly to Quick Sort, using the partitioning method. Here's an overview of the steps:\n",
        "\n",
        "* Choose a 'pivot' element from the list (there are various ways to select the pivot, such as choosing the first, last, or median element).\n",
        "* Partition the list such that all elements less than the pivot are to its left, and all elements greater than the pivot are to its right.\n",
        "* Check the position of the pivot in the partitioned list:\n",
        "\n",
        "1. If the pivot's position is equal to k, then the pivot is the k-th smallest element, and the algorithm terminates.\n",
        "2. If the pivot's position is greater than k, repeat the process on the left partition.\n",
        "3. If the pivot's position is less than k, repeat the process on the right partition, adjusting the value of k accordingly.\n",
        "\n",
        "In most cases, Quick Select is more efficient than sorting the list and then selecting the k-th element, especially when k is small relative to the size of the list. However, Quick Select is not a stable selection algorithm, meaning that it doesn't preserve the relative order of equal elements in the list."
      ]
    },
    {
      "cell_type": "markdown",
      "metadata": {
        "id": "zkiHIt4La8hC"
      },
      "source": [
        "![GIF](https://upload.wikimedia.org/wikipedia/commons/0/04/Selecting_quickselect_frames.gif)"
      ]
    },
    {
      "cell_type": "markdown",
      "source": [
        "### Quick Sort vs Quick Select\n",
        "\n",
        "* T(n) = T(n/2) + n -> QUICK SELECT we only pivot on the half we need\n",
        "* T(n) = 2T(n/2) + n -> QUICK SORT \n",
        "\n",
        "What is the complexity of these?\n",
        "\n",
        "By Master theorem\n",
        "* T(n) = T(n/2) + n -> O(n)\n",
        "\n",
        "* T(n) = 2T(n/2) + n -> O(n log n)\n",
        "\n",
        "However the worst case for Quick Select will be just like with Quick Sort where we have bad pivots all the time\n",
        "and then we have \n",
        "T(n) = T(n-1) + n -> O(n^2) not useful"
      ],
      "metadata": {
        "id": "dySMU6b3bhg3"
      }
    },
    {
      "cell_type": "markdown",
      "metadata": {
        "id": "zd2JNfAca8hC"
      },
      "source": [
        "## Finding Median in Linear Time - maybe\n",
        "\n",
        "To find the median value of a list using the Quick Select algorithm, you need to determine the position of the median element, depending on whether the list has an odd or even number of elements.\n",
        "\n",
        "If the list has an odd number of elements (2n + 1), the median is the element at position (n + 1). So, you would use Quick Select to find the (n + 1)-th smallest element in the list.\n",
        "\n",
        "If the list has an even number of elements (2n), the median is the average of the two middle elements at positions n and (n + 1). In this case, you would run Quick Select twice: first, to find the n-th smallest element, and then to find the (n + 1)-th smallest element. Finally, you would compute the average of these two elements to get the median value.\n",
        "\n",
        "Using Quick Select to find the median value can be very efficient, with an average-case complexity of O(n). However, in the worst-case scenario, the complexity can be O(n^2). To avoid the worst-case complexity, you can use an algorithm called the Median of Medians, which is a pivot selection strategy that guarantees linear complexity (O(n)) for finding the median value."
      ]
    },
    {
      "cell_type": "code",
      "execution_count": 1,
      "metadata": {
        "id": "bMjiqqiVa8hD",
        "outputId": "da1414cf-704e-4fcd-fb7a-83331803c108",
        "colab": {
          "base_uri": "https://localhost:8080/"
        }
      },
      "outputs": [
        {
          "output_type": "stream",
          "name": "stdout",
          "text": [
            "The 3-th smallest element is: 5\n"
          ]
        }
      ],
      "source": [
        "import random\n",
        "random.seed(2023) # For reproducibility\n",
        "\n",
        "def partition(arr, low, high):\n",
        "    pivot_index = random.randint(low, high) # so extremely unlikely to get bad pivots all the time\n",
        "    # unfortunately it might slow down the code a bit\n",
        "    pivot = arr[pivot_index]\n",
        "    arr[pivot_index], arr[high] = arr[high], arr[pivot_index]\n",
        "\n",
        "    i = low\n",
        "    for j in range(low, high):\n",
        "        if arr[j] <= pivot:\n",
        "            arr[i], arr[j] = arr[j], arr[i]\n",
        "            i += 1\n",
        "\n",
        "    arr[i], arr[high] = arr[high], arr[i]\n",
        "    return i\n",
        "\n",
        "def quick_select(arr, k, low=None, high=None):\n",
        "    if low is None:\n",
        "        low = 0\n",
        "    if high is None:\n",
        "        high = len(arr) - 1\n",
        "\n",
        "    if low == high:\n",
        "        return arr[low]\n",
        "\n",
        "    pivot_index = partition(arr, low, high)\n",
        "\n",
        "    # we might get lucky and get the correct k on first pivot\n",
        "    # after each pivotting the pivot element will be in the correct location\n",
        "    if k == pivot_index:\n",
        "        return arr[k]\n",
        "    elif k < pivot_index:\n",
        "        return quick_select(arr, k, low, pivot_index - 1)\n",
        "    else:\n",
        "        return quick_select(arr, k, pivot_index + 1, high)\n",
        "\n",
        "# Example usage\n",
        "arr = [10, 4, 5, 8, 6, 11, 3]\n",
        "k = len(arr) // 2  # The 4th smallest element - here it is median\n",
        "median = quick_select(arr, k - 1)\n",
        "print(f\"The {k}-th smallest element is: {median}\")"
      ]
    },
    {
      "cell_type": "code",
      "execution_count": 4,
      "metadata": {
        "id": "wowgdRJ_a8hF",
        "outputId": "599dc71e-0f85-4061-ad01-1d10f7b9e346",
        "colab": {
          "base_uri": "https://localhost:8080/"
        }
      },
      "outputs": [
        {
          "output_type": "stream",
          "name": "stdout",
          "text": [
            "The median of the array is: 500117\n",
            "The array is changed!\n",
            "The median of the array is: 500117\n"
          ]
        }
      ],
      "source": [
        "# Let's generate some random numbers and find the median\n",
        "a_1M = [random.randint(0, 1_000_000) for _ in range(100_000+1)] # to have odd numbers for simplicity\n",
        "\n",
        "a_1M_backup = a_1M.copy() # to compare with sorted array\n",
        "# Let's find the median\n",
        "median = quick_select(a_1M, len(a_1M) // 2 )\n",
        "print(f\"The median of the array is: {median}\")\n",
        "\n",
        "# check that the array is not changed\n",
        "if a_1M != a_1M_backup:\n",
        "    print(\"The array is changed!\")\n",
        "\n",
        "# let's find median using sorted array\n",
        "a_1M_sorted = sorted(a_1M) # this is how everyone in class did median\n",
        "print(f\"The median of the array is: {a_1M_sorted[len(a_1M_sorted) // 2]}\")"
      ]
    },
    {
      "cell_type": "markdown",
      "metadata": {
        "id": "QGyJ8cwVa8hG"
      },
      "source": [
        "## Timing the Algorithms"
      ]
    },
    {
      "cell_type": "code",
      "execution_count": 5,
      "metadata": {
        "id": "gjhdyyyda8hG",
        "outputId": "fd77b77e-2e6a-4abb-a93c-8fc4a2788dd3",
        "colab": {
          "base_uri": "https://localhost:8080/"
        }
      },
      "outputs": [
        {
          "output_type": "stream",
          "name": "stdout",
          "text": [
            "68.9 ms ± 7.33 ms per loop (mean ± std. dev. of 7 runs, 10 loops each)\n"
          ]
        }
      ],
      "source": [
        "%%timeit\n",
        "quick_select(a_1M, len(a_1M) // 2 )"
      ]
    },
    {
      "cell_type": "code",
      "execution_count": 6,
      "metadata": {
        "id": "2CoDKDVSa8hH",
        "outputId": "c397a0a6-5d18-46ea-d237-32324ac86d93",
        "colab": {
          "base_uri": "https://localhost:8080/"
        }
      },
      "outputs": [
        {
          "output_type": "stream",
          "name": "stdout",
          "text": [
            "16.5 ms ± 2.52 ms per loop (mean ± std. dev. of 7 runs, 100 loops each)\n"
          ]
        }
      ],
      "source": [
        "%%timeit\n",
        "sorted(a_1M)[len(a_1M) // 2]"
      ]
    },
    {
      "cell_type": "markdown",
      "source": [
        "## Why is TimSort beating the pants off Quick Select?\n",
        "\n",
        "* One issue is that it is working on mostly sorted data"
      ],
      "metadata": {
        "id": "oWREP8X0e8cx"
      }
    },
    {
      "cell_type": "code",
      "execution_count": 7,
      "metadata": {
        "id": "dAysHMTDa8hH",
        "outputId": "4c5f79b3-f558-4d7b-c3cb-868470c3d52d",
        "colab": {
          "base_uri": "https://localhost:8080/"
        }
      },
      "outputs": [
        {
          "output_type": "stream",
          "name": "stdout",
          "text": [
            "25.3 ms ± 399 µs per loop (mean ± std. dev. of 7 runs, 10 loops each)\n"
          ]
        }
      ],
      "source": [
        "%%timeit\n",
        "sorted(a_1M_backup)[len(a_1M_backup) // 2]"
      ]
    },
    {
      "cell_type": "code",
      "execution_count": null,
      "metadata": {
        "id": "yTeif-k9a8hI"
      },
      "outputs": [],
      "source": [
        "# lets get 10 million random numbers\n",
        "a_10M = [random.randint(0, 100_000_000) for _ in range(10_000_000+1)] # to have odd numbers for simplicity\n"
      ]
    },
    {
      "cell_type": "code",
      "execution_count": null,
      "metadata": {
        "id": "UOuupaana8hI",
        "outputId": "f6157108-42c4-43e6-faa2-2ef4d14ae0b8"
      },
      "outputs": [
        {
          "name": "stdout",
          "output_type": "stream",
          "text": [
            "6.04 s ± 1.73 s per loop (mean ± std. dev. of 7 runs, 1 loop each)\n"
          ]
        }
      ],
      "source": [
        "%%timeit\n",
        "quick_select(a_10M, len(a_10M) // 2 )"
      ]
    },
    {
      "cell_type": "code",
      "execution_count": null,
      "metadata": {
        "id": "k-4ZFuZBa8hJ",
        "outputId": "aa8f1364-e596-49d6-f544-5d3f9d9a7650"
      },
      "outputs": [
        {
          "name": "stdout",
          "output_type": "stream",
          "text": [
            "5 s ± 119 ms per loop (mean ± std. dev. of 7 runs, 1 loop each)\n"
          ]
        }
      ],
      "source": [
        "%%timeit\n",
        "sorted(a_10M)[len(a_10M) // 2]"
      ]
    },
    {
      "cell_type": "markdown",
      "metadata": {
        "id": "do9iXoR8a8hJ"
      },
      "source": [
        "## Why is our quick select so slow? - MOM to the rescue\n",
        "\n",
        "We are fighting against optimized Timsort. \n",
        "\n",
        "We are also using a naive partitioning algorithm. We can do better.\n",
        "\n",
        "From Jeff Erickson's [blog pg.37 ch. 1](https://jeffe.cs.illinois.edu/teaching/algorithms/book/01-recursion.pdf):\n",
        "\n",
        "Specifically, we divide the input array into dn/5e blocks, each containing\n",
        "exactly 5 elements, except possibly the last. (If the last block isn’t full, just throw\n",
        "in a few 1s.) We compute the median of each block by brute force, collect\n",
        "those medians into a new array M[1 ..dn/5e], and then recursively compute\n",
        "the median of this new array. Finally, we use the median of the block medians\n",
        "(called “mom” in the pseudocode below) as the quickselect pivot."
      ]
    },
    {
      "cell_type": "code",
      "execution_count": 8,
      "metadata": {
        "id": "8JD9lGg-a8hJ",
        "outputId": "83b12f44-dd9c-443c-d147-3a4008308776",
        "colab": {
          "base_uri": "https://localhost:8080/"
        }
      },
      "outputs": [
        {
          "output_type": "stream",
          "name": "stdout",
          "text": [
            "The 3-th smallest element is: 5\n"
          ]
        }
      ],
      "source": [
        "def partition(arr, low, high, pivot_value):\n",
        "    for i in range(low, high):\n",
        "        if arr[i] == pivot_value:\n",
        "            arr[i], arr[high] = arr[high], arr[i]\n",
        "            break\n",
        "\n",
        "    pivot_index = high\n",
        "    i = low\n",
        "    for j in range(low, high):\n",
        "        if arr[j] <= pivot_value:\n",
        "            arr[i], arr[j] = arr[j], arr[i]\n",
        "            i += 1\n",
        "\n",
        "    arr[i], arr[pivot_index] = arr[pivot_index], arr[i]\n",
        "    return i\n",
        "\n",
        "def median_of_medians(arr, low, high):\n",
        "    if high - low + 1 <= 5:\n",
        "        return sorted(arr[low:high+1])[len(arr[low:high+1])//2]\n",
        "\n",
        "    medians = []\n",
        "    for i in range(low, high+1, 5):\n",
        "        group_end = min(i+5, high+1)\n",
        "        median = sorted(arr[i:group_end])[len(arr[i:group_end])//2]\n",
        "        medians.append(median)\n",
        "\n",
        "    return median_of_medians(medians, 0, len(medians) - 1)\n",
        "\n",
        "def quick_select(arr, k, low=None, high=None):\n",
        "    if low is None:\n",
        "        low = 0\n",
        "    if high is None:\n",
        "        high = len(arr) - 1\n",
        "\n",
        "    if low == high:\n",
        "        return arr[low]\n",
        "\n",
        "    pivot_value = median_of_medians(arr, low, high)\n",
        "    pivot_index = partition(arr, low, high, pivot_value)\n",
        "\n",
        "    if k == pivot_index:\n",
        "        return arr[k]\n",
        "    elif k < pivot_index:\n",
        "        return quick_select(arr, k, low, pivot_index - 1)\n",
        "    else:\n",
        "        return quick_select(arr, k, pivot_index + 1, high)\n",
        "\n",
        "# Example usage\n",
        "arr = [10, 4, 5, 8, 6, 11, 3]\n",
        "k = len(arr) // 2  # The 4th smallest element - here it is median\n",
        "median = quick_select(arr, k - 1)\n",
        "print(f\"The {k}-th smallest element is: {median}\")"
      ]
    },
    {
      "cell_type": "code",
      "execution_count": 9,
      "metadata": {
        "id": "T5yPGWNJa8hK",
        "outputId": "5f4bf7b0-34c8-4cdc-cece-5822ee3191cb",
        "colab": {
          "base_uri": "https://localhost:8080/"
        }
      },
      "outputs": [
        {
          "output_type": "execute_result",
          "data": {
            "text/plain": [
              "100001"
            ]
          },
          "metadata": {},
          "execution_count": 9
        }
      ],
      "source": [
        "len(a_1M)"
      ]
    },
    {
      "cell_type": "code",
      "execution_count": 10,
      "metadata": {
        "id": "B44_X8a6a8hK",
        "outputId": "334c4783-9552-456c-8e47-8dfef19ff525",
        "colab": {
          "base_uri": "https://localhost:8080/"
        }
      },
      "outputs": [
        {
          "output_type": "execute_result",
          "data": {
            "text/plain": [
              "500117"
            ]
          },
          "metadata": {},
          "execution_count": 10
        }
      ],
      "source": [
        "quick_select(a_1M, len(a_1M) // 2 )"
      ]
    },
    {
      "cell_type": "code",
      "execution_count": 11,
      "metadata": {
        "id": "YYYggdoia8hL",
        "outputId": "fe9e9b31-3802-4e82-dc01-4172f1725bf4",
        "colab": {
          "base_uri": "https://localhost:8080/"
        }
      },
      "outputs": [
        {
          "output_type": "execute_result",
          "data": {
            "text/plain": [
              "500117"
            ]
          },
          "metadata": {},
          "execution_count": 11
        }
      ],
      "source": [
        "a_1M[len(a_1M) // 2]  # aha! we already know the median"
      ]
    },
    {
      "cell_type": "code",
      "execution_count": 12,
      "metadata": {
        "id": "V6b8En0Na8hL",
        "outputId": "c69c6aa5-e025-4f7a-8447-8252fb7c1b91",
        "colab": {
          "base_uri": "https://localhost:8080/"
        }
      },
      "outputs": [
        {
          "output_type": "stream",
          "name": "stdout",
          "text": [
            "147 ns ± 17.9 ns per loop (mean ± std. dev. of 7 runs, 10000000 loops each)\n"
          ]
        }
      ],
      "source": [
        "%%timeit\n",
        "a_1M[len(a_1M) // 2]  #obviously lookup is the fastest"
      ]
    },
    {
      "cell_type": "code",
      "execution_count": null,
      "metadata": {
        "id": "lO3KFKxaa8hM",
        "outputId": "fd8f0fbc-878e-4130-937a-e8bff53bd5b4"
      },
      "outputs": [
        {
          "name": "stdout",
          "output_type": "stream",
          "text": [
            "5.93 s ± 1.76 s per loop (mean ± std. dev. of 7 runs, 1 loop each)\n"
          ]
        }
      ],
      "source": [
        "%%timeit\n",
        "quick_select(a_1M, len(a_1M) // 2 )"
      ]
    },
    {
      "cell_type": "markdown",
      "metadata": {
        "id": "-Y-Yi87La8hM"
      },
      "source": [
        "\n",
        "\n",
        "## References\n",
        "\n",
        "* [Quick Select on Wikipedia](https://en.wikipedia.org/wiki/Quickselect)\n",
        "* [Median of Medians on Wikipedia](https://en.wikipedia.org/wiki/Median_of_medians)\n",
        "* [Complexity Explained](https://stackoverflow.com/questions/56940793/quickselect-time-complexity-explained)"
      ]
    },
    {
      "cell_type": "markdown",
      "source": [
        "### TODO implement quick select that beats Timsort "
      ],
      "metadata": {
        "id": "X7QIonvZf1eY"
      }
    }
  ],
  "metadata": {
    "kernelspec": {
      "display_name": "Python 3",
      "language": "python",
      "name": "python3"
    },
    "language_info": {
      "codemirror_mode": {
        "name": "ipython",
        "version": 3
      },
      "file_extension": ".py",
      "mimetype": "text/x-python",
      "name": "python",
      "nbconvert_exporter": "python",
      "pygments_lexer": "ipython3",
      "version": "3.10.7"
    },
    "orig_nbformat": 4,
    "colab": {
      "provenance": []
    }
  },
  "nbformat": 4,
  "nbformat_minor": 0
}