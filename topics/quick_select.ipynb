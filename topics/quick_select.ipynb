{
 "cells": [
  {
   "attachments": {},
   "cell_type": "markdown",
   "metadata": {},
   "source": [
    "# Quick Select\n",
    "\n"
   ]
  },
  {
   "attachments": {},
   "cell_type": "markdown",
   "metadata": {},
   "source": [
    "## Quick Select Algorithm\n",
    "\n",
    "The Quick Select algorithm is a selection algorithm in computer science, used to find the k-th smallest element in an unordered list. It was developed by Tony Hoare, who also created the Quick Sort algorithm. Quick Select is an efficient in-place algorithm with an average-case complexity of O(n), where n is the number of elements in the list. However, its worst-case complexity is O(n^2).\n",
    "\n",
    "The algorithm works similarly to Quick Sort, using the partitioning method. Here's an overview of the steps:\n",
    "\n",
    "* Choose a 'pivot' element from the list (there are various ways to select the pivot, such as choosing the first, last, or median element).\n",
    "* Partition the list such that all elements less than the pivot are to its left, and all elements greater than the pivot are to its right.\n",
    "* Check the position of the pivot in the partitioned list:\n",
    "\n",
    "1. If the pivot's position is equal to k, then the pivot is the k-th smallest element, and the algorithm terminates.\n",
    "2. If the pivot's position is greater than k, repeat the process on the left partition.\n",
    "3. If the pivot's position is less than k, repeat the process on the right partition, adjusting the value of k accordingly.\n",
    "\n",
    "In most cases, Quick Select is more efficient than sorting the list and then selecting the k-th element, especially when k is small relative to the size of the list. However, Quick Select is not a stable selection algorithm, meaning that it doesn't preserve the relative order of equal elements in the list."
   ]
  },
  {
   "attachments": {},
   "cell_type": "markdown",
   "metadata": {},
   "source": [
    "![GIF](https://upload.wikimedia.org/wikipedia/commons/0/04/Selecting_quickselect_frames.gif)"
   ]
  },
  {
   "attachments": {},
   "cell_type": "markdown",
   "metadata": {},
   "source": [
    "## Finding Median in Linear Time - maybe\n",
    "\n",
    "To find the median value of a list using the Quick Select algorithm, you need to determine the position of the median element, depending on whether the list has an odd or even number of elements.\n",
    "\n",
    "If the list has an odd number of elements (2n + 1), the median is the element at position (n + 1). So, you would use Quick Select to find the (n + 1)-th smallest element in the list.\n",
    "\n",
    "If the list has an even number of elements (2n), the median is the average of the two middle elements at positions n and (n + 1). In this case, you would run Quick Select twice: first, to find the n-th smallest element, and then to find the (n + 1)-th smallest element. Finally, you would compute the average of these two elements to get the median value.\n",
    "\n",
    "Using Quick Select to find the median value can be very efficient, with an average-case complexity of O(n). However, in the worst-case scenario, the complexity can be O(n^2). To avoid the worst-case complexity, you can use an algorithm called the Median of Medians, which is a pivot selection strategy that guarantees linear complexity (O(n)) for finding the median value."
   ]
  },
  {
   "cell_type": "code",
   "execution_count": 1,
   "metadata": {},
   "outputs": [
    {
     "name": "stdout",
     "output_type": "stream",
     "text": [
      "The 3-th smallest element is: 5\n"
     ]
    }
   ],
   "source": [
    "import random\n",
    "random.seed(2023) # For reproducibility\n",
    "\n",
    "def partition(arr, low, high):\n",
    "    pivot_index = random.randint(low, high)\n",
    "    pivot = arr[pivot_index]\n",
    "    arr[pivot_index], arr[high] = arr[high], arr[pivot_index]\n",
    "\n",
    "    i = low\n",
    "    for j in range(low, high):\n",
    "        if arr[j] <= pivot:\n",
    "            arr[i], arr[j] = arr[j], arr[i]\n",
    "            i += 1\n",
    "\n",
    "    arr[i], arr[high] = arr[high], arr[i]\n",
    "    return i\n",
    "\n",
    "def quick_select(arr, k, low=None, high=None):\n",
    "    if low is None:\n",
    "        low = 0\n",
    "    if high is None:\n",
    "        high = len(arr) - 1\n",
    "\n",
    "    if low == high:\n",
    "        return arr[low]\n",
    "\n",
    "    pivot_index = partition(arr, low, high)\n",
    "\n",
    "    if k == pivot_index:\n",
    "        return arr[k]\n",
    "    elif k < pivot_index:\n",
    "        return quick_select(arr, k, low, pivot_index - 1)\n",
    "    else:\n",
    "        return quick_select(arr, k, pivot_index + 1, high)\n",
    "\n",
    "# Example usage\n",
    "arr = [10, 4, 5, 8, 6, 11, 3]\n",
    "k = len(arr) // 2  # The 4th smallest element - here it is median\n",
    "median = quick_select(arr, k - 1)\n",
    "print(f\"The {k}-th smallest element is: {median}\")"
   ]
  },
  {
   "cell_type": "code",
   "execution_count": 13,
   "metadata": {},
   "outputs": [
    {
     "name": "stdout",
     "output_type": "stream",
     "text": [
      "The median of the array is: 501732\n",
      "The array is changed!\n",
      "The median of the array is: 501732\n"
     ]
    }
   ],
   "source": [
    "# Let's generate some random numbers and find the median\n",
    "a_1M = [random.randint(0, 1_000_000) for _ in range(100_000+1)] # to have odd numbers for simplicity\n",
    "\n",
    "a_1M_backup = a_1M.copy() # to compare with sorted array\n",
    "# Let's find the median\n",
    "median = quick_select(a_1M, len(a_1M) // 2 )\n",
    "print(f\"The median of the array is: {median}\")\n",
    "\n",
    "# check that the array is not changed\n",
    "if a_1M != a_1M_backup:\n",
    "    print(\"The array is changed!\")\n",
    "\n",
    "# let's find median using sorted array\n",
    "a_1M_sorted = sorted(a_1M)\n",
    "print(f\"The median of the array is: {a_1M_sorted[len(a_1M_sorted) // 2]}\")"
   ]
  },
  {
   "attachments": {},
   "cell_type": "markdown",
   "metadata": {},
   "source": [
    "## Timing the Algorithms"
   ]
  },
  {
   "cell_type": "code",
   "execution_count": 14,
   "metadata": {},
   "outputs": [
    {
     "name": "stdout",
     "output_type": "stream",
     "text": [
      "36.7 ms ± 4.92 ms per loop (mean ± std. dev. of 7 runs, 10 loops each)\n"
     ]
    }
   ],
   "source": [
    "%%timeit\n",
    "quick_select(a_1M, len(a_1M) // 2 )"
   ]
  },
  {
   "cell_type": "code",
   "execution_count": 15,
   "metadata": {},
   "outputs": [
    {
     "name": "stdout",
     "output_type": "stream",
     "text": [
      "10.6 ms ± 202 µs per loop (mean ± std. dev. of 7 runs, 100 loops each)\n"
     ]
    }
   ],
   "source": [
    "%%timeit\n",
    "sorted(a_1M)[len(a_1M) // 2]"
   ]
  },
  {
   "cell_type": "code",
   "execution_count": 17,
   "metadata": {},
   "outputs": [
    {
     "name": "stdout",
     "output_type": "stream",
     "text": [
      "18.2 ms ± 1.67 ms per loop (mean ± std. dev. of 7 runs, 10 loops each)\n"
     ]
    }
   ],
   "source": [
    "%%timeit\n",
    "sorted(a_1M_backup)[len(a_1M_backup) // 2]"
   ]
  },
  {
   "cell_type": "code",
   "execution_count": 9,
   "metadata": {},
   "outputs": [],
   "source": [
    "# lets get 10 million random numbers\n",
    "a_10M = [random.randint(0, 100_000_000) for _ in range(10_000_000+1)] # to have odd numbers for simplicity\n"
   ]
  },
  {
   "cell_type": "code",
   "execution_count": 10,
   "metadata": {},
   "outputs": [
    {
     "name": "stdout",
     "output_type": "stream",
     "text": [
      "6.04 s ± 1.73 s per loop (mean ± std. dev. of 7 runs, 1 loop each)\n"
     ]
    }
   ],
   "source": [
    "%%timeit\n",
    "quick_select(a_10M, len(a_10M) // 2 )"
   ]
  },
  {
   "cell_type": "code",
   "execution_count": 11,
   "metadata": {},
   "outputs": [
    {
     "name": "stdout",
     "output_type": "stream",
     "text": [
      "5 s ± 119 ms per loop (mean ± std. dev. of 7 runs, 1 loop each)\n"
     ]
    }
   ],
   "source": [
    "%%timeit\n",
    "sorted(a_10M)[len(a_10M) // 2]"
   ]
  },
  {
   "attachments": {},
   "cell_type": "markdown",
   "metadata": {},
   "source": [
    "## Why is our quick select so slow? - MOM to the rescue\n",
    "\n",
    "We are fighting against optimized Timsort. \n",
    "\n",
    "We are also using a naive partitioning algorithm. We can do better.\n",
    "\n",
    "From Jeff Erickson's [blog pg.37 ch. 1](https://jeffe.cs.illinois.edu/teaching/algorithms/book/01-recursion.pdf):\n",
    "\n",
    "Specifically, we divide the input array into dn/5e blocks, each containing\n",
    "exactly 5 elements, except possibly the last. (If the last block isn’t full, just throw\n",
    "in a few 1s.) We compute the median of each block by brute force, collect\n",
    "those medians into a new array M[1 ..dn/5e], and then recursively compute\n",
    "the median of this new array. Finally, we use the median of the block medians\n",
    "(called “mom” in the pseudocode below) as the quickselect pivot."
   ]
  },
  {
   "cell_type": "code",
   "execution_count": 19,
   "metadata": {},
   "outputs": [
    {
     "name": "stdout",
     "output_type": "stream",
     "text": [
      "The 3-th smallest element is: 5\n"
     ]
    }
   ],
   "source": [
    "def partition(arr, low, high, pivot_value):\n",
    "    for i in range(low, high):\n",
    "        if arr[i] == pivot_value:\n",
    "            arr[i], arr[high] = arr[high], arr[i]\n",
    "            break\n",
    "\n",
    "    pivot_index = high\n",
    "    i = low\n",
    "    for j in range(low, high):\n",
    "        if arr[j] <= pivot_value:\n",
    "            arr[i], arr[j] = arr[j], arr[i]\n",
    "            i += 1\n",
    "\n",
    "    arr[i], arr[pivot_index] = arr[pivot_index], arr[i]\n",
    "    return i\n",
    "\n",
    "def median_of_medians(arr, low, high):\n",
    "    if high - low + 1 <= 5:\n",
    "        return sorted(arr[low:high+1])[len(arr[low:high+1])//2]\n",
    "\n",
    "    medians = []\n",
    "    for i in range(low, high+1, 5):\n",
    "        group_end = min(i+5, high+1)\n",
    "        median = sorted(arr[i:group_end])[len(arr[i:group_end])//2]\n",
    "        medians.append(median)\n",
    "\n",
    "    return median_of_medians(medians, 0, len(medians) - 1)\n",
    "\n",
    "def quick_select(arr, k, low=None, high=None):\n",
    "    if low is None:\n",
    "        low = 0\n",
    "    if high is None:\n",
    "        high = len(arr) - 1\n",
    "\n",
    "    if low == high:\n",
    "        return arr[low]\n",
    "\n",
    "    pivot_value = median_of_medians(arr, low, high)\n",
    "    pivot_index = partition(arr, low, high, pivot_value)\n",
    "\n",
    "    if k == pivot_index:\n",
    "        return arr[k]\n",
    "    elif k < pivot_index:\n",
    "        return quick_select(arr, k, low, pivot_index - 1)\n",
    "    else:\n",
    "        return quick_select(arr, k, pivot_index + 1, high)\n",
    "\n",
    "# Example usage\n",
    "arr = [10, 4, 5, 8, 6, 11, 3]\n",
    "k = len(arr) // 2  # The 4th smallest element - here it is median\n",
    "median = quick_select(arr, k - 1)\n",
    "print(f\"The {k}-th smallest element is: {median}\")"
   ]
  },
  {
   "cell_type": "code",
   "execution_count": 21,
   "metadata": {},
   "outputs": [
    {
     "data": {
      "text/plain": [
       "100001"
      ]
     },
     "execution_count": 21,
     "metadata": {},
     "output_type": "execute_result"
    }
   ],
   "source": [
    "len(a_1M)"
   ]
  },
  {
   "cell_type": "code",
   "execution_count": 22,
   "metadata": {},
   "outputs": [
    {
     "data": {
      "text/plain": [
       "501732"
      ]
     },
     "execution_count": 22,
     "metadata": {},
     "output_type": "execute_result"
    }
   ],
   "source": [
    "quick_select(a_1M, len(a_1M) // 2 )"
   ]
  },
  {
   "cell_type": "code",
   "execution_count": 23,
   "metadata": {},
   "outputs": [
    {
     "data": {
      "text/plain": [
       "501732"
      ]
     },
     "execution_count": 23,
     "metadata": {},
     "output_type": "execute_result"
    }
   ],
   "source": [
    "a_1M[len(a_1M) // 2]  # aha! we already know the median"
   ]
  },
  {
   "cell_type": "code",
   "execution_count": 24,
   "metadata": {},
   "outputs": [
    {
     "name": "stdout",
     "output_type": "stream",
     "text": [
      "103 ns ± 1.73 ns per loop (mean ± std. dev. of 7 runs, 10,000,000 loops each)\n"
     ]
    }
   ],
   "source": [
    "%%timeit\n",
    "a_1M[len(a_1M) // 2]  #obviously lookup is the fastest"
   ]
  },
  {
   "cell_type": "code",
   "execution_count": 20,
   "metadata": {},
   "outputs": [
    {
     "name": "stdout",
     "output_type": "stream",
     "text": [
      "5.93 s ± 1.76 s per loop (mean ± std. dev. of 7 runs, 1 loop each)\n"
     ]
    }
   ],
   "source": [
    "%%timeit\n",
    "quick_select(a_1M, len(a_1M) // 2 )"
   ]
  },
  {
   "attachments": {},
   "cell_type": "markdown",
   "metadata": {},
   "source": [
    "\n",
    "\n",
    "## References\n",
    "\n",
    "* [Quick Select on Wikipedia](https://en.wikipedia.org/wiki/Quickselect)\n",
    "* [Median of Medians on Wikipedia](https://en.wikipedia.org/wiki/Median_of_medians)\n",
    "* [Quick Select Visualization](https://www.cs.usfca.edu/~galles/visualization/QuickSelect.html)"
   ]
  }
 ],
 "metadata": {
  "kernelspec": {
   "display_name": "Python 3",
   "language": "python",
   "name": "python3"
  },
  "language_info": {
   "codemirror_mode": {
    "name": "ipython",
    "version": 3
   },
   "file_extension": ".py",
   "mimetype": "text/x-python",
   "name": "python",
   "nbconvert_exporter": "python",
   "pygments_lexer": "ipython3",
   "version": "3.10.7"
  },
  "orig_nbformat": 4
 },
 "nbformat": 4,
 "nbformat_minor": 2
}
