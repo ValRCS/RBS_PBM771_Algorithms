{
  "cells": [
    {
      "cell_type": "markdown",
      "metadata": {
        "id": "jXu0jt3VkL3F"
      },
      "source": [
        "# n-queens  problem\n",
        "\n",
        "https://en.wikipedia.org/wiki/Eight_queens_puzzle\n",
        "\n",
        "![Solution](https://upload.wikimedia.org/wikipedia/commons/1/1f/Eight-queens-animation.gif)\n",
        "\n",
        "https://www.geeksforgeeks.org/n-queen-problem-backtracking-3/"
      ]
    },
    {
      "cell_type": "code",
      "execution_count": 2,
      "metadata": {
        "colab": {
          "base_uri": "https://localhost:8080/"
        },
        "id": "VNk1dJPOkL3I",
        "outputId": "2f33d8ca-a9e3-42ed-9846-3143252bb249"
      },
      "outputs": [
        {
          "data": {
            "text/plain": [
              "4426165368"
            ]
          },
          "execution_count": 2,
          "metadata": {},
          "output_type": "execute_result"
        }
      ],
      "source": [
        "# so if we were going to use completely brute force we would need  to look at C(8,64) solutions\n",
        "# we can use our friend memoized function from last week\n",
        "import functools\n",
        "@functools.lru_cache(maxsize=None)\n",
        "def C_mem(n,k):\n",
        "    if k == 0: return 1\n",
        "    if n == 0: return 0\n",
        "    return C_mem(n-1,k-1) + C_mem(n-1,k)\n",
        "C_mem(64,8)"
      ]
    },
    {
      "cell_type": "markdown",
      "metadata": {},
      "source": [
        "## N-Queen Solver in Python"
      ]
    },
    {
      "cell_type": "code",
      "execution_count": 1,
      "metadata": {
        "id": "A_iXR_wekL3J"
      },
      "outputs": [],
      "source": [
        "# Python3 program to solve N Queen \n",
        "# Problem using backtracking \n",
        "# global N # kind of ugly global state\n",
        "# N = 4\n",
        "\n",
        "def print_solution(board): \n",
        "    for row in board: \n",
        "        for cell in row: \n",
        "            print(cell, end = \" \") \n",
        "        print() \n",
        "\n",
        "# A utility function to check if a queen can \n",
        "# be placed on board[row][col]. Note that this \n",
        "# function is called when \"col\" queens are \n",
        "# already placed in columns from 0 to col -1. \n",
        "# So we need to check only left side for \n",
        "# attacking queens \n",
        "def is_safe(board, row, col): \n",
        "    # Check this row on left side \n",
        "    for i in range(col): \n",
        "        if board[row][i] == 1: \n",
        "            return False\n",
        "\n",
        "    # Check upper diagonal on left side \n",
        "    for i, j in zip(range(row, -1, -1), \n",
        "                    range(col, -1, -1)): \n",
        "        if board[i][j] == 1: \n",
        "            return False\n",
        "\n",
        "    # Check lower diagonal on left side \n",
        "    N = len(board)\n",
        "    for i, j in zip(range(row, N, 1), \n",
        "                    range(col, -1, -1)): \n",
        "        if board[i][j] == 1: \n",
        "            return False\n",
        "\n",
        "    return True\n",
        "\n",
        "def solve_NQ_util(board, col, N, verbose=False): \n",
        "\n",
        "    if verbose: \n",
        "        print(f\"col={col} N={N}\")\n",
        "        print_solution(board)\n",
        "        print()\n",
        "    # base case: If all queens are placed \n",
        "    # then return true \n",
        "    if col >= N: \n",
        "        return True\n",
        "\n",
        "    # Consider this column and try placing \n",
        "    # this queen in all rows one by one \n",
        "    for i in range(N): \n",
        "\n",
        "        if is_safe(board, i, col): \n",
        "\n",
        "            # Place this queen in board[i][col] \n",
        "            board[i][col] = 1\n",
        "\n",
        "            # recur to place rest of the queens \n",
        "            if solve_NQ_util(board, col + 1, N=N, verbose=verbose) == True: \n",
        "                return True\n",
        "\n",
        "            # If placing queen in board[i][col \n",
        "            # doesn't lead to a solution, then \n",
        "            # queen from board[i][col] \n",
        "            board[i][col] = 0\n",
        "\n",
        "    # if the queen can not be placed in any row in \n",
        "    # this colum col then return false \n",
        "    return False\n",
        "\n",
        "# This function solves the N Queen problem using \n",
        "# Backtracking. It mainly uses solveNQUtil() to \n",
        "# solve the problem. It returns false if queens \n",
        "# cannot be placed, otherwise return true and \n",
        "# placement of queens in the form of 1s. \n",
        "# note that there may be more than one \n",
        "# solutions, this function prints one of the \n",
        "# feasible solutions. \n",
        "\n",
        "\n",
        "\n",
        "\n",
        "\n",
        "# This code is contributed by Divyanshu Mehta \n",
        "# Fixed by Valdis Saulespurens\n"
      ]
    },
    {
      "cell_type": "code",
      "execution_count": 2,
      "metadata": {
        "id": "gwdYuE8UkL3K"
      },
      "outputs": [
        {
          "name": "stdout",
          "output_type": "stream",
          "text": [
            "0 0 1 0 \n",
            "1 0 0 0 \n",
            "0 0 0 1 \n",
            "0 1 0 0 \n"
          ]
        },
        {
          "data": {
            "text/plain": [
              "True"
            ]
          },
          "execution_count": 2,
          "metadata": {},
          "output_type": "execute_result"
        }
      ],
      "source": [
        "def solve_NQ(N=4, print_board=True): \n",
        "\n",
        "    # first we need to make the board\n",
        "    board = [[0 for _ in range(N)] for _ in range(N)]\n",
        "\n",
        "    if solve_NQ_util(board, 0, N=N, verbose=False) == False: \n",
        "        #print (\"Solution does not exist\") \n",
        "        return False\n",
        "\n",
        "    if print_board:\n",
        "        print_solution(board) \n",
        "    return True\n",
        "\n",
        "# let's test it with 4 queens\n",
        "solve_NQ(4)"
      ]
    },
    {
      "cell_type": "code",
      "execution_count": 5,
      "metadata": {
        "colab": {
          "base_uri": "https://localhost:8080/"
        },
        "id": "cvAdje6vkL3L",
        "outputId": "1fd4b088-2501-4490-9014-cbf2d4b659cd"
      },
      "outputs": [
        {
          "name": "stdout",
          "output_type": "stream",
          "text": [
            "1 \n"
          ]
        },
        {
          "data": {
            "text/plain": [
              "True"
            ]
          },
          "execution_count": 5,
          "metadata": {},
          "output_type": "execute_result"
        }
      ],
      "source": [
        "# Driver Code \n",
        "solve_NQ(1) "
      ]
    },
    {
      "cell_type": "code",
      "execution_count": 6,
      "metadata": {
        "colab": {
          "base_uri": "https://localhost:8080/"
        },
        "id": "EpqcOfi0oqNP",
        "outputId": "407ed173-e169-42a4-ea83-04efe7bda489"
      },
      "outputs": [
        {
          "data": {
            "text/plain": [
              "False"
            ]
          },
          "execution_count": 6,
          "metadata": {},
          "output_type": "execute_result"
        }
      ],
      "source": [
        "solve_NQ(3)"
      ]
    },
    {
      "cell_type": "code",
      "execution_count": 8,
      "metadata": {
        "colab": {
          "base_uri": "https://localhost:8080/"
        },
        "id": "aBW3YgrMkL3N",
        "outputId": "4f6e98b8-6bc2-4e73-9c9c-d3162f48a62f"
      },
      "outputs": [
        {
          "name": "stdout",
          "output_type": "stream",
          "text": [
            "--------------------Board size 4X4 --------------------\n",
            "0 0 1 0 \n",
            "1 0 0 0 \n",
            "0 0 0 1 \n",
            "0 1 0 0 \n",
            "--------------------Board size 5X5 --------------------\n",
            "1 0 0 0 0 \n",
            "0 0 0 1 0 \n",
            "0 1 0 0 0 \n",
            "0 0 0 0 1 \n",
            "0 0 1 0 0 \n",
            "--------------------Board size 6X6 --------------------\n",
            "0 0 0 1 0 0 \n",
            "1 0 0 0 0 0 \n",
            "0 0 0 0 1 0 \n",
            "0 1 0 0 0 0 \n",
            "0 0 0 0 0 1 \n",
            "0 0 1 0 0 0 \n",
            "--------------------Board size 7X7 --------------------\n",
            "1 0 0 0 0 0 0 \n",
            "0 0 0 0 1 0 0 \n",
            "0 1 0 0 0 0 0 \n",
            "0 0 0 0 0 1 0 \n",
            "0 0 1 0 0 0 0 \n",
            "0 0 0 0 0 0 1 \n",
            "0 0 0 1 0 0 0 \n",
            "--------------------Board size 8X8 --------------------\n",
            "1 0 0 0 0 0 0 0 \n",
            "0 0 0 0 0 0 1 0 \n",
            "0 0 0 0 1 0 0 0 \n",
            "0 0 0 0 0 0 0 1 \n",
            "0 1 0 0 0 0 0 0 \n",
            "0 0 0 1 0 0 0 0 \n",
            "0 0 0 0 0 1 0 0 \n",
            "0 0 1 0 0 0 0 0 \n",
            "--------------------Board size 9X9 --------------------\n",
            "1 0 0 0 0 0 0 0 0 \n",
            "0 0 0 0 1 0 0 0 0 \n",
            "0 1 0 0 0 0 0 0 0 \n",
            "0 0 0 0 0 1 0 0 0 \n",
            "0 0 0 0 0 0 0 0 1 \n",
            "0 0 1 0 0 0 0 0 0 \n",
            "0 0 0 0 0 0 0 1 0 \n",
            "0 0 0 1 0 0 0 0 0 \n",
            "0 0 0 0 0 0 1 0 0 \n",
            "--------------------Board size 10X10 --------------------\n",
            "1 0 0 0 0 0 0 0 0 0 \n",
            "0 0 0 0 0 0 0 1 0 0 \n",
            "0 1 0 0 0 0 0 0 0 0 \n",
            "0 0 0 0 0 0 0 0 1 0 \n",
            "0 0 0 0 0 1 0 0 0 0 \n",
            "0 0 1 0 0 0 0 0 0 0 \n",
            "0 0 0 0 0 0 0 0 0 1 \n",
            "0 0 0 1 0 0 0 0 0 0 \n",
            "0 0 0 0 0 0 1 0 0 0 \n",
            "0 0 0 0 1 0 0 0 0 0 \n",
            "--------------------Board size 11X11 --------------------\n",
            "1 0 0 0 0 0 0 0 0 0 0 \n",
            "0 0 0 0 0 0 1 0 0 0 0 \n",
            "0 1 0 0 0 0 0 0 0 0 0 \n",
            "0 0 0 0 0 0 0 1 0 0 0 \n",
            "0 0 1 0 0 0 0 0 0 0 0 \n",
            "0 0 0 0 0 0 0 0 1 0 0 \n",
            "0 0 0 1 0 0 0 0 0 0 0 \n",
            "0 0 0 0 0 0 0 0 0 1 0 \n",
            "0 0 0 0 1 0 0 0 0 0 0 \n",
            "0 0 0 0 0 0 0 0 0 0 1 \n",
            "0 0 0 0 0 1 0 0 0 0 0 \n",
            "--------------------Board size 12X12 --------------------\n",
            "1 0 0 0 0 0 0 0 0 0 0 0 \n",
            "0 0 0 0 0 0 0 0 1 0 0 0 \n",
            "0 1 0 0 0 0 0 0 0 0 0 0 \n",
            "0 0 0 0 0 0 0 0 0 0 0 1 \n",
            "0 0 1 0 0 0 0 0 0 0 0 0 \n",
            "0 0 0 0 0 0 1 0 0 0 0 0 \n",
            "0 0 0 0 0 0 0 0 0 1 0 0 \n",
            "0 0 0 1 0 0 0 0 0 0 0 0 \n",
            "0 0 0 0 0 0 0 0 0 0 1 0 \n",
            "0 0 0 0 1 0 0 0 0 0 0 0 \n",
            "0 0 0 0 0 0 0 1 0 0 0 0 \n",
            "0 0 0 0 0 1 0 0 0 0 0 0 \n",
            "--------------------Board size 13X13 --------------------\n",
            "1 0 0 0 0 0 0 0 0 0 0 0 0 \n",
            "0 0 0 1 0 0 0 0 0 0 0 0 0 \n",
            "0 1 0 0 0 0 0 0 0 0 0 0 0 \n",
            "0 0 0 0 0 0 0 0 1 0 0 0 0 \n",
            "0 0 1 0 0 0 0 0 0 0 0 0 0 \n",
            "0 0 0 0 0 0 0 0 0 1 0 0 0 \n",
            "0 0 0 0 0 0 0 0 0 0 0 0 1 \n",
            "0 0 0 0 0 0 0 0 0 0 1 0 0 \n",
            "0 0 0 0 1 0 0 0 0 0 0 0 0 \n",
            "0 0 0 0 0 0 1 0 0 0 0 0 0 \n",
            "0 0 0 0 0 0 0 0 0 0 0 1 0 \n",
            "0 0 0 0 0 1 0 0 0 0 0 0 0 \n",
            "0 0 0 0 0 0 0 1 0 0 0 0 0 \n",
            "--------------------Board size 14X14 --------------------\n",
            "1 0 0 0 0 0 0 0 0 0 0 0 0 0 \n",
            "0 0 0 0 0 0 0 0 0 0 1 0 0 0 \n",
            "0 1 0 0 0 0 0 0 0 0 0 0 0 0 \n",
            "0 0 0 0 0 0 0 1 0 0 0 0 0 0 \n",
            "0 0 1 0 0 0 0 0 0 0 0 0 0 0 \n",
            "0 0 0 0 0 0 0 0 0 0 0 1 0 0 \n",
            "0 0 0 1 0 0 0 0 0 0 0 0 0 0 \n",
            "0 0 0 0 0 0 0 0 0 0 0 0 1 0 \n",
            "0 0 0 0 0 0 0 0 0 1 0 0 0 0 \n",
            "0 0 0 0 0 1 0 0 0 0 0 0 0 0 \n",
            "0 0 0 0 0 0 0 0 0 0 0 0 0 1 \n",
            "0 0 0 0 1 0 0 0 0 0 0 0 0 0 \n",
            "0 0 0 0 0 0 1 0 0 0 0 0 0 0 \n",
            "0 0 0 0 0 0 0 0 1 0 0 0 0 0 \n",
            "--------------------Board size 15X15 --------------------\n",
            "1 0 0 0 0 0 0 0 0 0 0 0 0 0 0 \n",
            "0 0 0 1 0 0 0 0 0 0 0 0 0 0 0 \n",
            "0 1 0 0 0 0 0 0 0 0 0 0 0 0 0 \n",
            "0 0 0 0 0 0 0 1 0 0 0 0 0 0 0 \n",
            "0 0 1 0 0 0 0 0 0 0 0 0 0 0 0 \n",
            "0 0 0 0 0 0 0 0 0 0 1 0 0 0 0 \n",
            "0 0 0 0 0 0 0 0 0 0 0 0 1 0 0 \n",
            "0 0 0 0 0 0 0 0 0 0 0 0 0 0 1 \n",
            "0 0 0 0 0 0 0 0 0 1 0 0 0 0 0 \n",
            "0 0 0 0 1 0 0 0 0 0 0 0 0 0 0 \n",
            "0 0 0 0 0 0 0 0 0 0 0 0 0 1 0 \n",
            "0 0 0 0 0 1 0 0 0 0 0 0 0 0 0 \n",
            "0 0 0 0 0 0 0 0 1 0 0 0 0 0 0 \n",
            "0 0 0 0 0 0 1 0 0 0 0 0 0 0 0 \n",
            "0 0 0 0 0 0 0 0 0 0 0 1 0 0 0 \n",
            "--------------------Board size 16X16 --------------------\n",
            "1 0 0 0 0 0 0 0 0 0 0 0 0 0 0 0 \n",
            "0 0 0 1 0 0 0 0 0 0 0 0 0 0 0 0 \n",
            "0 1 0 0 0 0 0 0 0 0 0 0 0 0 0 0 \n",
            "0 0 0 0 0 0 0 0 0 0 0 0 1 0 0 0 \n",
            "0 0 1 0 0 0 0 0 0 0 0 0 0 0 0 0 \n",
            "0 0 0 0 0 0 0 0 0 1 0 0 0 0 0 0 \n",
            "0 0 0 0 0 0 0 0 0 0 0 1 0 0 0 0 \n",
            "0 0 0 0 0 0 0 0 0 0 0 0 0 0 1 0 \n",
            "0 0 0 0 0 1 0 0 0 0 0 0 0 0 0 0 \n",
            "0 0 0 0 0 0 0 0 0 0 0 0 0 0 0 1 \n",
            "0 0 0 0 0 0 0 0 0 0 0 0 0 1 0 0 \n",
            "0 0 0 0 0 0 0 1 0 0 0 0 0 0 0 0 \n",
            "0 0 0 0 1 0 0 0 0 0 0 0 0 0 0 0 \n",
            "0 0 0 0 0 0 1 0 0 0 0 0 0 0 0 0 \n",
            "0 0 0 0 0 0 0 0 1 0 0 0 0 0 0 0 \n",
            "0 0 0 0 0 0 0 0 0 0 1 0 0 0 0 0 \n"
          ]
        }
      ],
      "source": [
        "for n in range(4,17):\n",
        "    print(f\"{\"-\"*20}Board size {n}X{n} {\"-\"*20}\")\n",
        "    solve_NQ(n)\n",
        "    "
      ]
    },
    {
      "cell_type": "code",
      "execution_count": 9,
      "metadata": {
        "colab": {
          "base_uri": "https://localhost:8080/"
        },
        "id": "UHhef7w_kL3O",
        "outputId": "c8144e45-5d82-4e99-855c-1d8f62ee8c14"
      },
      "outputs": [
        {
          "name": "stdout",
          "output_type": "stream",
          "text": [
            "482 μs ± 28.2 μs per loop (mean ± std. dev. of 7 runs, 1,000 loops each)\n"
          ]
        }
      ],
      "source": [
        "%%timeit\n",
        "solve_NQ(8, print_board=False)"
      ]
    },
    {
      "cell_type": "code",
      "execution_count": null,
      "metadata": {
        "id": "G7Ljjhn-kL3P"
      },
      "outputs": [],
      "source": [
        "# reason we got a solution does not exist is that we already prefilled the board after first run :)\n"
      ]
    },
    {
      "cell_type": "code",
      "execution_count": 11,
      "metadata": {
        "colab": {
          "base_uri": "https://localhost:8080/"
        },
        "id": "j1a7UdvQkL3P",
        "outputId": "3b2c68a8-4873-4c7d-dc1b-eab688fc2060"
      },
      "outputs": [
        {
          "name": "stdout",
          "output_type": "stream",
          "text": [
            "594 μs ± 114 μs per loop (mean ± std. dev. of 7 runs, 1,000 loops each)\n"
          ]
        }
      ],
      "source": [
        "%%timeit\n",
        "solve_NQ(N=10, print_board=False)"
      ]
    },
    {
      "cell_type": "code",
      "execution_count": 12,
      "metadata": {
        "id": "obebofLwqBj0"
      },
      "outputs": [
        {
          "name": "stdout",
          "output_type": "stream",
          "text": [
            "101 ms ± 3.8 ms per loop (mean ± std. dev. of 7 runs, 10 loops each)\n"
          ]
        }
      ],
      "source": [
        "%%timeit\n",
        "solve_NQ(N=16, print_board=False)"
      ]
    },
    {
      "cell_type": "code",
      "execution_count": 13,
      "metadata": {
        "colab": {
          "base_uri": "https://localhost:8080/"
        },
        "id": "3SiERn2vqIbj",
        "outputId": "1723eafd-6874-4e3d-e5c4-2e0417cd6654"
      },
      "outputs": [
        {
          "name": "stdout",
          "output_type": "stream",
          "text": [
            "2.69 s ± 56 ms per loop (mean ± std. dev. of 7 runs, 1 loop each)\n"
          ]
        }
      ],
      "source": [
        "%%timeit\n",
        "solve_NQ(N=20, print_board=False)"
      ]
    },
    {
      "cell_type": "code",
      "execution_count": 15,
      "metadata": {},
      "outputs": [
        {
          "data": {
            "text/plain": [
              "2788360983670896737872851072994080"
            ]
          },
          "execution_count": 15,
          "metadata": {},
          "output_type": "execute_result"
        }
      ],
      "source": [
        "# why is 20 taking so long?\n",
        "# well we are looking at pick 20 out of 400\n",
        "C_mem(20*20,20) # Pure Brute force would be even worse"
      ]
    },
    {
      "cell_type": "markdown",
      "metadata": {
        "id": "N-jEUcctkL3P"
      },
      "source": [
        "## Idea - choose path at random among all remaining paths\n",
        "We are still going to check all paths (until we find a solution)"
      ]
    },
    {
      "cell_type": "code",
      "execution_count": 4,
      "metadata": {},
      "outputs": [
        {
          "name": "stdout",
          "output_type": "stream",
          "text": [
            "0 0 1 0 \n",
            "1 0 0 0 \n",
            "0 0 0 1 \n",
            "0 1 0 0 \n"
          ]
        },
        {
          "data": {
            "text/plain": [
              "True"
            ]
          },
          "execution_count": 4,
          "metadata": {},
          "output_type": "execute_result"
        }
      ],
      "source": [
        "# we are going to rewrite our NQ util to accept a function that will providing iterator of possible rows\n",
        "def solve_NQ_util_strategy(board, col, N, get_iterator, verbose=False): \n",
        "\n",
        "    if verbose: \n",
        "        print(f\"col={col} N={N}\")\n",
        "        print_solution(board)\n",
        "        print()\n",
        "    # base case: If all queens are placed \n",
        "    # then return true \n",
        "    if col >= N: \n",
        "        return True\n",
        "\n",
        "    # Consider this column and try placing \n",
        "    # this queen in all rows one by one \n",
        "    for i in get_iterator(N): \n",
        "\n",
        "        if is_safe(board, i, col): \n",
        "\n",
        "            # Place this queen in board[i][col] \n",
        "            board[i][col] = 1\n",
        "\n",
        "            # recur to place rest of the queens \n",
        "            if solve_NQ_util_strategy(board, col + 1, N=N, get_iterator=get_iterator, verbose=verbose) == True: \n",
        "                return True\n",
        "\n",
        "            # If placing queen in board[i][col \n",
        "            # doesn't lead to a solution, then \n",
        "            # queen from board[i][col] \n",
        "            board[i][col] = 0\n",
        "\n",
        "    # if the queen can not be placed in any row in \n",
        "    # this colum col then return false \n",
        "    return False\n",
        "\n",
        "def solve_NQ_strategy(N=4, get_iterator=range, print_board=True): \n",
        "\n",
        "    # first we need to make the board\n",
        "    board = [[0 for _ in range(N)] for _ in range(N)]\n",
        "\n",
        "    if solve_NQ_util_strategy(board, 0, N=N, get_iterator=get_iterator, verbose=False) == False: \n",
        "        #print (\"Solution does not exist\") \n",
        "        return False\n",
        "\n",
        "    if print_board:\n",
        "        print_solution(board) \n",
        "    return True\n",
        "\n",
        "# let's test it with 4 queens\n",
        "solve_NQ_strategy(4)"
      ]
    },
    {
      "cell_type": "markdown",
      "metadata": {},
      "source": [
        "### Reverse Strategy\n",
        "\n",
        "Now that we have our solver that takes strategy, we can provide custom iterators for given N\n",
        "\n",
        "Easiest to test would be reverse"
      ]
    },
    {
      "cell_type": "code",
      "execution_count": 6,
      "metadata": {},
      "outputs": [
        {
          "name": "stdout",
          "output_type": "stream",
          "text": [
            "0 1 0 0 \n",
            "0 0 0 1 \n",
            "1 0 0 0 \n",
            "0 0 1 0 \n"
          ]
        },
        {
          "data": {
            "text/plain": [
              "True"
            ]
          },
          "execution_count": 6,
          "metadata": {},
          "output_type": "execute_result"
        }
      ],
      "source": [
        "# create reversed iterator\n",
        "def reversed_iterator(n):\n",
        "    return reversed(range(n))\n",
        "\n",
        "# now let's solve 4 queens with reversed iterator\n",
        "solve_NQ_strategy(4, get_iterator=reversed_iterator)"
      ]
    },
    {
      "cell_type": "code",
      "execution_count": 7,
      "metadata": {},
      "outputs": [
        {
          "name": "stdout",
          "output_type": "stream",
          "text": [
            "0 0 1 0 0 0 0 0 \n",
            "0 0 0 0 0 1 0 0 \n",
            "0 0 0 1 0 0 0 0 \n",
            "0 1 0 0 0 0 0 0 \n",
            "0 0 0 0 0 0 0 1 \n",
            "0 0 0 0 1 0 0 0 \n",
            "0 0 0 0 0 0 1 0 \n",
            "1 0 0 0 0 0 0 0 \n"
          ]
        },
        {
          "data": {
            "text/plain": [
              "True"
            ]
          },
          "execution_count": 7,
          "metadata": {},
          "output_type": "execute_result"
        }
      ],
      "source": [
        "# let's solve 8 queens with reversed iterator\n",
        "solve_NQ_strategy(8, get_iterator=reversed_iterator)"
      ]
    },
    {
      "cell_type": "code",
      "execution_count": 8,
      "metadata": {},
      "outputs": [
        {
          "name": "stdout",
          "output_type": "stream",
          "text": [
            "1 0 0 0 0 0 0 0 \n",
            "0 0 0 0 0 0 1 0 \n",
            "0 0 0 0 1 0 0 0 \n",
            "0 0 0 0 0 0 0 1 \n",
            "0 1 0 0 0 0 0 0 \n",
            "0 0 0 1 0 0 0 0 \n",
            "0 0 0 0 0 1 0 0 \n",
            "0 0 1 0 0 0 0 0 \n"
          ]
        },
        {
          "data": {
            "text/plain": [
              "True"
            ]
          },
          "execution_count": 8,
          "metadata": {},
          "output_type": "execute_result"
        }
      ],
      "source": [
        "# how about regular iterator\n",
        "solve_NQ_strategy(8, get_iterator=range)"
      ]
    },
    {
      "cell_type": "code",
      "execution_count": 13,
      "metadata": {},
      "outputs": [
        {
          "name": "stdout",
          "output_type": "stream",
          "text": [
            "540 μs ± 28 μs per loop (mean ± std. dev. of 7 runs, 1,000 loops each)\n"
          ]
        }
      ],
      "source": [
        "%%timeit\n",
        "solve_NQ_strategy(8, get_iterator=reversed_iterator, print_board=False)"
      ]
    },
    {
      "cell_type": "code",
      "execution_count": 14,
      "metadata": {},
      "outputs": [
        {
          "name": "stdout",
          "output_type": "stream",
          "text": [
            "495 μs ± 58 μs per loop (mean ± std. dev. of 7 runs, 1,000 loops each)\n"
          ]
        }
      ],
      "source": [
        "%%timeit\n",
        "solve_NQ_strategy(8, get_iterator=range, print_board=False)"
      ]
    },
    {
      "cell_type": "markdown",
      "metadata": {},
      "source": [
        "### 16 queens on 16x16 performance"
      ]
    },
    {
      "cell_type": "code",
      "execution_count": 15,
      "metadata": {},
      "outputs": [
        {
          "name": "stdout",
          "output_type": "stream",
          "text": [
            "108 ms ± 13.2 ms per loop (mean ± std. dev. of 7 runs, 10 loops each)\n"
          ]
        }
      ],
      "source": [
        "%%timeit\n",
        "solve_NQ_strategy(16, get_iterator=range, print_board=False)"
      ]
    },
    {
      "cell_type": "code",
      "execution_count": 16,
      "metadata": {},
      "outputs": [
        {
          "name": "stdout",
          "output_type": "stream",
          "text": [
            "108 ms ± 4.64 ms per loop (mean ± std. dev. of 7 runs, 10 loops each)\n"
          ]
        }
      ],
      "source": [
        "%%timeit\n",
        "solve_NQ_strategy(16, get_iterator=reversed_iterator, print_board=False)"
      ]
    },
    {
      "cell_type": "markdown",
      "metadata": {},
      "source": [
        "### Random Strategy\n",
        "\n",
        "Idea is to get our choices in random order - we have many solutions for N queens and our rigid first or last might not be the best"
      ]
    },
    {
      "cell_type": "code",
      "execution_count": 19,
      "metadata": {
        "colab": {
          "base_uri": "https://localhost:8080/"
        },
        "id": "lOev7ibdkL3Q",
        "outputId": "09a921a3-9d05-468e-a893-4c4ed403a232"
      },
      "outputs": [
        {
          "data": {
            "text/plain": [
              "[0, 3, 7, 0, 0, 4, 5, 0]"
            ]
          },
          "execution_count": 19,
          "metadata": {},
          "output_type": "execute_result"
        }
      ],
      "source": [
        "import random\n",
        "random.choices(list(range(8)),k=8) # no good we got dupes"
      ]
    },
    {
      "cell_type": "code",
      "execution_count": 20,
      "metadata": {
        "colab": {
          "base_uri": "https://localhost:8080/"
        },
        "id": "UJE1BzgEkL3Q",
        "outputId": "5a6b77e5-4e04-45c5-e400-36d03c2cf0f1",
        "scrolled": true
      },
      "outputs": [
        {
          "data": {
            "text/plain": [
              "[5, 6, 7, 4, 0, 3, 2, 1]"
            ]
          },
          "execution_count": 20,
          "metadata": {},
          "output_type": "execute_result"
        }
      ],
      "source": [
        "random.sample(list(range(8)),k=8) # this what we want a random sample of uniques"
      ]
    },
    {
      "cell_type": "code",
      "execution_count": 32,
      "metadata": {},
      "outputs": [
        {
          "name": "stdout",
          "output_type": "stream",
          "text": [
            "0 1 0 0 0 0 0 0 \n",
            "0 0 0 0 1 0 0 0 \n",
            "0 0 0 0 0 0 1 0 \n",
            "1 0 0 0 0 0 0 0 \n",
            "0 0 1 0 0 0 0 0 \n",
            "0 0 0 0 0 0 0 1 \n",
            "0 0 0 0 0 1 0 0 \n",
            "0 0 0 1 0 0 0 0 \n"
          ]
        },
        {
          "data": {
            "text/plain": [
              "True"
            ]
          },
          "execution_count": 32,
          "metadata": {},
          "output_type": "execute_result"
        }
      ],
      "source": [
        "# so we define our random iterator\n",
        "def random_iterator(n):\n",
        "    return random.sample(list(range(n)),k=n) # not going to be as fast as range but will be more interesting\n",
        "\n",
        "solve_NQ_strategy(8, get_iterator=random_iterator)"
      ]
    },
    {
      "cell_type": "markdown",
      "metadata": {},
      "source": [
        "### Testing all 3 approaches"
      ]
    },
    {
      "cell_type": "code",
      "execution_count": 34,
      "metadata": {},
      "outputs": [
        {
          "name": "stdout",
          "output_type": "stream",
          "text": [
            "483 μs ± 53.5 μs per loop (mean ± std. dev. of 7 runs, 1,000 loops each)\n"
          ]
        }
      ],
      "source": [
        "%%timeit\n",
        "solve_NQ_strategy(8, get_iterator=range, print_board=False)\n",
        "# fastest iterator but boring - always start at first row"
      ]
    },
    {
      "cell_type": "code",
      "execution_count": 35,
      "metadata": {},
      "outputs": [
        {
          "name": "stdout",
          "output_type": "stream",
          "text": [
            "534 μs ± 38.6 μs per loop (mean ± std. dev. of 7 runs, 1,000 loops each)\n"
          ]
        }
      ],
      "source": [
        "%%timeit\n",
        "solve_NQ_strategy(8, get_iterator=reversed_iterator, print_board=False)\n",
        "# fast iterator but boring - always start at last row\n",
        "# boring does not mean bad necessarily"
      ]
    },
    {
      "cell_type": "code",
      "execution_count": 36,
      "metadata": {},
      "outputs": [
        {
          "name": "stdout",
          "output_type": "stream",
          "text": [
            "208 μs ± 12.5 μs per loop (mean ± std. dev. of 7 runs, 1,000 loops each)\n"
          ]
        }
      ],
      "source": [
        "%%timeit\n",
        "solve_NQ_strategy(8, get_iterator=random_iterator, print_board=False)"
      ]
    },
    {
      "cell_type": "code",
      "execution_count": null,
      "metadata": {
        "id": "Aj5TaGOGkL3R"
      },
      "outputs": [],
      "source": [
        "# what does it mean that our randomized solution worked faster than hardcoded selection?\n",
        "# random is about 2-2.5X as fast in this case\n",
        "\n",
        "# Our solution space has many successful solutions\n",
        "# so it makes sense to be less rigid in our selection of rows"
      ]
    }
  ],
  "metadata": {
    "colab": {
      "provenance": []
    },
    "kernelspec": {
      "display_name": "Python 3",
      "language": "python",
      "name": "python3"
    },
    "language_info": {
      "codemirror_mode": {
        "name": "ipython",
        "version": 3
      },
      "file_extension": ".py",
      "mimetype": "text/x-python",
      "name": "python",
      "nbconvert_exporter": "python",
      "pygments_lexer": "ipython3",
      "version": "3.12.1"
    }
  },
  "nbformat": 4,
  "nbformat_minor": 0
}
