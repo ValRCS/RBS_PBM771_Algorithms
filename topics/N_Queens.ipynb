{
  "cells": [
    {
      "cell_type": "markdown",
      "metadata": {
        "id": "jXu0jt3VkL3F"
      },
      "source": [
        "# n-queens  problem\n",
        "\n",
        "https://en.wikipedia.org/wiki/Eight_queens_puzzle\n",
        "\n",
        "![Solution](https://upload.wikimedia.org/wikipedia/commons/1/1f/Eight-queens-animation.gif)\n",
        "\n",
        "https://www.geeksforgeeks.org/n-queen-problem-backtracking-3/"
      ]
    },
    {
      "cell_type": "code",
      "execution_count": 1,
      "metadata": {
        "colab": {
          "base_uri": "https://localhost:8080/"
        },
        "id": "VNk1dJPOkL3I",
        "outputId": "2c9fe0b3-b343-42cd-f978-0263cc09ce4c"
      },
      "outputs": [
        {
          "output_type": "execute_result",
          "data": {
            "text/plain": [
              "4426165368"
            ]
          },
          "metadata": {},
          "execution_count": 1
        }
      ],
      "source": [
        "# so if we were going to use completely brute force we would need  to look at C(8,64) solutions\n",
        "# we can use our friend memoized function from last week\n",
        "import functools\n",
        "@functools.lru_cache(maxsize=None)\n",
        "def C_mem(n,k):\n",
        "    if k == 0: return 1\n",
        "    if n == 0: return 0\n",
        "    return C_mem(n-1,k-1) + C_mem(n-1,k)\n",
        "C_mem(64,8)"
      ]
    },
    {
      "cell_type": "markdown",
      "metadata": {
        "id": "C4MSb5QCuGfc"
      },
      "source": [
        "## N-Queen Solver in Python"
      ]
    },
    {
      "cell_type": "code",
      "execution_count": 2,
      "metadata": {
        "id": "A_iXR_wekL3J"
      },
      "outputs": [],
      "source": [
        "# Python3 program to solve N Queen\n",
        "# Problem using backtracking\n",
        "# global N # kind of ugly global state\n",
        "# N = 4\n",
        "\n",
        "def print_solution(board):\n",
        "    for row in board:\n",
        "        for cell in row:\n",
        "            print(cell, end = \" \")\n",
        "        print()\n",
        "\n",
        "# A utility function to check if a queen can\n",
        "# be placed on board[row][col]. Note that this\n",
        "# function is called when \"col\" queens are\n",
        "# already placed in columns from 0 to col -1.\n",
        "# So we need to check only left side for\n",
        "# attacking queens\n",
        "def is_safe(board, row, col):\n",
        "    # Check this row on left side\n",
        "    for i in range(col):\n",
        "        if board[row][i] == 1:\n",
        "            return False\n",
        "\n",
        "    # Check upper diagonal on left side\n",
        "    for i, j in zip(range(row, -1, -1),\n",
        "                    range(col, -1, -1)):\n",
        "        if board[i][j] == 1:\n",
        "            return False\n",
        "\n",
        "    # Check lower diagonal on left side\n",
        "    N = len(board)\n",
        "    for i, j in zip(range(row, N, 1),\n",
        "                    range(col, -1, -1)):\n",
        "        if board[i][j] == 1:\n",
        "            return False\n",
        "\n",
        "    return True\n",
        "\n",
        "def solve_NQ_util(board, col, N, verbose=False):\n",
        "\n",
        "    if verbose:\n",
        "        print(f\"col={col} N={N}\")\n",
        "        print_solution(board)\n",
        "        print()\n",
        "    # base case: If all queens are placed\n",
        "    # then return true\n",
        "    if col >= N:\n",
        "        return True\n",
        "\n",
        "    # Consider this column and try placing\n",
        "    # this queen in all rows one by one\n",
        "    for i in range(N):\n",
        "\n",
        "        if is_safe(board, i, col):\n",
        "\n",
        "            # Place this queen in board[i][col]\n",
        "            board[i][col] = 1\n",
        "\n",
        "            # recur to place rest of the queens\n",
        "            if solve_NQ_util(board, col + 1, N=N, verbose=verbose) == True:\n",
        "                return True\n",
        "\n",
        "            # If placing queen in board[i][col\n",
        "            # doesn't lead to a solution, then\n",
        "            # queen from board[i][col]\n",
        "            board[i][col] = 0\n",
        "\n",
        "    # if the queen can not be placed in any row in\n",
        "    # this colum col then return false\n",
        "    return False\n",
        "\n",
        "# This function solves the N Queen problem using\n",
        "# Backtracking. It mainly uses solveNQUtil() to\n",
        "# solve the problem. It returns false if queens\n",
        "# cannot be placed, otherwise return true and\n",
        "# placement of queens in the form of 1s.\n",
        "# note that there may be more than one\n",
        "# solutions, this function prints one of the\n",
        "# feasible solutions.\n",
        "\n",
        "\n",
        "\n",
        "\n",
        "\n",
        "# This code is contributed by Divyanshu Mehta\n",
        "# Fixed by Valdis Saulespurens\n"
      ]
    },
    {
      "cell_type": "code",
      "execution_count": 3,
      "metadata": {
        "id": "gwdYuE8UkL3K",
        "outputId": "2ffa98fb-0264-4734-c2ee-8f03b1ef4302",
        "colab": {
          "base_uri": "https://localhost:8080/"
        }
      },
      "outputs": [
        {
          "output_type": "stream",
          "name": "stdout",
          "text": [
            "0 0 1 0 \n",
            "1 0 0 0 \n",
            "0 0 0 1 \n",
            "0 1 0 0 \n"
          ]
        },
        {
          "output_type": "execute_result",
          "data": {
            "text/plain": [
              "True"
            ]
          },
          "metadata": {},
          "execution_count": 3
        }
      ],
      "source": [
        "def solve_NQ(N=4, print_board=True):\n",
        "\n",
        "    # first we need to make the board\n",
        "    board = [[0 for _ in range(N)] for _ in range(N)]\n",
        "\n",
        "    if solve_NQ_util(board, 0, N=N, verbose=False) == False:\n",
        "        #print (\"Solution does not exist\")\n",
        "        return False\n",
        "\n",
        "    if print_board:\n",
        "        print_solution(board)\n",
        "    return True\n",
        "\n",
        "# let's test it with 4 queens\n",
        "solve_NQ(4)"
      ]
    },
    {
      "cell_type": "code",
      "execution_count": 4,
      "metadata": {
        "colab": {
          "base_uri": "https://localhost:8080/"
        },
        "id": "cvAdje6vkL3L",
        "outputId": "d35ebf41-2864-465e-d76b-829232658280"
      },
      "outputs": [
        {
          "output_type": "stream",
          "name": "stdout",
          "text": [
            "1 \n"
          ]
        },
        {
          "output_type": "execute_result",
          "data": {
            "text/plain": [
              "True"
            ]
          },
          "metadata": {},
          "execution_count": 4
        }
      ],
      "source": [
        "# Driver Code\n",
        "solve_NQ(1)"
      ]
    },
    {
      "cell_type": "code",
      "source": [
        "# solve for 2\n",
        "solve_NQ(2)"
      ],
      "metadata": {
        "id": "aEcyxsOtwP1s",
        "outputId": "39bd50d7-14b3-4946-dbb4-f413848262c6",
        "colab": {
          "base_uri": "https://localhost:8080/"
        }
      },
      "execution_count": 5,
      "outputs": [
        {
          "output_type": "execute_result",
          "data": {
            "text/plain": [
              "False"
            ]
          },
          "metadata": {},
          "execution_count": 5
        }
      ]
    },
    {
      "cell_type": "code",
      "execution_count": 6,
      "metadata": {
        "colab": {
          "base_uri": "https://localhost:8080/"
        },
        "id": "EpqcOfi0oqNP",
        "outputId": "3a42b404-1c4e-44b7-c8c3-9635d21493a6"
      },
      "outputs": [
        {
          "output_type": "execute_result",
          "data": {
            "text/plain": [
              "False"
            ]
          },
          "metadata": {},
          "execution_count": 6
        }
      ],
      "source": [
        "solve_NQ(3)"
      ]
    },
    {
      "cell_type": "code",
      "execution_count": 7,
      "metadata": {
        "colab": {
          "base_uri": "https://localhost:8080/"
        },
        "id": "aBW3YgrMkL3N",
        "outputId": "8b0512ce-3f7d-4c21-da2b-c0cd15dce06d"
      },
      "outputs": [
        {
          "output_type": "stream",
          "name": "stdout",
          "text": [
            "--------------------Board size 4X4 --------------------\n",
            "0 0 1 0 \n",
            "1 0 0 0 \n",
            "0 0 0 1 \n",
            "0 1 0 0 \n",
            "--------------------Board size 5X5 --------------------\n",
            "1 0 0 0 0 \n",
            "0 0 0 1 0 \n",
            "0 1 0 0 0 \n",
            "0 0 0 0 1 \n",
            "0 0 1 0 0 \n",
            "--------------------Board size 6X6 --------------------\n",
            "0 0 0 1 0 0 \n",
            "1 0 0 0 0 0 \n",
            "0 0 0 0 1 0 \n",
            "0 1 0 0 0 0 \n",
            "0 0 0 0 0 1 \n",
            "0 0 1 0 0 0 \n",
            "--------------------Board size 7X7 --------------------\n",
            "1 0 0 0 0 0 0 \n",
            "0 0 0 0 1 0 0 \n",
            "0 1 0 0 0 0 0 \n",
            "0 0 0 0 0 1 0 \n",
            "0 0 1 0 0 0 0 \n",
            "0 0 0 0 0 0 1 \n",
            "0 0 0 1 0 0 0 \n",
            "--------------------Board size 8X8 --------------------\n",
            "1 0 0 0 0 0 0 0 \n",
            "0 0 0 0 0 0 1 0 \n",
            "0 0 0 0 1 0 0 0 \n",
            "0 0 0 0 0 0 0 1 \n",
            "0 1 0 0 0 0 0 0 \n",
            "0 0 0 1 0 0 0 0 \n",
            "0 0 0 0 0 1 0 0 \n",
            "0 0 1 0 0 0 0 0 \n",
            "--------------------Board size 9X9 --------------------\n",
            "1 0 0 0 0 0 0 0 0 \n",
            "0 0 0 0 1 0 0 0 0 \n",
            "0 1 0 0 0 0 0 0 0 \n",
            "0 0 0 0 0 1 0 0 0 \n",
            "0 0 0 0 0 0 0 0 1 \n",
            "0 0 1 0 0 0 0 0 0 \n",
            "0 0 0 0 0 0 0 1 0 \n",
            "0 0 0 1 0 0 0 0 0 \n",
            "0 0 0 0 0 0 1 0 0 \n",
            "--------------------Board size 10X10 --------------------\n",
            "1 0 0 0 0 0 0 0 0 0 \n",
            "0 0 0 0 0 0 0 1 0 0 \n",
            "0 1 0 0 0 0 0 0 0 0 \n",
            "0 0 0 0 0 0 0 0 1 0 \n",
            "0 0 0 0 0 1 0 0 0 0 \n",
            "0 0 1 0 0 0 0 0 0 0 \n",
            "0 0 0 0 0 0 0 0 0 1 \n",
            "0 0 0 1 0 0 0 0 0 0 \n",
            "0 0 0 0 0 0 1 0 0 0 \n",
            "0 0 0 0 1 0 0 0 0 0 \n",
            "--------------------Board size 11X11 --------------------\n",
            "1 0 0 0 0 0 0 0 0 0 0 \n",
            "0 0 0 0 0 0 1 0 0 0 0 \n",
            "0 1 0 0 0 0 0 0 0 0 0 \n",
            "0 0 0 0 0 0 0 1 0 0 0 \n",
            "0 0 1 0 0 0 0 0 0 0 0 \n",
            "0 0 0 0 0 0 0 0 1 0 0 \n",
            "0 0 0 1 0 0 0 0 0 0 0 \n",
            "0 0 0 0 0 0 0 0 0 1 0 \n",
            "0 0 0 0 1 0 0 0 0 0 0 \n",
            "0 0 0 0 0 0 0 0 0 0 1 \n",
            "0 0 0 0 0 1 0 0 0 0 0 \n",
            "--------------------Board size 12X12 --------------------\n",
            "1 0 0 0 0 0 0 0 0 0 0 0 \n",
            "0 0 0 0 0 0 0 0 1 0 0 0 \n",
            "0 1 0 0 0 0 0 0 0 0 0 0 \n",
            "0 0 0 0 0 0 0 0 0 0 0 1 \n",
            "0 0 1 0 0 0 0 0 0 0 0 0 \n",
            "0 0 0 0 0 0 1 0 0 0 0 0 \n",
            "0 0 0 0 0 0 0 0 0 1 0 0 \n",
            "0 0 0 1 0 0 0 0 0 0 0 0 \n",
            "0 0 0 0 0 0 0 0 0 0 1 0 \n",
            "0 0 0 0 1 0 0 0 0 0 0 0 \n",
            "0 0 0 0 0 0 0 1 0 0 0 0 \n",
            "0 0 0 0 0 1 0 0 0 0 0 0 \n",
            "--------------------Board size 13X13 --------------------\n",
            "1 0 0 0 0 0 0 0 0 0 0 0 0 \n",
            "0 0 0 1 0 0 0 0 0 0 0 0 0 \n",
            "0 1 0 0 0 0 0 0 0 0 0 0 0 \n",
            "0 0 0 0 0 0 0 0 1 0 0 0 0 \n",
            "0 0 1 0 0 0 0 0 0 0 0 0 0 \n",
            "0 0 0 0 0 0 0 0 0 1 0 0 0 \n",
            "0 0 0 0 0 0 0 0 0 0 0 0 1 \n",
            "0 0 0 0 0 0 0 0 0 0 1 0 0 \n",
            "0 0 0 0 1 0 0 0 0 0 0 0 0 \n",
            "0 0 0 0 0 0 1 0 0 0 0 0 0 \n",
            "0 0 0 0 0 0 0 0 0 0 0 1 0 \n",
            "0 0 0 0 0 1 0 0 0 0 0 0 0 \n",
            "0 0 0 0 0 0 0 1 0 0 0 0 0 \n",
            "--------------------Board size 14X14 --------------------\n",
            "1 0 0 0 0 0 0 0 0 0 0 0 0 0 \n",
            "0 0 0 0 0 0 0 0 0 0 1 0 0 0 \n",
            "0 1 0 0 0 0 0 0 0 0 0 0 0 0 \n",
            "0 0 0 0 0 0 0 1 0 0 0 0 0 0 \n",
            "0 0 1 0 0 0 0 0 0 0 0 0 0 0 \n",
            "0 0 0 0 0 0 0 0 0 0 0 1 0 0 \n",
            "0 0 0 1 0 0 0 0 0 0 0 0 0 0 \n",
            "0 0 0 0 0 0 0 0 0 0 0 0 1 0 \n",
            "0 0 0 0 0 0 0 0 0 1 0 0 0 0 \n",
            "0 0 0 0 0 1 0 0 0 0 0 0 0 0 \n",
            "0 0 0 0 0 0 0 0 0 0 0 0 0 1 \n",
            "0 0 0 0 1 0 0 0 0 0 0 0 0 0 \n",
            "0 0 0 0 0 0 1 0 0 0 0 0 0 0 \n",
            "0 0 0 0 0 0 0 0 1 0 0 0 0 0 \n",
            "--------------------Board size 15X15 --------------------\n",
            "1 0 0 0 0 0 0 0 0 0 0 0 0 0 0 \n",
            "0 0 0 1 0 0 0 0 0 0 0 0 0 0 0 \n",
            "0 1 0 0 0 0 0 0 0 0 0 0 0 0 0 \n",
            "0 0 0 0 0 0 0 1 0 0 0 0 0 0 0 \n",
            "0 0 1 0 0 0 0 0 0 0 0 0 0 0 0 \n",
            "0 0 0 0 0 0 0 0 0 0 1 0 0 0 0 \n",
            "0 0 0 0 0 0 0 0 0 0 0 0 1 0 0 \n",
            "0 0 0 0 0 0 0 0 0 0 0 0 0 0 1 \n",
            "0 0 0 0 0 0 0 0 0 1 0 0 0 0 0 \n",
            "0 0 0 0 1 0 0 0 0 0 0 0 0 0 0 \n",
            "0 0 0 0 0 0 0 0 0 0 0 0 0 1 0 \n",
            "0 0 0 0 0 1 0 0 0 0 0 0 0 0 0 \n",
            "0 0 0 0 0 0 0 0 1 0 0 0 0 0 0 \n",
            "0 0 0 0 0 0 1 0 0 0 0 0 0 0 0 \n",
            "0 0 0 0 0 0 0 0 0 0 0 1 0 0 0 \n",
            "--------------------Board size 16X16 --------------------\n",
            "1 0 0 0 0 0 0 0 0 0 0 0 0 0 0 0 \n",
            "0 0 0 1 0 0 0 0 0 0 0 0 0 0 0 0 \n",
            "0 1 0 0 0 0 0 0 0 0 0 0 0 0 0 0 \n",
            "0 0 0 0 0 0 0 0 0 0 0 0 1 0 0 0 \n",
            "0 0 1 0 0 0 0 0 0 0 0 0 0 0 0 0 \n",
            "0 0 0 0 0 0 0 0 0 1 0 0 0 0 0 0 \n",
            "0 0 0 0 0 0 0 0 0 0 0 1 0 0 0 0 \n",
            "0 0 0 0 0 0 0 0 0 0 0 0 0 0 1 0 \n",
            "0 0 0 0 0 1 0 0 0 0 0 0 0 0 0 0 \n",
            "0 0 0 0 0 0 0 0 0 0 0 0 0 0 0 1 \n",
            "0 0 0 0 0 0 0 0 0 0 0 0 0 1 0 0 \n",
            "0 0 0 0 0 0 0 1 0 0 0 0 0 0 0 0 \n",
            "0 0 0 0 1 0 0 0 0 0 0 0 0 0 0 0 \n",
            "0 0 0 0 0 0 1 0 0 0 0 0 0 0 0 0 \n",
            "0 0 0 0 0 0 0 0 1 0 0 0 0 0 0 0 \n",
            "0 0 0 0 0 0 0 0 0 0 1 0 0 0 0 0 \n"
          ]
        }
      ],
      "source": [
        "for n in range(4,17):\n",
        "    print(f\"{\"-\"*20}Board size {n}X{n} {\"-\"*20}\")\n",
        "    solve_NQ(n)\n",
        ""
      ]
    },
    {
      "cell_type": "code",
      "execution_count": 8,
      "metadata": {
        "colab": {
          "base_uri": "https://localhost:8080/"
        },
        "id": "UHhef7w_kL3O",
        "outputId": "1b29a122-2003-4fff-cac4-9c3fdd4c150f"
      },
      "outputs": [
        {
          "output_type": "stream",
          "name": "stdout",
          "text": [
            "622 µs ± 18.5 µs per loop (mean ± std. dev. of 7 runs, 1000 loops each)\n"
          ]
        }
      ],
      "source": [
        "%%timeit\n",
        "solve_NQ(8, print_board=False)"
      ]
    },
    {
      "cell_type": "code",
      "source": [
        "# so let's see 8 queens solution\n",
        "solve_NQ(8)"
      ],
      "metadata": {
        "id": "8PTlmRq4wj8n",
        "outputId": "42ec1de1-e78c-4964-be98-728bdd2a4a74",
        "colab": {
          "base_uri": "https://localhost:8080/"
        }
      },
      "execution_count": 9,
      "outputs": [
        {
          "output_type": "stream",
          "name": "stdout",
          "text": [
            "1 0 0 0 0 0 0 0 \n",
            "0 0 0 0 0 0 1 0 \n",
            "0 0 0 0 1 0 0 0 \n",
            "0 0 0 0 0 0 0 1 \n",
            "0 1 0 0 0 0 0 0 \n",
            "0 0 0 1 0 0 0 0 \n",
            "0 0 0 0 0 1 0 0 \n",
            "0 0 1 0 0 0 0 0 \n"
          ]
        },
        {
          "output_type": "execute_result",
          "data": {
            "text/plain": [
              "True"
            ]
          },
          "metadata": {},
          "execution_count": 9
        }
      ]
    },
    {
      "cell_type": "code",
      "execution_count": null,
      "metadata": {
        "id": "G7Ljjhn-kL3P"
      },
      "outputs": [],
      "source": [
        "# reason we got a solution does not exist is that we already prefilled the board after first run :)\n"
      ]
    },
    {
      "cell_type": "code",
      "execution_count": 10,
      "metadata": {
        "colab": {
          "base_uri": "https://localhost:8080/"
        },
        "id": "j1a7UdvQkL3P",
        "outputId": "0de0e762-1957-4929-a761-7180e9ff9045"
      },
      "outputs": [
        {
          "output_type": "stream",
          "name": "stdout",
          "text": [
            "716 µs ± 8.17 µs per loop (mean ± std. dev. of 7 runs, 1000 loops each)\n"
          ]
        }
      ],
      "source": [
        "%%timeit\n",
        "solve_NQ(N=10, print_board=False)"
      ]
    },
    {
      "cell_type": "code",
      "execution_count": null,
      "metadata": {
        "id": "obebofLwqBj0",
        "outputId": "afb7bff3-ecd5-425d-fbb7-b1434e07fcd0"
      },
      "outputs": [
        {
          "name": "stdout",
          "output_type": "stream",
          "text": [
            "101 ms ± 3.8 ms per loop (mean ± std. dev. of 7 runs, 10 loops each)\n"
          ]
        }
      ],
      "source": [
        "%%timeit\n",
        "solve_NQ(N=16, print_board=False)"
      ]
    },
    {
      "cell_type": "code",
      "execution_count": 11,
      "metadata": {
        "colab": {
          "base_uri": "https://localhost:8080/"
        },
        "id": "3SiERn2vqIbj",
        "outputId": "5d3fd60f-b40a-4a35-f83b-028bc094fd21"
      },
      "outputs": [
        {
          "output_type": "stream",
          "name": "stdout",
          "text": [
            "4.1 s ± 714 ms per loop (mean ± std. dev. of 7 runs, 1 loop each)\n"
          ]
        }
      ],
      "source": [
        "%%timeit\n",
        "solve_NQ(N=20, print_board=False)"
      ]
    },
    {
      "cell_type": "code",
      "execution_count": null,
      "metadata": {
        "id": "jRIc4UxhuGf4",
        "outputId": "4879cbc1-720a-4f78-ac82-a45b6e548f28"
      },
      "outputs": [
        {
          "data": {
            "text/plain": [
              "2788360983670896737872851072994080"
            ]
          },
          "execution_count": 15,
          "metadata": {},
          "output_type": "execute_result"
        }
      ],
      "source": [
        "# why is 20 taking so long?\n",
        "# well we are looking at pick 20 out of 400\n",
        "C_mem(20*20,20) # Pure Brute force would be even worse"
      ]
    },
    {
      "cell_type": "markdown",
      "metadata": {
        "id": "N-jEUcctkL3P"
      },
      "source": [
        "## Idea - choose path at random among all remaining paths\n",
        "We are still going to check all paths (until we find a solution)"
      ]
    },
    {
      "cell_type": "code",
      "execution_count": 12,
      "metadata": {
        "id": "soXbkaGeuGf7",
        "outputId": "3ec34c26-296f-4694-fb2b-c93d6bda5504",
        "colab": {
          "base_uri": "https://localhost:8080/"
        }
      },
      "outputs": [
        {
          "output_type": "stream",
          "name": "stdout",
          "text": [
            "0 0 1 0 \n",
            "1 0 0 0 \n",
            "0 0 0 1 \n",
            "0 1 0 0 \n"
          ]
        },
        {
          "output_type": "execute_result",
          "data": {
            "text/plain": [
              "True"
            ]
          },
          "metadata": {},
          "execution_count": 12
        }
      ],
      "source": [
        "# we are going to rewrite our NQ util to accept a function that will providing iterator of possible rows\n",
        "def solve_NQ_util_strategy(board, col, N, get_iterator, verbose=False):\n",
        "\n",
        "    if verbose:\n",
        "        print(f\"col={col} N={N}\")\n",
        "        print_solution(board)\n",
        "        print()\n",
        "    # base case: If all queens are placed\n",
        "    # then return true\n",
        "    if col >= N:\n",
        "        return True\n",
        "\n",
        "    # Consider this column and try placing\n",
        "    # this queen in all rows one by one\n",
        "    for i in get_iterator(N):\n",
        "\n",
        "        if is_safe(board, i, col):\n",
        "\n",
        "            # Place this queen in board[i][col]\n",
        "            board[i][col] = 1\n",
        "\n",
        "            # recur to place rest of the queens\n",
        "            if solve_NQ_util_strategy(board, col + 1, N=N, get_iterator=get_iterator, verbose=verbose) == True:\n",
        "                return True\n",
        "\n",
        "            # If placing queen in board[i][col\n",
        "            # doesn't lead to a solution, then\n",
        "            # queen from board[i][col]\n",
        "            board[i][col] = 0\n",
        "\n",
        "    # if the queen can not be placed in any row in\n",
        "    # this colum col then return false\n",
        "    return False\n",
        "\n",
        "def solve_NQ_strategy(N=4, get_iterator=range, print_board=True):\n",
        "\n",
        "    # first we need to make the board\n",
        "    board = [[0 for _ in range(N)] for _ in range(N)]\n",
        "\n",
        "    if solve_NQ_util_strategy(board, 0, N=N, get_iterator=get_iterator, verbose=False) == False:\n",
        "        #print (\"Solution does not exist\")\n",
        "        return False\n",
        "\n",
        "    if print_board:\n",
        "        print_solution(board)\n",
        "    return True\n",
        "\n",
        "# let's test it with 4 queens\n",
        "solve_NQ_strategy(4)"
      ]
    },
    {
      "cell_type": "markdown",
      "metadata": {
        "id": "cnMcYPaGuGf9"
      },
      "source": [
        "### Reverse Strategy\n",
        "\n",
        "Now that we have our solver that takes strategy, we can provide custom iterators for given N\n",
        "\n",
        "Easiest to test would be reverse"
      ]
    },
    {
      "cell_type": "code",
      "execution_count": 13,
      "metadata": {
        "id": "xXrwFn48uGf-",
        "outputId": "2a03c8a9-680c-41de-baca-518a20473c2a",
        "colab": {
          "base_uri": "https://localhost:8080/"
        }
      },
      "outputs": [
        {
          "output_type": "stream",
          "name": "stdout",
          "text": [
            "0 1 0 0 \n",
            "0 0 0 1 \n",
            "1 0 0 0 \n",
            "0 0 1 0 \n"
          ]
        },
        {
          "output_type": "execute_result",
          "data": {
            "text/plain": [
              "True"
            ]
          },
          "metadata": {},
          "execution_count": 13
        }
      ],
      "source": [
        "# create reversed iterator\n",
        "def reversed_iterator(n):\n",
        "    return reversed(range(n))\n",
        "\n",
        "# now let's solve 4 queens with reversed iterator\n",
        "solve_NQ_strategy(4, get_iterator=reversed_iterator)"
      ]
    },
    {
      "cell_type": "code",
      "source": [
        "# let's solve 8 queens with normal iterator\n",
        "solve_NQ_strategy(8, get_iterator=range)"
      ],
      "metadata": {
        "id": "Bh9I4rhtyU9N",
        "outputId": "aff063da-0f70-4808-98c5-0a67ad38e011",
        "colab": {
          "base_uri": "https://localhost:8080/"
        }
      },
      "execution_count": 15,
      "outputs": [
        {
          "output_type": "stream",
          "name": "stdout",
          "text": [
            "1 0 0 0 0 0 0 0 \n",
            "0 0 0 0 0 0 1 0 \n",
            "0 0 0 0 1 0 0 0 \n",
            "0 0 0 0 0 0 0 1 \n",
            "0 1 0 0 0 0 0 0 \n",
            "0 0 0 1 0 0 0 0 \n",
            "0 0 0 0 0 1 0 0 \n",
            "0 0 1 0 0 0 0 0 \n"
          ]
        },
        {
          "output_type": "execute_result",
          "data": {
            "text/plain": [
              "True"
            ]
          },
          "metadata": {},
          "execution_count": 15
        }
      ]
    },
    {
      "cell_type": "code",
      "execution_count": 14,
      "metadata": {
        "id": "xjFOcr9OuGf_",
        "outputId": "75b923cd-8287-4bec-849a-bd8e8d9aabf7",
        "colab": {
          "base_uri": "https://localhost:8080/"
        }
      },
      "outputs": [
        {
          "output_type": "stream",
          "name": "stdout",
          "text": [
            "0 0 1 0 0 0 0 0 \n",
            "0 0 0 0 0 1 0 0 \n",
            "0 0 0 1 0 0 0 0 \n",
            "0 1 0 0 0 0 0 0 \n",
            "0 0 0 0 0 0 0 1 \n",
            "0 0 0 0 1 0 0 0 \n",
            "0 0 0 0 0 0 1 0 \n",
            "1 0 0 0 0 0 0 0 \n"
          ]
        },
        {
          "output_type": "execute_result",
          "data": {
            "text/plain": [
              "True"
            ]
          },
          "metadata": {},
          "execution_count": 14
        }
      ],
      "source": [
        "# let's solve 8 queens with reversed iterator\n",
        "solve_NQ_strategy(8, get_iterator=reversed_iterator)"
      ]
    },
    {
      "cell_type": "code",
      "execution_count": null,
      "metadata": {
        "id": "urHqwnfXuGgA",
        "outputId": "30067064-957b-4018-c27b-6c760b903e34"
      },
      "outputs": [
        {
          "name": "stdout",
          "output_type": "stream",
          "text": [
            "1 0 0 0 0 0 0 0 \n",
            "0 0 0 0 0 0 1 0 \n",
            "0 0 0 0 1 0 0 0 \n",
            "0 0 0 0 0 0 0 1 \n",
            "0 1 0 0 0 0 0 0 \n",
            "0 0 0 1 0 0 0 0 \n",
            "0 0 0 0 0 1 0 0 \n",
            "0 0 1 0 0 0 0 0 \n"
          ]
        },
        {
          "data": {
            "text/plain": [
              "True"
            ]
          },
          "execution_count": 8,
          "metadata": {},
          "output_type": "execute_result"
        }
      ],
      "source": [
        "# how about regular iterator\n",
        "solve_NQ_strategy(8, get_iterator=range)"
      ]
    },
    {
      "cell_type": "code",
      "execution_count": 16,
      "metadata": {
        "id": "zWmN7r3AuGgB",
        "outputId": "e82de492-098f-457f-f7b1-8f4a583252b2",
        "colab": {
          "base_uri": "https://localhost:8080/"
        }
      },
      "outputs": [
        {
          "output_type": "stream",
          "name": "stdout",
          "text": [
            "789 µs ± 221 µs per loop (mean ± std. dev. of 7 runs, 1000 loops each)\n"
          ]
        }
      ],
      "source": [
        "%%timeit\n",
        "solve_NQ_strategy(8, get_iterator=reversed_iterator, print_board=False)"
      ]
    },
    {
      "cell_type": "code",
      "execution_count": 17,
      "metadata": {
        "id": "7quhIeJzuGgC",
        "outputId": "92c5f08e-018b-4a56-8ceb-43c3bfe37197",
        "colab": {
          "base_uri": "https://localhost:8080/"
        }
      },
      "outputs": [
        {
          "output_type": "stream",
          "name": "stdout",
          "text": [
            "847 µs ± 244 µs per loop (mean ± std. dev. of 7 runs, 1000 loops each)\n"
          ]
        }
      ],
      "source": [
        "%%timeit\n",
        "solve_NQ_strategy(8, get_iterator=range, print_board=False)"
      ]
    },
    {
      "cell_type": "markdown",
      "metadata": {
        "id": "ISQrNZAUuGgE"
      },
      "source": [
        "### 16 queens on 16x16 performance"
      ]
    },
    {
      "cell_type": "code",
      "execution_count": 18,
      "metadata": {
        "id": "UHEvB0OfuGgE",
        "outputId": "ac4af71a-5aee-4503-d676-7ee2c44d8ca0",
        "colab": {
          "base_uri": "https://localhost:8080/"
        }
      },
      "outputs": [
        {
          "output_type": "stream",
          "name": "stdout",
          "text": [
            "150 ms ± 44.4 ms per loop (mean ± std. dev. of 7 runs, 10 loops each)\n"
          ]
        }
      ],
      "source": [
        "%%timeit\n",
        "solve_NQ_strategy(16, get_iterator=range, print_board=False)"
      ]
    },
    {
      "cell_type": "code",
      "execution_count": 19,
      "metadata": {
        "id": "8LmqTmHtuGgF",
        "outputId": "d80120e4-0f8f-4188-881f-d0af9e9a4190",
        "colab": {
          "base_uri": "https://localhost:8080/"
        }
      },
      "outputs": [
        {
          "output_type": "stream",
          "name": "stdout",
          "text": [
            "165 ms ± 36.3 ms per loop (mean ± std. dev. of 7 runs, 10 loops each)\n"
          ]
        }
      ],
      "source": [
        "%%timeit\n",
        "solve_NQ_strategy(16, get_iterator=reversed_iterator, print_board=False)"
      ]
    },
    {
      "cell_type": "markdown",
      "metadata": {
        "id": "57ombYvkuGgF"
      },
      "source": [
        "### Random Strategy\n",
        "\n",
        "Idea is to get our choices in random order - we have many solutions for N queens and our rigid first or last might not be the best"
      ]
    },
    {
      "cell_type": "code",
      "execution_count": 21,
      "metadata": {
        "colab": {
          "base_uri": "https://localhost:8080/"
        },
        "id": "lOev7ibdkL3Q",
        "outputId": "a01570a2-bf87-40a0-a61e-6b643ac4c4e9"
      },
      "outputs": [
        {
          "output_type": "execute_result",
          "data": {
            "text/plain": [
              "[0, 2, 2, 0, 1, 3, 5, 5]"
            ]
          },
          "metadata": {},
          "execution_count": 21
        }
      ],
      "source": [
        "import random\n",
        "random.choices(list(range(8)),k=8) # no good we got dupes"
      ]
    },
    {
      "cell_type": "code",
      "execution_count": 22,
      "metadata": {
        "colab": {
          "base_uri": "https://localhost:8080/"
        },
        "id": "UJE1BzgEkL3Q",
        "outputId": "481c3651-af65-48b1-d6ce-b2c08406149c",
        "scrolled": true
      },
      "outputs": [
        {
          "output_type": "execute_result",
          "data": {
            "text/plain": [
              "[4, 6, 1, 7, 0, 3, 2, 5]"
            ]
          },
          "metadata": {},
          "execution_count": 22
        }
      ],
      "source": [
        "random.sample(list(range(8)),k=8) # this what we want a random sample of uniques"
      ]
    },
    {
      "cell_type": "code",
      "execution_count": 29,
      "metadata": {
        "id": "0uAXYBXNuGgH",
        "outputId": "9d6de1ed-e9cd-4c0d-957e-43b272f4c04d",
        "colab": {
          "base_uri": "https://localhost:8080/"
        }
      },
      "outputs": [
        {
          "output_type": "stream",
          "name": "stdout",
          "text": [
            "0 0 0 1 0 0 0 0 \n",
            "0 1 0 0 0 0 0 0 \n",
            "0 0 0 0 1 0 0 0 \n",
            "0 0 0 0 0 0 0 1 \n",
            "0 0 0 0 0 1 0 0 \n",
            "1 0 0 0 0 0 0 0 \n",
            "0 0 1 0 0 0 0 0 \n",
            "0 0 0 0 0 0 1 0 \n"
          ]
        },
        {
          "output_type": "execute_result",
          "data": {
            "text/plain": [
              "True"
            ]
          },
          "metadata": {},
          "execution_count": 29
        }
      ],
      "source": [
        "# so we define our random iterator\n",
        "def random_iterator(n):\n",
        "    return random.sample(list(range(n)),k=n) # not going to be as fast as range but will be more interesting\n",
        "\n",
        "solve_NQ_strategy(8, get_iterator=random_iterator)"
      ]
    },
    {
      "cell_type": "markdown",
      "metadata": {
        "id": "l43RU0RxuGgI"
      },
      "source": [
        "### Testing all 3 approaches"
      ]
    },
    {
      "cell_type": "code",
      "execution_count": 30,
      "metadata": {
        "id": "RMDaa4gVuGgI",
        "outputId": "b796433b-b806-4732-f751-5faa05da944b",
        "colab": {
          "base_uri": "https://localhost:8080/"
        }
      },
      "outputs": [
        {
          "output_type": "stream",
          "name": "stdout",
          "text": [
            "853 µs ± 270 µs per loop (mean ± std. dev. of 7 runs, 1000 loops each)\n"
          ]
        }
      ],
      "source": [
        "%%timeit\n",
        "solve_NQ_strategy(8, get_iterator=range, print_board=False)\n",
        "# fastest iterator but boring - always start at first row"
      ]
    },
    {
      "cell_type": "code",
      "execution_count": 31,
      "metadata": {
        "id": "AWJKra0AuGgI",
        "outputId": "948df340-41ae-4d0c-f44e-3172a80ef427",
        "colab": {
          "base_uri": "https://localhost:8080/"
        }
      },
      "outputs": [
        {
          "output_type": "stream",
          "name": "stdout",
          "text": [
            "921 µs ± 275 µs per loop (mean ± std. dev. of 7 runs, 1000 loops each)\n"
          ]
        }
      ],
      "source": [
        "%%timeit\n",
        "solve_NQ_strategy(8, get_iterator=reversed_iterator, print_board=False)\n",
        "# fast iterator but boring - always start at last row\n",
        "# boring does not mean bad necessarily"
      ]
    },
    {
      "cell_type": "code",
      "execution_count": 32,
      "metadata": {
        "id": "13wOmacPuGgJ",
        "outputId": "b8f29dff-31ef-4b19-9400-abff9f9fea24",
        "colab": {
          "base_uri": "https://localhost:8080/"
        }
      },
      "outputs": [
        {
          "output_type": "stream",
          "name": "stdout",
          "text": [
            "286 µs ± 15.8 µs per loop (mean ± std. dev. of 7 runs, 1000 loops each)\n"
          ]
        }
      ],
      "source": [
        "%%timeit\n",
        "solve_NQ_strategy(8, get_iterator=random_iterator, print_board=False)"
      ]
    },
    {
      "cell_type": "code",
      "execution_count": null,
      "metadata": {
        "id": "Aj5TaGOGkL3R"
      },
      "outputs": [],
      "source": [
        "# what does it mean that our randomized solution worked faster than hardcoded selection?\n",
        "# random is about 2-2.5X as fast in this case\n",
        "\n",
        "# Our solution space has many successful solutions\n",
        "# so it makes sense to be less rigid in our selection of rows"
      ]
    }
  ],
  "metadata": {
    "colab": {
      "provenance": []
    },
    "kernelspec": {
      "display_name": "Python 3",
      "language": "python",
      "name": "python3"
    },
    "language_info": {
      "codemirror_mode": {
        "name": "ipython",
        "version": 3
      },
      "file_extension": ".py",
      "mimetype": "text/x-python",
      "name": "python",
      "nbconvert_exporter": "python",
      "pygments_lexer": "ipython3",
      "version": "3.12.1"
    }
  },
  "nbformat": 4,
  "nbformat_minor": 0
}