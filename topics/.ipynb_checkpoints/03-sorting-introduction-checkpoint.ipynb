{
 "cells": [
  {
   "cell_type": "markdown",
   "metadata": {
    "toc": true
   },
   "source": [
    "<h1>Table of Contents<span class=\"tocSkip\"></span></h1>\n",
    "<div class=\"toc\" style=\"margin-top: 1em;\"><ul class=\"toc-item\"><li><span><a href=\"#Algorithm-complexity\" data-toc-modified-id=\"Algorithm-complexity-1\"><span class=\"toc-item-num\">1&nbsp;&nbsp;</span>Algorithm complexity</a></span><ul class=\"toc-item\"><li><span><a href=\"#Search-algorithm\" data-toc-modified-id=\"Search-algorithm-1.1\"><span class=\"toc-item-num\">1.1&nbsp;&nbsp;</span>Search algorithm</a></span><ul class=\"toc-item\"><li><span><a href=\"#Linear-search\" data-toc-modified-id=\"Linear-search-1.1.1\"><span class=\"toc-item-num\">1.1.1&nbsp;&nbsp;</span>Linear search</a></span></li><li><span><a href=\"#Binary-search\" data-toc-modified-id=\"Binary-search-1.1.2\"><span class=\"toc-item-num\">1.1.2&nbsp;&nbsp;</span>Binary search</a></span></li></ul></li></ul></li><li><span><a href=\"#Sorting-algorithms\" data-toc-modified-id=\"Sorting-algorithms-2\"><span class=\"toc-item-num\">2&nbsp;&nbsp;</span>Sorting algorithms</a></span><ul class=\"toc-item\"><li><ul class=\"toc-item\"><li><span><a href=\"#Bubble-sort\" data-toc-modified-id=\"Bubble-sort-2.0.1\"><span class=\"toc-item-num\">2.0.1&nbsp;&nbsp;</span>Bubble sort</a></span></li><li><span><a href=\"#Selection-sort\" data-toc-modified-id=\"Selection-sort-2.0.2\"><span class=\"toc-item-num\">2.0.2&nbsp;&nbsp;</span>Selection sort</a></span></li><li><span><a href=\"#Insertion-sort\" data-toc-modified-id=\"Insertion-sort-2.0.3\"><span class=\"toc-item-num\">2.0.3&nbsp;&nbsp;</span>Insertion sort</a></span></li><li><span><a href=\"#Merge-Sort\" data-toc-modified-id=\"Merge-Sort-2.0.4\"><span class=\"toc-item-num\">2.0.4&nbsp;&nbsp;</span>Merge Sort</a></span></li><li><span><a href=\"#Quick-sort\" data-toc-modified-id=\"Quick-sort-2.0.5\"><span class=\"toc-item-num\">2.0.5&nbsp;&nbsp;</span>Quick sort</a></span></li></ul></li></ul></li></ul></div>"
   ]
  },
  {
   "cell_type": "markdown",
   "metadata": {},
   "source": [
    "Discussion and implementation of common abstact datastructures and algorithms "
   ]
  },
  {
   "cell_type": "markdown",
   "metadata": {},
   "source": [
    "Content is heavily derived from: http://interactivepython.org/runestone/static/pythonds/index.html"
   ]
  },
  {
   "cell_type": "code",
   "execution_count": 35,
   "metadata": {},
   "outputs": [],
   "source": [
    "import pandas as pd\n",
    "import numpy as np\n",
    "import time\n",
    "import matplotlib.pyplot as plt\n",
    "%matplotlib inline"
   ]
  },
  {
   "cell_type": "markdown",
   "metadata": {
    "heading_collapsed": true
   },
   "source": [
    "# Algorithm complexity"
   ]
  },
  {
   "cell_type": "markdown",
   "metadata": {
    "hidden": true
   },
   "source": [
    "`Big O notation` is used in Computer Science to describe the performance or complexity of an algorithm. Big O specifically describes the worst-case scenario, and can be used to describe the execution time required or the space used."
   ]
  },
  {
   "cell_type": "markdown",
   "metadata": {
    "hidden": true
   },
   "source": [
    "To know more: http://interactivepython.org/runestone/static/pythonds/AlgorithmAnalysis/BigONotation.html"
   ]
  },
  {
   "cell_type": "markdown",
   "metadata": {
    "hidden": true
   },
   "source": [
    "![selection](../imgs/bigo.png)"
   ]
  },
  {
   "cell_type": "markdown",
   "metadata": {
    "hidden": true
   },
   "source": [
    "<img src=\"http://interactivepython.org/runestone/static/pythonds/_images/newplot.png\">"
   ]
  },
  {
   "cell_type": "markdown",
   "metadata": {
    "hidden": true
   },
   "source": [
    "Let's understand this through 2 different implementation of search algorithm"
   ]
  },
  {
   "cell_type": "markdown",
   "metadata": {
    "heading_collapsed": true,
    "hidden": true
   },
   "source": [
    "## Search algorithm"
   ]
  },
  {
   "cell_type": "markdown",
   "metadata": {
    "heading_collapsed": true,
    "hidden": true
   },
   "source": [
    "### Linear search"
   ]
  },
  {
   "cell_type": "code",
   "execution_count": 93,
   "metadata": {
    "hidden": true
   },
   "outputs": [],
   "source": [
    "def linear_search(l, target):\n",
    "    for e in l:\n",
    "        if e == target:\n",
    "            return True\n",
    "    return False"
   ]
  },
  {
   "cell_type": "code",
   "execution_count": 94,
   "metadata": {
    "hidden": true
   },
   "outputs": [],
   "source": [
    "l = np.arange(1000)"
   ]
  },
  {
   "cell_type": "code",
   "execution_count": 95,
   "metadata": {
    "hidden": true
   },
   "outputs": [
    {
     "name": "stdout",
     "output_type": "stream",
     "text": [
      "265 µs ± 5.07 µs per loop (mean ± std. dev. of 7 runs, 1000 loops each)\n"
     ]
    }
   ],
   "source": [
    "%%timeit\n",
    "linear_search(l,999)"
   ]
  },
  {
   "cell_type": "markdown",
   "metadata": {
    "hidden": true
   },
   "source": [
    "Time scales linearly with n. So Big-O is $O(n)$"
   ]
  },
  {
   "cell_type": "markdown",
   "metadata": {
    "heading_collapsed": true,
    "hidden": true
   },
   "source": [
    "### Binary search"
   ]
  },
  {
   "cell_type": "markdown",
   "metadata": {
    "hidden": true
   },
   "source": [
    "Iterative algo"
   ]
  },
  {
   "cell_type": "code",
   "execution_count": 96,
   "metadata": {
    "hidden": true
   },
   "outputs": [],
   "source": [
    "def binarySearchIterative(a, t):\n",
    "    upper = len(a) - 1\n",
    "    lower = 0\n",
    "    while lower <= upper:\n",
    "        middle = (lower + upper) // 2\n",
    "        if t == a[middle]:\n",
    "            return True\n",
    "        else:\n",
    "            if t < a[middle]:\n",
    "                upper = middle - 1\n",
    "            else:\n",
    "                lower = middle + 1\n",
    "    return False"
   ]
  },
  {
   "cell_type": "code",
   "execution_count": 97,
   "metadata": {
    "hidden": true
   },
   "outputs": [],
   "source": [
    "l = np.arange(1000)"
   ]
  },
  {
   "cell_type": "code",
   "execution_count": 98,
   "metadata": {
    "hidden": true
   },
   "outputs": [
    {
     "name": "stdout",
     "output_type": "stream",
     "text": [
      "9.05 µs ± 419 ns per loop (mean ± std. dev. of 7 runs, 100000 loops each)\n"
     ]
    }
   ],
   "source": [
    "%%timeit\n",
    "binarySearchIterative(l,999)"
   ]
  },
  {
   "cell_type": "markdown",
   "metadata": {
    "hidden": true
   },
   "source": [
    "Time scales linearly with n. So Big-O is $O(log(n))$"
   ]
  },
  {
   "cell_type": "markdown",
   "metadata": {
    "hidden": true
   },
   "source": [
    "We can see that binary search is almost 30x faster"
   ]
  },
  {
   "cell_type": "markdown",
   "metadata": {
    "hidden": true
   },
   "source": [
    "We can do binary search in a recursive way too"
   ]
  },
  {
   "cell_type": "code",
   "execution_count": 100,
   "metadata": {
    "hidden": true
   },
   "outputs": [],
   "source": [
    "def binarySearchRecursive(a, t):\n",
    "    upper = len(a) - 1\n",
    "    lower = 0\n",
    "    if upper >= 0:\n",
    "        middle = (lower + upper) // 2\n",
    "        if t == a[middle]: return True\n",
    "        if t < a[middle]: return binarySearchRecursive(a[:middle], t)\n",
    "        else: return binarySearchRecursive(a[middle + 1:], t)\n",
    "    return False"
   ]
  },
  {
   "cell_type": "code",
   "execution_count": 101,
   "metadata": {
    "hidden": true
   },
   "outputs": [
    {
     "name": "stdout",
     "output_type": "stream",
     "text": [
      "15.6 µs ± 517 ns per loop (mean ± std. dev. of 7 runs, 100000 loops each)\n"
     ]
    }
   ],
   "source": [
    "%%timeit\n",
    "binarySearchRecursive(l,999)"
   ]
  },
  {
   "cell_type": "markdown",
   "metadata": {
    "heading_collapsed": true
   },
   "source": [
    "# Sorting algorithms"
   ]
  },
  {
   "cell_type": "markdown",
   "metadata": {
    "hidden": true
   },
   "source": [
    "Source: http://interactivepython.org/runestone/static/pythonds/SortSearch/toctree.html"
   ]
  },
  {
   "cell_type": "markdown",
   "metadata": {
    "heading_collapsed": true,
    "hidden": true
   },
   "source": [
    "### Bubble sort"
   ]
  },
  {
   "cell_type": "markdown",
   "metadata": {
    "hidden": true
   },
   "source": [
    "![bubble](../imgs/bubblepass.png)"
   ]
  },
  {
   "cell_type": "markdown",
   "metadata": {
    "hidden": true
   },
   "source": [
    "$$Complexity: O(n^2)$$"
   ]
  },
  {
   "cell_type": "markdown",
   "metadata": {
    "hidden": true
   },
   "source": [
    "A bubble sort is often considered the most inefficient sorting method since it must exchange items before the final location is known. These “wasted” exchange operations are very costly. However, because the bubble sort makes passes through the entire unsorted portion of the list, it has the capability to do something most sorting algorithms cannot. In particular, if during a pass there are no exchanges, then we know that the list must be sorted. A bubble sort can be modified to stop early if it finds that the list has become sorted. This means that for lists that require just a few passes, a bubble sort may have an advantage in that it will recognize the sorted list and stop."
   ]
  },
  {
   "cell_type": "code",
   "execution_count": 589,
   "metadata": {
    "hidden": true
   },
   "outputs": [],
   "source": [
    "l = [1,2,3,4,32,5,5,66,33,221,34,23,12]"
   ]
  },
  {
   "cell_type": "code",
   "execution_count": 590,
   "metadata": {
    "hidden": true
   },
   "outputs": [],
   "source": [
    "def bubblesort(nums):\n",
    "    n = len(nums)\n",
    "    exchange_cnt = 1\n",
    "    while exchange_cnt > 0:\n",
    "        exchange_cnt = 0\n",
    "        for i in range(1, n):\n",
    "            if nums[i] < nums[i - 1]:\n",
    "                exchange_cnt += 1\n",
    "                nums[i - 1], nums[i] = nums[i], nums[i - 1]\n",
    "        print(nums)\n",
    "    return nums"
   ]
  },
  {
   "cell_type": "code",
   "execution_count": 591,
   "metadata": {
    "hidden": true
   },
   "outputs": [
    {
     "name": "stdout",
     "output_type": "stream",
     "text": [
      "[1, 2, 3, 4, 5, 5, 32, 33, 66, 34, 23, 12, 221]\n",
      "[1, 2, 3, 4, 5, 5, 32, 33, 34, 23, 12, 66, 221]\n",
      "[1, 2, 3, 4, 5, 5, 32, 33, 23, 12, 34, 66, 221]\n",
      "[1, 2, 3, 4, 5, 5, 32, 23, 12, 33, 34, 66, 221]\n",
      "[1, 2, 3, 4, 5, 5, 23, 12, 32, 33, 34, 66, 221]\n",
      "[1, 2, 3, 4, 5, 5, 12, 23, 32, 33, 34, 66, 221]\n",
      "[1, 2, 3, 4, 5, 5, 12, 23, 32, 33, 34, 66, 221]\n"
     ]
    },
    {
     "data": {
      "text/plain": [
       "[1, 2, 3, 4, 5, 5, 12, 23, 32, 33, 34, 66, 221]"
      ]
     },
     "execution_count": 591,
     "metadata": {},
     "output_type": "execute_result"
    }
   ],
   "source": [
    "bubblesort(l)"
   ]
  },
  {
   "cell_type": "markdown",
   "metadata": {
    "heading_collapsed": true,
    "hidden": true
   },
   "source": [
    "### Selection sort"
   ]
  },
  {
   "cell_type": "markdown",
   "metadata": {
    "hidden": true
   },
   "source": [
    "![selection](../imgs/selectionsort.png)"
   ]
  },
  {
   "cell_type": "markdown",
   "metadata": {
    "hidden": true
   },
   "source": [
    "$$Complexity: O(n^2)$$"
   ]
  },
  {
   "cell_type": "markdown",
   "metadata": {
    "hidden": true
   },
   "source": [
    "The selection sort improves on the bubble sort by making only one exchange for every pass through the list. In order to do this, a selection sort looks for the largest value as it makes a pass and, after completing the pass, places it in the proper location. As with a bubble sort, after the first pass, the largest item is in the correct place. After the second pass, the next largest is in place. This process continues and requires n−1 passes to sort n items, since the final item must be in place after the (n−1) st pass."
   ]
  },
  {
   "cell_type": "code",
   "execution_count": 46,
   "metadata": {
    "hidden": true
   },
   "outputs": [],
   "source": [
    "l = [1,2,3,4,32,5,5,66,33,221,34,23,12]"
   ]
  },
  {
   "cell_type": "code",
   "execution_count": 39,
   "metadata": {
    "hidden": true
   },
   "outputs": [],
   "source": [
    "def selectionSort(l):\n",
    "    n = len(l)\n",
    "    end = n - 1\n",
    "    for j in range(n):\n",
    "        max_ = l[-1 - j]\n",
    "        max_idx = -1 - j\n",
    "        for i in range(end):\n",
    "            if l[i] > max_:\n",
    "                max_ = l[i]\n",
    "                max_idx = i\n",
    "            else:\n",
    "                continue\n",
    "        l[-1 - j], l[max_idx] = l[max_idx], l[-1 - j]\n",
    "        end = end - 1\n",
    "        print(l)\n",
    "    return l"
   ]
  },
  {
   "cell_type": "code",
   "execution_count": 40,
   "metadata": {
    "hidden": true
   },
   "outputs": [
    {
     "name": "stdout",
     "output_type": "stream",
     "text": [
      "[1, 2, 3, 4, 32, 5, 5, 66, 33, 12, 34, 23, 221]\n",
      "[1, 2, 3, 4, 32, 5, 5, 23, 33, 12, 34, 66, 221]\n",
      "[1, 2, 3, 4, 32, 5, 5, 23, 33, 12, 34, 66, 221]\n",
      "[1, 2, 3, 4, 32, 5, 5, 23, 12, 33, 34, 66, 221]\n",
      "[1, 2, 3, 4, 12, 5, 5, 23, 32, 33, 34, 66, 221]\n",
      "[1, 2, 3, 4, 12, 5, 5, 23, 32, 33, 34, 66, 221]\n",
      "[1, 2, 3, 4, 5, 5, 12, 23, 32, 33, 34, 66, 221]\n",
      "[1, 2, 3, 4, 5, 5, 12, 23, 32, 33, 34, 66, 221]\n",
      "[1, 2, 3, 4, 5, 5, 12, 23, 32, 33, 34, 66, 221]\n",
      "[1, 2, 3, 4, 5, 5, 12, 23, 32, 33, 34, 66, 221]\n",
      "[1, 2, 3, 4, 5, 5, 12, 23, 32, 33, 34, 66, 221]\n",
      "[1, 2, 3, 4, 5, 5, 12, 23, 32, 33, 34, 66, 221]\n",
      "[1, 2, 3, 4, 5, 5, 12, 23, 32, 33, 34, 66, 221]\n"
     ]
    },
    {
     "data": {
      "text/plain": [
       "[1, 2, 3, 4, 5, 5, 12, 23, 32, 33, 34, 66, 221]"
      ]
     },
     "execution_count": 40,
     "metadata": {},
     "output_type": "execute_result"
    }
   ],
   "source": [
    "selectionSort(l)"
   ]
  },
  {
   "cell_type": "markdown",
   "metadata": {
    "hidden": true
   },
   "source": [
    "The benefit of selection over bubble sort is it does one exchange per pass whereas bubble sort can do multiple exchanges."
   ]
  },
  {
   "cell_type": "markdown",
   "metadata": {
    "heading_collapsed": true,
    "hidden": true
   },
   "source": [
    "### Insertion sort"
   ]
  },
  {
   "cell_type": "markdown",
   "metadata": {
    "hidden": true
   },
   "source": [
    "![insertion](../imgs/insertionsort.png)"
   ]
  },
  {
   "cell_type": "markdown",
   "metadata": {
    "hidden": true
   },
   "source": [
    "$$Complexity: O(n^2)$$"
   ]
  },
  {
   "cell_type": "code",
   "execution_count": 605,
   "metadata": {
    "hidden": true
   },
   "outputs": [],
   "source": [
    "l = [1,2,3,4,32,5,5,66,33,221,34,23,12]"
   ]
  },
  {
   "cell_type": "code",
   "execution_count": 606,
   "metadata": {
    "hidden": true
   },
   "outputs": [],
   "source": [
    "def insertionSort(l):\n",
    "    for i in range(1, len(l)):\n",
    "        cval = l[i]\n",
    "        pos = i\n",
    "        while pos > 0 and l[pos - 1] > cval:\n",
    "            l[pos],l[pos-1] = l[pos - 1],l[pos]\n",
    "            pos = pos - 1\n",
    "        print(l)\n",
    "    return l"
   ]
  },
  {
   "cell_type": "code",
   "execution_count": 607,
   "metadata": {
    "hidden": true
   },
   "outputs": [
    {
     "name": "stdout",
     "output_type": "stream",
     "text": [
      "[1, 2, 3, 4, 32, 5, 5, 66, 33, 221, 34, 23, 12]\n",
      "[1, 2, 3, 4, 32, 5, 5, 66, 33, 221, 34, 23, 12]\n",
      "[1, 2, 3, 4, 32, 5, 5, 66, 33, 221, 34, 23, 12]\n",
      "[1, 2, 3, 4, 32, 5, 5, 66, 33, 221, 34, 23, 12]\n",
      "[1, 2, 3, 4, 5, 32, 5, 66, 33, 221, 34, 23, 12]\n",
      "[1, 2, 3, 4, 5, 5, 32, 66, 33, 221, 34, 23, 12]\n",
      "[1, 2, 3, 4, 5, 5, 32, 66, 33, 221, 34, 23, 12]\n",
      "[1, 2, 3, 4, 5, 5, 32, 33, 66, 221, 34, 23, 12]\n",
      "[1, 2, 3, 4, 5, 5, 32, 33, 66, 221, 34, 23, 12]\n",
      "[1, 2, 3, 4, 5, 5, 32, 33, 34, 66, 221, 23, 12]\n",
      "[1, 2, 3, 4, 5, 5, 23, 32, 33, 34, 66, 221, 12]\n",
      "[1, 2, 3, 4, 5, 5, 12, 23, 32, 33, 34, 66, 221]\n"
     ]
    },
    {
     "data": {
      "text/plain": [
       "[1, 2, 3, 4, 5, 5, 12, 23, 32, 33, 34, 66, 221]"
      ]
     },
     "execution_count": 607,
     "metadata": {},
     "output_type": "execute_result"
    }
   ],
   "source": [
    "insertionSort(l)"
   ]
  },
  {
   "cell_type": "markdown",
   "metadata": {
    "heading_collapsed": true,
    "hidden": true
   },
   "source": [
    "### Merge Sort"
   ]
  },
  {
   "cell_type": "markdown",
   "metadata": {
    "hidden": true
   },
   "source": [
    "![merge](../imgs/mergesort.png)"
   ]
  },
  {
   "cell_type": "markdown",
   "metadata": {
    "hidden": true
   },
   "source": [
    "![merge1](../imgs/mergesortB.png)"
   ]
  },
  {
   "cell_type": "markdown",
   "metadata": {
    "hidden": true
   },
   "source": [
    "$$Complexity: O(nlog(n))$$"
   ]
  },
  {
   "cell_type": "code",
   "execution_count": 1,
   "metadata": {
    "hidden": true
   },
   "outputs": [],
   "source": [
    "l = [1,2,3,4,32,5,5,66,33,221,34,23,12]"
   ]
  },
  {
   "cell_type": "code",
   "execution_count": 2,
   "metadata": {
    "hidden": true
   },
   "outputs": [],
   "source": [
    "def mergeSort(alist):\n",
    "    print(\"Splitting \", alist)\n",
    "    if len(alist) > 1:\n",
    "        mid = len(alist) // 2\n",
    "        lefthalf = alist[:mid]\n",
    "        righthalf = alist[mid:]\n",
    "\n",
    "        mergeSort(lefthalf)\n",
    "        mergeSort(righthalf)\n",
    "\n",
    "        i = 0\n",
    "        j = 0\n",
    "        k = 0\n",
    "        while i < len(lefthalf) and j < len(righthalf):\n",
    "            if lefthalf[i] < righthalf[j]:\n",
    "                alist[k] = lefthalf[i]\n",
    "                i = i + 1\n",
    "            else:\n",
    "                alist[k] = righthalf[j]\n",
    "                j = j + 1\n",
    "            k = k + 1\n",
    "\n",
    "        while i < len(lefthalf):\n",
    "            alist[k] = lefthalf[i]\n",
    "            i = i + 1\n",
    "            k = k + 1\n",
    "\n",
    "        while j < len(righthalf):\n",
    "            alist[k] = righthalf[j]\n",
    "            j = j + 1\n",
    "            k = k + 1\n",
    "    print(\"Merging \", alist)"
   ]
  },
  {
   "cell_type": "code",
   "execution_count": 3,
   "metadata": {
    "hidden": true
   },
   "outputs": [
    {
     "name": "stdout",
     "output_type": "stream",
     "text": [
      "Splitting  [1, 2, 3, 4, 32, 5, 5, 66, 33, 221, 34, 23, 12]\n",
      "Splitting  [1, 2, 3, 4, 32, 5]\n",
      "Splitting  [1, 2, 3]\n",
      "Splitting  [1]\n",
      "Merging  [1]\n",
      "Splitting  [2, 3]\n",
      "Splitting  [2]\n",
      "Merging  [2]\n",
      "Splitting  [3]\n",
      "Merging  [3]\n",
      "Merging  [2, 3]\n",
      "Merging  [1, 2, 3]\n",
      "Splitting  [4, 32, 5]\n",
      "Splitting  [4]\n",
      "Merging  [4]\n",
      "Splitting  [32, 5]\n",
      "Splitting  [32]\n",
      "Merging  [32]\n",
      "Splitting  [5]\n",
      "Merging  [5]\n",
      "Merging  [5, 32]\n",
      "Merging  [4, 5, 32]\n",
      "Merging  [1, 2, 3, 4, 5, 32]\n",
      "Splitting  [5, 66, 33, 221, 34, 23, 12]\n",
      "Splitting  [5, 66, 33]\n",
      "Splitting  [5]\n",
      "Merging  [5]\n",
      "Splitting  [66, 33]\n",
      "Splitting  [66]\n",
      "Merging  [66]\n",
      "Splitting  [33]\n",
      "Merging  [33]\n",
      "Merging  [33, 66]\n",
      "Merging  [5, 33, 66]\n",
      "Splitting  [221, 34, 23, 12]\n",
      "Splitting  [221, 34]\n",
      "Splitting  [221]\n",
      "Merging  [221]\n",
      "Splitting  [34]\n",
      "Merging  [34]\n",
      "Merging  [34, 221]\n",
      "Splitting  [23, 12]\n",
      "Splitting  [23]\n",
      "Merging  [23]\n",
      "Splitting  [12]\n",
      "Merging  [12]\n",
      "Merging  [12, 23]\n",
      "Merging  [12, 23, 34, 221]\n",
      "Merging  [5, 12, 23, 33, 34, 66, 221]\n",
      "Merging  [1, 2, 3, 4, 5, 5, 12, 23, 32, 33, 34, 66, 221]\n"
     ]
    }
   ],
   "source": [
    "mergeSort(l)"
   ]
  },
  {
   "cell_type": "markdown",
   "metadata": {
    "heading_collapsed": true,
    "hidden": true
   },
   "source": [
    "### Quick sort"
   ]
  },
  {
   "cell_type": "markdown",
   "metadata": {
    "hidden": true
   },
   "source": [
    "![quick](../imgs/quicksort.png)"
   ]
  },
  {
   "cell_type": "markdown",
   "metadata": {
    "hidden": true
   },
   "source": [
    "$$Complexity: O(nlog(n))$$ $$Worst case : O(n^2)$$"
   ]
  },
  {
   "cell_type": "code",
   "execution_count": 57,
   "metadata": {
    "hidden": true
   },
   "outputs": [
    {
     "name": "stdout",
     "output_type": "stream",
     "text": [
      "[17, 20, 26, 31, 44, 54, 55, 77, 93]\n"
     ]
    }
   ],
   "source": [
    "def quickSort(alist):\n",
    "    quickSortHelper(alist, 0, len(alist) - 1)\n",
    "\n",
    "\n",
    "def quickSortHelper(alist, first, last):\n",
    "    if first < last:\n",
    "\n",
    "        splitpoint = partition(alist, first, last)\n",
    "\n",
    "        quickSortHelper(alist, first, splitpoint - 1)\n",
    "        quickSortHelper(alist, splitpoint + 1, last)\n",
    "\n",
    "\n",
    "def partition(alist, first, last):\n",
    "    pivotvalue = alist[first]\n",
    "\n",
    "    leftmark = first + 1\n",
    "    rightmark = last\n",
    "\n",
    "    done = False\n",
    "    while not done:\n",
    "\n",
    "        while leftmark <= rightmark and alist[leftmark] <= pivotvalue:\n",
    "            leftmark = leftmark + 1\n",
    "\n",
    "        while alist[rightmark] >= pivotvalue and rightmark >= leftmark:\n",
    "            rightmark = rightmark - 1\n",
    "\n",
    "        if rightmark < leftmark:\n",
    "            done = True\n",
    "        else:\n",
    "            temp = alist[leftmark]\n",
    "            alist[leftmark] = alist[rightmark]\n",
    "            alist[rightmark] = temp\n",
    "\n",
    "    temp = alist[first]\n",
    "    alist[first] = alist[rightmark]\n",
    "    alist[rightmark] = temp\n",
    "\n",
    "    return rightmark\n",
    "\n",
    "\n",
    "alist = [54, 26, 93, 17, 77, 31, 44, 55, 20]\n",
    "quickSort(alist)\n",
    "print(alist)"
   ]
  },
  {
   "cell_type": "markdown",
   "metadata": {},
   "source": [
    "# References and useful links:"
   ]
  },
  {
   "cell_type": "markdown",
   "metadata": {},
   "source": [
    "* Visualization of these concepst : https://visualgo.net/en\n"
   ]
  },
  {
   "cell_type": "code",
   "execution_count": null,
   "metadata": {},
   "outputs": [],
   "source": [
    "\n"
   ]
  }
 ],
 "metadata": {
  "kernelspec": {
   "display_name": "Python 3",
   "language": "python",
   "name": "python3"
  },
  "language_info": {
   "codemirror_mode": {
    "name": "ipython",
    "version": 3
   },
   "file_extension": ".py",
   "mimetype": "text/x-python",
   "name": "python",
   "nbconvert_exporter": "python",
   "pygments_lexer": "ipython3",
   "version": "3.8.3"
  },
  "toc": {
   "nav_menu": {},
   "number_sections": true,
   "sideBar": true,
   "skip_h1_title": false,
   "toc_cell": true,
   "toc_position": {},
   "toc_section_display": "none",
   "toc_window_display": false
  }
 },
 "nbformat": 4,
 "nbformat_minor": 2
}
