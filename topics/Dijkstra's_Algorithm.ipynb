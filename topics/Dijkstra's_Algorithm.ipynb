{
  "cells": [
    {
      "cell_type": "markdown",
      "metadata": {
        "id": "ahKI6eBc5rgk"
      },
      "source": [
        "![Graph](https://www.geeksforgeeks.org/wp-content/uploads/Fig-11.jpg)"
      ]
    },
    {
      "cell_type": "code",
      "execution_count": 1,
      "metadata": {
        "colab": {
          "base_uri": "https://localhost:8080/"
        },
        "id": "jCjLeAGqWpBX",
        "outputId": "57a2e50c-ea36-4d56-9800-2c2480257692"
      },
      "outputs": [
        {
          "data": {
            "text/plain": [
              "9223372036854775807"
            ]
          },
          "execution_count": 1,
          "metadata": {},
          "output_type": "execute_result"
        }
      ],
      "source": [
        "# first we need positive infinity\n",
        "import sys\n",
        "sys.maxsize "
      ]
    },
    {
      "cell_type": "code",
      "execution_count": 2,
      "metadata": {
        "colab": {
          "base_uri": "https://localhost:8080/"
        },
        "id": "ahi_0vr_WuPl",
        "outputId": "eae65d58-1933-4f17-fc32-667ecd771058"
      },
      "outputs": [
        {
          "data": {
            "text/plain": [
              "9223372036854775807"
            ]
          },
          "execution_count": 2,
          "metadata": {},
          "output_type": "execute_result"
        }
      ],
      "source": [
        "2**(64-1)-1"
      ]
    },
    {
      "cell_type": "code",
      "execution_count": 4,
      "metadata": {
        "colab": {
          "base_uri": "https://localhost:8080/"
        },
        "id": "oKiZ68Oq5rgn",
        "outputId": "459f9763-766d-464d-9a0f-73c4e250f920"
      },
      "outputs": [
        {
          "name": "stdout",
          "output_type": "stream",
          "text": [
            "Vertex \tDistance from Source\n",
            "0 \t 0\n",
            "1 \t 4\n",
            "2 \t 12\n",
            "3 \t 19\n",
            "4 \t 21\n",
            "5 \t 11\n",
            "6 \t 9\n",
            "7 \t 8\n",
            "8 \t 14\n"
          ]
        }
      ],
      "source": [
        "# Python program for Dijkstra's single\n",
        "# source shortest path algorithm. The program is\n",
        "# for adjacency matrix representation of the graph\n",
        " \n",
        "# Library for INT_MAX\n",
        "# import sys\n",
        " \n",
        "class Graph():\n",
        " \n",
        "    def __init__(self, vertices):\n",
        "        self.V = vertices\n",
        "        # this is for the adjacency matrix we set 0 for the diagonal\n",
        "        self.graph = [[0 for column in range(vertices)]\n",
        "                    for row in range(vertices)]\n",
        "        # let's also save path information - we only need to store the parent of each node\n",
        "        self.parent = [-1]*vertices # initially all are -1\n",
        " \n",
        "    def printSolution(self, dist):\n",
        "        print(\"Vertex \\tDistance from Source\")\n",
        "        for node in range(self.V):\n",
        "            print(node, \"\\t\", dist[node])\n",
        " \n",
        "    # A utility function to find the vertex with\n",
        "    # minimum distance value, from the set of vertices\n",
        "    # not yet included in shortest path tree\n",
        "    # hint: we can optimize this part using heap or priority queue\n",
        "    def minDistance(self, dist, sptSet):\n",
        " \n",
        "        # Initialize minimum distance for next node\n",
        "        min = sys.maxsize\n",
        " \n",
        "        # Search not nearest vertex not in the\n",
        "        # shortest path tree\n",
        "        for u in range(self.V):\n",
        "            if dist[u] < min and sptSet[u] == False:\n",
        "                min = dist[u]\n",
        "                min_index = u\n",
        " \n",
        "        return min_index\n",
        "    \n",
        "    # print path from src to dest\n",
        "    def printPath(self, src, dest):\n",
        "        # we will use while loop to print the path starting from the destination\n",
        "        # we will use the parent array to print the path\n",
        "        path = []\n",
        "        path.append(dest)\n",
        "        while self.parent[dest] != src:\n",
        "            path.append(self.parent[dest])\n",
        "            dest = self.parent[dest]\n",
        "            if self.parent[dest] == -1:\n",
        "                print(\"No path exists\")\n",
        "                return\n",
        "        path.append(src)\n",
        "        path.reverse()\n",
        "        print(path)\n",
        " \n",
        "    # Function that implements Dijkstra's single source\n",
        "    # shortest path algorithm for a graph represented\n",
        "    # using adjacency matrix representation\n",
        "    def dijkstra(self, src):\n",
        " \n",
        "        dist = [sys.maxsize] * self.V # originally everything is infinity\n",
        "        dist[src] = 0  # this means that the src will be found by the code below\n",
        "        sptSet = [False] * self.V\n",
        " \n",
        "        for cout in range(self.V):\n",
        " \n",
        "            # Pick the minimum distance vertex from\n",
        "            # the set of vertices not yet processed.\n",
        "            # x is always equal to src in first iteration\n",
        "            x = self.minDistance(dist, sptSet)\n",
        " \n",
        "            # Put the minimum distance vertex in the\n",
        "            # shortest path tree\n",
        "            sptSet[x] = True\n",
        " \n",
        "            # Update dist value of the adjacent vertices\n",
        "            # of the picked vertex only if the current\n",
        "            # distance is greater than new distance and\n",
        "            # the vertex in not in the shortest path tree\n",
        "            for y in range(self.V):\n",
        "                if self.graph[x][y] > 0 and sptSet[y] == False and \\\n",
        "                dist[y] > dist[x] + self.graph[x][y]:\n",
        "                        dist[y] = dist[x] + self.graph[x][y]\n",
        "                        self.parent[y] = x # we needed to update the parent\n",
        " \n",
        "        self.printSolution(dist)\n",
        "        return dist\n",
        " \n",
        "# Driver program\n",
        "# we use a adjacency matrix representation\n",
        "g = Graph(9)\n",
        "g.graph = [[0, 4, 0, 0, 0, 0, 0, 8, 0],\n",
        "           [4, 0, 8, 0, 0, 0, 0, 11, 0],\n",
        "           [0, 8, 0, 7, 0, 4, 0, 0, 2],\n",
        "           [0, 0, 7, 0, 9, 14, 0, 0, 0],\n",
        "           [0, 0, 0, 9, 0, 10, 0, 0, 0],\n",
        "           [0, 0, 4, 14, 10, 0, 2, 0, 0],\n",
        "           [0, 0, 0, 0, 0, 2, 0, 1, 6],\n",
        "           [8, 11, 0, 0, 0, 0, 1, 0, 7],\n",
        "           [0, 0, 2, 0, 0, 0, 6, 7, 0]\n",
        "        ];\n",
        " \n",
        "solution = g.dijkstra(0);\n",
        " \n",
        "# This code is contributed by Divyanshu Mehta and Updated by Pranav Singh Sambyal"
      ]
    },
    {
      "cell_type": "code",
      "execution_count": 5,
      "metadata": {
        "colab": {
          "base_uri": "https://localhost:8080/"
        },
        "id": "w8vFBaw3cD7M",
        "outputId": "0ec9bff1-cbb3-4b17-eacc-ab43bf8dd019"
      },
      "outputs": [
        {
          "name": "stdout",
          "output_type": "stream",
          "text": [
            "[0, 1, 2, 8]\n"
          ]
        }
      ],
      "source": [
        "g.printPath(0,8)"
      ]
    },
    {
      "cell_type": "code",
      "execution_count": 7,
      "metadata": {},
      "outputs": [
        {
          "name": "stdout",
          "output_type": "stream",
          "text": [
            "[0, 7, 6, 5, 4]\n"
          ]
        }
      ],
      "source": [
        "g.printPath(0,4)"
      ]
    },
    {
      "cell_type": "code",
      "execution_count": null,
      "metadata": {
        "id": "N-zm67Ow5rgp",
        "outputId": "6fc913d1-7ed0-42ab-93f9-da3d1ba0e14b"
      },
      "outputs": [
        {
          "data": {
            "text/plain": [
              "9223372036854775807"
            ]
          },
          "execution_count": 2,
          "metadata": {},
          "output_type": "execute_result"
        }
      ],
      "source": [
        "sys.maxsize # 64bit signed infinity :)"
      ]
    },
    {
      "cell_type": "code",
      "execution_count": null,
      "metadata": {
        "id": "6nMNuAAZ5rgq",
        "outputId": "3a0c5a93-b06f-4a14-977e-477ee0c6fae6"
      },
      "outputs": [
        {
          "data": {
            "text/plain": [
              "9223372036854775808"
            ]
          },
          "execution_count": 3,
          "metadata": {},
          "output_type": "execute_result"
        }
      ],
      "source": [
        "2**63"
      ]
    },
    {
      "cell_type": "code",
      "execution_count": 8,
      "metadata": {
        "colab": {
          "base_uri": "https://localhost:8080/"
        },
        "id": "4-Zh_W645rgr",
        "outputId": "a212f9c1-ef31-44bd-a77e-1d062f1a011d"
      },
      "outputs": [
        {
          "name": "stdout",
          "output_type": "stream",
          "text": [
            "Vertex \tDistance from Source\n",
            "0 \t 0\n",
            "1 \t 4\n",
            "2 \t 12\n",
            "3 \t 6\n"
          ]
        }
      ],
      "source": [
        "    # Driver program\n",
        "g = Graph(4)\n",
        "g.graph =   [[0, 4, 0, 0],\n",
        "             [4, 0, 8, 2],\n",
        "             [0, 8, 0, 7],\n",
        "             [0, 2, 7, 0],\n",
        "         ];\n",
        "  \n",
        "g.dijkstra(0);"
      ]
    },
    {
      "cell_type": "code",
      "execution_count": 6,
      "metadata": {
        "colab": {
          "base_uri": "https://localhost:8080/"
        },
        "id": "EPdxewCH5rgr",
        "outputId": "b2b56c09-b864-4ab6-a4f5-40897cbd6249"
      },
      "outputs": [
        {
          "name": "stdout",
          "output_type": "stream",
          "text": [
            "Vertex \tDistance from Source\n",
            "0 \t 6\n",
            "1 \t 2\n",
            "2 \t 7\n",
            "3 \t 0\n"
          ]
        }
      ],
      "source": [
        "g.dijkstra(3)"
      ]
    },
    {
      "cell_type": "code",
      "execution_count": 9,
      "metadata": {},
      "outputs": [
        {
          "name": "stdout",
          "output_type": "stream",
          "text": [
            "Defaulting to user installation because normal site-packages is not writeable\n",
            "Collecting networkx\n",
            "  Obtaining dependency information for networkx from https://files.pythonhosted.org/packages/d5/f0/8fbc882ca80cf077f1b246c0e3c3465f7f415439bdea6b899f6b19f61f70/networkx-3.2.1-py3-none-any.whl.metadata\n",
            "  Downloading networkx-3.2.1-py3-none-any.whl.metadata (5.2 kB)\n",
            "Downloading networkx-3.2.1-py3-none-any.whl (1.6 MB)\n",
            "   ---------------------------------------- 0.0/1.6 MB ? eta -:--:--\n",
            "   ----------- ---------------------------- 0.5/1.6 MB 10.2 MB/s eta 0:00:01\n",
            "   ---------------------------------------- 1.6/1.6 MB 17.4 MB/s eta 0:00:00\n",
            "Installing collected packages: networkx\n",
            "Successfully installed networkx-3.2.1\n"
          ]
        },
        {
          "name": "stderr",
          "output_type": "stream",
          "text": [
            "\n",
            "[notice] A new release of pip is available: 23.2.1 -> 24.0\n",
            "[notice] To update, run: python.exe -m pip install --upgrade pip\n"
          ]
        }
      ],
      "source": [
        "!pip install networkx"
      ]
    },
    {
      "cell_type": "code",
      "execution_count": 10,
      "metadata": {
        "id": "GV4zz2jl5rgs"
      },
      "outputs": [],
      "source": [
        "import networkx as nx\n",
        "G = nx.Graph()"
      ]
    },
    {
      "cell_type": "code",
      "execution_count": 11,
      "metadata": {
        "id": "pZq7FKPk5rgs"
      },
      "outputs": [],
      "source": [
        "import matplotlib.pyplot as plt\n"
      ]
    },
    {
      "cell_type": "code",
      "execution_count": 12,
      "metadata": {
        "id": "W4UcWIxq5rgt"
      },
      "outputs": [],
      "source": [
        "G = nx.petersen_graph() # https://en.wikipedia.org/wiki/Petersen_graph useful for counterexamples"
      ]
    },
    {
      "cell_type": "code",
      "execution_count": 16,
      "metadata": {
        "colab": {
          "base_uri": "https://localhost:8080/",
          "height": 248
        },
        "id": "oW7EbUk45rgt",
        "outputId": "09e724ef-50aa-4adf-acda-301a41099bc0"
      },
      "outputs": [
        {
          "data": {
            "image/png": "[encoded data removed]",
            "text/plain": [
              "<Figure size 640x480 with 3 Axes>"
            ]
          },
          "metadata": {},
          "output_type": "display_data"
        }
      ],
      "source": [
        "plt.subplot(131)\n",
        "nx.draw(G, with_labels=True, font_weight='bold')\n",
        "plt.subplot(132)\n",
        "nx.draw_shell(G, nlist=[range(5, 10), range(5)], with_labels=True, font_weight='bold')\n",
        "plt.subplot(133)\n",
        "nx.draw_circular(G, with_labels=True, font_weight='bold')\n"
      ]
    },
    {
      "cell_type": "markdown",
      "metadata": {
        "id": "dpLQHlDG5rgu"
      },
      "source": [
        "![Graph](https://www.geeksforgeeks.org/wp-content/uploads/Fig-11.jpg)"
      ]
    },
    {
      "cell_type": "code",
      "execution_count": 17,
      "metadata": {
        "colab": {
          "base_uri": "https://localhost:8080/",
          "height": 319
        },
        "id": "HSpih1Z15rgu",
        "outputId": "c2a6ec09-e166-4aa0-ae80-0a4eedd5d2ff"
      },
      "outputs": [
        {
          "data": {
            "image/png": "[encoded data removed]",
            "text/plain": [
              "<Figure size 640x480 with 1 Axes>"
            ]
          },
          "metadata": {},
          "output_type": "display_data"
        }
      ],
      "source": [
        "G = nx.Graph()  # initialize an empty networkx Graph\n",
        "G.add_weighted_edges_from([(0,1,4),(0,7,8),(2,8,2),\n",
        "                           (7,6,1),(8,6,6),\n",
        "                           (6,5,2),(5,4,10),(7,8,7),\n",
        "                           (7,1,11),(1,2,8),(2,3,7),(2,5,4),(3,5,14),(4,3,9)])\n",
        "# pos=nx.shell_layout(G)\n",
        "# https://networkx.org/documentation/stable/reference/drawing.html\n",
        "pos=nx.planar_layout(G)\n",
        "nx.draw(G, pos=pos, with_labels=True, font_weight='bold') \n",
        "# so we had to pass pos to the draw method that uses matplotlib underneath\n",
        "edge_labels = nx.get_edge_attributes(G,'weight') # key is edge, pls check for your case\n",
        "formatted_edge_labels = {(elem[0],elem[1]):edge_labels[elem] for elem in edge_labels} # use this to modify the tuple keyed dict if it has > 2 elements, else ignore\n",
        "out = nx.draw_networkx_edge_labels(G,pos,edge_labels=formatted_edge_labels,font_color='red')"
      ]
    },
    {
      "cell_type": "code",
      "execution_count": 12,
      "metadata": {
        "colab": {
          "base_uri": "https://localhost:8080/"
        },
        "id": "V6SN0SLSaCIS",
        "outputId": "3a6efb14-4eb6-4bf0-c9ed-2487011ed67f"
      },
      "outputs": [
        {
          "data": {
            "text/plain": [
              "{0: array([-1.00000000e+00, -8.74227766e-08]),\n",
              " 1: array([-0.76604432, -0.64278775]),\n",
              " 7: array([-0.17364813, -0.98480779]),\n",
              " 2: array([ 0.49999991, -0.86602545]),\n",
              " 8: array([ 0.93969256, -0.34202036]),\n",
              " 6: array([0.93969256, 0.34202024]),\n",
              " 5: array([0.49999961, 0.86602563]),\n",
              " 4: array([-0.17364848,  0.98480767]),\n",
              " 3: array([-0.76604456,  0.64278752])}"
            ]
          },
          "execution_count": 12,
          "metadata": {},
          "output_type": "execute_result"
        }
      ],
      "source": [
        "pos"
      ]
    },
    {
      "cell_type": "code",
      "execution_count": null,
      "metadata": {
        "id": "9NZnevls5rgu",
        "outputId": "b734248f-944f-42c4-a538-8ea2a9df4313"
      },
      "outputs": [
        {
          "data": {
            "text/plain": [
              "dict"
            ]
          },
          "execution_count": 26,
          "metadata": {},
          "output_type": "execute_result"
        }
      ],
      "source": [
        "type(out)"
      ]
    },
    {
      "cell_type": "code",
      "execution_count": 17,
      "metadata": {
        "id": "nSxluf8W5rgv"
      },
      "outputs": [],
      "source": [
        "length, path = nx.single_source_dijkstra(G, 0)"
      ]
    },
    {
      "cell_type": "code",
      "execution_count": 21,
      "metadata": {
        "colab": {
          "base_uri": "https://localhost:8080/"
        },
        "id": "PjsIoocP5rgv",
        "outputId": "82bf1e5c-a443-499d-9ac7-fad546d24c64"
      },
      "outputs": [
        {
          "data": {
            "text/plain": [
              "dict"
            ]
          },
          "execution_count": 21,
          "metadata": {},
          "output_type": "execute_result"
        }
      ],
      "source": [
        "type(length)"
      ]
    },
    {
      "cell_type": "code",
      "execution_count": 19,
      "metadata": {
        "colab": {
          "base_uri": "https://localhost:8080/"
        },
        "id": "RCbBsob65rgv",
        "outputId": "b35414f9-4afa-451f-94c3-7e825197a907"
      },
      "outputs": [
        {
          "data": {
            "text/plain": [
              "{0: 0, 1: 4, 7: 8, 6: 9, 5: 11, 2: 12, 8: 14, 3: 19, 4: 21}"
            ]
          },
          "execution_count": 19,
          "metadata": {},
          "output_type": "execute_result"
        }
      ],
      "source": [
        "length"
      ]
    },
    {
      "cell_type": "code",
      "execution_count": 23,
      "metadata": {
        "colab": {
          "base_uri": "https://localhost:8080/",
          "height": 331
        },
        "id": "GHY7yZSqbmHM",
        "outputId": "0929c81a-55f7-439c-bcf3-7603833e3f78"
      },
      "outputs": [
        {
          "data": {
            "text/html": [
              "\n",
              "  <div id=\"df-aa34f311-d32d-4f49-8e69-37911ef3adc8\">\n",
              "    <div class=\"colab-df-container\">\n",
              "      <div>\n",
              "<style scoped>\n",
              "    .dataframe tbody tr th:only-of-type {\n",
              "        vertical-align: middle;\n",
              "    }\n",
              "\n",
              "    .dataframe tbody tr th {\n",
              "        vertical-align: top;\n",
              "    }\n",
              "\n",
              "    .dataframe thead th {\n",
              "        text-align: right;\n",
              "    }\n",
              "</style>\n",
              "<table border=\"1\" class=\"dataframe\">\n",
              "  <thead>\n",
              "    <tr style=\"text-align: right;\">\n",
              "      <th></th>\n",
              "      <th>vertex</th>\n",
              "      <th>cost</th>\n",
              "    </tr>\n",
              "  </thead>\n",
              "  <tbody>\n",
              "    <tr>\n",
              "      <th>0</th>\n",
              "      <td>0</td>\n",
              "      <td>0</td>\n",
              "    </tr>\n",
              "    <tr>\n",
              "      <th>1</th>\n",
              "      <td>1</td>\n",
              "      <td>4</td>\n",
              "    </tr>\n",
              "    <tr>\n",
              "      <th>2</th>\n",
              "      <td>7</td>\n",
              "      <td>8</td>\n",
              "    </tr>\n",
              "    <tr>\n",
              "      <th>3</th>\n",
              "      <td>6</td>\n",
              "      <td>9</td>\n",
              "    </tr>\n",
              "    <tr>\n",
              "      <th>4</th>\n",
              "      <td>5</td>\n",
              "      <td>11</td>\n",
              "    </tr>\n",
              "    <tr>\n",
              "      <th>5</th>\n",
              "      <td>2</td>\n",
              "      <td>12</td>\n",
              "    </tr>\n",
              "    <tr>\n",
              "      <th>6</th>\n",
              "      <td>8</td>\n",
              "      <td>14</td>\n",
              "    </tr>\n",
              "    <tr>\n",
              "      <th>7</th>\n",
              "      <td>3</td>\n",
              "      <td>19</td>\n",
              "    </tr>\n",
              "    <tr>\n",
              "      <th>8</th>\n",
              "      <td>4</td>\n",
              "      <td>21</td>\n",
              "    </tr>\n",
              "  </tbody>\n",
              "</table>\n",
              "</div>\n",
              "      <button class=\"colab-df-convert\" onclick=\"convertToInteractive('df-aa34f311-d32d-4f49-8e69-37911ef3adc8')\"\n",
              "              title=\"Convert this dataframe to an interactive table.\"\n",
              "              style=\"display:none;\">\n",
              "        \n",
              "  <svg xmlns=\"http://www.w3.org/2000/svg\" height=\"24px\"viewBox=\"0 0 24 24\"\n",
              "       width=\"24px\">\n",
              "    <path d=\"M0 0h24v24H0V0z\" fill=\"none\"/>\n",
              "    <path d=\"M18.56 5.44l.94 2.06.94-2.06 2.06-.94-2.06-.94-.94-2.06-.94 2.06-2.06.94zm-11 1L8.5 8.5l.94-2.06 2.06-.94-2.06-.94L8.5 2.5l-.94 2.06-2.06.94zm10 10l.94 2.06.94-2.06 2.06-.94-2.06-.94-.94-2.06-.94 2.06-2.06.94z\"/><path d=\"M17.41 7.96l-1.37-1.37c-.4-.4-.92-.59-1.43-.59-.52 0-1.04.2-1.43.59L10.3 9.45l-7.72 7.72c-.78.78-.78 2.05 0 2.83L4 21.41c.39.39.9.59 1.41.59.51 0 1.02-.2 1.41-.59l7.78-7.78 2.81-2.81c.8-.78.8-2.07 0-2.86zM5.41 20L4 18.59l7.72-7.72 1.47 1.35L5.41 20z\"/>\n",
              "  </svg>\n",
              "      </button>\n",
              "      \n",
              "  <style>\n",
              "    .colab-df-container {\n",
              "      display:flex;\n",
              "      flex-wrap:wrap;\n",
              "      gap: 12px;\n",
              "    }\n",
              "\n",
              "    .colab-df-convert {\n",
              "      background-color: #E8F0FE;\n",
              "      border: none;\n",
              "      border-radius: 50%;\n",
              "      cursor: pointer;\n",
              "      display: none;\n",
              "      fill: #1967D2;\n",
              "      height: 32px;\n",
              "      padding: 0 0 0 0;\n",
              "      width: 32px;\n",
              "    }\n",
              "\n",
              "    .colab-df-convert:hover {\n",
              "      background-color: #E2EBFA;\n",
              "      box-shadow: 0px 1px 2px rgba(60, 64, 67, 0.3), 0px 1px 3px 1px rgba(60, 64, 67, 0.15);\n",
              "      fill: #174EA6;\n",
              "    }\n",
              "\n",
              "    [theme=dark] .colab-df-convert {\n",
              "      background-color: #3B4455;\n",
              "      fill: #D2E3FC;\n",
              "    }\n",
              "\n",
              "    [theme=dark] .colab-df-convert:hover {\n",
              "      background-color: #434B5C;\n",
              "      box-shadow: 0px 1px 3px 1px rgba(0, 0, 0, 0.15);\n",
              "      filter: drop-shadow(0px 1px 2px rgba(0, 0, 0, 0.3));\n",
              "      fill: #FFFFFF;\n",
              "    }\n",
              "  </style>\n",
              "\n",
              "      <script>\n",
              "        const buttonEl =\n",
              "          document.querySelector('#df-aa34f311-d32d-4f49-8e69-37911ef3adc8 button.colab-df-convert');\n",
              "        buttonEl.style.display =\n",
              "          google.colab.kernel.accessAllowed ? 'block' : 'none';\n",
              "\n",
              "        async function convertToInteractive(key) {\n",
              "          const element = document.querySelector('#df-aa34f311-d32d-4f49-8e69-37911ef3adc8');\n",
              "          const dataTable =\n",
              "            await google.colab.kernel.invokeFunction('convertToInteractive',\n",
              "                                                     [key], {});\n",
              "          if (!dataTable) return;\n",
              "\n",
              "          const docLinkHtml = 'Like what you see? Visit the ' +\n",
              "            '<a target=\"_blank\" href=https://colab.research.google.com/notebooks/data_table.ipynb>data table notebook</a>'\n",
              "            + ' to learn more about interactive tables.';\n",
              "          element.innerHTML = '';\n",
              "          dataTable['output_type'] = 'display_data';\n",
              "          await google.colab.output.renderOutput(dataTable, element);\n",
              "          const docLink = document.createElement('div');\n",
              "          docLink.innerHTML = docLinkHtml;\n",
              "          element.appendChild(docLink);\n",
              "        }\n",
              "      </script>\n",
              "    </div>\n",
              "  </div>\n",
              "  "
            ],
            "text/plain": [
              "   vertex  cost\n",
              "0       0     0\n",
              "1       1     4\n",
              "2       7     8\n",
              "3       6     9\n",
              "4       5    11\n",
              "5       2    12\n",
              "6       8    14\n",
              "7       3    19\n",
              "8       4    21"
            ]
          },
          "execution_count": 23,
          "metadata": {},
          "output_type": "execute_result"
        }
      ],
      "source": [
        "import pandas as pd\n",
        "df = pd.DataFrame(length.items(), columns=[\"vertex\", \"cost\"])\n",
        "df"
      ]
    },
    {
      "cell_type": "code",
      "execution_count": 26,
      "metadata": {
        "colab": {
          "base_uri": "https://localhost:8080/",
          "height": 331
        },
        "id": "dPb0DC3WcKHm",
        "outputId": "719f2c78-2976-4fc2-ffd1-668469a03b8a"
      },
      "outputs": [
        {
          "data": {
            "text/html": [
              "\n",
              "  <div id=\"df-339a5ef7-6b9f-46d4-aeac-cbe344c5e24c\">\n",
              "    <div class=\"colab-df-container\">\n",
              "      <div>\n",
              "<style scoped>\n",
              "    .dataframe tbody tr th:only-of-type {\n",
              "        vertical-align: middle;\n",
              "    }\n",
              "\n",
              "    .dataframe tbody tr th {\n",
              "        vertical-align: top;\n",
              "    }\n",
              "\n",
              "    .dataframe thead th {\n",
              "        text-align: right;\n",
              "    }\n",
              "</style>\n",
              "<table border=\"1\" class=\"dataframe\">\n",
              "  <thead>\n",
              "    <tr style=\"text-align: right;\">\n",
              "      <th></th>\n",
              "      <th>vertex</th>\n",
              "      <th>cost</th>\n",
              "      <th>og_cost</th>\n",
              "    </tr>\n",
              "  </thead>\n",
              "  <tbody>\n",
              "    <tr>\n",
              "      <th>0</th>\n",
              "      <td>0</td>\n",
              "      <td>0</td>\n",
              "      <td>0</td>\n",
              "    </tr>\n",
              "    <tr>\n",
              "      <th>1</th>\n",
              "      <td>1</td>\n",
              "      <td>4</td>\n",
              "      <td>4</td>\n",
              "    </tr>\n",
              "    <tr>\n",
              "      <th>2</th>\n",
              "      <td>7</td>\n",
              "      <td>8</td>\n",
              "      <td>12</td>\n",
              "    </tr>\n",
              "    <tr>\n",
              "      <th>3</th>\n",
              "      <td>6</td>\n",
              "      <td>9</td>\n",
              "      <td>19</td>\n",
              "    </tr>\n",
              "    <tr>\n",
              "      <th>4</th>\n",
              "      <td>5</td>\n",
              "      <td>11</td>\n",
              "      <td>21</td>\n",
              "    </tr>\n",
              "    <tr>\n",
              "      <th>5</th>\n",
              "      <td>2</td>\n",
              "      <td>12</td>\n",
              "      <td>11</td>\n",
              "    </tr>\n",
              "    <tr>\n",
              "      <th>6</th>\n",
              "      <td>8</td>\n",
              "      <td>14</td>\n",
              "      <td>9</td>\n",
              "    </tr>\n",
              "    <tr>\n",
              "      <th>7</th>\n",
              "      <td>3</td>\n",
              "      <td>19</td>\n",
              "      <td>8</td>\n",
              "    </tr>\n",
              "    <tr>\n",
              "      <th>8</th>\n",
              "      <td>4</td>\n",
              "      <td>21</td>\n",
              "      <td>14</td>\n",
              "    </tr>\n",
              "  </tbody>\n",
              "</table>\n",
              "</div>\n",
              "      <button class=\"colab-df-convert\" onclick=\"convertToInteractive('df-339a5ef7-6b9f-46d4-aeac-cbe344c5e24c')\"\n",
              "              title=\"Convert this dataframe to an interactive table.\"\n",
              "              style=\"display:none;\">\n",
              "        \n",
              "  <svg xmlns=\"http://www.w3.org/2000/svg\" height=\"24px\"viewBox=\"0 0 24 24\"\n",
              "       width=\"24px\">\n",
              "    <path d=\"M0 0h24v24H0V0z\" fill=\"none\"/>\n",
              "    <path d=\"M18.56 5.44l.94 2.06.94-2.06 2.06-.94-2.06-.94-.94-2.06-.94 2.06-2.06.94zm-11 1L8.5 8.5l.94-2.06 2.06-.94-2.06-.94L8.5 2.5l-.94 2.06-2.06.94zm10 10l.94 2.06.94-2.06 2.06-.94-2.06-.94-.94-2.06-.94 2.06-2.06.94z\"/><path d=\"M17.41 7.96l-1.37-1.37c-.4-.4-.92-.59-1.43-.59-.52 0-1.04.2-1.43.59L10.3 9.45l-7.72 7.72c-.78.78-.78 2.05 0 2.83L4 21.41c.39.39.9.59 1.41.59.51 0 1.02-.2 1.41-.59l7.78-7.78 2.81-2.81c.8-.78.8-2.07 0-2.86zM5.41 20L4 18.59l7.72-7.72 1.47 1.35L5.41 20z\"/>\n",
              "  </svg>\n",
              "      </button>\n",
              "      \n",
              "  <style>\n",
              "    .colab-df-container {\n",
              "      display:flex;\n",
              "      flex-wrap:wrap;\n",
              "      gap: 12px;\n",
              "    }\n",
              "\n",
              "    .colab-df-convert {\n",
              "      background-color: #E8F0FE;\n",
              "      border: none;\n",
              "      border-radius: 50%;\n",
              "      cursor: pointer;\n",
              "      display: none;\n",
              "      fill: #1967D2;\n",
              "      height: 32px;\n",
              "      padding: 0 0 0 0;\n",
              "      width: 32px;\n",
              "    }\n",
              "\n",
              "    .colab-df-convert:hover {\n",
              "      background-color: #E2EBFA;\n",
              "      box-shadow: 0px 1px 2px rgba(60, 64, 67, 0.3), 0px 1px 3px 1px rgba(60, 64, 67, 0.15);\n",
              "      fill: #174EA6;\n",
              "    }\n",
              "\n",
              "    [theme=dark] .colab-df-convert {\n",
              "      background-color: #3B4455;\n",
              "      fill: #D2E3FC;\n",
              "    }\n",
              "\n",
              "    [theme=dark] .colab-df-convert:hover {\n",
              "      background-color: #434B5C;\n",
              "      box-shadow: 0px 1px 3px 1px rgba(0, 0, 0, 0.15);\n",
              "      filter: drop-shadow(0px 1px 2px rgba(0, 0, 0, 0.3));\n",
              "      fill: #FFFFFF;\n",
              "    }\n",
              "  </style>\n",
              "\n",
              "      <script>\n",
              "        const buttonEl =\n",
              "          document.querySelector('#df-339a5ef7-6b9f-46d4-aeac-cbe344c5e24c button.colab-df-convert');\n",
              "        buttonEl.style.display =\n",
              "          google.colab.kernel.accessAllowed ? 'block' : 'none';\n",
              "\n",
              "        async function convertToInteractive(key) {\n",
              "          const element = document.querySelector('#df-339a5ef7-6b9f-46d4-aeac-cbe344c5e24c');\n",
              "          const dataTable =\n",
              "            await google.colab.kernel.invokeFunction('convertToInteractive',\n",
              "                                                     [key], {});\n",
              "          if (!dataTable) return;\n",
              "\n",
              "          const docLinkHtml = 'Like what you see? Visit the ' +\n",
              "            '<a target=\"_blank\" href=https://colab.research.google.com/notebooks/data_table.ipynb>data table notebook</a>'\n",
              "            + ' to learn more about interactive tables.';\n",
              "          element.innerHTML = '';\n",
              "          dataTable['output_type'] = 'display_data';\n",
              "          await google.colab.output.renderOutput(dataTable, element);\n",
              "          const docLink = document.createElement('div');\n",
              "          docLink.innerHTML = docLinkHtml;\n",
              "          element.appendChild(docLink);\n",
              "        }\n",
              "      </script>\n",
              "    </div>\n",
              "  </div>\n",
              "  "
            ],
            "text/plain": [
              "   vertex  cost  og_cost\n",
              "0       0     0        0\n",
              "1       1     4        4\n",
              "2       7     8       12\n",
              "3       6     9       19\n",
              "4       5    11       21\n",
              "5       2    12       11\n",
              "6       8    14        9\n",
              "7       3    19        8\n",
              "8       4    21       14"
            ]
          },
          "execution_count": 26,
          "metadata": {},
          "output_type": "execute_result"
        }
      ],
      "source": [
        "df[\"og_cost\"] = solution\n",
        "df # so looks the solution is the same just that our nodes are of different numbering"
      ]
    },
    {
      "cell_type": "code",
      "execution_count": 27,
      "metadata": {
        "colab": {
          "base_uri": "https://localhost:8080/"
        },
        "id": "3bO_1wkRcaRU",
        "outputId": "51a7f7cb-983d-4a7e-8642-8b743ded3e57"
      },
      "outputs": [
        {
          "data": {
            "text/plain": [
              "True"
            ]
          },
          "execution_count": 27,
          "metadata": {},
          "output_type": "execute_result"
        }
      ],
      "source": [
        "# we can compare two columns using regular Python (there might a Pandas way too)\n",
        "# so sorting is useful\n",
        "sorted(df.cost.to_list()) == sorted(df.og_cost.to_list())"
      ]
    },
    {
      "cell_type": "code",
      "execution_count": 29,
      "metadata": {
        "colab": {
          "base_uri": "https://localhost:8080/"
        },
        "id": "Gtu9FAbldRDc",
        "outputId": "0c94f32b-195f-45c5-c166-ea68bfa1773b"
      },
      "outputs": [
        {
          "data": {
            "text/plain": [
              "[(0, 0), (1, 4), (2, 12), (3, 19), (4, 21), (5, 11), (6, 9), (7, 8), (8, 14)]"
            ]
          },
          "execution_count": 29,
          "metadata": {},
          "output_type": "execute_result"
        }
      ],
      "source": [
        "# lets fix this bug we had wrong ordering\n",
        "sorted_lengths = sorted(length.items())\n",
        "sorted_lengths"
      ]
    },
    {
      "cell_type": "code",
      "execution_count": 30,
      "metadata": {
        "colab": {
          "base_uri": "https://localhost:8080/",
          "height": 331
        },
        "id": "UI7e0B8BdpZK",
        "outputId": "147bffc2-e063-4850-d1fe-c15cf135ba0b"
      },
      "outputs": [
        {
          "data": {
            "text/html": [
              "\n",
              "  <div id=\"df-95537c0c-90bf-4fbd-8e01-0623bd091004\">\n",
              "    <div class=\"colab-df-container\">\n",
              "      <div>\n",
              "<style scoped>\n",
              "    .dataframe tbody tr th:only-of-type {\n",
              "        vertical-align: middle;\n",
              "    }\n",
              "\n",
              "    .dataframe tbody tr th {\n",
              "        vertical-align: top;\n",
              "    }\n",
              "\n",
              "    .dataframe thead th {\n",
              "        text-align: right;\n",
              "    }\n",
              "</style>\n",
              "<table border=\"1\" class=\"dataframe\">\n",
              "  <thead>\n",
              "    <tr style=\"text-align: right;\">\n",
              "      <th></th>\n",
              "      <th>vertex</th>\n",
              "      <th>cost</th>\n",
              "    </tr>\n",
              "  </thead>\n",
              "  <tbody>\n",
              "    <tr>\n",
              "      <th>0</th>\n",
              "      <td>0</td>\n",
              "      <td>0</td>\n",
              "    </tr>\n",
              "    <tr>\n",
              "      <th>1</th>\n",
              "      <td>1</td>\n",
              "      <td>4</td>\n",
              "    </tr>\n",
              "    <tr>\n",
              "      <th>2</th>\n",
              "      <td>2</td>\n",
              "      <td>12</td>\n",
              "    </tr>\n",
              "    <tr>\n",
              "      <th>3</th>\n",
              "      <td>3</td>\n",
              "      <td>19</td>\n",
              "    </tr>\n",
              "    <tr>\n",
              "      <th>4</th>\n",
              "      <td>4</td>\n",
              "      <td>21</td>\n",
              "    </tr>\n",
              "    <tr>\n",
              "      <th>5</th>\n",
              "      <td>5</td>\n",
              "      <td>11</td>\n",
              "    </tr>\n",
              "    <tr>\n",
              "      <th>6</th>\n",
              "      <td>6</td>\n",
              "      <td>9</td>\n",
              "    </tr>\n",
              "    <tr>\n",
              "      <th>7</th>\n",
              "      <td>7</td>\n",
              "      <td>8</td>\n",
              "    </tr>\n",
              "    <tr>\n",
              "      <th>8</th>\n",
              "      <td>8</td>\n",
              "      <td>14</td>\n",
              "    </tr>\n",
              "  </tbody>\n",
              "</table>\n",
              "</div>\n",
              "      <button class=\"colab-df-convert\" onclick=\"convertToInteractive('df-95537c0c-90bf-4fbd-8e01-0623bd091004')\"\n",
              "              title=\"Convert this dataframe to an interactive table.\"\n",
              "              style=\"display:none;\">\n",
              "        \n",
              "  <svg xmlns=\"http://www.w3.org/2000/svg\" height=\"24px\"viewBox=\"0 0 24 24\"\n",
              "       width=\"24px\">\n",
              "    <path d=\"M0 0h24v24H0V0z\" fill=\"none\"/>\n",
              "    <path d=\"M18.56 5.44l.94 2.06.94-2.06 2.06-.94-2.06-.94-.94-2.06-.94 2.06-2.06.94zm-11 1L8.5 8.5l.94-2.06 2.06-.94-2.06-.94L8.5 2.5l-.94 2.06-2.06.94zm10 10l.94 2.06.94-2.06 2.06-.94-2.06-.94-.94-2.06-.94 2.06-2.06.94z\"/><path d=\"M17.41 7.96l-1.37-1.37c-.4-.4-.92-.59-1.43-.59-.52 0-1.04.2-1.43.59L10.3 9.45l-7.72 7.72c-.78.78-.78 2.05 0 2.83L4 21.41c.39.39.9.59 1.41.59.51 0 1.02-.2 1.41-.59l7.78-7.78 2.81-2.81c.8-.78.8-2.07 0-2.86zM5.41 20L4 18.59l7.72-7.72 1.47 1.35L5.41 20z\"/>\n",
              "  </svg>\n",
              "      </button>\n",
              "      \n",
              "  <style>\n",
              "    .colab-df-container {\n",
              "      display:flex;\n",
              "      flex-wrap:wrap;\n",
              "      gap: 12px;\n",
              "    }\n",
              "\n",
              "    .colab-df-convert {\n",
              "      background-color: #E8F0FE;\n",
              "      border: none;\n",
              "      border-radius: 50%;\n",
              "      cursor: pointer;\n",
              "      display: none;\n",
              "      fill: #1967D2;\n",
              "      height: 32px;\n",
              "      padding: 0 0 0 0;\n",
              "      width: 32px;\n",
              "    }\n",
              "\n",
              "    .colab-df-convert:hover {\n",
              "      background-color: #E2EBFA;\n",
              "      box-shadow: 0px 1px 2px rgba(60, 64, 67, 0.3), 0px 1px 3px 1px rgba(60, 64, 67, 0.15);\n",
              "      fill: #174EA6;\n",
              "    }\n",
              "\n",
              "    [theme=dark] .colab-df-convert {\n",
              "      background-color: #3B4455;\n",
              "      fill: #D2E3FC;\n",
              "    }\n",
              "\n",
              "    [theme=dark] .colab-df-convert:hover {\n",
              "      background-color: #434B5C;\n",
              "      box-shadow: 0px 1px 3px 1px rgba(0, 0, 0, 0.15);\n",
              "      filter: drop-shadow(0px 1px 2px rgba(0, 0, 0, 0.3));\n",
              "      fill: #FFFFFF;\n",
              "    }\n",
              "  </style>\n",
              "\n",
              "      <script>\n",
              "        const buttonEl =\n",
              "          document.querySelector('#df-95537c0c-90bf-4fbd-8e01-0623bd091004 button.colab-df-convert');\n",
              "        buttonEl.style.display =\n",
              "          google.colab.kernel.accessAllowed ? 'block' : 'none';\n",
              "\n",
              "        async function convertToInteractive(key) {\n",
              "          const element = document.querySelector('#df-95537c0c-90bf-4fbd-8e01-0623bd091004');\n",
              "          const dataTable =\n",
              "            await google.colab.kernel.invokeFunction('convertToInteractive',\n",
              "                                                     [key], {});\n",
              "          if (!dataTable) return;\n",
              "\n",
              "          const docLinkHtml = 'Like what you see? Visit the ' +\n",
              "            '<a target=\"_blank\" href=https://colab.research.google.com/notebooks/data_table.ipynb>data table notebook</a>'\n",
              "            + ' to learn more about interactive tables.';\n",
              "          element.innerHTML = '';\n",
              "          dataTable['output_type'] = 'display_data';\n",
              "          await google.colab.output.renderOutput(dataTable, element);\n",
              "          const docLink = document.createElement('div');\n",
              "          docLink.innerHTML = docLinkHtml;\n",
              "          element.appendChild(docLink);\n",
              "        }\n",
              "      </script>\n",
              "    </div>\n",
              "  </div>\n",
              "  "
            ],
            "text/plain": [
              "   vertex  cost\n",
              "0       0     0\n",
              "1       1     4\n",
              "2       2    12\n",
              "3       3    19\n",
              "4       4    21\n",
              "5       5    11\n",
              "6       6     9\n",
              "7       7     8\n",
              "8       8    14"
            ]
          },
          "execution_count": 30,
          "metadata": {},
          "output_type": "execute_result"
        }
      ],
      "source": [
        "df = pd.DataFrame(sorted_lengths, columns=[\"vertex\", \"cost\"])\n",
        "df"
      ]
    },
    {
      "cell_type": "code",
      "execution_count": 31,
      "metadata": {
        "colab": {
          "base_uri": "https://localhost:8080/",
          "height": 331
        },
        "id": "y6mYRSV9dvvw",
        "outputId": "bfa7c8c5-1670-4d8d-f3d2-94a318796508"
      },
      "outputs": [
        {
          "data": {
            "text/html": [
              "\n",
              "  <div id=\"df-4f0f7d1f-002e-49d9-a0b1-ea387fbef12f\">\n",
              "    <div class=\"colab-df-container\">\n",
              "      <div>\n",
              "<style scoped>\n",
              "    .dataframe tbody tr th:only-of-type {\n",
              "        vertical-align: middle;\n",
              "    }\n",
              "\n",
              "    .dataframe tbody tr th {\n",
              "        vertical-align: top;\n",
              "    }\n",
              "\n",
              "    .dataframe thead th {\n",
              "        text-align: right;\n",
              "    }\n",
              "</style>\n",
              "<table border=\"1\" class=\"dataframe\">\n",
              "  <thead>\n",
              "    <tr style=\"text-align: right;\">\n",
              "      <th></th>\n",
              "      <th>vertex</th>\n",
              "      <th>cost</th>\n",
              "      <th>og_cost</th>\n",
              "    </tr>\n",
              "  </thead>\n",
              "  <tbody>\n",
              "    <tr>\n",
              "      <th>0</th>\n",
              "      <td>0</td>\n",
              "      <td>0</td>\n",
              "      <td>0</td>\n",
              "    </tr>\n",
              "    <tr>\n",
              "      <th>1</th>\n",
              "      <td>1</td>\n",
              "      <td>4</td>\n",
              "      <td>4</td>\n",
              "    </tr>\n",
              "    <tr>\n",
              "      <th>2</th>\n",
              "      <td>2</td>\n",
              "      <td>12</td>\n",
              "      <td>12</td>\n",
              "    </tr>\n",
              "    <tr>\n",
              "      <th>3</th>\n",
              "      <td>3</td>\n",
              "      <td>19</td>\n",
              "      <td>19</td>\n",
              "    </tr>\n",
              "    <tr>\n",
              "      <th>4</th>\n",
              "      <td>4</td>\n",
              "      <td>21</td>\n",
              "      <td>21</td>\n",
              "    </tr>\n",
              "    <tr>\n",
              "      <th>5</th>\n",
              "      <td>5</td>\n",
              "      <td>11</td>\n",
              "      <td>11</td>\n",
              "    </tr>\n",
              "    <tr>\n",
              "      <th>6</th>\n",
              "      <td>6</td>\n",
              "      <td>9</td>\n",
              "      <td>9</td>\n",
              "    </tr>\n",
              "    <tr>\n",
              "      <th>7</th>\n",
              "      <td>7</td>\n",
              "      <td>8</td>\n",
              "      <td>8</td>\n",
              "    </tr>\n",
              "    <tr>\n",
              "      <th>8</th>\n",
              "      <td>8</td>\n",
              "      <td>14</td>\n",
              "      <td>14</td>\n",
              "    </tr>\n",
              "  </tbody>\n",
              "</table>\n",
              "</div>\n",
              "      <button class=\"colab-df-convert\" onclick=\"convertToInteractive('df-4f0f7d1f-002e-49d9-a0b1-ea387fbef12f')\"\n",
              "              title=\"Convert this dataframe to an interactive table.\"\n",
              "              style=\"display:none;\">\n",
              "        \n",
              "  <svg xmlns=\"http://www.w3.org/2000/svg\" height=\"24px\"viewBox=\"0 0 24 24\"\n",
              "       width=\"24px\">\n",
              "    <path d=\"M0 0h24v24H0V0z\" fill=\"none\"/>\n",
              "    <path d=\"M18.56 5.44l.94 2.06.94-2.06 2.06-.94-2.06-.94-.94-2.06-.94 2.06-2.06.94zm-11 1L8.5 8.5l.94-2.06 2.06-.94-2.06-.94L8.5 2.5l-.94 2.06-2.06.94zm10 10l.94 2.06.94-2.06 2.06-.94-2.06-.94-.94-2.06-.94 2.06-2.06.94z\"/><path d=\"M17.41 7.96l-1.37-1.37c-.4-.4-.92-.59-1.43-.59-.52 0-1.04.2-1.43.59L10.3 9.45l-7.72 7.72c-.78.78-.78 2.05 0 2.83L4 21.41c.39.39.9.59 1.41.59.51 0 1.02-.2 1.41-.59l7.78-7.78 2.81-2.81c.8-.78.8-2.07 0-2.86zM5.41 20L4 18.59l7.72-7.72 1.47 1.35L5.41 20z\"/>\n",
              "  </svg>\n",
              "      </button>\n",
              "      \n",
              "  <style>\n",
              "    .colab-df-container {\n",
              "      display:flex;\n",
              "      flex-wrap:wrap;\n",
              "      gap: 12px;\n",
              "    }\n",
              "\n",
              "    .colab-df-convert {\n",
              "      background-color: #E8F0FE;\n",
              "      border: none;\n",
              "      border-radius: 50%;\n",
              "      cursor: pointer;\n",
              "      display: none;\n",
              "      fill: #1967D2;\n",
              "      height: 32px;\n",
              "      padding: 0 0 0 0;\n",
              "      width: 32px;\n",
              "    }\n",
              "\n",
              "    .colab-df-convert:hover {\n",
              "      background-color: #E2EBFA;\n",
              "      box-shadow: 0px 1px 2px rgba(60, 64, 67, 0.3), 0px 1px 3px 1px rgba(60, 64, 67, 0.15);\n",
              "      fill: #174EA6;\n",
              "    }\n",
              "\n",
              "    [theme=dark] .colab-df-convert {\n",
              "      background-color: #3B4455;\n",
              "      fill: #D2E3FC;\n",
              "    }\n",
              "\n",
              "    [theme=dark] .colab-df-convert:hover {\n",
              "      background-color: #434B5C;\n",
              "      box-shadow: 0px 1px 3px 1px rgba(0, 0, 0, 0.15);\n",
              "      filter: drop-shadow(0px 1px 2px rgba(0, 0, 0, 0.3));\n",
              "      fill: #FFFFFF;\n",
              "    }\n",
              "  </style>\n",
              "\n",
              "      <script>\n",
              "        const buttonEl =\n",
              "          document.querySelector('#df-4f0f7d1f-002e-49d9-a0b1-ea387fbef12f button.colab-df-convert');\n",
              "        buttonEl.style.display =\n",
              "          google.colab.kernel.accessAllowed ? 'block' : 'none';\n",
              "\n",
              "        async function convertToInteractive(key) {\n",
              "          const element = document.querySelector('#df-4f0f7d1f-002e-49d9-a0b1-ea387fbef12f');\n",
              "          const dataTable =\n",
              "            await google.colab.kernel.invokeFunction('convertToInteractive',\n",
              "                                                     [key], {});\n",
              "          if (!dataTable) return;\n",
              "\n",
              "          const docLinkHtml = 'Like what you see? Visit the ' +\n",
              "            '<a target=\"_blank\" href=https://colab.research.google.com/notebooks/data_table.ipynb>data table notebook</a>'\n",
              "            + ' to learn more about interactive tables.';\n",
              "          element.innerHTML = '';\n",
              "          dataTable['output_type'] = 'display_data';\n",
              "          await google.colab.output.renderOutput(dataTable, element);\n",
              "          const docLink = document.createElement('div');\n",
              "          docLink.innerHTML = docLinkHtml;\n",
              "          element.appendChild(docLink);\n",
              "        }\n",
              "      </script>\n",
              "    </div>\n",
              "  </div>\n",
              "  "
            ],
            "text/plain": [
              "   vertex  cost  og_cost\n",
              "0       0     0        0\n",
              "1       1     4        4\n",
              "2       2    12       12\n",
              "3       3    19       19\n",
              "4       4    21       21\n",
              "5       5    11       11\n",
              "6       6     9        9\n",
              "7       7     8        8\n",
              "8       8    14       14"
            ]
          },
          "execution_count": 31,
          "metadata": {},
          "output_type": "execute_result"
        }
      ],
      "source": [
        "df[\"og_cost\"] = solution\n",
        "df"
      ]
    },
    {
      "cell_type": "code",
      "execution_count": 32,
      "metadata": {
        "colab": {
          "base_uri": "https://localhost:8080/"
        },
        "id": "YuWGeAxhdzpa",
        "outputId": "fe2c4888-c02e-4d1e-d75f-b9dc33457081"
      },
      "outputs": [
        {
          "data": {
            "text/plain": [
              "0    True\n",
              "1    True\n",
              "2    True\n",
              "3    True\n",
              "4    True\n",
              "5    True\n",
              "6    True\n",
              "7    True\n",
              "8    True\n",
              "dtype: bool"
            ]
          },
          "execution_count": 32,
          "metadata": {},
          "output_type": "execute_result"
        }
      ],
      "source": [
        "# now we can see that the costs (minimum distances are indeed the same)\n",
        "df.cost == df.og_cost # vectorized comparison"
      ]
    },
    {
      "cell_type": "code",
      "execution_count": null,
      "metadata": {
        "id": "AlGOxs6seAiL"
      },
      "outputs": [],
      "source": [
        "# TODO implement an optimized Dijkstra's algorithm using priority queue\n",
        "# Idea is to keep nodes in a heap structure\n",
        "# then our complexity reduces from θ(V^2) to θ(E + V*logV) # V meaning |V| which is the number of nodes/vertices\n",
        "# E actually being number of edges == |E|"
      ]
    },
    {
      "cell_type": "markdown",
      "metadata": {},
      "source": [
        "## Optimized Dijkstra with Priority Queue"
      ]
    },
    {
      "cell_type": "code",
      "execution_count": 18,
      "metadata": {},
      "outputs": [],
      "source": [
        "# we will implement a priority queue using heapq\n",
        "\n",
        "import heapq\n",
        "\n",
        "# we will use a list to represent the priority queue\n",
        "# we will use a tuple to represent the node and its distance from the source\n",
        "# we will also use a set to keep track of visited nodes\n",
        "# we will use a list to keep track of the distances\n",
        "# we will use a list to keep track of the parents\n",
        "# we will use a list to keep track of the graph\n",
        "\n",
        "class Graph():\n",
        " \n",
        "    def __init__(self, vertices):\n",
        "        # initialize the graph\n",
        "        self.V = vertices\n",
        "        self.graph = [[0 for column in range(vertices)]\n",
        "                    for row in range(vertices)]\n",
        "        self.parent = [-1]*vertices\n",
        "        self.dist = [sys.maxsize] * self.V\n",
        "        # self.dist[src] = 0\n",
        "        self.pq = []\n",
        "        self.visited = set()\n",
        " \n",
        "    def printSolution(self, dist):\n",
        "        print(\"Vertex \\tDistance from Source\")\n",
        "        for node in range(self.V):\n",
        "            print(node, \"\\t\", dist[node])\n",
        " \n",
        "    def minDistance(self, dist, sptSet):\n",
        "        min = sys.maxsize\n",
        "        min_index = -1\n",
        "        for u in range(self.V):\n",
        "            if dist[u] < min and sptSet[u] == False:\n",
        "                min = dist[u]\n",
        "                min_index = u\n",
        "        return min_index\n",
        "    \n",
        "    def printPath(self, src, dest):\n",
        "        path = []\n",
        "        path.append(dest)\n",
        "        while self.parent[dest] != src:\n",
        "            path.append(self.parent[dest])\n",
        "            dest = self.parent[dest]\n",
        "            if self.parent[dest] == -1:\n",
        "                print(\"No path exists\")\n",
        "                return\n",
        "        path.append(src)\n",
        "        path.reverse()\n",
        "        print(path)\n",
        " \n",
        "    def dijkstra(self, src):\n",
        "        self.dist[src] = 0\n",
        "        # we push a single starting node to priority queue\n",
        "        # we use a tuple to represent the node and its distance from the source\n",
        "        # note the distance is the first element in the tuple\n",
        "        # why? because we want to use the distance as the key for the priority queue\n",
        "        heapq.heappush(self.pq, (0, src)) # logV operation\n",
        "        while self.pq:\n",
        "            dist, u = heapq.heappop(self.pq) # also logV operation\n",
        "            self.visited.add(u)\n",
        "            for v in range(self.V):\n",
        "                if self.graph[u][v] > 0 and v not in self.visited and \\\n",
        "                self.dist[v] > self.dist[u] + self.graph[u][v]:\n",
        "                    self.dist[v] = self.dist[u] + self.graph[u][v]\n",
        "                    self.parent[v] = u\n",
        "                    heapq.heappush(self.pq, (self.dist[v], v))\n",
        "        self.printSolution(self.dist)\n",
        "        return self.dist"
      ]
    },
    {
      "cell_type": "code",
      "execution_count": 19,
      "metadata": {},
      "outputs": [
        {
          "name": "stdout",
          "output_type": "stream",
          "text": [
            "Vertex \tDistance from Source\n",
            "0 \t 0\n",
            "1 \t 4\n",
            "2 \t 12\n"
          ]
        },
        {
          "data": {
            "text/plain": [
              "[0, 4, 12]"
            ]
          },
          "execution_count": 19,
          "metadata": {},
          "output_type": "execute_result"
        }
      ],
      "source": [
        "# let's do a simple 3 node graph to test our implementation\n",
        "g = Graph(3)\n",
        "g.graph = [[0, 4, 0],\n",
        "           [4, 0, 8],\n",
        "           [0, 8, 0]\n",
        "        ];\n",
        "g.dijkstra(0)"
      ]
    },
    {
      "cell_type": "code",
      "execution_count": 20,
      "metadata": {},
      "outputs": [
        {
          "name": "stdout",
          "output_type": "stream",
          "text": [
            "[0, 1, 2]\n"
          ]
        }
      ],
      "source": [
        "g.printPath(0,2)"
      ]
    },
    {
      "cell_type": "code",
      "execution_count": 21,
      "metadata": {},
      "outputs": [
        {
          "name": "stdout",
          "output_type": "stream",
          "text": [
            "Vertex \tDistance from Source\n",
            "0 \t 0\n",
            "1 \t 4\n",
            "2 \t 12\n",
            "3 \t 19\n",
            "4 \t 21\n",
            "5 \t 11\n",
            "6 \t 9\n",
            "7 \t 8\n",
            "8 \t 14\n",
            "[0, 7, 6, 5, 4]\n"
          ]
        }
      ],
      "source": [
        "g = Graph(9)\n",
        "g.graph = [[0, 4, 0, 0, 0, 0, 0, 8, 0],\n",
        "           [4, 0, 8, 0, 0, 0, 0, 11, 0],\n",
        "           [0, 8, 0, 7, 0, 4, 0, 0, 2],\n",
        "           [0, 0, 7, 0, 9, 14, 0, 0, 0],\n",
        "           [0, 0, 0, 9, 0, 10, 0, 0, 0],\n",
        "           [0, 0, 4, 14, 10, 0, 2, 0, 0],\n",
        "           [0, 0, 0, 0, 0, 2, 0, 1, 6],\n",
        "           [8, 11, 0, 0, 0, 0, 1, 0, 7],\n",
        "           [0, 0, 2, 0, 0, 0, 6, 7, 0]\n",
        "        ];\n",
        " \n",
        "solution = g.dijkstra(0)\n",
        "g.printPath(0,4)"
      ]
    },
    {
      "cell_type": "markdown",
      "metadata": {
        "id": "D8XnyLUeeqzV"
      },
      "source": []
    }
  ],
  "metadata": {
    "colab": {
      "name": "Dijkstra's Algorithm.ipynb",
      "provenance": []
    },
    "kernelspec": {
      "display_name": "Python 3",
      "language": "python",
      "name": "python3"
    },
    "language_info": {
      "codemirror_mode": {
        "name": "ipython",
        "version": 3
      },
      "file_extension": ".py",
      "mimetype": "text/x-python",
      "name": "python",
      "nbconvert_exporter": "python",
      "pygments_lexer": "ipython3",
      "version": "3.11.4"
    }
  },
  "nbformat": 4,
  "nbformat_minor": 0
}
