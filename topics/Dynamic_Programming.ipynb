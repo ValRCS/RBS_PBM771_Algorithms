{
  "cells": [
    {
      "cell_type": "markdown",
      "metadata": {
        "id": "WP_4lhEPE6VX"
      },
      "source": [
        "# Dynamic Programming\n",
        "\n",
        "adopted from: https://www.amazon.com/Python-Algorithms-Mastering-Basic-Language/dp/148420056X\n",
        "\n",
        "Python Algorithms: Mastering Basic Algorithms in the Python Language"
      ]
    },
    {
      "cell_type": "markdown",
      "metadata": {
        "id": "1Q35vmYLE6Vb"
      },
      "source": [
        "![Bellman](https://upload.wikimedia.org/wikipedia/en/7/7a/Richard_Ernest_Bellman.jpg)\n",
        "\n",
        "https://en.wikipedia.org/wiki/Richard_E._Bellman"
      ]
    },
    {
      "cell_type": "markdown",
      "metadata": {
        "id": "DgFO0AYbE6Vb"
      },
      "source": [
        "## Dynamic Programming - not the programming in computer terms!\n",
        "The term dynamic programming (or simply DP) can be a bit confusing to newcomers. Both of the words are\n",
        "used in a different way than most might expect. Programming here refers to making a set of choices (as in “linear\n",
        "programming”) and thus has more in common with the way the term is used in, say, television, than in writing\n",
        "computer programs. Dynamic simply means that things change over time—in this case, that each choice depends\n",
        "on the previous one. In other words, this “dynamicism” has little to do with the program you’ll write and is just a\n",
        "description of the problem class. In Bellman’s own words, “I thought dynamic programming was a good name. It was\n",
        "something not even a Congressman could object to. So I used it as an umbrella for my activities"
      ]
    },
    {
      "cell_type": "markdown",
      "metadata": {
        "id": "nHyDglmXE6Vc"
      },
      "source": [
        "* The core technique of DP -> caching\n",
        "* Decompose your problem recursively/inductively (usual)\n",
        "* allow overlap between the subproblems. \n",
        "* Plain recursive solution xponential number of times -> caching trims away waste\n",
        "* result is usually both an impressively efficient algorithm and a greater insight into the problem.\n",
        "\n",
        "\n",
        "Commonly, DP algorithms turn the recursive formulation upside down, making it iterative and filling out some\n",
        "data structure (such as a multidimensional array) step by step. \n",
        "\n",
        "* Another option well suited to high-level languages such as Python—is to implement the recursive formulation directly but to cache the return\n",
        "values. \n",
        "* If a call is made more than once with the same arguments, the result is simply returned directly from the\n",
        "cache. This is known as **memoization**"
      ]
    },
    {
      "cell_type": "markdown",
      "metadata": {
        "id": "N_LytZk-E6Vd"
      },
      "source": [
        "## Little puzzle: Longest Increasing Subsequence\n",
        "\n",
        "Say you have a sequence of numbers, and you want to find its\n",
        "longest increasing (or, rather nondecreasing) subsequence—or one of them, if there are more. A subsequence consists\n",
        "of a subset of the elements in their original order. So, for example, in the sequence [3, 1, 0, 2, 4], one solution\n",
        "would be [1, 2, 4]."
      ]
    },
    {
      "cell_type": "markdown",
      "source": [
        "# Brute force - when in doubt use brute force"
      ],
      "metadata": {
        "id": "xunM5tBSGoq9"
      }
    },
    {
      "cell_type": "code",
      "execution_count": 2,
      "metadata": {
        "id": "1gzLkFkHE6Vd"
      },
      "outputs": [],
      "source": [
        "from itertools import combinations\n",
        "def naive_lis(seq):\n",
        "    for length in range(len(seq), 0, -1): # n, n-1, ... , 1\n",
        "        for sub in combinations(seq, length): # Subsequences of given length\n",
        "            if list(sub) == sorted(sub): # An increasing subsequence?\n",
        "                return sub # Return it!"
      ]
    },
    {
      "cell_type": "code",
      "execution_count": 3,
      "metadata": {
        "id": "Z9-20xdBE6Ve",
        "outputId": "5661b094-d017-481a-ae26-e8df80d1926e",
        "colab": {
          "base_uri": "https://localhost:8080/"
        }
      },
      "outputs": [
        {
          "output_type": "execute_result",
          "data": {
            "text/plain": [
              "(1, 2, 4)"
            ]
          },
          "metadata": {},
          "execution_count": 3
        }
      ],
      "source": [
        "naive_lis([3,1,0,2,4])"
      ]
    },
    {
      "cell_type": "code",
      "execution_count": 4,
      "metadata": {
        "id": "hvkZV9ATE6Vg",
        "outputId": "6a7fc9bc-b43f-4bf6-9989-8ba878482bb5",
        "colab": {
          "base_uri": "https://localhost:8080/"
        }
      },
      "outputs": [
        {
          "output_type": "execute_result",
          "data": {
            "text/plain": [
              "(0, 2, 3, 4, 6)"
            ]
          },
          "metadata": {},
          "execution_count": 4
        }
      ],
      "source": [
        "naive_lis([5,0,2,1,6,3,7,4,6])"
      ]
    },
    {
      "cell_type": "code",
      "source": [
        "# This works (on smaller sequences at least)\n",
        "\n"
      ],
      "metadata": {
        "id": "rFwKUQT6GkHO"
      },
      "execution_count": null,
      "outputs": []
    },
    {
      "cell_type": "code",
      "execution_count": null,
      "metadata": {
        "id": "uaSPoi8YE6Vg"
      },
      "outputs": [],
      "source": [
        "# how about complexity? \n",
        "# Two nested loops -> n^2 ?\n",
        "# Hint combinations is not O(1)....\n"
      ]
    },
    {
      "cell_type": "code",
      "execution_count": 6,
      "metadata": {
        "id": "zkJRpCMhE6Vh"
      },
      "outputs": [],
      "source": [
        "## Fibonacci\n",
        "def fib(i): # finding i-th member in our Fibonacci chain 1,1,2,3,5,8,13,21,34,55,89\n",
        "    if i < 2: \n",
        "        return 1\n",
        "    else:\n",
        "        return fib(i-1) + fib(i-2) # we have two recursive calls, but our problem space is not going down by half"
      ]
    },
    {
      "cell_type": "code",
      "source": [
        "fib(0),fib(1),fib(2),fib(3),fib(4),fib(5)"
      ],
      "metadata": {
        "id": "Ol8nzEjlHCKL",
        "outputId": "18018154-ffd6-4fec-cba6-2e9e5658d611",
        "colab": {
          "base_uri": "https://localhost:8080/"
        }
      },
      "execution_count": 8,
      "outputs": [
        {
          "output_type": "execute_result",
          "data": {
            "text/plain": [
              "(1, 1, 2, 3, 5, 8)"
            ]
          },
          "metadata": {},
          "execution_count": 8
        }
      ]
    },
    {
      "cell_type": "code",
      "execution_count": 9,
      "metadata": {
        "id": "ivl5fsG-E6Vh",
        "outputId": "204fb41b-4bf5-4abb-cb0e-bc02292507a3",
        "colab": {
          "base_uri": "https://localhost:8080/"
        }
      },
      "outputs": [
        {
          "output_type": "execute_result",
          "data": {
            "text/plain": [
              "8"
            ]
          },
          "metadata": {},
          "execution_count": 9
        }
      ],
      "source": [
        "fib(5)"
      ]
    },
    {
      "cell_type": "code",
      "execution_count": 10,
      "metadata": {
        "id": "GqrmNF7bE6Vi",
        "outputId": "9b8bb675-41f2-4784-d42b-5cab0af281a3",
        "colab": {
          "base_uri": "https://localhost:8080/"
        }
      },
      "outputs": [
        {
          "output_type": "execute_result",
          "data": {
            "text/plain": [
              "89"
            ]
          },
          "metadata": {},
          "execution_count": 10
        }
      ],
      "source": [
        "fib(10)"
      ]
    },
    {
      "cell_type": "code",
      "execution_count": 11,
      "metadata": {
        "id": "DrqbFRJPE6Vi",
        "outputId": "989f3b9c-7f8f-4d22-f531-5efe57c968f1",
        "colab": {
          "base_uri": "https://localhost:8080/"
        }
      },
      "outputs": [
        {
          "output_type": "stream",
          "name": "stdout",
          "text": [
            "1 1 1.0\n",
            "2 1 2.0\n",
            "3 2 1.5\n",
            "5 3 1.66667\n",
            "8 5 1.6\n",
            "13 8 1.625\n",
            "21 13 1.61538\n",
            "34 21 1.61905\n",
            "55 34 1.61765\n",
            "89 55 1.61818\n",
            "144 89 1.61798\n",
            "233 144 1.61806\n",
            "377 233 1.61803\n",
            "610 377 1.61804\n"
          ]
        }
      ],
      "source": [
        "for n in range(1,15):\n",
        "    print(fib(n), fib(n-1), round(fib(n)/fib(n-1),5))"
      ]
    },
    {
      "cell_type": "markdown",
      "metadata": {
        "id": "VXDrc0YVE6Vj"
      },
      "source": [
        "![Fib Spiral](https://upload.wikimedia.org/wikipedia/commons/thumb/9/93/Fibonacci_spiral_34.svg/500px-Fibonacci_spiral_34.svg.png)"
      ]
    },
    {
      "cell_type": "markdown",
      "metadata": {
        "id": "kqfqC7YnE6Vj"
      },
      "source": [
        "https://en.wikipedia.org/wiki/Golden_ratio"
      ]
    },
    {
      "cell_type": "code",
      "execution_count": 12,
      "metadata": {
        "id": "AndoTITxE6Vj",
        "outputId": "d432160f-ac8c-461d-d002-746cc75b1633",
        "colab": {
          "base_uri": "https://localhost:8080/"
        }
      },
      "outputs": [
        {
          "output_type": "execute_result",
          "data": {
            "text/plain": [
              "1346269"
            ]
          },
          "metadata": {},
          "execution_count": 12
        }
      ],
      "source": [
        "# so far so good?\n",
        "fib(30)"
      ]
    },
    {
      "cell_type": "code",
      "source": [
        "fib(35)"
      ],
      "metadata": {
        "id": "MHq9gpm0Hkik",
        "outputId": "df322c45-767d-4f4c-eec8-5568ccd86f51",
        "colab": {
          "base_uri": "https://localhost:8080/"
        }
      },
      "execution_count": 13,
      "outputs": [
        {
          "output_type": "execute_result",
          "data": {
            "text/plain": [
              "14930352"
            ]
          },
          "metadata": {},
          "execution_count": 13
        }
      ]
    },
    {
      "cell_type": "code",
      "source": [
        "fib(36)"
      ],
      "metadata": {
        "id": "B0Uv-ha6HrBT",
        "outputId": "39b310d0-5cca-4ef4-d2df-a99acac6b0a8",
        "colab": {
          "base_uri": "https://localhost:8080/"
        }
      },
      "execution_count": 14,
      "outputs": [
        {
          "output_type": "execute_result",
          "data": {
            "text/plain": [
              "24157817"
            ]
          },
          "metadata": {},
          "execution_count": 14
        }
      ]
    },
    {
      "cell_type": "markdown",
      "metadata": {
        "id": "gaNsl4ooE6Vj"
      },
      "source": [
        "#https://stackoverflow.com/questions/35959100/explanation-on-fibonacci-recursion\n",
        "![FibTree](https://i.stack.imgur.com/QVSdv.png)"
      ]
    },
    {
      "cell_type": "code",
      "execution_count": 15,
      "metadata": {
        "id": "gh9G9pDBE6Vk"
      },
      "outputs": [],
      "source": [
        "from functools import wraps\n",
        "def memo(func):\n",
        "    cache = {} # Stored subproblem solutions, this dictionary - Hashmap type\n",
        "    @wraps(func) # Make wrap look like func\n",
        "    def wrap(*args): # The memoized wrapper\n",
        "        if args not in cache: # Not already computed? O(1) lookup\n",
        "            cache[args] = func(*args) # Compute & cache the solution O(1) to store - of func itself will have some cost\n",
        "        return cache[args] # Return the cached solution - return again is O(1)\n",
        "    return wrap # Return the wrapper\n",
        "# PS Python actually has memoization library as well - we are learning here"
      ]
    },
    {
      "cell_type": "code",
      "execution_count": 16,
      "metadata": {
        "id": "j9WGS7jsE6Vk"
      },
      "outputs": [],
      "source": [
        "fib_memo = memo(fib) #functions are first class citizens in Python\n"
      ]
    },
    {
      "cell_type": "code",
      "execution_count": 19,
      "metadata": {
        "id": "ft1J8tgME6Vk",
        "outputId": "1ea4167e-e77a-4049-b727-819df82e9685",
        "colab": {
          "base_uri": "https://localhost:8080/"
        }
      },
      "outputs": [
        {
          "output_type": "execute_result",
          "data": {
            "text/plain": [
              "14930352"
            ]
          },
          "metadata": {},
          "execution_count": 19
        }
      ],
      "source": [
        "fib_memo(35)"
      ]
    },
    {
      "cell_type": "code",
      "source": [
        "fib_memo(40)"
      ],
      "metadata": {
        "id": "Qp-0NuABJfHA",
        "outputId": "b6c01ca2-18f7-4417-93fc-8b75d5b40d07",
        "colab": {
          "base_uri": "https://localhost:8080/",
          "height": 280
        }
      },
      "execution_count": 20,
      "outputs": [
        {
          "output_type": "error",
          "ename": "KeyboardInterrupt",
          "evalue": "ignored",
          "traceback": [
            "\u001b[0;31m---------------------------------------------------------------------------\u001b[0m",
            "\u001b[0;31mKeyboardInterrupt\u001b[0m                         Traceback (most recent call last)",
            "\u001b[0;32m<ipython-input-20-48240ff97377>\u001b[0m in \u001b[0;36m<module>\u001b[0;34m()\u001b[0m\n\u001b[0;32m----> 1\u001b[0;31m \u001b[0mfib_memo\u001b[0m\u001b[0;34m(\u001b[0m\u001b[0;36m40\u001b[0m\u001b[0;34m)\u001b[0m\u001b[0;34m\u001b[0m\u001b[0;34m\u001b[0m\u001b[0m\n\u001b[0m",
            "\u001b[0;32m<ipython-input-15-9e5e95ab9f19>\u001b[0m in \u001b[0;36mwrap\u001b[0;34m(*args)\u001b[0m\n\u001b[1;32m      5\u001b[0m     \u001b[0;32mdef\u001b[0m \u001b[0mwrap\u001b[0m\u001b[0;34m(\u001b[0m\u001b[0;34m*\u001b[0m\u001b[0margs\u001b[0m\u001b[0;34m)\u001b[0m\u001b[0;34m:\u001b[0m \u001b[0;31m# The memoized wrapper\u001b[0m\u001b[0;34m\u001b[0m\u001b[0;34m\u001b[0m\u001b[0m\n\u001b[1;32m      6\u001b[0m         \u001b[0;32mif\u001b[0m \u001b[0margs\u001b[0m \u001b[0;32mnot\u001b[0m \u001b[0;32min\u001b[0m \u001b[0mcache\u001b[0m\u001b[0;34m:\u001b[0m \u001b[0;31m# Not already computed? O(1) lookup\u001b[0m\u001b[0;34m\u001b[0m\u001b[0;34m\u001b[0m\u001b[0m\n\u001b[0;32m----> 7\u001b[0;31m             \u001b[0mcache\u001b[0m\u001b[0;34m[\u001b[0m\u001b[0margs\u001b[0m\u001b[0;34m]\u001b[0m \u001b[0;34m=\u001b[0m \u001b[0mfunc\u001b[0m\u001b[0;34m(\u001b[0m\u001b[0;34m*\u001b[0m\u001b[0margs\u001b[0m\u001b[0;34m)\u001b[0m \u001b[0;31m# Compute & cache the solution O(1) to store - of func itself will have some cost\u001b[0m\u001b[0;34m\u001b[0m\u001b[0;34m\u001b[0m\u001b[0m\n\u001b[0m\u001b[1;32m      8\u001b[0m         \u001b[0;32mreturn\u001b[0m \u001b[0mcache\u001b[0m\u001b[0;34m[\u001b[0m\u001b[0margs\u001b[0m\u001b[0;34m]\u001b[0m \u001b[0;31m# Return the cached solution - return again is O(1)\u001b[0m\u001b[0;34m\u001b[0m\u001b[0;34m\u001b[0m\u001b[0m\n\u001b[1;32m      9\u001b[0m     \u001b[0;32mreturn\u001b[0m \u001b[0mwrap\u001b[0m \u001b[0;31m# Return the wrapper\u001b[0m\u001b[0;34m\u001b[0m\u001b[0;34m\u001b[0m\u001b[0m\n",
            "\u001b[0;32m<ipython-input-6-4cbca0ba3862>\u001b[0m in \u001b[0;36mfib\u001b[0;34m(i)\u001b[0m\n\u001b[1;32m      4\u001b[0m         \u001b[0;32mreturn\u001b[0m \u001b[0;36m1\u001b[0m\u001b[0;34m\u001b[0m\u001b[0;34m\u001b[0m\u001b[0m\n\u001b[1;32m      5\u001b[0m     \u001b[0;32melse\u001b[0m\u001b[0;34m:\u001b[0m\u001b[0;34m\u001b[0m\u001b[0;34m\u001b[0m\u001b[0m\n\u001b[0;32m----> 6\u001b[0;31m         \u001b[0;32mreturn\u001b[0m \u001b[0mfib\u001b[0m\u001b[0;34m(\u001b[0m\u001b[0mi\u001b[0m\u001b[0;34m-\u001b[0m\u001b[0;36m1\u001b[0m\u001b[0;34m)\u001b[0m \u001b[0;34m+\u001b[0m \u001b[0mfib\u001b[0m\u001b[0;34m(\u001b[0m\u001b[0mi\u001b[0m\u001b[0;34m-\u001b[0m\u001b[0;36m2\u001b[0m\u001b[0;34m)\u001b[0m\u001b[0;34m\u001b[0m\u001b[0;34m\u001b[0m\u001b[0m\n\u001b[0m",
            "\u001b[0;32m<ipython-input-6-4cbca0ba3862>\u001b[0m in \u001b[0;36mfib\u001b[0;34m(i)\u001b[0m\n\u001b[1;32m      4\u001b[0m         \u001b[0;32mreturn\u001b[0m \u001b[0;36m1\u001b[0m\u001b[0;34m\u001b[0m\u001b[0;34m\u001b[0m\u001b[0m\n\u001b[1;32m      5\u001b[0m     \u001b[0;32melse\u001b[0m\u001b[0;34m:\u001b[0m\u001b[0;34m\u001b[0m\u001b[0;34m\u001b[0m\u001b[0m\n\u001b[0;32m----> 6\u001b[0;31m         \u001b[0;32mreturn\u001b[0m \u001b[0mfib\u001b[0m\u001b[0;34m(\u001b[0m\u001b[0mi\u001b[0m\u001b[0;34m-\u001b[0m\u001b[0;36m1\u001b[0m\u001b[0;34m)\u001b[0m \u001b[0;34m+\u001b[0m \u001b[0mfib\u001b[0m\u001b[0;34m(\u001b[0m\u001b[0mi\u001b[0m\u001b[0;34m-\u001b[0m\u001b[0;36m2\u001b[0m\u001b[0;34m)\u001b[0m\u001b[0;34m\u001b[0m\u001b[0;34m\u001b[0m\u001b[0m\n\u001b[0m",
            "\u001b[0;32m<ipython-input-6-4cbca0ba3862>\u001b[0m in \u001b[0;36mfib\u001b[0;34m(i)\u001b[0m\n\u001b[1;32m      4\u001b[0m         \u001b[0;32mreturn\u001b[0m \u001b[0;36m1\u001b[0m\u001b[0;34m\u001b[0m\u001b[0;34m\u001b[0m\u001b[0m\n\u001b[1;32m      5\u001b[0m     \u001b[0;32melse\u001b[0m\u001b[0;34m:\u001b[0m\u001b[0;34m\u001b[0m\u001b[0;34m\u001b[0m\u001b[0m\n\u001b[0;32m----> 6\u001b[0;31m         \u001b[0;32mreturn\u001b[0m \u001b[0mfib\u001b[0m\u001b[0;34m(\u001b[0m\u001b[0mi\u001b[0m\u001b[0;34m-\u001b[0m\u001b[0;36m1\u001b[0m\u001b[0;34m)\u001b[0m \u001b[0;34m+\u001b[0m \u001b[0mfib\u001b[0m\u001b[0;34m(\u001b[0m\u001b[0mi\u001b[0m\u001b[0;34m-\u001b[0m\u001b[0;36m2\u001b[0m\u001b[0;34m)\u001b[0m\u001b[0;34m\u001b[0m\u001b[0;34m\u001b[0m\u001b[0m\n\u001b[0m",
            "\u001b[0;32m<ipython-input-6-4cbca0ba3862>\u001b[0m in \u001b[0;36mfib\u001b[0;34m(i)\u001b[0m\n\u001b[1;32m      4\u001b[0m         \u001b[0;32mreturn\u001b[0m \u001b[0;36m1\u001b[0m\u001b[0;34m\u001b[0m\u001b[0;34m\u001b[0m\u001b[0m\n\u001b[1;32m      5\u001b[0m     \u001b[0;32melse\u001b[0m\u001b[0;34m:\u001b[0m\u001b[0;34m\u001b[0m\u001b[0;34m\u001b[0m\u001b[0m\n\u001b[0;32m----> 6\u001b[0;31m         \u001b[0;32mreturn\u001b[0m \u001b[0mfib\u001b[0m\u001b[0;34m(\u001b[0m\u001b[0mi\u001b[0m\u001b[0;34m-\u001b[0m\u001b[0;36m1\u001b[0m\u001b[0;34m)\u001b[0m \u001b[0;34m+\u001b[0m \u001b[0mfib\u001b[0m\u001b[0;34m(\u001b[0m\u001b[0mi\u001b[0m\u001b[0;34m-\u001b[0m\u001b[0;36m2\u001b[0m\u001b[0;34m)\u001b[0m\u001b[0;34m\u001b[0m\u001b[0;34m\u001b[0m\u001b[0m\n\u001b[0m",
            "\u001b[0;32m<ipython-input-6-4cbca0ba3862>\u001b[0m in \u001b[0;36mfib\u001b[0;34m(i)\u001b[0m\n\u001b[1;32m      4\u001b[0m         \u001b[0;32mreturn\u001b[0m \u001b[0;36m1\u001b[0m\u001b[0;34m\u001b[0m\u001b[0;34m\u001b[0m\u001b[0m\n\u001b[1;32m      5\u001b[0m     \u001b[0;32melse\u001b[0m\u001b[0;34m:\u001b[0m\u001b[0;34m\u001b[0m\u001b[0;34m\u001b[0m\u001b[0m\n\u001b[0;32m----> 6\u001b[0;31m         \u001b[0;32mreturn\u001b[0m \u001b[0mfib\u001b[0m\u001b[0;34m(\u001b[0m\u001b[0mi\u001b[0m\u001b[0;34m-\u001b[0m\u001b[0;36m1\u001b[0m\u001b[0;34m)\u001b[0m \u001b[0;34m+\u001b[0m \u001b[0mfib\u001b[0m\u001b[0;34m(\u001b[0m\u001b[0mi\u001b[0m\u001b[0;34m-\u001b[0m\u001b[0;36m2\u001b[0m\u001b[0;34m)\u001b[0m\u001b[0;34m\u001b[0m\u001b[0;34m\u001b[0m\u001b[0m\n\u001b[0m",
            "\u001b[0;32m<ipython-input-6-4cbca0ba3862>\u001b[0m in \u001b[0;36mfib\u001b[0;34m(i)\u001b[0m\n\u001b[1;32m      4\u001b[0m         \u001b[0;32mreturn\u001b[0m \u001b[0;36m1\u001b[0m\u001b[0;34m\u001b[0m\u001b[0;34m\u001b[0m\u001b[0m\n\u001b[1;32m      5\u001b[0m     \u001b[0;32melse\u001b[0m\u001b[0;34m:\u001b[0m\u001b[0;34m\u001b[0m\u001b[0;34m\u001b[0m\u001b[0m\n\u001b[0;32m----> 6\u001b[0;31m         \u001b[0;32mreturn\u001b[0m \u001b[0mfib\u001b[0m\u001b[0;34m(\u001b[0m\u001b[0mi\u001b[0m\u001b[0;34m-\u001b[0m\u001b[0;36m1\u001b[0m\u001b[0;34m)\u001b[0m \u001b[0;34m+\u001b[0m \u001b[0mfib\u001b[0m\u001b[0;34m(\u001b[0m\u001b[0mi\u001b[0m\u001b[0;34m-\u001b[0m\u001b[0;36m2\u001b[0m\u001b[0;34m)\u001b[0m\u001b[0;34m\u001b[0m\u001b[0;34m\u001b[0m\u001b[0m\n\u001b[0m",
            "\u001b[0;32m<ipython-input-6-4cbca0ba3862>\u001b[0m in \u001b[0;36mfib\u001b[0;34m(i)\u001b[0m\n\u001b[1;32m      4\u001b[0m         \u001b[0;32mreturn\u001b[0m \u001b[0;36m1\u001b[0m\u001b[0;34m\u001b[0m\u001b[0;34m\u001b[0m\u001b[0m\n\u001b[1;32m      5\u001b[0m     \u001b[0;32melse\u001b[0m\u001b[0;34m:\u001b[0m\u001b[0;34m\u001b[0m\u001b[0;34m\u001b[0m\u001b[0m\n\u001b[0;32m----> 6\u001b[0;31m         \u001b[0;32mreturn\u001b[0m \u001b[0mfib\u001b[0m\u001b[0;34m(\u001b[0m\u001b[0mi\u001b[0m\u001b[0;34m-\u001b[0m\u001b[0;36m1\u001b[0m\u001b[0;34m)\u001b[0m \u001b[0;34m+\u001b[0m \u001b[0mfib\u001b[0m\u001b[0;34m(\u001b[0m\u001b[0mi\u001b[0m\u001b[0;34m-\u001b[0m\u001b[0;36m2\u001b[0m\u001b[0;34m)\u001b[0m\u001b[0;34m\u001b[0m\u001b[0;34m\u001b[0m\u001b[0m\n\u001b[0m",
            "\u001b[0;32m<ipython-input-6-4cbca0ba3862>\u001b[0m in \u001b[0;36mfib\u001b[0;34m(i)\u001b[0m\n\u001b[1;32m      4\u001b[0m         \u001b[0;32mreturn\u001b[0m \u001b[0;36m1\u001b[0m\u001b[0;34m\u001b[0m\u001b[0;34m\u001b[0m\u001b[0m\n\u001b[1;32m      5\u001b[0m     \u001b[0;32melse\u001b[0m\u001b[0;34m:\u001b[0m\u001b[0;34m\u001b[0m\u001b[0;34m\u001b[0m\u001b[0m\n\u001b[0;32m----> 6\u001b[0;31m         \u001b[0;32mreturn\u001b[0m \u001b[0mfib\u001b[0m\u001b[0;34m(\u001b[0m\u001b[0mi\u001b[0m\u001b[0;34m-\u001b[0m\u001b[0;36m1\u001b[0m\u001b[0;34m)\u001b[0m \u001b[0;34m+\u001b[0m \u001b[0mfib\u001b[0m\u001b[0;34m(\u001b[0m\u001b[0mi\u001b[0m\u001b[0;34m-\u001b[0m\u001b[0;36m2\u001b[0m\u001b[0;34m)\u001b[0m\u001b[0;34m\u001b[0m\u001b[0;34m\u001b[0m\u001b[0m\n\u001b[0m",
            "\u001b[0;32m<ipython-input-6-4cbca0ba3862>\u001b[0m in \u001b[0;36mfib\u001b[0;34m(i)\u001b[0m\n\u001b[1;32m      4\u001b[0m         \u001b[0;32mreturn\u001b[0m \u001b[0;36m1\u001b[0m\u001b[0;34m\u001b[0m\u001b[0;34m\u001b[0m\u001b[0m\n\u001b[1;32m      5\u001b[0m     \u001b[0;32melse\u001b[0m\u001b[0;34m:\u001b[0m\u001b[0;34m\u001b[0m\u001b[0;34m\u001b[0m\u001b[0m\n\u001b[0;32m----> 6\u001b[0;31m         \u001b[0;32mreturn\u001b[0m \u001b[0mfib\u001b[0m\u001b[0;34m(\u001b[0m\u001b[0mi\u001b[0m\u001b[0;34m-\u001b[0m\u001b[0;36m1\u001b[0m\u001b[0;34m)\u001b[0m \u001b[0;34m+\u001b[0m \u001b[0mfib\u001b[0m\u001b[0;34m(\u001b[0m\u001b[0mi\u001b[0m\u001b[0;34m-\u001b[0m\u001b[0;36m2\u001b[0m\u001b[0;34m)\u001b[0m\u001b[0;34m\u001b[0m\u001b[0;34m\u001b[0m\u001b[0m\n\u001b[0m",
            "\u001b[0;32m<ipython-input-6-4cbca0ba3862>\u001b[0m in \u001b[0;36mfib\u001b[0;34m(i)\u001b[0m\n\u001b[1;32m      4\u001b[0m         \u001b[0;32mreturn\u001b[0m \u001b[0;36m1\u001b[0m\u001b[0;34m\u001b[0m\u001b[0;34m\u001b[0m\u001b[0m\n\u001b[1;32m      5\u001b[0m     \u001b[0;32melse\u001b[0m\u001b[0;34m:\u001b[0m\u001b[0;34m\u001b[0m\u001b[0;34m\u001b[0m\u001b[0m\n\u001b[0;32m----> 6\u001b[0;31m         \u001b[0;32mreturn\u001b[0m \u001b[0mfib\u001b[0m\u001b[0;34m(\u001b[0m\u001b[0mi\u001b[0m\u001b[0;34m-\u001b[0m\u001b[0;36m1\u001b[0m\u001b[0;34m)\u001b[0m \u001b[0;34m+\u001b[0m \u001b[0mfib\u001b[0m\u001b[0;34m(\u001b[0m\u001b[0mi\u001b[0m\u001b[0;34m-\u001b[0m\u001b[0;36m2\u001b[0m\u001b[0;34m)\u001b[0m\u001b[0;34m\u001b[0m\u001b[0;34m\u001b[0m\u001b[0m\n\u001b[0m",
            "\u001b[0;32m<ipython-input-6-4cbca0ba3862>\u001b[0m in \u001b[0;36mfib\u001b[0;34m(i)\u001b[0m\n\u001b[1;32m      4\u001b[0m         \u001b[0;32mreturn\u001b[0m \u001b[0;36m1\u001b[0m\u001b[0;34m\u001b[0m\u001b[0;34m\u001b[0m\u001b[0m\n\u001b[1;32m      5\u001b[0m     \u001b[0;32melse\u001b[0m\u001b[0;34m:\u001b[0m\u001b[0;34m\u001b[0m\u001b[0;34m\u001b[0m\u001b[0m\n\u001b[0;32m----> 6\u001b[0;31m         \u001b[0;32mreturn\u001b[0m \u001b[0mfib\u001b[0m\u001b[0;34m(\u001b[0m\u001b[0mi\u001b[0m\u001b[0;34m-\u001b[0m\u001b[0;36m1\u001b[0m\u001b[0;34m)\u001b[0m \u001b[0;34m+\u001b[0m \u001b[0mfib\u001b[0m\u001b[0;34m(\u001b[0m\u001b[0mi\u001b[0m\u001b[0;34m-\u001b[0m\u001b[0;36m2\u001b[0m\u001b[0;34m)\u001b[0m\u001b[0;34m\u001b[0m\u001b[0;34m\u001b[0m\u001b[0m\n\u001b[0m",
            "\u001b[0;32m<ipython-input-6-4cbca0ba3862>\u001b[0m in \u001b[0;36mfib\u001b[0;34m(i)\u001b[0m\n\u001b[1;32m      4\u001b[0m         \u001b[0;32mreturn\u001b[0m \u001b[0;36m1\u001b[0m\u001b[0;34m\u001b[0m\u001b[0;34m\u001b[0m\u001b[0m\n\u001b[1;32m      5\u001b[0m     \u001b[0;32melse\u001b[0m\u001b[0;34m:\u001b[0m\u001b[0;34m\u001b[0m\u001b[0;34m\u001b[0m\u001b[0m\n\u001b[0;32m----> 6\u001b[0;31m         \u001b[0;32mreturn\u001b[0m \u001b[0mfib\u001b[0m\u001b[0;34m(\u001b[0m\u001b[0mi\u001b[0m\u001b[0;34m-\u001b[0m\u001b[0;36m1\u001b[0m\u001b[0;34m)\u001b[0m \u001b[0;34m+\u001b[0m \u001b[0mfib\u001b[0m\u001b[0;34m(\u001b[0m\u001b[0mi\u001b[0m\u001b[0;34m-\u001b[0m\u001b[0;36m2\u001b[0m\u001b[0;34m)\u001b[0m\u001b[0;34m\u001b[0m\u001b[0;34m\u001b[0m\u001b[0m\n\u001b[0m",
            "\u001b[0;32m<ipython-input-6-4cbca0ba3862>\u001b[0m in \u001b[0;36mfib\u001b[0;34m(i)\u001b[0m\n\u001b[1;32m      4\u001b[0m         \u001b[0;32mreturn\u001b[0m \u001b[0;36m1\u001b[0m\u001b[0;34m\u001b[0m\u001b[0;34m\u001b[0m\u001b[0m\n\u001b[1;32m      5\u001b[0m     \u001b[0;32melse\u001b[0m\u001b[0;34m:\u001b[0m\u001b[0;34m\u001b[0m\u001b[0;34m\u001b[0m\u001b[0m\n\u001b[0;32m----> 6\u001b[0;31m         \u001b[0;32mreturn\u001b[0m \u001b[0mfib\u001b[0m\u001b[0;34m(\u001b[0m\u001b[0mi\u001b[0m\u001b[0;34m-\u001b[0m\u001b[0;36m1\u001b[0m\u001b[0;34m)\u001b[0m \u001b[0;34m+\u001b[0m \u001b[0mfib\u001b[0m\u001b[0;34m(\u001b[0m\u001b[0mi\u001b[0m\u001b[0;34m-\u001b[0m\u001b[0;36m2\u001b[0m\u001b[0;34m)\u001b[0m\u001b[0;34m\u001b[0m\u001b[0;34m\u001b[0m\u001b[0m\n\u001b[0m",
            "\u001b[0;32m<ipython-input-6-4cbca0ba3862>\u001b[0m in \u001b[0;36mfib\u001b[0;34m(i)\u001b[0m\n\u001b[1;32m      4\u001b[0m         \u001b[0;32mreturn\u001b[0m \u001b[0;36m1\u001b[0m\u001b[0;34m\u001b[0m\u001b[0;34m\u001b[0m\u001b[0m\n\u001b[1;32m      5\u001b[0m     \u001b[0;32melse\u001b[0m\u001b[0;34m:\u001b[0m\u001b[0;34m\u001b[0m\u001b[0;34m\u001b[0m\u001b[0m\n\u001b[0;32m----> 6\u001b[0;31m         \u001b[0;32mreturn\u001b[0m \u001b[0mfib\u001b[0m\u001b[0;34m(\u001b[0m\u001b[0mi\u001b[0m\u001b[0;34m-\u001b[0m\u001b[0;36m1\u001b[0m\u001b[0;34m)\u001b[0m \u001b[0;34m+\u001b[0m \u001b[0mfib\u001b[0m\u001b[0;34m(\u001b[0m\u001b[0mi\u001b[0m\u001b[0;34m-\u001b[0m\u001b[0;36m2\u001b[0m\u001b[0;34m)\u001b[0m\u001b[0;34m\u001b[0m\u001b[0;34m\u001b[0m\u001b[0m\n\u001b[0m",
            "\u001b[0;32m<ipython-input-6-4cbca0ba3862>\u001b[0m in \u001b[0;36mfib\u001b[0;34m(i)\u001b[0m\n\u001b[1;32m      4\u001b[0m         \u001b[0;32mreturn\u001b[0m \u001b[0;36m1\u001b[0m\u001b[0;34m\u001b[0m\u001b[0;34m\u001b[0m\u001b[0m\n\u001b[1;32m      5\u001b[0m     \u001b[0;32melse\u001b[0m\u001b[0;34m:\u001b[0m\u001b[0;34m\u001b[0m\u001b[0;34m\u001b[0m\u001b[0m\n\u001b[0;32m----> 6\u001b[0;31m         \u001b[0;32mreturn\u001b[0m \u001b[0mfib\u001b[0m\u001b[0;34m(\u001b[0m\u001b[0mi\u001b[0m\u001b[0;34m-\u001b[0m\u001b[0;36m1\u001b[0m\u001b[0;34m)\u001b[0m \u001b[0;34m+\u001b[0m \u001b[0mfib\u001b[0m\u001b[0;34m(\u001b[0m\u001b[0mi\u001b[0m\u001b[0;34m-\u001b[0m\u001b[0;36m2\u001b[0m\u001b[0;34m)\u001b[0m\u001b[0;34m\u001b[0m\u001b[0;34m\u001b[0m\u001b[0m\n\u001b[0m",
            "\u001b[0;32m<ipython-input-6-4cbca0ba3862>\u001b[0m in \u001b[0;36mfib\u001b[0;34m(i)\u001b[0m\n\u001b[1;32m      4\u001b[0m         \u001b[0;32mreturn\u001b[0m \u001b[0;36m1\u001b[0m\u001b[0;34m\u001b[0m\u001b[0;34m\u001b[0m\u001b[0m\n\u001b[1;32m      5\u001b[0m     \u001b[0;32melse\u001b[0m\u001b[0;34m:\u001b[0m\u001b[0;34m\u001b[0m\u001b[0;34m\u001b[0m\u001b[0m\n\u001b[0;32m----> 6\u001b[0;31m         \u001b[0;32mreturn\u001b[0m \u001b[0mfib\u001b[0m\u001b[0;34m(\u001b[0m\u001b[0mi\u001b[0m\u001b[0;34m-\u001b[0m\u001b[0;36m1\u001b[0m\u001b[0;34m)\u001b[0m \u001b[0;34m+\u001b[0m \u001b[0mfib\u001b[0m\u001b[0;34m(\u001b[0m\u001b[0mi\u001b[0m\u001b[0;34m-\u001b[0m\u001b[0;36m2\u001b[0m\u001b[0;34m)\u001b[0m\u001b[0;34m\u001b[0m\u001b[0;34m\u001b[0m\u001b[0m\n\u001b[0m",
            "\u001b[0;32m<ipython-input-6-4cbca0ba3862>\u001b[0m in \u001b[0;36mfib\u001b[0;34m(i)\u001b[0m\n\u001b[1;32m      4\u001b[0m         \u001b[0;32mreturn\u001b[0m \u001b[0;36m1\u001b[0m\u001b[0;34m\u001b[0m\u001b[0;34m\u001b[0m\u001b[0m\n\u001b[1;32m      5\u001b[0m     \u001b[0;32melse\u001b[0m\u001b[0;34m:\u001b[0m\u001b[0;34m\u001b[0m\u001b[0;34m\u001b[0m\u001b[0m\n\u001b[0;32m----> 6\u001b[0;31m         \u001b[0;32mreturn\u001b[0m \u001b[0mfib\u001b[0m\u001b[0;34m(\u001b[0m\u001b[0mi\u001b[0m\u001b[0;34m-\u001b[0m\u001b[0;36m1\u001b[0m\u001b[0;34m)\u001b[0m \u001b[0;34m+\u001b[0m \u001b[0mfib\u001b[0m\u001b[0;34m(\u001b[0m\u001b[0mi\u001b[0m\u001b[0;34m-\u001b[0m\u001b[0;36m2\u001b[0m\u001b[0;34m)\u001b[0m\u001b[0;34m\u001b[0m\u001b[0;34m\u001b[0m\u001b[0m\n\u001b[0m",
            "\u001b[0;32m<ipython-input-6-4cbca0ba3862>\u001b[0m in \u001b[0;36mfib\u001b[0;34m(i)\u001b[0m\n\u001b[1;32m      4\u001b[0m         \u001b[0;32mreturn\u001b[0m \u001b[0;36m1\u001b[0m\u001b[0;34m\u001b[0m\u001b[0;34m\u001b[0m\u001b[0m\n\u001b[1;32m      5\u001b[0m     \u001b[0;32melse\u001b[0m\u001b[0;34m:\u001b[0m\u001b[0;34m\u001b[0m\u001b[0;34m\u001b[0m\u001b[0m\n\u001b[0;32m----> 6\u001b[0;31m         \u001b[0;32mreturn\u001b[0m \u001b[0mfib\u001b[0m\u001b[0;34m(\u001b[0m\u001b[0mi\u001b[0m\u001b[0;34m-\u001b[0m\u001b[0;36m1\u001b[0m\u001b[0;34m)\u001b[0m \u001b[0;34m+\u001b[0m \u001b[0mfib\u001b[0m\u001b[0;34m(\u001b[0m\u001b[0mi\u001b[0m\u001b[0;34m-\u001b[0m\u001b[0;36m2\u001b[0m\u001b[0;34m)\u001b[0m\u001b[0;34m\u001b[0m\u001b[0;34m\u001b[0m\u001b[0m\n\u001b[0m",
            "\u001b[0;32m<ipython-input-6-4cbca0ba3862>\u001b[0m in \u001b[0;36mfib\u001b[0;34m(i)\u001b[0m\n\u001b[1;32m      4\u001b[0m         \u001b[0;32mreturn\u001b[0m \u001b[0;36m1\u001b[0m\u001b[0;34m\u001b[0m\u001b[0;34m\u001b[0m\u001b[0m\n\u001b[1;32m      5\u001b[0m     \u001b[0;32melse\u001b[0m\u001b[0;34m:\u001b[0m\u001b[0;34m\u001b[0m\u001b[0;34m\u001b[0m\u001b[0m\n\u001b[0;32m----> 6\u001b[0;31m         \u001b[0;32mreturn\u001b[0m \u001b[0mfib\u001b[0m\u001b[0;34m(\u001b[0m\u001b[0mi\u001b[0m\u001b[0;34m-\u001b[0m\u001b[0;36m1\u001b[0m\u001b[0;34m)\u001b[0m \u001b[0;34m+\u001b[0m \u001b[0mfib\u001b[0m\u001b[0;34m(\u001b[0m\u001b[0mi\u001b[0m\u001b[0;34m-\u001b[0m\u001b[0;36m2\u001b[0m\u001b[0;34m)\u001b[0m\u001b[0;34m\u001b[0m\u001b[0;34m\u001b[0m\u001b[0m\n\u001b[0m",
            "\u001b[0;32m<ipython-input-6-4cbca0ba3862>\u001b[0m in \u001b[0;36mfib\u001b[0;34m(i)\u001b[0m\n\u001b[1;32m      4\u001b[0m         \u001b[0;32mreturn\u001b[0m \u001b[0;36m1\u001b[0m\u001b[0;34m\u001b[0m\u001b[0;34m\u001b[0m\u001b[0m\n\u001b[1;32m      5\u001b[0m     \u001b[0;32melse\u001b[0m\u001b[0;34m:\u001b[0m\u001b[0;34m\u001b[0m\u001b[0;34m\u001b[0m\u001b[0m\n\u001b[0;32m----> 6\u001b[0;31m         \u001b[0;32mreturn\u001b[0m \u001b[0mfib\u001b[0m\u001b[0;34m(\u001b[0m\u001b[0mi\u001b[0m\u001b[0;34m-\u001b[0m\u001b[0;36m1\u001b[0m\u001b[0;34m)\u001b[0m \u001b[0;34m+\u001b[0m \u001b[0mfib\u001b[0m\u001b[0;34m(\u001b[0m\u001b[0mi\u001b[0m\u001b[0;34m-\u001b[0m\u001b[0;36m2\u001b[0m\u001b[0;34m)\u001b[0m\u001b[0;34m\u001b[0m\u001b[0;34m\u001b[0m\u001b[0m\n\u001b[0m",
            "\u001b[0;32m<ipython-input-6-4cbca0ba3862>\u001b[0m in \u001b[0;36mfib\u001b[0;34m(i)\u001b[0m\n\u001b[1;32m      4\u001b[0m         \u001b[0;32mreturn\u001b[0m \u001b[0;36m1\u001b[0m\u001b[0;34m\u001b[0m\u001b[0;34m\u001b[0m\u001b[0m\n\u001b[1;32m      5\u001b[0m     \u001b[0;32melse\u001b[0m\u001b[0;34m:\u001b[0m\u001b[0;34m\u001b[0m\u001b[0;34m\u001b[0m\u001b[0m\n\u001b[0;32m----> 6\u001b[0;31m         \u001b[0;32mreturn\u001b[0m \u001b[0mfib\u001b[0m\u001b[0;34m(\u001b[0m\u001b[0mi\u001b[0m\u001b[0;34m-\u001b[0m\u001b[0;36m1\u001b[0m\u001b[0;34m)\u001b[0m \u001b[0;34m+\u001b[0m \u001b[0mfib\u001b[0m\u001b[0;34m(\u001b[0m\u001b[0mi\u001b[0m\u001b[0;34m-\u001b[0m\u001b[0;36m2\u001b[0m\u001b[0;34m)\u001b[0m\u001b[0;34m\u001b[0m\u001b[0;34m\u001b[0m\u001b[0m\n\u001b[0m",
            "\u001b[0;32m<ipython-input-6-4cbca0ba3862>\u001b[0m in \u001b[0;36mfib\u001b[0;34m(i)\u001b[0m\n\u001b[1;32m      4\u001b[0m         \u001b[0;32mreturn\u001b[0m \u001b[0;36m1\u001b[0m\u001b[0;34m\u001b[0m\u001b[0;34m\u001b[0m\u001b[0m\n\u001b[1;32m      5\u001b[0m     \u001b[0;32melse\u001b[0m\u001b[0;34m:\u001b[0m\u001b[0;34m\u001b[0m\u001b[0;34m\u001b[0m\u001b[0m\n\u001b[0;32m----> 6\u001b[0;31m         \u001b[0;32mreturn\u001b[0m \u001b[0mfib\u001b[0m\u001b[0;34m(\u001b[0m\u001b[0mi\u001b[0m\u001b[0;34m-\u001b[0m\u001b[0;36m1\u001b[0m\u001b[0;34m)\u001b[0m \u001b[0;34m+\u001b[0m \u001b[0mfib\u001b[0m\u001b[0;34m(\u001b[0m\u001b[0mi\u001b[0m\u001b[0;34m-\u001b[0m\u001b[0;36m2\u001b[0m\u001b[0;34m)\u001b[0m\u001b[0;34m\u001b[0m\u001b[0;34m\u001b[0m\u001b[0m\n\u001b[0m",
            "\u001b[0;32m<ipython-input-6-4cbca0ba3862>\u001b[0m in \u001b[0;36mfib\u001b[0;34m(i)\u001b[0m\n\u001b[1;32m      4\u001b[0m         \u001b[0;32mreturn\u001b[0m \u001b[0;36m1\u001b[0m\u001b[0;34m\u001b[0m\u001b[0;34m\u001b[0m\u001b[0m\n\u001b[1;32m      5\u001b[0m     \u001b[0;32melse\u001b[0m\u001b[0;34m:\u001b[0m\u001b[0;34m\u001b[0m\u001b[0;34m\u001b[0m\u001b[0m\n\u001b[0;32m----> 6\u001b[0;31m         \u001b[0;32mreturn\u001b[0m \u001b[0mfib\u001b[0m\u001b[0;34m(\u001b[0m\u001b[0mi\u001b[0m\u001b[0;34m-\u001b[0m\u001b[0;36m1\u001b[0m\u001b[0;34m)\u001b[0m \u001b[0;34m+\u001b[0m \u001b[0mfib\u001b[0m\u001b[0;34m(\u001b[0m\u001b[0mi\u001b[0m\u001b[0;34m-\u001b[0m\u001b[0;36m2\u001b[0m\u001b[0;34m)\u001b[0m\u001b[0;34m\u001b[0m\u001b[0;34m\u001b[0m\u001b[0m\n\u001b[0m",
            "\u001b[0;32m<ipython-input-6-4cbca0ba3862>\u001b[0m in \u001b[0;36mfib\u001b[0;34m(i)\u001b[0m\n\u001b[1;32m      4\u001b[0m         \u001b[0;32mreturn\u001b[0m \u001b[0;36m1\u001b[0m\u001b[0;34m\u001b[0m\u001b[0;34m\u001b[0m\u001b[0m\n\u001b[1;32m      5\u001b[0m     \u001b[0;32melse\u001b[0m\u001b[0;34m:\u001b[0m\u001b[0;34m\u001b[0m\u001b[0;34m\u001b[0m\u001b[0m\n\u001b[0;32m----> 6\u001b[0;31m         \u001b[0;32mreturn\u001b[0m \u001b[0mfib\u001b[0m\u001b[0;34m(\u001b[0m\u001b[0mi\u001b[0m\u001b[0;34m-\u001b[0m\u001b[0;36m1\u001b[0m\u001b[0;34m)\u001b[0m \u001b[0;34m+\u001b[0m \u001b[0mfib\u001b[0m\u001b[0;34m(\u001b[0m\u001b[0mi\u001b[0m\u001b[0;34m-\u001b[0m\u001b[0;36m2\u001b[0m\u001b[0;34m)\u001b[0m\u001b[0;34m\u001b[0m\u001b[0;34m\u001b[0m\u001b[0m\n\u001b[0m",
            "\u001b[0;32m<ipython-input-6-4cbca0ba3862>\u001b[0m in \u001b[0;36mfib\u001b[0;34m(i)\u001b[0m\n\u001b[1;32m      4\u001b[0m         \u001b[0;32mreturn\u001b[0m \u001b[0;36m1\u001b[0m\u001b[0;34m\u001b[0m\u001b[0;34m\u001b[0m\u001b[0m\n\u001b[1;32m      5\u001b[0m     \u001b[0;32melse\u001b[0m\u001b[0;34m:\u001b[0m\u001b[0;34m\u001b[0m\u001b[0;34m\u001b[0m\u001b[0m\n\u001b[0;32m----> 6\u001b[0;31m         \u001b[0;32mreturn\u001b[0m \u001b[0mfib\u001b[0m\u001b[0;34m(\u001b[0m\u001b[0mi\u001b[0m\u001b[0;34m-\u001b[0m\u001b[0;36m1\u001b[0m\u001b[0;34m)\u001b[0m \u001b[0;34m+\u001b[0m \u001b[0mfib\u001b[0m\u001b[0;34m(\u001b[0m\u001b[0mi\u001b[0m\u001b[0;34m-\u001b[0m\u001b[0;36m2\u001b[0m\u001b[0;34m)\u001b[0m\u001b[0;34m\u001b[0m\u001b[0;34m\u001b[0m\u001b[0m\n\u001b[0m",
            "\u001b[0;32m<ipython-input-6-4cbca0ba3862>\u001b[0m in \u001b[0;36mfib\u001b[0;34m(i)\u001b[0m\n\u001b[1;32m      4\u001b[0m         \u001b[0;32mreturn\u001b[0m \u001b[0;36m1\u001b[0m\u001b[0;34m\u001b[0m\u001b[0;34m\u001b[0m\u001b[0m\n\u001b[1;32m      5\u001b[0m     \u001b[0;32melse\u001b[0m\u001b[0;34m:\u001b[0m\u001b[0;34m\u001b[0m\u001b[0;34m\u001b[0m\u001b[0m\n\u001b[0;32m----> 6\u001b[0;31m         \u001b[0;32mreturn\u001b[0m \u001b[0mfib\u001b[0m\u001b[0;34m(\u001b[0m\u001b[0mi\u001b[0m\u001b[0;34m-\u001b[0m\u001b[0;36m1\u001b[0m\u001b[0;34m)\u001b[0m \u001b[0;34m+\u001b[0m \u001b[0mfib\u001b[0m\u001b[0;34m(\u001b[0m\u001b[0mi\u001b[0m\u001b[0;34m-\u001b[0m\u001b[0;36m2\u001b[0m\u001b[0;34m)\u001b[0m\u001b[0;34m\u001b[0m\u001b[0;34m\u001b[0m\u001b[0m\n\u001b[0m",
            "\u001b[0;32m<ipython-input-6-4cbca0ba3862>\u001b[0m in \u001b[0;36mfib\u001b[0;34m(i)\u001b[0m\n\u001b[1;32m      4\u001b[0m         \u001b[0;32mreturn\u001b[0m \u001b[0;36m1\u001b[0m\u001b[0;34m\u001b[0m\u001b[0;34m\u001b[0m\u001b[0m\n\u001b[1;32m      5\u001b[0m     \u001b[0;32melse\u001b[0m\u001b[0;34m:\u001b[0m\u001b[0;34m\u001b[0m\u001b[0;34m\u001b[0m\u001b[0m\n\u001b[0;32m----> 6\u001b[0;31m         \u001b[0;32mreturn\u001b[0m \u001b[0mfib\u001b[0m\u001b[0;34m(\u001b[0m\u001b[0mi\u001b[0m\u001b[0;34m-\u001b[0m\u001b[0;36m1\u001b[0m\u001b[0;34m)\u001b[0m \u001b[0;34m+\u001b[0m \u001b[0mfib\u001b[0m\u001b[0;34m(\u001b[0m\u001b[0mi\u001b[0m\u001b[0;34m-\u001b[0m\u001b[0;36m2\u001b[0m\u001b[0;34m)\u001b[0m\u001b[0;34m\u001b[0m\u001b[0;34m\u001b[0m\u001b[0m\n\u001b[0m",
            "\u001b[0;31mKeyboardInterrupt\u001b[0m: "
          ]
        }
      ]
    },
    {
      "cell_type": "code",
      "execution_count": 18,
      "metadata": {
        "id": "o9fuyP39E6Vl",
        "outputId": "619ac08c-3600-4202-da63-4b9bcac97576",
        "colab": {
          "base_uri": "https://localhost:8080/"
        }
      },
      "outputs": [
        {
          "output_type": "stream",
          "name": "stdout",
          "text": [
            "1 loop, best of 5: 4.08 s per loop\n"
          ]
        }
      ],
      "source": [
        "%%timeit\n",
        "fib(35)"
      ]
    },
    {
      "cell_type": "code",
      "execution_count": 21,
      "metadata": {
        "id": "WLYRbw4-E6Vl"
      },
      "outputs": [],
      "source": [
        "@memo # this is a decorator - meaning we wrap our fib_m function in memo function\n",
        "def fib_m(i):\n",
        "    if i < 2: \n",
        "        return 1\n",
        "    else:\n",
        "        return fib_m(i-1) + fib_m(i-2)"
      ]
    },
    {
      "cell_type": "code",
      "execution_count": 22,
      "metadata": {
        "id": "Nz46YPZGE6Vl",
        "outputId": "7594fc8d-9ad9-4c7f-84dd-05d39524bd70",
        "colab": {
          "base_uri": "https://localhost:8080/"
        }
      },
      "outputs": [
        {
          "output_type": "stream",
          "name": "stdout",
          "text": [
            "The slowest run took 302.06 times longer than the fastest. This could mean that an intermediate result is being cached.\n",
            "1000000 loops, best of 5: 237 ns per loop\n"
          ]
        }
      ],
      "source": [
        "%%timeit\n",
        "fib_m(35)"
      ]
    },
    {
      "cell_type": "code",
      "execution_count": null,
      "metadata": {
        "id": "nO5JzuRPE6Vl"
      },
      "outputs": [],
      "source": [
        ""
      ]
    },
    {
      "cell_type": "code",
      "execution_count": 23,
      "metadata": {
        "id": "NCImh-7GE6Vm",
        "outputId": "7280effb-d544-47ad-d844-52325aea7671",
        "colab": {
          "base_uri": "https://localhost:8080/"
        }
      },
      "outputs": [
        {
          "output_type": "execute_result",
          "data": {
            "text/plain": [
              "24157817"
            ]
          },
          "metadata": {},
          "execution_count": 23
        }
      ],
      "source": [
        "fib_m(36) # well the book implemention does not quite work, it is not caching properly"
      ]
    },
    {
      "cell_type": "code",
      "execution_count": 24,
      "metadata": {
        "id": "--c7uK81E6Vm",
        "outputId": "6bcce2d6-a615-4b1f-fcdf-444b2bfdf34e",
        "colab": {
          "base_uri": "https://localhost:8080/"
        }
      },
      "outputs": [
        {
          "output_type": "execute_result",
          "data": {
            "text/plain": [
              "165580141"
            ]
          },
          "metadata": {},
          "execution_count": 24
        }
      ],
      "source": [
        "fib_m(40)"
      ]
    },
    {
      "cell_type": "code",
      "execution_count": 25,
      "metadata": {
        "id": "jR0QrUAiE6Vm",
        "outputId": "6733edce-5591-4e33-8b3b-001c77868b01",
        "colab": {
          "base_uri": "https://localhost:8080/"
        }
      },
      "outputs": [
        {
          "output_type": "execute_result",
          "data": {
            "text/plain": [
              "2504730781961"
            ]
          },
          "metadata": {},
          "execution_count": 25
        }
      ],
      "source": [
        "fib_m(60)"
      ]
    },
    {
      "cell_type": "code",
      "execution_count": 26,
      "metadata": {
        "id": "wm6eXes3E6Vm",
        "outputId": "79532036-191b-4956-b476-052307e132a9",
        "colab": {
          "base_uri": "https://localhost:8080/"
        }
      },
      "outputs": [
        {
          "output_type": "execute_result",
          "data": {
            "text/plain": [
              "453973694165307953197296969697410619233826"
            ]
          },
          "metadata": {},
          "execution_count": 26
        }
      ],
      "source": [
        "fib_m(200)"
      ]
    },
    {
      "cell_type": "code",
      "execution_count": 27,
      "metadata": {
        "id": "fQw7FaH0E6Vn",
        "outputId": "62f230b9-e4d8-4029-df8b-58dd8fff8275",
        "colab": {
          "base_uri": "https://localhost:8080/",
          "height": 350
        }
      },
      "outputs": [
        {
          "output_type": "error",
          "ename": "RecursionError",
          "evalue": "ignored",
          "traceback": [
            "\u001b[0;31m---------------------------------------------------------------------------\u001b[0m",
            "\u001b[0;31mRecursionError\u001b[0m                            Traceback (most recent call last)",
            "\u001b[0;32m<ipython-input-27-7a42a4c26a00>\u001b[0m in \u001b[0;36m<module>\u001b[0;34m()\u001b[0m\n\u001b[0;32m----> 1\u001b[0;31m \u001b[0mfib_m\u001b[0m\u001b[0;34m(\u001b[0m\u001b[0;36m1000\u001b[0m\u001b[0;34m)\u001b[0m\u001b[0;34m\u001b[0m\u001b[0;34m\u001b[0m\u001b[0m\n\u001b[0m",
            "\u001b[0;32m<ipython-input-15-9e5e95ab9f19>\u001b[0m in \u001b[0;36mwrap\u001b[0;34m(*args)\u001b[0m\n\u001b[1;32m      5\u001b[0m     \u001b[0;32mdef\u001b[0m \u001b[0mwrap\u001b[0m\u001b[0;34m(\u001b[0m\u001b[0;34m*\u001b[0m\u001b[0margs\u001b[0m\u001b[0;34m)\u001b[0m\u001b[0;34m:\u001b[0m \u001b[0;31m# The memoized wrapper\u001b[0m\u001b[0;34m\u001b[0m\u001b[0;34m\u001b[0m\u001b[0m\n\u001b[1;32m      6\u001b[0m         \u001b[0;32mif\u001b[0m \u001b[0margs\u001b[0m \u001b[0;32mnot\u001b[0m \u001b[0;32min\u001b[0m \u001b[0mcache\u001b[0m\u001b[0;34m:\u001b[0m \u001b[0;31m# Not already computed? O(1) lookup\u001b[0m\u001b[0;34m\u001b[0m\u001b[0;34m\u001b[0m\u001b[0m\n\u001b[0;32m----> 7\u001b[0;31m             \u001b[0mcache\u001b[0m\u001b[0;34m[\u001b[0m\u001b[0margs\u001b[0m\u001b[0;34m]\u001b[0m \u001b[0;34m=\u001b[0m \u001b[0mfunc\u001b[0m\u001b[0;34m(\u001b[0m\u001b[0;34m*\u001b[0m\u001b[0margs\u001b[0m\u001b[0;34m)\u001b[0m \u001b[0;31m# Compute & cache the solution O(1) to store - of func itself will have some cost\u001b[0m\u001b[0;34m\u001b[0m\u001b[0;34m\u001b[0m\u001b[0m\n\u001b[0m\u001b[1;32m      8\u001b[0m         \u001b[0;32mreturn\u001b[0m \u001b[0mcache\u001b[0m\u001b[0;34m[\u001b[0m\u001b[0margs\u001b[0m\u001b[0;34m]\u001b[0m \u001b[0;31m# Return the cached solution - return again is O(1)\u001b[0m\u001b[0;34m\u001b[0m\u001b[0;34m\u001b[0m\u001b[0m\n\u001b[1;32m      9\u001b[0m     \u001b[0;32mreturn\u001b[0m \u001b[0mwrap\u001b[0m \u001b[0;31m# Return the wrapper\u001b[0m\u001b[0;34m\u001b[0m\u001b[0;34m\u001b[0m\u001b[0m\n",
            "\u001b[0;32m<ipython-input-21-2bd1db1633fe>\u001b[0m in \u001b[0;36mfib_m\u001b[0;34m(i)\u001b[0m\n\u001b[1;32m      4\u001b[0m         \u001b[0;32mreturn\u001b[0m \u001b[0;36m1\u001b[0m\u001b[0;34m\u001b[0m\u001b[0;34m\u001b[0m\u001b[0m\n\u001b[1;32m      5\u001b[0m     \u001b[0;32melse\u001b[0m\u001b[0;34m:\u001b[0m\u001b[0;34m\u001b[0m\u001b[0;34m\u001b[0m\u001b[0m\n\u001b[0;32m----> 6\u001b[0;31m         \u001b[0;32mreturn\u001b[0m \u001b[0mfib_m\u001b[0m\u001b[0;34m(\u001b[0m\u001b[0mi\u001b[0m\u001b[0;34m-\u001b[0m\u001b[0;36m1\u001b[0m\u001b[0;34m)\u001b[0m \u001b[0;34m+\u001b[0m \u001b[0mfib_m\u001b[0m\u001b[0;34m(\u001b[0m\u001b[0mi\u001b[0m\u001b[0;34m-\u001b[0m\u001b[0;36m2\u001b[0m\u001b[0;34m)\u001b[0m\u001b[0;34m\u001b[0m\u001b[0;34m\u001b[0m\u001b[0m\n\u001b[0m",
            "... last 2 frames repeated, from the frame below ...\n",
            "\u001b[0;32m<ipython-input-15-9e5e95ab9f19>\u001b[0m in \u001b[0;36mwrap\u001b[0;34m(*args)\u001b[0m\n\u001b[1;32m      5\u001b[0m     \u001b[0;32mdef\u001b[0m \u001b[0mwrap\u001b[0m\u001b[0;34m(\u001b[0m\u001b[0;34m*\u001b[0m\u001b[0margs\u001b[0m\u001b[0;34m)\u001b[0m\u001b[0;34m:\u001b[0m \u001b[0;31m# The memoized wrapper\u001b[0m\u001b[0;34m\u001b[0m\u001b[0;34m\u001b[0m\u001b[0m\n\u001b[1;32m      6\u001b[0m         \u001b[0;32mif\u001b[0m \u001b[0margs\u001b[0m \u001b[0;32mnot\u001b[0m \u001b[0;32min\u001b[0m \u001b[0mcache\u001b[0m\u001b[0;34m:\u001b[0m \u001b[0;31m# Not already computed? O(1) lookup\u001b[0m\u001b[0;34m\u001b[0m\u001b[0;34m\u001b[0m\u001b[0m\n\u001b[0;32m----> 7\u001b[0;31m             \u001b[0mcache\u001b[0m\u001b[0;34m[\u001b[0m\u001b[0margs\u001b[0m\u001b[0;34m]\u001b[0m \u001b[0;34m=\u001b[0m \u001b[0mfunc\u001b[0m\u001b[0;34m(\u001b[0m\u001b[0;34m*\u001b[0m\u001b[0margs\u001b[0m\u001b[0;34m)\u001b[0m \u001b[0;31m# Compute & cache the solution O(1) to store - of func itself will have some cost\u001b[0m\u001b[0;34m\u001b[0m\u001b[0;34m\u001b[0m\u001b[0m\n\u001b[0m\u001b[1;32m      8\u001b[0m         \u001b[0;32mreturn\u001b[0m \u001b[0mcache\u001b[0m\u001b[0;34m[\u001b[0m\u001b[0margs\u001b[0m\u001b[0;34m]\u001b[0m \u001b[0;31m# Return the cached solution - return again is O(1)\u001b[0m\u001b[0;34m\u001b[0m\u001b[0;34m\u001b[0m\u001b[0m\n\u001b[1;32m      9\u001b[0m     \u001b[0;32mreturn\u001b[0m \u001b[0mwrap\u001b[0m \u001b[0;31m# Return the wrapper\u001b[0m\u001b[0;34m\u001b[0m\u001b[0;34m\u001b[0m\u001b[0m\n",
            "\u001b[0;31mRecursionError\u001b[0m: maximum recursion depth exceeded in comparison"
          ]
        }
      ],
      "source": [
        "fib_m(1000) # on Google Colab stack size is limited to 1k by defaulb"
      ]
    },
    {
      "cell_type": "code",
      "source": [
        "import sys\n",
        "sys.setrecursionlimit(10_000)"
      ],
      "metadata": {
        "id": "9k29aWklKCJb"
      },
      "execution_count": 28,
      "outputs": []
    },
    {
      "cell_type": "code",
      "execution_count": 29,
      "metadata": {
        "id": "7Phhhrn6E6Vn",
        "outputId": "edf18c47-4351-4f7d-d0bc-151794a68cd2",
        "colab": {
          "base_uri": "https://localhost:8080/"
        }
      },
      "outputs": [
        {
          "output_type": "execute_result",
          "data": {
            "text/plain": [
              "6835702259575806647045396549170580107055408029365524565407553367798082454408054014954534318953113802726603726769523447478238192192714526677939943338306101405105414819705664090901813637296453767095528104868264704914433529355579148731044685634135487735897954629842516947101494253575869699893400976539545740214819819151952085089538422954565146720383752121972115725761141759114990448978941370030912401573418221496592822626"
            ]
          },
          "metadata": {},
          "execution_count": 29
        }
      ],
      "source": [
        "fib_m(2000) \n",
        "# sadly memoization will not solved stack overflow problem"
      ]
    },
    {
      "cell_type": "code",
      "execution_count": 30,
      "metadata": {
        "id": "1sudl6SYE6Vn",
        "outputId": "a1f80e88-157d-4e51-e34e-30592dacee9f",
        "colab": {
          "base_uri": "https://localhost:8080/"
        }
      },
      "outputs": [
        {
          "output_type": "execute_result",
          "data": {
            "text/plain": [
              "6276302800488957086035253108349684055478528702736457439025824448927937256811663264475883711527806250329984690249846819800648580083040107584710332687596562185073640422286799239932615797105974710857095487342820351307477141875012176874307156016229965832589137779724973854362777629878229505500260477136108363709090010421536915488632339240756987974122598603591920306874926755600361865354330444681915154695741851960071089944015319300128574107662757054790648152751366475529121877212785489665101733755898580317984402963873738187000120737824193162011399200547424034440836239726275765901190914513013217132050988064832024783370583789324109052449717186857327239783000020791777804503930439875068662687670678802914269784817022567088069496231111407908953313902398529655056082228598715882365779469902465675715699187225655878240668599547496218159297881601061923195562143932693324644219266564617042934227893371179832389642895285401263875342640468017378925921483580111278055044254198382265567395946431803304304326865077742925818757370691726168228648841319231470626"
            ]
          },
          "metadata": {},
          "execution_count": 30
        }
      ],
      "source": [
        "fib_m(5000) \n",
        "# sadly memoization will not help us with stack overflow , a good way to force kernel restart :)"
      ]
    },
    {
      "cell_type": "code",
      "execution_count": 31,
      "metadata": {
        "id": "Gg81YxScE6Vn"
      },
      "outputs": [],
      "source": [
        "import functools\n",
        "# https://stackoverflow.com/questions/1988804/what-is-memoization-and-how-can-i-use-it-in-python\n",
        "@functools.lru_cache(maxsize=None) #by default only 128 latest so by setting it to None I cache everything - this is a decorator\n",
        "def fib(num):\n",
        "    if num < 2:\n",
        "        return num\n",
        "    else:\n",
        "        return fib(num-1) + fib(num-2)\n",
        "# in 3.9 Python there is a newer @functools.cache - similar idea"
      ]
    },
    {
      "cell_type": "code",
      "execution_count": 32,
      "metadata": {
        "id": "Zmfn99TsE6Vn",
        "outputId": "7f1f2f37-f72e-499a-a69e-0ab4be0bd7d8",
        "colab": {
          "base_uri": "https://localhost:8080/"
        }
      },
      "outputs": [
        {
          "output_type": "execute_result",
          "data": {
            "text/plain": [
              "9227465"
            ]
          },
          "metadata": {},
          "execution_count": 32
        }
      ],
      "source": [
        "fib(35)"
      ]
    },
    {
      "cell_type": "code",
      "execution_count": 33,
      "metadata": {
        "id": "CJM44ffOE6Vn",
        "outputId": "7818c257-6f4e-4ccf-b12e-da8869b6e879",
        "colab": {
          "base_uri": "https://localhost:8080/"
        }
      },
      "outputs": [
        {
          "output_type": "stream",
          "name": "stdout",
          "text": [
            "The slowest run took 20.35 times longer than the fastest. This could mean that an intermediate result is being cached.\n",
            "10000000 loops, best of 5: 97.4 ns per loop\n"
          ]
        }
      ],
      "source": [
        "%%timeit\n",
        "fib(35)"
      ]
    },
    {
      "cell_type": "code",
      "source": [
        "%%timeit\n",
        "fib(100)"
      ],
      "metadata": {
        "id": "YNQQZQrdKl7c",
        "outputId": "6bc38395-50b1-44d7-f60e-0f5de71f0210",
        "colab": {
          "base_uri": "https://localhost:8080/"
        }
      },
      "execution_count": 34,
      "outputs": [
        {
          "output_type": "stream",
          "name": "stdout",
          "text": [
            "The slowest run took 722.13 times longer than the fastest. This could mean that an intermediate result is being cached.\n",
            "10000000 loops, best of 5: 98.7 ns per loop\n"
          ]
        }
      ]
    },
    {
      "cell_type": "code",
      "source": [
        "%%timeit\n",
        "fib_m(100)  # so my memoization solution is about 2.5x slower than library solution but both are extremely fast"
      ],
      "metadata": {
        "id": "3BBdXcLtKtJl",
        "outputId": "706b011e-b515-4c86-8ecd-d892700eea29",
        "colab": {
          "base_uri": "https://localhost:8080/"
        }
      },
      "execution_count": 35,
      "outputs": [
        {
          "output_type": "stream",
          "name": "stdout",
          "text": [
            "The slowest run took 44.83 times longer than the fastest. This could mean that an intermediate result is being cached.\n",
            "1000000 loops, best of 5: 247 ns per loop\n"
          ]
        }
      ]
    },
    {
      "cell_type": "code",
      "execution_count": null,
      "metadata": {
        "id": "hXzXT0LJE6Vo"
      },
      "outputs": [],
      "source": [
        "# so official caching version is 3 times faster than our self-made version, factor of 3 is not a dealbreak but nice to know"
      ]
    },
    {
      "cell_type": "code",
      "execution_count": null,
      "metadata": {
        "id": "3F-YesuFE6Vo",
        "outputId": "c6c7f4d8-fae2-465b-fbd2-3cb2fc4a2020"
      },
      "outputs": [
        {
          "data": {
            "text/plain": [
              "102334155"
            ]
          },
          "execution_count": 4,
          "metadata": {},
          "output_type": "execute_result"
        }
      ],
      "source": [
        "fib(40)"
      ]
    },
    {
      "cell_type": "code",
      "execution_count": null,
      "metadata": {
        "id": "AfiykkfqE6Vo",
        "outputId": "3817bde4-67de-4f6c-9810-4788eff86724"
      },
      "outputs": [
        {
          "data": {
            "text/plain": [
              "354224848179261915075"
            ]
          },
          "execution_count": 5,
          "metadata": {},
          "output_type": "execute_result"
        }
      ],
      "source": [
        "fib(100)"
      ]
    },
    {
      "cell_type": "code",
      "execution_count": null,
      "metadata": {
        "id": "tboJ30OtE6Vo",
        "outputId": "697811b5-6cdd-4265-d363-f07fa205a616"
      },
      "outputs": [
        {
          "data": {
            "text/plain": [
              "280571172992510140037611932413038677189525"
            ]
          },
          "execution_count": 6,
          "metadata": {},
          "output_type": "execute_result"
        }
      ],
      "source": [
        "fib(200)"
      ]
    },
    {
      "cell_type": "code",
      "execution_count": null,
      "metadata": {
        "id": "LYc5pkzmE6Vo",
        "outputId": "04aa6695-6641-4b73-fb7d-16dc131992fc"
      },
      "outputs": [
        {
          "data": {
            "text/plain": [
              "27269884455406270157991615313642198705000779992917725821180502894974726476373026809482509284562310031170172380127627214493597616743856443016039972205847405917634660750474914561879656763268658528092195715626073248224067794253809132219056382939163918400"
            ]
          },
          "execution_count": 7,
          "metadata": {},
          "output_type": "execute_result"
        }
      ],
      "source": [
        "fib(1200)"
      ]
    },
    {
      "cell_type": "code",
      "execution_count": null,
      "metadata": {
        "id": "7eZNnn_tE6Vo",
        "outputId": "09575c60-dfad-43aa-996f-6656ea141090"
      },
      "outputs": [
        {
          "data": {
            "text/plain": [
              "4224696333392304878706725602341482782579852840250681098010280137314308584370130707224123599639141511088446087538909603607640194711643596029271983312598737326253555802606991585915229492453904998722256795316982874482472992263901833716778060607011615497886719879858311468870876264597369086722884023654422295243347964480139515349562972087652656069529806499841977448720155612802665404554171717881930324025204312082516817125"
            ]
          },
          "execution_count": 8,
          "metadata": {},
          "output_type": "execute_result"
        }
      ],
      "source": [
        "fib(2000)"
      ]
    },
    {
      "cell_type": "code",
      "execution_count": null,
      "metadata": {
        "id": "qQfhLNVJE6Vp",
        "outputId": "f1ef2e18-ac77-45c2-8c66-3d807c186b8b"
      },
      "outputs": [
        {
          "data": {
            "text/plain": [
              "410615886307971260333568378719267105220125108637369252408885430926905584274113403731330491660850044560830036835706942274588569362145476502674373045446852160486606292497360503469773453733196887405847255290082049086907512622059054542195889758031109222670849274793859539133318371244795543147611073276240066737934085191731810993201706776838934766764778739502174470268627820918553842225858306408301661862900358266857238210235802504351951472997919676524004784236376453347268364152648346245840573214241419937917242918602639810097866942392015404620153818671425739835074851396421139982713640679581178458198658692285968043243656709796000"
            ]
          },
          "execution_count": 9,
          "metadata": {},
          "output_type": "execute_result"
        }
      ],
      "source": [
        "fib(3000)"
      ]
    },
    {
      "cell_type": "code",
      "execution_count": null,
      "metadata": {
        "id": "D54KnoiQE6Vp",
        "outputId": "5b3c4953-2e8d-4919-eb82-849cd6d27baa"
      },
      "outputs": [
        {
          "ename": "RecursionError",
          "evalue": "maximum recursion depth exceeded",
          "output_type": "error",
          "traceback": [
            "\u001b[1;31m---------------------------------------------------------------------------\u001b[0m",
            "\u001b[1;31mRecursionError\u001b[0m                            Traceback (most recent call last)",
            "\u001b[1;32m<ipython-input-10-3b6d61308959>\u001b[0m in \u001b[0;36m<module>\u001b[1;34m\u001b[0m\n\u001b[1;32m----> 1\u001b[1;33m \u001b[0mfib\u001b[0m\u001b[1;33m(\u001b[0m\u001b[1;36m5000\u001b[0m\u001b[1;33m)\u001b[0m\u001b[1;33m\u001b[0m\u001b[1;33m\u001b[0m\u001b[0m\n\u001b[0m",
            "\u001b[1;32m<ipython-input-1-f0a0f677096c>\u001b[0m in \u001b[0;36mfib\u001b[1;34m(num)\u001b[0m\n\u001b[0;32m      6\u001b[0m         \u001b[1;32mreturn\u001b[0m \u001b[0mnum\u001b[0m\u001b[1;33m\u001b[0m\u001b[1;33m\u001b[0m\u001b[0m\n\u001b[0;32m      7\u001b[0m     \u001b[1;32melse\u001b[0m\u001b[1;33m:\u001b[0m\u001b[1;33m\u001b[0m\u001b[1;33m\u001b[0m\u001b[0m\n\u001b[1;32m----> 8\u001b[1;33m         \u001b[1;32mreturn\u001b[0m \u001b[0mfib\u001b[0m\u001b[1;33m(\u001b[0m\u001b[0mnum\u001b[0m\u001b[1;33m-\u001b[0m\u001b[1;36m1\u001b[0m\u001b[1;33m)\u001b[0m \u001b[1;33m+\u001b[0m \u001b[0mfib\u001b[0m\u001b[1;33m(\u001b[0m\u001b[0mnum\u001b[0m\u001b[1;33m-\u001b[0m\u001b[1;36m2\u001b[0m\u001b[1;33m)\u001b[0m\u001b[1;33m\u001b[0m\u001b[1;33m\u001b[0m\u001b[0m\n\u001b[0m",
            "... last 1 frames repeated, from the frame below ...\n",
            "\u001b[1;32m<ipython-input-1-f0a0f677096c>\u001b[0m in \u001b[0;36mfib\u001b[1;34m(num)\u001b[0m\n\u001b[0;32m      6\u001b[0m         \u001b[1;32mreturn\u001b[0m \u001b[0mnum\u001b[0m\u001b[1;33m\u001b[0m\u001b[1;33m\u001b[0m\u001b[0m\n\u001b[0;32m      7\u001b[0m     \u001b[1;32melse\u001b[0m\u001b[1;33m:\u001b[0m\u001b[1;33m\u001b[0m\u001b[1;33m\u001b[0m\u001b[0m\n\u001b[1;32m----> 8\u001b[1;33m         \u001b[1;32mreturn\u001b[0m \u001b[0mfib\u001b[0m\u001b[1;33m(\u001b[0m\u001b[0mnum\u001b[0m\u001b[1;33m-\u001b[0m\u001b[1;36m1\u001b[0m\u001b[1;33m)\u001b[0m \u001b[1;33m+\u001b[0m \u001b[0mfib\u001b[0m\u001b[1;33m(\u001b[0m\u001b[0mnum\u001b[0m\u001b[1;33m-\u001b[0m\u001b[1;36m2\u001b[0m\u001b[1;33m)\u001b[0m\u001b[1;33m\u001b[0m\u001b[1;33m\u001b[0m\u001b[0m\n\u001b[0m",
            "\u001b[1;31mRecursionError\u001b[0m: maximum recursion depth exceeded"
          ]
        }
      ],
      "source": [
        "fib(5000)"
      ]
    },
    {
      "cell_type": "code",
      "execution_count": null,
      "metadata": {
        "id": "40lNbsHjE6Vp"
      },
      "outputs": [],
      "source": [
        "# so the problem with TOP-DOWN memoization is that we are still left with recursive calls going over our stack limit"
      ]
    },
    {
      "cell_type": "markdown",
      "metadata": {
        "id": "OuoqwIHxE6Vp"
      },
      "source": [
        "## So how to solve the stack overflow problem?"
      ]
    },
    {
      "cell_type": "code",
      "execution_count": null,
      "metadata": {
        "id": "0BUK19eXE6Vp"
      },
      "outputs": [],
      "source": [
        "# we could try the build up solution - meaning BOTTOM-UP method\n",
        "# this will usually be an iterative(looping) solution so no worries about stack\n"
      ]
    },
    {
      "cell_type": "markdown",
      "source": [
        "# Iterative version of Fibonacci with full table"
      ],
      "metadata": {
        "id": "9PvgaddjMxK8"
      }
    },
    {
      "cell_type": "code",
      "execution_count": 36,
      "metadata": {
        "id": "BsDQLkWTE6Vp"
      },
      "outputs": [],
      "source": [
        "# silly iterative version\n",
        "def fib_it(n): # so n will be 1 based\n",
        "    fibs = [1,1] #so we are going to build our answers\n",
        "    # lets pretend we do not know of any formulas and optimizations\n",
        "#     n += 1 # fix this\n",
        "    if n < 2:\n",
        "        return fibs[n] # off by one errors\n",
        "    ndx = 2\n",
        "    while ndx <= n:\n",
        "        fibs.append(fibs[ndx-1]+fibs[ndx-2]) # so I am building a 1-d table(array/list) of answers\n",
        "        # in fib we could have of course just stored 2 previous values instead of all\n",
        "        ndx+=1\n",
        "    return fibs[n] # again off by one indexing 0 based in python and 1 based in our function\n"
      ]
    },
    {
      "cell_type": "code",
      "execution_count": 37,
      "metadata": {
        "id": "Fum7eojEE6Vp",
        "outputId": "38bb51ef-0562-49bf-fb0c-32429c1498ab",
        "colab": {
          "base_uri": "https://localhost:8080/"
        }
      },
      "outputs": [
        {
          "output_type": "execute_result",
          "data": {
            "text/plain": [
              "2"
            ]
          },
          "metadata": {},
          "execution_count": 37
        }
      ],
      "source": [
        "fib_it(2)"
      ]
    },
    {
      "cell_type": "code",
      "source": [
        "%%timeit\n",
        "fib_it(100)"
      ],
      "metadata": {
        "id": "VBTw3NOQMgPE",
        "outputId": "8717069f-d8b5-4cc4-8009-1f9b8c848ddb",
        "colab": {
          "base_uri": "https://localhost:8080/"
        }
      },
      "execution_count": 41,
      "outputs": [
        {
          "output_type": "stream",
          "name": "stdout",
          "text": [
            "10000 loops, best of 5: 26.1 µs per loop\n"
          ]
        }
      ]
    },
    {
      "cell_type": "code",
      "execution_count": 38,
      "metadata": {
        "id": "yLV1O-c4E6Vp",
        "outputId": "bfe6ae03-3ec7-4103-c468-cf08216d94bb",
        "colab": {
          "base_uri": "https://localhost:8080/"
        }
      },
      "outputs": [
        {
          "output_type": "stream",
          "name": "stdout",
          "text": [
            "1\n",
            "1\n",
            "2\n",
            "3\n",
            "5\n",
            "8\n",
            "13\n",
            "21\n",
            "34\n",
            "55\n",
            "89\n"
          ]
        }
      ],
      "source": [
        "for n in range(0,10+1):\n",
        "    print(fib_it(n))"
      ]
    },
    {
      "cell_type": "code",
      "execution_count": null,
      "metadata": {
        "id": "DQMtfDnoE6Vq",
        "outputId": "7d5fb1a1-f002-4ccd-c495-90fd29721630"
      },
      "outputs": [
        {
          "data": {
            "text/plain": [
              "(8, 13)"
            ]
          },
          "execution_count": 22,
          "metadata": {},
          "output_type": "execute_result"
        }
      ],
      "source": [
        "fib_it(5),fib_it(6)"
      ]
    },
    {
      "cell_type": "code",
      "execution_count": null,
      "metadata": {
        "id": "OJAMTwK8E6Vq",
        "outputId": "b42d272f-1cf8-408a-e6b3-b7895c956363"
      },
      "outputs": [
        {
          "data": {
            "text/plain": [
              "(14930352, 24157817)"
            ]
          },
          "execution_count": 23,
          "metadata": {},
          "output_type": "execute_result"
        }
      ],
      "source": [
        "fib_it(35),fib_it(36)"
      ]
    },
    {
      "cell_type": "code",
      "execution_count": null,
      "metadata": {
        "id": "Y-kzVM2qE6Vq",
        "outputId": "4b719e83-713c-4957-bed9-50d3def95179"
      },
      "outputs": [
        {
          "name": "stdout",
          "output_type": "stream",
          "text": [
            "15.1 µs ± 160 ns per loop (mean ± std. dev. of 7 runs, 100000 loops each)\n"
          ]
        }
      ],
      "source": [
        "%%timeit\n",
        "fib_it(35)"
      ]
    },
    {
      "cell_type": "code",
      "execution_count": null,
      "metadata": {
        "id": "y4wSQvsZE6Vq"
      },
      "outputs": [],
      "source": [
        "# so one way we could improve is that we do not need to store all this knowledge about previous solutions, \n",
        "# (unless we were building a table of ALL solutions)"
      ]
    },
    {
      "cell_type": "code",
      "execution_count": 42,
      "metadata": {
        "id": "okMgP0wXE6Vq"
      },
      "outputs": [],
      "source": [
        "# so we only need to store 2 values, but this would be improving constant and solving our space complexity\n",
        "# instead of needing O(n) to store our fib(n), we just need O(1) - since we are onl storing two values\n",
        "def fib_v2(n):\n",
        "    prev, cur = 1, 1\n",
        "    if n <= 1:\n",
        "        return prev\n",
        "    ndx = 2\n",
        "    while ndx <= n:\n",
        "        prev, cur = cur, prev+cur # python makes it easy to assign 2 values at once with tuple unpacking, right side eval first\n",
        "        # if your language does not support it you can simply use a third temp variable \n",
        "        ndx += 1\n",
        "    return cur"
      ]
    },
    {
      "cell_type": "code",
      "execution_count": 43,
      "metadata": {
        "id": "evs_wBulE6Vq",
        "outputId": "bdb3429e-999a-479a-a0a7-95ed7b313809",
        "colab": {
          "base_uri": "https://localhost:8080/"
        }
      },
      "outputs": [
        {
          "output_type": "execute_result",
          "data": {
            "text/plain": [
              "(8, 13)"
            ]
          },
          "metadata": {},
          "execution_count": 43
        }
      ],
      "source": [
        "fib_v2(5),fib_v2(6)"
      ]
    },
    {
      "cell_type": "code",
      "execution_count": 44,
      "metadata": {
        "id": "_9IRI-X6E6Vr",
        "outputId": "7cacc68d-4d23-43c6-c149-070316014375",
        "colab": {
          "base_uri": "https://localhost:8080/"
        }
      },
      "outputs": [
        {
          "output_type": "execute_result",
          "data": {
            "text/plain": [
              "14930352"
            ]
          },
          "metadata": {},
          "execution_count": 44
        }
      ],
      "source": [
        "fib_v2(35)"
      ]
    },
    {
      "cell_type": "code",
      "execution_count": 45,
      "metadata": {
        "id": "iGStUFCtE6Vr",
        "outputId": "019da6fe-237e-4b96-da99-a6c1c496b9fe",
        "colab": {
          "base_uri": "https://localhost:8080/"
        }
      },
      "outputs": [
        {
          "output_type": "stream",
          "name": "stdout",
          "text": [
            "100000 loops, best of 5: 11.5 µs per loop\n"
          ]
        }
      ],
      "source": [
        "%%timeit\n",
        "fib_v2(100)"
      ]
    },
    {
      "cell_type": "markdown",
      "metadata": {
        "id": "CMdl2byYE6Vr"
      },
      "source": [
        "# Pascal's triangle\n",
        "![Triangle](https://upload.wikimedia.org/wikipedia/commons/0/0d/PascalTriangleAnimated2.gif)"
      ]
    },
    {
      "cell_type": "markdown",
      "metadata": {
        "id": "2AR6ExgbE6Vr"
      },
      "source": [
        "The combinatorial\n",
        "meaning of C(n,k) is the number of k-sized subsets you can get from a set of size n."
      ]
    },
    {
      "cell_type": "markdown",
      "metadata": {
        "id": "90UKr7_hE6Vr"
      },
      "source": [
        "In mathematics, a combination is a selection of items from a collection, such that the order of selection does not matter (unlike permutations). https://en.wikipedia.org/wiki/Combination"
      ]
    },
    {
      "cell_type": "code",
      "execution_count": 46,
      "metadata": {
        "id": "KqlWiaj2E6Vr"
      },
      "outputs": [],
      "source": [
        "# this is horrible again we have 2 recursive calls for each call\n",
        "def C(n,k):\n",
        "    if k == 0: return 1\n",
        "    if n == 0: return 0\n",
        "    return C(n-1,k-1) + C(n-1,k)"
      ]
    },
    {
      "cell_type": "code",
      "source": [
        "C(2,0),C(2,1),C(2,2)"
      ],
      "metadata": {
        "id": "6fTEMT6yQcA3",
        "outputId": "ad10d7ff-550b-4dff-b77f-23b9011101a5",
        "colab": {
          "base_uri": "https://localhost:8080/"
        }
      },
      "execution_count": 48,
      "outputs": [
        {
          "output_type": "execute_result",
          "data": {
            "text/plain": [
              "(1, 2, 1)"
            ]
          },
          "metadata": {},
          "execution_count": 48
        }
      ]
    },
    {
      "cell_type": "code",
      "execution_count": 47,
      "metadata": {
        "id": "4K2Y7E6nE6Vr",
        "outputId": "ba2ed3ca-f69d-4aef-f7cf-63dcca81fbd6",
        "colab": {
          "base_uri": "https://localhost:8080/"
        }
      },
      "outputs": [
        {
          "output_type": "execute_result",
          "data": {
            "text/plain": [
              "(1, 3, 3, 1)"
            ]
          },
          "metadata": {},
          "execution_count": 47
        }
      ],
      "source": [
        "C(3,0),C(3,1),C(3,2),C(3,3)"
      ]
    },
    {
      "cell_type": "code",
      "execution_count": 49,
      "metadata": {
        "id": "kHYtq81HE6Vs",
        "outputId": "861e2e60-73dd-4b54-80c7-26a5998c337c",
        "colab": {
          "base_uri": "https://localhost:8080/"
        }
      },
      "outputs": [
        {
          "output_type": "execute_result",
          "data": {
            "text/plain": [
              "(1, 4, 6, 4, 1)"
            ]
          },
          "metadata": {},
          "execution_count": 49
        }
      ],
      "source": [
        "C(4,0),C(4,1),C(4,2),C(4,3),C(4,4)"
      ]
    },
    {
      "cell_type": "code",
      "execution_count": 50,
      "metadata": {
        "id": "7SQQ4kfGE6Vs",
        "outputId": "732e1706-c85e-406a-d16d-59c35f95aa07",
        "colab": {
          "base_uri": "https://localhost:8080/"
        }
      },
      "outputs": [
        {
          "output_type": "execute_result",
          "data": {
            "text/plain": [
              "20"
            ]
          },
          "metadata": {},
          "execution_count": 50
        }
      ],
      "source": [
        "C(6,3)"
      ]
    },
    {
      "cell_type": "code",
      "execution_count": 51,
      "metadata": {
        "id": "NF2yHuv-E6Vs",
        "outputId": "f5956a27-4038-4c0f-baad-e3af70724f85",
        "colab": {
          "base_uri": "https://localhost:8080/"
        }
      },
      "outputs": [
        {
          "output_type": "execute_result",
          "data": {
            "text/plain": [
              "125970"
            ]
          },
          "metadata": {},
          "execution_count": 51
        }
      ],
      "source": [
        "C(20,12)"
      ]
    },
    {
      "cell_type": "code",
      "source": [
        "%%timeit\n",
        "C(20,12)"
      ],
      "metadata": {
        "id": "2rVq_bG5Q3cL",
        "outputId": "b103380f-3398-42f9-c179-88e4730f34d8",
        "colab": {
          "base_uri": "https://localhost:8080/"
        }
      },
      "execution_count": 52,
      "outputs": [
        {
          "output_type": "stream",
          "name": "stdout",
          "text": [
            "1 loop, best of 5: 350 ms per loop\n"
          ]
        }
      ]
    },
    {
      "cell_type": "code",
      "execution_count": 53,
      "metadata": {
        "id": "2TZ1CrVjE6Vs"
      },
      "outputs": [],
      "source": [
        "import functools"
      ]
    },
    {
      "cell_type": "code",
      "execution_count": 54,
      "metadata": {
        "id": "m0dYahENE6Vs"
      },
      "outputs": [],
      "source": [
        "@functools.lru_cache(maxsize=None)\n",
        "def C_mem(n,k):\n",
        "    if k == 0: return 1\n",
        "    if n == 0: return 0\n",
        "    return C_mem(n-1,k-1) + C_mem(n-1,k)"
      ]
    },
    {
      "cell_type": "code",
      "execution_count": 55,
      "metadata": {
        "id": "Ep7vHpLUE6Vs",
        "outputId": "7be9eb3a-dd6f-4491-999d-b2d1ef243750",
        "colab": {
          "base_uri": "https://localhost:8080/"
        }
      },
      "outputs": [
        {
          "output_type": "execute_result",
          "data": {
            "text/plain": [
              "125970"
            ]
          },
          "metadata": {},
          "execution_count": 55
        }
      ],
      "source": [
        "C_mem(20,12)"
      ]
    },
    {
      "cell_type": "code",
      "execution_count": 57,
      "metadata": {
        "id": "mX7jfFTFE6Vt",
        "outputId": "3fcd14e8-771e-4d81-e7a6-8c44349d5e5d",
        "colab": {
          "base_uri": "https://localhost:8080/"
        }
      },
      "outputs": [
        {
          "output_type": "stream",
          "name": "stdout",
          "text": [
            "The slowest run took 21.83 times longer than the fastest. This could mean that an intermediate result is being cached.\n",
            "10000000 loops, best of 5: 138 ns per loop\n"
          ]
        }
      ],
      "source": [
        "%%timeit\n",
        "C_mem(20,12)"
      ]
    },
    {
      "cell_type": "code",
      "source": [
        "@functools.cache\n",
        "def C_cache(n,k):\n",
        "    if k == 0: return 1\n",
        "    if n == 0: return 0\n",
        "    return C_mem(n-1,k-1) + C_mem(n-1,k)"
      ],
      "metadata": {
        "id": "oILURzHrRCgB",
        "outputId": "42a82b6a-72fa-4003-941b-c3d50123f566",
        "colab": {
          "base_uri": "https://localhost:8080/",
          "height": 238
        }
      },
      "execution_count": 58,
      "outputs": [
        {
          "output_type": "error",
          "ename": "AttributeError",
          "evalue": "ignored",
          "traceback": [
            "\u001b[0;31m---------------------------------------------------------------------------\u001b[0m",
            "\u001b[0;31mAttributeError\u001b[0m                            Traceback (most recent call last)",
            "\u001b[0;32m<ipython-input-58-e59329317011>\u001b[0m in \u001b[0;36m<module>\u001b[0;34m()\u001b[0m\n\u001b[0;32m----> 1\u001b[0;31m \u001b[0;34m@\u001b[0m\u001b[0mfunctools\u001b[0m\u001b[0;34m.\u001b[0m\u001b[0mcache\u001b[0m\u001b[0;34m\u001b[0m\u001b[0;34m\u001b[0m\u001b[0m\n\u001b[0m\u001b[1;32m      2\u001b[0m \u001b[0;32mdef\u001b[0m \u001b[0mC_cache\u001b[0m\u001b[0;34m(\u001b[0m\u001b[0mn\u001b[0m\u001b[0;34m,\u001b[0m\u001b[0mk\u001b[0m\u001b[0;34m)\u001b[0m\u001b[0;34m:\u001b[0m\u001b[0;34m\u001b[0m\u001b[0;34m\u001b[0m\u001b[0m\n\u001b[1;32m      3\u001b[0m     \u001b[0;32mif\u001b[0m \u001b[0mk\u001b[0m \u001b[0;34m==\u001b[0m \u001b[0;36m0\u001b[0m\u001b[0;34m:\u001b[0m \u001b[0;32mreturn\u001b[0m \u001b[0;36m1\u001b[0m\u001b[0;34m\u001b[0m\u001b[0;34m\u001b[0m\u001b[0m\n\u001b[1;32m      4\u001b[0m     \u001b[0;32mif\u001b[0m \u001b[0mn\u001b[0m \u001b[0;34m==\u001b[0m \u001b[0;36m0\u001b[0m\u001b[0;34m:\u001b[0m \u001b[0;32mreturn\u001b[0m \u001b[0;36m0\u001b[0m\u001b[0;34m\u001b[0m\u001b[0;34m\u001b[0m\u001b[0m\n\u001b[1;32m      5\u001b[0m     \u001b[0;32mreturn\u001b[0m \u001b[0mC_mem\u001b[0m\u001b[0;34m(\u001b[0m\u001b[0mn\u001b[0m\u001b[0;34m-\u001b[0m\u001b[0;36m1\u001b[0m\u001b[0;34m,\u001b[0m\u001b[0mk\u001b[0m\u001b[0;34m-\u001b[0m\u001b[0;36m1\u001b[0m\u001b[0;34m)\u001b[0m \u001b[0;34m+\u001b[0m \u001b[0mC_mem\u001b[0m\u001b[0;34m(\u001b[0m\u001b[0mn\u001b[0m\u001b[0;34m-\u001b[0m\u001b[0;36m1\u001b[0m\u001b[0;34m,\u001b[0m\u001b[0mk\u001b[0m\u001b[0;34m)\u001b[0m\u001b[0;34m\u001b[0m\u001b[0;34m\u001b[0m\u001b[0m\n",
            "\u001b[0;31mAttributeError\u001b[0m: module 'functools' has no attribute 'cache'"
          ]
        }
      ]
    },
    {
      "cell_type": "code",
      "source": [
        "!python --version  # so have to wait for Google to upgrade Python to 3.9, but of course you can try at home on your own computer "
      ],
      "metadata": {
        "id": "pvhuiNFKRjcG",
        "outputId": "bd99aaed-8f7a-4b50-856d-e297d204b112",
        "colab": {
          "base_uri": "https://localhost:8080/"
        }
      },
      "execution_count": 59,
      "outputs": [
        {
          "output_type": "stream",
          "name": "stdout",
          "text": [
            "Python 3.7.12\n"
          ]
        }
      ]
    },
    {
      "cell_type": "code",
      "execution_count": 60,
      "metadata": {
        "id": "9EodFSFvE6Vs",
        "outputId": "1e348a12-fb0c-4edd-ab39-b4ae1a8c464b",
        "colab": {
          "base_uri": "https://localhost:8080/"
        }
      },
      "outputs": [
        {
          "output_type": "execute_result",
          "data": {
            "text/plain": [
              "4426165368"
            ]
          },
          "metadata": {},
          "execution_count": 60
        }
      ],
      "source": [
        "C_mem(64,8) # so BRUTE FORCE for 8-queens problem would require checking this many"
      ]
    },
    {
      "cell_type": "code",
      "execution_count": null,
      "metadata": {
        "id": "OBn3uGHhE6Vt",
        "outputId": "caaf52f5-ea4c-4359-9c5c-f432d7585b41"
      },
      "outputs": [
        {
          "data": {
            "text/plain": [
              "4294967296"
            ]
          },
          "execution_count": 7,
          "metadata": {},
          "output_type": "execute_result"
        }
      ],
      "source": [
        "2**32"
      ]
    },
    {
      "cell_type": "code",
      "execution_count": null,
      "metadata": {
        "id": "TuK0WFtVE6Vt",
        "outputId": "11e92bd7-d81c-41ee-dd37-e694eec41bd5"
      },
      "outputs": [
        {
          "name": "stdout",
          "output_type": "stream",
          "text": [
            "203 ns ± 30 ns per loop (mean ± std. dev. of 7 runs, 1000000 loops each)\n"
          ]
        }
      ],
      "source": [
        "%%timeit\n",
        "C_mem(20,12)"
      ]
    },
    {
      "cell_type": "markdown",
      "metadata": {
        "id": "txUq8Ik5E6Vt"
      },
      "source": [
        "So 3 Million times faster\n",
        "And it will only get worse with larger n and k values\n"
      ]
    },
    {
      "cell_type": "code",
      "execution_count": 61,
      "metadata": {
        "id": "fay8GdXTE6Vt",
        "outputId": "297df8e9-ef0c-4a1e-e40d-1b43c606e845",
        "colab": {
          "base_uri": "https://localhost:8080/"
        }
      },
      "outputs": [
        {
          "output_type": "execute_result",
          "data": {
            "text/plain": [
              "646646"
            ]
          },
          "metadata": {},
          "execution_count": 61
        }
      ],
      "source": [
        "C(22,10)  # keeps getting slower"
      ]
    },
    {
      "cell_type": "code",
      "execution_count": 62,
      "metadata": {
        "id": "rJWU5PHVE6Vt",
        "outputId": "e1260f11-bba9-4f96-9d8b-c91db7e49d24",
        "colab": {
          "base_uri": "https://localhost:8080/"
        }
      },
      "outputs": [
        {
          "output_type": "execute_result",
          "data": {
            "text/plain": [
              "5852925"
            ]
          },
          "metadata": {},
          "execution_count": 62
        }
      ],
      "source": [
        "C_mem(30,22)"
      ]
    },
    {
      "cell_type": "code",
      "execution_count": 63,
      "metadata": {
        "id": "as9IJvoRE6Vt",
        "outputId": "9df72185-c621-4af9-d89f-8e68b11301ab",
        "colab": {
          "base_uri": "https://localhost:8080/"
        }
      },
      "outputs": [
        {
          "output_type": "execute_result",
          "data": {
            "text/plain": [
              "46437038934385738875060685074580974915827322393712987687159475139635977046776280972687848152763132582010929859049061968000"
            ]
          },
          "metadata": {},
          "execution_count": 63
        }
      ],
      "source": [
        "C_mem(500,127)"
      ]
    },
    {
      "cell_type": "code",
      "execution_count": 64,
      "metadata": {
        "id": "ymxWm6qAE6Vt",
        "outputId": "fd90aef9-3a25-4930-c9f3-8e107a97146a",
        "colab": {
          "base_uri": "https://localhost:8080/"
        }
      },
      "outputs": [
        {
          "output_type": "execute_result",
          "data": {
            "text/plain": [
              "537425311263286649045728031247848043926269386315713439394349281522386287881044189299660257402655939762820833577618210552868619936076461996950343651583167622419765426925933775006289767911413157852444651898746557509579506062674421789656825030627507059629199364370311140152613280678386654811275586813136941829060081126272639830187540208190808703691937737524007173610897100607592784614616627680955021048820164545102485799315069769979712239992887424317738387672000"
            ]
          },
          "metadata": {},
          "execution_count": 64
        }
      ],
      "source": [
        "C_mem(2000,1555) # so we calculated how many different ways we can pick 1555 items out of set of 2000 items"
      ]
    },
    {
      "cell_type": "code",
      "source": [
        "C_mem(49,6)"
      ],
      "metadata": {
        "id": "Qjf0JzfnSH0D",
        "outputId": "da660e2e-469a-452a-c8ae-f992846166da",
        "colab": {
          "base_uri": "https://localhost:8080/"
        }
      },
      "execution_count": 65,
      "outputs": [
        {
          "output_type": "execute_result",
          "data": {
            "text/plain": [
              "13983816"
            ]
          },
          "metadata": {},
          "execution_count": 65
        }
      ]
    },
    {
      "cell_type": "code",
      "source": [
        "C_mem(55,7)  # so our odds in lotteries are not so great..."
      ],
      "metadata": {
        "id": "eXf1nB3TSLCp",
        "outputId": "8a34f1da-41fe-4230-b0b1-a9d4da3979cd",
        "colab": {
          "base_uri": "https://localhost:8080/"
        }
      },
      "execution_count": 66,
      "outputs": [
        {
          "output_type": "execute_result",
          "data": {
            "text/plain": [
              "202927725"
            ]
          },
          "metadata": {},
          "execution_count": 66
        }
      ]
    },
    {
      "cell_type": "markdown",
      "metadata": {
        "id": "jsDs1fpWE6Vu"
      },
      "source": [
        "You may at times want to rewrite your code to make it iterative. This\n",
        "can make it faster, and you avoid exhausting the stack if the recursion depth gets excessive. There’s another reason, too:\n",
        "The iterative versions are often based on a specially constructed cache, rather than the generic “dict keyed by parameter\n",
        "tuples” used in my @memo. \n",
        "\n",
        "This means that you can sometimes use more efficient structures, such as the multidimensional\n",
        "arrays of NumPy (this is a C type array dense and efficient), or even just nested lists. \n",
        "\n",
        "This custom cache design\n",
        "makes it possible to do use DP in more low-level languages(ahem C, C++), where general, abstract solutions such as our @memo decorator\n",
        "are often not feasible.\n",
        "\n",
        "Note that even though these two techniques often go hand in hand, you are certainly free to use an\n",
        "iterative solution with a more generic cache or a recursive one with a tailored structure for your subproblem solutions.\n",
        "\n",
        "Let’s reverse our algorithm, filling out Pascal’s triangle directly. "
      ]
    },
    {
      "cell_type": "code",
      "execution_count": 67,
      "metadata": {
        "id": "Y8UK4bDVE6Vu"
      },
      "outputs": [],
      "source": [
        "from collections import defaultdict  # we could use a regular dict , just less work with defaultdict\n",
        "# in your language check what collections are available, C#, Java have very nice collections libraries\n",
        "# careful with C++ collections, check complexity on some of them, it might not be O(1) - map for one (which turns out to be ordered)\n",
        "# you'd need to look up documentation for that particular structure - so in C++ you might need to use unordered map"
      ]
    },
    {
      "cell_type": "code",
      "execution_count": 68,
      "metadata": {
        "id": "lx96Rw9rE6Vu"
      },
      "outputs": [],
      "source": [
        "def pascal_up(n,k):\n",
        "#     Cit = defaultdict(int)\n",
        "    Cit = {} # turns out going to plain dictionary did not help at all, slow down by 10%\n",
        "    for row in range(n+1):\n",
        "        Cit[row,0] = 1 #\n",
        "        for col in range(1,k+1): # looking like O(n*k) space and time complexity here right?\n",
        "            Cit[row,col] = Cit.get((row-1,col-1),0) + Cit.get((row-1,col),0)\n",
        "    return Cit[n,k]"
      ]
    },
    {
      "cell_type": "code",
      "execution_count": 69,
      "metadata": {
        "id": "Swg-S9F6E6Vu",
        "outputId": "2e72a8f3-721b-4143-ba72-3b323c10fd38",
        "colab": {
          "base_uri": "https://localhost:8080/"
        }
      },
      "outputs": [
        {
          "output_type": "execute_result",
          "data": {
            "text/plain": [
              "125970"
            ]
          },
          "metadata": {},
          "execution_count": 69
        }
      ],
      "source": [
        "pascal_up(20,12)"
      ]
    },
    {
      "cell_type": "code",
      "execution_count": 70,
      "metadata": {
        "id": "gR0lfNF1E6Vu",
        "outputId": "5e68a1a8-2181-4ebb-9c16-0cfd3e0fcf61",
        "colab": {
          "base_uri": "https://localhost:8080/"
        }
      },
      "outputs": [
        {
          "output_type": "stream",
          "name": "stdout",
          "text": [
            "10000 loops, best of 5: 148 µs per loop\n"
          ]
        }
      ],
      "source": [
        "%%timeit\n",
        "pascal_up(20,12)"
      ]
    },
    {
      "cell_type": "code",
      "execution_count": 71,
      "metadata": {
        "id": "OP3_1IVhE6Vu",
        "outputId": "738cb729-ca22-40e2-8f37-0885ddc6fbed",
        "colab": {
          "base_uri": "https://localhost:8080/"
        }
      },
      "outputs": [
        {
          "output_type": "stream",
          "name": "stdout",
          "text": [
            "10000 loops, best of 5: 148 µs per loop\n"
          ]
        }
      ],
      "source": [
        "%%timeit\n",
        "pascal_up(20,12)"
      ]
    },
    {
      "cell_type": "code",
      "execution_count": 72,
      "metadata": {
        "id": "skHTVZ6VE6Vu",
        "outputId": "67cb6a03-497d-45c3-e4d3-93bd59fe840c",
        "colab": {
          "base_uri": "https://localhost:8080/"
        }
      },
      "outputs": [
        {
          "output_type": "execute_result",
          "data": {
            "text/plain": [
              "1647278652451762678788128833110870712983038446517480945400"
            ]
          },
          "metadata": {},
          "execution_count": 72
        }
      ],
      "source": [
        "pascal_up(200,120)"
      ]
    },
    {
      "cell_type": "code",
      "execution_count": 73,
      "metadata": {
        "id": "r_NGKFz6E6Vv",
        "outputId": "069e3989-e570-479c-ed1f-0fe67f52c164",
        "colab": {
          "base_uri": "https://localhost:8080/"
        }
      },
      "outputs": [
        {
          "output_type": "execute_result",
          "data": {
            "text/plain": [
              "1647278652451762678788128833110870712983038446517480945400"
            ]
          },
          "metadata": {},
          "execution_count": 73
        }
      ],
      "source": [
        "C_mem(200,120)"
      ]
    },
    {
      "cell_type": "code",
      "execution_count": 74,
      "metadata": {
        "id": "lML1sdhaE6Vv",
        "outputId": "1ee155fe-f0ab-4040-91b4-06c07bfa3d49",
        "colab": {
          "base_uri": "https://localhost:8080/"
        }
      },
      "outputs": [
        {
          "output_type": "execute_result",
          "data": {
            "text/plain": [
              "59109593628908414948382028796066195825322294401884421608567282370732677108447726193711784730302760990299603214712874545403948907216441186822204871444990120418511945136706510520055755556735802821658571978418751352273298267569828345746978809441973750241286775122448947529540564006233186974990594534845090378195822798749749716850238790136589693799060708520531078121496569151588079913232831392320592160010660575061801016625866394043795717433667107028907325906172066327055484845091441072359350112683890957329354388664535777738465246096416216139097702868890896959249389851651200"
            ]
          },
          "metadata": {},
          "execution_count": 74
        }
      ],
      "source": [
        "pascal_up(2000,1255)"
      ]
    },
    {
      "cell_type": "code",
      "execution_count": 75,
      "metadata": {
        "id": "HghPbqwDE6Vv",
        "outputId": "50df60d7-5533-4a22-edc9-334e29e9f1f7",
        "colab": {
          "base_uri": "https://localhost:8080/"
        }
      },
      "outputs": [
        {
          "output_type": "execute_result",
          "data": {
            "text/plain": [
              "59109593628908414948382028796066195825322294401884421608567282370732677108447726193711784730302760990299603214712874545403948907216441186822204871444990120418511945136706510520055755556735802821658571978418751352273298267569828345746978809441973750241286775122448947529540564006233186974990594534845090378195822798749749716850238790136589693799060708520531078121496569151588079913232831392320592160010660575061801016625866394043795717433667107028907325906172066327055484845091441072359350112683890957329354388664535777738465246096416216139097702868890896959249389851651200"
            ]
          },
          "metadata": {},
          "execution_count": 75
        }
      ],
      "source": [
        "C_mem(2000,1255) # so we see the need for iterative version - other way would be to allow tail call optimization in functional languages"
      ]
    },
    {
      "cell_type": "code",
      "execution_count": null,
      "metadata": {
        "id": "qZwjcwp1E6Vv"
      },
      "outputs": [],
      "source": [
        "# so we could futher save memory for our pascal_up by only saving the needed information meaning we only need the previous row"
      ]
    },
    {
      "cell_type": "markdown",
      "metadata": {
        "id": "sJZ7T2S4E6Vv"
      },
      "source": [
        "# Difference between TOP-DOWN (with memoization) and BOTTOM-UP (with filling up DP table)"
      ]
    },
    {
      "cell_type": "markdown",
      "metadata": {
        "id": "owaZ3qQjE6Vv"
      },
      "source": [
        "Basically the same thing is going on. The main difference is that we need to figure out which cells in the cache\n",
        "need to be filled out, and we need to find a safe order to do it in so that when we’re about to calculate C[row,col], the\n",
        "cells C[row-1,col-1] and C[row-1,col] are already calculated. With the memoized function, we needn’t worry about\n",
        "either issue: It will calculate whatever it needs recursively."
      ]
    },
    {
      "cell_type": "code",
      "execution_count": null,
      "metadata": {
        "id": "3CYUYrbVE6Vv"
      },
      "outputs": [],
      "source": [
        "## Back to LIS"
      ]
    },
    {
      "cell_type": "code",
      "execution_count": 76,
      "metadata": {
        "id": "0yytK5wtE6Vw"
      },
      "outputs": [],
      "source": [
        "# so recursive memoized solution - TOP/DOWN\n",
        "def rec_lis(seq): # Longest increasing subseq.\n",
        "    @functools.lru_cache(maxsize=None)\n",
        "    def L(cur): # Longest ending at seq[cur]\n",
        "        res = 1 # Length is at least 1 - because well because one number is always going to be a solution to non empty list\n",
        "        # so for example reversely sorted list would have a solution 1 - because the numbers are going down\n",
        "        for pre in range(cur): # Potential predecessors\n",
        "            if seq[pre] <= seq[cur]: # A valid (smaller) predec.\n",
        "                res = max(res, 1 + L(pre)) # Can we improve the solution?\n",
        "        return res\n",
        "    return max(L(i) for i in range(len(seq))) # The longest of them all"
      ]
    },
    {
      "cell_type": "code",
      "execution_count": 77,
      "metadata": {
        "id": "BQPJ4iwqE6Vw",
        "outputId": "f4df6f49-4147-4f78-b418-1a24bc8527af",
        "colab": {
          "base_uri": "https://localhost:8080/"
        }
      },
      "outputs": [
        {
          "output_type": "execute_result",
          "data": {
            "text/plain": [
              "3"
            ]
          },
          "metadata": {},
          "execution_count": 77
        }
      ],
      "source": [
        "rec_lis([3,1,0,2,4])"
      ]
    },
    {
      "cell_type": "code",
      "source": [
        "rec_lis([3,1,0,2,4,7,-6,9])  # so 5 should be answer here"
      ],
      "metadata": {
        "id": "CtUpotvQVP1O",
        "outputId": "4c5fcfdc-8af9-4fbf-f752-3bcfa0b9a2b0",
        "colab": {
          "base_uri": "https://localhost:8080/"
        }
      },
      "execution_count": 79,
      "outputs": [
        {
          "output_type": "execute_result",
          "data": {
            "text/plain": [
              "5"
            ]
          },
          "metadata": {},
          "execution_count": 79
        }
      ]
    },
    {
      "cell_type": "code",
      "execution_count": null,
      "metadata": {
        "id": "6cAdtPoFE6Vw"
      },
      "outputs": [],
      "source": [
        "# so recursive memoized solution - TOP/DOWN\n",
        "# TODO add sequence passing\n",
        "def rec_lis_full(seq): # Longest increasing subseq.\n",
        "    @functools.lru_cache(maxsize=None)\n",
        "    def L(cur): # Longest ending at seq[cur]\n",
        "        res = 1 # Length is at least 1\n",
        "        for pre in range(cur): # Potential predecessors\n",
        "            if seq[pre] <= seq[cur]: # A valid (smaller) predec.\n",
        "                res = max(res, 1 + L(pre)) # Can we improve the solution?\n",
        "        return res\n",
        "    return max(L(i) for i in range(len(seq))) # The longest of them all"
      ]
    },
    {
      "cell_type": "code",
      "execution_count": 80,
      "metadata": {
        "id": "22aVVrNlE6Vw"
      },
      "outputs": [],
      "source": [
        "# tabulated solution\n",
        "def basic_lis(seq):\n",
        "    L = [1] * len(seq)\n",
        "    for cur, val in enumerate(seq):\n",
        "        for pre in range(cur):\n",
        "            if seq[pre] <= val:\n",
        "                L[cur] = max(L[cur], 1 + L[pre])\n",
        "    return max(L)"
      ]
    },
    {
      "cell_type": "code",
      "execution_count": null,
      "metadata": {
        "id": "31FLwbqBE6Vw"
      },
      "outputs": [],
      "source": [
        "# TODO add iterative sequence passing "
      ]
    },
    {
      "cell_type": "code",
      "execution_count": 81,
      "metadata": {
        "id": "j_bkXMVbE6Vw",
        "outputId": "9d326e8a-8835-4897-ac9c-0581b5e75234",
        "colab": {
          "base_uri": "https://localhost:8080/"
        }
      },
      "outputs": [
        {
          "output_type": "execute_result",
          "data": {
            "text/plain": [
              "3"
            ]
          },
          "metadata": {},
          "execution_count": 81
        }
      ],
      "source": [
        "basic_lis([3,1,2,0,4])"
      ]
    },
    {
      "cell_type": "code",
      "source": [
        "basic_lis([3,1,0,2,4,7,-6,9]) "
      ],
      "metadata": {
        "id": "x2RFNwZiV2RU",
        "outputId": "093974d8-900a-4341-9fa6-8d8fda8d8bf2",
        "colab": {
          "base_uri": "https://localhost:8080/"
        }
      },
      "execution_count": 82,
      "outputs": [
        {
          "output_type": "execute_result",
          "data": {
            "text/plain": [
              "5"
            ]
          },
          "metadata": {},
          "execution_count": 82
        }
      ]
    },
    {
      "cell_type": "code",
      "execution_count": 84,
      "metadata": {
        "id": "hWAX7ICPE6Vw",
        "outputId": "db0c79b2-a308-4804-8a0a-f78bc4f7c6d5",
        "colab": {
          "base_uri": "https://localhost:8080/"
        }
      },
      "outputs": [
        {
          "output_type": "stream",
          "name": "stdout",
          "text": [
            "100 V\n",
            "101 a\n",
            "102 l\n",
            "103 d\n",
            "104 i\n",
            "105 s\n"
          ]
        }
      ],
      "source": [
        "for i,n in enumerate(\"Valdis\",start=100):  # just a Pythonic way of adding index to sequences\n",
        "    print(i,n)"
      ]
    },
    {
      "cell_type": "code",
      "execution_count": null,
      "metadata": {
        "id": "1WAsZp0GE6Vx",
        "outputId": "3017c987-579f-46e9-b14d-230f40d39d75"
      },
      "outputs": [
        {
          "data": {
            "text/plain": [
              "5"
            ]
          },
          "execution_count": 61,
          "metadata": {},
          "output_type": "execute_result"
        }
      ],
      "source": [
        "basic_lis([3,1,0,2,4,7,9,6])"
      ]
    },
    {
      "cell_type": "code",
      "source": [
        "# so basic_lis is tabulating and using two nested loops - thus O(n^2) (again not all nested loops will be n^2 but most are)\n",
        "# can we do better for this increasing subsequence length"
      ],
      "metadata": {
        "id": "tDDag4_8WH_z"
      },
      "execution_count": null,
      "outputs": []
    },
    {
      "cell_type": "markdown",
      "metadata": {
        "id": "IlMrFt8IE6Vx"
      },
      "source": [
        "A crucial insight is that if more than one predecessor terminate subsequences of length m, it doesn’t matter which\n",
        "one of them we use—they’ll all give us an optimal answer. Say, we want to keep only one of them around; which one\n",
        "should we keep? The only safe choice would be to keep the smallest of them, because that wouldn’t wrongly preclude\n",
        "any later elements from building on it. So let’s say, inductively, that at a certain point we have a sequence end of\n",
        "endpoints, where end[idx] is the smallest among the endpoints we’ve seen for increasing subsequences of length idx+1\n",
        "(we’re indexing from 0). Because we’re iterating over the sequence, these will all have occurred earlier than our current\n",
        "value, val. All we need now is an inductive step for extending end, finding out how to add val to it. If we can do that, at\n",
        "the end of the algorithm len(end) will give us the final answer—the length of the longest increasing subsequence."
      ]
    },
    {
      "cell_type": "markdown",
      "metadata": {
        "id": "n37dP2YUE6Vx"
      },
      "source": [
        "This devilishly clever little algorithm was first was first described by Michael L. Fredman in 1975\n",
        "\n",
        "## Optimal Longest Increasing Subsequence\n",
        "https://www.sciencedirect.com/science/article/pii/0012365X7590103X"
      ]
    },
    {
      "cell_type": "code",
      "execution_count": null,
      "metadata": {
        "id": "gxt6q5PjE6Vx"
      },
      "outputs": [],
      "source": [
        "# https://docs.python.org/3/library/bisect.html - basically we use binary search to find insertion points \n",
        "from bisect import bisect  # provides support for maintaining a list in sorted order without having to sort the list after each insertion. \n",
        "def lis(seq): # Longest increasing subseq.\n",
        "    end = [] # End-values for all lengths\n",
        "    for val in seq: # Try every value, in order\n",
        "        idx = bisect(end, val) # Can we build on an end val?\n",
        "        if idx == len(end): \n",
        "            end.append(val) # Longest seq. extended\n",
        "        else: \n",
        "            end[idx] = val # Prev. endpoint reduced\n",
        "    return len(end) # The longest we found"
      ]
    },
    {
      "cell_type": "code",
      "execution_count": null,
      "metadata": {
        "id": "cF9YeUTpE6Vx",
        "outputId": "aec2101e-1183-4156-d22d-6e37a4d6f62e"
      },
      "outputs": [
        {
          "data": {
            "text/plain": [
              "5"
            ]
          },
          "execution_count": 69,
          "metadata": {},
          "output_type": "execute_result"
        }
      ],
      "source": [
        "lis([3,1,0,2,4,7,9,6])"
      ]
    },
    {
      "cell_type": "code",
      "source": [
        "## So Top-Down\n",
        "* Create a recursive solution\n",
        "* memoize it - (cache it!)\n",
        "\n",
        "## Bottom-Up\n",
        "* figure out a way of storing previous results\n",
        "* tabulate(calculate) up\n",
        "* you might not need to store the full table maybe just previous row - can save space\n"
      ],
      "metadata": {
        "id": "t202qHPwXxbK"
      },
      "execution_count": null,
      "outputs": []
    }
  ],
  "metadata": {
    "kernelspec": {
      "display_name": "Python 3",
      "language": "python",
      "name": "python3"
    },
    "language_info": {
      "codemirror_mode": {
        "name": "ipython",
        "version": 3
      },
      "file_extension": ".py",
      "mimetype": "text/x-python",
      "name": "python",
      "nbconvert_exporter": "python",
      "pygments_lexer": "ipython3",
      "version": "3.8.3"
    },
    "colab": {
      "name": "Dynamic Programming.ipynb",
      "provenance": []
    }
  },
  "nbformat": 4,
  "nbformat_minor": 0
}