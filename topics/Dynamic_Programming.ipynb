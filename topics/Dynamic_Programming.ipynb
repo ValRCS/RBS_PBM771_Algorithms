{
  "cells": [
    {
      "cell_type": "markdown",
      "metadata": {
        "id": "WP_4lhEPE6VX"
      },
      "source": [
        "# Dynamic Programming\n",
        "\n",
        "adopted from: https://www.amazon.com/Python-Algorithms-Mastering-Basic-Language/dp/148420056X\n",
        "\n",
        "Python Algorithms: Mastering Basic Algorithms in the Python Language"
      ]
    },
    {
      "cell_type": "markdown",
      "metadata": {
        "id": "1Q35vmYLE6Vb"
      },
      "source": [
        "![Bellman](https://upload.wikimedia.org/wikipedia/en/7/7a/Richard_Ernest_Bellman.jpg)\n",
        "\n",
        "https://en.wikipedia.org/wiki/Richard_E._Bellman"
      ]
    },
    {
      "cell_type": "markdown",
      "metadata": {
        "id": "DgFO0AYbE6Vb"
      },
      "source": [
        "## Dynamic Programming - not the programming in computer terms!\n",
        "The term dynamic programming (or simply DP) can be a bit confusing to newcomers. Both of the words are\n",
        "used in a different way than most might expect. Programming here refers to making a set of choices (as in “linear\n",
        "programming”) and thus has more in common with the way the term is used in, say, television, than in writing\n",
        "computer programs. Dynamic simply means that things change over time—in this case, that each choice depends\n",
        "on the previous one. In other words, this “dynamicism” has little to do with the program you’ll write and is just a\n",
        "description of the problem class. In Bellman’s own words, “I thought dynamic programming was a good name. It was\n",
        "something not even a Congressman could object to. So I used it as an umbrella for my activities"
      ]
    },
    {
      "cell_type": "markdown",
      "metadata": {
        "id": "nHyDglmXE6Vc"
      },
      "source": [
        "* The core technique of DP -> caching\n",
        "* Decompose your problem recursively/inductively (usual)\n",
        "* allow overlap between the subproblems.\n",
        "* Plain recursive solution xponential number of times -> caching trims away waste\n",
        "* result is usually both an impressively efficient algorithm and a greater insight into the problem.\n",
        "\n",
        "\n",
        "Commonly, DP algorithms turn the recursive formulation upside down, making it iterative and filling out some\n",
        "data structure (such as a multidimensional array) step by step.\n",
        "\n",
        "* Another option well suited to high-level languages such as Python—is to implement the recursive formulation directly but to cache the return\n",
        "values.\n",
        "* If a call is made more than once with the same arguments, the result is simply returned directly from the\n",
        "cache. This is known as **memoization**"
      ]
    },
    {
      "cell_type": "markdown",
      "metadata": {
        "id": "N_LytZk-E6Vd"
      },
      "source": [
        "## Little puzzle: Longest Increasing Subsequence\n",
        "\n",
        "Say you have a sequence of numbers, and you want to find its\n",
        "longest increasing (or, rather nondecreasing) subsequence—or one of them, if there are more. A subsequence consists\n",
        "of a subset of the elements in their original order. So, for example, in the sequence [3, 1, 0, 2, 4], one solution\n",
        "would be [1, 2, 4]."
      ]
    },
    {
      "cell_type": "markdown",
      "metadata": {
        "id": "xunM5tBSGoq9"
      },
      "source": [
        "# Brute force - when in doubt use brute force"
      ]
    },
    {
      "cell_type": "code",
      "execution_count": 1,
      "metadata": {
        "id": "D-PPHZ-zGDgM"
      },
      "outputs": [],
      "source": [
        "from itertools import combinations # from standard library"
      ]
    },
    {
      "cell_type": "code",
      "execution_count": 2,
      "metadata": {
        "colab": {
          "base_uri": "https://localhost:8080/"
        },
        "id": "S5rsatOEGJCv",
        "outputId": "d020cb86-adb5-437e-a450-74d0316354e4"
      },
      "outputs": [
        {
          "output_type": "execute_result",
          "data": {
            "text/plain": [
              "[3, 1, 0, 2, 4]"
            ]
          },
          "metadata": {},
          "execution_count": 2
        }
      ],
      "source": [
        "my_list = [3, 1, 0, 2, 4]\n",
        "my_list"
      ]
    },
    {
      "cell_type": "code",
      "execution_count": 3,
      "metadata": {
        "colab": {
          "base_uri": "https://localhost:8080/"
        },
        "id": "bb6hD7cCGNan",
        "outputId": "778d30e6-9cfa-498a-d76b-a61427d80b26"
      },
      "outputs": [
        {
          "output_type": "execute_result",
          "data": {
            "text/plain": [
              "[(3, 1, 0, 2), (3, 1, 0, 4), (3, 1, 2, 4), (3, 0, 2, 4), (1, 0, 2, 4)]"
            ]
          },
          "metadata": {},
          "execution_count": 3
        }
      ],
      "source": [
        "list(combinations(my_list, 4))"
      ]
    },
    {
      "cell_type": "code",
      "execution_count": 4,
      "metadata": {
        "id": "jLUOErr5q0Ge",
        "outputId": "05fd5393-f636-48a7-80c9-48510b5213a5",
        "colab": {
          "base_uri": "https://localhost:8080/"
        }
      },
      "outputs": [
        {
          "output_type": "execute_result",
          "data": {
            "text/plain": [
              "[(3, 1, 0),\n",
              " (3, 1, 2),\n",
              " (3, 1, 4),\n",
              " (3, 0, 2),\n",
              " (3, 0, 4),\n",
              " (3, 2, 4),\n",
              " (1, 0, 2),\n",
              " (1, 0, 4),\n",
              " (1, 2, 4),\n",
              " (0, 2, 4)]"
            ]
          },
          "metadata": {},
          "execution_count": 4
        }
      ],
      "source": [
        "list(combinations(my_list, 3)) # 5 choose 3 - formula is n! / (k! * (n - k)!)\n",
        "# n is the number of items in the list - 5\n",
        "# k is the number of items in each combination - 3\n",
        "# so here we have 5! / (3! * (5 - 3)!) = 5! / (3! * 2!) = 120 / (6 * 2) = 120 / 12 = 10"
      ]
    },
    {
      "cell_type": "code",
      "execution_count": 5,
      "metadata": {
        "id": "9DnW1Kgxq0Gf",
        "outputId": "97e51f2e-ab79-4cd2-f1ae-36a91ea6e849",
        "colab": {
          "base_uri": "https://localhost:8080/"
        }
      },
      "outputs": [
        {
          "output_type": "execute_result",
          "data": {
            "text/plain": [
              "[(3, 1),\n",
              " (3, 0),\n",
              " (3, 2),\n",
              " (3, 4),\n",
              " (1, 0),\n",
              " (1, 2),\n",
              " (1, 4),\n",
              " (0, 2),\n",
              " (0, 4),\n",
              " (2, 4)]"
            ]
          },
          "metadata": {},
          "execution_count": 5
        }
      ],
      "source": [
        "list(combinations(my_list, 2))"
      ]
    },
    {
      "cell_type": "code",
      "execution_count": 6,
      "metadata": {
        "id": "d-HVR045q0Gf",
        "outputId": "9357bbdb-807a-4d40-c7e5-1ecb674f0211",
        "colab": {
          "base_uri": "https://localhost:8080/"
        }
      },
      "outputs": [
        {
          "output_type": "execute_result",
          "data": {
            "text/plain": [
              "[(3,), (1,), (0,), (2,), (4,)]"
            ]
          },
          "metadata": {},
          "execution_count": 6
        }
      ],
      "source": [
        "list(combinations(my_list, 1))\n",
        "# gives us a list of single item tuples"
      ]
    },
    {
      "cell_type": "markdown",
      "source": [
        "## Naive solution to longest non-decreasing subsequence"
      ],
      "metadata": {
        "id": "3epv5vThrcP7"
      }
    },
    {
      "cell_type": "code",
      "execution_count": 7,
      "metadata": {
        "id": "1gzLkFkHE6Vd"
      },
      "outputs": [],
      "source": [
        "\n",
        "def naive_list(seq):\n",
        "    for length in range(len(seq), 0, -1): # n, n-1, ... , 1 # worse case for decreasing range would be 1 item as a solution\n",
        "        for sub in combinations(seq, length): # Subsequences of given length\n",
        "            if list(sub) == sorted(sub): # An increasing subsequence? sorted one would be same with the original one # FIXME could rewrite this in linear time\n",
        "                # possible we could cache the sorted version of the subsequence\n",
        "                return sub # Return it! We return the first solution"
      ]
    },
    {
      "cell_type": "code",
      "execution_count": 8,
      "metadata": {
        "colab": {
          "base_uri": "https://localhost:8080/"
        },
        "id": "Z9-20xdBE6Ve",
        "outputId": "ac433f91-7a1d-4ab0-9f65-6918f6ca0534"
      },
      "outputs": [
        {
          "output_type": "execute_result",
          "data": {
            "text/plain": [
              "(1, 2, 4)"
            ]
          },
          "metadata": {},
          "execution_count": 8
        }
      ],
      "source": [
        "naive_list([3,1,0,2,4])"
      ]
    },
    {
      "cell_type": "code",
      "source": [
        "naive_list([3,1,1,6,1,6,1,672332,5,2,3,6,2,7,8,93,5,5])"
      ],
      "metadata": {
        "id": "37AMCilhsDGe",
        "outputId": "f8ea1364-afa6-45ca-acf5-65a5e6a47178",
        "colab": {
          "base_uri": "https://localhost:8080/"
        }
      },
      "execution_count": 9,
      "outputs": [
        {
          "output_type": "execute_result",
          "data": {
            "text/plain": [
              "(1, 1, 1, 1, 2, 3, 6, 7, 8, 93)"
            ]
          },
          "metadata": {},
          "execution_count": 9
        }
      ]
    },
    {
      "cell_type": "code",
      "execution_count": null,
      "metadata": {
        "colab": {
          "base_uri": "https://localhost:8080/"
        },
        "id": "QopIZ4_xGdET",
        "outputId": "421809ff-e574-4f08-9c18-3acc6b32a2d2"
      },
      "outputs": [
        {
          "data": {
            "text/plain": [
              "[(3, 1, 0),\n",
              " (3, 1, 2),\n",
              " (3, 1, 4),\n",
              " (3, 0, 2),\n",
              " (3, 0, 4),\n",
              " (3, 2, 4),\n",
              " (1, 0, 2),\n",
              " (1, 0, 4),\n",
              " (1, 2, 4),\n",
              " (0, 2, 4)]"
            ]
          },
          "execution_count": 8,
          "metadata": {},
          "output_type": "execute_result"
        }
      ],
      "source": [
        "# i started with 5 then 4 then checked 3 number combination\n",
        "list(combinations(my_list, 3))"
      ]
    },
    {
      "cell_type": "code",
      "execution_count": null,
      "metadata": {
        "colab": {
          "base_uri": "https://localhost:8080/"
        },
        "id": "hvkZV9ATE6Vg",
        "outputId": "44862231-c11f-4d45-80c5-1d8a1f00eda2"
      },
      "outputs": [
        {
          "data": {
            "text/plain": [
              "(0, 2, 3, 4, 6)"
            ]
          },
          "execution_count": 12,
          "metadata": {},
          "output_type": "execute_result"
        }
      ],
      "source": [
        "naive_list([5,0,2,1,6,3,7,4,6])"
      ]
    },
    {
      "cell_type": "code",
      "execution_count": null,
      "metadata": {
        "id": "rFwKUQT6GkHO"
      },
      "outputs": [],
      "source": [
        "# This works (on smaller sequences at least)\n",
        "\n"
      ]
    },
    {
      "cell_type": "code",
      "execution_count": 11,
      "metadata": {
        "id": "TwI6rosjHr7v",
        "outputId": "42d39cd8-4897-462d-c650-569044ffb86f",
        "colab": {
          "base_uri": "https://localhost:8080/"
        }
      },
      "outputs": [
        {
          "output_type": "execute_result",
          "data": {
            "text/plain": [
              "[72, 11, 83, 62, 23, 68, 1, 48, 49, 73]"
            ]
          },
          "metadata": {},
          "execution_count": 11
        }
      ],
      "source": [
        "import random\n",
        "random.seed(2025) # Set the seed so we all get the same pseudo-\"random\" results\n",
        "r10 = [random.randint(1,100) for _ in range(10)]\n",
        "r20 = [random.randint(1,100) for _ in range(20)]\n",
        "r25 = [random.randint(1,100) for _ in range(25)]\n",
        "r100 = [random.randint(1,1000) for _ in range(100)]\n",
        "r1k = [random.randint(1,10_000) for _ in range(1000)]\n",
        "r10"
      ]
    },
    {
      "cell_type": "code",
      "execution_count": 12,
      "metadata": {
        "colab": {
          "base_uri": "https://localhost:8080/"
        },
        "id": "a02-vEMsIjDE",
        "outputId": "e95ad82a-7ce6-4e03-a228-ca05a202937a"
      },
      "outputs": [
        {
          "output_type": "execute_result",
          "data": {
            "text/plain": [
              "(11, 23, 48, 49, 73)"
            ]
          },
          "metadata": {},
          "execution_count": 12
        }
      ],
      "source": [
        "naive_list(r10)"
      ]
    },
    {
      "cell_type": "code",
      "execution_count": 13,
      "metadata": {
        "colab": {
          "base_uri": "https://localhost:8080/"
        },
        "id": "X-mcEBf8IA7E",
        "outputId": "5794a9cb-3981-421c-b665-ba43287c945c"
      },
      "outputs": [
        {
          "output_type": "stream",
          "name": "stdout",
          "text": [
            "249 µs ± 8.01 µs per loop (mean ± std. dev. of 7 runs, 1000 loops each)\n"
          ]
        }
      ],
      "source": [
        "%%timeit\n",
        "naive_list(r10)"
      ]
    },
    {
      "cell_type": "code",
      "execution_count": null,
      "metadata": {
        "colab": {
          "base_uri": "https://localhost:8080/"
        },
        "id": "Cm1fa0MXIqQ5",
        "outputId": "21943a4e-7f2b-4af5-9052-aff00ad1806f"
      },
      "outputs": [
        {
          "output_type": "execute_result",
          "data": {
            "text/plain": [
              "(34, 46, 54, 68, 79, 91, 94)"
            ]
          },
          "metadata": {},
          "execution_count": 13
        }
      ],
      "source": [
        "naive_list(r20)"
      ]
    },
    {
      "cell_type": "code",
      "execution_count": 14,
      "metadata": {
        "colab": {
          "base_uri": "https://localhost:8080/"
        },
        "id": "EtqW37roIoNV",
        "outputId": "6a7b0b4f-4bc7-4c8a-be9e-2645662ba815"
      },
      "outputs": [
        {
          "output_type": "stream",
          "name": "stdout",
          "text": [
            "432 ms ± 13.1 ms per loop (mean ± std. dev. of 7 runs, 1 loop each)\n"
          ]
        }
      ],
      "source": [
        "%%timeit\n",
        "naive_list(r20)"
      ]
    },
    {
      "cell_type": "code",
      "execution_count": 15,
      "metadata": {
        "colab": {
          "base_uri": "https://localhost:8080/"
        },
        "id": "6RzVfqsSJEJz",
        "outputId": "d8107130-286d-4606-9c51-abb75a92dd24"
      },
      "outputs": [
        {
          "output_type": "execute_result",
          "data": {
            "text/plain": [
              "(25, 30, 51, 59, 67, 77, 78)"
            ]
          },
          "metadata": {},
          "execution_count": 15
        }
      ],
      "source": [
        "%timeit\n",
        "naive_list(r25)"
      ]
    },
    {
      "cell_type": "code",
      "execution_count": null,
      "metadata": {
        "id": "uaSPoi8YE6Vg"
      },
      "outputs": [],
      "source": [
        "# how about complexity?\n",
        "# Two nested loops -> n^2 ?\n",
        "# Hint combinations is not O(1).... so it is at least O(n^2) but more likely O(n^3) or worse\n",
        "# since we have factorials involved it could even be factorial\n",
        "# the rapid growth from\n",
        "# r10 to r20 to r25 going from 250microseconds to 450miliseconds to 20 secons for 25 items indicates factorial or possibly expontial growth\n"
      ]
    },
    {
      "cell_type": "markdown",
      "metadata": {
        "id": "BdEFV89sq0Gi"
      },
      "source": [
        "## Fibonacci numbers"
      ]
    },
    {
      "cell_type": "code",
      "execution_count": 16,
      "metadata": {
        "id": "zkJRpCMhE6Vh"
      },
      "outputs": [],
      "source": [
        "## Fibonacci\n",
        "def fib(i): # finding i-th member in our Fibonacci chain 1,1,2,3,5,8,13,21,34,55,89\n",
        "    if i < 2:\n",
        "        return 1\n",
        "    else:\n",
        "        return fib(i-1) + fib(i-2) # we have two recursive calls, but our problem space is not going down by half"
      ]
    },
    {
      "cell_type": "code",
      "execution_count": 17,
      "metadata": {
        "colab": {
          "base_uri": "https://localhost:8080/"
        },
        "id": "Ol8nzEjlHCKL",
        "outputId": "a1fe48af-9760-48d2-d94f-bf6880e1c338"
      },
      "outputs": [
        {
          "output_type": "execute_result",
          "data": {
            "text/plain": [
              "(1, 1, 2, 3, 5, 8)"
            ]
          },
          "metadata": {},
          "execution_count": 17
        }
      ],
      "source": [
        "fib(0),fib(1),fib(2),fib(3),fib(4),fib(5)"
      ]
    },
    {
      "cell_type": "code",
      "execution_count": null,
      "metadata": {
        "colab": {
          "base_uri": "https://localhost:8080/"
        },
        "id": "ivl5fsG-E6Vh",
        "outputId": "29f572e8-e267-4446-f120-497084c00cd7"
      },
      "outputs": [
        {
          "output_type": "execute_result",
          "data": {
            "text/plain": [
              "8"
            ]
          },
          "metadata": {},
          "execution_count": 18
        }
      ],
      "source": [
        "fib(5)"
      ]
    },
    {
      "cell_type": "code",
      "execution_count": null,
      "metadata": {
        "colab": {
          "base_uri": "https://localhost:8080/"
        },
        "id": "GqrmNF7bE6Vi",
        "outputId": "8c557b2d-cee5-4653-9fd2-96f189a569bc"
      },
      "outputs": [
        {
          "output_type": "execute_result",
          "data": {
            "text/plain": [
              "89"
            ]
          },
          "metadata": {},
          "execution_count": 19
        }
      ],
      "source": [
        "fib(10)"
      ]
    },
    {
      "cell_type": "code",
      "execution_count": 18,
      "metadata": {
        "colab": {
          "base_uri": "https://localhost:8080/"
        },
        "id": "DrqbFRJPE6Vi",
        "outputId": "e8ebee08-bad5-452f-cd54-6851a3211919"
      },
      "outputs": [
        {
          "output_type": "stream",
          "name": "stdout",
          "text": [
            "1 1 1.0\n",
            "2 1 2.0\n",
            "3 2 1.5\n",
            "5 3 1.66667\n",
            "8 5 1.6\n",
            "13 8 1.625\n",
            "21 13 1.61538\n",
            "34 21 1.61905\n",
            "55 34 1.61765\n",
            "89 55 1.61818\n",
            "144 89 1.61798\n",
            "233 144 1.61806\n",
            "377 233 1.61803\n",
            "610 377 1.61804\n"
          ]
        }
      ],
      "source": [
        "# sidenote: Fibonaccy ratios approach golden mean - so called phi\n",
        "\n",
        "for n in range(1,15):\n",
        "    print(fib(n), fib(n-1), round(fib(n)/fib(n-1),5))"
      ]
    },
    {
      "cell_type": "markdown",
      "metadata": {
        "id": "VXDrc0YVE6Vj"
      },
      "source": [
        "![Fib Spiral](https://upload.wikimedia.org/wikipedia/commons/thumb/9/93/Fibonacci_spiral_34.svg/500px-Fibonacci_spiral_34.svg.png)"
      ]
    },
    {
      "cell_type": "markdown",
      "metadata": {
        "id": "kqfqC7YnE6Vj"
      },
      "source": [
        "https://en.wikipedia.org/wiki/Golden_ratio"
      ]
    },
    {
      "cell_type": "code",
      "execution_count": 19,
      "metadata": {
        "colab": {
          "base_uri": "https://localhost:8080/"
        },
        "id": "AndoTITxE6Vj",
        "outputId": "f4ceff2b-8616-4f8b-c845-c9809c7824df"
      },
      "outputs": [
        {
          "output_type": "execute_result",
          "data": {
            "text/plain": [
              "1346269"
            ]
          },
          "metadata": {},
          "execution_count": 19
        }
      ],
      "source": [
        "# so far so good?\n",
        "fib(30)"
      ]
    },
    {
      "cell_type": "code",
      "execution_count": 20,
      "metadata": {
        "colab": {
          "base_uri": "https://localhost:8080/"
        },
        "id": "MHq9gpm0Hkik",
        "outputId": "8e74f2f9-2ec0-4c70-f737-40dab317f539"
      },
      "outputs": [
        {
          "output_type": "execute_result",
          "data": {
            "text/plain": [
              "14930352"
            ]
          },
          "metadata": {},
          "execution_count": 20
        }
      ],
      "source": [
        "fib(35)"
      ]
    },
    {
      "cell_type": "code",
      "execution_count": null,
      "metadata": {
        "colab": {
          "base_uri": "https://localhost:8080/"
        },
        "id": "B0Uv-ha6HrBT",
        "outputId": "7f18fae2-e886-46c6-a9d2-3948837e6454"
      },
      "outputs": [
        {
          "output_type": "execute_result",
          "data": {
            "text/plain": [
              "24157817"
            ]
          },
          "metadata": {},
          "execution_count": 23
        }
      ],
      "source": [
        "fib(36)"
      ]
    },
    {
      "cell_type": "markdown",
      "metadata": {
        "id": "gaNsl4ooE6Vj"
      },
      "source": [
        "#https://stackoverflow.com/questions/35959100/explanation-on-fibonacci-recursion\n",
        "![FibTree](https://i.stack.imgur.com/QVSdv.png)"
      ]
    },
    {
      "cell_type": "code",
      "execution_count": 21,
      "metadata": {
        "id": "gh9G9pDBE6Vk"
      },
      "outputs": [],
      "source": [
        "from functools import wraps\n",
        "# memo is a function that takes a function as argument and returns a wrapped version of this function with caching\n",
        "def memo(func):\n",
        "    cache = {} # Stored subproblem solutions, this dictionary - Hashmap type\n",
        "    @wraps(func) # Make wrap look like func\n",
        "    def wrap(*args): # The memoized wrapper\n",
        "        if args not in cache: # Not already computed? O(1) lookup\n",
        "            cache[args] = func(*args) # Compute & cache the solution O(1) to store - of func itself will have some cost\n",
        "        return cache[args] # Return the cached solution - return again is O(1)\n",
        "    return wrap # Return the wrapper\n",
        "# PS Python actually has memoization library as well - we are learning here"
      ]
    },
    {
      "cell_type": "code",
      "execution_count": 22,
      "metadata": {
        "id": "j9WGS7jsE6Vk"
      },
      "outputs": [],
      "source": [
        "fib_memo = memo(fib) #functions are first class citizens in Python\n"
      ]
    },
    {
      "cell_type": "code",
      "execution_count": 23,
      "metadata": {
        "colab": {
          "base_uri": "https://localhost:8080/"
        },
        "id": "ft1J8tgME6Vk",
        "outputId": "a234ade3-5924-4e48-faba-cb999ec28f62"
      },
      "outputs": [
        {
          "output_type": "execute_result",
          "data": {
            "text/plain": [
              "1346269"
            ]
          },
          "metadata": {},
          "execution_count": 23
        }
      ],
      "source": [
        "fib_memo(30)"
      ]
    },
    {
      "cell_type": "code",
      "execution_count": 24,
      "metadata": {
        "colab": {
          "base_uri": "https://localhost:8080/"
        },
        "id": "JU7lUnoeKqYi",
        "outputId": "97342f3f-526f-41ba-d929-09b27aaadf3c"
      },
      "outputs": [
        {
          "output_type": "execute_result",
          "data": {
            "text/plain": [
              "9227465"
            ]
          },
          "metadata": {},
          "execution_count": 24
        }
      ],
      "source": [
        "fib_memo(34)"
      ]
    },
    {
      "cell_type": "code",
      "execution_count": 25,
      "metadata": {
        "id": "-4SzYromq0Gp",
        "outputId": "f50c9c96-5d07-4ba8-d78d-4656057854e4",
        "colab": {
          "base_uri": "https://localhost:8080/"
        }
      },
      "outputs": [
        {
          "output_type": "execute_result",
          "data": {
            "text/plain": [
              "14930352"
            ]
          },
          "metadata": {},
          "execution_count": 25
        }
      ],
      "source": [
        "fib_memo(35)"
      ]
    },
    {
      "cell_type": "code",
      "execution_count": null,
      "metadata": {
        "colab": {
          "base_uri": "https://localhost:8080/"
        },
        "id": "o9fuyP39E6Vl",
        "outputId": "619ac08c-3600-4202-da63-4b9bcac97576"
      },
      "outputs": [
        {
          "name": "stdout",
          "output_type": "stream",
          "text": [
            "1 loop, best of 5: 4.08 s per loop\n"
          ]
        }
      ],
      "source": [
        "%%timeit\n",
        "fib(35)"
      ]
    },
    {
      "cell_type": "code",
      "execution_count": 27,
      "metadata": {
        "id": "WLYRbw4-E6Vl"
      },
      "outputs": [],
      "source": [
        "@memo # this is a decorator - meaning we wrap our fib_m function in memo function\n",
        "def fib_m(i):\n",
        "    if i < 2:\n",
        "        return 1\n",
        "    else:\n",
        "        return fib_m(i-1) + fib_m(i-2)"
      ]
    },
    {
      "cell_type": "code",
      "execution_count": 28,
      "metadata": {
        "colab": {
          "base_uri": "https://localhost:8080/"
        },
        "id": "Nz46YPZGE6Vl",
        "outputId": "d939a07e-41a0-4445-9627-e4472a15b241"
      },
      "outputs": [
        {
          "output_type": "stream",
          "name": "stdout",
          "text": [
            "195 ns ± 38.7 ns per loop (mean ± std. dev. of 7 runs, 10000000 loops each)\n"
          ]
        }
      ],
      "source": [
        "%%timeit\n",
        "fib_m(35)"
      ]
    },
    {
      "cell_type": "code",
      "execution_count": 29,
      "metadata": {
        "colab": {
          "base_uri": "https://localhost:8080/"
        },
        "id": "g43ffT2WK5mE",
        "outputId": "13b02128-4f57-425b-f411-48af479d752a"
      },
      "outputs": [
        {
          "output_type": "stream",
          "name": "stdout",
          "text": [
            "210 ns ± 53 ns per loop (mean ± std. dev. of 7 runs, 10000000 loops each)\n"
          ]
        }
      ],
      "source": [
        "%%timeit\n",
        "fib_m(38)"
      ]
    },
    {
      "cell_type": "code",
      "execution_count": null,
      "metadata": {
        "colab": {
          "base_uri": "https://localhost:8080/"
        },
        "id": "varRk-TpLG-0",
        "outputId": "280f7a96-69b9-460e-ba6a-ae1bf93d4d11"
      },
      "outputs": [
        {
          "output_type": "stream",
          "name": "stdout",
          "text": [
            "271 ns ± 78.9 ns per loop (mean ± std. dev. of 7 runs, 1000000 loops each)\n"
          ]
        }
      ],
      "source": [
        "%%timeit\n",
        "fib_m(45)"
      ]
    },
    {
      "cell_type": "code",
      "execution_count": null,
      "metadata": {
        "id": "nO5JzuRPE6Vl"
      },
      "outputs": [],
      "source": []
    },
    {
      "cell_type": "code",
      "execution_count": null,
      "metadata": {
        "colab": {
          "base_uri": "https://localhost:8080/"
        },
        "id": "NCImh-7GE6Vm",
        "outputId": "7280effb-d544-47ad-d844-52325aea7671"
      },
      "outputs": [
        {
          "data": {
            "text/plain": [
              "24157817"
            ]
          },
          "execution_count": 23,
          "metadata": {},
          "output_type": "execute_result"
        }
      ],
      "source": [
        "fib_m(36) # well the book implemention does not quite work, it is not caching properly"
      ]
    },
    {
      "cell_type": "code",
      "execution_count": null,
      "metadata": {
        "colab": {
          "base_uri": "https://localhost:8080/"
        },
        "id": "--c7uK81E6Vm",
        "outputId": "6bcce2d6-a615-4b1f-fcdf-444b2bfdf34e"
      },
      "outputs": [
        {
          "data": {
            "text/plain": [
              "165580141"
            ]
          },
          "execution_count": 24,
          "metadata": {},
          "output_type": "execute_result"
        }
      ],
      "source": [
        "fib_m(40)"
      ]
    },
    {
      "cell_type": "code",
      "execution_count": null,
      "metadata": {
        "colab": {
          "base_uri": "https://localhost:8080/"
        },
        "id": "jR0QrUAiE6Vm",
        "outputId": "6733edce-5591-4e33-8b3b-001c77868b01"
      },
      "outputs": [
        {
          "data": {
            "text/plain": [
              "2504730781961"
            ]
          },
          "execution_count": 25,
          "metadata": {},
          "output_type": "execute_result"
        }
      ],
      "source": [
        "fib_m(60)"
      ]
    },
    {
      "cell_type": "code",
      "execution_count": null,
      "metadata": {
        "colab": {
          "base_uri": "https://localhost:8080/"
        },
        "id": "wm6eXes3E6Vm",
        "outputId": "b3505237-5f75-45cf-8aae-a204b1d90f50"
      },
      "outputs": [
        {
          "output_type": "execute_result",
          "data": {
            "text/plain": [
              "453973694165307953197296969697410619233826"
            ]
          },
          "metadata": {},
          "execution_count": 36
        }
      ],
      "source": [
        "fib_m(200)"
      ]
    },
    {
      "cell_type": "code",
      "execution_count": 30,
      "metadata": {
        "colab": {
          "base_uri": "https://localhost:8080/"
        },
        "id": "jd8vClkwLa3r",
        "outputId": "834b37b7-c14a-417e-d05b-e8b3d788e0af"
      },
      "outputs": [
        {
          "output_type": "execute_result",
          "data": {
            "text/plain": [
              "1000"
            ]
          },
          "metadata": {},
          "execution_count": 30
        }
      ],
      "source": [
        "import sys\n",
        "sys.getrecursionlimit()"
      ]
    },
    {
      "cell_type": "code",
      "execution_count": null,
      "metadata": {
        "colab": {
          "base_uri": "https://localhost:8080/"
        },
        "id": "fQw7FaH0E6Vn",
        "outputId": "6371f318-d2cf-4d60-f960-ee390850b0ab"
      },
      "outputs": [
        {
          "output_type": "execute_result",
          "data": {
            "text/plain": [
              "178684461669052552311410692812805706249615844217278044703496837914086683543763273909969771627106004287604844670397177991379601"
            ]
          },
          "metadata": {},
          "execution_count": 38
        }
      ],
      "source": [
        "fib_m(600) # on Google Colab stack size is limited to 1k by defaulb"
      ]
    },
    {
      "cell_type": "code",
      "execution_count": 31,
      "metadata": {
        "id": "9k29aWklKCJb"
      },
      "outputs": [],
      "source": [
        "import sys\n",
        "sys.setrecursionlimit(10_000)"
      ]
    },
    {
      "cell_type": "code",
      "execution_count": null,
      "metadata": {
        "colab": {
          "base_uri": "https://localhost:8080/"
        },
        "id": "7Phhhrn6E6Vn",
        "outputId": "0d5b7546-49cc-48a2-a9dd-a6033a8d2c56"
      },
      "outputs": [
        {
          "output_type": "execute_result",
          "data": {
            "text/plain": [
              "6835702259575806647045396549170580107055408029365524565407553367798082454408054014954534318953113802726603726769523447478238192192714526677939943338306101405105414819705664090901813637296453767095528104868264704914433529355579148731044685634135487735897954629842516947101494253575869699893400976539545740214819819151952085089538422954565146720383752121972115725761141759114990448978941370030912401573418221496592822626"
            ]
          },
          "metadata": {},
          "execution_count": 40
        }
      ],
      "source": [
        "fib_m(2000)\n",
        "# sadly memoization will not solved stack overflow problem"
      ]
    },
    {
      "cell_type": "code",
      "execution_count": null,
      "metadata": {
        "colab": {
          "base_uri": "https://localhost:8080/"
        },
        "id": "1sudl6SYE6Vn",
        "outputId": "988b5bb1-3cef-4920-858f-6a611047cfd3"
      },
      "outputs": [
        {
          "output_type": "execute_result",
          "data": {
            "text/plain": [
              "6276302800488957086035253108349684055478528702736457439025824448927937256811663264475883711527806250329984690249846819800648580083040107584710332687596562185073640422286799239932615797105974710857095487342820351307477141875012176874307156016229965832589137779724973854362777629878229505500260477136108363709090010421536915488632339240756987974122598603591920306874926755600361865354330444681915154695741851960071089944015319300128574107662757054790648152751366475529121877212785489665101733755898580317984402963873738187000120737824193162011399200547424034440836239726275765901190914513013217132050988064832024783370583789324109052449717186857327239783000020791777804503930439875068662687670678802914269784817022567088069496231111407908953313902398529655056082228598715882365779469902465675715699187225655878240668599547496218159297881601061923195562143932693324644219266564617042934227893371179832389642895285401263875342640468017378925921483580111278055044254198382265567395946431803304304326865077742925818757370691726168228648841319231470626"
            ]
          },
          "metadata": {},
          "execution_count": 41
        }
      ],
      "source": [
        "fib_m(5000)\n",
        "# sadly memoization will not help us with stack overflow , a good way to force kernel restart :)"
      ]
    },
    {
      "cell_type": "markdown",
      "source": [
        "## Using builtin Python builtin functools for memoization\n",
        "\n",
        "Python standard library includes built in caching for functions from functools module."
      ],
      "metadata": {
        "id": "Py4dupBlt2ZW"
      }
    },
    {
      "cell_type": "code",
      "execution_count": 32,
      "metadata": {
        "id": "Gg81YxScE6Vn"
      },
      "outputs": [],
      "source": [
        "import functools\n",
        "# https://stackoverflow.com/questions/1988804/what-is-memoization-and-how-can-i-use-it-in-python\n",
        "@functools.lru_cache(maxsize=None) #by default only 128 latest so by setting it to None I cache everything - this is a decorator\n",
        "def fib(num):\n",
        "    if num < 2:\n",
        "        return num\n",
        "    else:\n",
        "        return fib(num-1) + fib(num-2)\n",
        "# in 3.9 Python there is a newer @functools.cache - similar idea"
      ]
    },
    {
      "cell_type": "code",
      "execution_count": 33,
      "metadata": {
        "colab": {
          "base_uri": "https://localhost:8080/"
        },
        "id": "Zmfn99TsE6Vn",
        "outputId": "5d77cc29-f215-41b3-f120-45022cef031a"
      },
      "outputs": [
        {
          "output_type": "execute_result",
          "data": {
            "text/plain": [
              "9227465"
            ]
          },
          "metadata": {},
          "execution_count": 33
        }
      ],
      "source": [
        "fib(35)"
      ]
    },
    {
      "cell_type": "code",
      "execution_count": 34,
      "metadata": {
        "colab": {
          "base_uri": "https://localhost:8080/"
        },
        "id": "CJM44ffOE6Vn",
        "outputId": "885ca096-4c94-4fd9-a494-a9adba5b44f4"
      },
      "outputs": [
        {
          "output_type": "stream",
          "name": "stdout",
          "text": [
            "73.6 ns ± 1.04 ns per loop (mean ± std. dev. of 7 runs, 10000000 loops each)\n"
          ]
        }
      ],
      "source": [
        "%%timeit\n",
        "fib(35)"
      ]
    },
    {
      "cell_type": "code",
      "execution_count": 35,
      "metadata": {
        "colab": {
          "base_uri": "https://localhost:8080/"
        },
        "id": "HrrY4tyTL-EA",
        "outputId": "7f6ae482-1d68-45eb-9810-bd3befd79e6b"
      },
      "outputs": [
        {
          "output_type": "stream",
          "name": "stdout",
          "text": [
            "73.5 ns ± 1.26 ns per loop (mean ± std. dev. of 7 runs, 10000000 loops each)\n"
          ]
        }
      ],
      "source": [
        "%%timeit\n",
        "fib(45)"
      ]
    },
    {
      "cell_type": "code",
      "execution_count": 36,
      "metadata": {
        "colab": {
          "base_uri": "https://localhost:8080/"
        },
        "id": "YNQQZQrdKl7c",
        "outputId": "5b2a2e30-df4c-4370-a521-bba62852281c"
      },
      "outputs": [
        {
          "output_type": "stream",
          "name": "stdout",
          "text": [
            "75.7 ns ± 0.949 ns per loop (mean ± std. dev. of 7 runs, 10000000 loops each)\n"
          ]
        }
      ],
      "source": [
        "%%timeit\n",
        "fib(100)"
      ]
    },
    {
      "cell_type": "code",
      "source": [
        "fib(100)"
      ],
      "metadata": {
        "colab": {
          "base_uri": "https://localhost:8080/"
        },
        "id": "MVzH9oKMu1mh",
        "outputId": "2ca4e7bc-5afd-4280-b37e-a8b457a419e6"
      },
      "execution_count": 37,
      "outputs": [
        {
          "output_type": "execute_result",
          "data": {
            "text/plain": [
              "354224848179261915075"
            ]
          },
          "metadata": {},
          "execution_count": 37
        }
      ]
    },
    {
      "cell_type": "code",
      "execution_count": 38,
      "metadata": {
        "colab": {
          "base_uri": "https://localhost:8080/"
        },
        "id": "3BBdXcLtKtJl",
        "outputId": "c6716c1b-e346-43df-c9aa-ea71a8569810"
      },
      "outputs": [
        {
          "output_type": "stream",
          "name": "stdout",
          "text": [
            "198 ns ± 45.4 ns per loop (mean ± std. dev. of 7 runs, 10000000 loops each)\n"
          ]
        }
      ],
      "source": [
        "%%timeit\n",
        "fib_m(100)  # so my memoization solution is about 2.5x slower than library solution but both are extremely fast"
      ]
    },
    {
      "cell_type": "code",
      "execution_count": null,
      "metadata": {
        "id": "hXzXT0LJE6Vo"
      },
      "outputs": [],
      "source": [
        "# so official caching version is 3 times faster than our self-made version, factor of 3 is not a dealbreak but nice to know"
      ]
    },
    {
      "cell_type": "code",
      "execution_count": null,
      "metadata": {
        "id": "3F-YesuFE6Vo",
        "outputId": "c6c7f4d8-fae2-465b-fbd2-3cb2fc4a2020"
      },
      "outputs": [
        {
          "data": {
            "text/plain": [
              "102334155"
            ]
          },
          "execution_count": 4,
          "metadata": {},
          "output_type": "execute_result"
        }
      ],
      "source": [
        "fib(40)"
      ]
    },
    {
      "cell_type": "code",
      "execution_count": null,
      "metadata": {
        "id": "AfiykkfqE6Vo",
        "outputId": "3817bde4-67de-4f6c-9810-4788eff86724"
      },
      "outputs": [
        {
          "data": {
            "text/plain": [
              "354224848179261915075"
            ]
          },
          "execution_count": 5,
          "metadata": {},
          "output_type": "execute_result"
        }
      ],
      "source": [
        "fib(100)"
      ]
    },
    {
      "cell_type": "code",
      "execution_count": null,
      "metadata": {
        "id": "tboJ30OtE6Vo",
        "outputId": "697811b5-6cdd-4265-d363-f07fa205a616"
      },
      "outputs": [
        {
          "data": {
            "text/plain": [
              "280571172992510140037611932413038677189525"
            ]
          },
          "execution_count": 42,
          "metadata": {},
          "output_type": "execute_result"
        }
      ],
      "source": [
        "fib(200)"
      ]
    },
    {
      "cell_type": "code",
      "execution_count": null,
      "metadata": {
        "id": "LYc5pkzmE6Vo",
        "outputId": "84ae1933-a933-4717-c5c2-1bb23ee8d3e6",
        "colab": {
          "base_uri": "https://localhost:8080/"
        }
      },
      "outputs": [
        {
          "output_type": "execute_result",
          "data": {
            "text/plain": [
              "27269884455406270157991615313642198705000779992917725821180502894974726476373026809482509284562310031170172380127627214493597616743856443016039972205847405917634660750474914561879656763268658528092195715626073248224067794253809132219056382939163918400"
            ]
          },
          "metadata": {},
          "execution_count": 48
        }
      ],
      "source": [
        "fib(1200)"
      ]
    },
    {
      "cell_type": "code",
      "execution_count": null,
      "metadata": {
        "id": "7eZNnn_tE6Vo",
        "outputId": "4c0ca5a1-f534-4a69-b231-a5ac027356b8",
        "colab": {
          "base_uri": "https://localhost:8080/"
        }
      },
      "outputs": [
        {
          "output_type": "execute_result",
          "data": {
            "text/plain": [
              "4224696333392304878706725602341482782579852840250681098010280137314308584370130707224123599639141511088446087538909603607640194711643596029271983312598737326253555802606991585915229492453904998722256795316982874482472992263901833716778060607011615497886719879858311468870876264597369086722884023654422295243347964480139515349562972087652656069529806499841977448720155612802665404554171717881930324025204312082516817125"
            ]
          },
          "metadata": {},
          "execution_count": 49
        }
      ],
      "source": [
        "fib(2000)"
      ]
    },
    {
      "cell_type": "code",
      "execution_count": null,
      "metadata": {
        "id": "qQfhLNVJE6Vp",
        "outputId": "f1ef2e18-ac77-45c2-8c66-3d807c186b8b"
      },
      "outputs": [
        {
          "data": {
            "text/plain": [
              "410615886307971260333568378719267105220125108637369252408885430926905584274113403731330491660850044560830036835706942274588569362145476502674373045446852160486606292497360503469773453733196887405847255290082049086907512622059054542195889758031109222670849274793859539133318371244795543147611073276240066737934085191731810993201706776838934766764778739502174470268627820918553842225858306408301661862900358266857238210235802504351951472997919676524004784236376453347268364152648346245840573214241419937917242918602639810097866942392015404620153818671425739835074851396421139982713640679581178458198658692285968043243656709796000"
            ]
          },
          "execution_count": 9,
          "metadata": {},
          "output_type": "execute_result"
        }
      ],
      "source": [
        "fib(3000)"
      ]
    },
    {
      "cell_type": "code",
      "execution_count": null,
      "metadata": {
        "id": "D54KnoiQE6Vp",
        "outputId": "b3945b75-239a-4c0b-95a9-66ce2e074303",
        "colab": {
          "base_uri": "https://localhost:8080/"
        }
      },
      "outputs": [
        {
          "output_type": "execute_result",
          "data": {
            "text/plain": [
              "3878968454388325633701916308325905312082127714646245106160597214895550139044037097010822916462210669479293452858882973813483102008954982940361430156911478938364216563944106910214505634133706558656238254656700712525929903854933813928836378347518908762970712033337052923107693008518093849801803847813996748881765554653788291644268912980384613778969021502293082475666346224923071883324803280375039130352903304505842701147635242270210934637699104006714174883298422891491273104054328753298044273676822977244987749874555691907703880637046832794811358973739993110106219308149018570815397854379195305617510761053075688783766033667355445258844886241619210553457493675897849027988234351023599844663934853256411952221859563060475364645470760330902420806382584929156452876291575759142343809142302917491088984155209854432486594079793571316841692868039545309545388698114665082066862897420639323438488465240988742395873801976993820317174208932265468879364002630797780058759129671389634214252579116872755600360311370547754724604639987588046985178408674382863125"
            ]
          },
          "metadata": {},
          "execution_count": 50
        }
      ],
      "source": [
        "fib(5000)"
      ]
    },
    {
      "cell_type": "code",
      "execution_count": null,
      "metadata": {
        "id": "40lNbsHjE6Vp"
      },
      "outputs": [],
      "source": [
        "# so the problem with TOP-DOWN memoization is that we are still left with recursive calls going over our stack limit"
      ]
    },
    {
      "cell_type": "markdown",
      "metadata": {
        "id": "OuoqwIHxE6Vp"
      },
      "source": [
        "## So how to solve the stack overflow problem?"
      ]
    },
    {
      "cell_type": "code",
      "source": [],
      "metadata": {
        "id": "KF1Jp2eG1bvi"
      },
      "execution_count": null,
      "outputs": []
    },
    {
      "cell_type": "code",
      "execution_count": null,
      "metadata": {
        "id": "0BUK19eXE6Vp"
      },
      "outputs": [],
      "source": [
        "# we could try the build up solution - meaning BOTTOM-UP method\n",
        "# this will usually be an iterative(looping) solution so no worries about stack\n"
      ]
    },
    {
      "cell_type": "markdown",
      "metadata": {
        "id": "9PvgaddjMxK8"
      },
      "source": [
        "# Iterative version of Fibonacci with full table"
      ]
    },
    {
      "cell_type": "code",
      "execution_count": 39,
      "metadata": {
        "id": "BsDQLkWTE6Vp"
      },
      "outputs": [],
      "source": [
        "# silly iterative version\n",
        "# useful if you want to return ALL fibs\n",
        "def fib_it(n): # so n will be 0 based\n",
        "    fibs = [0,1] #so we are going to build our answers, here we take the position that fib(0) should be 0\n",
        "    # lets pretend we do not know of any formulas and optimizations\n",
        "#     n += 1 # fix this\n",
        "    if n < 2:\n",
        "        return fibs[n] # off by one errors\n",
        "    ndx = 2\n",
        "    while ndx <= n:\n",
        "        fibs.append(fibs[ndx-1]+fibs[ndx-2]) # so I am building a 1-d table(array/list) of answers\n",
        "        # so appending to list incurs some cost as well\n",
        "        # in fib we could have of course just stored 2 previous values instead of all\n",
        "        ndx+=1\n",
        "    return fibs[n] # again off by one indexing 0 based in python and 1 based in our function\n"
      ]
    },
    {
      "cell_type": "code",
      "execution_count": 40,
      "metadata": {
        "colab": {
          "base_uri": "https://localhost:8080/"
        },
        "id": "Fum7eojEE6Vp",
        "outputId": "6079aa72-8c98-4a3a-cb6a-f28864f34b4e"
      },
      "outputs": [
        {
          "output_type": "execute_result",
          "data": {
            "text/plain": [
              "1"
            ]
          },
          "metadata": {},
          "execution_count": 40
        }
      ],
      "source": [
        "fib_it(2)"
      ]
    },
    {
      "cell_type": "code",
      "execution_count": 41,
      "metadata": {
        "colab": {
          "base_uri": "https://localhost:8080/"
        },
        "id": "3rgA_z7oQBWU",
        "outputId": "887de352-d978-41f2-9eb2-b8d98bf030d0"
      },
      "outputs": [
        {
          "output_type": "execute_result",
          "data": {
            "text/plain": [
              "3"
            ]
          },
          "metadata": {},
          "execution_count": 41
        }
      ],
      "source": [
        "fib_it(4)"
      ]
    },
    {
      "cell_type": "code",
      "execution_count": 42,
      "metadata": {
        "colab": {
          "base_uri": "https://localhost:8080/"
        },
        "id": "88xImqKVQFWC",
        "outputId": "344adad4-7aa3-47ce-83a9-03430fb752b3"
      },
      "outputs": [
        {
          "output_type": "execute_result",
          "data": {
            "text/plain": [
              "354224848179261915075"
            ]
          },
          "metadata": {},
          "execution_count": 42
        }
      ],
      "source": [
        "fib_it(100)"
      ]
    },
    {
      "cell_type": "code",
      "execution_count": 43,
      "metadata": {
        "id": "D4aqj9FWq0Gz",
        "outputId": "feabb0da-10c1-48cd-d458-b238ef9dec75",
        "colab": {
          "base_uri": "https://localhost:8080/"
        }
      },
      "outputs": [
        {
          "output_type": "stream",
          "name": "stdout",
          "text": [
            "75.7 ns ± 0.958 ns per loop (mean ± std. dev. of 7 runs, 10000000 loops each)\n"
          ]
        }
      ],
      "source": [
        "%%timeit\n",
        "fib(35)"
      ]
    },
    {
      "cell_type": "code",
      "execution_count": null,
      "metadata": {
        "colab": {
          "base_uri": "https://localhost:8080/"
        },
        "id": "xiTazbxwQIlq",
        "outputId": "ce3a4838-e3eb-41ff-8962-00822acd75a3"
      },
      "outputs": [
        {
          "output_type": "stream",
          "name": "stdout",
          "text": [
            "7.09 µs ± 163 ns per loop (mean ± std. dev. of 7 runs, 100000 loops each)\n"
          ]
        }
      ],
      "source": [
        "%%timeit\n",
        "fib_it(35)\n",
        "# turns out this solution will be slower than memoized recursive solution\n",
        "# why because we spend time setting up a list and appending items"
      ]
    },
    {
      "cell_type": "code",
      "execution_count": 44,
      "metadata": {
        "colab": {
          "base_uri": "https://localhost:8080/"
        },
        "id": "VBTw3NOQMgPE",
        "outputId": "c466967b-0a98-4f2e-a8c9-0f2f29ba88a7"
      },
      "outputs": [
        {
          "output_type": "stream",
          "name": "stdout",
          "text": [
            "11.2 µs ± 946 ns per loop (mean ± std. dev. of 7 runs, 100000 loops each)\n"
          ]
        }
      ],
      "source": [
        "%%timeit\n",
        "fib_it(100)"
      ]
    },
    {
      "cell_type": "code",
      "execution_count": 45,
      "metadata": {
        "id": "4Mn56EElq0Gz",
        "outputId": "62ea7d7d-e5ca-4d1e-9312-0e0a221b0a77",
        "colab": {
          "base_uri": "https://localhost:8080/"
        }
      },
      "outputs": [
        {
          "output_type": "stream",
          "name": "stdout",
          "text": [
            "4.68 ms ± 244 µs per loop (mean ± std. dev. of 7 runs, 100 loops each)\n"
          ]
        }
      ],
      "source": [
        "%%timeit\n",
        "fib_it(10_000)"
      ]
    },
    {
      "cell_type": "code",
      "source": [
        "fib_it(10_000) # so probably some overhead from large numbers"
      ],
      "metadata": {
        "colab": {
          "base_uri": "https://localhost:8080/"
        },
        "id": "bQoR5T9Fwh28",
        "outputId": "ba1ed8f5-1f92-45de-d676-e3b664303e12"
      },
      "execution_count": 46,
      "outputs": [
        {
          "output_type": "execute_result",
          "data": {
            "text/plain": [
              "33644764876431783266621612005107543310302148460680063906564769974680081442166662368155595513633734025582065332680836159373734790483865268263040892463056431887354544369559827491606602099884183933864652731300088830269235673613135117579297437854413752130520504347701602264758318906527890855154366159582987279682987510631200575428783453215515103870818298969791613127856265033195487140214287532698187962046936097879900350962302291026368131493195275630227837628441540360584402572114334961180023091208287046088923962328835461505776583271252546093591128203925285393434620904245248929403901706233888991085841065183173360437470737908552631764325733993712871937587746897479926305837065742830161637408969178426378624212835258112820516370298089332099905707920064367426202389783111470054074998459250360633560933883831923386783056136435351892133279732908133732642652633989763922723407882928177953580570993691049175470808931841056146322338217465637321248226383092103297701648054726243842374862411453093812206564914032751086643394517512161526545361333111314042436854805106765843493523836959653428071768775328348234345557366719731392746273629108210679280784718035329131176778924659089938635459327894523777674406192240337638674004021330343297496902028328145933418826817683893072003634795623117103101291953169794607632737589253530772552375943788434504067715555779056450443016640119462580972216729758615026968443146952034614932291105970676243268515992834709891284706740862008587135016260312071903172086094081298321581077282076353186624611278245537208532365305775956430072517744315051539600905168603220349163222640885248852433158051534849622434848299380905070483482449327453732624567755879089187190803662058009594743150052402532709746995318770724376825907419939632265984147498193609285223945039707165443156421328157688908058783183404917434556270520223564846495196112460268313970975069382648706613264507665074611512677522748621598642530711298441182622661057163515069260029861704945425047491378115154139941550671256271197133252763631939606902895650288268608362241082050562430701794976171121233066073310059947366875"
            ]
          },
          "metadata": {},
          "execution_count": 46
        }
      ]
    },
    {
      "cell_type": "code",
      "execution_count": null,
      "metadata": {
        "colab": {
          "base_uri": "https://localhost:8080/"
        },
        "id": "yLV1O-c4E6Vp",
        "outputId": "4d370dcb-5ac9-45d6-e03d-f8af211d0480"
      },
      "outputs": [
        {
          "output_type": "stream",
          "name": "stdout",
          "text": [
            "0\n",
            "1\n",
            "1\n",
            "2\n",
            "3\n",
            "5\n",
            "8\n",
            "13\n",
            "21\n",
            "34\n",
            "55\n"
          ]
        }
      ],
      "source": [
        "for n in range(0,10+1):\n",
        "    print(fib_it(n))"
      ]
    },
    {
      "cell_type": "code",
      "execution_count": null,
      "metadata": {
        "id": "DQMtfDnoE6Vq",
        "outputId": "7d5fb1a1-f002-4ccd-c495-90fd29721630"
      },
      "outputs": [
        {
          "data": {
            "text/plain": [
              "(8, 13)"
            ]
          },
          "execution_count": 22,
          "metadata": {},
          "output_type": "execute_result"
        }
      ],
      "source": [
        "fib_it(5),fib_it(6)"
      ]
    },
    {
      "cell_type": "code",
      "execution_count": null,
      "metadata": {
        "id": "OJAMTwK8E6Vq",
        "outputId": "b42d272f-1cf8-408a-e6b3-b7895c956363"
      },
      "outputs": [
        {
          "data": {
            "text/plain": [
              "(14930352, 24157817)"
            ]
          },
          "execution_count": 23,
          "metadata": {},
          "output_type": "execute_result"
        }
      ],
      "source": [
        "fib_it(35),fib_it(36)"
      ]
    },
    {
      "cell_type": "code",
      "execution_count": null,
      "metadata": {
        "id": "Y-kzVM2qE6Vq",
        "outputId": "4b719e83-713c-4957-bed9-50d3def95179"
      },
      "outputs": [
        {
          "name": "stdout",
          "output_type": "stream",
          "text": [
            "15.1 µs ± 160 ns per loop (mean ± std. dev. of 7 runs, 100000 loops each)\n"
          ]
        }
      ],
      "source": [
        "%%timeit\n",
        "fib_it(35)"
      ]
    },
    {
      "cell_type": "markdown",
      "source": [
        "### Optimizing Tabulation Solution - do not store everything!"
      ],
      "metadata": {
        "id": "LamEr-WW3U88"
      }
    },
    {
      "cell_type": "code",
      "execution_count": null,
      "metadata": {
        "id": "y4wSQvsZE6Vq"
      },
      "outputs": [],
      "source": [
        "# so one way we could improve is that we do not need to store all this knowledge about previous solutions,\n",
        "# (unless we were building a table of ALL solutions)"
      ]
    },
    {
      "cell_type": "code",
      "execution_count": 47,
      "metadata": {
        "id": "okMgP0wXE6Vq"
      },
      "outputs": [],
      "source": [
        "# so we only need to store 2 values, but this would be improving constant and solving our space complexity\n",
        "# instead of needing O(n) to store our fib(n), we just need O(1) - since we are onl storing two values\n",
        "def fib_v2(n):\n",
        "    prev, cur = 0, 1 # again fib_v2(0) would be 0\n",
        "    # our base cases\n",
        "    if n == 0:\n",
        "        return prev\n",
        "    if n == 1:\n",
        "        return cur\n",
        "\n",
        "    ndx = 2\n",
        "    while ndx <= n:\n",
        "        prev, cur = cur, prev+cur # python makes it easy to assign 2 values at once with tuple unpacking, right side eval first\n",
        "        # if your language does not support it you can simply use a third temp variable\n",
        "        ndx += 1\n",
        "    return cur"
      ]
    },
    {
      "cell_type": "code",
      "execution_count": 49,
      "metadata": {
        "colab": {
          "base_uri": "https://localhost:8080/"
        },
        "id": "evs_wBulE6Vq",
        "outputId": "0c47ce8a-7dfe-4303-b1c5-1350051f9acc"
      },
      "outputs": [
        {
          "output_type": "execute_result",
          "data": {
            "text/plain": [
              "(5, 8, 13)"
            ]
          },
          "metadata": {},
          "execution_count": 49
        }
      ],
      "source": [
        "fib_v2(5),fib_v2(6), fib_v2(7)"
      ]
    },
    {
      "cell_type": "code",
      "execution_count": null,
      "metadata": {
        "colab": {
          "base_uri": "https://localhost:8080/"
        },
        "id": "_9IRI-X6E6Vr",
        "outputId": "0b24dea9-a9fb-4bed-e017-c86c7f7d4801"
      },
      "outputs": [
        {
          "output_type": "execute_result",
          "data": {
            "text/plain": [
              "9227465"
            ]
          },
          "metadata": {},
          "execution_count": 62
        }
      ],
      "source": [
        "fib_v2(35)"
      ]
    },
    {
      "cell_type": "code",
      "execution_count": 50,
      "metadata": {
        "colab": {
          "base_uri": "https://localhost:8080/"
        },
        "id": "iGStUFCtE6Vr",
        "outputId": "fcdf653e-58b8-4dee-9754-26e0d88fdc0b"
      },
      "outputs": [
        {
          "output_type": "stream",
          "name": "stdout",
          "text": [
            "1.95 µs ± 296 ns per loop (mean ± std. dev. of 7 runs, 1000000 loops each)\n"
          ]
        }
      ],
      "source": [
        "%%timeit\n",
        "fib_v2(35)"
      ]
    },
    {
      "cell_type": "code",
      "execution_count": 51,
      "metadata": {
        "colab": {
          "base_uri": "https://localhost:8080/"
        },
        "id": "NohzfwxmRbV4",
        "outputId": "055c3285-b189-4eed-a12f-63f40b082e8e"
      },
      "outputs": [
        {
          "output_type": "stream",
          "name": "stdout",
          "text": [
            "6.11 µs ± 421 ns per loop (mean ± std. dev. of 7 runs, 100000 loops each)\n"
          ]
        }
      ],
      "source": [
        "%%timeit\n",
        "fib_v2(100)"
      ]
    },
    {
      "cell_type": "code",
      "execution_count": 52,
      "metadata": {
        "id": "yrDdEbFsq0G2",
        "outputId": "bac6be16-1da5-44f7-bfd6-c7e58608245e",
        "colab": {
          "base_uri": "https://localhost:8080/"
        }
      },
      "outputs": [
        {
          "output_type": "stream",
          "name": "stdout",
          "text": [
            "2.73 ms ± 111 µs per loop (mean ± std. dev. of 7 runs, 100 loops each)\n"
          ]
        }
      ],
      "source": [
        "%%timeit\n",
        "fib_v2(10_000)"
      ]
    },
    {
      "cell_type": "code",
      "execution_count": 53,
      "metadata": {
        "id": "UyfvgjHuq0G2",
        "outputId": "dca1c4a4-2fea-4d99-f9eb-d00f32d4c31f",
        "colab": {
          "base_uri": "https://localhost:8080/"
        }
      },
      "outputs": [
        {
          "output_type": "execute_result",
          "data": {
            "text/plain": [
              "2090"
            ]
          },
          "metadata": {},
          "execution_count": 53
        }
      ],
      "source": [
        "len(str(fib_v2(10_000))) # so we start running into bignum related slowdowns\n",
        "# Python offers big number (over int64) by default but of course they have overhead, which is usually ignored in analysis"
      ]
    },
    {
      "cell_type": "markdown",
      "source": [
        "One of the takeaways from these tabulated solutions is that some extra cost is incurred by storing the large(huge even) numbers for fibonacci. Often in theory it is assumed that large numbers have same complexity but it is not the case."
      ],
      "metadata": {
        "id": "iCZqJBcD4wp6"
      }
    },
    {
      "cell_type": "markdown",
      "metadata": {
        "id": "CMdl2byYE6Vr"
      },
      "source": [
        "# Pascal's triangle\n",
        "![Triangle](https://upload.wikimedia.org/wikipedia/commons/0/0d/PascalTriangleAnimated2.gif)"
      ]
    },
    {
      "cell_type": "markdown",
      "metadata": {
        "id": "2AR6ExgbE6Vr"
      },
      "source": [
        "The combinatorial\n",
        "meaning of C(n,k) is the number of k-sized subsets you can get from a set of size n."
      ]
    },
    {
      "cell_type": "markdown",
      "metadata": {
        "id": "90UKr7_hE6Vr"
      },
      "source": [
        "In mathematics, a combination is a selection of items from a collection, such that the order of selection does not matter (unlike permutations). https://en.wikipedia.org/wiki/Combination"
      ]
    },
    {
      "cell_type": "code",
      "execution_count": 55,
      "metadata": {
        "id": "KqlWiaj2E6Vr"
      },
      "outputs": [],
      "source": [
        "# this is horrible again we have 2 recursive calls for each call\n",
        "def C(n,k):\n",
        "    if k == 0: return 1 # so k is the size of the subset\n",
        "    if n == 0: return 0 # and n is the size of the whole set\n",
        "    return C(n-1,k-1) + C(n-1,k)"
      ]
    },
    {
      "cell_type": "code",
      "execution_count": 56,
      "metadata": {
        "colab": {
          "base_uri": "https://localhost:8080/"
        },
        "id": "6fTEMT6yQcA3",
        "outputId": "6123f17d-7525-4f82-a3f7-9e7cb39d2da9"
      },
      "outputs": [
        {
          "output_type": "execute_result",
          "data": {
            "text/plain": [
              "(1, 2, 1)"
            ]
          },
          "metadata": {},
          "execution_count": 56
        }
      ],
      "source": [
        "C(2,0),C(2,1),C(2,2)"
      ]
    },
    {
      "cell_type": "code",
      "execution_count": 57,
      "metadata": {
        "colab": {
          "base_uri": "https://localhost:8080/"
        },
        "id": "4K2Y7E6nE6Vr",
        "outputId": "f54388d9-2762-4bc1-c6bf-000e7d8925a8"
      },
      "outputs": [
        {
          "output_type": "execute_result",
          "data": {
            "text/plain": [
              "(1, 3, 3, 1)"
            ]
          },
          "metadata": {},
          "execution_count": 57
        }
      ],
      "source": [
        "C(3,0),C(3,1),C(3,2),C(3,3)"
      ]
    },
    {
      "cell_type": "code",
      "execution_count": 58,
      "metadata": {
        "colab": {
          "base_uri": "https://localhost:8080/"
        },
        "id": "kHYtq81HE6Vs",
        "outputId": "62f494b1-0a4c-445c-ea77-0503cab5aae2"
      },
      "outputs": [
        {
          "output_type": "execute_result",
          "data": {
            "text/plain": [
              "(1, 4, 6, 4, 1)"
            ]
          },
          "metadata": {},
          "execution_count": 58
        }
      ],
      "source": [
        "C(4,0),C(4,1),C(4,2),C(4,3),C(4,4)"
      ]
    },
    {
      "cell_type": "code",
      "execution_count": 60,
      "metadata": {
        "colab": {
          "base_uri": "https://localhost:8080/"
        },
        "id": "7SQQ4kfGE6Vs",
        "outputId": "131a5a39-8527-43b0-f733-ca66c9f0b3b1"
      },
      "outputs": [
        {
          "output_type": "stream",
          "name": "stdout",
          "text": [
            "1 5 10 10 5 1 \n"
          ]
        }
      ],
      "source": [
        "for k in range(6):\n",
        "    print(C(5,k), end=\" \")\n",
        "print()"
      ]
    },
    {
      "cell_type": "code",
      "execution_count": 61,
      "metadata": {
        "colab": {
          "base_uri": "https://localhost:8080/"
        },
        "id": "NF2yHuv-E6Vs",
        "outputId": "06c0cb3d-ef82-4375-82c4-d28f3b13454f"
      },
      "outputs": [
        {
          "output_type": "execute_result",
          "data": {
            "text/plain": [
              "125970"
            ]
          },
          "metadata": {},
          "execution_count": 61
        }
      ],
      "source": [
        "C(20,12) # so how to pick 12 items (order unimportant) from size 20"
      ]
    },
    {
      "cell_type": "code",
      "execution_count": 62,
      "metadata": {
        "colab": {
          "base_uri": "https://localhost:8080/"
        },
        "id": "2rVq_bG5Q3cL",
        "outputId": "a760bd6a-f484-4ea0-d7b0-b08722570327"
      },
      "outputs": [
        {
          "output_type": "stream",
          "name": "stdout",
          "text": [
            "147 ms ± 6.4 ms per loop (mean ± std. dev. of 7 runs, 10 loops each)\n"
          ]
        }
      ],
      "source": [
        "%%timeit\n",
        "C(20,12)"
      ]
    },
    {
      "cell_type": "code",
      "execution_count": 63,
      "metadata": {
        "id": "2TZ1CrVjE6Vs"
      },
      "outputs": [],
      "source": [
        "import functools"
      ]
    },
    {
      "cell_type": "code",
      "execution_count": 64,
      "metadata": {
        "id": "m0dYahENE6Vs"
      },
      "outputs": [],
      "source": [
        "@functools.lru_cache(maxsize=None) # again we use this built in decorate - a wrapper around of function C_mem\n",
        "def C_mem(n,k):\n",
        "    if k == 0: return 1\n",
        "    if n == 0: return 0\n",
        "    return C_mem(n-1,k-1) + C_mem(n-1,k)"
      ]
    },
    {
      "cell_type": "code",
      "execution_count": 65,
      "metadata": {
        "colab": {
          "base_uri": "https://localhost:8080/"
        },
        "id": "Ep7vHpLUE6Vs",
        "outputId": "1e1a5a5e-e6cc-42a0-8393-8c4cefeca62b"
      },
      "outputs": [
        {
          "output_type": "execute_result",
          "data": {
            "text/plain": [
              "125970"
            ]
          },
          "metadata": {},
          "execution_count": 65
        }
      ],
      "source": [
        "C_mem(20,12)"
      ]
    },
    {
      "cell_type": "code",
      "execution_count": 66,
      "metadata": {
        "colab": {
          "base_uri": "https://localhost:8080/"
        },
        "id": "mX7jfFTFE6Vt",
        "outputId": "9bee7bf7-64f2-4da5-e5a8-405847b22877"
      },
      "outputs": [
        {
          "output_type": "stream",
          "name": "stdout",
          "text": [
            "127 ns ± 31.6 ns per loop (mean ± std. dev. of 7 runs, 10000000 loops each)\n"
          ]
        }
      ],
      "source": [
        "%%timeit\n",
        "C_mem(20,12)"
      ]
    },
    {
      "cell_type": "code",
      "execution_count": 67,
      "metadata": {
        "colab": {
          "base_uri": "https://localhost:8080/"
        },
        "id": "HJ6EIoemS40Q",
        "outputId": "d0f25c34-c8a8-47bc-f40c-ff97c1c1ad91"
      },
      "outputs": [
        {
          "output_type": "stream",
          "name": "stdout",
          "text": [
            "130 ns ± 35.8 ns per loop (mean ± std. dev. of 7 runs, 10000000 loops each)\n"
          ]
        }
      ],
      "source": [
        "%%timeit\n",
        "C_mem(25,15)"
      ]
    },
    {
      "cell_type": "code",
      "execution_count": 68,
      "metadata": {
        "colab": {
          "base_uri": "https://localhost:8080/"
        },
        "id": "yiJTACtvTAaN",
        "outputId": "47cb565e-57f9-4d0e-de20-4a35cf5600fd"
      },
      "outputs": [
        {
          "output_type": "stream",
          "name": "stdout",
          "text": [
            "649 ms ± 33.6 ms per loop (mean ± std. dev. of 7 runs, 1 loop each)\n"
          ]
        }
      ],
      "source": [
        "%%timeit\n",
        "C(22,14)  # this is the bad one!"
      ]
    },
    {
      "cell_type": "code",
      "source": [
        "%%timeit\n",
        "C_mem(22,14) # should beat by million time at least"
      ],
      "metadata": {
        "colab": {
          "base_uri": "https://localhost:8080/"
        },
        "id": "y9ZAMFv61xUO",
        "outputId": "ff04f193-0a92-498a-948d-112dca96658c"
      },
      "execution_count": 69,
      "outputs": [
        {
          "output_type": "stream",
          "name": "stdout",
          "text": [
            "143 ns ± 33.2 ns per loop (mean ± std. dev. of 7 runs, 10000000 loops each)\n"
          ]
        }
      ]
    },
    {
      "cell_type": "markdown",
      "metadata": {
        "id": "Ak_H86b7q0G7"
      },
      "source": [
        "### lru_cache wrapper\n",
        "\n",
        "Newer versions of Python have a decorator that does the same thing as our memoize function. It’s called lru_cache\n",
        "There is even a maxsize parameter that allows you to limit the size of the cache. This is useful if you know that\n",
        "you’ll only need the last n results. The name stands for “least recently used,” and it means that if the cache is full"
      ]
    },
    {
      "cell_type": "code",
      "execution_count": 70,
      "metadata": {
        "colab": {
          "base_uri": "https://localhost:8080/"
        },
        "id": "9EodFSFvE6Vs",
        "outputId": "55663cee-16e7-4fc8-c534-b3096a6f2d83"
      },
      "outputs": [
        {
          "output_type": "execute_result",
          "data": {
            "text/plain": [
              "4426165368"
            ]
          },
          "metadata": {},
          "execution_count": 70
        }
      ],
      "source": [
        "C_mem(64,8) # so BRUTE FORCE for 8-queens problem would require checking this many"
      ]
    },
    {
      "cell_type": "code",
      "execution_count": null,
      "metadata": {
        "colab": {
          "base_uri": "https://localhost:8080/"
        },
        "id": "OBn3uGHhE6Vt",
        "outputId": "cde099c3-c680-4ed6-a415-e86424c81e80"
      },
      "outputs": [
        {
          "output_type": "execute_result",
          "data": {
            "text/plain": [
              "4294967296"
            ]
          },
          "metadata": {},
          "execution_count": 79
        }
      ],
      "source": [
        "2**32 # no relation to above number"
      ]
    },
    {
      "cell_type": "markdown",
      "source": [
        "### Lottery Example\n",
        "\n",
        "Let's say lottery is pick 6 out of 51"
      ],
      "metadata": {
        "id": "VE3VfyIU7E7p"
      }
    },
    {
      "cell_type": "code",
      "source": [
        "C_mem(51,6)"
      ],
      "metadata": {
        "id": "iW23O6FB66nb",
        "outputId": "0ee2dbb7-8682-4470-b6d4-5d0195ce0d3a",
        "colab": {
          "base_uri": "https://localhost:8080/"
        }
      },
      "execution_count": 71,
      "outputs": [
        {
          "output_type": "execute_result",
          "data": {
            "text/plain": [
              "18009460"
            ]
          },
          "metadata": {},
          "execution_count": 71
        }
      ]
    },
    {
      "cell_type": "code",
      "source": [
        "# by adding 7th the odds go down\n",
        "C_mem(51,7)"
      ],
      "metadata": {
        "id": "w98LsEGo7W5p",
        "outputId": "5098a2bf-321d-46b0-9fd9-d85b72d28525",
        "colab": {
          "base_uri": "https://localhost:8080/"
        }
      },
      "execution_count": 72,
      "outputs": [
        {
          "output_type": "execute_result",
          "data": {
            "text/plain": [
              "115775100"
            ]
          },
          "metadata": {},
          "execution_count": 72
        }
      ]
    },
    {
      "cell_type": "code",
      "execution_count": null,
      "metadata": {
        "id": "TuK0WFtVE6Vt",
        "outputId": "11e92bd7-d81c-41ee-dd37-e694eec41bd5"
      },
      "outputs": [
        {
          "name": "stdout",
          "output_type": "stream",
          "text": [
            "203 ns ± 30 ns per loop (mean ± std. dev. of 7 runs, 1000000 loops each)\n"
          ]
        }
      ],
      "source": [
        "%%timeit\n",
        "C_mem(20,12)"
      ]
    },
    {
      "cell_type": "markdown",
      "metadata": {
        "id": "txUq8Ik5E6Vt"
      },
      "source": [
        "So 3 Million times faster\n",
        "And it will only get worse with larger n and k values\n"
      ]
    },
    {
      "cell_type": "code",
      "execution_count": null,
      "metadata": {
        "colab": {
          "base_uri": "https://localhost:8080/"
        },
        "id": "fay8GdXTE6Vt",
        "outputId": "297df8e9-ef0c-4a1e-e40d-1b43c606e845"
      },
      "outputs": [
        {
          "data": {
            "text/plain": [
              "646646"
            ]
          },
          "execution_count": 61,
          "metadata": {},
          "output_type": "execute_result"
        }
      ],
      "source": [
        "C(22,10)  # keeps getting slower"
      ]
    },
    {
      "cell_type": "code",
      "execution_count": null,
      "metadata": {
        "colab": {
          "base_uri": "https://localhost:8080/"
        },
        "id": "rJWU5PHVE6Vt",
        "outputId": "e1260f11-bba9-4f96-9d8b-c91db7e49d24"
      },
      "outputs": [
        {
          "data": {
            "text/plain": [
              "5852925"
            ]
          },
          "execution_count": 62,
          "metadata": {},
          "output_type": "execute_result"
        }
      ],
      "source": [
        "C_mem(30,22)"
      ]
    },
    {
      "cell_type": "code",
      "execution_count": null,
      "metadata": {
        "colab": {
          "base_uri": "https://localhost:8080/"
        },
        "id": "as9IJvoRE6Vt",
        "outputId": "9df72185-c621-4af9-d89f-8e68b11301ab"
      },
      "outputs": [
        {
          "data": {
            "text/plain": [
              "46437038934385738875060685074580974915827322393712987687159475139635977046776280972687848152763132582010929859049061968000"
            ]
          },
          "execution_count": 73,
          "metadata": {},
          "output_type": "execute_result"
        }
      ],
      "source": [
        "C_mem(500,127)"
      ]
    },
    {
      "cell_type": "code",
      "execution_count": null,
      "metadata": {
        "colab": {
          "base_uri": "https://localhost:8080/"
        },
        "id": "ymxWm6qAE6Vt",
        "outputId": "fd90aef9-3a25-4930-c9f3-8e107a97146a"
      },
      "outputs": [
        {
          "ename": "RecursionError",
          "evalue": "maximum recursion depth exceeded",
          "output_type": "error",
          "traceback": [
            "\u001b[1;31m---------------------------------------------------------------------------\u001b[0m",
            "\u001b[1;31mRecursionError\u001b[0m                            Traceback (most recent call last)",
            "Input \u001b[1;32mIn [74]\u001b[0m, in \u001b[0;36m<cell line: 1>\u001b[1;34m()\u001b[0m\n\u001b[1;32m----> 1\u001b[0m \u001b[43mC_mem\u001b[49m\u001b[43m(\u001b[49m\u001b[38;5;241;43m2000\u001b[39;49m\u001b[43m,\u001b[49m\u001b[38;5;241;43m1555\u001b[39;49m\u001b[43m)\u001b[49m\n",
            "Input \u001b[1;32mIn [67]\u001b[0m, in \u001b[0;36mC_mem\u001b[1;34m(n, k)\u001b[0m\n\u001b[0;32m      3\u001b[0m \u001b[38;5;28;01mif\u001b[39;00m k \u001b[38;5;241m==\u001b[39m \u001b[38;5;241m0\u001b[39m: \u001b[38;5;28;01mreturn\u001b[39;00m \u001b[38;5;241m1\u001b[39m\n\u001b[0;32m      4\u001b[0m \u001b[38;5;28;01mif\u001b[39;00m n \u001b[38;5;241m==\u001b[39m \u001b[38;5;241m0\u001b[39m: \u001b[38;5;28;01mreturn\u001b[39;00m \u001b[38;5;241m0\u001b[39m\n\u001b[1;32m----> 5\u001b[0m \u001b[38;5;28;01mreturn\u001b[39;00m \u001b[43mC_mem\u001b[49m\u001b[43m(\u001b[49m\u001b[43mn\u001b[49m\u001b[38;5;241;43m-\u001b[39;49m\u001b[38;5;241;43m1\u001b[39;49m\u001b[43m,\u001b[49m\u001b[43mk\u001b[49m\u001b[38;5;241;43m-\u001b[39;49m\u001b[38;5;241;43m1\u001b[39;49m\u001b[43m)\u001b[49m \u001b[38;5;241m+\u001b[39m C_mem(n\u001b[38;5;241m-\u001b[39m\u001b[38;5;241m1\u001b[39m,k)\n",
            "Input \u001b[1;32mIn [67]\u001b[0m, in \u001b[0;36mC_mem\u001b[1;34m(n, k)\u001b[0m\n\u001b[0;32m      3\u001b[0m \u001b[38;5;28;01mif\u001b[39;00m k \u001b[38;5;241m==\u001b[39m \u001b[38;5;241m0\u001b[39m: \u001b[38;5;28;01mreturn\u001b[39;00m \u001b[38;5;241m1\u001b[39m\n\u001b[0;32m      4\u001b[0m \u001b[38;5;28;01mif\u001b[39;00m n \u001b[38;5;241m==\u001b[39m \u001b[38;5;241m0\u001b[39m: \u001b[38;5;28;01mreturn\u001b[39;00m \u001b[38;5;241m0\u001b[39m\n\u001b[1;32m----> 5\u001b[0m \u001b[38;5;28;01mreturn\u001b[39;00m \u001b[43mC_mem\u001b[49m\u001b[43m(\u001b[49m\u001b[43mn\u001b[49m\u001b[38;5;241;43m-\u001b[39;49m\u001b[38;5;241;43m1\u001b[39;49m\u001b[43m,\u001b[49m\u001b[43mk\u001b[49m\u001b[38;5;241;43m-\u001b[39;49m\u001b[38;5;241;43m1\u001b[39;49m\u001b[43m)\u001b[49m \u001b[38;5;241m+\u001b[39m C_mem(n\u001b[38;5;241m-\u001b[39m\u001b[38;5;241m1\u001b[39m,k)\n",
            "    \u001b[1;31m[... skipping similar frames: C_mem at line 5 (1483 times)]\u001b[0m\n",
            "Input \u001b[1;32mIn [67]\u001b[0m, in \u001b[0;36mC_mem\u001b[1;34m(n, k)\u001b[0m\n\u001b[0;32m      3\u001b[0m \u001b[38;5;28;01mif\u001b[39;00m k \u001b[38;5;241m==\u001b[39m \u001b[38;5;241m0\u001b[39m: \u001b[38;5;28;01mreturn\u001b[39;00m \u001b[38;5;241m1\u001b[39m\n\u001b[0;32m      4\u001b[0m \u001b[38;5;28;01mif\u001b[39;00m n \u001b[38;5;241m==\u001b[39m \u001b[38;5;241m0\u001b[39m: \u001b[38;5;28;01mreturn\u001b[39;00m \u001b[38;5;241m0\u001b[39m\n\u001b[1;32m----> 5\u001b[0m \u001b[38;5;28;01mreturn\u001b[39;00m \u001b[43mC_mem\u001b[49m\u001b[43m(\u001b[49m\u001b[43mn\u001b[49m\u001b[38;5;241;43m-\u001b[39;49m\u001b[38;5;241;43m1\u001b[39;49m\u001b[43m,\u001b[49m\u001b[43mk\u001b[49m\u001b[38;5;241;43m-\u001b[39;49m\u001b[38;5;241;43m1\u001b[39;49m\u001b[43m)\u001b[49m \u001b[38;5;241m+\u001b[39m C_mem(n\u001b[38;5;241m-\u001b[39m\u001b[38;5;241m1\u001b[39m,k)\n",
            "\u001b[1;31mRecursionError\u001b[0m: maximum recursion depth exceeded"
          ]
        }
      ],
      "source": [
        "C_mem(2000,1555) # so we calculated how many different ways we can pick 1555 items out of set of 2000 items"
      ]
    },
    {
      "cell_type": "code",
      "execution_count": null,
      "metadata": {
        "colab": {
          "base_uri": "https://localhost:8080/"
        },
        "id": "Qjf0JzfnSH0D",
        "outputId": "da660e2e-469a-452a-c8ae-f992846166da"
      },
      "outputs": [
        {
          "data": {
            "text/plain": [
              "13983816"
            ]
          },
          "execution_count": 65,
          "metadata": {},
          "output_type": "execute_result"
        }
      ],
      "source": [
        "C_mem(49,6)"
      ]
    },
    {
      "cell_type": "code",
      "execution_count": null,
      "metadata": {
        "colab": {
          "base_uri": "https://localhost:8080/"
        },
        "id": "eXf1nB3TSLCp",
        "outputId": "8a34f1da-41fe-4230-b0b1-a9d4da3979cd"
      },
      "outputs": [
        {
          "data": {
            "text/plain": [
              "202927725"
            ]
          },
          "execution_count": 66,
          "metadata": {},
          "output_type": "execute_result"
        }
      ],
      "source": [
        "C_mem(55,7)  # so our odds in lotteries are not so great..."
      ]
    },
    {
      "cell_type": "markdown",
      "source": [
        "### Iterative Pascal Triangle"
      ],
      "metadata": {
        "id": "8_6w_AZE8I3M"
      }
    },
    {
      "cell_type": "markdown",
      "metadata": {
        "id": "jsDs1fpWE6Vu"
      },
      "source": [
        "You may at times want to rewrite your code to make it iterative. This\n",
        "can make it faster, and you avoid exhausting the stack if the recursion depth gets excessive. There’s another reason, too:\n",
        "The iterative versions are often based on a specially constructed cache, rather than the generic “dict keyed by parameter\n",
        "tuples” used in my @memo.\n",
        "\n",
        "This means that you can sometimes use more efficient structures, such as the multidimensional\n",
        "arrays of NumPy (this is a C type array dense and efficient), or even just nested lists.\n",
        "\n",
        "This custom cache design\n",
        "makes it possible to do use DP in more low-level languages(ahem C, C++), where general, abstract solutions such as our @memo decorator\n",
        "are often not feasible.\n",
        "\n",
        "Note that even though these two techniques often go hand in hand, you are certainly free to use an\n",
        "iterative solution with a more generic cache or a recursive one with a tailored structure for your subproblem solutions.\n",
        "\n",
        "Let’s reverse our algorithm, filling out Pascal’s triangle directly."
      ]
    },
    {
      "cell_type": "code",
      "execution_count": 73,
      "metadata": {
        "id": "Y8UK4bDVE6Vu"
      },
      "outputs": [],
      "source": [
        "from collections import defaultdict  # we could use a regular dict , just less work with defaultdict\n",
        "# in your language check what collections are available, C#, Java have very nice collections libraries\n",
        "# careful with C++ collections, check complexity on some of them, it might not be O(1) - map for one (which turns out to be ordered)\n",
        "# you'd need to look up documentation for that particular structure - so in C++ you might need to use unordered map"
      ]
    },
    {
      "cell_type": "code",
      "execution_count": 74,
      "metadata": {
        "id": "lx96Rw9rE6Vu"
      },
      "outputs": [],
      "source": [
        "def pascal_up(n,k, debug=False):\n",
        "    Cit = defaultdict(int)\n",
        "    # Cit = {} # turns out going to plain dictionary did not help at all, slow down by 10%\n",
        "    # careful from off by one errors\n",
        "    for row in range(n+1):\n",
        "        Cit[row,0] = 1 # we could have used previous row to calculate this one, technically just need first one\n",
        "        if debug:\n",
        "            print(Cit[row,0],end=\",\")\n",
        "        # note [row,0] is we are using a tuple of two numbers as key for our dictionary\n",
        "        for col in range(1,k+1): # looking like O(n*k) space and time complexity here right?\n",
        "            # I am using get to avoid looking at edge cases (where we have no value to look up)\n",
        "            Cit[row,col] = Cit.get((row-1,col-1),0) + Cit.get((row-1,col),0) # these are all O(1) operations\n",
        "            if debug:\n",
        "                print(Cit[row,col],end=\",\")\n",
        "        if debug:\n",
        "            print()\n",
        "    return Cit[n,k]"
      ]
    },
    {
      "cell_type": "code",
      "execution_count": 75,
      "metadata": {
        "colab": {
          "base_uri": "https://localhost:8080/"
        },
        "id": "Swg-S9F6E6Vu",
        "outputId": "a0aa9d5e-5aee-4f5e-8295-ab214efa89f1"
      },
      "outputs": [
        {
          "output_type": "execute_result",
          "data": {
            "text/plain": [
              "125970"
            ]
          },
          "metadata": {},
          "execution_count": 75
        }
      ],
      "source": [
        "pascal_up(20,12)"
      ]
    },
    {
      "cell_type": "code",
      "source": [
        "pascal_up(20,12,debug=True)"
      ],
      "metadata": {
        "id": "2DxY6O5u9L0h",
        "outputId": "d28433fb-0097-4230-84e5-5a626f54374a",
        "colab": {
          "base_uri": "https://localhost:8080/"
        }
      },
      "execution_count": 76,
      "outputs": [
        {
          "output_type": "stream",
          "name": "stdout",
          "text": [
            "1,0,0,0,0,0,0,0,0,0,0,0,0,\n",
            "1,1,0,0,0,0,0,0,0,0,0,0,0,\n",
            "1,2,1,0,0,0,0,0,0,0,0,0,0,\n",
            "1,3,3,1,0,0,0,0,0,0,0,0,0,\n",
            "1,4,6,4,1,0,0,0,0,0,0,0,0,\n",
            "1,5,10,10,5,1,0,0,0,0,0,0,0,\n",
            "1,6,15,20,15,6,1,0,0,0,0,0,0,\n",
            "1,7,21,35,35,21,7,1,0,0,0,0,0,\n",
            "1,8,28,56,70,56,28,8,1,0,0,0,0,\n",
            "1,9,36,84,126,126,84,36,9,1,0,0,0,\n",
            "1,10,45,120,210,252,210,120,45,10,1,0,0,\n",
            "1,11,55,165,330,462,462,330,165,55,11,1,0,\n",
            "1,12,66,220,495,792,924,792,495,220,66,12,1,\n",
            "1,13,78,286,715,1287,1716,1716,1287,715,286,78,13,\n",
            "1,14,91,364,1001,2002,3003,3432,3003,2002,1001,364,91,\n",
            "1,15,105,455,1365,3003,5005,6435,6435,5005,3003,1365,455,\n",
            "1,16,120,560,1820,4368,8008,11440,12870,11440,8008,4368,1820,\n",
            "1,17,136,680,2380,6188,12376,19448,24310,24310,19448,12376,6188,\n",
            "1,18,153,816,3060,8568,18564,31824,43758,48620,43758,31824,18564,\n",
            "1,19,171,969,3876,11628,27132,50388,75582,92378,92378,75582,50388,\n",
            "1,20,190,1140,4845,15504,38760,77520,125970,167960,184756,167960,125970,\n"
          ]
        },
        {
          "output_type": "execute_result",
          "data": {
            "text/plain": [
              "125970"
            ]
          },
          "metadata": {},
          "execution_count": 76
        }
      ]
    },
    {
      "cell_type": "code",
      "execution_count": 77,
      "metadata": {
        "colab": {
          "base_uri": "https://localhost:8080/"
        },
        "id": "gR0lfNF1E6Vu",
        "outputId": "42253b64-495b-4914-98ef-5db2b62d5e8b"
      },
      "outputs": [
        {
          "output_type": "stream",
          "name": "stdout",
          "text": [
            "126 µs ± 27.6 µs per loop (mean ± std. dev. of 7 runs, 10000 loops each)\n"
          ]
        }
      ],
      "source": [
        "%%timeit\n",
        "pascal_up(20,12)"
      ]
    },
    {
      "cell_type": "code",
      "execution_count": 78,
      "metadata": {
        "colab": {
          "base_uri": "https://localhost:8080/"
        },
        "id": "OP3_1IVhE6Vu",
        "outputId": "430afc5a-fe02-40cc-f9d3-1c6a6884f841"
      },
      "outputs": [
        {
          "output_type": "stream",
          "name": "stdout",
          "text": [
            "115 ns ± 22.1 ns per loop (mean ± std. dev. of 7 runs, 10000000 loops each)\n"
          ]
        }
      ],
      "source": [
        "%%timeit\n",
        "C_mem(20,12)"
      ]
    },
    {
      "cell_type": "code",
      "execution_count": null,
      "metadata": {
        "colab": {
          "base_uri": "https://localhost:8080/"
        },
        "id": "skHTVZ6VE6Vu",
        "outputId": "a7db44c0-04c4-4c33-bce8-30f4ce746921"
      },
      "outputs": [
        {
          "data": {
            "text/plain": [
              "1647278652451762678788128833110870712983038446517480945400"
            ]
          },
          "execution_count": 80,
          "metadata": {},
          "output_type": "execute_result"
        }
      ],
      "source": [
        "pascal_up(200,120)"
      ]
    },
    {
      "cell_type": "code",
      "execution_count": null,
      "metadata": {
        "colab": {
          "base_uri": "https://localhost:8080/"
        },
        "id": "r_NGKFz6E6Vv",
        "outputId": "81d74902-b5f7-4253-88eb-de19626126b6"
      },
      "outputs": [
        {
          "data": {
            "text/plain": [
              "1647278652451762678788128833110870712983038446517480945400"
            ]
          },
          "execution_count": 81,
          "metadata": {},
          "output_type": "execute_result"
        }
      ],
      "source": [
        "C_mem(200,120)"
      ]
    },
    {
      "cell_type": "code",
      "execution_count": null,
      "metadata": {
        "colab": {
          "base_uri": "https://localhost:8080/"
        },
        "id": "lML1sdhaE6Vv",
        "outputId": "a892ba96-6edf-4c6f-8932-0ca2af85b0cc"
      },
      "outputs": [
        {
          "data": {
            "text/plain": [
              "59109593628908414948382028796066195825322294401884421608567282370732677108447726193711784730302760990299603214712874545403948907216441186822204871444990120418511945136706510520055755556735802821658571978418751352273298267569828345746978809441973750241286775122448947529540564006233186974990594534845090378195822798749749716850238790136589693799060708520531078121496569151588079913232831392320592160010660575061801016625866394043795717433667107028907325906172066327055484845091441072359350112683890957329354388664535777738465246096416216139097702868890896959249389851651200"
            ]
          },
          "execution_count": 82,
          "metadata": {},
          "output_type": "execute_result"
        }
      ],
      "source": [
        "pascal_up(2000,1255)"
      ]
    },
    {
      "cell_type": "code",
      "execution_count": null,
      "metadata": {
        "id": "HghPbqwDE6Vv"
      },
      "outputs": [],
      "source": [
        "# C_mem(2000,1255) # so we see the need for iterative version - other way would be to allow tail call optimization in functional languages"
      ]
    },
    {
      "cell_type": "code",
      "execution_count": null,
      "metadata": {
        "id": "qZwjcwp1E6Vv"
      },
      "outputs": [],
      "source": [
        "# so we could futher save memory for our pascal_up by only saving the needed information meaning we only need the previous row"
      ]
    },
    {
      "cell_type": "code",
      "source": [
        "# rewrite using dictionary - we have increasing row sizes!\n",
        "def combinations_iterative_optimized(n, k, debug=False):\n",
        "  \"\"\"Calculates combinations (nCk) using an iterative bottom-up approach,\n",
        "  optimizing memory by only storing the previous row of Pascal's triangle.\n",
        "\n",
        "  Args:\n",
        "    n: The total number of items.\n",
        "    k: The number of items to choose.\n",
        "\n",
        "  Returns:\n",
        "    The number of combinations (nCk).\n",
        "  \"\"\"\n",
        "  if k < 0 or k > n:\n",
        "    return 0\n",
        "  if k == 0 or k == n:\n",
        "    return 1\n",
        "\n",
        "  # Initialize the first row of Pascal's triangle\n",
        "  prev_row = [1]\n",
        "\n",
        "  for i in range(1, n + 1):\n",
        "    curr_row = [1]  # The first element of each row is always 1\n",
        "    # Calculate the intermediate elements of the current row\n",
        "    for j in range(1, i):\n",
        "      if j <= k: # Only calculate up to k to save computation and memory\n",
        "        # The value is the sum of the two elements directly above it in the previous row\n",
        "        curr_row.append(prev_row[j - 1] + prev_row[j])\n",
        "    if i <= k: # The last element of the row (if within k range) is 1\n",
        "      curr_row.append(1)\n",
        "\n",
        "    if debug:\n",
        "      print(\"Row\", i, curr_row)\n",
        "\n",
        "    prev_row = curr_row  # Update the previous row to the current row for the next iteration\n",
        "    # If we have already calculated up to k in previous row, we can break early to save computation and memory\n",
        "    if i >= k and len(prev_row) > k:\n",
        "      prev_row = prev_row[:k+1] # Trim the previous row to size k+1\n",
        "\n",
        "  return prev_row[k]"
      ],
      "metadata": {
        "id": "DTR6BUJi9vfx"
      },
      "execution_count": 81,
      "outputs": []
    },
    {
      "cell_type": "code",
      "source": [
        "combinations_iterative_optimized(5,3, debug=True)"
      ],
      "metadata": {
        "id": "Mh77Fu6S-DEg",
        "outputId": "e26b045e-a8de-4cd2-e41c-3d5989fe308c",
        "colab": {
          "base_uri": "https://localhost:8080/"
        }
      },
      "execution_count": 82,
      "outputs": [
        {
          "output_type": "stream",
          "name": "stdout",
          "text": [
            "Row 1 [1, 1]\n",
            "Row 2 [1, 2, 1]\n",
            "Row 3 [1, 3, 3, 1]\n",
            "Row 4 [1, 4, 6, 4]\n",
            "Row 5 [1, 5, 10, 10]\n"
          ]
        },
        {
          "output_type": "execute_result",
          "data": {
            "text/plain": [
              "10"
            ]
          },
          "metadata": {},
          "execution_count": 82
        }
      ]
    },
    {
      "cell_type": "code",
      "source": [
        "# let's calculate 4 out of 7\n",
        "combinations_iterative_optimized(7,6, debug=True)"
      ],
      "metadata": {
        "colab": {
          "base_uri": "https://localhost:8080/"
        },
        "id": "ATGsZTal5AXE",
        "outputId": "f8489f9f-8007-4f90-af69-a4c2ea9f37e1"
      },
      "execution_count": 86,
      "outputs": [
        {
          "output_type": "stream",
          "name": "stdout",
          "text": [
            "Row 1 [1, 1]\n",
            "Row 2 [1, 2, 1]\n",
            "Row 3 [1, 3, 3, 1]\n",
            "Row 4 [1, 4, 6, 4, 1]\n",
            "Row 5 [1, 5, 10, 10, 5, 1]\n",
            "Row 6 [1, 6, 15, 20, 15, 6, 1]\n",
            "Row 7 [1, 7, 21, 35, 35, 21, 7]\n"
          ]
        },
        {
          "output_type": "execute_result",
          "data": {
            "text/plain": [
              "7"
            ]
          },
          "metadata": {},
          "execution_count": 86
        }
      ]
    },
    {
      "cell_type": "markdown",
      "metadata": {
        "id": "sJZ7T2S4E6Vv"
      },
      "source": [
        "# Difference between TOP-DOWN (with memoization) and BOTTOM-UP (with filling up DP table)"
      ]
    },
    {
      "cell_type": "markdown",
      "metadata": {
        "id": "owaZ3qQjE6Vv"
      },
      "source": [
        "Basically the same thing is going on. The main difference is that we need to figure out which cells in the cache\n",
        "need to be filled out, and we need to find a safe order to do it in so that when we’re about to calculate C[row,col], the\n",
        "cells C[row-1,col-1] and C[row-1,col] are already calculated. With the memoized function, we needn’t worry about\n",
        "either issue: It will calculate whatever it needs recursively."
      ]
    },
    {
      "cell_type": "code",
      "execution_count": null,
      "metadata": {
        "id": "3CYUYrbVE6Vv"
      },
      "outputs": [],
      "source": [
        "## Back to LIS"
      ]
    },
    {
      "cell_type": "code",
      "execution_count": 87,
      "metadata": {
        "id": "0yytK5wtE6Vw"
      },
      "outputs": [],
      "source": [
        "# so recursive memoized solution - TOP/DOWN\n",
        "def rec_lis(seq): # Longest increasing subseq.\n",
        "    @functools.lru_cache(maxsize=None)\n",
        "    def L(cur): # Longest ending at seq[cur]\n",
        "        res = 1 # Length is at least 1 - because well because one number is always going to be a solution to non empty list\n",
        "        # so for example reversely sorted list would have a solution 1 - because the numbers are going down\n",
        "        for pre in range(cur): # Potential predecessors\n",
        "            if seq[pre] <= seq[cur]: # A valid (smaller) predec.\n",
        "                res = max(res, 1 + L(pre)) # Can we improve the solution?\n",
        "        return res\n",
        "    return max(L(i) for i in range(len(seq))) # The longest of them all"
      ]
    },
    {
      "cell_type": "code",
      "execution_count": 88,
      "metadata": {
        "colab": {
          "base_uri": "https://localhost:8080/"
        },
        "id": "BQPJ4iwqE6Vw",
        "outputId": "afa06f27-435a-437d-e956-c86710ebcf23"
      },
      "outputs": [
        {
          "output_type": "execute_result",
          "data": {
            "text/plain": [
              "3"
            ]
          },
          "metadata": {},
          "execution_count": 88
        }
      ],
      "source": [
        "rec_lis([3,1,0,2,4])"
      ]
    },
    {
      "cell_type": "code",
      "execution_count": 89,
      "metadata": {
        "colab": {
          "base_uri": "https://localhost:8080/"
        },
        "id": "CtUpotvQVP1O",
        "outputId": "b7c0deb8-249d-4225-b858-d7a1bec6a2ce"
      },
      "outputs": [
        {
          "output_type": "execute_result",
          "data": {
            "text/plain": [
              "5"
            ]
          },
          "metadata": {},
          "execution_count": 89
        }
      ],
      "source": [
        "rec_lis([3,1,0,2,4,7,-6,9])  # so 5 should be answer here"
      ]
    },
    {
      "cell_type": "code",
      "execution_count": null,
      "metadata": {
        "id": "6cAdtPoFE6Vw"
      },
      "outputs": [],
      "source": [
        "# so recursive memoized solution - TOP/DOWN\n",
        "# TODO add sequence passing\n",
        "def rec_lis_full(seq): # Longest increasing subseq.\n",
        "    @functools.lru_cache(maxsize=None)\n",
        "    def L(cur): # Longest ending at seq[cur]\n",
        "        res = 1 # Length is at least 1\n",
        "        for pre in range(cur): # Potential predecessors\n",
        "            if seq[pre] <= seq[cur]: # A valid (smaller) predec.\n",
        "                res = max(res, 1 + L(pre)) # Can we improve the solution?\n",
        "        return res\n",
        "    return max(L(i) for i in range(len(seq))) # The longest of them all"
      ]
    },
    {
      "cell_type": "code",
      "execution_count": 90,
      "metadata": {
        "id": "22aVVrNlE6Vw"
      },
      "outputs": [],
      "source": [
        "# tabulated solution\n",
        "# tabulation is the classical dynamic programming approach - BOTTOM - UP\n",
        "def basic_lis(seq, debug=True):\n",
        "    L = [1] * len(seq)\n",
        "    for cur, val in enumerate(seq):\n",
        "        for pre in range(cur): # so two nested loops smells quadratic right?\n",
        "            if seq[pre] < val:\n",
        "                L[cur] = max(L[cur], 1 + L[pre])\n",
        "                if debug:\n",
        "                    print(L)\n",
        "    return max(L) # linear lookup"
      ]
    },
    {
      "cell_type": "code",
      "execution_count": null,
      "metadata": {
        "id": "31FLwbqBE6Vw"
      },
      "outputs": [],
      "source": [
        "# TODO add iterative sequence passing"
      ]
    },
    {
      "cell_type": "code",
      "execution_count": 91,
      "metadata": {
        "colab": {
          "base_uri": "https://localhost:8080/"
        },
        "id": "j_bkXMVbE6Vw",
        "outputId": "b459f877-ebb4-4bf2-d557-d0fc56764775"
      },
      "outputs": [
        {
          "output_type": "stream",
          "name": "stdout",
          "text": [
            "[1, 1, 2, 1, 1]\n",
            "[1, 1, 2, 1, 2]\n",
            "[1, 1, 2, 1, 2]\n",
            "[1, 1, 2, 1, 3]\n",
            "[1, 1, 2, 1, 3]\n"
          ]
        },
        {
          "output_type": "execute_result",
          "data": {
            "text/plain": [
              "3"
            ]
          },
          "metadata": {},
          "execution_count": 91
        }
      ],
      "source": [
        "basic_lis([3,1,2,0,4])"
      ]
    },
    {
      "cell_type": "code",
      "execution_count": null,
      "metadata": {
        "colab": {
          "base_uri": "https://localhost:8080/"
        },
        "id": "ZethbYVLXGuk",
        "outputId": "1a5555b6-2fc7-47a4-fe1c-e088ff62e0f5"
      },
      "outputs": [
        {
          "name": "stdout",
          "output_type": "stream",
          "text": [
            "[1, 1, 1, 2, 1]\n",
            "[1, 1, 1, 2, 1]\n",
            "[1, 1, 1, 2, 2]\n",
            "[1, 1, 1, 2, 2]\n",
            "[1, 1, 1, 2, 2]\n",
            "[1, 1, 1, 2, 3]\n"
          ]
        },
        {
          "data": {
            "text/plain": [
              "3"
            ]
          },
          "execution_count": 104,
          "metadata": {},
          "output_type": "execute_result"
        }
      ],
      "source": [
        "basic_lis([3,1,0,2,4])"
      ]
    },
    {
      "cell_type": "code",
      "execution_count": null,
      "metadata": {
        "colab": {
          "base_uri": "https://localhost:8080/"
        },
        "id": "x2RFNwZiV2RU",
        "outputId": "093974d8-900a-4341-9fa6-8d8fda8d8bf2"
      },
      "outputs": [
        {
          "data": {
            "text/plain": [
              "5"
            ]
          },
          "execution_count": 82,
          "metadata": {},
          "output_type": "execute_result"
        }
      ],
      "source": [
        "basic_lis([3,1,0,2,4,7,-6,9])"
      ]
    },
    {
      "cell_type": "code",
      "execution_count": null,
      "metadata": {
        "colab": {
          "base_uri": "https://localhost:8080/"
        },
        "id": "hWAX7ICPE6Vw",
        "outputId": "db0c79b2-a308-4804-8a0a-f78bc4f7c6d5"
      },
      "outputs": [
        {
          "name": "stdout",
          "output_type": "stream",
          "text": [
            "100 V\n",
            "101 a\n",
            "102 l\n",
            "103 d\n",
            "104 i\n",
            "105 s\n"
          ]
        }
      ],
      "source": [
        "for i,n in enumerate(\"Valdis\",start=100):  # just a Pythonic way of adding index to sequences\n",
        "    print(i,n)"
      ]
    },
    {
      "cell_type": "code",
      "execution_count": null,
      "metadata": {
        "id": "1WAsZp0GE6Vx",
        "outputId": "3017c987-579f-46e9-b14d-230f40d39d75"
      },
      "outputs": [
        {
          "name": "stdout",
          "output_type": "stream",
          "text": [
            "[1, 1, 1, 2, 1, 1, 1, 1]\n",
            "[1, 1, 1, 2, 1, 1, 1, 1]\n",
            "[1, 1, 1, 2, 2, 1, 1, 1]\n",
            "[1, 1, 1, 2, 2, 1, 1, 1]\n",
            "[1, 1, 1, 2, 2, 1, 1, 1]\n",
            "[1, 1, 1, 2, 3, 1, 1, 1]\n",
            "[1, 1, 1, 2, 3, 2, 1, 1]\n",
            "[1, 1, 1, 2, 3, 2, 1, 1]\n",
            "[1, 1, 1, 2, 3, 2, 1, 1]\n",
            "[1, 1, 1, 2, 3, 3, 1, 1]\n",
            "[1, 1, 1, 2, 3, 4, 1, 1]\n",
            "[1, 1, 1, 2, 3, 4, 2, 1]\n",
            "[1, 1, 1, 2, 3, 4, 2, 1]\n",
            "[1, 1, 1, 2, 3, 4, 2, 1]\n",
            "[1, 1, 1, 2, 3, 4, 3, 1]\n",
            "[1, 1, 1, 2, 3, 4, 4, 1]\n",
            "[1, 1, 1, 2, 3, 4, 5, 1]\n",
            "[1, 1, 1, 2, 3, 4, 5, 2]\n",
            "[1, 1, 1, 2, 3, 4, 5, 2]\n",
            "[1, 1, 1, 2, 3, 4, 5, 2]\n",
            "[1, 1, 1, 2, 3, 4, 5, 3]\n",
            "[1, 1, 1, 2, 3, 4, 5, 4]\n"
          ]
        },
        {
          "data": {
            "text/plain": [
              "5"
            ]
          },
          "execution_count": 90,
          "metadata": {},
          "output_type": "execute_result"
        }
      ],
      "source": [
        "basic_lis([3,1,0,2,4,7,9,6])"
      ]
    },
    {
      "cell_type": "code",
      "execution_count": null,
      "metadata": {
        "id": "tDDag4_8WH_z"
      },
      "outputs": [],
      "source": [
        "# so basic_lis is tabulating and using two nested loops - thus O(n^2) (again not all nested loops will be n^2 but most are)\n",
        "# can we do better for this increasing subsequence length"
      ]
    },
    {
      "cell_type": "markdown",
      "metadata": {
        "id": "IlMrFt8IE6Vx"
      },
      "source": [
        "A crucial insight is that if more than one predecessor terminate subsequences of length m, it doesn’t matter which\n",
        "one of them we use—they’ll all give us an optimal answer. Say, we want to keep only one of them around; which one\n",
        "should we keep? The only safe choice would be to keep the smallest of them, because that wouldn’t wrongly preclude\n",
        "any later elements from building on it. So let’s say, inductively, that at a certain point we have a sequence end of\n",
        "endpoints, where end[idx] is the smallest among the endpoints we’ve seen for increasing subsequences of length idx+1\n",
        "(we’re indexing from 0). Because we’re iterating over the sequence, these will all have occurred earlier than our current\n",
        "value, val. All we need now is an inductive step for extending end, finding out how to add val to it. If we can do that, at\n",
        "the end of the algorithm len(end) will give us the final answer—the length of the longest increasing subsequence."
      ]
    },
    {
      "cell_type": "markdown",
      "metadata": {
        "id": "n37dP2YUE6Vx"
      },
      "source": [
        "This devilishly clever little algorithm was first was first described by Michael L. Fredman in 1975\n",
        "\n",
        "## Optimal Longest Increasing Subsequence\n",
        "https://www.sciencedirect.com/science/article/pii/0012365X7590103X"
      ]
    },
    {
      "cell_type": "code",
      "execution_count": null,
      "metadata": {
        "id": "gxt6q5PjE6Vx"
      },
      "outputs": [],
      "source": [
        "# https://docs.python.org/3/library/bisect.html - basically we use binary search to find insertion points\n",
        "from bisect import bisect  # provides support for maintaining a list in sorted order without having to sort the list after each insertion.\n",
        "def lis(seq): # Longest increasing subseq.\n",
        "    end = [] # End-values for all lengths\n",
        "    for val in seq: # Try every value, in order\n",
        "        idx = bisect(end, val) # no way to make this constant but this is logn\n",
        "        if idx == len(end): # Can we build on an end val?\n",
        "            end.append(val) # Longest seq. extended\n",
        "        else:\n",
        "            end[idx] = val # Prev. endpoint reduced\n",
        "    return len(end) # The longest we found"
      ]
    },
    {
      "cell_type": "code",
      "execution_count": null,
      "metadata": {
        "colab": {
          "base_uri": "https://localhost:8080/"
        },
        "id": "cF9YeUTpE6Vx",
        "outputId": "596f4850-1aaf-4c20-bdcc-e7bd9cf269f3"
      },
      "outputs": [
        {
          "data": {
            "text/plain": [
              "5"
            ]
          },
          "execution_count": 92,
          "metadata": {},
          "output_type": "execute_result"
        }
      ],
      "source": [
        "lis([3,1,0,2,4,7,9,6])"
      ]
    },
    {
      "cell_type": "markdown",
      "metadata": {
        "id": "OzEnGDgpZNSv"
      },
      "source": [
        "## So Top-Down\n",
        "* Create a recursive solution\n",
        "* memoize it - (cache it!)\n",
        "\n",
        "## Bottom-Up\n",
        "* figure out a way of storing previous results\n",
        "* tabulate(calculate) up\n",
        "* you might not need to store the full table maybe just previous row - can save space"
      ]
    },
    {
      "cell_type": "markdown",
      "metadata": {
        "id": "4LgRpgDgq0HF"
      },
      "source": []
    },
    {
      "cell_type": "code",
      "execution_count": null,
      "metadata": {
        "id": "eBcUUpFQq0HF"
      },
      "outputs": [],
      "source": [
        "## Let's create a function that uses tabulation of storing previous sequences to find longest increasing subsequence\n"
      ]
    },
    {
      "cell_type": "code",
      "metadata": {
        "id": "b671aa3c"
      },
      "source": [
        "def lis_tabulation(seq):\n",
        "    \"\"\"\n",
        "    Finds the longest increasing subsequence of a sequence\n",
        "    using tabulation (bottom-up dynamic programming).\n",
        "\n",
        "    Args:\n",
        "        seq: The input sequence (e.g., a list of numbers).\n",
        "\n",
        "    Returns:\n",
        "        lis_seq: The longest increasing subsequence of the input sequence.\n",
        "    \"\"\"\n",
        "    n = len(seq)\n",
        "    if n == 0:\n",
        "        return []\n",
        "\n",
        "    # Initialize lists to store the length of the LIS ending at each position\n",
        "    # and the index of the predecessor element in that LIS.\n",
        "    lis_lengths = [1] * n\n",
        "    predecessors = [-1] * n # -1 indicates no predecessor\n",
        "\n",
        "    # Iterate through the sequence to calculate LIS length and predecessors\n",
        "    for i in range(1, n):\n",
        "        for j in range(i): # so quadratic complexity even though this loops keeps getting smaller\n",
        "            # If the current element is greater than or equal to a previous element\n",
        "            # and extending the LIS ending at the previous element results in a longer LIS\n",
        "            if seq[i] >= seq[j] and lis_lengths[i] < lis_lengths[j] + 1:\n",
        "                lis_lengths[i] = lis_lengths[j] + 1\n",
        "                predecessors[i] = j # Store the index of the predecessor\n",
        "\n",
        "    # Find the index of the end of the longest increasing subsequence\n",
        "    max_length_index = 0\n",
        "    for i in range(1, n):\n",
        "        if lis_lengths[i] > lis_lengths[max_length_index]:\n",
        "            max_length_index = i\n",
        "\n",
        "    # Reconstruct the actual longest increasing subsequence by backtracking\n",
        "    lis_seq = []\n",
        "    current_index = max_length_index\n",
        "    while current_index != -1:\n",
        "        lis_seq.append(seq[current_index])\n",
        "        current_index = predecessors[current_index]\n",
        "\n",
        "    # The subsequence is built in reverse order, so reverse it before returning\n",
        "    return lis_seq[::-1]"
      ],
      "execution_count": 94,
      "outputs": []
    },
    {
      "cell_type": "code",
      "source": [
        "my_list = [3, 1, 0, 2, 4]\n",
        "lis_tabulation(my_list)"
      ],
      "metadata": {
        "colab": {
          "base_uri": "https://localhost:8080/"
        },
        "id": "XIeV6LNs7WsH",
        "outputId": "02466baf-f8cd-4ff1-baec-8168be42fb46"
      },
      "execution_count": 93,
      "outputs": [
        {
          "output_type": "execute_result",
          "data": {
            "text/plain": [
              "[1, 2, 4]"
            ]
          },
          "metadata": {},
          "execution_count": 93
        }
      ]
    },
    {
      "cell_type": "markdown",
      "source": [
        "## Problems well suited for dynamic programming\n",
        "\n",
        "So pretty much any problem that can be deconstructed in smaller instances of same problem where current solution is somehow dependent on previous smaller soltuion of same problem (for example Fibonacci, Pascal's triangle)\n",
        "\n",
        "### Top-Down Memoization\n",
        "\n",
        "If you have recursive calls, you can try caching them.\n",
        "\n",
        "### Bottom-Up Tabulation\n",
        "\n",
        "Harder, because for non-trivial problems you need to decide what is crucial for storing. You do not want to store everything...\n",
        "\n",
        "### Challenge\n",
        "\n",
        "How to determine whether there is a possibility of pure bottomo up approach.\n",
        "\n",
        "### Some other problem examples\n",
        "\n",
        "*"
      ],
      "metadata": {
        "id": "CHVrn2Z28O-m"
      }
    },
    {
      "cell_type": "markdown",
      "metadata": {
        "id": "7544c26c"
      },
      "source": [
        "*   **Fibonacci Sequence:** As we've seen, calculating Fibonacci numbers is a prime example where DP (both memoization and tabulation) significantly improves performance by avoiding redundant calculations.\n",
        "*   **Longest Increasing Subsequence (LIS):** We also explored this problem, and DP provides an efficient way to find the length and the actual subsequence.\n",
        "*   **Knapsack Problem:** Given a set of items, each with a weight and a value, determine the number of each item to include in a collection so that the total weight is less than or equal to a given limit and the total value is as large as possible.\n",
        "*   **Edit Distance (Levenshtein Distance):** Calculating the minimum number of single-character edits (insertions, deletions, or substitutions) required to change one word into the other.\n",
        "*   **Matrix Chain Multiplication:** Finding the most efficient way to multiply a given sequence of matrices.\n",
        "*   **Coin Change Problem:** Finding the number of ways to make change for a given amount using a set of coin denominations.\n",
        "*   **Maximum Subarray Sum:** Finding the contiguous subarray within a one-dimensional array of numbers which has the largest sum.\n",
        "*   **Traveling Salesperson Problem (though often solved with approximate DP or other techniques for large instances):** Finding the shortest possible route that visits every city exactly once and returns to the origin city.\n",
        "*   **Subset Sum Problem:** Given a set of integers, determine if there is a non-empty subset whose elements sum up to a given target sum."
      ]
    },
    {
      "cell_type": "markdown",
      "source": [
        "## Edit Distance (Levenshtein Distance)\n",
        "\n",
        "Calculating the minimum number of single-character edits (insertions, deletions, or substitutions) required to change one word into the other."
      ],
      "metadata": {
        "id": "VKcf3dQS9dfQ"
      }
    },
    {
      "cell_type": "code",
      "source": [
        "# so Levenshtein Distance is a measure of how many changes are needed to go from one word to another word, widely used in various NLP tasks, applicable in AI as well.\n",
        "word1 = \"school\"\n",
        "word2 = \"fool\"\n",
        "# so to go from word1 to word2 we need 3 changes\n",
        "# we take off first 2 characters and then substitute h for f - so 3 changes\n",
        "\n",
        "# Brute Force gets computationally expensive fast\n",
        "# so we need some way of tabulating or caching results\n",
        "# TODO explore this problem"
      ],
      "metadata": {
        "id": "yp8l5j-i9mQF"
      },
      "execution_count": null,
      "outputs": []
    }
  ],
  "metadata": {
    "colab": {
      "name": "Dynamic Programming.ipynb",
      "provenance": []
    },
    "kernelspec": {
      "display_name": "Python 3",
      "language": "python",
      "name": "python3"
    },
    "language_info": {
      "codemirror_mode": {
        "name": "ipython",
        "version": 3
      },
      "file_extension": ".py",
      "mimetype": "text/x-python",
      "name": "python",
      "nbconvert_exporter": "python",
      "pygments_lexer": "ipython3",
      "version": "3.10.7"
    }
  },
  "nbformat": 4,
  "nbformat_minor": 0
}