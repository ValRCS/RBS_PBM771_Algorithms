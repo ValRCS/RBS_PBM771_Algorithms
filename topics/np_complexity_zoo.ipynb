{
 "cells": [
  {
   "attachments": {},
   "cell_type": "markdown",
   "metadata": {},
   "source": [
    "# Computational complexity\n",
    "\n",
    "![Computational complexity](https://upload.wikimedia.org/wikipedia/commons/thumb/7/7e/Comparison_computational_complexity.svg/440px-Comparison_computational_complexity.svg.png)\n",
    "\n",
    "## Introduction\n",
    "\n",
    "Computational complexity is a branch of computer science that studies the amount of resources (such as time and space) required to solve computational problems. Specifically, computational complexity theory seeks to classify problems according to their difficulty, and to understand the inherent limits of computing.\n",
    "\n",
    "In computational complexity theory, problems are typically classified into different complexity classes based on the amount of resources required to solve them. For example, the class P contains problems that can be solved in polynomial time, and the class NP contains problems that can be solved in polynomial time by a nondeterministic Turing machine.\n",
    "\n",
    "The concept of computational complexity is important because it helps us understand which problems are tractable (solvable efficiently) and which problems are intractable (solvable only inefficiently). For example, some problems may require exponentially more time or space to solve as the size of the input increases, making them impractical to solve for large input sizes. Understanding the complexity of a problem is essential for developing efficient algorithms and for determining the practical limits of computing."
   ]
  },
  {
   "attachments": {},
   "cell_type": "markdown",
   "metadata": {},
   "source": [
    "## Classes of problems\n",
    "\n",
    "### P\n",
    "\n",
    "The class P contains problems that can be solved in polynomial time. A problem is in P if there is an algorithm that solves the problem in polynomial time. For example, the problem of multiplying two n × n matrices can be solved in O(n^3) time, so the problem is in P.\n",
    "\n",
    "P stands for \"polynomial time\". P problems are decision problems that can be solved in polynomial time by a deterministic Turing machine. Intuitively, this means that the time required to solve the problem grows at most polynomially with the size of the input.\n",
    "\n",
    "Some more examples of P problems ->  those that can be solved in polynomial time by a deterministic Turing machine (i.e., problems that are in the class P):\n",
    "\n",
    "* Sorting a list of n numbers: Given a list of n numbers, the problem is to rearrange the numbers in non-decreasing order. This can be done in O(n log n) time using algorithms like merge sort or quicksort.\n",
    "\n",
    "* Calculating the greatest common divisor (GCD) of two numbers: Given two positive integers a and b, the problem is to find their largest positive integer divisor. This can be done in O(log min(a, b)) time using the Euclidean algorithm.\n",
    "\n",
    "* Checking if a graph is bipartite: Given an undirected graph, the problem is to determine if it can be partitioned into two sets of vertices such that no two vertices in the same set are adjacent. This can be done in linear time (O(n + m)) using algorithms like breadth-first search or depth-first search.\n",
    "\n",
    "* Finding the shortest path between two vertices in a graph: Given a weighted graph, the problem is to find the shortest path between two vertices. This can be done in O(m log n) time using Dijkstra's algorithm or in O(m + n log n) time using the Bellman-Ford algorithm.\n",
    "\n",
    "* Testing whether a number is prime: Given a positive integer n, the problem is to determine whether it is prime. This can be done in O(sqrt(n)) time using algorithms like trial division or the Miller-Rabin test.\n",
    "\n",
    "The class P is important because it contains many practical problems that can be efficiently solved by computers. In contrast, many interesting problems in NP are believed to be intractable for large inputs, meaning that their solution time grows exponentially with the size of the input. However, it's important to note that not all interesting problems are known to be in either P or NP."
   ]
  },
  {
   "attachments": {},
   "cell_type": "markdown",
   "metadata": {},
   "source": [
    "### NP problems\n",
    "\n",
    "NP stands for \"nondeterministic polynomial time.\" NP problems are decision problems that can be solved in polynomial time by a nondeterministic Turing machine. Intuitively, this means that given a \"yes\" instance of an NP problem, there exists a certificate (a proof of the solution) that can be verified in polynomial time.\n",
    "\n",
    "Here are some examples of NP problems:\n",
    "\n",
    "* The decision version of the traveling salesman problem (TSP)\n",
    "* The decision version of the knapsack problem\n",
    "* The decision version of the graph coloring problem\n",
    "* The decision version of the subset sum problem\n",
    "\n",
    "#### What is a decision problem?\n",
    "\n",
    "A decision problem is a problem that can be solved by determining whether a given input satisfies a certain property. For example, the decision version of the traveling salesman problem (TSP) is the problem of determining whether there exists a Hamiltonian cycle in a given graph. The decision version of the knapsack problem is the problem of determining whether there exists a subset of items that has a total weight less than or equal to a given capacity. The decision version of the graph coloring problem is the problem of determining whether a given graph can be colored using at most k colors. The decision version of the subset sum problem is the problem of determining whether there exists a subset of numbers that has a total sum equal to a given target.\n"
   ]
  },
  {
   "attachments": {},
   "cell_type": "markdown",
   "metadata": {},
   "source": [
    "## P vs NP\n",
    "\n",
    "What is P vs NP problem?\n",
    "\n",
    "The P vs NP problem is perhaps the most famous open problem in computer science and mathematics. It asks whether every problem in NP can be solved in polynomial time by a deterministic Turing machine (i.e., whether P = NP).\n",
    "\n",
    "To clarify, if P = NP, it would mean that all problems that can be verified in polynomial time (i.e., all problems in NP) can also be solved in polynomial time. This would have profound implications for many fields, including cryptography, optimization, and artificial intelligence. For example, if P = NP, then many encryption schemes used in online transactions would be vulnerable to attack, and some of the most difficult optimization problems in operations research could be solved efficiently.\n",
    "\n",
    "However, despite decades of research, no one has been able to prove whether P = NP or P ≠ NP. The prevailing belief among computer scientists and mathematicians is that P ≠ NP, but this remains an unsolved problem. The Clay Mathematics Institute has offered a $1 million prize for a proof of the P vs NP problem, which remains unclaimed.\n",
    "\n",
    "Link to prize: https://www.claymath.org/millennium-problems/p-vs-np-problem\n",
    "\n",
    "![NPvP](https://upload.wikimedia.org/wikipedia/commons/thumb/a/a0/P_np_np-complete_np-hard.svg/600px-P_np_np-complete_np-hard.svg.png)"
   ]
  },
  {
   "attachments": {},
   "cell_type": "markdown",
   "metadata": {},
   "source": [
    "## Deterministic vs nondeterministic Turing machines\n",
    "\n",
    "### Deterministic Turing machines\n",
    "\n",
    "![Tm](https://upload.wikimedia.org/wikipedia/commons/thumb/0/03/Turing_Machine_Model_Davey_2012.jpg/440px-Turing_Machine_Model_Davey_2012.jpg)\n",
    "\n",
    "A deterministic Turing machine is a mathematical model of a computer that operates on an infinite tape divided into cells, each containing a symbol from a finite alphabet. The machine moves along the tape and reads and writes symbols according to a set of rules, called the transition function.\n",
    "\n",
    "The key feature of a deterministic Turing machine is that for any given input and current state, there is exactly one transition that the machine can take. That is, the next state of the machine and the symbol to be written on the tape are uniquely determined by the current state and the symbol being read.\n",
    "\n",
    "This deterministic behavior makes the model simple and easy to understand, and it is sufficient for many practical applications. However, there are some problems that cannot be efficiently solved by a deterministic Turing machine, even though they can be solved by a nondeterministic Turing machine. This is why the concept of a nondeterministic Turing machine is important in the study of computational complexity theory and the P vs NP problem.\n",
    "\n",
    "### Nondeterministic Turing machines\n",
    "\n",
    "![NDT](https://upload.wikimedia.org/wikipedia/commons/thumb/1/16/Difference_between_deterministic_and_Nondeterministic.svg/700px-Difference_between_deterministic_and_Nondeterministic.svg.png)\n",
    "\n",
    "A nondeterministic Turing machine is a theoretical model of computation that extends the concept of a deterministic Turing machine. Like a deterministic Turing machine, a nondeterministic Turing machine is a mathematical model of a computer that operates on an infinite tape divided into cells, each containing a symbol from a finite alphabet.\n",
    "\n",
    "The key difference between a nondeterministic Turing machine and a deterministic Turing machine is that a nondeterministic Turing machine can be in multiple states simultaneously, whereas a deterministic Turing machine can only be in one state at a time. This allows a nondeterministic Turing machine to explore multiple paths of computation in parallel, which can sometimes lead to exponential speedups in solving certain types of problems.\n",
    "\n",
    "In the context of the P vs NP problem, the concept of a nondeterministic Turing machine is important because the definition of NP is based on the idea of a nondeterministic Turing machine. Specifically, a decision problem is in NP if it can be solved in polynomial time by a nondeterministic Turing machine, which can be thought of as exploring all possible solutions in parallel and verifying the correctness of one of them in polynomial time."
   ]
  },
  {
   "attachments": {},
   "cell_type": "markdown",
   "metadata": {},
   "source": [
    "## NP Complete Problems\n",
    "\n",
    "NP-complete problems are a class of decision problems in computational complexity theory that are both in NP (problems that can be solved in polynomial time by a nondeterministic Turing machine) and are NP-hard (problems to which all problems in NP can be polynomially reduced).\n",
    "\n",
    "Informally, NP-complete problems are the hardest problems in NP, in the sense that if any one of them can be solved in polynomial time, then all problems in NP can be solved in polynomial time. This is known as the \"P vs NP\" problem, one of the most important open problems in computer science.\n",
    "\n",
    "The canonical example of an NP-complete problem is the decision version of the Boolean satisfiability problem (SAT), which asks whether a given Boolean formula in conjunctive normal form (CNF) is satisfiable (i.e., whether there exists an assignment of truth values to the variables that makes the formula true). Many other important problems in computer science, such as the traveling salesman problem (TSP), the knapsack problem, and graph coloring, are also known to be NP-complete.\n",
    "\n",
    "Due to their importance and their presumed computational intractability, NP-complete problems have attracted significant attention in computational complexity theory, and many researchers have focused on developing approximation algorithms and heuristics to solve them efficiently for practical purposes."
   ]
  },
  {
   "attachments": {},
   "cell_type": "markdown",
   "metadata": {},
   "source": [
    "## NP - Hard Problems\n",
    "\n",
    "NP-hardness is a measure of computational complexity that is used to describe the difficulty of solving a computational problem. A problem is said to be NP-hard if it is at least as hard as the hardest problems in NP.\n",
    "\n",
    "Formally, a problem is NP-hard if every problem in NP can be reduced to it in polynomial time. In other words, if there exists a polynomial-time algorithm that solves an NP-hard problem, then there exists a polynomial-time algorithm that solves all problems in NP.\n",
    "\n",
    "NP-hardness is a useful concept in computational complexity theory because it allows us to compare the relative difficulty of different computational problems. For example, if we can show that a new problem is NP-hard, then we know that it is at least as hard as problems like the traveling salesman problem, the knapsack problem, and other well-known NP-hard problems.\n",
    "\n",
    "It is important to note that NP-hardness does not imply that a problem is in NP (i.e., that it can be solved in polynomial time by a nondeterministic Turing machine), nor does it imply that a problem is unsolvable. Rather, NP-hardness is a measure of the worst-case complexity of a problem, and is often used as a benchmark for evaluating the efficiency of algorithms and heuristics for solving the problem."
   ]
  },
  {
   "attachments": {},
   "cell_type": "markdown",
   "metadata": {},
   "source": [
    "## Other complexity classes\n",
    "\n",
    "In addition to P and NP, there are several other complexity classes that are important in computational complexity theory. Here are some examples:\n",
    "\n",
    "* NP-hard: A problem is NP-hard if every problem in NP can be reduced to it in polynomial time. This means that NP-hard problems are at least as hard as the hardest problems in NP. The canonical example of an NP-hard problem is the decision version of the Boolean satisfiability problem (SAT).\n",
    "\n",
    "* NP-complete: A problem is NP-complete if it is in NP and is also NP-hard. This means that NP-complete problems are the hardest problems in NP. The canonical example of an NP-complete problem is the decision version of the traveling salesman problem (TSP).\n",
    "\n",
    "* PSPACE: PSPACE stands for \"polynomial space\". This is the class of decision problems that can be solved in polynomial space by a deterministic Turing machine. PSPACE includes many interesting problems, such as the quantified Boolean formula problem and the game of Go.\n",
    "\n",
    "* EXPTIME: EXPTIME stands for \"exponential time\". This is the class of decision problems that can be solved in exponential time by a deterministic Turing machine. EXPTIME includes many problems that are intractable for practical input sizes, such as the decision version of the general satisfiability problem.\n",
    "\n",
    "*  BPP: BPP stands for \"bounded error probabilistic polynomial time\". This is the class of decision problems that can be solved in polynomial time with a randomized algorithm that makes at most a certain probability of error (e.g., less than 1/3). BPP includes many important randomized algorithms, such as the Miller-Rabin primality test and the Monte Carlo algorithm for approximating the value of pi.\n",
    "\n",
    "![Venn](https://i0.wp.com/jeremykun.com/wp-content/uploads/2012/02/chp_venn_diagram.jpg)"
   ]
  },
  {
   "attachments": {},
   "cell_type": "markdown",
   "metadata": {},
   "source": [
    "## Proving complexity class\n",
    "\n",
    "To prove that a problem belongs to a certain complexity class, one typically needs to show that the problem satisfies the defining criteria for that class. For example, to prove that a problem is in P, one needs to provide an algorithm that solves the problem in polynomial time, and to prove that a problem is in NP, one needs to provide a polynomial-time verifier for the problem.\n",
    "\n",
    "Here are some general steps that one might follow to prove that a problem is in a certain complexity class:\n",
    "\n",
    "* Define the problem precisely: One needs to clearly specify what the problem is, what the input is, what the output should be, and what the constraints are.\n",
    "\n",
    "* Provide an algorithm or a verifier: Depending on the complexity class, one needs to provide either an algorithm that solves the problem or a polynomial-time verifier for the problem. The algorithm or verifier should be well-defined and correct.\n",
    "\n",
    "* Analyze the time or space complexity: One needs to show that the algorithm or verifier runs in polynomial time or space, depending on the complexity class. This usually involves analyzing the number of operations or the amount of memory used by the algorithm or verifier as a function of the input size.\n",
    "\n",
    "* Show completeness or hardness: For some complexity classes, such as NP-complete and NP-hard, one needs to show that the problem is at least as hard as the hardest problems in the class. This usually involves reducing another problem known to be in the class to the problem in question.\n",
    "\n",
    "* Provide a formal proof: One needs to provide a rigorous proof that the problem satisfies the defining criteria for the complexity class. This usually involves using mathematical notation and logic to show that the algorithm or verifier runs in polynomial time or satisfies other conditions required by the class."
   ]
  },
  {
   "attachments": {},
   "cell_type": "markdown",
   "metadata": {},
   "source": [
    "## References:\n",
    "\n",
    "* https://complexityzoo.net/Complexity_Zoo\n",
    "* https://jeffe.cs.illinois.edu/teaching/algorithms/book/12-nphard.pdf\n"
   ]
  }
 ],
 "metadata": {
  "language_info": {
   "name": "python"
  },
  "orig_nbformat": 4
 },
 "nbformat": 4,
 "nbformat_minor": 2
}
