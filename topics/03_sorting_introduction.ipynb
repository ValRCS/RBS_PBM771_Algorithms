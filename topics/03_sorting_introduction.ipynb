{
  "cells": [
    {
      "cell_type": "markdown",
      "metadata": {
        "id": "teUUxpod3tsE",
        "toc": true
      },
      "source": [
        "<h1>Table of Contents<span class=\"tocSkip\"></span></h1>\n",
        "<div class=\"toc\" style=\"margin-top: 1em;\"><ul class=\"toc-item\"><li><span><a href=\"#Algorithm-complexity\" data-toc-modified-id=\"Algorithm-complexity-1\"><span class=\"toc-item-num\">1&nbsp;&nbsp;</span>Algorithm complexity</a></span><ul class=\"toc-item\"><li><span><a href=\"#Search-algorithm\" data-toc-modified-id=\"Search-algorithm-1.1\"><span class=\"toc-item-num\">1.1&nbsp;&nbsp;</span>Search algorithm</a></span><ul class=\"toc-item\"><li><span><a href=\"#Linear-search\" data-toc-modified-id=\"Linear-search-1.1.1\"><span class=\"toc-item-num\">1.1.1&nbsp;&nbsp;</span>Linear search</a></span></li><li><span><a href=\"#Binary-search\" data-toc-modified-id=\"Binary-search-1.1.2\"><span class=\"toc-item-num\">1.1.2&nbsp;&nbsp;</span>Binary search</a></span></li></ul></li></ul></li><li><span><a href=\"#Sorting-algorithms\" data-toc-modified-id=\"Sorting-algorithms-2\"><span class=\"toc-item-num\">2&nbsp;&nbsp;</span>Sorting algorithms</a></span><ul class=\"toc-item\"><li><ul class=\"toc-item\"><li><span><a href=\"#Bubble-sort\" data-toc-modified-id=\"Bubble-sort-2.0.1\"><span class=\"toc-item-num\">2.0.1&nbsp;&nbsp;</span>Bubble sort</a></span></li><li><span><a href=\"#Selection-sort\" data-toc-modified-id=\"Selection-sort-2.0.2\"><span class=\"toc-item-num\">2.0.2&nbsp;&nbsp;</span>Selection sort</a></span></li><li><span><a href=\"#Insertion-sort\" data-toc-modified-id=\"Insertion-sort-2.0.3\"><span class=\"toc-item-num\">2.0.3&nbsp;&nbsp;</span>Insertion sort</a></span></li><li><span><a href=\"#Merge-Sort\" data-toc-modified-id=\"Merge-Sort-2.0.4\"><span class=\"toc-item-num\">2.0.4&nbsp;&nbsp;</span>Merge Sort</a></span></li><li><span><a href=\"#Quick-sort\" data-toc-modified-id=\"Quick-sort-2.0.5\"><span class=\"toc-item-num\">2.0.5&nbsp;&nbsp;</span>Quick sort</a></span></li></ul></li></ul></li></ul></div>"
      ]
    },
    {
      "cell_type": "markdown",
      "metadata": {
        "id": "5nbKWxTD3tsK"
      },
      "source": [
        "Discussion and implementation of basic sorting algorithms"
      ]
    },
    {
      "cell_type": "markdown",
      "metadata": {
        "id": "Fa-tT_z53tsL"
      },
      "source": [
        "Notebook is adapted from: https://github.com/shik3519/programming-concepts-for-data-science\n",
        "Content is heavily derived from: http://interactivepython.org/runestone/static/pythonds/index.html"
      ]
    },
    {
      "cell_type": "code",
      "execution_count": 1,
      "metadata": {
        "id": "SFFVn81f3tsL"
      },
      "outputs": [],
      "source": [
        "import pandas as pd\n",
        "import numpy as np\n",
        "import time\n",
        "import matplotlib.pyplot as plt\n",
        "%matplotlib inline"
      ]
    },
    {
      "cell_type": "markdown",
      "metadata": {
        "heading_collapsed": true,
        "id": "TZ47CVD93tsN"
      },
      "source": [
        "# Algorithm complexity"
      ]
    },
    {
      "cell_type": "markdown",
      "metadata": {
        "hidden": true,
        "id": "CsQVRt1b3tsO"
      },
      "source": [
        "`Big O notation` is used in Computer Science to describe the performance or complexity of an algorithm. Big O specifically describes the worst-case scenario, and can be used to describe the execution time required or the space used."
      ]
    },
    {
      "cell_type": "markdown",
      "metadata": {
        "id": "bMsrM-XDjKC9"
      },
      "source": []
    },
    {
      "cell_type": "markdown",
      "metadata": {
        "hidden": true,
        "id": "3SRBmHuj3tsO"
      },
      "source": [
        "More on Big O notation: https://www.interviewcake.com/article/python/big-o-notation-time-and-space-complexity"
      ]
    },
    {
      "cell_type": "markdown",
      "metadata": {
        "hidden": true,
        "id": "1rwDFkW03tsP"
      },
      "source": [
        "![selection](https://github.com/ValRCS/RTU_Algorithms_DIP321/blob/main/imgs/bigo.png?raw=1)"
      ]
    },
    {
      "cell_type": "markdown",
      "source": [
        "## Resource on complexity\n",
        "\n",
        "https://www.bigocheatsheet.com/"
      ],
      "metadata": {
        "id": "yoPns5uTmJ5u"
      }
    },
    {
      "cell_type": "markdown",
      "metadata": {
        "hidden": true,
        "id": "Xp0XHF3L3tsQ"
      },
      "source": [
        "<img src=\"http://interactivepython.org/runestone/static/pythonds/_images/newplot.png\">"
      ]
    },
    {
      "cell_type": "markdown",
      "metadata": {
        "hidden": true,
        "id": "Z0Rrsybj3tsR"
      },
      "source": [
        "Let's understand this through 2 different implementation of search algorithm"
      ]
    },
    {
      "cell_type": "markdown",
      "metadata": {
        "heading_collapsed": true,
        "hidden": true,
        "id": "pFzOr1Cc3tsS"
      },
      "source": [
        "## Search algorithm"
      ]
    },
    {
      "cell_type": "markdown",
      "metadata": {
        "heading_collapsed": true,
        "hidden": true,
        "id": "q-H4MSB33tsS"
      },
      "source": [
        "### Linear search"
      ]
    },
    {
      "cell_type": "code",
      "execution_count": null,
      "metadata": {
        "hidden": true,
        "id": "NAQioi_V3tsS"
      },
      "outputs": [],
      "source": [
        "def linear_search(sequence, target):\n",
        "    for element in sequence:\n",
        "        if element == target:\n",
        "            return True\n",
        "    return False"
      ]
    },
    {
      "cell_type": "code",
      "execution_count": null,
      "metadata": {
        "colab": {
          "base_uri": "https://localhost:8080/"
        },
        "hidden": true,
        "id": "6a_aQUJM3tsT",
        "outputId": "fdafc797-2633-4f72-9281-5db6b7e53b33"
      },
      "outputs": [
        {
          "output_type": "execute_result",
          "data": {
            "text/plain": [
              "(array([0, 1, 2, 3, 4]), array([99995, 99996, 99997, 99998, 99999]))"
            ]
          },
          "metadata": {},
          "execution_count": 3
        }
      ],
      "source": [
        "l = np.arange(100_000)\n",
        "l[:5],l[-5:]"
      ]
    },
    {
      "cell_type": "code",
      "source": [
        "l.dtype # so all members of np array have to have the same data type (unlike lists)"
      ],
      "metadata": {
        "colab": {
          "base_uri": "https://localhost:8080/"
        },
        "id": "fcPSnfMIlxlB",
        "outputId": "03b55c8b-724a-4474-a6e7-c3466a49b45a"
      },
      "execution_count": null,
      "outputs": [
        {
          "output_type": "execute_result",
          "data": {
            "text/plain": [
              "dtype('int64')"
            ]
          },
          "metadata": {},
          "execution_count": 4
        }
      ]
    },
    {
      "cell_type": "code",
      "execution_count": null,
      "metadata": {
        "colab": {
          "base_uri": "https://localhost:8080/"
        },
        "hidden": true,
        "id": "gv2gTYSy3tsT",
        "outputId": "b57f8ee2-b63d-401b-8772-ec2fc6fc2c6c"
      },
      "outputs": [
        {
          "output_type": "stream",
          "name": "stdout",
          "text": [
            "13.4 ms ± 3.67 ms per loop (mean ± std. dev. of 7 runs, 100 loops each)\n"
          ]
        }
      ],
      "source": [
        "%%timeit\n",
        "linear_search(l,99_999)"
      ]
    },
    {
      "cell_type": "code",
      "execution_count": null,
      "metadata": {
        "colab": {
          "base_uri": "https://localhost:8080/"
        },
        "id": "oVWgxTR1M0Wo",
        "outputId": "e66269ae-d66a-492c-b9b6-837edcad7cce"
      },
      "outputs": [
        {
          "output_type": "stream",
          "name": "stdout",
          "text": [
            "597 ns ± 143 ns per loop (mean ± std. dev. of 7 runs, 1000000 loops each)\n"
          ]
        }
      ],
      "source": [
        "%%timeit\n",
        "linear_search(l,1)"
      ]
    },
    {
      "cell_type": "code",
      "execution_count": null,
      "metadata": {
        "colab": {
          "base_uri": "https://localhost:8080/"
        },
        "id": "rxtE0MfJ8rsF",
        "outputId": "29f1b254-0124-4746-eedc-8ea959ef34fc"
      },
      "outputs": [
        {
          "output_type": "stream",
          "name": "stdout",
          "text": [
            "13.7 ms ± 3.92 ms per loop (mean ± std. dev. of 7 runs, 100 loops each)\n"
          ]
        }
      ],
      "source": [
        "%%timeit\n",
        "linear_search(l, 53543324234)"
      ]
    },
    {
      "cell_type": "code",
      "execution_count": null,
      "metadata": {
        "colab": {
          "base_uri": "https://localhost:8080/"
        },
        "id": "XMLFEbQSjKDC",
        "outputId": "6bc78e01-0a78-4139-b210-e73fc549939e"
      },
      "outputs": [
        {
          "output_type": "stream",
          "name": "stdout",
          "text": [
            "15.7 ms ± 4.83 ms per loop (mean ± std. dev. of 7 runs, 100 loops each)\n"
          ]
        }
      ],
      "source": [
        "%%timeit\n",
        "linear_search(l, 3_024_234)"
      ]
    },
    {
      "cell_type": "markdown",
      "metadata": {
        "id": "sEvFNRe5jKDC"
      },
      "source": [
        "### Gotchas in Linear Search\n",
        "\n",
        "We saw how in practice there can be differences in the number of steps required to execute a linear search based on the order of the data. This is a good example of how Big O notation is an important concept that applies to more than just the performance of algorithms. We will revisit this concept in the context of sorting algorithms later in this course.\n",
        "\n",
        "Hypothesis: looking for big number over int64 incurs a penalty compared to looking for small number that fits in int32 - in this case about 10-12 times slower"
      ]
    },
    {
      "cell_type": "markdown",
      "metadata": {
        "hidden": true,
        "id": "ZsFZfJ5F3tsT"
      },
      "source": [
        "Time scales linearly with n. So Big-O is $O(n)$"
      ]
    },
    {
      "cell_type": "markdown",
      "metadata": {
        "heading_collapsed": true,
        "hidden": true,
        "id": "KsvpBoGT3tsT"
      },
      "source": [
        "### Binary search"
      ]
    },
    {
      "cell_type": "markdown",
      "metadata": {
        "hidden": true,
        "id": "V6pqKlAI3tsU"
      },
      "source": [
        "Iterative algo"
      ]
    },
    {
      "cell_type": "code",
      "execution_count": null,
      "metadata": {
        "hidden": true,
        "id": "Uv3k1zs53tsU"
      },
      "outputs": [],
      "source": [
        "def binarySearchIterative(a, t):\n",
        "    upper = len(a) - 1 # the last index\n",
        "    lower = 0 # start index\n",
        "    while lower <= upper:\n",
        "        middle = (lower + upper) // 2  # so we want middle to be an integer\n",
        "        if t == a[middle]:\n",
        "            return True\n",
        "        else:\n",
        "            if t < a[middle]:\n",
        "                upper = middle - 1\n",
        "            else:\n",
        "                lower = middle + 1\n",
        "    return False"
      ]
    },
    {
      "cell_type": "code",
      "execution_count": null,
      "metadata": {
        "hidden": true,
        "id": "oGZFsyTg3tsU"
      },
      "outputs": [],
      "source": [
        "l = np.arange(100_000)"
      ]
    },
    {
      "cell_type": "code",
      "execution_count": null,
      "metadata": {
        "colab": {
          "base_uri": "https://localhost:8080/"
        },
        "hidden": true,
        "id": "NWcnjpG-3tsU",
        "outputId": "d8565204-a63b-4e6b-f8e0-a7c7b5b950b7"
      },
      "outputs": [
        {
          "output_type": "stream",
          "name": "stdout",
          "text": [
            "9.65 µs ± 2.8 µs per loop (mean ± std. dev. of 7 runs, 100000 loops each)\n"
          ]
        }
      ],
      "source": [
        "%%timeit\n",
        "binarySearchIterative(l,99_999)"
      ]
    },
    {
      "cell_type": "code",
      "execution_count": null,
      "metadata": {
        "colab": {
          "base_uri": "https://localhost:8080/"
        },
        "id": "fP9WnwrL9dws",
        "outputId": "6792cfb3-42a6-4e71-b290-a02ed36b1af8"
      },
      "outputs": [
        {
          "output_type": "stream",
          "name": "stdout",
          "text": [
            "9.53 µs ± 2.62 µs per loop (mean ± std. dev. of 7 runs, 100000 loops each)\n"
          ]
        }
      ],
      "source": [
        "%%timeit\n",
        "binarySearchIterative(l,1)\n"
      ]
    },
    {
      "cell_type": "code",
      "execution_count": null,
      "metadata": {
        "id": "Z_wIPFmjjKDD",
        "outputId": "eebe1032-18b7-453e-c6dd-54af0e067b59"
      },
      "outputs": [
        {
          "name": "stdout",
          "output_type": "stream",
          "text": [
            "21 µs ± 3.55 µs per loop (mean ± std. dev. of 7 runs, 10,000 loops each)\n"
          ]
        }
      ],
      "source": [
        "%%timeit\n",
        "# now looking for middle value should be a bit faster\n",
        "binarySearchIterative(l, 50_000)"
      ]
    },
    {
      "cell_type": "code",
      "execution_count": null,
      "metadata": {
        "id": "l8xdn7NqjKDF",
        "outputId": "8e230e53-66fe-4861-dbec-112128d3a47f"
      },
      "outputs": [
        {
          "name": "stdout",
          "output_type": "stream",
          "text": [
            "1.22 µs ± 50.2 ns per loop (mean ± std. dev. of 7 runs, 1,000,000 loops each)\n"
          ]
        }
      ],
      "source": [
        "%%timeit\n",
        "# now looking for middle value should be a bit faster\n",
        "binarySearchIterative(l, 49_999)"
      ]
    },
    {
      "cell_type": "markdown",
      "source": [
        "## Was Steve Ballmer wrong?\n",
        "\n",
        "https://gukov.dev/puzzles/math/2024/09/05/steve-ballmer-was-wrong.html\n",
        "\n",
        "One of the takeaways from the article is that a bit of randomness can counter an adversary."
      ],
      "metadata": {
        "id": "OzGAQ7_RooWv"
      }
    },
    {
      "cell_type": "code",
      "source": [
        "import math\n",
        "math.log2(100)"
      ],
      "metadata": {
        "colab": {
          "base_uri": "https://localhost:8080/"
        },
        "id": "18_t18ZCouSt",
        "outputId": "37e906ea-e669-480a-9938-3661a104f997"
      },
      "execution_count": null,
      "outputs": [
        {
          "output_type": "execute_result",
          "data": {
            "text/plain": [
              "6.643856189774724"
            ]
          },
          "metadata": {},
          "execution_count": 14
        }
      ]
    },
    {
      "cell_type": "code",
      "execution_count": null,
      "metadata": {
        "id": "5ZU-nBk1jKDF",
        "outputId": "1beeeeea-8d4a-4834-db93-3ecf57435984"
      },
      "outputs": [
        {
          "data": {
            "text/plain": [
              "131072"
            ]
          },
          "execution_count": 17,
          "metadata": {},
          "output_type": "execute_result"
        }
      ],
      "source": [
        "# base 2 log of 100_000 is 16.609640474436812\n",
        "# so we should expect to find 50_000 in about 17 steps\n",
        "2**17"
      ]
    },
    {
      "cell_type": "markdown",
      "metadata": {
        "id": "hz_YujufjKDF"
      },
      "source": [
        "## Best - worst - average case - for binary search\n",
        "\n",
        "* Best - $O(1)$ - we hit the middle element immediately (49_999 in our case, not 50k!)\n",
        "* Worst - $O(log(n))$ - we have to divide the array in half 16 times to get to 1 element\n",
        "* Average - $O(log(n))$ - it is half of log(n) on average but that is still $O(log(n))$ in Big-O notation\n",
        "\n"
      ]
    },
    {
      "cell_type": "code",
      "execution_count": null,
      "metadata": {
        "colab": {
          "base_uri": "https://localhost:8080/"
        },
        "id": "0VZtASzU9yN1",
        "outputId": "25e6e1bd-0c35-4a46-e100-09cfa069a2ab"
      },
      "outputs": [
        {
          "name": "stdout",
          "output_type": "stream",
          "text": [
            "189 µs ± 28.4 µs per loop (mean ± std. dev. of 7 runs, 1,000 loops each)\n"
          ]
        }
      ],
      "source": [
        "%%timeit\n",
        "binarySearchIterative(l,65432654363)"
      ]
    },
    {
      "cell_type": "code",
      "execution_count": null,
      "metadata": {
        "id": "2u5-xg9JjKDG",
        "outputId": "64215c78-9cc0-4ec2-e2b9-c8c7954aeab8"
      },
      "outputs": [
        {
          "name": "stdout",
          "output_type": "stream",
          "text": [
            "24.7 µs ± 5.45 µs per loop (mean ± std. dev. of 7 runs, 10,000 loops each)\n"
          ]
        }
      ],
      "source": [
        "%%timeit\n",
        "binarySearchIterative(l,555_555) # should be faster than looking for big number"
      ]
    },
    {
      "cell_type": "markdown",
      "metadata": {
        "hidden": true,
        "id": "1z7Zqprs3tsV"
      },
      "source": [
        "Time scales linearly with n. So Big-O is $O(log(n))$"
      ]
    },
    {
      "cell_type": "markdown",
      "metadata": {
        "hidden": true,
        "id": "tMWTIbI63tsV"
      },
      "source": [
        "We can see that binary search is almost 30x faster"
      ]
    },
    {
      "cell_type": "markdown",
      "metadata": {
        "hidden": true,
        "id": "i_ACmidv3tsV"
      },
      "source": [
        "We can do binary search in a recursive way too"
      ]
    },
    {
      "cell_type": "code",
      "execution_count": null,
      "metadata": {
        "hidden": true,
        "id": "Uojgsc8K3tsV"
      },
      "outputs": [],
      "source": [
        "def binarySearchRecursive(a, t):\n",
        "    upper = len(a) - 1\n",
        "    lower = 0\n",
        "    if upper >= 0:\n",
        "        middle = (lower + upper) // 2\n",
        "        if t == a[middle]:\n",
        "            return True\n",
        "        if t < a[middle]:\n",
        "            return binarySearchRecursive(a[:middle], t)\n",
        "        else:\n",
        "            return binarySearchRecursive(a[middle + 1:], t)\n",
        "    return False"
      ]
    },
    {
      "cell_type": "code",
      "execution_count": null,
      "metadata": {
        "colab": {
          "base_uri": "https://localhost:8080/"
        },
        "hidden": true,
        "id": "xuxeOCyG3tsV",
        "outputId": "c2a74ddf-1174-4eb9-ffce-0ce248fefe9c"
      },
      "outputs": [
        {
          "output_type": "stream",
          "name": "stdout",
          "text": [
            "16.2 µs ± 3.05 µs per loop (mean ± std. dev. of 7 runs, 100000 loops each)\n"
          ]
        }
      ],
      "source": [
        "%%timeit\n",
        "binarySearchRecursive(l,1)"
      ]
    },
    {
      "cell_type": "code",
      "execution_count": null,
      "metadata": {
        "colab": {
          "base_uri": "https://localhost:8080/"
        },
        "id": "JMkI4ws9-V2B",
        "outputId": "2ad4c164-1566-45cf-96ec-2f3ed87c8ebd"
      },
      "outputs": [
        {
          "output_type": "stream",
          "name": "stdout",
          "text": [
            "17.3 µs ± 4.4 µs per loop (mean ± std. dev. of 7 runs, 100000 loops each)\n"
          ]
        }
      ],
      "source": [
        "%%timeit\n",
        "binarySearchRecursive(l,5463999)"
      ]
    },
    {
      "cell_type": "markdown",
      "metadata": {
        "id": "TRfpEd1JjKDM"
      },
      "source": [
        "## Built in binary search in Python\n",
        "\n",
        "In production(ie real life) use built in libraries or other good libraries if possible."
      ]
    },
    {
      "cell_type": "code",
      "execution_count": 2,
      "metadata": {
        "id": "mqIyLOUajKDM"
      },
      "outputs": [],
      "source": [
        "# Python has a built-in binary search function\n",
        "# it is called bisect\n",
        "\n",
        "from bisect import bisect_left\n",
        "\n",
        "# docs: https://docs.python.org/3/library/bisect.html\n",
        "\n",
        "# bisect will fail if the list is not sorted!\n"
      ]
    },
    {
      "cell_type": "code",
      "source": [
        "# let's have a small sorted list l of say 10 random items\n",
        "import random\n",
        "random.seed(2025) # to get same pseudo-numbers each time\n",
        "l = sorted([random.randint(1,100) for _ in range(10)])\n",
        "l"
      ],
      "metadata": {
        "colab": {
          "base_uri": "https://localhost:8080/"
        },
        "id": "Ouabn3WRnr9S",
        "outputId": "ea8cb236-12e1-42b0-8189-0cca07354a42"
      },
      "execution_count": 6,
      "outputs": [
        {
          "output_type": "execute_result",
          "data": {
            "text/plain": [
              "[1, 11, 23, 48, 49, 62, 68, 72, 73, 83]"
            ]
          },
          "metadata": {},
          "execution_count": 6
        }
      ]
    },
    {
      "cell_type": "code",
      "source": [
        "# let us check if bisect_left works\n",
        "bisect_left(l,1), bisect_left(l,10), bisect_left(l,20), bisect_left(l,50), bisect_left(l,100)"
      ],
      "metadata": {
        "colab": {
          "base_uri": "https://localhost:8080/"
        },
        "id": "Y-8_mjB5oNFw",
        "outputId": "295ae69c-46d3-4bd5-e0b1-517efaca2c87"
      },
      "execution_count": 9,
      "outputs": [
        {
          "output_type": "execute_result",
          "data": {
            "text/plain": [
              "(0, 1, 2, 5, 10)"
            ]
          },
          "metadata": {},
          "execution_count": 9
        }
      ]
    },
    {
      "cell_type": "code",
      "execution_count": 10,
      "metadata": {
        "colab": {
          "base_uri": "https://localhost:8080/"
        },
        "id": "Np28JM-JjKDN",
        "outputId": "9b375de1-4ef4-4b78-918a-3520506d9eb5"
      },
      "outputs": [
        {
          "output_type": "stream",
          "name": "stdout",
          "text": [
            "113 ns ± 28.4 ns per loop (mean ± std. dev. of 7 runs, 10000000 loops each)\n"
          ]
        }
      ],
      "source": [
        "%%timeit\n",
        "bisect_left(l,1)"
      ]
    },
    {
      "cell_type": "markdown",
      "metadata": {
        "heading_collapsed": true,
        "id": "rEMz6f6D3tsW"
      },
      "source": [
        "# Sorting algorithms"
      ]
    },
    {
      "cell_type": "code",
      "execution_count": null,
      "metadata": {
        "id": "8dot3O233tsW"
      },
      "outputs": [],
      "source": [
        "# What is the worst type of sorting algorithm that you can think of ?\n",
        "# https://en.wikipedia.org/wiki/Bogosort\n",
        "# while not isInOrder(deck):\n",
        "#    shuffle(deck)"
      ]
    },
    {
      "cell_type": "code",
      "execution_count": 11,
      "metadata": {
        "id": "P6u9C3iI3tsW"
      },
      "outputs": [],
      "source": [
        "from random import shuffle # shuffling is kind of hard to get right so we will use the built-in function\n",
        "\n",
        "def is_sorted(data) -> bool:\n",
        "    \"\"\"Determine whether the data is sorted.\"\"\"\n",
        "    # linear complexity\n",
        "    return all(data[i] <= data[i + 1] for i in range(len(data) - 1)) # go through all items in collection and check order\n",
        "\n",
        "\n",
        "def bogosort(data) -> list:\n",
        "    \"\"\"Shuffle data until sorted.\"\"\"\n",
        "    while not is_sorted(data): # well will we ever be done ? :)\n",
        "        shuffle(data) # in place meaning data will be modified here\n",
        "    return data"
      ]
    },
    {
      "cell_type": "code",
      "execution_count": 12,
      "metadata": {
        "id": "V60CIQ3Y3tsW"
      },
      "outputs": [],
      "source": [
        "mydata = [1,6,4,3,-7]"
      ]
    },
    {
      "cell_type": "code",
      "execution_count": 14,
      "metadata": {
        "colab": {
          "base_uri": "https://localhost:8080/"
        },
        "id": "D0UOyYei3tsW",
        "outputId": "9af93b48-e017-4bef-a372-74923874431c"
      },
      "outputs": [
        {
          "output_type": "execute_result",
          "data": {
            "text/plain": [
              "[-7, 1, 3, 4, 6]"
            ]
          },
          "metadata": {},
          "execution_count": 14
        }
      ],
      "source": [
        "bogodata = bogosort(mydata)\n",
        "bogodata"
      ]
    },
    {
      "cell_type": "code",
      "execution_count": null,
      "metadata": {
        "colab": {
          "base_uri": "https://localhost:8080/"
        },
        "id": "h2FWRce1jKDO",
        "outputId": "4b3c5f3d-43e3-4fe7-9256-0c99652543b3"
      },
      "outputs": [
        {
          "output_type": "execute_result",
          "data": {
            "text/plain": [
              "[-7, 1, 3, 4, 6]"
            ]
          },
          "metadata": {},
          "execution_count": 23
        }
      ],
      "source": [
        "mydata"
      ]
    },
    {
      "cell_type": "code",
      "execution_count": 15,
      "metadata": {
        "colab": {
          "base_uri": "https://localhost:8080/"
        },
        "id": "_SIrfhq83tsX",
        "outputId": "35577613-fdd8-4431-dbb0-803508b2ed31"
      },
      "outputs": [
        {
          "output_type": "stream",
          "name": "stdout",
          "text": [
            "873 ns ± 221 ns per loop (mean ± std. dev. of 7 runs, 1000000 loops each)\n"
          ]
        }
      ],
      "source": [
        "%%timeit\n",
        "bogosort(mydata)"
      ]
    },
    {
      "cell_type": "code",
      "execution_count": 16,
      "metadata": {
        "id": "czZOqjbTjKDO"
      },
      "outputs": [],
      "source": [
        "# Resetting my data but is it enough\n",
        "mydata = [1,6,4,3,-7]"
      ]
    },
    {
      "cell_type": "code",
      "execution_count": 17,
      "metadata": {
        "colab": {
          "base_uri": "https://localhost:8080/"
        },
        "id": "najBJmMCjKDP",
        "outputId": "a55d37cc-92ae-467b-9f3f-cb5fe1ec3c83"
      },
      "outputs": [
        {
          "output_type": "stream",
          "name": "stdout",
          "text": [
            "960 ns ± 234 ns per loop (mean ± std. dev. of 7 runs, 1000000 loops each)\n"
          ]
        }
      ],
      "source": [
        "%%timeit\n",
        "bogosort(mydata)"
      ]
    },
    {
      "cell_type": "code",
      "execution_count": 21,
      "metadata": {
        "colab": {
          "base_uri": "https://localhost:8080/"
        },
        "id": "4kFYXtYZjKDP",
        "outputId": "63b58fa1-073d-41b1-e3e1-a5ca7bed32a4"
      },
      "outputs": [
        {
          "output_type": "execute_result",
          "data": {
            "text/plain": [
              "array([51, 92, 14, 71, 60, 20, 82, 86, 74, 74])"
            ]
          },
          "metadata": {},
          "execution_count": 21
        }
      ],
      "source": [
        "# seed 42\n",
        "np.random.seed(42)\n",
        "small_data = np.random.randint(0,100,10)\n",
        "small_data"
      ]
    },
    {
      "cell_type": "code",
      "execution_count": 19,
      "metadata": {
        "colab": {
          "base_uri": "https://localhost:8080/"
        },
        "id": "5Y_px91DjKDP",
        "outputId": "75aa1bbb-1cd8-4704-ba8c-a82531018dc5"
      },
      "outputs": [
        {
          "output_type": "execute_result",
          "data": {
            "text/plain": [
              "array([14, 20, 51, 60, 71, 74, 74, 82, 86, 92])"
            ]
          },
          "metadata": {},
          "execution_count": 19
        }
      ],
      "source": [
        "%timeit\n",
        "bogosort(small_data)"
      ]
    },
    {
      "cell_type": "code",
      "execution_count": 22,
      "metadata": {
        "colab": {
          "base_uri": "https://localhost:8080/"
        },
        "id": "yXJId8DsjKDP",
        "outputId": "d39c8be6-c001-4773-fa23-f3e3e34a827c"
      },
      "outputs": [
        {
          "output_type": "stream",
          "name": "stdout",
          "text": [
            "3.48 µs ± 1 µs per loop (mean ± std. dev. of 7 runs, 1 loop each)\n"
          ]
        }
      ],
      "source": [
        "%%timeit\n",
        "bogosort(small_data) # it is already sorted so we do not need any randomness"
      ]
    },
    {
      "cell_type": "markdown",
      "metadata": {
        "id": "Xb1e8sgdjKDP"
      },
      "source": [
        "## Generating some random numbers"
      ]
    },
    {
      "cell_type": "code",
      "execution_count": 23,
      "metadata": {
        "id": "fp14QCIl3tsY"
      },
      "outputs": [],
      "source": [
        "import random\n",
        "# seed if you want specific random numbers\n",
        "random.seed(42)\n",
        "# note unlike np arrays standard Python lists are slower but more flexible\n",
        "rand1M = [random.randint(1,10_000_000) for _ in range(1_000_000)]\n",
        "rand100000 = [random.randint(1,1_000_000) for _ in range(100_000)]\n",
        "rand10000 = [random.randint(1,100000) for _ in range(10_000)]\n",
        "rand1000 = [random.randint(1,100000) for _ in range(1_000)]\n",
        "rand100 = [random.randint(1,1000) for _ in range(100)]\n",
        "rand10 = [random.randint(1,1000) for _ in range(10)]\n",
        "rand9 = [random.randint(1,1000) for _ in range(9)]\n",
        "rand8 = [random.randint(1,1000) for _ in range(8)]\n",
        "rand7 = [random.randint(1,1000) for _ in range(7)]\n",
        "rand6 = [random.randint(1,1000) for _ in range(6)]"
      ]
    },
    {
      "cell_type": "code",
      "execution_count": 24,
      "metadata": {
        "colab": {
          "base_uri": "https://localhost:8080/"
        },
        "id": "FuRP78fb8DjU",
        "outputId": "e9c79283-69b5-4ed3-9e79-3e0dcff38e59"
      },
      "outputs": [
        {
          "output_type": "execute_result",
          "data": {
            "text/plain": [
              "[243, 432, 25, 638, 973, 929]"
            ]
          },
          "metadata": {},
          "execution_count": 24
        }
      ],
      "source": [
        "rand6"
      ]
    },
    {
      "cell_type": "code",
      "execution_count": 25,
      "metadata": {
        "colab": {
          "base_uri": "https://localhost:8080/"
        },
        "id": "STQPzicN3tsY",
        "outputId": "5734a0a8-14f7-4811-d26d-9c90f797a523"
      },
      "outputs": [
        {
          "output_type": "execute_result",
          "data": {
            "text/plain": [
              "[25, 243, 432, 638, 929, 973]"
            ]
          },
          "metadata": {},
          "execution_count": 25
        }
      ],
      "source": [
        "%timeit\n",
        "rand6sorted = bogosort(rand6)\n",
        "rand6sorted"
      ]
    },
    {
      "cell_type": "code",
      "execution_count": null,
      "metadata": {
        "colab": {
          "base_uri": "https://localhost:8080/"
        },
        "id": "10a6vSmu3tsY",
        "outputId": "ea78ef69-8759-4e0b-f669-b46b455b6321"
      },
      "outputs": [
        {
          "output_type": "stream",
          "name": "stdout",
          "text": [
            "1.48 µs ± 379 ns per loop (mean ± std. dev. of 7 runs, 1000000 loops each)\n"
          ]
        }
      ],
      "source": [
        "%%timeit\n",
        "bogosort(rand6)"
      ]
    },
    {
      "cell_type": "code",
      "execution_count": 26,
      "metadata": {
        "colab": {
          "base_uri": "https://localhost:8080/"
        },
        "id": "ErYKLsT43tsZ",
        "outputId": "547068b7-b12b-4494-e64b-2c0e5a542fe4"
      },
      "outputs": [
        {
          "output_type": "execute_result",
          "data": {
            "text/plain": [
              "[16, 204, 373, 394, 420, 436, 668]"
            ]
          },
          "metadata": {},
          "execution_count": 26
        }
      ],
      "source": [
        "%timeit\n",
        "rand7sorted = bogosort(rand7)\n",
        "rand7"
      ]
    },
    {
      "cell_type": "code",
      "execution_count": 27,
      "metadata": {
        "colab": {
          "base_uri": "https://localhost:8080/"
        },
        "id": "Lae0ftRiPMLt",
        "outputId": "53c62d5b-f3ea-494b-fec9-4cc4fe2db6c1"
      },
      "outputs": [
        {
          "output_type": "execute_result",
          "data": {
            "text/plain": [
              "[14, 47, 130, 349, 428, 587, 808, 874]"
            ]
          },
          "metadata": {},
          "execution_count": 27
        }
      ],
      "source": [
        "bogosort(rand8)"
      ]
    },
    {
      "cell_type": "code",
      "execution_count": 28,
      "metadata": {
        "colab": {
          "base_uri": "https://localhost:8080/"
        },
        "id": "GEjrv_3LPQUL",
        "outputId": "b2030901-edf4-4e27-e2dc-cbe8bc106e8a"
      },
      "outputs": [
        {
          "output_type": "execute_result",
          "data": {
            "text/plain": [
              "[31, 265, 372, 378, 388, 634, 683, 822, 867]"
            ]
          },
          "metadata": {},
          "execution_count": 28
        }
      ],
      "source": [
        "bogosort(rand9)"
      ]
    },
    {
      "cell_type": "code",
      "execution_count": 29,
      "metadata": {
        "colab": {
          "base_uri": "https://localhost:8080/"
        },
        "id": "Sh-uTSAwPYA0",
        "outputId": "8aae54e8-cb3c-4521-b704-1538c0f8d039"
      },
      "outputs": [
        {
          "output_type": "execute_result",
          "data": {
            "text/plain": [
              "[17, 37, 155, 209, 227, 387, 675, 846, 891, 905]"
            ]
          },
          "metadata": {},
          "execution_count": 29
        }
      ],
      "source": [
        "bogosort(rand10)"
      ]
    },
    {
      "cell_type": "code",
      "execution_count": null,
      "metadata": {
        "colab": {
          "base_uri": "https://localhost:8080/"
        },
        "id": "IUy5lg7r3tsZ",
        "outputId": "eede859e-8709-48fb-a26c-10e9fa50d3fc"
      },
      "outputs": [
        {
          "name": "stdout",
          "output_type": "stream",
          "text": [
            "1.5 µs ± 16.3 ns per loop (mean ± std. dev. of 7 runs, 1000000 loops each)\n"
          ]
        }
      ],
      "source": [
        "%%timeit\n",
        "bogosort(rand7)"
      ]
    },
    {
      "cell_type": "code",
      "execution_count": null,
      "metadata": {
        "colab": {
          "base_uri": "https://localhost:8080/"
        },
        "id": "uFWG8QRI8LeJ",
        "outputId": "f7b79e9a-f6aa-44e4-b534-77b74bbfd92b"
      },
      "outputs": [
        {
          "data": {
            "text/plain": [
              "[873, 367, 458, 522, 336, 881, 356, 393]"
            ]
          },
          "execution_count": 28,
          "metadata": {},
          "output_type": "execute_result"
        }
      ],
      "source": [
        "rand8"
      ]
    },
    {
      "cell_type": "code",
      "execution_count": null,
      "metadata": {
        "colab": {
          "base_uri": "https://localhost:8080/"
        },
        "id": "spb85-UL8Nli",
        "outputId": "0ece40cb-a7f8-4f8d-c7e7-25d049b38c31"
      },
      "outputs": [
        {
          "data": {
            "text/plain": [
              "[336, 356, 367, 393, 458, 522, 873, 881]"
            ]
          },
          "execution_count": 34,
          "metadata": {},
          "output_type": "execute_result"
        }
      ],
      "source": [
        "bogosort(rand8)"
      ]
    },
    {
      "cell_type": "code",
      "execution_count": null,
      "metadata": {
        "colab": {
          "base_uri": "https://localhost:8080/"
        },
        "id": "-RCo4QFH8TNC",
        "outputId": "d032be4e-a205-4533-d768-908e46856554"
      },
      "outputs": [
        {
          "data": {
            "text/plain": [
              "[191, 360, 502, 511, 614, 627, 821, 876, 943]"
            ]
          },
          "execution_count": 38,
          "metadata": {},
          "output_type": "execute_result"
        }
      ],
      "source": [
        "bogosort(rand9)"
      ]
    },
    {
      "cell_type": "code",
      "execution_count": null,
      "metadata": {
        "colab": {
          "base_uri": "https://localhost:8080/"
        },
        "id": "Yw3sUf8V8WdA",
        "outputId": "75a0f783-56e1-41d7-c4bc-a1dcfbddf921"
      },
      "outputs": [
        {
          "name": "stdout",
          "output_type": "stream",
          "text": [
            "1.96 µs ± 503 ns per loop (mean ± std. dev. of 7 runs, 1000000 loops each)\n"
          ]
        }
      ],
      "source": [
        "%%timeit\n",
        "bogosort(rand9)"
      ]
    },
    {
      "cell_type": "code",
      "execution_count": null,
      "metadata": {
        "id": "cPZkj1vB8iGP"
      },
      "outputs": [],
      "source": []
    },
    {
      "cell_type": "code",
      "execution_count": null,
      "metadata": {
        "id": "_qm2Y29G3tsa",
        "outputId": "cab32c74-d6a4-4e9e-9a82-24fcb6865ce0"
      },
      "outputs": [
        {
          "data": {
            "text/plain": [
              "[133, 921, 120, 508, 87, 293]"
            ]
          },
          "execution_count": 14,
          "metadata": {},
          "output_type": "execute_result"
        }
      ],
      "source": [
        "rand6"
      ]
    },
    {
      "cell_type": "code",
      "execution_count": null,
      "metadata": {
        "id": "YNTVAeH43tsb",
        "outputId": "7ef6795b-9514-4a40-cece-e050c2a22674"
      },
      "outputs": [
        {
          "data": {
            "text/plain": [
              "[54, 275, 162, 341, 771, 255, 837]"
            ]
          },
          "execution_count": 13,
          "metadata": {},
          "output_type": "execute_result"
        }
      ],
      "source": [
        "rand7"
      ]
    },
    {
      "cell_type": "code",
      "execution_count": null,
      "metadata": {
        "id": "IHFbvQbr3tsb",
        "outputId": "ea526548-e7a1-4e10-aa03-df7b0ee633ed"
      },
      "outputs": [
        {
          "data": {
            "text/plain": [
              "[615, 538, 45, 258, 570, 963, 46, 122, 681, 303]"
            ]
          },
          "execution_count": 15,
          "metadata": {},
          "output_type": "execute_result"
        }
      ],
      "source": [
        "rand10"
      ]
    },
    {
      "cell_type": "code",
      "execution_count": 30,
      "metadata": {
        "colab": {
          "base_uri": "https://localhost:8080/"
        },
        "id": "fG4t4FUZ3tsb",
        "outputId": "55458d90-5219-4a38-bdb6-aff950090b1a"
      },
      "outputs": [
        {
          "output_type": "execute_result",
          "data": {
            "text/plain": [
              "3628800"
            ]
          },
          "metadata": {},
          "execution_count": 30
        }
      ],
      "source": [
        "import math\n",
        "math.factorial(10)"
      ]
    },
    {
      "cell_type": "code",
      "execution_count": 31,
      "metadata": {
        "colab": {
          "base_uri": "https://localhost:8080/"
        },
        "id": "pQw0y402Po_N",
        "outputId": "9d38bc2d-ffc9-4b02-a2ca-40e958b17ce4"
      },
      "outputs": [
        {
          "output_type": "execute_result",
          "data": {
            "text/plain": [
              "2432902008176640000"
            ]
          },
          "metadata": {},
          "execution_count": 31
        }
      ],
      "source": [
        "math.factorial(20)  # so we are highly unlikely to sort 20 numbers with this Bogosort"
      ]
    },
    {
      "cell_type": "code",
      "execution_count": null,
      "metadata": {
        "colab": {
          "base_uri": "https://localhost:8080/"
        },
        "id": "InVn4kZV8s8d",
        "outputId": "86ef7dfa-f02c-4516-911d-460c5a668d89"
      },
      "outputs": [
        {
          "data": {
            "text/plain": [
              "362880"
            ]
          },
          "execution_count": 42,
          "metadata": {},
          "output_type": "execute_result"
        }
      ],
      "source": [
        "math.factorial(9)"
      ]
    },
    {
      "cell_type": "code",
      "execution_count": null,
      "metadata": {
        "colab": {
          "base_uri": "https://localhost:8080/"
        },
        "id": "0E2uSMAE8zpE",
        "outputId": "5c5fb17b-eba3-4ee9-f238-abd71835c379"
      },
      "outputs": [
        {
          "data": {
            "text/plain": [
              "[614, 487, 345, 161, 946, 92, 433, 367, 896, 587]"
            ]
          },
          "execution_count": 43,
          "metadata": {},
          "output_type": "execute_result"
        }
      ],
      "source": [
        "rand10"
      ]
    },
    {
      "cell_type": "code",
      "execution_count": null,
      "metadata": {
        "id": "C-sM3WCt3tsb",
        "outputId": "8fe7bc0d-5097-44d0-e25c-9fdaf4be2720"
      },
      "outputs": [
        {
          "data": {
            "text/plain": [
              "[72, 179, 187, 408, 421, 481, 638]"
            ]
          },
          "execution_count": 10,
          "metadata": {},
          "output_type": "execute_result"
        }
      ],
      "source": [
        "bogo7 = bogosort(rand7)\n",
        "bogo7"
      ]
    },
    {
      "cell_type": "code",
      "execution_count": null,
      "metadata": {
        "id": "qdFVm_l23tsc"
      },
      "outputs": [],
      "source": [
        "# so time complexity for Bogosort is (n!) not very practical :)\n",
        "\n",
        "# even if we could have faster hardware or even if we could somehow parallize the algorithm it is still wildly impractical"
      ]
    },
    {
      "cell_type": "markdown",
      "metadata": {
        "hidden": true,
        "id": "Nct_Wjqq3tsc"
      },
      "source": [
        "Source: http://interactivepython.org/runestone/static/pythonds/SortSearch/toctree.html"
      ]
    },
    {
      "cell_type": "markdown",
      "metadata": {
        "heading_collapsed": true,
        "hidden": true,
        "id": "j_Wg-uju3tsc"
      },
      "source": [
        "### Bubble sort"
      ]
    },
    {
      "cell_type": "markdown",
      "metadata": {
        "hidden": true,
        "id": "Axaf7WwE3tsc"
      },
      "source": [
        "![bubble](https://github.com/ValRCS/RTU_Algorithms_DIP321/blob/main/imgs/bubblepass.png?raw=1)"
      ]
    },
    {
      "cell_type": "markdown",
      "metadata": {
        "hidden": true,
        "id": "j_gqWvrQ3tsd"
      },
      "source": [
        "$$Complexity: O(n^2)$$"
      ]
    },
    {
      "cell_type": "markdown",
      "metadata": {
        "hidden": true,
        "id": "pae8HDMq3tsd"
      },
      "source": [
        "A bubble sort is often considered the most inefficient sorting method since it must exchange items before the final location is known. These “wasted” exchange operations are very costly. However, because the bubble sort makes passes through the entire unsorted portion of the list, it has the capability to do something most sorting algorithms cannot. In particular, if during a pass there are no exchanges, then we know that the list must be sorted. A bubble sort can be modified to stop early if it finds that the list has become sorted. This means that for lists that require just a few passes, a bubble sort may have an advantage in that it will recognize the sorted list and stop."
      ]
    },
    {
      "cell_type": "code",
      "execution_count": null,
      "metadata": {
        "hidden": true,
        "id": "Wv8iQb2F3tsd"
      },
      "outputs": [],
      "source": [
        "l = [1,2,3,4,32,5,5,66,33,221,34,23,12]"
      ]
    },
    {
      "cell_type": "markdown",
      "metadata": {
        "id": "O7NiC8PYR_rA"
      },
      "source": [
        "## Bubble Sort implementation"
      ]
    },
    {
      "cell_type": "code",
      "execution_count": 32,
      "metadata": {
        "hidden": true,
        "id": "IkgPz0_h3tsd"
      },
      "outputs": [],
      "source": [
        "def bubblesort(seq, debug = False):\n",
        "    nums = seq.copy() # we want to keep the original - so out of place, also this is O(n) operation to copy something\n",
        "    # keep in mind copy costs time and memory - so not always optimal\n",
        "    n = len(nums)\n",
        "    exchange_cnt = 1\n",
        "    while exchange_cnt > 0: # outside loop could be linear in average and worst case, coulde be O(1) in best\n",
        "        exchange_cnt = 0\n",
        "        for i in range(1, n): #inner loop guaranteed linearity\n",
        "            if nums[i] < nums[i - 1]: # if neighbors are out of order\n",
        "                exchange_cnt += 1\n",
        "                nums[i - 1], nums[i] = nums[i], nums[i - 1] # we swap\n",
        "        if debug:\n",
        "            print(nums)\n",
        "    return nums"
      ]
    },
    {
      "cell_type": "code",
      "execution_count": 33,
      "metadata": {
        "colab": {
          "base_uri": "https://localhost:8080/"
        },
        "id": "l9Ws_JpzB8VU",
        "outputId": "33e2c1a9-1d4d-4dbc-e404-0b8790c61723"
      },
      "outputs": [
        {
          "output_type": "execute_result",
          "data": {
            "text/plain": [
              "[1, 11, 23, 48, 49, 62, 68, 72, 73, 83]"
            ]
          },
          "metadata": {},
          "execution_count": 33
        }
      ],
      "source": [
        "l"
      ]
    },
    {
      "cell_type": "code",
      "execution_count": 34,
      "metadata": {
        "colab": {
          "base_uri": "https://localhost:8080/"
        },
        "hidden": true,
        "id": "X7G_9az63tse",
        "outputId": "71edbd4b-faf5-40ac-e3be-709cfb918bf7"
      },
      "outputs": [
        {
          "output_type": "stream",
          "name": "stdout",
          "text": [
            "[1, 11, 23, 48, 49, 62, 68, 72, 73, 83]\n"
          ]
        },
        {
          "output_type": "execute_result",
          "data": {
            "text/plain": [
              "[1, 11, 23, 48, 49, 62, 68, 72, 73, 83]"
            ]
          },
          "metadata": {},
          "execution_count": 34
        }
      ],
      "source": [
        "bubblesort(l, debug=True) # this was the BEST case"
      ]
    },
    {
      "cell_type": "code",
      "source": [
        "# let me shuffle the list\n",
        "shuffle(l)\n",
        "l"
      ],
      "metadata": {
        "colab": {
          "base_uri": "https://localhost:8080/"
        },
        "id": "JUdRN7sVshNE",
        "outputId": "7e0c368e-6dc5-475c-b936-6df307898aaa"
      },
      "execution_count": 35,
      "outputs": [
        {
          "output_type": "execute_result",
          "data": {
            "text/plain": [
              "[48, 72, 49, 68, 1, 62, 73, 11, 23, 83]"
            ]
          },
          "metadata": {},
          "execution_count": 35
        }
      ]
    },
    {
      "cell_type": "code",
      "source": [
        "bubblesort(l, debug=True)"
      ],
      "metadata": {
        "colab": {
          "base_uri": "https://localhost:8080/"
        },
        "id": "ZYELmpiOsmv9",
        "outputId": "e061f3d7-8a21-46a5-e8cc-24497f33b87a"
      },
      "execution_count": 36,
      "outputs": [
        {
          "output_type": "stream",
          "name": "stdout",
          "text": [
            "[48, 49, 68, 1, 62, 72, 11, 23, 73, 83]\n",
            "[48, 49, 1, 62, 68, 11, 23, 72, 73, 83]\n",
            "[48, 1, 49, 62, 11, 23, 68, 72, 73, 83]\n",
            "[1, 48, 49, 11, 23, 62, 68, 72, 73, 83]\n",
            "[1, 48, 11, 23, 49, 62, 68, 72, 73, 83]\n",
            "[1, 11, 23, 48, 49, 62, 68, 72, 73, 83]\n",
            "[1, 11, 23, 48, 49, 62, 68, 72, 73, 83]\n"
          ]
        },
        {
          "output_type": "execute_result",
          "data": {
            "text/plain": [
              "[1, 11, 23, 48, 49, 62, 68, 72, 73, 83]"
            ]
          },
          "metadata": {},
          "execution_count": 36
        }
      ]
    },
    {
      "cell_type": "code",
      "execution_count": null,
      "metadata": {
        "id": "-11qH5lB3tse"
      },
      "outputs": [],
      "source": [
        "bubble1000 = bubblesort(rand1000)"
      ]
    },
    {
      "cell_type": "code",
      "execution_count": null,
      "metadata": {
        "colab": {
          "base_uri": "https://localhost:8080/"
        },
        "id": "RME-32t3RhOB",
        "outputId": "5c1bf363-864f-44da-a22a-d812d0896f99"
      },
      "outputs": [
        {
          "data": {
            "text/plain": [
              "[46072, 29756, 83132, 90398, 81019]"
            ]
          },
          "execution_count": 55,
          "metadata": {},
          "output_type": "execute_result"
        }
      ],
      "source": [
        "rand1000[:5]"
      ]
    },
    {
      "cell_type": "code",
      "execution_count": null,
      "metadata": {
        "colab": {
          "base_uri": "https://localhost:8080/"
        },
        "id": "W8ga4Yqt3tse",
        "outputId": "22e0ed9e-9277-4430-8994-eb8438b5b44d"
      },
      "outputs": [
        {
          "output_type": "stream",
          "name": "stdout",
          "text": [
            "171 ms ± 40.7 ms per loop (mean ± std. dev. of 7 runs, 10 loops each)\n"
          ]
        }
      ],
      "source": [
        "%%timeit\n",
        "bubblesort(rand1000)"
      ]
    },
    {
      "cell_type": "code",
      "execution_count": null,
      "metadata": {
        "id": "KlB5jKQxjKDX",
        "outputId": "b8322013-2811-47ce-8035-ab68986fcafa"
      },
      "outputs": [
        {
          "data": {
            "text/plain": [
              "10000"
            ]
          },
          "execution_count": 58,
          "metadata": {},
          "output_type": "execute_result"
        }
      ],
      "source": [
        "len(rand10000)"
      ]
    },
    {
      "cell_type": "code",
      "execution_count": null,
      "metadata": {
        "colab": {
          "base_uri": "https://localhost:8080/"
        },
        "id": "S7CZbqnZ3tse",
        "outputId": "a87d24f5-6c12-4a6b-db71-da60ad31bce0"
      },
      "outputs": [
        {
          "output_type": "stream",
          "name": "stdout",
          "text": [
            "20.3 s ± 1.19 s per loop (mean ± std. dev. of 7 runs, 1 loop each)\n"
          ]
        }
      ],
      "source": [
        "%%timeit\n",
        "bubblesort(rand10000)"
      ]
    },
    {
      "cell_type": "code",
      "execution_count": null,
      "metadata": {
        "id": "GXTJI_pLUFbX"
      },
      "outputs": [],
      "source": [
        "# so 10 times more data -> ~100x slower\n",
        "# because of the quadratic complexity"
      ]
    },
    {
      "cell_type": "code",
      "execution_count": null,
      "metadata": {
        "colab": {
          "base_uri": "https://localhost:8080/"
        },
        "id": "SWbMQvuW-Q7e",
        "outputId": "db479028-833d-4b86-968d-e1a510eeda17"
      },
      "outputs": [
        {
          "data": {
            "text/plain": [
              "10000000000"
            ]
          },
          "execution_count": 52,
          "metadata": {},
          "output_type": "execute_result"
        }
      ],
      "source": [
        "100_000**2"
      ]
    },
    {
      "cell_type": "code",
      "execution_count": null,
      "metadata": {
        "colab": {
          "base_uri": "https://localhost:8080/",
          "height": 291
        },
        "id": "mhZnfFpN-ZW0",
        "outputId": "7b548ae4-232e-4347-e62e-bd61200987dd"
      },
      "outputs": [
        {
          "ename": "KeyboardInterrupt",
          "evalue": "ignored",
          "output_type": "error",
          "traceback": [
            "\u001b[0;31m---------------------------------------------------------------------------\u001b[0m",
            "\u001b[0;31mKeyboardInterrupt\u001b[0m                         Traceback (most recent call last)",
            "\u001b[0;32m<ipython-input-53-3782c6b61cbf>\u001b[0m in \u001b[0;36m<module>\u001b[0;34m()\u001b[0m\n\u001b[0;32m----> 1\u001b[0;31m \u001b[0msorted_100k\u001b[0m \u001b[0;34m=\u001b[0m \u001b[0mbubblesort\u001b[0m\u001b[0;34m(\u001b[0m\u001b[0mrand100000\u001b[0m\u001b[0;34m)\u001b[0m\u001b[0;34m\u001b[0m\u001b[0;34m\u001b[0m\u001b[0m\n\u001b[0m",
            "\u001b[0;32m<ipython-input-47-f8dc47ee1031>\u001b[0m in \u001b[0;36mbubblesort\u001b[0;34m(nums, debug)\u001b[0m\n\u001b[1;32m      6\u001b[0m         \u001b[0;32mfor\u001b[0m \u001b[0mi\u001b[0m \u001b[0;32min\u001b[0m \u001b[0mrange\u001b[0m\u001b[0;34m(\u001b[0m\u001b[0;36m1\u001b[0m\u001b[0;34m,\u001b[0m \u001b[0mn\u001b[0m\u001b[0;34m)\u001b[0m\u001b[0;34m:\u001b[0m \u001b[0;31m#inner loop\u001b[0m\u001b[0;34m\u001b[0m\u001b[0;34m\u001b[0m\u001b[0m\n\u001b[1;32m      7\u001b[0m             \u001b[0;32mif\u001b[0m \u001b[0mnums\u001b[0m\u001b[0;34m[\u001b[0m\u001b[0mi\u001b[0m\u001b[0;34m]\u001b[0m \u001b[0;34m<\u001b[0m \u001b[0mnums\u001b[0m\u001b[0;34m[\u001b[0m\u001b[0mi\u001b[0m \u001b[0;34m-\u001b[0m \u001b[0;36m1\u001b[0m\u001b[0;34m]\u001b[0m\u001b[0;34m:\u001b[0m\u001b[0;34m\u001b[0m\u001b[0;34m\u001b[0m\u001b[0m\n\u001b[0;32m----> 8\u001b[0;31m                 \u001b[0mexchange_cnt\u001b[0m \u001b[0;34m+=\u001b[0m \u001b[0;36m1\u001b[0m\u001b[0;34m\u001b[0m\u001b[0;34m\u001b[0m\u001b[0m\n\u001b[0m\u001b[1;32m      9\u001b[0m                 \u001b[0mnums\u001b[0m\u001b[0;34m[\u001b[0m\u001b[0mi\u001b[0m \u001b[0;34m-\u001b[0m \u001b[0;36m1\u001b[0m\u001b[0;34m]\u001b[0m\u001b[0;34m,\u001b[0m \u001b[0mnums\u001b[0m\u001b[0;34m[\u001b[0m\u001b[0mi\u001b[0m\u001b[0;34m]\u001b[0m \u001b[0;34m=\u001b[0m \u001b[0mnums\u001b[0m\u001b[0;34m[\u001b[0m\u001b[0mi\u001b[0m\u001b[0;34m]\u001b[0m\u001b[0;34m,\u001b[0m \u001b[0mnums\u001b[0m\u001b[0;34m[\u001b[0m\u001b[0mi\u001b[0m \u001b[0;34m-\u001b[0m \u001b[0;36m1\u001b[0m\u001b[0;34m]\u001b[0m\u001b[0;34m\u001b[0m\u001b[0;34m\u001b[0m\u001b[0m\n\u001b[1;32m     10\u001b[0m         \u001b[0;32mif\u001b[0m \u001b[0mdebug\u001b[0m\u001b[0;34m:\u001b[0m\u001b[0;34m\u001b[0m\u001b[0;34m\u001b[0m\u001b[0m\n",
            "\u001b[0;31mKeyboardInterrupt\u001b[0m: "
          ]
        }
      ],
      "source": [
        "sorted_100k = bubblesort(rand100000)"
      ]
    },
    {
      "cell_type": "code",
      "execution_count": null,
      "metadata": {
        "id": "VWeDNzEe3tsf",
        "outputId": "effd2c19-dc1b-4b13-c1f4-d23c1067052b"
      },
      "outputs": [
        {
          "ename": "KeyboardInterrupt",
          "evalue": "",
          "output_type": "error",
          "traceback": [
            "\u001b[1;31m---------------------------------------------------------------------------\u001b[0m",
            "\u001b[1;31mKeyboardInterrupt\u001b[0m                         Traceback (most recent call last)",
            "\u001b[1;32m<timed eval>\u001b[0m in \u001b[0;36m<module>\u001b[1;34m\u001b[0m\n",
            "\u001b[1;32m<ipython-input-24-f8dc47ee1031>\u001b[0m in \u001b[0;36mbubblesort\u001b[1;34m(nums, debug)\u001b[0m\n\u001b[0;32m      7\u001b[0m             \u001b[1;32mif\u001b[0m \u001b[0mnums\u001b[0m\u001b[1;33m[\u001b[0m\u001b[0mi\u001b[0m\u001b[1;33m]\u001b[0m \u001b[1;33m<\u001b[0m \u001b[0mnums\u001b[0m\u001b[1;33m[\u001b[0m\u001b[0mi\u001b[0m \u001b[1;33m-\u001b[0m \u001b[1;36m1\u001b[0m\u001b[1;33m]\u001b[0m\u001b[1;33m:\u001b[0m\u001b[1;33m\u001b[0m\u001b[1;33m\u001b[0m\u001b[0m\n\u001b[0;32m      8\u001b[0m                 \u001b[0mexchange_cnt\u001b[0m \u001b[1;33m+=\u001b[0m \u001b[1;36m1\u001b[0m\u001b[1;33m\u001b[0m\u001b[1;33m\u001b[0m\u001b[0m\n\u001b[1;32m----> 9\u001b[1;33m                 \u001b[0mnums\u001b[0m\u001b[1;33m[\u001b[0m\u001b[0mi\u001b[0m \u001b[1;33m-\u001b[0m \u001b[1;36m1\u001b[0m\u001b[1;33m]\u001b[0m\u001b[1;33m,\u001b[0m \u001b[0mnums\u001b[0m\u001b[1;33m[\u001b[0m\u001b[0mi\u001b[0m\u001b[1;33m]\u001b[0m \u001b[1;33m=\u001b[0m \u001b[0mnums\u001b[0m\u001b[1;33m[\u001b[0m\u001b[0mi\u001b[0m\u001b[1;33m]\u001b[0m\u001b[1;33m,\u001b[0m \u001b[0mnums\u001b[0m\u001b[1;33m[\u001b[0m\u001b[0mi\u001b[0m \u001b[1;33m-\u001b[0m \u001b[1;36m1\u001b[0m\u001b[1;33m]\u001b[0m\u001b[1;33m\u001b[0m\u001b[1;33m\u001b[0m\u001b[0m\n\u001b[0m\u001b[0;32m     10\u001b[0m         \u001b[1;32mif\u001b[0m \u001b[0mdebug\u001b[0m\u001b[1;33m:\u001b[0m\u001b[1;33m\u001b[0m\u001b[1;33m\u001b[0m\u001b[0m\n\u001b[0;32m     11\u001b[0m             \u001b[0mprint\u001b[0m\u001b[1;33m(\u001b[0m\u001b[0mnums\u001b[0m\u001b[1;33m)\u001b[0m\u001b[1;33m\u001b[0m\u001b[1;33m\u001b[0m\u001b[0m\n",
            "\u001b[1;31mKeyboardInterrupt\u001b[0m: "
          ]
        }
      ],
      "source": [
        "%%time\n",
        "bubblesort(rand100000)"
      ]
    },
    {
      "cell_type": "code",
      "execution_count": null,
      "metadata": {
        "id": "pKCSAzb23tsf",
        "outputId": "de196dfd-f561-4f8e-b193-a59ecac023f8"
      },
      "outputs": [
        {
          "data": {
            "text/plain": [
              "(100000000, 10000000000)"
            ]
          },
          "execution_count": 37,
          "metadata": {},
          "output_type": "execute_result"
        }
      ],
      "source": [
        "10_000**2, 100_000**2"
      ]
    },
    {
      "cell_type": "markdown",
      "metadata": {
        "heading_collapsed": true,
        "hidden": true,
        "id": "mxV2CcAV3tsf"
      },
      "source": [
        "### Selection sort"
      ]
    },
    {
      "cell_type": "markdown",
      "metadata": {
        "hidden": true,
        "id": "nrnJFsjE3tsg"
      },
      "source": [
        "![selection](https://github.com/ValRCS/RTU_Algorithms_DIP321/blob/main/imgs/selectionsort.png?raw=1)"
      ]
    },
    {
      "cell_type": "markdown",
      "metadata": {
        "hidden": true,
        "id": "-5Zy4ulV3tsg"
      },
      "source": [
        "$$Complexity: O(n^2)$$"
      ]
    },
    {
      "cell_type": "markdown",
      "metadata": {
        "hidden": true,
        "id": "YVd2iapJ3tsg"
      },
      "source": [
        "The selection sort improves on the bubble sort by making only one exchange for every pass through the list. In order to do this, a selection sort looks for the largest value as it makes a pass and, after completing the pass, places it in the proper location. As with a bubble sort, after the first pass, the largest item is in the correct place. After the second pass, the next largest is in place. This process continues and requires n−1 passes to sort n items, since the final item must be in place after the (n−1) st pass."
      ]
    },
    {
      "cell_type": "code",
      "execution_count": 37,
      "metadata": {
        "hidden": true,
        "id": "dcEliWFz3tsg"
      },
      "outputs": [],
      "source": [
        "l = [1,6,9,2,3,4,32,5,5,66,33,221,34,23,12]"
      ]
    },
    {
      "cell_type": "code",
      "execution_count": 38,
      "metadata": {
        "hidden": true,
        "id": "YfE7AK573tsg"
      },
      "outputs": [],
      "source": [
        "def selectionSort(seq, debug=False):\n",
        "    l = seq.copy()\n",
        "    n = len(l)\n",
        "    end = n - 1\n",
        "    for j in range(n): ## outer loop\n",
        "        max_ = l[-1 - j]\n",
        "        max_idx = -1 - j\n",
        "        for i in range(end): ## inner loop\n",
        "            if l[i] > max_:\n",
        "                max_ = l[i]\n",
        "                max_idx = i\n",
        "        l[-1 - j], l[max_idx] = l[max_idx], l[-1 - j] # swapping items at the end so max value gets to the end\n",
        "        end = end - 1 # so we do not have to go the very end the next time because it is already sorted\n",
        "        if debug:\n",
        "            print(l)\n",
        "    return l"
      ]
    },
    {
      "cell_type": "code",
      "execution_count": 39,
      "metadata": {
        "colab": {
          "base_uri": "https://localhost:8080/"
        },
        "hidden": true,
        "id": "5bxaKDnM3tsh",
        "outputId": "c0729529-10dc-4d13-e098-76b73b1a6b30"
      },
      "outputs": [
        {
          "output_type": "stream",
          "name": "stdout",
          "text": [
            "[1, 6, 9, 2, 3, 4, 32, 5, 5, 66, 33, 12, 34, 23, 221]\n",
            "[1, 6, 9, 2, 3, 4, 32, 5, 5, 23, 33, 12, 34, 66, 221]\n",
            "[1, 6, 9, 2, 3, 4, 32, 5, 5, 23, 33, 12, 34, 66, 221]\n",
            "[1, 6, 9, 2, 3, 4, 32, 5, 5, 23, 12, 33, 34, 66, 221]\n",
            "[1, 6, 9, 2, 3, 4, 12, 5, 5, 23, 32, 33, 34, 66, 221]\n",
            "[1, 6, 9, 2, 3, 4, 12, 5, 5, 23, 32, 33, 34, 66, 221]\n",
            "[1, 6, 9, 2, 3, 4, 5, 5, 12, 23, 32, 33, 34, 66, 221]\n",
            "[1, 6, 5, 2, 3, 4, 5, 9, 12, 23, 32, 33, 34, 66, 221]\n",
            "[1, 5, 5, 2, 3, 4, 6, 9, 12, 23, 32, 33, 34, 66, 221]\n",
            "[1, 4, 5, 2, 3, 5, 6, 9, 12, 23, 32, 33, 34, 66, 221]\n",
            "[1, 4, 3, 2, 5, 5, 6, 9, 12, 23, 32, 33, 34, 66, 221]\n",
            "[1, 2, 3, 4, 5, 5, 6, 9, 12, 23, 32, 33, 34, 66, 221]\n",
            "[1, 2, 3, 4, 5, 5, 6, 9, 12, 23, 32, 33, 34, 66, 221]\n",
            "[1, 2, 3, 4, 5, 5, 6, 9, 12, 23, 32, 33, 34, 66, 221]\n",
            "[1, 2, 3, 4, 5, 5, 6, 9, 12, 23, 32, 33, 34, 66, 221]\n"
          ]
        },
        {
          "output_type": "execute_result",
          "data": {
            "text/plain": [
              "[1, 2, 3, 4, 5, 5, 6, 9, 12, 23, 32, 33, 34, 66, 221]"
            ]
          },
          "metadata": {},
          "execution_count": 39
        }
      ],
      "source": [
        "selectionSort(l, debug=True)"
      ]
    },
    {
      "cell_type": "code",
      "execution_count": null,
      "metadata": {
        "colab": {
          "base_uri": "https://localhost:8080/"
        },
        "id": "miXMuClP__4e",
        "outputId": "e1aba7ae-5391-462b-b2e6-3bf91c2562e1"
      },
      "outputs": [
        {
          "data": {
            "text/plain": [
              "[209, 227, 37, 387, 17, 155, 905, 846, 675, 891]"
            ]
          },
          "execution_count": 63,
          "metadata": {},
          "output_type": "execute_result"
        }
      ],
      "source": [
        "rand10"
      ]
    },
    {
      "cell_type": "code",
      "execution_count": null,
      "metadata": {
        "colab": {
          "base_uri": "https://localhost:8080/"
        },
        "id": "MTlfolXjACBk",
        "outputId": "4c466108-eca0-4a8b-9549-0fb5ba31c559"
      },
      "outputs": [
        {
          "name": "stdout",
          "output_type": "stream",
          "text": [
            "[209, 227, 37, 387, 17, 155, 891, 846, 675, 905]\n",
            "[209, 227, 37, 387, 17, 155, 675, 846, 891, 905]\n",
            "[209, 227, 37, 387, 17, 155, 675, 846, 891, 905]\n",
            "[209, 227, 37, 387, 17, 155, 675, 846, 891, 905]\n",
            "[209, 227, 37, 155, 17, 387, 675, 846, 891, 905]\n",
            "[209, 17, 37, 155, 227, 387, 675, 846, 891, 905]\n",
            "[155, 17, 37, 209, 227, 387, 675, 846, 891, 905]\n",
            "[37, 17, 155, 209, 227, 387, 675, 846, 891, 905]\n",
            "[17, 37, 155, 209, 227, 387, 675, 846, 891, 905]\n",
            "[17, 37, 155, 209, 227, 387, 675, 846, 891, 905]\n"
          ]
        },
        {
          "data": {
            "text/plain": [
              "[17, 37, 155, 209, 227, 387, 675, 846, 891, 905]"
            ]
          },
          "execution_count": 64,
          "metadata": {},
          "output_type": "execute_result"
        }
      ],
      "source": [
        "selectionSort(rand10, debug=True)"
      ]
    },
    {
      "cell_type": "markdown",
      "metadata": {
        "hidden": true,
        "id": "2YiNXlNf3tsh"
      },
      "source": [
        "The benefit of selection over bubble sort is it does one exchange per pass whereas bubble sort can do multiple exchanges."
      ]
    },
    {
      "cell_type": "code",
      "execution_count": null,
      "metadata": {
        "colab": {
          "base_uri": "https://localhost:8080/"
        },
        "id": "mJHoIGMY3tsh",
        "outputId": "57a17e40-659e-4637-e218-5bdac24aa2da"
      },
      "outputs": [
        {
          "name": "stdout",
          "output_type": "stream",
          "text": [
            "27.7 ms ± 4.46 ms per loop (mean ± std. dev. of 7 runs, 10 loops each)\n"
          ]
        }
      ],
      "source": [
        "%%timeit\n",
        "selectionSort(rand1000)"
      ]
    },
    {
      "cell_type": "code",
      "execution_count": null,
      "metadata": {
        "colab": {
          "base_uri": "https://localhost:8080/"
        },
        "id": "n1d2WpQd3tsh",
        "outputId": "069a9db7-dd37-40ad-fd80-a592917ccd7e"
      },
      "outputs": [
        {
          "name": "stdout",
          "output_type": "stream",
          "text": [
            "2.85 s ± 84.9 ms per loop (mean ± std. dev. of 7 runs, 1 loop each)\n"
          ]
        }
      ],
      "source": [
        "%%timeit\n",
        "selectionSort(rand10000)"
      ]
    },
    {
      "cell_type": "code",
      "execution_count": null,
      "metadata": {
        "id": "cKxNl56m3tsh"
      },
      "outputs": [],
      "source": [
        "# so 10 x more items and we ge 10x10=100 slower speed"
      ]
    },
    {
      "cell_type": "markdown",
      "metadata": {
        "heading_collapsed": true,
        "hidden": true,
        "id": "PCwRgPum3tsh"
      },
      "source": [
        "### Insertion sort"
      ]
    },
    {
      "cell_type": "markdown",
      "metadata": {
        "hidden": true,
        "id": "1oe2M-Ff3tsh"
      },
      "source": [
        "![insertion](https://github.com/ValRCS/RTU_Algorithms_DIP321/blob/main/imgs/insertionsort.png?raw=1)"
      ]
    },
    {
      "cell_type": "markdown",
      "metadata": {
        "hidden": true,
        "id": "4NV9Cv9i3tsi"
      },
      "source": [
        "$$Complexity: O(n^2)$$"
      ]
    },
    {
      "cell_type": "code",
      "execution_count": 40,
      "metadata": {
        "hidden": true,
        "id": "1I9VaVsD3tsi"
      },
      "outputs": [],
      "source": [
        "l = [1,33,687,2,3,66,33,221,34,23,12]"
      ]
    },
    {
      "cell_type": "code",
      "execution_count": 41,
      "metadata": {
        "hidden": true,
        "id": "y8AeKO403tsi"
      },
      "outputs": [],
      "source": [
        "def insertionSort(seq, debug=False):\n",
        "    l = seq.copy()  # we do not want to mess with the original\n",
        "    for i in range(1, len(l)): # outer loop\n",
        "        cval = l[i]\n",
        "        pos = i\n",
        "        # now we find the right position for the current item\n",
        "        while pos > 0 and l[pos - 1] > cval: # inner loop\n",
        "            l[pos],l[pos-1] = l[pos - 1],l[pos] # swap\n",
        "            pos = pos - 1\n",
        "        if debug:\n",
        "            print(l)\n",
        "    return l"
      ]
    },
    {
      "cell_type": "code",
      "execution_count": 42,
      "metadata": {
        "colab": {
          "base_uri": "https://localhost:8080/"
        },
        "hidden": true,
        "id": "VUEzssRN3tsi",
        "outputId": "5ae54036-c4fb-45ac-a473-7fd3e2d4acf2"
      },
      "outputs": [
        {
          "output_type": "stream",
          "name": "stdout",
          "text": [
            "[1, 33, 687, 2, 3, 66, 33, 221, 34, 23, 12]\n",
            "[1, 33, 687, 2, 3, 66, 33, 221, 34, 23, 12]\n",
            "[1, 2, 33, 687, 3, 66, 33, 221, 34, 23, 12]\n",
            "[1, 2, 3, 33, 687, 66, 33, 221, 34, 23, 12]\n",
            "[1, 2, 3, 33, 66, 687, 33, 221, 34, 23, 12]\n",
            "[1, 2, 3, 33, 33, 66, 687, 221, 34, 23, 12]\n",
            "[1, 2, 3, 33, 33, 66, 221, 687, 34, 23, 12]\n",
            "[1, 2, 3, 33, 33, 34, 66, 221, 687, 23, 12]\n",
            "[1, 2, 3, 23, 33, 33, 34, 66, 221, 687, 12]\n",
            "[1, 2, 3, 12, 23, 33, 33, 34, 66, 221, 687]\n"
          ]
        },
        {
          "output_type": "execute_result",
          "data": {
            "text/plain": [
              "[1, 2, 3, 12, 23, 33, 33, 34, 66, 221, 687]"
            ]
          },
          "metadata": {},
          "execution_count": 42
        }
      ],
      "source": [
        "insertionSort(l,debug=True)"
      ]
    },
    {
      "cell_type": "code",
      "execution_count": 43,
      "metadata": {
        "colab": {
          "base_uri": "https://localhost:8080/"
        },
        "id": "xGgHcMuAGJvd",
        "outputId": "bc3285bf-d625-4549-d7a7-e3d92f5f9e04"
      },
      "outputs": [
        {
          "output_type": "execute_result",
          "data": {
            "text/plain": [
              "[4166, 3381, 1751, 3077, 1433]"
            ]
          },
          "metadata": {},
          "execution_count": 43
        }
      ],
      "source": [
        "rand1000 = [random.randint(1,10000) for _ in range(1_000)]\n",
        "rand1000[:5]"
      ]
    },
    {
      "cell_type": "code",
      "execution_count": null,
      "metadata": {
        "colab": {
          "base_uri": "https://localhost:8080/"
        },
        "id": "flQQ44fpXU0n",
        "outputId": "95884c0b-a580-4075-fe11-5dde6e0d490e"
      },
      "outputs": [
        {
          "data": {
            "text/plain": [
              "[86725, 71483, 39600, 60605, 56680]"
            ]
          },
          "execution_count": 58,
          "metadata": {},
          "output_type": "execute_result"
        }
      ],
      "source": [
        "rand1000[:5]"
      ]
    },
    {
      "cell_type": "code",
      "execution_count": 44,
      "metadata": {
        "colab": {
          "base_uri": "https://localhost:8080/"
        },
        "id": "oML9mG_UGUtC",
        "outputId": "dcb3102d-245f-4a4a-af88-0acac22e610a"
      },
      "outputs": [
        {
          "output_type": "stream",
          "name": "stdout",
          "text": [
            "37.5 ms ± 807 µs per loop (mean ± std. dev. of 7 runs, 10 loops each)\n"
          ]
        }
      ],
      "source": [
        "%%timeit\n",
        "insertionSort(rand1000)"
      ]
    },
    {
      "cell_type": "code",
      "execution_count": 45,
      "metadata": {
        "colab": {
          "base_uri": "https://localhost:8080/"
        },
        "id": "EjB3bqjH3tsi",
        "outputId": "40449fe6-6236-4a8d-da1b-63ee205e4eb7"
      },
      "outputs": [
        {
          "output_type": "stream",
          "name": "stdout",
          "text": [
            "4.78 s ± 650 ms per loop (mean ± std. dev. of 7 runs, 1 loop each)\n"
          ]
        }
      ],
      "source": [
        "%%timeit\n",
        "insertionSort(rand10000)"
      ]
    },
    {
      "cell_type": "code",
      "source": [
        "%%timeit\n",
        "sorted(rand10000)"
      ],
      "metadata": {
        "id": "IiaWk_A_y9Zm",
        "outputId": "55aeda7f-9366-46be-c3a9-24d59b2e7def",
        "colab": {
          "base_uri": "https://localhost:8080/"
        }
      },
      "execution_count": 46,
      "outputs": [
        {
          "output_type": "stream",
          "name": "stdout",
          "text": [
            "2.54 ms ± 76.3 µs per loop (mean ± std. dev. of 7 runs, 100 loops each)\n"
          ]
        }
      ]
    },
    {
      "cell_type": "code",
      "execution_count": null,
      "metadata": {
        "colab": {
          "base_uri": "https://localhost:8080/"
        },
        "id": "K0GrEZ2UKlQe",
        "outputId": "7910add2-16ff-4560-9303-0063831cff72"
      },
      "outputs": [
        {
          "data": {
            "text/plain": [
              "[9995, 9996, 9997, 9998, 9999]"
            ]
          },
          "execution_count": 72,
          "metadata": {},
          "output_type": "execute_result"
        }
      ],
      "source": [
        "num10k = list(range(10_000))\n",
        "num10k[-5:]"
      ]
    },
    {
      "cell_type": "code",
      "execution_count": null,
      "metadata": {
        "colab": {
          "base_uri": "https://localhost:8080/"
        },
        "id": "Li5slVndKymg",
        "outputId": "fc5ab34b-d5f1-4062-d21c-e24fb9d0e8da"
      },
      "outputs": [
        {
          "name": "stdout",
          "output_type": "stream",
          "text": [
            "1.7 ms ± 75.9 µs per loop (mean ± std. dev. of 7 runs, 1,000 loops each)\n"
          ]
        }
      ],
      "source": [
        "%%timeit\n",
        "insertionSort(num10k)"
      ]
    },
    {
      "cell_type": "code",
      "execution_count": null,
      "metadata": {
        "colab": {
          "base_uri": "https://localhost:8080/"
        },
        "id": "c4hpPEkFFGn5",
        "outputId": "51c549e9-6054-4057-8be9-9ab343467401"
      },
      "outputs": [
        {
          "data": {
            "text/plain": [
              "[39, 48, 234, 270, 361]"
            ]
          },
          "execution_count": 64,
          "metadata": {},
          "output_type": "execute_result"
        }
      ],
      "source": [
        "rand1000[:5]"
      ]
    },
    {
      "cell_type": "code",
      "execution_count": null,
      "metadata": {
        "colab": {
          "base_uri": "https://localhost:8080/"
        },
        "id": "cvOtnbFVFPL1",
        "outputId": "fa7f3a44-f19e-4f35-ceea-241bb41ceaae"
      },
      "outputs": [
        {
          "name": "stdout",
          "output_type": "stream",
          "text": [
            "1000 loops, best of 5: 215 µs per loop\n"
          ]
        }
      ],
      "source": [
        "%%timeit\n",
        "insertionSort(rand1000)"
      ]
    },
    {
      "cell_type": "code",
      "execution_count": null,
      "metadata": {
        "colab": {
          "base_uri": "https://localhost:8080/"
        },
        "id": "nHDsSVH9God_",
        "outputId": "fb7b6199-0ee1-455a-bf19-33ad325a1e26"
      },
      "outputs": [
        {
          "data": {
            "text/plain": [
              "[43415, 27012, 4835, 30828, 23818]"
            ]
          },
          "execution_count": 77,
          "metadata": {},
          "output_type": "execute_result"
        }
      ],
      "source": [
        "rand10000 = [random.randint(1,100000) for _ in range(10_000)]\n",
        "rand10000[:5]"
      ]
    },
    {
      "cell_type": "code",
      "execution_count": null,
      "metadata": {
        "colab": {
          "base_uri": "https://localhost:8080/"
        },
        "id": "0SwH2bDrGkxC",
        "outputId": "c3375f64-7f81-49c6-8aa8-b16b64ab95f6"
      },
      "outputs": [
        {
          "name": "stdout",
          "output_type": "stream",
          "text": [
            "1 loop, best of 5: 8.89 s per loop\n"
          ]
        }
      ],
      "source": [
        "%%timeit\n",
        "insertionSort(rand10000)"
      ]
    },
    {
      "cell_type": "code",
      "execution_count": null,
      "metadata": {
        "id": "K_j27uUzHEj_"
      },
      "outputs": [],
      "source": [
        "# so again 10 x more data -> 100x slower algorithm when complexity is quadratic O(n^2)"
      ]
    },
    {
      "cell_type": "code",
      "execution_count": null,
      "metadata": {
        "colab": {
          "base_uri": "https://localhost:8080/"
        },
        "id": "snHq-gs33tsi",
        "outputId": "d9334a41-6c5c-48f6-d896-e730ddb3495c"
      },
      "outputs": [
        {
          "name": "stdout",
          "output_type": "stream",
          "text": [
            "1000 loops, best of 5: 1.96 ms per loop\n"
          ]
        }
      ],
      "source": [
        "%%timeit\n",
        "insertionSort(rand1000)"
      ]
    },
    {
      "cell_type": "code",
      "execution_count": null,
      "metadata": {
        "colab": {
          "base_uri": "https://localhost:8080/"
        },
        "id": "aSSjpeLV3tsi",
        "outputId": "efd9d647-c612-434d-cd11-5c889238381f"
      },
      "outputs": [
        {
          "data": {
            "text/plain": [
              "[518699, 645096, 554705, 86126, 53316, 852987, 243402, 49894, 564628, 799849]"
            ]
          },
          "execution_count": 70,
          "metadata": {},
          "output_type": "execute_result"
        }
      ],
      "source": [
        "rand20k = [random.randint(1,1000000) for _ in range(20_000)]\n",
        "rand20k[:10]"
      ]
    },
    {
      "cell_type": "code",
      "execution_count": null,
      "metadata": {
        "colab": {
          "base_uri": "https://localhost:8080/"
        },
        "id": "FIilTvdY3tsj",
        "outputId": "8d4ab0ae-389b-4228-88bd-d662a2b090fe"
      },
      "outputs": [
        {
          "name": "stdout",
          "output_type": "stream",
          "text": [
            "The slowest run took 9637.89 times longer than the fastest. This could mean that an intermediate result is being cached.\n",
            "1 loop, best of 5: 3.82 ms per loop\n"
          ]
        }
      ],
      "source": [
        "%%timeit\n",
        "insertionSort(rand20k)"
      ]
    },
    {
      "cell_type": "code",
      "execution_count": null,
      "metadata": {
        "id": "CDI6jE8F3tsj",
        "outputId": "87e1aa41-151d-485c-84eb-50c9b00c47ab"
      },
      "outputs": [
        {
          "data": {
            "text/plain": [
              "[72, 208, 313, 370, 530, 572, 582, 687, 692, 768]"
            ]
          },
          "execution_count": 51,
          "metadata": {},
          "output_type": "execute_result"
        }
      ],
      "source": [
        "rand20k[:10]"
      ]
    },
    {
      "cell_type": "code",
      "execution_count": null,
      "metadata": {
        "id": "Pnn5jVW23tsj",
        "outputId": "4c5ed968-7a9b-47f1-8139-7b148ba90e40"
      },
      "outputs": [
        {
          "name": "stdout",
          "output_type": "stream",
          "text": [
            "Wall time: 1min 3s\n"
          ]
        }
      ],
      "source": [
        "%%time\n",
        "sorted20k = insertionSort(rand20k)"
      ]
    },
    {
      "cell_type": "code",
      "execution_count": null,
      "metadata": {
        "id": "kaw5y-VP3tsj",
        "outputId": "58f4012b-132d-44f6-be67-7f405582575b"
      },
      "outputs": [
        {
          "data": {
            "text/plain": [
              "([116, 132, 161, 269, 435], [116, 132, 161, 269, 435])"
            ]
          },
          "execution_count": 54,
          "metadata": {},
          "output_type": "execute_result"
        }
      ],
      "source": [
        "sorted20k[:5], rand20k[:5]"
      ]
    },
    {
      "cell_type": "code",
      "execution_count": null,
      "metadata": {
        "id": "w8dVI6lV3tsj"
      },
      "outputs": [],
      "source": [
        "sorted20k[9000] = 777\n",
        "sorted20k[12000] = 555\n",
        "# so not sorted anymore"
      ]
    },
    {
      "cell_type": "code",
      "execution_count": null,
      "metadata": {
        "id": "Iel-6zlMLOrb"
      },
      "outputs": [],
      "source": []
    },
    {
      "cell_type": "code",
      "execution_count": null,
      "metadata": {
        "id": "lTLDjdJk3tsl",
        "outputId": "54b98b79-8e89-4d80-8b0e-fd725fdb4cf9"
      },
      "outputs": [
        {
          "name": "stdout",
          "output_type": "stream",
          "text": [
            "Wall time: 24 ms\n"
          ]
        },
        {
          "data": {
            "text/plain": [
              "[116,\n",
              " 132,\n",
              " 161,\n",
              " 269,\n",
              " 435,\n",
              " 461,\n",
              " 475,\n",
              " 520,\n",
              " 555,\n",
              " 657,\n",
              " 739,\n",
              " 777,\n",
              " 945,\n",
              " 974,\n",
              " 1051,\n",
              " 1101,\n",
              " 1102,\n",
              " 1108,\n",
              " 1114,\n",
              " 1178,\n",
              " 1239,\n",
              " 1275,\n",
              " 1303,\n",
              " 1379,\n",
              " 1387,\n",
              " 1446,\n",
              " 1517,\n",
              " 1647,\n",
              " 1648,\n",
              " 1656,\n",
              " 1676,\n",
              " 1695,\n",
              " 1835,\n",
              " 1896,\n",
              " 1984,\n",
              " 1996,\n",
              " 1997,\n",
              " 2011,\n",
              " 2195,\n",
              " 2363,\n",
              " 2383,\n",
              " 2425,\n",
              " 2504,\n",
              " 2528,\n",
              " 2571,\n",
              " 2586,\n",
              " 2798,\n",
              " 2848,\n",
              " 2851,\n",
              " 2928,\n",
              " 2950,\n",
              " 3006,\n",
              " 3065,\n",
              " 3088,\n",
              " 3174,\n",
              " 3181,\n",
              " 3206,\n",
              " 3219,\n",
              " 3258,\n",
              " 3350,\n",
              " 3371,\n",
              " 3417,\n",
              " 3420,\n",
              " 3438,\n",
              " 3452,\n",
              " 3456,\n",
              " 3607,\n",
              " 3647,\n",
              " 3658,\n",
              " 3712,\n",
              " 3757,\n",
              " 3802,\n",
              " 3863,\n",
              " 3872,\n",
              " 3912,\n",
              " 3951,\n",
              " 3989,\n",
              " 4031,\n",
              " 4061,\n",
              " 4105,\n",
              " 4149,\n",
              " 4260,\n",
              " 4290,\n",
              " 4325,\n",
              " 4331,\n",
              " 4401,\n",
              " 4417,\n",
              " 4486,\n",
              " 4499,\n",
              " 4756,\n",
              " 4776,\n",
              " 4804,\n",
              " 4849,\n",
              " 4926,\n",
              " 5067,\n",
              " 5228,\n",
              " 5243,\n",
              " 5271,\n",
              " 5345,\n",
              " 5431,\n",
              " 5544,\n",
              " 5573,\n",
              " 5670,\n",
              " 5783,\n",
              " 5869,\n",
              " 5884,\n",
              " 5994,\n",
              " 6040,\n",
              " 6066,\n",
              " 6079,\n",
              " 6088,\n",
              " 6120,\n",
              " 6141,\n",
              " 6143,\n",
              " 6232,\n",
              " 6246,\n",
              " 6266,\n",
              " 6272,\n",
              " 6316,\n",
              " 6339,\n",
              " 6344,\n",
              " 6379,\n",
              " 6403,\n",
              " 6466,\n",
              " 6475,\n",
              " 6506,\n",
              " 6669,\n",
              " 6703,\n",
              " 6733,\n",
              " 6739,\n",
              " 6743,\n",
              " 6777,\n",
              " 6862,\n",
              " 7016,\n",
              " 7072,\n",
              " 7120,\n",
              " 7126,\n",
              " 7216,\n",
              " 7243,\n",
              " 7244,\n",
              " 7278,\n",
              " 7294,\n",
              " 7345,\n",
              " 7366,\n",
              " 7437,\n",
              " 7501,\n",
              " 7579,\n",
              " 7695,\n",
              " 7771,\n",
              " 7834,\n",
              " 7911,\n",
              " 7988,\n",
              " 8002,\n",
              " 8012,\n",
              " 8051,\n",
              " 8119,\n",
              " 8127,\n",
              " 8129,\n",
              " 8136,\n",
              " 8144,\n",
              " 8153,\n",
              " 8304,\n",
              " 8329,\n",
              " 8374,\n",
              " 8439,\n",
              " 8488,\n",
              " 8552,\n",
              " 8562,\n",
              " 8563,\n",
              " 8716,\n",
              " 8731,\n",
              " 8841,\n",
              " 8853,\n",
              " 8934,\n",
              " 8962,\n",
              " 9227,\n",
              " 9242,\n",
              " 9321,\n",
              " 9350,\n",
              " 9372,\n",
              " 9420,\n",
              " 9551,\n",
              " 9571,\n",
              " 9589,\n",
              " 9664,\n",
              " 9676,\n",
              " 9757,\n",
              " 9767,\n",
              " 9816,\n",
              " 9835,\n",
              " 9877,\n",
              " 10048,\n",
              " 10092,\n",
              " 10283,\n",
              " 10313,\n",
              " 10342,\n",
              " 10344,\n",
              " 10412,\n",
              " 10451,\n",
              " 10462,\n",
              " 10488,\n",
              " 10500,\n",
              " 10580,\n",
              " 10586,\n",
              " 10600,\n",
              " 10664,\n",
              " 10704,\n",
              " 10880,\n",
              " 10905,\n",
              " 10931,\n",
              " 11023,\n",
              " 11069,\n",
              " 11074,\n",
              " 11105,\n",
              " 11144,\n",
              " 11275,\n",
              " 11335,\n",
              " 11381,\n",
              " 11417,\n",
              " 11425,\n",
              " 11449,\n",
              " 11462,\n",
              " 11471,\n",
              " 11485,\n",
              " 11548,\n",
              " 11655,\n",
              " 11896,\n",
              " 11963,\n",
              " 12130,\n",
              " 12199,\n",
              " 12249,\n",
              " 12251,\n",
              " 12327,\n",
              " 12453,\n",
              " 12484,\n",
              " 12525,\n",
              " 12594,\n",
              " 12655,\n",
              " 12666,\n",
              " 12699,\n",
              " 12702,\n",
              " 12751,\n",
              " 12794,\n",
              " 12863,\n",
              " 12885,\n",
              " 12934,\n",
              " 13023,\n",
              " 13023,\n",
              " 13053,\n",
              " 13080,\n",
              " 13111,\n",
              " 13199,\n",
              " 13293,\n",
              " 13346,\n",
              " 13347,\n",
              " 13372,\n",
              " 13443,\n",
              " 13482,\n",
              " 13533,\n",
              " 13540,\n",
              " 13572,\n",
              " 13624,\n",
              " 13926,\n",
              " 13931,\n",
              " 13947,\n",
              " 13961,\n",
              " 14002,\n",
              " 14126,\n",
              " 14139,\n",
              " 14268,\n",
              " 14278,\n",
              " 14362,\n",
              " 14362,\n",
              " 14374,\n",
              " 14415,\n",
              " 14415,\n",
              " 14533,\n",
              " 14556,\n",
              " 14668,\n",
              " 14782,\n",
              " 14841,\n",
              " 14885,\n",
              " 14886,\n",
              " 14888,\n",
              " 14910,\n",
              " 14950,\n",
              " 15038,\n",
              " 15077,\n",
              " 15126,\n",
              " 15286,\n",
              " 15305,\n",
              " 15404,\n",
              " 15438,\n",
              " 15501,\n",
              " 15602,\n",
              " 15649,\n",
              " 15668,\n",
              " 15694,\n",
              " 15801,\n",
              " 15862,\n",
              " 15869,\n",
              " 15875,\n",
              " 15881,\n",
              " 16040,\n",
              " 16056,\n",
              " 16116,\n",
              " 16145,\n",
              " 16248,\n",
              " 16290,\n",
              " 16327,\n",
              " 16509,\n",
              " 16677,\n",
              " 16699,\n",
              " 16854,\n",
              " 16869,\n",
              " 16877,\n",
              " 16885,\n",
              " 17003,\n",
              " 17018,\n",
              " 17263,\n",
              " 17329,\n",
              " 17383,\n",
              " 17440,\n",
              " 17709,\n",
              " 17748,\n",
              " 17804,\n",
              " 17833,\n",
              " 17900,\n",
              " 18009,\n",
              " 18138,\n",
              " 18142,\n",
              " 18197,\n",
              " 18227,\n",
              " 18301,\n",
              " 18308,\n",
              " 18353,\n",
              " 18359,\n",
              " 18363,\n",
              " 18396,\n",
              " 18406,\n",
              " 18464,\n",
              " 18479,\n",
              " 18492,\n",
              " 18506,\n",
              " 18516,\n",
              " 18518,\n",
              " 18639,\n",
              " 18761,\n",
              " 18804,\n",
              " 18823,\n",
              " 18887,\n",
              " 18912,\n",
              " 18929,\n",
              " 19088,\n",
              " 19123,\n",
              " 19222,\n",
              " 19307,\n",
              " 19333,\n",
              " 19338,\n",
              " 19359,\n",
              " 19385,\n",
              " 19389,\n",
              " 19656,\n",
              " 19658,\n",
              " 19711,\n",
              " 19959,\n",
              " 19967,\n",
              " 19993,\n",
              " 20059,\n",
              " 20068,\n",
              " 20108,\n",
              " 20227,\n",
              " 20266,\n",
              " 20268,\n",
              " 20301,\n",
              " 20383,\n",
              " 20416,\n",
              " 20418,\n",
              " 20465,\n",
              " 20653,\n",
              " 20713,\n",
              " 20721,\n",
              " 20749,\n",
              " 20754,\n",
              " 20995,\n",
              " 21026,\n",
              " 21116,\n",
              " 21120,\n",
              " 21223,\n",
              " 21238,\n",
              " 21258,\n",
              " 21287,\n",
              " 21293,\n",
              " 21298,\n",
              " 21309,\n",
              " 21317,\n",
              " 21390,\n",
              " 21433,\n",
              " 21436,\n",
              " 21622,\n",
              " 21625,\n",
              " 21641,\n",
              " 21690,\n",
              " 21735,\n",
              " 21777,\n",
              " 21930,\n",
              " 22067,\n",
              " 22072,\n",
              " 22295,\n",
              " 22315,\n",
              " 22345,\n",
              " 22356,\n",
              " 22401,\n",
              " 22408,\n",
              " 22429,\n",
              " 22512,\n",
              " 22534,\n",
              " 22545,\n",
              " 22570,\n",
              " 22597,\n",
              " 22600,\n",
              " 22652,\n",
              " 22663,\n",
              " 22697,\n",
              " 22737,\n",
              " 22767,\n",
              " 22848,\n",
              " 22868,\n",
              " 22870,\n",
              " 23026,\n",
              " 23082,\n",
              " 23114,\n",
              " 23115,\n",
              " 23352,\n",
              " 23442,\n",
              " 23446,\n",
              " 23611,\n",
              " 23776,\n",
              " 23926,\n",
              " 23965,\n",
              " 24033,\n",
              " 24124,\n",
              " 24185,\n",
              " 24194,\n",
              " 24197,\n",
              " 24199,\n",
              " 24260,\n",
              " 24273,\n",
              " 24443,\n",
              " 24476,\n",
              " 24521,\n",
              " 24556,\n",
              " 24743,\n",
              " 24789,\n",
              " 24801,\n",
              " 24824,\n",
              " 24913,\n",
              " 24919,\n",
              " 25038,\n",
              " 25069,\n",
              " 25083,\n",
              " 25084,\n",
              " 25227,\n",
              " 25257,\n",
              " 25285,\n",
              " 25515,\n",
              " 25523,\n",
              " 25674,\n",
              " 25682,\n",
              " 25735,\n",
              " 25742,\n",
              " 25748,\n",
              " 25786,\n",
              " 25790,\n",
              " 25809,\n",
              " 25844,\n",
              " 25911,\n",
              " 25989,\n",
              " 26001,\n",
              " 26005,\n",
              " 26113,\n",
              " 26155,\n",
              " 26214,\n",
              " 26300,\n",
              " 26312,\n",
              " 26314,\n",
              " 26322,\n",
              " 26382,\n",
              " 26524,\n",
              " 26658,\n",
              " 26704,\n",
              " 26738,\n",
              " 26755,\n",
              " 26758,\n",
              " 26806,\n",
              " 26851,\n",
              " 26853,\n",
              " 26854,\n",
              " 26905,\n",
              " 26918,\n",
              " 26920,\n",
              " 26943,\n",
              " 27090,\n",
              " 27127,\n",
              " 27165,\n",
              " 27244,\n",
              " 27297,\n",
              " 27375,\n",
              " 27419,\n",
              " 27489,\n",
              " 27515,\n",
              " 27552,\n",
              " 27656,\n",
              " 27670,\n",
              " 27844,\n",
              " 27875,\n",
              " 27877,\n",
              " 27934,\n",
              " 28077,\n",
              " 28091,\n",
              " 28145,\n",
              " 28154,\n",
              " 28167,\n",
              " 28186,\n",
              " 28188,\n",
              " 28221,\n",
              " 28241,\n",
              " 28258,\n",
              " 28290,\n",
              " 28317,\n",
              " 28429,\n",
              " 28498,\n",
              " 28541,\n",
              " 28757,\n",
              " 28797,\n",
              " 28806,\n",
              " 28871,\n",
              " 28873,\n",
              " 28880,\n",
              " 28929,\n",
              " 28990,\n",
              " 29102,\n",
              " 29144,\n",
              " 29182,\n",
              " 29191,\n",
              " 29251,\n",
              " 29282,\n",
              " 29306,\n",
              " 29400,\n",
              " 29403,\n",
              " 29404,\n",
              " 29453,\n",
              " 29482,\n",
              " 29490,\n",
              " 29503,\n",
              " 29656,\n",
              " 29657,\n",
              " 29683,\n",
              " 29698,\n",
              " 29704,\n",
              " 29726,\n",
              " 29799,\n",
              " 29891,\n",
              " 29912,\n",
              " 29925,\n",
              " 29928,\n",
              " 29936,\n",
              " 29959,\n",
              " 29960,\n",
              " 29966,\n",
              " 29966,\n",
              " 29984,\n",
              " 30008,\n",
              " 30098,\n",
              " 30104,\n",
              " 30193,\n",
              " 30233,\n",
              " 30271,\n",
              " 30462,\n",
              " 30466,\n",
              " 30480,\n",
              " 30591,\n",
              " 30592,\n",
              " 30634,\n",
              " 30651,\n",
              " 30663,\n",
              " 30745,\n",
              " 30797,\n",
              " 30798,\n",
              " 30872,\n",
              " 30892,\n",
              " 30897,\n",
              " 30902,\n",
              " 30909,\n",
              " 30916,\n",
              " 30923,\n",
              " 30986,\n",
              " 31163,\n",
              " 31177,\n",
              " 31259,\n",
              " 31260,\n",
              " 31343,\n",
              " 31343,\n",
              " 31390,\n",
              " 31431,\n",
              " 31449,\n",
              " 31472,\n",
              " 31539,\n",
              " 31550,\n",
              " 31562,\n",
              " 31566,\n",
              " 31567,\n",
              " 31687,\n",
              " 31701,\n",
              " 31938,\n",
              " 31967,\n",
              " 32005,\n",
              " 32051,\n",
              " 32070,\n",
              " 32096,\n",
              " 32108,\n",
              " 32160,\n",
              " 32228,\n",
              " 32252,\n",
              " 32299,\n",
              " 32301,\n",
              " 32417,\n",
              " 32445,\n",
              " 32465,\n",
              " 32524,\n",
              " 32569,\n",
              " 32577,\n",
              " 32651,\n",
              " 32703,\n",
              " 32736,\n",
              " 32773,\n",
              " 32786,\n",
              " 32789,\n",
              " 32804,\n",
              " 33020,\n",
              " 33125,\n",
              " 33152,\n",
              " 33162,\n",
              " 33205,\n",
              " 33216,\n",
              " 33219,\n",
              " 33233,\n",
              " 33256,\n",
              " 33256,\n",
              " 33274,\n",
              " 33325,\n",
              " 33350,\n",
              " 33388,\n",
              " 33454,\n",
              " 33501,\n",
              " 33571,\n",
              " 33585,\n",
              " 33650,\n",
              " 33671,\n",
              " 33786,\n",
              " 33938,\n",
              " 33966,\n",
              " 34051,\n",
              " 34071,\n",
              " 34154,\n",
              " 34174,\n",
              " 34223,\n",
              " 34341,\n",
              " 34341,\n",
              " 34344,\n",
              " 34357,\n",
              " 34383,\n",
              " 34462,\n",
              " 34494,\n",
              " 34555,\n",
              " 34566,\n",
              " 34582,\n",
              " 34605,\n",
              " 34610,\n",
              " 34774,\n",
              " 34801,\n",
              " 34945,\n",
              " 35065,\n",
              " 35369,\n",
              " 35458,\n",
              " 35484,\n",
              " 35750,\n",
              " 35806,\n",
              " 35838,\n",
              " 35842,\n",
              " 35847,\n",
              " 35848,\n",
              " 35877,\n",
              " 35915,\n",
              " 35966,\n",
              " 35986,\n",
              " 35987,\n",
              " 36033,\n",
              " 36164,\n",
              " 36209,\n",
              " 36221,\n",
              " 36327,\n",
              " 36349,\n",
              " 36438,\n",
              " 36451,\n",
              " 36648,\n",
              " 36784,\n",
              " 36861,\n",
              " 36929,\n",
              " 36937,\n",
              " 36982,\n",
              " 37075,\n",
              " 37101,\n",
              " 37110,\n",
              " 37114,\n",
              " 37170,\n",
              " 37231,\n",
              " 37302,\n",
              " 37406,\n",
              " 37426,\n",
              " 37454,\n",
              " 37488,\n",
              " 37508,\n",
              " 37535,\n",
              " 37635,\n",
              " 37658,\n",
              " 37748,\n",
              " 37808,\n",
              " 37843,\n",
              " 37848,\n",
              " 37867,\n",
              " 37872,\n",
              " 37875,\n",
              " 37936,\n",
              " 37990,\n",
              " 38004,\n",
              " 38015,\n",
              " 38021,\n",
              " 38168,\n",
              " 38192,\n",
              " 38197,\n",
              " 38242,\n",
              " 38450,\n",
              " 38561,\n",
              " 38611,\n",
              " 38697,\n",
              " 38705,\n",
              " 38727,\n",
              " 38735,\n",
              " 38759,\n",
              " 38768,\n",
              " 38836,\n",
              " 38856,\n",
              " 38868,\n",
              " 38903,\n",
              " 38912,\n",
              " 38943,\n",
              " 38964,\n",
              " 38968,\n",
              " 39028,\n",
              " 39211,\n",
              " 39234,\n",
              " 39270,\n",
              " 39279,\n",
              " 39297,\n",
              " 39301,\n",
              " 39319,\n",
              " 39478,\n",
              " 39485,\n",
              " 39533,\n",
              " 39536,\n",
              " 39640,\n",
              " 39746,\n",
              " 39777,\n",
              " 40010,\n",
              " 40058,\n",
              " 40066,\n",
              " 40084,\n",
              " 40110,\n",
              " 40204,\n",
              " 40217,\n",
              " 40342,\n",
              " 40404,\n",
              " 40502,\n",
              " 40539,\n",
              " 40620,\n",
              " 40665,\n",
              " 40687,\n",
              " 40792,\n",
              " 40882,\n",
              " 40901,\n",
              " 40905,\n",
              " 40907,\n",
              " 41041,\n",
              " 41048,\n",
              " 41126,\n",
              " 41161,\n",
              " 41194,\n",
              " 41224,\n",
              " 41231,\n",
              " 41260,\n",
              " 41313,\n",
              " 41351,\n",
              " 41369,\n",
              " 41450,\n",
              " 41467,\n",
              " 41548,\n",
              " 41570,\n",
              " 41635,\n",
              " 41649,\n",
              " 41701,\n",
              " 41701,\n",
              " 41749,\n",
              " 41750,\n",
              " 41861,\n",
              " 41879,\n",
              " 41985,\n",
              " 42032,\n",
              " 42050,\n",
              " 42056,\n",
              " 42175,\n",
              " 42190,\n",
              " 42201,\n",
              " 42212,\n",
              " 42231,\n",
              " 42278,\n",
              " 42348,\n",
              " 42412,\n",
              " 42422,\n",
              " 42583,\n",
              " 42591,\n",
              " 42629,\n",
              " 42657,\n",
              " 42671,\n",
              " 42681,\n",
              " 42768,\n",
              " 42846,\n",
              " 42857,\n",
              " 42857,\n",
              " 42938,\n",
              " 42962,\n",
              " 42976,\n",
              " 43007,\n",
              " 43024,\n",
              " 43111,\n",
              " 43143,\n",
              " 43168,\n",
              " 43168,\n",
              " 43173,\n",
              " 43274,\n",
              " 43318,\n",
              " 43324,\n",
              " 43326,\n",
              " 43387,\n",
              " 43406,\n",
              " 43488,\n",
              " 43531,\n",
              " 43547,\n",
              " 43709,\n",
              " 43737,\n",
              " 43758,\n",
              " 43845,\n",
              " 43899,\n",
              " 43974,\n",
              " 44026,\n",
              " 44029,\n",
              " 44136,\n",
              " 44204,\n",
              " 44205,\n",
              " 44205,\n",
              " 44237,\n",
              " 44270,\n",
              " 44271,\n",
              " 44327,\n",
              " 44381,\n",
              " 44431,\n",
              " 44505,\n",
              " 44534,\n",
              " 44587,\n",
              " 44606,\n",
              " 44609,\n",
              " 44690,\n",
              " 44782,\n",
              " 44859,\n",
              " 44865,\n",
              " 44921,\n",
              " 44941,\n",
              " 44951,\n",
              " 44965,\n",
              " 44980,\n",
              " 45046,\n",
              " 45088,\n",
              " 45157,\n",
              " 45168,\n",
              " 45182,\n",
              " 45253,\n",
              " 45296,\n",
              " 45313,\n",
              " 45331,\n",
              " 45335,\n",
              " 45381,\n",
              " 45401,\n",
              " 45428,\n",
              " 45516,\n",
              " 45546,\n",
              " 45551,\n",
              " 45556,\n",
              " 45559,\n",
              " 45582,\n",
              " 45583,\n",
              " 45626,\n",
              " 45630,\n",
              " 45686,\n",
              " 45689,\n",
              " 45779,\n",
              " 45809,\n",
              " 45859,\n",
              " 45924,\n",
              " 45955,\n",
              " 46034,\n",
              " 46286,\n",
              " 46301,\n",
              " 46352,\n",
              " 46359,\n",
              " 46380,\n",
              " 46392,\n",
              " 46505,\n",
              " 46509,\n",
              " 46512,\n",
              " 46535,\n",
              " 46646,\n",
              " 46646,\n",
              " 46712,\n",
              " 46714,\n",
              " 46750,\n",
              " 46769,\n",
              " 46797,\n",
              " 46917,\n",
              " 46953,\n",
              " 46956,\n",
              " 47031,\n",
              " 47096,\n",
              " 47115,\n",
              " 47245,\n",
              " 47270,\n",
              " 47275,\n",
              " 47315,\n",
              " 47378,\n",
              " 47413,\n",
              " 47432,\n",
              " 47441,\n",
              " 47467,\n",
              " 47472,\n",
              " 47519,\n",
              " 47646,\n",
              " 47678,\n",
              " 47704,\n",
              " 47785,\n",
              " 47848,\n",
              " 47885,\n",
              " 47903,\n",
              " 47968,\n",
              " 47974,\n",
              " 48046,\n",
              " 48053,\n",
              " 48144,\n",
              " 48193,\n",
              " 48201,\n",
              " 48244,\n",
              " 48266,\n",
              " 48326,\n",
              " 48353,\n",
              " 48356,\n",
              " 48436,\n",
              " 48519,\n",
              " 48524,\n",
              " 48563,\n",
              " 48593,\n",
              " 48610,\n",
              " 48663,\n",
              " 48673,\n",
              " 48702,\n",
              " 48879,\n",
              " 48970,\n",
              " 49033,\n",
              " 49113,\n",
              " 49126,\n",
              " 49128,\n",
              " 49128,\n",
              " 49276,\n",
              " 49302,\n",
              " 49373,\n",
              " 49465,\n",
              " 49471,\n",
              " 49544,\n",
              " 49631,\n",
              " 49754,\n",
              " 49789,\n",
              " 50063,\n",
              " 50137,\n",
              " ...]"
            ]
          },
          "execution_count": 56,
          "metadata": {},
          "output_type": "execute_result"
        }
      ],
      "source": [
        "%%time\n",
        "insertionSort(sorted20k)"
      ]
    },
    {
      "cell_type": "markdown",
      "metadata": {
        "heading_collapsed": true,
        "hidden": true,
        "id": "h65KAxwq3tsl"
      },
      "source": [
        "### Merge Sort"
      ]
    },
    {
      "cell_type": "code",
      "execution_count": null,
      "metadata": {
        "id": "oHq3Gp143tsl"
      },
      "outputs": [],
      "source": [
        "# first implementation idea by https://en.wikipedia.org/wiki/John_von_Neumann\n"
      ]
    },
    {
      "cell_type": "markdown",
      "metadata": {
        "hidden": true,
        "id": "JSAvDqv73tsl"
      },
      "source": [
        "![merge](https://github.com/ValRCS/RTU_Algorithms_DIP321/blob/main/imgs/mergesort.png?raw=1)"
      ]
    },
    {
      "cell_type": "markdown",
      "metadata": {
        "hidden": true,
        "id": "MDHA8hNG3tsl"
      },
      "source": [
        "![merge1](https://github.com/ValRCS/RTU_Algorithms_DIP321/blob/main/imgs/mergesortB.png?raw=1)"
      ]
    },
    {
      "cell_type": "markdown",
      "metadata": {
        "hidden": true,
        "id": "rV399HA-3tsl"
      },
      "source": [
        "$$Complexity: O(nlog(n))$$"
      ]
    },
    {
      "cell_type": "code",
      "execution_count": null,
      "metadata": {
        "hidden": true,
        "id": "PYkyQ_jI3tsl"
      },
      "outputs": [],
      "source": [
        "l = [1,2,3,4,32,5,5,66,33,221,34,23,12]"
      ]
    },
    {
      "cell_type": "code",
      "execution_count": 48,
      "metadata": {
        "hidden": true,
        "id": "PhhT-crZ3tsm"
      },
      "outputs": [],
      "source": [
        "def mergeSort(seq, debug=False):\n",
        "    alist = seq.copy() # should be a copy\n",
        "#     print(\"Splitting \", alist)\n",
        "    if len(alist) > 1:\n",
        "        mid = len(alist) // 2\n",
        "        lefthalf = alist[:mid]\n",
        "        righthalf = alist[mid:]\n",
        "\n",
        "        lefthalf = mergeSort(lefthalf)\n",
        "        righthalf = mergeSort(righthalf)\n",
        "        # this could a separate function the merging part\n",
        "        i = 0\n",
        "        j = 0\n",
        "        k = 0\n",
        "        while i < len(lefthalf) and j < len(righthalf):\n",
        "            if lefthalf[i] < righthalf[j]:\n",
        "                alist[k] = lefthalf[i]\n",
        "                i = i + 1\n",
        "            else:\n",
        "                alist[k] = righthalf[j]\n",
        "                j = j + 1\n",
        "            k = k + 1\n",
        "\n",
        "        while i < len(lefthalf):\n",
        "            alist[k] = lefthalf[i]\n",
        "            i = i + 1\n",
        "            k = k + 1\n",
        "\n",
        "        while j < len(righthalf):\n",
        "            alist[k] = righthalf[j]\n",
        "            j = j + 1\n",
        "            k = k + 1\n",
        "        if debug:\n",
        "          print(\"Merging \", alist)\n",
        "    return alist"
      ]
    },
    {
      "cell_type": "code",
      "execution_count": 49,
      "metadata": {
        "colab": {
          "base_uri": "https://localhost:8080/"
        },
        "hidden": true,
        "id": "uCPv19-h3tsm",
        "outputId": "0ea4b368-c14b-411b-9167-c56cc976702a"
      },
      "outputs": [
        {
          "output_type": "stream",
          "name": "stdout",
          "text": [
            "Merging  [1, 2, 3, 12, 23, 33, 33, 34, 66, 221, 687]\n"
          ]
        },
        {
          "output_type": "execute_result",
          "data": {
            "text/plain": [
              "[1, 2, 3, 12, 23, 33, 33, 34, 66, 221, 687]"
            ]
          },
          "metadata": {},
          "execution_count": 49
        }
      ],
      "source": [
        "mergeSort(l, debug=True)"
      ]
    },
    {
      "cell_type": "code",
      "execution_count": null,
      "metadata": {
        "colab": {
          "base_uri": "https://localhost:8080/"
        },
        "id": "_RxoSHGpa876",
        "outputId": "28bdd86a-ff40-4f78-d1a0-e44a1ca8d264"
      },
      "outputs": [
        {
          "data": {
            "text/plain": [
              "[1, 33, 687, 2, 3, 66, 33, 221, 34, 23, 12]"
            ]
          },
          "execution_count": 67,
          "metadata": {},
          "output_type": "execute_result"
        }
      ],
      "source": [
        "l"
      ]
    },
    {
      "cell_type": "code",
      "execution_count": null,
      "metadata": {
        "colab": {
          "base_uri": "https://localhost:8080/"
        },
        "id": "mdMyh3mgbhaB",
        "outputId": "84882214-980f-4b23-d5ba-1cd5c3b1adb0"
      },
      "outputs": [
        {
          "data": {
            "text/plain": [
              "[1, 2, 3, 4, 5, 5, 12, 23, 32, 33, 34, 66, 221]"
            ]
          },
          "execution_count": 79,
          "metadata": {},
          "output_type": "execute_result"
        }
      ],
      "source": [
        "sorted_list = mergeSort(l)\n",
        "sorted_list"
      ]
    },
    {
      "cell_type": "code",
      "execution_count": 50,
      "metadata": {
        "colab": {
          "base_uri": "https://localhost:8080/"
        },
        "id": "TD-sdi4c3tsm",
        "outputId": "872cad40-91f0-44e0-9642-40bb76011291"
      },
      "outputs": [
        {
          "output_type": "execute_result",
          "data": {
            "text/plain": [
              "[4166, 3381, 1751, 3077, 1433, 6336, 1977, 9274, 7114, 4633]"
            ]
          },
          "metadata": {},
          "execution_count": 50
        }
      ],
      "source": [
        "rand1000[:10]"
      ]
    },
    {
      "cell_type": "code",
      "execution_count": null,
      "metadata": {
        "id": "rmLxQrGT3tsm"
      },
      "outputs": [],
      "source": [
        "shuffle(rand1000)"
      ]
    },
    {
      "cell_type": "code",
      "execution_count": 51,
      "metadata": {
        "id": "gDkQICKj3tsm",
        "outputId": "2cf4bd98-c4a6-477b-c0be-22f0c53ae132",
        "colab": {
          "base_uri": "https://localhost:8080/"
        }
      },
      "outputs": [
        {
          "output_type": "execute_result",
          "data": {
            "text/plain": [
              "[4166, 3381, 1751, 3077, 1433, 6336, 1977, 9274, 7114, 4633]"
            ]
          },
          "metadata": {},
          "execution_count": 51
        }
      ],
      "source": [
        "rand1000[:10]"
      ]
    },
    {
      "cell_type": "code",
      "execution_count": 52,
      "metadata": {
        "colab": {
          "base_uri": "https://localhost:8080/"
        },
        "id": "Y2Hmxw3r3tsm",
        "outputId": "ea712d3f-1996-4a13-e338-b542c137d41e"
      },
      "outputs": [
        {
          "output_type": "execute_result",
          "data": {
            "text/plain": [
              "[1,\n",
              " 41,\n",
              " 44,\n",
              " 56,\n",
              " 106,\n",
              " 116,\n",
              " 120,\n",
              " 124,\n",
              " 133,\n",
              " 141,\n",
              " 144,\n",
              " 151,\n",
              " 162,\n",
              " 176,\n",
              " 178,\n",
              " 192,\n",
              " 203,\n",
              " 206,\n",
              " 211,\n",
              " 212]"
            ]
          },
          "metadata": {},
          "execution_count": 52
        }
      ],
      "source": [
        "merge1000 = mergeSort(rand1000)\n",
        "merge1000[:20]"
      ]
    },
    {
      "cell_type": "code",
      "execution_count": null,
      "metadata": {
        "colab": {
          "base_uri": "https://localhost:8080/"
        },
        "id": "1Pa9oUbiJfRu",
        "outputId": "fb673483-3b51-4766-a7fb-eded572cc56d"
      },
      "outputs": [
        {
          "data": {
            "text/plain": [
              "[23909, 90686, 54776, 6233, 24672, 80196, 61699, 33844, 60050, 67172]"
            ]
          },
          "execution_count": 67,
          "metadata": {},
          "output_type": "execute_result"
        }
      ],
      "source": [
        "rand1000[:10]"
      ]
    },
    {
      "cell_type": "code",
      "execution_count": null,
      "metadata": {
        "id": "bpn5G0Kw3tsm",
        "outputId": "7ca60ea8-e431-4a91-b893-e95312af9db2"
      },
      "outputs": [
        {
          "data": {
            "text/plain": [
              "[10, 34, 40, 40, 43, 46, 57, 61, 64, 81]"
            ]
          },
          "execution_count": 50,
          "metadata": {},
          "output_type": "execute_result"
        }
      ],
      "source": [
        "merge10k = mergeSort(rand10000)\n",
        "merge10k[:10]"
      ]
    },
    {
      "cell_type": "code",
      "execution_count": 53,
      "metadata": {
        "colab": {
          "base_uri": "https://localhost:8080/"
        },
        "id": "e4xCUG6b3tsn",
        "outputId": "6925f344-17fd-4eb2-ec87-b9e7cba9e580"
      },
      "outputs": [
        {
          "output_type": "stream",
          "name": "stdout",
          "text": [
            "2.11 ms ± 408 µs per loop (mean ± std. dev. of 7 runs, 1000 loops each)\n"
          ]
        }
      ],
      "source": [
        "%%timeit\n",
        "# FIXED whew rand1000 is already sorted\n",
        "mergeSort(rand1000)"
      ]
    },
    {
      "cell_type": "code",
      "execution_count": 54,
      "metadata": {
        "colab": {
          "base_uri": "https://localhost:8080/"
        },
        "id": "J2JlF-Ia3tsn",
        "outputId": "6136aae1-3277-4dde-afb6-860abaf3aac0",
        "scrolled": true
      },
      "outputs": [
        {
          "output_type": "stream",
          "name": "stdout",
          "text": [
            "26.1 ms ± 613 µs per loop (mean ± std. dev. of 7 runs, 10 loops each)\n"
          ]
        }
      ],
      "source": [
        "%%timeit\n",
        "mergeSort(rand10000)"
      ]
    },
    {
      "cell_type": "code",
      "execution_count": 55,
      "metadata": {
        "colab": {
          "base_uri": "https://localhost:8080/"
        },
        "id": "Ot8hLCL63tsn",
        "outputId": "f321bf68-628b-488b-e314-6b6921861c42"
      },
      "outputs": [
        {
          "output_type": "execute_result",
          "data": {
            "text/plain": [
              "[250133, 360972, 535238, 799410, 435732]"
            ]
          },
          "metadata": {},
          "execution_count": 55
        }
      ],
      "source": [
        "r100_000 = [random.randint(1,1_000_000) for _ in range(100_000)]\n",
        "r100_000[:5]"
      ]
    },
    {
      "cell_type": "code",
      "execution_count": null,
      "metadata": {
        "id": "LMQW5_6sNT5P"
      },
      "outputs": [],
      "source": []
    },
    {
      "cell_type": "code",
      "execution_count": 56,
      "metadata": {
        "colab": {
          "base_uri": "https://localhost:8080/"
        },
        "id": "Pe1IaLjW3tsn",
        "outputId": "e14f83b2-fb52-40d4-ba91-da4c073efb07"
      },
      "outputs": [
        {
          "output_type": "stream",
          "name": "stdout",
          "text": [
            "363 ms ± 12.1 ms per loop (mean ± std. dev. of 7 runs, 1 loop each)\n"
          ]
        }
      ],
      "source": [
        "%%timeit\n",
        "mergeSort(rand100000) # so here n log n starts to really shine  # we could not do this during lecture on buble,selection or insertion sort!!!"
      ]
    },
    {
      "cell_type": "code",
      "execution_count": 57,
      "metadata": {
        "id": "KeS0Q651jKDk",
        "outputId": "abfc9a21-2847-49ff-99ea-0f0f26736f33",
        "colab": {
          "base_uri": "https://localhost:8080/"
        }
      },
      "outputs": [
        {
          "output_type": "stream",
          "name": "stdout",
          "text": [
            "27.8 ms ± 681 µs per loop (mean ± std. dev. of 7 runs, 10 loops each)\n"
          ]
        }
      ],
      "source": [
        "%%timeit\n",
        "sorted(rand100000) # built-in sort which utilizes Timsort\n",
        "#  - hybrid of merge and insertion sort"
      ]
    },
    {
      "cell_type": "code",
      "execution_count": null,
      "metadata": {
        "id": "WotQXo_m3tsn"
      },
      "outputs": [],
      "source": [
        "shuffle(r100_000)"
      ]
    },
    {
      "cell_type": "code",
      "execution_count": null,
      "metadata": {
        "colab": {
          "base_uri": "https://localhost:8080/"
        },
        "id": "ko5L4myfcH2F",
        "outputId": "5265de6f-973e-4630-a4a2-b59d7b29ec21"
      },
      "outputs": [
        {
          "data": {
            "text/plain": [
              "[501088, 386571, 13623, 739442, 513441]"
            ]
          },
          "execution_count": 72,
          "metadata": {},
          "output_type": "execute_result"
        }
      ],
      "source": [
        "r100_000[:5]"
      ]
    },
    {
      "cell_type": "code",
      "execution_count": null,
      "metadata": {
        "id": "7da-cF9IKUkf"
      },
      "outputs": [],
      "source": [
        "# Python has a built in sorted - as most languages do, lets test it"
      ]
    },
    {
      "cell_type": "code",
      "execution_count": null,
      "metadata": {
        "colab": {
          "base_uri": "https://localhost:8080/"
        },
        "id": "4DND3PVV3tsn",
        "outputId": "1b58c017-84fb-4c34-d8ae-812f791feb05"
      },
      "outputs": [
        {
          "name": "stdout",
          "output_type": "stream",
          "text": [
            "22.7 ms ± 354 µs per loop (mean ± std. dev. of 7 runs, 10 loops each)\n"
          ]
        }
      ],
      "source": [
        "%%timeit\n",
        "sorted(rand100000) # sorted uses timsort which is a combination of insertion sort + merge sort"
      ]
    },
    {
      "cell_type": "code",
      "execution_count": null,
      "metadata": {
        "colab": {
          "base_uri": "https://localhost:8080/"
        },
        "id": "aY_AAOelN8PM",
        "outputId": "c247dc67-7557-4fc5-df67-0334a5c64d3a"
      },
      "outputs": [
        {
          "name": "stdout",
          "output_type": "stream",
          "text": [
            "353 ms ± 6.8 ms per loop (mean ± std. dev. of 7 runs, 1 loop each)\n"
          ]
        }
      ],
      "source": [
        "%%timeit\n",
        "sorted(rand1M)"
      ]
    },
    {
      "cell_type": "code",
      "execution_count": null,
      "metadata": {
        "colab": {
          "base_uri": "https://localhost:8080/"
        },
        "id": "LsX25b3lcNbY",
        "outputId": "4c6e5c07-4545-44b6-f884-037d98bde926"
      },
      "outputs": [
        {
          "name": "stdout",
          "output_type": "stream",
          "text": [
            "1000 loops, best of 5: 1.61 ms per loop\n"
          ]
        }
      ],
      "source": [
        "%%timeit\n",
        "sorted(rand10000)"
      ]
    },
    {
      "cell_type": "code",
      "execution_count": null,
      "metadata": {
        "id": "hkgVyPKIO392"
      },
      "outputs": [],
      "source": []
    },
    {
      "cell_type": "markdown",
      "metadata": {
        "id": "FRNW05DwO5Ac"
      },
      "source": [
        "# Stable sorts\n"
      ]
    },
    {
      "cell_type": "code",
      "execution_count": 64,
      "metadata": {
        "colab": {
          "base_uri": "https://localhost:8080/"
        },
        "id": "n3p5JjR4O7yM",
        "outputId": "b37ca905-5085-4626-ff72-e47b6b183724"
      },
      "outputs": [
        {
          "output_type": "execute_result",
          "data": {
            "text/plain": [
              "[(7, 'Carol'),\n",
              " (7, 'Bob'),\n",
              " (10, 'Dave'),\n",
              " (12, 'Eve'),\n",
              " (5, 'Alice'),\n",
              " (3, 'Frank')]"
            ]
          },
          "metadata": {},
          "execution_count": 64
        }
      ],
      "source": [
        "tuples = [ (7,\"Carol\"), (7,\"Bob\"), (10, \"Dave\"), (12, \"Eve\"), (5,\"Alice\"), (3, \"Frank\")]\n",
        "tuples"
      ]
    },
    {
      "cell_type": "code",
      "execution_count": 65,
      "metadata": {
        "colab": {
          "base_uri": "https://localhost:8080/"
        },
        "id": "Icp7A6HNPNex",
        "outputId": "fd4dfc90-800a-4e0f-dfb7-d5b168fc5c8a"
      },
      "outputs": [
        {
          "output_type": "execute_result",
          "data": {
            "text/plain": [
              "[(3, 'Frank'),\n",
              " (5, 'Alice'),\n",
              " (7, 'Bob'),\n",
              " (7, 'Carol'),\n",
              " (10, 'Dave'),\n",
              " (12, 'Eve')]"
            ]
          },
          "metadata": {},
          "execution_count": 65
        }
      ],
      "source": [
        "sorted(tuples)"
      ]
    },
    {
      "cell_type": "code",
      "execution_count": 60,
      "metadata": {
        "id": "rZJbVbBoQWzl"
      },
      "outputs": [],
      "source": [
        "def first(t):\n",
        "    return t[0]"
      ]
    },
    {
      "cell_type": "code",
      "execution_count": 66,
      "metadata": {
        "colab": {
          "base_uri": "https://localhost:8080/"
        },
        "id": "pUNHYesAQg7x",
        "outputId": "a551750d-fc73-4e72-9360-fee09d5dc917"
      },
      "outputs": [
        {
          "output_type": "execute_result",
          "data": {
            "text/plain": [
              "[(3, 'Frank'),\n",
              " (5, 'Alice'),\n",
              " (7, 'Carol'),\n",
              " (7, 'Bob'),\n",
              " (10, 'Dave'),\n",
              " (12, 'Eve')]"
            ]
          },
          "metadata": {},
          "execution_count": 66
        }
      ],
      "source": [
        "sorted(tuples, key = first) # this keeps the sort stable in our case\n",
        "# because we do not check for the name"
      ]
    },
    {
      "cell_type": "code",
      "execution_count": 67,
      "metadata": {
        "colab": {
          "base_uri": "https://localhost:8080/"
        },
        "id": "FJqY2dSQPTqI",
        "outputId": "a405b6b8-fda8-45e5-ca73-4fa588d96fb4"
      },
      "outputs": [
        {
          "output_type": "execute_result",
          "data": {
            "text/plain": [
              "[(3, 'Frank'),\n",
              " (5, 'Alice'),\n",
              " (7, 'Carol'),\n",
              " (7, 'Bob'),\n",
              " (10, 'Dave'),\n",
              " (12, 'Eve')]"
            ]
          },
          "metadata": {},
          "execution_count": 67
        }
      ],
      "source": [
        "sorted(tuples, key = lambda x: x[0]) #\n",
        "# i pass key an anonymous function which returns first part of the tuple to be compared"
      ]
    },
    {
      "cell_type": "code",
      "execution_count": 68,
      "metadata": {
        "colab": {
          "base_uri": "https://localhost:8080/"
        },
        "id": "h8TnAprWQyUw",
        "outputId": "b73ddaf7-880b-41fc-8034-cfc78900300a"
      },
      "outputs": [
        {
          "output_type": "execute_result",
          "data": {
            "text/plain": [
              "[(5, 'Alice'),\n",
              " (7, 'Bob'),\n",
              " (7, 'Carol'),\n",
              " (10, 'Dave'),\n",
              " (12, 'Eve'),\n",
              " (3, 'Frank')]"
            ]
          },
          "metadata": {},
          "execution_count": 68
        }
      ],
      "source": [
        "sorted(tuples, key = lambda x: (x[1],x[0])) # this is actually default here for our tuples"
      ]
    },
    {
      "cell_type": "markdown",
      "metadata": {
        "id": "QbeXpsZ0Q0_n"
      },
      "source": []
    },
    {
      "cell_type": "code",
      "execution_count": null,
      "metadata": {
        "colab": {
          "base_uri": "https://localhost:8080/"
        },
        "id": "u1BMybSWKe4x",
        "outputId": "25f2cc8b-51f8-42fd-e9f9-c2802b757582"
      },
      "outputs": [
        {
          "data": {
            "text/plain": [
              "[5, 6, 8, 32, 33]"
            ]
          },
          "execution_count": 94,
          "metadata": {},
          "output_type": "execute_result"
        }
      ],
      "source": [
        "r100_000[:5]"
      ]
    },
    {
      "cell_type": "code",
      "execution_count": null,
      "metadata": {
        "id": "sE6vsiMNKhZf"
      },
      "outputs": [],
      "source": [
        "shuffle(r100_000)"
      ]
    },
    {
      "cell_type": "code",
      "execution_count": null,
      "metadata": {
        "colab": {
          "base_uri": "https://localhost:8080/"
        },
        "id": "rIBOydisKjik",
        "outputId": "29a9e945-2da2-4942-d913-80a229a1e9e4"
      },
      "outputs": [
        {
          "data": {
            "text/plain": [
              "[170223, 157376, 70356, 714494, 305483]"
            ]
          },
          "execution_count": 96,
          "metadata": {},
          "output_type": "execute_result"
        }
      ],
      "source": [
        "r100_000[:5]"
      ]
    },
    {
      "cell_type": "code",
      "execution_count": null,
      "metadata": {
        "colab": {
          "base_uri": "https://localhost:8080/"
        },
        "id": "Dm_k_ej8Kmju",
        "outputId": "b033f8f3-3eab-4d96-aafb-be5d9446b7f4"
      },
      "outputs": [
        {
          "name": "stdout",
          "output_type": "stream",
          "text": [
            "10 loops, best of 5: 27 ms per loop\n"
          ]
        }
      ],
      "source": [
        "%%timeit\n",
        "sorted(r100_000) # sorted uses timsort which is a combination of insertion sort + merge sort"
      ]
    },
    {
      "cell_type": "code",
      "execution_count": null,
      "metadata": {
        "colab": {
          "base_uri": "https://localhost:8080/"
        },
        "id": "pCSbk5oP3tsn",
        "outputId": "25899427-e807-4c74-f1c7-0a5a62ebac61"
      },
      "outputs": [
        {
          "data": {
            "text/plain": [
              "[15, 32, 34, 43, 56]"
            ]
          },
          "execution_count": 75,
          "metadata": {},
          "output_type": "execute_result"
        }
      ],
      "source": [
        "sorted100k = mergeSort(r100_000)\n",
        "sorted100k[:5]"
      ]
    },
    {
      "cell_type": "code",
      "execution_count": null,
      "metadata": {
        "id": "iHX7CrZw3tso",
        "outputId": "fcfbe02c-2783-42e1-935c-b46c9c514881"
      },
      "outputs": [
        {
          "name": "stdout",
          "output_type": "stream",
          "text": [
            "956 ms ± 25.5 ms per loop (mean ± std. dev. of 7 runs, 1 loop each)\n"
          ]
        }
      ],
      "source": [
        "%%timeit\n",
        "mergeSort(sorted100k) # so we gained nothing from being sorted"
      ]
    },
    {
      "cell_type": "code",
      "execution_count": null,
      "metadata": {
        "id": "TUIkRq8c3tso",
        "outputId": "0a1aed33-1bbe-49c8-98a4-11f4a7cc38ed"
      },
      "outputs": [
        {
          "name": "stdout",
          "output_type": "stream",
          "text": [
            "38.8 ms ± 1.95 ms per loop (mean ± std. dev. of 7 runs, 10 loops each)\n"
          ]
        }
      ],
      "source": [
        "%%timeit\n",
        "insertionSort(sorted100k)  # insertion sort should be slow we shall see\n"
      ]
    },
    {
      "cell_type": "code",
      "execution_count": null,
      "metadata": {
        "id": "Z_ubAtht3tso",
        "outputId": "9fd6fa2f-da04-4422-9e1e-5c125289f18b"
      },
      "outputs": [
        {
          "data": {
            "text/plain": [
              "[499488,\n",
              " 499502,\n",
              " 499511,\n",
              " 499522,\n",
              " 499523,\n",
              " 499529,\n",
              " 499540,\n",
              " 499590,\n",
              " 499594,\n",
              " 499604]"
            ]
          },
          "execution_count": 61,
          "metadata": {},
          "output_type": "execute_result"
        }
      ],
      "source": [
        "sorted100k[50000:50000+10]"
      ]
    },
    {
      "cell_type": "code",
      "execution_count": null,
      "metadata": {
        "id": "YCrVzKpf3tso"
      },
      "outputs": [],
      "source": [
        "sorted100k[555] = 400000\n",
        "sorted100k[9000] = 1333\n"
      ]
    },
    {
      "cell_type": "code",
      "execution_count": null,
      "metadata": {
        "id": "FPcZaCOf3tso",
        "outputId": "0fbcd480-0088-4a90-8dc5-57c4e6655d6b"
      },
      "outputs": [
        {
          "name": "stdout",
          "output_type": "stream",
          "text": [
            "40 ms ± 2.78 ms per loop (mean ± std. dev. of 7 runs, 10 loops each)\n"
          ]
        }
      ],
      "source": [
        "%%timeit\n",
        "insertionSort(sorted100k)"
      ]
    },
    {
      "cell_type": "markdown",
      "metadata": {
        "id": "_f-x3idr3tso"
      },
      "source": [
        "# Big O, Theta and Omega bounds"
      ]
    },
    {
      "cell_type": "markdown",
      "metadata": {
        "id": "HfNAQRtS3tsp"
      },
      "source": [
        "### Merge sort is defined by recurrence formula\n",
        "T(n) = 2T(n/2) + n\n",
        "So each problem has to be divided in two halfs and also we have linear(n) merging operation"
      ]
    },
    {
      "cell_type": "code",
      "execution_count": null,
      "metadata": {
        "id": "CrhT0sYF3tsp"
      },
      "outputs": [],
      "source": [
        "# so how to prove that merge sort is really O(n log n) time complexity?\n",
        "# in reality we are looking for tight bound the Θ(n log n) complexity\n",
        "# so O is very loose, in every day usage when people say O they really mean Θ - theta\n",
        "# O is showing that the algorith is no worse than some f(n)\n",
        "# I could say that merge sort is O(n!) and it would still be correct but practically useless\n",
        "# since most algorithms are O(n!)\n",
        "# so Merge sort is O(n!), O(n^5),O(n^2) and so on and finally most crucially O(n log n)\n",
        "# Merge sort is NOT O(n)\n",
        "# so thats what Θ(n log n)"
      ]
    },
    {
      "cell_type": "code",
      "execution_count": null,
      "metadata": {
        "id": "M6TmOipe3tsp"
      },
      "outputs": [],
      "source": [
        "## So ideas on how to prove mergesort is O(n log n) ?\n",
        "## Instinctively we see that we are dividing in halves and solving the problem for those\n",
        "\n",
        "# There is something called Master Theorem which lets us quickly see the solution for most types of recurrence"
      ]
    },
    {
      "cell_type": "code",
      "execution_count": null,
      "metadata": {
        "id": "aP3EAapT3tsp"
      },
      "outputs": [],
      "source": [
        "# what is a reccurence relation then?"
      ]
    },
    {
      "cell_type": "markdown",
      "metadata": {
        "id": "d-ASGlrf3tsq"
      },
      "source": [
        "# given n is our data\n",
        "# so merge sort the reccurence will be\n",
        "T(n) = 2(T(n/2)) + n # because we have to merge in n time the halves\n",
        "# so reccurence defines the recursive function"
      ]
    },
    {
      "cell_type": "code",
      "execution_count": null,
      "metadata": {
        "id": "ZbUTMdVg3tsq"
      },
      "outputs": [],
      "source": [
        "# so for next week we will look at solving this and also the Master Theorem on how to generally\n",
        "# find the complexity"
      ]
    },
    {
      "cell_type": "code",
      "execution_count": null,
      "metadata": {
        "id": "q8kySFnx3tsq"
      },
      "outputs": [],
      "source": [
        "# we do not need the reccurrence if we have regular loops without recursion.."
      ]
    },
    {
      "cell_type": "markdown",
      "metadata": {
        "heading_collapsed": true,
        "hidden": true,
        "id": "DT0am-c-3tsq"
      },
      "source": [
        "### Quick sort"
      ]
    },
    {
      "cell_type": "markdown",
      "metadata": {
        "hidden": true,
        "id": "1DIh8iu63tsq"
      },
      "source": [
        "![quick](https://github.com/ValRCS/RTU_Algorithms_DIP321/blob/main/imgs/quicksort.png?raw=1)"
      ]
    },
    {
      "cell_type": "markdown",
      "metadata": {
        "hidden": true,
        "id": "RQKoFmNN3tsr"
      },
      "source": [
        "$$Complexity: O(nlog(n))$$ $$Worst case : O(n^2)$$"
      ]
    },
    {
      "cell_type": "code",
      "execution_count": null,
      "metadata": {
        "colab": {
          "base_uri": "https://localhost:8080/"
        },
        "hidden": true,
        "id": "FDsKfp0N3tsr",
        "outputId": "e9b86658-4457-46b3-c72b-c70c9beada3a"
      },
      "outputs": [
        {
          "name": "stdout",
          "output_type": "stream",
          "text": [
            "[54, 26, 93, 17, 77, 31, 44, 55, 20]\n"
          ]
        }
      ],
      "source": [
        "def quickSort(seq):\n",
        "    alist = seq.copy()\n",
        "    quickSortHelper(alist, 0, len(alist) - 1)\n",
        "    return alist\n",
        "\n",
        "\n",
        "def quickSortHelper(alist, first, last):\n",
        "    if first < last:\n",
        "\n",
        "        splitpoint = partition(alist, first, last)\n",
        "\n",
        "        quickSortHelper(alist, first, splitpoint - 1)\n",
        "        quickSortHelper(alist, splitpoint + 1, last)\n",
        "\n",
        "\n",
        "def partition(alist, first, last):\n",
        "    pivotvalue = alist[first]\n",
        "\n",
        "    leftmark = first + 1\n",
        "    rightmark = last\n",
        "\n",
        "    done = False\n",
        "    while not done:\n",
        "\n",
        "        while leftmark <= rightmark and alist[leftmark] <= pivotvalue:\n",
        "            leftmark = leftmark + 1\n",
        "\n",
        "        while alist[rightmark] >= pivotvalue and rightmark >= leftmark:\n",
        "            rightmark = rightmark - 1\n",
        "\n",
        "        if rightmark < leftmark:\n",
        "            done = True\n",
        "        else:\n",
        "            temp = alist[leftmark]\n",
        "            alist[leftmark] = alist[rightmark]\n",
        "            alist[rightmark] = temp\n",
        "\n",
        "    temp = alist[first]\n",
        "    alist[first] = alist[rightmark]\n",
        "    alist[rightmark] = temp\n",
        "\n",
        "    return rightmark\n",
        "\n",
        "\n",
        "alist = [54, 26, 93, 17, 77, 31, 44, 55, 20]\n",
        "sorted_list = quickSort(alist)  # in place sort!\n",
        "print(alist)"
      ]
    },
    {
      "cell_type": "code",
      "execution_count": null,
      "metadata": {
        "colab": {
          "base_uri": "https://localhost:8080/"
        },
        "id": "rL6Srt0QY-FU",
        "outputId": "237d619c-f891-4cb1-8ef0-c80b13c30061"
      },
      "outputs": [
        {
          "data": {
            "text/plain": [
              "[17, 20, 26, 31, 44, 54, 55, 77, 93]"
            ]
          },
          "execution_count": 2,
          "metadata": {},
          "output_type": "execute_result"
        }
      ],
      "source": [
        "sorted_list"
      ]
    },
    {
      "cell_type": "code",
      "execution_count": null,
      "metadata": {
        "colab": {
          "base_uri": "https://localhost:8080/"
        },
        "id": "jPL4hLRuZAfc",
        "outputId": "0cbcd097-1563-4187-9d15-909169f0344e"
      },
      "outputs": [
        {
          "name": "stdout",
          "output_type": "stream",
          "text": [
            "2.16 ms ± 243 µs per loop (mean ± std. dev. of 7 runs, 100 loops each)\n"
          ]
        }
      ],
      "source": [
        "%%timeit\n",
        "quickSort(rand1000)"
      ]
    },
    {
      "cell_type": "code",
      "execution_count": null,
      "metadata": {
        "colab": {
          "base_uri": "https://localhost:8080/"
        },
        "id": "B5oDibmZZLVq",
        "outputId": "68510a1b-7815-4590-d576-58b899c4277f"
      },
      "outputs": [
        {
          "name": "stdout",
          "output_type": "stream",
          "text": [
            "29.2 ms ± 5.93 ms per loop (mean ± std. dev. of 7 runs, 10 loops each)\n"
          ]
        }
      ],
      "source": [
        "%%timeit\n",
        "quickSort(rand10000)"
      ]
    },
    {
      "cell_type": "code",
      "execution_count": null,
      "metadata": {
        "colab": {
          "base_uri": "https://localhost:8080/"
        },
        "id": "cDLlUolIZO5b",
        "outputId": "483f229b-b834-4dc9-bc4f-67cd58448f87"
      },
      "outputs": [
        {
          "name": "stdout",
          "output_type": "stream",
          "text": [
            "517 ms ± 52.7 ms per loop (mean ± std. dev. of 7 runs, 1 loop each)\n"
          ]
        }
      ],
      "source": [
        "%%timeit\n",
        "quickSort(rand100000)"
      ]
    },
    {
      "cell_type": "code",
      "execution_count": null,
      "metadata": {
        "colab": {
          "base_uri": "https://localhost:8080/"
        },
        "id": "DTzAtQdHZWoN",
        "outputId": "f64fceaf-bf3a-4f9f-aac2-90ca2a8cd24f"
      },
      "outputs": [
        {
          "name": "stdout",
          "output_type": "stream",
          "text": [
            "5.67 s ± 201 ms per loop (mean ± std. dev. of 7 runs, 1 loop each)\n"
          ]
        }
      ],
      "source": [
        "%%timeit\n",
        "quickSort(rand1M)"
      ]
    },
    {
      "cell_type": "code",
      "execution_count": null,
      "metadata": {
        "colab": {
          "base_uri": "https://localhost:8080/"
        },
        "id": "ApAn_dBhaDCi",
        "outputId": "e6097e2c-4853-4d20-b2bd-5aabb89c2824"
      },
      "outputs": [
        {
          "name": "stdout",
          "output_type": "stream",
          "text": [
            "1 loop, best of 5: 377 ms per loop\n"
          ]
        }
      ],
      "source": [
        "%%timeit\n",
        "sorted(rand1M)"
      ]
    },
    {
      "cell_type": "code",
      "execution_count": null,
      "metadata": {
        "colab": {
          "base_uri": "https://localhost:8080/"
        },
        "id": "Z5Y35JYiaJMy",
        "outputId": "6487bf5e-1d85-414a-c4bc-d33ad2eb3205"
      },
      "outputs": [
        {
          "name": "stdout",
          "output_type": "stream",
          "text": [
            "10 loops, best of 5: 23.7 ms per loop\n"
          ]
        }
      ],
      "source": [
        "%%timeit\n",
        "sorted(rand100000)"
      ]
    },
    {
      "cell_type": "markdown",
      "metadata": {
        "id": "uxViusBSayxB"
      },
      "source": [
        "# Heap Sort"
      ]
    },
    {
      "cell_type": "code",
      "execution_count": null,
      "metadata": {
        "id": "xOvLANnrby2K"
      },
      "outputs": [],
      "source": [
        "# Idea for heap sort is to use selection sort as a basis\n",
        "# but we use a data structure such as heap to get min (or max) values out of the heap"
      ]
    },
    {
      "cell_type": "code",
      "execution_count": null,
      "metadata": {
        "id": "yC0Z5N8gdBJt"
      },
      "outputs": [],
      "source": [
        "import heapq # Python Standard Library has heapq"
      ]
    },
    {
      "cell_type": "code",
      "execution_count": null,
      "metadata": {
        "id": "H13H6vkRco5B"
      },
      "outputs": [],
      "source": [
        "# https://docs.python.org/3/library/heapq.html\n",
        "def heapsort(iterable):  #out of place sort here\n",
        "  h = []\n",
        "  # slow way of creating a heap but still O(n log n)\n",
        "  for value in iterable: # so n times where n is number of items in iterable\n",
        "    heapq.heappush(h, value)  # so  heappush takes log n time\n",
        "  # so now we have heap we can just pop n items each taking log n time\n",
        "  return [heapq.heappop(h) for i in range(len(h))]  # here n times and pop again is log n operation"
      ]
    },
    {
      "cell_type": "code",
      "execution_count": null,
      "metadata": {
        "colab": {
          "base_uri": "https://localhost:8080/"
        },
        "id": "S7DmbZq4dMvm",
        "outputId": "fe8f80c6-fe54-4499-89b0-96a77af21a8a"
      },
      "outputs": [
        {
          "data": {
            "text/plain": [
              "[822, 372, 378, 265, 634, 867, 683, 388, 31]"
            ]
          },
          "execution_count": 10,
          "metadata": {},
          "output_type": "execute_result"
        }
      ],
      "source": [
        "rand9"
      ]
    },
    {
      "cell_type": "code",
      "execution_count": null,
      "metadata": {
        "colab": {
          "base_uri": "https://localhost:8080/"
        },
        "id": "PbH8aegMdFIS",
        "outputId": "fe63884f-f4b7-4c0c-efbf-a784bc090cd1"
      },
      "outputs": [
        {
          "data": {
            "text/plain": [
              "[31, 265, 372, 378, 388, 634, 683, 822, 867]"
            ]
          },
          "execution_count": 11,
          "metadata": {},
          "output_type": "execute_result"
        }
      ],
      "source": [
        "heapsort(rand9)"
      ]
    },
    {
      "cell_type": "code",
      "execution_count": null,
      "metadata": {
        "colab": {
          "base_uri": "https://localhost:8080/"
        },
        "id": "-3MvIv_WdR9R",
        "outputId": "6ff4d32c-a0e4-45a3-cbc8-eff295c85fbb"
      },
      "outputs": [
        {
          "name": "stdout",
          "output_type": "stream",
          "text": [
            "154 ms ± 6.48 ms per loop (mean ± std. dev. of 7 runs, 10 loops each)\n"
          ]
        }
      ],
      "source": [
        "%%timeit\n",
        "heapsort(rand100000)"
      ]
    },
    {
      "cell_type": "code",
      "execution_count": null,
      "metadata": {
        "colab": {
          "base_uri": "https://localhost:8080/"
        },
        "id": "JR-eTBGtfG_5",
        "outputId": "1777e795-0c50-4661-9832-8ec73a5df17c"
      },
      "outputs": [
        {
          "name": "stdout",
          "output_type": "stream",
          "text": [
            "2.7 s ± 43.1 ms per loop (mean ± std. dev. of 7 runs, 1 loop each)\n"
          ]
        }
      ],
      "source": [
        "%%timeit\n",
        "heapsort(rand1M)"
      ]
    },
    {
      "cell_type": "code",
      "execution_count": null,
      "metadata": {
        "id": "kKS3JavzgWvq"
      },
      "outputs": [],
      "source": [
        "# Stable sorts and unstable sorts"
      ]
    },
    {
      "cell_type": "markdown",
      "metadata": {
        "id": "TVK2jm3PjKDz"
      },
      "source": [
        "## Stable vs Unstable sorting\n",
        "\n",
        "### Stable sorting\n",
        "\n",
        "In a stable sort two objects with equal keys appear in the same order in the sorted output as they appear in the input array to be sorted.\n",
        "\n",
        "### Unstable sorting\n",
        "\n",
        "In an unstable sort two objects with equal keys may appear in the sorted output in any order."
      ]
    },
    {
      "cell_type": "code",
      "execution_count": null,
      "metadata": {
        "colab": {
          "base_uri": "https://localhost:8080/"
        },
        "id": "3PVTsg_Jf94u",
        "outputId": "0bc4a94d-71b4-4c5b-8468-cfbfb8d0272a"
      },
      "outputs": [
        {
          "data": {
            "text/plain": [
              "[('R', 9),\n",
              " ('i', 4),\n",
              " ('g', 7),\n",
              " ('a', 3),\n",
              " (' ', 9),\n",
              " ('T', 10),\n",
              " ('e', 9),\n",
              " ('c', 4),\n",
              " ('h', 4),\n",
              " ('n', 2),\n",
              " ('i', 5),\n",
              " ('c', 5),\n",
              " ('a', 2),\n",
              " ('l', 10),\n",
              " (' ', 3),\n",
              " ('U', 3),\n",
              " ('n', 8),\n",
              " ('i', 1),\n",
              " ('v', 2),\n",
              " ('e', 8),\n",
              " ('r', 7),\n",
              " ('s', 6),\n",
              " ('i', 2),\n",
              " ('t', 7),\n",
              " ('y', 2)]"
            ]
          },
          "execution_count": 14,
          "metadata": {},
          "output_type": "execute_result"
        }
      ],
      "source": [
        "my_tuples = [(c, random.randint(1,10)) for c in \"Riga Technical University\"]\n",
        "my_tuples"
      ]
    },
    {
      "cell_type": "code",
      "execution_count": null,
      "metadata": {
        "colab": {
          "base_uri": "https://localhost:8080/"
        },
        "id": "TrMPcksfgZcX",
        "outputId": "1658e1ec-4ed7-430c-ea9b-ddddb6929a68"
      },
      "outputs": [
        {
          "data": {
            "text/plain": [
              "[(' ', 3),\n",
              " (' ', 9),\n",
              " ('R', 9),\n",
              " ('T', 10),\n",
              " ('U', 3),\n",
              " ('a', 2),\n",
              " ('a', 3),\n",
              " ('c', 4),\n",
              " ('c', 5),\n",
              " ('e', 8),\n",
              " ('e', 9),\n",
              " ('g', 7),\n",
              " ('h', 4),\n",
              " ('i', 1),\n",
              " ('i', 2),\n",
              " ('i', 4),\n",
              " ('i', 5),\n",
              " ('l', 10),\n",
              " ('n', 2),\n",
              " ('n', 8),\n",
              " ('r', 7),\n",
              " ('s', 6),\n",
              " ('t', 7),\n",
              " ('v', 2),\n",
              " ('y', 2)]"
            ]
          },
          "execution_count": 15,
          "metadata": {},
          "output_type": "execute_result"
        }
      ],
      "source": [
        "sorted(my_tuples) # this sorts by the first part of tuple the alphabethical, lexicographical key - ASCII codes\n",
        "# https://www.asciitable.com/"
      ]
    },
    {
      "cell_type": "code",
      "execution_count": null,
      "metadata": {
        "colab": {
          "base_uri": "https://localhost:8080/"
        },
        "id": "QZvm_lp4gqe3",
        "outputId": "f3ff66b3-e95a-44e6-893d-80120fd27e7d"
      },
      "outputs": [
        {
          "data": {
            "text/plain": [
              "[('i', 1),\n",
              " ('n', 2),\n",
              " ('a', 2),\n",
              " ('v', 2),\n",
              " ('i', 2),\n",
              " ('y', 2),\n",
              " ('a', 3),\n",
              " (' ', 3),\n",
              " ('U', 3),\n",
              " ('i', 4),\n",
              " ('c', 4),\n",
              " ('h', 4),\n",
              " ('i', 5),\n",
              " ('c', 5),\n",
              " ('s', 6),\n",
              " ('g', 7),\n",
              " ('r', 7),\n",
              " ('t', 7),\n",
              " ('n', 8),\n",
              " ('e', 8),\n",
              " ('R', 9),\n",
              " (' ', 9),\n",
              " ('e', 9),\n",
              " ('T', 10),\n",
              " ('l', 10)]"
            ]
          },
          "execution_count": 18,
          "metadata": {},
          "output_type": "execute_result"
        }
      ],
      "source": [
        "sorted(my_tuples,  key = lambda element: element[1]) # so our key is going to be 2nd item, by passing a selection function"
      ]
    },
    {
      "cell_type": "code",
      "execution_count": null,
      "metadata": {
        "id": "pH1D7w4shII5"
      },
      "outputs": [],
      "source": [
        "# so Python famous timsort is stable - the order of items with same key does not change\n",
        "# https://en.wikipedia.org/wiki/Timsort - basically insertion for small sequences and merge for bigger, highly optimized"
      ]
    },
    {
      "cell_type": "markdown",
      "metadata": {
        "id": "DzVC585Fh4Hu"
      },
      "source": [
        "# Counting Sort\n",
        "Can we do better than O(n logn) time?"
      ]
    },
    {
      "cell_type": "code",
      "execution_count": null,
      "metadata": {
        "id": "c8c8tGaSiAZd"
      },
      "outputs": [],
      "source": [
        "# if we have specific data we can\n",
        "# one place where counting sort could be useful could be if we have to sort many numbers over a limited range\n"
      ]
    },
    {
      "cell_type": "code",
      "execution_count": null,
      "metadata": {
        "id": "6mDXAB30iSFy"
      },
      "outputs": [],
      "source": [
        "def countingSort(seq, buckets=10):\n",
        "  # TODO maybe optimize it a bit\n",
        "  blist = [0] * buckets  # need our counters\n",
        "  for n in seq:\n",
        "    blist[n] +=1 # key idea this is O(1) operation we know where to put the number\n",
        "  result = []\n",
        "  # we make a new list out of our results\n",
        "  for n, bucket in enumerate(blist):\n",
        "    if bucket:\n",
        "      # result.append([n] * bucket)\n",
        "      result += [n] * bucket  # this might not be efficient\n",
        "      # appending things at the end of the list might not be efficient\n",
        "      # it is called the Shlemiel the painter's algorithm\n",
        "      # TODO see if you can optimize this bucket concatenation\n",
        "      # we do not want to see empty buckets\n",
        "  return result"
      ]
    },
    {
      "cell_type": "code",
      "execution_count": null,
      "metadata": {
        "colab": {
          "base_uri": "https://localhost:8080/"
        },
        "id": "9STSI1i6hzgB",
        "outputId": "3097f3e9-3423-400a-ad7f-62f8463b699c"
      },
      "outputs": [
        {
          "data": {
            "text/plain": [
              "[3, 1, 2, 5, 2, 6, 6, 3, 3, 6, 6, 1, 1, 2, 2, 1, 6, 6, 1, 3]"
            ]
          },
          "execution_count": 21,
          "metadata": {},
          "output_type": "execute_result"
        }
      ],
      "source": [
        "dice = [random.randint(1,6) for _ in  range(20)]\n",
        "dice"
      ]
    },
    {
      "cell_type": "code",
      "execution_count": null,
      "metadata": {
        "colab": {
          "base_uri": "https://localhost:8080/"
        },
        "id": "eRwG_f7vjNM4",
        "outputId": "89b60ed6-2125-4aad-b9a2-9c247f19bc49"
      },
      "outputs": [
        {
          "data": {
            "text/plain": [
              "[1, 1, 1, 1, 1, 2, 2, 2, 2, 3, 3, 3, 3, 5, 6, 6, 6, 6, 6, 6]"
            ]
          },
          "execution_count": 22,
          "metadata": {},
          "output_type": "execute_result"
        }
      ],
      "source": [
        "sorted(dice)"
      ]
    },
    {
      "cell_type": "code",
      "execution_count": null,
      "metadata": {
        "colab": {
          "base_uri": "https://localhost:8080/"
        },
        "id": "k8FjmUb8jPK4",
        "outputId": "44573ec5-53f3-4ac2-e514-84d934e83742"
      },
      "outputs": [
        {
          "data": {
            "text/plain": [
              "[1, 1, 1, 1, 1, 2, 2, 2, 2, 3, 3, 3, 3, 5, 6, 6, 6, 6, 6, 6]"
            ]
          },
          "execution_count": 23,
          "metadata": {},
          "output_type": "execute_result"
        }
      ],
      "source": [
        "countingSort(dice)"
      ]
    },
    {
      "cell_type": "code",
      "execution_count": null,
      "metadata": {
        "colab": {
          "base_uri": "https://localhost:8080/"
        },
        "id": "pIMMhBEUkr0d",
        "outputId": "4b8f4ecd-a833-442a-d777-1f86b271c987"
      },
      "outputs": [
        {
          "data": {
            "text/plain": [
              "([6, 6, 12, 1, 4, 4, 5, 11, 13, 18], 1, 20)"
            ]
          },
          "execution_count": 26,
          "metadata": {},
          "output_type": "execute_result"
        }
      ],
      "source": [
        "magic_dice_100k = [random.randint(1,20) for _ in  range(100_000)]\n",
        "magic_dice_100k[:10], min(magic_dice_100k), max(magic_dice_100k)"
      ]
    },
    {
      "cell_type": "code",
      "execution_count": null,
      "metadata": {
        "colab": {
          "base_uri": "https://localhost:8080/"
        },
        "id": "N1FeSZV9lBUt",
        "outputId": "6ffdb900-ea7c-483c-c889-9df95f210499"
      },
      "outputs": [
        {
          "name": "stdout",
          "output_type": "stream",
          "text": [
            "11.2 ms ± 475 µs per loop (mean ± std. dev. of 7 runs, 100 loops each)\n"
          ]
        }
      ],
      "source": [
        "%%timeit\n",
        "sorted(magic_dice_100k)"
      ]
    },
    {
      "cell_type": "code",
      "execution_count": null,
      "metadata": {
        "colab": {
          "base_uri": "https://localhost:8080/"
        },
        "id": "Txv8Jomilb23",
        "outputId": "14bac068-036e-4ae8-a814-95453737bc1b"
      },
      "outputs": [
        {
          "data": {
            "text/plain": [
              "([1, 1, 1, 1, 1], [20, 20, 20, 20, 20])"
            ]
          },
          "execution_count": 29,
          "metadata": {},
          "output_type": "execute_result"
        }
      ],
      "source": [
        "sorted_magic = countingSort(magic_dice_100k, buckets=21) # i am lazy I keep 0 bucket as well\n",
        "sorted_magic[:5], sorted_magic[-5:]"
      ]
    },
    {
      "cell_type": "code",
      "execution_count": null,
      "metadata": {
        "colab": {
          "base_uri": "https://localhost:8080/"
        },
        "id": "-vXT_jeMlF8q",
        "outputId": "21427b63-13da-4baa-b18c-4bb34e6ea3e7"
      },
      "outputs": [
        {
          "name": "stdout",
          "output_type": "stream",
          "text": [
            "9.59 ms ± 236 µs per loop (mean ± std. dev. of 7 runs, 100 loops each)\n"
          ]
        }
      ],
      "source": [
        "%%timeit\n",
        "countingSort(magic_dice_100k, buckets=21) # i need extra bucket since I am not using 0"
      ]
    },
    {
      "cell_type": "code",
      "execution_count": null,
      "metadata": {
        "colab": {
          "base_uri": "https://localhost:8080/"
        },
        "id": "BQYTzQzklrl_",
        "outputId": "37c85442-6097-4031-9ca6-32239cf9dd78"
      },
      "outputs": [
        {
          "data": {
            "text/plain": [
              "[1, 18, 4, 4, 8]"
            ]
          },
          "execution_count": 31,
          "metadata": {},
          "output_type": "execute_result"
        }
      ],
      "source": [
        "magic_dice_1M = [random.randint(1,20) for _ in  range(1_000_000)]\n",
        "magic_dice_1M[:5]"
      ]
    },
    {
      "cell_type": "code",
      "execution_count": null,
      "metadata": {
        "colab": {
          "base_uri": "https://localhost:8080/"
        },
        "id": "ieAvR3ktk39i",
        "outputId": "ddd8ea54-862a-4150-cd16-afb7a1b63e50"
      },
      "outputs": [
        {
          "data": {
            "text/plain": [
              "(1, 20)"
            ]
          },
          "execution_count": 32,
          "metadata": {},
          "output_type": "execute_result"
        }
      ],
      "source": [
        "min(magic_dice_1M),max(magic_dice_1M)"
      ]
    },
    {
      "cell_type": "code",
      "execution_count": null,
      "metadata": {
        "colab": {
          "base_uri": "https://localhost:8080/"
        },
        "id": "bEebN3nemKL8",
        "outputId": "515beee1-f70f-4747-e7b0-3abc0ff449bc"
      },
      "outputs": [
        {
          "name": "stdout",
          "output_type": "stream",
          "text": [
            "102 ms ± 1.13 ms per loop (mean ± std. dev. of 7 runs, 10 loops each)\n"
          ]
        }
      ],
      "source": [
        "%%timeit\n",
        "sorted(magic_dice_1M)"
      ]
    },
    {
      "cell_type": "code",
      "execution_count": null,
      "metadata": {
        "colab": {
          "base_uri": "https://localhost:8080/"
        },
        "id": "iij5mkyLmQzv",
        "outputId": "66cbb6c9-fba8-4487-9bed-f44ac31a3891"
      },
      "outputs": [
        {
          "name": "stdout",
          "output_type": "stream",
          "text": [
            "98.2 ms ± 5.31 ms per loop (mean ± std. dev. of 7 runs, 10 loops each)\n"
          ]
        }
      ],
      "source": [
        "%%timeit\n",
        "countingSort(magic_dice_1M, buckets=21)"
      ]
    },
    {
      "cell_type": "code",
      "execution_count": null,
      "metadata": {
        "id": "r2NYX_x9jspz"
      },
      "outputs": [],
      "source": [
        "# so only problem is that we need a specificed number of buckets ahead of time\n",
        "# it will not be very efficienct if we need 2 billion buckets in a sparse array\n",
        "# but good for sorting lists/arrays with many duplicates"
      ]
    },
    {
      "cell_type": "code",
      "execution_count": null,
      "metadata": {
        "id": "7I6radIzmglI"
      },
      "outputs": [],
      "source": [
        "# there is also radix sort and generic bucket sort which are similar to counting sort\n",
        "# https://en.wikipedia.org/wiki/Bucket_sort\n",
        "# https://en.wikipedia.org/wiki/Radix_sort - bucket sort by digits\n",
        "\n",
        "# all three share in common the fact that they are NON comparison sorts - that is how we get theortical linearity"
      ]
    },
    {
      "cell_type": "markdown",
      "metadata": {
        "id": "6itr9IAXoWRt"
      },
      "source": [
        "# # Quad Sort new sort ?\n"
      ]
    },
    {
      "cell_type": "code",
      "execution_count": null,
      "metadata": {
        "id": "BG8Egq2poSVB"
      },
      "outputs": [],
      "source": [
        "# Quad Sort\n",
        "https://github.com/scandum/quadsort"
      ]
    },
    {
      "cell_type": "markdown",
      "metadata": {
        "id": "NBGlYiqP3tsr"
      },
      "source": [
        "# References and useful links:"
      ]
    },
    {
      "cell_type": "markdown",
      "metadata": {
        "id": "R1WXGqmE3tsr"
      },
      "source": [
        "* Visualization of these concepst : https://visualgo.net/en\n",
        "* https://www.sortvisualizer.com/ - nice includes 15 different sorting algorithms\n",
        "can add your own sorting algorithm\n"
      ]
    },
    {
      "cell_type": "code",
      "execution_count": null,
      "metadata": {
        "id": "LDwXLhsR3tsr"
      },
      "outputs": [],
      "source": [
        "## TODO implement Stooge sort\n",
        "\n"
      ]
    }
  ],
  "metadata": {
    "colab": {
      "name": "03-sorting-introduction.ipynb",
      "provenance": []
    },
    "kernelspec": {
      "display_name": "Python 3",
      "language": "python",
      "name": "python3"
    },
    "language_info": {
      "codemirror_mode": {
        "name": "ipython",
        "version": 3
      },
      "file_extension": ".py",
      "mimetype": "text/x-python",
      "name": "python",
      "nbconvert_exporter": "python",
      "pygments_lexer": "ipython3",
      "version": "3.9.0"
    },
    "toc": {
      "nav_menu": {},
      "number_sections": true,
      "sideBar": true,
      "skip_h1_title": false,
      "toc_cell": true,
      "toc_position": {},
      "toc_section_display": "none",
      "toc_window_display": false
    }
  },
  "nbformat": 4,
  "nbformat_minor": 0
}