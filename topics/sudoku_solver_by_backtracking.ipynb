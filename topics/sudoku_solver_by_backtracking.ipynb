{
 "cells": [
  {
   "cell_type": "markdown",
   "metadata": {},
   "source": [
    "# Sudoku solver using backtracking algorithm\n",
    "\n",
    "Basic idea is to use backtracking algorithm to solve the sudoku puzzle. The algorithm works as follows:\n",
    "1. Find the first empty cell in the puzzle\n",
    "2. Try to fill the cell with a number from 1 to 9\n",
    "3. If the number is valid, move to the next cell and repeat the process\n",
    "4. If the number is not valid, try the next number\n",
    "5. If no number is valid, backtrack to the previous cell and try the next number\n",
    "6. Repeat the process until the puzzle is solved\n",
    "\n",
    "So essentially this is a depth-first search algorithm.\n",
    "We will need to implement some helper functions to check if a number is valid in a given cell, and to find the next empty cell in the puzzle.\n",
    "\n",
    "We will be moving row by row, and for each row we will move column by column. We will also need to check the 3x3 subgrids to make sure the number is not repeated in the subgrid.\n",
    "\n",
    "We will also need to store previous states of the puzzle to be able to backtrack when we reach a dead end."
   ]
  },
  {
   "cell_type": "markdown",
   "metadata": {},
   "source": [
    "<img src=\"https://upload.wikimedia.org/wikipedia/commons/8/8c/Sudoku_solved_by_bactracking.gif\" width=\"400\">"
   ]
  },
  {
   "cell_type": "code",
   "execution_count": 2,
   "metadata": {},
   "outputs": [],
   "source": [
    "# we sill fill sudoko board with all 0's for now so 9x9 list of lists\n",
    "# TODO add OCR here... to read board... for now we will hardcode the board\n",
    "board = [\n",
    "    [0, 0, 0, 0, 0, 0, 0, 0, 0],\n",
    "    [0, 0, 0, 0, 0, 0, 0, 0, 0],\n",
    "    [0, 0, 0, 0, 0, 0, 0, 0, 0],\n",
    "    [0, 0, 0, 0, 0, 0, 0, 0, 0],\n",
    "    [0, 0, 0, 0, 0, 0, 0, 0, 0],\n",
    "    [0, 0, 0, 0, 0, 0, 0, 0, 0],\n",
    "    [0, 0, 0, 0, 0, 0, 0, 0, 0],\n",
    "    [0, 0, 0, 0, 0, 0, 0, 0, 0],\n",
    "    [0, 0, 0, 0, 0, 0, 0, 0, 0],\n",
    "]\n",
    "\n",
    "# we will store list of tuples the moves we've made\n",
    "# so we can backtrack if we need to\n",
    "moves = []\n",
    "\n",
    "# then we will need 3 functions to check whether move is valid\n",
    "# 1. check row\n",
    "# 2. check column\n",
    "# 3. check square\n",
    "# we will write these functions first\n",
    "\n",
    "def check_row(board, row, number):\n",
    "    # we will iterate through the row and check if number is already present\n",
    "    for i in range(9): # TODO think if this can be optimized\n",
    "        if board[row][i] == number:\n",
    "            return False\n",
    "    return True\n",
    "\n",
    "def check_column(board, column, number):\n",
    "    # we will iterate through the column and check if number is already present\n",
    "    for i in range(9): # TODO think if this can be optimized\n",
    "        if board[i][column] == number:\n",
    "            return False\n",
    "    return True\n",
    "\n",
    "def check_square(board, row, column, number):\n",
    "    # we will iterate through the square and check if number is already present\n",
    "    # we will use integer division to find the start of the square\n",
    "    start_row = (row // 3) * 3 # so we use // integer division to find the start of the square\n",
    "    start_column = (column // 3) * 3\n",
    "    for i in range(3):\n",
    "        for j in range(3):\n",
    "            if board[start_row + i][start_column + j] == number:\n",
    "                return False\n",
    "    return True\n",
    "\n",
    "# now a function to check if move is valid\n",
    "def is_valid(board, row, column, number):\n",
    "    return check_row(board, row, number)\\\n",
    "        and check_column(board, column, number)\\\n",
    "        and check_square(board, row, column, number)\n",
    "\n",
    "# now we will write a function to solve the board\n",
    "def solve(board):\n",
    "    for i in range(9):\n",
    "        for j in range(9):\n",
    "            if board[i][j] == 0:\n",
    "                for number in range(1, 10):\n",
    "                    if is_valid(board, i, j, number):\n",
    "                        board[i][j] = number\n",
    "                        moves.append((i, j, number))\n",
    "                        if solve(board):\n",
    "                            return True\n",
    "                        board[i][j] = 0\n",
    "                        moves.pop()\n",
    "                return False\n",
    "    return True"
   ]
  },
  {
   "cell_type": "markdown",
   "metadata": {},
   "source": [
    "## Solving puzzle\n",
    "\n",
    "We are ready to run the algorithm just need to put some actual starting values in the puzzle.\n",
    "\n",
    "Let's use the values from wikipedia example:\n",
    "\n",
    "<img src=\"https://upload.wikimedia.org/wikipedia/commons/thumb/e/e0/Sudoku_Puzzle_by_L2G-20050714_standardized_layout.svg/520px-Sudoku_Puzzle_by_L2G-20050714_standardized_layout.svg.png\" width=\"400\">"
   ]
  },
  {
   "cell_type": "code",
   "execution_count": 4,
   "metadata": {},
   "outputs": [
    {
     "name": "stdout",
     "output_type": "stream",
     "text": [
      "30\n"
     ]
    },
    {
     "data": {
      "text/plain": [
       "True"
      ]
     },
     "execution_count": 4,
     "metadata": {},
     "output_type": "execute_result"
    }
   ],
   "source": [
    "board = [\n",
    "    [5, 3, 0, 0, 7, 0, 0, 0, 0],\n",
    "    [6, 0, 0, 1, 9, 5, 0, 0, 0],\n",
    "    [0, 9, 8, 0, 0, 0, 0, 6, 0],\n",
    "    [8, 0, 0, 0, 6, 0, 0, 0, 3],\n",
    "    [4, 0, 0, 8, 0, 3, 0, 0, 1],\n",
    "    [7, 0, 0, 0, 2, 0, 0, 0, 6],\n",
    "    [0, 6, 0, 0, 0, 0, 2, 8, 0],\n",
    "    [0, 0, 0, 4, 1, 9, 0, 0, 5],\n",
    "    [0, 0, 0, 0, 8, 0, 0, 7, 9],\n",
    "]\n",
    "# print how many non zero elements are there\n",
    "print(sum([1 for i in board for j in i if j != 0]))\n",
    "moves = []\n",
    "\n",
    "# now we can solve it\n",
    "solve(board)"
   ]
  },
  {
   "cell_type": "code",
   "execution_count": 5,
   "metadata": {},
   "outputs": [
    {
     "name": "stdout",
     "output_type": "stream",
     "text": [
      "[[5, 3, 4, 6, 7, 8, 9, 1, 2], [6, 7, 2, 1, 9, 5, 3, 4, 8], [1, 9, 8, 3, 4, 2, 5, 6, 7], [8, 5, 9, 7, 6, 1, 4, 2, 3], [4, 2, 6, 8, 5, 3, 7, 9, 1], [7, 1, 3, 9, 2, 4, 8, 5, 6], [9, 6, 1, 5, 3, 7, 2, 8, 4], [2, 8, 7, 4, 1, 9, 6, 3, 5], [3, 4, 5, 2, 8, 6, 1, 7, 9]]\n"
     ]
    }
   ],
   "source": [
    "print(board)"
   ]
  },
  {
   "cell_type": "code",
   "execution_count": 6,
   "metadata": {},
   "outputs": [
    {
     "name": "stdout",
     "output_type": "stream",
     "text": [
      "[5, 3, 4, 6, 7, 8, 9, 1, 2]\n",
      "[6, 7, 2, 1, 9, 5, 3, 4, 8]\n",
      "[1, 9, 8, 3, 4, 2, 5, 6, 7]\n",
      "[8, 5, 9, 7, 6, 1, 4, 2, 3]\n",
      "[4, 2, 6, 8, 5, 3, 7, 9, 1]\n",
      "[7, 1, 3, 9, 2, 4, 8, 5, 6]\n",
      "[9, 6, 1, 5, 3, 7, 2, 8, 4]\n",
      "[2, 8, 7, 4, 1, 9, 6, 3, 5]\n",
      "[3, 4, 5, 2, 8, 6, 1, 7, 9]\n"
     ]
    }
   ],
   "source": [
    "print(*board, sep='\\n')"
   ]
  }
 ],
 "metadata": {
  "kernelspec": {
   "display_name": "Python 3",
   "language": "python",
   "name": "python3"
  },
  "language_info": {
   "codemirror_mode": {
    "name": "ipython",
    "version": 3
   },
   "file_extension": ".py",
   "mimetype": "text/x-python",
   "name": "python",
   "nbconvert_exporter": "python",
   "pygments_lexer": "ipython3",
   "version": "3.10.7"
  }
 },
 "nbformat": 4,
 "nbformat_minor": 2
}
