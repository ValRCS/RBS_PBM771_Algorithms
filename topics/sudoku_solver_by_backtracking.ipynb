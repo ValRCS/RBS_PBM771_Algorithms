{
  "cells": [
    {
      "cell_type": "markdown",
      "metadata": {
        "id": "rJbi6kr40Yhq"
      },
      "source": [
        "# Sudoku solver using backtracking algorithm\n",
        "\n",
        "Basic idea is to use backtracking algorithm to solve the sudoku puzzle. The algorithm works as follows:\n",
        "1. Find the first empty cell in the puzzle\n",
        "2. Try to fill the cell with a number from 1 to 9\n",
        "3. If the number is valid, move to the next cell and repeat the process\n",
        "4. If the number is not valid, try the next number\n",
        "5. If no number is valid, backtrack to the previous cell and try the next number\n",
        "6. Repeat the process until the puzzle is solved\n",
        "\n",
        "So essentially this is a depth-first search algorithm.\n",
        "We will need to implement some helper functions to check if a number is valid in a given cell, and to find the next empty cell in the puzzle.\n",
        "\n",
        "We will be moving row by row, and for each row we will move column by column. We will also need to check the 3x3 subgrids to make sure the number is not repeated in the subgrid.\n",
        "\n",
        "We will also need to store previous states of the puzzle to be able to backtrack when we reach a dead end."
      ]
    },
    {
      "cell_type": "markdown",
      "metadata": {
        "id": "0hyQmRYh0Yhv"
      },
      "source": [
        "<img src=\"https://upload.wikimedia.org/wikipedia/commons/8/8c/Sudoku_solved_by_bactracking.gif\" width=\"400\">"
      ]
    },
    {
      "cell_type": "code",
      "execution_count": 1,
      "metadata": {
        "id": "Vv5xYw6P0Yhz"
      },
      "outputs": [],
      "source": [
        "# we sill fill sudoko board with all 0's for now so 9x9 list of lists\n",
        "# TODO add OCR here... to read board... for now we will hardcode the board\n",
        "board = [\n",
        "    [0, 0, 0, 0, 0, 0, 0, 0, 0],\n",
        "    [0, 0, 0, 0, 0, 0, 0, 0, 0],\n",
        "    [0, 0, 0, 0, 0, 0, 0, 0, 0],\n",
        "    [0, 0, 0, 0, 0, 0, 0, 0, 0],\n",
        "    [0, 0, 0, 0, 0, 0, 0, 0, 0],\n",
        "    [0, 0, 0, 0, 0, 0, 0, 0, 0],\n",
        "    [0, 0, 0, 0, 0, 0, 0, 0, 0],\n",
        "    [0, 0, 0, 0, 0, 0, 0, 0, 0],\n",
        "    [0, 0, 0, 0, 0, 0, 0, 0, 0],\n",
        "]\n",
        "\n",
        "# we will store list of tuples the moves we've made\n",
        "# so we can backtrack if we need to\n",
        "moves = []\n",
        "\n",
        "counter = 0 # TODO remove this\n",
        "\n",
        "# then we will need 3 functions to check whether move is valid\n",
        "# 1. check row\n",
        "# 2. check column\n",
        "# 3. check square\n",
        "# we will write these functions first\n",
        "\n",
        "def check_row(board, row, number):\n",
        "    # we will iterate through the row and check if number is already present\n",
        "    for i in range(9): # TODO think if this can be optimized\n",
        "        if board[row][i] == number:\n",
        "            return False\n",
        "    return True\n",
        "\n",
        "def check_column(board, column, number):\n",
        "    # we will iterate through the column and check if number is already present\n",
        "    for i in range(9): # TODO think if this can be optimized\n",
        "        if board[i][column] == number:\n",
        "            return False\n",
        "    return True\n",
        "\n",
        "def check_square(board, row, column, number):\n",
        "    # we will iterate through the square and check if number is already present\n",
        "    # we will use integer division to find the start of the square\n",
        "    start_row = (row // 3) * 3 # so we use // integer division to find the start of the square\n",
        "    start_column = (column // 3) * 3\n",
        "    for i in range(3):\n",
        "        for j in range(3):\n",
        "            if board[start_row + i][start_column + j] == number:\n",
        "                return False\n",
        "    return True\n",
        "\n",
        "# now a function to check if move is valid\n",
        "def is_valid(board, row, column, number):\n",
        "    return check_row(board, row, number)\\\n",
        "        and check_column(board, column, number)\\\n",
        "        and check_square(board, row, column, number)\n",
        "\n",
        "\n",
        "\n",
        "# now we will write a function to solve the board\n",
        "def solve(board):\n",
        "    for i in range(9): # so start from the first row\n",
        "        for j in range(9): # and then iterate through the columns\n",
        "            if board[i][j] == 0: # if the cell is empty\n",
        "                for number in range(1, 10): # we try all numbers from 1 to 9\n",
        "                    if is_valid(board, i, j, number):\n",
        "                        board[i][j] = number\n",
        "                        moves.append((i, j, number))\n",
        "                        global counter # we use this to show how many times we backtrack, obviously not required\n",
        "                        counter += 1 # TODO remove this\n",
        "                        if solve(board):\n",
        "                            return True\n",
        "                        # here this means we have a problem and need to backtrack\n",
        "                        board[i][j] = 0\n",
        "                        moves.pop()\n",
        "                return False\n",
        "    return True"
      ]
    },
    {
      "cell_type": "markdown",
      "metadata": {
        "id": "luTGAHVo0Yh4"
      },
      "source": [
        "## Solving puzzle\n",
        "\n",
        "We are ready to run the algorithm just need to put some actual starting values in the puzzle.\n",
        "\n",
        "Let's use the values from wikipedia example:\n",
        "\n",
        "<img src=\"https://upload.wikimedia.org/wikipedia/commons/thumb/e/e0/Sudoku_Puzzle_by_L2G-20050714_standardized_layout.svg/520px-Sudoku_Puzzle_by_L2G-20050714_standardized_layout.svg.png\" width=\"400\">"
      ]
    },
    {
      "cell_type": "code",
      "execution_count": 3,
      "metadata": {
        "colab": {
          "base_uri": "https://localhost:8080/"
        },
        "id": "a9ykaZ400Yh5",
        "outputId": "2f1d580d-94f4-495e-85c5-35b6474d78a1"
      },
      "outputs": [
        {
          "output_type": "stream",
          "name": "stdout",
          "text": [
            "30\n",
            "It took 4208 moves\n"
          ]
        }
      ],
      "source": [
        "board = [\n",
        "    [5, 3, 0, 0, 7, 0, 0, 0, 0],\n",
        "    [6, 0, 0, 1, 9, 5, 0, 0, 0],\n",
        "    [0, 9, 8, 0, 0, 0, 0, 6, 0],\n",
        "    [8, 0, 0, 0, 6, 0, 0, 0, 3],\n",
        "    [4, 0, 0, 8, 0, 3, 0, 0, 1],\n",
        "    [7, 0, 0, 0, 2, 0, 0, 0, 6],\n",
        "    [0, 6, 0, 0, 0, 0, 2, 8, 0],\n",
        "    [0, 0, 0, 4, 1, 9, 0, 0, 5],\n",
        "    [0, 0, 0, 0, 8, 0, 0, 7, 9],\n",
        "]\n",
        "# print how many non zero elements are there\n",
        "print(sum([1 for i in board for j in i if j != 0]))\n",
        "moves = []\n",
        "counter = 0\n",
        "\n",
        "# now we can solve it\n",
        "solve(board)\n",
        "# print how many moves it took\n",
        "print(f\"It took {counter} moves\")"
      ]
    },
    {
      "cell_type": "code",
      "execution_count": 4,
      "metadata": {
        "colab": {
          "base_uri": "https://localhost:8080/"
        },
        "id": "ZoRtgLa80Yh9",
        "outputId": "a1b9dcf9-78a5-4cd3-b5ed-d15e22915256"
      },
      "outputs": [
        {
          "output_type": "stream",
          "name": "stdout",
          "text": [
            "[5, 3, 4, 6, 7, 8, 9, 1, 2]\n",
            "[6, 7, 2, 1, 9, 5, 3, 4, 8]\n",
            "[1, 9, 8, 3, 4, 2, 5, 6, 7]\n",
            "[8, 5, 9, 7, 6, 1, 4, 2, 3]\n",
            "[4, 2, 6, 8, 5, 3, 7, 9, 1]\n",
            "[7, 1, 3, 9, 2, 4, 8, 5, 6]\n",
            "[9, 6, 1, 5, 3, 7, 2, 8, 4]\n",
            "[2, 8, 7, 4, 1, 9, 6, 3, 5]\n",
            "[3, 4, 5, 2, 8, 6, 1, 7, 9]\n"
          ]
        }
      ],
      "source": [
        "print(*board, sep='\\n') # i unraveled the board with * to print it in a more readable way"
      ]
    },
    {
      "cell_type": "code",
      "execution_count": 5,
      "metadata": {
        "colab": {
          "base_uri": "https://localhost:8080/"
        },
        "id": "cewojkK-0YiA",
        "outputId": "20d2d0cb-1516-4e64-b288-1cb253bc7c23"
      },
      "outputs": [
        {
          "output_type": "execute_result",
          "data": {
            "text/plain": [
              "[(0, 2, 4),\n",
              " (0, 3, 6),\n",
              " (0, 5, 8),\n",
              " (0, 6, 9),\n",
              " (0, 7, 1),\n",
              " (0, 8, 2),\n",
              " (1, 1, 7),\n",
              " (1, 2, 2),\n",
              " (1, 6, 3),\n",
              " (1, 7, 4),\n",
              " (1, 8, 8),\n",
              " (2, 0, 1),\n",
              " (2, 3, 3),\n",
              " (2, 4, 4),\n",
              " (2, 5, 2),\n",
              " (2, 6, 5),\n",
              " (2, 8, 7),\n",
              " (3, 1, 5),\n",
              " (3, 2, 9),\n",
              " (3, 3, 7),\n",
              " (3, 5, 1),\n",
              " (3, 6, 4),\n",
              " (3, 7, 2),\n",
              " (4, 1, 2),\n",
              " (4, 2, 6),\n",
              " (4, 4, 5),\n",
              " (4, 6, 7),\n",
              " (4, 7, 9),\n",
              " (5, 1, 1),\n",
              " (5, 2, 3),\n",
              " (5, 3, 9),\n",
              " (5, 5, 4),\n",
              " (5, 6, 8),\n",
              " (5, 7, 5),\n",
              " (6, 0, 9),\n",
              " (6, 2, 1),\n",
              " (6, 3, 5),\n",
              " (6, 4, 3),\n",
              " (6, 5, 7),\n",
              " (6, 8, 4),\n",
              " (7, 0, 2),\n",
              " (7, 1, 8),\n",
              " (7, 2, 7),\n",
              " (7, 6, 6),\n",
              " (7, 7, 3),\n",
              " (8, 0, 3),\n",
              " (8, 1, 4),\n",
              " (8, 2, 5),\n",
              " (8, 3, 2),\n",
              " (8, 5, 6),\n",
              " (8, 6, 1)]"
            ]
          },
          "metadata": {},
          "execution_count": 5
        }
      ],
      "source": [
        "moves"
      ]
    },
    {
      "cell_type": "markdown",
      "metadata": {
        "id": "I6tTEmZ00YiC"
      },
      "source": [
        "## Master puzzle\n",
        "\n",
        "Src: sudoku.com"
      ]
    },
    {
      "cell_type": "code",
      "execution_count": 6,
      "metadata": {
        "colab": {
          "base_uri": "https://localhost:8080/"
        },
        "id": "erCc8JhD0YiE",
        "outputId": "290c4ccc-b22d-4422-9714-a4fe9252ff83"
      },
      "outputs": [
        {
          "output_type": "stream",
          "name": "stdout",
          "text": [
            "23\n",
            "It took 30007 moves\n"
          ]
        }
      ],
      "source": [
        "board = [\n",
        "    [1, 0, 6, 9, 0, 0, 0, 0, 0],\n",
        "    [0, 3, 0, 0, 5, 0, 0, 2, 8],\n",
        "    [0, 0, 0, 0, 0, 0, 4, 0, 0],\n",
        "    [8, 0, 0, 0, 0, 5, 0, 0, 0],\n",
        "    [0, 0, 0, 0, 0, 0, 0, 0, 7],\n",
        "    [0, 2, 0, 0, 8, 0, 0, 1, 3],\n",
        "    [0, 4, 0, 0, 0, 0, 5, 0, 0],\n",
        "    [0, 0, 0, 0, 1, 0, 7, 0, 0],\n",
        "    [0, 0, 3, 0, 0, 6, 0, 4, 1],\n",
        "]\n",
        "# should be 23 non zero elements\n",
        "print(sum([1 for i in board for j in i if j != 0]))\n",
        "# we will store list of tuples the moves we've made\n",
        "# so we can backtrack if we need to\n",
        "moves = []\n",
        "counter = 0\n",
        "# let's solve it!\n",
        "solve(board)\n",
        "# print how many positions we've tried\n",
        "print(f\"It took {counter} moves\")"
      ]
    },
    {
      "cell_type": "code",
      "execution_count": 7,
      "metadata": {
        "colab": {
          "base_uri": "https://localhost:8080/"
        },
        "id": "wW5lqH4M0YiG",
        "outputId": "9f3db7da-36a7-4049-92e4-4121f094d8a7"
      },
      "outputs": [
        {
          "output_type": "stream",
          "name": "stdout",
          "text": [
            "[1, 8, 6, 9, 4, 2, 3, 7, 5]\n",
            "[9, 3, 4, 6, 5, 7, 1, 2, 8]\n",
            "[5, 7, 2, 1, 3, 8, 4, 6, 9]\n",
            "[8, 1, 7, 3, 6, 5, 2, 9, 4]\n",
            "[3, 6, 9, 4, 2, 1, 8, 5, 7]\n",
            "[4, 2, 5, 7, 8, 9, 6, 1, 3]\n",
            "[7, 4, 1, 2, 9, 3, 5, 8, 6]\n",
            "[6, 9, 8, 5, 1, 4, 7, 3, 2]\n",
            "[2, 5, 3, 8, 7, 6, 9, 4, 1]\n"
          ]
        }
      ],
      "source": [
        "print(*board, sep='\\n')"
      ]
    },
    {
      "cell_type": "markdown",
      "metadata": {
        "id": "91oMv8bi0YiI"
      },
      "source": [
        "## Anti-backtracking puzzle\n",
        "\n",
        "Src:\n",
        "<img src=\"https://upload.wikimedia.org/wikipedia/commons/thumb/e/ed/Sudoku_puzzle_hard_for_brute_force.svg/520px-Sudoku_puzzle_hard_for_brute_force.svg.png\" width=\"400\">"
      ]
    },
    {
      "cell_type": "code",
      "execution_count": 9,
      "metadata": {
        "colab": {
          "base_uri": "https://localhost:8080/",
          "height": 345
        },
        "id": "m7t1ZE090YiI",
        "outputId": "5832feb8-50f3-48c7-db3f-1d94c687fc2c"
      },
      "outputs": [
        {
          "output_type": "stream",
          "name": "stdout",
          "text": [
            "17\n"
          ]
        },
        {
          "output_type": "error",
          "ename": "KeyboardInterrupt",
          "evalue": "",
          "traceback": [
            "\u001b[0;31m---------------------------------------------------------------------------\u001b[0m",
            "\u001b[0;31mKeyboardInterrupt\u001b[0m                         Traceback (most recent call last)",
            "\u001b[0;32m/tmp/ipython-input-458342650.py\u001b[0m in \u001b[0;36m<cell line: 0>\u001b[0;34m()\u001b[0m\n\u001b[1;32m     21\u001b[0m \u001b[0;34m\u001b[0m\u001b[0m\n\u001b[1;32m     22\u001b[0m \u001b[0;31m# this should take a while\u001b[0m\u001b[0;34m\u001b[0m\u001b[0;34m\u001b[0m\u001b[0m\n\u001b[0;32m---> 23\u001b[0;31m \u001b[0msolve\u001b[0m\u001b[0;34m(\u001b[0m\u001b[0mboard\u001b[0m\u001b[0;34m)\u001b[0m\u001b[0;34m\u001b[0m\u001b[0;34m\u001b[0m\u001b[0m\n\u001b[0m",
            "\u001b[0;32m/tmp/ipython-input-3188682154.py\u001b[0m in \u001b[0;36msolve\u001b[0;34m(board)\u001b[0m\n\u001b[1;32m     69\u001b[0m                         \u001b[0;32mglobal\u001b[0m \u001b[0mcounter\u001b[0m \u001b[0;31m# we use this to show how many times we backtrack, obviously not required\u001b[0m\u001b[0;34m\u001b[0m\u001b[0;34m\u001b[0m\u001b[0m\n\u001b[1;32m     70\u001b[0m                         \u001b[0mcounter\u001b[0m \u001b[0;34m+=\u001b[0m \u001b[0;36m1\u001b[0m \u001b[0;31m# TODO remove this\u001b[0m\u001b[0;34m\u001b[0m\u001b[0;34m\u001b[0m\u001b[0m\n\u001b[0;32m---> 71\u001b[0;31m                         \u001b[0;32mif\u001b[0m \u001b[0msolve\u001b[0m\u001b[0;34m(\u001b[0m\u001b[0mboard\u001b[0m\u001b[0;34m)\u001b[0m\u001b[0;34m:\u001b[0m\u001b[0;34m\u001b[0m\u001b[0;34m\u001b[0m\u001b[0m\n\u001b[0m\u001b[1;32m     72\u001b[0m                             \u001b[0;32mreturn\u001b[0m \u001b[0;32mTrue\u001b[0m\u001b[0;34m\u001b[0m\u001b[0;34m\u001b[0m\u001b[0m\n\u001b[1;32m     73\u001b[0m                         \u001b[0;31m# here this means we have a problem and need to backtrack\u001b[0m\u001b[0;34m\u001b[0m\u001b[0;34m\u001b[0m\u001b[0m\n",
            "\u001b[0;32m/tmp/ipython-input-3188682154.py\u001b[0m in \u001b[0;36msolve\u001b[0;34m(board)\u001b[0m\n\u001b[1;32m     69\u001b[0m                         \u001b[0;32mglobal\u001b[0m \u001b[0mcounter\u001b[0m \u001b[0;31m# we use this to show how many times we backtrack, obviously not required\u001b[0m\u001b[0;34m\u001b[0m\u001b[0;34m\u001b[0m\u001b[0m\n\u001b[1;32m     70\u001b[0m                         \u001b[0mcounter\u001b[0m \u001b[0;34m+=\u001b[0m \u001b[0;36m1\u001b[0m \u001b[0;31m# TODO remove this\u001b[0m\u001b[0;34m\u001b[0m\u001b[0;34m\u001b[0m\u001b[0m\n\u001b[0;32m---> 71\u001b[0;31m                         \u001b[0;32mif\u001b[0m \u001b[0msolve\u001b[0m\u001b[0;34m(\u001b[0m\u001b[0mboard\u001b[0m\u001b[0;34m)\u001b[0m\u001b[0;34m:\u001b[0m\u001b[0;34m\u001b[0m\u001b[0;34m\u001b[0m\u001b[0m\n\u001b[0m\u001b[1;32m     72\u001b[0m                             \u001b[0;32mreturn\u001b[0m \u001b[0;32mTrue\u001b[0m\u001b[0;34m\u001b[0m\u001b[0;34m\u001b[0m\u001b[0m\n\u001b[1;32m     73\u001b[0m                         \u001b[0;31m# here this means we have a problem and need to backtrack\u001b[0m\u001b[0;34m\u001b[0m\u001b[0;34m\u001b[0m\u001b[0m\n",
            "\u001b[0;32m/tmp/ipython-input-3188682154.py\u001b[0m in \u001b[0;36msolve\u001b[0;34m(board)\u001b[0m\n\u001b[1;32m     69\u001b[0m                         \u001b[0;32mglobal\u001b[0m \u001b[0mcounter\u001b[0m \u001b[0;31m# we use this to show how many times we backtrack, obviously not required\u001b[0m\u001b[0;34m\u001b[0m\u001b[0;34m\u001b[0m\u001b[0m\n\u001b[1;32m     70\u001b[0m                         \u001b[0mcounter\u001b[0m \u001b[0;34m+=\u001b[0m \u001b[0;36m1\u001b[0m \u001b[0;31m# TODO remove this\u001b[0m\u001b[0;34m\u001b[0m\u001b[0;34m\u001b[0m\u001b[0m\n\u001b[0;32m---> 71\u001b[0;31m                         \u001b[0;32mif\u001b[0m \u001b[0msolve\u001b[0m\u001b[0;34m(\u001b[0m\u001b[0mboard\u001b[0m\u001b[0;34m)\u001b[0m\u001b[0;34m:\u001b[0m\u001b[0;34m\u001b[0m\u001b[0;34m\u001b[0m\u001b[0m\n\u001b[0m\u001b[1;32m     72\u001b[0m                             \u001b[0;32mreturn\u001b[0m \u001b[0;32mTrue\u001b[0m\u001b[0;34m\u001b[0m\u001b[0;34m\u001b[0m\u001b[0m\n\u001b[1;32m     73\u001b[0m                         \u001b[0;31m# here this means we have a problem and need to backtrack\u001b[0m\u001b[0;34m\u001b[0m\u001b[0;34m\u001b[0m\u001b[0m\n",
            "\u001b[0;32m/tmp/ipython-input-3188682154.py\u001b[0m in \u001b[0;36msolve\u001b[0;34m(board)\u001b[0m\n\u001b[1;32m     69\u001b[0m                         \u001b[0;32mglobal\u001b[0m \u001b[0mcounter\u001b[0m \u001b[0;31m# we use this to show how many times we backtrack, obviously not required\u001b[0m\u001b[0;34m\u001b[0m\u001b[0;34m\u001b[0m\u001b[0m\n\u001b[1;32m     70\u001b[0m                         \u001b[0mcounter\u001b[0m \u001b[0;34m+=\u001b[0m \u001b[0;36m1\u001b[0m \u001b[0;31m# TODO remove this\u001b[0m\u001b[0;34m\u001b[0m\u001b[0;34m\u001b[0m\u001b[0m\n\u001b[0;32m---> 71\u001b[0;31m                         \u001b[0;32mif\u001b[0m \u001b[0msolve\u001b[0m\u001b[0;34m(\u001b[0m\u001b[0mboard\u001b[0m\u001b[0;34m)\u001b[0m\u001b[0;34m:\u001b[0m\u001b[0;34m\u001b[0m\u001b[0;34m\u001b[0m\u001b[0m\n\u001b[0m\u001b[1;32m     72\u001b[0m                             \u001b[0;32mreturn\u001b[0m \u001b[0;32mTrue\u001b[0m\u001b[0;34m\u001b[0m\u001b[0;34m\u001b[0m\u001b[0m\n\u001b[1;32m     73\u001b[0m                         \u001b[0;31m# here this means we have a problem and need to backtrack\u001b[0m\u001b[0;34m\u001b[0m\u001b[0;34m\u001b[0m\u001b[0m\n",
            "\u001b[0;32m/tmp/ipython-input-3188682154.py\u001b[0m in \u001b[0;36msolve\u001b[0;34m(board)\u001b[0m\n\u001b[1;32m     69\u001b[0m                         \u001b[0;32mglobal\u001b[0m \u001b[0mcounter\u001b[0m \u001b[0;31m# we use this to show how many times we backtrack, obviously not required\u001b[0m\u001b[0;34m\u001b[0m\u001b[0;34m\u001b[0m\u001b[0m\n\u001b[1;32m     70\u001b[0m                         \u001b[0mcounter\u001b[0m \u001b[0;34m+=\u001b[0m \u001b[0;36m1\u001b[0m \u001b[0;31m# TODO remove this\u001b[0m\u001b[0;34m\u001b[0m\u001b[0;34m\u001b[0m\u001b[0m\n\u001b[0;32m---> 71\u001b[0;31m                         \u001b[0;32mif\u001b[0m \u001b[0msolve\u001b[0m\u001b[0;34m(\u001b[0m\u001b[0mboard\u001b[0m\u001b[0;34m)\u001b[0m\u001b[0;34m:\u001b[0m\u001b[0;34m\u001b[0m\u001b[0;34m\u001b[0m\u001b[0m\n\u001b[0m\u001b[1;32m     72\u001b[0m                             \u001b[0;32mreturn\u001b[0m \u001b[0;32mTrue\u001b[0m\u001b[0;34m\u001b[0m\u001b[0;34m\u001b[0m\u001b[0m\n\u001b[1;32m     73\u001b[0m                         \u001b[0;31m# here this means we have a problem and need to backtrack\u001b[0m\u001b[0;34m\u001b[0m\u001b[0;34m\u001b[0m\u001b[0m\n",
            "\u001b[0;32m/tmp/ipython-input-3188682154.py\u001b[0m in \u001b[0;36msolve\u001b[0;34m(board)\u001b[0m\n\u001b[1;32m     69\u001b[0m                         \u001b[0;32mglobal\u001b[0m \u001b[0mcounter\u001b[0m \u001b[0;31m# we use this to show how many times we backtrack, obviously not required\u001b[0m\u001b[0;34m\u001b[0m\u001b[0;34m\u001b[0m\u001b[0m\n\u001b[1;32m     70\u001b[0m                         \u001b[0mcounter\u001b[0m \u001b[0;34m+=\u001b[0m \u001b[0;36m1\u001b[0m \u001b[0;31m# TODO remove this\u001b[0m\u001b[0;34m\u001b[0m\u001b[0;34m\u001b[0m\u001b[0m\n\u001b[0;32m---> 71\u001b[0;31m                         \u001b[0;32mif\u001b[0m \u001b[0msolve\u001b[0m\u001b[0;34m(\u001b[0m\u001b[0mboard\u001b[0m\u001b[0;34m)\u001b[0m\u001b[0;34m:\u001b[0m\u001b[0;34m\u001b[0m\u001b[0;34m\u001b[0m\u001b[0m\n\u001b[0m\u001b[1;32m     72\u001b[0m                             \u001b[0;32mreturn\u001b[0m \u001b[0;32mTrue\u001b[0m\u001b[0;34m\u001b[0m\u001b[0;34m\u001b[0m\u001b[0m\n\u001b[1;32m     73\u001b[0m                         \u001b[0;31m# here this means we have a problem and need to backtrack\u001b[0m\u001b[0;34m\u001b[0m\u001b[0;34m\u001b[0m\u001b[0m\n",
            "\u001b[0;32m/tmp/ipython-input-3188682154.py\u001b[0m in \u001b[0;36msolve\u001b[0;34m(board)\u001b[0m\n\u001b[1;32m     69\u001b[0m                         \u001b[0;32mglobal\u001b[0m \u001b[0mcounter\u001b[0m \u001b[0;31m# we use this to show how many times we backtrack, obviously not required\u001b[0m\u001b[0;34m\u001b[0m\u001b[0;34m\u001b[0m\u001b[0m\n\u001b[1;32m     70\u001b[0m                         \u001b[0mcounter\u001b[0m \u001b[0;34m+=\u001b[0m \u001b[0;36m1\u001b[0m \u001b[0;31m# TODO remove this\u001b[0m\u001b[0;34m\u001b[0m\u001b[0;34m\u001b[0m\u001b[0m\n\u001b[0;32m---> 71\u001b[0;31m                         \u001b[0;32mif\u001b[0m \u001b[0msolve\u001b[0m\u001b[0;34m(\u001b[0m\u001b[0mboard\u001b[0m\u001b[0;34m)\u001b[0m\u001b[0;34m:\u001b[0m\u001b[0;34m\u001b[0m\u001b[0;34m\u001b[0m\u001b[0m\n\u001b[0m\u001b[1;32m     72\u001b[0m                             \u001b[0;32mreturn\u001b[0m \u001b[0;32mTrue\u001b[0m\u001b[0;34m\u001b[0m\u001b[0;34m\u001b[0m\u001b[0m\n\u001b[1;32m     73\u001b[0m                         \u001b[0;31m# here this means we have a problem and need to backtrack\u001b[0m\u001b[0;34m\u001b[0m\u001b[0;34m\u001b[0m\u001b[0m\n",
            "\u001b[0;32m/tmp/ipython-input-3188682154.py\u001b[0m in \u001b[0;36msolve\u001b[0;34m(board)\u001b[0m\n\u001b[1;32m     69\u001b[0m                         \u001b[0;32mglobal\u001b[0m \u001b[0mcounter\u001b[0m \u001b[0;31m# we use this to show how many times we backtrack, obviously not required\u001b[0m\u001b[0;34m\u001b[0m\u001b[0;34m\u001b[0m\u001b[0m\n\u001b[1;32m     70\u001b[0m                         \u001b[0mcounter\u001b[0m \u001b[0;34m+=\u001b[0m \u001b[0;36m1\u001b[0m \u001b[0;31m# TODO remove this\u001b[0m\u001b[0;34m\u001b[0m\u001b[0;34m\u001b[0m\u001b[0m\n\u001b[0;32m---> 71\u001b[0;31m                         \u001b[0;32mif\u001b[0m \u001b[0msolve\u001b[0m\u001b[0;34m(\u001b[0m\u001b[0mboard\u001b[0m\u001b[0;34m)\u001b[0m\u001b[0;34m:\u001b[0m\u001b[0;34m\u001b[0m\u001b[0;34m\u001b[0m\u001b[0m\n\u001b[0m\u001b[1;32m     72\u001b[0m                             \u001b[0;32mreturn\u001b[0m \u001b[0;32mTrue\u001b[0m\u001b[0;34m\u001b[0m\u001b[0;34m\u001b[0m\u001b[0m\n\u001b[1;32m     73\u001b[0m                         \u001b[0;31m# here this means we have a problem and need to backtrack\u001b[0m\u001b[0;34m\u001b[0m\u001b[0;34m\u001b[0m\u001b[0m\n",
            "\u001b[0;32m/tmp/ipython-input-3188682154.py\u001b[0m in \u001b[0;36msolve\u001b[0;34m(board)\u001b[0m\n\u001b[1;32m     69\u001b[0m                         \u001b[0;32mglobal\u001b[0m \u001b[0mcounter\u001b[0m \u001b[0;31m# we use this to show how many times we backtrack, obviously not required\u001b[0m\u001b[0;34m\u001b[0m\u001b[0;34m\u001b[0m\u001b[0m\n\u001b[1;32m     70\u001b[0m                         \u001b[0mcounter\u001b[0m \u001b[0;34m+=\u001b[0m \u001b[0;36m1\u001b[0m \u001b[0;31m# TODO remove this\u001b[0m\u001b[0;34m\u001b[0m\u001b[0;34m\u001b[0m\u001b[0m\n\u001b[0;32m---> 71\u001b[0;31m                         \u001b[0;32mif\u001b[0m \u001b[0msolve\u001b[0m\u001b[0;34m(\u001b[0m\u001b[0mboard\u001b[0m\u001b[0;34m)\u001b[0m\u001b[0;34m:\u001b[0m\u001b[0;34m\u001b[0m\u001b[0;34m\u001b[0m\u001b[0m\n\u001b[0m\u001b[1;32m     72\u001b[0m                             \u001b[0;32mreturn\u001b[0m \u001b[0;32mTrue\u001b[0m\u001b[0;34m\u001b[0m\u001b[0;34m\u001b[0m\u001b[0m\n\u001b[1;32m     73\u001b[0m                         \u001b[0;31m# here this means we have a problem and need to backtrack\u001b[0m\u001b[0;34m\u001b[0m\u001b[0;34m\u001b[0m\u001b[0m\n",
            "\u001b[0;32m/tmp/ipython-input-3188682154.py\u001b[0m in \u001b[0;36msolve\u001b[0;34m(board)\u001b[0m\n\u001b[1;32m     69\u001b[0m                         \u001b[0;32mglobal\u001b[0m \u001b[0mcounter\u001b[0m \u001b[0;31m# we use this to show how many times we backtrack, obviously not required\u001b[0m\u001b[0;34m\u001b[0m\u001b[0;34m\u001b[0m\u001b[0m\n\u001b[1;32m     70\u001b[0m                         \u001b[0mcounter\u001b[0m \u001b[0;34m+=\u001b[0m \u001b[0;36m1\u001b[0m \u001b[0;31m# TODO remove this\u001b[0m\u001b[0;34m\u001b[0m\u001b[0;34m\u001b[0m\u001b[0m\n\u001b[0;32m---> 71\u001b[0;31m                         \u001b[0;32mif\u001b[0m \u001b[0msolve\u001b[0m\u001b[0;34m(\u001b[0m\u001b[0mboard\u001b[0m\u001b[0;34m)\u001b[0m\u001b[0;34m:\u001b[0m\u001b[0;34m\u001b[0m\u001b[0;34m\u001b[0m\u001b[0m\n\u001b[0m\u001b[1;32m     72\u001b[0m                             \u001b[0;32mreturn\u001b[0m \u001b[0;32mTrue\u001b[0m\u001b[0;34m\u001b[0m\u001b[0;34m\u001b[0m\u001b[0m\n\u001b[1;32m     73\u001b[0m                         \u001b[0;31m# here this means we have a problem and need to backtrack\u001b[0m\u001b[0;34m\u001b[0m\u001b[0;34m\u001b[0m\u001b[0m\n",
            "\u001b[0;32m/tmp/ipython-input-3188682154.py\u001b[0m in \u001b[0;36msolve\u001b[0;34m(board)\u001b[0m\n\u001b[1;32m     69\u001b[0m                         \u001b[0;32mglobal\u001b[0m \u001b[0mcounter\u001b[0m \u001b[0;31m# we use this to show how many times we backtrack, obviously not required\u001b[0m\u001b[0;34m\u001b[0m\u001b[0;34m\u001b[0m\u001b[0m\n\u001b[1;32m     70\u001b[0m                         \u001b[0mcounter\u001b[0m \u001b[0;34m+=\u001b[0m \u001b[0;36m1\u001b[0m \u001b[0;31m# TODO remove this\u001b[0m\u001b[0;34m\u001b[0m\u001b[0;34m\u001b[0m\u001b[0m\n\u001b[0;32m---> 71\u001b[0;31m                         \u001b[0;32mif\u001b[0m \u001b[0msolve\u001b[0m\u001b[0;34m(\u001b[0m\u001b[0mboard\u001b[0m\u001b[0;34m)\u001b[0m\u001b[0;34m:\u001b[0m\u001b[0;34m\u001b[0m\u001b[0;34m\u001b[0m\u001b[0m\n\u001b[0m\u001b[1;32m     72\u001b[0m                             \u001b[0;32mreturn\u001b[0m \u001b[0;32mTrue\u001b[0m\u001b[0;34m\u001b[0m\u001b[0;34m\u001b[0m\u001b[0m\n\u001b[1;32m     73\u001b[0m                         \u001b[0;31m# here this means we have a problem and need to backtrack\u001b[0m\u001b[0;34m\u001b[0m\u001b[0;34m\u001b[0m\u001b[0m\n",
            "\u001b[0;32m/tmp/ipython-input-3188682154.py\u001b[0m in \u001b[0;36msolve\u001b[0;34m(board)\u001b[0m\n\u001b[1;32m     69\u001b[0m                         \u001b[0;32mglobal\u001b[0m \u001b[0mcounter\u001b[0m \u001b[0;31m# we use this to show how many times we backtrack, obviously not required\u001b[0m\u001b[0;34m\u001b[0m\u001b[0;34m\u001b[0m\u001b[0m\n\u001b[1;32m     70\u001b[0m                         \u001b[0mcounter\u001b[0m \u001b[0;34m+=\u001b[0m \u001b[0;36m1\u001b[0m \u001b[0;31m# TODO remove this\u001b[0m\u001b[0;34m\u001b[0m\u001b[0;34m\u001b[0m\u001b[0m\n\u001b[0;32m---> 71\u001b[0;31m                         \u001b[0;32mif\u001b[0m \u001b[0msolve\u001b[0m\u001b[0;34m(\u001b[0m\u001b[0mboard\u001b[0m\u001b[0;34m)\u001b[0m\u001b[0;34m:\u001b[0m\u001b[0;34m\u001b[0m\u001b[0;34m\u001b[0m\u001b[0m\n\u001b[0m\u001b[1;32m     72\u001b[0m                             \u001b[0;32mreturn\u001b[0m \u001b[0;32mTrue\u001b[0m\u001b[0;34m\u001b[0m\u001b[0;34m\u001b[0m\u001b[0m\n\u001b[1;32m     73\u001b[0m                         \u001b[0;31m# here this means we have a problem and need to backtrack\u001b[0m\u001b[0;34m\u001b[0m\u001b[0;34m\u001b[0m\u001b[0m\n",
            "\u001b[0;32m/tmp/ipython-input-3188682154.py\u001b[0m in \u001b[0;36msolve\u001b[0;34m(board)\u001b[0m\n\u001b[1;32m     69\u001b[0m                         \u001b[0;32mglobal\u001b[0m \u001b[0mcounter\u001b[0m \u001b[0;31m# we use this to show how many times we backtrack, obviously not required\u001b[0m\u001b[0;34m\u001b[0m\u001b[0;34m\u001b[0m\u001b[0m\n\u001b[1;32m     70\u001b[0m                         \u001b[0mcounter\u001b[0m \u001b[0;34m+=\u001b[0m \u001b[0;36m1\u001b[0m \u001b[0;31m# TODO remove this\u001b[0m\u001b[0;34m\u001b[0m\u001b[0;34m\u001b[0m\u001b[0m\n\u001b[0;32m---> 71\u001b[0;31m                         \u001b[0;32mif\u001b[0m \u001b[0msolve\u001b[0m\u001b[0;34m(\u001b[0m\u001b[0mboard\u001b[0m\u001b[0;34m)\u001b[0m\u001b[0;34m:\u001b[0m\u001b[0;34m\u001b[0m\u001b[0;34m\u001b[0m\u001b[0m\n\u001b[0m\u001b[1;32m     72\u001b[0m                             \u001b[0;32mreturn\u001b[0m \u001b[0;32mTrue\u001b[0m\u001b[0;34m\u001b[0m\u001b[0;34m\u001b[0m\u001b[0m\n\u001b[1;32m     73\u001b[0m                         \u001b[0;31m# here this means we have a problem and need to backtrack\u001b[0m\u001b[0;34m\u001b[0m\u001b[0;34m\u001b[0m\u001b[0m\n",
            "\u001b[0;32m/tmp/ipython-input-3188682154.py\u001b[0m in \u001b[0;36msolve\u001b[0;34m(board)\u001b[0m\n\u001b[1;32m     69\u001b[0m                         \u001b[0;32mglobal\u001b[0m \u001b[0mcounter\u001b[0m \u001b[0;31m# we use this to show how many times we backtrack, obviously not required\u001b[0m\u001b[0;34m\u001b[0m\u001b[0;34m\u001b[0m\u001b[0m\n\u001b[1;32m     70\u001b[0m                         \u001b[0mcounter\u001b[0m \u001b[0;34m+=\u001b[0m \u001b[0;36m1\u001b[0m \u001b[0;31m# TODO remove this\u001b[0m\u001b[0;34m\u001b[0m\u001b[0;34m\u001b[0m\u001b[0m\n\u001b[0;32m---> 71\u001b[0;31m                         \u001b[0;32mif\u001b[0m \u001b[0msolve\u001b[0m\u001b[0;34m(\u001b[0m\u001b[0mboard\u001b[0m\u001b[0;34m)\u001b[0m\u001b[0;34m:\u001b[0m\u001b[0;34m\u001b[0m\u001b[0;34m\u001b[0m\u001b[0m\n\u001b[0m\u001b[1;32m     72\u001b[0m                             \u001b[0;32mreturn\u001b[0m \u001b[0;32mTrue\u001b[0m\u001b[0;34m\u001b[0m\u001b[0;34m\u001b[0m\u001b[0m\n\u001b[1;32m     73\u001b[0m                         \u001b[0;31m# here this means we have a problem and need to backtrack\u001b[0m\u001b[0;34m\u001b[0m\u001b[0;34m\u001b[0m\u001b[0m\n",
            "\u001b[0;32m/tmp/ipython-input-3188682154.py\u001b[0m in \u001b[0;36msolve\u001b[0;34m(board)\u001b[0m\n\u001b[1;32m     69\u001b[0m                         \u001b[0;32mglobal\u001b[0m \u001b[0mcounter\u001b[0m \u001b[0;31m# we use this to show how many times we backtrack, obviously not required\u001b[0m\u001b[0;34m\u001b[0m\u001b[0;34m\u001b[0m\u001b[0m\n\u001b[1;32m     70\u001b[0m                         \u001b[0mcounter\u001b[0m \u001b[0;34m+=\u001b[0m \u001b[0;36m1\u001b[0m \u001b[0;31m# TODO remove this\u001b[0m\u001b[0;34m\u001b[0m\u001b[0;34m\u001b[0m\u001b[0m\n\u001b[0;32m---> 71\u001b[0;31m                         \u001b[0;32mif\u001b[0m \u001b[0msolve\u001b[0m\u001b[0;34m(\u001b[0m\u001b[0mboard\u001b[0m\u001b[0;34m)\u001b[0m\u001b[0;34m:\u001b[0m\u001b[0;34m\u001b[0m\u001b[0;34m\u001b[0m\u001b[0m\n\u001b[0m\u001b[1;32m     72\u001b[0m                             \u001b[0;32mreturn\u001b[0m \u001b[0;32mTrue\u001b[0m\u001b[0;34m\u001b[0m\u001b[0;34m\u001b[0m\u001b[0m\n\u001b[1;32m     73\u001b[0m                         \u001b[0;31m# here this means we have a problem and need to backtrack\u001b[0m\u001b[0;34m\u001b[0m\u001b[0;34m\u001b[0m\u001b[0m\n",
            "\u001b[0;32m/tmp/ipython-input-3188682154.py\u001b[0m in \u001b[0;36msolve\u001b[0;34m(board)\u001b[0m\n\u001b[1;32m     69\u001b[0m                         \u001b[0;32mglobal\u001b[0m \u001b[0mcounter\u001b[0m \u001b[0;31m# we use this to show how many times we backtrack, obviously not required\u001b[0m\u001b[0;34m\u001b[0m\u001b[0;34m\u001b[0m\u001b[0m\n\u001b[1;32m     70\u001b[0m                         \u001b[0mcounter\u001b[0m \u001b[0;34m+=\u001b[0m \u001b[0;36m1\u001b[0m \u001b[0;31m# TODO remove this\u001b[0m\u001b[0;34m\u001b[0m\u001b[0;34m\u001b[0m\u001b[0m\n\u001b[0;32m---> 71\u001b[0;31m                         \u001b[0;32mif\u001b[0m \u001b[0msolve\u001b[0m\u001b[0;34m(\u001b[0m\u001b[0mboard\u001b[0m\u001b[0;34m)\u001b[0m\u001b[0;34m:\u001b[0m\u001b[0;34m\u001b[0m\u001b[0;34m\u001b[0m\u001b[0m\n\u001b[0m\u001b[1;32m     72\u001b[0m                             \u001b[0;32mreturn\u001b[0m \u001b[0;32mTrue\u001b[0m\u001b[0;34m\u001b[0m\u001b[0;34m\u001b[0m\u001b[0m\n\u001b[1;32m     73\u001b[0m                         \u001b[0;31m# here this means we have a problem and need to backtrack\u001b[0m\u001b[0;34m\u001b[0m\u001b[0;34m\u001b[0m\u001b[0m\n",
            "\u001b[0;32m/tmp/ipython-input-3188682154.py\u001b[0m in \u001b[0;36msolve\u001b[0;34m(board)\u001b[0m\n\u001b[1;32m     69\u001b[0m                         \u001b[0;32mglobal\u001b[0m \u001b[0mcounter\u001b[0m \u001b[0;31m# we use this to show how many times we backtrack, obviously not required\u001b[0m\u001b[0;34m\u001b[0m\u001b[0;34m\u001b[0m\u001b[0m\n\u001b[1;32m     70\u001b[0m                         \u001b[0mcounter\u001b[0m \u001b[0;34m+=\u001b[0m \u001b[0;36m1\u001b[0m \u001b[0;31m# TODO remove this\u001b[0m\u001b[0;34m\u001b[0m\u001b[0;34m\u001b[0m\u001b[0m\n\u001b[0;32m---> 71\u001b[0;31m                         \u001b[0;32mif\u001b[0m \u001b[0msolve\u001b[0m\u001b[0;34m(\u001b[0m\u001b[0mboard\u001b[0m\u001b[0;34m)\u001b[0m\u001b[0;34m:\u001b[0m\u001b[0;34m\u001b[0m\u001b[0;34m\u001b[0m\u001b[0m\n\u001b[0m\u001b[1;32m     72\u001b[0m                             \u001b[0;32mreturn\u001b[0m \u001b[0;32mTrue\u001b[0m\u001b[0;34m\u001b[0m\u001b[0;34m\u001b[0m\u001b[0m\n\u001b[1;32m     73\u001b[0m                         \u001b[0;31m# here this means we have a problem and need to backtrack\u001b[0m\u001b[0;34m\u001b[0m\u001b[0;34m\u001b[0m\u001b[0m\n",
            "\u001b[0;32m/tmp/ipython-input-3188682154.py\u001b[0m in \u001b[0;36msolve\u001b[0;34m(board)\u001b[0m\n\u001b[1;32m     69\u001b[0m                         \u001b[0;32mglobal\u001b[0m \u001b[0mcounter\u001b[0m \u001b[0;31m# we use this to show how many times we backtrack, obviously not required\u001b[0m\u001b[0;34m\u001b[0m\u001b[0;34m\u001b[0m\u001b[0m\n\u001b[1;32m     70\u001b[0m                         \u001b[0mcounter\u001b[0m \u001b[0;34m+=\u001b[0m \u001b[0;36m1\u001b[0m \u001b[0;31m# TODO remove this\u001b[0m\u001b[0;34m\u001b[0m\u001b[0;34m\u001b[0m\u001b[0m\n\u001b[0;32m---> 71\u001b[0;31m                         \u001b[0;32mif\u001b[0m \u001b[0msolve\u001b[0m\u001b[0;34m(\u001b[0m\u001b[0mboard\u001b[0m\u001b[0;34m)\u001b[0m\u001b[0;34m:\u001b[0m\u001b[0;34m\u001b[0m\u001b[0;34m\u001b[0m\u001b[0m\n\u001b[0m\u001b[1;32m     72\u001b[0m                             \u001b[0;32mreturn\u001b[0m \u001b[0;32mTrue\u001b[0m\u001b[0;34m\u001b[0m\u001b[0;34m\u001b[0m\u001b[0m\n\u001b[1;32m     73\u001b[0m                         \u001b[0;31m# here this means we have a problem and need to backtrack\u001b[0m\u001b[0;34m\u001b[0m\u001b[0;34m\u001b[0m\u001b[0m\n",
            "\u001b[0;32m/tmp/ipython-input-3188682154.py\u001b[0m in \u001b[0;36msolve\u001b[0;34m(board)\u001b[0m\n\u001b[1;32m     69\u001b[0m                         \u001b[0;32mglobal\u001b[0m \u001b[0mcounter\u001b[0m \u001b[0;31m# we use this to show how many times we backtrack, obviously not required\u001b[0m\u001b[0;34m\u001b[0m\u001b[0;34m\u001b[0m\u001b[0m\n\u001b[1;32m     70\u001b[0m                         \u001b[0mcounter\u001b[0m \u001b[0;34m+=\u001b[0m \u001b[0;36m1\u001b[0m \u001b[0;31m# TODO remove this\u001b[0m\u001b[0;34m\u001b[0m\u001b[0;34m\u001b[0m\u001b[0m\n\u001b[0;32m---> 71\u001b[0;31m                         \u001b[0;32mif\u001b[0m \u001b[0msolve\u001b[0m\u001b[0;34m(\u001b[0m\u001b[0mboard\u001b[0m\u001b[0;34m)\u001b[0m\u001b[0;34m:\u001b[0m\u001b[0;34m\u001b[0m\u001b[0;34m\u001b[0m\u001b[0m\n\u001b[0m\u001b[1;32m     72\u001b[0m                             \u001b[0;32mreturn\u001b[0m \u001b[0;32mTrue\u001b[0m\u001b[0;34m\u001b[0m\u001b[0;34m\u001b[0m\u001b[0m\n\u001b[1;32m     73\u001b[0m                         \u001b[0;31m# here this means we have a problem and need to backtrack\u001b[0m\u001b[0;34m\u001b[0m\u001b[0;34m\u001b[0m\u001b[0m\n",
            "\u001b[0;32m/tmp/ipython-input-3188682154.py\u001b[0m in \u001b[0;36msolve\u001b[0;34m(board)\u001b[0m\n\u001b[1;32m     69\u001b[0m                         \u001b[0;32mglobal\u001b[0m \u001b[0mcounter\u001b[0m \u001b[0;31m# we use this to show how many times we backtrack, obviously not required\u001b[0m\u001b[0;34m\u001b[0m\u001b[0;34m\u001b[0m\u001b[0m\n\u001b[1;32m     70\u001b[0m                         \u001b[0mcounter\u001b[0m \u001b[0;34m+=\u001b[0m \u001b[0;36m1\u001b[0m \u001b[0;31m# TODO remove this\u001b[0m\u001b[0;34m\u001b[0m\u001b[0;34m\u001b[0m\u001b[0m\n\u001b[0;32m---> 71\u001b[0;31m                         \u001b[0;32mif\u001b[0m \u001b[0msolve\u001b[0m\u001b[0;34m(\u001b[0m\u001b[0mboard\u001b[0m\u001b[0;34m)\u001b[0m\u001b[0;34m:\u001b[0m\u001b[0;34m\u001b[0m\u001b[0;34m\u001b[0m\u001b[0m\n\u001b[0m\u001b[1;32m     72\u001b[0m                             \u001b[0;32mreturn\u001b[0m \u001b[0;32mTrue\u001b[0m\u001b[0;34m\u001b[0m\u001b[0;34m\u001b[0m\u001b[0m\n\u001b[1;32m     73\u001b[0m                         \u001b[0;31m# here this means we have a problem and need to backtrack\u001b[0m\u001b[0;34m\u001b[0m\u001b[0;34m\u001b[0m\u001b[0m\n",
            "\u001b[0;32m/tmp/ipython-input-3188682154.py\u001b[0m in \u001b[0;36msolve\u001b[0;34m(board)\u001b[0m\n\u001b[1;32m     69\u001b[0m                         \u001b[0;32mglobal\u001b[0m \u001b[0mcounter\u001b[0m \u001b[0;31m# we use this to show how many times we backtrack, obviously not required\u001b[0m\u001b[0;34m\u001b[0m\u001b[0;34m\u001b[0m\u001b[0m\n\u001b[1;32m     70\u001b[0m                         \u001b[0mcounter\u001b[0m \u001b[0;34m+=\u001b[0m \u001b[0;36m1\u001b[0m \u001b[0;31m# TODO remove this\u001b[0m\u001b[0;34m\u001b[0m\u001b[0;34m\u001b[0m\u001b[0m\n\u001b[0;32m---> 71\u001b[0;31m                         \u001b[0;32mif\u001b[0m \u001b[0msolve\u001b[0m\u001b[0;34m(\u001b[0m\u001b[0mboard\u001b[0m\u001b[0;34m)\u001b[0m\u001b[0;34m:\u001b[0m\u001b[0;34m\u001b[0m\u001b[0;34m\u001b[0m\u001b[0m\n\u001b[0m\u001b[1;32m     72\u001b[0m                             \u001b[0;32mreturn\u001b[0m \u001b[0;32mTrue\u001b[0m\u001b[0;34m\u001b[0m\u001b[0;34m\u001b[0m\u001b[0m\n\u001b[1;32m     73\u001b[0m                         \u001b[0;31m# here this means we have a problem and need to backtrack\u001b[0m\u001b[0;34m\u001b[0m\u001b[0;34m\u001b[0m\u001b[0m\n",
            "\u001b[0;32m/tmp/ipython-input-3188682154.py\u001b[0m in \u001b[0;36msolve\u001b[0;34m(board)\u001b[0m\n\u001b[1;32m     69\u001b[0m                         \u001b[0;32mglobal\u001b[0m \u001b[0mcounter\u001b[0m \u001b[0;31m# we use this to show how many times we backtrack, obviously not required\u001b[0m\u001b[0;34m\u001b[0m\u001b[0;34m\u001b[0m\u001b[0m\n\u001b[1;32m     70\u001b[0m                         \u001b[0mcounter\u001b[0m \u001b[0;34m+=\u001b[0m \u001b[0;36m1\u001b[0m \u001b[0;31m# TODO remove this\u001b[0m\u001b[0;34m\u001b[0m\u001b[0;34m\u001b[0m\u001b[0m\n\u001b[0;32m---> 71\u001b[0;31m                         \u001b[0;32mif\u001b[0m \u001b[0msolve\u001b[0m\u001b[0;34m(\u001b[0m\u001b[0mboard\u001b[0m\u001b[0;34m)\u001b[0m\u001b[0;34m:\u001b[0m\u001b[0;34m\u001b[0m\u001b[0;34m\u001b[0m\u001b[0m\n\u001b[0m\u001b[1;32m     72\u001b[0m                             \u001b[0;32mreturn\u001b[0m \u001b[0;32mTrue\u001b[0m\u001b[0;34m\u001b[0m\u001b[0;34m\u001b[0m\u001b[0m\n\u001b[1;32m     73\u001b[0m                         \u001b[0;31m# here this means we have a problem and need to backtrack\u001b[0m\u001b[0;34m\u001b[0m\u001b[0;34m\u001b[0m\u001b[0m\n",
            "\u001b[0;32m/tmp/ipython-input-3188682154.py\u001b[0m in \u001b[0;36msolve\u001b[0;34m(board)\u001b[0m\n\u001b[1;32m     69\u001b[0m                         \u001b[0;32mglobal\u001b[0m \u001b[0mcounter\u001b[0m \u001b[0;31m# we use this to show how many times we backtrack, obviously not required\u001b[0m\u001b[0;34m\u001b[0m\u001b[0;34m\u001b[0m\u001b[0m\n\u001b[1;32m     70\u001b[0m                         \u001b[0mcounter\u001b[0m \u001b[0;34m+=\u001b[0m \u001b[0;36m1\u001b[0m \u001b[0;31m# TODO remove this\u001b[0m\u001b[0;34m\u001b[0m\u001b[0;34m\u001b[0m\u001b[0m\n\u001b[0;32m---> 71\u001b[0;31m                         \u001b[0;32mif\u001b[0m \u001b[0msolve\u001b[0m\u001b[0;34m(\u001b[0m\u001b[0mboard\u001b[0m\u001b[0;34m)\u001b[0m\u001b[0;34m:\u001b[0m\u001b[0;34m\u001b[0m\u001b[0;34m\u001b[0m\u001b[0m\n\u001b[0m\u001b[1;32m     72\u001b[0m                             \u001b[0;32mreturn\u001b[0m \u001b[0;32mTrue\u001b[0m\u001b[0;34m\u001b[0m\u001b[0;34m\u001b[0m\u001b[0m\n\u001b[1;32m     73\u001b[0m                         \u001b[0;31m# here this means we have a problem and need to backtrack\u001b[0m\u001b[0;34m\u001b[0m\u001b[0;34m\u001b[0m\u001b[0m\n",
            "\u001b[0;32m/tmp/ipython-input-3188682154.py\u001b[0m in \u001b[0;36msolve\u001b[0;34m(board)\u001b[0m\n\u001b[1;32m     69\u001b[0m                         \u001b[0;32mglobal\u001b[0m \u001b[0mcounter\u001b[0m \u001b[0;31m# we use this to show how many times we backtrack, obviously not required\u001b[0m\u001b[0;34m\u001b[0m\u001b[0;34m\u001b[0m\u001b[0m\n\u001b[1;32m     70\u001b[0m                         \u001b[0mcounter\u001b[0m \u001b[0;34m+=\u001b[0m \u001b[0;36m1\u001b[0m \u001b[0;31m# TODO remove this\u001b[0m\u001b[0;34m\u001b[0m\u001b[0;34m\u001b[0m\u001b[0m\n\u001b[0;32m---> 71\u001b[0;31m                         \u001b[0;32mif\u001b[0m \u001b[0msolve\u001b[0m\u001b[0;34m(\u001b[0m\u001b[0mboard\u001b[0m\u001b[0;34m)\u001b[0m\u001b[0;34m:\u001b[0m\u001b[0;34m\u001b[0m\u001b[0;34m\u001b[0m\u001b[0m\n\u001b[0m\u001b[1;32m     72\u001b[0m                             \u001b[0;32mreturn\u001b[0m \u001b[0;32mTrue\u001b[0m\u001b[0;34m\u001b[0m\u001b[0;34m\u001b[0m\u001b[0m\n\u001b[1;32m     73\u001b[0m                         \u001b[0;31m# here this means we have a problem and need to backtrack\u001b[0m\u001b[0;34m\u001b[0m\u001b[0;34m\u001b[0m\u001b[0m\n",
            "\u001b[0;32m/tmp/ipython-input-3188682154.py\u001b[0m in \u001b[0;36msolve\u001b[0;34m(board)\u001b[0m\n\u001b[1;32m     69\u001b[0m                         \u001b[0;32mglobal\u001b[0m \u001b[0mcounter\u001b[0m \u001b[0;31m# we use this to show how many times we backtrack, obviously not required\u001b[0m\u001b[0;34m\u001b[0m\u001b[0;34m\u001b[0m\u001b[0m\n\u001b[1;32m     70\u001b[0m                         \u001b[0mcounter\u001b[0m \u001b[0;34m+=\u001b[0m \u001b[0;36m1\u001b[0m \u001b[0;31m# TODO remove this\u001b[0m\u001b[0;34m\u001b[0m\u001b[0;34m\u001b[0m\u001b[0m\n\u001b[0;32m---> 71\u001b[0;31m                         \u001b[0;32mif\u001b[0m \u001b[0msolve\u001b[0m\u001b[0;34m(\u001b[0m\u001b[0mboard\u001b[0m\u001b[0;34m)\u001b[0m\u001b[0;34m:\u001b[0m\u001b[0;34m\u001b[0m\u001b[0;34m\u001b[0m\u001b[0m\n\u001b[0m\u001b[1;32m     72\u001b[0m                             \u001b[0;32mreturn\u001b[0m \u001b[0;32mTrue\u001b[0m\u001b[0;34m\u001b[0m\u001b[0;34m\u001b[0m\u001b[0m\n\u001b[1;32m     73\u001b[0m                         \u001b[0;31m# here this means we have a problem and need to backtrack\u001b[0m\u001b[0;34m\u001b[0m\u001b[0;34m\u001b[0m\u001b[0m\n",
            "\u001b[0;32m/tmp/ipython-input-3188682154.py\u001b[0m in \u001b[0;36msolve\u001b[0;34m(board)\u001b[0m\n\u001b[1;32m     69\u001b[0m                         \u001b[0;32mglobal\u001b[0m \u001b[0mcounter\u001b[0m \u001b[0;31m# we use this to show how many times we backtrack, obviously not required\u001b[0m\u001b[0;34m\u001b[0m\u001b[0;34m\u001b[0m\u001b[0m\n\u001b[1;32m     70\u001b[0m                         \u001b[0mcounter\u001b[0m \u001b[0;34m+=\u001b[0m \u001b[0;36m1\u001b[0m \u001b[0;31m# TODO remove this\u001b[0m\u001b[0;34m\u001b[0m\u001b[0;34m\u001b[0m\u001b[0m\n\u001b[0;32m---> 71\u001b[0;31m                         \u001b[0;32mif\u001b[0m \u001b[0msolve\u001b[0m\u001b[0;34m(\u001b[0m\u001b[0mboard\u001b[0m\u001b[0;34m)\u001b[0m\u001b[0;34m:\u001b[0m\u001b[0;34m\u001b[0m\u001b[0;34m\u001b[0m\u001b[0m\n\u001b[0m\u001b[1;32m     72\u001b[0m                             \u001b[0;32mreturn\u001b[0m \u001b[0;32mTrue\u001b[0m\u001b[0;34m\u001b[0m\u001b[0;34m\u001b[0m\u001b[0m\n\u001b[1;32m     73\u001b[0m                         \u001b[0;31m# here this means we have a problem and need to backtrack\u001b[0m\u001b[0;34m\u001b[0m\u001b[0;34m\u001b[0m\u001b[0m\n",
            "\u001b[0;32m/tmp/ipython-input-3188682154.py\u001b[0m in \u001b[0;36msolve\u001b[0;34m(board)\u001b[0m\n\u001b[1;32m     69\u001b[0m                         \u001b[0;32mglobal\u001b[0m \u001b[0mcounter\u001b[0m \u001b[0;31m# we use this to show how many times we backtrack, obviously not required\u001b[0m\u001b[0;34m\u001b[0m\u001b[0;34m\u001b[0m\u001b[0m\n\u001b[1;32m     70\u001b[0m                         \u001b[0mcounter\u001b[0m \u001b[0;34m+=\u001b[0m \u001b[0;36m1\u001b[0m \u001b[0;31m# TODO remove this\u001b[0m\u001b[0;34m\u001b[0m\u001b[0;34m\u001b[0m\u001b[0m\n\u001b[0;32m---> 71\u001b[0;31m                         \u001b[0;32mif\u001b[0m \u001b[0msolve\u001b[0m\u001b[0;34m(\u001b[0m\u001b[0mboard\u001b[0m\u001b[0;34m)\u001b[0m\u001b[0;34m:\u001b[0m\u001b[0;34m\u001b[0m\u001b[0;34m\u001b[0m\u001b[0m\n\u001b[0m\u001b[1;32m     72\u001b[0m                             \u001b[0;32mreturn\u001b[0m \u001b[0;32mTrue\u001b[0m\u001b[0;34m\u001b[0m\u001b[0;34m\u001b[0m\u001b[0m\n\u001b[1;32m     73\u001b[0m                         \u001b[0;31m# here this means we have a problem and need to backtrack\u001b[0m\u001b[0;34m\u001b[0m\u001b[0;34m\u001b[0m\u001b[0m\n",
            "\u001b[0;32m/tmp/ipython-input-3188682154.py\u001b[0m in \u001b[0;36msolve\u001b[0;34m(board)\u001b[0m\n\u001b[1;32m     69\u001b[0m                         \u001b[0;32mglobal\u001b[0m \u001b[0mcounter\u001b[0m \u001b[0;31m# we use this to show how many times we backtrack, obviously not required\u001b[0m\u001b[0;34m\u001b[0m\u001b[0;34m\u001b[0m\u001b[0m\n\u001b[1;32m     70\u001b[0m                         \u001b[0mcounter\u001b[0m \u001b[0;34m+=\u001b[0m \u001b[0;36m1\u001b[0m \u001b[0;31m# TODO remove this\u001b[0m\u001b[0;34m\u001b[0m\u001b[0;34m\u001b[0m\u001b[0m\n\u001b[0;32m---> 71\u001b[0;31m                         \u001b[0;32mif\u001b[0m \u001b[0msolve\u001b[0m\u001b[0;34m(\u001b[0m\u001b[0mboard\u001b[0m\u001b[0;34m)\u001b[0m\u001b[0;34m:\u001b[0m\u001b[0;34m\u001b[0m\u001b[0;34m\u001b[0m\u001b[0m\n\u001b[0m\u001b[1;32m     72\u001b[0m                             \u001b[0;32mreturn\u001b[0m \u001b[0;32mTrue\u001b[0m\u001b[0;34m\u001b[0m\u001b[0;34m\u001b[0m\u001b[0m\n\u001b[1;32m     73\u001b[0m                         \u001b[0;31m# here this means we have a problem and need to backtrack\u001b[0m\u001b[0;34m\u001b[0m\u001b[0;34m\u001b[0m\u001b[0m\n",
            "\u001b[0;32m/tmp/ipython-input-3188682154.py\u001b[0m in \u001b[0;36msolve\u001b[0;34m(board)\u001b[0m\n\u001b[1;32m     69\u001b[0m                         \u001b[0;32mglobal\u001b[0m \u001b[0mcounter\u001b[0m \u001b[0;31m# we use this to show how many times we backtrack, obviously not required\u001b[0m\u001b[0;34m\u001b[0m\u001b[0;34m\u001b[0m\u001b[0m\n\u001b[1;32m     70\u001b[0m                         \u001b[0mcounter\u001b[0m \u001b[0;34m+=\u001b[0m \u001b[0;36m1\u001b[0m \u001b[0;31m# TODO remove this\u001b[0m\u001b[0;34m\u001b[0m\u001b[0;34m\u001b[0m\u001b[0m\n\u001b[0;32m---> 71\u001b[0;31m                         \u001b[0;32mif\u001b[0m \u001b[0msolve\u001b[0m\u001b[0;34m(\u001b[0m\u001b[0mboard\u001b[0m\u001b[0;34m)\u001b[0m\u001b[0;34m:\u001b[0m\u001b[0;34m\u001b[0m\u001b[0;34m\u001b[0m\u001b[0m\n\u001b[0m\u001b[1;32m     72\u001b[0m                             \u001b[0;32mreturn\u001b[0m \u001b[0;32mTrue\u001b[0m\u001b[0;34m\u001b[0m\u001b[0;34m\u001b[0m\u001b[0m\n\u001b[1;32m     73\u001b[0m                         \u001b[0;31m# here this means we have a problem and need to backtrack\u001b[0m\u001b[0;34m\u001b[0m\u001b[0;34m\u001b[0m\u001b[0m\n",
            "\u001b[0;32m/tmp/ipython-input-3188682154.py\u001b[0m in \u001b[0;36msolve\u001b[0;34m(board)\u001b[0m\n\u001b[1;32m     69\u001b[0m                         \u001b[0;32mglobal\u001b[0m \u001b[0mcounter\u001b[0m \u001b[0;31m# we use this to show how many times we backtrack, obviously not required\u001b[0m\u001b[0;34m\u001b[0m\u001b[0;34m\u001b[0m\u001b[0m\n\u001b[1;32m     70\u001b[0m                         \u001b[0mcounter\u001b[0m \u001b[0;34m+=\u001b[0m \u001b[0;36m1\u001b[0m \u001b[0;31m# TODO remove this\u001b[0m\u001b[0;34m\u001b[0m\u001b[0;34m\u001b[0m\u001b[0m\n\u001b[0;32m---> 71\u001b[0;31m                         \u001b[0;32mif\u001b[0m \u001b[0msolve\u001b[0m\u001b[0;34m(\u001b[0m\u001b[0mboard\u001b[0m\u001b[0;34m)\u001b[0m\u001b[0;34m:\u001b[0m\u001b[0;34m\u001b[0m\u001b[0;34m\u001b[0m\u001b[0m\n\u001b[0m\u001b[1;32m     72\u001b[0m                             \u001b[0;32mreturn\u001b[0m \u001b[0;32mTrue\u001b[0m\u001b[0;34m\u001b[0m\u001b[0;34m\u001b[0m\u001b[0m\n\u001b[1;32m     73\u001b[0m                         \u001b[0;31m# here this means we have a problem and need to backtrack\u001b[0m\u001b[0;34m\u001b[0m\u001b[0;34m\u001b[0m\u001b[0m\n",
            "\u001b[0;32m/tmp/ipython-input-3188682154.py\u001b[0m in \u001b[0;36msolve\u001b[0;34m(board)\u001b[0m\n\u001b[1;32m     69\u001b[0m                         \u001b[0;32mglobal\u001b[0m \u001b[0mcounter\u001b[0m \u001b[0;31m# we use this to show how many times we backtrack, obviously not required\u001b[0m\u001b[0;34m\u001b[0m\u001b[0;34m\u001b[0m\u001b[0m\n\u001b[1;32m     70\u001b[0m                         \u001b[0mcounter\u001b[0m \u001b[0;34m+=\u001b[0m \u001b[0;36m1\u001b[0m \u001b[0;31m# TODO remove this\u001b[0m\u001b[0;34m\u001b[0m\u001b[0;34m\u001b[0m\u001b[0m\n\u001b[0;32m---> 71\u001b[0;31m                         \u001b[0;32mif\u001b[0m \u001b[0msolve\u001b[0m\u001b[0;34m(\u001b[0m\u001b[0mboard\u001b[0m\u001b[0;34m)\u001b[0m\u001b[0;34m:\u001b[0m\u001b[0;34m\u001b[0m\u001b[0;34m\u001b[0m\u001b[0m\n\u001b[0m\u001b[1;32m     72\u001b[0m                             \u001b[0;32mreturn\u001b[0m \u001b[0;32mTrue\u001b[0m\u001b[0;34m\u001b[0m\u001b[0;34m\u001b[0m\u001b[0m\n\u001b[1;32m     73\u001b[0m                         \u001b[0;31m# here this means we have a problem and need to backtrack\u001b[0m\u001b[0;34m\u001b[0m\u001b[0;34m\u001b[0m\u001b[0m\n",
            "\u001b[0;32m/tmp/ipython-input-3188682154.py\u001b[0m in \u001b[0;36msolve\u001b[0;34m(board)\u001b[0m\n\u001b[1;32m     69\u001b[0m                         \u001b[0;32mglobal\u001b[0m \u001b[0mcounter\u001b[0m \u001b[0;31m# we use this to show how many times we backtrack, obviously not required\u001b[0m\u001b[0;34m\u001b[0m\u001b[0;34m\u001b[0m\u001b[0m\n\u001b[1;32m     70\u001b[0m                         \u001b[0mcounter\u001b[0m \u001b[0;34m+=\u001b[0m \u001b[0;36m1\u001b[0m \u001b[0;31m# TODO remove this\u001b[0m\u001b[0;34m\u001b[0m\u001b[0;34m\u001b[0m\u001b[0m\n\u001b[0;32m---> 71\u001b[0;31m                         \u001b[0;32mif\u001b[0m \u001b[0msolve\u001b[0m\u001b[0;34m(\u001b[0m\u001b[0mboard\u001b[0m\u001b[0;34m)\u001b[0m\u001b[0;34m:\u001b[0m\u001b[0;34m\u001b[0m\u001b[0;34m\u001b[0m\u001b[0m\n\u001b[0m\u001b[1;32m     72\u001b[0m                             \u001b[0;32mreturn\u001b[0m \u001b[0;32mTrue\u001b[0m\u001b[0;34m\u001b[0m\u001b[0;34m\u001b[0m\u001b[0m\n\u001b[1;32m     73\u001b[0m                         \u001b[0;31m# here this means we have a problem and need to backtrack\u001b[0m\u001b[0;34m\u001b[0m\u001b[0;34m\u001b[0m\u001b[0m\n",
            "\u001b[0;32m/tmp/ipython-input-3188682154.py\u001b[0m in \u001b[0;36msolve\u001b[0;34m(board)\u001b[0m\n\u001b[1;32m     64\u001b[0m             \u001b[0;32mif\u001b[0m \u001b[0mboard\u001b[0m\u001b[0;34m[\u001b[0m\u001b[0mi\u001b[0m\u001b[0;34m]\u001b[0m\u001b[0;34m[\u001b[0m\u001b[0mj\u001b[0m\u001b[0;34m]\u001b[0m \u001b[0;34m==\u001b[0m \u001b[0;36m0\u001b[0m\u001b[0;34m:\u001b[0m \u001b[0;31m# if the cell is empty\u001b[0m\u001b[0;34m\u001b[0m\u001b[0;34m\u001b[0m\u001b[0m\n\u001b[1;32m     65\u001b[0m                 \u001b[0;32mfor\u001b[0m \u001b[0mnumber\u001b[0m \u001b[0;32min\u001b[0m \u001b[0mrange\u001b[0m\u001b[0;34m(\u001b[0m\u001b[0;36m1\u001b[0m\u001b[0;34m,\u001b[0m \u001b[0;36m10\u001b[0m\u001b[0;34m)\u001b[0m\u001b[0;34m:\u001b[0m \u001b[0;31m# we try all numbers from 1 to 9\u001b[0m\u001b[0;34m\u001b[0m\u001b[0;34m\u001b[0m\u001b[0m\n\u001b[0;32m---> 66\u001b[0;31m                     \u001b[0;32mif\u001b[0m \u001b[0mis_valid\u001b[0m\u001b[0;34m(\u001b[0m\u001b[0mboard\u001b[0m\u001b[0;34m,\u001b[0m \u001b[0mi\u001b[0m\u001b[0;34m,\u001b[0m \u001b[0mj\u001b[0m\u001b[0;34m,\u001b[0m \u001b[0mnumber\u001b[0m\u001b[0;34m)\u001b[0m\u001b[0;34m:\u001b[0m\u001b[0;34m\u001b[0m\u001b[0;34m\u001b[0m\u001b[0m\n\u001b[0m\u001b[1;32m     67\u001b[0m                         \u001b[0mboard\u001b[0m\u001b[0;34m[\u001b[0m\u001b[0mi\u001b[0m\u001b[0;34m]\u001b[0m\u001b[0;34m[\u001b[0m\u001b[0mj\u001b[0m\u001b[0;34m]\u001b[0m \u001b[0;34m=\u001b[0m \u001b[0mnumber\u001b[0m\u001b[0;34m\u001b[0m\u001b[0;34m\u001b[0m\u001b[0m\n\u001b[1;32m     68\u001b[0m                         \u001b[0mmoves\u001b[0m\u001b[0;34m.\u001b[0m\u001b[0mappend\u001b[0m\u001b[0;34m(\u001b[0m\u001b[0;34m(\u001b[0m\u001b[0mi\u001b[0m\u001b[0;34m,\u001b[0m \u001b[0mj\u001b[0m\u001b[0;34m,\u001b[0m \u001b[0mnumber\u001b[0m\u001b[0;34m)\u001b[0m\u001b[0;34m)\u001b[0m\u001b[0;34m\u001b[0m\u001b[0;34m\u001b[0m\u001b[0m\n",
            "\u001b[0;31mKeyboardInterrupt\u001b[0m: "
          ]
        }
      ],
      "source": [
        "board = [\n",
        "    [0, 0, 0, 0, 0, 0, 0, 0, 0],\n",
        "    [0, 0, 0, 0, 0, 3, 0, 8, 5],\n",
        "    [0, 0, 1, 0, 2, 0, 0, 0, 0],\n",
        "    [0, 0, 0, 5, 0, 7, 0, 0, 0],\n",
        "    [0, 0, 4, 0, 0, 0, 1, 0, 0],\n",
        "    [0, 9, 0, 0, 0, 0, 0, 0, 0],\n",
        "    [5, 0, 0, 0, 0, 0, 0, 7, 3],\n",
        "    [0, 0, 2, 0, 1, 0, 0, 0, 0],\n",
        "    [0, 0, 0, 0, 4, 0, 0, 0, 9],\n",
        "]\n",
        "\n",
        "# we will store list of tuples the moves we've made\n",
        "# so we can backtrack if we need to\n",
        "moves = []\n",
        "\n",
        "counter = 0 # TODO remove this\n",
        "\n",
        "# print how many non zero elements are there\n",
        "print(sum([1 for i in board for j in i if j != 0]))\n",
        "\n",
        "# this should take a while\n",
        "solve(board)"
      ]
    },
    {
      "cell_type": "code",
      "execution_count": 10,
      "metadata": {
        "colab": {
          "base_uri": "https://localhost:8080/"
        },
        "id": "S3EZmAi_0YiK",
        "outputId": "5d6fe103-2f20-40c0-9bec-a59f7c8ee535"
      },
      "outputs": [
        {
          "output_type": "execute_result",
          "data": {
            "text/plain": [
              "647105"
            ]
          },
          "metadata": {},
          "execution_count": 10
        }
      ],
      "source": [
        "counter\n",
        "# so 4029061 moves after 90 seconds and no end in sight"
      ]
    },
    {
      "cell_type": "markdown",
      "metadata": {
        "id": "A1JyRXT20YiL"
      },
      "source": [
        "## Blank board\n",
        "\n",
        "Technically not a true sudoku puzzle since we have multiple solutions, but we can use it to test the solver."
      ]
    },
    {
      "cell_type": "code",
      "execution_count": 11,
      "metadata": {
        "colab": {
          "base_uri": "https://localhost:8080/"
        },
        "id": "dIE_N2jE0YiM",
        "outputId": "9e19a4cb-0c72-41dc-8993-e78616c294f6"
      },
      "outputs": [
        {
          "output_type": "stream",
          "name": "stdout",
          "text": [
            "0\n"
          ]
        },
        {
          "output_type": "execute_result",
          "data": {
            "text/plain": [
              "True"
            ]
          },
          "metadata": {},
          "execution_count": 11
        }
      ],
      "source": [
        "board = [\n",
        "    [0, 0, 0, 0, 0, 0, 0, 0, 0],\n",
        "    [0, 0, 0, 0, 0, 0, 0, 0, 0],\n",
        "    [0, 0, 0, 0, 0, 0, 0, 0, 0],\n",
        "    [0, 0, 0, 0, 0, 0, 0, 0, 0],\n",
        "    [0, 0, 0, 0, 0, 0, 0, 0, 0],\n",
        "    [0, 0, 0, 0, 0, 0, 0, 0, 0],\n",
        "    [0, 0, 0, 0, 0, 0, 0, 0, 0],\n",
        "    [0, 0, 0, 0, 0, 0, 0, 0, 0],\n",
        "    [0, 0, 0, 0, 0, 0, 0, 0, 0],\n",
        "]\n",
        "\n",
        "# we will store list of tuples the moves we've made\n",
        "# so we can backtrack if we need to\n",
        "moves = []\n",
        "\n",
        "counter = 0 # TODO remove this\n",
        "\n",
        "# print how many non zero elements are there\n",
        "print(sum([1 for i in board for j in i if j != 0]))\n",
        "\n",
        "# now let's solve it\n",
        "solve(board)"
      ]
    },
    {
      "cell_type": "code",
      "execution_count": 12,
      "metadata": {
        "colab": {
          "base_uri": "https://localhost:8080/"
        },
        "id": "L3SSujS00YiO",
        "outputId": "b6f85558-1c4e-455f-adfd-9d7f0d291c4b"
      },
      "outputs": [
        {
          "output_type": "stream",
          "name": "stdout",
          "text": [
            "It took 391 moves\n"
          ]
        }
      ],
      "source": [
        "# how many moves?\n",
        "print(f\"It took {counter} moves\")"
      ]
    },
    {
      "cell_type": "code",
      "execution_count": 13,
      "metadata": {
        "colab": {
          "base_uri": "https://localhost:8080/"
        },
        "id": "DCMH0bcS0YiP",
        "outputId": "afce97ce-2232-4283-86c3-a83f1946ee20"
      },
      "outputs": [
        {
          "output_type": "stream",
          "name": "stdout",
          "text": [
            "[1, 2, 3, 4, 5, 6, 7, 8, 9]\n",
            "[4, 5, 6, 7, 8, 9, 1, 2, 3]\n",
            "[7, 8, 9, 1, 2, 3, 4, 5, 6]\n",
            "[2, 1, 4, 3, 6, 5, 8, 9, 7]\n",
            "[3, 6, 5, 8, 9, 7, 2, 1, 4]\n",
            "[8, 9, 7, 2, 1, 4, 3, 6, 5]\n",
            "[5, 3, 1, 6, 4, 2, 9, 7, 8]\n",
            "[6, 4, 2, 9, 7, 8, 5, 3, 1]\n",
            "[9, 7, 8, 5, 3, 1, 6, 4, 2]\n"
          ]
        }
      ],
      "source": [
        "# let's see the board\n",
        "print(*board, sep='\\n')"
      ]
    },
    {
      "cell_type": "markdown",
      "metadata": {
        "id": "pYqoWzNZ0YiR"
      },
      "source": [
        "## Sudoku solver with backtracking algorithm but no recursion\n",
        "\n",
        "We can reuses our helper functions but our solve function will be different. We will use a stack to store the state of the puzzle and we will use a while loop to iterate through the puzzle. We will also use a flag to indicate if we are moving forward or backward in the puzzle."
      ]
    },
    {
      "cell_type": "code",
      "execution_count": 14,
      "metadata": {
        "colab": {
          "base_uri": "https://localhost:8080/"
        },
        "id": "X3xr4GCR0YiR",
        "outputId": "bd56a342-f73b-49f8-df9c-cd1757c9ff9b"
      },
      "outputs": [
        {
          "output_type": "stream",
          "name": "stdout",
          "text": [
            "[5, 3, 4, 6, 7, 8, 9, 1, 2]\n",
            "[6, 7, 2, 1, 9, 5, 3, 4, 8]\n",
            "[1, 9, 8, 3, 4, 2, 5, 6, 7]\n",
            "[8, 5, 9, 7, 6, 1, 4, 2, 3]\n",
            "[4, 2, 6, 8, 5, 3, 7, 9, 1]\n",
            "[7, 1, 3, 9, 2, 4, 8, 5, 6]\n",
            "[9, 6, 1, 5, 3, 7, 2, 8, 4]\n",
            "[2, 8, 7, 4, 1, 9, 6, 3, 5]\n",
            "[3, 4, 5, 2, 8, 6, 1, 7, 9]\n"
          ]
        }
      ],
      "source": [
        "# so solver without recursion\n",
        "# we will need a helper function to get next legal move\n",
        "def get_next_move(board, row, column):\n",
        "    for i in range(row, 9):\n",
        "        for j in range(column, 9):\n",
        "            if board[i][j] == 0:\n",
        "                return i, j\n",
        "    return -1, -1 # so means no legal moves left w\n",
        "\n",
        "def solve_it(board):\n",
        "    moves = []\n",
        "    row, column = 0, 0\n",
        "    row, column = get_next_move(board, row, column)\n",
        "    number = 1\n",
        "    counter = 1 # we will count how many moves we've made\n",
        "    while row != -1 and column != -1:\n",
        "        counter += 1\n",
        "        if is_valid(board, row, column, number):\n",
        "            board[row][column] = number\n",
        "            moves.append((row, column, number))\n",
        "            # row, column = get_next_move(board, row, column)\n",
        "            row, column = get_next_move(board, 0, 0) # FIXME\n",
        "            number = 1\n",
        "\n",
        "        else:\n",
        "            number += 1\n",
        "            while number > 9:\n",
        "                board[row][column] = 0\n",
        "                row, column, number = moves.pop() # we remove the last move from the list (stack)\n",
        "                number += 1\n",
        "    return board, moves, counter\n",
        "\n",
        "board = [\n",
        "    [5, 3, 0, 0, 7, 0, 0, 0, 0],\n",
        "    [6, 0, 0, 1, 9, 5, 0, 0, 0],\n",
        "    [0, 9, 8, 0, 0, 0, 0, 6, 0],\n",
        "    [8, 0, 0, 0, 6, 0, 0, 0, 3],\n",
        "    [4, 0, 0, 8, 0, 3, 0, 0, 1],\n",
        "    [7, 0, 0, 0, 2, 0, 0, 0, 6],\n",
        "    [0, 6, 0, 0, 0, 0, 2, 8, 0],\n",
        "    [0, 0, 0, 4, 1, 9, 0, 0, 5],\n",
        "    [0, 0, 0, 0, 8, 0, 0, 7, 9],\n",
        "]\n",
        "solved_board, moves, tries = solve_it(board)\n",
        "print(*solved_board, sep='\\n')"
      ]
    },
    {
      "cell_type": "code",
      "execution_count": null,
      "metadata": {
        "id": "SAvMiWiY0YiT",
        "outputId": "13ceb9dd-918f-4e51-940c-7d370ff3d5c5"
      },
      "outputs": [
        {
          "data": {
            "text/plain": [
              "[(0, 2, 4),\n",
              " (0, 3, 6),\n",
              " (0, 5, 8),\n",
              " (0, 6, 9),\n",
              " (0, 7, 1),\n",
              " (0, 8, 2),\n",
              " (1, 1, 7),\n",
              " (1, 2, 2),\n",
              " (1, 6, 3),\n",
              " (1, 7, 4),\n",
              " (1, 8, 8),\n",
              " (2, 0, 1),\n",
              " (2, 3, 3),\n",
              " (2, 4, 4),\n",
              " (2, 5, 2),\n",
              " (2, 6, 5),\n",
              " (2, 8, 7),\n",
              " (3, 1, 5),\n",
              " (3, 2, 9),\n",
              " (3, 3, 7),\n",
              " (3, 5, 1),\n",
              " (3, 6, 4),\n",
              " (3, 7, 2),\n",
              " (4, 1, 2),\n",
              " (4, 2, 6),\n",
              " (4, 4, 5),\n",
              " (4, 6, 7),\n",
              " (4, 7, 9),\n",
              " (5, 1, 1),\n",
              " (5, 2, 3),\n",
              " (5, 3, 9),\n",
              " (5, 5, 4),\n",
              " (5, 6, 8),\n",
              " (5, 7, 5),\n",
              " (6, 0, 9),\n",
              " (6, 2, 1),\n",
              " (6, 3, 5),\n",
              " (6, 4, 3),\n",
              " (6, 5, 7),\n",
              " (6, 8, 4),\n",
              " (7, 0, 2),\n",
              " (7, 1, 8),\n",
              " (7, 2, 7),\n",
              " (7, 6, 6),\n",
              " (7, 7, 3),\n",
              " (8, 0, 3),\n",
              " (8, 1, 4),\n",
              " (8, 2, 5),\n",
              " (8, 3, 2),\n",
              " (8, 5, 6),\n",
              " (8, 6, 1)]"
            ]
          },
          "execution_count": 31,
          "metadata": {},
          "output_type": "execute_result"
        }
      ],
      "source": [
        "moves"
      ]
    },
    {
      "cell_type": "code",
      "execution_count": null,
      "metadata": {
        "id": "QlizTpB-0YiT",
        "outputId": "565209a8-3ea7-4d55-ff24-c0c4123b5e1d"
      },
      "outputs": [
        {
          "name": "stdout",
          "output_type": "stream",
          "text": [
            "[5, 3, 4, 6, 7, 8, 9, 1, 2]\n",
            "[6, 7, 2, 1, 9, 5, 3, 4, 8]\n",
            "[1, 9, 8, 3, 4, 2, 5, 6, 7]\n",
            "[8, 5, 9, 7, 6, 1, 4, 2, 3]\n",
            "[4, 2, 6, 8, 5, 3, 7, 9, 1]\n",
            "[7, 1, 3, 9, 2, 4, 8, 5, 6]\n",
            "[9, 6, 1, 5, 3, 7, 2, 8, 4]\n",
            "[2, 8, 7, 4, 1, 9, 6, 3, 5]\n",
            "[3, 4, 5, 2, 8, 6, 1, 7, 9]\n"
          ]
        }
      ],
      "source": [
        "print(*board, sep='\\n')"
      ]
    },
    {
      "cell_type": "code",
      "execution_count": null,
      "metadata": {
        "id": "DiMYQc8y0YiU"
      },
      "outputs": [],
      "source": []
    },
    {
      "cell_type": "code",
      "execution_count": 15,
      "metadata": {
        "colab": {
          "base_uri": "https://localhost:8080/"
        },
        "id": "tZdUOHuk0YiU",
        "outputId": "f651c1e9-6a30-4ba3-d132-6ed3013ff9d5"
      },
      "outputs": [
        {
          "output_type": "stream",
          "name": "stdout",
          "text": [
            "It took 37653 moves\n"
          ]
        }
      ],
      "source": [
        "print(f'It took {tries} moves')"
      ]
    },
    {
      "cell_type": "markdown",
      "source": [
        "## Sudoku solver that backtracks from reverse"
      ],
      "metadata": {
        "id": "V3o15eYv7pM1"
      }
    },
    {
      "cell_type": "code",
      "source": [
        "# Sudoku solver that backtracks from reverse\n",
        "def get_next_empty_reverse(board):\n",
        "    \"\"\"Finds the next empty cell (0) in the board, starting from the bottom right.\"\"\"\n",
        "    for i in range(8, -1, -1):\n",
        "        for j in range(8, -1, -1):\n",
        "            if board[i][j] == 0:\n",
        "                return i, j\n",
        "    return -1, -1 # No empty cells left\n",
        "\n",
        "\n",
        "def solve_reverse(board, verbose=False):\n",
        "    \"\"\"\n",
        "    Solves a Sudoku board using an iterative backtracking algorithm,\n",
        "    starting from the last cell.\n",
        "\n",
        "    Args:\n",
        "        board: A 9x9 list of lists representing the Sudoku board.\n",
        "        verbose: If True, prints information about the solving process.\n",
        "\n",
        "    Returns:\n",
        "        A tuple containing the solved board and a list of moves made.\n",
        "    \"\"\"\n",
        "    moves = []\n",
        "    row, column = get_next_empty_reverse(board)\n",
        "    # Start trying numbers from 1 to 9\n",
        "    number = 1\n",
        "    counter = 0\n",
        "\n",
        "    while row != -1 or column != -1:\n",
        "        counter += 1\n",
        "        if is_valid(board, row, column, number):\n",
        "            board[row][column] = number\n",
        "            moves.append((row, column, number))\n",
        "            row, column = get_next_empty_reverse(board)\n",
        "            number = 1 # Reset number for the new empty cell\n",
        "        else:\n",
        "            number += 1\n",
        "            while number > 9:\n",
        "                # Backtrack: if no number works, reset the current cell and\n",
        "                # move to the previous cell, trying the next number there.\n",
        "                board[row][column] = 0\n",
        "                if not moves: # If moves is empty, no solution\n",
        "                    return None, None # Could not solve\n",
        "                row, column, number = moves.pop()\n",
        "                number += 1 # Try the next number in the previous cell\n",
        "\n",
        "    if verbose:\n",
        "        print(f\"It took {counter} moves\")\n",
        "\n",
        "    return board, moves\n",
        "\n",
        "# Example usage (you can add your own board here)\n",
        "# board_to_solve = [\n",
        "#     [5, 3, 0, 0, 7, 0, 0, 0, 0],\n",
        "#     [6, 0, 0, 1, 9, 5, 0, 0, 0],\n",
        "#     [0, 9, 8, 0, 0, 0, 0, 6, 0],\n",
        "#     [8, 0, 0, 0, 6, 0, 0, 0, 3],\n",
        "#     [4, 0, 0, 8, 0, 3, 0, 0, 1],\n",
        "#     [7, 0, 0, 0, 2, 0, 0, 0, 6],\n",
        "#     [0, 6, 0, 0, 0, 0, 2, 8, 0],\n",
        "#     [0, 0, 0, 4, 1, 9, 0, 0, 5],\n",
        "#     [0, 0, 0, 0, 8, 0, 0, 7, 9],\n",
        "# ]\n",
        "\n",
        "# solved_board_reverse, moves_reverse = solve_reverse(board_to_solve.copy(), verbose=True)\n",
        "\n",
        "# if solved_board_reverse:\n",
        "#     print(\"\\nSolved Board (Reverse):\")\n",
        "#     print(*solved_board_reverse, sep='\\n')\n",
        "# else:\n",
        "#     print(\"Could not solve the board.\")"
      ],
      "metadata": {
        "id": "Ac9b7ZiO7uyA"
      },
      "execution_count": 16,
      "outputs": []
    },
    {
      "cell_type": "code",
      "source": [
        "# let's solve the hard board using solve_reverse\n",
        "hard_board = [\n",
        "    [0, 0, 0, 0, 0, 0, 0, 0, 0],\n",
        "    [0, 0, 0, 0, 0, 3, 0, 8, 5],\n",
        "    [0, 0, 1, 0, 2, 0, 0, 0, 0],\n",
        "    [0, 0, 0, 5, 0, 7, 0, 0, 0],\n",
        "    [0, 0, 4, 0, 0, 0, 1, 0, 0],\n",
        "    [0, 9, 0, 0, 0, 0, 0, 0, 0],\n",
        "    [5, 0, 0, 0, 0, 0, 0, 7, 3],\n",
        "    [0, 0, 2, 0, 1, 0, 0, 0, 0],\n",
        "    [0, 0, 0, 0, 4, 0, 0, 0, 9],\n",
        "]\n",
        "solved_board_reverse, moves_reverse = solve_reverse(hard_board.copy(), verbose=True)\n",
        "# print solved board\n",
        "print(*solved_board_reverse, sep='\\n')"
      ],
      "metadata": {
        "colab": {
          "base_uri": "https://localhost:8080/"
        },
        "id": "8C86ZjZ-8b6Y",
        "outputId": "9dde1cff-d304-4441-df9e-2a3535b56dc8"
      },
      "execution_count": 18,
      "outputs": [
        {
          "output_type": "stream",
          "name": "stdout",
          "text": [
            "It took 4664219 moves\n",
            "[9, 8, 7, 6, 5, 4, 3, 2, 1]\n",
            "[2, 4, 6, 1, 7, 3, 9, 8, 5]\n",
            "[3, 5, 1, 9, 2, 8, 7, 4, 6]\n",
            "[1, 2, 8, 5, 3, 7, 6, 9, 4]\n",
            "[6, 3, 4, 8, 9, 2, 1, 5, 7]\n",
            "[7, 9, 5, 4, 6, 1, 8, 3, 2]\n",
            "[5, 1, 9, 2, 8, 6, 4, 7, 3]\n",
            "[4, 7, 2, 3, 1, 9, 5, 6, 8]\n",
            "[8, 6, 3, 7, 4, 5, 2, 1, 9]\n"
          ]
        }
      ]
    },
    {
      "cell_type": "markdown",
      "source": [
        "## Solving Sudoku with Random order"
      ],
      "metadata": {
        "id": "CFZXS5-s9Fy7"
      }
    },
    {
      "cell_type": "code",
      "source": [
        "import random\n",
        "\n",
        "def get_empty_cells(board):\n",
        "    \"\"\"Finds all empty cells (0) in the board and returns their coordinates.\"\"\"\n",
        "    empty_cells = []\n",
        "    for i in range(9):\n",
        "        for j in range(9):\n",
        "            if board[i][j] == 0:\n",
        "                empty_cells.append((i, j))\n",
        "    return empty_cells\n",
        "\n",
        "def solve_sudoku_random(board, verbose=False):\n",
        "    \"\"\"\n",
        "    Solves a Sudoku board using a backtracking algorithm, trying empty cells\n",
        "    in a random order.\n",
        "\n",
        "    Args:\n",
        "        board: A 9x9 list of lists representing the Sudoku board.\n",
        "        verbose: If True, prints information about the solving process.\n",
        "\n",
        "    Returns:\n",
        "        The solved board, or None if no solution is found.\n",
        "    \"\"\"\n",
        "    empty_cells = get_empty_cells(board)\n",
        "    random.shuffle(empty_cells) # Shuffle the order of empty cells\n",
        "\n",
        "    if not empty_cells:\n",
        "        return board # Board is already solved\n",
        "\n",
        "    row, column = empty_cells[0] # Get the first empty cell in the shuffled list\n",
        "\n",
        "    for number in range(1, 10):\n",
        "        if is_valid(board, row, column, number):\n",
        "            board[row][column] = number\n",
        "            # Recursively call solve_sudoku_random for the rest of the empty cells\n",
        "            if solve_sudoku_random(board, verbose):\n",
        "                return board\n",
        "            # Backtrack\n",
        "            board[row][column] = 0\n",
        "\n",
        "    return None # No number worked for this cell\n",
        "\n",
        "# Example usage (you can add your own board here)\n",
        "# board_to_solve = [\n",
        "#     [5, 3, 0, 0, 7, 0, 0, 0, 0],\n",
        "#     [6, 0, 0, 1, 9, 5, 0, 0, 0],\n",
        "#     [0, 9, 8, 0, 0, 0, 0, 6, 0],\n",
        "#     [8, 0, 0, 0, 6, 0, 0, 0, 3],\n",
        "#     [4, 0, 0, 8, 0, 3, 0, 0, 1],\n",
        "#     [7, 0, 0, 0, 2, 0, 0, 0, 6],\n",
        "#     [0, 6, 0, 0, 0, 0, 2, 8, 0],\n",
        "#     [0, 0, 0, 4, 1, 9, 0, 0, 5],\n",
        "#     [0, 0, 0, 0, 8, 0, 0, 7, 9],\n",
        "# ]\n",
        "\n",
        "# solved_board_random = solve_sudoku_random(board_to_solve.copy(), verbose=True)\n",
        "\n",
        "# if solved_board_random:\n",
        "#     print(\"\\nSolved Board (Random):\")\n",
        "#     print(*solved_board_random, sep='\\n')\n",
        "# else:\n",
        "#     print(\"Could not solve the board.\")"
      ],
      "metadata": {
        "id": "E6r1CW0K9OY5"
      },
      "execution_count": 20,
      "outputs": []
    },
    {
      "cell_type": "code",
      "source": [
        "# let's try the random solver on the hard board\n",
        "solved_board_random = solve_sudoku_random(hard_board.copy(), verbose=True)\n",
        "# print solved board\n",
        "print(*solved_board_random, sep='\\n') if solved_board_random else print(\"Could not solve the board.\")"
      ],
      "metadata": {
        "colab": {
          "base_uri": "https://localhost:8080/"
        },
        "id": "YI-VET3K9zXj",
        "outputId": "217714ff-bd8e-453c-e15e-dee699bf64c7"
      },
      "execution_count": 21,
      "outputs": [
        {
          "output_type": "stream",
          "name": "stdout",
          "text": [
            "[9, 8, 7, 6, 5, 4, 3, 2, 1]\n",
            "[2, 4, 6, 1, 7, 3, 9, 8, 5]\n",
            "[3, 5, 1, 9, 2, 8, 7, 4, 6]\n",
            "[1, 2, 8, 5, 3, 7, 6, 9, 4]\n",
            "[6, 3, 4, 8, 9, 2, 1, 5, 7]\n",
            "[7, 9, 5, 4, 6, 1, 8, 3, 2]\n",
            "[5, 1, 9, 2, 8, 6, 4, 7, 3]\n",
            "[4, 7, 2, 3, 1, 9, 5, 6, 8]\n",
            "[8, 6, 3, 7, 4, 5, 2, 1, 9]\n"
          ]
        }
      ]
    },
    {
      "cell_type": "code",
      "source": [],
      "metadata": {
        "id": "cwBM3YXf-FjT"
      },
      "execution_count": 23,
      "outputs": []
    },
    {
      "cell_type": "code",
      "source": [
        "# now let's solve the hard puzzle with iterative random strategy\n",
        "solved_board_random_iterative = solve_sudoku_random_iterative(hard_board.copy(), verbose=True)\n",
        "# print solved board\n",
        "print(*solved_board_random_iterative, sep='\\n')"
      ],
      "metadata": {
        "colab": {
          "base_uri": "https://localhost:8080/"
        },
        "id": "gLogk3yV-vs7",
        "outputId": "df9844d6-a84d-4b71-cf97-db15913b35e0"
      },
      "execution_count": 24,
      "outputs": [
        {
          "output_type": "stream",
          "name": "stdout",
          "text": [
            "[9, 8, 7, 6, 5, 4, 3, 2, 1]\n",
            "[2, 4, 6, 1, 7, 3, 9, 8, 5]\n",
            "[3, 5, 1, 9, 2, 8, 7, 4, 6]\n",
            "[1, 2, 8, 5, 3, 7, 6, 9, 4]\n",
            "[6, 3, 4, 8, 9, 2, 1, 5, 7]\n",
            "[7, 9, 5, 4, 6, 1, 8, 3, 2]\n",
            "[5, 1, 9, 2, 8, 6, 4, 7, 3]\n",
            "[4, 7, 2, 3, 1, 9, 5, 6, 8]\n",
            "[8, 6, 3, 7, 4, 5, 2, 1, 9]\n"
          ]
        }
      ]
    },
    {
      "cell_type": "markdown",
      "source": [
        "## Possible improvements\n",
        "\n",
        "* We could improve our sorting of cells\n",
        "* This could involve some heuristic (rules) to determine which cells are better filled first\n",
        "* One approach would be to look for cells with MOST constraints/conflicts - less choice\n",
        "\n",
        "* Downside: if our heuristics take too long, our backtracking algorithm might actually slow down"
      ],
      "metadata": {
        "id": "D2Pzam6e_BbX"
      }
    },
    {
      "cell_type": "markdown",
      "metadata": {
        "id": "K8SbfYfS0YiV"
      },
      "source": [
        "## Bonus add API access for more puzzles\n",
        "\n",
        "There is an API at https://sudoku-api.vercel.app/api/dosuku that we can use to get more puzzles.\n",
        "\n",
        "So you could use json library together with requests to get more puzzles."
      ]
    },
    {
      "cell_type": "code",
      "source": [
        "import requests\n",
        "import json\n",
        "\n",
        "def get_sudoku_puzzle(url=\"https://sudoku-api.vercel.app/api/dosuku\"):\n",
        "    \"\"\"\n",
        "    Fetches a Sudoku puzzle and its solution from the specified API.\n",
        "\n",
        "    Args:\n",
        "        url: The URL of the Sudoku API.\n",
        "\n",
        "    Returns:\n",
        "        A tuple containing the puzzle board and the solution board as 2D lists,\n",
        "        or (None, None) if the request fails or the data is not in the expected format.\n",
        "    \"\"\"\n",
        "    try:\n",
        "        response = requests.get(url)\n",
        "        response.raise_for_status()  # Raise an HTTPError for bad responses (4xx or 5xx)\n",
        "        data = response.json()\n",
        "\n",
        "        # Extract the board and solution based on the specified structure\n",
        "        if 'newboard' in data and 'grids' in data['newboard'] and len(data['newboard']['grids']) > 0:\n",
        "            puzzle_data = data['newboard']['grids'][0]\n",
        "            if 'value' in puzzle_data and 'solution' in puzzle_data:\n",
        "                board = puzzle_data['value']\n",
        "                solution = puzzle_data['solution']\n",
        "                return board, solution\n",
        "            else:\n",
        "                print(\"Error: 'value' or 'solution' not found in the puzzle data.\")\n",
        "                return None, None\n",
        "        else:\n",
        "            print(\"Error: Unexpected data structure from the API.\")\n",
        "            return None, None\n",
        "\n",
        "    except requests.exceptions.RequestException as e:\n",
        "        print(f\"Error fetching data from API: {e}\")\n",
        "        return None, None\n",
        "    except json.JSONDecodeError:\n",
        "        print(\"Error: Could not decode JSON response.\")\n",
        "        return None, None\n",
        "\n",
        "# Example usage:\n",
        "puzzle_board, solution_board = get_sudoku_puzzle()\n",
        "\n",
        "if puzzle_board and solution_board:\n",
        "    print(\"Puzzle Board:\")\n",
        "    print(*puzzle_board, sep='\\n')\n",
        "    print(\"\\nSolution Board:\")\n",
        "    print(*solution_board, sep='\\n')"
      ],
      "metadata": {
        "colab": {
          "base_uri": "https://localhost:8080/"
        },
        "id": "5ePNZZnbABen",
        "outputId": "13219a18-832a-437b-dd32-0a25c831a5dc"
      },
      "execution_count": 25,
      "outputs": [
        {
          "output_type": "stream",
          "name": "stdout",
          "text": [
            "Puzzle Board:\n",
            "[0, 0, 5, 2, 0, 6, 4, 0, 0]\n",
            "[0, 0, 8, 4, 0, 0, 6, 7, 0]\n",
            "[0, 6, 7, 0, 1, 0, 0, 2, 0]\n",
            "[0, 1, 4, 7, 0, 0, 0, 3, 0]\n",
            "[8, 7, 0, 1, 0, 0, 0, 0, 0]\n",
            "[0, 2, 0, 0, 0, 0, 0, 4, 0]\n",
            "[0, 0, 1, 0, 0, 7, 8, 6, 0]\n",
            "[0, 8, 6, 5, 0, 1, 0, 9, 0]\n",
            "[0, 5, 0, 6, 3, 8, 7, 1, 0]\n",
            "\n",
            "Solution Board:\n",
            "[1, 3, 5, 2, 7, 6, 4, 8, 9]\n",
            "[2, 9, 8, 4, 5, 3, 6, 7, 1]\n",
            "[4, 6, 7, 8, 1, 9, 5, 2, 3]\n",
            "[5, 1, 4, 7, 6, 2, 9, 3, 8]\n",
            "[8, 7, 3, 1, 9, 4, 2, 5, 6]\n",
            "[6, 2, 9, 3, 8, 5, 1, 4, 7]\n",
            "[3, 4, 1, 9, 2, 7, 8, 6, 5]\n",
            "[7, 8, 6, 5, 4, 1, 3, 9, 2]\n",
            "[9, 5, 2, 6, 3, 8, 7, 1, 4]\n"
          ]
        }
      ]
    },
    {
      "cell_type": "code",
      "source": [
        "type(puzzle_board)"
      ],
      "metadata": {
        "id": "hv7Ewjf1Bfh5",
        "outputId": "8efe3237-1cb2-4b75-e0ae-884827d258e5",
        "colab": {
          "base_uri": "https://localhost:8080/"
        }
      },
      "execution_count": 27,
      "outputs": [
        {
          "output_type": "execute_result",
          "data": {
            "text/plain": [
              "list"
            ]
          },
          "metadata": {},
          "execution_count": 27
        }
      ]
    },
    {
      "cell_type": "code",
      "source": [
        "# let's solve the puzzle board by all 3 backtracking approachs, normal, reverse, and random order\n",
        "# solved_board_normal, moves_normal = solve_it(puzzle_board.copy())\n",
        "solved_board_reverse, moves_reverse = solve_reverse(puzzle_board.copy())\n",
        "solved_board_random = solve_sudoku_random(puzzle_board.copy())"
      ],
      "metadata": {
        "id": "7JksufY5BKL4"
      },
      "execution_count": 28,
      "outputs": []
    },
    {
      "cell_type": "code",
      "source": [
        "# let's see the solutions for reverse and random\n",
        "print(*solved_board_reverse, sep='\\n')\n",
        "print(\"*\"*40)\n",
        "print(*solved_board_random, sep='\\n')"
      ],
      "metadata": {
        "id": "Q05b83zHBlPg",
        "outputId": "9a09eb03-f8d8-4434-8592-c0d5abf52daa",
        "colab": {
          "base_uri": "https://localhost:8080/"
        }
      },
      "execution_count": 30,
      "outputs": [
        {
          "output_type": "stream",
          "name": "stdout",
          "text": [
            "[1, 3, 5, 2, 7, 6, 4, 8, 9]\n",
            "[2, 9, 8, 4, 5, 3, 6, 7, 1]\n",
            "[4, 6, 7, 8, 1, 9, 5, 2, 3]\n",
            "[5, 1, 4, 7, 6, 2, 9, 3, 8]\n",
            "[8, 7, 3, 1, 9, 4, 2, 5, 6]\n",
            "[6, 2, 9, 3, 8, 5, 1, 4, 7]\n",
            "[3, 4, 1, 9, 2, 7, 8, 6, 5]\n",
            "[7, 8, 6, 5, 4, 1, 3, 9, 2]\n",
            "[9, 5, 2, 6, 3, 8, 7, 1, 4]\n",
            "****************************************\n",
            "[1, 3, 5, 2, 7, 6, 4, 8, 9]\n",
            "[2, 9, 8, 4, 5, 3, 6, 7, 1]\n",
            "[4, 6, 7, 8, 1, 9, 5, 2, 3]\n",
            "[5, 1, 4, 7, 6, 2, 9, 3, 8]\n",
            "[8, 7, 3, 1, 9, 4, 2, 5, 6]\n",
            "[6, 2, 9, 3, 8, 5, 1, 4, 7]\n",
            "[3, 4, 1, 9, 2, 7, 8, 6, 5]\n",
            "[7, 8, 6, 5, 4, 1, 3, 9, 2]\n",
            "[9, 5, 2, 6, 3, 8, 7, 1, 4]\n"
          ]
        }
      ]
    },
    {
      "cell_type": "code",
      "source": [
        "# TODO time all 3 solutions and see which one works the fastest"
      ],
      "metadata": {
        "id": "3W0KprYuBuzA"
      },
      "execution_count": null,
      "outputs": []
    }
  ],
  "metadata": {
    "kernelspec": {
      "display_name": "Python 3",
      "language": "python",
      "name": "python3"
    },
    "language_info": {
      "codemirror_mode": {
        "name": "ipython",
        "version": 3
      },
      "file_extension": ".py",
      "mimetype": "text/x-python",
      "name": "python",
      "nbconvert_exporter": "python",
      "pygments_lexer": "ipython3",
      "version": "3.12.1"
    },
    "colab": {
      "provenance": []
    }
  },
  "nbformat": 4,
  "nbformat_minor": 0
}