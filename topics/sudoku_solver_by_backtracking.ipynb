{
 "cells": [
  {
   "cell_type": "markdown",
   "metadata": {},
   "source": [
    "# Sudoku solver using backtracking algorithm\n",
    "\n",
    "Basic idea is to use backtracking algorithm to solve the sudoku puzzle. The algorithm works as follows:\n",
    "1. Find the first empty cell in the puzzle\n",
    "2. Try to fill the cell with a number from 1 to 9\n",
    "3. If the number is valid, move to the next cell and repeat the process\n",
    "4. If the number is not valid, try the next number\n",
    "5. If no number is valid, backtrack to the previous cell and try the next number\n",
    "6. Repeat the process until the puzzle is solved\n",
    "\n",
    "So essentially this is a depth-first search algorithm.\n",
    "We will need to implement some helper functions to check if a number is valid in a given cell, and to find the next empty cell in the puzzle.\n",
    "\n",
    "We will be moving row by row, and for each row we will move column by column. We will also need to check the 3x3 subgrids to make sure the number is not repeated in the subgrid.\n",
    "\n",
    "We will also need to store previous states of the puzzle to be able to backtrack when we reach a dead end."
   ]
  },
  {
   "cell_type": "code",
   "execution_count": null,
   "metadata": {},
   "outputs": [],
   "source": [
    "# we sill fill sudoko board with all 0's for now so 9x9 list of lists\n",
    "board = [\n",
    "    [0, 0, 0, 0, 0, 0, 0, 0, 0],\n",
    "    [0, 0, 0, 0, 0, 0, 0, 0, 0],\n",
    "    [0, 0, 0, 0, 0, 0, 0, 0, 0],\n",
    "    [0, 0, 0, 0, 0, 0, 0, 0, 0],\n",
    "    [0, 0, 0, 0, 0, 0, 0, 0, 0],\n",
    "    [0, 0, 0, 0, 0, 0, 0, 0, 0],\n",
    "    [0, 0, 0, 0, 0, 0, 0, 0, 0],\n",
    "    [0, 0, 0, 0, 0, 0, 0, 0, 0],\n",
    "    [0, 0, 0, 0, 0, 0, 0, 0, 0],\n",
    "]\n",
    "\n",
    "# we will store list of tuples the moves we've made\n",
    "# so we can backtrack if we need to\n",
    "moves = []\n",
    "\n",
    "# then we will need 3 functions to check whether move is valid\n",
    "# 1. check row\n",
    "# 2. check column\n",
    "# 3. check square\n",
    "# we will write these functions first\n",
    "\n",
    "def check_row(board, row, number):\n",
    "    # we will iterate through the row and check if number is already present\n",
    "    for i in range(9): # TODO think if this can be optimized\n",
    "        if board[row][i] == number:\n",
    "            return False\n",
    "    return True\n",
    "\n",
    "def check_column(board, column, number):\n",
    "    # we will iterate through the column and check if number is already present\n",
    "    for i in range(9): # TODO think if this can be optimized\n",
    "        if board[i][column] == number:\n",
    "            return False\n",
    "    return True\n",
    "\n",
    "def check_square(board, row, column, number):\n",
    "    # we will iterate through the square and check if number is already present\n",
    "    # we will use integer division to find the start of the square\n",
    "    start_row = (row // 3) * 3 # so we use // integer division to find the start of the square\n",
    "    start_column = (column // 3) * 3\n",
    "    for i in range(3):\n",
    "        for j in range(3):\n",
    "            if board[start_row + i][start_column + j] == number:\n",
    "                return False\n",
    "    return True\n",
    "\n",
    "# now a function to check if move is valid\n",
    "def is_valid(board, row, column, number):\n",
    "    return check_row(board, row, number) and check_column(board, column, number) and check_square(board, row, column, number)"
   ]
  }
 ],
 "metadata": {
  "kernelspec": {
   "display_name": "Python 3",
   "language": "python",
   "name": "python3"
  },
  "language_info": {
   "name": "python",
   "version": "3.10.7"
  }
 },
 "nbformat": 4,
 "nbformat_minor": 2
}
