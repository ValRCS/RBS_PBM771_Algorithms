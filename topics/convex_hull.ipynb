{
  "cells": [
    {
      "cell_type": "markdown",
      "metadata": {
        "id": "L1i8Vj69IKj5"
      },
      "source": [
        "# Convex Hull\n",
        "\n",
        "![convex hull](https://upload.wikimedia.org/wikipedia/commons/thumb/d/de/ConvexHull.svg/440px-ConvexHull.svg.png)"
      ]
    },
    {
      "cell_type": "markdown",
      "metadata": {
        "id": "wpQVmnL7IKj9"
      },
      "source": [
        "## Convex Hull Problem Description\n",
        "\n",
        "We are creating a convex polygon: https://en.wikipedia.org/wiki/Convex_polygon\n",
        "\n",
        "The Convex Hull problem is a fundamental problem in computational geometry that deals with finding the smallest convex polygon that contains all the points in a given set. In simple terms, imagine you have a set of points on a plane, and you want to create a rubber band that stretches around these points such that it encloses all of them. When the rubber band is released, it will contract and wrap around the outermost points, forming the convex hull of the set.\n",
        "\n",
        "Mathematically, a set of points S in a Euclidean space is said to be convex if for every pair of points P and Q in S, the line segment connecting P and Q lies entirely within S. The convex hull is the smallest convex set containing all the points in the given set.\n",
        "\n",
        "In computational geometry, the Convex Hull problem has several applications, such as collision detection in video games, path planning in robotics, and shape analysis in computer vision.\n",
        "\n",
        "There are various algorithms to solve the Convex Hull problem, some of which are:\n",
        "\n",
        "* Graham's Scan: This algorithm sorts the points by their polar angles and processes them in a stack to build the convex hull. Its time complexity is O(n log n), as the most time-consuming step is sorting the points.\n",
        "\n",
        "* Gift Wrapping Algorithm (Jarvis March): This algorithm starts with the leftmost point and iteratively selects the next point by wrapping around the set in a counter-clockwise direction. Its time complexity is O(nh), where n is the number of input points, and h is the number of points in the convex hull.\n",
        "\n",
        "\n",
        "* QuickHull: This algorithm is a recursive divide-and-conquer approach, similar to the QuickSort algorithm. It selects extreme points and divides the input set into subsets based on their position relative to the line connecting the extreme points. The time complexity of QuickHull is O(n log n) in the average case, but it can degrade to O(n^2) in the worst case.\n",
        "\n",
        "* Chan's Algorithm: This algorithm is a combination of Graham's Scan and Jarvis March. It computes the convex hull in O(n log h) time, making it an optimal output-sensitive algorithm.\n",
        "\n",
        "\n",
        "\n",
        "Each of these algorithms has its strengths and weaknesses, and the choice of which one to use depends on factors such as the input size, expected output size, and available computational resources.\n"
      ]
    },
    {
      "cell_type": "markdown",
      "metadata": {
        "id": "HvTEs67QJYSw"
      },
      "source": [
        "## QuickHull algorithm\n",
        "\n",
        "\n",
        "\n",
        "![QuickHull](https://upload.wikimedia.org/wikipedia/commons/thumb/4/42/Animation_depicting_the_quickhull_algorithm.gif/330px-Animation_depicting_the_quickhull_algorithm.gif)\n",
        "\n",
        "wiki: https://en.wikipedia.org/wiki/Quickhull"
      ]
    },
    {
      "cell_type": "code",
      "execution_count": null,
      "metadata": {},
      "outputs": [],
      "source": [
        "# let's implement a quickhull algorithm for finding convex hulls given a set of points in 2D space\n",
        "\n",
        "# main idea: find the two points with the maximum distance between them, and then divide the set of points into two sets\n",
        "# based on the line that passes through these two points. Then, recursively find the convex hulls of these two sets of points\n",
        "# and merge them together to get the final convex hull\n",
        "# wiki: https://en.wikipedia.org/wiki/Quickhull"
      ]
    },
    {
      "cell_type": "code",
      "execution_count": 3,
      "metadata": {},
      "outputs": [
        {
          "name": "stdout",
          "output_type": "stream",
          "text": [
            "Collecting matplotlib\n",
            "  Obtaining dependency information for matplotlib from https://files.pythonhosted.org/packages/27/75/de5b9cd67648051cae40039da0c8cbc497a0d99acb1a1f3d087cd66d27b7/matplotlib-3.9.2-cp312-cp312-manylinux_2_17_x86_64.manylinux2014_x86_64.whl.metadata\n",
            "  Downloading matplotlib-3.9.2-cp312-cp312-manylinux_2_17_x86_64.manylinux2014_x86_64.whl.metadata (11 kB)\n",
            "Collecting contourpy>=1.0.1 (from matplotlib)\n",
            "  Obtaining dependency information for contourpy>=1.0.1 from https://files.pythonhosted.org/packages/6e/be/524e377567defac0e21a46e2a529652d165fed130a0d8a863219303cee18/contourpy-1.3.0-cp312-cp312-manylinux_2_17_x86_64.manylinux2014_x86_64.whl.metadata\n",
            "  Downloading contourpy-1.3.0-cp312-cp312-manylinux_2_17_x86_64.manylinux2014_x86_64.whl.metadata (5.4 kB)\n",
            "Collecting cycler>=0.10 (from matplotlib)\n",
            "  Obtaining dependency information for cycler>=0.10 from https://files.pythonhosted.org/packages/e7/05/c19819d5e3d95294a6f5947fb9b9629efb316b96de511b418c53d245aae6/cycler-0.12.1-py3-none-any.whl.metadata\n",
            "  Downloading cycler-0.12.1-py3-none-any.whl.metadata (3.8 kB)\n",
            "Collecting fonttools>=4.22.0 (from matplotlib)\n",
            "  Obtaining dependency information for fonttools>=4.22.0 from https://files.pythonhosted.org/packages/08/07/aa85cc62abcc940b25d14b542cf585eebf4830032a7f6a1395d696bb3231/fonttools-4.54.1-cp312-cp312-manylinux_2_5_x86_64.manylinux1_x86_64.manylinux_2_17_x86_64.manylinux2014_x86_64.whl.metadata\n",
            "  Downloading fonttools-4.54.1-cp312-cp312-manylinux_2_5_x86_64.manylinux1_x86_64.manylinux_2_17_x86_64.manylinux2014_x86_64.whl.metadata (163 kB)\n",
            "\u001b[2K     \u001b[90m━━━━━━━━━━━━━━━━━━━━━━━━━━━━━━━━━━━━━━━\u001b[0m \u001b[32m163.7/163.7 kB\u001b[0m \u001b[31m4.9 MB/s\u001b[0m eta \u001b[36m0:00:00\u001b[0m\n",
            "\u001b[?25hCollecting kiwisolver>=1.3.1 (from matplotlib)\n",
            "  Obtaining dependency information for kiwisolver>=1.3.1 from https://files.pythonhosted.org/packages/21/e4/c0b6746fd2eb62fe702118b3ca0cb384ce95e1261cfada58ff693aeec08a/kiwisolver-1.4.7-cp312-cp312-manylinux_2_17_x86_64.manylinux2014_x86_64.whl.metadata\n",
            "  Downloading kiwisolver-1.4.7-cp312-cp312-manylinux_2_17_x86_64.manylinux2014_x86_64.whl.metadata (6.3 kB)\n",
            "Requirement already satisfied: numpy>=1.23 in /workspaces/RBS_PBM771_Algorithms/venv/lib/python3.12/site-packages (from matplotlib) (2.1.2)\n",
            "Requirement already satisfied: packaging>=20.0 in /workspaces/RBS_PBM771_Algorithms/venv/lib/python3.12/site-packages (from matplotlib) (24.1)\n",
            "Collecting pillow>=8 (from matplotlib)\n",
            "  Obtaining dependency information for pillow>=8 from https://files.pythonhosted.org/packages/55/77/40daddf677897a923d5d33329acd52a2144d54a9644f2a5422c028c6bf2d/pillow-10.4.0-cp312-cp312-manylinux_2_28_x86_64.whl.metadata\n",
            "  Downloading pillow-10.4.0-cp312-cp312-manylinux_2_28_x86_64.whl.metadata (9.2 kB)\n",
            "Collecting pyparsing>=2.3.1 (from matplotlib)\n",
            "  Obtaining dependency information for pyparsing>=2.3.1 from https://files.pythonhosted.org/packages/e5/0c/0e3c05b1c87bb6a1c76d281b0f35e78d2d80ac91b5f8f524cebf77f51049/pyparsing-3.1.4-py3-none-any.whl.metadata\n",
            "  Downloading pyparsing-3.1.4-py3-none-any.whl.metadata (5.1 kB)\n",
            "Requirement already satisfied: python-dateutil>=2.7 in /workspaces/RBS_PBM771_Algorithms/venv/lib/python3.12/site-packages (from matplotlib) (2.9.0.post0)\n",
            "Requirement already satisfied: six>=1.5 in /workspaces/RBS_PBM771_Algorithms/venv/lib/python3.12/site-packages (from python-dateutil>=2.7->matplotlib) (1.16.0)\n",
            "Downloading matplotlib-3.9.2-cp312-cp312-manylinux_2_17_x86_64.manylinux2014_x86_64.whl (8.3 MB)\n",
            "\u001b[2K   \u001b[90m━━━━━━━━━━━━━━━━━━━━━━━━━━━━━━━━━━━━━━━━\u001b[0m \u001b[32m8.3/8.3 MB\u001b[0m \u001b[31m36.3 MB/s\u001b[0m eta \u001b[36m0:00:00\u001b[0m:00:01\u001b[0m00:01\u001b[0m\n",
            "\u001b[?25hDownloading contourpy-1.3.0-cp312-cp312-manylinux_2_17_x86_64.manylinux2014_x86_64.whl (320 kB)\n",
            "\u001b[2K   \u001b[90m━━━━━━━━━━━━━━━━━━━━━━━━━━━━━━━━━━━━━━━━\u001b[0m \u001b[32m320.5/320.5 kB\u001b[0m \u001b[31m2.5 MB/s\u001b[0m eta \u001b[36m0:00:00\u001b[0m:00:01\u001b[0m\n",
            "\u001b[?25hDownloading cycler-0.12.1-py3-none-any.whl (8.3 kB)\n",
            "Downloading fonttools-4.54.1-cp312-cp312-manylinux_2_5_x86_64.manylinux1_x86_64.manylinux_2_17_x86_64.manylinux2014_x86_64.whl (4.9 MB)\n",
            "\u001b[2K   \u001b[90m━━━━━━━━━━━━━━━━━━━━━━━━━━━━━━━━━━━━━━━━\u001b[0m \u001b[32m4.9/4.9 MB\u001b[0m \u001b[31m23.4 MB/s\u001b[0m eta \u001b[36m0:00:00\u001b[0m:00:01\u001b[0m\n",
            "\u001b[?25hDownloading kiwisolver-1.4.7-cp312-cp312-manylinux_2_17_x86_64.manylinux2014_x86_64.whl (1.5 MB)\n",
            "\u001b[2K   \u001b[90m━━━━━━━━━━━━━━━━━━━━━━━━━━━━━━━━━━━━━━━━\u001b[0m \u001b[32m1.5/1.5 MB\u001b[0m \u001b[31m13.4 MB/s\u001b[0m eta \u001b[36m0:00:00\u001b[0m00:01\u001b[0m\n",
            "\u001b[?25hDownloading pillow-10.4.0-cp312-cp312-manylinux_2_28_x86_64.whl (4.5 MB)\n",
            "\u001b[2K   \u001b[90m━━━━━━━━━━━━━━━━━━━━━━━━━━━━━━━━━━━━━━━━\u001b[0m \u001b[32m4.5/4.5 MB\u001b[0m \u001b[31m25.7 MB/s\u001b[0m eta \u001b[36m0:00:00\u001b[0m:00:01\u001b[0m\n",
            "\u001b[?25hDownloading pyparsing-3.1.4-py3-none-any.whl (104 kB)\n",
            "\u001b[2K   \u001b[90m━━━━━━━━━━━━━━━━━━━━━━━━━━━━━━━━━━━━━━━━\u001b[0m \u001b[32m104.1/104.1 kB\u001b[0m \u001b[31m1.1 MB/s\u001b[0m eta \u001b[36m0:00:00\u001b[0m:00:01\u001b[0m\n",
            "\u001b[?25hInstalling collected packages: pyparsing, pillow, kiwisolver, fonttools, cycler, contourpy, matplotlib\n",
            "Successfully installed contourpy-1.3.0 cycler-0.12.1 fonttools-4.54.1 kiwisolver-1.4.7 matplotlib-3.9.2 pillow-10.4.0 pyparsing-3.1.4\n",
            "\n",
            "\u001b[1m[\u001b[0m\u001b[34;49mnotice\u001b[0m\u001b[1;39;49m]\u001b[0m\u001b[39;49m A new release of pip is available: \u001b[0m\u001b[31;49m23.2.1\u001b[0m\u001b[39;49m -> \u001b[0m\u001b[32;49m24.2\u001b[0m\n",
            "\u001b[1m[\u001b[0m\u001b[34;49mnotice\u001b[0m\u001b[1;39;49m]\u001b[0m\u001b[39;49m To update, run: \u001b[0m\u001b[32;49mpip install --upgrade pip\u001b[0m\n"
          ]
        }
      ],
      "source": [
        "!pip install matplotlib"
      ]
    },
    {
      "cell_type": "code",
      "execution_count": 4,
      "metadata": {},
      "outputs": [
        {
          "ename": "ValueError",
          "evalue": "operands could not be broadcast together with shapes (20,) (2,2) ",
          "output_type": "error",
          "traceback": [
            "\u001b[0;31m---------------------------------------------------------------------------\u001b[0m",
            "\u001b[0;31mValueError\u001b[0m                                Traceback (most recent call last)",
            "Cell \u001b[0;32mIn[4], line 31\u001b[0m\n\u001b[1;32m     29\u001b[0m points \u001b[38;5;241m=\u001b[39m np\u001b[38;5;241m.\u001b[39mrandom\u001b[38;5;241m.\u001b[39mrand(\u001b[38;5;241m10\u001b[39m, \u001b[38;5;241m2\u001b[39m)\n\u001b[1;32m     30\u001b[0m \u001b[38;5;66;03m# find the convex hull\u001b[39;00m\n\u001b[0;32m---> 31\u001b[0m hull \u001b[38;5;241m=\u001b[39m \u001b[43mquickhull\u001b[49m\u001b[43m(\u001b[49m\u001b[43mpoints\u001b[49m\u001b[43m)\u001b[49m\n\u001b[1;32m     32\u001b[0m \u001b[38;5;66;03m# plot the points and the convex hull\u001b[39;00m\n\u001b[1;32m     33\u001b[0m plt\u001b[38;5;241m.\u001b[39mscatter(points[:, \u001b[38;5;241m0\u001b[39m], points[:, \u001b[38;5;241m1\u001b[39m])\n",
            "Cell \u001b[0;32mIn[4], line 24\u001b[0m, in \u001b[0;36mquickhull\u001b[0;34m(points)\u001b[0m\n\u001b[1;32m     21\u001b[0m     \u001b[38;5;28;01mreturn\u001b[39;00m hull\n\u001b[1;32m     23\u001b[0m \u001b[38;5;66;03m# find the convex hull of the two sets of points\u001b[39;00m\n\u001b[0;32m---> 24\u001b[0m hull \u001b[38;5;241m=\u001b[39m hull \u001b[38;5;241m+\u001b[39m \u001b[43mdivide\u001b[49m\u001b[43m(\u001b[49m\u001b[43mpoints\u001b[49m\u001b[43m[\u001b[49m\u001b[43mpoints\u001b[49m\u001b[43m \u001b[49m\u001b[38;5;241;43m!=\u001b[39;49m\u001b[43m \u001b[49m\u001b[43mleftmost\u001b[49m\u001b[43m]\u001b[49m\u001b[43m,\u001b[49m\u001b[43m \u001b[49m\u001b[43mpoints\u001b[49m\u001b[43m[\u001b[49m\u001b[43mleftmost\u001b[49m\u001b[43m]\u001b[49m\u001b[43m,\u001b[49m\u001b[43m \u001b[49m\u001b[43mpoints\u001b[49m\u001b[43m[\u001b[49m\u001b[43mrightmost\u001b[49m\u001b[43m]\u001b[49m\u001b[43m)\u001b[49m \u001b[38;5;241m+\u001b[39m hull\n\u001b[1;32m     25\u001b[0m \u001b[38;5;28;01mreturn\u001b[39;00m hull\n",
            "Cell \u001b[0;32mIn[4], line 18\u001b[0m, in \u001b[0;36mquickhull.<locals>.divide\u001b[0;34m(points, a, b)\u001b[0m\n\u001b[1;32m     16\u001b[0m     \u001b[38;5;28;01mreturn\u001b[39;00m []\n\u001b[1;32m     17\u001b[0m \u001b[38;5;66;03m# find the point with the maximum distance from the line\u001b[39;00m\n\u001b[0;32m---> 18\u001b[0m c \u001b[38;5;241m=\u001b[39m np\u001b[38;5;241m.\u001b[39margmax(np\u001b[38;5;241m.\u001b[39mcross(b \u001b[38;5;241m-\u001b[39m a, \u001b[43mpoints\u001b[49m\u001b[43m \u001b[49m\u001b[38;5;241;43m-\u001b[39;49m\u001b[43m \u001b[49m\u001b[43ma\u001b[49m))\n\u001b[1;32m     19\u001b[0m \u001b[38;5;66;03m# recursively find the convex hulls of the two sets of points\u001b[39;00m\n\u001b[1;32m     20\u001b[0m hull \u001b[38;5;241m=\u001b[39m divide(points[points[c] \u001b[38;5;241m==\u001b[39m \u001b[38;5;241m0\u001b[39m], a, points[c]) \u001b[38;5;241m+\u001b[39m [points[c]] \u001b[38;5;241m+\u001b[39m divide(points[points[c] \u001b[38;5;241m==\u001b[39m \u001b[38;5;241m1\u001b[39m], points[c], b)\n",
            "\u001b[0;31mValueError\u001b[0m: operands could not be broadcast together with shapes (20,) (2,2) "
          ]
        }
      ],
      "source": [
        "# time complexity: O(n log n) in average case, O(n^2) in worst case\n",
        "# let's implement the algorithm\n",
        "\n",
        "import numpy as np\n",
        "import matplotlib.pyplot as plt\n",
        "\n",
        "def quickhull(points):\n",
        "    # find the two points with the maximum distance between them\n",
        "    leftmost = np.argmin(points, axis=0)\n",
        "    rightmost = np.argmax(points, axis=0)\n",
        "    hull = [points[leftmost], points[rightmost]]\n",
        "    \n",
        "    # divide the points into two sets based on the line that passes through the two points\n",
        "    def divide(points, a, b):\n",
        "        if len(points) == 0:\n",
        "            return []\n",
        "        # find the point with the maximum distance from the line\n",
        "        c = np.argmax(np.cross(b - a, points - a)) # FIXME ValueError: operands could not be broadcast together with shapes (20,) (2,2) \n",
        "        # recursively find the convex hulls of the two sets of points\n",
        "        hull = divide(points[points[c] == 0], a, points[c]) + [points[c]] + divide(points[points[c] == 1], points[c], b)\n",
        "        return hull\n",
        "    \n",
        "    # find the convex hull of the two sets of points\n",
        "    hull = hull + divide(points[points != leftmost], points[leftmost], points[rightmost]) + hull\n",
        "    return hull\n",
        "\n",
        "# let's test the algorithm\n",
        "# generate some random points\n",
        "points = np.random.rand(10, 2)\n",
        "# find the convex hull\n",
        "hull = quickhull(points)\n",
        "# plot the points and the convex hull\n",
        "plt.scatter(points[:, 0], points[:, 1])\n",
        "plt.plot(np.array(hull + [hull[0]])[:, 0], np.array(hull + [hull[0]])[:, 1])\n",
        "plt.show()"
      ]
    },
    {
      "cell_type": "markdown",
      "metadata": {
        "id": "sh9bajC2IKj-"
      },
      "source": [
        "## Graham's Scan\n",
        "\n",
        "Graham's Scan is an efficient algorithm for finding the convex hull of a set of points in a 2D plane. It has a time complexity of O(n log n), where n is the number of input points. The algorithm follows these steps:\n",
        "\n",
        "* Find the lowest y-coordinate point (P0):\n",
        "Identify the point with the lowest y-coordinate among the input points. If there are multiple points with the same y-coordinate, choose the one with the lowest x-coordinate. This point (P0) is guaranteed to be a part of the convex hull.\n",
        "\n",
        "* Sort the points based on their polar angles with respect to P0:\n",
        "Calculate the polar angles of the remaining points with respect to P0. Sort the points in increasing order of these polar angles. In case of a tie (when two points have the same polar angle), order them based on their distance from P0, with the closest point coming first.\n",
        "\n",
        "* Initialize the convex hull stack:\n",
        "Create a stack data structure to store the points in the convex hull. Push the first three sorted points (P0, P1, and P2) onto the stack.\n",
        "\n",
        "* Process the remaining sorted points:\n",
        "Iterate through the remaining sorted points, starting from the fourth point (P3). For each point, perform the following steps:\n",
        "\n",
        "1. Check the orientation of the triplet formed by the top two points in the stack and the current point. If the orientation is counter-clockwise (a left turn), it means the current point is a valid convex hull point. Push the current point onto the stack and proceed to the next point in the sorted list.\n",
        "\n",
        "2. If the orientation is clockwise (a right turn) or collinear, it means the second-to-top point in the stack is not part of the convex hull, as it is \"inside\" the turn. Pop the top point off the stack and recheck the orientation of the new triplet formed by the top two points in the stack and the current point. Repeat this process until a counter-clockwise turn is encountered or the stack has only two points left. Then, push the current point onto the stack and continue to the next point in the sorted list.\n",
        "\n",
        "Termination:\n",
        "Once all the points have been processed, the points remaining in the stack form the vertices of the convex hull in counter-clockwise order.\n",
        "\n",
        "The most time-consuming step in Graham's Scan is sorting the points based on their polar angles, which takes O(n log n) time. The actual construction of the convex hull using the stack has a linear complexity of O(n). Therefore, the overall time complexity of the algorithm is O(n log n)."
      ]
    },
    {
      "cell_type": "code",
      "execution_count": 1,
      "metadata": {
        "colab": {
          "base_uri": "https://localhost:8080/"
        },
        "id": "E2dac7FlIKkA",
        "outputId": "ae380110-0e9f-490f-8d2f-120e15d82268"
      },
      "outputs": [
        {
          "name": "stdout",
          "output_type": "stream",
          "text": [
            "[(1, 1), (2, 5)]\n"
          ]
        }
      ],
      "source": [
        "import math\n",
        "\n",
        "def lowest_y_coordinate(points):\n",
        "    return min(points, key=lambda point: (point[1], point[0]))\n",
        "\n",
        "def polar_angle(p0, p1):\n",
        "    return math.atan2(p1[1] - p0[1], p1[0] - p0[0])\n",
        "\n",
        "def distance(p0, p1):\n",
        "    return (p1[0] - p0[0])**2 + (p1[1] - p0[1])**2\n",
        "\n",
        "def orientation(p0, p1, p2):\n",
        "    return (p1[1] - p0[1]) * (p2[0] - p0[0]) - (p1[0] - p0[0]) * (p2[1] - p0[1])\n",
        "\n",
        "def graham_scan(points):\n",
        "    '''This implementation takes a list of 2D points as input, \n",
        "    where each point is represented as a tuple of (x, y) coordinates.\n",
        "      It returns a list of points representing the vertices of the convex hull in counter-clockwise order.\n",
        "\n",
        "Please note that this code does not handle duplicate points or points with the same polar angle. \n",
        "To handle these edge cases, you can modify the sorting step accordingly.'''\n",
        "    if len(points) < 3:\n",
        "        return points\n",
        "\n",
        "    # Step 1: Find the lowest y-coordinate point\n",
        "    lowest_point = lowest_y_coordinate(points)\n",
        "    \n",
        "    # Step 2: Sort the points based on their polar angles with respect to the lowest_point\n",
        "    sorted_points = sorted(points, key=lambda point: (polar_angle(lowest_point, point), distance(lowest_point, point)))\n",
        "    \n",
        "    # Step 3: Initialize the convex hull stack\n",
        "    convex_hull = [sorted_points[0], sorted_points[1], sorted_points[2]]\n",
        "\n",
        "    # Step 4: Process the remaining sorted points\n",
        "    for i in range(3, len(sorted_points)):\n",
        "        while len(convex_hull) >= 2 and orientation(convex_hull[-2], convex_hull[-1], sorted_points[i]) <= 0:\n",
        "            convex_hull.pop()\n",
        "        convex_hull.append(sorted_points[i])\n",
        "\n",
        "    return convex_hull\n",
        "\n",
        "# Example usage:\n",
        "points = [(1, 1), (2, 5), (3, 3), (5, 3), (3, 2), (2, 2)]\n",
        "convex_hull = graham_scan(points)\n",
        "print(convex_hull)"
      ]
    },
    {
      "cell_type": "code",
      "execution_count": 2,
      "metadata": {
        "colab": {
          "base_uri": "https://localhost:8080/"
        },
        "id": "VAXfSG-yIKkC",
        "outputId": "0db679c2-0ad1-47c6-e669-9172adf78248"
      },
      "outputs": [
        {
          "name": "stdout",
          "output_type": "stream",
          "text": [
            "[(1, 1), (5, 1), (2, 2), (1, 5)]\n"
          ]
        }
      ],
      "source": [
        "points = [(1, 1), (1, 5), (5, 1), (5, 5), (3, 3), (2, 2)]\n",
        "convex_hull = graham_scan(points)\n",
        "print(convex_hull)"
      ]
    },
    {
      "cell_type": "markdown",
      "metadata": {
        "id": "O4bGFQLcIKkD"
      },
      "source": [
        "## Improved Graham's Scan to handle collinear points\n",
        "\n"
      ]
    },
    {
      "cell_type": "code",
      "execution_count": 3,
      "metadata": {
        "colab": {
          "base_uri": "https://localhost:8080/"
        },
        "id": "KryK56L2IKkD",
        "outputId": "917a42e4-3030-48b6-f843-62ae6377fcfc"
      },
      "outputs": [
        {
          "name": "stdout",
          "output_type": "stream",
          "text": [
            "[(1, 1), (2, 5)]\n"
          ]
        }
      ],
      "source": [
        "import math\n",
        "\n",
        "def lowest_y_coordinate(points):\n",
        "    return min(points, key=lambda point: (point[1], point[0]))\n",
        "\n",
        "def polar_angle(p0, p1):\n",
        "    return math.atan2(p1[1] - p0[1], p1[0] - p0[0])\n",
        "\n",
        "def distance(p0, p1):\n",
        "    return (p1[0] - p0[0])**2 + (p1[1] - p0[1])**2\n",
        "\n",
        "def orientation(p0, p1, p2):\n",
        "    return (p1[1] - p0[1]) * (p2[0] - p0[0]) - (p1[0] - p0[0]) * (p2[1] - p0[1])\n",
        "\n",
        "def graham_scan(points):\n",
        "    if len(points) < 3:\n",
        "        return points\n",
        "\n",
        "    # Step 1: Find the lowest y-coordinate point\n",
        "    lowest_point = lowest_y_coordinate(points)\n",
        "    \n",
        "    # Step 2: Sort the points based on their polar angles and distance with respect to the lowest_point\n",
        "    sorted_points = sorted(points, key=lambda point: (polar_angle(lowest_point, point), distance(lowest_point, point)))\n",
        "\n",
        "    # Remove duplicate points\n",
        "    sorted_points = [sorted_points[i] for i in range(len(sorted_points)) if i == 0 or sorted_points[i] != sorted_points[i - 1]]\n",
        "    \n",
        "    # Step 3: Initialize the convex hull stack\n",
        "    convex_hull = [sorted_points[0], sorted_points[1], sorted_points[2]]\n",
        "\n",
        "    # Step 4: Process the remaining sorted points\n",
        "    for i in range(3, len(sorted_points)):\n",
        "        while len(convex_hull) >= 2 and orientation(convex_hull[-2], convex_hull[-1], sorted_points[i]) <= 0:\n",
        "            convex_hull.pop()\n",
        "        convex_hull.append(sorted_points[i])\n",
        "\n",
        "    return convex_hull\n",
        "\n",
        "# Example usage:\n",
        "points = [(1, 1), (2, 5), (3, 3), (5, 3), (3, 2), (2, 2), (3, 3), (5, 3)]\n",
        "convex_hull = graham_scan(points)\n",
        "print(convex_hull)"
      ]
    },
    {
      "cell_type": "markdown",
      "metadata": {
        "id": "FoviKhY_IKkD"
      },
      "source": [
        "## Visualization of Graham's Scan\n"
      ]
    },
    {
      "cell_type": "code",
      "execution_count": 4,
      "metadata": {
        "colab": {
          "base_uri": "https://localhost:8080/",
          "height": 542
        },
        "id": "gKDqKE2NIKkE",
        "outputId": "418a61df-2fc8-47fc-fd17-757687acf245"
      },
      "outputs": [
        {
          "data": {
            "text/html": [
              "<html>\n",
              "<head><meta charset=\"utf-8\" /></head>\n",
              "<body>\n",
              "    <div>            <script src=\"https://cdnjs.cloudflare.com/ajax/libs/mathjax/2.7.5/MathJax.js?config=TeX-AMS-MML_SVG\"></script><script type=\"text/javascript\">if (window.MathJax) {MathJax.Hub.Config({SVG: {font: \"STIX-Web\"}});}</script>                <script type=\"text/javascript\">window.PlotlyConfig = {MathJaxConfig: 'local'};</script>\n",
              "        <script src=\"https://cdn.plot.ly/plotly-2.8.3.min.js\"></script>                <div id=\"efd54be4-c3e4-41cf-bfd9-cbac32a75f47\" class=\"plotly-graph-div\" style=\"height:525px; width:100%;\"></div>            <script type=\"text/javascript\">                                    window.PLOTLYENV=window.PLOTLYENV || {};                                    if (document.getElementById(\"efd54be4-c3e4-41cf-bfd9-cbac32a75f47\")) {                    Plotly.newPlot(                        \"efd54be4-c3e4-41cf-bfd9-cbac32a75f47\",                        [{\"marker\":{\"color\":\"blue\",\"size\":8},\"mode\":\"markers\",\"name\":\"Input Points\",\"x\":[1,2,2.5,5,3,2,3,5],\"y\":[1,5,3,3,2,2,3.5,3],\"type\":\"scatter\"},{\"line\":{\"color\":\"red\"},\"marker\":{\"color\":\"red\",\"size\":8},\"mode\":\"lines+markers\",\"name\":\"Convex Hull\",\"x\":[1,2,1],\"y\":[1,5,1],\"type\":\"scatter\"},{\"line\":{\"color\":\"gray\",\"dash\":\"dash\"},\"mode\":\"lines\",\"name\":\"Step 4\",\"x\":[1,2,1],\"y\":[1,2,1],\"type\":\"scatter\"},{\"line\":{\"color\":\"gray\",\"dash\":\"dash\"},\"mode\":\"lines\",\"name\":\"Step 5\",\"x\":[1,3,1],\"y\":[1,3.5,1],\"type\":\"scatter\"},{\"line\":{\"color\":\"gray\",\"dash\":\"dash\"},\"mode\":\"lines\",\"name\":\"Step 6\",\"x\":[1,2.5,1],\"y\":[1,3,1],\"type\":\"scatter\"},{\"line\":{\"color\":\"gray\",\"dash\":\"dash\"},\"mode\":\"lines\",\"name\":\"Step 7\",\"x\":[1,2,1],\"y\":[1,5,1],\"type\":\"scatter\"}],                        {\"showlegend\":true,\"title\":{\"text\":\"Graham's Scan Algorithm Visualization\"},\"template\":{\"data\":{\"bar\":[{\"error_x\":{\"color\":\"#2a3f5f\"},\"error_y\":{\"color\":\"#2a3f5f\"},\"marker\":{\"line\":{\"color\":\"#E5ECF6\",\"width\":0.5},\"pattern\":{\"fillmode\":\"overlay\",\"size\":10,\"solidity\":0.2}},\"type\":\"bar\"}],\"barpolar\":[{\"marker\":{\"line\":{\"color\":\"#E5ECF6\",\"width\":0.5},\"pattern\":{\"fillmode\":\"overlay\",\"size\":10,\"solidity\":0.2}},\"type\":\"barpolar\"}],\"carpet\":[{\"aaxis\":{\"endlinecolor\":\"#2a3f5f\",\"gridcolor\":\"white\",\"linecolor\":\"white\",\"minorgridcolor\":\"white\",\"startlinecolor\":\"#2a3f5f\"},\"baxis\":{\"endlinecolor\":\"#2a3f5f\",\"gridcolor\":\"white\",\"linecolor\":\"white\",\"minorgridcolor\":\"white\",\"startlinecolor\":\"#2a3f5f\"},\"type\":\"carpet\"}],\"choropleth\":[{\"colorbar\":{\"outlinewidth\":0,\"ticks\":\"\"},\"type\":\"choropleth\"}],\"contour\":[{\"colorbar\":{\"outlinewidth\":0,\"ticks\":\"\"},\"colorscale\":[[0.0,\"#0d0887\"],[0.1111111111111111,\"#46039f\"],[0.2222222222222222,\"#7201a8\"],[0.3333333333333333,\"#9c179e\"],[0.4444444444444444,\"#bd3786\"],[0.5555555555555556,\"#d8576b\"],[0.6666666666666666,\"#ed7953\"],[0.7777777777777778,\"#fb9f3a\"],[0.8888888888888888,\"#fdca26\"],[1.0,\"#f0f921\"]],\"type\":\"contour\"}],\"contourcarpet\":[{\"colorbar\":{\"outlinewidth\":0,\"ticks\":\"\"},\"type\":\"contourcarpet\"}],\"heatmap\":[{\"colorbar\":{\"outlinewidth\":0,\"ticks\":\"\"},\"colorscale\":[[0.0,\"#0d0887\"],[0.1111111111111111,\"#46039f\"],[0.2222222222222222,\"#7201a8\"],[0.3333333333333333,\"#9c179e\"],[0.4444444444444444,\"#bd3786\"],[0.5555555555555556,\"#d8576b\"],[0.6666666666666666,\"#ed7953\"],[0.7777777777777778,\"#fb9f3a\"],[0.8888888888888888,\"#fdca26\"],[1.0,\"#f0f921\"]],\"type\":\"heatmap\"}],\"heatmapgl\":[{\"colorbar\":{\"outlinewidth\":0,\"ticks\":\"\"},\"colorscale\":[[0.0,\"#0d0887\"],[0.1111111111111111,\"#46039f\"],[0.2222222222222222,\"#7201a8\"],[0.3333333333333333,\"#9c179e\"],[0.4444444444444444,\"#bd3786\"],[0.5555555555555556,\"#d8576b\"],[0.6666666666666666,\"#ed7953\"],[0.7777777777777778,\"#fb9f3a\"],[0.8888888888888888,\"#fdca26\"],[1.0,\"#f0f921\"]],\"type\":\"heatmapgl\"}],\"histogram\":[{\"marker\":{\"pattern\":{\"fillmode\":\"overlay\",\"size\":10,\"solidity\":0.2}},\"type\":\"histogram\"}],\"histogram2d\":[{\"colorbar\":{\"outlinewidth\":0,\"ticks\":\"\"},\"colorscale\":[[0.0,\"#0d0887\"],[0.1111111111111111,\"#46039f\"],[0.2222222222222222,\"#7201a8\"],[0.3333333333333333,\"#9c179e\"],[0.4444444444444444,\"#bd3786\"],[0.5555555555555556,\"#d8576b\"],[0.6666666666666666,\"#ed7953\"],[0.7777777777777778,\"#fb9f3a\"],[0.8888888888888888,\"#fdca26\"],[1.0,\"#f0f921\"]],\"type\":\"histogram2d\"}],\"histogram2dcontour\":[{\"colorbar\":{\"outlinewidth\":0,\"ticks\":\"\"},\"colorscale\":[[0.0,\"#0d0887\"],[0.1111111111111111,\"#46039f\"],[0.2222222222222222,\"#7201a8\"],[0.3333333333333333,\"#9c179e\"],[0.4444444444444444,\"#bd3786\"],[0.5555555555555556,\"#d8576b\"],[0.6666666666666666,\"#ed7953\"],[0.7777777777777778,\"#fb9f3a\"],[0.8888888888888888,\"#fdca26\"],[1.0,\"#f0f921\"]],\"type\":\"histogram2dcontour\"}],\"mesh3d\":[{\"colorbar\":{\"outlinewidth\":0,\"ticks\":\"\"},\"type\":\"mesh3d\"}],\"parcoords\":[{\"line\":{\"colorbar\":{\"outlinewidth\":0,\"ticks\":\"\"}},\"type\":\"parcoords\"}],\"pie\":[{\"automargin\":true,\"type\":\"pie\"}],\"scatter\":[{\"marker\":{\"colorbar\":{\"outlinewidth\":0,\"ticks\":\"\"}},\"type\":\"scatter\"}],\"scatter3d\":[{\"line\":{\"colorbar\":{\"outlinewidth\":0,\"ticks\":\"\"}},\"marker\":{\"colorbar\":{\"outlinewidth\":0,\"ticks\":\"\"}},\"type\":\"scatter3d\"}],\"scattercarpet\":[{\"marker\":{\"colorbar\":{\"outlinewidth\":0,\"ticks\":\"\"}},\"type\":\"scattercarpet\"}],\"scattergeo\":[{\"marker\":{\"colorbar\":{\"outlinewidth\":0,\"ticks\":\"\"}},\"type\":\"scattergeo\"}],\"scattergl\":[{\"marker\":{\"colorbar\":{\"outlinewidth\":0,\"ticks\":\"\"}},\"type\":\"scattergl\"}],\"scattermapbox\":[{\"marker\":{\"colorbar\":{\"outlinewidth\":0,\"ticks\":\"\"}},\"type\":\"scattermapbox\"}],\"scatterpolar\":[{\"marker\":{\"colorbar\":{\"outlinewidth\":0,\"ticks\":\"\"}},\"type\":\"scatterpolar\"}],\"scatterpolargl\":[{\"marker\":{\"colorbar\":{\"outlinewidth\":0,\"ticks\":\"\"}},\"type\":\"scatterpolargl\"}],\"scatterternary\":[{\"marker\":{\"colorbar\":{\"outlinewidth\":0,\"ticks\":\"\"}},\"type\":\"scatterternary\"}],\"surface\":[{\"colorbar\":{\"outlinewidth\":0,\"ticks\":\"\"},\"colorscale\":[[0.0,\"#0d0887\"],[0.1111111111111111,\"#46039f\"],[0.2222222222222222,\"#7201a8\"],[0.3333333333333333,\"#9c179e\"],[0.4444444444444444,\"#bd3786\"],[0.5555555555555556,\"#d8576b\"],[0.6666666666666666,\"#ed7953\"],[0.7777777777777778,\"#fb9f3a\"],[0.8888888888888888,\"#fdca26\"],[1.0,\"#f0f921\"]],\"type\":\"surface\"}],\"table\":[{\"cells\":{\"fill\":{\"color\":\"#EBF0F8\"},\"line\":{\"color\":\"white\"}},\"header\":{\"fill\":{\"color\":\"#C8D4E3\"},\"line\":{\"color\":\"white\"}},\"type\":\"table\"}]},\"layout\":{\"annotationdefaults\":{\"arrowcolor\":\"#2a3f5f\",\"arrowhead\":0,\"arrowwidth\":1},\"autotypenumbers\":\"strict\",\"coloraxis\":{\"colorbar\":{\"outlinewidth\":0,\"ticks\":\"\"}},\"colorscale\":{\"diverging\":[[0,\"#8e0152\"],[0.1,\"#c51b7d\"],[0.2,\"#de77ae\"],[0.3,\"#f1b6da\"],[0.4,\"#fde0ef\"],[0.5,\"#f7f7f7\"],[0.6,\"#e6f5d0\"],[0.7,\"#b8e186\"],[0.8,\"#7fbc41\"],[0.9,\"#4d9221\"],[1,\"#276419\"]],\"sequential\":[[0.0,\"#0d0887\"],[0.1111111111111111,\"#46039f\"],[0.2222222222222222,\"#7201a8\"],[0.3333333333333333,\"#9c179e\"],[0.4444444444444444,\"#bd3786\"],[0.5555555555555556,\"#d8576b\"],[0.6666666666666666,\"#ed7953\"],[0.7777777777777778,\"#fb9f3a\"],[0.8888888888888888,\"#fdca26\"],[1.0,\"#f0f921\"]],\"sequentialminus\":[[0.0,\"#0d0887\"],[0.1111111111111111,\"#46039f\"],[0.2222222222222222,\"#7201a8\"],[0.3333333333333333,\"#9c179e\"],[0.4444444444444444,\"#bd3786\"],[0.5555555555555556,\"#d8576b\"],[0.6666666666666666,\"#ed7953\"],[0.7777777777777778,\"#fb9f3a\"],[0.8888888888888888,\"#fdca26\"],[1.0,\"#f0f921\"]]},\"colorway\":[\"#636efa\",\"#EF553B\",\"#00cc96\",\"#ab63fa\",\"#FFA15A\",\"#19d3f3\",\"#FF6692\",\"#B6E880\",\"#FF97FF\",\"#FECB52\"],\"font\":{\"color\":\"#2a3f5f\"},\"geo\":{\"bgcolor\":\"white\",\"lakecolor\":\"white\",\"landcolor\":\"#E5ECF6\",\"showlakes\":true,\"showland\":true,\"subunitcolor\":\"white\"},\"hoverlabel\":{\"align\":\"left\"},\"hovermode\":\"closest\",\"mapbox\":{\"style\":\"light\"},\"paper_bgcolor\":\"white\",\"plot_bgcolor\":\"#E5ECF6\",\"polar\":{\"angularaxis\":{\"gridcolor\":\"white\",\"linecolor\":\"white\",\"ticks\":\"\"},\"bgcolor\":\"#E5ECF6\",\"radialaxis\":{\"gridcolor\":\"white\",\"linecolor\":\"white\",\"ticks\":\"\"}},\"scene\":{\"xaxis\":{\"backgroundcolor\":\"#E5ECF6\",\"gridcolor\":\"white\",\"gridwidth\":2,\"linecolor\":\"white\",\"showbackground\":true,\"ticks\":\"\",\"zerolinecolor\":\"white\"},\"yaxis\":{\"backgroundcolor\":\"#E5ECF6\",\"gridcolor\":\"white\",\"gridwidth\":2,\"linecolor\":\"white\",\"showbackground\":true,\"ticks\":\"\",\"zerolinecolor\":\"white\"},\"zaxis\":{\"backgroundcolor\":\"#E5ECF6\",\"gridcolor\":\"white\",\"gridwidth\":2,\"linecolor\":\"white\",\"showbackground\":true,\"ticks\":\"\",\"zerolinecolor\":\"white\"}},\"shapedefaults\":{\"line\":{\"color\":\"#2a3f5f\"}},\"ternary\":{\"aaxis\":{\"gridcolor\":\"white\",\"linecolor\":\"white\",\"ticks\":\"\"},\"baxis\":{\"gridcolor\":\"white\",\"linecolor\":\"white\",\"ticks\":\"\"},\"bgcolor\":\"#E5ECF6\",\"caxis\":{\"gridcolor\":\"white\",\"linecolor\":\"white\",\"ticks\":\"\"}},\"title\":{\"x\":0.05},\"xaxis\":{\"automargin\":true,\"gridcolor\":\"white\",\"linecolor\":\"white\",\"ticks\":\"\",\"title\":{\"standoff\":15},\"zerolinecolor\":\"white\",\"zerolinewidth\":2},\"yaxis\":{\"automargin\":true,\"gridcolor\":\"white\",\"linecolor\":\"white\",\"ticks\":\"\",\"title\":{\"standoff\":15},\"zerolinecolor\":\"white\",\"zerolinewidth\":2}}}},                        {\"responsive\": true}                    ).then(function(){\n",
              "                            \n",
              "var gd = document.getElementById('efd54be4-c3e4-41cf-bfd9-cbac32a75f47');\n",
              "var x = new MutationObserver(function (mutations, observer) {{\n",
              "        var display = window.getComputedStyle(gd).display;\n",
              "        if (!display || display === 'none') {{\n",
              "            console.log([gd, 'removed!']);\n",
              "            Plotly.purge(gd);\n",
              "            observer.disconnect();\n",
              "        }}\n",
              "}});\n",
              "\n",
              "// Listen for the removal of the full notebook cells\n",
              "var notebookContainer = gd.closest('#notebook-container');\n",
              "if (notebookContainer) {{\n",
              "    x.observe(notebookContainer, {childList: true});\n",
              "}}\n",
              "\n",
              "// Listen for the clearing of the current output cell\n",
              "var outputEl = gd.closest('.output');\n",
              "if (outputEl) {{\n",
              "    x.observe(outputEl, {childList: true});\n",
              "}}\n",
              "\n",
              "                        })                };                            </script>        </div>\n",
              "</body>\n",
              "</html>"
            ]
          },
          "metadata": {},
          "output_type": "display_data"
        }
      ],
      "source": [
        "import plotly.graph_objs as go\n",
        "\n",
        "# def lowest_y_coordinate(points):\n",
        "#     # ... (same as before)\n",
        "\n",
        "# def polar_angle(p0, p1):\n",
        "#     # ... (same as before)\n",
        "\n",
        "# def distance(p0, p1):\n",
        "#     # ... (same as before)\n",
        "\n",
        "# def orientation(p0, p1, p2):\n",
        "#     # ... (same as before)\n",
        "\n",
        "def graham_scan_trace(points):\n",
        "    if len(points) < 3:\n",
        "        return points, []\n",
        "\n",
        "    # Step 1: Find the lowest y-coordinate point\n",
        "    lowest_point = lowest_y_coordinate(points)\n",
        "    \n",
        "    # Step 2: Sort the points based on their polar angles and distance with respect to the lowest_point\n",
        "    sorted_points = sorted(points, key=lambda point: (polar_angle(lowest_point, point), distance(lowest_point, point)))\n",
        "\n",
        "    # Remove duplicate points\n",
        "    sorted_points = [sorted_points[i] for i in range(len(sorted_points)) if i == 0 or sorted_points[i] != sorted_points[i - 1]]\n",
        "    \n",
        "    # Step 3: Initialize the convex hull stack\n",
        "    convex_hull = [sorted_points[0], sorted_points[1], sorted_points[2]]\n",
        "    convex_hull_trace = []\n",
        "\n",
        "    # Step 4: Process the remaining sorted points\n",
        "    for i in range(3, len(sorted_points)):\n",
        "        while len(convex_hull) >= 2 and orientation(convex_hull[-2], convex_hull[-1], sorted_points[i]) <= 0:\n",
        "            convex_hull.pop()\n",
        "        convex_hull.append(sorted_points[i])\n",
        "        convex_hull_trace.append(go.Scatter(x=[point[0] for point in convex_hull] + [convex_hull[0][0]],\n",
        "                                            y=[point[1] for point in convex_hull] + [convex_hull[0][1]],\n",
        "                                            mode=\"lines\",\n",
        "                                            line=dict(color=\"gray\", dash=\"dash\"),\n",
        "                                            name=f\"Step {i+1}\"))\n",
        "\n",
        "    return convex_hull, convex_hull_trace\n",
        "\n",
        "def visualize(points, convex_hull, convex_hull_trace):\n",
        "    input_points = go.Scatter(\n",
        "        x=[point[0] for point in points],\n",
        "        y=[point[1] for point in points],\n",
        "        mode=\"markers\",\n",
        "        marker=dict(size=8, color=\"blue\"),\n",
        "        name=\"Input Points\",\n",
        "    )\n",
        "\n",
        "    hull_points = go.Scatter(\n",
        "        x=[point[0] for point in convex_hull] + [convex_hull[0][0]],\n",
        "        y=[point[1] for point in convex_hull] + [convex_hull[0][1]],\n",
        "        mode=\"lines+markers\",\n",
        "        marker=dict(size=8, color=\"red\"),\n",
        "        line=dict(color=\"red\"),\n",
        "        name=\"Convex Hull\",\n",
        "    )\n",
        "\n",
        "    traces = [input_points, hull_points] + convex_hull_trace\n",
        "    layout = go.Layout(title=\"Graham's Scan Algorithm Visualization\", showlegend=True)\n",
        "\n",
        "    fig = go.Figure(data=traces, layout=layout)\n",
        "    fig.show()\n",
        "\n",
        "points = [(1, 1), (2, 5), (2.5, 3), (5, 3), (3, 2), (2, 2), (3, 3.5), (5, 3)]\n",
        "convex_hull, convex_hull_trace = graham_scan_trace(points)\n",
        "visualize(points, convex_hull, convex_hull_trace)"
      ]
    },
    {
      "cell_type": "markdown",
      "metadata": {
        "id": "wMNKg53XLl7s"
      },
      "source": [
        "## Geeks for Geeks version of Graham's\n",
        "\n",
        "src: https://www.geeksforgeeks.org/convex-hull-using-graham-scan/"
      ]
    },
    {
      "cell_type": "code",
      "execution_count": 14,
      "metadata": {
        "colab": {
          "base_uri": "https://localhost:8080/"
        },
        "id": "hbYh5OUcLpRt",
        "outputId": "837fcac0-b84c-4c58-d8dd-eeeae9cdc075"
      },
      "outputs": [
        {
          "data": {
            "text/plain": [
              "[0,0, 3,1, 4,4, 0,3]"
            ]
          },
          "execution_count": 14,
          "metadata": {},
          "output_type": "execute_result"
        }
      ],
      "source": [
        "# A Python3 program to find convex hull of a set of points. Refer\n",
        "# https://www.geeksforgeeks.org/orientation-3-ordered-points/\n",
        "# for explanation of orientation()\n",
        " \n",
        "from functools import cmp_to_key\n",
        " \n",
        "# A class used to store the x and y coordinates of points\n",
        "class Point:\n",
        "    def __init__(self, x = None, y = None):\n",
        "        self.x = x\n",
        "        self.y = y\n",
        "\n",
        "    def __str__(self):\n",
        "        return f\"{self.x},{self.y}\"\n",
        "\n",
        "    def __repr__(self):\n",
        "        return f\"{self.x},{self.y}\"\n",
        " \n",
        "# A global point needed for sorting points with reference\n",
        "# to the first point\n",
        "p0 = Point(0, 0)\n",
        " \n",
        "# A utility function to find next to top in a stack\n",
        "def nextToTop(S):\n",
        "    return S[-2]\n",
        " \n",
        "# A utility function to return square of distance\n",
        "# between p1 and p2\n",
        "def distSq(p1, p2):\n",
        "    return ((p1.x - p2.x) * (p1.x - p2.x) +\n",
        "            (p1.y - p2.y) * (p1.y - p2.y))\n",
        " \n",
        "# To find orientation of ordered triplet (p, q, r).\n",
        "# The function returns following values\n",
        "# 0 --> p, q and r are collinear\n",
        "# 1 --> Clockwise\n",
        "# 2 --> Counterclockwise\n",
        "def orientation(p, q, r):\n",
        "    val = ((q.y - p.y) * (r.x - q.x) -\n",
        "           (q.x - p.x) * (r.y - q.y))\n",
        "    if val == 0:\n",
        "        return 0  # collinear\n",
        "    elif val > 0:\n",
        "        return 1  # clock wise\n",
        "    else:\n",
        "        return 2  # counterclock wise\n",
        " \n",
        "# A function used by cmp_to_key function to sort an array of\n",
        "# points with respect to the first point\n",
        "def compare(p1, p2):\n",
        "   \n",
        "    # Find orientation\n",
        "    o = orientation(p0, p1, p2)\n",
        "    if o == 0:\n",
        "        if distSq(p0, p2) >= distSq(p0, p1):\n",
        "            return -1\n",
        "        else:\n",
        "            return 1\n",
        "    else:\n",
        "        if o == 2:\n",
        "            return -1\n",
        "        else:\n",
        "            return 1\n",
        " \n",
        "# Prints convex hull of a set of n points.\n",
        "def convexHull(points, n):\n",
        "   \n",
        "    # Find the bottommost point\n",
        "    ymin = points[0].y\n",
        "    min = 0\n",
        "    for i in range(1, n):\n",
        "        y = points[i].y\n",
        " \n",
        "        # Pick the bottom-most or choose the left\n",
        "        # most point in case of tie\n",
        "        if ((y < ymin) or\n",
        "            (ymin == y and points[i].x < points[min].x)):\n",
        "            ymin = points[i].y\n",
        "            min = i\n",
        " \n",
        "    # Place the bottom-most point at first position\n",
        "    points[0], points[min] = points[min], points[0]\n",
        " \n",
        "    # Sort n-1 points with respect to the first point.\n",
        "    # A point p1 comes before p2 in sorted output if p2\n",
        "    # has larger polar angle (in counterclockwise\n",
        "    # direction) than p1\n",
        "    p0 = points[0]\n",
        "    points = sorted(points, key=cmp_to_key(compare))\n",
        " \n",
        "    # If two or more points make same angle with p0,\n",
        "    # Remove all but the one that is farthest from p0\n",
        "    # Remember that, in above sorting, our criteria was\n",
        "    # to keep the farthest point at the end when more than\n",
        "    # one points have same angle.\n",
        "    m = 1  # Initialize size of modified array\n",
        "    for i in range(1, n):\n",
        "       \n",
        "        # Keep removing i while angle of i and i+1 is same\n",
        "        # with respect to p0\n",
        "        while ((i < n - 1) and\n",
        "        (orientation(p0, points[i], points[i + 1]) == 0)):\n",
        "            i += 1\n",
        " \n",
        "        points[m] = points[i]\n",
        "        m += 1  # Update size of modified array\n",
        " \n",
        "    # If modified array of points has less than 3 points,\n",
        "    # convex hull is not possible\n",
        "    if m < 3:\n",
        "        return\n",
        " \n",
        "    # Create an empty stack and push first three points\n",
        "    # to it.\n",
        "    S = []\n",
        "    S.append(points[0])\n",
        "    S.append(points[1])\n",
        "    S.append(points[2])\n",
        " \n",
        "    # Process remaining n-3 points\n",
        "    for i in range(3, m):\n",
        "       \n",
        "        # Keep removing top while the angle formed by\n",
        "        # points next-to-top, top, and points[i] makes\n",
        "        # a non-left turn\n",
        "        while ((len(S) > 1) and\n",
        "        (orientation(nextToTop(S), S[-1], points[i]) != 2)):\n",
        "            S.pop()\n",
        "        S.append(points[i])\n",
        " \n",
        "    # Now stack has the output points,\n",
        "    # print contents of stack\n",
        "    # while S:\n",
        "    #     p = S[-1]\n",
        "    #     print(\"(\" + str(p.x) + \", \" + str(p.y) + \")\")\n",
        "    #     S.pop()\n",
        "    return S\n",
        " \n",
        "# Driver Code\n",
        "input_points = [(0, 3), (1, 1), (2, 2), (4, 4),\n",
        "                (0, 0), (1, 2), (3, 1), (3, 3)]\n",
        "points = []\n",
        "for point in input_points:\n",
        "    points.append(Point(point[0], point[1]))\n",
        "n = len(points)\n",
        "convex_points = convexHull(points, n)\n",
        "convex_points  #so without print we needed to overload __repr__"
      ]
    },
    {
      "cell_type": "code",
      "execution_count": 13,
      "metadata": {
        "colab": {
          "base_uri": "https://localhost:8080/"
        },
        "id": "bFhT92HaM8Zg",
        "outputId": "73b39d00-9447-4c53-a2d2-de26ef966a43"
      },
      "outputs": [
        {
          "name": "stdout",
          "output_type": "stream",
          "text": [
            "0,0\n"
          ]
        }
      ],
      "source": [
        "print(convex_points[0])"
      ]
    },
    {
      "cell_type": "code",
      "execution_count": 15,
      "metadata": {
        "id": "rNzs8Gg7Lk34"
      },
      "outputs": [],
      "source": [
        "def visualize_simple(points, convex_hull, convex_hull_trace=()):\n",
        "    input_points = go.Scatter(\n",
        "        x=[point[0] for point in points],\n",
        "        y=[point[1] for point in points],\n",
        "        mode=\"markers\",\n",
        "        marker=dict(size=8, color=\"blue\"),\n",
        "        name=\"Input Points\",\n",
        "    )\n",
        "\n",
        "    hull_points = go.Scatter(\n",
        "        x=[point[0] for point in convex_hull] + [convex_hull[0][0]],\n",
        "        y=[point[1] for point in convex_hull] + [convex_hull[0][1]],\n",
        "        mode=\"lines+markers\",\n",
        "        marker=dict(size=8, color=\"red\"),\n",
        "        line=dict(color=\"red\"),\n",
        "        name=\"Convex Hull\",\n",
        "    )\n",
        "\n",
        "    traces = [input_points, hull_points] + list(convex_hull_trace)\n",
        "    layout = go.Layout(title=\"Graham's Scan Algorithm Visualization\", showlegend=True)\n",
        "\n",
        "    fig = go.Figure(data=traces, layout=layout)\n",
        "    fig.show()"
      ]
    },
    {
      "cell_type": "code",
      "execution_count": 18,
      "metadata": {
        "colab": {
          "base_uri": "https://localhost:8080/"
        },
        "id": "P9IWR2dBNvrc",
        "outputId": "d6136a62-ff6b-45b1-82ac-eafd16e8842b"
      },
      "outputs": [
        {
          "data": {
            "text/plain": [
              "[(0, 0), (3, 1), (4, 4), (0, 3)]"
            ]
          },
          "execution_count": 18,
          "metadata": {},
          "output_type": "execute_result"
        }
      ],
      "source": [
        "convex_points_list = [(t.x,t.y) for t in convex_points]\n",
        "convex_points_list"
      ]
    },
    {
      "cell_type": "code",
      "execution_count": 22,
      "metadata": {
        "colab": {
          "base_uri": "https://localhost:8080/"
        },
        "id": "BNQkeVS6OO3n",
        "outputId": "c3aa13ac-1df0-4dbe-be39-a40f392a251c"
      },
      "outputs": [
        {
          "data": {
            "text/plain": [
              "(0,0, __main__.Point)"
            ]
          },
          "execution_count": 22,
          "metadata": {},
          "output_type": "execute_result"
        }
      ],
      "source": [
        "points[0], type(points[0])"
      ]
    },
    {
      "cell_type": "code",
      "execution_count": 23,
      "metadata": {
        "colab": {
          "base_uri": "https://localhost:8080/",
          "height": 542
        },
        "id": "gOPfp0uZOAPJ",
        "outputId": "40950bf3-ba2f-45c2-9059-fe60aadd3a20"
      },
      "outputs": [
        {
          "data": {
            "text/html": [
              "<html>\n",
              "<head><meta charset=\"utf-8\" /></head>\n",
              "<body>\n",
              "    <div>            <script src=\"https://cdnjs.cloudflare.com/ajax/libs/mathjax/2.7.5/MathJax.js?config=TeX-AMS-MML_SVG\"></script><script type=\"text/javascript\">if (window.MathJax) {MathJax.Hub.Config({SVG: {font: \"STIX-Web\"}});}</script>                <script type=\"text/javascript\">window.PlotlyConfig = {MathJaxConfig: 'local'};</script>\n",
              "        <script src=\"https://cdn.plot.ly/plotly-2.8.3.min.js\"></script>                <div id=\"add454b5-e5fa-463d-9026-f403abce7d5c\" class=\"plotly-graph-div\" style=\"height:525px; width:100%;\"></div>            <script type=\"text/javascript\">                                    window.PLOTLYENV=window.PLOTLYENV || {};                                    if (document.getElementById(\"add454b5-e5fa-463d-9026-f403abce7d5c\")) {                    Plotly.newPlot(                        \"add454b5-e5fa-463d-9026-f403abce7d5c\",                        [{\"marker\":{\"color\":\"blue\",\"size\":8},\"mode\":\"markers\",\"name\":\"Input Points\",\"x\":[0,1,2,4,0,1,3,3],\"y\":[3,1,2,4,0,2,1,3],\"type\":\"scatter\"},{\"line\":{\"color\":\"red\"},\"marker\":{\"color\":\"red\",\"size\":8},\"mode\":\"lines+markers\",\"name\":\"Convex Hull\",\"x\":[0,3,4,0,0],\"y\":[0,1,4,3,0],\"type\":\"scatter\"}],                        {\"showlegend\":true,\"title\":{\"text\":\"Graham's Scan Algorithm Visualization\"},\"template\":{\"data\":{\"bar\":[{\"error_x\":{\"color\":\"#2a3f5f\"},\"error_y\":{\"color\":\"#2a3f5f\"},\"marker\":{\"line\":{\"color\":\"#E5ECF6\",\"width\":0.5},\"pattern\":{\"fillmode\":\"overlay\",\"size\":10,\"solidity\":0.2}},\"type\":\"bar\"}],\"barpolar\":[{\"marker\":{\"line\":{\"color\":\"#E5ECF6\",\"width\":0.5},\"pattern\":{\"fillmode\":\"overlay\",\"size\":10,\"solidity\":0.2}},\"type\":\"barpolar\"}],\"carpet\":[{\"aaxis\":{\"endlinecolor\":\"#2a3f5f\",\"gridcolor\":\"white\",\"linecolor\":\"white\",\"minorgridcolor\":\"white\",\"startlinecolor\":\"#2a3f5f\"},\"baxis\":{\"endlinecolor\":\"#2a3f5f\",\"gridcolor\":\"white\",\"linecolor\":\"white\",\"minorgridcolor\":\"white\",\"startlinecolor\":\"#2a3f5f\"},\"type\":\"carpet\"}],\"choropleth\":[{\"colorbar\":{\"outlinewidth\":0,\"ticks\":\"\"},\"type\":\"choropleth\"}],\"contour\":[{\"colorbar\":{\"outlinewidth\":0,\"ticks\":\"\"},\"colorscale\":[[0.0,\"#0d0887\"],[0.1111111111111111,\"#46039f\"],[0.2222222222222222,\"#7201a8\"],[0.3333333333333333,\"#9c179e\"],[0.4444444444444444,\"#bd3786\"],[0.5555555555555556,\"#d8576b\"],[0.6666666666666666,\"#ed7953\"],[0.7777777777777778,\"#fb9f3a\"],[0.8888888888888888,\"#fdca26\"],[1.0,\"#f0f921\"]],\"type\":\"contour\"}],\"contourcarpet\":[{\"colorbar\":{\"outlinewidth\":0,\"ticks\":\"\"},\"type\":\"contourcarpet\"}],\"heatmap\":[{\"colorbar\":{\"outlinewidth\":0,\"ticks\":\"\"},\"colorscale\":[[0.0,\"#0d0887\"],[0.1111111111111111,\"#46039f\"],[0.2222222222222222,\"#7201a8\"],[0.3333333333333333,\"#9c179e\"],[0.4444444444444444,\"#bd3786\"],[0.5555555555555556,\"#d8576b\"],[0.6666666666666666,\"#ed7953\"],[0.7777777777777778,\"#fb9f3a\"],[0.8888888888888888,\"#fdca26\"],[1.0,\"#f0f921\"]],\"type\":\"heatmap\"}],\"heatmapgl\":[{\"colorbar\":{\"outlinewidth\":0,\"ticks\":\"\"},\"colorscale\":[[0.0,\"#0d0887\"],[0.1111111111111111,\"#46039f\"],[0.2222222222222222,\"#7201a8\"],[0.3333333333333333,\"#9c179e\"],[0.4444444444444444,\"#bd3786\"],[0.5555555555555556,\"#d8576b\"],[0.6666666666666666,\"#ed7953\"],[0.7777777777777778,\"#fb9f3a\"],[0.8888888888888888,\"#fdca26\"],[1.0,\"#f0f921\"]],\"type\":\"heatmapgl\"}],\"histogram\":[{\"marker\":{\"pattern\":{\"fillmode\":\"overlay\",\"size\":10,\"solidity\":0.2}},\"type\":\"histogram\"}],\"histogram2d\":[{\"colorbar\":{\"outlinewidth\":0,\"ticks\":\"\"},\"colorscale\":[[0.0,\"#0d0887\"],[0.1111111111111111,\"#46039f\"],[0.2222222222222222,\"#7201a8\"],[0.3333333333333333,\"#9c179e\"],[0.4444444444444444,\"#bd3786\"],[0.5555555555555556,\"#d8576b\"],[0.6666666666666666,\"#ed7953\"],[0.7777777777777778,\"#fb9f3a\"],[0.8888888888888888,\"#fdca26\"],[1.0,\"#f0f921\"]],\"type\":\"histogram2d\"}],\"histogram2dcontour\":[{\"colorbar\":{\"outlinewidth\":0,\"ticks\":\"\"},\"colorscale\":[[0.0,\"#0d0887\"],[0.1111111111111111,\"#46039f\"],[0.2222222222222222,\"#7201a8\"],[0.3333333333333333,\"#9c179e\"],[0.4444444444444444,\"#bd3786\"],[0.5555555555555556,\"#d8576b\"],[0.6666666666666666,\"#ed7953\"],[0.7777777777777778,\"#fb9f3a\"],[0.8888888888888888,\"#fdca26\"],[1.0,\"#f0f921\"]],\"type\":\"histogram2dcontour\"}],\"mesh3d\":[{\"colorbar\":{\"outlinewidth\":0,\"ticks\":\"\"},\"type\":\"mesh3d\"}],\"parcoords\":[{\"line\":{\"colorbar\":{\"outlinewidth\":0,\"ticks\":\"\"}},\"type\":\"parcoords\"}],\"pie\":[{\"automargin\":true,\"type\":\"pie\"}],\"scatter\":[{\"marker\":{\"colorbar\":{\"outlinewidth\":0,\"ticks\":\"\"}},\"type\":\"scatter\"}],\"scatter3d\":[{\"line\":{\"colorbar\":{\"outlinewidth\":0,\"ticks\":\"\"}},\"marker\":{\"colorbar\":{\"outlinewidth\":0,\"ticks\":\"\"}},\"type\":\"scatter3d\"}],\"scattercarpet\":[{\"marker\":{\"colorbar\":{\"outlinewidth\":0,\"ticks\":\"\"}},\"type\":\"scattercarpet\"}],\"scattergeo\":[{\"marker\":{\"colorbar\":{\"outlinewidth\":0,\"ticks\":\"\"}},\"type\":\"scattergeo\"}],\"scattergl\":[{\"marker\":{\"colorbar\":{\"outlinewidth\":0,\"ticks\":\"\"}},\"type\":\"scattergl\"}],\"scattermapbox\":[{\"marker\":{\"colorbar\":{\"outlinewidth\":0,\"ticks\":\"\"}},\"type\":\"scattermapbox\"}],\"scatterpolar\":[{\"marker\":{\"colorbar\":{\"outlinewidth\":0,\"ticks\":\"\"}},\"type\":\"scatterpolar\"}],\"scatterpolargl\":[{\"marker\":{\"colorbar\":{\"outlinewidth\":0,\"ticks\":\"\"}},\"type\":\"scatterpolargl\"}],\"scatterternary\":[{\"marker\":{\"colorbar\":{\"outlinewidth\":0,\"ticks\":\"\"}},\"type\":\"scatterternary\"}],\"surface\":[{\"colorbar\":{\"outlinewidth\":0,\"ticks\":\"\"},\"colorscale\":[[0.0,\"#0d0887\"],[0.1111111111111111,\"#46039f\"],[0.2222222222222222,\"#7201a8\"],[0.3333333333333333,\"#9c179e\"],[0.4444444444444444,\"#bd3786\"],[0.5555555555555556,\"#d8576b\"],[0.6666666666666666,\"#ed7953\"],[0.7777777777777778,\"#fb9f3a\"],[0.8888888888888888,\"#fdca26\"],[1.0,\"#f0f921\"]],\"type\":\"surface\"}],\"table\":[{\"cells\":{\"fill\":{\"color\":\"#EBF0F8\"},\"line\":{\"color\":\"white\"}},\"header\":{\"fill\":{\"color\":\"#C8D4E3\"},\"line\":{\"color\":\"white\"}},\"type\":\"table\"}]},\"layout\":{\"annotationdefaults\":{\"arrowcolor\":\"#2a3f5f\",\"arrowhead\":0,\"arrowwidth\":1},\"autotypenumbers\":\"strict\",\"coloraxis\":{\"colorbar\":{\"outlinewidth\":0,\"ticks\":\"\"}},\"colorscale\":{\"diverging\":[[0,\"#8e0152\"],[0.1,\"#c51b7d\"],[0.2,\"#de77ae\"],[0.3,\"#f1b6da\"],[0.4,\"#fde0ef\"],[0.5,\"#f7f7f7\"],[0.6,\"#e6f5d0\"],[0.7,\"#b8e186\"],[0.8,\"#7fbc41\"],[0.9,\"#4d9221\"],[1,\"#276419\"]],\"sequential\":[[0.0,\"#0d0887\"],[0.1111111111111111,\"#46039f\"],[0.2222222222222222,\"#7201a8\"],[0.3333333333333333,\"#9c179e\"],[0.4444444444444444,\"#bd3786\"],[0.5555555555555556,\"#d8576b\"],[0.6666666666666666,\"#ed7953\"],[0.7777777777777778,\"#fb9f3a\"],[0.8888888888888888,\"#fdca26\"],[1.0,\"#f0f921\"]],\"sequentialminus\":[[0.0,\"#0d0887\"],[0.1111111111111111,\"#46039f\"],[0.2222222222222222,\"#7201a8\"],[0.3333333333333333,\"#9c179e\"],[0.4444444444444444,\"#bd3786\"],[0.5555555555555556,\"#d8576b\"],[0.6666666666666666,\"#ed7953\"],[0.7777777777777778,\"#fb9f3a\"],[0.8888888888888888,\"#fdca26\"],[1.0,\"#f0f921\"]]},\"colorway\":[\"#636efa\",\"#EF553B\",\"#00cc96\",\"#ab63fa\",\"#FFA15A\",\"#19d3f3\",\"#FF6692\",\"#B6E880\",\"#FF97FF\",\"#FECB52\"],\"font\":{\"color\":\"#2a3f5f\"},\"geo\":{\"bgcolor\":\"white\",\"lakecolor\":\"white\",\"landcolor\":\"#E5ECF6\",\"showlakes\":true,\"showland\":true,\"subunitcolor\":\"white\"},\"hoverlabel\":{\"align\":\"left\"},\"hovermode\":\"closest\",\"mapbox\":{\"style\":\"light\"},\"paper_bgcolor\":\"white\",\"plot_bgcolor\":\"#E5ECF6\",\"polar\":{\"angularaxis\":{\"gridcolor\":\"white\",\"linecolor\":\"white\",\"ticks\":\"\"},\"bgcolor\":\"#E5ECF6\",\"radialaxis\":{\"gridcolor\":\"white\",\"linecolor\":\"white\",\"ticks\":\"\"}},\"scene\":{\"xaxis\":{\"backgroundcolor\":\"#E5ECF6\",\"gridcolor\":\"white\",\"gridwidth\":2,\"linecolor\":\"white\",\"showbackground\":true,\"ticks\":\"\",\"zerolinecolor\":\"white\"},\"yaxis\":{\"backgroundcolor\":\"#E5ECF6\",\"gridcolor\":\"white\",\"gridwidth\":2,\"linecolor\":\"white\",\"showbackground\":true,\"ticks\":\"\",\"zerolinecolor\":\"white\"},\"zaxis\":{\"backgroundcolor\":\"#E5ECF6\",\"gridcolor\":\"white\",\"gridwidth\":2,\"linecolor\":\"white\",\"showbackground\":true,\"ticks\":\"\",\"zerolinecolor\":\"white\"}},\"shapedefaults\":{\"line\":{\"color\":\"#2a3f5f\"}},\"ternary\":{\"aaxis\":{\"gridcolor\":\"white\",\"linecolor\":\"white\",\"ticks\":\"\"},\"baxis\":{\"gridcolor\":\"white\",\"linecolor\":\"white\",\"ticks\":\"\"},\"bgcolor\":\"#E5ECF6\",\"caxis\":{\"gridcolor\":\"white\",\"linecolor\":\"white\",\"ticks\":\"\"}},\"title\":{\"x\":0.05},\"xaxis\":{\"automargin\":true,\"gridcolor\":\"white\",\"linecolor\":\"white\",\"ticks\":\"\",\"title\":{\"standoff\":15},\"zerolinecolor\":\"white\",\"zerolinewidth\":2},\"yaxis\":{\"automargin\":true,\"gridcolor\":\"white\",\"linecolor\":\"white\",\"ticks\":\"\",\"title\":{\"standoff\":15},\"zerolinecolor\":\"white\",\"zerolinewidth\":2}}}},                        {\"responsive\": true}                    ).then(function(){\n",
              "                            \n",
              "var gd = document.getElementById('add454b5-e5fa-463d-9026-f403abce7d5c');\n",
              "var x = new MutationObserver(function (mutations, observer) {{\n",
              "        var display = window.getComputedStyle(gd).display;\n",
              "        if (!display || display === 'none') {{\n",
              "            console.log([gd, 'removed!']);\n",
              "            Plotly.purge(gd);\n",
              "            observer.disconnect();\n",
              "        }}\n",
              "}});\n",
              "\n",
              "// Listen for the removal of the full notebook cells\n",
              "var notebookContainer = gd.closest('#notebook-container');\n",
              "if (notebookContainer) {{\n",
              "    x.observe(notebookContainer, {childList: true});\n",
              "}}\n",
              "\n",
              "// Listen for the clearing of the current output cell\n",
              "var outputEl = gd.closest('.output');\n",
              "if (outputEl) {{\n",
              "    x.observe(outputEl, {childList: true});\n",
              "}}\n",
              "\n",
              "                        })                };                            </script>        </div>\n",
              "</body>\n",
              "</html>"
            ]
          },
          "metadata": {},
          "output_type": "display_data"
        }
      ],
      "source": [
        "visualize_simple(input_points, convex_points_list) # we do not pass traces for now"
      ]
    },
    {
      "cell_type": "markdown",
      "metadata": {
        "id": "yu_DIbZ4IKkE"
      },
      "source": [
        "## Jarvis March - aka - Gift Wrapping Algorithm\n",
        "\n",
        "\n",
        "Jarvis March, also known as the Gift Wrapping algorithm, is a method for finding the convex hull of a set of points in a 2D plane. It is called the Gift Wrapping algorithm because its process is similar to wrapping a gift with a piece of string by iteratively stretching it around the outermost points of the gift. The algorithm has a time complexity of O(nh), where n is the number of input points and h is the number of points in the convex hull.\n",
        "\n",
        "Here's a detailed description of how the Jarvis March algorithm works:\n",
        "\n",
        "* Find the leftmost point: Start by identifying the point with the lowest x-coordinate, which is guaranteed to be part of the convex hull. If there are multiple points with the same x-coordinate, choose the one with the lowest y-coordinate. This point is referred to as the \"anchor\" point.\n",
        "\n",
        "* Initialize the current point: Set the current point as the anchor point.\n",
        "\n",
        "* Find the next hull point: For each point in the input set, excluding the current point, determine the point that forms the smallest clockwise angle (also known as the smallest polar angle) with the current point and the positive x-axis (or the line segment connecting the current point and the previous hull point, after the first iteration). In other words, find the point that would create a right turn if we were to move from the previous hull point to the current point and then to the candidate point. The point with the smallest clockwise angle becomes the next hull point.\n",
        "\n",
        "* Check for termination: If the next hull point is the anchor point, the algorithm terminates, and the convex hull is complete. If not, set the current point as the next hull point and repeat step 3.\n",
        "\n",
        "* Convex hull: The sequence of points visited in the clockwise direction forms the convex hull.\n",
        "\n",
        "The Jarvis March algorithm is relatively simple to understand and implement. However, its time complexity depends on the number of points in the convex hull (h). In the worst case, when all points are part of the convex hull, the algorithm has a time complexity of O(n^2). This makes it less efficient than other algorithms like Graham's Scan or Chan's Algorithm for larger input sets or when the convex hull has many points. However, Jarvis March can be more efficient for cases where the convex hull has a small number of points, regardless of the total number of input points.\n",
        "\n"
      ]
    },
    {
      "cell_type": "markdown",
      "metadata": {
        "id": "cwlpj-9FIKkF"
      },
      "source": [
        "![Gift](https://upload.wikimedia.org/wikipedia/commons/9/9c/Animation_depicting_the_gift_wrapping_algorithm.gif)"
      ]
    },
    {
      "cell_type": "code",
      "execution_count": 24,
      "metadata": {
        "colab": {
          "base_uri": "https://localhost:8080/"
        },
        "id": "T2wYtQHHIKkF",
        "outputId": "781156e6-7017-486e-f2aa-77f6f73e7efb"
      },
      "outputs": [
        {
          "name": "stdout",
          "output_type": "stream",
          "text": [
            "[(1, 1), (5, 3), (2, 5)]\n"
          ]
        }
      ],
      "source": [
        "def leftmost_point(points):\n",
        "    return min(points, key=lambda point: (point[0], point[1]))\n",
        "\n",
        "def orientation(p0, p1, p2):\n",
        "    return (p1[1] - p0[1]) * (p2[0] - p0[0]) - (p1[0] - p0[0]) * (p2[1] - p0[1])\n",
        "\n",
        "def jarvis_march(points):\n",
        "    if len(points) < 3:\n",
        "        return points\n",
        "\n",
        "    # Step 1: Find the leftmost point\n",
        "    anchor = leftmost_point(points)\n",
        "\n",
        "    # Initialize the convex hull\n",
        "    convex_hull = [anchor]\n",
        "\n",
        "    # Step 2: Initialize the current point\n",
        "    current_point = anchor\n",
        "\n",
        "    while True:\n",
        "        # Step 3: Find the next hull point\n",
        "        next_point = None\n",
        "        for candidate_point in points:\n",
        "            if candidate_point == current_point:\n",
        "                continue\n",
        "            if next_point is None or orientation(current_point, next_point, candidate_point) > 0:\n",
        "                next_point = candidate_point\n",
        "\n",
        "        # Step 4: Check for termination\n",
        "        if next_point == anchor:\n",
        "            break\n",
        "\n",
        "        # Update the current point and add the next hull point to the convex hull\n",
        "        current_point = next_point\n",
        "        convex_hull.append(next_point)\n",
        "\n",
        "    return convex_hull\n",
        "\n",
        "# Example usage:\n",
        "points = [(1, 1), (2, 5), (3, 3), (5, 3), (3, 2), (2, 2)]\n",
        "convex_hull = jarvis_march(points)\n",
        "print(convex_hull)"
      ]
    },
    {
      "cell_type": "code",
      "execution_count": 25,
      "metadata": {
        "colab": {
          "base_uri": "https://localhost:8080/"
        },
        "id": "K42JXQDrIKkF",
        "outputId": "df3937c5-3c32-4f1a-c890-75be8eb22fdc"
      },
      "outputs": [
        {
          "name": "stdout",
          "output_type": "stream",
          "text": [
            "[(1, 1), (5, 1), (5, 5), (1, 5)]\n"
          ]
        }
      ],
      "source": [
        "points = [(1, 1), (1, 5), (3, 3), (5, 5), (2, 3), (5,1)]\n",
        "convex_hull = jarvis_march(points)\n",
        "print(convex_hull)"
      ]
    },
    {
      "cell_type": "markdown",
      "metadata": {
        "id": "Ua_XYaBtIKkG"
      },
      "source": [
        "## Visualizing the Jarvis March Algorithm\n"
      ]
    },
    {
      "cell_type": "code",
      "execution_count": 26,
      "metadata": {
        "colab": {
          "base_uri": "https://localhost:8080/",
          "height": 542
        },
        "id": "4ViO-tS4IKkG",
        "outputId": "8a547276-ace4-49f8-ac04-cda2184ce1cd"
      },
      "outputs": [
        {
          "data": {
            "text/html": [
              "<html>\n",
              "<head><meta charset=\"utf-8\" /></head>\n",
              "<body>\n",
              "    <div>            <script src=\"https://cdnjs.cloudflare.com/ajax/libs/mathjax/2.7.5/MathJax.js?config=TeX-AMS-MML_SVG\"></script><script type=\"text/javascript\">if (window.MathJax) {MathJax.Hub.Config({SVG: {font: \"STIX-Web\"}});}</script>                <script type=\"text/javascript\">window.PlotlyConfig = {MathJaxConfig: 'local'};</script>\n",
              "        <script src=\"https://cdn.plot.ly/plotly-2.8.3.min.js\"></script>                <div id=\"18a30cba-aabc-4ed5-9898-b93a0d3b3c45\" class=\"plotly-graph-div\" style=\"height:525px; width:100%;\"></div>            <script type=\"text/javascript\">                                    window.PLOTLYENV=window.PLOTLYENV || {};                                    if (document.getElementById(\"18a30cba-aabc-4ed5-9898-b93a0d3b3c45\")) {                    Plotly.newPlot(                        \"18a30cba-aabc-4ed5-9898-b93a0d3b3c45\",                        [{\"marker\":{\"color\":\"blue\",\"size\":8},\"mode\":\"markers\",\"name\":\"Input Points\",\"x\":[1,2,3,5,3,2],\"y\":[1,5,3,3,2,2],\"type\":\"scatter\"},{\"line\":{\"color\":\"red\"},\"marker\":{\"color\":\"red\",\"size\":8},\"mode\":\"lines+markers\",\"name\":\"Convex Hull\",\"x\":[1,5,2,1],\"y\":[1,3,5,1],\"type\":\"scatter\"},{\"line\":{\"color\":\"gray\",\"dash\":\"dash\"},\"mode\":\"lines\",\"name\":\"Step 2\",\"x\":[1,5,1],\"y\":[1,3,1],\"type\":\"scatter\"},{\"line\":{\"color\":\"gray\",\"dash\":\"dash\"},\"mode\":\"lines\",\"name\":\"Step 3\",\"x\":[1,5,2,1],\"y\":[1,3,5,1],\"type\":\"scatter\"}],                        {\"showlegend\":true,\"title\":{\"text\":\"Jarvis March Algorithm Visualization\"},\"template\":{\"data\":{\"bar\":[{\"error_x\":{\"color\":\"#2a3f5f\"},\"error_y\":{\"color\":\"#2a3f5f\"},\"marker\":{\"line\":{\"color\":\"#E5ECF6\",\"width\":0.5},\"pattern\":{\"fillmode\":\"overlay\",\"size\":10,\"solidity\":0.2}},\"type\":\"bar\"}],\"barpolar\":[{\"marker\":{\"line\":{\"color\":\"#E5ECF6\",\"width\":0.5},\"pattern\":{\"fillmode\":\"overlay\",\"size\":10,\"solidity\":0.2}},\"type\":\"barpolar\"}],\"carpet\":[{\"aaxis\":{\"endlinecolor\":\"#2a3f5f\",\"gridcolor\":\"white\",\"linecolor\":\"white\",\"minorgridcolor\":\"white\",\"startlinecolor\":\"#2a3f5f\"},\"baxis\":{\"endlinecolor\":\"#2a3f5f\",\"gridcolor\":\"white\",\"linecolor\":\"white\",\"minorgridcolor\":\"white\",\"startlinecolor\":\"#2a3f5f\"},\"type\":\"carpet\"}],\"choropleth\":[{\"colorbar\":{\"outlinewidth\":0,\"ticks\":\"\"},\"type\":\"choropleth\"}],\"contour\":[{\"colorbar\":{\"outlinewidth\":0,\"ticks\":\"\"},\"colorscale\":[[0.0,\"#0d0887\"],[0.1111111111111111,\"#46039f\"],[0.2222222222222222,\"#7201a8\"],[0.3333333333333333,\"#9c179e\"],[0.4444444444444444,\"#bd3786\"],[0.5555555555555556,\"#d8576b\"],[0.6666666666666666,\"#ed7953\"],[0.7777777777777778,\"#fb9f3a\"],[0.8888888888888888,\"#fdca26\"],[1.0,\"#f0f921\"]],\"type\":\"contour\"}],\"contourcarpet\":[{\"colorbar\":{\"outlinewidth\":0,\"ticks\":\"\"},\"type\":\"contourcarpet\"}],\"heatmap\":[{\"colorbar\":{\"outlinewidth\":0,\"ticks\":\"\"},\"colorscale\":[[0.0,\"#0d0887\"],[0.1111111111111111,\"#46039f\"],[0.2222222222222222,\"#7201a8\"],[0.3333333333333333,\"#9c179e\"],[0.4444444444444444,\"#bd3786\"],[0.5555555555555556,\"#d8576b\"],[0.6666666666666666,\"#ed7953\"],[0.7777777777777778,\"#fb9f3a\"],[0.8888888888888888,\"#fdca26\"],[1.0,\"#f0f921\"]],\"type\":\"heatmap\"}],\"heatmapgl\":[{\"colorbar\":{\"outlinewidth\":0,\"ticks\":\"\"},\"colorscale\":[[0.0,\"#0d0887\"],[0.1111111111111111,\"#46039f\"],[0.2222222222222222,\"#7201a8\"],[0.3333333333333333,\"#9c179e\"],[0.4444444444444444,\"#bd3786\"],[0.5555555555555556,\"#d8576b\"],[0.6666666666666666,\"#ed7953\"],[0.7777777777777778,\"#fb9f3a\"],[0.8888888888888888,\"#fdca26\"],[1.0,\"#f0f921\"]],\"type\":\"heatmapgl\"}],\"histogram\":[{\"marker\":{\"pattern\":{\"fillmode\":\"overlay\",\"size\":10,\"solidity\":0.2}},\"type\":\"histogram\"}],\"histogram2d\":[{\"colorbar\":{\"outlinewidth\":0,\"ticks\":\"\"},\"colorscale\":[[0.0,\"#0d0887\"],[0.1111111111111111,\"#46039f\"],[0.2222222222222222,\"#7201a8\"],[0.3333333333333333,\"#9c179e\"],[0.4444444444444444,\"#bd3786\"],[0.5555555555555556,\"#d8576b\"],[0.6666666666666666,\"#ed7953\"],[0.7777777777777778,\"#fb9f3a\"],[0.8888888888888888,\"#fdca26\"],[1.0,\"#f0f921\"]],\"type\":\"histogram2d\"}],\"histogram2dcontour\":[{\"colorbar\":{\"outlinewidth\":0,\"ticks\":\"\"},\"colorscale\":[[0.0,\"#0d0887\"],[0.1111111111111111,\"#46039f\"],[0.2222222222222222,\"#7201a8\"],[0.3333333333333333,\"#9c179e\"],[0.4444444444444444,\"#bd3786\"],[0.5555555555555556,\"#d8576b\"],[0.6666666666666666,\"#ed7953\"],[0.7777777777777778,\"#fb9f3a\"],[0.8888888888888888,\"#fdca26\"],[1.0,\"#f0f921\"]],\"type\":\"histogram2dcontour\"}],\"mesh3d\":[{\"colorbar\":{\"outlinewidth\":0,\"ticks\":\"\"},\"type\":\"mesh3d\"}],\"parcoords\":[{\"line\":{\"colorbar\":{\"outlinewidth\":0,\"ticks\":\"\"}},\"type\":\"parcoords\"}],\"pie\":[{\"automargin\":true,\"type\":\"pie\"}],\"scatter\":[{\"marker\":{\"colorbar\":{\"outlinewidth\":0,\"ticks\":\"\"}},\"type\":\"scatter\"}],\"scatter3d\":[{\"line\":{\"colorbar\":{\"outlinewidth\":0,\"ticks\":\"\"}},\"marker\":{\"colorbar\":{\"outlinewidth\":0,\"ticks\":\"\"}},\"type\":\"scatter3d\"}],\"scattercarpet\":[{\"marker\":{\"colorbar\":{\"outlinewidth\":0,\"ticks\":\"\"}},\"type\":\"scattercarpet\"}],\"scattergeo\":[{\"marker\":{\"colorbar\":{\"outlinewidth\":0,\"ticks\":\"\"}},\"type\":\"scattergeo\"}],\"scattergl\":[{\"marker\":{\"colorbar\":{\"outlinewidth\":0,\"ticks\":\"\"}},\"type\":\"scattergl\"}],\"scattermapbox\":[{\"marker\":{\"colorbar\":{\"outlinewidth\":0,\"ticks\":\"\"}},\"type\":\"scattermapbox\"}],\"scatterpolar\":[{\"marker\":{\"colorbar\":{\"outlinewidth\":0,\"ticks\":\"\"}},\"type\":\"scatterpolar\"}],\"scatterpolargl\":[{\"marker\":{\"colorbar\":{\"outlinewidth\":0,\"ticks\":\"\"}},\"type\":\"scatterpolargl\"}],\"scatterternary\":[{\"marker\":{\"colorbar\":{\"outlinewidth\":0,\"ticks\":\"\"}},\"type\":\"scatterternary\"}],\"surface\":[{\"colorbar\":{\"outlinewidth\":0,\"ticks\":\"\"},\"colorscale\":[[0.0,\"#0d0887\"],[0.1111111111111111,\"#46039f\"],[0.2222222222222222,\"#7201a8\"],[0.3333333333333333,\"#9c179e\"],[0.4444444444444444,\"#bd3786\"],[0.5555555555555556,\"#d8576b\"],[0.6666666666666666,\"#ed7953\"],[0.7777777777777778,\"#fb9f3a\"],[0.8888888888888888,\"#fdca26\"],[1.0,\"#f0f921\"]],\"type\":\"surface\"}],\"table\":[{\"cells\":{\"fill\":{\"color\":\"#EBF0F8\"},\"line\":{\"color\":\"white\"}},\"header\":{\"fill\":{\"color\":\"#C8D4E3\"},\"line\":{\"color\":\"white\"}},\"type\":\"table\"}]},\"layout\":{\"annotationdefaults\":{\"arrowcolor\":\"#2a3f5f\",\"arrowhead\":0,\"arrowwidth\":1},\"autotypenumbers\":\"strict\",\"coloraxis\":{\"colorbar\":{\"outlinewidth\":0,\"ticks\":\"\"}},\"colorscale\":{\"diverging\":[[0,\"#8e0152\"],[0.1,\"#c51b7d\"],[0.2,\"#de77ae\"],[0.3,\"#f1b6da\"],[0.4,\"#fde0ef\"],[0.5,\"#f7f7f7\"],[0.6,\"#e6f5d0\"],[0.7,\"#b8e186\"],[0.8,\"#7fbc41\"],[0.9,\"#4d9221\"],[1,\"#276419\"]],\"sequential\":[[0.0,\"#0d0887\"],[0.1111111111111111,\"#46039f\"],[0.2222222222222222,\"#7201a8\"],[0.3333333333333333,\"#9c179e\"],[0.4444444444444444,\"#bd3786\"],[0.5555555555555556,\"#d8576b\"],[0.6666666666666666,\"#ed7953\"],[0.7777777777777778,\"#fb9f3a\"],[0.8888888888888888,\"#fdca26\"],[1.0,\"#f0f921\"]],\"sequentialminus\":[[0.0,\"#0d0887\"],[0.1111111111111111,\"#46039f\"],[0.2222222222222222,\"#7201a8\"],[0.3333333333333333,\"#9c179e\"],[0.4444444444444444,\"#bd3786\"],[0.5555555555555556,\"#d8576b\"],[0.6666666666666666,\"#ed7953\"],[0.7777777777777778,\"#fb9f3a\"],[0.8888888888888888,\"#fdca26\"],[1.0,\"#f0f921\"]]},\"colorway\":[\"#636efa\",\"#EF553B\",\"#00cc96\",\"#ab63fa\",\"#FFA15A\",\"#19d3f3\",\"#FF6692\",\"#B6E880\",\"#FF97FF\",\"#FECB52\"],\"font\":{\"color\":\"#2a3f5f\"},\"geo\":{\"bgcolor\":\"white\",\"lakecolor\":\"white\",\"landcolor\":\"#E5ECF6\",\"showlakes\":true,\"showland\":true,\"subunitcolor\":\"white\"},\"hoverlabel\":{\"align\":\"left\"},\"hovermode\":\"closest\",\"mapbox\":{\"style\":\"light\"},\"paper_bgcolor\":\"white\",\"plot_bgcolor\":\"#E5ECF6\",\"polar\":{\"angularaxis\":{\"gridcolor\":\"white\",\"linecolor\":\"white\",\"ticks\":\"\"},\"bgcolor\":\"#E5ECF6\",\"radialaxis\":{\"gridcolor\":\"white\",\"linecolor\":\"white\",\"ticks\":\"\"}},\"scene\":{\"xaxis\":{\"backgroundcolor\":\"#E5ECF6\",\"gridcolor\":\"white\",\"gridwidth\":2,\"linecolor\":\"white\",\"showbackground\":true,\"ticks\":\"\",\"zerolinecolor\":\"white\"},\"yaxis\":{\"backgroundcolor\":\"#E5ECF6\",\"gridcolor\":\"white\",\"gridwidth\":2,\"linecolor\":\"white\",\"showbackground\":true,\"ticks\":\"\",\"zerolinecolor\":\"white\"},\"zaxis\":{\"backgroundcolor\":\"#E5ECF6\",\"gridcolor\":\"white\",\"gridwidth\":2,\"linecolor\":\"white\",\"showbackground\":true,\"ticks\":\"\",\"zerolinecolor\":\"white\"}},\"shapedefaults\":{\"line\":{\"color\":\"#2a3f5f\"}},\"ternary\":{\"aaxis\":{\"gridcolor\":\"white\",\"linecolor\":\"white\",\"ticks\":\"\"},\"baxis\":{\"gridcolor\":\"white\",\"linecolor\":\"white\",\"ticks\":\"\"},\"bgcolor\":\"#E5ECF6\",\"caxis\":{\"gridcolor\":\"white\",\"linecolor\":\"white\",\"ticks\":\"\"}},\"title\":{\"x\":0.05},\"xaxis\":{\"automargin\":true,\"gridcolor\":\"white\",\"linecolor\":\"white\",\"ticks\":\"\",\"title\":{\"standoff\":15},\"zerolinecolor\":\"white\",\"zerolinewidth\":2},\"yaxis\":{\"automargin\":true,\"gridcolor\":\"white\",\"linecolor\":\"white\",\"ticks\":\"\",\"title\":{\"standoff\":15},\"zerolinecolor\":\"white\",\"zerolinewidth\":2}}}},                        {\"responsive\": true}                    ).then(function(){\n",
              "                            \n",
              "var gd = document.getElementById('18a30cba-aabc-4ed5-9898-b93a0d3b3c45');\n",
              "var x = new MutationObserver(function (mutations, observer) {{\n",
              "        var display = window.getComputedStyle(gd).display;\n",
              "        if (!display || display === 'none') {{\n",
              "            console.log([gd, 'removed!']);\n",
              "            Plotly.purge(gd);\n",
              "            observer.disconnect();\n",
              "        }}\n",
              "}});\n",
              "\n",
              "// Listen for the removal of the full notebook cells\n",
              "var notebookContainer = gd.closest('#notebook-container');\n",
              "if (notebookContainer) {{\n",
              "    x.observe(notebookContainer, {childList: true});\n",
              "}}\n",
              "\n",
              "// Listen for the clearing of the current output cell\n",
              "var outputEl = gd.closest('.output');\n",
              "if (outputEl) {{\n",
              "    x.observe(outputEl, {childList: true});\n",
              "}}\n",
              "\n",
              "                        })                };                            </script>        </div>\n",
              "</body>\n",
              "</html>"
            ]
          },
          "metadata": {},
          "output_type": "display_data"
        }
      ],
      "source": [
        "def jarvis_march_trace(points):\n",
        "    if len(points) < 3:\n",
        "        return points, []\n",
        "\n",
        "    # ... (same as before)\n",
        "    anchor = leftmost_point(points)\n",
        "    convex_hull = [anchor]\n",
        "    current_point = anchor\n",
        "    convex_hull_trace = []\n",
        "\n",
        "    while True:\n",
        "        next_point = None\n",
        "        for candidate_point in points:\n",
        "            if candidate_point == current_point:\n",
        "                continue\n",
        "            if next_point is None or orientation(current_point, next_point, candidate_point) > 0:\n",
        "                next_point = candidate_point\n",
        "\n",
        "        if next_point == anchor:\n",
        "            break\n",
        "\n",
        "        current_point = next_point\n",
        "        convex_hull.append(next_point)\n",
        "        convex_hull_trace.append(go.Scatter(x=[point[0] for point in convex_hull] + [convex_hull[0][0]],\n",
        "                                            y=[point[1] for point in convex_hull] + [convex_hull[0][1]],\n",
        "                                            mode=\"lines\",\n",
        "                                            line=dict(color=\"gray\", dash=\"dash\"),\n",
        "                                            name=f\"Step {len(convex_hull)}\"))\n",
        "\n",
        "    return convex_hull, convex_hull_trace\n",
        "\n",
        "def visualize(points, convex_hull, convex_hull_trace):\n",
        "    input_points = go.Scatter(\n",
        "        x=[point[0] for point in points],\n",
        "        y=[point[1] for point in points],\n",
        "        mode=\"markers\",\n",
        "        marker=dict(size=8, color=\"blue\"),\n",
        "        name=\"Input Points\",\n",
        "    )\n",
        "\n",
        "    hull_points = go.Scatter(\n",
        "        x=[point[0] for point in convex_hull] + [convex_hull[0][0]],\n",
        "        y=[point[1] for point in convex_hull] + [convex_hull[0][1]],\n",
        "        mode=\"lines+markers\",\n",
        "        marker=dict(size=8, color=\"red\"),\n",
        "        line=dict(color=\"red\"),\n",
        "        name=\"Convex Hull\",\n",
        "    )\n",
        "\n",
        "    traces = [input_points, hull_points] + convex_hull_trace\n",
        "    layout = go.Layout(title=\"Jarvis March Algorithm Visualization\", showlegend=True)\n",
        "\n",
        "    fig = go.Figure(data=traces, layout=layout)\n",
        "    fig.show()\n",
        "\n",
        "points = [(1, 1), (2, 5), (3, 3), (5, 3), (3, 2), (2, 2)]\n",
        "convex_hull, convex_hull_trace = jarvis_march_trace(points)\n",
        "visualize(points, convex_hull, convex_hull_trace)"
      ]
    },
    {
      "cell_type": "code",
      "execution_count": null,
      "metadata": {},
      "outputs": [],
      "source": []
    },
    {
      "cell_type": "code",
      "execution_count": 27,
      "metadata": {
        "colab": {
          "base_uri": "https://localhost:8080/",
          "height": 542
        },
        "id": "q__o5WrcIKkG",
        "outputId": "ebd412f9-5b86-4619-bb31-ef2c5e3d2b3c"
      },
      "outputs": [
        {
          "data": {
            "text/html": [
              "<html>\n",
              "<head><meta charset=\"utf-8\" /></head>\n",
              "<body>\n",
              "    <div>            <script src=\"https://cdnjs.cloudflare.com/ajax/libs/mathjax/2.7.5/MathJax.js?config=TeX-AMS-MML_SVG\"></script><script type=\"text/javascript\">if (window.MathJax) {MathJax.Hub.Config({SVG: {font: \"STIX-Web\"}});}</script>                <script type=\"text/javascript\">window.PlotlyConfig = {MathJaxConfig: 'local'};</script>\n",
              "        <script src=\"https://cdn.plot.ly/plotly-2.8.3.min.js\"></script>                <div id=\"bcf30714-467f-4d3a-beb8-9f94979a5777\" class=\"plotly-graph-div\" style=\"height:525px; width:100%;\"></div>            <script type=\"text/javascript\">                                    window.PLOTLYENV=window.PLOTLYENV || {};                                    if (document.getElementById(\"bcf30714-467f-4d3a-beb8-9f94979a5777\")) {                    Plotly.newPlot(                        \"bcf30714-467f-4d3a-beb8-9f94979a5777\",                        [{\"marker\":{\"color\":\"blue\",\"size\":8},\"mode\":\"markers\",\"name\":\"Input Points\",\"x\":[1,2,4,5,6,2,3,3],\"y\":[1,3,5,7,1,2,3,0.5],\"type\":\"scatter\"},{\"line\":{\"color\":\"red\"},\"marker\":{\"color\":\"red\",\"size\":8},\"mode\":\"lines+markers\",\"name\":\"Convex Hull\",\"x\":[1,3,6,5,2,1],\"y\":[1,0.5,1,7,3,1],\"type\":\"scatter\"},{\"line\":{\"color\":\"gray\",\"dash\":\"dash\"},\"mode\":\"lines\",\"name\":\"Step 2\",\"x\":[1,3,1],\"y\":[1,0.5,1],\"type\":\"scatter\"},{\"line\":{\"color\":\"gray\",\"dash\":\"dash\"},\"mode\":\"lines\",\"name\":\"Step 3\",\"x\":[1,3,6,1],\"y\":[1,0.5,1,1],\"type\":\"scatter\"},{\"line\":{\"color\":\"gray\",\"dash\":\"dash\"},\"mode\":\"lines\",\"name\":\"Step 4\",\"x\":[1,3,6,5,1],\"y\":[1,0.5,1,7,1],\"type\":\"scatter\"},{\"line\":{\"color\":\"gray\",\"dash\":\"dash\"},\"mode\":\"lines\",\"name\":\"Step 5\",\"x\":[1,3,6,5,2,1],\"y\":[1,0.5,1,7,3,1],\"type\":\"scatter\"}],                        {\"showlegend\":true,\"title\":{\"text\":\"Jarvis March Algorithm Visualization\"},\"template\":{\"data\":{\"bar\":[{\"error_x\":{\"color\":\"#2a3f5f\"},\"error_y\":{\"color\":\"#2a3f5f\"},\"marker\":{\"line\":{\"color\":\"#E5ECF6\",\"width\":0.5},\"pattern\":{\"fillmode\":\"overlay\",\"size\":10,\"solidity\":0.2}},\"type\":\"bar\"}],\"barpolar\":[{\"marker\":{\"line\":{\"color\":\"#E5ECF6\",\"width\":0.5},\"pattern\":{\"fillmode\":\"overlay\",\"size\":10,\"solidity\":0.2}},\"type\":\"barpolar\"}],\"carpet\":[{\"aaxis\":{\"endlinecolor\":\"#2a3f5f\",\"gridcolor\":\"white\",\"linecolor\":\"white\",\"minorgridcolor\":\"white\",\"startlinecolor\":\"#2a3f5f\"},\"baxis\":{\"endlinecolor\":\"#2a3f5f\",\"gridcolor\":\"white\",\"linecolor\":\"white\",\"minorgridcolor\":\"white\",\"startlinecolor\":\"#2a3f5f\"},\"type\":\"carpet\"}],\"choropleth\":[{\"colorbar\":{\"outlinewidth\":0,\"ticks\":\"\"},\"type\":\"choropleth\"}],\"contour\":[{\"colorbar\":{\"outlinewidth\":0,\"ticks\":\"\"},\"colorscale\":[[0.0,\"#0d0887\"],[0.1111111111111111,\"#46039f\"],[0.2222222222222222,\"#7201a8\"],[0.3333333333333333,\"#9c179e\"],[0.4444444444444444,\"#bd3786\"],[0.5555555555555556,\"#d8576b\"],[0.6666666666666666,\"#ed7953\"],[0.7777777777777778,\"#fb9f3a\"],[0.8888888888888888,\"#fdca26\"],[1.0,\"#f0f921\"]],\"type\":\"contour\"}],\"contourcarpet\":[{\"colorbar\":{\"outlinewidth\":0,\"ticks\":\"\"},\"type\":\"contourcarpet\"}],\"heatmap\":[{\"colorbar\":{\"outlinewidth\":0,\"ticks\":\"\"},\"colorscale\":[[0.0,\"#0d0887\"],[0.1111111111111111,\"#46039f\"],[0.2222222222222222,\"#7201a8\"],[0.3333333333333333,\"#9c179e\"],[0.4444444444444444,\"#bd3786\"],[0.5555555555555556,\"#d8576b\"],[0.6666666666666666,\"#ed7953\"],[0.7777777777777778,\"#fb9f3a\"],[0.8888888888888888,\"#fdca26\"],[1.0,\"#f0f921\"]],\"type\":\"heatmap\"}],\"heatmapgl\":[{\"colorbar\":{\"outlinewidth\":0,\"ticks\":\"\"},\"colorscale\":[[0.0,\"#0d0887\"],[0.1111111111111111,\"#46039f\"],[0.2222222222222222,\"#7201a8\"],[0.3333333333333333,\"#9c179e\"],[0.4444444444444444,\"#bd3786\"],[0.5555555555555556,\"#d8576b\"],[0.6666666666666666,\"#ed7953\"],[0.7777777777777778,\"#fb9f3a\"],[0.8888888888888888,\"#fdca26\"],[1.0,\"#f0f921\"]],\"type\":\"heatmapgl\"}],\"histogram\":[{\"marker\":{\"pattern\":{\"fillmode\":\"overlay\",\"size\":10,\"solidity\":0.2}},\"type\":\"histogram\"}],\"histogram2d\":[{\"colorbar\":{\"outlinewidth\":0,\"ticks\":\"\"},\"colorscale\":[[0.0,\"#0d0887\"],[0.1111111111111111,\"#46039f\"],[0.2222222222222222,\"#7201a8\"],[0.3333333333333333,\"#9c179e\"],[0.4444444444444444,\"#bd3786\"],[0.5555555555555556,\"#d8576b\"],[0.6666666666666666,\"#ed7953\"],[0.7777777777777778,\"#fb9f3a\"],[0.8888888888888888,\"#fdca26\"],[1.0,\"#f0f921\"]],\"type\":\"histogram2d\"}],\"histogram2dcontour\":[{\"colorbar\":{\"outlinewidth\":0,\"ticks\":\"\"},\"colorscale\":[[0.0,\"#0d0887\"],[0.1111111111111111,\"#46039f\"],[0.2222222222222222,\"#7201a8\"],[0.3333333333333333,\"#9c179e\"],[0.4444444444444444,\"#bd3786\"],[0.5555555555555556,\"#d8576b\"],[0.6666666666666666,\"#ed7953\"],[0.7777777777777778,\"#fb9f3a\"],[0.8888888888888888,\"#fdca26\"],[1.0,\"#f0f921\"]],\"type\":\"histogram2dcontour\"}],\"mesh3d\":[{\"colorbar\":{\"outlinewidth\":0,\"ticks\":\"\"},\"type\":\"mesh3d\"}],\"parcoords\":[{\"line\":{\"colorbar\":{\"outlinewidth\":0,\"ticks\":\"\"}},\"type\":\"parcoords\"}],\"pie\":[{\"automargin\":true,\"type\":\"pie\"}],\"scatter\":[{\"marker\":{\"colorbar\":{\"outlinewidth\":0,\"ticks\":\"\"}},\"type\":\"scatter\"}],\"scatter3d\":[{\"line\":{\"colorbar\":{\"outlinewidth\":0,\"ticks\":\"\"}},\"marker\":{\"colorbar\":{\"outlinewidth\":0,\"ticks\":\"\"}},\"type\":\"scatter3d\"}],\"scattercarpet\":[{\"marker\":{\"colorbar\":{\"outlinewidth\":0,\"ticks\":\"\"}},\"type\":\"scattercarpet\"}],\"scattergeo\":[{\"marker\":{\"colorbar\":{\"outlinewidth\":0,\"ticks\":\"\"}},\"type\":\"scattergeo\"}],\"scattergl\":[{\"marker\":{\"colorbar\":{\"outlinewidth\":0,\"ticks\":\"\"}},\"type\":\"scattergl\"}],\"scattermapbox\":[{\"marker\":{\"colorbar\":{\"outlinewidth\":0,\"ticks\":\"\"}},\"type\":\"scattermapbox\"}],\"scatterpolar\":[{\"marker\":{\"colorbar\":{\"outlinewidth\":0,\"ticks\":\"\"}},\"type\":\"scatterpolar\"}],\"scatterpolargl\":[{\"marker\":{\"colorbar\":{\"outlinewidth\":0,\"ticks\":\"\"}},\"type\":\"scatterpolargl\"}],\"scatterternary\":[{\"marker\":{\"colorbar\":{\"outlinewidth\":0,\"ticks\":\"\"}},\"type\":\"scatterternary\"}],\"surface\":[{\"colorbar\":{\"outlinewidth\":0,\"ticks\":\"\"},\"colorscale\":[[0.0,\"#0d0887\"],[0.1111111111111111,\"#46039f\"],[0.2222222222222222,\"#7201a8\"],[0.3333333333333333,\"#9c179e\"],[0.4444444444444444,\"#bd3786\"],[0.5555555555555556,\"#d8576b\"],[0.6666666666666666,\"#ed7953\"],[0.7777777777777778,\"#fb9f3a\"],[0.8888888888888888,\"#fdca26\"],[1.0,\"#f0f921\"]],\"type\":\"surface\"}],\"table\":[{\"cells\":{\"fill\":{\"color\":\"#EBF0F8\"},\"line\":{\"color\":\"white\"}},\"header\":{\"fill\":{\"color\":\"#C8D4E3\"},\"line\":{\"color\":\"white\"}},\"type\":\"table\"}]},\"layout\":{\"annotationdefaults\":{\"arrowcolor\":\"#2a3f5f\",\"arrowhead\":0,\"arrowwidth\":1},\"autotypenumbers\":\"strict\",\"coloraxis\":{\"colorbar\":{\"outlinewidth\":0,\"ticks\":\"\"}},\"colorscale\":{\"diverging\":[[0,\"#8e0152\"],[0.1,\"#c51b7d\"],[0.2,\"#de77ae\"],[0.3,\"#f1b6da\"],[0.4,\"#fde0ef\"],[0.5,\"#f7f7f7\"],[0.6,\"#e6f5d0\"],[0.7,\"#b8e186\"],[0.8,\"#7fbc41\"],[0.9,\"#4d9221\"],[1,\"#276419\"]],\"sequential\":[[0.0,\"#0d0887\"],[0.1111111111111111,\"#46039f\"],[0.2222222222222222,\"#7201a8\"],[0.3333333333333333,\"#9c179e\"],[0.4444444444444444,\"#bd3786\"],[0.5555555555555556,\"#d8576b\"],[0.6666666666666666,\"#ed7953\"],[0.7777777777777778,\"#fb9f3a\"],[0.8888888888888888,\"#fdca26\"],[1.0,\"#f0f921\"]],\"sequentialminus\":[[0.0,\"#0d0887\"],[0.1111111111111111,\"#46039f\"],[0.2222222222222222,\"#7201a8\"],[0.3333333333333333,\"#9c179e\"],[0.4444444444444444,\"#bd3786\"],[0.5555555555555556,\"#d8576b\"],[0.6666666666666666,\"#ed7953\"],[0.7777777777777778,\"#fb9f3a\"],[0.8888888888888888,\"#fdca26\"],[1.0,\"#f0f921\"]]},\"colorway\":[\"#636efa\",\"#EF553B\",\"#00cc96\",\"#ab63fa\",\"#FFA15A\",\"#19d3f3\",\"#FF6692\",\"#B6E880\",\"#FF97FF\",\"#FECB52\"],\"font\":{\"color\":\"#2a3f5f\"},\"geo\":{\"bgcolor\":\"white\",\"lakecolor\":\"white\",\"landcolor\":\"#E5ECF6\",\"showlakes\":true,\"showland\":true,\"subunitcolor\":\"white\"},\"hoverlabel\":{\"align\":\"left\"},\"hovermode\":\"closest\",\"mapbox\":{\"style\":\"light\"},\"paper_bgcolor\":\"white\",\"plot_bgcolor\":\"#E5ECF6\",\"polar\":{\"angularaxis\":{\"gridcolor\":\"white\",\"linecolor\":\"white\",\"ticks\":\"\"},\"bgcolor\":\"#E5ECF6\",\"radialaxis\":{\"gridcolor\":\"white\",\"linecolor\":\"white\",\"ticks\":\"\"}},\"scene\":{\"xaxis\":{\"backgroundcolor\":\"#E5ECF6\",\"gridcolor\":\"white\",\"gridwidth\":2,\"linecolor\":\"white\",\"showbackground\":true,\"ticks\":\"\",\"zerolinecolor\":\"white\"},\"yaxis\":{\"backgroundcolor\":\"#E5ECF6\",\"gridcolor\":\"white\",\"gridwidth\":2,\"linecolor\":\"white\",\"showbackground\":true,\"ticks\":\"\",\"zerolinecolor\":\"white\"},\"zaxis\":{\"backgroundcolor\":\"#E5ECF6\",\"gridcolor\":\"white\",\"gridwidth\":2,\"linecolor\":\"white\",\"showbackground\":true,\"ticks\":\"\",\"zerolinecolor\":\"white\"}},\"shapedefaults\":{\"line\":{\"color\":\"#2a3f5f\"}},\"ternary\":{\"aaxis\":{\"gridcolor\":\"white\",\"linecolor\":\"white\",\"ticks\":\"\"},\"baxis\":{\"gridcolor\":\"white\",\"linecolor\":\"white\",\"ticks\":\"\"},\"bgcolor\":\"#E5ECF6\",\"caxis\":{\"gridcolor\":\"white\",\"linecolor\":\"white\",\"ticks\":\"\"}},\"title\":{\"x\":0.05},\"xaxis\":{\"automargin\":true,\"gridcolor\":\"white\",\"linecolor\":\"white\",\"ticks\":\"\",\"title\":{\"standoff\":15},\"zerolinecolor\":\"white\",\"zerolinewidth\":2},\"yaxis\":{\"automargin\":true,\"gridcolor\":\"white\",\"linecolor\":\"white\",\"ticks\":\"\",\"title\":{\"standoff\":15},\"zerolinecolor\":\"white\",\"zerolinewidth\":2}}}},                        {\"responsive\": true}                    ).then(function(){\n",
              "                            \n",
              "var gd = document.getElementById('bcf30714-467f-4d3a-beb8-9f94979a5777');\n",
              "var x = new MutationObserver(function (mutations, observer) {{\n",
              "        var display = window.getComputedStyle(gd).display;\n",
              "        if (!display || display === 'none') {{\n",
              "            console.log([gd, 'removed!']);\n",
              "            Plotly.purge(gd);\n",
              "            observer.disconnect();\n",
              "        }}\n",
              "}});\n",
              "\n",
              "// Listen for the removal of the full notebook cells\n",
              "var notebookContainer = gd.closest('#notebook-container');\n",
              "if (notebookContainer) {{\n",
              "    x.observe(notebookContainer, {childList: true});\n",
              "}}\n",
              "\n",
              "// Listen for the clearing of the current output cell\n",
              "var outputEl = gd.closest('.output');\n",
              "if (outputEl) {{\n",
              "    x.observe(outputEl, {childList: true});\n",
              "}}\n",
              "\n",
              "                        })                };                            </script>        </div>\n",
              "</body>\n",
              "</html>"
            ]
          },
          "metadata": {},
          "output_type": "display_data"
        }
      ],
      "source": [
        "points = [(1, 1), (2, 3), (4, 5), (5, 7), (6, 1), (2, 2),(3,3),(3,0.5)]\n",
        "convex_hull, convex_hull_trace = jarvis_march_trace(points)\n",
        "visualize(points, convex_hull, convex_hull_trace)"
      ]
    },
    {
      "cell_type": "code",
      "execution_count": 28,
      "metadata": {
        "colab": {
          "base_uri": "https://localhost:8080/",
          "height": 542
        },
        "id": "IxEIUwFoPU3d",
        "outputId": "88f61e06-dfde-4fb3-c065-4b27729a350f"
      },
      "outputs": [
        {
          "data": {
            "text/html": [
              "<html>\n",
              "<head><meta charset=\"utf-8\" /></head>\n",
              "<body>\n",
              "    <div>            <script src=\"https://cdnjs.cloudflare.com/ajax/libs/mathjax/2.7.5/MathJax.js?config=TeX-AMS-MML_SVG\"></script><script type=\"text/javascript\">if (window.MathJax) {MathJax.Hub.Config({SVG: {font: \"STIX-Web\"}});}</script>                <script type=\"text/javascript\">window.PlotlyConfig = {MathJaxConfig: 'local'};</script>\n",
              "        <script src=\"https://cdn.plot.ly/plotly-2.8.3.min.js\"></script>                <div id=\"8f705847-3f59-4787-b16f-c35840a5ef95\" class=\"plotly-graph-div\" style=\"height:525px; width:100%;\"></div>            <script type=\"text/javascript\">                                    window.PLOTLYENV=window.PLOTLYENV || {};                                    if (document.getElementById(\"8f705847-3f59-4787-b16f-c35840a5ef95\")) {                    Plotly.newPlot(                        \"8f705847-3f59-4787-b16f-c35840a5ef95\",                        [{\"marker\":{\"color\":\"blue\",\"size\":8},\"mode\":\"markers\",\"name\":\"Input Points\",\"x\":[2.8,1.3,6.5,1.0,0.1,9.8,2.5,2.0,4.1,5.8,4.3,3.5,8.3,6.1,8.2,1.8,3.9,5.1,2.7,1.0,4.1,4.8,9.7,9.5,3.3,1.2,5.6,2.9,9.8,0.2],\"y\":[0.3,7.7,2.6,0.4,6.7,4.9,4.5,3.8,7.2,5.8,0.1,7.2,3.4,3.2,6.2,7.4,5.6,1.6,8.0,2.4,6.5,1.4,3.6,7.3,1.5,6.1,2.4,2.9,8.1,7.3],\"type\":\"scatter\"},{\"line\":{\"color\":\"red\"},\"marker\":{\"color\":\"red\",\"size\":8},\"mode\":\"lines+markers\",\"name\":\"Convex Hull\",\"x\":[0.1,1.0,4.3,9.7,9.8,9.8,2.7,1.3,0.2,0.1],\"y\":[6.7,0.4,0.1,3.6,4.9,8.1,8.0,7.7,7.3,6.7],\"type\":\"scatter\"},{\"line\":{\"color\":\"gray\",\"dash\":\"dash\"},\"mode\":\"lines\",\"name\":\"Step 2\",\"x\":[0.1,1.0,0.1],\"y\":[6.7,0.4,6.7],\"type\":\"scatter\"},{\"line\":{\"color\":\"gray\",\"dash\":\"dash\"},\"mode\":\"lines\",\"name\":\"Step 3\",\"x\":[0.1,1.0,4.3,0.1],\"y\":[6.7,0.4,0.1,6.7],\"type\":\"scatter\"},{\"line\":{\"color\":\"gray\",\"dash\":\"dash\"},\"mode\":\"lines\",\"name\":\"Step 4\",\"x\":[0.1,1.0,4.3,9.7,0.1],\"y\":[6.7,0.4,0.1,3.6,6.7],\"type\":\"scatter\"},{\"line\":{\"color\":\"gray\",\"dash\":\"dash\"},\"mode\":\"lines\",\"name\":\"Step 5\",\"x\":[0.1,1.0,4.3,9.7,9.8,0.1],\"y\":[6.7,0.4,0.1,3.6,4.9,6.7],\"type\":\"scatter\"},{\"line\":{\"color\":\"gray\",\"dash\":\"dash\"},\"mode\":\"lines\",\"name\":\"Step 6\",\"x\":[0.1,1.0,4.3,9.7,9.8,9.8,0.1],\"y\":[6.7,0.4,0.1,3.6,4.9,8.1,6.7],\"type\":\"scatter\"},{\"line\":{\"color\":\"gray\",\"dash\":\"dash\"},\"mode\":\"lines\",\"name\":\"Step 7\",\"x\":[0.1,1.0,4.3,9.7,9.8,9.8,2.7,0.1],\"y\":[6.7,0.4,0.1,3.6,4.9,8.1,8.0,6.7],\"type\":\"scatter\"},{\"line\":{\"color\":\"gray\",\"dash\":\"dash\"},\"mode\":\"lines\",\"name\":\"Step 8\",\"x\":[0.1,1.0,4.3,9.7,9.8,9.8,2.7,1.3,0.1],\"y\":[6.7,0.4,0.1,3.6,4.9,8.1,8.0,7.7,6.7],\"type\":\"scatter\"},{\"line\":{\"color\":\"gray\",\"dash\":\"dash\"},\"mode\":\"lines\",\"name\":\"Step 9\",\"x\":[0.1,1.0,4.3,9.7,9.8,9.8,2.7,1.3,0.2,0.1],\"y\":[6.7,0.4,0.1,3.6,4.9,8.1,8.0,7.7,7.3,6.7],\"type\":\"scatter\"}],                        {\"showlegend\":true,\"title\":{\"text\":\"Jarvis March Algorithm Visualization\"},\"template\":{\"data\":{\"bar\":[{\"error_x\":{\"color\":\"#2a3f5f\"},\"error_y\":{\"color\":\"#2a3f5f\"},\"marker\":{\"line\":{\"color\":\"#E5ECF6\",\"width\":0.5},\"pattern\":{\"fillmode\":\"overlay\",\"size\":10,\"solidity\":0.2}},\"type\":\"bar\"}],\"barpolar\":[{\"marker\":{\"line\":{\"color\":\"#E5ECF6\",\"width\":0.5},\"pattern\":{\"fillmode\":\"overlay\",\"size\":10,\"solidity\":0.2}},\"type\":\"barpolar\"}],\"carpet\":[{\"aaxis\":{\"endlinecolor\":\"#2a3f5f\",\"gridcolor\":\"white\",\"linecolor\":\"white\",\"minorgridcolor\":\"white\",\"startlinecolor\":\"#2a3f5f\"},\"baxis\":{\"endlinecolor\":\"#2a3f5f\",\"gridcolor\":\"white\",\"linecolor\":\"white\",\"minorgridcolor\":\"white\",\"startlinecolor\":\"#2a3f5f\"},\"type\":\"carpet\"}],\"choropleth\":[{\"colorbar\":{\"outlinewidth\":0,\"ticks\":\"\"},\"type\":\"choropleth\"}],\"contour\":[{\"colorbar\":{\"outlinewidth\":0,\"ticks\":\"\"},\"colorscale\":[[0.0,\"#0d0887\"],[0.1111111111111111,\"#46039f\"],[0.2222222222222222,\"#7201a8\"],[0.3333333333333333,\"#9c179e\"],[0.4444444444444444,\"#bd3786\"],[0.5555555555555556,\"#d8576b\"],[0.6666666666666666,\"#ed7953\"],[0.7777777777777778,\"#fb9f3a\"],[0.8888888888888888,\"#fdca26\"],[1.0,\"#f0f921\"]],\"type\":\"contour\"}],\"contourcarpet\":[{\"colorbar\":{\"outlinewidth\":0,\"ticks\":\"\"},\"type\":\"contourcarpet\"}],\"heatmap\":[{\"colorbar\":{\"outlinewidth\":0,\"ticks\":\"\"},\"colorscale\":[[0.0,\"#0d0887\"],[0.1111111111111111,\"#46039f\"],[0.2222222222222222,\"#7201a8\"],[0.3333333333333333,\"#9c179e\"],[0.4444444444444444,\"#bd3786\"],[0.5555555555555556,\"#d8576b\"],[0.6666666666666666,\"#ed7953\"],[0.7777777777777778,\"#fb9f3a\"],[0.8888888888888888,\"#fdca26\"],[1.0,\"#f0f921\"]],\"type\":\"heatmap\"}],\"heatmapgl\":[{\"colorbar\":{\"outlinewidth\":0,\"ticks\":\"\"},\"colorscale\":[[0.0,\"#0d0887\"],[0.1111111111111111,\"#46039f\"],[0.2222222222222222,\"#7201a8\"],[0.3333333333333333,\"#9c179e\"],[0.4444444444444444,\"#bd3786\"],[0.5555555555555556,\"#d8576b\"],[0.6666666666666666,\"#ed7953\"],[0.7777777777777778,\"#fb9f3a\"],[0.8888888888888888,\"#fdca26\"],[1.0,\"#f0f921\"]],\"type\":\"heatmapgl\"}],\"histogram\":[{\"marker\":{\"pattern\":{\"fillmode\":\"overlay\",\"size\":10,\"solidity\":0.2}},\"type\":\"histogram\"}],\"histogram2d\":[{\"colorbar\":{\"outlinewidth\":0,\"ticks\":\"\"},\"colorscale\":[[0.0,\"#0d0887\"],[0.1111111111111111,\"#46039f\"],[0.2222222222222222,\"#7201a8\"],[0.3333333333333333,\"#9c179e\"],[0.4444444444444444,\"#bd3786\"],[0.5555555555555556,\"#d8576b\"],[0.6666666666666666,\"#ed7953\"],[0.7777777777777778,\"#fb9f3a\"],[0.8888888888888888,\"#fdca26\"],[1.0,\"#f0f921\"]],\"type\":\"histogram2d\"}],\"histogram2dcontour\":[{\"colorbar\":{\"outlinewidth\":0,\"ticks\":\"\"},\"colorscale\":[[0.0,\"#0d0887\"],[0.1111111111111111,\"#46039f\"],[0.2222222222222222,\"#7201a8\"],[0.3333333333333333,\"#9c179e\"],[0.4444444444444444,\"#bd3786\"],[0.5555555555555556,\"#d8576b\"],[0.6666666666666666,\"#ed7953\"],[0.7777777777777778,\"#fb9f3a\"],[0.8888888888888888,\"#fdca26\"],[1.0,\"#f0f921\"]],\"type\":\"histogram2dcontour\"}],\"mesh3d\":[{\"colorbar\":{\"outlinewidth\":0,\"ticks\":\"\"},\"type\":\"mesh3d\"}],\"parcoords\":[{\"line\":{\"colorbar\":{\"outlinewidth\":0,\"ticks\":\"\"}},\"type\":\"parcoords\"}],\"pie\":[{\"automargin\":true,\"type\":\"pie\"}],\"scatter\":[{\"marker\":{\"colorbar\":{\"outlinewidth\":0,\"ticks\":\"\"}},\"type\":\"scatter\"}],\"scatter3d\":[{\"line\":{\"colorbar\":{\"outlinewidth\":0,\"ticks\":\"\"}},\"marker\":{\"colorbar\":{\"outlinewidth\":0,\"ticks\":\"\"}},\"type\":\"scatter3d\"}],\"scattercarpet\":[{\"marker\":{\"colorbar\":{\"outlinewidth\":0,\"ticks\":\"\"}},\"type\":\"scattercarpet\"}],\"scattergeo\":[{\"marker\":{\"colorbar\":{\"outlinewidth\":0,\"ticks\":\"\"}},\"type\":\"scattergeo\"}],\"scattergl\":[{\"marker\":{\"colorbar\":{\"outlinewidth\":0,\"ticks\":\"\"}},\"type\":\"scattergl\"}],\"scattermapbox\":[{\"marker\":{\"colorbar\":{\"outlinewidth\":0,\"ticks\":\"\"}},\"type\":\"scattermapbox\"}],\"scatterpolar\":[{\"marker\":{\"colorbar\":{\"outlinewidth\":0,\"ticks\":\"\"}},\"type\":\"scatterpolar\"}],\"scatterpolargl\":[{\"marker\":{\"colorbar\":{\"outlinewidth\":0,\"ticks\":\"\"}},\"type\":\"scatterpolargl\"}],\"scatterternary\":[{\"marker\":{\"colorbar\":{\"outlinewidth\":0,\"ticks\":\"\"}},\"type\":\"scatterternary\"}],\"surface\":[{\"colorbar\":{\"outlinewidth\":0,\"ticks\":\"\"},\"colorscale\":[[0.0,\"#0d0887\"],[0.1111111111111111,\"#46039f\"],[0.2222222222222222,\"#7201a8\"],[0.3333333333333333,\"#9c179e\"],[0.4444444444444444,\"#bd3786\"],[0.5555555555555556,\"#d8576b\"],[0.6666666666666666,\"#ed7953\"],[0.7777777777777778,\"#fb9f3a\"],[0.8888888888888888,\"#fdca26\"],[1.0,\"#f0f921\"]],\"type\":\"surface\"}],\"table\":[{\"cells\":{\"fill\":{\"color\":\"#EBF0F8\"},\"line\":{\"color\":\"white\"}},\"header\":{\"fill\":{\"color\":\"#C8D4E3\"},\"line\":{\"color\":\"white\"}},\"type\":\"table\"}]},\"layout\":{\"annotationdefaults\":{\"arrowcolor\":\"#2a3f5f\",\"arrowhead\":0,\"arrowwidth\":1},\"autotypenumbers\":\"strict\",\"coloraxis\":{\"colorbar\":{\"outlinewidth\":0,\"ticks\":\"\"}},\"colorscale\":{\"diverging\":[[0,\"#8e0152\"],[0.1,\"#c51b7d\"],[0.2,\"#de77ae\"],[0.3,\"#f1b6da\"],[0.4,\"#fde0ef\"],[0.5,\"#f7f7f7\"],[0.6,\"#e6f5d0\"],[0.7,\"#b8e186\"],[0.8,\"#7fbc41\"],[0.9,\"#4d9221\"],[1,\"#276419\"]],\"sequential\":[[0.0,\"#0d0887\"],[0.1111111111111111,\"#46039f\"],[0.2222222222222222,\"#7201a8\"],[0.3333333333333333,\"#9c179e\"],[0.4444444444444444,\"#bd3786\"],[0.5555555555555556,\"#d8576b\"],[0.6666666666666666,\"#ed7953\"],[0.7777777777777778,\"#fb9f3a\"],[0.8888888888888888,\"#fdca26\"],[1.0,\"#f0f921\"]],\"sequentialminus\":[[0.0,\"#0d0887\"],[0.1111111111111111,\"#46039f\"],[0.2222222222222222,\"#7201a8\"],[0.3333333333333333,\"#9c179e\"],[0.4444444444444444,\"#bd3786\"],[0.5555555555555556,\"#d8576b\"],[0.6666666666666666,\"#ed7953\"],[0.7777777777777778,\"#fb9f3a\"],[0.8888888888888888,\"#fdca26\"],[1.0,\"#f0f921\"]]},\"colorway\":[\"#636efa\",\"#EF553B\",\"#00cc96\",\"#ab63fa\",\"#FFA15A\",\"#19d3f3\",\"#FF6692\",\"#B6E880\",\"#FF97FF\",\"#FECB52\"],\"font\":{\"color\":\"#2a3f5f\"},\"geo\":{\"bgcolor\":\"white\",\"lakecolor\":\"white\",\"landcolor\":\"#E5ECF6\",\"showlakes\":true,\"showland\":true,\"subunitcolor\":\"white\"},\"hoverlabel\":{\"align\":\"left\"},\"hovermode\":\"closest\",\"mapbox\":{\"style\":\"light\"},\"paper_bgcolor\":\"white\",\"plot_bgcolor\":\"#E5ECF6\",\"polar\":{\"angularaxis\":{\"gridcolor\":\"white\",\"linecolor\":\"white\",\"ticks\":\"\"},\"bgcolor\":\"#E5ECF6\",\"radialaxis\":{\"gridcolor\":\"white\",\"linecolor\":\"white\",\"ticks\":\"\"}},\"scene\":{\"xaxis\":{\"backgroundcolor\":\"#E5ECF6\",\"gridcolor\":\"white\",\"gridwidth\":2,\"linecolor\":\"white\",\"showbackground\":true,\"ticks\":\"\",\"zerolinecolor\":\"white\"},\"yaxis\":{\"backgroundcolor\":\"#E5ECF6\",\"gridcolor\":\"white\",\"gridwidth\":2,\"linecolor\":\"white\",\"showbackground\":true,\"ticks\":\"\",\"zerolinecolor\":\"white\"},\"zaxis\":{\"backgroundcolor\":\"#E5ECF6\",\"gridcolor\":\"white\",\"gridwidth\":2,\"linecolor\":\"white\",\"showbackground\":true,\"ticks\":\"\",\"zerolinecolor\":\"white\"}},\"shapedefaults\":{\"line\":{\"color\":\"#2a3f5f\"}},\"ternary\":{\"aaxis\":{\"gridcolor\":\"white\",\"linecolor\":\"white\",\"ticks\":\"\"},\"baxis\":{\"gridcolor\":\"white\",\"linecolor\":\"white\",\"ticks\":\"\"},\"bgcolor\":\"#E5ECF6\",\"caxis\":{\"gridcolor\":\"white\",\"linecolor\":\"white\",\"ticks\":\"\"}},\"title\":{\"x\":0.05},\"xaxis\":{\"automargin\":true,\"gridcolor\":\"white\",\"linecolor\":\"white\",\"ticks\":\"\",\"title\":{\"standoff\":15},\"zerolinecolor\":\"white\",\"zerolinewidth\":2},\"yaxis\":{\"automargin\":true,\"gridcolor\":\"white\",\"linecolor\":\"white\",\"ticks\":\"\",\"title\":{\"standoff\":15},\"zerolinecolor\":\"white\",\"zerolinewidth\":2}}}},                        {\"responsive\": true}                    ).then(function(){\n",
              "                            \n",
              "var gd = document.getElementById('8f705847-3f59-4787-b16f-c35840a5ef95');\n",
              "var x = new MutationObserver(function (mutations, observer) {{\n",
              "        var display = window.getComputedStyle(gd).display;\n",
              "        if (!display || display === 'none') {{\n",
              "            console.log([gd, 'removed!']);\n",
              "            Plotly.purge(gd);\n",
              "            observer.disconnect();\n",
              "        }}\n",
              "}});\n",
              "\n",
              "// Listen for the removal of the full notebook cells\n",
              "var notebookContainer = gd.closest('#notebook-container');\n",
              "if (notebookContainer) {{\n",
              "    x.observe(notebookContainer, {childList: true});\n",
              "}}\n",
              "\n",
              "// Listen for the clearing of the current output cell\n",
              "var outputEl = gd.closest('.output');\n",
              "if (outputEl) {{\n",
              "    x.observe(outputEl, {childList: true});\n",
              "}}\n",
              "\n",
              "                        })                };                            </script>        </div>\n",
              "</body>\n",
              "</html>"
            ]
          },
          "metadata": {},
          "output_type": "display_data"
        }
      ],
      "source": [
        "import random\n",
        "points = [(random.randint(1,100)/10, random.randint(1,100)/10) for _ in range(30)]\n",
        "convex_hull, convex_hull_trace = jarvis_march_trace(points)\n",
        "visualize(points, convex_hull, convex_hull_trace)"
      ]
    },
    {
      "cell_type": "markdown",
      "metadata": {},
      "source": []
    },
    {
      "cell_type": "markdown",
      "metadata": {
        "id": "dCSvhn1QPvQN"
      },
      "source": [
        "## Chan's Algorithm and other approaches\n",
        "\n",
        "There are other algorithms for solving Convex Hull such as Chan's algorithm\n",
        "\n",
        "They generally use divide and conquer approach but and guarantee complexity O(n log h) - which on average will beat other algorithms\n",
        "\n",
        "![Chan](https://upload.wikimedia.org/wikipedia/commons/thumb/4/48/ChanAlgDemo.gif/300px-ChanAlgDemo.gif)\n",
        "\n",
        "Src: https://en.wikipedia.org/wiki/Chan%27s_algorithm"
      ]
    }
  ],
  "metadata": {
    "colab": {
      "provenance": []
    },
    "kernelspec": {
      "display_name": "venv",
      "language": "python",
      "name": "python3"
    },
    "language_info": {
      "codemirror_mode": {
        "name": "ipython",
        "version": 3
      },
      "file_extension": ".py",
      "mimetype": "text/x-python",
      "name": "python",
      "nbconvert_exporter": "python",
      "pygments_lexer": "ipython3",
      "version": "3.12.1"
    },
    "orig_nbformat": 4
  },
  "nbformat": 4,
  "nbformat_minor": 0
}
