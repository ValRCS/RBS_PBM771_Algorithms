{
  "cells": [
    {
      "cell_type": "markdown",
      "metadata": {
        "id": "cZqyEJ6-yly7"
      },
      "source": [
        "# Two Sum problem\n",
        "\n",
        "## Problem Definition\n",
        "\n",
        "Given an array of integers, return indices of the two numbers such that they add up to a specific target."
      ]
    },
    {
      "cell_type": "markdown",
      "metadata": {
        "id": "-xIIITnQyly-"
      },
      "source": [
        "## Coding Problem\n",
        "\n",
        "The Two Sum problem is a common coding problem in computer programming. Given an array of integers and a target integer, the problem requires finding two numbers in the array that add up to the target integer. The solution to the problem involves finding the indices of the two numbers in the array that add up to the target integer.\n",
        "\n",
        "For example, consider the following array of integers: [2, 7, 11, 15]. If the target integer is 9, then the solution to the Two Sum problem would be the indices of the two numbers that add up to 9, which are 0 and 1 (since 2 + 7 = 9).\n",
        "\n",
        "The Two Sum problem can be solved in several ways, including using brute force algorithms, hashing, or two-pointers techniques. The problem is often used as a benchmark to compare the efficiency and performance of different programming algorithms."
      ]
    },
    {
      "cell_type": "markdown",
      "metadata": {
        "id": "f0v-JuC8yly-"
      },
      "source": [
        "## Brute Force Solution\n",
        "\n",
        "### Brute Force Implementation"
      ]
    },
    {
      "cell_type": "code",
      "execution_count": 3,
      "metadata": {
        "id": "QOyJqvpCyly_"
      },
      "outputs": [],
      "source": [
        "def two_sum_brute(nums, target):\n",
        "    \"\"\"\n",
        "    Given an array of integers nums and an integer target, return indices of the two numbers such that\n",
        "    they add up to target. Brute force solution.\n",
        "    \"\"\"\n",
        "    n = len(nums)\n",
        "    for i in range(n):\n",
        "        for j in range(i+1, n):\n",
        "            if nums[i] + nums[j] == target:\n",
        "                return [i, j]\n",
        "    # return None by default\n",
        "    return []"
      ]
    },
    {
      "cell_type": "code",
      "source": [
        "my_list =  [2, 7, 11, 15]\n",
        "two_sum_brute(my_list, 18)"
      ],
      "metadata": {
        "id": "zZNRzFoiyuBy",
        "outputId": "75c00113-05a2-4277-d4f0-03515a892e3c",
        "colab": {
          "base_uri": "https://localhost:8080/"
        }
      },
      "execution_count": 2,
      "outputs": [
        {
          "output_type": "execute_result",
          "data": {
            "text/plain": [
              "[1, 2]"
            ]
          },
          "metadata": {},
          "execution_count": 2
        }
      ]
    },
    {
      "cell_type": "code",
      "source": [
        "two_sum_brute(my_list, 318)"
      ],
      "metadata": {
        "id": "1OmMrpjkzCCR",
        "outputId": "9b2c3567-c4b4-4553-c055-b8558dd51d67",
        "colab": {
          "base_uri": "https://localhost:8080/"
        }
      },
      "execution_count": 4,
      "outputs": [
        {
          "output_type": "execute_result",
          "data": {
            "text/plain": [
              "[]"
            ]
          },
          "metadata": {},
          "execution_count": 4
        }
      ]
    },
    {
      "cell_type": "code",
      "source": [],
      "metadata": {
        "id": "obG58WY7zPJD"
      },
      "execution_count": null,
      "outputs": []
    },
    {
      "cell_type": "code",
      "source": [
        "import random\n",
        "random_list_1k = [random.randint(1,10_000) for _ in range(1_000)]\n",
        "random_list_1k[:10]"
      ],
      "metadata": {
        "id": "gmhpRW2SzEuX",
        "outputId": "bd3ea29d-4c7b-498d-98dc-346a70935751",
        "colab": {
          "base_uri": "https://localhost:8080/"
        }
      },
      "execution_count": 6,
      "outputs": [
        {
          "output_type": "execute_result",
          "data": {
            "text/plain": [
              "[6377, 5797, 1594, 19, 2883, 1632, 6078, 5248, 3076, 4507]"
            ]
          },
          "metadata": {},
          "execution_count": 6
        }
      ]
    },
    {
      "cell_type": "code",
      "source": [
        "two_sum_brute(random_list_1k, 1000)"
      ],
      "metadata": {
        "id": "GjLU8WCozWU9",
        "outputId": "3b4b5c1d-4cbf-4fdb-9079-989655b1e021",
        "colab": {
          "base_uri": "https://localhost:8080/"
        }
      },
      "execution_count": 7,
      "outputs": [
        {
          "output_type": "execute_result",
          "data": {
            "text/plain": [
              "[102, 712]"
            ]
          },
          "metadata": {},
          "execution_count": 7
        }
      ]
    },
    {
      "cell_type": "code",
      "source": [
        "random_list_1k[102], random_list_1k[712], random_list_1k[102] + random_list_1k[712]"
      ],
      "metadata": {
        "id": "PGfaLyNUzraG",
        "outputId": "d6cb60dc-11e8-46a8-dea2-814935352d05",
        "colab": {
          "base_uri": "https://localhost:8080/"
        }
      },
      "execution_count": 9,
      "outputs": [
        {
          "output_type": "execute_result",
          "data": {
            "text/plain": [
              "(807, 193, 1000)"
            ]
          },
          "metadata": {},
          "execution_count": 9
        }
      ]
    },
    {
      "cell_type": "code",
      "source": [
        "%%timeit\n",
        "two_sum_brute(random_list_1k, 1000)"
      ],
      "metadata": {
        "id": "Akz9q9TV0HSO",
        "outputId": "c23fe492-a0a6-47e0-8137-15bea9c0abd6",
        "colab": {
          "base_uri": "https://localhost:8080/"
        }
      },
      "execution_count": 11,
      "outputs": [
        {
          "output_type": "stream",
          "name": "stdout",
          "text": [
            "13.8 ms ± 3.95 ms per loop (mean ± std. dev. of 7 runs, 100 loops each)\n"
          ]
        }
      ]
    },
    {
      "cell_type": "markdown",
      "metadata": {
        "id": "ebeqHrTkylzA"
      },
      "source": [
        "### Complexity of Brute Force\n",
        "\n",
        "The function two_sum takes an array of integers nums and a target integer target as input and returns a list of indices of the two numbers that add up to the target. The function uses two nested loops to check every possible pair of numbers in the array. If the sum of a pair equals the target, the function returns the indices of the pair.\n",
        "\n",
        "The time complexity of this brute force solution is O(n^2), where n is the length of the input array. Therefore, this solution is not very efficient for large arrays.\n",
        "\n",
        "Space complexity is O(1) since we are not using any extra arrays, any other data structures that are dependent on number of elements(n)."
      ]
    },
    {
      "cell_type": "markdown",
      "metadata": {
        "id": "Dg8isoGnylzA"
      },
      "source": [
        "## Pointers Solution\n",
        "\n",
        "The Two Sum problem can also be solved using the two-pointers technique. The idea is to use two pointers, one at the beginning of the array and the other at the end of the array, and then move the pointers towards each other until the sum of the values at the two pointers equals the target.\n",
        "\n",
        "\n",
        "### Pointers Implementation"
      ]
    },
    {
      "cell_type": "code",
      "execution_count": 12,
      "metadata": {
        "id": "N6uGBihPylzA"
      },
      "outputs": [],
      "source": [
        "def two_sum_with_pointers(nums, target):\n",
        "    \"\"\"\n",
        "    Given an array of integers nums and an integer target, return indices of the two numbers such that\n",
        "    they add up to target. Two-pointer solution.\n",
        "    \"\"\"\n",
        "    n = len(nums)\n",
        "    left, right = 0, n-1\n",
        "    while left < right:\n",
        "        sum = nums[left] + nums[right]\n",
        "        if sum == target:\n",
        "            return [left, right]\n",
        "        elif sum < target:\n",
        "            left += 1\n",
        "        else:\n",
        "            right -= 1\n",
        "    # nothing found\n",
        "    return []"
      ]
    },
    {
      "cell_type": "code",
      "source": [
        "two_sum_with_pointers(my_list, 18)"
      ],
      "metadata": {
        "id": "TaoI_ZWj09Dv",
        "outputId": "3e57a206-f11e-4a02-ce2e-bf24ac73612c",
        "colab": {
          "base_uri": "https://localhost:8080/"
        }
      },
      "execution_count": 13,
      "outputs": [
        {
          "output_type": "execute_result",
          "data": {
            "text/plain": [
              "[1, 2]"
            ]
          },
          "metadata": {},
          "execution_count": 13
        }
      ]
    },
    {
      "cell_type": "code",
      "source": [
        "two_sum_with_pointers(my_list, 9018)"
      ],
      "metadata": {
        "id": "SuuGxpj71BjX",
        "outputId": "b4715b55-b4ec-42bd-d37f-ab1bb1fa7aee",
        "colab": {
          "base_uri": "https://localhost:8080/"
        }
      },
      "execution_count": 14,
      "outputs": [
        {
          "output_type": "execute_result",
          "data": {
            "text/plain": [
              "[]"
            ]
          },
          "metadata": {},
          "execution_count": 14
        }
      ]
    },
    {
      "cell_type": "code",
      "source": [
        "# not a good idea to try this on unsorted\n",
        "two_sum_with_pointers(random_list_1k, 1000)\n",
        "# so we got no answer, when we know we do have an answer\n",
        "# because we did not make the correct choice at some decision\n",
        "# so we should consider sorting the list"
      ],
      "metadata": {
        "id": "7zvtzRbx1Kgz",
        "outputId": "0a7a5087-d1dc-44d0-ed05-e9df744657f9",
        "colab": {
          "base_uri": "https://localhost:8080/"
        }
      },
      "execution_count": 15,
      "outputs": [
        {
          "output_type": "execute_result",
          "data": {
            "text/plain": [
              "[]"
            ]
          },
          "metadata": {},
          "execution_count": 15
        }
      ]
    },
    {
      "cell_type": "markdown",
      "metadata": {
        "id": "LFLg-SLfylzB"
      },
      "source": [
        "### Complexity of Pointers Solution\n",
        "\n",
        "The function two_sum takes an array of integers nums and a target integer target as input and returns a list of indices of the two numbers that add up to the target. The function initializes two pointers, left and right, at the beginning and end of the array, respectively. It then compares the sum of the values at the two pointers with the target. If the sum equals the target, the function returns the indices of the two pointers. If the sum is less than the target, the left pointer is incremented, and if the sum is greater than the target, the right pointer is decremented. The function continues moving the pointers until it finds a pair that adds up to the target or until the pointers cross each other.\n",
        "\n",
        "The time complexity of this two-pointer solution is O(n), where n is the length of the input array. Therefore, this solution is more efficient than the brute force solution for large arrays."
      ]
    },
    {
      "cell_type": "markdown",
      "metadata": {
        "id": "cQkpcMd0ylzB"
      },
      "source": [
        "### Extra Requirements for Two Pointers Solution\n",
        "\n",
        "The two-pointer technique can be used to solve the Two Sum problem if the input array is sorted. The idea is to use two pointers, one at the beginning of the array and the other at the end of the array, and then move the pointers towards each other until the sum of the values at the two pointers equals the target.\n",
        "\n",
        "However, if the input array is not sorted, the two-pointer technique may not work correctly. For example, consider the following input array: [3, 4, 2, 7, 5] and the target integer 9. If we use the two-pointer technique on this unsorted array, we may not find a solution even though the solution exists (i.e., 2 and 7 add up to 9). This is because the two-pointer technique relies on the fact that the input array is sorted, which allows us to move the pointers in a specific way.\n",
        "\n",
        "Therefore, if the input array is not sorted, we need to sort the array first before applying the two-pointer technique. The time complexity of sorting the array is O(n log n), where n is the length of the input array. After sorting the array, the two-pointer technique can be used to solve the Two Sum problem with a time complexity of O(n), where n is the length of the sorted array."
      ]
    },
    {
      "cell_type": "code",
      "execution_count": 19,
      "metadata": {
        "id": "e0Pi3n3eylzC"
      },
      "outputs": [],
      "source": [
        "def two_sum_sorted(nums, target):\n",
        "    \"\"\"\n",
        "    Given an array of integers nums and an integer target, return indices of the two numbers such that\n",
        "    they add up to target. Two-pointer solution with sorting.\n",
        "    \"\"\"\n",
        "    # Sort the input array\n",
        "    nums_sorted = sorted(nums) # so this uses timsort which is O(n log n)\n",
        "    # also we are using additional O(n) space since we keep the OG array nums\n",
        "    \n",
        "    # Initialize two pointers at the beginning and end of the array\n",
        "    left, right = 0, len(nums_sorted) - 1\n",
        "    \n",
        "    # Move the pointers towards each other until the sum of the values at the two pointers equals the target\n",
        "    while left < right:\n",
        "        curr_sum = nums_sorted[left] + nums_sorted[right]\n",
        "        if curr_sum == target:\n",
        "            # Find the indices of the values in the original unsorted array\n",
        "            index1 = nums.index(nums_sorted[left]) # \n",
        "            # index2 = nums.index(nums_sorted[right], index1 + 1) # starting search on index1+1 might not work\n",
        "            index2 = nums.index(nums_sorted[right])\n",
        "            # the above operations are going to cost some time - linear lookup so \n",
        "            # 2 x O(n) - crucially the number of lookups is not dependent on n\n",
        "            # think of these as placed at the very end of the function\n",
        "            return [index1, index2]\n",
        "        elif curr_sum < target:\n",
        "            left += 1\n",
        "        else:\n",
        "            right -= 1\n",
        "    \n",
        "    # If no solution is found, return an empty list\n",
        "    return []"
      ]
    },
    {
      "cell_type": "code",
      "source": [
        "two_sum_sorted(random_list_1k, 1000)"
      ],
      "metadata": {
        "id": "KfDRm2UA2LQ3",
        "outputId": "4dde782a-1774-4b00-dc5c-9d445f7ffa71",
        "colab": {
          "base_uri": "https://localhost:8080/"
        }
      },
      "execution_count": 20,
      "outputs": [
        {
          "output_type": "execute_result",
          "data": {
            "text/plain": [
              "[712, 102]"
            ]
          },
          "metadata": {},
          "execution_count": 20
        }
      ]
    },
    {
      "cell_type": "code",
      "source": [],
      "metadata": {
        "id": "Vz3az1W45MF8"
      },
      "execution_count": null,
      "outputs": []
    },
    {
      "cell_type": "code",
      "source": [
        "# so hint we can store some values to speed up our calculation\n",
        "# so we would utilize ability of hash table (called dictionary in Python)\n",
        "# to do O(1) storage and O(1) lookups - meaning no change in speed on million or billion items"
      ],
      "metadata": {
        "id": "C3njn_YY4oqT"
      },
      "execution_count": null,
      "outputs": []
    },
    {
      "cell_type": "code",
      "source": [
        "# so idea is not to do the same calculation again"
      ],
      "metadata": {
        "id": "raNcagWn5fOx"
      },
      "execution_count": null,
      "outputs": []
    },
    {
      "cell_type": "markdown",
      "metadata": {
        "id": "7wnLCoLgylzC"
      },
      "source": [
        "## Hashing Solution\n",
        "\n",
        "The Two Sum problem can also be solved using hashing. The idea is to use a hash table (dictionary in Python) to store the values in the input array as keys and their indices as values. Then, for each value in the input array, we check if the complement (i.e., the difference between the target and the current value) exists in the hash table. If the complement exists, we have found a solution, and we return the indices of the current value and its complement.\n",
        "\n",
        "### Hashing Implementation"
      ]
    },
    {
      "cell_type": "code",
      "execution_count": null,
      "metadata": {
        "id": "7WLKTGDfylzD"
      },
      "outputs": [],
      "source": [
        "def two_sum_hashing(nums, target):\n",
        "    \"\"\"\n",
        "    Given an array of integers nums and an integer target, return indices of the two numbers such that\n",
        "    they add up to target. Hashing solution.\n",
        "    \"\"\"\n",
        "    hash_table = {}\n",
        "    for i in range(len(nums)):\n",
        "        complement = target - nums[i]\n",
        "        if complement in hash_table: # key part this is O(1) look\n",
        "            return [hash_table[complement], i]\n",
        "        hash_table[nums[i]] = i"
      ]
    },
    {
      "cell_type": "markdown",
      "metadata": {
        "id": "zDHJv8t1ylzD"
      },
      "source": [
        "The function two_sum takes an array of integers nums and a target integer target as input and returns a list of indices of the two numbers that add up to the target. The function initializes an empty hash table hash_table and then loops through the input array. For each value in the array, the function computes its complement (i.e., the difference between the target and the value) and checks if the complement exists in the hash table. If the complement exists, the function returns the indices of the current value and its complement. If the complement does not exist, the function adds the current value and its index to the hash table. The time complexity of this hashing solution is O(n), where n is the length of the input array.\n",
        "\n",
        "Note that if there are duplicate values in the input array, the hashing solution will still work correctly. The hash table will store the last index of each value in the array, so the function will always return the correct indices of the two numbers that add up to the target."
      ]
    },
    {
      "cell_type": "markdown",
      "metadata": {
        "id": "hAHNgky2ylzD"
      },
      "source": [
        "### Space Complexity of Hashing Solution\n",
        "\n",
        "The space complexity of the hashing solution for the Two Sum problem is O(n), where n is the length of the input array. This is because the solution uses a hash table (dictionary in Python) to store the values in the input array as keys and their indices as values. The size of the hash table is proportional to the number of values in the input array, which is n. Therefore, the space complexity of the hashing solution is O(n).\n",
        "\n",
        "In the worst case, all the values in the input array are unique, so the size of the hash table is equal to the length of the input array. In this case, the space complexity is O(n). However, in the best case, the input array contains only one or two values that add up to the target, so the size of the hash table is very small. In this case, the space complexity is much smaller than O(n).\n",
        "\n",
        "Note that the space complexity of the hashing solution is higher than the space complexity of the two-pointer solution, which is O(1) because it does not require any extra data structures. However, the hashing solution has a better time complexity of O(n) compared to the two-pointer solution with sorting, which has a time complexity of O(n log n). Therefore, the choice of the solution depends on the requirements of the specific problem."
      ]
    },
    {
      "cell_type": "markdown",
      "metadata": {
        "id": "xNQQrXkcylzE"
      },
      "source": [
        "### Key Idea - Hashing - Trading Space for Time\n",
        "\n",
        "The primary idea behind the hashing solution for the Two Sum problem is trading space complexity for time complexity. The hashing solution uses a hash table (dictionary in Python) to store the values in the input array as keys and their indices as values. This allows the solution to find the complement of each value in constant time on average, resulting in a time complexity of O(n).\n",
        "\n",
        "However, this comes at the cost of a higher space complexity, which is O(n) in the worst case, where n is the length of the input array. The size of the hash table is proportional to the number of values in the input array, which is n. Therefore, the hashing solution trades space complexity for time complexity.\n",
        "\n",
        "In contrast, the two-pointer solution does not require any extra data structures, resulting in a space complexity of O(1). However, the time complexity of the two-pointer solution depends on the sorting algorithm used to sort the input array. If an efficient sorting algorithm is used, the time complexity can be O(n log n) in the worst case.\n",
        "\n",
        "Therefore, the choice between the two solutions depends on the requirements of the specific problem. If space is not a concern and a fast solution is required, the hashing solution may be a better choice. If space is limited or the input array is already sorted, the two-pointer solution may be a better choice."
      ]
    },
    {
      "cell_type": "markdown",
      "metadata": {
        "id": "JPq0GFArylzE"
      },
      "source": [
        "### Two Sum - LeetCode\n",
        "\n",
        "https://leetcode.com/problems/two-sum/"
      ]
    },
    {
      "cell_type": "markdown",
      "metadata": {
        "id": "8nrj4Z8lylzE"
      },
      "source": [
        "## Three Sum - Description\n",
        "\n",
        "Given an array of integers nums and an integer target, return indices of the three numbers such that they add up to target."
      ]
    },
    {
      "cell_type": "markdown",
      "metadata": {
        "id": "C7EiFDnQylzE"
      },
      "source": [
        "The Three Sum problem can also be generalized to a target sum other than zero. The problem requires finding all unique triplets in an array of integers that add up to a given target integer.\n",
        "\n",
        "Formally, given an array nums of n integers and a target integer target, the generalized Three Sum problem requires finding all unique triplets (nums[i], nums[j], nums[k]) such that i < j < k and nums[i] + nums[j] + nums[k] = target. The solution to the problem involves returning a list of all unique triplets that satisfy this condition.\n",
        "\n",
        "For example, consider the following array of integers and target sum: nums = [-1, 0, 1, 2, -1, -4], target = 0. The solution to the generalized Three Sum problem would be the list of unique triplets that add up to the target sum, which is [-1, 0, 1] and [-1, -1, 2].\n",
        "\n",
        "The generalized Three Sum problem can be solved using a variety of techniques, including brute force algorithms, hashing, and two-pointers techniques. However, the choice of the algorithm may depend on the specific requirements of the problem, such as the size of the input array and the range of the input values. The generalized Three Sum problem can be useful in a variety of applications, such as finding pairs of stocks that add up to a certain price or finding combinations of items that satisfy a certain cost or weight limit."
      ]
    },
    {
      "cell_type": "markdown",
      "metadata": {
        "id": "nNobwAVPylzF"
      },
      "source": [
        "### Three Sum Brute Force - Implementation"
      ]
    },
    {
      "cell_type": "code",
      "execution_count": null,
      "metadata": {
        "id": "bQnJQXGfylzF"
      },
      "outputs": [],
      "source": [
        "\n",
        "def three_sum_brute(nums, target):\n",
        "    \"\"\"\n",
        "    Given an array of integers nums and a target integer target, return a list of all unique triplets (nums[i], nums[j], nums[k])\n",
        "    such that i < j < k and nums[i] + nums[j] + nums[k] = target. Brute force solution.\n",
        "    \"\"\"\n",
        "    result = []\n",
        "    for i in range(len(nums)):\n",
        "        for j in range(i+1, len(nums)):\n",
        "            for k in range(j+1, len(nums)):\n",
        "                if nums[i] + nums[j] + nums[k] == target:\n",
        "                    triplet = sorted([nums[i], nums[j], nums[k]])\n",
        "                    if triplet not in result:\n",
        "                        result.append(triplet)\n",
        "    return result"
      ]
    },
    {
      "cell_type": "markdown",
      "metadata": {
        "id": "jEl7ZeDyylzF"
      },
      "source": [
        "### Three Sum Solution - Time Complexity\n",
        "\n",
        "The three_sum function takes an array of integers nums and a target integer target as input and returns a list of all unique triplets that add up to the target. The function uses a brute force algorithm that involves iterating through all possible combinations of three elements in the input array and checking if their sum is equal to the target.\n",
        "\n",
        "For each triplet that satisfies the condition, the function sorts the triplet in ascending order and adds it to the result list only if it is not already in the list. This ensures that the function returns a list of unique triplets.\n",
        "\n",
        "The time complexity of this brute force solution is O(n^3), where n is the length of the input array. The space complexity of the solution is also O(n^3) because the function stores all possible triplets that satisfy the condition in the result list."
      ]
    },
    {
      "cell_type": "markdown",
      "metadata": {
        "id": "JIA-_4QtylzF"
      },
      "source": [
        "## Three Sum Pointer Solution\n",
        "\n",
        "The Three Sum problem can also be solved using two-pointer techniques. The idea is to sort the input array and then use two pointers to find all unique triplets that add up to the target. The function three_sum takes an array of integers nums and a target integer target as input and returns a list of all unique triplets that add up to the target.\n",
        "\n",
        "The Three Sum problem can also be solved using the two-pointers technique, which can reduce the time complexity to O(n^2) in the worst case. The idea is to sort the input array and then use two pointers to scan the array. The first pointer, i, iterates through the array, and for each i, we use two additional pointers, j and k, to scan the remaining subarray for pairs that add up to the target value.\n",
        "\n"
      ]
    },
    {
      "cell_type": "markdown",
      "metadata": {
        "id": "tiAjpXJHylzF"
      },
      "source": [
        "### Three Sum Pointer Solution - Implementation\n",
        "\n"
      ]
    },
    {
      "cell_type": "code",
      "execution_count": null,
      "metadata": {
        "id": "wMBs_vIxylzF"
      },
      "outputs": [],
      "source": [
        "def three_sum_pointers(nums, target):\n",
        "    \"\"\"\n",
        "    Given an array of integers nums and a target integer target, return a list of all unique triplets (nums[i], nums[j], nums[k])\n",
        "    such that i < j < k and nums[i] + nums[j] + nums[k] = target. Two-pointer solution with sorting.\n",
        "    \"\"\"\n",
        "    nums.sort()\n",
        "    result = []\n",
        "    for i in range(len(nums)):\n",
        "        # Skip duplicates\n",
        "        if i > 0 and nums[i] == nums[i-1]:\n",
        "            continue\n",
        "        j, k = i+1, len(nums)-1\n",
        "        while j < k:\n",
        "            curr_sum = nums[i] + nums[j] + nums[k]\n",
        "            if curr_sum == target:\n",
        "                result.append([nums[i], nums[j], nums[k]])\n",
        "                # Skip duplicates\n",
        "                while j < k and nums[j] == nums[j+1]:\n",
        "                    j += 1\n",
        "                while j < k and nums[k] == nums[k-1]:\n",
        "                    k -= 1\n",
        "                j += 1\n",
        "                k -= 1\n",
        "            elif curr_sum < target:\n",
        "                j += 1\n",
        "            else:\n",
        "                k -= 1\n",
        "    return result"
      ]
    },
    {
      "cell_type": "markdown",
      "metadata": {
        "id": "bsJPoJloylzG"
      },
      "source": [
        "The three_sum function takes an array of integers nums and a target integer target as input and returns a list of all unique triplets that add up to the target. The function first sorts the input array and then initializes two pointers, j and k, at the beginning and end of the remaining subarray for each value of i. The function moves the pointers towards each other until the sum of the values at the three pointers equals the target.\n",
        "\n",
        "If the function finds a solution, it adds the triplet to the result list and skips any duplicates. The function then moves the pointers towards each other until they either cross or reach values that are different from their current values.\n",
        "\n",
        "The time complexity of the two-pointer solution is O(n^2), where n is the length of the input array, due to the sorting step and the two-pointer traversal of the array. The space complexity of the solution is O(n) due to the result list.\n",
        "\n",
        "\n",
        "See also: https://www.geeksforgeeks.org/find-a-triplet-that-sum-to-a-given-value/"
      ]
    },
    {
      "cell_type": "markdown",
      "metadata": {
        "id": "1maKB166ylzG"
      },
      "source": [
        "## Three Sum - Hashing Solution\n",
        "\n",
        "The Three Sum problem can also be solved using hashing, similar to the Two Sum problem. The idea is to use a hash table (dictionary in Python) to store the values in the input array as keys and their indices as values. Then, for each value in the input array, we check if there are two other values in the hash table whose sum with the current value equals the target value. If such values exist, we have found a solution, and we return the triplet of values.\n",
        "\n",
        "### Three Sum Hashing Solution - Implementation\n",
        "\n"
      ]
    },
    {
      "cell_type": "code",
      "execution_count": null,
      "metadata": {
        "id": "uzGm5CVAylzG"
      },
      "outputs": [],
      "source": [
        "def three_sum_hashing(nums, target):\n",
        "    \"\"\"\n",
        "    Given an array of integers nums and a target integer target, return a list of all unique triplets (nums[i], nums[j], nums[k])\n",
        "    such that i < j < k and nums[i] + nums[j] + nums[k] = target. Hashing solution.\n",
        "    \"\"\"\n",
        "    result = []\n",
        "    for i in range(len(nums)):\n",
        "        hash_table = {}\n",
        "        for j in range(i+1, len(nums)):\n",
        "            complement = target - nums[i] - nums[j]\n",
        "            if complement in hash_table:\n",
        "                triplet = sorted([nums[i], nums[j], complement])\n",
        "                if triplet not in result:\n",
        "                    result.append(triplet)\n",
        "            hash_table[nums[j]] = j\n",
        "    return result"
      ]
    },
    {
      "cell_type": "markdown",
      "metadata": {
        "id": "sNI6_jxzylzG"
      },
      "source": [
        "### Three Sum Hashing Solution - Time Complexity\n",
        "\n",
        "The three_sum function takes an array of integers nums and a target integer target as input and returns a list of all unique triplets that add up to the target. The function initializes two pointers, i and j, at the beginning of the array, and for each i and j, the function creates a hash table that stores the values and their indices in the remaining subarray. The function then computes the complement of the sum of nums[i] and nums[j] and checks if it exists in the hash table. If the complement exists, the function adds the triplet of values to the result list only if it is not already in the list.\n",
        "\n",
        "The time complexity of the hashing solution is O(n^2) in the worst case because the function iterates through all possible pairs of values in the input array and checks if their complement exists in the hash table. The space complexity of the solution is O(n) due to the hash table and the result list.\n",
        "\n",
        "\n",
        "\n"
      ]
    },
    {
      "cell_type": "markdown",
      "metadata": {
        "id": "wVh_38NeylzG"
      },
      "source": [
        "## Three Sum Approaches Comparison\n",
        "\n",
        "The two-pointer approach has a time complexity of O(n^2) and a space complexity of O(1), which makes it more efficient in terms of space than the hashing approach. However, the two-pointer approach requires the input array to be sorted, which may not be feasible in some cases, especially when the input is constantly changing. Also, the two-pointer approach may not be able to handle duplicates in the input array without additional modifications to the algorithm.\n",
        "\n",
        "On the other hand, the hashing approach has a time complexity of O(n^2) and a space complexity of O(n), which makes it less efficient in terms of space than the two-pointer approach. However, the hashing approach does not require the input array to be sorted, and it can handle duplicates in the input array without any additional modifications to the algorithm.\n",
        "\n",
        "Therefore, if the input array is already sorted, or if sorting the input array is acceptable and the space available is limited, the two-pointer approach may be more preferable. On the other hand, if the input array is not sorted, or if handling duplicates is important and space is not a concern, the hashing approach may be more preferable. Ultimately, the choice of the approach depends on the requirements and constraints of the specific problem."
      ]
    },
    {
      "cell_type": "markdown",
      "metadata": {
        "id": "sxftUK2ZylzJ"
      },
      "source": [
        "## Links to Three Sum Problem\n",
        "\n",
        "* https://en.wikipedia.org/wiki/3SUM\n",
        "* https://www.geeksforgeeks.org/find-a-triplet-that-sum-to-a-given-value/\n",
        "* https://www.leetcode.com/problems/3sum/\n",
        "\n"
      ]
    },
    {
      "cell_type": "markdown",
      "metadata": {
        "id": "kDX2W1n1ylzJ"
      },
      "source": [
        "## Generalized Problem\n",
        "\n",
        "The Three Sum problem is a special case of the generalized k-Sum problem, which involves finding all unique k-tuples that add up to a target value. The generalized k-Sum problem can be solved using a variety of techniques, including brute force algorithms, hashing, and two-pointers techniques. However, the choice of the algorithm may depend on the specific requirements of the problem, such as the size of the input array and the range of the input values. The generalized k-Sum problem can be useful in a variety of applications, such as finding pairs of stocks that add up to a certain price or finding combinations of items that satisfy a certain cost or weight limit."
      ]
    },
    {
      "cell_type": "markdown",
      "metadata": {
        "id": "AivQiOPQylzJ"
      },
      "source": [
        "## Recursive Solution to k-sum problem\n",
        "\n",
        "The Generalized k-Sum problem is a variant of the Three Sum problem that requires finding all unique k-tuples of elements in an array of integers that add up to a given target integer. This problem can be solved using a recursive approach that reduces the k-Sum problem to the (k-1)-Sum problem, and so on, until we reach the Two Sum problem, which can be solved efficiently using hashing.\n",
        "\n"
      ]
    },
    {
      "cell_type": "code",
      "execution_count": null,
      "metadata": {
        "id": "MMBlrSjwylzJ"
      },
      "outputs": [],
      "source": [
        "def k_sum_recursive(nums, target, k):\n",
        "    \"\"\"\n",
        "    Given an array of integers nums, a target integer target, and a value k, return a list of all unique k-tuples of elements\n",
        "    in nums that add up to target. Recursive solution.\n",
        "    \"\"\"\n",
        "    if k == 2:  # Base case (Two Sum)\n",
        "        return two_sum(nums, target)\n",
        "    result = []\n",
        "    for i in range(len(nums)):\n",
        "        if i > 0 and nums[i] == nums[i-1]:  # Skip duplicates\n",
        "            continue\n",
        "        sub_results = k_sum_recursive(nums[i+1:], target-nums[i], k-1)\n",
        "        for sub_result in sub_results:\n",
        "            result.append([nums[i]] + sub_result)\n",
        "    return result\n",
        "\n",
        "\n",
        "def two_sum(nums, target):\n",
        "    \"\"\"\n",
        "    Given an array of integers nums and a target integer target, return a list of all unique pairs (nums[i], nums[j])\n",
        "    such that nums[i] + nums[j] = target. Hashing solution.\n",
        "    \"\"\"\n",
        "    result = []\n",
        "    hash_table = {}\n",
        "    for i in range(len(nums)):\n",
        "        complement = target - nums[i]\n",
        "        if complement in hash_table:\n",
        "            pair = sorted([nums[i], complement])\n",
        "            if pair not in result:\n",
        "                result.append(pair)\n",
        "        hash_table[nums[i]] = i\n",
        "    return result"
      ]
    },
    {
      "cell_type": "markdown",
      "metadata": {
        "id": "t4HocP-CylzJ"
      },
      "source": [
        "### K-sum recursive solution - complexity analysis\n",
        "\n",
        "The k_sum function takes an array of integers nums, a target integer target, and a value k as input and returns a list of all unique k-tuples of elements in nums that add up to target. The function uses a recursive approach that reduces the k-Sum problem to the (k-1)-Sum problem by iterating through the elements in the input array and recursively calling k_sum on the remaining subarray with a reduced target and value of k-1.\n",
        "\n",
        "If k is equal to 2, the function calls the two_sum function, which uses a hash table to efficiently find all unique pairs of elements in the input array that add up to the target. The two_sum function returns a list of all unique pairs that satisfy the condition.\n",
        "\n",
        "The time complexity of the recursive solution is O(n^(k-1)), where n is the length of the input array, due to the recursive calls to k_sum. The space complexity of the solution is O(n^k) in the worst case because the function stores all possible k-tuples that satisfy the condition in the result list."
      ]
    },
    {
      "cell_type": "markdown",
      "metadata": {
        "id": "Z4uL9COVylzJ"
      },
      "source": [
        "### K-sum iterative solution\n",
        "\n",
        "The k-Sum problem can also be solved iteratively, without using recursion. The idea is to use dynamic programming to solve the problem by building up the solution for larger k-tuples from the solution for smaller (k-1)-tuples. The solution for the k-tuple is then computed by iterating through the elements in the input array and adding the current element to each of the (k-1)-tuples in the solution for the (k-1)-tuple."
      ]
    },
    {
      "cell_type": "code",
      "execution_count": null,
      "metadata": {
        "id": "ATVrUfjkylzK"
      },
      "outputs": [],
      "source": [
        "def k_sum_iterative(nums, target, k):\n",
        "    \"\"\"\n",
        "    Given an array of integers nums, a target integer target, and a value k, return a list of all unique k-tuples of elements\n",
        "    in nums that add up to target. Iterative solution.\n",
        "    \"\"\"\n",
        "    nums.sort()\n",
        "    dp = {(0, 0): [[] for _ in range(k+1)]}  # Base case (k=0, target=0)\n",
        "    for num in nums:\n",
        "        for i in reversed(range(1, k+1)):\n",
        "            for j in reversed(range(num, target+1)):\n",
        "                if (i-1, j-num) in dp:\n",
        "                    for lst in dp[(i-1, j-num)]:\n",
        "                        if lst and lst[-1] > num:\n",
        "                            continue\n",
        "                        dp[(i, j)] = dp.get((i, j), []) + [lst+[num]]\n",
        "    return dp.get((k, target), [])"
      ]
    },
    {
      "cell_type": "markdown",
      "metadata": {
        "id": "aa3SpBa-ylzK"
      },
      "source": [
        "### K-sum iterative solution - complexity analysis\n",
        "\n",
        "The k_sum function takes an array of integers nums, a target integer target, and a value k as input and returns a list of all unique k-tuples of elements in nums that add up to target. The function first sorts the input array and then initializes a dynamic programming dictionary dp that stores the solutions for smaller k-tuples and targets. The base case is when k=0 and target=0, in which case the function returns an empty list.\n",
        "\n",
        "The function then iterates through the input array and builds up the solution for larger k-tuples from the solution for smaller (k-1)-tuples. The function uses nested loops to iterate over the values of i, j, and num, where i represents the size of the k-tuple, j represents the target sum, and num represents the current element in the input array. For each i, j, and num, the function checks if there is a solution for the (i-1)-tuple and (j-num) target in the dp dictionary. If such a solution exists, the function adds the current num to each of the solutions and stores the result in the dp dictionary for the k-tuple and target sum.\n",
        "\n",
        "The function returns the list of solutions for the k-tuple and target sum, which is stored in the dp dictionary at the (k, target) key.\n",
        "\n",
        "The time complexity of the iterative solution is O(kn^2t), where n is the length of the input array and t is the target sum, due to the nested loops and the use of the dp dictionary. The space complexity of the solution is also O(kn^2t) due to the dp dictionary."
      ]
    },
    {
      "cell_type": "markdown",
      "metadata": {
        "id": "Ywh4vyJ1ylzK"
      },
      "source": [
        "## Key Takeaways\n",
        "\n",
        "* **Brute force** is a common technique used to solve problems involving subproblems. It involves solving the problem by trying all possible combinations of the input values. This technique is usually the first approach to solving a problem, but it is not always the most efficient approach. The time complexity of the brute force approach is usually O(n^k), where n is the length of the input array and k is the size of the subproblem. The space complexity of the brute force approach is usually O(n^k), where n is the length of the input array and k is the size of the subproblem.\n",
        "\n",
        "*  **Two-pointer technique** is a common technique used to solve problems involving sorted arrays. It involves using two pointers, one at the beginning of the array and one at the end of the array, and moving the pointers towards each other until the sum of the values at the two pointers equals the target.\n",
        "*  **Hashing** is a common technique used to solve problems involving unsorted arrays. It involves using a hash table to store the values in the array and their indices. When a value is encountered, its complement is calculated and checked against the hash table to see if it exists. If it does, the indices of the two values are returned.\n",
        "*  **Sorting** is a common technique used to solve problems involving sorted arrays. It involves sorting the array and then using the two-pointer technique to solve the problem.\n",
        "*  **Recursion** is a common technique used to solve problems involving subproblems. It involves breaking down the problem into smaller subproblems and solving the subproblems recursively. The base case of the recursion is the smallest subproblem that can be solved without further recursion.\n",
        "*  **Dynamic programming** is a common technique used to solve problems involving subproblems. It involves breaking down the problem into smaller subproblems and solving the subproblems iteratively. The base case of the recursion is the smallest subproblem that can be solved without further recursion.\n"
      ]
    },
    {
      "cell_type": "markdown",
      "metadata": {
        "id": "a_w_SymfylzK"
      },
      "source": [
        "## References\n",
        "\n",
        "* https://people.csail.mit.edu/virgi/6.s078/lecture9.pdf\n",
        "* https://cs.stackexchange.com/questions/2973/generalised-3sum-k-sum-problem\n",
        "\n",
        "## Different Problem - Subset Sum problem - for another time\n",
        "\n",
        "* https://en.wikipedia.org/wiki/Subset_sum_problem\n",
        " "
      ]
    }
  ],
  "metadata": {
    "language_info": {
      "name": "python"
    },
    "orig_nbformat": 4,
    "colab": {
      "provenance": []
    },
    "kernelspec": {
      "name": "python3",
      "display_name": "Python 3"
    },
    "gpuClass": "standard"
  },
  "nbformat": 4,
  "nbformat_minor": 0
}