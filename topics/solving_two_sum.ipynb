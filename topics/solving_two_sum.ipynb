{
 "cells": [
  {
   "attachments": {},
   "cell_type": "markdown",
   "metadata": {},
   "source": [
    "# Two Sum problem\n",
    "\n",
    "## Problem Definition\n",
    "\n",
    "Given an array of integers, return indices of the two numbers such that they add up to a specific target."
   ]
  },
  {
   "attachments": {},
   "cell_type": "markdown",
   "metadata": {},
   "source": [
    "## Coding Problem\n",
    "\n",
    "The Two Sum problem is a common coding problem in computer programming. Given an array of integers and a target integer, the problem requires finding two numbers in the array that add up to the target integer. The solution to the problem involves finding the indices of the two numbers in the array that add up to the target integer.\n",
    "\n",
    "For example, consider the following array of integers: [2, 7, 11, 15]. If the target integer is 9, then the solution to the Two Sum problem would be the indices of the two numbers that add up to 9, which are 0 and 1 (since 2 + 7 = 9).\n",
    "\n",
    "The Two Sum problem can be solved in several ways, including using brute force algorithms, hashing, or two-pointers techniques. The problem is often used as a benchmark to compare the efficiency and performance of different programming algorithms."
   ]
  },
  {
   "attachments": {},
   "cell_type": "markdown",
   "metadata": {},
   "source": [
    "## Brute Force Solution\n",
    "\n",
    "### Brute Force Implementation"
   ]
  },
  {
   "cell_type": "code",
   "execution_count": null,
   "metadata": {},
   "outputs": [],
   "source": [
    "def two_sum_brute(nums, target):\n",
    "    \"\"\"\n",
    "    Given an array of integers nums and an integer target, return indices of the two numbers such that\n",
    "    they add up to target. Brute force solution.\n",
    "    \"\"\"\n",
    "    n = len(nums)\n",
    "    for i in range(n):\n",
    "        for j in range(i+1, n):\n",
    "            if nums[i] + nums[j] == target:\n",
    "                return [i, j]"
   ]
  },
  {
   "attachments": {},
   "cell_type": "markdown",
   "metadata": {},
   "source": [
    "### Complexity of Brute Force\n",
    "\n",
    "The function two_sum takes an array of integers nums and a target integer target as input and returns a list of indices of the two numbers that add up to the target. The function uses two nested loops to check every possible pair of numbers in the array. If the sum of a pair equals the target, the function returns the indices of the pair.\n",
    "\n",
    "The time complexity of this brute force solution is O(n^2), where n is the length of the input array. Therefore, this solution is not very efficient for large arrays."
   ]
  },
  {
   "attachments": {},
   "cell_type": "markdown",
   "metadata": {},
   "source": [
    "## Pointers Solution\n",
    "\n",
    "The Two Sum problem can also be solved using the two-pointers technique. The idea is to use two pointers, one at the beginning of the array and the other at the end of the array, and then move the pointers towards each other until the sum of the values at the two pointers equals the target.\n",
    "\n",
    "\n",
    "### Pointers Implementation"
   ]
  },
  {
   "cell_type": "code",
   "execution_count": null,
   "metadata": {},
   "outputs": [],
   "source": [
    "def two_sum_with_pointers(nums, target):\n",
    "    \"\"\"\n",
    "    Given an array of integers nums and an integer target, return indices of the two numbers such that\n",
    "    they add up to target. Two-pointer solution.\n",
    "    \"\"\"\n",
    "    n = len(nums)\n",
    "    left, right = 0, n-1\n",
    "    while left < right:\n",
    "        sum = nums[left] + nums[right]\n",
    "        if sum == target:\n",
    "            return [left, right]\n",
    "        elif sum < target:\n",
    "            left += 1\n",
    "        else:\n",
    "            right -= 1"
   ]
  },
  {
   "attachments": {},
   "cell_type": "markdown",
   "metadata": {},
   "source": [
    "### Complexity of Pointers Solution\n",
    "\n",
    "The function two_sum takes an array of integers nums and a target integer target as input and returns a list of indices of the two numbers that add up to the target. The function initializes two pointers, left and right, at the beginning and end of the array, respectively. It then compares the sum of the values at the two pointers with the target. If the sum equals the target, the function returns the indices of the two pointers. If the sum is less than the target, the left pointer is incremented, and if the sum is greater than the target, the right pointer is decremented. The function continues moving the pointers until it finds a pair that adds up to the target or until the pointers cross each other.\n",
    "\n",
    "The time complexity of this two-pointer solution is O(n), where n is the length of the input array. Therefore, this solution is more efficient than the brute force solution for large arrays."
   ]
  },
  {
   "attachments": {},
   "cell_type": "markdown",
   "metadata": {},
   "source": [
    "### Extra Requirements for Two Pointers Solution\n",
    "\n",
    "The two-pointer technique can be used to solve the Two Sum problem if the input array is sorted. The idea is to use two pointers, one at the beginning of the array and the other at the end of the array, and then move the pointers towards each other until the sum of the values at the two pointers equals the target.\n",
    "\n",
    "However, if the input array is not sorted, the two-pointer technique may not work correctly. For example, consider the following input array: [3, 4, 2, 7, 5] and the target integer 9. If we use the two-pointer technique on this unsorted array, we may not find a solution even though the solution exists (i.e., 2 and 7 add up to 9). This is because the two-pointer technique relies on the fact that the input array is sorted, which allows us to move the pointers in a specific way.\n",
    "\n",
    "Therefore, if the input array is not sorted, we need to sort the array first before applying the two-pointer technique. The time complexity of sorting the array is O(n log n), where n is the length of the input array. After sorting the array, the two-pointer technique can be used to solve the Two Sum problem with a time complexity of O(n), where n is the length of the sorted array."
   ]
  },
  {
   "cell_type": "code",
   "execution_count": null,
   "metadata": {},
   "outputs": [],
   "source": [
    "def two_sum_sorted(nums, target):\n",
    "    \"\"\"\n",
    "    Given an array of integers nums and an integer target, return indices of the two numbers such that\n",
    "    they add up to target. Two-pointer solution with sorting.\n",
    "    \"\"\"\n",
    "    # Sort the input array\n",
    "    nums_sorted = sorted(nums)\n",
    "    \n",
    "    # Initialize two pointers at the beginning and end of the array\n",
    "    left, right = 0, len(nums_sorted) - 1\n",
    "    \n",
    "    # Move the pointers towards each other until the sum of the values at the two pointers equals the target\n",
    "    while left < right:\n",
    "        curr_sum = nums_sorted[left] + nums_sorted[right]\n",
    "        if curr_sum == target:\n",
    "            # Find the indices of the values in the original unsorted array\n",
    "            index1 = nums.index(nums_sorted[left])\n",
    "            index2 = nums.index(nums_sorted[right], index1 + 1)\n",
    "            return [index1, index2]\n",
    "        elif curr_sum < target:\n",
    "            left += 1\n",
    "        else:\n",
    "            right -= 1\n",
    "    \n",
    "    # If no solution is found, return an empty list\n",
    "    return []"
   ]
  },
  {
   "attachments": {},
   "cell_type": "markdown",
   "metadata": {},
   "source": [
    "## Hashing Solution\n",
    "\n",
    "The Two Sum problem can also be solved using hashing. The idea is to use a hash table (dictionary in Python) to store the values in the input array as keys and their indices as values. Then, for each value in the input array, we check if the complement (i.e., the difference between the target and the current value) exists in the hash table. If the complement exists, we have found a solution, and we return the indices of the current value and its complement.\n",
    "\n",
    "### Hashing Implementation"
   ]
  },
  {
   "cell_type": "code",
   "execution_count": null,
   "metadata": {},
   "outputs": [],
   "source": [
    "def two_sum_hashing(nums, target):\n",
    "    \"\"\"\n",
    "    Given an array of integers nums and an integer target, return indices of the two numbers such that\n",
    "    they add up to target. Hashing solution.\n",
    "    \"\"\"\n",
    "    hash_table = {}\n",
    "    for i in range(len(nums)):\n",
    "        complement = target - nums[i]\n",
    "        if complement in hash_table:\n",
    "            return [hash_table[complement], i]\n",
    "        hash_table[nums[i]] = i"
   ]
  },
  {
   "attachments": {},
   "cell_type": "markdown",
   "metadata": {},
   "source": [
    "The function two_sum takes an array of integers nums and a target integer target as input and returns a list of indices of the two numbers that add up to the target. The function initializes an empty hash table hash_table and then loops through the input array. For each value in the array, the function computes its complement (i.e., the difference between the target and the value) and checks if the complement exists in the hash table. If the complement exists, the function returns the indices of the current value and its complement. If the complement does not exist, the function adds the current value and its index to the hash table. The time complexity of this hashing solution is O(n), where n is the length of the input array.\n",
    "\n",
    "Note that if there are duplicate values in the input array, the hashing solution will still work correctly. The hash table will store the last index of each value in the array, so the function will always return the correct indices of the two numbers that add up to the target."
   ]
  },
  {
   "attachments": {},
   "cell_type": "markdown",
   "metadata": {},
   "source": [
    "### Space Complexity of Hashing Solution\n",
    "\n",
    "The space complexity of the hashing solution for the Two Sum problem is O(n), where n is the length of the input array. This is because the solution uses a hash table (dictionary in Python) to store the values in the input array as keys and their indices as values. The size of the hash table is proportional to the number of values in the input array, which is n. Therefore, the space complexity of the hashing solution is O(n).\n",
    "\n",
    "In the worst case, all the values in the input array are unique, so the size of the hash table is equal to the length of the input array. In this case, the space complexity is O(n). However, in the best case, the input array contains only one or two values that add up to the target, so the size of the hash table is very small. In this case, the space complexity is much smaller than O(n).\n",
    "\n",
    "Note that the space complexity of the hashing solution is higher than the space complexity of the two-pointer solution, which is O(1) because it does not require any extra data structures. However, the hashing solution has a better time complexity of O(n) compared to the two-pointer solution with sorting, which has a time complexity of O(n log n). Therefore, the choice of the solution depends on the requirements of the specific problem."
   ]
  },
  {
   "attachments": {},
   "cell_type": "markdown",
   "metadata": {},
   "source": [
    "### Key Idea - Hashing - Trading Space for Time\n",
    "\n",
    "The primary idea behind the hashing solution for the Two Sum problem is trading space complexity for time complexity. The hashing solution uses a hash table (dictionary in Python) to store the values in the input array as keys and their indices as values. This allows the solution to find the complement of each value in constant time on average, resulting in a time complexity of O(n).\n",
    "\n",
    "However, this comes at the cost of a higher space complexity, which is O(n) in the worst case, where n is the length of the input array. The size of the hash table is proportional to the number of values in the input array, which is n. Therefore, the hashing solution trades space complexity for time complexity.\n",
    "\n",
    "In contrast, the two-pointer solution does not require any extra data structures, resulting in a space complexity of O(1). However, the time complexity of the two-pointer solution depends on the sorting algorithm used to sort the input array. If an efficient sorting algorithm is used, the time complexity can be O(n log n) in the worst case.\n",
    "\n",
    "Therefore, the choice between the two solutions depends on the requirements of the specific problem. If space is not a concern and a fast solution is required, the hashing solution may be a better choice. If space is limited or the input array is already sorted, the two-pointer solution may be a better choice."
   ]
  }
 ],
 "metadata": {
  "language_info": {
   "name": "python"
  },
  "orig_nbformat": 4
 },
 "nbformat": 4,
 "nbformat_minor": 2
}
