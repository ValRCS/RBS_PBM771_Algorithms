{
 "cells": [
  {
   "attachments": {},
   "cell_type": "markdown",
   "metadata": {},
   "source": [
    "# Markov Chains\n",
    "\n",
    "## Introduction \n",
    "\n",
    "Markov chains are a widely used tool in natural language processing (NLP) for modeling and generating sequences of words. In NLP, a Markov chain is often used to model the probability of a sequence of words, where the probability of each word in the sequence depends only on the preceding word(s).\n",
    "\n",
    "One of the most common applications of Markov chains in NLP is in language modeling. Language modeling is the task of predicting the probability of a sequence of words. Markov chains are often used for this task because they can model the probability of a sequence of words by assuming that the probability of each word only depends on the preceding word(s). This assumption is known as the Markov assumption.\n",
    "\n",
    "For example, suppose we have a sentence \"The cat sat on the mat.\" A first-order Markov model would assume that the probability of the word \"cat\" depends only on the preceding word \"The,\" and the probability of the word \"sat\" depends only on the preceding word \"cat,\" and so on. Using this model, we can compute the probability of any given sentence by multiplying together the probabilities of each word given its preceding word(s).\n",
    "\n",
    "Markov chains can also be used for text generation, where the goal is to generate new text that follows the same statistical patterns as a given corpus of text. This is typically done by sampling from the conditional distribution of each word given its preceding word(s), using the Markov model. By iteratively sampling from this distribution, we can generate a sequence of words that has a similar statistical structure to the original text.\n",
    "\n",
    "![Markov chain](https://upload.wikimedia.org/wikipedia/commons/thumb/2/2b/Markovkate_01.svg/520px-Markovkate_01.svg.png)"
   ]
  },
  {
   "attachments": {},
   "cell_type": "markdown",
   "metadata": {},
   "source": [
    "## History of Markov Chains\n",
    "\n",
    "Markov chains are named after the Russian mathematician Andrey Markov. \n",
    "\n",
    "![Markov](https://upload.wikimedia.org/wikipedia/commons/thumb/7/70/AAMarkov.jpg/440px-AAMarkov.jpg)\n",
    "\n",
    "Note: His son is also became a mathematician and also used initials A.A.Markov ...\n",
    "\n",
    "Markov was interested in the behavior of sequences of random variables, and he developed a mathematical framework for studying sequences where the probability of each variable depends only on the preceding variable.\n",
    "\n",
    "Before Markov there were several other mathematicians who had studied sequences of random variables, including the Bernoulli brothers, the French mathematician Pierre-Simon Laplace, and the German mathematician Karl Friedrich Gauss. \n",
    "\n",
    "\n",
    "However, Markov was the first to develop a general theory of sequences of random variables, and he was the first to use the term \"Markov chain\" to describe a sequence of random variables where the probability of each variable depends only on the preceding variable.\n",
    "\n",
    "Markov developed his theory of Markov chains in the 1900s. This theory arose from his interested in Poisson process and the theory of stochastic processes.\n",
    "\n",
    "The theory of Markov chains was further developed in the 1920s and 1930s by a number of mathematicians, including the Hungarian mathematician Alfréd Rényi and the Soviet mathematician Aleksandr Khinchin. In the mid-20th century, Markov chains became a central topic in the field of probability theory and were used to study a wide range of problems in physics, biology, economics, and other fields.\n",
    "\n",
    "In the context of natural language processing, Markov chains were first used in the 1950s and 1960s for language modeling and text generation. Early applications of Markov chains in NLP included the development of automatic language translation systems and the generation of machine-generated poetry."
   ]
  },
  {
   "attachments": {},
   "cell_type": "markdown",
   "metadata": {},
   "source": [
    "## Core Idea behind Markov Chains\n",
    "\n",
    "The main idea behind Markov chains is to model the behavior of a sequence of random variables (such as a sequence of words in a sentence) by assuming that the probability of each variable depends only on the preceding variable (or variables).\n",
    "\n",
    "The Markov chain is defined by a set of states and a transition matrix, which specifies the probability of transitioning from one state to another. Each state represents a possible value of the random variable, and the transition matrix specifies the probabilities of moving from one state to another.\n",
    "\n",
    "The Markov property, which is central to the theory of Markov chains, states that the probability of transitioning to a new state depends only on the current state and not on any previous states. This means that the future behavior of the system is dependent only on its current state and not on any earlier history.\n",
    "\n",
    "The behavior of a Markov chain can be analyzed by studying its stationary distribution, which is the long-term probability distribution of the chain as it iterates through its state space. Under certain conditions (such as irreducibility and aperiodicity), a Markov chain will converge to a unique stationary distribution, which provides information about the long-term behavior of the chain."
   ]
  },
  {
   "attachments": {},
   "cell_type": "markdown",
   "metadata": {},
   "source": [
    "## Python program for Markov Chains"
   ]
  },
  {
   "cell_type": "code",
   "execution_count": 10,
   "metadata": {},
   "outputs": [
    {
     "name": "stdout",
     "output_type": "stream",
     "text": [
      "The quick brown fox jumps over the lazy dog. The lazy dog then wakes up and chases the\n"
     ]
    }
   ],
   "source": [
    "import random\n",
    "\n",
    "class MarkovChain:\n",
    "\n",
    "    def __init__(self, order=1):\n",
    "        self.order = order\n",
    "        self.transitions = {}\n",
    "        self.starts = []\n",
    "    \n",
    "    def add_text(self, text):\n",
    "        # Split the text into words\n",
    "        words = text.split()\n",
    "\n",
    "        # Add the start of the text to the list of possible starts\n",
    "        self.starts.append(words[:self.order])\n",
    "\n",
    "        # Add each sequence of words of length self.order to the transitions dictionary\n",
    "        for i in range(len(words) - self.order):\n",
    "            key = tuple(words[i:i+self.order])\n",
    "            value = words[i+self.order]\n",
    "            if key in self.transitions:\n",
    "                self.transitions[key].append(value)\n",
    "            else:\n",
    "                self.transitions[key] = [value]\n",
    "    \n",
    "    def generate_text(self, length):\n",
    "        # Choose a random start sequence from the list of possible starts\n",
    "        current_sequence = random.choice(self.starts)\n",
    "        \n",
    "        # Generate the next word in the sequence by choosing randomly from the possible transitions\n",
    "        generated_text = list(current_sequence)\n",
    "        for i in range(length):\n",
    "            key = tuple(current_sequence)\n",
    "            if key in self.transitions:\n",
    "                next_word = random.choice(self.transitions[key])\n",
    "            else:\n",
    "                # If we reach a sequence that is not in the transitions dictionary, choose a random start sequence\n",
    "                current_sequence = random.choice(self.starts)\n",
    "                key = tuple(current_sequence)\n",
    "                next_word = random.choice(self.transitions[key])\n",
    "            generated_text.append(next_word)\n",
    "            current_sequence = current_sequence[1:] + [next_word,]\n",
    "\n",
    "        return ' '.join(generated_text)\n",
    "\n",
    "\n",
    "# Example usage\n",
    "text = \"\"\"The quick brown fox jumps over the lazy dog. \n",
    "The lazy dog then wakes up and chases the fox around the yard.\n",
    "The lazy dog also likes to sleep on the couch.\n",
    "The fox likes to sleep on the porch.\n",
    "The quick brown fox steals the dog's bone and runs away.\n",
    "\"\"\"\n",
    "\n",
    "mc = MarkovChain(order=2)\n",
    "mc.add_text(text)\n",
    "\n",
    "generated_text = mc.generate_text(length=16)\n",
    "print(generated_text)"
   ]
  },
  {
   "cell_type": "code",
   "execution_count": 11,
   "metadata": {},
   "outputs": [
    {
     "data": {
      "text/plain": [
       "{('The', 'quick'): ['brown', 'brown'],\n",
       " ('quick', 'brown'): ['fox', 'fox'],\n",
       " ('brown', 'fox'): ['jumps', 'steals'],\n",
       " ('fox', 'jumps'): ['over'],\n",
       " ('jumps', 'over'): ['the'],\n",
       " ('over', 'the'): ['lazy'],\n",
       " ('the', 'lazy'): ['dog.'],\n",
       " ('lazy', 'dog.'): ['The'],\n",
       " ('dog.', 'The'): ['lazy'],\n",
       " ('The', 'lazy'): ['dog', 'dog'],\n",
       " ('lazy', 'dog'): ['then', 'also'],\n",
       " ('dog', 'then'): ['wakes'],\n",
       " ('then', 'wakes'): ['up'],\n",
       " ('wakes', 'up'): ['and'],\n",
       " ('up', 'and'): ['chases'],\n",
       " ('and', 'chases'): ['the'],\n",
       " ('chases', 'the'): ['fox'],\n",
       " ('the', 'fox'): ['around'],\n",
       " ('fox', 'around'): ['the'],\n",
       " ('around', 'the'): ['yard.'],\n",
       " ('the', 'yard.'): ['The'],\n",
       " ('yard.', 'The'): ['lazy'],\n",
       " ('dog', 'also'): ['likes'],\n",
       " ('also', 'likes'): ['to'],\n",
       " ('likes', 'to'): ['sleep', 'sleep'],\n",
       " ('to', 'sleep'): ['on', 'on'],\n",
       " ('sleep', 'on'): ['the', 'the'],\n",
       " ('on', 'the'): ['couch.', 'porch.'],\n",
       " ('the', 'couch.'): ['The'],\n",
       " ('couch.', 'The'): ['fox'],\n",
       " ('The', 'fox'): ['likes'],\n",
       " ('fox', 'likes'): ['to'],\n",
       " ('the', 'porch.'): ['The'],\n",
       " ('porch.', 'The'): ['quick'],\n",
       " ('fox', 'steals'): ['the'],\n",
       " ('steals', 'the'): [\"dog's\"],\n",
       " ('the', \"dog's\"): ['bone'],\n",
       " (\"dog's\", 'bone'): ['and'],\n",
       " ('bone', 'and'): ['runs'],\n",
       " ('and', 'runs'): ['away.']}"
      ]
     },
     "execution_count": 11,
     "metadata": {},
     "output_type": "execute_result"
    }
   ],
   "source": [
    "## Let's see the transitions\n",
    "\n",
    "mc.transitions"
   ]
  },
  {
   "attachments": {},
   "cell_type": "markdown",
   "metadata": {},
   "source": [
    "## Limitiations of simple Markov Chains\n",
    "\n",
    "The Markov property is a strong assumption, and it is often violated in real-world applications. For example, the probability of a word in a sentence often depends on more than just the preceding word. For example, the probability of the word \"cat\" in the sentence \"The cat sat on the mat\" is likely to be higher if the preceding word is \"the\" than if the preceding word is \"sat.\""
   ]
  },
  {
   "cell_type": "markdown",
   "metadata": {},
   "source": [
    "## Hidden Markov Chains\n",
    "\n",
    "A hidden Markov chain, also known as a hidden Markov model (HMM), is a type of Markov chain in which the state of the system is not directly observable, but instead generates a sequence of observable outputs.\n",
    "\n",
    "In a hidden Markov chain, there are two types of variables: the hidden states, which are not directly observable, and the observed outputs, which are generated by the hidden states. The hidden states represent the internal state of the system, while the observed outputs provide information about the hidden states.\n",
    "\n",
    "For example, in speech recognition, a hidden Markov chain can be used to model the speech signal as a sequence of hidden states representing different phonemes, with each hidden state generating a sequence of observable acoustic features such as spectral coefficients or mel-frequency cepstral coefficients (MFCCs).\n",
    "\n",
    "The behavior of a hidden Markov chain is defined by a transition matrix that specifies the probability of transitioning from one hidden state to another, and an emission matrix that specifies the probability of generating each observable output given the hidden state. The initial distribution over the hidden states is also specified.\n",
    "\n",
    "The key challenge in working with hidden Markov chains is to estimate the hidden states given a sequence of observed outputs. This problem, known as the decoding problem, can be solved using the Viterbi algorithm or the forward-backward algorithm.\n",
    "\n",
    "Hidden Markov chains are used in a wide range of applications, including speech recognition, natural language processing, bioinformatics, and finance. They are a powerful tool for modeling complex systems where the state of the system is not directly observable but can be inferred from a sequence of observable outputs."
   ]
  },
  {
   "attachments": {},
   "cell_type": "markdown",
   "metadata": {},
   "source": [
    "## References\n",
    "\n",
    "* https://www.americanscientist.org/article/first-links-in-the-markov-chain\n",
    "* https://www.jstor.org/stable/1403785"
   ]
  },
  {
   "cell_type": "code",
   "execution_count": null,
   "metadata": {},
   "outputs": [],
   "source": []
  }
 ],
 "metadata": {
  "kernelspec": {
   "display_name": "Python 3",
   "language": "python",
   "name": "python3"
  },
  "language_info": {
   "codemirror_mode": {
    "name": "ipython",
    "version": 3
   },
   "file_extension": ".py",
   "mimetype": "text/x-python",
   "name": "python",
   "nbconvert_exporter": "python",
   "pygments_lexer": "ipython3",
   "version": "3.10.7"
  },
  "orig_nbformat": 4
 },
 "nbformat": 4,
 "nbformat_minor": 2
}
