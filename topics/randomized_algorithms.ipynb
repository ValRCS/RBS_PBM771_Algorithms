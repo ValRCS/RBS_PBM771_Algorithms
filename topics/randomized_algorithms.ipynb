{
 "cells": [
  {
   "cell_type": "markdown",
   "metadata": {
    "id": "2eE1nqPP3sDG"
   },
   "source": [
    "# Probabilistic Analysis and Randomized Algorithms\n",
    "\n",
    "Src: Chapter 5.1 of Cormen et al. discusses probabilistic analysis and randomized algorithms. \n",
    "4th edition of CLRS from MIT press \n",
    "[CLRS on Amazon](https://www.amazon.com/Introduction-Algorithms-fourth-Thomas-Cormen/dp/026204630X)\n",
    "\n",
    "Probabilistic analysis is a technique used in computer science to analyze algorithms that involve randomness or uncertainty. It involves using probability theory to calculate the expected behavior of an algorithm over many runs, rather than analyzing the behavior of a single run.\n",
    "\n",
    "Randomized algorithms, on the other hand, are algorithms that make use of random numbers or random choices to solve problems. They can be used to solve problems that are difficult or impossible to solve deterministically, and they are often more efficient than their deterministic counterparts.\n",
    "\n",
    "Probabilistic analysis is particularly useful for analyzing randomized algorithms, as it allows us to reason about the expected behavior of an algorithm over many runs. For example, if we run a randomized algorithm 100 times and observe that it gives the correct answer 95 times, we can use probabilistic analysis to calculate the probability that the algorithm will give the correct answer on any given run.\n",
    "\n"
   ]
  },
  {
   "cell_type": "markdown",
   "metadata": {},
   "source": [
    "## Types of Randomized algorithms\n",
    "\n",
    "### Las Vegas Algorithms\n",
    "\n",
    "Las Vegas algorithms are algorithms that always produce the correct answer, but the running time of the algorithm may vary depending on the input. These algorithms use randomness to improve their efficiency, but they always produce the correct answer.\n",
    "\n",
    "Examples of Las Vegas algorithms include quicksort(with random pivot) and the Miller-Rabin primality test. Quicksort is a sorting algorithm that uses random pivots to improve its efficiency, while the Miller-Rabin primality test is a probabilistic algorithm that uses random numbers to test whether a number is prime.\n",
    "\n",
    "### Monte Carlo Algorithms\n",
    "\n",
    "Monte Carlo algorithms are algorithms that may produce incorrect answers with some probability, but they always run in a fixed amount of time. These algorithms use randomness to improve their efficiency, but they may produce incorrect answers with some probability.\n",
    "\n",
    "Examples of Monte Carlo algorithms include the Solovay-Strassen primality test and the Rabin-Karp string matching algorithm. The Solovay-Strassen primality test is a probabilistic algorithm that uses random numbers to test whether a number is prime, while the Rabin-Karp string matching algorithm is a randomized algorithm that uses random numbers to search for a substring in a string."
   ]
  },
  {
   "cell_type": "markdown",
   "metadata": {
    "id": "4n1DkPF_3sDM"
   },
   "source": [
    "## Hire Assistant problem\n",
    "\n",
    "Suppose you need to hire a new office assistant but your previous attempts have been unsuccessful. To solve this problem, you decide to use an employment agency that will send you one candidate each day for an interview. You have to pay a small fee to the agency for each interview, and hiring an applicant is even more costly as it requires firing your current office assistant and paying a substantial hiring fee to the agency. Since you are committed to having the best possible person for the job, you have decided that if a candidate is more qualified than your current assistant, you will hire the new candidate and fire the current assistant. Although you are willing to pay the resulting cost, you want to estimate the price of this strategy."
   ]
  },
  {
   "cell_type": "markdown",
   "metadata": {
    "id": "UgXNNZeJ3sDN"
   },
   "source": [
    "![Hire Assistant Problem](https://miro.medium.com/v2/resize:fit:1400/format:webp/1*lXgGoeOwoKEFjXmXRjXZZQ.png)\n",
    "\n",
    "Src: https://www.cantorsparadise.com/math-based-decision-making-the-secretary-problem-a30e301d8489"
   ]
  },
  {
   "cell_type": "markdown",
   "metadata": {
    "id": "5gdKywTN4_K2"
   },
   "source": [
    "## Trivial Case - Instant interviews - no costs to hire and fire\n",
    "\n",
    "In trivial case, we could simply go through all the applicants and choose the best one (simple O(n) complexity) choose max out of all.\n",
    "\n",
    "Situation changes if we add costs (\"friction\")"
   ]
  },
  {
   "cell_type": "markdown",
   "metadata": {
    "id": "L1Q5nffc3sDN"
   },
   "source": [
    "### Hire assistant problem pseudocode\n",
    "\n",
    "The following pseudocode describes the algorithm for hiring an office assistant using the employment agency. The algorithm takes as input a list of candidates from the employment agency and returns the cost of hiring and firing office assistants.\n",
    "\n",
    "* Set the current best candidate to None and the current best candidate's score to 0.\n",
    "* While there are still candidates from the employment agency:\n",
    "\n",
    "a. Interview the next candidate.\n",
    "\n",
    "b. If the candidate's score is higher than the current best candidate's score:\n",
    "\n",
    "1. Fire the current office assistant.\n",
    "\n",
    "2. Hire the new candidate.\n",
    "\n",
    "3. Set the current best candidate to the new candidate.\n",
    "\n",
    "c. Otherwise, do not hire the candidate.\n",
    "Return the cost of hiring and firing office assistants.\n",
    "\n",
    "Note: The exact scoring system used to evaluate candidates is not specified in the problem statement, so it would need to be defined or assumed in the implementation of the procedure. Additionally, the cost of hiring and firing office assistants is not specified, so that would need to be estimated based on the specific circumstances of the problem."
   ]
  },
  {
   "cell_type": "code",
   "execution_count": 34,
   "metadata": {
    "id": "RBs-ZAcS3sDO"
   },
   "outputs": [],
   "source": [
    "def score(candidate):\n",
    "    # you could imagine a whole process of interview here which considers 10-50 parameters, \n",
    "    # 7 rounds of interviews etc etc\n",
    "    return candidate # for now we assume the candidate is the score, this means candidates are basically numbers in some collection(list, set, etc)\n",
    "\n",
    "# let's create a simple hiring heuristic that simplye checkes candidate score\n",
    "def is_hirable(candidate, index, num_candidates, best_score, hire_cost, fire_cost, total_cost, max_budget):\n",
    "    # if the candidate is better than the best candidate we have seen so far, hire him\n",
    "    return candidate > best_score\n",
    "\n",
    "def hire_assistant(candidates, \n",
    "                   is_hirable_fun=is_hirable, \n",
    "                   hire_cost=0, \n",
    "                   fire_cost=0, \n",
    "                   interview_cost=0, \n",
    "                   max_budget=0,\n",
    "                   debug=True):\n",
    "    '''\n",
    "    Default costs represent ideal world where time and money are meaningless...\n",
    "    '''\n",
    "    best_candidate = None\n",
    "    best_score = 0\n",
    "    total_cost = -fire_cost # hacky way of providing for the first candidate to be hired without firing anyone\n",
    "    N = len(candidates)\n",
    "    \n",
    "    for index, candidate in enumerate(candidates):\n",
    "        # Score the candidate (replace this with your own scoring function)\n",
    "        candidate_score = score(candidate)\n",
    "        \n",
    "        # so this will work like finding max in a list for trivial cases\n",
    "        if is_hirable_fun(candidate_score, index, N, best_score, hire_cost, fire_cost, total_cost, max_budget):\n",
    "            # Fire the current office assistant and hire the new candidate\n",
    "            total_cost += fire_cost + hire_cost\n",
    "            if debug:\n",
    "                print(f\"Hiring candidate with score {candidate_score}, paying {hire_cost}\")\n",
    "                print(f\"paying {fire_cost} to fire {best_candidate}\")\n",
    "                print(f\"Total cost now is {total_cost}\")\n",
    "            \n",
    "            best_candidate = candidate\n",
    "            best_score = candidate_score\n",
    "        \n",
    "        # in any case we have to pay the cost of interview (you and your co-workers spending time with prospect, hotel_rooms, food, etc)\n",
    "        total_cost += interview_cost\n",
    "            \n",
    "    return total_cost, best_candidate, best_score"
   ]
  },
  {
   "cell_type": "code",
   "execution_count": 9,
   "metadata": {
    "colab": {
     "base_uri": "https://localhost:8080/"
    },
    "id": "2cnwG6or5_Js",
    "outputId": "dc648b68-80e2-45bf-8f10-2cd6d1bf142d"
   },
   "outputs": [
    {
     "data": {
      "text/plain": [
       "0.47009071843107064"
      ]
     },
     "execution_count": 9,
     "metadata": {},
     "output_type": "execute_result"
    }
   ],
   "source": [
    "import random # we will need a lot of random in this notebook\n",
    "random.seed(2024)  # so everyone should get same pseudo-randoms\n",
    "# it is like buying that book of 1 million random numbers on Amazon from 1950s\n",
    "# here we will make some random scores\n",
    "random.random() # we could also use randint or even some of the premade distribution"
   ]
  },
  {
   "cell_type": "code",
   "execution_count": 10,
   "metadata": {
    "colab": {
     "base_uri": "https://localhost:8080/"
    },
    "id": "D8K2MBZy6RN6",
    "outputId": "f3b58d71-6d58-4720-b23d-a6222baae5ed"
   },
   "outputs": [
    {
     "data": {
      "text/plain": [
       "[0.7282642914232076,\n",
       " 0.3037513583913575,\n",
       " 0.8872982690000151,\n",
       " 0.41008858946872573,\n",
       " 0.7166143935816427,\n",
       " 0.26522113780066725,\n",
       " 0.24516664919367304,\n",
       " 0.8125816265884215,\n",
       " 0.49830138202139995,\n",
       " 0.4158721009442904,\n",
       " 0.727759134886051,\n",
       " 0.9632496477523979,\n",
       " 0.3095292116987097,\n",
       " 0.7040597821044818,\n",
       " 0.5193507229884871,\n",
       " 0.7313600836275068,\n",
       " 0.9996631210081544,\n",
       " 0.20638183272795785,\n",
       " 0.7525906989551181,\n",
       " 0.4685332173457043]"
      ]
     },
     "execution_count": 10,
     "metadata": {},
     "output_type": "execute_result"
    }
   ],
   "source": [
    "candidates = [random.random() for _ in range(20)]\n",
    "candidates"
   ]
  },
  {
   "cell_type": "code",
   "execution_count": 35,
   "metadata": {},
   "outputs": [
    {
     "name": "stdout",
     "output_type": "stream",
     "text": [
      "Hiring candidate with score 0.7282642914232076, paying 0\n",
      "paying 0 to fire None\n",
      "Total cost now is 0\n",
      "Hiring candidate with score 0.8872982690000151, paying 0\n",
      "paying 0 to fire 0.7282642914232076\n",
      "Total cost now is 0\n",
      "Hiring candidate with score 0.9632496477523979, paying 0\n",
      "paying 0 to fire 0.8872982690000151\n",
      "Total cost now is 0\n",
      "Hiring candidate with score 0.9996631210081544, paying 0\n",
      "paying 0 to fire 0.9632496477523979\n",
      "Total cost now is 0\n"
     ]
    },
    {
     "data": {
      "text/plain": [
       "(0, 0.9996631210081544, 0.9996631210081544)"
      ]
     },
     "execution_count": 35,
     "metadata": {},
     "output_type": "execute_result"
    }
   ],
   "source": [
    "# let's run the trivial default case\n",
    "hire_assistant(candidates)"
   ]
  },
  {
   "cell_type": "markdown",
   "metadata": {
    "id": "Aj_zUOli6XEg"
   },
   "source": [
    "## Knowing the random distribution\n",
    "\n",
    "In the above example since we know the maximum (1.0) we could premake a rule - heuristic say any candidate over 0.99 is amazing and stop early.\n",
    "\n",
    "However, this range of scores most likely will not be available in a real life situation."
   ]
  },
  {
   "cell_type": "code",
   "execution_count": 36,
   "metadata": {
    "colab": {
     "base_uri": "https://localhost:8080/"
    },
    "id": "sqESuXgF6Qeb",
    "outputId": "fad96915-05cb-4e56-8766-3d83dea40595"
   },
   "outputs": [
    {
     "name": "stdout",
     "output_type": "stream",
     "text": [
      "Hiring candidate with score 0.7282642914232076, paying 2000\n",
      "paying 5000 to fire None\n",
      "Total cost now is 2000\n",
      "Hiring candidate with score 0.8872982690000151, paying 2000\n",
      "paying 5000 to fire 0.7282642914232076\n",
      "Total cost now is 9400\n",
      "Hiring candidate with score 0.9632496477523979, paying 2000\n",
      "paying 5000 to fire 0.8872982690000151\n",
      "Total cost now is 18200\n",
      "Hiring candidate with score 0.9996631210081544, paying 2000\n",
      "paying 5000 to fire 0.9632496477523979\n",
      "Total cost now is 26200\n"
     ]
    },
    {
     "data": {
      "text/plain": [
       "(27000, 0.9996631210081544, 0.9996631210081544)"
      ]
     },
     "execution_count": 36,
     "metadata": {},
     "output_type": "execute_result"
    }
   ],
   "source": [
    "hire_assistant(candidates, is_hirable, 2_000, 5_000, 200)"
   ]
  },
  {
   "cell_type": "markdown",
   "metadata": {},
   "source": [
    "## Sorted candidates"
   ]
  },
  {
   "cell_type": "code",
   "execution_count": 37,
   "metadata": {
    "colab": {
     "base_uri": "https://localhost:8080/"
    },
    "id": "ROtSneFs94Dt",
    "outputId": "f4935a67-4cd7-459c-b7b6-4016fc74d932"
   },
   "outputs": [
    {
     "name": "stdout",
     "output_type": "stream",
     "text": [
      "Hiring candidate with score 0.20638183272795785, paying 2000\n",
      "paying 5000 to fire None\n",
      "Total cost now is 2000\n",
      "Hiring candidate with score 0.24516664919367304, paying 2000\n",
      "paying 5000 to fire 0.20638183272795785\n",
      "Total cost now is 9200\n",
      "Hiring candidate with score 0.26522113780066725, paying 2000\n",
      "paying 5000 to fire 0.24516664919367304\n",
      "Total cost now is 16400\n",
      "Hiring candidate with score 0.3037513583913575, paying 2000\n",
      "paying 5000 to fire 0.26522113780066725\n",
      "Total cost now is 23600\n",
      "Hiring candidate with score 0.3095292116987097, paying 2000\n",
      "paying 5000 to fire 0.3037513583913575\n",
      "Total cost now is 30800\n",
      "Hiring candidate with score 0.41008858946872573, paying 2000\n",
      "paying 5000 to fire 0.3095292116987097\n",
      "Total cost now is 38000\n",
      "Hiring candidate with score 0.4158721009442904, paying 2000\n",
      "paying 5000 to fire 0.41008858946872573\n",
      "Total cost now is 45200\n",
      "Hiring candidate with score 0.4685332173457043, paying 2000\n",
      "paying 5000 to fire 0.4158721009442904\n",
      "Total cost now is 52400\n",
      "Hiring candidate with score 0.49830138202139995, paying 2000\n",
      "paying 5000 to fire 0.4685332173457043\n",
      "Total cost now is 59600\n",
      "Hiring candidate with score 0.5193507229884871, paying 2000\n",
      "paying 5000 to fire 0.49830138202139995\n",
      "Total cost now is 66800\n",
      "Hiring candidate with score 0.7040597821044818, paying 2000\n",
      "paying 5000 to fire 0.5193507229884871\n",
      "Total cost now is 74000\n",
      "Hiring candidate with score 0.7166143935816427, paying 2000\n",
      "paying 5000 to fire 0.7040597821044818\n",
      "Total cost now is 81200\n",
      "Hiring candidate with score 0.727759134886051, paying 2000\n",
      "paying 5000 to fire 0.7166143935816427\n",
      "Total cost now is 88400\n",
      "Hiring candidate with score 0.7282642914232076, paying 2000\n",
      "paying 5000 to fire 0.727759134886051\n",
      "Total cost now is 95600\n",
      "Hiring candidate with score 0.7313600836275068, paying 2000\n",
      "paying 5000 to fire 0.7282642914232076\n",
      "Total cost now is 102800\n",
      "Hiring candidate with score 0.7525906989551181, paying 2000\n",
      "paying 5000 to fire 0.7313600836275068\n",
      "Total cost now is 110000\n",
      "Hiring candidate with score 0.8125816265884215, paying 2000\n",
      "paying 5000 to fire 0.7525906989551181\n",
      "Total cost now is 117200\n",
      "Hiring candidate with score 0.8872982690000151, paying 2000\n",
      "paying 5000 to fire 0.8125816265884215\n",
      "Total cost now is 124400\n",
      "Hiring candidate with score 0.9632496477523979, paying 2000\n",
      "paying 5000 to fire 0.8872982690000151\n",
      "Total cost now is 131600\n",
      "Hiring candidate with score 0.9996631210081544, paying 2000\n",
      "paying 5000 to fire 0.9632496477523979\n",
      "Total cost now is 138800\n"
     ]
    },
    {
     "data": {
      "text/plain": [
       "(139000, 0.9996631210081544, 0.9996631210081544)"
      ]
     },
     "execution_count": 37,
     "metadata": {},
     "output_type": "execute_result"
    }
   ],
   "source": [
    "# employment agency gives you a list of candidates in already sorted order, \n",
    "# sadly for you it is ascending and you do not realize that\n",
    "sorted_candidates = sorted(candidates)\n",
    "hire_assistant(sorted_candidates, is_hirable_fun=is_hirable, \n",
    "               hire_cost=2_000, \n",
    "               fire_cost=5_000, \n",
    "               interview_cost=200)"
   ]
  },
  {
   "cell_type": "code",
   "execution_count": 38,
   "metadata": {},
   "outputs": [
    {
     "name": "stdout",
     "output_type": "stream",
     "text": [
      "Hiring candidate with score 0.9632496477523979, paying 2000\n",
      "paying 5000 to fire None\n",
      "Total cost now is 5600\n",
      "Hiring candidate with score 0.9996631210081544, paying 2000\n",
      "paying 5000 to fire 0.9632496477523979\n",
      "Total cost now is 12800\n"
     ]
    },
    {
     "data": {
      "text/plain": [
       "(13000, 0.9996631210081544, 0.9996631210081544)"
      ]
     },
     "execution_count": 38,
     "metadata": {},
     "output_type": "execute_result"
    }
   ],
   "source": [
    "# let's make a new is_hirable function that will simply check for improvement and also for threshold score say 0.9\n",
    "def is_hirable_thresh(candidate, index, num_candidates, best_score, hire_cost, fire_cost, total_cost, max_budget, threshold=0.9):\n",
    "    return candidate > best_score and candidate > threshold\n",
    "\n",
    "hire_assistant(sorted_candidates, is_hirable_fun=is_hirable_thresh,\n",
    "                hire_cost=2_000, \n",
    "                fire_cost=5_000, \n",
    "                interview_cost=200)\n"
   ]
  },
  {
   "cell_type": "markdown",
   "metadata": {},
   "source": [
    "### Knowing threshold algorithm\n",
    "\n",
    "If you know the distribution of the candidates, you could sort them and then choose the best one that is above a certain threshold. This is a deterministic algorithm."
   ]
  },
  {
   "cell_type": "markdown",
   "metadata": {
    "id": "pDJLcvLc-Uw7"
   },
   "source": [
    "## Solution when you suspect a sorted list\n",
    "\n",
    "You would shuffle it, and avoid the pain and cost of hiring and firing so many people (or so many marriages...)\n",
    "\n",
    "We saw this approach with quicksort where we could select a random pivot to avoid the worst case scenario.\n",
    "\n",
    "Of course good shuffling is not trivial and also costs time.\n"
   ]
  },
  {
   "cell_type": "code",
   "execution_count": null,
   "metadata": {
    "id": "y4lcvZAk-Tn6"
   },
   "outputs": [],
   "source": []
  },
  {
   "cell_type": "markdown",
   "metadata": {
    "id": "Iw51ry3G3sDP"
   },
   "source": [
    "### Hire assistant problem implementation explanation\n",
    "\n",
    "Above code takes in a list of candidates, the cost of hiring a new office assistant, and the cost of firing the current office assistant. It then iterates through each candidate and evaluates them using the score() function (which you would need to define or replace with your own scoring function). If the candidate has a higher score than the current best candidate, the code fires the current office assistant, hires the new candidate, and updates the best_candidate and best_score variables. If the candidate has a lower or equal score, the code does not hire them and only adds the hire_cost to the total_cost. Finally, the code returns the total cost of hiring and firing office assistants."
   ]
  },
  {
   "cell_type": "markdown",
   "metadata": {
    "id": "38CQzNjc3sDP"
   },
   "source": [
    "## Online Decision Problem\n",
    "\n",
    "An online decision problem is a problem where the input is revealed over time and decisions must be made without complete knowledge of the future input. In other words, the algorithm must make decisions without seeing the entire input in advance.\n",
    "\n",
    "In contrast, an offline decision problem is one where the entire input is known in advance and the algorithm can take as much time as it needs to make a decision.\n",
    "\n",
    "Online decision problems are common in many areas of computer science, including optimization, game theory, machine learning, and networking. In these problems, the algorithm must make decisions based on incomplete information, and the goal is usually to minimize some measure of cost or maximize some measure of performance.\n",
    "\n",
    "The Hire Assistant problem is an example of an online decision problem because the candidates are revealed over time, and the algorithm must make a decision after each candidate is evaluated, without knowledge of future candidates. Similarly, other examples of online decision problems include routing packets in a computer network, scheduling tasks on a processor, or bidding in an auction."
   ]
  },
  {
   "cell_type": "markdown",
   "metadata": {
    "id": "XKywGlxk3sDQ"
   },
   "source": [
    "## Monte Carlo Simulation\n",
    "\n",
    "Monte Carlo Method is a computational algorithm that uses random sampling to estimate the solutions to problems in various fields such as physics, engineering, finance, and computer science. It is named after the famous Monte Carlo Casino in Monaco, where games of chance use random numbers to determine the outcome.\n",
    "\n",
    "The Monte Carlo method typically involves simulating a large number of random samples or scenarios to generate estimates of complex systems or problems that are difficult to solve analytically. These random samples are used to estimate probabilities or expected values of the system or problem under investigation.\n",
    "\n",
    "For example, in physics, the Monte Carlo method is used to simulate the behavior of particles in a system by generating random positions and velocities for each particle and then computing the resulting behavior of the system. In finance, Monte Carlo simulations are used to estimate the value of financial instruments such as options or bonds, by simulating a large number of possible future scenarios and calculating the expected value of the instrument under each scenario.\n",
    "\n",
    "The Monte Carlo method can be particularly useful in situations where the problem is too complex to be solved analytically, and there are many sources of randomness or uncertainty involved. However, the accuracy of Monte Carlo simulations depends on the number of samples or scenarios simulated, and in some cases, the method can be computationally expensive.\n",
    "\n",
    "We can simulate the Hire Assistant problem using the Monte Carlo method, which is a probabilistic algorithm that uses random sampling to obtain numerical results.\n",
    "\n",
    "Here's how we can use Monte Carlo method to simulate the Hire Assistant problem:\n",
    "\n",
    "1. Generate a large number of candidate pools, each containing a random permutation of the same set of candidates.\n",
    "2. For each candidate pool, run the Hire Assistant algorithm on the candidates and record the total cost of hiring and firing assistants.\n",
    "3. Compute the average cost over all the candidate pools to obtain an estimate of the expected cost."
   ]
  },
  {
   "cell_type": "markdown",
   "metadata": {
    "id": "Tu9mWqvq_oCc"
   },
   "source": [
    "## Law of Large Numbers\n",
    "\n",
    "* https://en.wikipedia.org/wiki/Law_of_large_numbers\n",
    "\n",
    "![Fair Dice](https://upload.wikimedia.org/wikipedia/commons/thumb/c/c9/Lawoflargenumbers.svg/450px-Lawoflargenumbers.svg.png)\n",
    "### Wisdom of the crowds\n",
    "\n",
    "### Reversal to the mean"
   ]
  },
  {
   "cell_type": "code",
   "execution_count": 20,
   "metadata": {
    "colab": {
     "base_uri": "https://localhost:8080/"
    },
    "id": "ZM5BAUrY_nYt",
    "outputId": "af8aba8b-c5a0-4fc6-fc9f-f2eb126c4285"
   },
   "outputs": [
    {
     "name": "stdout",
     "output_type": "stream",
     "text": [
      "Average dice from 10 is 3.9\n",
      "Average dice from 100 is 3.45\n",
      "Average dice from 1000 is 3.527\n",
      "Average dice from 10000 is 3.4983\n",
      "Average dice from 100000 is 3.49032\n",
      "Average dice from 1000000 is 3.499\n",
      "Average dice from 10000000 is 3.4992188\n"
     ]
    }
   ],
   "source": [
    "throws = 1\n",
    "for _ in range(7):\n",
    "    throws *= 10\n",
    "    # print(f\"Throwing  dice{throws} times\")\n",
    "    dice_throws = [random.randint(1,6) for _ in range(throws)]\n",
    "    avg = sum(dice_throws) / throws\n",
    "    print(f\"Average dice from {throws} is {avg}\")"
   ]
  },
  {
   "cell_type": "code",
   "execution_count": 31,
   "metadata": {
    "colab": {
     "base_uri": "https://localhost:8080/"
    },
    "id": "JU94jsPPD6CD",
    "outputId": "de083acd-e8b1-4913-95c4-70afa208cfa6"
   },
   "outputs": [
    {
     "data": {
      "text/plain": [
       "[3, 1]"
      ]
     },
     "execution_count": 31,
     "metadata": {},
     "output_type": "execute_result"
    }
   ],
   "source": [
    "random.sample([1,2,3,4], 4) # we return a random sample without replacement - meaning we do not get doubles"
   ]
  },
  {
   "cell_type": "code",
   "execution_count": 39,
   "metadata": {
    "id": "1wRLqtOV3sDQ"
   },
   "outputs": [],
   "source": [
    "## Monte Carlo Simulation\n",
    "\n",
    "# import random\n",
    "\n",
    "def hire_assistant_simulate(candidates, hire_cost, fire_cost, interview_cost, num_simulations, is_hirable_fun=is_hirable, max_budget=0, debug=False):\n",
    "    total_cost = 0\n",
    "    total_score = 0 # we will see how well we do on the candidates\n",
    "    n = len(candidates)\n",
    "    \n",
    "    for i in range(num_simulations):\n",
    "        # Generate a random permutation of the candidates\n",
    "        candidate_pool = random.sample(candidates, n)\n",
    "        \n",
    "        # Run the Hire Assistant algorithm on the candidate pool and record the cost\n",
    "        cost, best_candidate, best_score = hire_assistant(candidate_pool, is_hirable_fun, hire_cost, fire_cost, interview_cost, max_budget=max_budget, debug=debug)\n",
    "        total_cost += cost\n",
    "        total_score += best_score\n",
    "\n",
    "        \n",
    "    # Compute the average cost over all the simulations\n",
    "    average_cost = total_cost / num_simulations\n",
    "    average_score = total_score / num_simulations\n",
    "    return average_cost, average_score"
   ]
  },
  {
   "cell_type": "code",
   "execution_count": 40,
   "metadata": {
    "colab": {
     "base_uri": "https://localhost:8080/"
    },
    "id": "I6otPSIYEamc",
    "outputId": "cfada7cf-b393-4e65-9695-40ac07f83ad3"
   },
   "outputs": [
    {
     "data": {
      "text/plain": [
       "(24148.83, 0.9996631210087195)"
      ]
     },
     "execution_count": 40,
     "metadata": {},
     "output_type": "execute_result"
    }
   ],
   "source": [
    "# so we will calculate the average cost of hiring assistant for 100_000 simulations\n",
    "# this is using the basic is_hirable function the default one\n",
    "hire_assistant_simulate(candidates, hire_cost=2_000, fire_cost=5_000, interview_cost=200, num_simulations=100_000)\n",
    "# not surprisingly we always get the best candidate, because we are checking every applicant"
   ]
  },
  {
   "cell_type": "code",
   "execution_count": 41,
   "metadata": {},
   "outputs": [
    {
     "data": {
      "text/plain": [
       "(9493.49, 0.9996631210087195)"
      ]
     },
     "execution_count": 41,
     "metadata": {},
     "output_type": "execute_result"
    }
   ],
   "source": [
    "# let's try the threshold function\n",
    "hire_assistant_simulate(candidates, hire_cost=2_000, fire_cost=5_000, interview_cost=200, num_simulations=100_000, is_hirable_fun=is_hirable_thresh)\n",
    "# so knowing a good threshold is important, because if you set it too high you might not hire anyone\n",
    "# if you set it too low you might hire too many people"
   ]
  },
  {
   "cell_type": "code",
   "execution_count": null,
   "metadata": {
    "id": "XMjB_GPjE5Tc"
   },
   "outputs": [],
   "source": [
    "# so using some simulations we could estimate how much we would end up paying "
   ]
  },
  {
   "cell_type": "markdown",
   "metadata": {
    "id": "EJPXolwdFBaD"
   },
   "source": [
    "## When distribution of scores is not known\n",
    "\n",
    "In previous case we knew the scores 0 to 1\n",
    "\n",
    "If we do not know the distribution of scores we need to learn it from applicants\n",
    "\n",
    "https://en.wikipedia.org/wiki/Secretary_problem\n",
    "\n",
    "Difficulty lies that we have to make one choice to hire and that is it\n",
    "\n",
    "Statistically it is proven that n/e (e as in Euler's constant) candidates should be skipped - used for learning the distribution\n",
    "\n",
    "After that you simply take the first score that is higher than the highest score in first n/e candidates.\n",
    "\n",
    "Again this is only about 37% of working perfectly.\n",
    "\n",
    "Worst case scenario you hire the last person - who could be really bad\n",
    "\n",
    "This worst case scenario would require you that you strike out on 63 persons being worse than the best person from first 36\n",
    "\n",
    "In other words the best person was in the first 36"
   ]
  },
  {
   "cell_type": "code",
   "execution_count": 27,
   "metadata": {
    "colab": {
     "base_uri": "https://localhost:8080/"
    },
    "id": "DdEosLMEGpu6",
    "outputId": "ec0cc7fe-eb93-425d-ea65-576b916b1ac0"
   },
   "outputs": [
    {
     "data": {
      "text/plain": [
       "2.718281828459045"
      ]
     },
     "execution_count": 27,
     "metadata": {},
     "output_type": "execute_result"
    }
   ],
   "source": [
    "import math\n",
    "math.e"
   ]
  },
  {
   "cell_type": "code",
   "execution_count": 28,
   "metadata": {
    "colab": {
     "base_uri": "https://localhost:8080/"
    },
    "id": "JnQ3INyvGuj4",
    "outputId": "3bee9686-3151-4969-dc41-6a3f84f216c5"
   },
   "outputs": [
    {
     "data": {
      "text/plain": [
       "36.787944117144235"
      ]
     },
     "execution_count": 28,
     "metadata": {},
     "output_type": "execute_result"
    }
   ],
   "source": [
    "100/math.e"
   ]
  },
  {
   "cell_type": "code",
   "execution_count": null,
   "metadata": {
    "id": "bFYX-_R2HDiz"
   },
   "outputs": [],
   "source": [
    "## TODO Do simulation to empirically show that n/e is optimal\n",
    "## TODO show mathematical proof of n/e"
   ]
  },
  {
   "cell_type": "code",
   "execution_count": null,
   "metadata": {
    "id": "yx26EBuVLiut"
   },
   "outputs": [],
   "source": [
    "## TODO write simulation to prove how n/e approach works\n",
    "# def hire(candidates, threshold):\n"
   ]
  },
  {
   "cell_type": "code",
   "execution_count": null,
   "metadata": {},
   "outputs": [],
   "source": [
    "# now let's write a function that consides the index as well as number of candidates\n",
    "# so we will utilize the n/e rule\n",
    "def is_hirable_n_e(candidate, index, num_candidates, best_score, hire_cost, fire_cost, total_cost, max_budget):\n",
    "    return candidate > best_score and index < num_candidates / math.e\n",
    "\n",
    "# unfortunately this will not work because we will not be saving the best scores in the n/e section"
   ]
  },
  {
   "cell_type": "code",
   "execution_count": 43,
   "metadata": {},
   "outputs": [
    {
     "data": {
      "text/plain": [
       "0.37255"
      ]
     },
     "execution_count": 43,
     "metadata": {},
     "output_type": "execute_result"
    }
   ],
   "source": [
    "# so let's implement the n/e rule from scratch we will take a list of candidates and return the best candidate using n/e rule\n",
    "def hire(candidates):\n",
    "    n = len(candidates)\n",
    "    best_candidate = None\n",
    "    best_score = 0\n",
    "    for index, candidate in enumerate(candidates):\n",
    "        # the learning section\n",
    "        if candidate > best_score: \n",
    "            best_candidate = candidate\n",
    "            best_score = candidate\n",
    "            # the n/e section when we already have the best candidate assuming our limitations\n",
    "            if index > n / math.e:\n",
    "                return best_candidate\n",
    "    # the final return \n",
    "    # we have to hire the last one.... \n",
    "    return candidate\n",
    "\n",
    "# to test it we will use 100_000 simulations\n",
    "# we will take 100 candidates in random order and see how many times we get the best candidate\n",
    "num_simulations = 100_000\n",
    "n = 100\n",
    "random.seed(2024)\n",
    "candidates = [random.random() for _ in range(n)]\n",
    "num_successes = 0\n",
    "best_candidates = []\n",
    "for _ in range(num_simulations):\n",
    "    candidate_pool = random.sample(candidates, n)\n",
    "    best_candidate = hire(candidate_pool)\n",
    "    best_candidates.append(best_candidate)\n",
    "    if best_candidate == max(candidate_pool):\n",
    "        num_successes += 1\n",
    "\n",
    "num_successes / num_simulations\n"
   ]
  },
  {
   "cell_type": "code",
   "execution_count": 44,
   "metadata": {},
   "outputs": [
    {
     "data": {
      "text/plain": [
       "Counter({0.9996631210081544: 37255,\n",
       "         0.9991651305016425: 13977,\n",
       "         0.9950862635989794: 6422,\n",
       "         0.9720147432007249: 3240,\n",
       "         0.9632496477523979: 1806,\n",
       "         0.9603460101050769: 1218,\n",
       "         0.9400515460113262: 798,\n",
       "         0.8872982690000151: 609,\n",
       "         0.8719067324140709: 485,\n",
       "         0.8678005517048772: 454,\n",
       "         0.8611846650541565: 425,\n",
       "         0.35461123846566256: 423,\n",
       "         0.3872716696831847: 418,\n",
       "         0.41191045179367913: 416,\n",
       "         0.3037513583913575: 408,\n",
       "         0.7040597821044818: 407,\n",
       "         0.4210491971201178: 407,\n",
       "         0.24516664919367304: 406,\n",
       "         0.8043813534465206: 405,\n",
       "         0.803009147079591: 405,\n",
       "         0.865412341496933: 405,\n",
       "         0.20093578728086292: 403,\n",
       "         0.36571052771884516: 402,\n",
       "         0.7038401233828459: 402,\n",
       "         0.5152680043143939: 402,\n",
       "         0.12418351862815613: 399,\n",
       "         0.686573222767188: 399,\n",
       "         0.46116458327848064: 398,\n",
       "         0.7435035864931782: 397,\n",
       "         0.4360170562853458: 395,\n",
       "         0.20309238410576547: 394,\n",
       "         0.3095292116987097: 393,\n",
       "         0.019420809828158525: 393,\n",
       "         0.22323688358029925: 393,\n",
       "         0.3318134242633193: 392,\n",
       "         0.727759134886051: 389,\n",
       "         0.41657065947265437: 389,\n",
       "         0.21261107077793095: 389,\n",
       "         0.23060234066903773: 386,\n",
       "         0.21405707228960558: 384,\n",
       "         0.5193507229884871: 384,\n",
       "         0.20691064433024053: 384,\n",
       "         0.49334177818512226: 384,\n",
       "         0.058485036870010276: 382,\n",
       "         0.3192238641709455: 382,\n",
       "         0.14837140240973423: 382,\n",
       "         0.26362584890459495: 381,\n",
       "         0.25002729540552293: 379,\n",
       "         0.22910304519899982: 378,\n",
       "         0.47009071843107064: 378,\n",
       "         0.30250139741916326: 378,\n",
       "         0.20638183272795785: 377,\n",
       "         0.3885989574798798: 376,\n",
       "         0.799777932804895: 375,\n",
       "         0.040487049146807785: 374,\n",
       "         0.8125816265884215: 373,\n",
       "         0.41008858946872573: 372,\n",
       "         0.19544046211478883: 371,\n",
       "         0.49830138202139995: 371,\n",
       "         0.4268068702100508: 371,\n",
       "         0.3494449155678685: 369,\n",
       "         0.6955897269235669: 369,\n",
       "         0.4158721009442904: 368,\n",
       "         0.8439586945298337: 368,\n",
       "         0.1506588789681942: 368,\n",
       "         0.46496101365413656: 367,\n",
       "         0.35028548708964014: 367,\n",
       "         0.70254540362515: 366,\n",
       "         0.8513413641805115: 364,\n",
       "         0.7628111714654963: 363,\n",
       "         0.33725971978531155: 363,\n",
       "         0.7090348812304769: 362,\n",
       "         0.7166143935816427: 362,\n",
       "         0.7282642914232076: 361,\n",
       "         0.8435571728180189: 360,\n",
       "         0.7525906989551181: 360,\n",
       "         0.39030603565891253: 360,\n",
       "         0.5788586355814347: 358,\n",
       "         0.22521968753574773: 358,\n",
       "         0.23928492289067993: 357,\n",
       "         0.20114757363112812: 357,\n",
       "         0.6616042981394453: 357,\n",
       "         0.1357671138982448: 354,\n",
       "         0.0708477147025941: 352,\n",
       "         0.8365136133737727: 352,\n",
       "         0.26522113780066725: 351,\n",
       "         0.34529640371843084: 350,\n",
       "         0.4685332173457043: 350,\n",
       "         0.1413971279705527: 349,\n",
       "         0.7313600836275068: 348,\n",
       "         0.6066989733306288: 346,\n",
       "         0.3164541391111041: 345,\n",
       "         0.004316865651828761: 343,\n",
       "         0.08143883344267888: 340,\n",
       "         0.5236985525454059: 339,\n",
       "         0.21868637868026708: 337,\n",
       "         0.10061154138460227: 334,\n",
       "         0.09799076572902754: 330,\n",
       "         0.11203470327799925: 330,\n",
       "         0.1698154262011824: 326})"
      ]
     },
     "execution_count": 44,
     "metadata": {},
     "output_type": "execute_result"
    }
   ],
   "source": [
    "# let's count the best candidates\n",
    "from collections import Counter\n",
    "counts = Counter(best_candidates)\n",
    "counts"
   ]
  },
  {
   "cell_type": "code",
   "execution_count": 45,
   "metadata": {},
   "outputs": [
    {
     "data": {
      "text/plain": [
       "100"
      ]
     },
     "execution_count": 45,
     "metadata": {},
     "output_type": "execute_result"
    }
   ],
   "source": [
    "# how many keys in counts are there\n",
    "len(counts)"
   ]
  },
  {
   "cell_type": "code",
   "execution_count": 46,
   "metadata": {},
   "outputs": [
    {
     "data": {
      "image/png": "[encoded data removed]",
      "text/plain": [
       "<Figure size 640x480 with 1 Axes>"
      ]
     },
     "metadata": {},
     "output_type": "display_data"
    }
   ],
   "source": [
    "# let's plot a histogram of the best candidates\n",
    "import matplotlib.pyplot as plt\n",
    "plt.hist(best_candidates, bins=100)\n",
    "plt.show()"
   ]
  },
  {
   "cell_type": "markdown",
   "metadata": {
    "id": "B6Ed-waD3sDR"
   },
   "source": [
    "## Side Story - Calculating Pi via Monte Carlo method\n",
    "\n",
    "To calculate the value of pi using the Monte Carlo method, we can use a probabilistic approach that involves simulating a large number of random points in a square and calculating the proportion of those points that lie inside a quarter-circle inscribed in the square. The value of pi can then be estimated based on the ratio of the area of the quarter-circle to the area of the square.\n",
    "\n",
    "Here are the steps to calculate the value of pi using Monte Carlo method:\n",
    "\n",
    "* Generate a large number of random points within a square with sides of length 2 centered at the origin.\n",
    "* Count the number of points that lie inside the quarter-circle of radius 1 centered at the origin.\n",
    "* Estimate the area of the quarter-circle as the proportion of points inside the quarter-circle to the total number of points generated.\n",
    "* Estimate the value of pi as four times the estimated area of the quarter-circle."
   ]
  },
  {
   "cell_type": "markdown",
   "metadata": {
    "id": "5n3-YXiv3sDR"
   },
   "source": [
    "![Circle](https://upload.wikimedia.org/wikipedia/commons/thumb/8/84/Pi_30K.gif/440px-Pi_30K.gif)"
   ]
  },
  {
   "cell_type": "code",
   "execution_count": 47,
   "metadata": {
    "id": "f30vnenF3sDS"
   },
   "outputs": [],
   "source": [
    "# import random\n",
    "\n",
    "def estimate_pi(num_points):\n",
    "    num_points_in_circle = 0\n",
    "    for _ in range(num_points):\n",
    "        x = random.uniform(-1, 1)\n",
    "        y = random.uniform(-1, 1)\n",
    "        if x**2 + y**2 <= 1:\n",
    "            num_points_in_circle += 1\n",
    "    pi_estimate = 4 * num_points_in_circle / num_points\n",
    "    return pi_estimate\n",
    "\n",
    "# This code takes in the number of points to generate,\n",
    "#  generates random points within a square of length 2 centered at the origin, \n",
    "# counts the number of points that lie inside the quarter-circle of radius 1 centered at the origin, \n",
    "# estimates the area of the quarter-circle as the proportion of points \n",
    "# inside the quarter-circle to the total number of points generated, \n",
    "# and estimates the value of pi as four times the estimated area of the quarter-circle.\n",
    "#  The more points generated, the more accurate theb estimate of pi will be."
   ]
  },
  {
   "cell_type": "code",
   "execution_count": 48,
   "metadata": {
    "colab": {
     "base_uri": "https://localhost:8080/"
    },
    "id": "vln10sxE3sDS",
    "outputId": "68e6b717-c0b0-4f71-957f-eaae1eddec00"
   },
   "outputs": [
    {
     "name": "stdout",
     "output_type": "stream",
     "text": [
      "Average PI from 10 pins is 4.0\n",
      "Average PI from 100 pins is 3.2\n",
      "Average PI from 1000 pins is 3.18\n",
      "Average PI from 10000 pins is 3.146\n",
      "Average PI from 100000 pins is 3.14104\n",
      "Average PI from 1000000 pins is 3.141048\n",
      "Average PI from 10000000 pins is 3.1421436\n"
     ]
    }
   ],
   "source": [
    "throws = 1\n",
    "for _ in range(7):\n",
    "    throws *= 10\n",
    "    # print(f\"Throwing  dice{throws} times\")\n",
    "    print(f\"Average PI from {throws} pins is {estimate_pi(throws)}\")\n"
   ]
  },
  {
   "cell_type": "markdown",
   "metadata": {
    "id": "B6NdYbax3sDT"
   },
   "source": [
    "## Side story: The Monty Hall Problem\n",
    "\n",
    "![Goat](https://upload.wikimedia.org/wikipedia/commons/thumb/3/3f/Monty_open_door.svg/440px-Monty_open_door.svg.png)\n",
    "\n",
    "## TODO time allowing or next time\n",
    "\n",
    "The Monty Hall problem is a famous probability puzzle that is named after the host of the game show \"Let's Make a Deal,\" Monty Hall. The problem is based on a hypothetical game show where a contestant is presented with three doors. Behind one of the doors is a valuable prize, while the other two doors hide goats.\n",
    "\n",
    "The contestant chooses one of the three doors, but before the chosen door is opened, the host (Monty Hall) opens one of the other two doors to reveal a goat. The contestant is then given the option to stick with their original choice or switch to the other unopened door.\n",
    "\n",
    "The question is whether the contestant should stick with their original choice or switch to the other door in order to increase their chances of winning the prize. The answer may seem counterintuitive, but switching actually increases the contestant's chances of winning the prize from 1/3 to 2/3. This is because when the contestant first made their choice, they had a 1/3 chance of being correct. When the host opened one of the other doors to reveal a goat, the remaining unopened door had a 2/3 chance of hiding the prize."
   ]
  },
  {
   "cell_type": "markdown",
   "metadata": {
    "id": "LLYzx53_3sDT"
   },
   "source": [
    "### Correct strategy for Monty Hall problem\n",
    "\n",
    "The correct strategy for the Monty Hall problem is to always switch to the other unopened door. This is because the contestant's initial choice has a 1/3 chance of being correct, and the host's choice of door to open has a 2/3 chance of being incorrect. Therefore, the contestant's chances of winning the prize are 1/3 * 2/3 = 2/3 when they switch doors.\n",
    "\n",
    "Famously in 1990, the question was discussed in Parade magazine in 1990 when the problem was solved by mathematician Marilyn vos Savant.\n",
    "\n",
    "Wiki: https://en.wikipedia.org/wiki/Monty_Hall_problem"
   ]
  },
  {
   "cell_type": "code",
   "execution_count": 49,
   "metadata": {
    "colab": {
     "base_uri": "https://localhost:8080/"
    },
    "id": "HWMGWUsI3sDT",
    "outputId": "5b0fc7e4-d782-4cd4-8fbb-71c91f061829"
   },
   "outputs": [
    {
     "name": "stdout",
     "output_type": "stream",
     "text": [
      "Probability of winning with switch: 0.6663\n",
      "Probability of winning without switch: 0.3337\n"
     ]
    }
   ],
   "source": [
    "\n",
    "def monty_hall_simulation(switch):\n",
    "    doors = [\"goat\", \"goat\", \"car\"]\n",
    "    random.shuffle(doors)\n",
    "    chosen_door = random.choice(doors)\n",
    "    if chosen_door == \"car\":\n",
    "        if switch: # so we chose the switch strategy and were unlucky to have chosen the car already - so we get goat\n",
    "            return 0\n",
    "        else: # no switch strategy - stay put\n",
    "            return 1\n",
    "    else: # when we have chosen a goat \n",
    "        if switch: # we apply switch strategy\n",
    "            return 1  # we win the car\n",
    "        else:  # stay put strategy fails here - we end up with the goat\n",
    "            return 0\n",
    "\n",
    "num_simulations = 1_000_000\n",
    "switch = True\n",
    "wins = 0\n",
    "\n",
    "for i in range(num_simulations):\n",
    "    wins += monty_hall_simulation(switch)\n",
    "\n",
    "print(f\"Probability of winning with switch: {wins / num_simulations:.4f}\")\n",
    "print(f\"Probability of winning without switch: {(num_simulations - wins) / num_simulations:.4f}\")"
   ]
  },
  {
   "cell_type": "code",
   "execution_count": 52,
   "metadata": {
    "colab": {
     "base_uri": "https://localhost:8080/"
    },
    "id": "pegtSeHXKCWC",
    "outputId": "3838511a-1bad-4d30-c5c3-a759ce4aa424"
   },
   "outputs": [
    {
     "name": "stdout",
     "output_type": "stream",
     "text": [
      "Probability of winning without switch: 0.3328\n",
      "Probability of winning WITH switch: 0.6672\n"
     ]
    }
   ],
   "source": [
    "num_simulations = 1_000_000\n",
    "switch = False\n",
    "wins = 0\n",
    "\n",
    "for i in range(num_simulations):\n",
    "    wins += monty_hall_simulation(switch)\n",
    "\n",
    "print(f\"Probability of winning without switch: {wins / num_simulations:.4f}\")\n",
    "print(f\"Probability of winning WITH switch: {(num_simulations - wins) / num_simulations:.4f}\")"
   ]
  },
  {
   "cell_type": "markdown",
   "metadata": {
    "id": "Z4qFiofZKhkm"
   },
   "source": [
    "## Using random simulation to obtain answers\n",
    "\n",
    "So if you have trouble coming up with an answer to some algorith, you can use simulation to come up with a good aproximation.\n",
    "\n",
    "Key idea is to have some knowledge of distribution of inputs."
   ]
  },
  {
   "cell_type": "markdown",
   "metadata": {
    "id": "WoO6iHbSKwiW"
   },
   "source": [
    "## Jupyter %%timeit also works on this principle"
   ]
  },
  {
   "cell_type": "code",
   "execution_count": 56,
   "metadata": {
    "colab": {
     "base_uri": "https://localhost:8080/"
    },
    "id": "VqGDoKUVKz1L",
    "outputId": "f94f781e-52bf-4f3d-804b-6c4ca667bec0"
   },
   "outputs": [
    {
     "name": "stdout",
     "output_type": "stream",
     "text": [
      "62.2 ms ± 5.69 ms per loop (mean ± std. dev. of 7 runs, 10 loops each)\n"
     ]
    }
   ],
   "source": [
    "%%timeit\n",
    "sorted(list(range(1_000_000)))"
   ]
  },
  {
   "cell_type": "markdown",
   "metadata": {
    "id": "S1WODuZ23sDT"
   },
   "source": [
    "## Optimal Stopping Problem\n",
    "\n",
    "The Hire Assistant problem is a classic example of an online decision problem in which we need to make a sequence of decisions without having full information about future events. The goal is to hire the best candidate while minimizing the total cost of hiring and firing assistants.\n",
    "\n",
    "The optimal approach to solving the Hire Assistant problem is to use an algorithm called the \"optimal stopping rule.\" This rule states that we should interview and evaluate the first k candidates, where k is a fixed number, and then hire the first candidate that is better than all the previous candidates. The value of k is determined by the expected number of candidates that we need to interview before finding the best candidate.\n",
    "\n",
    "The expected number of candidates to be interviewed can be calculated as follows:\n",
    "\n",
    "* Let n be the total number of candidates provided by the employment agency.\n",
    "* Let p be the probability that a candidate is better than all the previous candidates.\n",
    "* The expected number of candidates to be interviewed is given by n/p.\n",
    "* Therefore, the optimal approach is to interview and evaluate the first k = n/e candidates, where e is the mathematical constant equal to approximately 2.71828. After evaluating the first k candidates, we hire the first candidate that is better than all the previous candidates.\n",
    "\n",
    "This approach guarantees that we will hire the best candidate with a probability of approximately 1/e, and it minimizes the expected cost of hiring and firing assistants.\n",
    "\n",
    "Note: he optimal stopping rule is based on mathematical analysis of the problem, and is derived using techniques such as probability theory and calculus. The rule is not guaranteed to always produce the best result, but in the long run, it is the most effective strategy for hiring the best candidate while minimizing the total cost."
   ]
  },
  {
   "cell_type": "code",
   "execution_count": null,
   "metadata": {
    "id": "9rd20n-C3sDU"
   },
   "outputs": [],
   "source": []
  }
 ],
 "metadata": {
  "colab": {
   "provenance": []
  },
  "kernelspec": {
   "display_name": "venv",
   "language": "python",
   "name": "python3"
  },
  "language_info": {
   "codemirror_mode": {
    "name": "ipython",
    "version": 3
   },
   "file_extension": ".py",
   "mimetype": "text/x-python",
   "name": "python",
   "nbconvert_exporter": "python",
   "pygments_lexer": "ipython3",
   "version": "3.12.1"
  },
  "orig_nbformat": 4
 },
 "nbformat": 4,
 "nbformat_minor": 0
}
