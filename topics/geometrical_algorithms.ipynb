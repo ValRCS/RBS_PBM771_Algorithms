{
 "cells": [
  {
   "cell_type": "code",
   "execution_count": null,
   "metadata": {},
   "outputs": [],
   "source": []
  },
  {
   "attachments": {},
   "cell_type": "markdown",
   "metadata": {},
   "source": [
    "# Geometrical Algorithms\n",
    "\n",
    "Geometrical algorithms in computer science are a subfield of algorithm design and analysis that focuses on problems related to geometry and spatial relationships. These algorithms have a wide range of applications, from computer graphics and robotics to geographic information systems and computational geometry. Some fundamental geometrical algorithms include:\n",
    "\n",
    "* Convex Hull: Given a set of points in the plane, the convex hull is the smallest convex polygon that contains all the points. The Graham Scan and Jarvis's March (Gift Wrapping) are popular algorithms for computing the convex hull.\n",
    "\n",
    "* Line Intersection: This involves determining whether two line segments intersect or not. The Bentley-Ottmann algorithm and the Sweep Line algorithm are used for detecting all intersections in a set of line segments efficiently.\n",
    "\n",
    "* Point-in-Polygon: Given a polygon and a point, this algorithm determines if the point lies inside, outside, or on the boundary of the polygon. The Ray Casting and Winding Number algorithms are commonly used for solving this problem.\n",
    "\n",
    "* Closest Pair of Points: Given a set of points in the plane, the closest pair problem involves finding the two points with the minimum Euclidean distance between them. The divide-and-conquer algorithm is an efficient approach to solve this problem.\n",
    "\n",
    "* Voronoi Diagram: A Voronoi diagram partitions a plane containing a set of points into regions, where each region corresponds to a specific point and contains all locations closer to that point than any other. Fortune's algorithm is a popular sweep line technique for constructing Voronoi diagrams.\n",
    "\n",
    "* Delaunay Triangulation: A Delaunay triangulation is a triangulation of a set of points in the plane, such that no point is inside the circumcircle of any triangle. The Bowyer-Watson algorithm and the Incremental algorithm are widely used for computing Delaunay triangulations.\n",
    "\n",
    "* Minimum Spanning Tree: Given a set of points and their pairwise distances, the minimum spanning tree (MST) connects all points with the minimum possible total edge length. Kruskal's and Prim's algorithms are common approaches for finding the MST.\n",
    "\n",
    "* Spatial Data Structures: There are several data structures for efficiently handling geometric data, such as Quad Trees, K-D Trees, R-Trees, and BSP Trees. These structures facilitate faster searches, insertions, and deletions in spatial databases.\n",
    "\n",
    "These are just a few examples of the many geometrical algorithms used in computer science. They play a crucial role in solving spatial and geometric problems efficiently and have a significant impact on various applications in the field."
   ]
  },
  {
   "attachments": {},
   "cell_type": "markdown",
   "metadata": {},
   "source": [
    "## Closest Pair of Points\n",
    "\n",
    "The Closest Pair of Points problem is a classic problem in computational geometry. Given a set of points in a Euclidean plane, the objective is to find the pair of distinct points with the smallest distance between them. The distance between two points is usually calculated using the Euclidean distance formula, but other distance metrics can be used as well, depending on the problem context.\n",
    "\n",
    "There are multiple approaches to solve the Closest Pair of Points problem, with varying time and space complexities. Some of the most common methods include:\n",
    "\n",
    "* Brute Force: The simplest approach is to compare every pair of points and calculate their distances, then select the pair with the smallest distance. The time complexity of this method is O(n^2), where n is the number of points, making it inefficient for large input sets.\n",
    "\n",
    "* Divide and Conquer: A more efficient algorithm is based on the divide and conquer paradigm, which has a time complexity of O(n log n). The idea is to divide the input points into two equal halves based on their x-coordinates and recursively solve the problem for each half. Then, the closest pair of points is determined by combining the results of the two halves, considering the pairs of points that are close to the dividing line.\n",
    "\n",
    "* Plane Sweep Algorithm: Another approach is the plane sweep algorithm, which has a time complexity of O(n log n). This method maintains a set of candidate points ordered by their y-coordinates and uses a \"sweep line\" moving along the x-axis to check for the closest pair of points. As the sweep line moves, points are added and removed from the candidate set, keeping the search space minimal.\n",
    "\n",
    "* Delaunay Triangulation-based Algorithm: This approach leverages the properties of Delaunay triangulation, a triangulation of the input points where no point is inside the circumcircle of any triangle. In Delaunay triangulation, the closest pair of points is always an edge in the triangulation. Therefore, computing the Delaunay triangulation of the input points and then finding the edge with the smallest length will yield the closest pair of points.\n",
    "\n",
    "The choice of algorithm for solving the Closest Pair of Points problem depends on the specific problem constraints, such as the size of the input, the dimensionality of the space, and the desired time and space complexities."
   ]
  },
  {
   "attachments": {},
   "cell_type": "markdown",
   "metadata": {},
   "source": [
    "### Closest Pair of Points using Divide and Conquer\n",
    "\n",
    "The divide and conquer approach is an efficient technique for solving the closest pair of points problem. The main idea is to split the given set of points into two equal-sized parts, recursively find the closest pairs in each part, and then merge the results to find the closest pair in the entire set. Here's a high-level overview of the algorithm:\n",
    "\n",
    "* Preprocessing: Sort the set of points P based on their x-coordinates and create a copy of the points sorted by their y-coordinates.\n",
    "\n",
    "* Divide: Split the points into two equal-sized subsets, say Pl and Pr, by taking the median point based on their x-coordinates. This division creates a vertical line L that separates the two subsets.\n",
    "\n",
    "* Conquer: Recursively find the closest pair of points in Pl and Pr. Let dl and dr be the minimum distances found in each subset, respectively. Set d = min(dl, dr).\n",
    "\n",
    "* Merge: Find the points in a strip of width 2d centered around the line L. Sort these points based on their y-coordinates. The strip contains points that may be closer to each other than the closest pairs found in the subsets.\n",
    "\n",
    "* Examine the strip: For each point in the strip, compare it to the next 7 points (or fewer if there are less than 7 points remaining) in the y-sorted order. If any pair has a distance smaller than d, update the value of d and the closest pair.\n",
    "\n",
    "* Return the closest pair of points and their distance d.\n",
    "\n",
    "The time complexity of this algorithm is O(n log n), where n is the number of points. This is because the divide step takes O(n) time to split and merge the points, and there are log n levels of recursion due to the binary splitting. The sorting in the preprocessing step also takes O(n log n) time, but since it is performed only once, it does not affect the overall complexity.\n",
    "\n",
    "In summary, the divide and conquer approach efficiently solves the closest pair of points problem by recursively dividing the problem into smaller subproblems and then combining the solutions. The key insight is that the closest pair can either be within the same subset or in the strip between the subsets, which can be checked efficiently in linear time."
   ]
  },
  {
   "cell_type": "code",
   "execution_count": 3,
   "metadata": {},
   "outputs": [
    {
     "data": {
      "application/vnd.plotly.v1+json": {
       "config": {
        "plotlyServerURL": "https://plot.ly"
       },
       "data": [
        {
         "mode": "markers",
         "name": "Points",
         "type": "scatter",
         "x": [
          38,
          40,
          49,
          57,
          73,
          81,
          83,
          89,
          91,
          100
         ],
         "y": [
          22,
          78,
          89,
          49,
          43,
          12,
          38,
          68,
          67,
          15
         ]
        },
        {
         "mode": "lines+markers",
         "name": "Closest Pair",
         "type": "scatter",
         "x": [
          89,
          91
         ],
         "y": [
          68,
          67
         ]
        }
       ],
       "layout": {
        "template": {
         "data": {
          "bar": [
           {
            "error_x": {
             "color": "#2a3f5f"
            },
            "error_y": {
             "color": "#2a3f5f"
            },
            "marker": {
             "line": {
              "color": "#E5ECF6",
              "width": 0.5
             },
             "pattern": {
              "fillmode": "overlay",
              "size": 10,
              "solidity": 0.2
             }
            },
            "type": "bar"
           }
          ],
          "barpolar": [
           {
            "marker": {
             "line": {
              "color": "#E5ECF6",
              "width": 0.5
             },
             "pattern": {
              "fillmode": "overlay",
              "size": 10,
              "solidity": 0.2
             }
            },
            "type": "barpolar"
           }
          ],
          "carpet": [
           {
            "aaxis": {
             "endlinecolor": "#2a3f5f",
             "gridcolor": "white",
             "linecolor": "white",
             "minorgridcolor": "white",
             "startlinecolor": "#2a3f5f"
            },
            "baxis": {
             "endlinecolor": "#2a3f5f",
             "gridcolor": "white",
             "linecolor": "white",
             "minorgridcolor": "white",
             "startlinecolor": "#2a3f5f"
            },
            "type": "carpet"
           }
          ],
          "choropleth": [
           {
            "colorbar": {
             "outlinewidth": 0,
             "ticks": ""
            },
            "type": "choropleth"
           }
          ],
          "contour": [
           {
            "colorbar": {
             "outlinewidth": 0,
             "ticks": ""
            },
            "colorscale": [
             [
              0,
              "#0d0887"
             ],
             [
              0.1111111111111111,
              "#46039f"
             ],
             [
              0.2222222222222222,
              "#7201a8"
             ],
             [
              0.3333333333333333,
              "#9c179e"
             ],
             [
              0.4444444444444444,
              "#bd3786"
             ],
             [
              0.5555555555555556,
              "#d8576b"
             ],
             [
              0.6666666666666666,
              "#ed7953"
             ],
             [
              0.7777777777777778,
              "#fb9f3a"
             ],
             [
              0.8888888888888888,
              "#fdca26"
             ],
             [
              1,
              "#f0f921"
             ]
            ],
            "type": "contour"
           }
          ],
          "contourcarpet": [
           {
            "colorbar": {
             "outlinewidth": 0,
             "ticks": ""
            },
            "type": "contourcarpet"
           }
          ],
          "heatmap": [
           {
            "colorbar": {
             "outlinewidth": 0,
             "ticks": ""
            },
            "colorscale": [
             [
              0,
              "#0d0887"
             ],
             [
              0.1111111111111111,
              "#46039f"
             ],
             [
              0.2222222222222222,
              "#7201a8"
             ],
             [
              0.3333333333333333,
              "#9c179e"
             ],
             [
              0.4444444444444444,
              "#bd3786"
             ],
             [
              0.5555555555555556,
              "#d8576b"
             ],
             [
              0.6666666666666666,
              "#ed7953"
             ],
             [
              0.7777777777777778,
              "#fb9f3a"
             ],
             [
              0.8888888888888888,
              "#fdca26"
             ],
             [
              1,
              "#f0f921"
             ]
            ],
            "type": "heatmap"
           }
          ],
          "heatmapgl": [
           {
            "colorbar": {
             "outlinewidth": 0,
             "ticks": ""
            },
            "colorscale": [
             [
              0,
              "#0d0887"
             ],
             [
              0.1111111111111111,
              "#46039f"
             ],
             [
              0.2222222222222222,
              "#7201a8"
             ],
             [
              0.3333333333333333,
              "#9c179e"
             ],
             [
              0.4444444444444444,
              "#bd3786"
             ],
             [
              0.5555555555555556,
              "#d8576b"
             ],
             [
              0.6666666666666666,
              "#ed7953"
             ],
             [
              0.7777777777777778,
              "#fb9f3a"
             ],
             [
              0.8888888888888888,
              "#fdca26"
             ],
             [
              1,
              "#f0f921"
             ]
            ],
            "type": "heatmapgl"
           }
          ],
          "histogram": [
           {
            "marker": {
             "pattern": {
              "fillmode": "overlay",
              "size": 10,
              "solidity": 0.2
             }
            },
            "type": "histogram"
           }
          ],
          "histogram2d": [
           {
            "colorbar": {
             "outlinewidth": 0,
             "ticks": ""
            },
            "colorscale": [
             [
              0,
              "#0d0887"
             ],
             [
              0.1111111111111111,
              "#46039f"
             ],
             [
              0.2222222222222222,
              "#7201a8"
             ],
             [
              0.3333333333333333,
              "#9c179e"
             ],
             [
              0.4444444444444444,
              "#bd3786"
             ],
             [
              0.5555555555555556,
              "#d8576b"
             ],
             [
              0.6666666666666666,
              "#ed7953"
             ],
             [
              0.7777777777777778,
              "#fb9f3a"
             ],
             [
              0.8888888888888888,
              "#fdca26"
             ],
             [
              1,
              "#f0f921"
             ]
            ],
            "type": "histogram2d"
           }
          ],
          "histogram2dcontour": [
           {
            "colorbar": {
             "outlinewidth": 0,
             "ticks": ""
            },
            "colorscale": [
             [
              0,
              "#0d0887"
             ],
             [
              0.1111111111111111,
              "#46039f"
             ],
             [
              0.2222222222222222,
              "#7201a8"
             ],
             [
              0.3333333333333333,
              "#9c179e"
             ],
             [
              0.4444444444444444,
              "#bd3786"
             ],
             [
              0.5555555555555556,
              "#d8576b"
             ],
             [
              0.6666666666666666,
              "#ed7953"
             ],
             [
              0.7777777777777778,
              "#fb9f3a"
             ],
             [
              0.8888888888888888,
              "#fdca26"
             ],
             [
              1,
              "#f0f921"
             ]
            ],
            "type": "histogram2dcontour"
           }
          ],
          "mesh3d": [
           {
            "colorbar": {
             "outlinewidth": 0,
             "ticks": ""
            },
            "type": "mesh3d"
           }
          ],
          "parcoords": [
           {
            "line": {
             "colorbar": {
              "outlinewidth": 0,
              "ticks": ""
             }
            },
            "type": "parcoords"
           }
          ],
          "pie": [
           {
            "automargin": true,
            "type": "pie"
           }
          ],
          "scatter": [
           {
            "fillpattern": {
             "fillmode": "overlay",
             "size": 10,
             "solidity": 0.2
            },
            "type": "scatter"
           }
          ],
          "scatter3d": [
           {
            "line": {
             "colorbar": {
              "outlinewidth": 0,
              "ticks": ""
             }
            },
            "marker": {
             "colorbar": {
              "outlinewidth": 0,
              "ticks": ""
             }
            },
            "type": "scatter3d"
           }
          ],
          "scattercarpet": [
           {
            "marker": {
             "colorbar": {
              "outlinewidth": 0,
              "ticks": ""
             }
            },
            "type": "scattercarpet"
           }
          ],
          "scattergeo": [
           {
            "marker": {
             "colorbar": {
              "outlinewidth": 0,
              "ticks": ""
             }
            },
            "type": "scattergeo"
           }
          ],
          "scattergl": [
           {
            "marker": {
             "colorbar": {
              "outlinewidth": 0,
              "ticks": ""
             }
            },
            "type": "scattergl"
           }
          ],
          "scattermapbox": [
           {
            "marker": {
             "colorbar": {
              "outlinewidth": 0,
              "ticks": ""
             }
            },
            "type": "scattermapbox"
           }
          ],
          "scatterpolar": [
           {
            "marker": {
             "colorbar": {
              "outlinewidth": 0,
              "ticks": ""
             }
            },
            "type": "scatterpolar"
           }
          ],
          "scatterpolargl": [
           {
            "marker": {
             "colorbar": {
              "outlinewidth": 0,
              "ticks": ""
             }
            },
            "type": "scatterpolargl"
           }
          ],
          "scatterternary": [
           {
            "marker": {
             "colorbar": {
              "outlinewidth": 0,
              "ticks": ""
             }
            },
            "type": "scatterternary"
           }
          ],
          "surface": [
           {
            "colorbar": {
             "outlinewidth": 0,
             "ticks": ""
            },
            "colorscale": [
             [
              0,
              "#0d0887"
             ],
             [
              0.1111111111111111,
              "#46039f"
             ],
             [
              0.2222222222222222,
              "#7201a8"
             ],
             [
              0.3333333333333333,
              "#9c179e"
             ],
             [
              0.4444444444444444,
              "#bd3786"
             ],
             [
              0.5555555555555556,
              "#d8576b"
             ],
             [
              0.6666666666666666,
              "#ed7953"
             ],
             [
              0.7777777777777778,
              "#fb9f3a"
             ],
             [
              0.8888888888888888,
              "#fdca26"
             ],
             [
              1,
              "#f0f921"
             ]
            ],
            "type": "surface"
           }
          ],
          "table": [
           {
            "cells": {
             "fill": {
              "color": "#EBF0F8"
             },
             "line": {
              "color": "white"
             }
            },
            "header": {
             "fill": {
              "color": "#C8D4E3"
             },
             "line": {
              "color": "white"
             }
            },
            "type": "table"
           }
          ]
         },
         "layout": {
          "annotationdefaults": {
           "arrowcolor": "#2a3f5f",
           "arrowhead": 0,
           "arrowwidth": 1
          },
          "autotypenumbers": "strict",
          "coloraxis": {
           "colorbar": {
            "outlinewidth": 0,
            "ticks": ""
           }
          },
          "colorscale": {
           "diverging": [
            [
             0,
             "#8e0152"
            ],
            [
             0.1,
             "#c51b7d"
            ],
            [
             0.2,
             "#de77ae"
            ],
            [
             0.3,
             "#f1b6da"
            ],
            [
             0.4,
             "#fde0ef"
            ],
            [
             0.5,
             "#f7f7f7"
            ],
            [
             0.6,
             "#e6f5d0"
            ],
            [
             0.7,
             "#b8e186"
            ],
            [
             0.8,
             "#7fbc41"
            ],
            [
             0.9,
             "#4d9221"
            ],
            [
             1,
             "#276419"
            ]
           ],
           "sequential": [
            [
             0,
             "#0d0887"
            ],
            [
             0.1111111111111111,
             "#46039f"
            ],
            [
             0.2222222222222222,
             "#7201a8"
            ],
            [
             0.3333333333333333,
             "#9c179e"
            ],
            [
             0.4444444444444444,
             "#bd3786"
            ],
            [
             0.5555555555555556,
             "#d8576b"
            ],
            [
             0.6666666666666666,
             "#ed7953"
            ],
            [
             0.7777777777777778,
             "#fb9f3a"
            ],
            [
             0.8888888888888888,
             "#fdca26"
            ],
            [
             1,
             "#f0f921"
            ]
           ],
           "sequentialminus": [
            [
             0,
             "#0d0887"
            ],
            [
             0.1111111111111111,
             "#46039f"
            ],
            [
             0.2222222222222222,
             "#7201a8"
            ],
            [
             0.3333333333333333,
             "#9c179e"
            ],
            [
             0.4444444444444444,
             "#bd3786"
            ],
            [
             0.5555555555555556,
             "#d8576b"
            ],
            [
             0.6666666666666666,
             "#ed7953"
            ],
            [
             0.7777777777777778,
             "#fb9f3a"
            ],
            [
             0.8888888888888888,
             "#fdca26"
            ],
            [
             1,
             "#f0f921"
            ]
           ]
          },
          "colorway": [
           "#636efa",
           "#EF553B",
           "#00cc96",
           "#ab63fa",
           "#FFA15A",
           "#19d3f3",
           "#FF6692",
           "#B6E880",
           "#FF97FF",
           "#FECB52"
          ],
          "font": {
           "color": "#2a3f5f"
          },
          "geo": {
           "bgcolor": "white",
           "lakecolor": "white",
           "landcolor": "#E5ECF6",
           "showlakes": true,
           "showland": true,
           "subunitcolor": "white"
          },
          "hoverlabel": {
           "align": "left"
          },
          "hovermode": "closest",
          "mapbox": {
           "style": "light"
          },
          "paper_bgcolor": "white",
          "plot_bgcolor": "#E5ECF6",
          "polar": {
           "angularaxis": {
            "gridcolor": "white",
            "linecolor": "white",
            "ticks": ""
           },
           "bgcolor": "#E5ECF6",
           "radialaxis": {
            "gridcolor": "white",
            "linecolor": "white",
            "ticks": ""
           }
          },
          "scene": {
           "xaxis": {
            "backgroundcolor": "#E5ECF6",
            "gridcolor": "white",
            "gridwidth": 2,
            "linecolor": "white",
            "showbackground": true,
            "ticks": "",
            "zerolinecolor": "white"
           },
           "yaxis": {
            "backgroundcolor": "#E5ECF6",
            "gridcolor": "white",
            "gridwidth": 2,
            "linecolor": "white",
            "showbackground": true,
            "ticks": "",
            "zerolinecolor": "white"
           },
           "zaxis": {
            "backgroundcolor": "#E5ECF6",
            "gridcolor": "white",
            "gridwidth": 2,
            "linecolor": "white",
            "showbackground": true,
            "ticks": "",
            "zerolinecolor": "white"
           }
          },
          "shapedefaults": {
           "line": {
            "color": "#2a3f5f"
           }
          },
          "ternary": {
           "aaxis": {
            "gridcolor": "white",
            "linecolor": "white",
            "ticks": ""
           },
           "baxis": {
            "gridcolor": "white",
            "linecolor": "white",
            "ticks": ""
           },
           "bgcolor": "#E5ECF6",
           "caxis": {
            "gridcolor": "white",
            "linecolor": "white",
            "ticks": ""
           }
          },
          "title": {
           "x": 0.05
          },
          "xaxis": {
           "automargin": true,
           "gridcolor": "white",
           "linecolor": "white",
           "ticks": "",
           "title": {
            "standoff": 15
           },
           "zerolinecolor": "white",
           "zerolinewidth": 2
          },
          "yaxis": {
           "automargin": true,
           "gridcolor": "white",
           "linecolor": "white",
           "ticks": "",
           "title": {
            "standoff": 15
           },
           "zerolinecolor": "white",
           "zerolinewidth": 2
          }
         }
        },
        "title": {
         "text": "Closest Pair of Points"
        },
        "xaxis": {
         "title": {
          "text": "X"
         }
        },
        "yaxis": {
         "title": {
          "text": "Y"
         }
        }
       }
      }
     },
     "metadata": {},
     "output_type": "display_data"
    }
   ],
   "source": [
    "import random\n",
    "random.seed(2023)\n",
    "import plotly.graph_objects as go\n",
    "\n",
    "# Helper functions for the divide and conquer algorithm\n",
    "def euclidean_distance(p1, p2):\n",
    "    return ((p1[0] - p2[0]) ** 2 + (p1[1] - p2[1]) ** 2) ** 0.5\n",
    "\n",
    "def closest_pair_bruteforce(points):\n",
    "    min_distance = float('inf')\n",
    "    closest_points = (points[0], points[1])\n",
    "    \n",
    "    for i in range(len(points)):\n",
    "        for j in range(i + 1, len(points)):\n",
    "            distance = euclidean_distance(points[i], points[j])\n",
    "            if distance < min_distance:\n",
    "                min_distance = distance\n",
    "                closest_points = (points[i], points[j])\n",
    "    \n",
    "    return min_distance, closest_points\n",
    "\n",
    "def closest_pair_strip(points, d, mid_point):\n",
    "    filtered_points = [p for p in points if abs(p[0] - mid_point[0]) < d]\n",
    "    filtered_points.sort(key=lambda p: p[1])\n",
    "\n",
    "    min_distance = d\n",
    "    closest_points = None\n",
    "\n",
    "    for i in range(len(filtered_points)):\n",
    "        for j in range(i + 1, len(filtered_points)):\n",
    "            if filtered_points[j][1] - filtered_points[i][1] >= min_distance:\n",
    "                break\n",
    "            distance = euclidean_distance(filtered_points[i], filtered_points[j])\n",
    "            if distance < min_distance:\n",
    "                min_distance = distance\n",
    "                closest_points = (filtered_points[i], filtered_points[j])\n",
    "\n",
    "    return min_distance, closest_points\n",
    "\n",
    "def closest_pair(points):\n",
    "    if len(points) <= 3:\n",
    "        return closest_pair_bruteforce(points)\n",
    "\n",
    "    mid = len(points) // 2\n",
    "    mid_point = points[mid]\n",
    "\n",
    "    dl, left_pair = closest_pair(points[:mid])\n",
    "    dr, right_pair = closest_pair(points[mid:])\n",
    "    d = min(dl, dr)\n",
    "    closest_points = left_pair if dl < dr else right_pair\n",
    "\n",
    "    ds, strip_pair = closest_pair_strip(points, d, mid_point)\n",
    "    if ds < d:\n",
    "        d = ds\n",
    "        closest_points = strip_pair\n",
    "\n",
    "    return d, closest_points\n",
    "\n",
    "# Generate 10 random points\n",
    "points = [(random.randint(0, 100), random.randint(0, 100)) for _ in range(10)]\n",
    "\n",
    "# Find the closest pair of points\n",
    "points.sort(key=lambda p: p[0]) # this could be moved to the closest_pair function\n",
    "min_distance, (p1, p2) = closest_pair(points)\n",
    "\n",
    "# Visualize the points and closest pair using Plotly\n",
    "fig = go.Figure()\n",
    "\n",
    "# Add the points as a scatter plot\n",
    "fig.add_trace(go.Scatter(x=[p[0] for p in points], y=[p[1] for p in points],\n",
    "                         mode='markers', name='Points'))\n",
    "\n",
    "# Add a line connecting the closest pair of points\n",
    "fig.add_trace(go.Scatter(x=[p1[0], p2[0]], y=[p1[1], p2[1]],\n",
    "                         mode='lines+markers', name='Closest Pair'))\n",
    "\n",
    "fig.update_layout(title='Closest Pair of Points', xaxis_title='X', yaxis_title='Y')\n",
    "fig.show()"
   ]
  },
  {
   "attachments": {},
   "cell_type": "markdown",
   "metadata": {},
   "source": [
    "## Line Intersection Algorithms\n",
    "\n",
    "\n",
    "\n",
    "We can answer each question in O(1)  time, which should come as no surprise\n",
    "since the input size of each question is O(1)/. Moreover, our methods use only ad-\n",
    "ditions, subtractions, multiplications, and comparisons. We need neither division\n",
    "nor trigonometric functions, both of which can be computationally expensive and\n",
    "prone to problems with round-off error. Forexample, the “straightforward” method\n",
    "of determining whether two segments intersect—compute the line equation of the\n",
    "form y D mx C b for each segment (m is the slope and b is the y-intercept),\n",
    "find the point of intersection of the lines, and check whether this point is on both\n",
    "segments—uses division to find the point of intersection. When the segments are\n",
    "nearly parallel, this method is very sensitive to the precision of the division opera-\n",
    "tion on real computers\n",
    "\n",
    "Src: From Cormen et al. (2009), Introduction to Algorithms, 3rd ed., MIT Press, Cambridge, MA, USA."
   ]
  }
 ],
 "metadata": {
  "kernelspec": {
   "display_name": "Python 3",
   "language": "python",
   "name": "python3"
  },
  "language_info": {
   "codemirror_mode": {
    "name": "ipython",
    "version": 3
   },
   "file_extension": ".py",
   "mimetype": "text/x-python",
   "name": "python",
   "nbconvert_exporter": "python",
   "pygments_lexer": "ipython3",
   "version": "3.10.7"
  },
  "orig_nbformat": 4
 },
 "nbformat": 4,
 "nbformat_minor": 2
}
