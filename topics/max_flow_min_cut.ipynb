{
  "cells": [
    {
      "cell_type": "markdown",
      "metadata": {
        "id": "iKxhQRg880X5"
      },
      "source": [
        "# Maximum Flow Minimum Cut\n",
        "\n",
        "The maximum flow minimum cut problem is a classic problem in network optimization that seeks to find the maximum flow that can be sent from a source node to a sink node in a network, while minimizing the cut capacity of the network.\n",
        "\n",
        "In a flow network, the nodes represent sources, destinations, and intermediate points, while the edges represent the capacity of the flow that can be passed through them. The problem is to find the maximum amount of flow that can be sent from the source node to the sink node while respecting the capacities of the edges.\n",
        "\n",
        "A cut in a network is a partition of the nodes into two disjoint sets such that the source node is in one set and the sink node is in the other. The capacity of a cut is defined as the sum of the capacities of the edges that cross the cut. The minimum cut is the cut with the smallest capacity among all possible cuts.\n",
        "\n",
        "The max-flow min-cut theorem states that the maximum flow in a network is equal to the minimum cut capacity. This means that to find the maximum flow, we only need to find the minimum cut, and vice versa.\n",
        "\n",
        "Various algorithms have been developed to solve the max-flow min-cut problem, including the Ford-Fulkerson algorithm, the Edmonds-Karp algorithm, and the Dinic's algorithm. These algorithms use different approaches to find the maximum flow, but they all rely on the idea that the maximum flow is equal to the minimum cut capacity."
      ]
    },
    {
      "cell_type": "markdown",
      "metadata": {
        "id": "n_2wIJ1680X9"
      },
      "source": [
        "## Real World Uses\n",
        "\n",
        "The max-flow min-cut problem has numerous real-life applications in various fields. Some examples are:\n",
        "\n",
        "* Transportation Networks: Max-flow min-cut problem can be used to optimize transportation networks such as highways, railways, and airways. It can help in finding the maximum amount of traffic that can be sent through a network while minimizing congestion at certain points.\n",
        "\n",
        "* Communication Networks: Max-flow min-cut problem can be used to optimize communication networks such as the internet, wireless networks, and telecommunication networks. It can help in finding the maximum amount of data that can be transmitted through a network while minimizing delays and congestion.\n",
        "\n",
        "* Water Supply Networks: Max-flow min-cut problem can be used to optimize water supply networks such as pipelines, irrigation systems, and drainage systems. It can help in finding the maximum amount of water that can be supplied to the consumers while minimizing losses due to leakage.\n",
        "\n",
        "* Power Grids: Max-flow min-cut problem can be used to optimize power grids by finding the maximum amount of power that can be transmitted through a network while minimizing losses due to resistance.\n",
        "\n",
        "*Image Segmentation: Max-flow min-cut problem can be used for image segmentation. It can help in separating the image into different segments based on certain features such as color, texture, and brightness.\n",
        "\n",
        "* Supply Chain Management: Max-flow min-cut problem can be used to optimize supply chain management. It can help in finding the maximum amount of products that can be transported from suppliers to consumers while minimizing the transportation cost.\n",
        "\n",
        "* Social Networks: Max-flow min-cut problem can be used to optimize social networks by finding the maximum number of connections that can be established between people while minimizing the total cost of establishing those connections."
      ]
    },
    {
      "cell_type": "markdown",
      "metadata": {
        "id": "Jje65W9q80X9"
      },
      "source": [
        "## Ford Fulkerson Algorithm\n",
        "\n",
        "The Ford-Fulkerson algorithm is an iterative algorithm used to solve the maximum flow problem in a network. The algorithm was proposed by L.R. Ford Jr. and D.R. Fulkerson in 1956.\n",
        "\n",
        "The basic idea of the algorithm is to repeatedly find an augmenting path in the residual graph and increase the flow along that path until no more augmenting paths exist. An augmenting path is a path from the source node to the sink node in the residual graph that has positive residual capacity along all its edges.\n",
        "\n",
        "The algorithm consists of the following steps:\n",
        "\n",
        "* Initialize the flow on each edge to 0.\n",
        "* While there exists an augmenting path in the residual graph:\n",
        "  a. Find an augmenting path from the source node to the sink node in the residual graph using a search algorithm such as Breadth-First Search or Depth-First Search.\n",
        "  b. Determine the maximum flow that can be sent along the augmenting path by finding the minimum residual capacity along the path.\n",
        "  c. Increase the flow along the augmenting path by the maximum flow found in step (b).\n",
        "  d. Update the residual graph by subtracting the flow from the forward edges and adding the flow to the backward edges.\n",
        "* Return the maximum flow.\n",
        "\n",
        "The residual graph is a graph that represents the remaining capacity of the edges after some flow has been sent through the network. It is created by subtracting the flow on each edge from its capacity.\n",
        "\n",
        "The Ford-Fulkerson algorithm is guaranteed to terminate when the capacities of the edges are integers. However, it may not terminate if the capacities are real numbers due to the possibility of infinite loops caused by floating-point errors. In such cases, other algorithms such as the Edmonds-Karp algorithm and the Dinic's algorithm are used."
      ]
    },
    {
      "cell_type": "code",
      "execution_count": 1,
      "metadata": {
        "id": "Z-1WU_Ge80X-"
      },
      "outputs": [],
      "source": [
        "from collections import deque\n",
        "\n",
        "def ford_fulkerson(graph, source, sink):\n",
        "    '''\n",
        "    Technically this is a Edmonds-Karp algorithm implementing Ford Fulkerson method\n",
        "    because we use BFS not DFS\n",
        "    '''\n",
        "    # Initialize flow to 0 on each edge\n",
        "    flow = {(u, v): 0 for u, v in graph.keys()}\n",
        "    flow.update({(v,u): 0 for u, v in graph.keys()})  # TODO make it more elegant using all permutation of u,v\n",
        "    print(f\"Flow values {flow}\")\n",
        "    nodes = set(t[0] for t in graph) | set(t[1] for t in graph)  # | is set union, and & is set intersection\n",
        "    print(f\"All nodes: {nodes}\")\n",
        "\n",
        "    # TODO yourself try dfs - depth first search\n",
        "    def bfs():\n",
        "        # Find an augmenting path using BFS\n",
        "        queue = deque([source])\n",
        "        visited = {source}\n",
        "        parent = {}\n",
        "        while queue:\n",
        "            u = queue.popleft()\n",
        "            # TODO we need to get all unique node values from tuples\n",
        "            for v in nodes:\n",
        "                print(f\"u is {u} and v is {v}\")\n",
        "                if (u, v) in graph:\n",
        "                    print(f\"pipe capacity {graph[u,v]}\")\n",
        "                if v not in visited and (u, v) in graph and flow[(u, v)] < graph[(u, v)]:\n",
        "                    visited.add(v)\n",
        "                    parent[v] = u\n",
        "                    if v == sink:\n",
        "                        # Augmenting path found, return path and its minimum residual capacity\n",
        "                        path = []\n",
        "                        capacity = float('inf')\n",
        "                        while v != source:\n",
        "                            u = parent[v]\n",
        "                            path.append((u, v))\n",
        "                            capacity = min(capacity, graph[(u, v)] - flow[(u, v)])\n",
        "                            v = u\n",
        "                        path.reverse()\n",
        "                        return path, capacity\n",
        "                    queue.append(v)\n",
        "        # No augmenting path found\n",
        "        return None,None # when there no path\n",
        "\n",
        "    while True:\n",
        "        # Find an augmenting path using BFS\n",
        "        path, capacity = bfs()\n",
        "        # if bfs return no path we are done, no more augmentations\n",
        "        if not path:\n",
        "            break\n",
        "        # Increase flow along the augmenting path\n",
        "        for u, v in path:\n",
        "            flow[(u, v)] += capacity\n",
        "            flow[(v, u)] -= capacity\n",
        "\n",
        "    # Compute maximum flow as the sum of flow leaving the source\n",
        "    max_flow = sum(flow[(v1, v2)] for v1,v2 in graph.keys() if v1 == source)\n",
        "    return max_flow, flow\n"
      ]
    },
    {
      "cell_type": "code",
      "execution_count": 2,
      "metadata": {
        "colab": {
          "base_uri": "https://localhost:8080/"
        },
        "id": "DW1nvSZA8-qc",
        "outputId": "c5516955-dc8d-480e-e62d-e0806554e871"
      },
      "outputs": [
        {
          "data": {
            "text/plain": [
              "{('s', 'u'): 20,\n",
              " ('u', 't'): 10,\n",
              " ('s', 'v'): 10,\n",
              " ('v', 't'): 20,\n",
              " ('u', 'v'): 30}"
            ]
          },
          "execution_count": 2,
          "metadata": {},
          "output_type": "execute_result"
        }
      ],
      "source": [
        "# lets initialize a sample graph from class materials\n",
        "\n",
        "graph = {\n",
        "    ('s','u') : 20,\n",
        "    ('u', 't') : 10,\n",
        "    ('s', 'v') : 10,\n",
        "    ('v', 't') : 20,\n",
        "    ('u', 'v') : 30\n",
        "\n",
        "}\n",
        "graph"
      ]
    },
    {
      "cell_type": "code",
      "execution_count": 3,
      "metadata": {
        "colab": {
          "base_uri": "https://localhost:8080/"
        },
        "id": "wDhrJzj99kAi",
        "outputId": "1588fb3a-309c-4796-bd54-45a9aede7fd7"
      },
      "outputs": [
        {
          "name": "stdout",
          "output_type": "stream",
          "text": [
            "Flow values {('s', 'u'): 0, ('u', 't'): 0, ('s', 'v'): 0, ('v', 't'): 0, ('u', 'v'): 0, ('u', 's'): 0, ('t', 'u'): 0, ('v', 's'): 0, ('t', 'v'): 0, ('v', 'u'): 0}\n",
            "All nodes: {'u', 't', 'v', 's'}\n",
            "u is s and v is u\n",
            "pipe capacity 20\n",
            "u is s and v is t\n",
            "u is s and v is v\n",
            "pipe capacity 10\n",
            "u is s and v is s\n",
            "u is u and v is u\n",
            "u is u and v is t\n",
            "pipe capacity 10\n",
            "u is s and v is u\n",
            "pipe capacity 20\n",
            "u is s and v is t\n",
            "u is s and v is v\n",
            "pipe capacity 10\n",
            "u is s and v is s\n",
            "u is u and v is u\n",
            "u is u and v is t\n",
            "pipe capacity 10\n",
            "u is u and v is v\n",
            "pipe capacity 30\n",
            "u is u and v is s\n",
            "u is v and v is u\n",
            "u is v and v is t\n",
            "pipe capacity 20\n",
            "u is s and v is u\n",
            "pipe capacity 20\n",
            "u is s and v is t\n",
            "u is s and v is v\n",
            "pipe capacity 10\n",
            "u is s and v is s\n",
            "u is u and v is u\n",
            "u is u and v is t\n",
            "pipe capacity 10\n",
            "u is u and v is v\n",
            "pipe capacity 30\n",
            "u is u and v is s\n",
            "u is v and v is u\n",
            "u is v and v is t\n",
            "pipe capacity 20\n",
            "u is s and v is u\n",
            "pipe capacity 20\n",
            "u is s and v is t\n",
            "u is s and v is v\n",
            "pipe capacity 10\n",
            "u is s and v is s\n"
          ]
        }
      ],
      "source": [
        "max_flow, flow = ford_fulkerson(graph, 's', 't')"
      ]
    },
    {
      "cell_type": "code",
      "execution_count": 4,
      "metadata": {
        "colab": {
          "base_uri": "https://localhost:8080/"
        },
        "id": "4H6nm3i7AQpK",
        "outputId": "785f32b3-ff84-4bf6-df76-2753a0234a81"
      },
      "outputs": [
        {
          "data": {
            "text/plain": [
              "(30,\n",
              " {('s', 'u'): 20,\n",
              "  ('u', 't'): 10,\n",
              "  ('s', 'v'): 10,\n",
              "  ('v', 't'): 20,\n",
              "  ('u', 'v'): 10,\n",
              "  ('u', 's'): -20,\n",
              "  ('t', 'u'): -10,\n",
              "  ('v', 's'): -10,\n",
              "  ('t', 'v'): -20,\n",
              "  ('v', 'u'): -10})"
            ]
          },
          "execution_count": 4,
          "metadata": {},
          "output_type": "execute_result"
        }
      ],
      "source": [
        "max_flow, flow"
      ]
    },
    {
      "cell_type": "markdown",
      "metadata": {
        "id": "V2c8JHT480X_"
      },
      "source": [
        "## Time complexity\n",
        "\n",
        "The time complexity of the Ford-Fulkerson algorithm depends on the method used to find augmenting paths in the residual graph.\n",
        "\n",
        "If we use Breadth-First Search (BFS) to find augmenting paths, the worst-case time complexity of the algorithm is O(E * V^2), where E is the number of edges in the network and V is the number of vertices. This is because in the worst case, the algorithm may need to update the flow along all E edges V times in order to find the maximum flow. This worst-case scenario occurs when the capacities of the edges are not integers and the algorithm gets stuck in an infinite loop, continuously finding paths with a non-zero residual capacity.\n",
        "\n",
        "However, if we use a more efficient algorithm to find augmenting paths, such as the Edmonds-Karp algorithm which uses BFS and a shortest path search, the time complexity of the algorithm is reduced to O(E^2 * V). This is because the Edmonds-Karp algorithm guarantees that the shortest path is always found, and therefore the number of iterations is limited to O(E) for each BFS call.\n",
        "\n",
        "In practice, the Edmonds-Karp algorithm is usually preferred over the basic Ford-Fulkerson algorithm, as it has a more efficient worst-case time complexity and guarantees termination for non-negative integer capacities."
      ]
    },
    {
      "cell_type": "markdown",
      "metadata": {
        "id": "D2Yc5RxO80YA"
      },
      "source": [
        "## Edmonds Karp Algorithm\n",
        "\n",
        "The Edmonds-Karp algorithm is a variation of the Ford-Fulkerson algorithm for solving the maximum flow problem in a network. Like the Ford-Fulkerson algorithm, the Edmonds-Karp algorithm repeatedly finds augmenting paths in the residual graph and increases the flow along those paths until no more augmenting paths exist. However, it uses a different strategy to find augmenting paths that leads to a more efficient implementation.\n",
        "\n",
        "The Edmonds-Karp algorithm uses Breadth-First Search (BFS) to find the shortest augmenting path in terms of the number of edges. This guarantees that the algorithm terminates in a finite number of iterations for integer capacities, even if the capacities are not non-negative. In each iteration, BFS is used to find the shortest path from the source to the sink in the residual graph, and the flow is increased along that path by the minimum residual capacity.\n",
        "\n",
        "The algorithm maintains a residual graph, which is a graph that represents the remaining capacity of the edges after some flow has been sent through the network. Initially, the residual graph is the same as the original graph, but with the flow on each edge set to 0. At each iteration, the algorithm updates the residual graph based on the flow that has been sent through the network.\n",
        "\n",
        "Here's the pseudocode for the Edmonds-Karp algorithm:\n",
        "\n",
        "Initialize flow to 0 on each edge\n",
        "while there is an augmenting path in the residual graph:\n",
        "a. Find the shortest augmenting path using BFS\n",
        "b. Compute the minimum residual capacity along the augmenting path\n",
        "c. Increase the flow along the augmenting path by the minimum residual capacity\n",
        "d. Update the residual graph based on the new flow\n",
        "Compute maximum flow as the sum of flow leaving the source\n",
        "The time complexity of the Edmonds-Karp algorithm is O(V * E^2), where V is the number of vertices and E is the number of edges in the network. This is because each BFS call takes O(E) time and there can be at most V iterations, since the shortest path from the source to the sink must pass through at most V edges. The algorithm is guaranteed to terminate for integer capacities, even if the capacities are negative."
      ]
    },
    {
      "cell_type": "code",
      "execution_count": null,
      "metadata": {
        "id": "sguVxfnm80YA"
      },
      "outputs": [],
      "source": [
        "from collections import deque\n",
        "\n",
        "def bfs(graph, s, t, parent):\n",
        "    \"\"\"\n",
        "    Perform BFS on the residual graph to find an augmenting path from source to sink\n",
        "    \"\"\"\n",
        "    visited = [False] * len(graph)\n",
        "    queue = deque()\n",
        "    queue.append(s)\n",
        "    visited[s] = True\n",
        "    \n",
        "    while queue:\n",
        "        u = queue.popleft()\n",
        "        for v in range(len(graph)):\n",
        "            if visited[v] == False and graph[u][v] > 0:\n",
        "                queue.append(v)\n",
        "                visited[v] = True\n",
        "                parent[v] = u\n",
        "                \n",
        "    return visited[t]\n",
        "\n",
        "def edmonds_karp(graph, source, sink):\n",
        "    \"\"\"\n",
        "    Find the maximum flow in a network using the Edmonds-Karp algorithm\n",
        "    \"\"\"\n",
        "    n = len(graph)\n",
        "    parent = [-1] * n\n",
        "    max_flow = 0\n",
        "    \n",
        "    while bfs(graph, source, sink, parent):\n",
        "        # Find the bottleneck capacity along the augmenting path\n",
        "        v = sink\n",
        "        bottleneck = float('inf')\n",
        "        while v != source:\n",
        "            u = parent[v]\n",
        "            bottleneck = min(bottleneck, graph[u][v])\n",
        "            v = u\n",
        "        \n",
        "        # Update the flow along the augmenting path\n",
        "        v = sink\n",
        "        while v != source:\n",
        "            u = parent[v]\n",
        "            graph[u][v] -= bottleneck\n",
        "            graph[v][u] += bottleneck\n",
        "            v = u\n",
        "        \n",
        "        # Add the bottleneck capacity to the max flow\n",
        "        max_flow += bottleneck\n",
        "    \n",
        "    return max_flow\n"
      ]
    },
    {
      "cell_type": "markdown",
      "metadata": {
        "id": "ft4KtmuM80YB"
      },
      "source": [
        "## Other Algorithms for max flow\n",
        "\n",
        "There are several other algorithms for finding the maximum flow in a network, including:\n",
        "\n",
        "* Dinic's Algorithm: This algorithm is an improvement over the Edmonds-Karp algorithm and has a running time of O(E * V^2).\n",
        "\n",
        "* Push-Relabel Algorithm: This algorithm is a family of algorithms that work by maintaining a preflow that is iteratively improved to become a valid flow. The simplest version of this algorithm has a running time of O(V^3).\n",
        "\n",
        "* Capacity Scaling Algorithm: This algorithm works by finding the smallest capacity edge in the network and iteratively increasing the flow along this edge until it saturates. The algorithm then repeats this process with the next smallest capacity edge until the maximum flow is reached. This algorithm has a running time of O(E * log(C)), where C is the largest capacity in the network.\n",
        "\n",
        "* Goldberg-Tarjan Algorithm: This algorithm works by augmenting along blocking flows, which are defined as flows that cannot be increased further. This algorithm has a running time of O(E * V^2 * log(U)), where U is the maximum capacity in the network.\n",
        "\n",
        "* Boykov-Kolmogorov Algorithm: This algorithm is based on the concept of minimum cut, and works by iteratively finding the minimum cut in the residual graph and augmenting along the path defined by the minimum cut. The algorithm has a running time of O(V^3 * E).\n",
        "\n",
        "All of these algorithms are designed to solve the maximum flow problem and have different running times and performance characteristics depending on the properties of the network being analyzed.*"
      ]
    },
    {
      "cell_type": "markdown",
      "metadata": {
        "id": "BwFGvBf480YB"
      },
      "source": [
        "## Dinic's Algorithm\n",
        "\n",
        "Dinic's Algorithm is a well-known algorithm for finding the maximum flow in a network, and it is an improvement over the Edmonds-Karp algorithm. The basic idea behind Dinic's Algorithm is to use a layered graph representation to find augmenting paths more efficiently.\n",
        "\n",
        "Here's a step-by-step description of Dinic's Algorithm:\n",
        "\n",
        "Initialize the flow on each edge to 0.\n",
        "\n",
        "Construct the layered graph by doing a breadth-first search (BFS) on the residual graph, starting from the source node. The layered graph contains all the nodes and edges that can be reached from the source node using a path in the residual graph.\n",
        "\n",
        "While there exists an augmenting path in the layered graph:\n",
        "a. Find an augmenting path using DFS or BFS in the layered graph. The augmenting path must start at the source node and end at the sink node.\n",
        "b. Compute the minimum capacity along the augmenting path.\n",
        "c. Increase the flow along the augmenting path by the minimum capacity.\n",
        "d. Update the residual graph based on the new flow.\n",
        "e. Reconstruct the layered graph using BFS.\n",
        "\n",
        "Compute the maximum flow as the sum of flow leaving the source.\n",
        "\n",
        "One of the key differences between Dinic's Algorithm and the Edmonds-Karp algorithm is that Dinic's Algorithm uses the layered graph to efficiently find augmenting paths, whereas Edmonds-Karp uses a BFS on the residual graph to find augmenting paths. This allows Dinic's Algorithm to have a faster running time, as it eliminates the need to repeatedly search for augmenting paths in the residual graph. The running time of Dinic's Algorithm is O(E * V^2), which is faster than the running time of the Edmonds-Karp algorithm in some cases."
      ]
    },
    {
      "cell_type": "code",
      "execution_count": 5,
      "metadata": {
        "id": "Jic0rbwo80YC"
      },
      "outputs": [],
      "source": [
        "# let's create a function that uses Dinic's algorithm\n",
        "# function will take graph, source and sink as input and return max flow\n",
        "# we will use BFS to find blocking flow and DFS to find augmenting path\n",
        "\n",
        "def dinic(graph, source, sink):\n",
        "    def bfs(graph, source, sink):\n",
        "        queue = deque([source])\n",
        "        level = {source: 0}\n",
        "        while queue:\n",
        "            u = queue.popleft()\n",
        "            for v, capacity in graph[u].items():\n",
        "                if capacity > 0 and v not in level:\n",
        "                    level[v] = level[u] + 1\n",
        "                    queue.append(v)\n",
        "        return level.get(sink)\n",
        "\n",
        "    def dfs(graph, source, sink, flow):\n",
        "        if source == sink:\n",
        "            return flow\n",
        "        for v, capacity in graph[source].items():\n",
        "            if capacity > 0 and level[v] == level[source] + 1:\n",
        "                augment = dfs(graph, v, sink, min(flow, capacity))\n",
        "                if augment:\n",
        "                    graph[source][v] -= augment\n",
        "                    graph[v][source] += augment\n",
        "                    return augment\n",
        "\n",
        "    max_flow = 0\n",
        "    while bfs(graph, source, sink) is not None:\n",
        "        level = {source: 0}\n",
        "        stack = [source]\n",
        "        while stack:\n",
        "            u = stack[-1]\n",
        "            if u == sink:\n",
        "                max_flow += dfs(graph, source, sink, float('inf'))\n",
        "                stack.pop()\n",
        "            else:\n",
        "                for v, capacity in graph[u].items():\n",
        "                    if capacity > 0 and v not in level:\n",
        "                        level[v] = level[u] + 1\n",
        "                        stack.append(v)\n",
        "                        break\n",
        "                else:\n",
        "                    stack.pop()\n",
        "    return max_flow"
      ]
    },
    {
      "cell_type": "code",
      "execution_count": 10,
      "metadata": {},
      "outputs": [
        {
          "data": {
            "text/plain": [
              "30"
            ]
          },
          "execution_count": 10,
          "metadata": {},
          "output_type": "execute_result"
        }
      ],
      "source": [
        "# let's test Dinic's algorithm on our graph\n",
        "# we have to provide empty values for reverse edges and also for loopback edges\n",
        "graph = {\n",
        "    's': {'u': 20, 'v': 10, 's': 0, 't': 0},\n",
        "    'u': {'t': 10, 'v': 30, 'u': 0, 's': 0},\n",
        "    'v': {'t': 20, 'u':0,   'v': 0, 's': 0},\n",
        "    't': {'u': 0, 'v': 0, 't': 0, 's': 0},\n",
        "}\n",
        "source = 's'\n",
        "sink = 't'\n",
        "dinic(graph, source, sink)  # 30"
      ]
    },
    {
      "cell_type": "markdown",
      "metadata": {},
      "source": [
        "### More on Dinic's Algorithm\n",
        "\n",
        "Src: https://en.wikipedia.org/wiki/Dinic%27s_algorithm"
      ]
    },
    {
      "cell_type": "markdown",
      "metadata": {},
      "source": [
        "## Improvements since Ford Fulkerson\n",
        "\n",
        "Goldberg and Tarjan showed that the time complexity of the Ford–Fulkerson algorithm can be improved to O(VE) using blocking flows. The blocking flow is a flow that cannot be increased, and the algorithm works by finding augmenting paths along blocking flows. The algorithm is known as the Goldberg–Tarjan algorithm.\n",
        "\n",
        "Src: https://en.wikipedia.org/wiki/Push%E2%80%93relabel_maximum_flow_algorithm"
      ]
    },
    {
      "cell_type": "code",
      "execution_count": null,
      "metadata": {},
      "outputs": [],
      "source": []
    }
  ],
  "metadata": {
    "colab": {
      "provenance": []
    },
    "gpuClass": "standard",
    "kernelspec": {
      "display_name": "Python 3",
      "name": "python3"
    },
    "language_info": {
      "codemirror_mode": {
        "name": "ipython",
        "version": 3
      },
      "file_extension": ".py",
      "mimetype": "text/x-python",
      "name": "python",
      "nbconvert_exporter": "python",
      "pygments_lexer": "ipython3",
      "version": "3.10.7"
    },
    "orig_nbformat": 4
  },
  "nbformat": 4,
  "nbformat_minor": 0
}
