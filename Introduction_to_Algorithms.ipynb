{
  "cells": [
    {
      "cell_type": "markdown",
      "source": [
        "# What is an Algorithm anyway?\n",
        "\n",
        "An algorithm is an explicit, precise, unambiguous, mechanically-executable\n",
        "sequence of elementary instructions, usually intended to accomplish a specific purpose\n",
        "\n",
        "Source: https://jeffe.cs.illinois.edu/teaching/algorithms/"
      ],
      "metadata": {
        "id": "20c2bqCBNWeJ"
      }
    },
    {
      "cell_type": "markdown",
      "source": [
        "## Al-gebra and al-gorithm and al-gorists (not Al-Gorists)\n",
        "\n",
        "![Musa-al-Kharismi](https://upload.wikimedia.org/wikipedia/commons/a/a6/Khwarizmi_Amirkabir_University_of_Technology.png)\n",
        "\n",
        "https://en.wikipedia.org/wiki/Muhammad_ibn_Musa_al-Khwarizmi"
      ],
      "metadata": {
        "id": "1oLXpnAkP4fX"
      }
    },
    {
      "cell_type": "markdown",
      "source": [
        "## Decent Algorithm\n",
        "\n",
        "BottlesOfBeer(n):\n",
        "\n",
        "```\n",
        "For i ← n down to 1\n",
        "\n",
        "  Sing “i bottles of beer on the wall, i bottles of beer, ”\n",
        "\n",
        "  Sing “ Take one down, pass it around, i − 1 bottles of beer on the wall. ”\n",
        "\n",
        "  Sing “ No bottles of beer on the wall, no bottles of beer, ”\n",
        "\n",
        "  Sing “ Go to the store, buy some more, n bottles of beer on the wall. ”\n",
        "```\n",
        "\n"
      ],
      "metadata": {
        "id": "XaQT2vJyPP9u"
      }
    },
    {
      "cell_type": "markdown",
      "source": [
        "## Not a real algorithm \n",
        "\n",
        "BeAMillionaireAndNeverPayTaxes():\n",
        "\n",
        "\n",
        "```\n",
        "\n",
        "Get a million dollars. \n",
        "\n",
        "If the tax man comes to your door and says, “ You have never paid taxes! ”\n",
        "\n",
        "Say “ I forgot.\n",
        "```\n",
        "\n",
        "\n",
        "\n",
        "\n",
        "### How about  Get a million dollars algorithm?\n",
        "1. Collect underpants\n",
        "2. ?\n",
        "3. Profit\n",
        "\n",
        "Source: https://en.wikipedia.org/wiki/Gnomes_(South_Park)\n",
        "\n",
        "Still not a real algorithm.\n"
      ],
      "metadata": {
        "id": "ag3UlpCEN7d-"
      }
    },
    {
      "cell_type": "markdown",
      "source": [
        "## Describing Algorithms\n",
        "\n",
        "The skills required to effectively design and analyze algorithms are entangled with the skills required to effectively describe algorithms. A complete description of any algorithm has four components:\n",
        "\n",
        " *  **What:** A precise specification of the problem that the algorithm solves.\n",
        " *  **How:** A precise description of the algorithm itself.\n",
        " * **Why:** A proof that the algorithm solves the problem it is supposed to solve.\n",
        " * **How fast:** An analysis of the running time of the algorithm."
      ],
      "metadata": {
        "id": "Kcqi5WkhOg74"
      }
    },
    {
      "cell_type": "code",
      "source": [
        ""
      ],
      "metadata": {
        "id": "a6Ayo4tTOzTe"
      },
      "execution_count": null,
      "outputs": []
    },
    {
      "cell_type": "markdown",
      "metadata": {
        "id": "vlXOIa4MM-Ao"
      },
      "source": [
        "# How to find a the largest number in an unsorted list(array)?\n",
        "#"
      ]
    },
    {
      "cell_type": "code",
      "execution_count": null,
      "metadata": {
        "id": "4fdPxJvEM-Aw",
        "outputId": "9af30517-6d57-4704-b279-9e28493aab97"
      },
      "outputs": [
        {
          "name": "stdout",
          "output_type": "stream",
          "text": [
            "67\n"
          ]
        }
      ],
      "source": [
        "mylist = [1,4,67,2,7,2]\n",
        "print(max(mylist))"
      ]
    },
    {
      "cell_type": "code",
      "execution_count": null,
      "metadata": {
        "id": "n1bkJVxKM-A0"
      },
      "outputs": [],
      "source": [
        "# lets implement our naive max algorithm\n",
        "# or as they call it Brute Force\n",
        "def find_my_max(seq):\n",
        "    my_max = None\n",
        "    for n in seq:\n",
        "        if my_max == None or n > my_max:\n",
        "            my_max = n\n",
        "    return my_max\n",
        "    # set max to negative infinitty\n",
        "    # loop through seq\n",
        "    # if any number is larger than max we set max to this number\n",
        "    # return max"
      ]
    },
    {
      "cell_type": "code",
      "execution_count": null,
      "metadata": {
        "id": "HYKr3rSLM-A3",
        "outputId": "6c55a4b0-7379-410a-ea69-f7e21ca6cbac"
      },
      "outputs": [
        {
          "name": "stdout",
          "output_type": "stream",
          "text": [
            "67\n"
          ]
        }
      ],
      "source": [
        "print(find_my_max(mylist))"
      ]
    },
    {
      "cell_type": "code",
      "execution_count": null,
      "metadata": {
        "id": "IFYycmEYM-A4",
        "outputId": "2815df25-153e-443e-be95-fa6d7831b3e9"
      },
      "outputs": [
        {
          "name": "stdout",
          "output_type": "stream",
          "text": [
            "23\n"
          ]
        }
      ],
      "source": [
        "print(find_my_max([-4,23,-6,2,0,0,5]))"
      ]
    },
    {
      "cell_type": "code",
      "execution_count": null,
      "metadata": {
        "id": "KXgk-E94M-A5",
        "outputId": "2bce0ccc-3ba6-4d88-d559-27381b483e5e"
      },
      "outputs": [
        {
          "data": {
            "text/plain": [
              "1000000"
            ]
          },
          "execution_count": 15,
          "metadata": {},
          "output_type": "execute_result"
        }
      ],
      "source": [
        "import random\n",
        "big_list = [random.randint(1,100_000_000) for _ in range(1_000_000)]\n",
        "len(big_list)\n"
      ]
    },
    {
      "cell_type": "code",
      "execution_count": null,
      "metadata": {
        "id": "K3XEZd-GM-A6",
        "outputId": "a28a43a1-8a84-4ff4-e253-ec1adb03e8e8"
      },
      "outputs": [
        {
          "name": "stdout",
          "output_type": "stream",
          "text": [
            "17.2 ms ± 26.3 µs per loop (mean ± std. dev. of 7 runs, 100 loops each)\n"
          ]
        }
      ],
      "source": [
        "%%timeit\n",
        "max(big_list) # most likely this is already cached so running it 1000 times will not prove nothing"
      ]
    },
    {
      "cell_type": "code",
      "execution_count": null,
      "metadata": {
        "id": "aXmlSvbPM-A7",
        "outputId": "2f9e5df7-314a-4f45-a484-7419789fce96"
      },
      "outputs": [
        {
          "name": "stdout",
          "output_type": "stream",
          "text": [
            "97.5 ms ± 13.3 ms per loop (mean ± std. dev. of 7 runs, 10 loops each)\n"
          ]
        }
      ],
      "source": [
        "%%timeit\n",
        "find_my_max(big_list)"
      ]
    },
    {
      "cell_type": "code",
      "execution_count": null,
      "metadata": {
        "id": "gehlEGmbM-A9"
      },
      "outputs": [],
      "source": [
        "huge_list = [random.randint(1,1_000_000_000) for _ in range(10_000_000)]\n"
      ]
    },
    {
      "cell_type": "code",
      "execution_count": null,
      "metadata": {
        "id": "uQpR7BrWM-A-",
        "outputId": "64cbaf75-29ae-404b-e966-080832ff3c67"
      },
      "outputs": [
        {
          "name": "stdout",
          "output_type": "stream",
          "text": [
            "174 ms ± 2.95 ms per loop (mean ± std. dev. of 7 runs, 10 loops each)\n"
          ]
        }
      ],
      "source": [
        "%%timeit\n",
        "max(huge_list)"
      ]
    },
    {
      "cell_type": "code",
      "execution_count": null,
      "metadata": {
        "id": "MKebvWqIM-A_",
        "outputId": "52ae9b81-c87e-4078-fcd2-497b4c7a6924"
      },
      "outputs": [
        {
          "name": "stdout",
          "output_type": "stream",
          "text": [
            "926 ms ± 31.8 ms per loop (mean ± std. dev. of 7 runs, 1 loop each)\n"
          ]
        }
      ],
      "source": [
        "%%timeit\n",
        "find_my_max(huge_list)"
      ]
    },
    {
      "cell_type": "code",
      "execution_count": null,
      "metadata": {
        "id": "zaYvnMXCM-BA",
        "outputId": "c1b4e611-dd67-4320-9bec-f9dfe8657d30"
      },
      "outputs": [
        {
          "name": "stdout",
          "output_type": "stream",
          "text": [
            "959 ms ± 69 ms per loop (mean ± std. dev. of 7 runs, 1 loop each)\n"
          ]
        }
      ],
      "source": [
        "%%timeit\n",
        "find_my_max(huge_list)"
      ]
    },
    {
      "cell_type": "code",
      "execution_count": null,
      "metadata": {
        "id": "q_mdquc5M-BB"
      },
      "outputs": [],
      "source": [
        "sorted_big_list = sorted(big_list)\n"
      ]
    },
    {
      "cell_type": "code",
      "execution_count": null,
      "metadata": {
        "id": "ZDMXXyotM-BB",
        "outputId": "29495ee0-ff51-4210-c0db-b57272626993"
      },
      "outputs": [
        {
          "name": "stdout",
          "output_type": "stream",
          "text": [
            "67.5 ms ± 463 µs per loop (mean ± std. dev. of 7 runs, 10 loops each)\n"
          ]
        }
      ],
      "source": [
        "%%timeit\n",
        "max(sorted_big_list)"
      ]
    },
    {
      "cell_type": "code",
      "execution_count": null,
      "metadata": {
        "id": "bLpo65OdM-BC",
        "outputId": "c71dd267-5841-4fc2-c297-428672718314"
      },
      "outputs": [
        {
          "name": "stdout",
          "output_type": "stream",
          "text": [
            "67.3 ms ± 1.7 ms per loop (mean ± std. dev. of 7 runs, 10 loops each)\n"
          ]
        }
      ],
      "source": [
        "%%timeit\n",
        "min(sorted_big_list)"
      ]
    },
    {
      "cell_type": "code",
      "execution_count": null,
      "metadata": {
        "id": "01t2T1ksM-BC",
        "outputId": "e237121d-c386-411c-df21-cf1b2bdd07bb"
      },
      "outputs": [
        {
          "data": {
            "text/plain": [
              "(178, 99999962)"
            ]
          },
          "execution_count": 29,
          "metadata": {},
          "output_type": "execute_result"
        }
      ],
      "source": [
        "sorted_big_list[0], sorted_big_list[-1]"
      ]
    },
    {
      "cell_type": "code",
      "execution_count": null,
      "metadata": {
        "id": "dygHgOAFM-BD",
        "outputId": "a7a71de4-ae25-4fbd-9386-749f9edbd50f"
      },
      "outputs": [
        {
          "data": {
            "text/plain": [
              "[False,\n",
              " False,\n",
              " False,\n",
              " False,\n",
              " False,\n",
              " False,\n",
              " False,\n",
              " False,\n",
              " False,\n",
              " False,\n",
              " False,\n",
              " False,\n",
              " False,\n",
              " False,\n",
              " False,\n",
              " False,\n",
              " False,\n",
              " False,\n",
              " False,\n",
              " False,\n",
              " False,\n",
              " True,\n",
              " False,\n",
              " False,\n",
              " False,\n",
              " False,\n",
              " False,\n",
              " False,\n",
              " False,\n",
              " False,\n",
              " False,\n",
              " False,\n",
              " False,\n",
              " False,\n",
              " False,\n",
              " False,\n",
              " False,\n",
              " False,\n",
              " False,\n",
              " False,\n",
              " False,\n",
              " False,\n",
              " False,\n",
              " False,\n",
              " False,\n",
              " False,\n",
              " False,\n",
              " False,\n",
              " False,\n",
              " False,\n",
              " False,\n",
              " False,\n",
              " False,\n",
              " False,\n",
              " False,\n",
              " False,\n",
              " False,\n",
              " False,\n",
              " False,\n",
              " False,\n",
              " False,\n",
              " False,\n",
              " True,\n",
              " True,\n",
              " False,\n",
              " False,\n",
              " False,\n",
              " False,\n",
              " False,\n",
              " False,\n",
              " False,\n",
              " False,\n",
              " False,\n",
              " False,\n",
              " False,\n",
              " False,\n",
              " False,\n",
              " False,\n",
              " False,\n",
              " False,\n",
              " False,\n",
              " False,\n",
              " False,\n",
              " False,\n",
              " False,\n",
              " False,\n",
              " False,\n",
              " False,\n",
              " False,\n",
              " False,\n",
              " False,\n",
              " False,\n",
              " False,\n",
              " False,\n",
              " False,\n",
              " False,\n",
              " False,\n",
              " False,\n",
              " False,\n",
              " False,\n",
              " False,\n",
              " False,\n",
              " False,\n",
              " False,\n",
              " False,\n",
              " False,\n",
              " False,\n",
              " False,\n",
              " False,\n",
              " False,\n",
              " False,\n",
              " False,\n",
              " False,\n",
              " False,\n",
              " False,\n",
              " False,\n",
              " False,\n",
              " False,\n",
              " False,\n",
              " False,\n",
              " False,\n",
              " False,\n",
              " False,\n",
              " False,\n",
              " False,\n",
              " False,\n",
              " False,\n",
              " False,\n",
              " False,\n",
              " False,\n",
              " False,\n",
              " False,\n",
              " False,\n",
              " False,\n",
              " False,\n",
              " False,\n",
              " False,\n",
              " False,\n",
              " False,\n",
              " False,\n",
              " False,\n",
              " False,\n",
              " False,\n",
              " False,\n",
              " False,\n",
              " False,\n",
              " False,\n",
              " False,\n",
              " False,\n",
              " False,\n",
              " False,\n",
              " False,\n",
              " False,\n",
              " False,\n",
              " False,\n",
              " False,\n",
              " False,\n",
              " False,\n",
              " False,\n",
              " False,\n",
              " False,\n",
              " False,\n",
              " False,\n",
              " False,\n",
              " False,\n",
              " False,\n",
              " False,\n",
              " False,\n",
              " False,\n",
              " False,\n",
              " False,\n",
              " False,\n",
              " False,\n",
              " False,\n",
              " False,\n",
              " False,\n",
              " False,\n",
              " False,\n",
              " False,\n",
              " False,\n",
              " False,\n",
              " False,\n",
              " False,\n",
              " False,\n",
              " False,\n",
              " False,\n",
              " False,\n",
              " False,\n",
              " False,\n",
              " False,\n",
              " False,\n",
              " False,\n",
              " False,\n",
              " False,\n",
              " False,\n",
              " False,\n",
              " False,\n",
              " False,\n",
              " False,\n",
              " False]"
            ]
          },
          "execution_count": 34,
          "metadata": {},
          "output_type": "execute_result"
        }
      ],
      "source": [
        "# How about finding some value in a list\n",
        "over_9000 = [n in big_list for n in range(9000,9200)]\n",
        "over_9000"
      ]
    },
    {
      "cell_type": "code",
      "execution_count": null,
      "metadata": {
        "id": "eFrx1bp4M-BD",
        "outputId": "c8c69bc8-891b-4854-a653-5ba9b5a83eb7"
      },
      "outputs": [
        {
          "data": {
            "text/plain": [
              "True"
            ]
          },
          "execution_count": 35,
          "metadata": {},
          "output_type": "execute_result"
        }
      ],
      "source": [
        "True in over_9000"
      ]
    },
    {
      "cell_type": "code",
      "execution_count": null,
      "metadata": {
        "id": "UJXTvrD0M-BD",
        "outputId": "a88f860d-dc47-4fa3-b5eb-908b36e1d1a6"
      },
      "outputs": [
        {
          "data": {
            "text/plain": [
              "21"
            ]
          },
          "execution_count": 36,
          "metadata": {},
          "output_type": "execute_result"
        }
      ],
      "source": [
        "over_9000.index(True)"
      ]
    },
    {
      "cell_type": "code",
      "execution_count": null,
      "metadata": {
        "id": "obO1N8Y5M-BE",
        "outputId": "236cd2b9-4474-425e-87d7-34d667d07412"
      },
      "outputs": [
        {
          "name": "stdout",
          "output_type": "stream",
          "text": [
            "13.1 ms ± 116 µs per loop (mean ± std. dev. of 7 runs, 100 loops each)\n"
          ]
        }
      ],
      "source": [
        "%%timeit\n",
        "9021 in big_list # so this check took a while"
      ]
    },
    {
      "cell_type": "code",
      "execution_count": null,
      "metadata": {
        "id": "cvEVSy4mM-BE",
        "outputId": "4acd54a2-dbbe-439b-f46a-d054ff6324a6"
      },
      "outputs": [
        {
          "name": "stdout",
          "output_type": "stream",
          "text": [
            "1.82 µs ± 12.2 ns per loop (mean ± std. dev. of 7 runs, 1000000 loops each)\n"
          ]
        }
      ],
      "source": [
        "%%timeit\n",
        "9021 in sorted_big_list"
      ]
    },
    {
      "cell_type": "code",
      "execution_count": null,
      "metadata": {
        "id": "kVg5JlvEM-BF",
        "outputId": "6c10953c-d11b-4ea7-9f9f-45c38bc10023"
      },
      "outputs": [
        {
          "data": {
            "text/plain": [
              "(648803, 82)"
            ]
          },
          "execution_count": 42,
          "metadata": {},
          "output_type": "execute_result"
        }
      ],
      "source": [
        "big_list.index(9021),sorted_big_list.index(9021)"
      ]
    },
    {
      "cell_type": "code",
      "execution_count": null,
      "metadata": {
        "id": "WymuZ-YVM-BF"
      },
      "outputs": [],
      "source": [
        "big_set = set(big_list) # another data structure"
      ]
    },
    {
      "cell_type": "code",
      "execution_count": null,
      "metadata": {
        "id": "b3XWSfpNM-BF",
        "outputId": "184e9421-dc99-4730-ca95-68d963a6c522"
      },
      "outputs": [
        {
          "name": "stdout",
          "output_type": "stream",
          "text": [
            "104 ns ± 4.52 ns per loop (mean ± std. dev. of 7 runs, 10000000 loops each)\n"
          ]
        }
      ],
      "source": [
        "%%timeit\n",
        "9021 in big_set\n"
      ]
    },
    {
      "cell_type": "code",
      "execution_count": null,
      "metadata": {
        "id": "8FrB50ygM-BG"
      },
      "outputs": [],
      "source": [
        "# Key takeaway - choosing a right data structure can be crucial\n",
        "# in set is O(1)\n",
        "# in list is O(n) - on average, sometimes the value is found quickly sometimes you have to go through whole list"
      ]
    },
    {
      "cell_type": "code",
      "execution_count": null,
      "metadata": {
        "id": "Fj_pQqyMM-BG",
        "outputId": "c81a09df-c343-49d8-ff5f-e31878d85d7f"
      },
      "outputs": [
        {
          "name": "stdout",
          "output_type": "stream",
          "text": [
            "20.8 ms ± 782 µs per loop (mean ± std. dev. of 7 runs, 10 loops each)\n"
          ]
        }
      ],
      "source": [
        "%%timeit\n",
        "9000 in big_list"
      ]
    },
    {
      "cell_type": "code",
      "execution_count": null,
      "metadata": {
        "id": "59lAkXCPM-BH",
        "outputId": "bb157d53-e7dd-4a0b-bb57-ce22ce80151f"
      },
      "outputs": [
        {
          "name": "stdout",
          "output_type": "stream",
          "text": [
            "90.3 ns ± 10.2 ns per loop (mean ± std. dev. of 7 runs, 10000000 loops each)\n"
          ]
        }
      ],
      "source": [
        "%%timeit\n",
        "9000 in big_set"
      ]
    },
    {
      "cell_type": "code",
      "execution_count": null,
      "metadata": {
        "id": "1n-ThLDAM-BH",
        "outputId": "c7923aea-fca8-4f12-a442-d91ec1d99b1f"
      },
      "outputs": [
        {
          "name": "stdout",
          "output_type": "stream",
          "text": [
            "11.2 ms ± 86.2 µs per loop (mean ± std. dev. of 7 runs, 100 loops each)\n"
          ]
        }
      ],
      "source": [
        "%%timeit\n",
        "count = 100_000\n",
        "nums = [] # lets image we do not know about list comprehension\n",
        "for n in range(count):\n",
        "    nums.append(n)\n",
        "nums.reverse() # in place number reversal\n",
        "# of course list(range(count))\n",
        "# nums[:10]"
      ]
    },
    {
      "cell_type": "code",
      "execution_count": null,
      "metadata": {
        "id": "Taw_RB3sM-BH"
      },
      "outputs": [],
      "source": [
        "# can we try to do better ? why reverse if we could already make reverse immediate...."
      ]
    },
    {
      "cell_type": "code",
      "execution_count": null,
      "metadata": {
        "id": "SjfdjM1hM-BI",
        "outputId": "dc6f91fb-b0a1-4147-9539-8c4bc1d24a03"
      },
      "outputs": [
        {
          "name": "stdout",
          "output_type": "stream",
          "text": [
            "3.78 s ± 9.68 ms per loop (mean ± std. dev. of 7 runs, 1 loop each)\n"
          ]
        }
      ],
      "source": [
        "%%timeit\n",
        "count = 100_000\n",
        "nums2 = []\n",
        "for n in range(count):\n",
        "    nums2.insert(0, n)\n",
        "    "
      ]
    },
    {
      "cell_type": "code",
      "execution_count": null,
      "metadata": {
        "id": "r1YQDhfxM-BI",
        "outputId": "1da73168-70cb-48a2-f651-6a61715c20a3"
      },
      "outputs": [
        {
          "data": {
            "text/plain": [
              "([999999, 999998, 999997, 999996, 999995], [99999, 99998, 99997, 99996, 99995])"
            ]
          },
          "execution_count": 59,
          "metadata": {},
          "output_type": "execute_result"
        }
      ],
      "source": [
        "nums[:5],nums2[:5]"
      ]
    },
    {
      "cell_type": "markdown",
      "metadata": {
        "id": "4yzxPg7FM-BI"
      },
      "source": [
        "# What is GCD?\n",
        "## the largest number that divides two numbers evenly (no reminder)\n",
        "## 12 8 will have GCD of 4, and 21, 18, will have GCD of 3"
      ]
    },
    {
      "cell_type": "markdown",
      "metadata": {
        "id": "R6vS2ZseM-BI"
      },
      "source": [
        "# one algorithm to solve would be this\n",
        "* divide numbers in prime factors\n",
        "* GCD will be the common prime factors in both numbers multiplied"
      ]
    },
    {
      "cell_type": "code",
      "execution_count": null,
      "metadata": {
        "id": "DiSOFH-qM-BJ"
      },
      "outputs": [],
      "source": [
        "# GCD or 30 and 12 would be 6 because:\n",
        "# 30 = 2*3*5\n",
        "# 12 = 2*2*3\n",
        "# so GCD is 2*3\n",
        "# the only catch being that you have to find prime factors for a number\n",
        "# well"
      ]
    },
    {
      "cell_type": "code",
      "execution_count": null,
      "metadata": {
        "id": "Jqn3bYKjM-BJ"
      },
      "outputs": [],
      "source": [
        "# if we did not know about Euclid\n",
        "# brute force algorithm\n",
        "def naiveGCD(x, y):\n",
        "    gcd = 1 # so 1 will always be a fallback GCD\n",
        "    for n in range(2, min(x,y)+1): # also those off by one errors you have to watch out\n",
        "        if x%n == 0 and y%n ==0:\n",
        "            gcd = n # wow we got a new high gcd\n",
        "    return gcd"
      ]
    },
    {
      "cell_type": "code",
      "execution_count": null,
      "metadata": {
        "id": "tP3YkeMdM-BJ",
        "outputId": "6f792f9a-f0d9-43e5-cf90-aff61a1091cc"
      },
      "outputs": [
        {
          "data": {
            "text/plain": [
              "4"
            ]
          },
          "execution_count": 62,
          "metadata": {},
          "output_type": "execute_result"
        }
      ],
      "source": [
        "naiveGCD(12,8)"
      ]
    },
    {
      "cell_type": "code",
      "execution_count": null,
      "metadata": {
        "id": "5rkbg-4cM-BK",
        "outputId": "bce46b4d-fa0a-4487-a251-393eab6ecfa1"
      },
      "outputs": [
        {
          "data": {
            "text/plain": [
              "6"
            ]
          },
          "execution_count": 63,
          "metadata": {},
          "output_type": "execute_result"
        }
      ],
      "source": [
        "naiveGCD(30,12)"
      ]
    },
    {
      "cell_type": "code",
      "execution_count": null,
      "metadata": {
        "id": "afT0le3sM-BK",
        "outputId": "a78e86e0-a19b-4912-ffa4-f298db87dbf4"
      },
      "outputs": [
        {
          "name": "stdout",
          "output_type": "stream",
          "text": [
            "97.7 ms ± 3.35 ms per loop (mean ± std. dev. of 7 runs, 10 loops each)\n"
          ]
        }
      ],
      "source": [
        "%%timeit\n",
        "naiveGCD(10_000_200,900_000)"
      ]
    },
    {
      "cell_type": "code",
      "execution_count": null,
      "metadata": {
        "id": "ycBTLwl0M-BL"
      },
      "outputs": [],
      "source": [
        "# This 2000 years old algorithm\n",
        "# https://en.wikipedia.org/wiki/Euclidean_algorithm"
      ]
    },
    {
      "cell_type": "code",
      "execution_count": null,
      "metadata": {
        "id": "2U9yrtBwM-BL"
      },
      "outputs": [],
      "source": [
        "def gcd(x, y):\n",
        "    while(y):\n",
        "        x, y = y, x % y # calculate the reminder and then swap the values, in other languages you'd use a temp variable\n",
        "    return x"
      ]
    },
    {
      "cell_type": "code",
      "execution_count": null,
      "metadata": {
        "id": "IzrOh88TM-BL",
        "outputId": "8b3ee22a-bd77-45d8-87da-47d46a774798"
      },
      "outputs": [
        {
          "data": {
            "text/plain": [
              "600"
            ]
          },
          "execution_count": 67,
          "metadata": {},
          "output_type": "execute_result"
        }
      ],
      "source": [
        "gcd(10_000_200,900_000)"
      ]
    },
    {
      "cell_type": "code",
      "execution_count": null,
      "metadata": {
        "id": "R0U1j1P3M-BM",
        "outputId": "6dced3ae-d7e9-41fc-cb80-7fb7098755a7"
      },
      "outputs": [
        {
          "name": "stdout",
          "output_type": "stream",
          "text": [
            "927 ns ± 57.6 ns per loop (mean ± std. dev. of 7 runs, 1000000 loops each)\n"
          ]
        }
      ],
      "source": [
        "%%timeit\n",
        "gcd(10_000_200,900_000)"
      ]
    },
    {
      "cell_type": "code",
      "execution_count": null,
      "metadata": {
        "id": "trnxxyLpM-BM",
        "outputId": "99dc5bbe-ffd0-491a-9e9e-b40e1403dcde"
      },
      "outputs": [
        {
          "data": {
            "text/plain": [
              "4"
            ]
          },
          "execution_count": 2,
          "metadata": {},
          "output_type": "execute_result"
        }
      ],
      "source": [
        "gcd(12, 8)"
      ]
    },
    {
      "cell_type": "code",
      "execution_count": null,
      "metadata": {
        "id": "Lb-bC86-M-BM",
        "outputId": "31f9ac04-f830-4b68-91f6-c63e2969b88f"
      },
      "outputs": [
        {
          "data": {
            "text/plain": [
              "3"
            ]
          },
          "execution_count": 3,
          "metadata": {},
          "output_type": "execute_result"
        }
      ],
      "source": [
        "gcd(21,18)"
      ]
    },
    {
      "cell_type": "code",
      "execution_count": null,
      "metadata": {
        "id": "DP5-W3f_M-BN",
        "outputId": "2df7ddf8-ccc7-4fa6-eca2-3a89fc06157a"
      },
      "outputs": [
        {
          "data": {
            "text/plain": [
              "1"
            ]
          },
          "execution_count": 4,
          "metadata": {},
          "output_type": "execute_result"
        }
      ],
      "source": [
        "gcd(100, 93)"
      ]
    },
    {
      "cell_type": "code",
      "execution_count": null,
      "metadata": {
        "id": "c3uQ1r2MM-BN",
        "outputId": "f3f458ef-49b3-4c66-bbae-bf6a8c32d3fa"
      },
      "outputs": [
        {
          "data": {
            "text/plain": [
              "2"
            ]
          },
          "execution_count": 5,
          "metadata": {},
          "output_type": "execute_result"
        }
      ],
      "source": [
        "gcd(10, 8)"
      ]
    },
    {
      "cell_type": "code",
      "execution_count": null,
      "metadata": {
        "id": "ODWG3GQGM-BN",
        "outputId": "27d09fb5-3d8b-48a2-9eba-aae6597ae89d"
      },
      "outputs": [
        {
          "data": {
            "text/plain": [
              "12"
            ]
          },
          "execution_count": 6,
          "metadata": {},
          "output_type": "execute_result"
        }
      ],
      "source": [
        "gcd(24,12)"
      ]
    }
  ],
  "metadata": {
    "kernelspec": {
      "display_name": "Python 3",
      "language": "python",
      "name": "python3"
    },
    "language_info": {
      "codemirror_mode": {
        "name": "ipython",
        "version": 3
      },
      "file_extension": ".py",
      "mimetype": "text/x-python",
      "name": "python",
      "nbconvert_exporter": "python",
      "pygments_lexer": "ipython3",
      "version": "3.8.3"
    },
    "colab": {
      "name": "Introduction_to_Algorithms.ipynb",
      "provenance": [],
      "collapsed_sections": [
        "4yzxPg7FM-BI",
        "R6vS2ZseM-BI"
      ]
    }
  },
  "nbformat": 4,
  "nbformat_minor": 0
}