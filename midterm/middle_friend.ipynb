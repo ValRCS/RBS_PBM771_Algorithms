{
 "cells": [
  {
   "cell_type": "code",
   "execution_count": null,
   "metadata": {},
   "outputs": [],
   "source": []
  },
  {
   "attachments": {},
   "cell_type": "markdown",
   "metadata": {},
   "source": [
    "## Problem description\n",
    "\n",
    "Middle friendly person. You are working at a social network called FriendFace. This network is quite a small one, only 15 persons and 21 bi-directional relationships as defined in file friend_face.csv \n",
    "\n",
    "Your co-worker Roy wants you to find the average person on this network and their total friendship_score. Average person here means the one with the median(middle) person score calculated by their total friendship score. (not mean!)\n",
    "\n",
    "Total friendship score means total friendship_weigth score summed across all their friends. \n",
    "\n",
    "Example of 3 persons and 2 relationships.\n",
    "\n",
    "Alice,Bob 0.8\n",
    "\n",
    "Bob, Carol 0.7\n",
    "\n",
    "\n",
    "\n",
    "In this case Alice has a friendship Score of 0.8, Bob has a friendship score of 0.7+0.8 = 1.5  and Carol has a friendship score of 0.7. Thus the middle person here is Alice since her score is right in the middle  of 0.7, 0.8, 1.5\n",
    "\n",
    "Write an algorithm, determine its time complexity and find the answer to Roy's question.\n",
    "\n",
    "80% of the grade for an algorithm and its complexity determination.\n",
    "\n",
    "100% for an implementation in any language of your choice.\n",
    "\n",
    "Hint: There might be a better way to find a median besides the obvious one."
   ]
  },
  {
   "cell_type": "code",
   "execution_count": 2,
   "metadata": {},
   "outputs": [
    {
     "name": "stdout",
     "output_type": "stream",
     "text": [
      "('Alice', 'Bob', '0.9')\n",
      "('Alice', 'Charlie', '0.8')\n",
      "('Alice', 'David', '0.6')\n",
      "('Bob', 'Charlie', '0.7')\n",
      "('Bob', 'Eve', '0.9')\n",
      "('Bob', 'Frank', '0.8')\n",
      "('Charlie', 'David', '0.5')\n",
      "('Charlie', 'George', '0.6')\n",
      "('David', 'Harry', '0.7')\n",
      "('Eve', 'Frank', '0.8')\n",
      "('Eve', 'George', '0.9')\n",
      "('Frank', 'Isaac', '0.7')\n",
      "('George', 'Jack', '0.8')\n",
      "('Harry', 'Isaac', '0.6')\n",
      "('Harry', 'Kate', '0.9')\n",
      "('Isaac', 'Laura', '0.8')\n",
      "('Jack', 'Kate', '0.7')\n",
      "('Kate', 'Laura', '0.5')\n",
      "('Kate', 'Mike', '0.9')\n",
      "('Laura', 'Nathan', '0.8')\n",
      "('Nathan', 'Olga', '0.7')\n"
     ]
    }
   ],
   "source": [
    "# read friend_face.csv into list of tuples\n",
    "\n",
    "friend_list = []\n",
    "with open('friend_face.csv', 'r', encoding=\"utf-8\") as f:\n",
    "    # skip first line\n",
    "    next(f)  # or f.readline(), f is an iterator!\n",
    "    for line in f:\n",
    "        friend_list.append(tuple(line.strip().split(',')))\n",
    "    \n",
    "# for more difficult csv files we should use csv standard module\n",
    "# even better, use pandas which handles more complex csv files\n",
    "\n",
    "print(*friend_list, sep=\"\\n\")"
   ]
  },
  {
   "cell_type": "code",
   "execution_count": 3,
   "metadata": {},
   "outputs": [
    {
     "name": "stdout",
     "output_type": "stream",
     "text": [
      "('Alice', 'Bob', 0.9)\n",
      "('Alice', 'Charlie', 0.8)\n",
      "('Alice', 'David', 0.6)\n",
      "('Bob', 'Charlie', 0.7)\n",
      "('Bob', 'Eve', 0.9)\n",
      "('Bob', 'Frank', 0.8)\n",
      "('Charlie', 'David', 0.5)\n",
      "('Charlie', 'George', 0.6)\n",
      "('David', 'Harry', 0.7)\n",
      "('Eve', 'Frank', 0.8)\n",
      "('Eve', 'George', 0.9)\n",
      "('Frank', 'Isaac', 0.7)\n",
      "('George', 'Jack', 0.8)\n",
      "('Harry', 'Isaac', 0.6)\n",
      "('Harry', 'Kate', 0.9)\n",
      "('Isaac', 'Laura', 0.8)\n",
      "('Jack', 'Kate', 0.7)\n",
      "('Kate', 'Laura', 0.5)\n",
      "('Kate', 'Mike', 0.9)\n",
      "('Laura', 'Nathan', 0.8)\n",
      "('Nathan', 'Olga', 0.7)\n"
     ]
    }
   ],
   "source": [
    "# last value of each tuple to float\n",
    "friend_list = [(x[0], x[1], float(x[2])) for x in friend_list]\n",
    "\n",
    "# print friend_list\n",
    "print(*friend_list, sep=\"\\n\")"
   ]
  },
  {
   "cell_type": "code",
   "execution_count": 5,
   "metadata": {},
   "outputs": [
    {
     "name": "stdout",
     "output_type": "stream",
     "text": [
      "Alice 2.3000000000000003\n",
      "Bob 3.3\n",
      "Charlie 2.6\n",
      "David 1.8\n",
      "Eve 2.6\n",
      "Frank 2.3\n",
      "George 2.3\n",
      "Harry 2.1999999999999997\n",
      "Isaac 2.0999999999999996\n",
      "Jack 1.5\n",
      "Kate 3.0\n",
      "Laura 2.1\n",
      "Mike 0.9\n",
      "Nathan 1.5\n",
      "Olga 0.7\n"
     ]
    }
   ],
   "source": [
    "# create dictionary of friendship scores\n",
    "friend_dict = {}\n",
    "\n",
    "# go through all tuples and add scores to dictionary for each friend\n",
    "\n",
    "for friend in friend_list:\n",
    "    if friend[0] not in friend_dict:\n",
    "        friend_dict[friend[0]] = friend[2]\n",
    "    else:\n",
    "        friend_dict[friend[0]] += friend[2]\n",
    "    if friend[1] not in friend_dict:\n",
    "        friend_dict[friend[1]] = friend[2]\n",
    "    else:\n",
    "        friend_dict[friend[1]] += friend[2]\n",
    "\n",
    "# print friend_dict in sorted order\n",
    "\n",
    "for friend in sorted(friend_dict):\n",
    "    print(friend, friend_dict[friend])"
   ]
  },
  {
   "cell_type": "code",
   "execution_count": 7,
   "metadata": {},
   "outputs": [
    {
     "name": "stdout",
     "output_type": "stream",
     "text": [
      "('Olga', 0.7)\n",
      "('Mike', 0.9)\n",
      "('Jack', 1.5)\n",
      "('Nathan', 1.5)\n",
      "('David', 1.8)\n",
      "('Isaac', 2.0999999999999996)\n",
      "('Laura', 2.1)\n",
      "('Harry', 2.1999999999999997)\n",
      "('Frank', 2.3)\n",
      "('George', 2.3)\n",
      "('Alice', 2.3000000000000003)\n",
      "('Charlie', 2.6)\n",
      "('Eve', 2.6)\n",
      "('Kate', 3.0)\n",
      "('Bob', 3.3)\n"
     ]
    }
   ],
   "source": [
    "# lets sort friend_dict by value and save it in friend_list_sorted\n",
    "friend_list_sorted = sorted(friend_dict.items(), key=lambda x: x[1])\n",
    "\n",
    "# print friend_list_sorted\n",
    "\n",
    "print(*friend_list_sorted, sep=\"\\n\")"
   ]
  },
  {
   "cell_type": "code",
   "execution_count": 8,
   "metadata": {},
   "outputs": [
    {
     "name": "stdout",
     "output_type": "stream",
     "text": [
      "('Harry', 2.1999999999999997)\n"
     ]
    }
   ],
   "source": [
    "# print middle friend\n",
    "print(friend_list_sorted[len(friend_list_sorted)//2])\n",
    "\n",
    "# again floats are not precise, so we can use round() function to round to some decimal places"
   ]
  },
  {
   "cell_type": "markdown",
   "metadata": {},
   "source": []
  },
  {
   "attachments": {},
   "cell_type": "markdown",
   "metadata": {},
   "source": [
    "## Finding Median in Linear Time\n",
    "\n",
    "Above is a fine practical solution but its complexity is O(n log n) where n is number of friends, because of sorting step.\n",
    "We could have further improved the algorithm to find the median in linear time. \n",
    "\n",
    "* https://www.geeksforgeeks.org/median-of-an-unsorted-array-in-liner-time-on/\n",
    "* https://rcoh.me/posts/linear-time-median-finding/"
   ]
  },
  {
   "cell_type": "code",
   "execution_count": null,
   "metadata": {},
   "outputs": [],
   "source": [
    "# How would one find median value in linear time on unsorted list?\n",
    "\n",
    "\n",
    "\n",
    "\n"
   ]
  }
 ],
 "metadata": {
  "kernelspec": {
   "display_name": "Python 3",
   "language": "python",
   "name": "python3"
  },
  "language_info": {
   "codemirror_mode": {
    "name": "ipython",
    "version": 3
   },
   "file_extension": ".py",
   "mimetype": "text/x-python",
   "name": "python",
   "nbconvert_exporter": "python",
   "pygments_lexer": "ipython3",
   "version": "3.10.7"
  },
  "orig_nbformat": 4
 },
 "nbformat": 4,
 "nbformat_minor": 2
}
