{
 "cells": [
  {
   "cell_type": "markdown",
   "metadata": {},
   "source": [
    "# Maple Syrup"
   ]
  },
  {
   "cell_type": "code",
   "execution_count": 2,
   "metadata": {},
   "outputs": [
    {
     "name": "stdout",
     "output_type": "stream",
     "text": [
      "Collecting ortools\n",
      "  Obtaining dependency information for ortools from https://files.pythonhosted.org/packages/3c/38/b2e915c4b3f3bf966d2d73e69ee4c72a09452822ea912af0a506a32e2a48/ortools-9.11.4210-cp312-cp312-manylinux_2_17_x86_64.manylinux2014_x86_64.whl.metadata\n",
      "  Downloading ortools-9.11.4210-cp312-cp312-manylinux_2_17_x86_64.manylinux2014_x86_64.whl.metadata (3.0 kB)\n",
      "Collecting absl-py>=2.0.0 (from ortools)\n",
      "  Obtaining dependency information for absl-py>=2.0.0 from https://files.pythonhosted.org/packages/a2/ad/e0d3c824784ff121c03cc031f944bc7e139a8f1870ffd2845cc2dd76f6c4/absl_py-2.1.0-py3-none-any.whl.metadata\n",
      "  Downloading absl_py-2.1.0-py3-none-any.whl.metadata (2.3 kB)\n",
      "Requirement already satisfied: numpy>=1.13.3 in /workspaces/RBS_PBM771_Algorithms/venv/lib/python3.12/site-packages (from ortools) (2.1.2)\n",
      "Requirement already satisfied: pandas>=2.0.0 in /workspaces/RBS_PBM771_Algorithms/venv/lib/python3.12/site-packages (from ortools) (2.2.3)\n",
      "Collecting protobuf<5.27,>=5.26.1 (from ortools)\n",
      "  Obtaining dependency information for protobuf<5.27,>=5.26.1 from https://files.pythonhosted.org/packages/2c/2a/d2741cad35fa5f06d9c59dda3274e5727ca11075dfd7de3f69c100efdcad/protobuf-5.26.1-cp37-abi3-manylinux2014_x86_64.whl.metadata\n",
      "  Downloading protobuf-5.26.1-cp37-abi3-manylinux2014_x86_64.whl.metadata (592 bytes)\n",
      "Collecting immutabledict>=3.0.0 (from ortools)\n",
      "  Obtaining dependency information for immutabledict>=3.0.0 from https://files.pythonhosted.org/packages/e2/13/3cf4ac5b3403f3456e645c4533883ef67b1bb0c72e56b79c707715f57a74/immutabledict-4.2.0-py3-none-any.whl.metadata\n",
      "  Downloading immutabledict-4.2.0-py3-none-any.whl.metadata (3.4 kB)\n",
      "Requirement already satisfied: python-dateutil>=2.8.2 in /workspaces/RBS_PBM771_Algorithms/venv/lib/python3.12/site-packages (from pandas>=2.0.0->ortools) (2.9.0.post0)\n",
      "Requirement already satisfied: pytz>=2020.1 in /workspaces/RBS_PBM771_Algorithms/venv/lib/python3.12/site-packages (from pandas>=2.0.0->ortools) (2024.2)\n",
      "Requirement already satisfied: tzdata>=2022.7 in /workspaces/RBS_PBM771_Algorithms/venv/lib/python3.12/site-packages (from pandas>=2.0.0->ortools) (2024.2)\n",
      "Requirement already satisfied: six>=1.5 in /workspaces/RBS_PBM771_Algorithms/venv/lib/python3.12/site-packages (from python-dateutil>=2.8.2->pandas>=2.0.0->ortools) (1.16.0)\n",
      "Downloading ortools-9.11.4210-cp312-cp312-manylinux_2_17_x86_64.manylinux2014_x86_64.whl (28.1 MB)\n",
      "\u001b[2K   \u001b[90m━━━━━━━━━━━━━━━━━━━━━━━━━━━━━━━━━━━━━━━━\u001b[0m \u001b[32m28.1/28.1 MB\u001b[0m \u001b[31m27.8 MB/s\u001b[0m eta \u001b[36m0:00:00\u001b[0m:00:01\u001b[0m00:01\u001b[0m\n",
      "\u001b[?25hDownloading absl_py-2.1.0-py3-none-any.whl (133 kB)\n",
      "\u001b[2K   \u001b[90m━━━━━━━━━━━━━━━━━━━━━━━━━━━━━━━━━━━━━━━━\u001b[0m \u001b[32m133.7/133.7 kB\u001b[0m \u001b[31m3.1 MB/s\u001b[0m eta \u001b[36m0:00:00\u001b[0m:00:01\u001b[0m\n",
      "\u001b[?25hDownloading immutabledict-4.2.0-py3-none-any.whl (4.7 kB)\n",
      "Downloading protobuf-5.26.1-cp37-abi3-manylinux2014_x86_64.whl (302 kB)\n",
      "\u001b[2K   \u001b[90m━━━━━━━━━━━━━━━━━━━━━━━━━━━━━━━━━━━━━━━━\u001b[0m \u001b[32m302.8/302.8 kB\u001b[0m \u001b[31m7.0 MB/s\u001b[0m eta \u001b[36m0:00:00\u001b[0m:00:01\u001b[0m\n",
      "\u001b[?25hInstalling collected packages: protobuf, immutabledict, absl-py, ortools\n",
      "Successfully installed absl-py-2.1.0 immutabledict-4.2.0 ortools-9.11.4210 protobuf-5.26.1\n",
      "\n",
      "\u001b[1m[\u001b[0m\u001b[34;49mnotice\u001b[0m\u001b[1;39;49m]\u001b[0m\u001b[39;49m A new release of pip is available: \u001b[0m\u001b[31;49m23.2.1\u001b[0m\u001b[39;49m -> \u001b[0m\u001b[32;49m24.3.1\u001b[0m\n",
      "\u001b[1m[\u001b[0m\u001b[34;49mnotice\u001b[0m\u001b[1;39;49m]\u001b[0m\u001b[39;49m To update, run: \u001b[0m\u001b[32;49mpip install --upgrade pip\u001b[0m\n"
     ]
    }
   ],
   "source": [
    "!pip install ortools"
   ]
  },
  {
   "cell_type": "code",
   "execution_count": 3,
   "metadata": {},
   "outputs": [],
   "source": [
    "try:\n",
    "    from ortools.graph.python import max_flow\n",
    "except ImportError:\n",
    "    print(\"Please install ortools with the following command: pip install ortools\")\n",
    "    raise ImportError(\"Please install ortools with the following command: pip install ortools\")\n",
    "\n",
    "\n",
    "#source: https://developers.google.com/optimization/flow/maxflow\n",
    "def main():\n",
    "    \"\"\"MaxFlow simple interface example.\"\"\"\n",
    "    # Instantiate a SimpleMaxFlow solver.\n",
    "    smf = max_flow.SimpleMaxFlow()\n",
    "\n",
    "    start_nodes = []\n",
    "    end_nodes = []\n",
    "    capacities = []\n",
    "\n",
    "    with open('canadian_cities.txt', 'r') as file:\n",
    "        data = [line.strip().split() for line in file]\n",
    "\n",
    "        for entry in data:\n",
    "            start_nodes.append(entry[0])\n",
    "            end_nodes.append(entry[1])\n",
    "            capacities.append(int(entry[2]))  \n",
    "\n",
    "    # Create a set of unique city names\n",
    "    city_names = set(start_nodes + end_nodes)\n",
    "\n",
    "    # Create a mapping from city names to integer IDs\n",
    "    city_to_id = {city: idx for idx, city in enumerate(city_names)}\n",
    "    id_to_city = {idx: city for city, idx in city_to_id.items()}\n",
    "\n",
    "    # Replace city names with integer IDs in start_nodes and end_nodes\n",
    "    start_node_ids = [city_to_id[city] for city in start_nodes]\n",
    "    end_node_ids = [city_to_id[city] for city in end_nodes]\n",
    "\n",
    "    # Add arcs in bulk.\n",
    "    # Note: We could have used add_arc_with_capacity(start, end, capacity)\n",
    "    all_arcs = smf.add_arcs_with_capacity(start_node_ids, end_node_ids, capacities)\n",
    "\n",
    "    # Define the source and sink nodes (replace 'Argentia' and 'Inuvik' with your actual source and sink)\n",
    "    source_city = 'Argentia'\n",
    "    sink_city = 'Inuvik'\n",
    "    source = city_to_id[source_city]\n",
    "    sink = city_to_id[sink_city]\n",
    "\n",
    "    # Find the maximum flow between the source and sink nodes\n",
    "    status = smf.solve(source, sink)\n",
    "\n",
    "    if status != smf.OPTIMAL:\n",
    "        print(\"There was an issue with the max flow input.\")\n",
    "        print(f\"Status: {status}\")\n",
    "        exit(1)\n",
    "\n",
    "    print(f\"Max flow from {source_city} to {sink_city}: {smf.optimal_flow()}\\n\")\n",
    "    print(\" Arc    Flow / Capacity\")\n",
    "    solution_flows = smf.flows(all_arcs)\n",
    "    for arc, flow, capacity in zip(all_arcs, solution_flows, capacities):\n",
    "        tail_city = id_to_city[smf.tail(arc)]\n",
    "        head_city = id_to_city[smf.head(arc)]\n",
    "        print(f\"{tail_city} -> {head_city}   {flow:3}  / {capacity:3}\")\n",
    "\n",
    "    print(\"\\nSource side min-cut:\", [id_to_city[node] for node in smf.get_source_side_min_cut()])\n",
    "    print(\"Sink side min-cut:\", [id_to_city[node] for node in smf.get_sink_side_min_cut()])\n",
    "\n",
    "# if __name__ == \"__main__\":\n",
    "#     main()\n"
   ]
  },
  {
   "cell_type": "code",
   "execution_count": 4,
   "metadata": {},
   "outputs": [
    {
     "name": "stdout",
     "output_type": "stream",
     "text": [
      "Max flow from Argentia to Inuvik: 2500\n",
      "\n",
      " Arc    Flow / Capacity\n",
      "Argentia -> Brandon   1700  / 2000\n",
      "Argentia -> Calgary   800  / 1500\n",
      "Brandon -> Dartmouth   700  / 1500\n",
      "Brandon -> Edmonton   1000  / 1000\n",
      "Calgary -> Fredericton     0  / 500\n",
      "Calgary -> Edmonton   800  / 2000\n",
      "Dartmouth -> Guelph   300  / 800\n",
      "Edmonton -> Halifax   800  / 1200\n",
      "Fredericton -> Guelph   400  / 600\n",
      "Guelph -> Halifax   700  / 700\n",
      "Halifax -> Inuvik   1500  / 1500\n",
      "Edmonton -> Inuvik   1000  / 1000\n",
      "Dartmouth -> Fredericton   400  / 400\n",
      "Calgary -> Dartmouth     0  / 1000\n",
      "\n",
      "Source side min-cut: ['Argentia', 'Brandon', 'Calgary', 'Dartmouth', 'Fredericton', 'Edmonton', 'Guelph', 'Halifax']\n",
      "Sink side min-cut: ['Inuvik']\n"
     ]
    }
   ],
   "source": [
    "main()"
   ]
  },
  {
   "cell_type": "markdown",
   "metadata": {},
   "source": [
    "## Hand rolled Ford - Fulkerson approach"
   ]
  },
  {
   "cell_type": "code",
   "execution_count": 7,
   "metadata": {},
   "outputs": [],
   "source": [
    "\n",
    "\n",
    "\n",
    "class Graph:\n",
    "    def __init__(self):\n",
    "        self.adjacency_list={}\n",
    "\n",
    "    def add_node(self, node):\n",
    "        if node not in self.adjacency_list:\n",
    "            self.adjacency_list[node]=[]\n",
    "\n",
    "    def add_edge(self, from_node, to_node, capacity):\n",
    "        self.add_node(from_node)\n",
    "        self.add_node(to_node)\n",
    "        self.adjacency_list[from_node].append((to_node, capacity))\n",
    "\n",
    "    def get_neighbours(self, node):\n",
    "        return self.adjacency_list.get(node, [])\n",
    "\n",
    "    def __str__(self):\n",
    "        return str(self.adjacency_list)\n",
    "\n",
    "\n",
    "def dfs(graph, current_node, target_node, path_flow, flow_graph, visited=None):\n",
    "    if visited is None:\n",
    "        visited = set()\n",
    "\n",
    "    if current_node == target_node:\n",
    "        return path_flow\n",
    "    visited.add(current_node)\n",
    "\n",
    "    for neighbor, capacity in graph.get_neighbours(current_node):\n",
    "        if neighbor not in flow_graph[current_node]:\n",
    "            flow_graph[current_node][neighbor] = 0\n",
    "        if current_node not in flow_graph[neighbor]:\n",
    "            flow_graph[neighbor][current_node] = 0\n",
    "\n",
    "        residual_capacity = capacity - flow_graph[current_node][neighbor]\n",
    "        if neighbor not in visited and residual_capacity > 0:\n",
    "            min_capacity = min(path_flow, residual_capacity)\n",
    "            result = dfs(graph, neighbor, target_node, min_capacity, flow_graph, visited)\n",
    "            if result > 0:\n",
    "                flow_graph[current_node][neighbor] += result\n",
    "                flow_graph[neighbor][current_node] -= result\n",
    "                return result\n",
    "    return 0\n",
    "\n",
    "def ford_fulkerson(graph, source, sink):\n",
    "    flow_graph = {node: {} for node in graph.adjacency_list}\n",
    "    for u in graph.adjacency_list:\n",
    "        for v, _ in graph.adjacency_list[u]:\n",
    "            flow_graph[u][v] = 0\n",
    "\n",
    "    max_flow = 0\n",
    "\n",
    "    while True:\n",
    "        path_flow = dfs(graph, source, sink, float('Inf'), flow_graph, visited=set())\n",
    "        if path_flow == 0:\n",
    "            break\n",
    "        max_flow += path_flow\n",
    "\n",
    "    return max_flow, flow_graph\n",
    "def initialize_graph(filename):\n",
    "    graph = Graph()\n",
    "    with open(filename, 'r') as file:\n",
    "        for line in file:\n",
    "            entry = line.split(\" \")\n",
    "            from_city = entry[0]\n",
    "            to_city = entry[1]\n",
    "            capacity = int(entry[2])\n",
    "\n",
    "            graph.add_edge(from_city,to_city,capacity)\n",
    "    return graph\n",
    "\n",
    "def run_ff(filename, source, sink):\n",
    "    graph = initialize_graph(filename)\n",
    "    return ford_fulkerson(graph, source, sink)\n"
   ]
  },
  {
   "cell_type": "code",
   "execution_count": 9,
   "metadata": {},
   "outputs": [
    {
     "name": "stdout",
     "output_type": "stream",
     "text": [
      "Max flow: 2500\n",
      "Flow graph:\n",
      "Argentia: {'Brandon': 1700, 'Calgary': 800}\n",
      "Brandon: {'Dartmouth': 700, 'Edmonton': 1000, 'Argentia': -1700}\n",
      "Calgary: {'Fredericton': 0, 'Edmonton': 800, 'Dartmouth': 0, 'Argentia': -800}\n",
      "Dartmouth: {'Guelph': 700, 'Fredericton': 0, 'Brandon': -700, 'Calgary': 0}\n",
      "Edmonton: {'Halifax': 800, 'Inuvik': 1000, 'Brandon': -1000, 'Calgary': -800}\n",
      "Fredericton: {'Guelph': 0, 'Dartmouth': 0, 'Calgary': 0}\n",
      "Guelph: {'Halifax': 700, 'Dartmouth': -700, 'Fredericton': 0}\n",
      "Halifax: {'Inuvik': 1500, 'Guelph': -700, 'Edmonton': -800}\n",
      "Inuvik: {'Halifax': -1500, 'Edmonton': -1000}\n"
     ]
    }
   ],
   "source": [
    "flow, flow_graph = run_ff('canadian_cities.txt', 'Argentia', 'Inuvik')\n",
    "print(f\"Max flow: {flow}\")\n",
    "print(\"Flow graph:\")\n",
    "for node in flow_graph:\n",
    "    print(f\"{node}: {flow_graph[node]}\")"
   ]
  },
  {
   "cell_type": "markdown",
   "metadata": {},
   "source": [
    "## Visualization of our flows"
   ]
  },
  {
   "cell_type": "code",
   "execution_count": 10,
   "metadata": {},
   "outputs": [
    {
     "data": {
      "image/png": "[encoded data removed]",
      "text/plain": [
       "<Figure size 640x480 with 1 Axes>"
      ]
     },
     "metadata": {},
     "output_type": "display_data"
    }
   ],
   "source": [
    "# we want to plot the graph with Argentia as the source on the left\n",
    "# and Inuvik as the sink on the right\n",
    "\n",
    "import networkx as nx\n",
    "import matplotlib.pyplot as plt\n",
    "\n",
    "G = nx.DiGraph()\n",
    "\n",
    "with open('canadian_cities.txt', 'r') as file:\n",
    "    data = [line.strip().split() for line in file]\n",
    "\n",
    "for entry in data:\n",
    "    G.add_edge(entry[0], entry[1], capacity=int(entry[2]))\n",
    "pos = nx.spring_layout(G)\n",
    "edge_labels = {(u, v): d['capacity'] for u, v, d in G.edges(data=True)}\n",
    "nx.draw_networkx_edge_labels(G, pos, edge_labels=edge_labels)\n",
    "nx.draw(G, pos, with_labels=True, node_size=2000, node_color='lightblue')\n",
    "plt.show()\n"
   ]
  },
  {
   "cell_type": "code",
   "execution_count": 11,
   "metadata": {},
   "outputs": [
    {
     "data": {
      "image/png": "[encoded data removed]",
      "text/plain": [
       "<Figure size 640x480 with 1 Axes>"
      ]
     },
     "metadata": {},
     "output_type": "display_data"
    }
   ],
   "source": [
    "# let's plot the flow graph\n",
    "flow_graph_nx = nx.DiGraph()\n",
    "for u in flow_graph:\n",
    "    for v in flow_graph[u]:\n",
    "        flow_graph_nx.add_edge(u, v, capacity=flow_graph[u][v])\n",
    "\n",
    "pos = nx.spring_layout(flow_graph_nx)\n",
    "edge_labels = {(u, v): d['capacity'] for u, v, d in flow_graph_nx.edges(data=True)}\n",
    "nx.draw_networkx_edge_labels(flow_graph_nx, pos, edge_labels=edge_labels)\n",
    "nx.draw(flow_graph_nx, pos, with_labels=True, node_size=2000, node_color='lightblue')\n",
    "plt.show()"
   ]
  },
  {
   "cell_type": "code",
   "execution_count": 13,
   "metadata": {},
   "outputs": [
    {
     "name": "stdout",
     "output_type": "stream",
     "text": [
      "Flow graph:\n",
      "Argentia: {'Brandon': 1700, 'Calgary': 800}\n",
      "Brandon: {'Dartmouth': 700, 'Edmonton': 1000, 'Argentia': -1700}\n",
      "Calgary: {'Fredericton': 0, 'Edmonton': 800, 'Dartmouth': 0, 'Argentia': -800}\n",
      "Dartmouth: {'Guelph': 700, 'Fredericton': 0, 'Brandon': -700, 'Calgary': 0}\n",
      "Edmonton: {'Halifax': 800, 'Inuvik': 1000, 'Brandon': -1000, 'Calgary': -800}\n",
      "Fredericton: {'Guelph': 0, 'Dartmouth': 0, 'Calgary': 0}\n",
      "Guelph: {'Halifax': 700, 'Dartmouth': -700, 'Fredericton': 0}\n",
      "Halifax: {'Inuvik': 1500, 'Guelph': -700, 'Edmonton': -800}\n",
      "Inuvik: {'Halifax': -1500, 'Edmonton': -1000}\n"
     ]
    }
   ],
   "source": [
    "# let's print flow graph again\n",
    "print(\"Flow graph:\")\n",
    "for node in flow_graph:\n",
    "    print(f\"{node}: {flow_graph[node]}\")"
   ]
  },
  {
   "cell_type": "code",
   "execution_count": 14,
   "metadata": {},
   "outputs": [
    {
     "name": "stdout",
     "output_type": "stream",
     "text": [
      "Positive flow graph:\n",
      "Argentia: {'Brandon': 1700, 'Calgary': 800}\n",
      "Brandon: {'Dartmouth': 700, 'Edmonton': 1000}\n",
      "Calgary: {'Fredericton': 0, 'Edmonton': 800, 'Dartmouth': 0}\n",
      "Dartmouth: {'Guelph': 700, 'Fredericton': 0, 'Calgary': 0}\n",
      "Edmonton: {'Halifax': 800, 'Inuvik': 1000}\n",
      "Fredericton: {'Guelph': 0, 'Dartmouth': 0, 'Calgary': 0}\n",
      "Guelph: {'Halifax': 700, 'Fredericton': 0}\n",
      "Halifax: {'Inuvik': 1500}\n",
      "Inuvik: {}\n"
     ]
    }
   ],
   "source": [
    "# let's plot all cities as scatter plot\n",
    "# we will connect the cities with the flow values using arrows\n",
    "\n",
    "# first let's remove negative values from the flow graph\n",
    "flow_graph_positive = {u: {v: flow_graph[u][v] for v in flow_graph[u] if flow_graph[u][v] >= 0} for u in flow_graph}\n",
    "\n",
    "# let's print positive flow graph\n",
    "print(\"Positive flow graph:\")\n",
    "for node in flow_graph_positive:\n",
    "    print(f\"{node}: {flow_graph_positive[node]}\")\n"
   ]
  },
  {
   "cell_type": "code",
   "execution_count": 18,
   "metadata": {},
   "outputs": [
    {
     "name": "stdout",
     "output_type": "stream",
     "text": [
      "City positions:\n",
      "Argentia: (50, 400)\n",
      "Inuvik: (550, 400)\n",
      "Brandon: (100.0, 600)\n",
      "Calgary: (157.14285714285714, 200)\n",
      "Dartmouth: (214.28571428571428, 600)\n",
      "Edmonton: (271.42857142857144, 200)\n",
      "Fredericton: (328.57142857142856, 600)\n",
      "Guelph: (385.7142857142857, 200)\n",
      "Halifax: (442.85714285714283, 600)\n"
     ]
    }
   ],
   "source": [
    "# now let's plot the cities as scatter plot using Plotly\n",
    "# we will connect the cities with the flow values using arrows\n",
    "\n",
    "\n",
    "cities = list(flow_graph_positive.keys())\n",
    "\n",
    "# our placement will be Argentia on the left and Inuvik on the right \n",
    "# the other cities will be placed in two rows in the middle\n",
    "\n",
    "# so if we have 600 width and 800 height then Argentinia will be at (50, 400) and Inuvik at (550, 400)\n",
    "\n",
    "# the other cities will be placed in two rows in the middle\n",
    "\n",
    "# let's calculate the positions of the cities\n",
    "import numpy as np\n",
    "\n",
    "width = 600\n",
    "height = 800\n",
    "\n",
    "# so let's create a dictionary of city positions\n",
    "city_positions = {\n",
    "    'Argentia': (50, 400),\n",
    "    'Inuvik': (550, 400)\n",
    "}\n",
    "\n",
    "# let's calculate the positions of the other cities\n",
    "cities_middle = cities[1:-1]\n",
    "n = len(cities_middle)\n",
    "for i, city in enumerate(cities_middle):\n",
    "    x = 100 + i * 400 / n\n",
    "    y = 600 if i % 2 == 0 else 200\n",
    "    city_positions[city] = (x, y)\n",
    "\n",
    "# let's print the city positions\n",
    "print(\"City positions:\")\n",
    "for city in city_positions:\n",
    "    print(f\"{city}: {city_positions[city]}\")\n",
    "    \n",
    "\n"
   ]
  },
  {
   "cell_type": "code",
   "execution_count": 22,
   "metadata": {},
   "outputs": [
    {
     "data": {
      "application/vnd.plotly.v1+json": {
       "config": {
        "plotlyServerURL": "https://plot.ly"
       },
       "data": [
        {
         "hovertemplate": "x=%{x}<br>y=%{y}<br>text=%{text}<extra></extra>",
         "legendgroup": "",
         "marker": {
          "color": "#636efa",
          "symbol": "circle"
         },
         "mode": "markers+text",
         "name": "",
         "orientation": "v",
         "showlegend": false,
         "text": [
          "Argentia",
          "Inuvik",
          "Brandon",
          "Calgary",
          "Dartmouth",
          "Edmonton",
          "Fredericton",
          "Guelph",
          "Halifax"
         ],
         "textposition": "top center",
         "type": "scatter",
         "x": [
          50,
          550,
          100,
          157.14285714285714,
          214.28571428571428,
          271.42857142857144,
          328.57142857142856,
          385.7142857142857,
          442.85714285714283
         ],
         "xaxis": "x",
         "y": [
          400,
          400,
          600,
          200,
          600,
          200,
          600,
          200,
          600
         ],
         "yaxis": "y"
        }
       ],
       "layout": {
        "annotations": [
         {
          "font": {
           "color": "black",
           "size": 10
          },
          "showarrow": false,
          "text": "1700",
          "x": 75,
          "y": 500
         },
         {
          "font": {
           "color": "black",
           "size": 10
          },
          "showarrow": false,
          "text": "800",
          "x": 103.57142857142857,
          "y": 300
         },
         {
          "font": {
           "color": "black",
           "size": 10
          },
          "showarrow": false,
          "text": "700",
          "x": 157.14285714285714,
          "y": 600
         },
         {
          "font": {
           "color": "black",
           "size": 10
          },
          "showarrow": false,
          "text": "1000",
          "x": 185.71428571428572,
          "y": 400
         },
         {
          "font": {
           "color": "black",
           "size": 10
          },
          "showarrow": false,
          "text": "0",
          "x": 242.85714285714283,
          "y": 400
         },
         {
          "font": {
           "color": "black",
           "size": 10
          },
          "showarrow": false,
          "text": "800",
          "x": 214.28571428571428,
          "y": 200
         },
         {
          "font": {
           "color": "black",
           "size": 10
          },
          "showarrow": false,
          "text": "0",
          "x": 185.71428571428572,
          "y": 400
         },
         {
          "font": {
           "color": "black",
           "size": 10
          },
          "showarrow": false,
          "text": "700",
          "x": 300,
          "y": 400
         },
         {
          "font": {
           "color": "black",
           "size": 10
          },
          "showarrow": false,
          "text": "0",
          "x": 271.42857142857144,
          "y": 600
         },
         {
          "font": {
           "color": "black",
           "size": 10
          },
          "showarrow": false,
          "text": "0",
          "x": 185.71428571428572,
          "y": 400
         },
         {
          "font": {
           "color": "black",
           "size": 10
          },
          "showarrow": false,
          "text": "800",
          "x": 357.1428571428571,
          "y": 400
         },
         {
          "font": {
           "color": "black",
           "size": 10
          },
          "showarrow": false,
          "text": "1000",
          "x": 410.7142857142857,
          "y": 300
         },
         {
          "font": {
           "color": "black",
           "size": 10
          },
          "showarrow": false,
          "text": "0",
          "x": 357.1428571428571,
          "y": 400
         },
         {
          "font": {
           "color": "black",
           "size": 10
          },
          "showarrow": false,
          "text": "0",
          "x": 271.42857142857144,
          "y": 600
         },
         {
          "font": {
           "color": "black",
           "size": 10
          },
          "showarrow": false,
          "text": "0",
          "x": 242.85714285714283,
          "y": 400
         },
         {
          "font": {
           "color": "black",
           "size": 10
          },
          "showarrow": false,
          "text": "700",
          "x": 414.2857142857143,
          "y": 400
         },
         {
          "font": {
           "color": "black",
           "size": 10
          },
          "showarrow": false,
          "text": "0",
          "x": 357.1428571428571,
          "y": 400
         },
         {
          "font": {
           "color": "black",
           "size": 10
          },
          "showarrow": false,
          "text": "1500",
          "x": 496.42857142857144,
          "y": 500
         }
        ],
        "legend": {
         "tracegroupgap": 0
        },
        "margin": {
         "t": 60
        },
        "shapes": [
         {
          "line": {
           "color": "black",
           "width": 1
          },
          "opacity": 0.5,
          "type": "line",
          "x0": 50,
          "x1": 100,
          "y0": 400,
          "y1": 600
         },
         {
          "line": {
           "color": "black",
           "width": 1
          },
          "opacity": 0.5,
          "type": "line",
          "x0": 50,
          "x1": 157.14285714285714,
          "y0": 400,
          "y1": 200
         },
         {
          "line": {
           "color": "black",
           "width": 1
          },
          "opacity": 0.5,
          "type": "line",
          "x0": 100,
          "x1": 214.28571428571428,
          "y0": 600,
          "y1": 600
         },
         {
          "line": {
           "color": "black",
           "width": 1
          },
          "opacity": 0.5,
          "type": "line",
          "x0": 100,
          "x1": 271.42857142857144,
          "y0": 600,
          "y1": 200
         },
         {
          "line": {
           "color": "black",
           "width": 1
          },
          "opacity": 0.5,
          "type": "line",
          "x0": 157.14285714285714,
          "x1": 328.57142857142856,
          "y0": 200,
          "y1": 600
         },
         {
          "line": {
           "color": "black",
           "width": 1
          },
          "opacity": 0.5,
          "type": "line",
          "x0": 157.14285714285714,
          "x1": 271.42857142857144,
          "y0": 200,
          "y1": 200
         },
         {
          "line": {
           "color": "black",
           "width": 1
          },
          "opacity": 0.5,
          "type": "line",
          "x0": 157.14285714285714,
          "x1": 214.28571428571428,
          "y0": 200,
          "y1": 600
         },
         {
          "line": {
           "color": "black",
           "width": 1
          },
          "opacity": 0.5,
          "type": "line",
          "x0": 214.28571428571428,
          "x1": 385.7142857142857,
          "y0": 600,
          "y1": 200
         },
         {
          "line": {
           "color": "black",
           "width": 1
          },
          "opacity": 0.5,
          "type": "line",
          "x0": 214.28571428571428,
          "x1": 328.57142857142856,
          "y0": 600,
          "y1": 600
         },
         {
          "line": {
           "color": "black",
           "width": 1
          },
          "opacity": 0.5,
          "type": "line",
          "x0": 214.28571428571428,
          "x1": 157.14285714285714,
          "y0": 600,
          "y1": 200
         },
         {
          "line": {
           "color": "black",
           "width": 1
          },
          "opacity": 0.5,
          "type": "line",
          "x0": 271.42857142857144,
          "x1": 442.85714285714283,
          "y0": 200,
          "y1": 600
         },
         {
          "line": {
           "color": "black",
           "width": 1
          },
          "opacity": 0.5,
          "type": "line",
          "x0": 271.42857142857144,
          "x1": 550,
          "y0": 200,
          "y1": 400
         },
         {
          "line": {
           "color": "black",
           "width": 1
          },
          "opacity": 0.5,
          "type": "line",
          "x0": 328.57142857142856,
          "x1": 385.7142857142857,
          "y0": 600,
          "y1": 200
         },
         {
          "line": {
           "color": "black",
           "width": 1
          },
          "opacity": 0.5,
          "type": "line",
          "x0": 328.57142857142856,
          "x1": 214.28571428571428,
          "y0": 600,
          "y1": 600
         },
         {
          "line": {
           "color": "black",
           "width": 1
          },
          "opacity": 0.5,
          "type": "line",
          "x0": 328.57142857142856,
          "x1": 157.14285714285714,
          "y0": 600,
          "y1": 200
         },
         {
          "line": {
           "color": "black",
           "width": 1
          },
          "opacity": 0.5,
          "type": "line",
          "x0": 385.7142857142857,
          "x1": 442.85714285714283,
          "y0": 200,
          "y1": 600
         },
         {
          "line": {
           "color": "black",
           "width": 1
          },
          "opacity": 0.5,
          "type": "line",
          "x0": 385.7142857142857,
          "x1": 328.57142857142856,
          "y0": 200,
          "y1": 600
         },
         {
          "line": {
           "color": "black",
           "width": 1
          },
          "opacity": 0.5,
          "type": "line",
          "x0": 442.85714285714283,
          "x1": 550,
          "y0": 600,
          "y1": 400
         }
        ],
        "showlegend": false,
        "template": {
         "data": {
          "bar": [
           {
            "error_x": {
             "color": "#2a3f5f"
            },
            "error_y": {
             "color": "#2a3f5f"
            },
            "marker": {
             "line": {
              "color": "#E5ECF6",
              "width": 0.5
             },
             "pattern": {
              "fillmode": "overlay",
              "size": 10,
              "solidity": 0.2
             }
            },
            "type": "bar"
           }
          ],
          "barpolar": [
           {
            "marker": {
             "line": {
              "color": "#E5ECF6",
              "width": 0.5
             },
             "pattern": {
              "fillmode": "overlay",
              "size": 10,
              "solidity": 0.2
             }
            },
            "type": "barpolar"
           }
          ],
          "carpet": [
           {
            "aaxis": {
             "endlinecolor": "#2a3f5f",
             "gridcolor": "white",
             "linecolor": "white",
             "minorgridcolor": "white",
             "startlinecolor": "#2a3f5f"
            },
            "baxis": {
             "endlinecolor": "#2a3f5f",
             "gridcolor": "white",
             "linecolor": "white",
             "minorgridcolor": "white",
             "startlinecolor": "#2a3f5f"
            },
            "type": "carpet"
           }
          ],
          "choropleth": [
           {
            "colorbar": {
             "outlinewidth": 0,
             "ticks": ""
            },
            "type": "choropleth"
           }
          ],
          "contour": [
           {
            "colorbar": {
             "outlinewidth": 0,
             "ticks": ""
            },
            "colorscale": [
             [
              0,
              "#0d0887"
             ],
             [
              0.1111111111111111,
              "#46039f"
             ],
             [
              0.2222222222222222,
              "#7201a8"
             ],
             [
              0.3333333333333333,
              "#9c179e"
             ],
             [
              0.4444444444444444,
              "#bd3786"
             ],
             [
              0.5555555555555556,
              "#d8576b"
             ],
             [
              0.6666666666666666,
              "#ed7953"
             ],
             [
              0.7777777777777778,
              "#fb9f3a"
             ],
             [
              0.8888888888888888,
              "#fdca26"
             ],
             [
              1,
              "#f0f921"
             ]
            ],
            "type": "contour"
           }
          ],
          "contourcarpet": [
           {
            "colorbar": {
             "outlinewidth": 0,
             "ticks": ""
            },
            "type": "contourcarpet"
           }
          ],
          "heatmap": [
           {
            "colorbar": {
             "outlinewidth": 0,
             "ticks": ""
            },
            "colorscale": [
             [
              0,
              "#0d0887"
             ],
             [
              0.1111111111111111,
              "#46039f"
             ],
             [
              0.2222222222222222,
              "#7201a8"
             ],
             [
              0.3333333333333333,
              "#9c179e"
             ],
             [
              0.4444444444444444,
              "#bd3786"
             ],
             [
              0.5555555555555556,
              "#d8576b"
             ],
             [
              0.6666666666666666,
              "#ed7953"
             ],
             [
              0.7777777777777778,
              "#fb9f3a"
             ],
             [
              0.8888888888888888,
              "#fdca26"
             ],
             [
              1,
              "#f0f921"
             ]
            ],
            "type": "heatmap"
           }
          ],
          "heatmapgl": [
           {
            "colorbar": {
             "outlinewidth": 0,
             "ticks": ""
            },
            "colorscale": [
             [
              0,
              "#0d0887"
             ],
             [
              0.1111111111111111,
              "#46039f"
             ],
             [
              0.2222222222222222,
              "#7201a8"
             ],
             [
              0.3333333333333333,
              "#9c179e"
             ],
             [
              0.4444444444444444,
              "#bd3786"
             ],
             [
              0.5555555555555556,
              "#d8576b"
             ],
             [
              0.6666666666666666,
              "#ed7953"
             ],
             [
              0.7777777777777778,
              "#fb9f3a"
             ],
             [
              0.8888888888888888,
              "#fdca26"
             ],
             [
              1,
              "#f0f921"
             ]
            ],
            "type": "heatmapgl"
           }
          ],
          "histogram": [
           {
            "marker": {
             "pattern": {
              "fillmode": "overlay",
              "size": 10,
              "solidity": 0.2
             }
            },
            "type": "histogram"
           }
          ],
          "histogram2d": [
           {
            "colorbar": {
             "outlinewidth": 0,
             "ticks": ""
            },
            "colorscale": [
             [
              0,
              "#0d0887"
             ],
             [
              0.1111111111111111,
              "#46039f"
             ],
             [
              0.2222222222222222,
              "#7201a8"
             ],
             [
              0.3333333333333333,
              "#9c179e"
             ],
             [
              0.4444444444444444,
              "#bd3786"
             ],
             [
              0.5555555555555556,
              "#d8576b"
             ],
             [
              0.6666666666666666,
              "#ed7953"
             ],
             [
              0.7777777777777778,
              "#fb9f3a"
             ],
             [
              0.8888888888888888,
              "#fdca26"
             ],
             [
              1,
              "#f0f921"
             ]
            ],
            "type": "histogram2d"
           }
          ],
          "histogram2dcontour": [
           {
            "colorbar": {
             "outlinewidth": 0,
             "ticks": ""
            },
            "colorscale": [
             [
              0,
              "#0d0887"
             ],
             [
              0.1111111111111111,
              "#46039f"
             ],
             [
              0.2222222222222222,
              "#7201a8"
             ],
             [
              0.3333333333333333,
              "#9c179e"
             ],
             [
              0.4444444444444444,
              "#bd3786"
             ],
             [
              0.5555555555555556,
              "#d8576b"
             ],
             [
              0.6666666666666666,
              "#ed7953"
             ],
             [
              0.7777777777777778,
              "#fb9f3a"
             ],
             [
              0.8888888888888888,
              "#fdca26"
             ],
             [
              1,
              "#f0f921"
             ]
            ],
            "type": "histogram2dcontour"
           }
          ],
          "mesh3d": [
           {
            "colorbar": {
             "outlinewidth": 0,
             "ticks": ""
            },
            "type": "mesh3d"
           }
          ],
          "parcoords": [
           {
            "line": {
             "colorbar": {
              "outlinewidth": 0,
              "ticks": ""
             }
            },
            "type": "parcoords"
           }
          ],
          "pie": [
           {
            "automargin": true,
            "type": "pie"
           }
          ],
          "scatter": [
           {
            "fillpattern": {
             "fillmode": "overlay",
             "size": 10,
             "solidity": 0.2
            },
            "type": "scatter"
           }
          ],
          "scatter3d": [
           {
            "line": {
             "colorbar": {
              "outlinewidth": 0,
              "ticks": ""
             }
            },
            "marker": {
             "colorbar": {
              "outlinewidth": 0,
              "ticks": ""
             }
            },
            "type": "scatter3d"
           }
          ],
          "scattercarpet": [
           {
            "marker": {
             "colorbar": {
              "outlinewidth": 0,
              "ticks": ""
             }
            },
            "type": "scattercarpet"
           }
          ],
          "scattergeo": [
           {
            "marker": {
             "colorbar": {
              "outlinewidth": 0,
              "ticks": ""
             }
            },
            "type": "scattergeo"
           }
          ],
          "scattergl": [
           {
            "marker": {
             "colorbar": {
              "outlinewidth": 0,
              "ticks": ""
             }
            },
            "type": "scattergl"
           }
          ],
          "scattermapbox": [
           {
            "marker": {
             "colorbar": {
              "outlinewidth": 0,
              "ticks": ""
             }
            },
            "type": "scattermapbox"
           }
          ],
          "scatterpolar": [
           {
            "marker": {
             "colorbar": {
              "outlinewidth": 0,
              "ticks": ""
             }
            },
            "type": "scatterpolar"
           }
          ],
          "scatterpolargl": [
           {
            "marker": {
             "colorbar": {
              "outlinewidth": 0,
              "ticks": ""
             }
            },
            "type": "scatterpolargl"
           }
          ],
          "scatterternary": [
           {
            "marker": {
             "colorbar": {
              "outlinewidth": 0,
              "ticks": ""
             }
            },
            "type": "scatterternary"
           }
          ],
          "surface": [
           {
            "colorbar": {
             "outlinewidth": 0,
             "ticks": ""
            },
            "colorscale": [
             [
              0,
              "#0d0887"
             ],
             [
              0.1111111111111111,
              "#46039f"
             ],
             [
              0.2222222222222222,
              "#7201a8"
             ],
             [
              0.3333333333333333,
              "#9c179e"
             ],
             [
              0.4444444444444444,
              "#bd3786"
             ],
             [
              0.5555555555555556,
              "#d8576b"
             ],
             [
              0.6666666666666666,
              "#ed7953"
             ],
             [
              0.7777777777777778,
              "#fb9f3a"
             ],
             [
              0.8888888888888888,
              "#fdca26"
             ],
             [
              1,
              "#f0f921"
             ]
            ],
            "type": "surface"
           }
          ],
          "table": [
           {
            "cells": {
             "fill": {
              "color": "#EBF0F8"
             },
             "line": {
              "color": "white"
             }
            },
            "header": {
             "fill": {
              "color": "#C8D4E3"
             },
             "line": {
              "color": "white"
             }
            },
            "type": "table"
           }
          ]
         },
         "layout": {
          "annotationdefaults": {
           "arrowcolor": "#2a3f5f",
           "arrowhead": 0,
           "arrowwidth": 1
          },
          "autotypenumbers": "strict",
          "coloraxis": {
           "colorbar": {
            "outlinewidth": 0,
            "ticks": ""
           }
          },
          "colorscale": {
           "diverging": [
            [
             0,
             "#8e0152"
            ],
            [
             0.1,
             "#c51b7d"
            ],
            [
             0.2,
             "#de77ae"
            ],
            [
             0.3,
             "#f1b6da"
            ],
            [
             0.4,
             "#fde0ef"
            ],
            [
             0.5,
             "#f7f7f7"
            ],
            [
             0.6,
             "#e6f5d0"
            ],
            [
             0.7,
             "#b8e186"
            ],
            [
             0.8,
             "#7fbc41"
            ],
            [
             0.9,
             "#4d9221"
            ],
            [
             1,
             "#276419"
            ]
           ],
           "sequential": [
            [
             0,
             "#0d0887"
            ],
            [
             0.1111111111111111,
             "#46039f"
            ],
            [
             0.2222222222222222,
             "#7201a8"
            ],
            [
             0.3333333333333333,
             "#9c179e"
            ],
            [
             0.4444444444444444,
             "#bd3786"
            ],
            [
             0.5555555555555556,
             "#d8576b"
            ],
            [
             0.6666666666666666,
             "#ed7953"
            ],
            [
             0.7777777777777778,
             "#fb9f3a"
            ],
            [
             0.8888888888888888,
             "#fdca26"
            ],
            [
             1,
             "#f0f921"
            ]
           ],
           "sequentialminus": [
            [
             0,
             "#0d0887"
            ],
            [
             0.1111111111111111,
             "#46039f"
            ],
            [
             0.2222222222222222,
             "#7201a8"
            ],
            [
             0.3333333333333333,
             "#9c179e"
            ],
            [
             0.4444444444444444,
             "#bd3786"
            ],
            [
             0.5555555555555556,
             "#d8576b"
            ],
            [
             0.6666666666666666,
             "#ed7953"
            ],
            [
             0.7777777777777778,
             "#fb9f3a"
            ],
            [
             0.8888888888888888,
             "#fdca26"
            ],
            [
             1,
             "#f0f921"
            ]
           ]
          },
          "colorway": [
           "#636efa",
           "#EF553B",
           "#00cc96",
           "#ab63fa",
           "#FFA15A",
           "#19d3f3",
           "#FF6692",
           "#B6E880",
           "#FF97FF",
           "#FECB52"
          ],
          "font": {
           "color": "#2a3f5f"
          },
          "geo": {
           "bgcolor": "white",
           "lakecolor": "white",
           "landcolor": "#E5ECF6",
           "showlakes": true,
           "showland": true,
           "subunitcolor": "white"
          },
          "hoverlabel": {
           "align": "left"
          },
          "hovermode": "closest",
          "mapbox": {
           "style": "light"
          },
          "paper_bgcolor": "white",
          "plot_bgcolor": "#E5ECF6",
          "polar": {
           "angularaxis": {
            "gridcolor": "white",
            "linecolor": "white",
            "ticks": ""
           },
           "bgcolor": "#E5ECF6",
           "radialaxis": {
            "gridcolor": "white",
            "linecolor": "white",
            "ticks": ""
           }
          },
          "scene": {
           "xaxis": {
            "backgroundcolor": "#E5ECF6",
            "gridcolor": "white",
            "gridwidth": 2,
            "linecolor": "white",
            "showbackground": true,
            "ticks": "",
            "zerolinecolor": "white"
           },
           "yaxis": {
            "backgroundcolor": "#E5ECF6",
            "gridcolor": "white",
            "gridwidth": 2,
            "linecolor": "white",
            "showbackground": true,
            "ticks": "",
            "zerolinecolor": "white"
           },
           "zaxis": {
            "backgroundcolor": "#E5ECF6",
            "gridcolor": "white",
            "gridwidth": 2,
            "linecolor": "white",
            "showbackground": true,
            "ticks": "",
            "zerolinecolor": "white"
           }
          },
          "shapedefaults": {
           "line": {
            "color": "#2a3f5f"
           }
          },
          "ternary": {
           "aaxis": {
            "gridcolor": "white",
            "linecolor": "white",
            "ticks": ""
           },
           "baxis": {
            "gridcolor": "white",
            "linecolor": "white",
            "ticks": ""
           },
           "bgcolor": "#E5ECF6",
           "caxis": {
            "gridcolor": "white",
            "linecolor": "white",
            "ticks": ""
           }
          },
          "title": {
           "x": 0.05
          },
          "xaxis": {
           "automargin": true,
           "gridcolor": "white",
           "linecolor": "white",
           "ticks": "",
           "title": {
            "standoff": 15
           },
           "zerolinecolor": "white",
           "zerolinewidth": 2
          },
          "yaxis": {
           "automargin": true,
           "gridcolor": "white",
           "linecolor": "white",
           "ticks": "",
           "title": {
            "standoff": 15
           },
           "zerolinecolor": "white",
           "zerolinewidth": 2
          }
         }
        },
        "xaxis": {
         "anchor": "y",
         "domain": [
          0,
          1
         ],
         "title": {
          "text": "x"
         }
        },
        "yaxis": {
         "anchor": "x",
         "domain": [
          0,
          1
         ],
         "title": {
          "text": "y"
         }
        }
       }
      },
      "text/html": [
       "<div>                            <div id=\"57bf5f8c-1333-4027-9f42-1bc93cc5cfc0\" class=\"plotly-graph-div\" style=\"height:525px; width:100%;\"></div>            <script type=\"text/javascript\">                require([\"plotly\"], function(Plotly) {                    window.PLOTLYENV=window.PLOTLYENV || {};                                    if (document.getElementById(\"57bf5f8c-1333-4027-9f42-1bc93cc5cfc0\")) {                    Plotly.newPlot(                        \"57bf5f8c-1333-4027-9f42-1bc93cc5cfc0\",                        [{\"hovertemplate\":\"x=%{x}\\u003cbr\\u003ey=%{y}\\u003cbr\\u003etext=%{text}\\u003cextra\\u003e\\u003c\\u002fextra\\u003e\",\"legendgroup\":\"\",\"marker\":{\"color\":\"#636efa\",\"symbol\":\"circle\"},\"mode\":\"markers+text\",\"name\":\"\",\"orientation\":\"v\",\"showlegend\":false,\"text\":[\"Argentia\",\"Inuvik\",\"Brandon\",\"Calgary\",\"Dartmouth\",\"Edmonton\",\"Fredericton\",\"Guelph\",\"Halifax\"],\"x\":[50.0,550.0,100.0,157.14285714285714,214.28571428571428,271.42857142857144,328.57142857142856,385.7142857142857,442.85714285714283],\"xaxis\":\"x\",\"y\":[400,400,600,200,600,200,600,200,600],\"yaxis\":\"y\",\"type\":\"scatter\",\"textposition\":\"top center\"}],                        {\"template\":{\"data\":{\"histogram2dcontour\":[{\"type\":\"histogram2dcontour\",\"colorbar\":{\"outlinewidth\":0,\"ticks\":\"\"},\"colorscale\":[[0.0,\"#0d0887\"],[0.1111111111111111,\"#46039f\"],[0.2222222222222222,\"#7201a8\"],[0.3333333333333333,\"#9c179e\"],[0.4444444444444444,\"#bd3786\"],[0.5555555555555556,\"#d8576b\"],[0.6666666666666666,\"#ed7953\"],[0.7777777777777778,\"#fb9f3a\"],[0.8888888888888888,\"#fdca26\"],[1.0,\"#f0f921\"]]}],\"choropleth\":[{\"type\":\"choropleth\",\"colorbar\":{\"outlinewidth\":0,\"ticks\":\"\"}}],\"histogram2d\":[{\"type\":\"histogram2d\",\"colorbar\":{\"outlinewidth\":0,\"ticks\":\"\"},\"colorscale\":[[0.0,\"#0d0887\"],[0.1111111111111111,\"#46039f\"],[0.2222222222222222,\"#7201a8\"],[0.3333333333333333,\"#9c179e\"],[0.4444444444444444,\"#bd3786\"],[0.5555555555555556,\"#d8576b\"],[0.6666666666666666,\"#ed7953\"],[0.7777777777777778,\"#fb9f3a\"],[0.8888888888888888,\"#fdca26\"],[1.0,\"#f0f921\"]]}],\"heatmap\":[{\"type\":\"heatmap\",\"colorbar\":{\"outlinewidth\":0,\"ticks\":\"\"},\"colorscale\":[[0.0,\"#0d0887\"],[0.1111111111111111,\"#46039f\"],[0.2222222222222222,\"#7201a8\"],[0.3333333333333333,\"#9c179e\"],[0.4444444444444444,\"#bd3786\"],[0.5555555555555556,\"#d8576b\"],[0.6666666666666666,\"#ed7953\"],[0.7777777777777778,\"#fb9f3a\"],[0.8888888888888888,\"#fdca26\"],[1.0,\"#f0f921\"]]}],\"heatmapgl\":[{\"type\":\"heatmapgl\",\"colorbar\":{\"outlinewidth\":0,\"ticks\":\"\"},\"colorscale\":[[0.0,\"#0d0887\"],[0.1111111111111111,\"#46039f\"],[0.2222222222222222,\"#7201a8\"],[0.3333333333333333,\"#9c179e\"],[0.4444444444444444,\"#bd3786\"],[0.5555555555555556,\"#d8576b\"],[0.6666666666666666,\"#ed7953\"],[0.7777777777777778,\"#fb9f3a\"],[0.8888888888888888,\"#fdca26\"],[1.0,\"#f0f921\"]]}],\"contourcarpet\":[{\"type\":\"contourcarpet\",\"colorbar\":{\"outlinewidth\":0,\"ticks\":\"\"}}],\"contour\":[{\"type\":\"contour\",\"colorbar\":{\"outlinewidth\":0,\"ticks\":\"\"},\"colorscale\":[[0.0,\"#0d0887\"],[0.1111111111111111,\"#46039f\"],[0.2222222222222222,\"#7201a8\"],[0.3333333333333333,\"#9c179e\"],[0.4444444444444444,\"#bd3786\"],[0.5555555555555556,\"#d8576b\"],[0.6666666666666666,\"#ed7953\"],[0.7777777777777778,\"#fb9f3a\"],[0.8888888888888888,\"#fdca26\"],[1.0,\"#f0f921\"]]}],\"surface\":[{\"type\":\"surface\",\"colorbar\":{\"outlinewidth\":0,\"ticks\":\"\"},\"colorscale\":[[0.0,\"#0d0887\"],[0.1111111111111111,\"#46039f\"],[0.2222222222222222,\"#7201a8\"],[0.3333333333333333,\"#9c179e\"],[0.4444444444444444,\"#bd3786\"],[0.5555555555555556,\"#d8576b\"],[0.6666666666666666,\"#ed7953\"],[0.7777777777777778,\"#fb9f3a\"],[0.8888888888888888,\"#fdca26\"],[1.0,\"#f0f921\"]]}],\"mesh3d\":[{\"type\":\"mesh3d\",\"colorbar\":{\"outlinewidth\":0,\"ticks\":\"\"}}],\"scatter\":[{\"fillpattern\":{\"fillmode\":\"overlay\",\"size\":10,\"solidity\":0.2},\"type\":\"scatter\"}],\"parcoords\":[{\"type\":\"parcoords\",\"line\":{\"colorbar\":{\"outlinewidth\":0,\"ticks\":\"\"}}}],\"scatterpolargl\":[{\"type\":\"scatterpolargl\",\"marker\":{\"colorbar\":{\"outlinewidth\":0,\"ticks\":\"\"}}}],\"bar\":[{\"error_x\":{\"color\":\"#2a3f5f\"},\"error_y\":{\"color\":\"#2a3f5f\"},\"marker\":{\"line\":{\"color\":\"#E5ECF6\",\"width\":0.5},\"pattern\":{\"fillmode\":\"overlay\",\"size\":10,\"solidity\":0.2}},\"type\":\"bar\"}],\"scattergeo\":[{\"type\":\"scattergeo\",\"marker\":{\"colorbar\":{\"outlinewidth\":0,\"ticks\":\"\"}}}],\"scatterpolar\":[{\"type\":\"scatterpolar\",\"marker\":{\"colorbar\":{\"outlinewidth\":0,\"ticks\":\"\"}}}],\"histogram\":[{\"marker\":{\"pattern\":{\"fillmode\":\"overlay\",\"size\":10,\"solidity\":0.2}},\"type\":\"histogram\"}],\"scattergl\":[{\"type\":\"scattergl\",\"marker\":{\"colorbar\":{\"outlinewidth\":0,\"ticks\":\"\"}}}],\"scatter3d\":[{\"type\":\"scatter3d\",\"line\":{\"colorbar\":{\"outlinewidth\":0,\"ticks\":\"\"}},\"marker\":{\"colorbar\":{\"outlinewidth\":0,\"ticks\":\"\"}}}],\"scattermapbox\":[{\"type\":\"scattermapbox\",\"marker\":{\"colorbar\":{\"outlinewidth\":0,\"ticks\":\"\"}}}],\"scatterternary\":[{\"type\":\"scatterternary\",\"marker\":{\"colorbar\":{\"outlinewidth\":0,\"ticks\":\"\"}}}],\"scattercarpet\":[{\"type\":\"scattercarpet\",\"marker\":{\"colorbar\":{\"outlinewidth\":0,\"ticks\":\"\"}}}],\"carpet\":[{\"aaxis\":{\"endlinecolor\":\"#2a3f5f\",\"gridcolor\":\"white\",\"linecolor\":\"white\",\"minorgridcolor\":\"white\",\"startlinecolor\":\"#2a3f5f\"},\"baxis\":{\"endlinecolor\":\"#2a3f5f\",\"gridcolor\":\"white\",\"linecolor\":\"white\",\"minorgridcolor\":\"white\",\"startlinecolor\":\"#2a3f5f\"},\"type\":\"carpet\"}],\"table\":[{\"cells\":{\"fill\":{\"color\":\"#EBF0F8\"},\"line\":{\"color\":\"white\"}},\"header\":{\"fill\":{\"color\":\"#C8D4E3\"},\"line\":{\"color\":\"white\"}},\"type\":\"table\"}],\"barpolar\":[{\"marker\":{\"line\":{\"color\":\"#E5ECF6\",\"width\":0.5},\"pattern\":{\"fillmode\":\"overlay\",\"size\":10,\"solidity\":0.2}},\"type\":\"barpolar\"}],\"pie\":[{\"automargin\":true,\"type\":\"pie\"}]},\"layout\":{\"autotypenumbers\":\"strict\",\"colorway\":[\"#636efa\",\"#EF553B\",\"#00cc96\",\"#ab63fa\",\"#FFA15A\",\"#19d3f3\",\"#FF6692\",\"#B6E880\",\"#FF97FF\",\"#FECB52\"],\"font\":{\"color\":\"#2a3f5f\"},\"hovermode\":\"closest\",\"hoverlabel\":{\"align\":\"left\"},\"paper_bgcolor\":\"white\",\"plot_bgcolor\":\"#E5ECF6\",\"polar\":{\"bgcolor\":\"#E5ECF6\",\"angularaxis\":{\"gridcolor\":\"white\",\"linecolor\":\"white\",\"ticks\":\"\"},\"radialaxis\":{\"gridcolor\":\"white\",\"linecolor\":\"white\",\"ticks\":\"\"}},\"ternary\":{\"bgcolor\":\"#E5ECF6\",\"aaxis\":{\"gridcolor\":\"white\",\"linecolor\":\"white\",\"ticks\":\"\"},\"baxis\":{\"gridcolor\":\"white\",\"linecolor\":\"white\",\"ticks\":\"\"},\"caxis\":{\"gridcolor\":\"white\",\"linecolor\":\"white\",\"ticks\":\"\"}},\"coloraxis\":{\"colorbar\":{\"outlinewidth\":0,\"ticks\":\"\"}},\"colorscale\":{\"sequential\":[[0.0,\"#0d0887\"],[0.1111111111111111,\"#46039f\"],[0.2222222222222222,\"#7201a8\"],[0.3333333333333333,\"#9c179e\"],[0.4444444444444444,\"#bd3786\"],[0.5555555555555556,\"#d8576b\"],[0.6666666666666666,\"#ed7953\"],[0.7777777777777778,\"#fb9f3a\"],[0.8888888888888888,\"#fdca26\"],[1.0,\"#f0f921\"]],\"sequentialminus\":[[0.0,\"#0d0887\"],[0.1111111111111111,\"#46039f\"],[0.2222222222222222,\"#7201a8\"],[0.3333333333333333,\"#9c179e\"],[0.4444444444444444,\"#bd3786\"],[0.5555555555555556,\"#d8576b\"],[0.6666666666666666,\"#ed7953\"],[0.7777777777777778,\"#fb9f3a\"],[0.8888888888888888,\"#fdca26\"],[1.0,\"#f0f921\"]],\"diverging\":[[0,\"#8e0152\"],[0.1,\"#c51b7d\"],[0.2,\"#de77ae\"],[0.3,\"#f1b6da\"],[0.4,\"#fde0ef\"],[0.5,\"#f7f7f7\"],[0.6,\"#e6f5d0\"],[0.7,\"#b8e186\"],[0.8,\"#7fbc41\"],[0.9,\"#4d9221\"],[1,\"#276419\"]]},\"xaxis\":{\"gridcolor\":\"white\",\"linecolor\":\"white\",\"ticks\":\"\",\"title\":{\"standoff\":15},\"zerolinecolor\":\"white\",\"automargin\":true,\"zerolinewidth\":2},\"yaxis\":{\"gridcolor\":\"white\",\"linecolor\":\"white\",\"ticks\":\"\",\"title\":{\"standoff\":15},\"zerolinecolor\":\"white\",\"automargin\":true,\"zerolinewidth\":2},\"scene\":{\"xaxis\":{\"backgroundcolor\":\"#E5ECF6\",\"gridcolor\":\"white\",\"linecolor\":\"white\",\"showbackground\":true,\"ticks\":\"\",\"zerolinecolor\":\"white\",\"gridwidth\":2},\"yaxis\":{\"backgroundcolor\":\"#E5ECF6\",\"gridcolor\":\"white\",\"linecolor\":\"white\",\"showbackground\":true,\"ticks\":\"\",\"zerolinecolor\":\"white\",\"gridwidth\":2},\"zaxis\":{\"backgroundcolor\":\"#E5ECF6\",\"gridcolor\":\"white\",\"linecolor\":\"white\",\"showbackground\":true,\"ticks\":\"\",\"zerolinecolor\":\"white\",\"gridwidth\":2}},\"shapedefaults\":{\"line\":{\"color\":\"#2a3f5f\"}},\"annotationdefaults\":{\"arrowcolor\":\"#2a3f5f\",\"arrowhead\":0,\"arrowwidth\":1},\"geo\":{\"bgcolor\":\"white\",\"landcolor\":\"#E5ECF6\",\"subunitcolor\":\"white\",\"showland\":true,\"showlakes\":true,\"lakecolor\":\"white\"},\"title\":{\"x\":0.05},\"mapbox\":{\"style\":\"light\"}}},\"xaxis\":{\"anchor\":\"y\",\"domain\":[0.0,1.0],\"title\":{\"text\":\"x\"}},\"yaxis\":{\"anchor\":\"x\",\"domain\":[0.0,1.0],\"title\":{\"text\":\"y\"}},\"legend\":{\"tracegroupgap\":0},\"margin\":{\"t\":60},\"shapes\":[{\"line\":{\"color\":\"black\",\"width\":1},\"opacity\":0.5,\"type\":\"line\",\"x0\":50,\"x1\":100.0,\"y0\":400,\"y1\":600},{\"line\":{\"color\":\"black\",\"width\":1},\"opacity\":0.5,\"type\":\"line\",\"x0\":50,\"x1\":157.14285714285714,\"y0\":400,\"y1\":200},{\"line\":{\"color\":\"black\",\"width\":1},\"opacity\":0.5,\"type\":\"line\",\"x0\":100.0,\"x1\":214.28571428571428,\"y0\":600,\"y1\":600},{\"line\":{\"color\":\"black\",\"width\":1},\"opacity\":0.5,\"type\":\"line\",\"x0\":100.0,\"x1\":271.42857142857144,\"y0\":600,\"y1\":200},{\"line\":{\"color\":\"black\",\"width\":1},\"opacity\":0.5,\"type\":\"line\",\"x0\":157.14285714285714,\"x1\":328.57142857142856,\"y0\":200,\"y1\":600},{\"line\":{\"color\":\"black\",\"width\":1},\"opacity\":0.5,\"type\":\"line\",\"x0\":157.14285714285714,\"x1\":271.42857142857144,\"y0\":200,\"y1\":200},{\"line\":{\"color\":\"black\",\"width\":1},\"opacity\":0.5,\"type\":\"line\",\"x0\":157.14285714285714,\"x1\":214.28571428571428,\"y0\":200,\"y1\":600},{\"line\":{\"color\":\"black\",\"width\":1},\"opacity\":0.5,\"type\":\"line\",\"x0\":214.28571428571428,\"x1\":385.7142857142857,\"y0\":600,\"y1\":200},{\"line\":{\"color\":\"black\",\"width\":1},\"opacity\":0.5,\"type\":\"line\",\"x0\":214.28571428571428,\"x1\":328.57142857142856,\"y0\":600,\"y1\":600},{\"line\":{\"color\":\"black\",\"width\":1},\"opacity\":0.5,\"type\":\"line\",\"x0\":214.28571428571428,\"x1\":157.14285714285714,\"y0\":600,\"y1\":200},{\"line\":{\"color\":\"black\",\"width\":1},\"opacity\":0.5,\"type\":\"line\",\"x0\":271.42857142857144,\"x1\":442.85714285714283,\"y0\":200,\"y1\":600},{\"line\":{\"color\":\"black\",\"width\":1},\"opacity\":0.5,\"type\":\"line\",\"x0\":271.42857142857144,\"x1\":550,\"y0\":200,\"y1\":400},{\"line\":{\"color\":\"black\",\"width\":1},\"opacity\":0.5,\"type\":\"line\",\"x0\":328.57142857142856,\"x1\":385.7142857142857,\"y0\":600,\"y1\":200},{\"line\":{\"color\":\"black\",\"width\":1},\"opacity\":0.5,\"type\":\"line\",\"x0\":328.57142857142856,\"x1\":214.28571428571428,\"y0\":600,\"y1\":600},{\"line\":{\"color\":\"black\",\"width\":1},\"opacity\":0.5,\"type\":\"line\",\"x0\":328.57142857142856,\"x1\":157.14285714285714,\"y0\":600,\"y1\":200},{\"line\":{\"color\":\"black\",\"width\":1},\"opacity\":0.5,\"type\":\"line\",\"x0\":385.7142857142857,\"x1\":442.85714285714283,\"y0\":200,\"y1\":600},{\"line\":{\"color\":\"black\",\"width\":1},\"opacity\":0.5,\"type\":\"line\",\"x0\":385.7142857142857,\"x1\":328.57142857142856,\"y0\":200,\"y1\":600},{\"line\":{\"color\":\"black\",\"width\":1},\"opacity\":0.5,\"type\":\"line\",\"x0\":442.85714285714283,\"x1\":550,\"y0\":600,\"y1\":400}],\"annotations\":[{\"font\":{\"color\":\"black\",\"size\":10},\"showarrow\":false,\"text\":\"1700\",\"x\":75.0,\"y\":500.0},{\"font\":{\"color\":\"black\",\"size\":10},\"showarrow\":false,\"text\":\"800\",\"x\":103.57142857142857,\"y\":300.0},{\"font\":{\"color\":\"black\",\"size\":10},\"showarrow\":false,\"text\":\"700\",\"x\":157.14285714285714,\"y\":600.0},{\"font\":{\"color\":\"black\",\"size\":10},\"showarrow\":false,\"text\":\"1000\",\"x\":185.71428571428572,\"y\":400.0},{\"font\":{\"color\":\"black\",\"size\":10},\"showarrow\":false,\"text\":\"0\",\"x\":242.85714285714283,\"y\":400.0},{\"font\":{\"color\":\"black\",\"size\":10},\"showarrow\":false,\"text\":\"800\",\"x\":214.28571428571428,\"y\":200.0},{\"font\":{\"color\":\"black\",\"size\":10},\"showarrow\":false,\"text\":\"0\",\"x\":185.71428571428572,\"y\":400.0},{\"font\":{\"color\":\"black\",\"size\":10},\"showarrow\":false,\"text\":\"700\",\"x\":300.0,\"y\":400.0},{\"font\":{\"color\":\"black\",\"size\":10},\"showarrow\":false,\"text\":\"0\",\"x\":271.42857142857144,\"y\":600.0},{\"font\":{\"color\":\"black\",\"size\":10},\"showarrow\":false,\"text\":\"0\",\"x\":185.71428571428572,\"y\":400.0},{\"font\":{\"color\":\"black\",\"size\":10},\"showarrow\":false,\"text\":\"800\",\"x\":357.1428571428571,\"y\":400.0},{\"font\":{\"color\":\"black\",\"size\":10},\"showarrow\":false,\"text\":\"1000\",\"x\":410.7142857142857,\"y\":300.0},{\"font\":{\"color\":\"black\",\"size\":10},\"showarrow\":false,\"text\":\"0\",\"x\":357.1428571428571,\"y\":400.0},{\"font\":{\"color\":\"black\",\"size\":10},\"showarrow\":false,\"text\":\"0\",\"x\":271.42857142857144,\"y\":600.0},{\"font\":{\"color\":\"black\",\"size\":10},\"showarrow\":false,\"text\":\"0\",\"x\":242.85714285714283,\"y\":400.0},{\"font\":{\"color\":\"black\",\"size\":10},\"showarrow\":false,\"text\":\"700\",\"x\":414.2857142857143,\"y\":400.0},{\"font\":{\"color\":\"black\",\"size\":10},\"showarrow\":false,\"text\":\"0\",\"x\":357.1428571428571,\"y\":400.0},{\"font\":{\"color\":\"black\",\"size\":10},\"showarrow\":false,\"text\":\"1500\",\"x\":496.42857142857144,\"y\":500.0}],\"showlegend\":false},                        {\"responsive\": true}                    ).then(function(){\n",
       "                            \n",
       "var gd = document.getElementById('57bf5f8c-1333-4027-9f42-1bc93cc5cfc0');\n",
       "var x = new MutationObserver(function (mutations, observer) {{\n",
       "        var display = window.getComputedStyle(gd).display;\n",
       "        if (!display || display === 'none') {{\n",
       "            console.log([gd, 'removed!']);\n",
       "            Plotly.purge(gd);\n",
       "            observer.disconnect();\n",
       "        }}\n",
       "}});\n",
       "\n",
       "// Listen for the removal of the full notebook cells\n",
       "var notebookContainer = gd.closest('#notebook-container');\n",
       "if (notebookContainer) {{\n",
       "    x.observe(notebookContainer, {childList: true});\n",
       "}}\n",
       "\n",
       "// Listen for the clearing of the current output cell\n",
       "var outputEl = gd.closest('.output');\n",
       "if (outputEl) {{\n",
       "    x.observe(outputEl, {childList: true});\n",
       "}}\n",
       "\n",
       "                        })                };                });            </script>        </div>"
      ]
     },
     "metadata": {},
     "output_type": "display_data"
    }
   ],
   "source": [
    "# now let's plot the cities as scatter plot using Plotly\n",
    "\n",
    "import plotly.express as px\n",
    "\n",
    "fig = px.scatter(x=[city_positions[city][0] for city in city_positions], \n",
    "                 y=[city_positions[city][1] for city in city_positions], \n",
    "                 text=[city for city in city_positions])\n",
    "\n",
    "# now let's add arrows between the cities\n",
    "for u in flow_graph_positive:\n",
    "    for v in flow_graph_positive[u]:\n",
    "        x0, y0 = city_positions[u]\n",
    "        x1, y1 = city_positions[v]\n",
    "        fig.add_shape(type=\"line\",\n",
    "                      x0=x0, y0=y0, x1=x1, y1=y1,\n",
    "                      line=dict(color=\"black\", width=1),\n",
    "                      opacity=0.5)\n",
    "        # add a bit of text in the middle of the line but we want a bit of random offset\n",
    "        # fig.add_annotation(x=(x0 + x1) / 2 + np.random.randint(-10, 10), y=(y0 + y1) / 2 + np.random.randint(-10, 10), showarrow=False,\n",
    "        #                    text=f\"{flow_graph_positive[u][v]}\",\n",
    "        #                    font=dict(color=\"black\", size=10))\n",
    "        fig.add_annotation(x=(x0 + x1) / 2, y=(y0 + y1) / 2, showarrow=False,\n",
    "                           text=f\"{flow_graph_positive[u][v]}\",\n",
    "                           font=dict(color=\"black\", size=10))\n",
    "\n",
    "fig.update_traces(textposition='top center')\n",
    "fig.update_layout(showlegend=False)\n",
    "fig.show()"
   ]
  }
 ],
 "metadata": {
  "kernelspec": {
   "display_name": "venv",
   "language": "python",
   "name": "python3"
  },
  "language_info": {
   "codemirror_mode": {
    "name": "ipython",
    "version": 3
   },
   "file_extension": ".py",
   "mimetype": "text/x-python",
   "name": "python",
   "nbconvert_exporter": "python",
   "pygments_lexer": "ipython3",
   "version": "3.12.1"
  }
 },
 "nbformat": 4,
 "nbformat_minor": 2
}
