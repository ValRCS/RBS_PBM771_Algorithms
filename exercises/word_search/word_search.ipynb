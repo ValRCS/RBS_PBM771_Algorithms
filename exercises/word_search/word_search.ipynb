{
 "cells": [
  {
   "cell_type": "markdown",
   "metadata": {},
   "source": [
    "# Word Search\n",
    "\n",
    "Given an m x n grid of characters board and a string word, return true if word exists in the grid.\n",
    "\n",
    "The word can be constructed from letters of sequentially adjacent cells, where adjacent cells are horizontally or vertically neighboring. The same letter cell may not be used more than once.\n",
    "\n",
    " \n",
    "\n",
    "Example 1:\n",
    "\n",
    "\n",
    "Input: board = [[\"A\",\"B\",\"C\",\"E\"],[\"S\",\"F\",\"C\",\"S\"],[\"A\",\"D\",\"E\",\"E\"]], word = \"ABCCED\"\n",
    "Output: true\n",
    "Example 2:\n",
    "\n",
    "\n",
    "Input: board = [[\"A\",\"B\",\"C\",\"E\"],[\"S\",\"F\",\"C\",\"S\"],[\"A\",\"D\",\"E\",\"E\"]], word = \"SEE\"\n",
    "Output: true\n",
    "Example 3:\n",
    "\n",
    "\n",
    "Input: board = [[\"A\",\"B\",\"C\",\"E\"],[\"S\",\"F\",\"C\",\"S\"],[\"A\",\"D\",\"E\",\"E\"]], word = \"ABCB\"\n",
    "Output: false\n",
    " \n",
    "\n",
    "Constraints:\n",
    "\n",
    "m == board.length\n",
    "n = board[i].length\n",
    "1 <= m, n <= 6\n",
    "1 <= word.length <= 15\n",
    "board and word consists of only lowercase and uppercase English letters.\n",
    " \n",
    "\n",
    "Follow up: Could you use search pruning to make your solution faster with a larger board?\n",
    "\n",
    "Source of problem: https://leetcode.com/problems/word-search/description/"
   ]
  },
  {
   "cell_type": "code",
   "execution_count": 1,
   "metadata": {},
   "outputs": [
    {
     "name": "stdout",
     "output_type": "stream",
     "text": [
      "True\n",
      "True\n",
      "False\n"
     ]
    }
   ],
   "source": [
    "# # Valts solution to leetcode problem Word Search\n",
    "# def exist(board, word):\n",
    "#     def backtrack(i, j, k):\n",
    "#         # Base case: if all characters in the word have been found\n",
    "#         if k == len(word):\n",
    "#             return True\n",
    "        \n",
    "#         # Check if the current position is out of bounds or the character doesn't match\n",
    "#         if i < 0 or i >= len(board) or j < 0 or j >= len(board[0]) or board[i][j] != word[k]:\n",
    "#             return False\n",
    "        \n",
    "#         # Mark the current position as visited\n",
    "#         temp = board[i][j]\n",
    "#         board[i][j] = '#'\n",
    "        \n",
    "#         # Recursively check the neighboring cells\n",
    "#         found = backtrack(i+1, j, k+1) or backtrack(i-1, j, k+1) or backtrack(i, j+1, k+1) or backtrack(i, j-1, k+1)\n",
    "        \n",
    "#         # Restore the original value of the current position\n",
    "#         board[i][j] = temp\n",
    "        \n",
    "#         return found\n",
    "    \n",
    "#     # Iterate through each cell in the board\n",
    "#     for i in range(len(board)):\n",
    "#         for j in range(len(board[0])):\n",
    "#             if backtrack(i, j, 0):\n",
    "#                 return True\n",
    "    \n",
    "#     return False\n",
    "\n",
    "# # Example usage\n",
    "# board1 = [[\"A\",\"B\",\"C\",\"E\"],[\"S\",\"F\",\"C\",\"S\"],[\"A\",\"D\",\"E\",\"E\"]]\n",
    "# word1 = \"ABCCED\"\n",
    "# print(exist(board1, word1))  # Output: True\n",
    "\n",
    "# board2 = [[\"A\",\"B\",\"C\",\"E\"],[\"S\",\"F\",\"C\",\"S\"],[\"A\",\"D\",\"E\",\"E\"]]\n",
    "# word2 = \"SEE\"\n",
    "# print(exist(board2, word2))  # Output: True\n",
    "\n",
    "# board3 = [[\"A\",\"B\",\"C\",\"E\"],[\"S\",\"F\",\"C\",\"S\"],[\"A\",\"D\",\"E\",\"E\"]]\n",
    "# word3 = \"ABCB\"\n",
    "# print(exist(board3, word3))  # Output: False"
   ]
  },
  {
   "cell_type": "code",
   "execution_count": 2,
   "metadata": {},
   "outputs": [
    {
     "name": "stdout",
     "output_type": "stream",
     "text": [
      "True\n",
      "True\n",
      "False\n"
     ]
    }
   ],
   "source": [
    "# let's use DFS search to solve this problem\n",
    "# we will start from each cell and explore all four directions\n",
    "# we will pass the board, word, index of the next character to be matched and the x, y coordinates of the current cell to the DFS function\n",
    "# if the current character in the board matches the first character of the word, we will recursively explore the neighboring cells\n",
    "\n",
    "def exist(board, word):\n",
    "    def dfs(board, i, j, word, index):\n",
    "        # if the index is equal to the length of the word, we have found the word\n",
    "        # base case\n",
    "        if index == len(word):\n",
    "            return True\n",
    "        \n",
    "        # if the current cell is out of the board or the current cell does not match the character in the word, return False\n",
    "        if i < 0 or i >= len(board) or j < 0 or j >= len(board[0]) or board[i][j] != word[index]:\n",
    "            return False\n",
    "        \n",
    "        # store the current character in the board\n",
    "        temp = board[i][j]\n",
    "        # mark the current cell as visited\n",
    "        board[i][j] = '#'\n",
    "        \n",
    "        # explore all four directions\n",
    "        found = dfs(board, i+1, j, word, index+1) or dfs(board, i-1, j, word, index+1) or dfs(board, i, j+1, word, index+1) or dfs(board, i, j-1, word, index+1)\n",
    "        \n",
    "        # restore the original value of the current cell\n",
    "        board[i][j] = temp\n",
    "        \n",
    "        return found\n",
    "    \n",
    "    # iterate through each cell in the board\n",
    "    for i in range(len(board)):\n",
    "        for j in range(len(board[0])):\n",
    "            if dfs(board, i, j, word, 0):\n",
    "                return True\n",
    "    \n",
    "    return False\n",
    "\n",
    "# test it\n",
    "board1 = [[\"A\",\"B\",\"C\",\"E\"],[\"S\",\"F\",\"C\",\"S\"],[\"A\",\"D\",\"E\",\"E\"]]\n",
    "word1 = \"ABCCED\"\n",
    "print(exist(board1, word1))  # Output: True\n",
    "# test 2\n",
    "board2 = [[\"A\",\"B\",\"C\",\"E\"],[\"S\",\"F\",\"C\",\"S\"],[\"A\",\"D\",\"E\",\"E\"]]\n",
    "word2 = \"SEE\"\n",
    "print(exist(board2, word2))  # Output: True\n",
    "# test 3\n",
    "board3 = [[\"A\",\"B\",\"C\",\"E\"],[\"S\",\"F\",\"C\",\"S\"],[\"A\",\"D\",\"E\",\"E\"]]\n",
    "word3 = \"ABCB\"\n",
    "print(exist(board3, word3))  # Output: False"
   ]
  },
  {
   "cell_type": "code",
   "execution_count": 3,
   "metadata": {},
   "outputs": [
    {
     "name": "stdout",
     "output_type": "stream",
     "text": [
      "True\n",
      "True\n",
      "False\n"
     ]
    }
   ],
   "source": [
    "## Fastest solution on Leetcode with some code golfing\n",
    "from collections import defaultdict\n",
    "from typing import List\n",
    "class Solution:\n",
    "    def exist(self, board: List[List[str]], word: str) -> bool:\n",
    "        if len(word) > len(board)*len(board[0]): return False\n",
    "        _count = defaultdict(int)\n",
    "        for row in board:\n",
    "            for cell in row:\n",
    "                _count[cell] += 1\n",
    "        if _count[word[0]] > _count[word[-1]]: word = word[::-1]\n",
    "        for cell in word:\n",
    "            if _count[cell] == 0: return False\n",
    "            _count[cell] -= 1\n",
    "        seen = set()\n",
    "        def dfSearch(row, col, itt):\n",
    "            if itt == len(word): return True\n",
    "            if row < 0 or col < 0 or row == len(board) or col == len(board[0]) or (row,col) in seen or board[row][col] != word[itt]: return False\n",
    "            seen.add((row,col))\n",
    "            return dfSearch(row+1, col, itt+1) or dfSearch(row-1, col, itt+1) or dfSearch(row, col+1, itt+1) or dfSearch(row, col-1, itt+1) or seen.remove((row,col))\n",
    "        for row in range(len(board)):\n",
    "            for cell in range(len(board[0])):\n",
    "                if dfSearch(row,cell,0): return True\n",
    "        return False\n",
    "    \n",
    "# test it\n",
    "board1 = [[\"A\",\"B\",\"C\",\"E\"],[\"S\",\"F\",\"C\",\"S\"],[\"A\",\"D\",\"E\",\"E\"]]\n",
    "word1 = \"ABCCED\"\n",
    "print(Solution().exist(board1, word1))  # Output: True\n",
    "# test 2\n",
    "board2 = [[\"A\",\"B\",\"C\",\"E\"],[\"S\",\"F\",\"C\",\"S\"],[\"A\",\"D\",\"E\",\"E\"]]\n",
    "word2 = \"SEE\"\n",
    "print(Solution().exist(board2, word2))  # Output: True\n",
    "# test 3\n",
    "board3 = [[\"A\",\"B\",\"C\",\"E\"],[\"S\",\"F\",\"C\",\"S\"],[\"A\",\"D\",\"E\",\"E\"]]\n",
    "word3 = \"ABCB\"\n",
    "print(Solution().exist(board3, word3))  # Output: False\n"
   ]
  },
  {
   "cell_type": "code",
   "execution_count": null,
   "metadata": {},
   "outputs": [],
   "source": [
    "# lets time the two solutions using timeit"
   ]
  },
  {
   "cell_type": "code",
   "execution_count": 4,
   "metadata": {},
   "outputs": [
    {
     "name": "stdout",
     "output_type": "stream",
     "text": [
      "4.45 µs ± 193 ns per loop (mean ± std. dev. of 7 runs, 100,000 loops each)\n"
     ]
    }
   ],
   "source": [
    "%%timeit\n",
    "exist(board1, word1)"
   ]
  },
  {
   "cell_type": "code",
   "execution_count": 6,
   "metadata": {},
   "outputs": [],
   "source": [
    "exist2 = Solution().exist"
   ]
  },
  {
   "cell_type": "code",
   "execution_count": 7,
   "metadata": {},
   "outputs": [
    {
     "name": "stdout",
     "output_type": "stream",
     "text": [
      "14.5 µs ± 308 ns per loop (mean ± std. dev. of 7 runs, 100,000 loops each)\n"
     ]
    }
   ],
   "source": [
    "%%timeit\n",
    "exist2(board1, word1)"
   ]
  },
  {
   "cell_type": "code",
   "execution_count": null,
   "metadata": {},
   "outputs": [],
   "source": [
    "# so looks like for small inputs the first solution is faster and it remains to be seen if the second solution is faster for larger inputs"
   ]
  },
  {
   "cell_type": "code",
   "execution_count": null,
   "metadata": {},
   "outputs": [],
   "source": [
    "## TODO\n",
    "# the hard problem of https://leetcode.com/problems/word-search-ii/\n",
    "# where we are given a list of words and a board of characters with larger dimensions"
   ]
  },
  {
   "cell_type": "markdown",
   "metadata": {},
   "source": []
  }
 ],
 "metadata": {
  "kernelspec": {
   "display_name": "Python 3",
   "language": "python",
   "name": "python3"
  },
  "language_info": {
   "codemirror_mode": {
    "name": "ipython",
    "version": 3
   },
   "file_extension": ".py",
   "mimetype": "text/x-python",
   "name": "python",
   "nbconvert_exporter": "python",
   "pygments_lexer": "ipython3",
   "version": "3.11.4"
  }
 },
 "nbformat": 4,
 "nbformat_minor": 2
}
