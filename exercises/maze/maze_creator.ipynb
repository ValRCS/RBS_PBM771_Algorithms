{
 "cells": [
  {
   "cell_type": "markdown",
   "metadata": {},
   "source": [
    "# Maze Creator"
   ]
  },
  {
   "cell_type": "code",
   "execution_count": 3,
   "metadata": {},
   "outputs": [
    {
     "name": "stdout",
     "output_type": "stream",
     "text": [
      "XXXXXXXXXXXXXXXXXXXX\n",
      "XS111084221XX06X501X\n",
      "X654138059703950021X\n",
      "X701444843807X49707X\n",
      "X8335103X11797161X1X\n",
      "X7708X0070678305X80X\n",
      "XX3009434090X5588X1X\n",
      "X12540X046290038902X\n",
      "X531773648406660806X\n",
      "XX54526083532933773X\n",
      "X60181878074348X260X\n",
      "X9956945206175607X0X\n",
      "X002149206139965X67X\n",
      "X889175X3443X374488X\n",
      "X43240158021701124XX\n",
      "X63769311947X9021X9X\n",
      "X74153942476248XX60X\n",
      "X6X7341X26X02878916X\n",
      "X44778006X6281822XGX\n",
      "XXXXXXXXXXXXXXXXXXXX\n"
     ]
    }
   ],
   "source": [
    "# we want to create a 20x20 grid that represents a maze.\n",
    "\n",
    "# there should be one S cell - representing the start\n",
    "# there should be one G cell - representing the goal\n",
    "# there can be multiple X cells - representing walls\n",
    "# there can be multiple cells containing digits 0-9 - representing the cost of moving to that cell\n",
    "\n",
    "# let's create a function that takes in the dimensions of the grid and returns a 2D list representing the grid\n",
    "import random \n",
    "\n",
    "def create_maze(rows, cols, wall_density=0.2, cost_density=0.8,seed=False):\n",
    "    # create a 2D list of size rows x cols\n",
    "    maze = [[0 for i in range(cols)] for j in range(rows)]\n",
    "    # now we need to populate the maze with walls, start, goal and costs\n",
    "    # let's start by populating the maze with walls\n",
    "    if seed:\n",
    "        random.seed(seed)\n",
    "    for i in range(rows):\n",
    "        for j in range(cols):\n",
    "            if i == 0 or j == 0 or i == rows-1 or j == cols-1:\n",
    "                maze[i][j] = 'X'\n",
    "            elif random.random() < wall_density:\n",
    "                maze[i][j] = 'X'\n",
    "            else:\n",
    "                # create cost from 0-9 using cost_density as average\n",
    "                maze[i][j] = random.randint(0, 9) if random.random() < cost_density else 0\n",
    "    # now let's populate the maze with the start and goal\n",
    "    maze[1][1] = 'S'\n",
    "    maze[rows-2][cols-2] = 'G'\n",
    "    return maze\n",
    "\n",
    "# lets populate the maze with walls, start, goal and costs\n",
    "\n",
    "# let's create a function to print maze\n",
    "def print_maze(maze, end = '', file_name=None):\n",
    "    for row in maze:\n",
    "        for cell in row:\n",
    "            print(cell, end=end)\n",
    "        print()\n",
    "    if file_name:\n",
    "        with open(file_name, 'w') as f:\n",
    "            for row in maze:\n",
    "                for cell in row:\n",
    "                    f.write(str(cell))\n",
    "                f.write('\\n')\n",
    "\n",
    "\n",
    "\n",
    "# lets get a maze\n",
    "maze = create_maze(20, 20, wall_density=0.1, cost_density=0.9, seed=42)\n",
    "print_maze(maze)"
   ]
  },
  {
   "cell_type": "code",
   "execution_count": 4,
   "metadata": {},
   "outputs": [
    {
     "name": "stdout",
     "output_type": "stream",
     "text": [
      "XXXXXXXXXXXXXXXXXXXX\n",
      "XS111084221XX06X501X\n",
      "X654138059703950021X\n",
      "X701444843807X49707X\n",
      "X8335103X11797161X1X\n",
      "X7708X0070678305X80X\n",
      "XX3009434090X5588X1X\n",
      "X12540X046290038902X\n",
      "X531773648406660806X\n",
      "XX54526083532933773X\n",
      "X60181878074348X260X\n",
      "X9956945206175607X0X\n",
      "X002149206139965X67X\n",
      "X889175X3443X374488X\n",
      "X43240158021701124XX\n",
      "X63769311947X9021X9X\n",
      "X74153942476248XX60X\n",
      "X6X7341X26X02878916X\n",
      "X44778006X6281822XGX\n",
      "XXXXXXXXXXXXXXXXXXXX\n"
     ]
    }
   ],
   "source": [
    "# save maze to file maze_20x20.txt\n",
    "print_maze(maze, file_name='maze_20x20.txt')"
   ]
  }
 ],
 "metadata": {
  "kernelspec": {
   "display_name": "Python 3",
   "language": "python",
   "name": "python3"
  },
  "language_info": {
   "codemirror_mode": {
    "name": "ipython",
    "version": 3
   },
   "file_extension": ".py",
   "mimetype": "text/x-python",
   "name": "python",
   "nbconvert_exporter": "python",
   "pygments_lexer": "ipython3",
   "version": "3.11.4"
  }
 },
 "nbformat": 4,
 "nbformat_minor": 2
}
