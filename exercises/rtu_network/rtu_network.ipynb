{
 "cells": [
  {
   "cell_type": "code",
   "execution_count": 4,
   "metadata": {},
   "outputs": [
    {
     "name": "stdout",
     "output_type": "stream",
     "text": [
      "12\n",
      "Department EEaM -- Department MSaAC == 95\n",
      "Department RIO -- Department ETaH == 120\n",
      "Department CE -- Department EaT == 130\n",
      "Department RL -- Department TaME == 160\n",
      "Department PaEE -- Department EEaM == 180\n",
      "Department CSaIT -- Department CE == 210\n",
      "Department PaEE -- Department RL == 250\n",
      "Department AaUP -- Department CSaIT == 320\n",
      "Department EaT -- Department RIO == 350\n",
      "Department RBS -- Department RL == 750\n",
      "Department RBS -- Department RD == 1400\n",
      "Department RBS -- Department CSaIT == 1800\n",
      "Total cost: 5765\n"
     ]
    }
   ],
   "source": [
    "def find(parent, i):\n",
    "    # so base case is when the parent of the node is the node itself\n",
    "    if parent[i] == i:\n",
    "        return i\n",
    "    return find(parent, parent[i])\n",
    "\n",
    "def union(parent, rank, x, y):\n",
    "    xroot = find(parent, x)\n",
    "    yroot = find(parent, y)\n",
    "\n",
    "    if rank[xroot] < rank[yroot]:\n",
    "        parent[xroot] = yroot\n",
    "    elif rank[xroot] > rank[yroot]:\n",
    "        parent[yroot] = xroot\n",
    "    else:\n",
    "        parent[yroot] = xroot\n",
    "        rank[xroot] += 1\n",
    "\n",
    "def kruskal(graph):\n",
    "    result = []\n",
    "    i, e = 0, 0\n",
    "    graph = sorted(graph, key=lambda item: item[2])\n",
    "    parent = {}\n",
    "    # rank represents the height of the tree\n",
    "    rank = {}\n",
    "\n",
    "\n",
    "    for edge in graph:\n",
    "        for node in edge[:2]: # so you are checking both nodes\n",
    "            parent[node] = node\n",
    "            rank[node] = 0 # so initially all the nodes are at height 0 and nodes are their own parents\n",
    "\n",
    "    while e < len(graph) - 1:\n",
    "        u, v, w = graph[i]\n",
    "        i = i + 1\n",
    "        # idea is to check if the edge is creating a cycle or not\n",
    "        # in other words whether it is safe to add the edge to the result or not\n",
    "        x = find(parent, u)\n",
    "        y = find(parent, v)\n",
    "\n",
    "        if x != y: # so two different sets means we can safely add the edge\n",
    "            e = e + 1\n",
    "            result.append([u, v, w])\n",
    "            union(parent, rank, x, y) # we need to combine the two sets\n",
    "\n",
    "    return result\n",
    "\n",
    "# let's make a helper function to transform long vertex name into shorter name\n",
    "# also we want to strip optional prefix if it exists\n",
    "# shortened name will be first letter of each word when split by underscore\n",
    "def shorten_name(name, prefix='Faculty_of_'):\n",
    "    # get rid of prefix\n",
    "    if name.startswith(prefix):\n",
    "        name = name[len(prefix):]\n",
    "    return ''.join([word[0] for word in name.split('_')])\n",
    "\n",
    "def read_graph(file_name, sanity_check=True):\n",
    "    graph = []\n",
    "    # for sanity check we will use two sets of original names and shortened names\n",
    "    original_names = set()\n",
    "    shortened_names = set()\n",
    "    with open(file_name, 'r') as file:\n",
    "        for line in file:\n",
    "            u, v, w = line.strip().split()\n",
    "            if sanity_check:\n",
    "                original_names.add(u)\n",
    "                original_names.add(v)\n",
    "                u = shorten_name(u)\n",
    "                v = shorten_name(v)\n",
    "                shortened_names.add(u)\n",
    "                shortened_names.add(v)\n",
    "            else: # if we don't care about sanity check , TODO see if we can get rid of duplicate code \n",
    "                u = shorten_name(u)\n",
    "                v = shorten_name(v)\n",
    "            graph.append([u, v, int(w)])\n",
    "    if sanity_check:\n",
    "        # length of sets should be equal\n",
    "        assert len(original_names) == len(shortened_names), 'Original and shortened names have different lengths'\n",
    "\n",
    "    return graph\n",
    "\n",
    "graph = read_graph('rtu_network.txt')\n",
    "result = kruskal(graph)\n",
    "print(len(result))\n",
    "sum = 0\n",
    "\n",
    "for u, v, weight in result:\n",
    "    sum += weight\n",
    "    print(f\"Department {u} -- Department {v} == {weight}\")\n",
    "    \n",
    "print(f\"Total cost: {sum}\")"
   ]
  },
  {
   "cell_type": "code",
   "execution_count": 3,
   "metadata": {},
   "outputs": [
    {
     "name": "stdout",
     "output_type": "stream",
     "text": [
      "['Faculty_of_Engineering_Economics_and_Management', 'Faculty_of_Materials_Science_and_Applied_Chemistry', 95]\n",
      "['RTU_International_Office', 'Faculty_of_E-Learning_Technologies_and_Humanities', 120]\n",
      "['Faculty_of_Civil_Engineering', 'Faculty_of_Electronics_and_Telecommunications', 130]\n",
      "['RTU_Library', 'Faculty_of_Transport_and_Mechanical_Engineering', 160]\n",
      "['Faculty_of_Power_and_Electrical_Engineering', 'Faculty_of_Engineering_Economics_and_Management', 180]\n",
      "['Faculty_of_Computer_Science_and_Information_Technology', 'Faculty_of_Civil_Engineering', 210]\n",
      "['Faculty_of_Power_and_Electrical_Engineering', 'RTU_Library', 250]\n",
      "['Faculty_of_Architecture_and_Urban_Planning', 'Faculty_of_Computer_Science_and_Information_Technology', 320]\n",
      "['Faculty_of_Electronics_and_Telecommunications', 'RTU_International_Office', 350]\n",
      "['Riga_Business_School', 'RTU_Library', 750]\n",
      "['Riga_Business_School', 'RTU_Dorms', 1400]\n",
      "['Riga_Business_School', 'Faculty_of_Computer_Science_and_Information_Technology', 1800]\n"
     ]
    }
   ],
   "source": [
    "print(*result, sep='\\n' )"
   ]
  },
  {
   "cell_type": "markdown",
   "metadata": {},
   "source": [
    "## Visualizing the graph using pyvis"
   ]
  },
  {
   "cell_type": "code",
   "execution_count": 15,
   "metadata": {},
   "outputs": [
    {
     "name": "stdout",
     "output_type": "stream",
     "text": [
      "pyvis version: 0.3.2\n"
     ]
    }
   ],
   "source": [
    "# check pyvis version\n",
    "import pyvis\n",
    "print(f\"pyvis version: {pyvis.__version__}\")"
   ]
  },
  {
   "cell_type": "code",
   "execution_count": 5,
   "metadata": {},
   "outputs": [],
   "source": [
    "# we need to import pyvis library to visualize the graph\n",
    "from pyvis.network import Network\n"
   ]
  },
  {
   "cell_type": "code",
   "execution_count": 21,
   "metadata": {},
   "outputs": [],
   "source": [
    "\t\n",
    " \n"
   ]
  },
  {
   "cell_type": "code",
   "execution_count": 29,
   "metadata": {},
   "outputs": [
    {
     "name": "stdout",
     "output_type": "stream",
     "text": [
      "Warning: When  cdn_resources is 'local' jupyter notebook has issues displaying graphics on chrome/safari. Use cdn_resources='in_line' or cdn_resources='remote' if you have issues viewing graphics in a notebook.\n",
      "rtu_network.html\n"
     ]
    },
    {
     "data": {
      "text/html": [
       "\n",
       "        <iframe\n",
       "            width=\"100%\"\n",
       "            height=\"750px\"\n",
       "            src=\"rtu_network.html\"\n",
       "            frameborder=\"0\"\n",
       "            allowfullscreen\n",
       "            \n",
       "        ></iframe>\n",
       "        "
      ],
      "text/plain": [
       "<IPython.lib.display.IFrame at 0x278a27759d0>"
      ]
     },
     "execution_count": 29,
     "metadata": {},
     "output_type": "execute_result"
    }
   ],
   "source": [
    "# now we just need to create a network object\n",
    "g = Network(height='750px', width='100%', notebook=True)\n",
    "# options = \"\"\"{\n",
    "#     \"physics\": {\n",
    "#         \"solver\": \"barnesHut\",\n",
    "#         \"minVelocity\": 0.75,\n",
    "#         \"barnesHut\": {\n",
    "#             \"springLength\": 200,\n",
    "#             \"springConstant\": 0.04,\n",
    "#             \"avoidOverlap\": 1\n",
    "#         }\n",
    "#     },\n",
    "#     \"edges\": {\n",
    "#         \"smooth\": {\n",
    "#             \"type\": \"continuous\",\n",
    "#             \"forceDirection\": \"none\"\n",
    "#         }\n",
    "#     }\n",
    "# }\"\"\"\n",
    "options = \"\"\"\n",
    "var options = {\n",
    "    \"edges\": {\n",
    "        \"scaling\": {\n",
    "            \"label\": {\n",
    "                \"enabled\": true\n",
    "            }\n",
    "        }\n",
    "    }\n",
    "}\n",
    "\"\"\"\n",
    "\n",
    "g.set_options(options)\n",
    "# now we just add nodes and edges\n",
    "for u, v, w in result:\n",
    "    g.add_node(u, label=u)\n",
    "    g.add_node(v, label=v) \n",
    "    g.add_edge(u, v, value=w, label=str(w), color='orange' if w > 100 else 'green')\n",
    "# show labels for nodes AND edges\n",
    "# g.show_buttons(filter_=['physics'])\n",
    "# now we just need to call show\n",
    "# g.show_buttons(filter_=['nodes', 'edges', 'physics'])\n",
    "g.show('rtu_network.html')\n",
    "\n",
    "# Issue on adding edge labels visible\n",
    "# https://github.com/WestHealth/pyvis/issues/153\n",
    "# TODO check the unicode issue for cdn_resources"
   ]
  },
  {
   "cell_type": "code",
   "execution_count": null,
   "metadata": {},
   "outputs": [],
   "source": [
    "# TODO figure which hypothesis was correct for the lack of edge labels\n",
    "# 1. unicode issue\n",
    "# title and label \n",
    "# str issue\n",
    "# or options issue"
   ]
  }
 ],
 "metadata": {
  "kernelspec": {
   "display_name": "Python 3",
   "language": "python",
   "name": "python3"
  },
  "language_info": {
   "codemirror_mode": {
    "name": "ipython",
    "version": 3
   },
   "file_extension": ".py",
   "mimetype": "text/x-python",
   "name": "python",
   "nbconvert_exporter": "python",
   "pygments_lexer": "ipython3",
   "version": "3.11.4"
  }
 },
 "nbformat": 4,
 "nbformat_minor": 2
}
