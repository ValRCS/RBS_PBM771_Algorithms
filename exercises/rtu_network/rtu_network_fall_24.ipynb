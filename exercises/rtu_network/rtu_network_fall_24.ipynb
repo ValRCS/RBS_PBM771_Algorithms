{
 "cells": [
  {
   "cell_type": "markdown",
   "metadata": {},
   "source": [
    "# MST for RTU network\n",
    "\n",
    "Task is to calculate minimum spanning tree for RTU campus network"
   ]
  },
  {
   "cell_type": "code",
   "execution_count": 4,
   "metadata": {},
   "outputs": [
    {
     "name": "stdout",
     "output_type": "stream",
     "text": [
      "Minimum spanning tree weight: 5765\n",
      "Edges in the MST:\n",
      "('Faculty_of_Engineering_Economics_and_Management', 'Faculty_of_Materials_Science_and_Applied_Chemistry', 95)\n",
      "('RTU_International_Office', 'Faculty_of_E-Learning_Technologies_and_Humanities', 120)\n",
      "('Faculty_of_Civil_Engineering', 'Faculty_of_Electronics_and_Telecommunications', 130)\n",
      "('RTU_Library', 'Faculty_of_Transport_and_Mechanical_Engineering', 160)\n",
      "('Faculty_of_Power_and_Electrical_Engineering', 'Faculty_of_Engineering_Economics_and_Management', 180)\n",
      "('Faculty_of_Computer_Science_and_Information_Technology', 'Faculty_of_Civil_Engineering', 210)\n",
      "('Faculty_of_Power_and_Electrical_Engineering', 'RTU_Library', 250)\n",
      "('Faculty_of_Architecture_and_Urban_Planning', 'Faculty_of_Computer_Science_and_Information_Technology', 320)\n",
      "('Faculty_of_Electronics_and_Telecommunications', 'RTU_International_Office', 350)\n",
      "('Riga_Business_School', 'RTU_Library', 750)\n",
      "('Riga_Business_School', 'RTU_Dorms', 1400)\n",
      "('Riga_Business_School', 'Faculty_of_Computer_Science_and_Information_Technology', 1800)\n"
     ]
    }
   ],
   "source": [
    "# single connection (edge) in the graph\n",
    "class Edge:\n",
    "    def __init__(self, src, dest, weight):\n",
    "        self.src = src #start of edge\n",
    "        self.dest = dest #end of edge\n",
    "        self.weight = weight #cost (lenght) of the edge\n",
    "\n",
    "#graphs and to calculate MST\n",
    "class Graph:\n",
    "    def __init__(self, edges):\n",
    "        self.edges = edges #list of all edges in the graph\n",
    "        self.parent = {} #tracks each parent node\n",
    "        self.rank = {} #tracks the depth of the tree\n",
    "\n",
    "    #dinds the root of the set containing node\n",
    "    def find(self, node):\n",
    "        if self.parent[node] != node:\n",
    "            self.parent[node] = self.find(self.parent[node])  #path compression (to speed up lookups by flattening th tree)\n",
    "        return self.parent[node]\n",
    "\n",
    "    #merges sets containing the nodes u and v\n",
    "    def union(self, u, v):\n",
    "        root_u = self.find(u)\n",
    "        root_v = self.find(v)\n",
    "\n",
    "        if root_u != root_v:\n",
    "            if self.rank[root_u] > self.rank[root_v]:\n",
    "                self.parent[root_v] = root_u\n",
    "            elif self.rank[root_u] < self.rank[root_v]:\n",
    "                self.parent[root_u] = root_v\n",
    "            else:\n",
    "                self.parent[root_v] = root_u\n",
    "                self.rank[root_u] += 1\n",
    "\n",
    "    #kruskals algo to calculate MST\n",
    "    def kruskal(self):\n",
    "        mst_weight = 0\n",
    "        mst_edges = []\n",
    "\n",
    "        #initialize sets for each node\n",
    "        for edge in self.edges:\n",
    "            self.parent[edge.src] = edge.src\n",
    "            self.parent[edge.dest] = edge.dest\n",
    "            self.rank[edge.src] = 0\n",
    "            self.rank[edge.dest] = 0\n",
    "\n",
    "        #sort edges by weight\n",
    "        self.edges.sort(key=lambda x: x.weight)\n",
    "\n",
    "        #goest through edges and adds them to MST if they dont form a cycle\n",
    "        for edge in self.edges:\n",
    "            if self.find(edge.src) != self.find(edge.dest):\n",
    "                self.union(edge.src, edge.dest)\n",
    "                mst_weight += edge.weight\n",
    "                mst_edges.append(edge)\n",
    "\n",
    "        return mst_weight, mst_edges\n",
    "\n",
    "def main():\n",
    "    edges = []\n",
    "    with open(\"rtu_network.txt\", \"r\") as file:\n",
    "        for line in file:\n",
    "            parts = line.strip().split()\n",
    "            src, dest, weight = parts[0], parts[1], int(parts[2])\n",
    "            edges.append(Edge(src, dest, weight))\n",
    "\n",
    "    graph = Graph(edges)\n",
    "    mst_weight, mst_edges = graph.kruskal()\n",
    "    print(\"Minimum spanning tree weight:\", mst_weight)\n",
    "\n",
    "    #if you want to see the edges of MST, remove the comment from the next line\n",
    "    print(\"Edges in the MST:\", *[(e.src, e.dest, e.weight) for e in mst_edges], sep=\"\\n\")\n",
    "    return mst_weight, mst_edges\n",
    "\n",
    "# if __name__ == \"__main__\":\n",
    "#     main()\n",
    "mst_weight, mst_edges = main()\n"
   ]
  },
  {
   "cell_type": "code",
   "execution_count": 8,
   "metadata": {},
   "outputs": [
    {
     "name": "stdout",
     "output_type": "stream",
     "text": [
      "Edges in the MST with shortened names:\n",
      "('FoEEaM', 'FoMSaAC', 95)\n",
      "('RIO', 'FoETaH', 120)\n",
      "('FoCE', 'FoEaT', 130)\n",
      "('RL', 'FoTaME', 160)\n",
      "('FoPaEE', 'FoEEaM', 180)\n",
      "('FoCSaIT', 'FoCE', 210)\n",
      "('FoPaEE', 'RL', 250)\n",
      "('FoAaUP', 'FoCSaIT', 320)\n",
      "('FoEaT', 'RIO', 350)\n",
      "('RBS', 'RL', 750)\n",
      "('RBS', 'RD', 1400)\n",
      "('RBS', 'FoCSaIT', 1800)\n"
     ]
    }
   ],
   "source": [
    "# let's make a same edge list for the graph except we want to use a shortened names for the nodes\n",
    "# we will define a function to return the shortened name for the node\n",
    "# then we will create a new list of edges with the shortened names\n",
    "def shorten_name(name):\n",
    "    # our algorithm will be simple we will split by _ and take the first letter of each word\n",
    "    # danger with this approach we could have same shortened names for different nodes resolve into same name\n",
    "    # we will ignore this for now...\n",
    "    return \"\".join([word[0] for word in name.split(\"_\")])\n",
    "\n",
    "shortened_edges = []\n",
    "for edge in mst_edges:\n",
    "    src = shorten_name(edge.src)\n",
    "    dest = shorten_name(edge.dest)\n",
    "    weight = edge.weight\n",
    "    shortened_edges.append(Edge(src, dest, weight))\n",
    "\n",
    "# let's print the shortened edges\n",
    "print(\"Edges in the MST with shortened names:\", *[(e.src, e.dest, e.weight) for e in shortened_edges], sep=\"\\n\")"
   ]
  },
  {
   "cell_type": "code",
   "execution_count": 7,
   "metadata": {},
   "outputs": [],
   "source": [
    "# now let's use pyvis to visualize this graph\n",
    "try:\n",
    "    from pyvis.network import Network\n",
    "except ImportError:\n",
    "    print(\"pyvis is not installed. Run 'pip install pyvis' to install it.\")\n",
    "    \n",
    "\n"
   ]
  },
  {
   "cell_type": "code",
   "execution_count": null,
   "metadata": {},
   "outputs": [
    {
     "name": "stdout",
     "output_type": "stream",
     "text": [
      "Collecting pyvis\n",
      "  Obtaining dependency information for pyvis from https://files.pythonhosted.org/packages/ab/4b/e37e4e5d5ee1179694917b445768bdbfb084f5a59ecd38089d3413d4c70f/pyvis-0.3.2-py3-none-any.whl.metadata\n",
      "  Downloading pyvis-0.3.2-py3-none-any.whl.metadata (1.7 kB)\n",
      "Requirement already satisfied: ipython>=5.3.0 in /workspaces/RBS_PBM771_Algorithms/venv/lib/python3.12/site-packages (from pyvis) (8.27.0)\n",
      "Collecting jinja2>=2.9.6 (from pyvis)\n",
      "  Obtaining dependency information for jinja2>=2.9.6 from https://files.pythonhosted.org/packages/31/80/3a54838c3fb461f6fec263ebf3a3a41771bd05190238de3486aae8540c36/jinja2-3.1.4-py3-none-any.whl.metadata\n",
      "  Downloading jinja2-3.1.4-py3-none-any.whl.metadata (2.6 kB)\n",
      "Collecting jsonpickle>=1.4.1 (from pyvis)\n",
      "  Obtaining dependency information for jsonpickle>=1.4.1 from https://files.pythonhosted.org/packages/a1/64/815460f86d94c9e1431800a75061719824c6fef14d88a6117eba3126cd5b/jsonpickle-4.0.0-py3-none-any.whl.metadata\n",
      "  Downloading jsonpickle-4.0.0-py3-none-any.whl.metadata (8.2 kB)\n",
      "Requirement already satisfied: networkx>=1.11 in /workspaces/RBS_PBM771_Algorithms/venv/lib/python3.12/site-packages (from pyvis) (3.4.2)\n",
      "Requirement already satisfied: decorator in /workspaces/RBS_PBM771_Algorithms/venv/lib/python3.12/site-packages (from ipython>=5.3.0->pyvis) (5.1.1)\n",
      "Requirement already satisfied: jedi>=0.16 in /workspaces/RBS_PBM771_Algorithms/venv/lib/python3.12/site-packages (from ipython>=5.3.0->pyvis) (0.19.1)\n",
      "Requirement already satisfied: matplotlib-inline in /workspaces/RBS_PBM771_Algorithms/venv/lib/python3.12/site-packages (from ipython>=5.3.0->pyvis) (0.1.7)\n",
      "Requirement already satisfied: prompt-toolkit<3.1.0,>=3.0.41 in /workspaces/RBS_PBM771_Algorithms/venv/lib/python3.12/site-packages (from ipython>=5.3.0->pyvis) (3.0.48)\n",
      "Requirement already satisfied: pygments>=2.4.0 in /workspaces/RBS_PBM771_Algorithms/venv/lib/python3.12/site-packages (from ipython>=5.3.0->pyvis) (2.18.0)\n",
      "Requirement already satisfied: stack-data in /workspaces/RBS_PBM771_Algorithms/venv/lib/python3.12/site-packages (from ipython>=5.3.0->pyvis) (0.6.3)\n",
      "Requirement already satisfied: traitlets>=5.13.0 in /workspaces/RBS_PBM771_Algorithms/venv/lib/python3.12/site-packages (from ipython>=5.3.0->pyvis) (5.14.3)\n",
      "Requirement already satisfied: pexpect>4.3 in /workspaces/RBS_PBM771_Algorithms/venv/lib/python3.12/site-packages (from ipython>=5.3.0->pyvis) (4.9.0)\n",
      "Collecting MarkupSafe>=2.0 (from jinja2>=2.9.6->pyvis)\n",
      "  Obtaining dependency information for MarkupSafe>=2.0 from https://files.pythonhosted.org/packages/f3/f0/89e7aadfb3749d0f52234a0c8c7867877876e0a20b60e2188e9850794c17/MarkupSafe-3.0.2-cp312-cp312-manylinux_2_17_x86_64.manylinux2014_x86_64.whl.metadata\n",
      "  Downloading MarkupSafe-3.0.2-cp312-cp312-manylinux_2_17_x86_64.manylinux2014_x86_64.whl.metadata (4.0 kB)\n",
      "Requirement already satisfied: parso<0.9.0,>=0.8.3 in /workspaces/RBS_PBM771_Algorithms/venv/lib/python3.12/site-packages (from jedi>=0.16->ipython>=5.3.0->pyvis) (0.8.4)\n",
      "Requirement already satisfied: ptyprocess>=0.5 in /workspaces/RBS_PBM771_Algorithms/venv/lib/python3.12/site-packages (from pexpect>4.3->ipython>=5.3.0->pyvis) (0.7.0)\n",
      "Requirement already satisfied: wcwidth in /workspaces/RBS_PBM771_Algorithms/venv/lib/python3.12/site-packages (from prompt-toolkit<3.1.0,>=3.0.41->ipython>=5.3.0->pyvis) (0.2.13)\n",
      "Requirement already satisfied: executing>=1.2.0 in /workspaces/RBS_PBM771_Algorithms/venv/lib/python3.12/site-packages (from stack-data->ipython>=5.3.0->pyvis) (2.1.0)\n",
      "Requirement already satisfied: asttokens>=2.1.0 in /workspaces/RBS_PBM771_Algorithms/venv/lib/python3.12/site-packages (from stack-data->ipython>=5.3.0->pyvis) (2.4.1)\n",
      "Requirement already satisfied: pure-eval in /workspaces/RBS_PBM771_Algorithms/venv/lib/python3.12/site-packages (from stack-data->ipython>=5.3.0->pyvis) (0.2.3)\n",
      "Requirement already satisfied: six>=1.12.0 in /workspaces/RBS_PBM771_Algorithms/venv/lib/python3.12/site-packages (from asttokens>=2.1.0->stack-data->ipython>=5.3.0->pyvis) (1.16.0)\n",
      "Downloading pyvis-0.3.2-py3-none-any.whl (756 kB)\n",
      "\u001b[2K   \u001b[90m━━━━━━━━━━━━━━━━━━━━━━━━━━━━━━━━━━━━━━━━\u001b[0m \u001b[32m756.0/756.0 kB\u001b[0m \u001b[31m18.3 MB/s\u001b[0m eta \u001b[36m0:00:00\u001b[0m00:01\u001b[0m\n",
      "\u001b[?25hDownloading jinja2-3.1.4-py3-none-any.whl (133 kB)\n",
      "\u001b[2K   \u001b[90m━━━━━━━━━━━━━━━━━━━━━━━━━━━━━━━━━━━━━━━━\u001b[0m \u001b[32m133.3/133.3 kB\u001b[0m \u001b[31m10.7 MB/s\u001b[0m eta \u001b[36m0:00:00\u001b[0m\n",
      "\u001b[?25hDownloading jsonpickle-4.0.0-py3-none-any.whl (46 kB)\n",
      "\u001b[2K   \u001b[90m━━━━━━━━━━━━━━━━━━━━━━━━━━━━━━━━━━━━━━━━\u001b[0m \u001b[32m46.2/46.2 kB\u001b[0m \u001b[31m3.6 MB/s\u001b[0m eta \u001b[36m0:00:00\u001b[0m\n",
      "\u001b[?25hDownloading MarkupSafe-3.0.2-cp312-cp312-manylinux_2_17_x86_64.manylinux2014_x86_64.whl (23 kB)\n",
      "Installing collected packages: MarkupSafe, jsonpickle, jinja2, pyvis\n",
      "Successfully installed MarkupSafe-3.0.2 jinja2-3.1.4 jsonpickle-4.0.0 pyvis-0.3.2\n",
      "\n",
      "\u001b[1m[\u001b[0m\u001b[34;49mnotice\u001b[0m\u001b[1;39;49m]\u001b[0m\u001b[39;49m A new release of pip is available: \u001b[0m\u001b[31;49m23.2.1\u001b[0m\u001b[39;49m -> \u001b[0m\u001b[32;49m24.3.1\u001b[0m\n",
      "\u001b[1m[\u001b[0m\u001b[34;49mnotice\u001b[0m\u001b[1;39;49m]\u001b[0m\u001b[39;49m To update, run: \u001b[0m\u001b[32;49mpip install --upgrade pip\u001b[0m\n"
     ]
    }
   ],
   "source": [
    "# !pip install pyvis"
   ]
  },
  {
   "cell_type": "code",
   "execution_count": 10,
   "metadata": {},
   "outputs": [
    {
     "name": "stdout",
     "output_type": "stream",
     "text": [
      "Warning: When  cdn_resources is 'local' jupyter notebook has issues displaying graphics on chrome/safari. Use cdn_resources='in_line' or cdn_resources='remote' if you have issues viewing graphics in a notebook.\n",
      "mst.html\n"
     ]
    },
    {
     "data": {
      "text/html": [
       "\n",
       "        <iframe\n",
       "            width=\"100%\"\n",
       "            height=\"750px\"\n",
       "            src=\"mst.html\"\n",
       "            frameborder=\"0\"\n",
       "            allowfullscreen\n",
       "            \n",
       "        ></iframe>\n",
       "        "
      ],
      "text/plain": [
       "<IPython.lib.display.IFrame at 0x7b583e77dc40>"
      ]
     },
     "execution_count": 10,
     "metadata": {},
     "output_type": "execute_result"
    }
   ],
   "source": [
    "# now let's use pyvis to visualize this graph\n",
    "# we have Network object to represent the graph\n",
    "net = Network(height=\"750px\", width=\"100%\", bgcolor=\"#222222\", font_color=\"white\", notebook=True)\n",
    "\n",
    "# now let's add some nodes\n",
    "# we can add nodes one by one\n",
    "# or we can add a list of nodes\n",
    "# let's add a list\n",
    "# we can also set the node size and color\n",
    "# we can also set the node shape\n",
    "\n",
    "# add nodes\n",
    "nodes = set()\n",
    "for edge in shortened_edges:\n",
    "    nodes.add(edge.src)\n",
    "    nodes.add(edge.dest)\n",
    "\n",
    "for node in nodes:\n",
    "    net.add_node(node, label=node, size=10, color=\"red\", shape=\"dot\")\n",
    "\n",
    "# now let's add edges\n",
    "# we can add edges one by one\n",
    "# or we can add a list of edges\n",
    "\n",
    "# add edges\n",
    "for edge in shortened_edges:\n",
    "    net.add_edge(edge.src, edge.dest, value=edge.weight)\n",
    "\n",
    "# now let's show the graph\n",
    "net.show(\"mst.html\")"
   ]
  }
 ],
 "metadata": {
  "kernelspec": {
   "display_name": "venv",
   "language": "python",
   "name": "python3"
  },
  "language_info": {
   "codemirror_mode": {
    "name": "ipython",
    "version": 3
   },
   "file_extension": ".py",
   "mimetype": "text/x-python",
   "name": "python",
   "nbconvert_exporter": "python",
   "pygments_lexer": "ipython3",
   "version": "3.12.1"
  }
 },
 "nbformat": 4,
 "nbformat_minor": 2
}
