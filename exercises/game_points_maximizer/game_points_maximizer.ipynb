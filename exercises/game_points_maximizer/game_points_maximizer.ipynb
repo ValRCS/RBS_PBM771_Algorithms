{
 "cells": [
  {
   "cell_type": "markdown",
   "id": "05fa6c0b",
   "metadata": {},
   "source": [
    "# Game Points Maximizer Exercise\n",
    "\n",
    "From course exercise: https://estudijas.rtu.lv/course/view.php?id=711866\n",
    "\n",
    "<img src=\"https://github.com/ValRCS/RBS_PBM771_Algorithms/blob/main/imgs/exercises/max_game_levels_Japanese_game_arcade.webp?raw=true\" alt=\"Game Points Maximizer\" style=\"width: 400px;\"/>"
   ]
  },
  {
   "cell_type": "markdown",
   "id": "26f96e4a",
   "metadata": {},
   "source": [
    "## Problem Statement:\n",
    "\n",
    "You are playing an online game (or arcade) where you have to collect points by moving through a series of levels. Each level has a certain number of points associated with it. You can choose to play any level, but once you play a level, you cannot play the next consecutive level (to avoid overexertion). Your goal is to maximize the total points you can collect without violating this rule.\n",
    "\n",
    "### Input:\n",
    "\n",
    "An array points of length n where points[i] represents the number of points you can collect from level i.\n",
    "\n",
    "### Output:\n",
    "\n",
    "Return the maximum number of points you can collect by playing the levels.\n",
    "Constraints:\n",
    "\n",
    "1 less or equal than n less or equal than 1000\n",
    "1 less or equal than p o i n t s not stretchy left square bracket i not stretchy right square bracket less or equal than 100\n",
    "\n",
    "### Example 1:\n",
    "\n",
    "Input: points = [3, 2, 5, 10, 7]\n",
    "\n",
    "Output: 15\n",
    "\n",
    "Explanation:\n",
    "\n",
    "- You can collect 3 points from level 0, skip level 1, collect 5 points from level 2, skip level 3, and collect 7 points from level 4.\n",
    "\n",
    "\n",
    "- Total points = 3 + 5 + 7 = 15\n",
    "\n",
    "\n",
    "\n",
    "\n",
    "### Example 2:\n",
    "\n",
    "Input: points = [10, 2, 2, 10]\n",
    "\n",
    "Output: 20\n",
    "\n",
    "Explanation:\n",
    "\n",
    "- You can collect 10 points from level 0, skip level 1, skip level 2, collect 10 points from level 3.\n",
    "\n",
    "\n",
    "- Total points = 10 + 10 = 20\n",
    "\n",
    "\n",
    "\n",
    "\n",
    "### Detailed Explanation:\n",
    "\n",
    "* The problem is analogous to the \"House Robber Problem\" at Leetcode where you can't rob two adjacent houses. Here, you can't play two consecutive levels.\n",
    "* Use a dynamic programming array dp where dp[i] represents the maximum points that can be collected from level 0 to level i.\n",
    "* Transition Formula: display style d p not stretchy left square bracket i not stretchy right square bracket equals max invisible function application not stretchy left parenthesis d p not stretchy left square bracket i minus 1 not stretchy right square bracket comma p o i n t s not stretchy left square bracket i not stretchy right square bracket plus not stretchy left parenthesis d p not stretchy left square bracket i minus 2 not stretchy right square bracket text  if  end text i greater or equal than 2 text  else  end text 0 not stretchy right parenthesis not stretchy right parenthesis\n",
    "\n",
    "#### Base cases:\n",
    "* dp[0] = points[0]\n",
    "* dp[1] = max(points[0], points[1]) if n >= 2\n",
    "\n",
    "### Hints for Solution:\n",
    "\n",
    "* Use a dynamic programming approach to build up the solution for each level.\n",
    "* You only need to keep track of the maximum points collected up to the previous level and the one before it, so you can optimize space usage if needed.\n",
    "* Think about what happens if you decide to play a particular level: you must skip the next, and then you are left with the problem starting from the next non-consecutive level.\n",
    "* Expected Solution Time Complexity:\n",
    "\n",
    "### Expected Solution Time and Space Complexity:\n",
    "\n",
    "* Time Complexity: O(n)\n",
    "* Space Complexity: O(n) (Can be optimized to O(1) by only storing the last two results)"
   ]
  },
  {
   "cell_type": "code",
   "execution_count": 1,
   "id": "34794a03",
   "metadata": {},
   "outputs": [
    {
     "name": "stdout",
     "output_type": "stream",
     "text": [
      "Date: 2025-09-25 11:37:45\n",
      "Python version: 3.12.5 (tags/v3.12.5:ff3bc82, Aug  6 2024, 20:45:27) [MSC v.1940 64 bit (AMD64)]\n"
     ]
    }
   ],
   "source": [
    "# let's show date and Python version\n",
    "import sys\n",
    "from datetime import datetime\n",
    "print(f\"Date: {datetime.now().strftime('%Y-%m-%d %H:%M:%S')}\")\n",
    "print(f\"Python version: {sys.version}\")\n"
   ]
  },
  {
   "cell_type": "code",
   "execution_count": 3,
   "id": "d858cc13",
   "metadata": {},
   "outputs": [],
   "source": [
    "# let's have a sample list of length 6\n",
    "points = [3, 2, 5, 10, 7, 8]"
   ]
  },
  {
   "cell_type": "markdown",
   "id": "a92a9e92",
   "metadata": {},
   "source": [
    "## Brute Force approach"
   ]
  },
  {
   "cell_type": "code",
   "execution_count": 4,
   "id": "6a8f7101",
   "metadata": {},
   "outputs": [
    {
     "name": "stdout",
     "output_type": "stream",
     "text": [
      "Brute Force approach: Maximum points = 21\n"
     ]
    }
   ],
   "source": [
    "# let's start with brute force approach where we generate all possible combinations of levels to play\n",
    "# we use constraint that we cannot play two consecutive levels\n",
    "# second rule is that we skip one or two levels only\n",
    "# no point in skipping more than two levels because then we could have just played the skipped level\n",
    "\n",
    "def max_points_brute_force(points):\n",
    "    n = len(points)\n",
    "    max_points = 0\n",
    "\n",
    "    # helper function to generate all combinations recursively\n",
    "    def helper(index, current_points):\n",
    "        nonlocal max_points\n",
    "        if index >= n:\n",
    "            max_points = max(max_points, current_points)\n",
    "            return\n",
    "        # choose the current level and skip the next one\n",
    "        helper(index + 2, current_points + points[index])\n",
    "        # choose the current level and skip the next two\n",
    "        helper(index + 3, current_points + points[index])\n",
    "        # skip the current level\n",
    "        helper(index + 1, current_points)\n",
    "\n",
    "    helper(0, 0)\n",
    "    return max_points\n",
    "\n",
    "# let's try it on our sample list\n",
    "print(f\"Brute Force approach: Maximum points = {max_points_brute_force(points)}\")"
   ]
  },
  {
   "cell_type": "markdown",
   "id": "c0c18994",
   "metadata": {},
   "source": [
    "## Bottom up solution with full dp array"
   ]
  },
  {
   "cell_type": "code",
   "execution_count": 5,
   "id": "99a53e31",
   "metadata": {},
   "outputs": [
    {
     "name": "stdout",
     "output_type": "stream",
     "text": [
      "Bottom up with full dp array: Maximum points = 21\n"
     ]
    }
   ],
   "source": [
    "def bottom_up_full_dp_array(points):\n",
    "    n = len(points)\n",
    "    if n == 0:\n",
    "        return 0\n",
    "    if n == 1:\n",
    "        return points[0]\n",
    "    \n",
    "    dp = [0] * n  # Creates an empty list of size n\n",
    "    \n",
    "    # Base cases\n",
    "    dp[0] = points[0]\n",
    "    dp[1] = max(points[0], points[1])\n",
    "    \n",
    "    for i in range(2, n):\n",
    "        dp[i] = max(dp[i-1], points[i] + dp[i-2])\n",
    "    return dp[n-1]  # Returns the maximum points possible considering all levels\n",
    "\n",
    "print(f\"Bottom up with full dp array: Maximum points = {bottom_up_full_dp_array(points)}\")"
   ]
  },
  {
   "cell_type": "markdown",
   "id": "a55b61a4",
   "metadata": {},
   "source": [
    "## Bottom Up with optimized space\n",
    "\n",
    "Next key insight, we don't need the full dp array, just the last two values.\n"
   ]
  },
  {
   "cell_type": "code",
   "execution_count": 6,
   "id": "f0de7bb8",
   "metadata": {},
   "outputs": [
    {
     "name": "stdout",
     "output_type": "stream",
     "text": [
      "Bottom up with optimized space: Maximum points = 21\n"
     ]
    }
   ],
   "source": [
    "def bottom_up_optimized_space(points):\n",
    "    n = len(points)\n",
    "    if n == 0:\n",
    "        return 0\n",
    "    if n == 1:\n",
    "        return points[0]\n",
    "\n",
    "    prev2 = points[0]\n",
    "    prev1 = max(points[0], points[1])\n",
    "\n",
    "    for i in range(2, n):\n",
    "        current = max(prev1, points[i] + prev2)\n",
    "        prev2 = prev1\n",
    "        prev1 = current\n",
    "    return prev1\n",
    "\n",
    "print(f\"Bottom up with optimized space: Maximum points = {bottom_up_optimized_space(points)}\")"
   ]
  },
  {
   "cell_type": "markdown",
   "id": "62cdd7db",
   "metadata": {},
   "source": [
    "## Testing different solutions with a larger input"
   ]
  },
  {
   "cell_type": "code",
   "execution_count": 11,
   "id": "1781f347",
   "metadata": {},
   "outputs": [
    {
     "name": "stdout",
     "output_type": "stream",
     "text": [
      "Generated test case of size 10 with 10 points.\n",
      "Generated test case of size 20 with 20 points.\n",
      "Generated test case of size 50 with 50 points.\n",
      "Generated test case of size 100 with 100 points.\n",
      "Generated test case of size 200 with 200 points.\n",
      "Generated test case of size 500 with 500 points.\n",
      "Generated test case of size 1000 with 1000 points.\n",
      "Generated test case of size 10000 with 10000 points.\n"
     ]
    }
   ],
   "source": [
    "# let's generate 100, 1000 and 10000 random points and see how the algorithms perform\n",
    "import random\n",
    "# seed 2025 for reproducibility\n",
    "random.seed(2025)\n",
    "sizes = [10, 20, 50, 100, 200, 500, 1000, 10000]\n",
    "INT_LOW = 1\n",
    "INT_HIGH = 100\n",
    "# we will use dictionary to store our random point, keys are sizes, values are the lists of random points\n",
    "test_cases = {size: [random.randint(INT_LOW, INT_HIGH) for _ in range(size)] for size in sizes}\n",
    "# print lengths of generated test cases\n",
    "for size in sizes:\n",
    "    print(f\"Generated test case of size {size} with {len(test_cases[size])} points.\")\n"
   ]
  },
  {
   "cell_type": "code",
   "execution_count": 11,
   "id": "2fb75a8e",
   "metadata": {},
   "outputs": [
    {
     "name": "stdout",
     "output_type": "stream",
     "text": [
      "Size: 10, Maximum points = 344\n",
      "Size: 20, Maximum points = 543\n",
      "Size: 50, Maximum points = 1656\n",
      "Size: 100, Maximum points = 2933\n",
      "Size: 1000, Maximum points = 29065\n",
      "Size: 10000, Maximum points = 294864\n"
     ]
    }
   ],
   "source": [
    "# let's get answers for all 3 using optimized bottom up approach\n",
    "for size in test_cases: # we iterate over keys of dictionary - safer than going through some predefined list\n",
    "    points = test_cases[size]\n",
    "    result = bottom_up_optimized_space(points)\n",
    "    print(f\"Size: {size}, Maximum points = {result}\")"
   ]
  },
  {
   "cell_type": "code",
   "execution_count": 13,
   "id": "7c713fca",
   "metadata": {},
   "outputs": [
    {
     "name": "stdout",
     "output_type": "stream",
     "text": [
      "Brute Force approach on size 20: Maximum points = 543\n"
     ]
    }
   ],
   "source": [
    "# how about brute force approach?\n",
    "# let's see about \n",
    "POINTS = 20\n",
    "print(f\"Brute Force approach on size {POINTS}: Maximum points = {max_points_brute_force(test_cases[POINTS])}\")"
   ]
  },
  {
   "cell_type": "code",
   "execution_count": 14,
   "id": "95a8a246",
   "metadata": {},
   "outputs": [
    {
     "name": "stdout",
     "output_type": "stream",
     "text": [
      "Bottom up with full dp array on size 1000: Maximum points = 29065\n"
     ]
    }
   ],
   "source": [
    "# so let's test bottom up with full dp array on large input\n",
    "print(f\"Bottom up with full dp array on size 1000: Maximum points = {bottom_up_full_dp_array(test_cases[1000])}\")"
   ]
  },
  {
   "cell_type": "code",
   "execution_count": 15,
   "id": "53b633db",
   "metadata": {},
   "outputs": [
    {
     "name": "stdout",
     "output_type": "stream",
     "text": [
      "782 μs ± 23 μs per loop (mean ± std. dev. of 7 runs, 1,000 loops each)\n"
     ]
    }
   ],
   "source": [
    "%%timeit\n",
    "bottom_up_full_dp_array(test_cases[1000])"
   ]
  },
  {
   "cell_type": "code",
   "execution_count": 17,
   "id": "ff66be3f",
   "metadata": {},
   "outputs": [
    {
     "name": "stdout",
     "output_type": "stream",
     "text": [
      "664 μs ± 51.3 μs per loop (mean ± std. dev. of 7 runs, 1,000 loops each)\n"
     ]
    }
   ],
   "source": [
    "%%timeit\n",
    "bottom_up_optimized_space(test_cases[1000])"
   ]
  },
  {
   "cell_type": "code",
   "execution_count": 19,
   "id": "b566dce0",
   "metadata": {},
   "outputs": [
    {
     "name": "stdout",
     "output_type": "stream",
     "text": [
      "8.52 ms ± 504 μs per loop (mean ± std. dev. of 7 runs, 100 loops each)\n"
     ]
    }
   ],
   "source": [
    "%%timeit\n",
    "bottom_up_full_dp_array(test_cases[10000])"
   ]
  },
  {
   "cell_type": "code",
   "execution_count": 20,
   "id": "d90f1f99",
   "metadata": {},
   "outputs": [
    {
     "name": "stdout",
     "output_type": "stream",
     "text": [
      "6.28 ms ± 197 μs per loop (mean ± std. dev. of 7 runs, 100 loops each)\n"
     ]
    }
   ],
   "source": [
    "%%timeit\n",
    "bottom_up_optimized_space(test_cases[10000])"
   ]
  },
  {
   "cell_type": "markdown",
   "id": "0e6aed2a",
   "metadata": {},
   "source": [
    "## Memoized Brute Force\n",
    "\n",
    "We can use Pythons built in lru_cache decorator to memoize the brute force solution. This will store results of previous computations and avoid redundant calculations."
   ]
  },
  {
   "cell_type": "code",
   "execution_count": null,
   "id": "1b63ca4e",
   "metadata": {},
   "outputs": [
    {
     "name": "stdout",
     "output_type": "stream",
     "text": [
      "Memoized Brute Force approach on size 20: Maximum points = 543\n"
     ]
    }
   ],
   "source": [
    "# # let's create a memoized version of brute force approach\n",
    "# from functools import lru_cache\n",
    "\n",
    "# @lru_cache(maxsize=None)\n",
    "# def memoized_brute_force(points, n):\n",
    "#     # two base cases\n",
    "#     if n == 0:\n",
    "#         return points[0]\n",
    "#     if n == 1:\n",
    "#         return max(points[0], points[1])\n",
    "#     return max(memoized_brute_force(points, n - 1), points[n] + memoized_brute_force(points, n - 2))\n",
    "\n",
    "# # test on size 20\n",
    "# print(f\"Memoized Brute Force approach on size {POINTS}: Maximum points = {memoized_brute_force(tuple(test_cases[POINTS]), POINTS - 1)}\")"
   ]
  },
  {
   "cell_type": "code",
   "execution_count": null,
   "id": "3b92588f",
   "metadata": {},
   "outputs": [
    {
     "name": "stdout",
     "output_type": "stream",
     "text": [
      "Memoized Brute Force approach on size 20: Maximum points = 543\n"
     ]
    }
   ],
   "source": [
    "# ✅ Fix\n",
    "\n",
    "# Don’t pass the whole list into the recursive key.\n",
    "# Instead, close over points in an outer function, and only memoize by index n.\n",
    "\n",
    "from functools import lru_cache\n",
    "\n",
    "def memoized_brute_force(points):\n",
    "    # closure over points\n",
    "    @lru_cache(maxsize=None)\n",
    "    def dfs(n):\n",
    "        if n == 0:\n",
    "            return points[0]\n",
    "        if n == 1:\n",
    "            return max(points[0], points[1])\n",
    "        return max(dfs(n-1), points[n] + dfs(n-2))\n",
    "    \n",
    "    return dfs(len(points)-1)\n",
    "\n",
    "# test on size 20\n",
    "POINTS = 20\n",
    "print(f\"Memoized Brute Force approach on size {POINTS}: Maximum points = {memoized_brute_force(test_cases[POINTS])}\")"
   ]
  },
  {
   "cell_type": "code",
   "execution_count": 13,
   "id": "7b1e01a3",
   "metadata": {},
   "outputs": [
    {
     "name": "stdout",
     "output_type": "stream",
     "text": [
      "Current recursion limit: 50000000\n"
     ]
    }
   ],
   "source": [
    "# first check recursion limit\n",
    "import sys\n",
    "print(f\"Current recursion limit: {sys.getrecursionlimit()}\")"
   ]
  },
  {
   "cell_type": "code",
   "execution_count": 9,
   "id": "47c9b968",
   "metadata": {},
   "outputs": [
    {
     "name": "stdout",
     "output_type": "stream",
     "text": [
      "New recursion limit: 50000000\n"
     ]
    }
   ],
   "source": [
    "# let's increase recursion limit to 50_000_000\n",
    "sys.setrecursionlimit(50_000_000)\n",
    "print(f\"New recursion limit: {sys.getrecursionlimit()}\")"
   ]
  },
  {
   "cell_type": "code",
   "execution_count": 14,
   "id": "abef3484",
   "metadata": {},
   "outputs": [
    {
     "name": "stdout",
     "output_type": "stream",
     "text": [
      "90.4 μs ± 1.48 μs per loop (mean ± std. dev. of 7 runs, 10,000 loops each)\n"
     ]
    }
   ],
   "source": [
    "%%timeit\n",
    "memoized_brute_force(test_cases[100])"
   ]
  },
  {
   "cell_type": "code",
   "execution_count": 15,
   "id": "f7996fbe",
   "metadata": {},
   "outputs": [
    {
     "name": "stdout",
     "output_type": "stream",
     "text": [
      "188 μs ± 17.6 μs per loop (mean ± std. dev. of 7 runs, 1,000 loops each)\n"
     ]
    }
   ],
   "source": [
    "%%timeit\n",
    "memoized_brute_force(test_cases[200])"
   ]
  },
  {
   "cell_type": "code",
   "execution_count": 16,
   "id": "c976e5b4",
   "metadata": {},
   "outputs": [
    {
     "name": "stdout",
     "output_type": "stream",
     "text": [
      "494 μs ± 17.4 μs per loop (mean ± std. dev. of 7 runs, 1,000 loops each)\n"
     ]
    }
   ],
   "source": [
    "%%timeit\n",
    "memoized_brute_force(test_cases[500])"
   ]
  },
  {
   "cell_type": "code",
   "execution_count": 17,
   "id": "4d644aea",
   "metadata": {},
   "outputs": [
    {
     "ename": "RecursionError",
     "evalue": "maximum recursion depth exceeded while calling a Python object",
     "output_type": "error",
     "traceback": [
      "\u001b[31m---------------------------------------------------------------------------\u001b[39m",
      "\u001b[31mRecursionError\u001b[39m                            Traceback (most recent call last)",
      "\u001b[36mCell\u001b[39m\u001b[36m \u001b[39m\u001b[32mIn[17]\u001b[39m\u001b[32m, line 1\u001b[39m\n\u001b[32m----> \u001b[39m\u001b[32m1\u001b[39m \u001b[43mget_ipython\u001b[49m\u001b[43m(\u001b[49m\u001b[43m)\u001b[49m\u001b[43m.\u001b[49m\u001b[43mrun_cell_magic\u001b[49m\u001b[43m(\u001b[49m\u001b[33;43m'\u001b[39;49m\u001b[33;43mtimeit\u001b[39;49m\u001b[33;43m'\u001b[39;49m\u001b[43m,\u001b[49m\u001b[43m \u001b[49m\u001b[33;43m'\u001b[39;49m\u001b[33;43m'\u001b[39;49m\u001b[43m,\u001b[49m\u001b[43m \u001b[49m\u001b[33;43m'\u001b[39;49m\u001b[33;43mmemoized_brute_force(test_cases[1000])\u001b[39;49m\u001b[38;5;130;43;01m\\n\u001b[39;49;00m\u001b[33;43m'\u001b[39;49m\u001b[43m)\u001b[49m\n",
      "\u001b[36mFile \u001b[39m\u001b[32md:\\Github\\RBS_PBM771_Algorithms\\venv\\Lib\\site-packages\\IPython\\core\\interactiveshell.py:2565\u001b[39m, in \u001b[36mInteractiveShell.run_cell_magic\u001b[39m\u001b[34m(self, magic_name, line, cell)\u001b[39m\n\u001b[32m   2563\u001b[39m \u001b[38;5;28;01mwith\u001b[39;00m \u001b[38;5;28mself\u001b[39m.builtin_trap:\n\u001b[32m   2564\u001b[39m     args = (magic_arg_s, cell)\n\u001b[32m-> \u001b[39m\u001b[32m2565\u001b[39m     result = \u001b[43mfn\u001b[49m\u001b[43m(\u001b[49m\u001b[43m*\u001b[49m\u001b[43margs\u001b[49m\u001b[43m,\u001b[49m\u001b[43m \u001b[49m\u001b[43m*\u001b[49m\u001b[43m*\u001b[49m\u001b[43mkwargs\u001b[49m\u001b[43m)\u001b[49m\n\u001b[32m   2567\u001b[39m \u001b[38;5;66;03m# The code below prevents the output from being displayed\u001b[39;00m\n\u001b[32m   2568\u001b[39m \u001b[38;5;66;03m# when using magics with decorator @output_can_be_silenced\u001b[39;00m\n\u001b[32m   2569\u001b[39m \u001b[38;5;66;03m# when the last Python token in the expression is a ';'.\u001b[39;00m\n\u001b[32m   2570\u001b[39m \u001b[38;5;28;01mif\u001b[39;00m \u001b[38;5;28mgetattr\u001b[39m(fn, magic.MAGIC_OUTPUT_CAN_BE_SILENCED, \u001b[38;5;28;01mFalse\u001b[39;00m):\n",
      "\u001b[36mFile \u001b[39m\u001b[32md:\\Github\\RBS_PBM771_Algorithms\\venv\\Lib\\site-packages\\IPython\\core\\magics\\execution.py:1226\u001b[39m, in \u001b[36mExecutionMagics.timeit\u001b[39m\u001b[34m(self, line, cell, local_ns)\u001b[39m\n\u001b[32m   1224\u001b[39m \u001b[38;5;28;01mfor\u001b[39;00m index \u001b[38;5;129;01min\u001b[39;00m \u001b[38;5;28mrange\u001b[39m(\u001b[32m0\u001b[39m, \u001b[32m10\u001b[39m):\n\u001b[32m   1225\u001b[39m     number = \u001b[32m10\u001b[39m ** index\n\u001b[32m-> \u001b[39m\u001b[32m1226\u001b[39m     time_number = \u001b[43mtimer\u001b[49m\u001b[43m.\u001b[49m\u001b[43mtimeit\u001b[49m\u001b[43m(\u001b[49m\u001b[43mnumber\u001b[49m\u001b[43m)\u001b[49m\n\u001b[32m   1227\u001b[39m     \u001b[38;5;28;01mif\u001b[39;00m time_number >= \u001b[32m0.2\u001b[39m:\n\u001b[32m   1228\u001b[39m         \u001b[38;5;28;01mbreak\u001b[39;00m\n",
      "\u001b[36mFile \u001b[39m\u001b[32md:\\Github\\RBS_PBM771_Algorithms\\venv\\Lib\\site-packages\\IPython\\core\\magics\\execution.py:184\u001b[39m, in \u001b[36mTimer.timeit\u001b[39m\u001b[34m(self, number)\u001b[39m\n\u001b[32m    182\u001b[39m gc.disable()\n\u001b[32m    183\u001b[39m \u001b[38;5;28;01mtry\u001b[39;00m:\n\u001b[32m--> \u001b[39m\u001b[32m184\u001b[39m     timing = \u001b[38;5;28;43mself\u001b[39;49m\u001b[43m.\u001b[49m\u001b[43minner\u001b[49m\u001b[43m(\u001b[49m\u001b[43mit\u001b[49m\u001b[43m,\u001b[49m\u001b[43m \u001b[49m\u001b[38;5;28;43mself\u001b[39;49m\u001b[43m.\u001b[49m\u001b[43mtimer\u001b[49m\u001b[43m)\u001b[49m\n\u001b[32m    185\u001b[39m \u001b[38;5;28;01mfinally\u001b[39;00m:\n\u001b[32m    186\u001b[39m     \u001b[38;5;28;01mif\u001b[39;00m gcold:\n",
      "\u001b[36mFile \u001b[39m\u001b[32m<magic-timeit>:1\u001b[39m, in \u001b[36minner\u001b[39m\u001b[34m(_it, _timer)\u001b[39m\n",
      "\u001b[36mCell\u001b[39m\u001b[36m \u001b[39m\u001b[32mIn[12]\u001b[39m\u001b[32m, line 17\u001b[39m, in \u001b[36mmemoized_brute_force\u001b[39m\u001b[34m(points)\u001b[39m\n\u001b[32m     14\u001b[39m         \u001b[38;5;28;01mreturn\u001b[39;00m \u001b[38;5;28mmax\u001b[39m(points[\u001b[32m0\u001b[39m], points[\u001b[32m1\u001b[39m])\n\u001b[32m     15\u001b[39m     \u001b[38;5;28;01mreturn\u001b[39;00m \u001b[38;5;28mmax\u001b[39m(dfs(n-\u001b[32m1\u001b[39m), points[n] + dfs(n-\u001b[32m2\u001b[39m))\n\u001b[32m---> \u001b[39m\u001b[32m17\u001b[39m \u001b[38;5;28;01mreturn\u001b[39;00m \u001b[43mdfs\u001b[49m\u001b[43m(\u001b[49m\u001b[38;5;28;43mlen\u001b[39;49m\u001b[43m(\u001b[49m\u001b[43mpoints\u001b[49m\u001b[43m)\u001b[49m\u001b[43m-\u001b[49m\u001b[32;43m1\u001b[39;49m\u001b[43m)\u001b[49m\n",
      "\u001b[36mCell\u001b[39m\u001b[36m \u001b[39m\u001b[32mIn[12]\u001b[39m\u001b[32m, line 15\u001b[39m, in \u001b[36mmemoized_brute_force.<locals>.dfs\u001b[39m\u001b[34m(n)\u001b[39m\n\u001b[32m     13\u001b[39m \u001b[38;5;28;01mif\u001b[39;00m n == \u001b[32m1\u001b[39m:\n\u001b[32m     14\u001b[39m     \u001b[38;5;28;01mreturn\u001b[39;00m \u001b[38;5;28mmax\u001b[39m(points[\u001b[32m0\u001b[39m], points[\u001b[32m1\u001b[39m])\n\u001b[32m---> \u001b[39m\u001b[32m15\u001b[39m \u001b[38;5;28;01mreturn\u001b[39;00m \u001b[38;5;28mmax\u001b[39m(\u001b[43mdfs\u001b[49m\u001b[43m(\u001b[49m\u001b[43mn\u001b[49m\u001b[43m-\u001b[49m\u001b[32;43m1\u001b[39;49m\u001b[43m)\u001b[49m, points[n] + dfs(n-\u001b[32m2\u001b[39m))\n",
      "\u001b[36mCell\u001b[39m\u001b[36m \u001b[39m\u001b[32mIn[12]\u001b[39m\u001b[32m, line 15\u001b[39m, in \u001b[36mmemoized_brute_force.<locals>.dfs\u001b[39m\u001b[34m(n)\u001b[39m\n\u001b[32m     13\u001b[39m \u001b[38;5;28;01mif\u001b[39;00m n == \u001b[32m1\u001b[39m:\n\u001b[32m     14\u001b[39m     \u001b[38;5;28;01mreturn\u001b[39;00m \u001b[38;5;28mmax\u001b[39m(points[\u001b[32m0\u001b[39m], points[\u001b[32m1\u001b[39m])\n\u001b[32m---> \u001b[39m\u001b[32m15\u001b[39m \u001b[38;5;28;01mreturn\u001b[39;00m \u001b[38;5;28mmax\u001b[39m(\u001b[43mdfs\u001b[49m\u001b[43m(\u001b[49m\u001b[43mn\u001b[49m\u001b[43m-\u001b[49m\u001b[32;43m1\u001b[39;49m\u001b[43m)\u001b[49m, points[n] + dfs(n-\u001b[32m2\u001b[39m))\n",
      "    \u001b[31m[... skipping similar frames: memoized_brute_force.<locals>.dfs at line 15 (991 times)]\u001b[39m\n",
      "\u001b[36mCell\u001b[39m\u001b[36m \u001b[39m\u001b[32mIn[12]\u001b[39m\u001b[32m, line 15\u001b[39m, in \u001b[36mmemoized_brute_force.<locals>.dfs\u001b[39m\u001b[34m(n)\u001b[39m\n\u001b[32m     13\u001b[39m \u001b[38;5;28;01mif\u001b[39;00m n == \u001b[32m1\u001b[39m:\n\u001b[32m     14\u001b[39m     \u001b[38;5;28;01mreturn\u001b[39;00m \u001b[38;5;28mmax\u001b[39m(points[\u001b[32m0\u001b[39m], points[\u001b[32m1\u001b[39m])\n\u001b[32m---> \u001b[39m\u001b[32m15\u001b[39m \u001b[38;5;28;01mreturn\u001b[39;00m \u001b[38;5;28mmax\u001b[39m(\u001b[43mdfs\u001b[49m\u001b[43m(\u001b[49m\u001b[43mn\u001b[49m\u001b[43m-\u001b[49m\u001b[32;43m1\u001b[39;49m\u001b[43m)\u001b[49m, points[n] + dfs(n-\u001b[32m2\u001b[39m))\n",
      "\u001b[31mRecursionError\u001b[39m: maximum recursion depth exceeded while calling a Python object"
     ]
    }
   ],
   "source": [
    "%%timeit\n",
    "memoized_brute_force(test_cases[1000])"
   ]
  },
  {
   "cell_type": "markdown",
   "id": "bce694f6",
   "metadata": {},
   "source": [
    "### Limitations of Memoization\n",
    "\n",
    "We are still making too many recursive calls, hitting the recursion limit. We can increase the recursion limit with sys.setrecursionlimit(), but this is not recommended for production code as it can lead to crashes if the limit is set too high.\n",
    "\n",
    "### TODO - fixing recursion limit\n",
    "\n",
    "We could try to adjust how we pass the parameters to the recursive function, but this would require a more complex restructuring of the code. For now, we will leave it as is.\n",
    "\n",
    "Explore something called - tail call optimization - not supported in Python, but in other languages like Scheme or Lisp."
   ]
  },
  {
   "cell_type": "markdown",
   "id": "1c3e1e15",
   "metadata": {},
   "source": [
    "## Looping Levels Challenge\n",
    "\n",
    "We can consider a variation of this problem where after last level you go back to first level. This means you cannot play both the first and last levels together. How would you modify your solution to accommodate this new rule?\n",
    "\n",
    "### Hint - reduce to two versions of simpler problem you already solved"
   ]
  }
 ],
 "metadata": {
  "kernelspec": {
   "display_name": "venv",
   "language": "python",
   "name": "python3"
  },
  "language_info": {
   "codemirror_mode": {
    "name": "ipython",
    "version": 3
   },
   "file_extension": ".py",
   "mimetype": "text/x-python",
   "name": "python",
   "nbconvert_exporter": "python",
   "pygments_lexer": "ipython3",
   "version": "3.12.5"
  }
 },
 "nbformat": 4,
 "nbformat_minor": 5
}
