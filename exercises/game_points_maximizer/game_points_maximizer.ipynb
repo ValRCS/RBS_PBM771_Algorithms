{
 "cells": [
  {
   "cell_type": "markdown",
   "id": "05fa6c0b",
   "metadata": {},
   "source": [
    "# Game Points Maximizer Exercise\n",
    "\n",
    "From course exercise: https://estudijas.rtu.lv/course/view.php?id=711866\n",
    "\n",
    "<img src=\"https://github.com/ValRCS/RBS_PBM771_Algorithms/blob/main/imgs/exercises/max_game_levels_Japanese_game_arcade.webp?raw=true\" alt=\"Game Points Maximizer\" style=\"width: 400px;\"/>"
   ]
  },
  {
   "cell_type": "markdown",
   "id": "26f96e4a",
   "metadata": {},
   "source": [
    "## Problem Statement:\n",
    "\n",
    "You are playing an online game (or arcade) where you have to collect points by moving through a series of levels. Each level has a certain number of points associated with it. You can choose to play any level, but once you play a level, you cannot play the next consecutive level (to avoid overexertion). Your goal is to maximize the total points you can collect without violating this rule.\n",
    "\n",
    "### Input:\n",
    "\n",
    "An array points of length n where points[i] represents the number of points you can collect from level i.\n",
    "\n",
    "### Output:\n",
    "\n",
    "Return the maximum number of points you can collect by playing the levels.\n",
    "Constraints:\n",
    "\n",
    "1 less or equal than n less or equal than 1000\n",
    "1 less or equal than p o i n t s not stretchy left square bracket i not stretchy right square bracket less or equal than 100\n",
    "\n",
    "### Example 1:\n",
    "\n",
    "Input: points = [3, 2, 5, 10, 7]\n",
    "\n",
    "Output: 15\n",
    "\n",
    "Explanation:\n",
    "\n",
    "- You can collect 3 points from level 0, skip level 1, collect 5 points from level 2, skip level 3, and collect 7 points from level 4.\n",
    "\n",
    "\n",
    "- Total points = 3 + 5 + 7 = 15\n",
    "\n",
    "\n",
    "\n",
    "\n",
    "### Example 2:\n",
    "\n",
    "Input: points = [10, 2, 2, 10]\n",
    "\n",
    "Output: 20\n",
    "\n",
    "Explanation:\n",
    "\n",
    "- You can collect 10 points from level 0, skip level 1, skip level 2, collect 10 points from level 3.\n",
    "\n",
    "\n",
    "- Total points = 10 + 10 = 20\n",
    "\n",
    "\n",
    "\n",
    "\n",
    "### Detailed Explanation:\n",
    "\n",
    "* The problem is analogous to the \"House Robber Problem\" at Leetcode where you can't rob two adjacent houses. Here, you can't play two consecutive levels.\n",
    "* Use a dynamic programming array dp where dp[i] represents the maximum points that can be collected from level 0 to level i.\n",
    "* Transition Formula: display style d p not stretchy left square bracket i not stretchy right square bracket equals max invisible function application not stretchy left parenthesis d p not stretchy left square bracket i minus 1 not stretchy right square bracket comma p o i n t s not stretchy left square bracket i not stretchy right square bracket plus not stretchy left parenthesis d p not stretchy left square bracket i minus 2 not stretchy right square bracket text  if  end text i greater or equal than 2 text  else  end text 0 not stretchy right parenthesis not stretchy right parenthesis\n",
    "\n",
    "#### Base cases:\n",
    "* dp[0] = points[0]\n",
    "* dp[1] = max(points[0], points[1]) if n >= 2\n",
    "\n",
    "### Hints for Solution:\n",
    "\n",
    "* Use a dynamic programming approach to build up the solution for each level.\n",
    "* You only need to keep track of the maximum points collected up to the previous level and the one before it, so you can optimize space usage if needed.\n",
    "* Think about what happens if you decide to play a particular level: you must skip the next, and then you are left with the problem starting from the next non-consecutive level.\n",
    "* Expected Solution Time Complexity:\n",
    "\n",
    "### Expected Solution Time and Space Complexity:\n",
    "\n",
    "* Time Complexity: O(n)\n",
    "* Space Complexity: O(n) (Can be optimized to O(1) by only storing the last two results)"
   ]
  },
  {
   "cell_type": "code",
   "execution_count": 1,
   "id": "34794a03",
   "metadata": {},
   "outputs": [
    {
     "name": "stdout",
     "output_type": "stream",
     "text": [
      "Date: 2025-09-25 11:37:45\n",
      "Python version: 3.12.5 (tags/v3.12.5:ff3bc82, Aug  6 2024, 20:45:27) [MSC v.1940 64 bit (AMD64)]\n"
     ]
    }
   ],
   "source": [
    "# let's show date and Python version\n",
    "import sys\n",
    "from datetime import datetime\n",
    "print(f\"Date: {datetime.now().strftime('%Y-%m-%d %H:%M:%S')}\")\n",
    "print(f\"Python version: {sys.version}\")\n"
   ]
  }
 ],
 "metadata": {
  "kernelspec": {
   "display_name": "venv",
   "language": "python",
   "name": "python3"
  },
  "language_info": {
   "codemirror_mode": {
    "name": "ipython",
    "version": 3
   },
   "file_extension": ".py",
   "mimetype": "text/x-python",
   "name": "python",
   "nbconvert_exporter": "python",
   "pygments_lexer": "ipython3",
   "version": "3.12.5"
  }
 },
 "nbformat": 4,
 "nbformat_minor": 5
}
