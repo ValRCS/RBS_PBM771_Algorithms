{
 "cells": [
  {
   "cell_type": "markdown",
   "metadata": {},
   "source": [
    "# Cryptarithmetic puzzle: SEND + MORE = MONEY\n",
    "\n",
    "Cryptarithmetic puzzles - also known as alphanumeric puzzles - are mathematical puzzles that involve replacing the digits in an arithmetic expression with letters to make a valid arithmetic equation. Here we will solve the famous SEND + MORE = MONEY puzzle."
   ]
  },
  {
   "cell_type": "markdown",
   "metadata": {},
   "source": [
    "## Problem Statement\n",
    "\n",
    "### Overview\n",
    "\n",
    "Cryptarithmetic puzzles are a type of mathematical game where the digits are replaced by letters. Each letter represents a unique digit. The challenge is to break the code and find the digits each letter represents such that the given arithmetic operation holds true. In this classic cryptarithmetic puzzle, the goal is to solve the equation \"SEND + MORE = MONEY\".\n",
    "\n",
    "### Objective\n",
    "\n",
    "Determine the digit (0-9) that each letter represents in the equation \"SEND + MORE = MONEY\". Each letter should represent a unique digit, and no two letters can represent the same digit. The solution must satisfy the given arithmetic sum.\n",
    "\n",
    "### Constraints\n",
    "\n",
    "Each letter represents a different digit from 0 to 9.\n",
    "The leading digits (S and M in this case) cannot be 0, as we do not consider numbers with leading zeroes.\n",
    "The arithmetic sum must be correct according to standard arithmetic rules.\n",
    "Input\n",
    "The input is the equation itself: \"SEND + MORE = MONEY\", which is implicit and doesn't need to be fed into the program. Instead, the program should operate on the structure of this problem.\n",
    "\n",
    "### Output\n",
    "\n",
    "The output should be the assignment of digits to letters that satisfies the equation.\n",
    "If there is a solution, print the solution as a mapping from letters to digits.\n",
    "If there is no solution, indicate that no solution exists.\n",
    "\n",
    "SUBMIT: solution as text and code(as file) - any \"normal\" programming language .py, .c, .scala, .cpp, .csharp, etc\n",
    "\n",
    "### EXTRA BONUS CHALLENGE - WE WILL TRY TO SOLVE THIS IN CLASS\n",
    "\n",
    "Create a generic Cryptarithmetic solver - that is your function would have two parameters, one parameter - operands would be a list of strings that when each letter in those strings is replaced with appropriate digits add up to second parameter - summa\n",
    "\n",
    "function would return a dictionary(hashMap) mapping each letter to digit.\n",
    "\n",
    "so something like solve(operands:list[str],summa:str) -> Dict[str,int]"
   ]
  },
  {
   "cell_type": "code",
   "execution_count": 7,
   "metadata": {},
   "outputs": [
    {
     "name": "stdout",
     "output_type": "stream",
     "text": [
      "Solution found: {'R': 8, 'D': 7, 'E': 5, 'O': 0, 'Y': 2, 'M': 1, 'N': 6, 'S': 9}\n",
      "SEND = 9567\n",
      "MORE = 1085\n",
      "MONEY = 10652\n",
      "Number of iterations: 242958\n"
     ]
    }
   ],
   "source": [
    "#Žeiris_Eduards_231RDB348\n",
    "\n",
    "counter = 0 #counter for the number of solutions\n",
    "\n",
    "def main():\n",
    "    num1 = \"SEND\"\n",
    "    num2 = \"MORE\"\n",
    "    result = \"MONEY\"\n",
    "\n",
    "    unique_letters = set(num1 + num2 + result)\n",
    "    \n",
    "    if len(unique_letters) > 10:\n",
    "        print(\"Too many unique letters to assign digits.\")\n",
    "        return\n",
    "\n",
    "    unique_letters = list(unique_letters)\n",
    "\n",
    "    used_digits = set()  \n",
    "    letter_to_digit = {} \n",
    "\n",
    "    if not dfs(unique_letters, 0, num1, num2, result, used_digits, letter_to_digit):\n",
    "        print(\"No solution found.\")\n",
    "\n",
    "\n",
    "\n",
    "def word_to_number(word, letter_to_digit):\n",
    "    return int(''.join(str(letter_to_digit[letter]) for letter in word))\n",
    "\n",
    "def is_valid_solution(num1, num2, result, letter_to_digit):\n",
    "    number1 = word_to_number(num1, letter_to_digit)\n",
    "    number2 = word_to_number(num2, letter_to_digit)\n",
    "    result_number = word_to_number(result, letter_to_digit)\n",
    "    return number1 + number2 == result_number\n",
    "\n",
    "def dfs(unique_letters, index, num1, num2, result, used_digits, letter_to_digit):\n",
    "    global counter\n",
    "    counter += 1\n",
    "    if index == len(unique_letters):\n",
    "        if is_valid_solution(num1, num2, result, letter_to_digit):\n",
    "            print(f\"Solution found: {letter_to_digit}\")\n",
    "            print(f\"{num1} = {word_to_number(num1, letter_to_digit)}\")\n",
    "            print(f\"{num2} = {word_to_number(num2, letter_to_digit)}\")\n",
    "            print(f\"{result} = {word_to_number(result, letter_to_digit)}\")\n",
    "            return True\n",
    "        return False\n",
    "\n",
    "    # Get the current letter we are trying to assign\n",
    "    current_letter = unique_letters[index]\n",
    "\n",
    "    # Try assigning each unused digit (0-9) to the current letter\n",
    "    # for digit in range(10):  # here it turns out reversed is about 5x faster\n",
    "    for digit in reversed(range(10)):\n",
    "        if digit not in used_digits:\n",
    "            # Assign the digit to the letter\n",
    "            letter_to_digit[current_letter] = digit\n",
    "            used_digits.add(digit)\n",
    "\n",
    "            # Ensure that no word starts with 0\n",
    "            if (current_letter == num1[0] or current_letter == num2[0] or current_letter == result[0]) and digit == 0:\n",
    "                used_digits.remove(digit)\n",
    "                continue \n",
    "\n",
    "            # Continue to the next letter using DFS\n",
    "            if dfs(unique_letters, index + 1, num1, num2, result, used_digits, letter_to_digit):\n",
    "                return True\n",
    "\n",
    "            # Backtrack: unassign the digit and remove it from the used set\n",
    "            del letter_to_digit[current_letter]\n",
    "            used_digits.remove(digit)\n",
    "\n",
    "    return False\n",
    "\n",
    "\n",
    "main()\n",
    "print(f\"Number of iterations: {counter}\")\n"
   ]
  },
  {
   "cell_type": "code",
   "execution_count": 3,
   "metadata": {},
   "outputs": [
    {
     "data": {
      "text/plain": [
       "(1814400, 1632960)"
      ]
     },
     "execution_count": 3,
     "metadata": {},
     "output_type": "execute_result"
    }
   ],
   "source": [
    "# so let's see how much full brute force would take\n",
    "# we have 8 but we have 10 digits, so we have 10!/(10-8)! = 10*9*8*7*6*5*4*3 = 604800?? # FAKE!!!\n",
    "# actually it is a bit less since first two digits can't be 0, so it is 9*9*8*7*6*5*4*3 = 136080?? # VERIFY!!!\n",
    "# trust but verify\n",
    "10*9*8*7*6*5*4*3,9*9*8*7*6*5*4*3\n",
    "# so 1632960 is the actual number of combinations we need to test in full brute force"
   ]
  },
  {
   "cell_type": "markdown",
   "metadata": {},
   "source": [
    "## Full Permutation search - iterative loop based approach"
   ]
  },
  {
   "cell_type": "code",
   "execution_count": 14,
   "metadata": {},
   "outputs": [
    {
     "name": "stdout",
     "output_type": "stream",
     "text": [
      "Solution found: {'R': 8, 'D': 7, 'E': 5, 'O': 0, 'Y': 2, 'M': 1, 'N': 6, 'S': 9}\n",
      "SEND = 9567\n",
      "MORE = 1085\n",
      "MONEY = 10652\n",
      "Number of iterations: 3210617\n",
      "Solution found.\n"
     ]
    }
   ],
   "source": [
    "# let's create a following brute force solution that would be universal for any two word sum into third word\n",
    "# we will use itertools.permutations to generate all possible permutations of digits\n",
    "# and then we will check if the sum is correct\n",
    "\n",
    "import itertools\n",
    "\n",
    "def brute_force(num1, num2, result):\n",
    "    counter = 0\n",
    "    unique_letters = set(num1 + num2 + result)\n",
    "    # for perm in itertools.permutations(reversed(range(10))):\n",
    "    for perm in itertools.permutations(range(10)):\n",
    "        counter += 1\n",
    "        letter_to_digit = {letter: digit for letter, digit in zip(unique_letters, perm)}\n",
    "        # let's check first digits for 0 - one of our constraints\n",
    "        if letter_to_digit[num1[0]] == 0 or letter_to_digit[num2[0]] == 0 or letter_to_digit[result[0]] == 0:\n",
    "            continue\n",
    "\n",
    "        if is_valid_solution(num1, num2, result, letter_to_digit):\n",
    "            print(f\"Solution found: {letter_to_digit}\")\n",
    "            print(f\"{num1} = {word_to_number(num1, letter_to_digit)}\")\n",
    "            print(f\"{num2} = {word_to_number(num2, letter_to_digit)}\")\n",
    "            print(f\"{result} = {word_to_number(result, letter_to_digit)}\")\n",
    "            print(f\"Number of iterations: {counter}\")\n",
    "            return True\n",
    "    print(f\"Number of iterations: {counter}\")\n",
    "    return False\n",
    "\n",
    "num1 = \"SEND\"\n",
    "num2 = \"MORE\"\n",
    "result = \"MONEY\"\n",
    "\n",
    "if not brute_force(num1, num2, result):\n",
    "    print(\"No solution found.\")\n",
    "else:\n",
    "    print(\"Solution found.\")"
   ]
  },
  {
   "cell_type": "markdown",
   "metadata": {},
   "source": [
    "## Challenge check partial solutions quickly\n",
    "\n",
    "To further optimize our solution we would want to check partial solutions and then backtrack if we see that the partial solution is not going to lead to a valid solution."
   ]
  }
 ],
 "metadata": {
  "kernelspec": {
   "display_name": "venv",
   "language": "python",
   "name": "python3"
  },
  "language_info": {
   "codemirror_mode": {
    "name": "ipython",
    "version": 3
   },
   "file_extension": ".py",
   "mimetype": "text/x-python",
   "name": "python",
   "nbconvert_exporter": "python",
   "pygments_lexer": "ipython3",
   "version": "3.12.1"
  }
 },
 "nbformat": 4,
 "nbformat_minor": 2
}
