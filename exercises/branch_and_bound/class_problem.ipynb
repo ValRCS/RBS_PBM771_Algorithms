{
 "cells": [
  {
   "cell_type": "markdown",
   "metadata": {},
   "source": [
    "# Solving Branch and Bound Problems"
   ]
  },
  {
   "cell_type": "code",
   "execution_count": 1,
   "metadata": {},
   "outputs": [],
   "source": [
    "# check if we have pulp if not we install it\n",
    "try:\n",
    "    import pulp\n",
    "except ImportError:\n",
    "    print(\"pulp not installed\")\n",
    "    # import pip\n",
    "    # pip.main(['install', 'pulp'])\n",
    "    # import pulp"
   ]
  },
  {
   "cell_type": "markdown",
   "metadata": {},
   "source": [
    "## Sample Problem\n",
    "\n",
    "Solve the following BIP be branch and bound.\n",
    "\n",
    "        Max  Z = 8x1 + 11x2 \n",
    "        s.t.     5x1 + 7x2  <= 14\n",
    "            0 <= x1 , x2  <= 1    integer\n",
    "\n",
    "Now we can and will solve this using brute force, since there are only two variables with only two possible values each.\n",
    "Thus we have 2**2 == 4 possible solutions to check."
   ]
  },
  {
   "cell_type": "code",
   "execution_count": 3,
   "metadata": {},
   "outputs": [
    {
     "name": "stdout",
     "output_type": "stream",
     "text": [
      "Welcome to the CBC MILP Solver \n",
      "Version: 2.10.3 \n",
      "Build Date: Dec 15 2019 \n",
      "\n",
      "command line - /workspaces/RBS_PBM771_Algorithms/venv/lib/python3.12/site-packages/pulp/solverdir/cbc/linux/64/cbc /tmp/da18333cd64945a98702e97ff0186cbc-pulp.mps -max -timeMode elapsed -branch -printingOptions all -solution /tmp/da18333cd64945a98702e97ff0186cbc-pulp.sol (default strategy 1)\n",
      "At line 2 NAME          MODEL\n",
      "At line 3 ROWS\n",
      "At line 8 COLUMNS\n",
      "At line 15 RHS\n",
      "At line 19 BOUNDS\n",
      "At line 20 ENDATA\n",
      "Problem MODEL has 3 rows, 2 columns and 4 elements\n",
      "Coin0008I MODEL read with 0 errors\n",
      "Option for timeMode changed from cpu to elapsed\n",
      "Presolve 1 (-2) rows, 2 (0) columns and 2 (-2) elements\n",
      "0  Obj -0 Dual inf 22.199998 (2)\n",
      "1  Obj 15.857143\n",
      "Optimal - objective value 15.857143\n",
      "After Postsolve, objective 15.857143, infeasibilities - dual 0 (0), primal 0 (0)\n",
      "Optimal objective 15.85714286 - 1 iterations time 0.002, Presolve 0.00\n",
      "Option for printingOptions changed from normal to all\n",
      "Total time (CPU seconds):       0.00   (Wallclock seconds):       0.00\n",
      "\n",
      "Optimal life quantities:\n",
      "Breakfast: 1.0\n",
      "School: 0.71428571\n",
      "Total karma: 15.85714281\n"
     ]
    }
   ],
   "source": [
    "# from pulp import * # this is bad practice but we do it for the sake of the tutorial\n",
    "from pulp import LpProblem, LpMaximize, LpVariable, LpStatus, value   # this is better practice \n",
    "# using * means we pollute the namespace with all the pulp functions\n",
    "# this could cause problems if we do this with multiple libraries - huge namespace conflicts\n",
    "\n",
    "# Create the problem variable\n",
    "prob = LpProblem(\"What to do\", LpMaximize)\n",
    "\n",
    "# Define the decision variables as floats\n",
    "x1 = LpVariable(\"Breakfast\", lowBound=0) # cat default is Continuous so we don't need to specify\n",
    "x2 = LpVariable(\"School\", lowBound=0)\n",
    "\n",
    "# Define the objective function\n",
    "prob += 8*x1 + 11*x2\n",
    "\n",
    "# Define the constraints\n",
    "prob += 5*x1 + 7*x2 <= 10 # original constraint 14 would lead to 1, 1 solution which is optimal also for integers\n",
    "prob += x1 <= 1\n",
    "prob += x2 <= 1\n",
    "\n",
    "\n",
    "# Solve the problem\n",
    "prob.solve()\n",
    "\n",
    "# Print the optimal solution\n",
    "print(\"Optimal life quantities:\")\n",
    "print(\"Breakfast:\", value(x1))\n",
    "print(\"School:\", value(x2))\n",
    "print(\"Total karma:\", value(prob.objective))"
   ]
  }
 ],
 "metadata": {
  "kernelspec": {
   "display_name": "venv",
   "language": "python",
   "name": "python3"
  },
  "language_info": {
   "codemirror_mode": {
    "name": "ipython",
    "version": 3
   },
   "file_extension": ".py",
   "mimetype": "text/x-python",
   "name": "python",
   "nbconvert_exporter": "python",
   "pygments_lexer": "ipython3",
   "version": "3.12.1"
  }
 },
 "nbformat": 4,
 "nbformat_minor": 2
}
