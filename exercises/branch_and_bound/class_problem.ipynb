{
  "cells": [
    {
      "cell_type": "markdown",
      "metadata": {
        "id": "Xv3pjLftRVGs"
      },
      "source": [
        "# Solving Branch and Bound Problems\n",
        "\n",
        "## Pulp Library\n",
        "\n",
        "We will be using Pulp library.\n",
        "\n",
        "Pulp is Open Source LP modeler written in python. PuLP can generate MPS or LP files and call GLPK, COIN CLP/CBC, CPLEX, and GUROBI to solve linear problems.\n",
        "\n",
        "### link to pulp documentation\n",
        "* https://coin-or.github.io/pulp/main/index.html\n",
        "\n",
        "### PyPi link\n",
        "* https://pypi.org/project/PuLP/"
      ]
    },
    {
      "cell_type": "code",
      "execution_count": 2,
      "metadata": {
        "id": "zNo7ANNqRVGt",
        "outputId": "c4da4255-04f3-4215-c91d-cb34d62a8adf",
        "colab": {
          "base_uri": "https://localhost:8080/"
        }
      },
      "outputs": [
        {
          "output_type": "stream",
          "name": "stdout",
          "text": [
            "pulp not installed\n",
            "Collecting pulp\n",
            "  Downloading pulp-3.3.0-py3-none-any.whl.metadata (8.4 kB)\n",
            "Downloading pulp-3.3.0-py3-none-any.whl (16.4 MB)\n",
            "\u001b[2K   \u001b[90m━━━━━━━━━━━━━━━━━━━━━━━━━━━━━━━━━━━━━━━━\u001b[0m \u001b[32m16.4/16.4 MB\u001b[0m \u001b[31m69.2 MB/s\u001b[0m eta \u001b[36m0:00:00\u001b[0m\n",
            "\u001b[?25hInstalling collected packages: pulp\n",
            "Successfully installed pulp-3.3.0\n"
          ]
        }
      ],
      "source": [
        "# check if we have pulp if not we install it\n",
        "try:\n",
        "    import pulp\n",
        "except ImportError:\n",
        "    print(\"pulp not installed\")\n",
        "    # install pulp with !pip\n",
        "    !pip install pulp\n",
        "    import pulp\n"
      ]
    },
    {
      "cell_type": "markdown",
      "metadata": {
        "id": "9ugkv8NiRVGu"
      },
      "source": [
        "## Sample Problem\n",
        "\n",
        "Solve the following BIP be branch and bound.\n",
        "\n",
        "        Max  Z = 8x1 + 11x2\n",
        "        s.t.     5x1 + 7x2  <= 14\n",
        "            0 <= x1 , x2  <= 1    integer\n",
        "\n",
        "Now we can and will solve this using brute force, since there are only two variables with only two possible values each.\n",
        "Thus we have 2**2 == 4 possible solutions to check."
      ]
    },
    {
      "cell_type": "code",
      "execution_count": 3,
      "metadata": {
        "id": "w0B6_mvDRVGv",
        "outputId": "5efa15d2-8674-4945-8d19-a1429ff804ef",
        "colab": {
          "base_uri": "https://localhost:8080/"
        }
      },
      "outputs": [
        {
          "output_type": "stream",
          "name": "stdout",
          "text": [
            "Optimal life quantities:\n",
            "Breakfast: 1.0\n",
            "School: 0.71428571\n",
            "Total karma: 15.85714281\n"
          ]
        },
        {
          "output_type": "stream",
          "name": "stderr",
          "text": [
            "/usr/local/lib/python3.12/dist-packages/pulp/pulp.py:1489: UserWarning: Spaces are not permitted in the name. Converted to '_'\n",
            "  warnings.warn(\"Spaces are not permitted in the name. Converted to '_'\")\n"
          ]
        }
      ],
      "source": [
        "# from pulp import * # this is bad practice but we do it for the sake of the tutorial\n",
        "from pulp import LpProblem, LpMaximize, LpVariable, LpStatus, value   # this is better practice\n",
        "# using * means we pollute the namespace with all the pulp functions\n",
        "# this could cause problems if we do this with multiple libraries - huge namespace conflicts\n",
        "\n",
        "# Create the problem variable\n",
        "prob = LpProblem(\"What to do\", LpMaximize)\n",
        "\n",
        "# Define the decision variables as floats\n",
        "x1 = LpVariable(\"Breakfast\", lowBound=0) # cat default is Continuous so we don't need to specify\n",
        "x2 = LpVariable(\"School\", lowBound=0)\n",
        "\n",
        "# Define the objective function\n",
        "prob += 8*x1 + 11*x2\n",
        "\n",
        "# Define the constraints\n",
        "prob += 5*x1 + 7*x2 <= 10 # original constraint 14 would lead to 1, 1 solution which is optimal also for integers\n",
        "prob += x1 <= 1\n",
        "prob += x2 <= 1\n",
        "\n",
        "\n",
        "# Solve the problem\n",
        "prob.solve()\n",
        "\n",
        "# Print the optimal solution\n",
        "print(\"Optimal life quantities:\")\n",
        "print(\"Breakfast:\", value(x1))\n",
        "print(\"School:\", value(x2))\n",
        "print(\"Total karma:\", value(prob.objective))"
      ]
    },
    {
      "cell_type": "markdown",
      "metadata": {
        "id": "9k961VltRVGv"
      },
      "source": [
        "## Brute force"
      ]
    },
    {
      "cell_type": "code",
      "execution_count": 4,
      "metadata": {
        "id": "HaMgL6nFRVGw",
        "outputId": "acc71eb4-b7a4-4d84-9744-d829aaa5207b",
        "colab": {
          "base_uri": "https://localhost:8080/"
        }
      },
      "outputs": [
        {
          "output_type": "stream",
          "name": "stdout",
          "text": [
            "Breakfast School    Total karma\n",
            "0         0         0         \n",
            "0         1         11        \n",
            "1         0         8         \n",
            "1         1         19        \n"
          ]
        }
      ],
      "source": [
        "# first let's do a brute force approach we simple plug in all possible values\n",
        "# here we have 2 variables and 2 constraints so we can do this easily\n",
        "\n",
        "# we can do this by hand but we can also use the itertools library\n",
        "import itertools\n",
        "\n",
        "# we can use the product function to get all possible combinations of 0 and 1\n",
        "combinations = list(itertools.product([0, 1], repeat=2))\n",
        "# print combinations\n",
        "# testing the following combinations\n",
        "print(f\"{'Breakfast':<10}{'School':<10}{'Total karma':<10}\")\n",
        "for breakfast, school in combinations:\n",
        "    karma = 8*breakfast + 11*school\n",
        "    print(f\"{breakfast:<10}{school:<10}{karma:<10}\")"
      ]
    },
    {
      "cell_type": "code",
      "execution_count": null,
      "metadata": {
        "id": "Sx9h8YD3RVGw"
      },
      "outputs": [],
      "source": [
        "# so if we were doing the branch and boudn approach\n",
        "# first we would calculate the optimal solution for the continuous case\n",
        "# here it is\n",
        "# Breakfast: 1.0\n",
        "# School: 0.71428571\n",
        "# Total karma: 15.85714281\n",
        "\n",
        "# then we would branch on the School variable\n",
        "# and we would get the following two subproblems\n",
        "# Breakfast: 1.0\n",
        "# School: 1.0\n",
        "# this is subproblem 1 - it is infeasible because the constraint 5*x1 + 7*x2 <= 10 is violated\n",
        "\n",
        "# Breakfast: 1.0\n",
        "# School: 0.0\n",
        "# Total karma: 8.0 - this would be lower bound for the second subproblem\n",
        "\n",
        "# then we would branch on the Breakfast variable\n",
        "# and we would get the following two subproblems\n",
        "# Breakfast: 0.0\n",
        "# School: 0.71428571\n",
        "\n",
        "# Breakfast: 1.0\n",
        "# School: 0.71428571\n",
        "\n",
        "# then we would end up with the following optimal solution\n",
        "# Breakfast: 0.0\n",
        "# School: 1.0\n",
        "# Total karma: 11.0 - this would actually be the optimal solution for the integer case\n",
        "\n",
        "# here with branch and bound we solved the problem in 3 steps\n",
        "\n",
        "# in this simple example we gained almost nothing, except we did not have to check the infeasible solution\n",
        "# but in more complex problems we can save a lot of time by using branch and bound"
      ]
    },
    {
      "cell_type": "markdown",
      "metadata": {
        "id": "XIc92fX6RVGx"
      },
      "source": [
        "## Pulp for integers"
      ]
    },
    {
      "cell_type": "code",
      "execution_count": 5,
      "metadata": {
        "id": "Ki1cbQDYRVGx",
        "outputId": "b895b5a1-eff2-41af-b009-5d153e4d1eff",
        "colab": {
          "base_uri": "https://localhost:8080/"
        }
      },
      "outputs": [
        {
          "output_type": "stream",
          "name": "stdout",
          "text": [
            "Optimal life quantities:\n",
            "Breakfast: 0.0\n",
            "School: 1.0\n",
            "Total karma: 11.0\n"
          ]
        }
      ],
      "source": [
        "# Create the problem variable\n",
        "prob = LpProblem(\"What to do\", LpMaximize)\n",
        "\n",
        "# Define the decision variables as floats\n",
        "x1 = LpVariable(\"Breakfast\", lowBound=0, cat=\"Integer\")\n",
        "x2 = LpVariable(\"School\", lowBound=0, cat=\"Integer\")\n",
        "\n",
        "# Define the objective function\n",
        "prob += 8*x1 + 11*x2\n",
        "\n",
        "# Define the constraints\n",
        "prob += 5*x1 + 7*x2 <= 10 # original constraint 14 would lead to 1, 1 solution which is optimal also for integers\n",
        "prob += x1 <= 1\n",
        "prob += x2 <= 1\n",
        "\n",
        "\n",
        "# Solve the problem\n",
        "prob.solve()\n",
        "\n",
        "# Print the optimal solution\n",
        "print(\"Optimal life quantities:\")\n",
        "print(\"Breakfast:\", value(x1))\n",
        "print(\"School:\", value(x2))\n",
        "print(\"Total karma:\", value(prob.objective))"
      ]
    },
    {
      "cell_type": "markdown",
      "metadata": {
        "id": "Qt81CAZMRVGy"
      },
      "source": [
        "## Multiple Binary Variables"
      ]
    },
    {
      "cell_type": "code",
      "execution_count": null,
      "metadata": {
        "id": "8rDk_cVoRVGy"
      },
      "outputs": [],
      "source": []
    },
    {
      "cell_type": "code",
      "execution_count": 6,
      "metadata": {
        "id": "X4FYTNAbRVGy",
        "outputId": "f2a76171-78d4-4232-dfbe-17c8bd987ba4",
        "colab": {
          "base_uri": "https://localhost:8080/"
        }
      },
      "outputs": [
        {
          "output_type": "stream",
          "name": "stdout",
          "text": [
            "Optimal ice cream choices:\n",
            "chocolate 7\n",
            "mint 4\n",
            "caramel 6\n",
            "pistachio 8\n",
            "coconut 9\n",
            "Total taste: 34.0\n"
          ]
        }
      ],
      "source": [
        "# now let's come up with a more complex example\n",
        "# let's stick with binary choices\n",
        "# but let's have say 8 decisions to make - yes or no\n",
        "\n",
        "# so the 8 choices will be 8 different ice cream flavors\n",
        "# there will be a taste function that will tell us how much we like each flavor\n",
        "# we want to optimize the total taste\n",
        "# finally the constraint will be that no more than 5 varieties can be chosen - so we don't get sick\n",
        "\n",
        "# first let's come up with taste function\n",
        "# we will use a dictionary to store the taste of each flavor\n",
        "taste = {\n",
        "    \"vanilla\": 5,\n",
        "    \"chocolate\": 7,\n",
        "    \"strawberry\": 3,\n",
        "    \"mint\": 4,\n",
        "    \"caramel\": 6,\n",
        "    \"pistachio\": 8,\n",
        "    \"banana\": 2,\n",
        "    \"coconut\": 9\n",
        "}\n",
        "\n",
        "# now let's create the problem\n",
        "prob = LpProblem(\"Ice cream\", LpMaximize)\n",
        "\n",
        "# Define the decision variables as floats\n",
        "# we will use a dictionary to store the variables\n",
        "flavors = LpVariable.dicts(\"Flavor\", taste.keys(), cat=\"Binary\")\n",
        "\n",
        "# Define the objective function\n",
        "prob += sum(taste[flavor] * flavors[flavor] for flavor in flavors)\n",
        "\n",
        "# Define the constraints\n",
        "prob += sum(flavors[flavor] for flavor in flavors) <= 5\n",
        "# let's add the constraint that we can't have vanilla and chocolate at the same time\n",
        "prob += flavors[\"vanilla\"] + flavors[\"chocolate\"] <= 1\n",
        "\n",
        "\n",
        "# turn off verbose - we would get too much output\n",
        "pulp.LpSolverDefault.msg = 0\n",
        "\n",
        "# Solve the problem\n",
        "prob.solve()\n",
        "\n",
        "# let's print the optimal solution\n",
        "print(\"Optimal ice cream choices:\")\n",
        "for flavor in flavors:\n",
        "    if value(flavors[flavor]) == 1:\n",
        "        print(flavor, taste[flavor])\n",
        "\n",
        "# let's print the total taste\n",
        "print(\"Total taste:\", value(prob.objective))"
      ]
    },
    {
      "cell_type": "code",
      "execution_count": null,
      "metadata": {
        "id": "A1SgiRG_RVGy"
      },
      "outputs": [],
      "source": [
        "# note with some minimal constraints we could have used the greedy algorithm\n",
        "# simply start with the best flavor (highest linear coefficient) and keep adding flavors until we reach the constraint\n",
        "\n",
        "# in general case this is not going to work\n",
        "# we could have some complex constraints that would make the greedy algorithm fail\n",
        "# we pick some flavors that are not optimal just to satisfy the constraint"
      ]
    },
    {
      "cell_type": "code",
      "execution_count": null,
      "metadata": {
        "id": "htFRP3pXRVGy",
        "outputId": "b4ccdb65-f960-4d1f-9e67-4b7324148c86"
      },
      "outputs": [
        {
          "name": "stdout",
          "output_type": "stream",
          "text": [
            "Optimal ice cream choices:\n",
            "chocolate 7\n",
            "coconut 9\n",
            "Total taste: 32.0\n"
          ]
        }
      ],
      "source": [
        "# now let's do the same problem with same flavor values but we will allow for variables to have 3 values\n",
        "# 0 - no flavor, 1 - some flavor, 2 - full flavor\n",
        "# we will also add a constraint that we can't have more than 4 flavors at the same time\n",
        "\n",
        "# Create the problem variable\n",
        "prob = LpProblem(\"Ice_cream\", LpMaximize)\n",
        "\n",
        "\n",
        "# we will use a dictionary to store the variables\n",
        "flavors = LpVariable.dicts(\"Flavor\", taste.keys(), lowBound=0, upBound=2, cat=\"Integer\")\n",
        "# so lowBound is 0 and upBound is 2 those are integer values and are inclusive!\n",
        "\n",
        "# Define the objective function\n",
        "prob += sum(taste[flavor] * flavors[flavor] for flavor in flavors)\n",
        "\n",
        "# Define the constraints\n",
        "\n",
        "# we can't have more than 4 flavors at the same time\n",
        "prob += sum(flavors[flavor] for flavor in flavors) <= 4 # we can have 4 half flavors or 2 full flavors\n",
        "# or we could have 1 full flavor and 2 half flavors\n",
        "\n",
        "# let's add the constraint that we can't have vanilla and chocolate at the same time\n",
        "prob += flavors[\"vanilla\"] + flavors[\"chocolate\"] <= 2 # this means we can go half vanilla and half chocolate\n",
        "# let's add constraint that pistachio and coconut can't be chosen at the same time - they are too similar\n",
        "prob += flavors[\"pistachio\"] + flavors[\"coconut\"] <= 2\n",
        "\n",
        "# Solve the problem\n",
        "prob.solve()\n",
        "\n",
        "# let's print the optimal solution\n",
        "print(\"Optimal ice cream choices:\")\n",
        "for flavor in flavors:\n",
        "    if value(flavors[flavor]) > 0:\n",
        "        print(flavor, taste[flavor])\n",
        "\n",
        "# let's print the total taste\n",
        "print(\"Total taste:\", value(prob.objective))\n"
      ]
    },
    {
      "cell_type": "code",
      "execution_count": null,
      "metadata": {
        "id": "ioEnZMiVRVGz"
      },
      "outputs": [],
      "source": [
        "# again solution here was pretty obvious\n",
        "# we got coconut and chocolate as full flavors\n",
        "# a greedy algorithm would have worked here as well\n",
        "\n",
        "# TODO think of a more complex example where greedy algorithm would fail"
      ]
    },
    {
      "cell_type": "code",
      "execution_count": null,
      "metadata": {
        "id": "olaadsmDRVGz",
        "outputId": "784f58ef-aa52-41bd-ec01-22110de1e307"
      },
      "outputs": [
        {
          "name": "stdout",
          "output_type": "stream",
          "text": [
            "Optimal ice cream choices:\n",
            "Flavor    Taste     Amount    Price kg  Cost      \n",
            "chocolate 7         2.0       2         4.0       \n",
            "caramel   6         1.0       5         5.0       \n",
            "pistachio 8         1.0       6         6.0       \n",
            "Total taste: 28.0\n"
          ]
        }
      ],
      "source": [
        "# let's do a more complex example\n",
        "# we will use the existing flavors but we will also have two continuous variables\n",
        "# we will have a budget of 15 and we will have to buy the ice cream\n",
        "# each flavor will have a price\n",
        "\n",
        "# we will have to optimize the total taste\n",
        "\n",
        "# Create the problem variable\n",
        "\n",
        "prob = LpProblem(\"Ice_cream\", LpMaximize)\n",
        "\n",
        "# Define the decision variables as floats\n",
        "# we will use a dictionary to store the variables\n",
        "flavors = LpVariable.dicts(\"Flavor\", taste.keys(), lowBound=0, upBound=2, cat=\"Integer\")\n",
        "\n",
        "# Define the decision variables as floats\n",
        "# we will use a dictionary to store the variables\n",
        "prices = {\n",
        "    \"vanilla\": 1,\n",
        "    \"chocolate\": 2,\n",
        "    \"strawberry\": 3,\n",
        "    \"mint\": 4,\n",
        "    \"caramel\": 5,\n",
        "    \"pistachio\": 6,\n",
        "    \"banana\": 7,\n",
        "    \"coconut\": 8\n",
        "}\n",
        "\n",
        "# add the continuous variables\n",
        "# budget is up to 15\n",
        "budget = LpVariable(\"Budget\", lowBound=0, upBound=15) # continuous variable\n",
        "\n",
        "# Define the objective function\n",
        "prob += sum(taste[flavor] * flavors[flavor] for flavor in flavors)\n",
        "\n",
        "# Define the constraints\n",
        "prob += sum(prices[flavor] * flavors[flavor] for flavor in flavors) <= budget\n",
        "\n",
        "# we can't have more than 4 flavors at the same time\n",
        "prob += sum(flavors[flavor] for flavor in flavors) <= 4 # we can have 4 half flavors or 2 full flavors\n",
        "\n",
        "# let's add the constraint that we can't have vanilla and chocolate at the same time\n",
        "prob += flavors[\"vanilla\"] + flavors[\"chocolate\"] <= 2 # this means we can go half vanilla and half chocolate\n",
        "# let's add constraint that pistachio and coconut can't be chosen at the same time - they are too similar\n",
        "prob += flavors[\"pistachio\"] + flavors[\"coconut\"] <= 2\n",
        "\n",
        "# Solve the problem\n",
        "prob.solve()\n",
        "\n",
        "# let's print the optimal solution\n",
        "print(\"Optimal ice cream choices:\")\n",
        "print(f\"{'Flavor':<10}{'Taste':<10}{'Amount':<10}{'Price kg':<10}{'Cost':<10}\")\n",
        "for flavor in flavors:\n",
        "    if value(flavors[flavor]) > 0:\n",
        "        print(f\"{flavor:<10}{taste[flavor]:<10}{value(flavors[flavor]):<10}{prices[flavor]:<10}{prices[flavor]*value(flavors[flavor]):<10}\")\n",
        "        # print(f\"{flavor:<10}{taste[flavor]:<10}{value(flavors[flavor]):<10}\")\n",
        "        # print(flavor, taste[flavor])\n",
        "\n",
        "# let's print the total taste\n",
        "print(\"Total taste:\", value(prob.objective))"
      ]
    }
  ],
  "metadata": {
    "kernelspec": {
      "display_name": "venv",
      "language": "python",
      "name": "python3"
    },
    "language_info": {
      "codemirror_mode": {
        "name": "ipython",
        "version": 3
      },
      "file_extension": ".py",
      "mimetype": "text/x-python",
      "name": "python",
      "nbconvert_exporter": "python",
      "pygments_lexer": "ipython3",
      "version": "3.12.1"
    },
    "colab": {
      "provenance": []
    }
  },
  "nbformat": 4,
  "nbformat_minor": 0
}