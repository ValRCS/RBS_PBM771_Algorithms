{
 "cells": [
  {
   "cell_type": "markdown",
   "metadata": {},
   "source": [
    "# Creating examples for Golden Chip\n",
    "\n",
    "We have robot named Byte that starts at the top left corner of tech lab grid and goes to the bottom right corner where Golden Chip is.\n",
    "\n",
    "We will be generating sample grids in this notebook to be used by Byte in the solution.\n",
    "\n"
   ]
  },
  {
   "cell_type": "code",
   "execution_count": 2,
   "metadata": {},
   "outputs": [
    {
     "name": "stdout",
     "output_type": "stream",
     "text": [
      "[8, 8, 7, 4, 1]\n",
      "[9, 7, 1, 5, 3]\n",
      "[4, 6, 3, 5, 3]\n",
      "\n"
     ]
    }
   ],
   "source": [
    "# let's write a function that generates a random grid m x n, with min_value and max_value as the range of the values\n",
    "import random\n",
    "def create_grid(m,n,min_value=1,max_value=9):\n",
    "    grid = []\n",
    "    for i in range(m):\n",
    "        row = []\n",
    "        for j in range(n):\n",
    "            row.append(random.randint(min_value,max_value))\n",
    "        grid.append(row)\n",
    "    return grid\n",
    "# we could have used nested list comprehensions to make the code shorter\n",
    "\n",
    "# def create_grid(m,n,min_value=1,max_value=9):\n",
    "#     return [[random.randint(min_value,max_value) for j in range(n)] for i in range(m)] # not quite as readable as the previous version but shorter\n",
    "\n",
    "# we also want a function that prints the grid in a nice way\n",
    "def print_grid(grid):\n",
    "    for row in grid:\n",
    "        print(row)\n",
    "    print()\n",
    "\n",
    "# let's test the function on 3x5 grid\n",
    "grid = create_grid(3,5)\n",
    "print_grid(grid)"
   ]
  },
  {
   "cell_type": "code",
   "execution_count": 3,
   "metadata": {},
   "outputs": [
    {
     "name": "stdout",
     "output_type": "stream",
     "text": [
      "[6, 9, 9, 4, 1, 6, 7, 6]\n",
      "[5, 9, 4, 8, 4, 4, 7, 9]\n",
      "[5, 3, 7, 9, 4, 9, 1, 5]\n",
      "[7, 5, 6, 8, 6, 5, 8, 5]\n",
      "[5, 1, 6, 3, 7, 2, 3, 9]\n",
      "[6, 2, 1, 2, 8, 7, 3, 9]\n",
      "[8, 3, 1, 7, 9, 5, 9, 4]\n",
      "[9, 6, 5, 1, 1, 6, 9, 6]\n",
      "[7, 6, 5, 3, 8, 5, 9, 4]\n",
      "[3, 7, 6, 5, 4, 1, 1, 3]\n",
      "[1, 4, 7, 9, 9, 2, 7, 3]\n",
      "[2, 3, 7, 5, 6, 1, 2, 8]\n",
      "\n"
     ]
    }
   ],
   "source": [
    "# let's create 12 x 8 grid\n",
    "grid_12_8 = create_grid(12,8)\n",
    "print_grid(grid_12_8)"
   ]
  },
  {
   "cell_type": "code",
   "execution_count": 5,
   "metadata": {},
   "outputs": [],
   "source": [
    "# now let's create a function to save the grid to a file as json\n",
    "import json\n",
    "def save_grid_to_file(grid,filename):\n",
    "    with open(filename,'w') as f:\n",
    "        json.dump(grid,f, indent=2) # TODO is there a way to save rows in a more readable way?\n",
    "\n",
    "# let's save the 12x8 grid to a file\n",
    "save_grid_to_file(grid_12_8,'grid_12_8.json')"
   ]
  },
  {
   "cell_type": "code",
   "execution_count": 6,
   "metadata": {},
   "outputs": [
    {
     "name": "stdout",
     "output_type": "stream",
     "text": [
      "[6, 9, 9, 4, 1, 6, 7, 6]\n",
      "[5, 9, 4, 8, 4, 4, 7, 9]\n",
      "[5, 3, 7, 9, 4, 9, 1, 5]\n",
      "[7, 5, 6, 8, 6, 5, 8, 5]\n",
      "[5, 1, 6, 3, 7, 2, 3, 9]\n",
      "[6, 2, 1, 2, 8, 7, 3, 9]\n",
      "[8, 3, 1, 7, 9, 5, 9, 4]\n",
      "[9, 6, 5, 1, 1, 6, 9, 6]\n",
      "[7, 6, 5, 3, 8, 5, 9, 4]\n",
      "[3, 7, 6, 5, 4, 1, 1, 3]\n",
      "[1, 4, 7, 9, 9, 2, 7, 3]\n",
      "[2, 3, 7, 5, 6, 1, 2, 8]\n",
      "\n"
     ]
    }
   ],
   "source": [
    "# let's define function to read the grid from a file\n",
    "def read_grid_from_file(filename):\n",
    "    with open(filename,'r') as f:\n",
    "        return json.load(f)\n",
    "    \n",
    "grid_loaded = read_grid_from_file('grid_12_8.json')\n",
    "print_grid(grid_loaded)"
   ]
  }
 ],
 "metadata": {
  "kernelspec": {
   "display_name": "venv",
   "language": "python",
   "name": "python3"
  },
  "language_info": {
   "codemirror_mode": {
    "name": "ipython",
    "version": 3
   },
   "file_extension": ".py",
   "mimetype": "text/x-python",
   "name": "python",
   "nbconvert_exporter": "python",
   "pygments_lexer": "ipython3",
   "version": "3.12.1"
  }
 },
 "nbformat": 4,
 "nbformat_minor": 2
}
