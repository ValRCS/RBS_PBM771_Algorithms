{
 "cells": [
  {
   "cell_type": "code",
   "execution_count": 5,
   "metadata": {},
   "outputs": [
    {
     "name": "stdout",
     "output_type": "stream",
     "text": [
      "13\n"
     ]
    }
   ],
   "source": [
    "# Kristers Katkevics-Cirkovs\n",
    "def findMinimumenergy(grid, verbose=False):\n",
    "    m, n = len(grid), len(grid[0])\n",
    "    energyGrid = [[0] * n for _ in range(m)]\n",
    "    # Sets starting point value\n",
    "    energyGrid[0][0] = grid[0][0]\n",
    "\n",
    "    # Sets the first column values as here the robot can only move down\n",
    "    for i in range(1, n):\n",
    "        energyGrid[0][i] = energyGrid[0][i-1] + grid[0][i]\n",
    "\n",
    "    # Sets the first row values as here the robot can only move right\n",
    "    for i in range(1, m):\n",
    "        energyGrid[i][0] = energyGrid[i-1][0] + grid[i][0]\n",
    "\n",
    "    # Populates the rest of the grid with optimum values\n",
    "    for i in range(1, m):\n",
    "        for j in range(1, n):\n",
    "            energyGrid[i][j] = min(energyGrid[i-1][j], energyGrid[i][j-1]) + grid[i][j]\n",
    "\n",
    "    if verbose:\n",
    "        for row in energyGrid:\n",
    "            print(row)\n",
    "    # Returns the optimal value needed to reach the bottom right corner\n",
    "    return energyGrid[m-1][n-1]\n",
    "\n",
    "grid = [\n",
    "    [1, 2, 3],\n",
    "    [4, 5, 6],\n",
    "    [7, 8, 1]\n",
    "]\n",
    "\n",
    "print(findMinimumenergy(grid))"
   ]
  },
  {
   "cell_type": "code",
   "execution_count": 3,
   "metadata": {},
   "outputs": [],
   "source": [
    "# let's define function to read the grid from a file\n",
    "import json\n",
    "def read_grid_from_file(filename):\n",
    "    with open(filename,'r') as f:\n",
    "        return json.load(f)\n",
    "    \n",
    "grid_loaded = read_grid_from_file('grid_12_8.json')"
   ]
  },
  {
   "cell_type": "code",
   "execution_count": 6,
   "metadata": {},
   "outputs": [
    {
     "name": "stdout",
     "output_type": "stream",
     "text": [
      "[6, 15, 24, 28, 29, 35, 42, 48]\n",
      "[11, 20, 24, 32, 33, 37, 44, 53]\n",
      "[16, 19, 26, 35, 37, 46, 45, 50]\n",
      "[23, 24, 30, 38, 43, 48, 53, 55]\n",
      "[28, 25, 31, 34, 41, 43, 46, 55]\n",
      "[34, 27, 28, 30, 38, 45, 48, 57]\n",
      "[42, 30, 29, 36, 45, 50, 57, 61]\n",
      "[51, 36, 34, 35, 36, 42, 51, 57]\n",
      "[58, 42, 39, 38, 44, 47, 56, 60]\n",
      "[61, 49, 45, 43, 47, 48, 49, 52]\n",
      "[62, 53, 52, 52, 56, 50, 56, 55]\n",
      "[64, 56, 59, 57, 62, 51, 53, 61]\n",
      "61\n"
     ]
    }
   ],
   "source": [
    "print(findMinimumenergy(grid_loaded, verbose=True))"
   ]
  },
  {
   "cell_type": "code",
   "execution_count": null,
   "metadata": {},
   "outputs": [],
   "source": []
  }
 ],
 "metadata": {
  "kernelspec": {
   "display_name": "venv",
   "language": "python",
   "name": "python3"
  },
  "language_info": {
   "codemirror_mode": {
    "name": "ipython",
    "version": 3
   },
   "file_extension": ".py",
   "mimetype": "text/x-python",
   "name": "python",
   "nbconvert_exporter": "python",
   "pygments_lexer": "ipython3",
   "version": "3.12.1"
  }
 },
 "nbformat": 4,
 "nbformat_minor": 2
}
