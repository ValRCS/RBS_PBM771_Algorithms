{
 "cells": [
  {
   "cell_type": "markdown",
   "metadata": {},
   "source": [
    "# Water Container fall 24\n",
    "\n",
    "## Solution in Go\n",
    "\n",
    "https://github.com/Jeecis/bucket-challenge-go"
   ]
  },
  {
   "cell_type": "markdown",
   "metadata": {},
   "source": [
    "## Solution in Python"
   ]
  },
  {
   "cell_type": "code",
   "execution_count": null,
   "metadata": {},
   "outputs": [
    {
     "name": "stdout",
     "output_type": "stream",
     "text": [
      "(9020440, 1, 989)\n"
     ]
    }
   ],
   "source": [
    "#Žeiris_Eduards_231RDB348\n",
    "def main(fpath):\n",
    "    heights = []\n",
    "\n",
    "    with open(fpath, 'r') as file:\n",
    "        next(file) # skip the first line\n",
    "        for line in file:\n",
    "            #get heights if they are either seperated by spaces or \\n\n",
    "            for value in line.strip().split():\n",
    "                heights.append(int(value))\n",
    "\n",
    "    print(get_max_area(heights))\n",
    "\n",
    "def get_max_area(heights):\n",
    "    #O(n) solution\n",
    "    startPtr = 0\n",
    "    endPtr = len(heights) - 1\n",
    "\n",
    "    best_start = startPtr\n",
    "    best_end = endPtr\n",
    "    maxArea = 0\n",
    "\n",
    "    while startPtr != endPtr: \n",
    "        area = min(heights[startPtr], heights[endPtr]) * (endPtr - startPtr)\n",
    "        # maxArea = max(area, maxArea)\n",
    "        # now we need to check whether new area is bigger than the current maxArea\n",
    "        if area > maxArea:\n",
    "            maxArea = area\n",
    "            best_start = startPtr\n",
    "            best_end = endPtr\n",
    "\n",
    "\n",
    "        #move the shortest height inwards\n",
    "        if heights[startPtr] < heights[endPtr]:\n",
    "            startPtr += 1\n",
    "        else:\n",
    "            endPtr -= 1\n",
    "\n",
    "    return maxArea, best_start, best_end\n",
    "\n",
    "# if __name__ == \"__main__\":\n",
    "#     main()\n",
    "\n",
    "main('water_1000.txt')"
   ]
  },
  {
   "cell_type": "code",
   "execution_count": 5,
   "metadata": {},
   "outputs": [],
   "source": [
    "# let's write a brute force solution we simply check all possible areas\n",
    "def get_max_area_brute(heights):\n",
    "    maxArea = 0\n",
    "    best_start = 0\n",
    "    best_end = 0\n",
    "\n",
    "    # so quadratic time complexity\n",
    "    for i in range(len(heights)):\n",
    "        for j in range(i, len(heights)):\n",
    "            area = min(heights[i], heights[j]) * (j - i)\n",
    "            if area > maxArea:\n",
    "                maxArea = area\n",
    "                best_start = i\n",
    "                best_end = j\n",
    "\n",
    "    return maxArea, best_start, best_end\n",
    "\n",
    "# let's write a function to get heights from file \n",
    "# we need to skip the first line since that is the number of heights\n",
    "def get_heights(fpath):\n",
    "    heights = []\n",
    "\n",
    "    with open(fpath, 'r') as file:\n",
    "        next(file) # skip the first line\n",
    "        for line in file:\n",
    "            #get heights if they are either seperated by spaces or \\n\n",
    "            for value in line.strip().split():\n",
    "                heights.append(int(value))\n",
    "\n",
    "    return heights\n",
    "\n"
   ]
  },
  {
   "cell_type": "code",
   "execution_count": 6,
   "metadata": {},
   "outputs": [
    {
     "name": "stdout",
     "output_type": "stream",
     "text": [
      "We have 1000 heights\n"
     ]
    }
   ],
   "source": [
    "heights_1000 = get_heights('water_1000.txt')\n",
    "print(f\"We have {len(heights_1000)} heights\")"
   ]
  },
  {
   "cell_type": "code",
   "execution_count": 7,
   "metadata": {},
   "outputs": [
    {
     "name": "stdout",
     "output_type": "stream",
     "text": [
      "Brute force solution: 9020440 with start 1 and end 989\n"
     ]
    }
   ],
   "source": [
    "# let's get brute force solution\n",
    "area, start, end = get_max_area_brute(heights_1000)\n",
    "print(f\"Brute force solution: {area} with start {start} and end {end}\")"
   ]
  },
  {
   "cell_type": "code",
   "execution_count": 8,
   "metadata": {},
   "outputs": [
    {
     "name": "stdout",
     "output_type": "stream",
     "text": [
      "Start: 9254\n",
      "End: 9130\n"
     ]
    }
   ],
   "source": [
    "# let's see the values for start and end\n",
    "print(f\"Start: {heights_1000[start]}\")\n",
    "print(f\"End: {heights_1000[end]}\")"
   ]
  },
  {
   "cell_type": "code",
   "execution_count": 9,
   "metadata": {},
   "outputs": [
    {
     "name": "stdout",
     "output_type": "stream",
     "text": [
      "Calculated area: 9020440\n"
     ]
    }
   ],
   "source": [
    "# so area should be (start-end) * min(heights_1000[start], heights_1000[end])\n",
    "print(f\"Calculated area: {(end-start) * min(heights_1000[start], heights_1000[end])}\")"
   ]
  },
  {
   "cell_type": "code",
   "execution_count": 10,
   "metadata": {},
   "outputs": [
    {
     "name": "stdout",
     "output_type": "stream",
     "text": [
      "(112, 3, 19)\n"
     ]
    }
   ],
   "source": [
    "main('water.txt')"
   ]
  }
 ],
 "metadata": {
  "kernelspec": {
   "display_name": "venv",
   "language": "python",
   "name": "python3"
  },
  "language_info": {
   "codemirror_mode": {
    "name": "ipython",
    "version": 3
   },
   "file_extension": ".py",
   "mimetype": "text/x-python",
   "name": "python",
   "nbconvert_exporter": "python",
   "pygments_lexer": "ipython3",
   "version": "3.12.1"
  }
 },
 "nbformat": 4,
 "nbformat_minor": 2
}
